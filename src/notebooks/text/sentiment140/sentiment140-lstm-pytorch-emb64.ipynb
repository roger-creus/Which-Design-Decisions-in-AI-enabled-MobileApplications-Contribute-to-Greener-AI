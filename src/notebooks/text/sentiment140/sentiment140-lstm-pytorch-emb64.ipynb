{
 "cells": [
  {
   "cell_type": "code",
   "execution_count": 1,
   "id": "af4697eb",
   "metadata": {
    "_cell_guid": "79c7e3d0-c299-4dcb-8224-4455121ee9b0",
    "_uuid": "d629ff2d2480ee46fbb7e2d37f6b5fab8052498a",
    "execution": {
     "iopub.execute_input": "2021-09-03T09:34:41.524416Z",
     "iopub.status.busy": "2021-09-03T09:34:41.519279Z",
     "iopub.status.idle": "2021-09-03T09:34:48.056413Z",
     "shell.execute_reply": "2021-09-03T09:34:48.055625Z",
     "shell.execute_reply.started": "2021-09-03T09:11:29.172319Z"
    },
    "papermill": {
     "duration": 6.564363,
     "end_time": "2021-09-03T09:34:48.056594",
     "exception": false,
     "start_time": "2021-09-03T09:34:41.492231",
     "status": "completed"
    },
    "tags": []
   },
   "outputs": [
    {
     "name": "stdout",
     "output_type": "stream",
     "text": [
      "[nltk_data] Downloading package stopwords to /usr/share/nltk_data...\n",
      "[nltk_data]   Package stopwords is already up-to-date!\n",
      "Tensorflow Version 2.4.1\n"
     ]
    }
   ],
   "source": [
    "import tensorflow as tf\n",
    "import matplotlib.pyplot as plt\n",
    "import pandas as pd\n",
    "import numpy as np\n",
    "\n",
    "\n",
    "import torch\n",
    "from torch.utils.data import TensorDataset, DataLoader\n",
    "import torch.nn as nn\n",
    "\n",
    "import nltk \n",
    "nltk.download('stopwords')\n",
    "from nltk.corpus import stopwords\n",
    "from nltk.stem import SnowballStemmer\n",
    "\n",
    "\n",
    "\n",
    "from sklearn.model_selection import train_test_split\n",
    "from sklearn.preprocessing import LabelEncoder\n",
    "\n",
    "\n",
    "import re\n",
    "\n",
    "print(\"Tensorflow Version\",tf.__version__)"
   ]
  },
  {
   "cell_type": "code",
   "execution_count": 2,
   "id": "c4f7a76d",
   "metadata": {
    "execution": {
     "iopub.execute_input": "2021-09-03T09:34:48.096456Z",
     "iopub.status.busy": "2021-09-03T09:34:48.095925Z",
     "iopub.status.idle": "2021-09-03T09:34:53.697508Z",
     "shell.execute_reply": "2021-09-03T09:34:53.698033Z",
     "shell.execute_reply.started": "2021-09-03T09:11:38.156356Z"
    },
    "papermill": {
     "duration": 5.623108,
     "end_time": "2021-09-03T09:34:53.698247",
     "exception": false,
     "start_time": "2021-09-03T09:34:48.075139",
     "status": "completed"
    },
    "tags": []
   },
   "outputs": [
    {
     "data": {
      "text/html": [
       "<div>\n",
       "<style scoped>\n",
       "    .dataframe tbody tr th:only-of-type {\n",
       "        vertical-align: middle;\n",
       "    }\n",
       "\n",
       "    .dataframe tbody tr th {\n",
       "        vertical-align: top;\n",
       "    }\n",
       "\n",
       "    .dataframe thead th {\n",
       "        text-align: right;\n",
       "    }\n",
       "</style>\n",
       "<table border=\"1\" class=\"dataframe\">\n",
       "  <thead>\n",
       "    <tr style=\"text-align: right;\">\n",
       "      <th></th>\n",
       "      <th>0</th>\n",
       "      <th>1</th>\n",
       "      <th>2</th>\n",
       "      <th>3</th>\n",
       "      <th>4</th>\n",
       "      <th>5</th>\n",
       "    </tr>\n",
       "  </thead>\n",
       "  <tbody>\n",
       "    <tr>\n",
       "      <th>0</th>\n",
       "      <td>0</td>\n",
       "      <td>1467810369</td>\n",
       "      <td>Mon Apr 06 22:19:45 PDT 2009</td>\n",
       "      <td>NO_QUERY</td>\n",
       "      <td>_TheSpecialOne_</td>\n",
       "      <td>@switchfoot http://twitpic.com/2y1zl - Awww, t...</td>\n",
       "    </tr>\n",
       "    <tr>\n",
       "      <th>1</th>\n",
       "      <td>0</td>\n",
       "      <td>1467810672</td>\n",
       "      <td>Mon Apr 06 22:19:49 PDT 2009</td>\n",
       "      <td>NO_QUERY</td>\n",
       "      <td>scotthamilton</td>\n",
       "      <td>is upset that he can't update his Facebook by ...</td>\n",
       "    </tr>\n",
       "    <tr>\n",
       "      <th>2</th>\n",
       "      <td>0</td>\n",
       "      <td>1467810917</td>\n",
       "      <td>Mon Apr 06 22:19:53 PDT 2009</td>\n",
       "      <td>NO_QUERY</td>\n",
       "      <td>mattycus</td>\n",
       "      <td>@Kenichan I dived many times for the ball. Man...</td>\n",
       "    </tr>\n",
       "    <tr>\n",
       "      <th>3</th>\n",
       "      <td>0</td>\n",
       "      <td>1467811184</td>\n",
       "      <td>Mon Apr 06 22:19:57 PDT 2009</td>\n",
       "      <td>NO_QUERY</td>\n",
       "      <td>ElleCTF</td>\n",
       "      <td>my whole body feels itchy and like its on fire</td>\n",
       "    </tr>\n",
       "    <tr>\n",
       "      <th>4</th>\n",
       "      <td>0</td>\n",
       "      <td>1467811193</td>\n",
       "      <td>Mon Apr 06 22:19:57 PDT 2009</td>\n",
       "      <td>NO_QUERY</td>\n",
       "      <td>Karoli</td>\n",
       "      <td>@nationwideclass no, it's not behaving at all....</td>\n",
       "    </tr>\n",
       "  </tbody>\n",
       "</table>\n",
       "</div>"
      ],
      "text/plain": [
       "   0           1                             2         3                4  \\\n",
       "0  0  1467810369  Mon Apr 06 22:19:45 PDT 2009  NO_QUERY  _TheSpecialOne_   \n",
       "1  0  1467810672  Mon Apr 06 22:19:49 PDT 2009  NO_QUERY    scotthamilton   \n",
       "2  0  1467810917  Mon Apr 06 22:19:53 PDT 2009  NO_QUERY         mattycus   \n",
       "3  0  1467811184  Mon Apr 06 22:19:57 PDT 2009  NO_QUERY          ElleCTF   \n",
       "4  0  1467811193  Mon Apr 06 22:19:57 PDT 2009  NO_QUERY           Karoli   \n",
       "\n",
       "                                                   5  \n",
       "0  @switchfoot http://twitpic.com/2y1zl - Awww, t...  \n",
       "1  is upset that he can't update his Facebook by ...  \n",
       "2  @Kenichan I dived many times for the ball. Man...  \n",
       "3    my whole body feels itchy and like its on fire   \n",
       "4  @nationwideclass no, it's not behaving at all....  "
      ]
     },
     "execution_count": 2,
     "metadata": {},
     "output_type": "execute_result"
    }
   ],
   "source": [
    "df = pd.read_csv('../input/sentiment140/training.1600000.processed.noemoticon.csv',\n",
    "                 encoding = 'latin',header=None)\n",
    "df.head()"
   ]
  },
  {
   "cell_type": "code",
   "execution_count": 3,
   "id": "457ab4a7",
   "metadata": {
    "execution": {
     "iopub.execute_input": "2021-09-03T09:34:53.747095Z",
     "iopub.status.busy": "2021-09-03T09:34:53.742464Z",
     "iopub.status.idle": "2021-09-03T09:34:53.750208Z",
     "shell.execute_reply": "2021-09-03T09:34:53.749772Z",
     "shell.execute_reply.started": "2021-09-03T09:11:44.455625Z"
    },
    "papermill": {
     "duration": 0.033632,
     "end_time": "2021-09-03T09:34:53.750311",
     "exception": false,
     "start_time": "2021-09-03T09:34:53.716679",
     "status": "completed"
    },
    "tags": []
   },
   "outputs": [
    {
     "data": {
      "text/html": [
       "<div>\n",
       "<style scoped>\n",
       "    .dataframe tbody tr th:only-of-type {\n",
       "        vertical-align: middle;\n",
       "    }\n",
       "\n",
       "    .dataframe tbody tr th {\n",
       "        vertical-align: top;\n",
       "    }\n",
       "\n",
       "    .dataframe thead th {\n",
       "        text-align: right;\n",
       "    }\n",
       "</style>\n",
       "<table border=\"1\" class=\"dataframe\">\n",
       "  <thead>\n",
       "    <tr style=\"text-align: right;\">\n",
       "      <th></th>\n",
       "      <th>sentiment</th>\n",
       "      <th>id</th>\n",
       "      <th>date</th>\n",
       "      <th>query</th>\n",
       "      <th>user_id</th>\n",
       "      <th>text</th>\n",
       "    </tr>\n",
       "  </thead>\n",
       "  <tbody>\n",
       "    <tr>\n",
       "      <th>0</th>\n",
       "      <td>0</td>\n",
       "      <td>1467810369</td>\n",
       "      <td>Mon Apr 06 22:19:45 PDT 2009</td>\n",
       "      <td>NO_QUERY</td>\n",
       "      <td>_TheSpecialOne_</td>\n",
       "      <td>@switchfoot http://twitpic.com/2y1zl - Awww, t...</td>\n",
       "    </tr>\n",
       "    <tr>\n",
       "      <th>1</th>\n",
       "      <td>0</td>\n",
       "      <td>1467810672</td>\n",
       "      <td>Mon Apr 06 22:19:49 PDT 2009</td>\n",
       "      <td>NO_QUERY</td>\n",
       "      <td>scotthamilton</td>\n",
       "      <td>is upset that he can't update his Facebook by ...</td>\n",
       "    </tr>\n",
       "    <tr>\n",
       "      <th>2</th>\n",
       "      <td>0</td>\n",
       "      <td>1467810917</td>\n",
       "      <td>Mon Apr 06 22:19:53 PDT 2009</td>\n",
       "      <td>NO_QUERY</td>\n",
       "      <td>mattycus</td>\n",
       "      <td>@Kenichan I dived many times for the ball. Man...</td>\n",
       "    </tr>\n",
       "    <tr>\n",
       "      <th>3</th>\n",
       "      <td>0</td>\n",
       "      <td>1467811184</td>\n",
       "      <td>Mon Apr 06 22:19:57 PDT 2009</td>\n",
       "      <td>NO_QUERY</td>\n",
       "      <td>ElleCTF</td>\n",
       "      <td>my whole body feels itchy and like its on fire</td>\n",
       "    </tr>\n",
       "    <tr>\n",
       "      <th>4</th>\n",
       "      <td>0</td>\n",
       "      <td>1467811193</td>\n",
       "      <td>Mon Apr 06 22:19:57 PDT 2009</td>\n",
       "      <td>NO_QUERY</td>\n",
       "      <td>Karoli</td>\n",
       "      <td>@nationwideclass no, it's not behaving at all....</td>\n",
       "    </tr>\n",
       "  </tbody>\n",
       "</table>\n",
       "</div>"
      ],
      "text/plain": [
       "   sentiment          id                          date     query  \\\n",
       "0          0  1467810369  Mon Apr 06 22:19:45 PDT 2009  NO_QUERY   \n",
       "1          0  1467810672  Mon Apr 06 22:19:49 PDT 2009  NO_QUERY   \n",
       "2          0  1467810917  Mon Apr 06 22:19:53 PDT 2009  NO_QUERY   \n",
       "3          0  1467811184  Mon Apr 06 22:19:57 PDT 2009  NO_QUERY   \n",
       "4          0  1467811193  Mon Apr 06 22:19:57 PDT 2009  NO_QUERY   \n",
       "\n",
       "           user_id                                               text  \n",
       "0  _TheSpecialOne_  @switchfoot http://twitpic.com/2y1zl - Awww, t...  \n",
       "1    scotthamilton  is upset that he can't update his Facebook by ...  \n",
       "2         mattycus  @Kenichan I dived many times for the ball. Man...  \n",
       "3          ElleCTF    my whole body feels itchy and like its on fire   \n",
       "4           Karoli  @nationwideclass no, it's not behaving at all....  "
      ]
     },
     "execution_count": 3,
     "metadata": {},
     "output_type": "execute_result"
    }
   ],
   "source": [
    "df.columns = ['sentiment', 'id', 'date', 'query', 'user_id', 'text']\n",
    "df.head()"
   ]
  },
  {
   "cell_type": "code",
   "execution_count": 4,
   "id": "1f2da33f",
   "metadata": {
    "execution": {
     "iopub.execute_input": "2021-09-03T09:34:53.823821Z",
     "iopub.status.busy": "2021-09-03T09:34:53.823078Z",
     "iopub.status.idle": "2021-09-03T09:34:53.826628Z",
     "shell.execute_reply": "2021-09-03T09:34:53.826175Z",
     "shell.execute_reply.started": "2021-09-03T09:11:44.474355Z"
    },
    "papermill": {
     "duration": 0.058245,
     "end_time": "2021-09-03T09:34:53.826744",
     "exception": false,
     "start_time": "2021-09-03T09:34:53.768499",
     "status": "completed"
    },
    "tags": []
   },
   "outputs": [],
   "source": [
    "df = df.drop(['id', 'date', 'query', 'user_id'], axis=1)"
   ]
  },
  {
   "cell_type": "code",
   "execution_count": 5,
   "id": "d4bce510",
   "metadata": {
    "execution": {
     "iopub.execute_input": "2021-09-03T09:34:53.899974Z",
     "iopub.status.busy": "2021-09-03T09:34:53.899179Z",
     "iopub.status.idle": "2021-09-03T09:34:54.391442Z",
     "shell.execute_reply": "2021-09-03T09:34:54.391848Z",
     "shell.execute_reply.started": "2021-09-03T09:11:44.529414Z"
    },
    "papermill": {
     "duration": 0.54625,
     "end_time": "2021-09-03T09:34:54.391991",
     "exception": false,
     "start_time": "2021-09-03T09:34:53.845741",
     "status": "completed"
    },
    "tags": []
   },
   "outputs": [
    {
     "data": {
      "text/html": [
       "<div>\n",
       "<style scoped>\n",
       "    .dataframe tbody tr th:only-of-type {\n",
       "        vertical-align: middle;\n",
       "    }\n",
       "\n",
       "    .dataframe tbody tr th {\n",
       "        vertical-align: top;\n",
       "    }\n",
       "\n",
       "    .dataframe thead th {\n",
       "        text-align: right;\n",
       "    }\n",
       "</style>\n",
       "<table border=\"1\" class=\"dataframe\">\n",
       "  <thead>\n",
       "    <tr style=\"text-align: right;\">\n",
       "      <th></th>\n",
       "      <th>sentiment</th>\n",
       "      <th>text</th>\n",
       "    </tr>\n",
       "  </thead>\n",
       "  <tbody>\n",
       "    <tr>\n",
       "      <th>0</th>\n",
       "      <td>Negative</td>\n",
       "      <td>@switchfoot http://twitpic.com/2y1zl - Awww, t...</td>\n",
       "    </tr>\n",
       "    <tr>\n",
       "      <th>1</th>\n",
       "      <td>Negative</td>\n",
       "      <td>is upset that he can't update his Facebook by ...</td>\n",
       "    </tr>\n",
       "    <tr>\n",
       "      <th>2</th>\n",
       "      <td>Negative</td>\n",
       "      <td>@Kenichan I dived many times for the ball. Man...</td>\n",
       "    </tr>\n",
       "    <tr>\n",
       "      <th>3</th>\n",
       "      <td>Negative</td>\n",
       "      <td>my whole body feels itchy and like its on fire</td>\n",
       "    </tr>\n",
       "    <tr>\n",
       "      <th>4</th>\n",
       "      <td>Negative</td>\n",
       "      <td>@nationwideclass no, it's not behaving at all....</td>\n",
       "    </tr>\n",
       "  </tbody>\n",
       "</table>\n",
       "</div>"
      ],
      "text/plain": [
       "  sentiment                                               text\n",
       "0  Negative  @switchfoot http://twitpic.com/2y1zl - Awww, t...\n",
       "1  Negative  is upset that he can't update his Facebook by ...\n",
       "2  Negative  @Kenichan I dived many times for the ball. Man...\n",
       "3  Negative    my whole body feels itchy and like its on fire \n",
       "4  Negative  @nationwideclass no, it's not behaving at all...."
      ]
     },
     "execution_count": 5,
     "metadata": {},
     "output_type": "execute_result"
    }
   ],
   "source": [
    "lab_to_sentiment = {0:\"Negative\", 4:\"Positive\"}\n",
    "def label_decoder(label):\n",
    "  return lab_to_sentiment[label]\n",
    "df.sentiment = df.sentiment.apply(lambda x: label_decoder(x))\n",
    "df.head()"
   ]
  },
  {
   "cell_type": "code",
   "execution_count": 6,
   "id": "04f620bd",
   "metadata": {
    "execution": {
     "iopub.execute_input": "2021-09-03T09:34:54.722934Z",
     "iopub.status.busy": "2021-09-03T09:34:54.722095Z",
     "iopub.status.idle": "2021-09-03T09:34:54.858454Z",
     "shell.execute_reply": "2021-09-03T09:34:54.858826Z",
     "shell.execute_reply.started": "2021-09-03T09:11:45.086921Z"
    },
    "papermill": {
     "duration": 0.447925,
     "end_time": "2021-09-03T09:34:54.858970",
     "exception": false,
     "start_time": "2021-09-03T09:34:54.411045",
     "status": "completed"
    },
    "tags": []
   },
   "outputs": [
    {
     "data": {
      "text/plain": [
       "Text(0.5, 1.0, 'Sentiment Data Distribution')"
      ]
     },
     "execution_count": 6,
     "metadata": {},
     "output_type": "execute_result"
    },
    {
     "data": {
      "image/png": "[encoded data removed]",
      "text/plain": [
       "<Figure size 576x288 with 1 Axes>"
      ]
     },
     "metadata": {
      "needs_background": "light"
     },
     "output_type": "display_data"
    }
   ],
   "source": [
    "val_count = df.sentiment.value_counts()\n",
    "\n",
    "plt.figure(figsize=(8,4))\n",
    "plt.bar(val_count.index, val_count.values)\n",
    "plt.title(\"Sentiment Data Distribution\")"
   ]
  },
  {
   "cell_type": "code",
   "execution_count": 7,
   "id": "7b14b8a6",
   "metadata": {
    "execution": {
     "iopub.execute_input": "2021-09-03T09:34:54.903587Z",
     "iopub.status.busy": "2021-09-03T09:34:54.902709Z",
     "iopub.status.idle": "2021-09-03T09:34:55.020677Z",
     "shell.execute_reply": "2021-09-03T09:34:55.021072Z",
     "shell.execute_reply.started": "2021-09-03T09:11:45.562521Z"
    },
    "papermill": {
     "duration": 0.142392,
     "end_time": "2021-09-03T09:34:55.021228",
     "exception": false,
     "start_time": "2021-09-03T09:34:54.878836",
     "status": "completed"
    },
    "tags": []
   },
   "outputs": [
    {
     "data": {
      "text/html": [
       "<div>\n",
       "<style scoped>\n",
       "    .dataframe tbody tr th:only-of-type {\n",
       "        vertical-align: middle;\n",
       "    }\n",
       "\n",
       "    .dataframe tbody tr th {\n",
       "        vertical-align: top;\n",
       "    }\n",
       "\n",
       "    .dataframe thead th {\n",
       "        text-align: right;\n",
       "    }\n",
       "</style>\n",
       "<table border=\"1\" class=\"dataframe\">\n",
       "  <thead>\n",
       "    <tr style=\"text-align: right;\">\n",
       "      <th></th>\n",
       "      <th>sentiment</th>\n",
       "      <th>text</th>\n",
       "    </tr>\n",
       "  </thead>\n",
       "  <tbody>\n",
       "    <tr>\n",
       "      <th>284274</th>\n",
       "      <td>Negative</td>\n",
       "      <td>Apparently i must be unapproachable cuz no one...</td>\n",
       "    </tr>\n",
       "    <tr>\n",
       "      <th>941385</th>\n",
       "      <td>Positive</td>\n",
       "      <td>Really Should Get Off Here And Go To The Bank ...</td>\n",
       "    </tr>\n",
       "    <tr>\n",
       "      <th>239527</th>\n",
       "      <td>Negative</td>\n",
       "      <td>i miss coffee and real food</td>\n",
       "    </tr>\n",
       "    <tr>\n",
       "      <th>1555017</th>\n",
       "      <td>Positive</td>\n",
       "      <td>@Graphicricky good luck.</td>\n",
       "    </tr>\n",
       "    <tr>\n",
       "      <th>730946</th>\n",
       "      <td>Negative</td>\n",
       "      <td>@sharrq you mean &amp;quot;America's Suitehearts&amp;q...</td>\n",
       "    </tr>\n",
       "    <tr>\n",
       "      <th>129883</th>\n",
       "      <td>Negative</td>\n",
       "      <td>5 more days of work!!! 4 more days of kids, th...</td>\n",
       "    </tr>\n",
       "    <tr>\n",
       "      <th>1238966</th>\n",
       "      <td>Positive</td>\n",
       "      <td>@Tazmondo Yes... I'm back soon! It's ok!</td>\n",
       "    </tr>\n",
       "    <tr>\n",
       "      <th>886588</th>\n",
       "      <td>Positive</td>\n",
       "      <td>Gettin ready for my kidz church meeting  I lov...</td>\n",
       "    </tr>\n",
       "    <tr>\n",
       "      <th>308265</th>\n",
       "      <td>Negative</td>\n",
       "      <td>I HATE MY SPEAKERS</td>\n",
       "    </tr>\n",
       "    <tr>\n",
       "      <th>812468</th>\n",
       "      <td>Positive</td>\n",
       "      <td>@SabreenaNew just saw your cute momma at the w...</td>\n",
       "    </tr>\n",
       "  </tbody>\n",
       "</table>\n",
       "</div>"
      ],
      "text/plain": [
       "        sentiment                                               text\n",
       "284274   Negative  Apparently i must be unapproachable cuz no one...\n",
       "941385   Positive  Really Should Get Off Here And Go To The Bank ...\n",
       "239527   Negative                       i miss coffee and real food \n",
       "1555017  Positive                          @Graphicricky good luck. \n",
       "730946   Negative  @sharrq you mean &quot;America's Suitehearts&q...\n",
       "129883   Negative  5 more days of work!!! 4 more days of kids, th...\n",
       "1238966  Positive          @Tazmondo Yes... I'm back soon! It's ok! \n",
       "886588   Positive  Gettin ready for my kidz church meeting  I lov...\n",
       "308265   Negative                                I HATE MY SPEAKERS \n",
       "812468   Positive  @SabreenaNew just saw your cute momma at the w..."
      ]
     },
     "execution_count": 7,
     "metadata": {},
     "output_type": "execute_result"
    }
   ],
   "source": [
    "import random\n",
    "random_idx_list = [random.randint(1,len(df.text)) for i in range(10)] # creates random indexes to choose from dataframe\n",
    "df.loc[random_idx_list,:].head(10) # Returns the rows with the index and display it"
   ]
  },
  {
   "cell_type": "code",
   "execution_count": 8,
   "id": "ca98425e",
   "metadata": {
    "execution": {
     "iopub.execute_input": "2021-09-03T09:34:55.066371Z",
     "iopub.status.busy": "2021-09-03T09:34:55.065813Z",
     "iopub.status.idle": "2021-09-03T09:34:55.070189Z",
     "shell.execute_reply": "2021-09-03T09:34:55.069767Z",
     "shell.execute_reply.started": "2021-09-03T09:11:45.723806Z"
    },
    "papermill": {
     "duration": 0.02903,
     "end_time": "2021-09-03T09:34:55.070311",
     "exception": false,
     "start_time": "2021-09-03T09:34:55.041281",
     "status": "completed"
    },
    "tags": []
   },
   "outputs": [],
   "source": [
    "stop_words = stopwords.words('english')\n",
    "stemmer = SnowballStemmer('english')\n",
    "\n",
    "text_cleaning_re = \"@\\S+|https?:\\S+|http?:\\S|[^A-Za-z0-9]+\""
   ]
  },
  {
   "cell_type": "code",
   "execution_count": 9,
   "id": "9cd78d28",
   "metadata": {
    "execution": {
     "iopub.execute_input": "2021-09-03T09:34:55.117053Z",
     "iopub.status.busy": "2021-09-03T09:34:55.115866Z",
     "iopub.status.idle": "2021-09-03T09:34:55.118574Z",
     "shell.execute_reply": "2021-09-03T09:34:55.118157Z",
     "shell.execute_reply.started": "2021-09-03T09:11:45.736315Z"
    },
    "papermill": {
     "duration": 0.027626,
     "end_time": "2021-09-03T09:34:55.118672",
     "exception": false,
     "start_time": "2021-09-03T09:34:55.091046",
     "status": "completed"
    },
    "tags": []
   },
   "outputs": [],
   "source": [
    "def preprocess(text, stem=False):\n",
    "  text = re.sub(text_cleaning_re, ' ', str(text).lower()).strip()\n",
    "  tokens = []\n",
    "  for token in text.split():\n",
    "    if token not in stop_words:\n",
    "      if stem:\n",
    "        tokens.append(stemmer.stem(token))\n",
    "      else:\n",
    "        tokens.append(token)\n",
    "  return \" \".join(tokens)"
   ]
  },
  {
   "cell_type": "code",
   "execution_count": 10,
   "id": "d229d4c7",
   "metadata": {
    "execution": {
     "iopub.execute_input": "2021-09-03T09:34:55.163096Z",
     "iopub.status.busy": "2021-09-03T09:34:55.162136Z",
     "iopub.status.idle": "2021-09-03T09:35:54.011531Z",
     "shell.execute_reply": "2021-09-03T09:35:54.011022Z",
     "shell.execute_reply.started": "2021-09-03T09:11:45.747244Z"
    },
    "papermill": {
     "duration": 58.873265,
     "end_time": "2021-09-03T09:35:54.011671",
     "exception": false,
     "start_time": "2021-09-03T09:34:55.138406",
     "status": "completed"
    },
    "tags": []
   },
   "outputs": [],
   "source": [
    "df.text = df.text.apply(lambda x: preprocess(x))\n",
    "device = \"cuda:0\""
   ]
  },
  {
   "cell_type": "markdown",
   "id": "a0540793",
   "metadata": {
    "papermill": {
     "duration": 0.020035,
     "end_time": "2021-09-03T09:35:54.052198",
     "exception": false,
     "start_time": "2021-09-03T09:35:54.032163",
     "status": "completed"
    },
    "tags": []
   },
   "source": [
    "## Train and Test Split"
   ]
  },
  {
   "cell_type": "code",
   "execution_count": 11,
   "id": "21f753d8",
   "metadata": {
    "execution": {
     "iopub.execute_input": "2021-09-03T09:35:54.096369Z",
     "iopub.status.busy": "2021-09-03T09:35:54.095633Z",
     "iopub.status.idle": "2021-09-03T09:35:54.098036Z",
     "shell.execute_reply": "2021-09-03T09:35:54.098418Z",
     "shell.execute_reply.started": "2021-09-03T09:12:41.733248Z"
    },
    "papermill": {
     "duration": 0.026434,
     "end_time": "2021-09-03T09:35:54.098540",
     "exception": false,
     "start_time": "2021-09-03T09:35:54.072106",
     "status": "completed"
    },
    "tags": []
   },
   "outputs": [],
   "source": [
    "TRAIN_SIZE = 0.8 \n",
    "MAX_NB_WORDS = 100000\n",
    "MAX_SEQUENCE_LENGTH = 30\n",
    "EMBEDDING_DIM = 10\n",
    "LR = 1e-3\n",
    "BATCH_SIZE = 4096\n",
    "EPOCHS = 10"
   ]
  },
  {
   "cell_type": "code",
   "execution_count": 12,
   "id": "b54501d2",
   "metadata": {
    "execution": {
     "iopub.execute_input": "2021-09-03T09:35:54.143353Z",
     "iopub.status.busy": "2021-09-03T09:35:54.142567Z",
     "iopub.status.idle": "2021-09-03T09:35:54.549009Z",
     "shell.execute_reply": "2021-09-03T09:35:54.548584Z",
     "shell.execute_reply.started": "2021-09-03T09:12:41.742218Z"
    },
    "papermill": {
     "duration": 0.430806,
     "end_time": "2021-09-03T09:35:54.549158",
     "exception": false,
     "start_time": "2021-09-03T09:35:54.118352",
     "status": "completed"
    },
    "tags": []
   },
   "outputs": [
    {
     "name": "stdout",
     "output_type": "stream",
     "text": [
      "Train Data size: 1280000\n",
      "Test Data size 320000\n"
     ]
    }
   ],
   "source": [
    "train_data, test_data = train_test_split(df, test_size=1-TRAIN_SIZE,\n",
    "                                         random_state=7) # Splits Dataset into Training and Testing set\n",
    "print(\"Train Data size:\", len(train_data))\n",
    "print(\"Test Data size\", len(test_data))"
   ]
  },
  {
   "cell_type": "code",
   "execution_count": 13,
   "id": "25f6ad6e",
   "metadata": {
    "execution": {
     "iopub.execute_input": "2021-09-03T09:35:54.594591Z",
     "iopub.status.busy": "2021-09-03T09:35:54.593938Z",
     "iopub.status.idle": "2021-09-03T09:36:12.201548Z",
     "shell.execute_reply": "2021-09-03T09:36:12.201081Z",
     "shell.execute_reply.started": "2021-09-03T09:12:42.215147Z"
    },
    "papermill": {
     "duration": 17.632107,
     "end_time": "2021-09-03T09:36:12.201671",
     "exception": false,
     "start_time": "2021-09-03T09:35:54.569564",
     "status": "completed"
    },
    "tags": []
   },
   "outputs": [
    {
     "name": "stdout",
     "output_type": "stream",
     "text": [
      "Vocabulary Size : 290575\n"
     ]
    }
   ],
   "source": [
    "from keras.preprocessing.text import Tokenizer\n",
    "\n",
    "tokenizer = Tokenizer()\n",
    "tokenizer.fit_on_texts(train_data.text)\n",
    "\n",
    "word_index = tokenizer.word_index\n",
    "vocab_size = len(tokenizer.word_index) + 1\n",
    "print(\"Vocabulary Size :\", vocab_size)"
   ]
  },
  {
   "cell_type": "code",
   "execution_count": 14,
   "id": "855cef8c",
   "metadata": {
    "execution": {
     "iopub.execute_input": "2021-09-03T09:36:12.253376Z",
     "iopub.status.busy": "2021-09-03T09:36:12.252404Z",
     "iopub.status.idle": "2021-09-03T09:36:12.498600Z",
     "shell.execute_reply": "2021-09-03T09:36:12.498016Z",
     "shell.execute_reply.started": "2021-09-03T09:13:02.99239Z"
    },
    "papermill": {
     "duration": 0.276035,
     "end_time": "2021-09-03T09:36:12.498730",
     "exception": false,
     "start_time": "2021-09-03T09:36:12.222695",
     "status": "completed"
    },
    "tags": []
   },
   "outputs": [],
   "source": [
    "import os \n",
    "with open('twitter_dictionary.txt', 'w') as file:\n",
    "    for key in word_index.keys():\n",
    "        file.write(key + \" \" + str(word_index[key]) + \",\")"
   ]
  },
  {
   "cell_type": "code",
   "execution_count": 15,
   "id": "3fc94be6",
   "metadata": {
    "execution": {
     "iopub.execute_input": "2021-09-03T09:36:12.545580Z",
     "iopub.status.busy": "2021-09-03T09:36:12.544656Z",
     "iopub.status.idle": "2021-09-03T09:36:42.658576Z",
     "shell.execute_reply": "2021-09-03T09:36:42.659022Z",
     "shell.execute_reply.started": "2021-09-03T09:13:03.345624Z"
    },
    "papermill": {
     "duration": 30.139423,
     "end_time": "2021-09-03T09:36:42.659190",
     "exception": false,
     "start_time": "2021-09-03T09:36:12.519767",
     "status": "completed"
    },
    "tags": []
   },
   "outputs": [
    {
     "name": "stdout",
     "output_type": "stream",
     "text": [
      "Training X Shape: (1280000, 30)\n",
      "Testing X Shape: (320000, 30)\n",
      "<class 'numpy.ndarray'>\n",
      "<class 'numpy.ndarray'>\n"
     ]
    }
   ],
   "source": [
    "from keras.preprocessing.sequence import pad_sequences\n",
    "\n",
    "x_train = pad_sequences(tokenizer.texts_to_sequences(train_data.text),\n",
    "                        maxlen = MAX_SEQUENCE_LENGTH)\n",
    "x_test = pad_sequences(tokenizer.texts_to_sequences(test_data.text),\n",
    "                       maxlen = MAX_SEQUENCE_LENGTH)\n",
    "\n",
    "print(\"Training X Shape:\",x_train.shape)\n",
    "print(\"Testing X Shape:\",x_test.shape)\n",
    "\n",
    "print(type(x_train))\n",
    "print(type(x_test))"
   ]
  },
  {
   "cell_type": "code",
   "execution_count": 16,
   "id": "cb528124",
   "metadata": {
    "execution": {
     "iopub.execute_input": "2021-09-03T09:36:42.707091Z",
     "iopub.status.busy": "2021-09-03T09:36:42.706609Z",
     "iopub.status.idle": "2021-09-03T09:36:42.711052Z",
     "shell.execute_reply": "2021-09-03T09:36:42.711515Z",
     "shell.execute_reply.started": "2021-09-03T09:13:37.890933Z"
    },
    "papermill": {
     "duration": 0.031483,
     "end_time": "2021-09-03T09:36:42.711638",
     "exception": false,
     "start_time": "2021-09-03T09:36:42.680155",
     "status": "completed"
    },
    "tags": []
   },
   "outputs": [
    {
     "data": {
      "text/plain": [
       "array([  0,   0,   0,   0,   0,   0,   0,   0,   0,   0,   0,   0,   0,\n",
       "         0,   0,   0,   0,   0,   0,   0,   0,   0,   0,   0,   0,   0,\n",
       "         0,   0,  34, 110], dtype=int32)"
      ]
     },
     "execution_count": 16,
     "metadata": {},
     "output_type": "execute_result"
    }
   ],
   "source": [
    "x_train[0]"
   ]
  },
  {
   "cell_type": "code",
   "execution_count": 17,
   "id": "4715564d",
   "metadata": {
    "execution": {
     "iopub.execute_input": "2021-09-03T09:36:42.819949Z",
     "iopub.status.busy": "2021-09-03T09:36:42.819233Z",
     "iopub.status.idle": "2021-09-03T09:36:42.840623Z",
     "shell.execute_reply": "2021-09-03T09:36:42.840985Z",
     "shell.execute_reply.started": "2021-09-03T09:13:37.904074Z"
    },
    "papermill": {
     "duration": 0.108364,
     "end_time": "2021-09-03T09:36:42.841117",
     "exception": false,
     "start_time": "2021-09-03T09:36:42.732753",
     "status": "completed"
    },
    "tags": []
   },
   "outputs": [],
   "source": [
    "labels = train_data.sentiment.unique().tolist()"
   ]
  },
  {
   "cell_type": "code",
   "execution_count": 18,
   "id": "0f19bc30",
   "metadata": {
    "execution": {
     "iopub.execute_input": "2021-09-03T09:36:43.151450Z",
     "iopub.status.busy": "2021-09-03T09:36:43.150405Z",
     "iopub.status.idle": "2021-09-03T09:36:44.072283Z",
     "shell.execute_reply": "2021-09-03T09:36:44.071831Z",
     "shell.execute_reply.started": "2021-09-03T09:13:38.021565Z"
    },
    "papermill": {
     "duration": 1.210139,
     "end_time": "2021-09-03T09:36:44.072411",
     "exception": false,
     "start_time": "2021-09-03T09:36:42.862272",
     "status": "completed"
    },
    "tags": []
   },
   "outputs": [
    {
     "name": "stdout",
     "output_type": "stream",
     "text": [
      "y_train shape: (1280000, 1)\n",
      "y_test shape: (320000, 1)\n"
     ]
    }
   ],
   "source": [
    "encoder = LabelEncoder()\n",
    "encoder.fit(train_data.sentiment.to_list())\n",
    "\n",
    "y_train = encoder.transform(train_data.sentiment.to_list())\n",
    "y_test = encoder.transform(test_data.sentiment.to_list())\n",
    "\n",
    "y_train = y_train.reshape(-1,1)\n",
    "y_test = y_test.reshape(-1,1)\n",
    "\n",
    "train_data = TensorDataset(torch.from_numpy(x_train), torch.from_numpy(y_train))\n",
    "test_data = TensorDataset(torch.from_numpy(x_test), torch.from_numpy(y_test))\n",
    "\n",
    "train_loader = DataLoader(train_data, shuffle=True, batch_size=BATCH_SIZE, drop_last = True)\n",
    "test_loader = DataLoader(test_data, shuffle=True, batch_size=BATCH_SIZE, drop_last = True)\n",
    "\n",
    "print(\"y_train shape:\", y_train.shape)\n",
    "print(\"y_test shape:\", y_test.shape)"
   ]
  },
  {
   "cell_type": "code",
   "execution_count": 19,
   "id": "8fe5386f",
   "metadata": {
    "execution": {
     "iopub.execute_input": "2021-09-03T09:36:44.126652Z",
     "iopub.status.busy": "2021-09-03T09:36:44.125917Z",
     "iopub.status.idle": "2021-09-03T09:36:44.128585Z",
     "shell.execute_reply": "2021-09-03T09:36:44.128183Z",
     "shell.execute_reply.started": "2021-09-03T09:13:39.218448Z"
    },
    "papermill": {
     "duration": 0.034308,
     "end_time": "2021-09-03T09:36:44.128691",
     "exception": false,
     "start_time": "2021-09-03T09:36:44.094383",
     "status": "completed"
    },
    "tags": []
   },
   "outputs": [],
   "source": [
    "class SentimentNet(nn.Module):\n",
    "    def __init__(self, vocab_size, output_size, embedding_dim, hidden_dim, n_layers, drop_prob=0.5):\n",
    "        super(SentimentNet, self).__init__()\n",
    "        self.output_size = output_size\n",
    "        self.n_layers = n_layers\n",
    "        self.hidden_dim = hidden_dim\n",
    "        \n",
    "        \n",
    "        self.embedding = nn.Embedding(vocab_size, embedding_dim)\n",
    "        #self.conv = nn.Conv1d(embedding_dim, 8, kernel_size=5)\n",
    "        self.lstm = nn.LSTM(embedding_dim, hidden_dim, n_layers, dropout=drop_prob, batch_first=True)\n",
    "        #self.gru = nn.GRU(embedding_dim, hidden_dim, n_layers, dropout=drop_prob, batch_first=True)\n",
    "        self.dropout = nn.Dropout(drop_prob)\n",
    "        self.fc = nn.Linear(hidden_dim, output_size)\n",
    "        self.sigmoid = nn.Sigmoid()\n",
    "        \n",
    "    def forward(self, x, hidden):\n",
    "        #print(x.shape)\n",
    "        if len(x) != 1:\n",
    "            batch_size = x.size(0)\n",
    "        else:\n",
    "            batch_size = 1\n",
    "        x = x.long()\n",
    "        embeds = self.embedding(x)\n",
    "\n",
    "        #conv = self.conv(x)\n",
    "        \n",
    "        lstm_out, hidden = self.lstm(embeds, hidden)\n",
    "        lstm_out = lstm_out.contiguous().view(-1, self.hidden_dim)\n",
    "        \n",
    "        out = self.dropout(lstm_out)\n",
    "        out = self.fc(out)\n",
    "        out = self.sigmoid(out)\n",
    "        \n",
    "        out = out.view(batch_size, -1)\n",
    "        out = out[:,-1]\n",
    "        return out, hidden\n",
    "    \n",
    "    def init_hidden(self, batch_size):\n",
    "        weight = next(self.parameters()).data\n",
    "        hidden = (weight.new(self.n_layers, batch_size, self.hidden_dim).zero_().to(device),weight.new(self.n_layers, batch_size, self.hidden_dim).zero_().to(device))\n",
    "        #hidden = (weight.new(self.n_layers, batch_size, self.hidden_dim).zero_(),\n",
    "        #             weight.new(self.n_layers, batch_size, self.hidden_dim).zero_())\n",
    "        return hidden"
   ]
  },
  {
   "cell_type": "code",
   "execution_count": 20,
   "id": "1dc360cf",
   "metadata": {
    "execution": {
     "iopub.execute_input": "2021-09-03T09:36:44.176285Z",
     "iopub.status.busy": "2021-09-03T09:36:44.175562Z",
     "iopub.status.idle": "2021-09-03T09:36:44.177734Z",
     "shell.execute_reply": "2021-09-03T09:36:44.178268Z",
     "shell.execute_reply.started": "2021-09-03T09:13:39.239784Z"
    },
    "papermill": {
     "duration": 0.027986,
     "end_time": "2021-09-03T09:36:44.178394",
     "exception": false,
     "start_time": "2021-09-03T09:36:44.150408",
     "status": "completed"
    },
    "tags": []
   },
   "outputs": [],
   "source": [
    "def model_params(model):\n",
    "    pp=0\n",
    "    for p in list(model.parameters()):\n",
    "        nn=1\n",
    "        for s in list(p.size()):\n",
    "            nn = nn*s\n",
    "        pp += nn\n",
    "    return pp"
   ]
  },
  {
   "cell_type": "code",
   "execution_count": 21,
   "id": "aab9d347",
   "metadata": {
    "execution": {
     "iopub.execute_input": "2021-09-03T09:36:44.229060Z",
     "iopub.status.busy": "2021-09-03T09:36:44.228509Z",
     "iopub.status.idle": "2021-09-03T09:36:50.508424Z",
     "shell.execute_reply": "2021-09-03T09:36:50.507873Z",
     "shell.execute_reply.started": "2021-09-03T09:13:39.256765Z"
    },
    "papermill": {
     "duration": 6.308888,
     "end_time": "2021-09-03T09:36:50.508563",
     "exception": false,
     "start_time": "2021-09-03T09:36:44.199675",
     "status": "completed"
    },
    "tags": []
   },
   "outputs": [
    {
     "name": "stderr",
     "output_type": "stream",
     "text": [
      "/opt/conda/lib/python3.7/site-packages/torch/nn/modules/rnn.py:61: UserWarning: dropout option adds dropout after all but last recurrent layer, so non-zero dropout expects num_layers greater than 1, but got dropout=0.5 and num_layers=1\n",
      "  \"num_layers={}\".format(dropout, num_layers))\n"
     ]
    },
    {
     "name": "stdout",
     "output_type": "stream",
     "text": [
      "18597925\n"
     ]
    }
   ],
   "source": [
    "output_size = 1\n",
    "embedding_dim = 64\n",
    "hidden_dim = 4\n",
    "n_layers = 1\n",
    "\n",
    "model = SentimentNet(vocab_size, output_size, embedding_dim, hidden_dim, n_layers)\n",
    "print(model_params(model))\n",
    "model.to(device)\n",
    "lr=0.008\n",
    "criterion = nn.BCELoss()\n",
    "optimizer = torch.optim.Adam(model.parameters(), lr=lr)"
   ]
  },
  {
   "cell_type": "code",
   "execution_count": 22,
   "id": "b2185aa5",
   "metadata": {
    "execution": {
     "iopub.execute_input": "2021-09-03T09:36:50.565668Z",
     "iopub.status.busy": "2021-09-03T09:36:50.565138Z",
     "iopub.status.idle": "2021-09-03T09:42:13.185359Z",
     "shell.execute_reply": "2021-09-03T09:42:13.184866Z",
     "shell.execute_reply.started": "2021-09-03T09:13:53.072263Z"
    },
    "papermill": {
     "duration": 322.653016,
     "end_time": "2021-09-03T09:42:13.185504",
     "exception": false,
     "start_time": "2021-09-03T09:36:50.532488",
     "status": "completed"
    },
    "tags": []
   },
   "outputs": [
    {
     "name": "stdout",
     "output_type": "stream",
     "text": [
      "Epoch: 1/10... Step: 100... Loss: 0.586326... Val Loss: 0.549493\n",
      "Validation loss decreased (inf --> 0.549493).  Saving model ...\n",
      "Epoch: 1/10... Step: 200... Loss: 0.549482... Val Loss: 0.505654\n",
      "Validation loss decreased (0.549493 --> 0.505654).  Saving model ...\n",
      "Epoch: 1/10... Step: 300... Loss: 0.537274... Val Loss: 0.491590\n",
      "Validation loss decreased (0.505654 --> 0.491590).  Saving model ...\n",
      "Epoch: 2/10... Step: 400... Loss: 0.512950... Val Loss: 0.479866\n",
      "Validation loss decreased (0.491590 --> 0.479866).  Saving model ...\n",
      "Epoch: 2/10... Step: 500... Loss: 0.505481... Val Loss: 0.474127\n",
      "Validation loss decreased (0.479866 --> 0.474127).  Saving model ...\n",
      "Epoch: 2/10... Step: 600... Loss: 0.509391... Val Loss: 0.471235\n",
      "Validation loss decreased (0.474127 --> 0.471235).  Saving model ...\n",
      "Epoch: 3/10... Step: 700... Loss: 0.480061... Val Loss: 0.469597\n",
      "Validation loss decreased (0.471235 --> 0.469597).  Saving model ...\n",
      "Epoch: 3/10... Step: 800... Loss: 0.480267... Val Loss: 0.468743\n",
      "Validation loss decreased (0.469597 --> 0.468743).  Saving model ...\n",
      "Epoch: 3/10... Step: 900... Loss: 0.468907... Val Loss: 0.467638\n",
      "Validation loss decreased (0.468743 --> 0.467638).  Saving model ...\n",
      "Epoch: 4/10... Step: 1000... Loss: 0.463596... Val Loss: 0.469972\n",
      "Epoch: 4/10... Step: 1100... Loss: 0.467710... Val Loss: 0.470741\n",
      "Epoch: 4/10... Step: 1200... Loss: 0.480808... Val Loss: 0.469404\n",
      "Epoch: 5/10... Step: 1300... Loss: 0.452643... Val Loss: 0.474629\n",
      "Epoch: 5/10... Step: 1400... Loss: 0.422053... Val Loss: 0.476585\n",
      "Epoch: 5/10... Step: 1500... Loss: 0.456703... Val Loss: 0.473916\n",
      "Epoch: 6/10... Step: 1600... Loss: 0.430014... Val Loss: 0.481900\n",
      "Epoch: 6/10... Step: 1700... Loss: 0.446426... Val Loss: 0.482379\n",
      "Epoch: 6/10... Step: 1800... Loss: 0.433768... Val Loss: 0.481593\n",
      "Epoch: 7/10... Step: 1900... Loss: 0.418413... Val Loss: 0.487749\n",
      "Epoch: 7/10... Step: 2000... Loss: 0.415797... Val Loss: 0.492021\n",
      "Epoch: 7/10... Step: 2100... Loss: 0.430698... Val Loss: 0.487021\n",
      "Epoch: 8/10... Step: 2200... Loss: 0.415337... Val Loss: 0.492004\n",
      "Epoch: 8/10... Step: 2300... Loss: 0.416725... Val Loss: 0.496781\n",
      "Epoch: 8/10... Step: 2400... Loss: 0.411159... Val Loss: 0.501759\n",
      "Epoch: 9/10... Step: 2500... Loss: 0.404261... Val Loss: 0.502171\n",
      "Epoch: 9/10... Step: 2600... Loss: 0.395935... Val Loss: 0.512720\n",
      "Epoch: 9/10... Step: 2700... Loss: 0.409007... Val Loss: 0.503571\n",
      "Epoch: 9/10... Step: 2800... Loss: 0.419319... Val Loss: 0.506936\n",
      "Epoch: 10/10... Step: 2900... Loss: 0.387834... Val Loss: 0.521231\n",
      "Epoch: 10/10... Step: 3000... Loss: 0.402560... Val Loss: 0.516250\n",
      "Epoch: 10/10... Step: 3100... Loss: 0.397410... Val Loss: 0.518304\n"
     ]
    }
   ],
   "source": [
    "epochs = 10\n",
    "counter = 0\n",
    "print_every = 100\n",
    "clip = 5\n",
    "valid_loss_min = np.Inf\n",
    "\n",
    "model.train()\n",
    "for i in range(epochs):\n",
    "    h = model.init_hidden(BATCH_SIZE)\n",
    "    \n",
    "    for inputs, labels in train_loader:\n",
    "        counter += 1\n",
    "        h = tuple([e.data for e in h])\n",
    "        inputs, labels = inputs.to(device), labels.to(device)\n",
    "        model.zero_grad()\n",
    "        output, h = model(inputs, h)\n",
    "        loss = criterion(output.unsqueeze(1), labels.float())\n",
    "        loss.backward()\n",
    "        #nn.utils.clip_grad_norm_(model.parameters(), clip)\n",
    "        optimizer.step()\n",
    "        \n",
    "        if counter%print_every == 0:\n",
    "            val_h = model.init_hidden(BATCH_SIZE)\n",
    "            val_losses = []\n",
    "            model.eval()\n",
    "            for inp, lab in test_loader:\n",
    "                val_h = tuple([each.data for each in val_h])\n",
    "                inp, lab = inp.to(device), lab.to(device)\n",
    "                out, val_h = model(inp, val_h)\n",
    "                val_loss = criterion(out.unsqueeze(1), lab.float())\n",
    "                val_losses.append(val_loss.item())\n",
    "                \n",
    "            model.train()\n",
    "            print(\"Epoch: {}/{}...\".format(i+1, epochs),\n",
    "                  \"Step: {}...\".format(counter),\n",
    "                  \"Loss: {:.6f}...\".format(loss.item()),\n",
    "                  \"Val Loss: {:.6f}\".format(np.mean(val_losses)))\n",
    "            if np.mean(val_losses) <= valid_loss_min:\n",
    "                torch.save(model.state_dict(), './state_dict.pt')\n",
    "                print('Validation loss decreased ({:.6f} --> {:.6f}).  Saving model ...'.format(valid_loss_min,np.mean(val_losses)))\n",
    "                valid_loss_min = np.mean(val_losses)"
   ]
  },
  {
   "cell_type": "code",
   "execution_count": 23,
   "id": "a3803da1",
   "metadata": {
    "execution": {
     "iopub.execute_input": "2021-09-03T09:42:13.263416Z",
     "iopub.status.busy": "2021-09-03T09:42:13.262851Z",
     "iopub.status.idle": "2021-09-03T09:42:13.267104Z",
     "shell.execute_reply": "2021-09-03T09:42:13.266712Z"
    },
    "papermill": {
     "duration": 0.048829,
     "end_time": "2021-09-03T09:42:13.267238",
     "exception": false,
     "start_time": "2021-09-03T09:42:13.218409",
     "status": "completed"
    },
    "tags": []
   },
   "outputs": [],
   "source": [
    "h = model.init_hidden(1)"
   ]
  },
  {
   "cell_type": "code",
   "execution_count": 24,
   "id": "ae1b1436",
   "metadata": {
    "execution": {
     "iopub.execute_input": "2021-09-03T09:42:13.336084Z",
     "iopub.status.busy": "2021-09-03T09:42:13.335588Z",
     "iopub.status.idle": "2021-09-03T09:42:13.369780Z",
     "shell.execute_reply": "2021-09-03T09:42:13.370160Z"
    },
    "papermill": {
     "duration": 0.070598,
     "end_time": "2021-09-03T09:42:13.370292",
     "exception": false,
     "start_time": "2021-09-03T09:42:13.299694",
     "status": "completed"
    },
    "tags": []
   },
   "outputs": [
    {
     "name": "stdout",
     "output_type": "stream",
     "text": [
      "tensor([[ 0,  0,  0,  0,  0,  0,  0,  0,  0,  0,  0,  0,  0,  0,  0,  0,  0,  0,\n",
      "          0,  0,  0,  0,  0,  0,  0,  0,  0,  0,  9, 98]], device='cuda:0',\n",
      "       dtype=torch.int32)\n"
     ]
    },
    {
     "data": {
      "text/plain": [
       "tensor([0.8920], device='cuda:0', grad_fn=<SelectBackward>)"
      ]
     },
     "execution_count": 24,
     "metadata": {},
     "output_type": "execute_result"
    }
   ],
   "source": [
    "sentence = \"I love my life\"\n",
    "trial = torch.tensor(pad_sequences(tokenizer.texts_to_sequences([sentence]), maxlen = MAX_SEQUENCE_LENGTH)).to(device)\n",
    "print(trial)\n",
    "\n",
    "model(trial, h)[0]"
   ]
  },
  {
   "cell_type": "code",
   "execution_count": 25,
   "id": "911ff672",
   "metadata": {
    "execution": {
     "iopub.execute_input": "2021-09-03T09:42:13.440086Z",
     "iopub.status.busy": "2021-09-03T09:42:13.439394Z",
     "iopub.status.idle": "2021-09-03T09:42:13.956558Z",
     "shell.execute_reply": "2021-09-03T09:42:13.956027Z"
    },
    "papermill": {
     "duration": 0.553515,
     "end_time": "2021-09-03T09:42:13.956680",
     "exception": false,
     "start_time": "2021-09-03T09:42:13.403165",
     "status": "completed"
    },
    "tags": []
   },
   "outputs": [
    {
     "name": "stderr",
     "output_type": "stream",
     "text": [
      "/opt/conda/lib/python3.7/site-packages/ipykernel_launcher.py:19: TracerWarning: Converting a tensor to a Python index might cause the trace to be incorrect. We can't record the data flow of Python values, so this value will be treated as a constant in the future. This means that the trace might not generalize to other inputs!\n",
      "/opt/conda/lib/python3.7/site-packages/torch/onnx/symbolic_opset9.py:1805: UserWarning: Exporting a model to ONNX with a batch_size other than 1, with a variable length with LSTM can cause an error when running the ONNX model with a different batch size. Make sure to save the model with a batch size of 1, or define the initial states (h0/c0) as inputs of the model. \n",
      "  \"or define the initial states (h0/c0) as inputs of the model. \")\n"
     ]
    }
   ],
   "source": [
    "import torch.onnx\n",
    "torch.onnx.export(model,               # model being run\n",
    "                  (trial, (torch.randn(1,1,4).to(device), torch.randn(1,1,4).to(device))),                   # model input (or a tuple for multiple inputs)\n",
    "                  \"lstm-PT.onnx\")"
   ]
  }
 ],
 "metadata": {
  "kernelspec": {
   "display_name": "Python 3",
   "language": "python",
   "name": "python3"
  },
  "language_info": {
   "codemirror_mode": {
    "name": "ipython",
    "version": 3
   },
   "file_extension": ".py",
   "mimetype": "text/x-python",
   "name": "python",
   "nbconvert_exporter": "python",
   "pygments_lexer": "ipython3",
   "version": "3.7.10"
  },
  "papermill": {
   "default_parameters": {},
   "duration": 461.757434,
   "end_time": "2021-09-03T09:42:16.636442",
   "environment_variables": {},
   "exception": null,
   "input_path": "__notebook__.ipynb",
   "output_path": "__notebook__.ipynb",
   "parameters": {},
   "start_time": "2021-09-03T09:34:34.879008",
   "version": "2.3.3"
  }
 },
 "nbformat": 4,
 "nbformat_minor": 5
}
