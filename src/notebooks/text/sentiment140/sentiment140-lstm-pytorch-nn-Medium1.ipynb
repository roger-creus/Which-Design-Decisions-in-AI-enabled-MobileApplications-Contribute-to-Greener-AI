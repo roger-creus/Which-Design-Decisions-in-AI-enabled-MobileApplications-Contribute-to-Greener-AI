{
 "cells": [
  {
   "cell_type": "code",
   "execution_count": 1,
   "id": "202c6528",
   "metadata": {
    "_cell_guid": "79c7e3d0-c299-4dcb-8224-4455121ee9b0",
    "_uuid": "d629ff2d2480ee46fbb7e2d37f6b5fab8052498a",
    "execution": {
     "iopub.execute_input": "2021-09-02T14:46:35.485482Z",
     "iopub.status.busy": "2021-09-02T14:46:35.484548Z",
     "iopub.status.idle": "2021-09-02T14:46:42.305687Z",
     "shell.execute_reply": "2021-09-02T14:46:42.305083Z",
     "shell.execute_reply.started": "2021-09-02T09:13:09.143712Z"
    },
    "papermill": {
     "duration": 6.852388,
     "end_time": "2021-09-02T14:46:42.305899",
     "exception": false,
     "start_time": "2021-09-02T14:46:35.453511",
     "status": "completed"
    },
    "tags": []
   },
   "outputs": [
    {
     "name": "stdout",
     "output_type": "stream",
     "text": [
      "[nltk_data] Downloading package stopwords to /usr/share/nltk_data...\n",
      "[nltk_data]   Package stopwords is already up-to-date!\n",
      "Tensorflow Version 2.4.1\n"
     ]
    }
   ],
   "source": [
    "import tensorflow as tf\n",
    "import matplotlib.pyplot as plt\n",
    "import pandas as pd\n",
    "import numpy as np\n",
    "\n",
    "\n",
    "import torch\n",
    "from torch.utils.data import TensorDataset, DataLoader\n",
    "import torch.nn as nn\n",
    "\n",
    "import nltk \n",
    "nltk.download('stopwords')\n",
    "from nltk.corpus import stopwords\n",
    "from nltk.stem import SnowballStemmer\n",
    "\n",
    "\n",
    "\n",
    "from sklearn.model_selection import train_test_split\n",
    "from sklearn.preprocessing import LabelEncoder\n",
    "\n",
    "\n",
    "import re\n",
    "\n",
    "print(\"Tensorflow Version\",tf.__version__)"
   ]
  },
  {
   "cell_type": "code",
   "execution_count": 2,
   "id": "6accc10b",
   "metadata": {
    "execution": {
     "iopub.execute_input": "2021-09-02T14:46:42.351315Z",
     "iopub.status.busy": "2021-09-02T14:46:42.350804Z",
     "iopub.status.idle": "2021-09-02T14:46:48.284402Z",
     "shell.execute_reply": "2021-09-02T14:46:48.283950Z",
     "shell.execute_reply.started": "2021-09-02T09:13:11.633876Z"
    },
    "papermill": {
     "duration": 5.957429,
     "end_time": "2021-09-02T14:46:48.284525",
     "exception": false,
     "start_time": "2021-09-02T14:46:42.327096",
     "status": "completed"
    },
    "tags": []
   },
   "outputs": [
    {
     "data": {
      "text/html": [
       "<div>\n",
       "<style scoped>\n",
       "    .dataframe tbody tr th:only-of-type {\n",
       "        vertical-align: middle;\n",
       "    }\n",
       "\n",
       "    .dataframe tbody tr th {\n",
       "        vertical-align: top;\n",
       "    }\n",
       "\n",
       "    .dataframe thead th {\n",
       "        text-align: right;\n",
       "    }\n",
       "</style>\n",
       "<table border=\"1\" class=\"dataframe\">\n",
       "  <thead>\n",
       "    <tr style=\"text-align: right;\">\n",
       "      <th></th>\n",
       "      <th>0</th>\n",
       "      <th>1</th>\n",
       "      <th>2</th>\n",
       "      <th>3</th>\n",
       "      <th>4</th>\n",
       "      <th>5</th>\n",
       "    </tr>\n",
       "  </thead>\n",
       "  <tbody>\n",
       "    <tr>\n",
       "      <th>0</th>\n",
       "      <td>0</td>\n",
       "      <td>1467810369</td>\n",
       "      <td>Mon Apr 06 22:19:45 PDT 2009</td>\n",
       "      <td>NO_QUERY</td>\n",
       "      <td>_TheSpecialOne_</td>\n",
       "      <td>@switchfoot http://twitpic.com/2y1zl - Awww, t...</td>\n",
       "    </tr>\n",
       "    <tr>\n",
       "      <th>1</th>\n",
       "      <td>0</td>\n",
       "      <td>1467810672</td>\n",
       "      <td>Mon Apr 06 22:19:49 PDT 2009</td>\n",
       "      <td>NO_QUERY</td>\n",
       "      <td>scotthamilton</td>\n",
       "      <td>is upset that he can't update his Facebook by ...</td>\n",
       "    </tr>\n",
       "    <tr>\n",
       "      <th>2</th>\n",
       "      <td>0</td>\n",
       "      <td>1467810917</td>\n",
       "      <td>Mon Apr 06 22:19:53 PDT 2009</td>\n",
       "      <td>NO_QUERY</td>\n",
       "      <td>mattycus</td>\n",
       "      <td>@Kenichan I dived many times for the ball. Man...</td>\n",
       "    </tr>\n",
       "    <tr>\n",
       "      <th>3</th>\n",
       "      <td>0</td>\n",
       "      <td>1467811184</td>\n",
       "      <td>Mon Apr 06 22:19:57 PDT 2009</td>\n",
       "      <td>NO_QUERY</td>\n",
       "      <td>ElleCTF</td>\n",
       "      <td>my whole body feels itchy and like its on fire</td>\n",
       "    </tr>\n",
       "    <tr>\n",
       "      <th>4</th>\n",
       "      <td>0</td>\n",
       "      <td>1467811193</td>\n",
       "      <td>Mon Apr 06 22:19:57 PDT 2009</td>\n",
       "      <td>NO_QUERY</td>\n",
       "      <td>Karoli</td>\n",
       "      <td>@nationwideclass no, it's not behaving at all....</td>\n",
       "    </tr>\n",
       "  </tbody>\n",
       "</table>\n",
       "</div>"
      ],
      "text/plain": [
       "   0           1                             2         3                4  \\\n",
       "0  0  1467810369  Mon Apr 06 22:19:45 PDT 2009  NO_QUERY  _TheSpecialOne_   \n",
       "1  0  1467810672  Mon Apr 06 22:19:49 PDT 2009  NO_QUERY    scotthamilton   \n",
       "2  0  1467810917  Mon Apr 06 22:19:53 PDT 2009  NO_QUERY         mattycus   \n",
       "3  0  1467811184  Mon Apr 06 22:19:57 PDT 2009  NO_QUERY          ElleCTF   \n",
       "4  0  1467811193  Mon Apr 06 22:19:57 PDT 2009  NO_QUERY           Karoli   \n",
       "\n",
       "                                                   5  \n",
       "0  @switchfoot http://twitpic.com/2y1zl - Awww, t...  \n",
       "1  is upset that he can't update his Facebook by ...  \n",
       "2  @Kenichan I dived many times for the ball. Man...  \n",
       "3    my whole body feels itchy and like its on fire   \n",
       "4  @nationwideclass no, it's not behaving at all....  "
      ]
     },
     "execution_count": 2,
     "metadata": {},
     "output_type": "execute_result"
    }
   ],
   "source": [
    "df = pd.read_csv('../input/sentiment140/training.1600000.processed.noemoticon.csv',\n",
    "                 encoding = 'latin',header=None)\n",
    "df.head()"
   ]
  },
  {
   "cell_type": "code",
   "execution_count": 3,
   "id": "f67142db",
   "metadata": {
    "execution": {
     "iopub.execute_input": "2021-09-02T14:46:48.334905Z",
     "iopub.status.busy": "2021-09-02T14:46:48.334052Z",
     "iopub.status.idle": "2021-09-02T14:46:48.337859Z",
     "shell.execute_reply": "2021-09-02T14:46:48.338261Z",
     "shell.execute_reply.started": "2021-09-02T09:13:15.66422Z"
    },
    "papermill": {
     "duration": 0.034616,
     "end_time": "2021-09-02T14:46:48.338392",
     "exception": false,
     "start_time": "2021-09-02T14:46:48.303776",
     "status": "completed"
    },
    "tags": []
   },
   "outputs": [
    {
     "data": {
      "text/html": [
       "<div>\n",
       "<style scoped>\n",
       "    .dataframe tbody tr th:only-of-type {\n",
       "        vertical-align: middle;\n",
       "    }\n",
       "\n",
       "    .dataframe tbody tr th {\n",
       "        vertical-align: top;\n",
       "    }\n",
       "\n",
       "    .dataframe thead th {\n",
       "        text-align: right;\n",
       "    }\n",
       "</style>\n",
       "<table border=\"1\" class=\"dataframe\">\n",
       "  <thead>\n",
       "    <tr style=\"text-align: right;\">\n",
       "      <th></th>\n",
       "      <th>sentiment</th>\n",
       "      <th>id</th>\n",
       "      <th>date</th>\n",
       "      <th>query</th>\n",
       "      <th>user_id</th>\n",
       "      <th>text</th>\n",
       "    </tr>\n",
       "  </thead>\n",
       "  <tbody>\n",
       "    <tr>\n",
       "      <th>0</th>\n",
       "      <td>0</td>\n",
       "      <td>1467810369</td>\n",
       "      <td>Mon Apr 06 22:19:45 PDT 2009</td>\n",
       "      <td>NO_QUERY</td>\n",
       "      <td>_TheSpecialOne_</td>\n",
       "      <td>@switchfoot http://twitpic.com/2y1zl - Awww, t...</td>\n",
       "    </tr>\n",
       "    <tr>\n",
       "      <th>1</th>\n",
       "      <td>0</td>\n",
       "      <td>1467810672</td>\n",
       "      <td>Mon Apr 06 22:19:49 PDT 2009</td>\n",
       "      <td>NO_QUERY</td>\n",
       "      <td>scotthamilton</td>\n",
       "      <td>is upset that he can't update his Facebook by ...</td>\n",
       "    </tr>\n",
       "    <tr>\n",
       "      <th>2</th>\n",
       "      <td>0</td>\n",
       "      <td>1467810917</td>\n",
       "      <td>Mon Apr 06 22:19:53 PDT 2009</td>\n",
       "      <td>NO_QUERY</td>\n",
       "      <td>mattycus</td>\n",
       "      <td>@Kenichan I dived many times for the ball. Man...</td>\n",
       "    </tr>\n",
       "    <tr>\n",
       "      <th>3</th>\n",
       "      <td>0</td>\n",
       "      <td>1467811184</td>\n",
       "      <td>Mon Apr 06 22:19:57 PDT 2009</td>\n",
       "      <td>NO_QUERY</td>\n",
       "      <td>ElleCTF</td>\n",
       "      <td>my whole body feels itchy and like its on fire</td>\n",
       "    </tr>\n",
       "    <tr>\n",
       "      <th>4</th>\n",
       "      <td>0</td>\n",
       "      <td>1467811193</td>\n",
       "      <td>Mon Apr 06 22:19:57 PDT 2009</td>\n",
       "      <td>NO_QUERY</td>\n",
       "      <td>Karoli</td>\n",
       "      <td>@nationwideclass no, it's not behaving at all....</td>\n",
       "    </tr>\n",
       "  </tbody>\n",
       "</table>\n",
       "</div>"
      ],
      "text/plain": [
       "   sentiment          id                          date     query  \\\n",
       "0          0  1467810369  Mon Apr 06 22:19:45 PDT 2009  NO_QUERY   \n",
       "1          0  1467810672  Mon Apr 06 22:19:49 PDT 2009  NO_QUERY   \n",
       "2          0  1467810917  Mon Apr 06 22:19:53 PDT 2009  NO_QUERY   \n",
       "3          0  1467811184  Mon Apr 06 22:19:57 PDT 2009  NO_QUERY   \n",
       "4          0  1467811193  Mon Apr 06 22:19:57 PDT 2009  NO_QUERY   \n",
       "\n",
       "           user_id                                               text  \n",
       "0  _TheSpecialOne_  @switchfoot http://twitpic.com/2y1zl - Awww, t...  \n",
       "1    scotthamilton  is upset that he can't update his Facebook by ...  \n",
       "2         mattycus  @Kenichan I dived many times for the ball. Man...  \n",
       "3          ElleCTF    my whole body feels itchy and like its on fire   \n",
       "4           Karoli  @nationwideclass no, it's not behaving at all....  "
      ]
     },
     "execution_count": 3,
     "metadata": {},
     "output_type": "execute_result"
    }
   ],
   "source": [
    "df.columns = ['sentiment', 'id', 'date', 'query', 'user_id', 'text']\n",
    "df.head()"
   ]
  },
  {
   "cell_type": "code",
   "execution_count": 4,
   "id": "1a84baec",
   "metadata": {
    "execution": {
     "iopub.execute_input": "2021-09-02T14:46:48.414635Z",
     "iopub.status.busy": "2021-09-02T14:46:48.413669Z",
     "iopub.status.idle": "2021-09-02T14:46:48.416023Z",
     "shell.execute_reply": "2021-09-02T14:46:48.416432Z",
     "shell.execute_reply.started": "2021-09-02T09:13:15.67768Z"
    },
    "papermill": {
     "duration": 0.05851,
     "end_time": "2021-09-02T14:46:48.416567",
     "exception": false,
     "start_time": "2021-09-02T14:46:48.358057",
     "status": "completed"
    },
    "tags": []
   },
   "outputs": [],
   "source": [
    "df = df.drop(['id', 'date', 'query', 'user_id'], axis=1)"
   ]
  },
  {
   "cell_type": "code",
   "execution_count": 5,
   "id": "b3447d10",
   "metadata": {
    "execution": {
     "iopub.execute_input": "2021-09-02T14:46:48.491476Z",
     "iopub.status.busy": "2021-09-02T14:46:48.490699Z",
     "iopub.status.idle": "2021-09-02T14:46:48.971322Z",
     "shell.execute_reply": "2021-09-02T14:46:48.975041Z",
     "shell.execute_reply.started": "2021-09-02T09:13:15.722608Z"
    },
    "papermill": {
     "duration": 0.539703,
     "end_time": "2021-09-02T14:46:48.975256",
     "exception": false,
     "start_time": "2021-09-02T14:46:48.435553",
     "status": "completed"
    },
    "tags": []
   },
   "outputs": [
    {
     "data": {
      "text/html": [
       "<div>\n",
       "<style scoped>\n",
       "    .dataframe tbody tr th:only-of-type {\n",
       "        vertical-align: middle;\n",
       "    }\n",
       "\n",
       "    .dataframe tbody tr th {\n",
       "        vertical-align: top;\n",
       "    }\n",
       "\n",
       "    .dataframe thead th {\n",
       "        text-align: right;\n",
       "    }\n",
       "</style>\n",
       "<table border=\"1\" class=\"dataframe\">\n",
       "  <thead>\n",
       "    <tr style=\"text-align: right;\">\n",
       "      <th></th>\n",
       "      <th>sentiment</th>\n",
       "      <th>text</th>\n",
       "    </tr>\n",
       "  </thead>\n",
       "  <tbody>\n",
       "    <tr>\n",
       "      <th>0</th>\n",
       "      <td>Negative</td>\n",
       "      <td>@switchfoot http://twitpic.com/2y1zl - Awww, t...</td>\n",
       "    </tr>\n",
       "    <tr>\n",
       "      <th>1</th>\n",
       "      <td>Negative</td>\n",
       "      <td>is upset that he can't update his Facebook by ...</td>\n",
       "    </tr>\n",
       "    <tr>\n",
       "      <th>2</th>\n",
       "      <td>Negative</td>\n",
       "      <td>@Kenichan I dived many times for the ball. Man...</td>\n",
       "    </tr>\n",
       "    <tr>\n",
       "      <th>3</th>\n",
       "      <td>Negative</td>\n",
       "      <td>my whole body feels itchy and like its on fire</td>\n",
       "    </tr>\n",
       "    <tr>\n",
       "      <th>4</th>\n",
       "      <td>Negative</td>\n",
       "      <td>@nationwideclass no, it's not behaving at all....</td>\n",
       "    </tr>\n",
       "  </tbody>\n",
       "</table>\n",
       "</div>"
      ],
      "text/plain": [
       "  sentiment                                               text\n",
       "0  Negative  @switchfoot http://twitpic.com/2y1zl - Awww, t...\n",
       "1  Negative  is upset that he can't update his Facebook by ...\n",
       "2  Negative  @Kenichan I dived many times for the ball. Man...\n",
       "3  Negative    my whole body feels itchy and like its on fire \n",
       "4  Negative  @nationwideclass no, it's not behaving at all...."
      ]
     },
     "execution_count": 5,
     "metadata": {},
     "output_type": "execute_result"
    }
   ],
   "source": [
    "lab_to_sentiment = {0:\"Negative\", 4:\"Positive\"}\n",
    "def label_decoder(label):\n",
    "  return lab_to_sentiment[label]\n",
    "df.sentiment = df.sentiment.apply(lambda x: label_decoder(x))\n",
    "df.head()"
   ]
  },
  {
   "cell_type": "code",
   "execution_count": 6,
   "id": "6e627b26",
   "metadata": {
    "execution": {
     "iopub.execute_input": "2021-09-02T14:46:49.480657Z",
     "iopub.status.busy": "2021-09-02T14:46:49.479779Z",
     "iopub.status.idle": "2021-09-02T14:46:49.631327Z",
     "shell.execute_reply": "2021-09-02T14:46:49.630904Z",
     "shell.execute_reply.started": "2021-09-02T09:13:16.218419Z"
    },
    "papermill": {
     "duration": 0.619104,
     "end_time": "2021-09-02T14:46:49.631448",
     "exception": false,
     "start_time": "2021-09-02T14:46:49.012344",
     "status": "completed"
    },
    "tags": []
   },
   "outputs": [
    {
     "data": {
      "text/plain": [
       "Text(0.5, 1.0, 'Sentiment Data Distribution')"
      ]
     },
     "execution_count": 6,
     "metadata": {},
     "output_type": "execute_result"
    },
    {
     "data": {
      "image/png": "[encoded data removed]",
      "text/plain": [
       "<Figure size 576x288 with 1 Axes>"
      ]
     },
     "metadata": {
      "needs_background": "light"
     },
     "output_type": "display_data"
    }
   ],
   "source": [
    "val_count = df.sentiment.value_counts()\n",
    "\n",
    "plt.figure(figsize=(8,4))\n",
    "plt.bar(val_count.index, val_count.values)\n",
    "plt.title(\"Sentiment Data Distribution\")"
   ]
  },
  {
   "cell_type": "code",
   "execution_count": 7,
   "id": "9db0eac9",
   "metadata": {
    "execution": {
     "iopub.execute_input": "2021-09-02T14:46:49.677209Z",
     "iopub.status.busy": "2021-09-02T14:46:49.676384Z",
     "iopub.status.idle": "2021-09-02T14:46:49.795179Z",
     "shell.execute_reply": "2021-09-02T14:46:49.795590Z",
     "shell.execute_reply.started": "2021-09-02T09:13:16.647259Z"
    },
    "papermill": {
     "duration": 0.144085,
     "end_time": "2021-09-02T14:46:49.795729",
     "exception": false,
     "start_time": "2021-09-02T14:46:49.651644",
     "status": "completed"
    },
    "tags": []
   },
   "outputs": [
    {
     "data": {
      "text/html": [
       "<div>\n",
       "<style scoped>\n",
       "    .dataframe tbody tr th:only-of-type {\n",
       "        vertical-align: middle;\n",
       "    }\n",
       "\n",
       "    .dataframe tbody tr th {\n",
       "        vertical-align: top;\n",
       "    }\n",
       "\n",
       "    .dataframe thead th {\n",
       "        text-align: right;\n",
       "    }\n",
       "</style>\n",
       "<table border=\"1\" class=\"dataframe\">\n",
       "  <thead>\n",
       "    <tr style=\"text-align: right;\">\n",
       "      <th></th>\n",
       "      <th>sentiment</th>\n",
       "      <th>text</th>\n",
       "    </tr>\n",
       "  </thead>\n",
       "  <tbody>\n",
       "    <tr>\n",
       "      <th>569971</th>\n",
       "      <td>Negative</td>\n",
       "      <td>Lady GaGa, Araneta Coliseum on August 11, 8PM....</td>\n",
       "    </tr>\n",
       "    <tr>\n",
       "      <th>1576511</th>\n",
       "      <td>Positive</td>\n",
       "      <td>just got my shutter fixed...good thing to have...</td>\n",
       "    </tr>\n",
       "    <tr>\n",
       "      <th>1387359</th>\n",
       "      <td>Positive</td>\n",
       "      <td>@PrettySprinkles When you master that technolo...</td>\n",
       "    </tr>\n",
       "    <tr>\n",
       "      <th>976405</th>\n",
       "      <td>Positive</td>\n",
       "      <td>@raykwong dass right. only those who'll be her...</td>\n",
       "    </tr>\n",
       "    <tr>\n",
       "      <th>688375</th>\n",
       "      <td>Negative</td>\n",
       "      <td>@cocoy because i cant move.</td>\n",
       "    </tr>\n",
       "    <tr>\n",
       "      <th>586735</th>\n",
       "      <td>Negative</td>\n",
       "      <td>@bradiewebbstack lol gotta hate those deadlines</td>\n",
       "    </tr>\n",
       "    <tr>\n",
       "      <th>40063</th>\n",
       "      <td>Negative</td>\n",
       "      <td>At college . . doing work</td>\n",
       "    </tr>\n",
       "    <tr>\n",
       "      <th>953654</th>\n",
       "      <td>Positive</td>\n",
       "      <td>@hollymadison123 I LOVE youu  HOLLYY</td>\n",
       "    </tr>\n",
       "    <tr>\n",
       "      <th>209071</th>\n",
       "      <td>Negative</td>\n",
       "      <td>Hey, I'm waiting for my flight!  My mom cried ...</td>\n",
       "    </tr>\n",
       "    <tr>\n",
       "      <th>815033</th>\n",
       "      <td>Positive</td>\n",
       "      <td>@alittlebit I like, esp the commentry about yo...</td>\n",
       "    </tr>\n",
       "  </tbody>\n",
       "</table>\n",
       "</div>"
      ],
      "text/plain": [
       "        sentiment                                               text\n",
       "569971   Negative  Lady GaGa, Araneta Coliseum on August 11, 8PM....\n",
       "1576511  Positive  just got my shutter fixed...good thing to have...\n",
       "1387359  Positive  @PrettySprinkles When you master that technolo...\n",
       "976405   Positive  @raykwong dass right. only those who'll be her...\n",
       "688375   Negative                       @cocoy because i cant move. \n",
       "586735   Negative   @bradiewebbstack lol gotta hate those deadlines \n",
       "40063    Negative                         At college . . doing work \n",
       "953654   Positive              @hollymadison123 I LOVE youu  HOLLYY \n",
       "209071   Negative  Hey, I'm waiting for my flight!  My mom cried ...\n",
       "815033   Positive  @alittlebit I like, esp the commentry about yo..."
      ]
     },
     "execution_count": 7,
     "metadata": {},
     "output_type": "execute_result"
    }
   ],
   "source": [
    "import random\n",
    "random_idx_list = [random.randint(1,len(df.text)) for i in range(10)] # creates random indexes to choose from dataframe\n",
    "df.loc[random_idx_list,:].head(10) # Returns the rows with the index and display it"
   ]
  },
  {
   "cell_type": "code",
   "execution_count": 8,
   "id": "3b1225db",
   "metadata": {
    "execution": {
     "iopub.execute_input": "2021-09-02T14:46:49.841826Z",
     "iopub.status.busy": "2021-09-02T14:46:49.841309Z",
     "iopub.status.idle": "2021-09-02T14:46:49.845658Z",
     "shell.execute_reply": "2021-09-02T14:46:49.845212Z",
     "shell.execute_reply.started": "2021-09-02T09:13:16.773771Z"
    },
    "papermill": {
     "duration": 0.029033,
     "end_time": "2021-09-02T14:46:49.845764",
     "exception": false,
     "start_time": "2021-09-02T14:46:49.816731",
     "status": "completed"
    },
    "tags": []
   },
   "outputs": [],
   "source": [
    "stop_words = stopwords.words('english')\n",
    "stemmer = SnowballStemmer('english')\n",
    "\n",
    "text_cleaning_re = \"@\\S+|https?:\\S+|http?:\\S|[^A-Za-z0-9]+\""
   ]
  },
  {
   "cell_type": "code",
   "execution_count": 9,
   "id": "1ade9e88",
   "metadata": {
    "execution": {
     "iopub.execute_input": "2021-09-02T14:46:49.896293Z",
     "iopub.status.busy": "2021-09-02T14:46:49.895023Z",
     "iopub.status.idle": "2021-09-02T14:46:49.897767Z",
     "shell.execute_reply": "2021-09-02T14:46:49.897366Z",
     "shell.execute_reply.started": "2021-09-02T09:13:16.782907Z"
    },
    "papermill": {
     "duration": 0.028585,
     "end_time": "2021-09-02T14:46:49.897894",
     "exception": false,
     "start_time": "2021-09-02T14:46:49.869309",
     "status": "completed"
    },
    "tags": []
   },
   "outputs": [],
   "source": [
    "def preprocess(text, stem=False):\n",
    "  text = re.sub(text_cleaning_re, ' ', str(text).lower()).strip()\n",
    "  tokens = []\n",
    "  for token in text.split():\n",
    "    if token not in stop_words:\n",
    "      if stem:\n",
    "        tokens.append(stemmer.stem(token))\n",
    "      else:\n",
    "        tokens.append(token)\n",
    "  return \" \".join(tokens)"
   ]
  },
  {
   "cell_type": "code",
   "execution_count": 10,
   "id": "5fc174c8",
   "metadata": {
    "execution": {
     "iopub.execute_input": "2021-09-02T14:46:49.944370Z",
     "iopub.status.busy": "2021-09-02T14:46:49.943510Z",
     "iopub.status.idle": "2021-09-02T14:47:49.230056Z",
     "shell.execute_reply": "2021-09-02T14:47:49.229561Z",
     "shell.execute_reply.started": "2021-09-02T09:13:16.792642Z"
    },
    "papermill": {
     "duration": 59.311416,
     "end_time": "2021-09-02T14:47:49.230191",
     "exception": false,
     "start_time": "2021-09-02T14:46:49.918775",
     "status": "completed"
    },
    "tags": []
   },
   "outputs": [],
   "source": [
    "df.text = df.text.apply(lambda x: preprocess(x))\n",
    "device = \"cuda:0\""
   ]
  },
  {
   "cell_type": "markdown",
   "id": "32eec982",
   "metadata": {
    "papermill": {
     "duration": 0.020385,
     "end_time": "2021-09-02T14:47:49.271637",
     "exception": false,
     "start_time": "2021-09-02T14:47:49.251252",
     "status": "completed"
    },
    "tags": []
   },
   "source": [
    "## Train and Test Split"
   ]
  },
  {
   "cell_type": "code",
   "execution_count": 11,
   "id": "ac2823bb",
   "metadata": {
    "execution": {
     "iopub.execute_input": "2021-09-02T14:47:49.318067Z",
     "iopub.status.busy": "2021-09-02T14:47:49.317512Z",
     "iopub.status.idle": "2021-09-02T14:47:49.321498Z",
     "shell.execute_reply": "2021-09-02T14:47:49.321060Z",
     "shell.execute_reply.started": "2021-09-02T09:14:15.306299Z"
    },
    "papermill": {
     "duration": 0.029176,
     "end_time": "2021-09-02T14:47:49.321614",
     "exception": false,
     "start_time": "2021-09-02T14:47:49.292438",
     "status": "completed"
    },
    "tags": []
   },
   "outputs": [],
   "source": [
    "TRAIN_SIZE = 0.8 \n",
    "MAX_NB_WORDS = 100000\n",
    "MAX_SEQUENCE_LENGTH = 30\n",
    "EMBEDDING_DIM = 10\n",
    "LR = 1e-3\n",
    "BATCH_SIZE = 4096\n",
    "EPOCHS = 10"
   ]
  },
  {
   "cell_type": "code",
   "execution_count": 12,
   "id": "0545b1a7",
   "metadata": {
    "execution": {
     "iopub.execute_input": "2021-09-02T14:47:49.369359Z",
     "iopub.status.busy": "2021-09-02T14:47:49.368487Z",
     "iopub.status.idle": "2021-09-02T14:47:49.792104Z",
     "shell.execute_reply": "2021-09-02T14:47:49.791666Z",
     "shell.execute_reply.started": "2021-09-02T09:14:15.313067Z"
    },
    "papermill": {
     "duration": 0.449654,
     "end_time": "2021-09-02T14:47:49.792224",
     "exception": false,
     "start_time": "2021-09-02T14:47:49.342570",
     "status": "completed"
    },
    "tags": []
   },
   "outputs": [
    {
     "name": "stdout",
     "output_type": "stream",
     "text": [
      "Train Data size: 1280000\n",
      "Test Data size 320000\n"
     ]
    }
   ],
   "source": [
    "train_data, test_data = train_test_split(df, test_size=1-TRAIN_SIZE,\n",
    "                                         random_state=7) # Splits Dataset into Training and Testing set\n",
    "print(\"Train Data size:\", len(train_data))\n",
    "print(\"Test Data size\", len(test_data))"
   ]
  },
  {
   "cell_type": "code",
   "execution_count": 13,
   "id": "d15dbd90",
   "metadata": {
    "execution": {
     "iopub.execute_input": "2021-09-02T14:47:49.838444Z",
     "iopub.status.busy": "2021-09-02T14:47:49.837823Z",
     "iopub.status.idle": "2021-09-02T14:48:08.263272Z",
     "shell.execute_reply": "2021-09-02T14:48:08.262506Z",
     "shell.execute_reply.started": "2021-09-02T09:14:15.757654Z"
    },
    "papermill": {
     "duration": 18.450266,
     "end_time": "2021-09-02T14:48:08.263414",
     "exception": false,
     "start_time": "2021-09-02T14:47:49.813148",
     "status": "completed"
    },
    "tags": []
   },
   "outputs": [
    {
     "name": "stdout",
     "output_type": "stream",
     "text": [
      "Vocabulary Size : 290575\n"
     ]
    }
   ],
   "source": [
    "from keras.preprocessing.text import Tokenizer\n",
    "\n",
    "tokenizer = Tokenizer()\n",
    "tokenizer.fit_on_texts(train_data.text)\n",
    "\n",
    "word_index = tokenizer.word_index\n",
    "vocab_size = len(tokenizer.word_index) + 1\n",
    "print(\"Vocabulary Size :\", vocab_size)"
   ]
  },
  {
   "cell_type": "code",
   "execution_count": 14,
   "id": "f0ab088d",
   "metadata": {
    "execution": {
     "iopub.execute_input": "2021-09-02T14:48:08.316373Z",
     "iopub.status.busy": "2021-09-02T14:48:08.311526Z",
     "iopub.status.idle": "2021-09-02T14:48:08.573204Z",
     "shell.execute_reply": "2021-09-02T14:48:08.572667Z",
     "shell.execute_reply.started": "2021-09-02T09:14:34.3495Z"
    },
    "papermill": {
     "duration": 0.287938,
     "end_time": "2021-09-02T14:48:08.573332",
     "exception": false,
     "start_time": "2021-09-02T14:48:08.285394",
     "status": "completed"
    },
    "tags": []
   },
   "outputs": [],
   "source": [
    "import os \n",
    "with open('twitter_dictionary.txt', 'w') as file:\n",
    "    for key in word_index.keys():\n",
    "        file.write(key + \" \" + str(word_index[key]) + \",\")"
   ]
  },
  {
   "cell_type": "code",
   "execution_count": 15,
   "id": "c251c068",
   "metadata": {
    "execution": {
     "iopub.execute_input": "2021-09-02T14:48:08.621676Z",
     "iopub.status.busy": "2021-09-02T14:48:08.620952Z",
     "iopub.status.idle": "2021-09-02T14:48:39.038254Z",
     "shell.execute_reply": "2021-09-02T14:48:39.039038Z",
     "shell.execute_reply.started": "2021-09-02T09:14:34.6838Z"
    },
    "papermill": {
     "duration": 30.443937,
     "end_time": "2021-09-02T14:48:39.039255",
     "exception": false,
     "start_time": "2021-09-02T14:48:08.595318",
     "status": "completed"
    },
    "tags": []
   },
   "outputs": [
    {
     "name": "stdout",
     "output_type": "stream",
     "text": [
      "Training X Shape: (1280000, 30)\n",
      "Testing X Shape: (320000, 30)\n",
      "<class 'numpy.ndarray'>\n",
      "<class 'numpy.ndarray'>\n"
     ]
    }
   ],
   "source": [
    "from keras.preprocessing.sequence import pad_sequences\n",
    "\n",
    "x_train = pad_sequences(tokenizer.texts_to_sequences(train_data.text),\n",
    "                        maxlen = MAX_SEQUENCE_LENGTH)\n",
    "x_test = pad_sequences(tokenizer.texts_to_sequences(test_data.text),\n",
    "                       maxlen = MAX_SEQUENCE_LENGTH)\n",
    "\n",
    "print(\"Training X Shape:\",x_train.shape)\n",
    "print(\"Testing X Shape:\",x_test.shape)\n",
    "\n",
    "print(type(x_train))\n",
    "print(type(x_test))"
   ]
  },
  {
   "cell_type": "code",
   "execution_count": 16,
   "id": "72672e47",
   "metadata": {
    "execution": {
     "iopub.execute_input": "2021-09-02T14:48:39.119347Z",
     "iopub.status.busy": "2021-09-02T14:48:39.118590Z",
     "iopub.status.idle": "2021-09-02T14:48:39.123009Z",
     "shell.execute_reply": "2021-09-02T14:48:39.123587Z",
     "shell.execute_reply.started": "2021-09-02T09:15:05.735536Z"
    },
    "papermill": {
     "duration": 0.048344,
     "end_time": "2021-09-02T14:48:39.123765",
     "exception": false,
     "start_time": "2021-09-02T14:48:39.075421",
     "status": "completed"
    },
    "tags": []
   },
   "outputs": [
    {
     "data": {
      "text/plain": [
       "array([  0,   0,   0,   0,   0,   0,   0,   0,   0,   0,   0,   0,   0,\n",
       "         0,   0,   0,   0,   0,   0,   0,   0,   0,   0,   0,   0,   0,\n",
       "         0,   0,  34, 110], dtype=int32)"
      ]
     },
     "execution_count": 16,
     "metadata": {},
     "output_type": "execute_result"
    }
   ],
   "source": [
    "x_train[0]"
   ]
  },
  {
   "cell_type": "code",
   "execution_count": 17,
   "id": "8f17961f",
   "metadata": {
    "execution": {
     "iopub.execute_input": "2021-09-02T14:48:39.299116Z",
     "iopub.status.busy": "2021-09-02T14:48:39.298250Z",
     "iopub.status.idle": "2021-09-02T14:48:39.335251Z",
     "shell.execute_reply": "2021-09-02T14:48:39.336401Z",
     "shell.execute_reply.started": "2021-09-02T09:15:05.744678Z"
    },
    "papermill": {
     "duration": 0.177603,
     "end_time": "2021-09-02T14:48:39.336614",
     "exception": false,
     "start_time": "2021-09-02T14:48:39.159011",
     "status": "completed"
    },
    "tags": []
   },
   "outputs": [],
   "source": [
    "labels = train_data.sentiment.unique().tolist()"
   ]
  },
  {
   "cell_type": "code",
   "execution_count": 18,
   "id": "3633767f",
   "metadata": {
    "execution": {
     "iopub.execute_input": "2021-09-02T14:48:39.432473Z",
     "iopub.status.busy": "2021-09-02T14:48:39.431405Z",
     "iopub.status.idle": "2021-09-02T14:48:40.610228Z",
     "shell.execute_reply": "2021-09-02T14:48:40.609476Z",
     "shell.execute_reply.started": "2021-09-02T09:15:05.849012Z"
    },
    "papermill": {
     "duration": 1.235196,
     "end_time": "2021-09-02T14:48:40.610351",
     "exception": false,
     "start_time": "2021-09-02T14:48:39.375155",
     "status": "completed"
    },
    "tags": []
   },
   "outputs": [
    {
     "name": "stdout",
     "output_type": "stream",
     "text": [
      "y_train shape: (1280000, 1)\n",
      "y_test shape: (320000, 1)\n"
     ]
    }
   ],
   "source": [
    "encoder = LabelEncoder()\n",
    "encoder.fit(train_data.sentiment.to_list())\n",
    "\n",
    "y_train = encoder.transform(train_data.sentiment.to_list())\n",
    "y_test = encoder.transform(test_data.sentiment.to_list())\n",
    "\n",
    "y_train = y_train.reshape(-1,1)\n",
    "y_test = y_test.reshape(-1,1)\n",
    "\n",
    "train_data = TensorDataset(torch.from_numpy(x_train), torch.from_numpy(y_train))\n",
    "test_data = TensorDataset(torch.from_numpy(x_test), torch.from_numpy(y_test))\n",
    "\n",
    "train_loader = DataLoader(train_data, shuffle=True, batch_size=BATCH_SIZE, drop_last = True)\n",
    "test_loader = DataLoader(test_data, shuffle=True, batch_size=BATCH_SIZE, drop_last = True)\n",
    "\n",
    "print(\"y_train shape:\", y_train.shape)\n",
    "print(\"y_test shape:\", y_test.shape)"
   ]
  },
  {
   "cell_type": "code",
   "execution_count": 19,
   "id": "675f26e4",
   "metadata": {
    "execution": {
     "iopub.execute_input": "2021-09-02T14:48:40.665749Z",
     "iopub.status.busy": "2021-09-02T14:48:40.664314Z",
     "iopub.status.idle": "2021-09-02T14:48:40.666616Z",
     "shell.execute_reply": "2021-09-02T14:48:40.667074Z",
     "shell.execute_reply.started": "2021-09-02T09:15:07.17051Z"
    },
    "papermill": {
     "duration": 0.034547,
     "end_time": "2021-09-02T14:48:40.667215",
     "exception": false,
     "start_time": "2021-09-02T14:48:40.632668",
     "status": "completed"
    },
    "tags": []
   },
   "outputs": [],
   "source": [
    "class SentimentNet(nn.Module):\n",
    "    def __init__(self, vocab_size, output_size, embedding_dim, hidden_dim, n_layers, drop_prob=0.5):\n",
    "        super(SentimentNet, self).__init__()\n",
    "        self.output_size = output_size\n",
    "        self.n_layers = n_layers\n",
    "        self.hidden_dim = hidden_dim\n",
    "        \n",
    "        \n",
    "        self.embedding = nn.Embedding(vocab_size, embedding_dim)\n",
    "        #self.conv = nn.Conv1d(embedding_dim, 8, kernel_size=5)\n",
    "        self.lstm = nn.LSTM(embedding_dim, hidden_dim, n_layers, dropout=drop_prob, batch_first=True)\n",
    "        #self.gru = nn.GRU(embedding_dim, hidden_dim, n_layers, dropout=drop_prob, batch_first=True)\n",
    "        self.dropout = nn.Dropout(drop_prob)\n",
    "        self.fc = nn.Linear(hidden_dim, output_size)\n",
    "        self.sigmoid = nn.Sigmoid()\n",
    "        \n",
    "    def forward(self, x, hidden):\n",
    "        #print(x.shape)\n",
    "        if len(x) != 1:\n",
    "            batch_size = x.size(0)\n",
    "        else:\n",
    "            batch_size = 1\n",
    "        x = x.long()\n",
    "        embeds = self.embedding(x)\n",
    "\n",
    "        #conv = self.conv(x)\n",
    "        \n",
    "        lstm_out, hidden = self.lstm(embeds, hidden)\n",
    "        lstm_out = lstm_out.contiguous().view(-1, self.hidden_dim)\n",
    "        \n",
    "        out = self.dropout(lstm_out)\n",
    "        out = self.fc(out)\n",
    "        out = self.sigmoid(out)\n",
    "        \n",
    "        out = out.view(batch_size, -1)\n",
    "        out = out[:,-1]\n",
    "        return out, hidden\n",
    "    \n",
    "    def init_hidden(self, batch_size):\n",
    "        weight = next(self.parameters()).data\n",
    "        hidden = (weight.new(self.n_layers, batch_size, self.hidden_dim).zero_().to(device),weight.new(self.n_layers, batch_size, self.hidden_dim).zero_().to(device))\n",
    "        #hidden = (weight.new(self.n_layers, batch_size, self.hidden_dim).zero_(),\n",
    "        #             weight.new(self.n_layers, batch_size, self.hidden_dim).zero_())\n",
    "        return hidden"
   ]
  },
  {
   "cell_type": "code",
   "execution_count": 20,
   "id": "2c6e3edc",
   "metadata": {
    "execution": {
     "iopub.execute_input": "2021-09-02T14:48:40.715639Z",
     "iopub.status.busy": "2021-09-02T14:48:40.715125Z",
     "iopub.status.idle": "2021-09-02T14:48:40.718389Z",
     "shell.execute_reply": "2021-09-02T14:48:40.718767Z",
     "shell.execute_reply.started": "2021-09-02T09:15:07.196534Z"
    },
    "papermill": {
     "duration": 0.029532,
     "end_time": "2021-09-02T14:48:40.718945",
     "exception": false,
     "start_time": "2021-09-02T14:48:40.689413",
     "status": "completed"
    },
    "tags": []
   },
   "outputs": [],
   "source": [
    "def model_params(model):\n",
    "    pp=0\n",
    "    for p in list(model.parameters()):\n",
    "        nn=1\n",
    "        for s in list(p.size()):\n",
    "            nn = nn*s\n",
    "        pp += nn\n",
    "    return pp"
   ]
  },
  {
   "cell_type": "code",
   "execution_count": 21,
   "id": "d8feed07",
   "metadata": {
    "execution": {
     "iopub.execute_input": "2021-09-02T14:48:40.770886Z",
     "iopub.status.busy": "2021-09-02T14:48:40.770238Z",
     "iopub.status.idle": "2021-09-02T14:48:47.206341Z",
     "shell.execute_reply": "2021-09-02T14:48:47.205169Z",
     "shell.execute_reply.started": "2021-09-02T09:15:48.00527Z"
    },
    "papermill": {
     "duration": 6.465761,
     "end_time": "2021-09-02T14:48:47.206475",
     "exception": false,
     "start_time": "2021-09-02T14:48:40.740714",
     "status": "completed"
    },
    "tags": []
   },
   "outputs": [
    {
     "name": "stdout",
     "output_type": "stream",
     "text": [
      "3098216\n"
     ]
    }
   ],
   "source": [
    "output_size = 1\n",
    "embedding_dim = 10\n",
    "hidden_dim = 45\n",
    "n_layers = 12\n",
    "\n",
    "model = SentimentNet(vocab_size, output_size, embedding_dim, hidden_dim, n_layers)\n",
    "print(model_params(model))\n",
    "model.to(device)\n",
    "lr=0.008\n",
    "criterion = nn.BCELoss()\n",
    "optimizer = torch.optim.Adam(model.parameters(), lr=lr)"
   ]
  },
  {
   "cell_type": "code",
   "execution_count": 22,
   "id": "3b51dd3c",
   "metadata": {
    "execution": {
     "iopub.execute_input": "2021-09-02T14:48:47.264379Z",
     "iopub.status.busy": "2021-09-02T14:48:47.263871Z",
     "iopub.status.idle": "2021-09-02T15:01:28.324473Z",
     "shell.execute_reply": "2021-09-02T15:01:28.323844Z",
     "shell.execute_reply.started": "2021-09-02T09:15:51.029253Z"
    },
    "papermill": {
     "duration": 761.095027,
     "end_time": "2021-09-02T15:01:28.324633",
     "exception": false,
     "start_time": "2021-09-02T14:48:47.229606",
     "status": "completed"
    },
    "tags": []
   },
   "outputs": [
    {
     "name": "stdout",
     "output_type": "stream",
     "text": [
      "Epoch: 1/10... Step: 100... Loss: 0.693017... Val Loss: 0.693189\n",
      "Validation loss decreased (inf --> 0.693189).  Saving model ...\n",
      "Epoch: 1/10... Step: 200... Loss: 0.693344... Val Loss: 0.693152\n",
      "Validation loss decreased (0.693189 --> 0.693152).  Saving model ...\n",
      "Epoch: 1/10... Step: 300... Loss: 0.693136... Val Loss: 0.693142\n",
      "Validation loss decreased (0.693152 --> 0.693142).  Saving model ...\n",
      "Epoch: 2/10... Step: 400... Loss: 0.693148... Val Loss: 0.693146\n",
      "Epoch: 2/10... Step: 500... Loss: 0.693132... Val Loss: 0.693146\n",
      "Epoch: 2/10... Step: 600... Loss: 0.693168... Val Loss: 0.693142\n",
      "Epoch: 3/10... Step: 700... Loss: 0.693165... Val Loss: 0.693152\n",
      "Epoch: 3/10... Step: 800... Loss: 0.693160... Val Loss: 0.693148\n",
      "Epoch: 3/10... Step: 900... Loss: 0.693102... Val Loss: 0.693204\n",
      "Epoch: 4/10... Step: 1000... Loss: 0.693145... Val Loss: 0.693144\n",
      "Epoch: 4/10... Step: 1100... Loss: 0.693317... Val Loss: 0.693201\n",
      "Epoch: 4/10... Step: 1200... Loss: 0.693100... Val Loss: 0.693144\n",
      "Epoch: 5/10... Step: 1300... Loss: 0.693258... Val Loss: 0.693142\n",
      "Validation loss decreased (0.693142 --> 0.693142).  Saving model ...\n",
      "Epoch: 5/10... Step: 1400... Loss: 0.693148... Val Loss: 0.693167\n",
      "Epoch: 5/10... Step: 1500... Loss: 0.693151... Val Loss: 0.693144\n",
      "Epoch: 6/10... Step: 1600... Loss: 0.693149... Val Loss: 0.693173\n",
      "Epoch: 6/10... Step: 1700... Loss: 0.693398... Val Loss: 0.693195\n",
      "Epoch: 6/10... Step: 1800... Loss: 0.693128... Val Loss: 0.693143\n",
      "Epoch: 7/10... Step: 1900... Loss: 0.693169... Val Loss: 0.693142\n",
      "Epoch: 7/10... Step: 2000... Loss: 0.693148... Val Loss: 0.693142\n",
      "Epoch: 7/10... Step: 2100... Loss: 0.693399... Val Loss: 0.693193\n",
      "Epoch: 8/10... Step: 2200... Loss: 0.693228... Val Loss: 0.693147\n",
      "Epoch: 8/10... Step: 2300... Loss: 0.693210... Val Loss: 0.693250\n",
      "Epoch: 8/10... Step: 2400... Loss: 0.693226... Val Loss: 0.693214\n",
      "Epoch: 9/10... Step: 2500... Loss: 0.692969... Val Loss: 0.693194\n",
      "Epoch: 9/10... Step: 2600... Loss: 0.693111... Val Loss: 0.693161\n",
      "Epoch: 9/10... Step: 2700... Loss: 0.693158... Val Loss: 0.693143\n",
      "Epoch: 9/10... Step: 2800... Loss: 0.693123... Val Loss: 0.693142\n",
      "Epoch: 10/10... Step: 2900... Loss: 0.693197... Val Loss: 0.693148\n",
      "Epoch: 10/10... Step: 3000... Loss: 0.693081... Val Loss: 0.693142\n",
      "Epoch: 10/10... Step: 3100... Loss: 0.693148... Val Loss: 0.693145\n"
     ]
    }
   ],
   "source": [
    "epochs = 10\n",
    "counter = 0\n",
    "print_every = 100\n",
    "clip = 5\n",
    "valid_loss_min = np.Inf\n",
    "\n",
    "model.train()\n",
    "for i in range(epochs):\n",
    "    h = model.init_hidden(BATCH_SIZE)\n",
    "    \n",
    "    for inputs, labels in train_loader:\n",
    "        counter += 1\n",
    "        h = tuple([e.data for e in h])\n",
    "        inputs, labels = inputs.to(device), labels.to(device)\n",
    "        model.zero_grad()\n",
    "        output, h = model(inputs, h)\n",
    "        loss = criterion(output.unsqueeze(1), labels.float())\n",
    "        loss.backward()\n",
    "        #nn.utils.clip_grad_norm_(model.parameters(), clip)\n",
    "        optimizer.step()\n",
    "        \n",
    "        if counter%print_every == 0:\n",
    "            val_h = model.init_hidden(BATCH_SIZE)\n",
    "            val_losses = []\n",
    "            model.eval()\n",
    "            for inp, lab in test_loader:\n",
    "                val_h = tuple([each.data for each in val_h])\n",
    "                inp, lab = inp.to(device), lab.to(device)\n",
    "                out, val_h = model(inp, val_h)\n",
    "                val_loss = criterion(out.unsqueeze(1), lab.float())\n",
    "                val_losses.append(val_loss.item())\n",
    "                \n",
    "            model.train()\n",
    "            print(\"Epoch: {}/{}...\".format(i+1, epochs),\n",
    "                  \"Step: {}...\".format(counter),\n",
    "                  \"Loss: {:.6f}...\".format(loss.item()),\n",
    "                  \"Val Loss: {:.6f}\".format(np.mean(val_losses)))\n",
    "            if np.mean(val_losses) <= valid_loss_min:\n",
    "                torch.save(model.state_dict(), './state_dict.pt')\n",
    "                print('Validation loss decreased ({:.6f} --> {:.6f}).  Saving model ...'.format(valid_loss_min,np.mean(val_losses)))\n",
    "                valid_loss_min = np.mean(val_losses)"
   ]
  },
  {
   "cell_type": "code",
   "execution_count": 23,
   "id": "cc8a18b8",
   "metadata": {
    "execution": {
     "iopub.execute_input": "2021-09-02T15:01:28.397663Z",
     "iopub.status.busy": "2021-09-02T15:01:28.396240Z",
     "iopub.status.idle": "2021-09-02T15:01:28.399420Z",
     "shell.execute_reply": "2021-09-02T15:01:28.398995Z",
     "shell.execute_reply.started": "2021-09-02T09:37:05.681543Z"
    },
    "papermill": {
     "duration": 0.041262,
     "end_time": "2021-09-02T15:01:28.399536",
     "exception": false,
     "start_time": "2021-09-02T15:01:28.358274",
     "status": "completed"
    },
    "tags": []
   },
   "outputs": [],
   "source": [
    "h = model.init_hidden(1)"
   ]
  },
  {
   "cell_type": "code",
   "execution_count": 24,
   "id": "5df2c5b1",
   "metadata": {
    "execution": {
     "iopub.execute_input": "2021-09-02T15:01:28.466993Z",
     "iopub.status.busy": "2021-09-02T15:01:28.466420Z",
     "iopub.status.idle": "2021-09-02T15:01:28.508332Z",
     "shell.execute_reply": "2021-09-02T15:01:28.508788Z",
     "shell.execute_reply.started": "2021-09-02T09:37:06.656678Z"
    },
    "papermill": {
     "duration": 0.077316,
     "end_time": "2021-09-02T15:01:28.508948",
     "exception": false,
     "start_time": "2021-09-02T15:01:28.431632",
     "status": "completed"
    },
    "tags": []
   },
   "outputs": [
    {
     "name": "stdout",
     "output_type": "stream",
     "text": [
      "tensor([[ 0,  0,  0,  0,  0,  0,  0,  0,  0,  0,  0,  0,  0,  0,  0,  0,  0,  0,\n",
      "          0,  0,  0,  0,  0,  0,  0,  0,  0,  0,  9, 98]], device='cuda:0',\n",
      "       dtype=torch.int32)\n"
     ]
    },
    {
     "data": {
      "text/plain": [
       "tensor([0.5040], device='cuda:0', grad_fn=<SelectBackward>)"
      ]
     },
     "execution_count": 24,
     "metadata": {},
     "output_type": "execute_result"
    }
   ],
   "source": [
    "sentence = \"I love my life\"\n",
    "trial = torch.tensor(pad_sequences(tokenizer.texts_to_sequences([sentence]), maxlen = MAX_SEQUENCE_LENGTH)).to(device)\n",
    "print(trial)\n",
    "\n",
    "model(trial, h)[0]"
   ]
  },
  {
   "cell_type": "code",
   "execution_count": 25,
   "id": "909b9461",
   "metadata": {
    "execution": {
     "iopub.execute_input": "2021-09-02T15:01:28.577140Z",
     "iopub.status.busy": "2021-09-02T15:01:28.576578Z",
     "iopub.status.idle": "2021-09-02T15:01:28.748239Z",
     "shell.execute_reply": "2021-09-02T15:01:28.747752Z",
     "shell.execute_reply.started": "2021-09-02T09:38:10.355516Z"
    },
    "papermill": {
     "duration": 0.207913,
     "end_time": "2021-09-02T15:01:28.748365",
     "exception": false,
     "start_time": "2021-09-02T15:01:28.540452",
     "status": "completed"
    },
    "tags": []
   },
   "outputs": [
    {
     "name": "stderr",
     "output_type": "stream",
     "text": [
      "/opt/conda/lib/python3.7/site-packages/ipykernel_launcher.py:19: TracerWarning: Converting a tensor to a Python index might cause the trace to be incorrect. We can't record the data flow of Python values, so this value will be treated as a constant in the future. This means that the trace might not generalize to other inputs!\n",
      "/opt/conda/lib/python3.7/site-packages/torch/onnx/symbolic_opset9.py:1805: UserWarning: Exporting a model to ONNX with a batch_size other than 1, with a variable length with LSTM can cause an error when running the ONNX model with a different batch size. Make sure to save the model with a batch size of 1, or define the initial states (h0/c0) as inputs of the model. \n",
      "  \"or define the initial states (h0/c0) as inputs of the model. \")\n"
     ]
    }
   ],
   "source": [
    "import torch.onnx\n",
    "torch.onnx.export(model,               # model being run\n",
    "                  (trial, (torch.randn(12,1,45).to(device), torch.randn(12,1,45).to(device))),                   # model input (or a tuple for multiple inputs)\n",
    "                  \"lstm-PT.onnx\")"
   ]
  }
 ],
 "metadata": {
  "kernelspec": {
   "display_name": "Python 3",
   "language": "python",
   "name": "python3"
  },
  "language_info": {
   "codemirror_mode": {
    "name": "ipython",
    "version": 3
   },
   "file_extension": ".py",
   "mimetype": "text/x-python",
   "name": "python",
   "nbconvert_exporter": "python",
   "pygments_lexer": "ipython3",
   "version": "3.7.10"
  },
  "papermill": {
   "default_parameters": {},
   "duration": 902.881285,
   "end_time": "2021-09-02T15:01:31.618764",
   "environment_variables": {},
   "exception": null,
   "input_path": "__notebook__.ipynb",
   "output_path": "__notebook__.ipynb",
   "parameters": {},
   "start_time": "2021-09-02T14:46:28.737479",
   "version": "2.3.3"
  }
 },
 "nbformat": 4,
 "nbformat_minor": 5
}
