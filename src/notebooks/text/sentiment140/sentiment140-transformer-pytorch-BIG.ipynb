{
 "cells": [
  {
   "cell_type": "code",
   "execution_count": 1,
   "id": "8f5720b9",
   "metadata": {
    "_cell_guid": "79c7e3d0-c299-4dcb-8224-4455121ee9b0",
    "_uuid": "d629ff2d2480ee46fbb7e2d37f6b5fab8052498a",
    "execution": {
     "iopub.execute_input": "2021-12-09T12:27:25.778252Z",
     "iopub.status.busy": "2021-12-09T12:27:25.777612Z",
     "iopub.status.idle": "2021-12-09T12:27:33.076668Z",
     "shell.execute_reply": "2021-12-09T12:27:33.077118Z",
     "shell.execute_reply.started": "2021-12-08T21:20:29.493378Z"
    },
    "papermill": {
     "duration": 7.334925,
     "end_time": "2021-12-09T12:27:33.077379",
     "exception": false,
     "start_time": "2021-12-09T12:27:25.742454",
     "status": "completed"
    },
    "tags": []
   },
   "outputs": [
    {
     "name": "stdout",
     "output_type": "stream",
     "text": [
      "[nltk_data] Downloading package stopwords to /usr/share/nltk_data...\n",
      "[nltk_data]   Unzipping corpora/stopwords.zip.\n"
     ]
    }
   ],
   "source": [
    "import numpy as np\n",
    "import pandas as pd\n",
    "from torch import nn\n",
    "\n",
    "import matplotlib.pyplot as plt\n",
    "import seaborn as sns\n",
    "\n",
    "import torch.nn.functional as F\n",
    "\n",
    "import re\n",
    "import string\n",
    "from collections import Counter\n",
    "from nltk.corpus import stopwords\n",
    "stop_words = set(stopwords.words('english'))\n",
    "\n",
    "from sklearn.model_selection import train_test_split\n",
    "\n",
    "import torch\n",
    "from torch.utils.data import DataLoader, TensorDataset\n",
    "import torch.nn as nn\n",
    "\n",
    "import pandas as pd\n",
    "import numpy as np\n",
    "import bz2\n",
    "import matplotlib.pyplot as plt\n",
    "import sklearn\n",
    "import tensorflow as tf\n",
    "from tensorflow.keras import models, layers, optimizers\n",
    "from tensorflow.keras.preprocessing.text import Tokenizer, text_to_word_sequence\n",
    "from tensorflow.keras.preprocessing.sequence import pad_sequences\n",
    "from sklearn.preprocessing import LabelEncoder\n",
    "\n",
    "%matplotlib inline\n",
    "\n",
    "import nltk \n",
    "nltk.download('stopwords')\n",
    "from nltk.corpus import stopwords\n",
    "from nltk.stem import SnowballStemmer"
   ]
  },
  {
   "cell_type": "code",
   "execution_count": 2,
   "id": "cf9821bd",
   "metadata": {
    "execution": {
     "iopub.execute_input": "2021-12-09T12:27:33.117387Z",
     "iopub.status.busy": "2021-12-09T12:27:33.116596Z",
     "iopub.status.idle": "2021-12-09T12:27:33.119459Z",
     "shell.execute_reply": "2021-12-09T12:27:33.118981Z",
     "shell.execute_reply.started": "2021-12-08T21:20:36.834834Z"
    },
    "papermill": {
     "duration": 0.023386,
     "end_time": "2021-12-09T12:27:33.119569",
     "exception": false,
     "start_time": "2021-12-09T12:27:33.096183",
     "status": "completed"
    },
    "tags": []
   },
   "outputs": [],
   "source": [
    "device = \"cuda:0\""
   ]
  },
  {
   "cell_type": "code",
   "execution_count": 3,
   "id": "d71bcb68",
   "metadata": {
    "execution": {
     "iopub.execute_input": "2021-12-09T12:27:33.157179Z",
     "iopub.status.busy": "2021-12-09T12:27:33.156610Z",
     "iopub.status.idle": "2021-12-09T12:27:38.658923Z",
     "shell.execute_reply": "2021-12-09T12:27:38.658476Z",
     "shell.execute_reply.started": "2021-12-08T21:20:36.84162Z"
    },
    "papermill": {
     "duration": 5.52256,
     "end_time": "2021-12-09T12:27:38.659062",
     "exception": false,
     "start_time": "2021-12-09T12:27:33.136502",
     "status": "completed"
    },
    "tags": []
   },
   "outputs": [
    {
     "data": {
      "text/html": [
       "<div>\n",
       "<style scoped>\n",
       "    .dataframe tbody tr th:only-of-type {\n",
       "        vertical-align: middle;\n",
       "    }\n",
       "\n",
       "    .dataframe tbody tr th {\n",
       "        vertical-align: top;\n",
       "    }\n",
       "\n",
       "    .dataframe thead th {\n",
       "        text-align: right;\n",
       "    }\n",
       "</style>\n",
       "<table border=\"1\" class=\"dataframe\">\n",
       "  <thead>\n",
       "    <tr style=\"text-align: right;\">\n",
       "      <th></th>\n",
       "      <th>0</th>\n",
       "      <th>1</th>\n",
       "      <th>2</th>\n",
       "      <th>3</th>\n",
       "      <th>4</th>\n",
       "      <th>5</th>\n",
       "    </tr>\n",
       "  </thead>\n",
       "  <tbody>\n",
       "    <tr>\n",
       "      <th>0</th>\n",
       "      <td>0</td>\n",
       "      <td>1467810369</td>\n",
       "      <td>Mon Apr 06 22:19:45 PDT 2009</td>\n",
       "      <td>NO_QUERY</td>\n",
       "      <td>_TheSpecialOne_</td>\n",
       "      <td>@switchfoot http://twitpic.com/2y1zl - Awww, t...</td>\n",
       "    </tr>\n",
       "    <tr>\n",
       "      <th>1</th>\n",
       "      <td>0</td>\n",
       "      <td>1467810672</td>\n",
       "      <td>Mon Apr 06 22:19:49 PDT 2009</td>\n",
       "      <td>NO_QUERY</td>\n",
       "      <td>scotthamilton</td>\n",
       "      <td>is upset that he can't update his Facebook by ...</td>\n",
       "    </tr>\n",
       "    <tr>\n",
       "      <th>2</th>\n",
       "      <td>0</td>\n",
       "      <td>1467810917</td>\n",
       "      <td>Mon Apr 06 22:19:53 PDT 2009</td>\n",
       "      <td>NO_QUERY</td>\n",
       "      <td>mattycus</td>\n",
       "      <td>@Kenichan I dived many times for the ball. Man...</td>\n",
       "    </tr>\n",
       "    <tr>\n",
       "      <th>3</th>\n",
       "      <td>0</td>\n",
       "      <td>1467811184</td>\n",
       "      <td>Mon Apr 06 22:19:57 PDT 2009</td>\n",
       "      <td>NO_QUERY</td>\n",
       "      <td>ElleCTF</td>\n",
       "      <td>my whole body feels itchy and like its on fire</td>\n",
       "    </tr>\n",
       "    <tr>\n",
       "      <th>4</th>\n",
       "      <td>0</td>\n",
       "      <td>1467811193</td>\n",
       "      <td>Mon Apr 06 22:19:57 PDT 2009</td>\n",
       "      <td>NO_QUERY</td>\n",
       "      <td>Karoli</td>\n",
       "      <td>@nationwideclass no, it's not behaving at all....</td>\n",
       "    </tr>\n",
       "  </tbody>\n",
       "</table>\n",
       "</div>"
      ],
      "text/plain": [
       "   0           1                             2         3                4  \\\n",
       "0  0  1467810369  Mon Apr 06 22:19:45 PDT 2009  NO_QUERY  _TheSpecialOne_   \n",
       "1  0  1467810672  Mon Apr 06 22:19:49 PDT 2009  NO_QUERY    scotthamilton   \n",
       "2  0  1467810917  Mon Apr 06 22:19:53 PDT 2009  NO_QUERY         mattycus   \n",
       "3  0  1467811184  Mon Apr 06 22:19:57 PDT 2009  NO_QUERY          ElleCTF   \n",
       "4  0  1467811193  Mon Apr 06 22:19:57 PDT 2009  NO_QUERY           Karoli   \n",
       "\n",
       "                                                   5  \n",
       "0  @switchfoot http://twitpic.com/2y1zl - Awww, t...  \n",
       "1  is upset that he can't update his Facebook by ...  \n",
       "2  @Kenichan I dived many times for the ball. Man...  \n",
       "3    my whole body feels itchy and like its on fire   \n",
       "4  @nationwideclass no, it's not behaving at all....  "
      ]
     },
     "execution_count": 3,
     "metadata": {},
     "output_type": "execute_result"
    }
   ],
   "source": [
    "df = pd.read_csv('../input/sentiment140/training.1600000.processed.noemoticon.csv',\n",
    "                 encoding = 'latin',header=None)\n",
    "df.head()"
   ]
  },
  {
   "cell_type": "code",
   "execution_count": 4,
   "id": "76d1e295",
   "metadata": {
    "execution": {
     "iopub.execute_input": "2021-12-09T12:27:38.707700Z",
     "iopub.status.busy": "2021-12-09T12:27:38.707074Z",
     "iopub.status.idle": "2021-12-09T12:27:38.710735Z",
     "shell.execute_reply": "2021-12-09T12:27:38.711162Z",
     "shell.execute_reply.started": "2021-12-08T21:20:42.779936Z"
    },
    "papermill": {
     "duration": 0.034191,
     "end_time": "2021-12-09T12:27:38.711297",
     "exception": false,
     "start_time": "2021-12-09T12:27:38.677106",
     "status": "completed"
    },
    "tags": []
   },
   "outputs": [
    {
     "data": {
      "text/html": [
       "<div>\n",
       "<style scoped>\n",
       "    .dataframe tbody tr th:only-of-type {\n",
       "        vertical-align: middle;\n",
       "    }\n",
       "\n",
       "    .dataframe tbody tr th {\n",
       "        vertical-align: top;\n",
       "    }\n",
       "\n",
       "    .dataframe thead th {\n",
       "        text-align: right;\n",
       "    }\n",
       "</style>\n",
       "<table border=\"1\" class=\"dataframe\">\n",
       "  <thead>\n",
       "    <tr style=\"text-align: right;\">\n",
       "      <th></th>\n",
       "      <th>sentiment</th>\n",
       "      <th>id</th>\n",
       "      <th>date</th>\n",
       "      <th>query</th>\n",
       "      <th>user_id</th>\n",
       "      <th>text</th>\n",
       "    </tr>\n",
       "  </thead>\n",
       "  <tbody>\n",
       "    <tr>\n",
       "      <th>0</th>\n",
       "      <td>0</td>\n",
       "      <td>1467810369</td>\n",
       "      <td>Mon Apr 06 22:19:45 PDT 2009</td>\n",
       "      <td>NO_QUERY</td>\n",
       "      <td>_TheSpecialOne_</td>\n",
       "      <td>@switchfoot http://twitpic.com/2y1zl - Awww, t...</td>\n",
       "    </tr>\n",
       "    <tr>\n",
       "      <th>1</th>\n",
       "      <td>0</td>\n",
       "      <td>1467810672</td>\n",
       "      <td>Mon Apr 06 22:19:49 PDT 2009</td>\n",
       "      <td>NO_QUERY</td>\n",
       "      <td>scotthamilton</td>\n",
       "      <td>is upset that he can't update his Facebook by ...</td>\n",
       "    </tr>\n",
       "    <tr>\n",
       "      <th>2</th>\n",
       "      <td>0</td>\n",
       "      <td>1467810917</td>\n",
       "      <td>Mon Apr 06 22:19:53 PDT 2009</td>\n",
       "      <td>NO_QUERY</td>\n",
       "      <td>mattycus</td>\n",
       "      <td>@Kenichan I dived many times for the ball. Man...</td>\n",
       "    </tr>\n",
       "    <tr>\n",
       "      <th>3</th>\n",
       "      <td>0</td>\n",
       "      <td>1467811184</td>\n",
       "      <td>Mon Apr 06 22:19:57 PDT 2009</td>\n",
       "      <td>NO_QUERY</td>\n",
       "      <td>ElleCTF</td>\n",
       "      <td>my whole body feels itchy and like its on fire</td>\n",
       "    </tr>\n",
       "    <tr>\n",
       "      <th>4</th>\n",
       "      <td>0</td>\n",
       "      <td>1467811193</td>\n",
       "      <td>Mon Apr 06 22:19:57 PDT 2009</td>\n",
       "      <td>NO_QUERY</td>\n",
       "      <td>Karoli</td>\n",
       "      <td>@nationwideclass no, it's not behaving at all....</td>\n",
       "    </tr>\n",
       "  </tbody>\n",
       "</table>\n",
       "</div>"
      ],
      "text/plain": [
       "   sentiment          id                          date     query  \\\n",
       "0          0  1467810369  Mon Apr 06 22:19:45 PDT 2009  NO_QUERY   \n",
       "1          0  1467810672  Mon Apr 06 22:19:49 PDT 2009  NO_QUERY   \n",
       "2          0  1467810917  Mon Apr 06 22:19:53 PDT 2009  NO_QUERY   \n",
       "3          0  1467811184  Mon Apr 06 22:19:57 PDT 2009  NO_QUERY   \n",
       "4          0  1467811193  Mon Apr 06 22:19:57 PDT 2009  NO_QUERY   \n",
       "\n",
       "           user_id                                               text  \n",
       "0  _TheSpecialOne_  @switchfoot http://twitpic.com/2y1zl - Awww, t...  \n",
       "1    scotthamilton  is upset that he can't update his Facebook by ...  \n",
       "2         mattycus  @Kenichan I dived many times for the ball. Man...  \n",
       "3          ElleCTF    my whole body feels itchy and like its on fire   \n",
       "4           Karoli  @nationwideclass no, it's not behaving at all....  "
      ]
     },
     "execution_count": 4,
     "metadata": {},
     "output_type": "execute_result"
    }
   ],
   "source": [
    "df.columns = ['sentiment', 'id', 'date', 'query', 'user_id', 'text']\n",
    "df.head()"
   ]
  },
  {
   "cell_type": "code",
   "execution_count": 5,
   "id": "f047be38",
   "metadata": {
    "execution": {
     "iopub.execute_input": "2021-12-09T12:27:38.783373Z",
     "iopub.status.busy": "2021-12-09T12:27:38.762846Z",
     "iopub.status.idle": "2021-12-09T12:27:38.785905Z",
     "shell.execute_reply": "2021-12-09T12:27:38.785502Z",
     "shell.execute_reply.started": "2021-12-08T21:20:42.797882Z"
    },
    "papermill": {
     "duration": 0.05693,
     "end_time": "2021-12-09T12:27:38.786053",
     "exception": false,
     "start_time": "2021-12-09T12:27:38.729123",
     "status": "completed"
    },
    "tags": []
   },
   "outputs": [],
   "source": [
    "df = df.drop(['id', 'date', 'query', 'user_id'], axis=1)"
   ]
  },
  {
   "cell_type": "code",
   "execution_count": 6,
   "id": "08575f3a",
   "metadata": {
    "execution": {
     "iopub.execute_input": "2021-12-09T12:27:38.859038Z",
     "iopub.status.busy": "2021-12-09T12:27:38.858237Z",
     "iopub.status.idle": "2021-12-09T12:27:39.319502Z",
     "shell.execute_reply": "2021-12-09T12:27:39.319043Z",
     "shell.execute_reply.started": "2021-12-08T21:20:42.837857Z"
    },
    "papermill": {
     "duration": 0.515916,
     "end_time": "2021-12-09T12:27:39.319627",
     "exception": false,
     "start_time": "2021-12-09T12:27:38.803711",
     "status": "completed"
    },
    "tags": []
   },
   "outputs": [
    {
     "data": {
      "text/html": [
       "<div>\n",
       "<style scoped>\n",
       "    .dataframe tbody tr th:only-of-type {\n",
       "        vertical-align: middle;\n",
       "    }\n",
       "\n",
       "    .dataframe tbody tr th {\n",
       "        vertical-align: top;\n",
       "    }\n",
       "\n",
       "    .dataframe thead th {\n",
       "        text-align: right;\n",
       "    }\n",
       "</style>\n",
       "<table border=\"1\" class=\"dataframe\">\n",
       "  <thead>\n",
       "    <tr style=\"text-align: right;\">\n",
       "      <th></th>\n",
       "      <th>sentiment</th>\n",
       "      <th>text</th>\n",
       "    </tr>\n",
       "  </thead>\n",
       "  <tbody>\n",
       "    <tr>\n",
       "      <th>0</th>\n",
       "      <td>Negative</td>\n",
       "      <td>@switchfoot http://twitpic.com/2y1zl - Awww, t...</td>\n",
       "    </tr>\n",
       "    <tr>\n",
       "      <th>1</th>\n",
       "      <td>Negative</td>\n",
       "      <td>is upset that he can't update his Facebook by ...</td>\n",
       "    </tr>\n",
       "    <tr>\n",
       "      <th>2</th>\n",
       "      <td>Negative</td>\n",
       "      <td>@Kenichan I dived many times for the ball. Man...</td>\n",
       "    </tr>\n",
       "    <tr>\n",
       "      <th>3</th>\n",
       "      <td>Negative</td>\n",
       "      <td>my whole body feels itchy and like its on fire</td>\n",
       "    </tr>\n",
       "    <tr>\n",
       "      <th>4</th>\n",
       "      <td>Negative</td>\n",
       "      <td>@nationwideclass no, it's not behaving at all....</td>\n",
       "    </tr>\n",
       "  </tbody>\n",
       "</table>\n",
       "</div>"
      ],
      "text/plain": [
       "  sentiment                                               text\n",
       "0  Negative  @switchfoot http://twitpic.com/2y1zl - Awww, t...\n",
       "1  Negative  is upset that he can't update his Facebook by ...\n",
       "2  Negative  @Kenichan I dived many times for the ball. Man...\n",
       "3  Negative    my whole body feels itchy and like its on fire \n",
       "4  Negative  @nationwideclass no, it's not behaving at all...."
      ]
     },
     "execution_count": 6,
     "metadata": {},
     "output_type": "execute_result"
    }
   ],
   "source": [
    "lab_to_sentiment = {0:\"Negative\", 4:\"Positive\"}\n",
    "def label_decoder(label):\n",
    "  return lab_to_sentiment[label]\n",
    "df.sentiment = df.sentiment.apply(lambda x: label_decoder(x))\n",
    "df.head()"
   ]
  },
  {
   "cell_type": "code",
   "execution_count": 7,
   "id": "0eee5b6e",
   "metadata": {
    "execution": {
     "iopub.execute_input": "2021-12-09T12:27:39.662274Z",
     "iopub.status.busy": "2021-12-09T12:27:39.661434Z",
     "iopub.status.idle": "2021-12-09T12:27:39.819212Z",
     "shell.execute_reply": "2021-12-09T12:27:39.818758Z",
     "shell.execute_reply.started": "2021-12-08T21:20:43.355646Z"
    },
    "papermill": {
     "duration": 0.481129,
     "end_time": "2021-12-09T12:27:39.819338",
     "exception": false,
     "start_time": "2021-12-09T12:27:39.338209",
     "status": "completed"
    },
    "tags": []
   },
   "outputs": [
    {
     "data": {
      "text/plain": [
       "Text(0.5, 1.0, 'Sentiment Data Distribution')"
      ]
     },
     "execution_count": 7,
     "metadata": {},
     "output_type": "execute_result"
    },
    {
     "data": {
      "image/png": "[encoded data removed]",
      "text/plain": [
       "<Figure size 576x288 with 1 Axes>"
      ]
     },
     "metadata": {
      "needs_background": "light"
     },
     "output_type": "display_data"
    }
   ],
   "source": [
    "val_count = df.sentiment.value_counts()\n",
    "\n",
    "plt.figure(figsize=(8,4))\n",
    "plt.bar(val_count.index, val_count.values)\n",
    "plt.title(\"Sentiment Data Distribution\")"
   ]
  },
  {
   "cell_type": "code",
   "execution_count": 8,
   "id": "a5ee7f13",
   "metadata": {
    "execution": {
     "iopub.execute_input": "2021-12-09T12:27:39.862799Z",
     "iopub.status.busy": "2021-12-09T12:27:39.861839Z",
     "iopub.status.idle": "2021-12-09T12:27:39.985391Z",
     "shell.execute_reply": "2021-12-09T12:27:39.984949Z",
     "shell.execute_reply.started": "2021-12-08T21:20:43.800168Z"
    },
    "papermill": {
     "duration": 0.147193,
     "end_time": "2021-12-09T12:27:39.985521",
     "exception": false,
     "start_time": "2021-12-09T12:27:39.838328",
     "status": "completed"
    },
    "tags": []
   },
   "outputs": [
    {
     "data": {
      "text/html": [
       "<div>\n",
       "<style scoped>\n",
       "    .dataframe tbody tr th:only-of-type {\n",
       "        vertical-align: middle;\n",
       "    }\n",
       "\n",
       "    .dataframe tbody tr th {\n",
       "        vertical-align: top;\n",
       "    }\n",
       "\n",
       "    .dataframe thead th {\n",
       "        text-align: right;\n",
       "    }\n",
       "</style>\n",
       "<table border=\"1\" class=\"dataframe\">\n",
       "  <thead>\n",
       "    <tr style=\"text-align: right;\">\n",
       "      <th></th>\n",
       "      <th>sentiment</th>\n",
       "      <th>text</th>\n",
       "    </tr>\n",
       "  </thead>\n",
       "  <tbody>\n",
       "    <tr>\n",
       "      <th>771068</th>\n",
       "      <td>Negative</td>\n",
       "      <td>China's 2,000 years ahead of us....</td>\n",
       "    </tr>\n",
       "    <tr>\n",
       "      <th>931838</th>\n",
       "      <td>Positive</td>\n",
       "      <td>happy to see  our blog followers growing reall...</td>\n",
       "    </tr>\n",
       "    <tr>\n",
       "      <th>266999</th>\n",
       "      <td>Negative</td>\n",
       "      <td>Is a little sad that people are leaving.. and ...</td>\n",
       "    </tr>\n",
       "    <tr>\n",
       "      <th>778513</th>\n",
       "      <td>Negative</td>\n",
       "      <td>My back hurts...</td>\n",
       "    </tr>\n",
       "    <tr>\n",
       "      <th>645178</th>\n",
       "      <td>Negative</td>\n",
       "      <td>My &amp;quot;earphones&amp;quot; to my iPod went &amp;quot...</td>\n",
       "    </tr>\n",
       "    <tr>\n",
       "      <th>1039569</th>\n",
       "      <td>Positive</td>\n",
       "      <td>Absolutely @BeautifulBasket</td>\n",
       "    </tr>\n",
       "    <tr>\n",
       "      <th>1186996</th>\n",
       "      <td>Positive</td>\n",
       "      <td>@dougiemcfly oh that's good ^^  the place I mo...</td>\n",
       "    </tr>\n",
       "    <tr>\n",
       "      <th>531882</th>\n",
       "      <td>Negative</td>\n",
       "      <td>@TristanAdrian Well, there are two pairs of le...</td>\n",
       "    </tr>\n",
       "    <tr>\n",
       "      <th>134427</th>\n",
       "      <td>Negative</td>\n",
       "      <td>@kesouthall looks like a very wet evening ahead</td>\n",
       "    </tr>\n",
       "    <tr>\n",
       "      <th>595168</th>\n",
       "      <td>Negative</td>\n",
       "      <td>Just finished our picnic at botanics and im at...</td>\n",
       "    </tr>\n",
       "  </tbody>\n",
       "</table>\n",
       "</div>"
      ],
      "text/plain": [
       "        sentiment                                               text\n",
       "771068   Negative               China's 2,000 years ahead of us.... \n",
       "931838   Positive  happy to see  our blog followers growing reall...\n",
       "266999   Negative  Is a little sad that people are leaving.. and ...\n",
       "778513   Negative                                  My back hurts... \n",
       "645178   Negative  My &quot;earphones&quot; to my iPod went &quot...\n",
       "1039569  Positive                       Absolutely @BeautifulBasket \n",
       "1186996  Positive  @dougiemcfly oh that's good ^^  the place I mo...\n",
       "531882   Negative  @TristanAdrian Well, there are two pairs of le...\n",
       "134427   Negative   @kesouthall looks like a very wet evening ahead \n",
       "595168   Negative  Just finished our picnic at botanics and im at..."
      ]
     },
     "execution_count": 8,
     "metadata": {},
     "output_type": "execute_result"
    }
   ],
   "source": [
    "import random\n",
    "random_idx_list = [random.randint(1,len(df.text)) for i in range(10)] # creates random indexes to choose from dataframe\n",
    "df.loc[random_idx_list,:].head(10) # Returns the rows with the index and display it"
   ]
  },
  {
   "cell_type": "code",
   "execution_count": 9,
   "id": "cc45a217",
   "metadata": {
    "execution": {
     "iopub.execute_input": "2021-12-09T12:27:40.029622Z",
     "iopub.status.busy": "2021-12-09T12:27:40.028961Z",
     "iopub.status.idle": "2021-12-09T12:27:40.032168Z",
     "shell.execute_reply": "2021-12-09T12:27:40.031676Z",
     "shell.execute_reply.started": "2021-12-08T21:20:43.933435Z"
    },
    "papermill": {
     "duration": 0.026808,
     "end_time": "2021-12-09T12:27:40.032281",
     "exception": false,
     "start_time": "2021-12-09T12:27:40.005473",
     "status": "completed"
    },
    "tags": []
   },
   "outputs": [],
   "source": [
    "stop_words = stopwords.words('english')\n",
    "stemmer = SnowballStemmer('english')\n",
    "\n",
    "text_cleaning_re = \"@\\S+|https?:\\S+|http?:\\S|[^A-Za-z0-9]+\""
   ]
  },
  {
   "cell_type": "code",
   "execution_count": 10,
   "id": "810e7d41",
   "metadata": {
    "execution": {
     "iopub.execute_input": "2021-12-09T12:27:40.077203Z",
     "iopub.status.busy": "2021-12-09T12:27:40.076627Z",
     "iopub.status.idle": "2021-12-09T12:27:40.080217Z",
     "shell.execute_reply": "2021-12-09T12:27:40.079785Z",
     "shell.execute_reply.started": "2021-12-08T21:20:43.94009Z"
    },
    "papermill": {
     "duration": 0.028042,
     "end_time": "2021-12-09T12:27:40.080327",
     "exception": false,
     "start_time": "2021-12-09T12:27:40.052285",
     "status": "completed"
    },
    "tags": []
   },
   "outputs": [],
   "source": [
    "def preprocess(text, stem=False):\n",
    "  text = re.sub(text_cleaning_re, ' ', str(text).lower()).strip()\n",
    "  tokens = []\n",
    "  for token in text.split():\n",
    "    if token not in stop_words:\n",
    "      if stem:\n",
    "        tokens.append(stemmer.stem(token))\n",
    "      else:\n",
    "        tokens.append(token)\n",
    "  return \" \".join(tokens)"
   ]
  },
  {
   "cell_type": "code",
   "execution_count": 11,
   "id": "9f5c9d6f",
   "metadata": {
    "execution": {
     "iopub.execute_input": "2021-12-09T12:27:40.123724Z",
     "iopub.status.busy": "2021-12-09T12:27:40.122838Z",
     "iopub.status.idle": "2021-12-09T12:28:39.621931Z",
     "shell.execute_reply": "2021-12-09T12:28:39.621467Z",
     "shell.execute_reply.started": "2021-12-08T21:20:43.950341Z"
    },
    "papermill": {
     "duration": 59.52219,
     "end_time": "2021-12-09T12:28:39.622090",
     "exception": false,
     "start_time": "2021-12-09T12:27:40.099900",
     "status": "completed"
    },
    "tags": []
   },
   "outputs": [],
   "source": [
    "df.text = df.text.apply(lambda x: preprocess(x))"
   ]
  },
  {
   "cell_type": "markdown",
   "id": "992bd9d7",
   "metadata": {
    "papermill": {
     "duration": 0.021361,
     "end_time": "2021-12-09T12:28:39.663000",
     "exception": false,
     "start_time": "2021-12-09T12:28:39.641639",
     "status": "completed"
    },
    "tags": []
   },
   "source": [
    "## Train and Test Split"
   ]
  },
  {
   "cell_type": "code",
   "execution_count": 12,
   "id": "00a0cb2b",
   "metadata": {
    "execution": {
     "iopub.execute_input": "2021-12-09T12:28:39.707620Z",
     "iopub.status.busy": "2021-12-09T12:28:39.706854Z",
     "iopub.status.idle": "2021-12-09T12:28:39.709505Z",
     "shell.execute_reply": "2021-12-09T12:28:39.709101Z",
     "shell.execute_reply.started": "2021-12-08T21:21:43.004301Z"
    },
    "papermill": {
     "duration": 0.025836,
     "end_time": "2021-12-09T12:28:39.709615",
     "exception": false,
     "start_time": "2021-12-09T12:28:39.683779",
     "status": "completed"
    },
    "tags": []
   },
   "outputs": [],
   "source": [
    "TRAIN_SIZE = 0.8 \n",
    "MAX_NB_WORDS = 100000\n",
    "MAX_SEQUENCE_LENGTH = 30\n",
    "EMBEDDING_DIM = 10\n",
    "LR = 1e-3\n",
    "BATCH_SIZE = 50\n",
    "EPOCHS = 10"
   ]
  },
  {
   "cell_type": "code",
   "execution_count": 13,
   "id": "67d478e9",
   "metadata": {
    "execution": {
     "iopub.execute_input": "2021-12-09T12:28:39.752594Z",
     "iopub.status.busy": "2021-12-09T12:28:39.751830Z",
     "iopub.status.idle": "2021-12-09T12:28:40.167982Z",
     "shell.execute_reply": "2021-12-09T12:28:40.168630Z",
     "shell.execute_reply.started": "2021-12-08T21:21:43.010795Z"
    },
    "papermill": {
     "duration": 0.4403,
     "end_time": "2021-12-09T12:28:40.168836",
     "exception": false,
     "start_time": "2021-12-09T12:28:39.728536",
     "status": "completed"
    },
    "tags": []
   },
   "outputs": [
    {
     "name": "stdout",
     "output_type": "stream",
     "text": [
      "Train Data size: 1280000\n",
      "Test Data size 320000\n"
     ]
    }
   ],
   "source": [
    "train_data, test_data = train_test_split(df, test_size=1-TRAIN_SIZE,\n",
    "                                         random_state=7) # Splits Dataset into Training and Testing set\n",
    "print(\"Train Data size:\", len(train_data))\n",
    "print(\"Test Data size\", len(test_data))"
   ]
  },
  {
   "cell_type": "code",
   "execution_count": 14,
   "id": "6e0354e8",
   "metadata": {
    "execution": {
     "iopub.execute_input": "2021-12-09T12:28:40.213765Z",
     "iopub.status.busy": "2021-12-09T12:28:40.213102Z",
     "iopub.status.idle": "2021-12-09T12:28:58.224178Z",
     "shell.execute_reply": "2021-12-09T12:28:58.223343Z",
     "shell.execute_reply.started": "2021-12-08T21:21:43.451906Z"
    },
    "papermill": {
     "duration": 18.034702,
     "end_time": "2021-12-09T12:28:58.224312",
     "exception": false,
     "start_time": "2021-12-09T12:28:40.189610",
     "status": "completed"
    },
    "tags": []
   },
   "outputs": [
    {
     "name": "stdout",
     "output_type": "stream",
     "text": [
      "Vocabulary Size : 290575\n"
     ]
    }
   ],
   "source": [
    "from keras.preprocessing.text import Tokenizer\n",
    "\n",
    "tokenizer = Tokenizer()\n",
    "tokenizer.fit_on_texts(train_data.text)\n",
    "\n",
    "word_index = tokenizer.word_index\n",
    "vocab_size = len(tokenizer.word_index) + 1\n",
    "print(\"Vocabulary Size :\", vocab_size)"
   ]
  },
  {
   "cell_type": "code",
   "execution_count": 15,
   "id": "85cb8e8c",
   "metadata": {
    "execution": {
     "iopub.execute_input": "2021-12-09T12:28:58.270147Z",
     "iopub.status.busy": "2021-12-09T12:28:58.269345Z",
     "iopub.status.idle": "2021-12-09T12:29:28.502464Z",
     "shell.execute_reply": "2021-12-09T12:29:28.503089Z",
     "shell.execute_reply.started": "2021-12-08T21:22:01.329561Z"
    },
    "papermill": {
     "duration": 30.258552,
     "end_time": "2021-12-09T12:29:28.503298",
     "exception": false,
     "start_time": "2021-12-09T12:28:58.244746",
     "status": "completed"
    },
    "tags": []
   },
   "outputs": [
    {
     "name": "stdout",
     "output_type": "stream",
     "text": [
      "Training X Shape: (1280000, 30)\n",
      "Testing X Shape: (320000, 30)\n",
      "<class 'numpy.ndarray'>\n",
      "<class 'numpy.ndarray'>\n"
     ]
    }
   ],
   "source": [
    "from keras.preprocessing.sequence import pad_sequences\n",
    "\n",
    "x_train = pad_sequences(tokenizer.texts_to_sequences(train_data.text),\n",
    "                        maxlen = MAX_SEQUENCE_LENGTH)\n",
    "x_test = pad_sequences(tokenizer.texts_to_sequences(test_data.text),\n",
    "                       maxlen = MAX_SEQUENCE_LENGTH)\n",
    "\n",
    "print(\"Training X Shape:\",x_train.shape)\n",
    "print(\"Testing X Shape:\",x_test.shape)\n",
    "\n",
    "print(type(x_train))\n",
    "print(type(x_test))"
   ]
  },
  {
   "cell_type": "code",
   "execution_count": 16,
   "id": "01513e0a",
   "metadata": {
    "execution": {
     "iopub.execute_input": "2021-12-09T12:29:28.613549Z",
     "iopub.status.busy": "2021-12-09T12:29:28.612740Z",
     "iopub.status.idle": "2021-12-09T12:29:28.648007Z",
     "shell.execute_reply": "2021-12-09T12:29:28.648423Z",
     "shell.execute_reply.started": "2021-12-08T21:22:32.218368Z"
    },
    "papermill": {
     "duration": 0.123675,
     "end_time": "2021-12-09T12:29:28.648574",
     "exception": false,
     "start_time": "2021-12-09T12:29:28.524899",
     "status": "completed"
    },
    "tags": []
   },
   "outputs": [],
   "source": [
    "labels = train_data.sentiment.unique().tolist()"
   ]
  },
  {
   "cell_type": "code",
   "execution_count": 17,
   "id": "ae385588",
   "metadata": {
    "execution": {
     "iopub.execute_input": "2021-12-09T12:29:28.969007Z",
     "iopub.status.busy": "2021-12-09T12:29:28.863051Z",
     "iopub.status.idle": "2021-12-09T12:29:29.891670Z",
     "shell.execute_reply": "2021-12-09T12:29:29.892368Z",
     "shell.execute_reply.started": "2021-12-08T21:22:32.314085Z"
    },
    "papermill": {
     "duration": 1.222915,
     "end_time": "2021-12-09T12:29:29.892576",
     "exception": false,
     "start_time": "2021-12-09T12:29:28.669661",
     "status": "completed"
    },
    "tags": []
   },
   "outputs": [
    {
     "name": "stdout",
     "output_type": "stream",
     "text": [
      "y_train shape: (1280000, 1)\n",
      "y_test shape: (320000, 1)\n"
     ]
    }
   ],
   "source": [
    "encoder = LabelEncoder()\n",
    "encoder.fit(train_data.sentiment.to_list())\n",
    "\n",
    "y_train = encoder.transform(train_data.sentiment.to_list())\n",
    "y_test = encoder.transform(test_data.sentiment.to_list())\n",
    "\n",
    "y_train = y_train.reshape(-1,1)\n",
    "y_test = y_test.reshape(-1,1)\n",
    "\n",
    "train_data = TensorDataset(torch.from_numpy(x_train), torch.from_numpy(y_train))\n",
    "test_data = TensorDataset(torch.from_numpy(x_test), torch.from_numpy(y_test))\n",
    "\n",
    "train_loader = DataLoader(train_data, shuffle=True, batch_size=BATCH_SIZE, drop_last = True)\n",
    "test_loader = DataLoader(test_data, shuffle=True, batch_size=BATCH_SIZE, drop_last = True)\n",
    "\n",
    "print(\"y_train shape:\", y_train.shape)\n",
    "print(\"y_test shape:\", y_test.shape)"
   ]
  },
  {
   "cell_type": "code",
   "execution_count": 18,
   "id": "9db72759",
   "metadata": {
    "execution": {
     "iopub.execute_input": "2021-12-09T12:29:29.952934Z",
     "iopub.status.busy": "2021-12-09T12:29:29.951911Z",
     "iopub.status.idle": "2021-12-09T12:29:29.954370Z",
     "shell.execute_reply": "2021-12-09T12:29:29.954946Z",
     "shell.execute_reply.started": "2021-12-08T21:22:33.529097Z"
    },
    "papermill": {
     "duration": 0.039001,
     "end_time": "2021-12-09T12:29:29.955104",
     "exception": false,
     "start_time": "2021-12-09T12:29:29.916103",
     "status": "completed"
    },
    "tags": []
   },
   "outputs": [],
   "source": [
    "class PositionalEncoding(nn.Module):\n",
    "\n",
    "    def __init__(self, d_model, dropout=0.1, max_len=5000):\n",
    "        super(PositionalEncoding, self).__init__()\n",
    "        self.dropout = nn.Dropout(p=dropout)\n",
    "\n",
    "        pe = torch.zeros(max_len, d_model)\n",
    "        position = torch.arange(0, max_len, dtype=torch.float).unsqueeze(1)\n",
    "        div_term = torch.exp(torch.arange(0, d_model, 2).float() * (-math.log(10000.0) / d_model))\n",
    "        pe[:, 0::2] = torch.sin(position * div_term)\n",
    "        pe[:, 1::2] = torch.cos(position * div_term)\n",
    "        pe = pe.unsqueeze(0).transpose(0, 1)\n",
    "        self.register_buffer('pe', pe)\n",
    "\n",
    "    def forward(self, x):\n",
    "        x = x + self.pe[:x.size(0), :]\n",
    "        return self.dropout(x)\n",
    "    \n",
    "class SentimentNet(nn.Module):\n",
    "    def __init__(self, vocab_size, output_size, embedding_dim, hidden_dim, n_layers, drop_prob=0.2):\n",
    "        super(SentimentNet, self).__init__()\n",
    "        self.output_size = output_size\n",
    "        self.n_layers = n_layers\n",
    "        self.hidden_dim = hidden_dim\n",
    "        self.dropout = nn.Dropout(drop_prob)\n",
    "        self.embedding_dim = embedding_dim\n",
    "        self.sigmoid = nn.Sigmoid()\n",
    "        \n",
    "        \n",
    "        self.encoder = nn.Embedding(vocab_size, embedding_dim)\n",
    "        self.pos_encoder = PositionalEncoding(embedding_dim, drop_prob)\n",
    "        encoder_layer = nn.TransformerEncoderLayer(embedding_dim, 2, hidden_dim)\n",
    "        self.transformer_encoder = nn.TransformerEncoder(encoder_layer, num_layers=n_layers)\n",
    "        \n",
    "\n",
    "        self.fc = nn.Linear(embedding_dim * 30 , 1)\n",
    "\n",
    "    \n",
    "    def forward(self, src):\n",
    "        src = self.encoder(src) * math.sqrt(self.embedding_dim)\n",
    "        src = self.pos_encoder(src)\n",
    "        output = self.transformer_encoder(src)\n",
    "        output = output.view(output.size(0), -1)\n",
    "        output = self.sigmoid(self.fc(output))\n",
    "        return output"
   ]
  },
  {
   "cell_type": "code",
   "execution_count": 19,
   "id": "bfb55519",
   "metadata": {
    "execution": {
     "iopub.execute_input": "2021-12-09T12:29:30.004368Z",
     "iopub.status.busy": "2021-12-09T12:29:30.003721Z",
     "iopub.status.idle": "2021-12-09T12:29:30.006441Z",
     "shell.execute_reply": "2021-12-09T12:29:30.005999Z",
     "shell.execute_reply.started": "2021-12-08T21:22:33.544023Z"
    },
    "papermill": {
     "duration": 0.028926,
     "end_time": "2021-12-09T12:29:30.006545",
     "exception": false,
     "start_time": "2021-12-09T12:29:29.977619",
     "status": "completed"
    },
    "tags": []
   },
   "outputs": [],
   "source": [
    "def model_params(model):\n",
    "    pp=0\n",
    "    for p in list(model.parameters()):\n",
    "        nn=1\n",
    "        for s in list(p.size()):\n",
    "            nn = nn*s\n",
    "        pp += nn\n",
    "    return pp"
   ]
  },
  {
   "cell_type": "code",
   "execution_count": 20,
   "id": "a7854d19",
   "metadata": {
    "execution": {
     "iopub.execute_input": "2021-12-09T12:29:30.056431Z",
     "iopub.status.busy": "2021-12-09T12:29:30.055804Z",
     "iopub.status.idle": "2021-12-09T12:29:35.957174Z",
     "shell.execute_reply": "2021-12-09T12:29:35.957787Z",
     "shell.execute_reply.started": "2021-12-08T21:22:33.557558Z"
    },
    "papermill": {
     "duration": 5.930458,
     "end_time": "2021-12-09T12:29:35.957994",
     "exception": false,
     "start_time": "2021-12-09T12:29:30.027536",
     "status": "completed"
    },
    "tags": []
   },
   "outputs": [
    {
     "name": "stdout",
     "output_type": "stream",
     "text": [
      "2915347\n"
     ]
    }
   ],
   "source": [
    "import math\n",
    "\n",
    "output_size = 1\n",
    "embedding_dim = 10\n",
    "hidden_dim = 32\n",
    "n_layers = 8\n",
    "\n",
    "model = SentimentNet(vocab_size, output_size, embedding_dim, hidden_dim, n_layers)\n",
    "model.to(device)\n",
    "print(model_params(model))\n",
    "lr=0.01\n",
    "criterion = nn.BCELoss()\n",
    "optimizer = torch.optim.Adam(model.parameters(), lr=lr)"
   ]
  },
  {
   "cell_type": "code",
   "execution_count": 21,
   "id": "38c9f730",
   "metadata": {
    "execution": {
     "iopub.execute_input": "2021-12-09T12:29:36.010821Z",
     "iopub.status.busy": "2021-12-09T12:29:36.010209Z",
     "iopub.status.idle": "2021-12-09T15:14:34.803995Z",
     "shell.execute_reply": "2021-12-09T15:14:34.804468Z",
     "shell.execute_reply.started": "2021-12-08T21:22:39.586111Z"
    },
    "papermill": {
     "duration": 9898.824828,
     "end_time": "2021-12-09T15:14:34.804640",
     "exception": false,
     "start_time": "2021-12-09T12:29:35.979812",
     "status": "completed"
    },
    "tags": []
   },
   "outputs": [
    {
     "name": "stdout",
     "output_type": "stream",
     "text": [
      "Epoch: 1/3... Step: 500... Loss: 0.685469... Val Loss: 0.693171\n",
      "Validation loss decreased (inf --> 0.693171).  Saving model ...\n",
      "Epoch: 1/3... Step: 1000... Loss: 0.691736... Val Loss: 0.694409\n",
      "Epoch: 1/3... Step: 1500... Loss: 0.688246... Val Loss: 0.695066\n",
      "Epoch: 1/3... Step: 2000... Loss: 0.695853... Val Loss: 0.693167\n",
      "Validation loss decreased (0.693171 --> 0.693167).  Saving model ...\n",
      "Epoch: 1/3... Step: 2500... Loss: 0.691928... Val Loss: 0.693221\n",
      "Epoch: 1/3... Step: 3000... Loss: 0.694219... Val Loss: 0.693141\n",
      "Validation loss decreased (0.693167 --> 0.693141).  Saving model ...\n",
      "Epoch: 1/3... Step: 3500... Loss: 0.693135... Val Loss: 0.693202\n",
      "Epoch: 1/3... Step: 4000... Loss: 0.702958... Val Loss: 0.695196\n",
      "Epoch: 1/3... Step: 4500... Loss: 0.692442... Val Loss: 0.693174\n",
      "Epoch: 1/3... Step: 5000... Loss: 0.696472... Val Loss: 0.693330\n",
      "Epoch: 1/3... Step: 5500... Loss: 0.691332... Val Loss: 0.693226\n",
      "Epoch: 1/3... Step: 6000... Loss: 0.693227... Val Loss: 0.693244\n",
      "Epoch: 1/3... Step: 6500... Loss: 0.692663... Val Loss: 0.696092\n",
      "Epoch: 1/3... Step: 7000... Loss: 0.697262... Val Loss: 0.693153\n",
      "Epoch: 1/3... Step: 7500... Loss: 0.696846... Val Loss: 0.698246\n",
      "Epoch: 1/3... Step: 8000... Loss: 0.692317... Val Loss: 0.693343\n",
      "Epoch: 1/3... Step: 8500... Loss: 0.698176... Val Loss: 0.693411\n",
      "Epoch: 1/3... Step: 9000... Loss: 0.694328... Val Loss: 0.693190\n",
      "Epoch: 1/3... Step: 9500... Loss: 0.694485... Val Loss: 0.693191\n",
      "Epoch: 1/3... Step: 10000... Loss: 0.680360... Val Loss: 0.694023\n",
      "Epoch: 1/3... Step: 10500... Loss: 0.694635... Val Loss: 0.693218\n",
      "Epoch: 1/3... Step: 11000... Loss: 0.701970... Val Loss: 0.694698\n",
      "Epoch: 1/3... Step: 11500... Loss: 0.692063... Val Loss: 0.693142\n",
      "Epoch: 1/3... Step: 12000... Loss: 0.691983... Val Loss: 0.693170\n",
      "Epoch: 1/3... Step: 12500... Loss: 0.689979... Val Loss: 0.693497\n",
      "Epoch: 1/3... Step: 13000... Loss: 0.696827... Val Loss: 0.693634\n",
      "Epoch: 1/3... Step: 13500... Loss: 0.689664... Val Loss: 0.693142\n",
      "Epoch: 1/3... Step: 14000... Loss: 0.694638... Val Loss: 0.693378\n",
      "Epoch: 1/3... Step: 14500... Loss: 0.692581... Val Loss: 0.693360\n",
      "Epoch: 1/3... Step: 15000... Loss: 0.693074... Val Loss: 0.693146\n",
      "Epoch: 1/3... Step: 15500... Loss: 0.692708... Val Loss: 0.693614\n",
      "Epoch: 1/3... Step: 16000... Loss: 0.702345... Val Loss: 0.693959\n",
      "Epoch: 1/3... Step: 16500... Loss: 0.699532... Val Loss: 0.693172\n",
      "Epoch: 1/3... Step: 17000... Loss: 0.694182... Val Loss: 0.693217\n",
      "Epoch: 1/3... Step: 17500... Loss: 0.693809... Val Loss: 0.693516\n",
      "Epoch: 1/3... Step: 18000... Loss: 0.707088... Val Loss: 0.694481\n",
      "Epoch: 1/3... Step: 18500... Loss: 0.692388... Val Loss: 0.693185\n",
      "Epoch: 1/3... Step: 19000... Loss: 0.696254... Val Loss: 0.693863\n",
      "Epoch: 1/3... Step: 19500... Loss: 0.693351... Val Loss: 0.694375\n",
      "Epoch: 1/3... Step: 20000... Loss: 0.717233... Val Loss: 0.706737\n",
      "Epoch: 1/3... Step: 20500... Loss: 0.692406... Val Loss: 0.693199\n",
      "Epoch: 1/3... Step: 21000... Loss: 0.691360... Val Loss: 0.693365\n",
      "Epoch: 1/3... Step: 21500... Loss: 0.694963... Val Loss: 0.693205\n",
      "Epoch: 1/3... Step: 22000... Loss: 0.693518... Val Loss: 0.693588\n",
      "Epoch: 1/3... Step: 22500... Loss: 0.690717... Val Loss: 0.693279\n",
      "Epoch: 1/3... Step: 23000... Loss: 0.693491... Val Loss: 0.693162\n",
      "Epoch: 1/3... Step: 23500... Loss: 0.693326... Val Loss: 0.694216\n",
      "Epoch: 1/3... Step: 24000... Loss: 0.695592... Val Loss: 0.693649\n",
      "Epoch: 1/3... Step: 24500... Loss: 0.696604... Val Loss: 0.693536\n",
      "Epoch: 1/3... Step: 25000... Loss: 0.693202... Val Loss: 0.693142\n",
      "Epoch: 1/3... Step: 25500... Loss: 0.690286... Val Loss: 0.695339\n",
      "Epoch: 2/3... Step: 26000... Loss: 0.690752... Val Loss: 0.693423\n",
      "Epoch: 2/3... Step: 26500... Loss: 0.680737... Val Loss: 0.695615\n",
      "Epoch: 2/3... Step: 27000... Loss: 0.688854... Val Loss: 0.695580\n",
      "Epoch: 2/3... Step: 27500... Loss: 0.699410... Val Loss: 0.693407\n",
      "Epoch: 2/3... Step: 28000... Loss: 0.691313... Val Loss: 0.693668\n",
      "Epoch: 2/3... Step: 28500... Loss: 0.691261... Val Loss: 0.693596\n",
      "Epoch: 2/3... Step: 29000... Loss: 0.691290... Val Loss: 0.693741\n",
      "Epoch: 2/3... Step: 29500... Loss: 0.695226... Val Loss: 0.693167\n",
      "Epoch: 2/3... Step: 30000... Loss: 0.719909... Val Loss: 0.695154\n",
      "Epoch: 2/3... Step: 30500... Loss: 0.696983... Val Loss: 0.693148\n",
      "Epoch: 2/3... Step: 31000... Loss: 0.694554... Val Loss: 0.693240\n",
      "Epoch: 2/3... Step: 31500... Loss: 0.699256... Val Loss: 0.693319\n",
      "Epoch: 2/3... Step: 32000... Loss: 0.682517... Val Loss: 0.695811\n",
      "Epoch: 2/3... Step: 32500... Loss: 0.688858... Val Loss: 0.693293\n",
      "Epoch: 2/3... Step: 33000... Loss: 0.696309... Val Loss: 0.693153\n",
      "Epoch: 2/3... Step: 33500... Loss: 0.693388... Val Loss: 0.693147\n",
      "Epoch: 2/3... Step: 34000... Loss: 0.694575... Val Loss: 0.693279\n",
      "Epoch: 2/3... Step: 34500... Loss: 0.702650... Val Loss: 0.695195\n",
      "Epoch: 2/3... Step: 35000... Loss: 0.689314... Val Loss: 0.699061\n",
      "Epoch: 2/3... Step: 35500... Loss: 0.690788... Val Loss: 0.693151\n",
      "Epoch: 2/3... Step: 36000... Loss: 0.696163... Val Loss: 0.694485\n",
      "Epoch: 2/3... Step: 36500... Loss: 0.690495... Val Loss: 0.693580\n",
      "Epoch: 2/3... Step: 37000... Loss: 0.697556... Val Loss: 0.694033\n",
      "Epoch: 2/3... Step: 37500... Loss: 0.694487... Val Loss: 0.693708\n",
      "Epoch: 2/3... Step: 38000... Loss: 0.693593... Val Loss: 0.693145\n",
      "Epoch: 2/3... Step: 38500... Loss: 0.694402... Val Loss: 0.693781\n",
      "Epoch: 2/3... Step: 39000... Loss: 0.693021... Val Loss: 0.693398\n",
      "Epoch: 2/3... Step: 39500... Loss: 0.695908... Val Loss: 0.693143\n",
      "Epoch: 2/3... Step: 40000... Loss: 0.693185... Val Loss: 0.693157\n",
      "Epoch: 2/3... Step: 40500... Loss: 0.695896... Val Loss: 0.693270\n",
      "Epoch: 2/3... Step: 41000... Loss: 0.690896... Val Loss: 0.693488\n",
      "Epoch: 2/3... Step: 41500... Loss: 0.694352... Val Loss: 0.693881\n",
      "Epoch: 2/3... Step: 42000... Loss: 0.696120... Val Loss: 0.693947\n",
      "Epoch: 2/3... Step: 42500... Loss: 0.700275... Val Loss: 0.695120\n",
      "Epoch: 2/3... Step: 43000... Loss: 0.691864... Val Loss: 0.693165\n",
      "Epoch: 2/3... Step: 43500... Loss: 0.690875... Val Loss: 0.693383\n",
      "Epoch: 2/3... Step: 44000... Loss: 0.694924... Val Loss: 0.693244\n",
      "Epoch: 2/3... Step: 44500... Loss: 0.690703... Val Loss: 0.698666\n",
      "Epoch: 2/3... Step: 45000... Loss: 0.688137... Val Loss: 0.693429\n",
      "Epoch: 2/3... Step: 45500... Loss: 0.693139... Val Loss: 0.693611\n",
      "Epoch: 2/3... Step: 46000... Loss: 0.693328... Val Loss: 0.693147\n",
      "Epoch: 2/3... Step: 46500... Loss: 0.695104... Val Loss: 0.693756\n",
      "Epoch: 2/3... Step: 47000... Loss: 0.691577... Val Loss: 0.693250\n",
      "Epoch: 2/3... Step: 47500... Loss: 0.694602... Val Loss: 0.693145\n",
      "Epoch: 2/3... Step: 48000... Loss: 0.693599... Val Loss: 0.693162\n",
      "Epoch: 2/3... Step: 48500... Loss: 0.694528... Val Loss: 0.693527\n",
      "Epoch: 2/3... Step: 49000... Loss: 0.701628... Val Loss: 0.694044\n",
      "Epoch: 2/3... Step: 49500... Loss: 0.704262... Val Loss: 0.694462\n",
      "Epoch: 2/3... Step: 50000... Loss: 0.693839... Val Loss: 0.693153\n",
      "Epoch: 2/3... Step: 50500... Loss: 0.696640... Val Loss: 0.693228\n",
      "Epoch: 2/3... Step: 51000... Loss: 0.697529... Val Loss: 0.693192\n",
      "Epoch: 3/3... Step: 51500... Loss: 0.694483... Val Loss: 0.694088\n",
      "Epoch: 3/3... Step: 52000... Loss: 0.692710... Val Loss: 0.693141\n",
      "Epoch: 3/3... Step: 52500... Loss: 0.716198... Val Loss: 0.704704\n",
      "Epoch: 3/3... Step: 53000... Loss: 0.698459... Val Loss: 0.695696\n",
      "Epoch: 3/3... Step: 53500... Loss: 0.692343... Val Loss: 0.693232\n",
      "Epoch: 3/3... Step: 54000... Loss: 0.692785... Val Loss: 0.693152\n",
      "Epoch: 3/3... Step: 54500... Loss: 0.693585... Val Loss: 0.693271\n",
      "Epoch: 3/3... Step: 55000... Loss: 0.697243... Val Loss: 0.693974\n",
      "Epoch: 3/3... Step: 55500... Loss: 0.691320... Val Loss: 0.693472\n",
      "Epoch: 3/3... Step: 56000... Loss: 0.690744... Val Loss: 0.693322\n",
      "Epoch: 3/3... Step: 56500... Loss: 0.695344... Val Loss: 0.694986\n",
      "Epoch: 3/3... Step: 57000... Loss: 0.700960... Val Loss: 0.693729\n",
      "Epoch: 3/3... Step: 57500... Loss: 0.690182... Val Loss: 0.693366\n",
      "Epoch: 3/3... Step: 58000... Loss: 0.693457... Val Loss: 0.697271\n",
      "Epoch: 3/3... Step: 58500... Loss: 0.692796... Val Loss: 0.693223\n",
      "Epoch: 3/3... Step: 59000... Loss: 0.692598... Val Loss: 0.693339\n",
      "Epoch: 3/3... Step: 59500... Loss: 0.698585... Val Loss: 0.693440\n",
      "Epoch: 3/3... Step: 60000... Loss: 0.686788... Val Loss: 0.693288\n",
      "Epoch: 3/3... Step: 60500... Loss: 0.697219... Val Loss: 0.693142\n",
      "Epoch: 3/3... Step: 61000... Loss: 0.694458... Val Loss: 0.693163\n",
      "Epoch: 3/3... Step: 61500... Loss: 0.693865... Val Loss: 0.693901\n",
      "Epoch: 3/3... Step: 62000... Loss: 0.692197... Val Loss: 0.693176\n",
      "Epoch: 3/3... Step: 62500... Loss: 0.705459... Val Loss: 0.693514\n",
      "Epoch: 3/3... Step: 63000... Loss: 0.695094... Val Loss: 0.693343\n",
      "Epoch: 3/3... Step: 63500... Loss: 0.729228... Val Loss: 0.700268\n",
      "Epoch: 3/3... Step: 64000... Loss: 0.712519... Val Loss: 0.695277\n",
      "Epoch: 3/3... Step: 64500... Loss: 0.693087... Val Loss: 0.693155\n",
      "Epoch: 3/3... Step: 65000... Loss: 0.682651... Val Loss: 0.697122\n",
      "Epoch: 3/3... Step: 65500... Loss: 0.690635... Val Loss: 0.693920\n",
      "Epoch: 3/3... Step: 66000... Loss: 0.704067... Val Loss: 0.696049\n",
      "Epoch: 3/3... Step: 66500... Loss: 0.697225... Val Loss: 0.693853\n",
      "Epoch: 3/3... Step: 67000... Loss: 0.693815... Val Loss: 0.693234\n",
      "Epoch: 3/3... Step: 67500... Loss: 0.697586... Val Loss: 0.693449\n",
      "Epoch: 3/3... Step: 68000... Loss: 0.693415... Val Loss: 0.693159\n",
      "Epoch: 3/3... Step: 68500... Loss: 0.694408... Val Loss: 0.697617\n",
      "Epoch: 3/3... Step: 69000... Loss: 0.692214... Val Loss: 0.699643\n",
      "Epoch: 3/3... Step: 69500... Loss: 0.691052... Val Loss: 0.693243\n",
      "Epoch: 3/3... Step: 70000... Loss: 0.692560... Val Loss: 0.693167\n",
      "Epoch: 3/3... Step: 70500... Loss: 0.691577... Val Loss: 0.693141\n",
      "Validation loss decreased (0.693141 --> 0.693141).  Saving model ...\n",
      "Epoch: 3/3... Step: 71000... Loss: 0.692097... Val Loss: 0.693193\n",
      "Epoch: 3/3... Step: 71500... Loss: 0.694392... Val Loss: 0.693372\n",
      "Epoch: 3/3... Step: 72000... Loss: 0.692278... Val Loss: 0.693182\n",
      "Epoch: 3/3... Step: 72500... Loss: 0.701270... Val Loss: 0.693695\n",
      "Epoch: 3/3... Step: 73000... Loss: 0.685916... Val Loss: 0.693425\n",
      "Epoch: 3/3... Step: 73500... Loss: 0.692888... Val Loss: 0.693275\n",
      "Epoch: 3/3... Step: 74000... Loss: 0.691928... Val Loss: 0.693370\n",
      "Epoch: 3/3... Step: 74500... Loss: 0.693403... Val Loss: 0.693283\n",
      "Epoch: 3/3... Step: 75000... Loss: 0.692972... Val Loss: 0.693193\n",
      "Epoch: 3/3... Step: 75500... Loss: 0.691306... Val Loss: 0.696821\n",
      "Epoch: 3/3... Step: 76000... Loss: 0.698055... Val Loss: 0.694138\n",
      "Epoch: 3/3... Step: 76500... Loss: 0.712826... Val Loss: 0.695394\n"
     ]
    }
   ],
   "source": [
    "epochs = 3\n",
    "counter = 0\n",
    "print_every = 500\n",
    "clip = 5\n",
    "valid_loss_min = np.Inf\n",
    "\n",
    "model.train()\n",
    "for i in range(epochs):\n",
    "    \n",
    "    for inputs, labels in train_loader:\n",
    "        counter += 1\n",
    "        inputs, labels = inputs.to(device), labels.to(device)\n",
    "        model.zero_grad()\n",
    "        output = model(inputs.long())\n",
    "        \n",
    "        loss = criterion(output, labels.float())\n",
    "        \n",
    "        \n",
    "        loss.backward()\n",
    "        #nn.utils.clip_grad_norm_(model.parameters(), clip)\n",
    "        optimizer.step()\n",
    "        \n",
    "        if counter%print_every == 0:\n",
    "            val_losses = []\n",
    "            model.eval()\n",
    "            for inp, lab in test_loader:\n",
    "                inp, lab = inp.to(device), lab.to(device)\n",
    "                out = model(inp.long())\n",
    "                val_loss = criterion(out, lab.float())\n",
    "                val_losses.append(val_loss.item())\n",
    "                \n",
    "            model.train()\n",
    "            print(\"Epoch: {}/{}...\".format(i+1, epochs),\n",
    "                  \"Step: {}...\".format(counter),\n",
    "                  \"Loss: {:.6f}...\".format(loss.item()),\n",
    "                  \"Val Loss: {:.6f}\".format(np.mean(val_losses)))\n",
    "            if np.mean(val_losses) <= valid_loss_min:\n",
    "                torch.save(model.state_dict(), './state_dict.pt')\n",
    "                print('Validation loss decreased ({:.6f} --> {:.6f}).  Saving model ...'.format(valid_loss_min,np.mean(val_losses)))\n",
    "                valid_loss_min = np.mean(val_losses)"
   ]
  },
  {
   "cell_type": "code",
   "execution_count": 22,
   "id": "0739b5d2",
   "metadata": {
    "execution": {
     "iopub.execute_input": "2021-12-09T15:14:34.931621Z",
     "iopub.status.busy": "2021-12-09T15:14:34.930802Z",
     "iopub.status.idle": "2021-12-09T15:14:34.980167Z",
     "shell.execute_reply": "2021-12-09T15:14:34.981189Z"
    },
    "papermill": {
     "duration": 0.115308,
     "end_time": "2021-12-09T15:14:34.981407",
     "exception": false,
     "start_time": "2021-12-09T15:14:34.866099",
     "status": "completed"
    },
    "tags": []
   },
   "outputs": [
    {
     "data": {
      "text/plain": [
       "tensor([[0.5156]], device='cuda:0', grad_fn=<SigmoidBackward>)"
      ]
     },
     "execution_count": 22,
     "metadata": {},
     "output_type": "execute_result"
    }
   ],
   "source": [
    "sentence = \"I love you\"\n",
    "trial = torch.tensor(pad_sequences(tokenizer.texts_to_sequences([sentence]), maxlen = MAX_SEQUENCE_LENGTH)).long().to(device)\n",
    "\n",
    "model(trial)"
   ]
  },
  {
   "cell_type": "code",
   "execution_count": 23,
   "id": "3bd20f9b",
   "metadata": {
    "execution": {
     "iopub.execute_input": "2021-12-09T15:14:35.195409Z",
     "iopub.status.busy": "2021-12-09T15:14:35.194568Z",
     "iopub.status.idle": "2021-12-09T15:14:36.975376Z",
     "shell.execute_reply": "2021-12-09T15:14:36.974419Z"
    },
    "papermill": {
     "duration": 1.888663,
     "end_time": "2021-12-09T15:14:36.975528",
     "exception": false,
     "start_time": "2021-12-09T15:14:35.086865",
     "status": "completed"
    },
    "tags": []
   },
   "outputs": [
    {
     "name": "stderr",
     "output_type": "stream",
     "text": [
      "/opt/conda/lib/python3.7/site-packages/ipykernel_launcher.py:16: TracerWarning: Converting a tensor to a Python index might cause the trace to be incorrect. We can't record the data flow of Python values, so this value will be treated as a constant in the future. This means that the trace might not generalize to other inputs!\n",
      "  app.launch_new_instance()\n"
     ]
    }
   ],
   "source": [
    "import torch.onnx\n",
    "torch.onnx.export(model,               # model being run\n",
    "                  trial,                  # model input (or a tuple for multiple inputs)\n",
    "                  \"transformer-imdb.onnx\", opset_version = 11)"
   ]
  }
 ],
 "metadata": {
  "kernelspec": {
   "display_name": "Python 3",
   "language": "python",
   "name": "python3"
  },
  "language_info": {
   "codemirror_mode": {
    "name": "ipython",
    "version": 3
   },
   "file_extension": ".py",
   "mimetype": "text/x-python",
   "name": "python",
   "nbconvert_exporter": "python",
   "pygments_lexer": "ipython3",
   "version": "3.7.10"
  },
  "papermill": {
   "default_parameters": {},
   "duration": 10040.364166,
   "end_time": "2021-12-09T15:14:39.527258",
   "environment_variables": {},
   "exception": null,
   "input_path": "__notebook__.ipynb",
   "output_path": "__notebook__.ipynb",
   "parameters": {},
   "start_time": "2021-12-09T12:27:19.163092",
   "version": "2.3.3"
  }
 },
 "nbformat": 4,
 "nbformat_minor": 5
}
