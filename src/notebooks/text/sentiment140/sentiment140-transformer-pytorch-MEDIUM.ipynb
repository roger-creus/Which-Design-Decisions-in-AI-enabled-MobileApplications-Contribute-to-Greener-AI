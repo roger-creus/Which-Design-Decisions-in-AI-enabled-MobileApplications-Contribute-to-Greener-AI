{
 "cells": [
  {
   "cell_type": "code",
   "execution_count": 1,
   "id": "331a3a77",
   "metadata": {
    "_cell_guid": "79c7e3d0-c299-4dcb-8224-4455121ee9b0",
    "_uuid": "d629ff2d2480ee46fbb7e2d37f6b5fab8052498a",
    "execution": {
     "iopub.execute_input": "2021-12-09T10:52:42.736369Z",
     "iopub.status.busy": "2021-12-09T10:52:42.734702Z",
     "iopub.status.idle": "2021-12-09T10:52:49.896640Z",
     "shell.execute_reply": "2021-12-09T10:52:49.896071Z",
     "shell.execute_reply.started": "2021-12-08T21:20:29.493378Z"
    },
    "papermill": {
     "duration": 7.184903,
     "end_time": "2021-12-09T10:52:49.896789",
     "exception": false,
     "start_time": "2021-12-09T10:52:42.711886",
     "status": "completed"
    },
    "tags": []
   },
   "outputs": [
    {
     "name": "stdout",
     "output_type": "stream",
     "text": [
      "[nltk_data] Downloading package stopwords to /usr/share/nltk_data...\n",
      "[nltk_data]   Unzipping corpora/stopwords.zip.\n"
     ]
    }
   ],
   "source": [
    "import numpy as np\n",
    "import pandas as pd\n",
    "from torch import nn\n",
    "\n",
    "import matplotlib.pyplot as plt\n",
    "import seaborn as sns\n",
    "\n",
    "import torch.nn.functional as F\n",
    "\n",
    "import re\n",
    "import string\n",
    "from collections import Counter\n",
    "from nltk.corpus import stopwords\n",
    "stop_words = set(stopwords.words('english'))\n",
    "\n",
    "from sklearn.model_selection import train_test_split\n",
    "\n",
    "import torch\n",
    "from torch.utils.data import DataLoader, TensorDataset\n",
    "import torch.nn as nn\n",
    "\n",
    "import pandas as pd\n",
    "import numpy as np\n",
    "import bz2\n",
    "import matplotlib.pyplot as plt\n",
    "import sklearn\n",
    "import tensorflow as tf\n",
    "from tensorflow.keras import models, layers, optimizers\n",
    "from tensorflow.keras.preprocessing.text import Tokenizer, text_to_word_sequence\n",
    "from tensorflow.keras.preprocessing.sequence import pad_sequences\n",
    "from sklearn.preprocessing import LabelEncoder\n",
    "\n",
    "%matplotlib inline\n",
    "\n",
    "import nltk \n",
    "nltk.download('stopwords')\n",
    "from nltk.corpus import stopwords\n",
    "from nltk.stem import SnowballStemmer"
   ]
  },
  {
   "cell_type": "code",
   "execution_count": 2,
   "id": "b97b3c87",
   "metadata": {
    "execution": {
     "iopub.execute_input": "2021-12-09T10:52:49.935267Z",
     "iopub.status.busy": "2021-12-09T10:52:49.934739Z",
     "iopub.status.idle": "2021-12-09T10:52:49.938560Z",
     "shell.execute_reply": "2021-12-09T10:52:49.938140Z",
     "shell.execute_reply.started": "2021-12-08T21:20:36.834834Z"
    },
    "papermill": {
     "duration": 0.024251,
     "end_time": "2021-12-09T10:52:49.938672",
     "exception": false,
     "start_time": "2021-12-09T10:52:49.914421",
     "status": "completed"
    },
    "tags": []
   },
   "outputs": [],
   "source": [
    "device = \"cuda:0\""
   ]
  },
  {
   "cell_type": "code",
   "execution_count": 3,
   "id": "070e34f7",
   "metadata": {
    "execution": {
     "iopub.execute_input": "2021-12-09T10:52:49.976672Z",
     "iopub.status.busy": "2021-12-09T10:52:49.976128Z",
     "iopub.status.idle": "2021-12-09T10:52:56.243313Z",
     "shell.execute_reply": "2021-12-09T10:52:56.243765Z",
     "shell.execute_reply.started": "2021-12-08T21:20:36.84162Z"
    },
    "papermill": {
     "duration": 6.288411,
     "end_time": "2021-12-09T10:52:56.243918",
     "exception": false,
     "start_time": "2021-12-09T10:52:49.955507",
     "status": "completed"
    },
    "tags": []
   },
   "outputs": [
    {
     "data": {
      "text/html": [
       "<div>\n",
       "<style scoped>\n",
       "    .dataframe tbody tr th:only-of-type {\n",
       "        vertical-align: middle;\n",
       "    }\n",
       "\n",
       "    .dataframe tbody tr th {\n",
       "        vertical-align: top;\n",
       "    }\n",
       "\n",
       "    .dataframe thead th {\n",
       "        text-align: right;\n",
       "    }\n",
       "</style>\n",
       "<table border=\"1\" class=\"dataframe\">\n",
       "  <thead>\n",
       "    <tr style=\"text-align: right;\">\n",
       "      <th></th>\n",
       "      <th>0</th>\n",
       "      <th>1</th>\n",
       "      <th>2</th>\n",
       "      <th>3</th>\n",
       "      <th>4</th>\n",
       "      <th>5</th>\n",
       "    </tr>\n",
       "  </thead>\n",
       "  <tbody>\n",
       "    <tr>\n",
       "      <th>0</th>\n",
       "      <td>0</td>\n",
       "      <td>1467810369</td>\n",
       "      <td>Mon Apr 06 22:19:45 PDT 2009</td>\n",
       "      <td>NO_QUERY</td>\n",
       "      <td>_TheSpecialOne_</td>\n",
       "      <td>@switchfoot http://twitpic.com/2y1zl - Awww, t...</td>\n",
       "    </tr>\n",
       "    <tr>\n",
       "      <th>1</th>\n",
       "      <td>0</td>\n",
       "      <td>1467810672</td>\n",
       "      <td>Mon Apr 06 22:19:49 PDT 2009</td>\n",
       "      <td>NO_QUERY</td>\n",
       "      <td>scotthamilton</td>\n",
       "      <td>is upset that he can't update his Facebook by ...</td>\n",
       "    </tr>\n",
       "    <tr>\n",
       "      <th>2</th>\n",
       "      <td>0</td>\n",
       "      <td>1467810917</td>\n",
       "      <td>Mon Apr 06 22:19:53 PDT 2009</td>\n",
       "      <td>NO_QUERY</td>\n",
       "      <td>mattycus</td>\n",
       "      <td>@Kenichan I dived many times for the ball. Man...</td>\n",
       "    </tr>\n",
       "    <tr>\n",
       "      <th>3</th>\n",
       "      <td>0</td>\n",
       "      <td>1467811184</td>\n",
       "      <td>Mon Apr 06 22:19:57 PDT 2009</td>\n",
       "      <td>NO_QUERY</td>\n",
       "      <td>ElleCTF</td>\n",
       "      <td>my whole body feels itchy and like its on fire</td>\n",
       "    </tr>\n",
       "    <tr>\n",
       "      <th>4</th>\n",
       "      <td>0</td>\n",
       "      <td>1467811193</td>\n",
       "      <td>Mon Apr 06 22:19:57 PDT 2009</td>\n",
       "      <td>NO_QUERY</td>\n",
       "      <td>Karoli</td>\n",
       "      <td>@nationwideclass no, it's not behaving at all....</td>\n",
       "    </tr>\n",
       "  </tbody>\n",
       "</table>\n",
       "</div>"
      ],
      "text/plain": [
       "   0           1                             2         3                4  \\\n",
       "0  0  1467810369  Mon Apr 06 22:19:45 PDT 2009  NO_QUERY  _TheSpecialOne_   \n",
       "1  0  1467810672  Mon Apr 06 22:19:49 PDT 2009  NO_QUERY    scotthamilton   \n",
       "2  0  1467810917  Mon Apr 06 22:19:53 PDT 2009  NO_QUERY         mattycus   \n",
       "3  0  1467811184  Mon Apr 06 22:19:57 PDT 2009  NO_QUERY          ElleCTF   \n",
       "4  0  1467811193  Mon Apr 06 22:19:57 PDT 2009  NO_QUERY           Karoli   \n",
       "\n",
       "                                                   5  \n",
       "0  @switchfoot http://twitpic.com/2y1zl - Awww, t...  \n",
       "1  is upset that he can't update his Facebook by ...  \n",
       "2  @Kenichan I dived many times for the ball. Man...  \n",
       "3    my whole body feels itchy and like its on fire   \n",
       "4  @nationwideclass no, it's not behaving at all....  "
      ]
     },
     "execution_count": 3,
     "metadata": {},
     "output_type": "execute_result"
    }
   ],
   "source": [
    "df = pd.read_csv('../input/sentiment140/training.1600000.processed.noemoticon.csv',\n",
    "                 encoding = 'latin',header=None)\n",
    "df.head()"
   ]
  },
  {
   "cell_type": "code",
   "execution_count": 4,
   "id": "30d372ae",
   "metadata": {
    "execution": {
     "iopub.execute_input": "2021-12-09T10:52:56.291647Z",
     "iopub.status.busy": "2021-12-09T10:52:56.290618Z",
     "iopub.status.idle": "2021-12-09T10:52:56.294899Z",
     "shell.execute_reply": "2021-12-09T10:52:56.294486Z",
     "shell.execute_reply.started": "2021-12-08T21:20:42.779936Z"
    },
    "papermill": {
     "duration": 0.033467,
     "end_time": "2021-12-09T10:52:56.295012",
     "exception": false,
     "start_time": "2021-12-09T10:52:56.261545",
     "status": "completed"
    },
    "tags": []
   },
   "outputs": [
    {
     "data": {
      "text/html": [
       "<div>\n",
       "<style scoped>\n",
       "    .dataframe tbody tr th:only-of-type {\n",
       "        vertical-align: middle;\n",
       "    }\n",
       "\n",
       "    .dataframe tbody tr th {\n",
       "        vertical-align: top;\n",
       "    }\n",
       "\n",
       "    .dataframe thead th {\n",
       "        text-align: right;\n",
       "    }\n",
       "</style>\n",
       "<table border=\"1\" class=\"dataframe\">\n",
       "  <thead>\n",
       "    <tr style=\"text-align: right;\">\n",
       "      <th></th>\n",
       "      <th>sentiment</th>\n",
       "      <th>id</th>\n",
       "      <th>date</th>\n",
       "      <th>query</th>\n",
       "      <th>user_id</th>\n",
       "      <th>text</th>\n",
       "    </tr>\n",
       "  </thead>\n",
       "  <tbody>\n",
       "    <tr>\n",
       "      <th>0</th>\n",
       "      <td>0</td>\n",
       "      <td>1467810369</td>\n",
       "      <td>Mon Apr 06 22:19:45 PDT 2009</td>\n",
       "      <td>NO_QUERY</td>\n",
       "      <td>_TheSpecialOne_</td>\n",
       "      <td>@switchfoot http://twitpic.com/2y1zl - Awww, t...</td>\n",
       "    </tr>\n",
       "    <tr>\n",
       "      <th>1</th>\n",
       "      <td>0</td>\n",
       "      <td>1467810672</td>\n",
       "      <td>Mon Apr 06 22:19:49 PDT 2009</td>\n",
       "      <td>NO_QUERY</td>\n",
       "      <td>scotthamilton</td>\n",
       "      <td>is upset that he can't update his Facebook by ...</td>\n",
       "    </tr>\n",
       "    <tr>\n",
       "      <th>2</th>\n",
       "      <td>0</td>\n",
       "      <td>1467810917</td>\n",
       "      <td>Mon Apr 06 22:19:53 PDT 2009</td>\n",
       "      <td>NO_QUERY</td>\n",
       "      <td>mattycus</td>\n",
       "      <td>@Kenichan I dived many times for the ball. Man...</td>\n",
       "    </tr>\n",
       "    <tr>\n",
       "      <th>3</th>\n",
       "      <td>0</td>\n",
       "      <td>1467811184</td>\n",
       "      <td>Mon Apr 06 22:19:57 PDT 2009</td>\n",
       "      <td>NO_QUERY</td>\n",
       "      <td>ElleCTF</td>\n",
       "      <td>my whole body feels itchy and like its on fire</td>\n",
       "    </tr>\n",
       "    <tr>\n",
       "      <th>4</th>\n",
       "      <td>0</td>\n",
       "      <td>1467811193</td>\n",
       "      <td>Mon Apr 06 22:19:57 PDT 2009</td>\n",
       "      <td>NO_QUERY</td>\n",
       "      <td>Karoli</td>\n",
       "      <td>@nationwideclass no, it's not behaving at all....</td>\n",
       "    </tr>\n",
       "  </tbody>\n",
       "</table>\n",
       "</div>"
      ],
      "text/plain": [
       "   sentiment          id                          date     query  \\\n",
       "0          0  1467810369  Mon Apr 06 22:19:45 PDT 2009  NO_QUERY   \n",
       "1          0  1467810672  Mon Apr 06 22:19:49 PDT 2009  NO_QUERY   \n",
       "2          0  1467810917  Mon Apr 06 22:19:53 PDT 2009  NO_QUERY   \n",
       "3          0  1467811184  Mon Apr 06 22:19:57 PDT 2009  NO_QUERY   \n",
       "4          0  1467811193  Mon Apr 06 22:19:57 PDT 2009  NO_QUERY   \n",
       "\n",
       "           user_id                                               text  \n",
       "0  _TheSpecialOne_  @switchfoot http://twitpic.com/2y1zl - Awww, t...  \n",
       "1    scotthamilton  is upset that he can't update his Facebook by ...  \n",
       "2         mattycus  @Kenichan I dived many times for the ball. Man...  \n",
       "3          ElleCTF    my whole body feels itchy and like its on fire   \n",
       "4           Karoli  @nationwideclass no, it's not behaving at all....  "
      ]
     },
     "execution_count": 4,
     "metadata": {},
     "output_type": "execute_result"
    }
   ],
   "source": [
    "df.columns = ['sentiment', 'id', 'date', 'query', 'user_id', 'text']\n",
    "df.head()"
   ]
  },
  {
   "cell_type": "code",
   "execution_count": 5,
   "id": "df49f766",
   "metadata": {
    "execution": {
     "iopub.execute_input": "2021-12-09T10:52:56.342084Z",
     "iopub.status.busy": "2021-12-09T10:52:56.341289Z",
     "iopub.status.idle": "2021-12-09T10:52:56.372114Z",
     "shell.execute_reply": "2021-12-09T10:52:56.371656Z",
     "shell.execute_reply.started": "2021-12-08T21:20:42.797882Z"
    },
    "papermill": {
     "duration": 0.059085,
     "end_time": "2021-12-09T10:52:56.372230",
     "exception": false,
     "start_time": "2021-12-09T10:52:56.313145",
     "status": "completed"
    },
    "tags": []
   },
   "outputs": [],
   "source": [
    "df = df.drop(['id', 'date', 'query', 'user_id'], axis=1)"
   ]
  },
  {
   "cell_type": "code",
   "execution_count": 6,
   "id": "8112e912",
   "metadata": {
    "execution": {
     "iopub.execute_input": "2021-12-09T10:52:56.446960Z",
     "iopub.status.busy": "2021-12-09T10:52:56.446102Z",
     "iopub.status.idle": "2021-12-09T10:52:57.022026Z",
     "shell.execute_reply": "2021-12-09T10:52:57.023108Z",
     "shell.execute_reply.started": "2021-12-08T21:20:42.837857Z"
    },
    "papermill": {
     "duration": 0.633079,
     "end_time": "2021-12-09T10:52:57.023342",
     "exception": false,
     "start_time": "2021-12-09T10:52:56.390263",
     "status": "completed"
    },
    "tags": []
   },
   "outputs": [
    {
     "data": {
      "text/html": [
       "<div>\n",
       "<style scoped>\n",
       "    .dataframe tbody tr th:only-of-type {\n",
       "        vertical-align: middle;\n",
       "    }\n",
       "\n",
       "    .dataframe tbody tr th {\n",
       "        vertical-align: top;\n",
       "    }\n",
       "\n",
       "    .dataframe thead th {\n",
       "        text-align: right;\n",
       "    }\n",
       "</style>\n",
       "<table border=\"1\" class=\"dataframe\">\n",
       "  <thead>\n",
       "    <tr style=\"text-align: right;\">\n",
       "      <th></th>\n",
       "      <th>sentiment</th>\n",
       "      <th>text</th>\n",
       "    </tr>\n",
       "  </thead>\n",
       "  <tbody>\n",
       "    <tr>\n",
       "      <th>0</th>\n",
       "      <td>Negative</td>\n",
       "      <td>@switchfoot http://twitpic.com/2y1zl - Awww, t...</td>\n",
       "    </tr>\n",
       "    <tr>\n",
       "      <th>1</th>\n",
       "      <td>Negative</td>\n",
       "      <td>is upset that he can't update his Facebook by ...</td>\n",
       "    </tr>\n",
       "    <tr>\n",
       "      <th>2</th>\n",
       "      <td>Negative</td>\n",
       "      <td>@Kenichan I dived many times for the ball. Man...</td>\n",
       "    </tr>\n",
       "    <tr>\n",
       "      <th>3</th>\n",
       "      <td>Negative</td>\n",
       "      <td>my whole body feels itchy and like its on fire</td>\n",
       "    </tr>\n",
       "    <tr>\n",
       "      <th>4</th>\n",
       "      <td>Negative</td>\n",
       "      <td>@nationwideclass no, it's not behaving at all....</td>\n",
       "    </tr>\n",
       "  </tbody>\n",
       "</table>\n",
       "</div>"
      ],
      "text/plain": [
       "  sentiment                                               text\n",
       "0  Negative  @switchfoot http://twitpic.com/2y1zl - Awww, t...\n",
       "1  Negative  is upset that he can't update his Facebook by ...\n",
       "2  Negative  @Kenichan I dived many times for the ball. Man...\n",
       "3  Negative    my whole body feels itchy and like its on fire \n",
       "4  Negative  @nationwideclass no, it's not behaving at all...."
      ]
     },
     "execution_count": 6,
     "metadata": {},
     "output_type": "execute_result"
    }
   ],
   "source": [
    "lab_to_sentiment = {0:\"Negative\", 4:\"Positive\"}\n",
    "def label_decoder(label):\n",
    "  return lab_to_sentiment[label]\n",
    "df.sentiment = df.sentiment.apply(lambda x: label_decoder(x))\n",
    "df.head()"
   ]
  },
  {
   "cell_type": "code",
   "execution_count": 7,
   "id": "e5661940",
   "metadata": {
    "execution": {
     "iopub.execute_input": "2021-12-09T10:52:57.328973Z",
     "iopub.status.busy": "2021-12-09T10:52:57.328157Z",
     "iopub.status.idle": "2021-12-09T10:52:57.644174Z",
     "shell.execute_reply": "2021-12-09T10:52:57.644878Z",
     "shell.execute_reply.started": "2021-12-08T21:20:43.355646Z"
    },
    "papermill": {
     "duration": 0.588495,
     "end_time": "2021-12-09T10:52:57.645133",
     "exception": false,
     "start_time": "2021-12-09T10:52:57.056638",
     "status": "completed"
    },
    "tags": []
   },
   "outputs": [
    {
     "data": {
      "text/plain": [
       "Text(0.5, 1.0, 'Sentiment Data Distribution')"
      ]
     },
     "execution_count": 7,
     "metadata": {},
     "output_type": "execute_result"
    },
    {
     "data": {
      "image/png": "[encoded data removed]",
      "text/plain": [
       "<Figure size 576x288 with 1 Axes>"
      ]
     },
     "metadata": {
      "needs_background": "light"
     },
     "output_type": "display_data"
    }
   ],
   "source": [
    "val_count = df.sentiment.value_counts()\n",
    "\n",
    "plt.figure(figsize=(8,4))\n",
    "plt.bar(val_count.index, val_count.values)\n",
    "plt.title(\"Sentiment Data Distribution\")"
   ]
  },
  {
   "cell_type": "code",
   "execution_count": 8,
   "id": "8a09ea42",
   "metadata": {
    "execution": {
     "iopub.execute_input": "2021-12-09T10:52:57.722101Z",
     "iopub.status.busy": "2021-12-09T10:52:57.721252Z",
     "iopub.status.idle": "2021-12-09T10:52:57.887399Z",
     "shell.execute_reply": "2021-12-09T10:52:57.887990Z",
     "shell.execute_reply.started": "2021-12-08T21:20:43.800168Z"
    },
    "papermill": {
     "duration": 0.212335,
     "end_time": "2021-12-09T10:52:57.888175",
     "exception": false,
     "start_time": "2021-12-09T10:52:57.675840",
     "status": "completed"
    },
    "tags": []
   },
   "outputs": [
    {
     "data": {
      "text/html": [
       "<div>\n",
       "<style scoped>\n",
       "    .dataframe tbody tr th:only-of-type {\n",
       "        vertical-align: middle;\n",
       "    }\n",
       "\n",
       "    .dataframe tbody tr th {\n",
       "        vertical-align: top;\n",
       "    }\n",
       "\n",
       "    .dataframe thead th {\n",
       "        text-align: right;\n",
       "    }\n",
       "</style>\n",
       "<table border=\"1\" class=\"dataframe\">\n",
       "  <thead>\n",
       "    <tr style=\"text-align: right;\">\n",
       "      <th></th>\n",
       "      <th>sentiment</th>\n",
       "      <th>text</th>\n",
       "    </tr>\n",
       "  </thead>\n",
       "  <tbody>\n",
       "    <tr>\n",
       "      <th>641512</th>\n",
       "      <td>Negative</td>\n",
       "      <td>@teruist I keep getting shitty articles of clo...</td>\n",
       "    </tr>\n",
       "    <tr>\n",
       "      <th>957407</th>\n",
       "      <td>Positive</td>\n",
       "      <td>@ddlovato hi nighthawk. Im such a fan</td>\n",
       "    </tr>\n",
       "    <tr>\n",
       "      <th>1324117</th>\n",
       "      <td>Positive</td>\n",
       "      <td>@WayTooTragic no. Fucking. Way!</td>\n",
       "    </tr>\n",
       "    <tr>\n",
       "      <th>1124625</th>\n",
       "      <td>Positive</td>\n",
       "      <td>But you are better than lady gaga, miley</td>\n",
       "    </tr>\n",
       "    <tr>\n",
       "      <th>341985</th>\n",
       "      <td>Negative</td>\n",
       "      <td>The sun's gone in</td>\n",
       "    </tr>\n",
       "    <tr>\n",
       "      <th>941494</th>\n",
       "      <td>Positive</td>\n",
       "      <td>@khaled Happy Birthday  got to know it from ot...</td>\n",
       "    </tr>\n",
       "    <tr>\n",
       "      <th>173909</th>\n",
       "      <td>Negative</td>\n",
       "      <td>Ugh 3 more hours</td>\n",
       "    </tr>\n",
       "    <tr>\n",
       "      <th>600503</th>\n",
       "      <td>Negative</td>\n",
       "      <td>Going to go buy food later cause I'm all alone...</td>\n",
       "    </tr>\n",
       "    <tr>\n",
       "      <th>173784</th>\n",
       "      <td>Negative</td>\n",
       "      <td>@TomVMorris Tom, your FB link isn't working.</td>\n",
       "    </tr>\n",
       "    <tr>\n",
       "      <th>915908</th>\n",
       "      <td>Positive</td>\n",
       "      <td>@AndrewRatcliffe  they certainly warmed mine</td>\n",
       "    </tr>\n",
       "  </tbody>\n",
       "</table>\n",
       "</div>"
      ],
      "text/plain": [
       "        sentiment                                               text\n",
       "641512   Negative  @teruist I keep getting shitty articles of clo...\n",
       "957407   Positive             @ddlovato hi nighthawk. Im such a fan \n",
       "1324117  Positive                   @WayTooTragic no. Fucking. Way! \n",
       "1124625  Positive          But you are better than lady gaga, miley \n",
       "341985   Negative                                 The sun's gone in \n",
       "941494   Positive  @khaled Happy Birthday  got to know it from ot...\n",
       "173909   Negative                                  Ugh 3 more hours \n",
       "600503   Negative  Going to go buy food later cause I'm all alone...\n",
       "173784   Negative     @TomVMorris Tom, your FB link isn't working.  \n",
       "915908   Positive      @AndrewRatcliffe  they certainly warmed mine "
      ]
     },
     "execution_count": 8,
     "metadata": {},
     "output_type": "execute_result"
    }
   ],
   "source": [
    "import random\n",
    "random_idx_list = [random.randint(1,len(df.text)) for i in range(10)] # creates random indexes to choose from dataframe\n",
    "df.loc[random_idx_list,:].head(10) # Returns the rows with the index and display it"
   ]
  },
  {
   "cell_type": "code",
   "execution_count": 9,
   "id": "a100f250",
   "metadata": {
    "execution": {
     "iopub.execute_input": "2021-12-09T10:52:57.962905Z",
     "iopub.status.busy": "2021-12-09T10:52:57.961807Z",
     "iopub.status.idle": "2021-12-09T10:52:57.968625Z",
     "shell.execute_reply": "2021-12-09T10:52:57.967924Z",
     "shell.execute_reply.started": "2021-12-08T21:20:43.933435Z"
    },
    "papermill": {
     "duration": 0.044821,
     "end_time": "2021-12-09T10:52:57.968796",
     "exception": false,
     "start_time": "2021-12-09T10:52:57.923975",
     "status": "completed"
    },
    "tags": []
   },
   "outputs": [],
   "source": [
    "stop_words = stopwords.words('english')\n",
    "stemmer = SnowballStemmer('english')\n",
    "\n",
    "text_cleaning_re = \"@\\S+|https?:\\S+|http?:\\S|[^A-Za-z0-9]+\""
   ]
  },
  {
   "cell_type": "code",
   "execution_count": 10,
   "id": "edf3f4b4",
   "metadata": {
    "execution": {
     "iopub.execute_input": "2021-12-09T10:52:58.052322Z",
     "iopub.status.busy": "2021-12-09T10:52:58.051459Z",
     "iopub.status.idle": "2021-12-09T10:52:58.053668Z",
     "shell.execute_reply": "2021-12-09T10:52:58.053016Z",
     "shell.execute_reply.started": "2021-12-08T21:20:43.94009Z"
    },
    "papermill": {
     "duration": 0.049532,
     "end_time": "2021-12-09T10:52:58.053814",
     "exception": false,
     "start_time": "2021-12-09T10:52:58.004282",
     "status": "completed"
    },
    "tags": []
   },
   "outputs": [],
   "source": [
    "def preprocess(text, stem=False):\n",
    "  text = re.sub(text_cleaning_re, ' ', str(text).lower()).strip()\n",
    "  tokens = []\n",
    "  for token in text.split():\n",
    "    if token not in stop_words:\n",
    "      if stem:\n",
    "        tokens.append(stemmer.stem(token))\n",
    "      else:\n",
    "        tokens.append(token)\n",
    "  return \" \".join(tokens)"
   ]
  },
  {
   "cell_type": "code",
   "execution_count": 11,
   "id": "ffbbf58b",
   "metadata": {
    "execution": {
     "iopub.execute_input": "2021-12-09T10:52:58.134163Z",
     "iopub.status.busy": "2021-12-09T10:52:58.133465Z",
     "iopub.status.idle": "2021-12-09T10:53:57.668267Z",
     "shell.execute_reply": "2021-12-09T10:53:57.667776Z",
     "shell.execute_reply.started": "2021-12-08T21:20:43.950341Z"
    },
    "papermill": {
     "duration": 59.578296,
     "end_time": "2021-12-09T10:53:57.668402",
     "exception": false,
     "start_time": "2021-12-09T10:52:58.090106",
     "status": "completed"
    },
    "tags": []
   },
   "outputs": [],
   "source": [
    "df.text = df.text.apply(lambda x: preprocess(x))"
   ]
  },
  {
   "cell_type": "markdown",
   "id": "02340b44",
   "metadata": {
    "papermill": {
     "duration": 0.019048,
     "end_time": "2021-12-09T10:53:57.707245",
     "exception": false,
     "start_time": "2021-12-09T10:53:57.688197",
     "status": "completed"
    },
    "tags": []
   },
   "source": [
    "## Train and Test Split"
   ]
  },
  {
   "cell_type": "code",
   "execution_count": 12,
   "id": "874b322f",
   "metadata": {
    "execution": {
     "iopub.execute_input": "2021-12-09T10:53:57.750578Z",
     "iopub.status.busy": "2021-12-09T10:53:57.749723Z",
     "iopub.status.idle": "2021-12-09T10:53:57.752668Z",
     "shell.execute_reply": "2021-12-09T10:53:57.752221Z",
     "shell.execute_reply.started": "2021-12-08T21:21:43.004301Z"
    },
    "papermill": {
     "duration": 0.026306,
     "end_time": "2021-12-09T10:53:57.752787",
     "exception": false,
     "start_time": "2021-12-09T10:53:57.726481",
     "status": "completed"
    },
    "tags": []
   },
   "outputs": [],
   "source": [
    "TRAIN_SIZE = 0.8 \n",
    "MAX_NB_WORDS = 100000\n",
    "MAX_SEQUENCE_LENGTH = 30\n",
    "EMBEDDING_DIM = 10\n",
    "LR = 1e-3\n",
    "BATCH_SIZE = 50\n",
    "EPOCHS = 10"
   ]
  },
  {
   "cell_type": "code",
   "execution_count": 13,
   "id": "fbfca190",
   "metadata": {
    "execution": {
     "iopub.execute_input": "2021-12-09T10:53:57.796381Z",
     "iopub.status.busy": "2021-12-09T10:53:57.795593Z",
     "iopub.status.idle": "2021-12-09T10:53:58.228554Z",
     "shell.execute_reply": "2021-12-09T10:53:58.228070Z",
     "shell.execute_reply.started": "2021-12-08T21:21:43.010795Z"
    },
    "papermill": {
     "duration": 0.456364,
     "end_time": "2021-12-09T10:53:58.228690",
     "exception": false,
     "start_time": "2021-12-09T10:53:57.772326",
     "status": "completed"
    },
    "tags": []
   },
   "outputs": [
    {
     "name": "stdout",
     "output_type": "stream",
     "text": [
      "Train Data size: 1280000\n",
      "Test Data size 320000\n"
     ]
    }
   ],
   "source": [
    "train_data, test_data = train_test_split(df, test_size=1-TRAIN_SIZE,\n",
    "                                         random_state=7) # Splits Dataset into Training and Testing set\n",
    "print(\"Train Data size:\", len(train_data))\n",
    "print(\"Test Data size\", len(test_data))"
   ]
  },
  {
   "cell_type": "code",
   "execution_count": 14,
   "id": "cd0f087f",
   "metadata": {
    "execution": {
     "iopub.execute_input": "2021-12-09T10:53:58.272173Z",
     "iopub.status.busy": "2021-12-09T10:53:58.271507Z",
     "iopub.status.idle": "2021-12-09T10:54:16.805601Z",
     "shell.execute_reply": "2021-12-09T10:54:16.805105Z",
     "shell.execute_reply.started": "2021-12-08T21:21:43.451906Z"
    },
    "papermill": {
     "duration": 18.557527,
     "end_time": "2021-12-09T10:54:16.805748",
     "exception": false,
     "start_time": "2021-12-09T10:53:58.248221",
     "status": "completed"
    },
    "tags": []
   },
   "outputs": [
    {
     "name": "stdout",
     "output_type": "stream",
     "text": [
      "Vocabulary Size : 290575\n"
     ]
    }
   ],
   "source": [
    "from keras.preprocessing.text import Tokenizer\n",
    "\n",
    "tokenizer = Tokenizer()\n",
    "tokenizer.fit_on_texts(train_data.text)\n",
    "\n",
    "word_index = tokenizer.word_index\n",
    "vocab_size = len(tokenizer.word_index) + 1\n",
    "print(\"Vocabulary Size :\", vocab_size)"
   ]
  },
  {
   "cell_type": "code",
   "execution_count": 15,
   "id": "c6a111cf",
   "metadata": {
    "execution": {
     "iopub.execute_input": "2021-12-09T10:54:16.851841Z",
     "iopub.status.busy": "2021-12-09T10:54:16.850982Z",
     "iopub.status.idle": "2021-12-09T10:54:47.644757Z",
     "shell.execute_reply": "2021-12-09T10:54:47.645413Z",
     "shell.execute_reply.started": "2021-12-08T21:22:01.329561Z"
    },
    "papermill": {
     "duration": 30.81909,
     "end_time": "2021-12-09T10:54:47.645640",
     "exception": false,
     "start_time": "2021-12-09T10:54:16.826550",
     "status": "completed"
    },
    "tags": []
   },
   "outputs": [
    {
     "name": "stdout",
     "output_type": "stream",
     "text": [
      "Training X Shape: (1280000, 30)\n",
      "Testing X Shape: (320000, 30)\n",
      "<class 'numpy.ndarray'>\n",
      "<class 'numpy.ndarray'>\n"
     ]
    }
   ],
   "source": [
    "from keras.preprocessing.sequence import pad_sequences\n",
    "\n",
    "x_train = pad_sequences(tokenizer.texts_to_sequences(train_data.text),\n",
    "                        maxlen = MAX_SEQUENCE_LENGTH)\n",
    "x_test = pad_sequences(tokenizer.texts_to_sequences(test_data.text),\n",
    "                       maxlen = MAX_SEQUENCE_LENGTH)\n",
    "\n",
    "print(\"Training X Shape:\",x_train.shape)\n",
    "print(\"Testing X Shape:\",x_test.shape)\n",
    "\n",
    "print(type(x_train))\n",
    "print(type(x_test))"
   ]
  },
  {
   "cell_type": "code",
   "execution_count": 16,
   "id": "be90b712",
   "metadata": {
    "execution": {
     "iopub.execute_input": "2021-12-09T10:54:47.756492Z",
     "iopub.status.busy": "2021-12-09T10:54:47.755623Z",
     "iopub.status.idle": "2021-12-09T10:54:47.777118Z",
     "shell.execute_reply": "2021-12-09T10:54:47.776677Z",
     "shell.execute_reply.started": "2021-12-08T21:22:32.218368Z"
    },
    "papermill": {
     "duration": 0.109929,
     "end_time": "2021-12-09T10:54:47.777241",
     "exception": false,
     "start_time": "2021-12-09T10:54:47.667312",
     "status": "completed"
    },
    "tags": []
   },
   "outputs": [],
   "source": [
    "labels = train_data.sentiment.unique().tolist()"
   ]
  },
  {
   "cell_type": "code",
   "execution_count": 17,
   "id": "247a3c9c",
   "metadata": {
    "execution": {
     "iopub.execute_input": "2021-12-09T10:54:47.984636Z",
     "iopub.status.busy": "2021-12-09T10:54:47.983664Z",
     "iopub.status.idle": "2021-12-09T10:54:48.984488Z",
     "shell.execute_reply": "2021-12-09T10:54:48.983890Z",
     "shell.execute_reply.started": "2021-12-08T21:22:32.314085Z"
    },
    "papermill": {
     "duration": 1.186167,
     "end_time": "2021-12-09T10:54:48.984623",
     "exception": false,
     "start_time": "2021-12-09T10:54:47.798456",
     "status": "completed"
    },
    "tags": []
   },
   "outputs": [
    {
     "name": "stdout",
     "output_type": "stream",
     "text": [
      "y_train shape: (1280000, 1)\n",
      "y_test shape: (320000, 1)\n"
     ]
    }
   ],
   "source": [
    "encoder = LabelEncoder()\n",
    "encoder.fit(train_data.sentiment.to_list())\n",
    "\n",
    "y_train = encoder.transform(train_data.sentiment.to_list())\n",
    "y_test = encoder.transform(test_data.sentiment.to_list())\n",
    "\n",
    "y_train = y_train.reshape(-1,1)\n",
    "y_test = y_test.reshape(-1,1)\n",
    "\n",
    "train_data = TensorDataset(torch.from_numpy(x_train), torch.from_numpy(y_train))\n",
    "test_data = TensorDataset(torch.from_numpy(x_test), torch.from_numpy(y_test))\n",
    "\n",
    "train_loader = DataLoader(train_data, shuffle=True, batch_size=BATCH_SIZE, drop_last = True)\n",
    "test_loader = DataLoader(test_data, shuffle=True, batch_size=BATCH_SIZE, drop_last = True)\n",
    "\n",
    "print(\"y_train shape:\", y_train.shape)\n",
    "print(\"y_test shape:\", y_test.shape)"
   ]
  },
  {
   "cell_type": "code",
   "execution_count": 18,
   "id": "9de2439a",
   "metadata": {
    "execution": {
     "iopub.execute_input": "2021-12-09T10:54:49.038581Z",
     "iopub.status.busy": "2021-12-09T10:54:49.037875Z",
     "iopub.status.idle": "2021-12-09T10:54:49.040312Z",
     "shell.execute_reply": "2021-12-09T10:54:49.040701Z",
     "shell.execute_reply.started": "2021-12-08T21:22:33.529097Z"
    },
    "papermill": {
     "duration": 0.03544,
     "end_time": "2021-12-09T10:54:49.040837",
     "exception": false,
     "start_time": "2021-12-09T10:54:49.005397",
     "status": "completed"
    },
    "tags": []
   },
   "outputs": [],
   "source": [
    "class PositionalEncoding(nn.Module):\n",
    "\n",
    "    def __init__(self, d_model, dropout=0.1, max_len=5000):\n",
    "        super(PositionalEncoding, self).__init__()\n",
    "        self.dropout = nn.Dropout(p=dropout)\n",
    "\n",
    "        pe = torch.zeros(max_len, d_model)\n",
    "        position = torch.arange(0, max_len, dtype=torch.float).unsqueeze(1)\n",
    "        div_term = torch.exp(torch.arange(0, d_model, 2).float() * (-math.log(10000.0) / d_model))\n",
    "        pe[:, 0::2] = torch.sin(position * div_term)\n",
    "        pe[:, 1::2] = torch.cos(position * div_term)\n",
    "        pe = pe.unsqueeze(0).transpose(0, 1)\n",
    "        self.register_buffer('pe', pe)\n",
    "\n",
    "    def forward(self, x):\n",
    "        x = x + self.pe[:x.size(0), :]\n",
    "        return self.dropout(x)\n",
    "    \n",
    "class SentimentNet(nn.Module):\n",
    "    def __init__(self, vocab_size, output_size, embedding_dim, hidden_dim, n_layers, drop_prob=0.2):\n",
    "        super(SentimentNet, self).__init__()\n",
    "        self.output_size = output_size\n",
    "        self.n_layers = n_layers\n",
    "        self.hidden_dim = hidden_dim\n",
    "        self.dropout = nn.Dropout(drop_prob)\n",
    "        self.embedding_dim = embedding_dim\n",
    "        self.sigmoid = nn.Sigmoid()\n",
    "        \n",
    "        \n",
    "        self.encoder = nn.Embedding(vocab_size, embedding_dim)\n",
    "        self.pos_encoder = PositionalEncoding(embedding_dim, drop_prob)\n",
    "        encoder_layer = nn.TransformerEncoderLayer(embedding_dim, 2, hidden_dim)\n",
    "        self.transformer_encoder = nn.TransformerEncoder(encoder_layer, num_layers=n_layers)\n",
    "        \n",
    "\n",
    "        self.fc = nn.Linear(embedding_dim * 30 , 1)\n",
    "\n",
    "    \n",
    "    def forward(self, src):\n",
    "        src = self.encoder(src) * math.sqrt(self.embedding_dim)\n",
    "        src = self.pos_encoder(src)\n",
    "        output = self.transformer_encoder(src)\n",
    "        output = output.view(output.size(0), -1)\n",
    "        output = self.sigmoid(self.fc(output))\n",
    "        return output"
   ]
  },
  {
   "cell_type": "code",
   "execution_count": 19,
   "id": "1fab06f9",
   "metadata": {
    "execution": {
     "iopub.execute_input": "2021-12-09T10:54:49.086145Z",
     "iopub.status.busy": "2021-12-09T10:54:49.085639Z",
     "iopub.status.idle": "2021-12-09T10:54:49.089486Z",
     "shell.execute_reply": "2021-12-09T10:54:49.089071Z",
     "shell.execute_reply.started": "2021-12-08T21:22:33.544023Z"
    },
    "papermill": {
     "duration": 0.028286,
     "end_time": "2021-12-09T10:54:49.089605",
     "exception": false,
     "start_time": "2021-12-09T10:54:49.061319",
     "status": "completed"
    },
    "tags": []
   },
   "outputs": [],
   "source": [
    "def model_params(model):\n",
    "    pp=0\n",
    "    for p in list(model.parameters()):\n",
    "        nn=1\n",
    "        for s in list(p.size()):\n",
    "            nn = nn*s\n",
    "        pp += nn\n",
    "    return pp"
   ]
  },
  {
   "cell_type": "code",
   "execution_count": 20,
   "id": "46602383",
   "metadata": {
    "execution": {
     "iopub.execute_input": "2021-12-09T10:54:49.139000Z",
     "iopub.status.busy": "2021-12-09T10:54:49.138396Z",
     "iopub.status.idle": "2021-12-09T10:54:54.789166Z",
     "shell.execute_reply": "2021-12-09T10:54:54.788706Z",
     "shell.execute_reply.started": "2021-12-08T21:22:33.557558Z"
    },
    "papermill": {
     "duration": 5.679226,
     "end_time": "2021-12-09T10:54:54.789299",
     "exception": false,
     "start_time": "2021-12-09T10:54:49.110073",
     "status": "completed"
    },
    "tags": []
   },
   "outputs": [
    {
     "name": "stdout",
     "output_type": "stream",
     "text": [
      "2909355\n"
     ]
    }
   ],
   "source": [
    "import math\n",
    "\n",
    "output_size = 1\n",
    "embedding_dim = 10\n",
    "hidden_dim = 16\n",
    "n_layers = 4\n",
    "\n",
    "model = SentimentNet(vocab_size, output_size, embedding_dim, hidden_dim, n_layers)\n",
    "model.to(device)\n",
    "print(model_params(model))\n",
    "lr=0.01\n",
    "criterion = nn.BCELoss()\n",
    "optimizer = torch.optim.Adam(model.parameters(), lr=lr)"
   ]
  },
  {
   "cell_type": "code",
   "execution_count": 21,
   "id": "1605cbd9",
   "metadata": {
    "execution": {
     "iopub.execute_input": "2021-12-09T10:54:54.840803Z",
     "iopub.status.busy": "2021-12-09T10:54:54.840108Z",
     "iopub.status.idle": "2021-12-09T12:27:59.291122Z",
     "shell.execute_reply": "2021-12-09T12:27:59.290458Z",
     "shell.execute_reply.started": "2021-12-08T21:22:39.586111Z"
    },
    "papermill": {
     "duration": 5584.480913,
     "end_time": "2021-12-09T12:27:59.291263",
     "exception": false,
     "start_time": "2021-12-09T10:54:54.810350",
     "status": "completed"
    },
    "tags": []
   },
   "outputs": [
    {
     "name": "stdout",
     "output_type": "stream",
     "text": [
      "Epoch: 1/3... Step: 500... Loss: 0.664279... Val Loss: 0.663606\n",
      "Validation loss decreased (inf --> 0.663606).  Saving model ...\n",
      "Epoch: 1/3... Step: 1000... Loss: 0.583252... Val Loss: 0.595774\n",
      "Validation loss decreased (0.663606 --> 0.595774).  Saving model ...\n",
      "Epoch: 1/3... Step: 1500... Loss: 0.573593... Val Loss: 0.574606\n",
      "Validation loss decreased (0.595774 --> 0.574606).  Saving model ...\n",
      "Epoch: 1/3... Step: 2000... Loss: 0.480646... Val Loss: 0.560402\n",
      "Validation loss decreased (0.574606 --> 0.560402).  Saving model ...\n",
      "Epoch: 1/3... Step: 2500... Loss: 0.527449... Val Loss: 0.548982\n",
      "Validation loss decreased (0.560402 --> 0.548982).  Saving model ...\n",
      "Epoch: 1/3... Step: 3000... Loss: 0.599191... Val Loss: 0.547659\n",
      "Validation loss decreased (0.548982 --> 0.547659).  Saving model ...\n",
      "Epoch: 1/3... Step: 3500... Loss: 0.597009... Val Loss: 0.524719\n",
      "Validation loss decreased (0.547659 --> 0.524719).  Saving model ...\n",
      "Epoch: 1/3... Step: 4000... Loss: 0.542589... Val Loss: 0.515093\n",
      "Validation loss decreased (0.524719 --> 0.515093).  Saving model ...\n",
      "Epoch: 1/3... Step: 4500... Loss: 0.510226... Val Loss: 0.518189\n",
      "Epoch: 1/3... Step: 5000... Loss: 0.667501... Val Loss: 0.510258\n",
      "Validation loss decreased (0.515093 --> 0.510258).  Saving model ...\n",
      "Epoch: 1/3... Step: 5500... Loss: 0.521736... Val Loss: 0.515263\n",
      "Epoch: 1/3... Step: 6000... Loss: 0.553514... Val Loss: 0.523919\n",
      "Epoch: 1/3... Step: 6500... Loss: 0.420321... Val Loss: 0.501946\n",
      "Validation loss decreased (0.510258 --> 0.501946).  Saving model ...\n",
      "Epoch: 1/3... Step: 7000... Loss: 0.574205... Val Loss: 0.511259\n",
      "Epoch: 1/3... Step: 7500... Loss: 0.355307... Val Loss: 0.500996\n",
      "Validation loss decreased (0.501946 --> 0.500996).  Saving model ...\n",
      "Epoch: 1/3... Step: 8000... Loss: 0.461713... Val Loss: 0.520322\n",
      "Epoch: 1/3... Step: 8500... Loss: 0.432507... Val Loss: 0.493369\n",
      "Validation loss decreased (0.500996 --> 0.493369).  Saving model ...\n",
      "Epoch: 1/3... Step: 9000... Loss: 0.509755... Val Loss: 0.493293\n",
      "Validation loss decreased (0.493369 --> 0.493293).  Saving model ...\n",
      "Epoch: 1/3... Step: 9500... Loss: 0.540329... Val Loss: 0.496587\n",
      "Epoch: 1/3... Step: 10000... Loss: 0.385671... Val Loss: 0.492238\n",
      "Validation loss decreased (0.493293 --> 0.492238).  Saving model ...\n",
      "Epoch: 1/3... Step: 10500... Loss: 0.572515... Val Loss: 0.495388\n",
      "Epoch: 1/3... Step: 11000... Loss: 0.583343... Val Loss: 0.494431\n",
      "Epoch: 1/3... Step: 11500... Loss: 0.553593... Val Loss: 0.490793\n",
      "Validation loss decreased (0.492238 --> 0.490793).  Saving model ...\n",
      "Epoch: 1/3... Step: 12000... Loss: 0.395576... Val Loss: 0.492694\n",
      "Epoch: 1/3... Step: 12500... Loss: 0.518274... Val Loss: 0.505471\n",
      "Epoch: 1/3... Step: 13000... Loss: 0.705876... Val Loss: 0.489689\n",
      "Validation loss decreased (0.490793 --> 0.489689).  Saving model ...\n",
      "Epoch: 1/3... Step: 13500... Loss: 0.504907... Val Loss: 0.494161\n",
      "Epoch: 1/3... Step: 14000... Loss: 0.584083... Val Loss: 0.487929\n",
      "Validation loss decreased (0.489689 --> 0.487929).  Saving model ...\n",
      "Epoch: 1/3... Step: 14500... Loss: 0.447550... Val Loss: 0.489785\n",
      "Epoch: 1/3... Step: 15000... Loss: 0.474365... Val Loss: 0.491276\n",
      "Epoch: 1/3... Step: 15500... Loss: 0.534382... Val Loss: 0.489444\n",
      "Epoch: 1/3... Step: 16000... Loss: 0.537280... Val Loss: 0.486949\n",
      "Validation loss decreased (0.487929 --> 0.486949).  Saving model ...\n",
      "Epoch: 1/3... Step: 16500... Loss: 0.579259... Val Loss: 0.488760\n",
      "Epoch: 1/3... Step: 17000... Loss: 0.457240... Val Loss: 0.484952\n",
      "Validation loss decreased (0.486949 --> 0.484952).  Saving model ...\n",
      "Epoch: 1/3... Step: 17500... Loss: 0.513433... Val Loss: 0.485516\n",
      "Epoch: 1/3... Step: 18000... Loss: 0.503174... Val Loss: 0.485465\n",
      "Epoch: 1/3... Step: 18500... Loss: 0.558760... Val Loss: 0.491132\n",
      "Epoch: 1/3... Step: 19000... Loss: 0.493490... Val Loss: 0.498043\n",
      "Epoch: 1/3... Step: 19500... Loss: 0.479280... Val Loss: 0.489969\n",
      "Epoch: 1/3... Step: 20000... Loss: 0.451031... Val Loss: 0.482881\n",
      "Validation loss decreased (0.484952 --> 0.482881).  Saving model ...\n",
      "Epoch: 1/3... Step: 20500... Loss: 0.472021... Val Loss: 0.489049\n",
      "Epoch: 1/3... Step: 21000... Loss: 0.528498... Val Loss: 0.484087\n",
      "Epoch: 1/3... Step: 21500... Loss: 0.477499... Val Loss: 0.488332\n",
      "Epoch: 1/3... Step: 22000... Loss: 0.400872... Val Loss: 0.486062\n",
      "Epoch: 1/3... Step: 22500... Loss: 0.551605... Val Loss: 0.481511\n",
      "Validation loss decreased (0.482881 --> 0.481511).  Saving model ...\n",
      "Epoch: 1/3... Step: 23000... Loss: 0.323716... Val Loss: 0.483042\n",
      "Epoch: 1/3... Step: 23500... Loss: 0.482146... Val Loss: 0.482406\n",
      "Epoch: 1/3... Step: 24000... Loss: 0.493456... Val Loss: 0.490241\n",
      "Epoch: 1/3... Step: 24500... Loss: 0.541101... Val Loss: 0.483728\n",
      "Epoch: 1/3... Step: 25000... Loss: 0.552087... Val Loss: 0.483837\n",
      "Epoch: 1/3... Step: 25500... Loss: 0.432429... Val Loss: 0.482342\n",
      "Epoch: 2/3... Step: 26000... Loss: 0.432969... Val Loss: 0.486856\n",
      "Epoch: 2/3... Step: 26500... Loss: 0.304662... Val Loss: 0.485891\n",
      "Epoch: 2/3... Step: 27000... Loss: 0.548617... Val Loss: 0.486054\n",
      "Epoch: 2/3... Step: 27500... Loss: 0.497859... Val Loss: 0.496783\n",
      "Epoch: 2/3... Step: 28000... Loss: 0.509737... Val Loss: 0.481122\n",
      "Validation loss decreased (0.481511 --> 0.481122).  Saving model ...\n",
      "Epoch: 2/3... Step: 28500... Loss: 0.546790... Val Loss: 0.484717\n",
      "Epoch: 2/3... Step: 29000... Loss: 0.584913... Val Loss: 0.480252\n",
      "Validation loss decreased (0.481122 --> 0.480252).  Saving model ...\n",
      "Epoch: 2/3... Step: 29500... Loss: 0.463398... Val Loss: 0.509731\n",
      "Epoch: 2/3... Step: 30000... Loss: 0.459327... Val Loss: 0.492562\n",
      "Epoch: 2/3... Step: 30500... Loss: 0.392695... Val Loss: 0.488464\n",
      "Epoch: 2/3... Step: 31000... Loss: 0.547147... Val Loss: 0.483105\n",
      "Epoch: 2/3... Step: 31500... Loss: 0.538100... Val Loss: 0.498434\n",
      "Epoch: 2/3... Step: 32000... Loss: 0.570885... Val Loss: 0.765083\n",
      "Epoch: 2/3... Step: 32500... Loss: 0.674578... Val Loss: 0.561120\n",
      "Epoch: 2/3... Step: 33000... Loss: 0.706718... Val Loss: 0.693321\n",
      "Epoch: 2/3... Step: 33500... Loss: 0.698569... Val Loss: 0.693269\n",
      "Epoch: 2/3... Step: 34000... Loss: 0.758600... Val Loss: 0.710289\n",
      "Epoch: 2/3... Step: 34500... Loss: 0.696514... Val Loss: 0.693141\n",
      "Epoch: 2/3... Step: 35000... Loss: 0.702810... Val Loss: 0.701682\n",
      "Epoch: 2/3... Step: 35500... Loss: 0.686918... Val Loss: 0.693720\n",
      "Epoch: 2/3... Step: 36000... Loss: 0.694734... Val Loss: 0.693165\n",
      "Epoch: 2/3... Step: 36500... Loss: 0.694114... Val Loss: 0.694167\n",
      "Epoch: 2/3... Step: 37000... Loss: 0.694000... Val Loss: 0.693185\n",
      "Epoch: 2/3... Step: 37500... Loss: 0.701496... Val Loss: 0.693543\n",
      "Epoch: 2/3... Step: 38000... Loss: 0.689635... Val Loss: 0.693291\n",
      "Epoch: 2/3... Step: 38500... Loss: 0.696359... Val Loss: 0.693161\n",
      "Epoch: 2/3... Step: 39000... Loss: 0.701470... Val Loss: 0.693198\n",
      "Epoch: 2/3... Step: 39500... Loss: 0.694650... Val Loss: 0.693231\n",
      "Epoch: 2/3... Step: 40000... Loss: 0.690973... Val Loss: 0.693299\n",
      "Epoch: 2/3... Step: 40500... Loss: 0.696090... Val Loss: 0.693149\n",
      "Epoch: 2/3... Step: 41000... Loss: 0.693662... Val Loss: 0.693261\n",
      "Epoch: 2/3... Step: 41500... Loss: 0.693384... Val Loss: 0.693288\n",
      "Epoch: 2/3... Step: 42000... Loss: 0.697041... Val Loss: 0.693272\n",
      "Epoch: 2/3... Step: 42500... Loss: 0.692876... Val Loss: 0.693202\n",
      "Epoch: 2/3... Step: 43000... Loss: 0.694705... Val Loss: 0.693395\n",
      "Epoch: 2/3... Step: 43500... Loss: 0.682275... Val Loss: 0.695428\n",
      "Epoch: 2/3... Step: 44000... Loss: 0.678922... Val Loss: 0.696297\n",
      "Epoch: 2/3... Step: 44500... Loss: 0.693894... Val Loss: 0.693184\n",
      "Epoch: 2/3... Step: 45000... Loss: 0.700621... Val Loss: 0.693533\n",
      "Epoch: 2/3... Step: 45500... Loss: 0.683835... Val Loss: 0.694122\n",
      "Epoch: 2/3... Step: 46000... Loss: 0.695619... Val Loss: 0.693379\n",
      "Epoch: 2/3... Step: 46500... Loss: 0.693377... Val Loss: 0.693150\n",
      "Epoch: 2/3... Step: 47000... Loss: 0.695677... Val Loss: 0.693152\n",
      "Epoch: 2/3... Step: 47500... Loss: 0.688199... Val Loss: 0.709223\n",
      "Epoch: 2/3... Step: 48000... Loss: 0.691325... Val Loss: 0.693174\n",
      "Epoch: 2/3... Step: 48500... Loss: 0.689392... Val Loss: 0.693569\n",
      "Epoch: 2/3... Step: 49000... Loss: 0.695579... Val Loss: 0.694344\n",
      "Epoch: 2/3... Step: 49500... Loss: 0.691008... Val Loss: 0.693143\n",
      "Epoch: 2/3... Step: 50000... Loss: 0.699902... Val Loss: 0.693511\n",
      "Epoch: 2/3... Step: 50500... Loss: 0.708328... Val Loss: 0.694959\n",
      "Epoch: 2/3... Step: 51000... Loss: 0.696561... Val Loss: 0.693490\n",
      "Epoch: 3/3... Step: 51500... Loss: 0.692918... Val Loss: 0.693309\n",
      "Epoch: 3/3... Step: 52000... Loss: 0.697043... Val Loss: 0.693166\n",
      "Epoch: 3/3... Step: 52500... Loss: 0.722108... Val Loss: 0.697903\n",
      "Epoch: 3/3... Step: 53000... Loss: 0.694553... Val Loss: 0.693194\n",
      "Epoch: 3/3... Step: 53500... Loss: 0.698186... Val Loss: 0.693177\n",
      "Epoch: 3/3... Step: 54000... Loss: 0.693324... Val Loss: 0.693146\n",
      "Epoch: 3/3... Step: 54500... Loss: 0.696153... Val Loss: 0.693824\n",
      "Epoch: 3/3... Step: 55000... Loss: 0.692753... Val Loss: 0.693195\n",
      "Epoch: 3/3... Step: 55500... Loss: 0.691415... Val Loss: 0.693617\n",
      "Epoch: 3/3... Step: 56000... Loss: 0.694468... Val Loss: 0.693521\n",
      "Epoch: 3/3... Step: 56500... Loss: 0.691884... Val Loss: 0.693142\n",
      "Epoch: 3/3... Step: 57000... Loss: 0.686997... Val Loss: 0.694732\n",
      "Epoch: 3/3... Step: 57500... Loss: 0.692935... Val Loss: 0.694441\n",
      "Epoch: 3/3... Step: 58000... Loss: 0.696718... Val Loss: 0.693219\n",
      "Epoch: 3/3... Step: 58500... Loss: 0.696800... Val Loss: 0.693249\n",
      "Epoch: 3/3... Step: 59000... Loss: 0.690679... Val Loss: 0.693221\n",
      "Epoch: 3/3... Step: 59500... Loss: 0.700244... Val Loss: 0.693927\n",
      "Epoch: 3/3... Step: 60000... Loss: 0.689988... Val Loss: 0.693189\n",
      "Epoch: 3/3... Step: 60500... Loss: 0.698853... Val Loss: 0.693199\n",
      "Epoch: 3/3... Step: 61000... Loss: 0.699885... Val Loss: 0.695892\n",
      "Epoch: 3/3... Step: 61500... Loss: 0.692387... Val Loss: 0.693144\n",
      "Epoch: 3/3... Step: 62000... Loss: 0.694802... Val Loss: 0.693656\n",
      "Epoch: 3/3... Step: 62500... Loss: 0.673682... Val Loss: 0.695193\n",
      "Epoch: 3/3... Step: 63000... Loss: 0.701717... Val Loss: 0.693640\n",
      "Epoch: 3/3... Step: 63500... Loss: 0.693618... Val Loss: 0.693151\n",
      "Epoch: 3/3... Step: 64000... Loss: 0.693546... Val Loss: 0.693158\n",
      "Epoch: 3/3... Step: 64500... Loss: 0.695659... Val Loss: 0.693197\n",
      "Epoch: 3/3... Step: 65000... Loss: 0.686126... Val Loss: 0.693624\n",
      "Epoch: 3/3... Step: 65500... Loss: 0.697023... Val Loss: 0.694333\n",
      "Epoch: 3/3... Step: 66000... Loss: 0.696975... Val Loss: 0.693683\n",
      "Epoch: 3/3... Step: 66500... Loss: 0.695694... Val Loss: 0.693950\n",
      "Epoch: 3/3... Step: 67000... Loss: 0.693843... Val Loss: 0.693246\n",
      "Epoch: 3/3... Step: 67500... Loss: 0.698020... Val Loss: 0.693344\n",
      "Epoch: 3/3... Step: 68000... Loss: 0.692818... Val Loss: 0.693151\n",
      "Epoch: 3/3... Step: 68500... Loss: 0.722257... Val Loss: 0.695112\n",
      "Epoch: 3/3... Step: 69000... Loss: 0.693978... Val Loss: 0.693212\n",
      "Epoch: 3/3... Step: 69500... Loss: 0.698850... Val Loss: 0.693394\n",
      "Epoch: 3/3... Step: 70000... Loss: 0.700254... Val Loss: 0.693411\n",
      "Epoch: 3/3... Step: 70500... Loss: 0.689797... Val Loss: 0.693361\n",
      "Epoch: 3/3... Step: 71000... Loss: 0.694675... Val Loss: 0.693148\n",
      "Epoch: 3/3... Step: 71500... Loss: 0.694550... Val Loss: 0.693247\n",
      "Epoch: 3/3... Step: 72000... Loss: 0.694013... Val Loss: 0.693157\n",
      "Epoch: 3/3... Step: 72500... Loss: 0.693543... Val Loss: 0.693176\n",
      "Epoch: 3/3... Step: 73000... Loss: 0.693018... Val Loss: 0.694366\n",
      "Epoch: 3/3... Step: 73500... Loss: 0.685867... Val Loss: 0.698975\n",
      "Epoch: 3/3... Step: 74000... Loss: 0.693012... Val Loss: 0.693144\n",
      "Epoch: 3/3... Step: 74500... Loss: 0.692396... Val Loss: 0.693252\n",
      "Epoch: 3/3... Step: 75000... Loss: 0.692180... Val Loss: 0.693299\n",
      "Epoch: 3/3... Step: 75500... Loss: 0.694471... Val Loss: 0.693158\n",
      "Epoch: 3/3... Step: 76000... Loss: 0.691424... Val Loss: 0.693740\n",
      "Epoch: 3/3... Step: 76500... Loss: 0.691839... Val Loss: 0.693215\n"
     ]
    }
   ],
   "source": [
    "epochs = 3\n",
    "counter = 0\n",
    "print_every = 500\n",
    "clip = 5\n",
    "valid_loss_min = np.Inf\n",
    "\n",
    "model.train()\n",
    "for i in range(epochs):\n",
    "    \n",
    "    for inputs, labels in train_loader:\n",
    "        counter += 1\n",
    "        inputs, labels = inputs.to(device), labels.to(device)\n",
    "        model.zero_grad()\n",
    "        output = model(inputs.long())\n",
    "        \n",
    "        loss = criterion(output, labels.float())\n",
    "        \n",
    "        \n",
    "        loss.backward()\n",
    "        #nn.utils.clip_grad_norm_(model.parameters(), clip)\n",
    "        optimizer.step()\n",
    "        \n",
    "        if counter%print_every == 0:\n",
    "            val_losses = []\n",
    "            model.eval()\n",
    "            for inp, lab in test_loader:\n",
    "                inp, lab = inp.to(device), lab.to(device)\n",
    "                out = model(inp.long())\n",
    "                val_loss = criterion(out, lab.float())\n",
    "                val_losses.append(val_loss.item())\n",
    "                \n",
    "            model.train()\n",
    "            print(\"Epoch: {}/{}...\".format(i+1, epochs),\n",
    "                  \"Step: {}...\".format(counter),\n",
    "                  \"Loss: {:.6f}...\".format(loss.item()),\n",
    "                  \"Val Loss: {:.6f}\".format(np.mean(val_losses)))\n",
    "            if np.mean(val_losses) <= valid_loss_min:\n",
    "                torch.save(model.state_dict(), './state_dict.pt')\n",
    "                print('Validation loss decreased ({:.6f} --> {:.6f}).  Saving model ...'.format(valid_loss_min,np.mean(val_losses)))\n",
    "                valid_loss_min = np.mean(val_losses)"
   ]
  },
  {
   "cell_type": "code",
   "execution_count": 22,
   "id": "ecbc47aa",
   "metadata": {
    "execution": {
     "iopub.execute_input": "2021-12-09T12:27:59.415284Z",
     "iopub.status.busy": "2021-12-09T12:27:59.414473Z",
     "iopub.status.idle": "2021-12-09T12:27:59.448761Z",
     "shell.execute_reply": "2021-12-09T12:27:59.449199Z"
    },
    "papermill": {
     "duration": 0.09854,
     "end_time": "2021-12-09T12:27:59.449351",
     "exception": false,
     "start_time": "2021-12-09T12:27:59.350811",
     "status": "completed"
    },
    "tags": []
   },
   "outputs": [
    {
     "data": {
      "text/plain": [
       "tensor([[0.5091]], device='cuda:0', grad_fn=<SigmoidBackward>)"
      ]
     },
     "execution_count": 22,
     "metadata": {},
     "output_type": "execute_result"
    }
   ],
   "source": [
    "sentence = \"I love you\"\n",
    "trial = torch.tensor(pad_sequences(tokenizer.texts_to_sequences([sentence]), maxlen = MAX_SEQUENCE_LENGTH)).long().to(device)\n",
    "\n",
    "model(trial)"
   ]
  },
  {
   "cell_type": "code",
   "execution_count": 23,
   "id": "f7be66ab",
   "metadata": {
    "execution": {
     "iopub.execute_input": "2021-12-09T12:27:59.573826Z",
     "iopub.status.busy": "2021-12-09T12:27:59.573216Z",
     "iopub.status.idle": "2021-12-09T12:28:00.228645Z",
     "shell.execute_reply": "2021-12-09T12:28:00.227696Z"
    },
    "papermill": {
     "duration": 0.719472,
     "end_time": "2021-12-09T12:28:00.228794",
     "exception": false,
     "start_time": "2021-12-09T12:27:59.509322",
     "status": "completed"
    },
    "tags": []
   },
   "outputs": [
    {
     "name": "stderr",
     "output_type": "stream",
     "text": [
      "/opt/conda/lib/python3.7/site-packages/ipykernel_launcher.py:16: TracerWarning: Converting a tensor to a Python index might cause the trace to be incorrect. We can't record the data flow of Python values, so this value will be treated as a constant in the future. This means that the trace might not generalize to other inputs!\n",
      "  app.launch_new_instance()\n"
     ]
    }
   ],
   "source": [
    "import torch.onnx\n",
    "torch.onnx.export(model,               # model being run\n",
    "                  trial,                  # model input (or a tuple for multiple inputs)\n",
    "                  \"transformer-imdb.onnx\", opset_version = 11)"
   ]
  }
 ],
 "metadata": {
  "kernelspec": {
   "display_name": "Python 3",
   "language": "python",
   "name": "python3"
  },
  "language_info": {
   "codemirror_mode": {
    "name": "ipython",
    "version": 3
   },
   "file_extension": ".py",
   "mimetype": "text/x-python",
   "name": "python",
   "nbconvert_exporter": "python",
   "pygments_lexer": "ipython3",
   "version": "3.7.10"
  },
  "papermill": {
   "default_parameters": {},
   "duration": 5727.225234,
   "end_time": "2021-12-09T12:28:03.393021",
   "environment_variables": {},
   "exception": null,
   "input_path": "__notebook__.ipynb",
   "output_path": "__notebook__.ipynb",
   "parameters": {},
   "start_time": "2021-12-09T10:52:36.167787",
   "version": "2.3.3"
  }
 },
 "nbformat": 4,
 "nbformat_minor": 5
}
