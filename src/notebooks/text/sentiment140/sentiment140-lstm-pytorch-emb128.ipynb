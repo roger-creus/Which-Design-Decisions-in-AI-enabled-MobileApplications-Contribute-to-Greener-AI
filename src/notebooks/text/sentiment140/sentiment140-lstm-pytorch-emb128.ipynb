{
 "cells": [
  {
   "cell_type": "code",
   "execution_count": 1,
   "id": "f5c64a8c",
   "metadata": {
    "_cell_guid": "79c7e3d0-c299-4dcb-8224-4455121ee9b0",
    "_uuid": "d629ff2d2480ee46fbb7e2d37f6b5fab8052498a",
    "execution": {
     "iopub.execute_input": "2021-09-03T09:34:23.254022Z",
     "iopub.status.busy": "2021-09-03T09:34:23.253279Z",
     "iopub.status.idle": "2021-09-03T09:34:29.990810Z",
     "shell.execute_reply": "2021-09-03T09:34:29.990240Z",
     "shell.execute_reply.started": "2021-09-03T09:11:29.172319Z"
    },
    "papermill": {
     "duration": 6.76901,
     "end_time": "2021-09-03T09:34:29.990957",
     "exception": false,
     "start_time": "2021-09-03T09:34:23.221947",
     "status": "completed"
    },
    "tags": []
   },
   "outputs": [
    {
     "name": "stdout",
     "output_type": "stream",
     "text": [
      "[nltk_data] Downloading package stopwords to /usr/share/nltk_data...\n",
      "[nltk_data]   Package stopwords is already up-to-date!\n",
      "Tensorflow Version 2.4.1\n"
     ]
    }
   ],
   "source": [
    "import tensorflow as tf\n",
    "import matplotlib.pyplot as plt\n",
    "import pandas as pd\n",
    "import numpy as np\n",
    "\n",
    "\n",
    "import torch\n",
    "from torch.utils.data import TensorDataset, DataLoader\n",
    "import torch.nn as nn\n",
    "\n",
    "import nltk \n",
    "nltk.download('stopwords')\n",
    "from nltk.corpus import stopwords\n",
    "from nltk.stem import SnowballStemmer\n",
    "\n",
    "\n",
    "\n",
    "from sklearn.model_selection import train_test_split\n",
    "from sklearn.preprocessing import LabelEncoder\n",
    "\n",
    "\n",
    "import re\n",
    "\n",
    "print(\"Tensorflow Version\",tf.__version__)"
   ]
  },
  {
   "cell_type": "code",
   "execution_count": 2,
   "id": "6cd9d1ad",
   "metadata": {
    "execution": {
     "iopub.execute_input": "2021-09-03T09:34:30.031014Z",
     "iopub.status.busy": "2021-09-03T09:34:30.030474Z",
     "iopub.status.idle": "2021-09-03T09:34:36.375386Z",
     "shell.execute_reply": "2021-09-03T09:34:36.375798Z",
     "shell.execute_reply.started": "2021-09-03T09:11:38.156356Z"
    },
    "papermill": {
     "duration": 6.366599,
     "end_time": "2021-09-03T09:34:36.375954",
     "exception": false,
     "start_time": "2021-09-03T09:34:30.009355",
     "status": "completed"
    },
    "tags": []
   },
   "outputs": [
    {
     "data": {
      "text/html": [
       "<div>\n",
       "<style scoped>\n",
       "    .dataframe tbody tr th:only-of-type {\n",
       "        vertical-align: middle;\n",
       "    }\n",
       "\n",
       "    .dataframe tbody tr th {\n",
       "        vertical-align: top;\n",
       "    }\n",
       "\n",
       "    .dataframe thead th {\n",
       "        text-align: right;\n",
       "    }\n",
       "</style>\n",
       "<table border=\"1\" class=\"dataframe\">\n",
       "  <thead>\n",
       "    <tr style=\"text-align: right;\">\n",
       "      <th></th>\n",
       "      <th>0</th>\n",
       "      <th>1</th>\n",
       "      <th>2</th>\n",
       "      <th>3</th>\n",
       "      <th>4</th>\n",
       "      <th>5</th>\n",
       "    </tr>\n",
       "  </thead>\n",
       "  <tbody>\n",
       "    <tr>\n",
       "      <th>0</th>\n",
       "      <td>0</td>\n",
       "      <td>1467810369</td>\n",
       "      <td>Mon Apr 06 22:19:45 PDT 2009</td>\n",
       "      <td>NO_QUERY</td>\n",
       "      <td>_TheSpecialOne_</td>\n",
       "      <td>@switchfoot http://twitpic.com/2y1zl - Awww, t...</td>\n",
       "    </tr>\n",
       "    <tr>\n",
       "      <th>1</th>\n",
       "      <td>0</td>\n",
       "      <td>1467810672</td>\n",
       "      <td>Mon Apr 06 22:19:49 PDT 2009</td>\n",
       "      <td>NO_QUERY</td>\n",
       "      <td>scotthamilton</td>\n",
       "      <td>is upset that he can't update his Facebook by ...</td>\n",
       "    </tr>\n",
       "    <tr>\n",
       "      <th>2</th>\n",
       "      <td>0</td>\n",
       "      <td>1467810917</td>\n",
       "      <td>Mon Apr 06 22:19:53 PDT 2009</td>\n",
       "      <td>NO_QUERY</td>\n",
       "      <td>mattycus</td>\n",
       "      <td>@Kenichan I dived many times for the ball. Man...</td>\n",
       "    </tr>\n",
       "    <tr>\n",
       "      <th>3</th>\n",
       "      <td>0</td>\n",
       "      <td>1467811184</td>\n",
       "      <td>Mon Apr 06 22:19:57 PDT 2009</td>\n",
       "      <td>NO_QUERY</td>\n",
       "      <td>ElleCTF</td>\n",
       "      <td>my whole body feels itchy and like its on fire</td>\n",
       "    </tr>\n",
       "    <tr>\n",
       "      <th>4</th>\n",
       "      <td>0</td>\n",
       "      <td>1467811193</td>\n",
       "      <td>Mon Apr 06 22:19:57 PDT 2009</td>\n",
       "      <td>NO_QUERY</td>\n",
       "      <td>Karoli</td>\n",
       "      <td>@nationwideclass no, it's not behaving at all....</td>\n",
       "    </tr>\n",
       "  </tbody>\n",
       "</table>\n",
       "</div>"
      ],
      "text/plain": [
       "   0           1                             2         3                4  \\\n",
       "0  0  1467810369  Mon Apr 06 22:19:45 PDT 2009  NO_QUERY  _TheSpecialOne_   \n",
       "1  0  1467810672  Mon Apr 06 22:19:49 PDT 2009  NO_QUERY    scotthamilton   \n",
       "2  0  1467810917  Mon Apr 06 22:19:53 PDT 2009  NO_QUERY         mattycus   \n",
       "3  0  1467811184  Mon Apr 06 22:19:57 PDT 2009  NO_QUERY          ElleCTF   \n",
       "4  0  1467811193  Mon Apr 06 22:19:57 PDT 2009  NO_QUERY           Karoli   \n",
       "\n",
       "                                                   5  \n",
       "0  @switchfoot http://twitpic.com/2y1zl - Awww, t...  \n",
       "1  is upset that he can't update his Facebook by ...  \n",
       "2  @Kenichan I dived many times for the ball. Man...  \n",
       "3    my whole body feels itchy and like its on fire   \n",
       "4  @nationwideclass no, it's not behaving at all....  "
      ]
     },
     "execution_count": 2,
     "metadata": {},
     "output_type": "execute_result"
    }
   ],
   "source": [
    "df = pd.read_csv('../input/sentiment140/training.1600000.processed.noemoticon.csv',\n",
    "                 encoding = 'latin',header=None)\n",
    "df.head()"
   ]
  },
  {
   "cell_type": "code",
   "execution_count": 3,
   "id": "85d3c9ea",
   "metadata": {
    "execution": {
     "iopub.execute_input": "2021-09-03T09:34:36.424048Z",
     "iopub.status.busy": "2021-09-03T09:34:36.423492Z",
     "iopub.status.idle": "2021-09-03T09:34:36.426625Z",
     "shell.execute_reply": "2021-09-03T09:34:36.427035Z",
     "shell.execute_reply.started": "2021-09-03T09:11:44.455625Z"
    },
    "papermill": {
     "duration": 0.032825,
     "end_time": "2021-09-03T09:34:36.427147",
     "exception": false,
     "start_time": "2021-09-03T09:34:36.394322",
     "status": "completed"
    },
    "tags": []
   },
   "outputs": [
    {
     "data": {
      "text/html": [
       "<div>\n",
       "<style scoped>\n",
       "    .dataframe tbody tr th:only-of-type {\n",
       "        vertical-align: middle;\n",
       "    }\n",
       "\n",
       "    .dataframe tbody tr th {\n",
       "        vertical-align: top;\n",
       "    }\n",
       "\n",
       "    .dataframe thead th {\n",
       "        text-align: right;\n",
       "    }\n",
       "</style>\n",
       "<table border=\"1\" class=\"dataframe\">\n",
       "  <thead>\n",
       "    <tr style=\"text-align: right;\">\n",
       "      <th></th>\n",
       "      <th>sentiment</th>\n",
       "      <th>id</th>\n",
       "      <th>date</th>\n",
       "      <th>query</th>\n",
       "      <th>user_id</th>\n",
       "      <th>text</th>\n",
       "    </tr>\n",
       "  </thead>\n",
       "  <tbody>\n",
       "    <tr>\n",
       "      <th>0</th>\n",
       "      <td>0</td>\n",
       "      <td>1467810369</td>\n",
       "      <td>Mon Apr 06 22:19:45 PDT 2009</td>\n",
       "      <td>NO_QUERY</td>\n",
       "      <td>_TheSpecialOne_</td>\n",
       "      <td>@switchfoot http://twitpic.com/2y1zl - Awww, t...</td>\n",
       "    </tr>\n",
       "    <tr>\n",
       "      <th>1</th>\n",
       "      <td>0</td>\n",
       "      <td>1467810672</td>\n",
       "      <td>Mon Apr 06 22:19:49 PDT 2009</td>\n",
       "      <td>NO_QUERY</td>\n",
       "      <td>scotthamilton</td>\n",
       "      <td>is upset that he can't update his Facebook by ...</td>\n",
       "    </tr>\n",
       "    <tr>\n",
       "      <th>2</th>\n",
       "      <td>0</td>\n",
       "      <td>1467810917</td>\n",
       "      <td>Mon Apr 06 22:19:53 PDT 2009</td>\n",
       "      <td>NO_QUERY</td>\n",
       "      <td>mattycus</td>\n",
       "      <td>@Kenichan I dived many times for the ball. Man...</td>\n",
       "    </tr>\n",
       "    <tr>\n",
       "      <th>3</th>\n",
       "      <td>0</td>\n",
       "      <td>1467811184</td>\n",
       "      <td>Mon Apr 06 22:19:57 PDT 2009</td>\n",
       "      <td>NO_QUERY</td>\n",
       "      <td>ElleCTF</td>\n",
       "      <td>my whole body feels itchy and like its on fire</td>\n",
       "    </tr>\n",
       "    <tr>\n",
       "      <th>4</th>\n",
       "      <td>0</td>\n",
       "      <td>1467811193</td>\n",
       "      <td>Mon Apr 06 22:19:57 PDT 2009</td>\n",
       "      <td>NO_QUERY</td>\n",
       "      <td>Karoli</td>\n",
       "      <td>@nationwideclass no, it's not behaving at all....</td>\n",
       "    </tr>\n",
       "  </tbody>\n",
       "</table>\n",
       "</div>"
      ],
      "text/plain": [
       "   sentiment          id                          date     query  \\\n",
       "0          0  1467810369  Mon Apr 06 22:19:45 PDT 2009  NO_QUERY   \n",
       "1          0  1467810672  Mon Apr 06 22:19:49 PDT 2009  NO_QUERY   \n",
       "2          0  1467810917  Mon Apr 06 22:19:53 PDT 2009  NO_QUERY   \n",
       "3          0  1467811184  Mon Apr 06 22:19:57 PDT 2009  NO_QUERY   \n",
       "4          0  1467811193  Mon Apr 06 22:19:57 PDT 2009  NO_QUERY   \n",
       "\n",
       "           user_id                                               text  \n",
       "0  _TheSpecialOne_  @switchfoot http://twitpic.com/2y1zl - Awww, t...  \n",
       "1    scotthamilton  is upset that he can't update his Facebook by ...  \n",
       "2         mattycus  @Kenichan I dived many times for the ball. Man...  \n",
       "3          ElleCTF    my whole body feels itchy and like its on fire   \n",
       "4           Karoli  @nationwideclass no, it's not behaving at all....  "
      ]
     },
     "execution_count": 3,
     "metadata": {},
     "output_type": "execute_result"
    }
   ],
   "source": [
    "df.columns = ['sentiment', 'id', 'date', 'query', 'user_id', 'text']\n",
    "df.head()"
   ]
  },
  {
   "cell_type": "code",
   "execution_count": 4,
   "id": "b9003c01",
   "metadata": {
    "execution": {
     "iopub.execute_input": "2021-09-03T09:34:36.500464Z",
     "iopub.status.busy": "2021-09-03T09:34:36.499870Z",
     "iopub.status.idle": "2021-09-03T09:34:36.503082Z",
     "shell.execute_reply": "2021-09-03T09:34:36.502645Z",
     "shell.execute_reply.started": "2021-09-03T09:11:44.474355Z"
    },
    "papermill": {
     "duration": 0.057819,
     "end_time": "2021-09-03T09:34:36.503192",
     "exception": false,
     "start_time": "2021-09-03T09:34:36.445373",
     "status": "completed"
    },
    "tags": []
   },
   "outputs": [],
   "source": [
    "df = df.drop(['id', 'date', 'query', 'user_id'], axis=1)"
   ]
  },
  {
   "cell_type": "code",
   "execution_count": 5,
   "id": "561ba163",
   "metadata": {
    "execution": {
     "iopub.execute_input": "2021-09-03T09:34:36.575563Z",
     "iopub.status.busy": "2021-09-03T09:34:36.544138Z",
     "iopub.status.idle": "2021-09-03T09:34:37.030536Z",
     "shell.execute_reply": "2021-09-03T09:34:37.029605Z",
     "shell.execute_reply.started": "2021-09-03T09:11:44.529414Z"
    },
    "papermill": {
     "duration": 0.508827,
     "end_time": "2021-09-03T09:34:37.030689",
     "exception": false,
     "start_time": "2021-09-03T09:34:36.521862",
     "status": "completed"
    },
    "tags": []
   },
   "outputs": [
    {
     "data": {
      "text/html": [
       "<div>\n",
       "<style scoped>\n",
       "    .dataframe tbody tr th:only-of-type {\n",
       "        vertical-align: middle;\n",
       "    }\n",
       "\n",
       "    .dataframe tbody tr th {\n",
       "        vertical-align: top;\n",
       "    }\n",
       "\n",
       "    .dataframe thead th {\n",
       "        text-align: right;\n",
       "    }\n",
       "</style>\n",
       "<table border=\"1\" class=\"dataframe\">\n",
       "  <thead>\n",
       "    <tr style=\"text-align: right;\">\n",
       "      <th></th>\n",
       "      <th>sentiment</th>\n",
       "      <th>text</th>\n",
       "    </tr>\n",
       "  </thead>\n",
       "  <tbody>\n",
       "    <tr>\n",
       "      <th>0</th>\n",
       "      <td>Negative</td>\n",
       "      <td>@switchfoot http://twitpic.com/2y1zl - Awww, t...</td>\n",
       "    </tr>\n",
       "    <tr>\n",
       "      <th>1</th>\n",
       "      <td>Negative</td>\n",
       "      <td>is upset that he can't update his Facebook by ...</td>\n",
       "    </tr>\n",
       "    <tr>\n",
       "      <th>2</th>\n",
       "      <td>Negative</td>\n",
       "      <td>@Kenichan I dived many times for the ball. Man...</td>\n",
       "    </tr>\n",
       "    <tr>\n",
       "      <th>3</th>\n",
       "      <td>Negative</td>\n",
       "      <td>my whole body feels itchy and like its on fire</td>\n",
       "    </tr>\n",
       "    <tr>\n",
       "      <th>4</th>\n",
       "      <td>Negative</td>\n",
       "      <td>@nationwideclass no, it's not behaving at all....</td>\n",
       "    </tr>\n",
       "  </tbody>\n",
       "</table>\n",
       "</div>"
      ],
      "text/plain": [
       "  sentiment                                               text\n",
       "0  Negative  @switchfoot http://twitpic.com/2y1zl - Awww, t...\n",
       "1  Negative  is upset that he can't update his Facebook by ...\n",
       "2  Negative  @Kenichan I dived many times for the ball. Man...\n",
       "3  Negative    my whole body feels itchy and like its on fire \n",
       "4  Negative  @nationwideclass no, it's not behaving at all...."
      ]
     },
     "execution_count": 5,
     "metadata": {},
     "output_type": "execute_result"
    }
   ],
   "source": [
    "lab_to_sentiment = {0:\"Negative\", 4:\"Positive\"}\n",
    "def label_decoder(label):\n",
    "  return lab_to_sentiment[label]\n",
    "df.sentiment = df.sentiment.apply(lambda x: label_decoder(x))\n",
    "df.head()"
   ]
  },
  {
   "cell_type": "code",
   "execution_count": 6,
   "id": "af1aa112",
   "metadata": {
    "execution": {
     "iopub.execute_input": "2021-09-03T09:34:37.378018Z",
     "iopub.status.busy": "2021-09-03T09:34:37.376899Z",
     "iopub.status.idle": "2021-09-03T09:34:37.518717Z",
     "shell.execute_reply": "2021-09-03T09:34:37.519128Z",
     "shell.execute_reply.started": "2021-09-03T09:11:45.086921Z"
    },
    "papermill": {
     "duration": 0.466215,
     "end_time": "2021-09-03T09:34:37.519274",
     "exception": false,
     "start_time": "2021-09-03T09:34:37.053059",
     "status": "completed"
    },
    "tags": []
   },
   "outputs": [
    {
     "data": {
      "text/plain": [
       "Text(0.5, 1.0, 'Sentiment Data Distribution')"
      ]
     },
     "execution_count": 6,
     "metadata": {},
     "output_type": "execute_result"
    },
    {
     "data": {
      "image/png": "[encoded data removed]",
      "text/plain": [
       "<Figure size 576x288 with 1 Axes>"
      ]
     },
     "metadata": {
      "needs_background": "light"
     },
     "output_type": "display_data"
    }
   ],
   "source": [
    "val_count = df.sentiment.value_counts()\n",
    "\n",
    "plt.figure(figsize=(8,4))\n",
    "plt.bar(val_count.index, val_count.values)\n",
    "plt.title(\"Sentiment Data Distribution\")"
   ]
  },
  {
   "cell_type": "code",
   "execution_count": 7,
   "id": "3745a943",
   "metadata": {
    "execution": {
     "iopub.execute_input": "2021-09-03T09:34:37.564366Z",
     "iopub.status.busy": "2021-09-03T09:34:37.563497Z",
     "iopub.status.idle": "2021-09-03T09:34:37.682550Z",
     "shell.execute_reply": "2021-09-03T09:34:37.682979Z",
     "shell.execute_reply.started": "2021-09-03T09:11:45.562521Z"
    },
    "papermill": {
     "duration": 0.143809,
     "end_time": "2021-09-03T09:34:37.683123",
     "exception": false,
     "start_time": "2021-09-03T09:34:37.539314",
     "status": "completed"
    },
    "tags": []
   },
   "outputs": [
    {
     "data": {
      "text/html": [
       "<div>\n",
       "<style scoped>\n",
       "    .dataframe tbody tr th:only-of-type {\n",
       "        vertical-align: middle;\n",
       "    }\n",
       "\n",
       "    .dataframe tbody tr th {\n",
       "        vertical-align: top;\n",
       "    }\n",
       "\n",
       "    .dataframe thead th {\n",
       "        text-align: right;\n",
       "    }\n",
       "</style>\n",
       "<table border=\"1\" class=\"dataframe\">\n",
       "  <thead>\n",
       "    <tr style=\"text-align: right;\">\n",
       "      <th></th>\n",
       "      <th>sentiment</th>\n",
       "      <th>text</th>\n",
       "    </tr>\n",
       "  </thead>\n",
       "  <tbody>\n",
       "    <tr>\n",
       "      <th>157795</th>\n",
       "      <td>Negative</td>\n",
       "      <td>@NoeIsaac I still have to see it!!!</td>\n",
       "    </tr>\n",
       "    <tr>\n",
       "      <th>346105</th>\n",
       "      <td>Negative</td>\n",
       "      <td>Second BBQ of the year this evening. Then Appr...</td>\n",
       "    </tr>\n",
       "    <tr>\n",
       "      <th>714117</th>\n",
       "      <td>Negative</td>\n",
       "      <td>@slpnbuuuty Ouch!   Was there blood? Are you g...</td>\n",
       "    </tr>\n",
       "    <tr>\n",
       "      <th>1009455</th>\n",
       "      <td>Positive</td>\n",
       "      <td>Yay! Passed.</td>\n",
       "    </tr>\n",
       "    <tr>\n",
       "      <th>911022</th>\n",
       "      <td>Positive</td>\n",
       "      <td>@kakakatey That's cause Ovie is the one man te...</td>\n",
       "    </tr>\n",
       "    <tr>\n",
       "      <th>969008</th>\n",
       "      <td>Positive</td>\n",
       "      <td>@garykarr just one good one?! Btw - Amy looked...</td>\n",
       "    </tr>\n",
       "    <tr>\n",
       "      <th>1568705</th>\n",
       "      <td>Positive</td>\n",
       "      <td>driver goes FREE at Agroventures: http://twirl...</td>\n",
       "    </tr>\n",
       "    <tr>\n",
       "      <th>1088619</th>\n",
       "      <td>Positive</td>\n",
       "      <td>ok im finna lay it down. its been fun...1st da...</td>\n",
       "    </tr>\n",
       "    <tr>\n",
       "      <th>693640</th>\n",
       "      <td>Negative</td>\n",
       "      <td>I miss my computer</td>\n",
       "    </tr>\n",
       "    <tr>\n",
       "      <th>625696</th>\n",
       "      <td>Negative</td>\n",
       "      <td>@courgamm i can't see the picture  tell me wha...</td>\n",
       "    </tr>\n",
       "  </tbody>\n",
       "</table>\n",
       "</div>"
      ],
      "text/plain": [
       "        sentiment                                               text\n",
       "157795   Negative               @NoeIsaac I still have to see it!!! \n",
       "346105   Negative  Second BBQ of the year this evening. Then Appr...\n",
       "714117   Negative  @slpnbuuuty Ouch!   Was there blood? Are you g...\n",
       "1009455  Positive                                      Yay! Passed. \n",
       "911022   Positive  @kakakatey That's cause Ovie is the one man te...\n",
       "969008   Positive  @garykarr just one good one?! Btw - Amy looked...\n",
       "1568705  Positive  driver goes FREE at Agroventures: http://twirl...\n",
       "1088619  Positive  ok im finna lay it down. its been fun...1st da...\n",
       "693640   Negative                                I miss my computer \n",
       "625696   Negative  @courgamm i can't see the picture  tell me wha..."
      ]
     },
     "execution_count": 7,
     "metadata": {},
     "output_type": "execute_result"
    }
   ],
   "source": [
    "import random\n",
    "random_idx_list = [random.randint(1,len(df.text)) for i in range(10)] # creates random indexes to choose from dataframe\n",
    "df.loc[random_idx_list,:].head(10) # Returns the rows with the index and display it"
   ]
  },
  {
   "cell_type": "code",
   "execution_count": 8,
   "id": "013b550e",
   "metadata": {
    "execution": {
     "iopub.execute_input": "2021-09-03T09:34:37.728161Z",
     "iopub.status.busy": "2021-09-03T09:34:37.727551Z",
     "iopub.status.idle": "2021-09-03T09:34:37.732252Z",
     "shell.execute_reply": "2021-09-03T09:34:37.731857Z",
     "shell.execute_reply.started": "2021-09-03T09:11:45.723806Z"
    },
    "papermill": {
     "duration": 0.029081,
     "end_time": "2021-09-03T09:34:37.732356",
     "exception": false,
     "start_time": "2021-09-03T09:34:37.703275",
     "status": "completed"
    },
    "tags": []
   },
   "outputs": [],
   "source": [
    "stop_words = stopwords.words('english')\n",
    "stemmer = SnowballStemmer('english')\n",
    "\n",
    "text_cleaning_re = \"@\\S+|https?:\\S+|http?:\\S|[^A-Za-z0-9]+\""
   ]
  },
  {
   "cell_type": "code",
   "execution_count": 9,
   "id": "1562c681",
   "metadata": {
    "execution": {
     "iopub.execute_input": "2021-09-03T09:34:37.778100Z",
     "iopub.status.busy": "2021-09-03T09:34:37.777404Z",
     "iopub.status.idle": "2021-09-03T09:34:37.779729Z",
     "shell.execute_reply": "2021-09-03T09:34:37.780105Z",
     "shell.execute_reply.started": "2021-09-03T09:11:45.736315Z"
    },
    "papermill": {
     "duration": 0.027125,
     "end_time": "2021-09-03T09:34:37.780225",
     "exception": false,
     "start_time": "2021-09-03T09:34:37.753100",
     "status": "completed"
    },
    "tags": []
   },
   "outputs": [],
   "source": [
    "def preprocess(text, stem=False):\n",
    "  text = re.sub(text_cleaning_re, ' ', str(text).lower()).strip()\n",
    "  tokens = []\n",
    "  for token in text.split():\n",
    "    if token not in stop_words:\n",
    "      if stem:\n",
    "        tokens.append(stemmer.stem(token))\n",
    "      else:\n",
    "        tokens.append(token)\n",
    "  return \" \".join(tokens)"
   ]
  },
  {
   "cell_type": "code",
   "execution_count": 10,
   "id": "3da44489",
   "metadata": {
    "execution": {
     "iopub.execute_input": "2021-09-03T09:34:37.825005Z",
     "iopub.status.busy": "2021-09-03T09:34:37.824154Z",
     "iopub.status.idle": "2021-09-03T09:35:35.840396Z",
     "shell.execute_reply": "2021-09-03T09:35:35.839925Z",
     "shell.execute_reply.started": "2021-09-03T09:11:45.747244Z"
    },
    "papermill": {
     "duration": 58.040423,
     "end_time": "2021-09-03T09:35:35.840545",
     "exception": false,
     "start_time": "2021-09-03T09:34:37.800122",
     "status": "completed"
    },
    "tags": []
   },
   "outputs": [],
   "source": [
    "df.text = df.text.apply(lambda x: preprocess(x))\n",
    "device = \"cuda:0\""
   ]
  },
  {
   "cell_type": "markdown",
   "id": "9ccba5b0",
   "metadata": {
    "papermill": {
     "duration": 0.01992,
     "end_time": "2021-09-03T09:35:35.881132",
     "exception": false,
     "start_time": "2021-09-03T09:35:35.861212",
     "status": "completed"
    },
    "tags": []
   },
   "source": [
    "## Train and Test Split"
   ]
  },
  {
   "cell_type": "code",
   "execution_count": 11,
   "id": "3f71fad2",
   "metadata": {
    "execution": {
     "iopub.execute_input": "2021-09-03T09:35:35.926785Z",
     "iopub.status.busy": "2021-09-03T09:35:35.925554Z",
     "iopub.status.idle": "2021-09-03T09:35:35.927913Z",
     "shell.execute_reply": "2021-09-03T09:35:35.928273Z",
     "shell.execute_reply.started": "2021-09-03T09:12:41.733248Z"
    },
    "papermill": {
     "duration": 0.02687,
     "end_time": "2021-09-03T09:35:35.928395",
     "exception": false,
     "start_time": "2021-09-03T09:35:35.901525",
     "status": "completed"
    },
    "tags": []
   },
   "outputs": [],
   "source": [
    "TRAIN_SIZE = 0.8 \n",
    "MAX_NB_WORDS = 100000\n",
    "MAX_SEQUENCE_LENGTH = 30\n",
    "EMBEDDING_DIM = 10\n",
    "LR = 1e-3\n",
    "BATCH_SIZE = 4096\n",
    "EPOCHS = 10"
   ]
  },
  {
   "cell_type": "code",
   "execution_count": 12,
   "id": "8ed98f46",
   "metadata": {
    "execution": {
     "iopub.execute_input": "2021-09-03T09:35:35.973057Z",
     "iopub.status.busy": "2021-09-03T09:35:35.972254Z",
     "iopub.status.idle": "2021-09-03T09:35:36.388537Z",
     "shell.execute_reply": "2021-09-03T09:35:36.388104Z",
     "shell.execute_reply.started": "2021-09-03T09:12:41.742218Z"
    },
    "papermill": {
     "duration": 0.440501,
     "end_time": "2021-09-03T09:35:36.388682",
     "exception": false,
     "start_time": "2021-09-03T09:35:35.948181",
     "status": "completed"
    },
    "tags": []
   },
   "outputs": [
    {
     "name": "stdout",
     "output_type": "stream",
     "text": [
      "Train Data size: 1280000\n",
      "Test Data size 320000\n"
     ]
    }
   ],
   "source": [
    "train_data, test_data = train_test_split(df, test_size=1-TRAIN_SIZE,\n",
    "                                         random_state=7) # Splits Dataset into Training and Testing set\n",
    "print(\"Train Data size:\", len(train_data))\n",
    "print(\"Test Data size\", len(test_data))"
   ]
  },
  {
   "cell_type": "code",
   "execution_count": 13,
   "id": "03096fc2",
   "metadata": {
    "execution": {
     "iopub.execute_input": "2021-09-03T09:35:36.434019Z",
     "iopub.status.busy": "2021-09-03T09:35:36.433349Z",
     "iopub.status.idle": "2021-09-03T09:35:53.405723Z",
     "shell.execute_reply": "2021-09-03T09:35:53.405267Z",
     "shell.execute_reply.started": "2021-09-03T09:12:42.215147Z"
    },
    "papermill": {
     "duration": 16.996616,
     "end_time": "2021-09-03T09:35:53.405843",
     "exception": false,
     "start_time": "2021-09-03T09:35:36.409227",
     "status": "completed"
    },
    "tags": []
   },
   "outputs": [
    {
     "name": "stdout",
     "output_type": "stream",
     "text": [
      "Vocabulary Size : 290575\n"
     ]
    }
   ],
   "source": [
    "from keras.preprocessing.text import Tokenizer\n",
    "\n",
    "tokenizer = Tokenizer()\n",
    "tokenizer.fit_on_texts(train_data.text)\n",
    "\n",
    "word_index = tokenizer.word_index\n",
    "vocab_size = len(tokenizer.word_index) + 1\n",
    "print(\"Vocabulary Size :\", vocab_size)"
   ]
  },
  {
   "cell_type": "code",
   "execution_count": 14,
   "id": "f039e94d",
   "metadata": {
    "execution": {
     "iopub.execute_input": "2021-09-03T09:35:53.474921Z",
     "iopub.status.busy": "2021-09-03T09:35:53.469535Z",
     "iopub.status.idle": "2021-09-03T09:35:53.695792Z",
     "shell.execute_reply": "2021-09-03T09:35:53.695323Z",
     "shell.execute_reply.started": "2021-09-03T09:13:02.99239Z"
    },
    "papermill": {
     "duration": 0.269082,
     "end_time": "2021-09-03T09:35:53.695925",
     "exception": false,
     "start_time": "2021-09-03T09:35:53.426843",
     "status": "completed"
    },
    "tags": []
   },
   "outputs": [],
   "source": [
    "import os \n",
    "with open('twitter_dictionary.txt', 'w') as file:\n",
    "    for key in word_index.keys():\n",
    "        file.write(key + \" \" + str(word_index[key]) + \",\")"
   ]
  },
  {
   "cell_type": "code",
   "execution_count": 15,
   "id": "26bdca3a",
   "metadata": {
    "execution": {
     "iopub.execute_input": "2021-09-03T09:35:53.742425Z",
     "iopub.status.busy": "2021-09-03T09:35:53.741853Z",
     "iopub.status.idle": "2021-09-03T09:36:23.620868Z",
     "shell.execute_reply": "2021-09-03T09:36:23.620436Z",
     "shell.execute_reply.started": "2021-09-03T09:13:03.345624Z"
    },
    "papermill": {
     "duration": 29.904279,
     "end_time": "2021-09-03T09:36:23.620998",
     "exception": false,
     "start_time": "2021-09-03T09:35:53.716719",
     "status": "completed"
    },
    "tags": []
   },
   "outputs": [
    {
     "name": "stdout",
     "output_type": "stream",
     "text": [
      "Training X Shape: (1280000, 30)\n",
      "Testing X Shape: (320000, 30)\n",
      "<class 'numpy.ndarray'>\n",
      "<class 'numpy.ndarray'>\n"
     ]
    }
   ],
   "source": [
    "from keras.preprocessing.sequence import pad_sequences\n",
    "\n",
    "x_train = pad_sequences(tokenizer.texts_to_sequences(train_data.text),\n",
    "                        maxlen = MAX_SEQUENCE_LENGTH)\n",
    "x_test = pad_sequences(tokenizer.texts_to_sequences(test_data.text),\n",
    "                       maxlen = MAX_SEQUENCE_LENGTH)\n",
    "\n",
    "print(\"Training X Shape:\",x_train.shape)\n",
    "print(\"Testing X Shape:\",x_test.shape)\n",
    "\n",
    "print(type(x_train))\n",
    "print(type(x_test))"
   ]
  },
  {
   "cell_type": "code",
   "execution_count": 16,
   "id": "a7f9933a",
   "metadata": {
    "execution": {
     "iopub.execute_input": "2021-09-03T09:36:23.669980Z",
     "iopub.status.busy": "2021-09-03T09:36:23.669135Z",
     "iopub.status.idle": "2021-09-03T09:36:23.672950Z",
     "shell.execute_reply": "2021-09-03T09:36:23.672532Z",
     "shell.execute_reply.started": "2021-09-03T09:13:37.890933Z"
    },
    "papermill": {
     "duration": 0.030679,
     "end_time": "2021-09-03T09:36:23.673052",
     "exception": false,
     "start_time": "2021-09-03T09:36:23.642373",
     "status": "completed"
    },
    "tags": []
   },
   "outputs": [
    {
     "data": {
      "text/plain": [
       "array([  0,   0,   0,   0,   0,   0,   0,   0,   0,   0,   0,   0,   0,\n",
       "         0,   0,   0,   0,   0,   0,   0,   0,   0,   0,   0,   0,   0,\n",
       "         0,   0,  34, 110], dtype=int32)"
      ]
     },
     "execution_count": 16,
     "metadata": {},
     "output_type": "execute_result"
    }
   ],
   "source": [
    "x_train[0]"
   ]
  },
  {
   "cell_type": "code",
   "execution_count": 17,
   "id": "c7d6ea33",
   "metadata": {
    "execution": {
     "iopub.execute_input": "2021-09-03T09:36:23.784490Z",
     "iopub.status.busy": "2021-09-03T09:36:23.783753Z",
     "iopub.status.idle": "2021-09-03T09:36:23.803739Z",
     "shell.execute_reply": "2021-09-03T09:36:23.804142Z",
     "shell.execute_reply.started": "2021-09-03T09:13:37.904074Z"
    },
    "papermill": {
     "duration": 0.109439,
     "end_time": "2021-09-03T09:36:23.804266",
     "exception": false,
     "start_time": "2021-09-03T09:36:23.694827",
     "status": "completed"
    },
    "tags": []
   },
   "outputs": [],
   "source": [
    "labels = train_data.sentiment.unique().tolist()"
   ]
  },
  {
   "cell_type": "code",
   "execution_count": 18,
   "id": "4701d667",
   "metadata": {
    "execution": {
     "iopub.execute_input": "2021-09-03T09:36:24.009982Z",
     "iopub.status.busy": "2021-09-03T09:36:24.009076Z",
     "iopub.status.idle": "2021-09-03T09:36:25.006688Z",
     "shell.execute_reply": "2021-09-03T09:36:25.006238Z",
     "shell.execute_reply.started": "2021-09-03T09:13:38.021565Z"
    },
    "papermill": {
     "duration": 1.181021,
     "end_time": "2021-09-03T09:36:25.006805",
     "exception": false,
     "start_time": "2021-09-03T09:36:23.825784",
     "status": "completed"
    },
    "tags": []
   },
   "outputs": [
    {
     "name": "stdout",
     "output_type": "stream",
     "text": [
      "y_train shape: (1280000, 1)\n",
      "y_test shape: (320000, 1)\n"
     ]
    }
   ],
   "source": [
    "encoder = LabelEncoder()\n",
    "encoder.fit(train_data.sentiment.to_list())\n",
    "\n",
    "y_train = encoder.transform(train_data.sentiment.to_list())\n",
    "y_test = encoder.transform(test_data.sentiment.to_list())\n",
    "\n",
    "y_train = y_train.reshape(-1,1)\n",
    "y_test = y_test.reshape(-1,1)\n",
    "\n",
    "train_data = TensorDataset(torch.from_numpy(x_train), torch.from_numpy(y_train))\n",
    "test_data = TensorDataset(torch.from_numpy(x_test), torch.from_numpy(y_test))\n",
    "\n",
    "train_loader = DataLoader(train_data, shuffle=True, batch_size=BATCH_SIZE, drop_last = True)\n",
    "test_loader = DataLoader(test_data, shuffle=True, batch_size=BATCH_SIZE, drop_last = True)\n",
    "\n",
    "print(\"y_train shape:\", y_train.shape)\n",
    "print(\"y_test shape:\", y_test.shape)"
   ]
  },
  {
   "cell_type": "code",
   "execution_count": 19,
   "id": "04654692",
   "metadata": {
    "execution": {
     "iopub.execute_input": "2021-09-03T09:36:25.060577Z",
     "iopub.status.busy": "2021-09-03T09:36:25.059908Z",
     "iopub.status.idle": "2021-09-03T09:36:25.062685Z",
     "shell.execute_reply": "2021-09-03T09:36:25.062259Z",
     "shell.execute_reply.started": "2021-09-03T09:13:39.218448Z"
    },
    "papermill": {
     "duration": 0.03436,
     "end_time": "2021-09-03T09:36:25.062795",
     "exception": false,
     "start_time": "2021-09-03T09:36:25.028435",
     "status": "completed"
    },
    "tags": []
   },
   "outputs": [],
   "source": [
    "class SentimentNet(nn.Module):\n",
    "    def __init__(self, vocab_size, output_size, embedding_dim, hidden_dim, n_layers, drop_prob=0.5):\n",
    "        super(SentimentNet, self).__init__()\n",
    "        self.output_size = output_size\n",
    "        self.n_layers = n_layers\n",
    "        self.hidden_dim = hidden_dim\n",
    "        \n",
    "        \n",
    "        self.embedding = nn.Embedding(vocab_size, embedding_dim)\n",
    "        #self.conv = nn.Conv1d(embedding_dim, 8, kernel_size=5)\n",
    "        self.lstm = nn.LSTM(embedding_dim, hidden_dim, n_layers, dropout=drop_prob, batch_first=True)\n",
    "        #self.gru = nn.GRU(embedding_dim, hidden_dim, n_layers, dropout=drop_prob, batch_first=True)\n",
    "        self.dropout = nn.Dropout(drop_prob)\n",
    "        self.fc = nn.Linear(hidden_dim, output_size)\n",
    "        self.sigmoid = nn.Sigmoid()\n",
    "        \n",
    "    def forward(self, x, hidden):\n",
    "        #print(x.shape)\n",
    "        if len(x) != 1:\n",
    "            batch_size = x.size(0)\n",
    "        else:\n",
    "            batch_size = 1\n",
    "        x = x.long()\n",
    "        embeds = self.embedding(x)\n",
    "\n",
    "        #conv = self.conv(x)\n",
    "        \n",
    "        lstm_out, hidden = self.lstm(embeds, hidden)\n",
    "        lstm_out = lstm_out.contiguous().view(-1, self.hidden_dim)\n",
    "        \n",
    "        out = self.dropout(lstm_out)\n",
    "        out = self.fc(out)\n",
    "        out = self.sigmoid(out)\n",
    "        \n",
    "        out = out.view(batch_size, -1)\n",
    "        out = out[:,-1]\n",
    "        return out, hidden\n",
    "    \n",
    "    def init_hidden(self, batch_size):\n",
    "        weight = next(self.parameters()).data\n",
    "        hidden = (weight.new(self.n_layers, batch_size, self.hidden_dim).zero_().to(device),weight.new(self.n_layers, batch_size, self.hidden_dim).zero_().to(device))\n",
    "        #hidden = (weight.new(self.n_layers, batch_size, self.hidden_dim).zero_(),\n",
    "        #             weight.new(self.n_layers, batch_size, self.hidden_dim).zero_())\n",
    "        return hidden"
   ]
  },
  {
   "cell_type": "code",
   "execution_count": 20,
   "id": "9b6e6dc1",
   "metadata": {
    "execution": {
     "iopub.execute_input": "2021-09-03T09:36:25.110595Z",
     "iopub.status.busy": "2021-09-03T09:36:25.109961Z",
     "iopub.status.idle": "2021-09-03T09:36:25.112300Z",
     "shell.execute_reply": "2021-09-03T09:36:25.112708Z",
     "shell.execute_reply.started": "2021-09-03T09:13:39.239784Z"
    },
    "papermill": {
     "duration": 0.028219,
     "end_time": "2021-09-03T09:36:25.112823",
     "exception": false,
     "start_time": "2021-09-03T09:36:25.084604",
     "status": "completed"
    },
    "tags": []
   },
   "outputs": [],
   "source": [
    "def model_params(model):\n",
    "    pp=0\n",
    "    for p in list(model.parameters()):\n",
    "        nn=1\n",
    "        for s in list(p.size()):\n",
    "            nn = nn*s\n",
    "        pp += nn\n",
    "    return pp"
   ]
  },
  {
   "cell_type": "code",
   "execution_count": 21,
   "id": "e6c6976e",
   "metadata": {
    "execution": {
     "iopub.execute_input": "2021-09-03T09:36:25.160521Z",
     "iopub.status.busy": "2021-09-03T09:36:25.160034Z",
     "iopub.status.idle": "2021-09-03T09:36:32.180148Z",
     "shell.execute_reply": "2021-09-03T09:36:32.180881Z",
     "shell.execute_reply.started": "2021-09-03T09:13:39.256765Z"
    },
    "papermill": {
     "duration": 7.046819,
     "end_time": "2021-09-03T09:36:32.181085",
     "exception": false,
     "start_time": "2021-09-03T09:36:25.134266",
     "status": "completed"
    },
    "tags": []
   },
   "outputs": [
    {
     "name": "stderr",
     "output_type": "stream",
     "text": [
      "/opt/conda/lib/python3.7/site-packages/torch/nn/modules/rnn.py:61: UserWarning: dropout option adds dropout after all but last recurrent layer, so non-zero dropout expects num_layers greater than 1, but got dropout=0.5 and num_layers=1\n",
      "  \"num_layers={}\".format(dropout, num_layers))\n"
     ]
    },
    {
     "name": "stdout",
     "output_type": "stream",
     "text": [
      "37195749\n"
     ]
    }
   ],
   "source": [
    "output_size = 1\n",
    "embedding_dim = 128\n",
    "hidden_dim = 4\n",
    "n_layers = 1\n",
    "\n",
    "model = SentimentNet(vocab_size, output_size, embedding_dim, hidden_dim, n_layers)\n",
    "print(model_params(model))\n",
    "model.to(device)\n",
    "lr=0.008\n",
    "criterion = nn.BCELoss()\n",
    "optimizer = torch.optim.Adam(model.parameters(), lr=lr)"
   ]
  },
  {
   "cell_type": "code",
   "execution_count": 22,
   "id": "084ad115",
   "metadata": {
    "execution": {
     "iopub.execute_input": "2021-09-03T09:36:32.261398Z",
     "iopub.status.busy": "2021-09-03T09:36:32.260872Z",
     "iopub.status.idle": "2021-09-03T09:42:19.450874Z",
     "shell.execute_reply": "2021-09-03T09:42:19.449934Z",
     "shell.execute_reply.started": "2021-09-03T09:13:53.072263Z"
    },
    "papermill": {
     "duration": 347.233143,
     "end_time": "2021-09-03T09:42:19.451029",
     "exception": false,
     "start_time": "2021-09-03T09:36:32.217886",
     "status": "completed"
    },
    "tags": []
   },
   "outputs": [
    {
     "name": "stdout",
     "output_type": "stream",
     "text": [
      "Epoch: 1/10... Step: 100... Loss: 0.595616... Val Loss: 0.559234\n",
      "Validation loss decreased (inf --> 0.559234).  Saving model ...\n",
      "Epoch: 1/10... Step: 200... Loss: 0.560503... Val Loss: 0.525385\n",
      "Validation loss decreased (0.559234 --> 0.525385).  Saving model ...\n",
      "Epoch: 1/10... Step: 300... Loss: 0.543411... Val Loss: 0.509830\n",
      "Validation loss decreased (0.525385 --> 0.509830).  Saving model ...\n",
      "Epoch: 2/10... Step: 400... Loss: 0.535628... Val Loss: 0.499954\n",
      "Validation loss decreased (0.509830 --> 0.499954).  Saving model ...\n",
      "Epoch: 2/10... Step: 500... Loss: 0.515044... Val Loss: 0.494356\n",
      "Validation loss decreased (0.499954 --> 0.494356).  Saving model ...\n",
      "Epoch: 2/10... Step: 600... Loss: 0.516833... Val Loss: 0.489569\n",
      "Validation loss decreased (0.494356 --> 0.489569).  Saving model ...\n",
      "Epoch: 3/10... Step: 700... Loss: 0.504902... Val Loss: 0.483323\n",
      "Validation loss decreased (0.489569 --> 0.483323).  Saving model ...\n",
      "Epoch: 3/10... Step: 800... Loss: 0.504520... Val Loss: 0.479524\n",
      "Validation loss decreased (0.483323 --> 0.479524).  Saving model ...\n",
      "Epoch: 3/10... Step: 900... Loss: 0.488260... Val Loss: 0.478516\n",
      "Validation loss decreased (0.479524 --> 0.478516).  Saving model ...\n",
      "Epoch: 4/10... Step: 1000... Loss: 0.477588... Val Loss: 0.478064\n",
      "Validation loss decreased (0.478516 --> 0.478064).  Saving model ...\n",
      "Epoch: 4/10... Step: 1100... Loss: 0.481622... Val Loss: 0.475779\n",
      "Validation loss decreased (0.478064 --> 0.475779).  Saving model ...\n",
      "Epoch: 4/10... Step: 1200... Loss: 0.465063... Val Loss: 0.474423\n",
      "Validation loss decreased (0.475779 --> 0.474423).  Saving model ...\n",
      "Epoch: 5/10... Step: 1300... Loss: 0.451349... Val Loss: 0.476858\n",
      "Epoch: 5/10... Step: 1400... Loss: 0.461716... Val Loss: 0.477378\n",
      "Epoch: 5/10... Step: 1500... Loss: 0.468477... Val Loss: 0.475010\n",
      "Epoch: 6/10... Step: 1600... Loss: 0.449519... Val Loss: 0.481757\n",
      "Epoch: 6/10... Step: 1700... Loss: 0.433762... Val Loss: 0.479953\n",
      "Epoch: 6/10... Step: 1800... Loss: 0.436173... Val Loss: 0.480012\n",
      "Epoch: 7/10... Step: 1900... Loss: 0.417994... Val Loss: 0.484087\n",
      "Epoch: 7/10... Step: 2000... Loss: 0.433616... Val Loss: 0.487020\n",
      "Epoch: 7/10... Step: 2100... Loss: 0.429916... Val Loss: 0.488267\n",
      "Epoch: 8/10... Step: 2200... Loss: 0.425174... Val Loss: 0.487413\n",
      "Epoch: 8/10... Step: 2300... Loss: 0.416530... Val Loss: 0.492961\n",
      "Epoch: 8/10... Step: 2400... Loss: 0.410018... Val Loss: 0.492455\n",
      "Epoch: 9/10... Step: 2500... Loss: 0.404741... Val Loss: 0.492854\n",
      "Epoch: 9/10... Step: 2600... Loss: 0.410320... Val Loss: 0.502600\n",
      "Epoch: 9/10... Step: 2700... Loss: 0.418564... Val Loss: 0.499622\n",
      "Epoch: 9/10... Step: 2800... Loss: 0.406831... Val Loss: 0.497025\n",
      "Epoch: 10/10... Step: 2900... Loss: 0.415938... Val Loss: 0.506023\n",
      "Epoch: 10/10... Step: 3000... Loss: 0.421039... Val Loss: 0.503698\n",
      "Epoch: 10/10... Step: 3100... Loss: 0.408669... Val Loss: 0.510460\n"
     ]
    }
   ],
   "source": [
    "epochs = 10\n",
    "counter = 0\n",
    "print_every = 100\n",
    "clip = 5\n",
    "valid_loss_min = np.Inf\n",
    "\n",
    "model.train()\n",
    "for i in range(epochs):\n",
    "    h = model.init_hidden(BATCH_SIZE)\n",
    "    \n",
    "    for inputs, labels in train_loader:\n",
    "        counter += 1\n",
    "        h = tuple([e.data for e in h])\n",
    "        inputs, labels = inputs.to(device), labels.to(device)\n",
    "        model.zero_grad()\n",
    "        output, h = model(inputs, h)\n",
    "        loss = criterion(output.unsqueeze(1), labels.float())\n",
    "        loss.backward()\n",
    "        #nn.utils.clip_grad_norm_(model.parameters(), clip)\n",
    "        optimizer.step()\n",
    "        \n",
    "        if counter%print_every == 0:\n",
    "            val_h = model.init_hidden(BATCH_SIZE)\n",
    "            val_losses = []\n",
    "            model.eval()\n",
    "            for inp, lab in test_loader:\n",
    "                val_h = tuple([each.data for each in val_h])\n",
    "                inp, lab = inp.to(device), lab.to(device)\n",
    "                out, val_h = model(inp, val_h)\n",
    "                val_loss = criterion(out.unsqueeze(1), lab.float())\n",
    "                val_losses.append(val_loss.item())\n",
    "                \n",
    "            model.train()\n",
    "            print(\"Epoch: {}/{}...\".format(i+1, epochs),\n",
    "                  \"Step: {}...\".format(counter),\n",
    "                  \"Loss: {:.6f}...\".format(loss.item()),\n",
    "                  \"Val Loss: {:.6f}\".format(np.mean(val_losses)))\n",
    "            if np.mean(val_losses) <= valid_loss_min:\n",
    "                torch.save(model.state_dict(), './state_dict.pt')\n",
    "                print('Validation loss decreased ({:.6f} --> {:.6f}).  Saving model ...'.format(valid_loss_min,np.mean(val_losses)))\n",
    "                valid_loss_min = np.mean(val_losses)"
   ]
  },
  {
   "cell_type": "code",
   "execution_count": 23,
   "id": "b1d3fbbf",
   "metadata": {
    "execution": {
     "iopub.execute_input": "2021-09-03T09:42:19.521848Z",
     "iopub.status.busy": "2021-09-03T09:42:19.520639Z",
     "iopub.status.idle": "2021-09-03T09:42:19.523366Z",
     "shell.execute_reply": "2021-09-03T09:42:19.522974Z"
    },
    "papermill": {
     "duration": 0.039217,
     "end_time": "2021-09-03T09:42:19.523481",
     "exception": false,
     "start_time": "2021-09-03T09:42:19.484264",
     "status": "completed"
    },
    "tags": []
   },
   "outputs": [],
   "source": [
    "h = model.init_hidden(1)"
   ]
  },
  {
   "cell_type": "code",
   "execution_count": 24,
   "id": "903c5672",
   "metadata": {
    "execution": {
     "iopub.execute_input": "2021-09-03T09:42:19.593365Z",
     "iopub.status.busy": "2021-09-03T09:42:19.592881Z",
     "iopub.status.idle": "2021-09-03T09:42:19.625392Z",
     "shell.execute_reply": "2021-09-03T09:42:19.625792Z"
    },
    "papermill": {
     "duration": 0.069816,
     "end_time": "2021-09-03T09:42:19.625914",
     "exception": false,
     "start_time": "2021-09-03T09:42:19.556098",
     "status": "completed"
    },
    "tags": []
   },
   "outputs": [
    {
     "name": "stdout",
     "output_type": "stream",
     "text": [
      "tensor([[ 0,  0,  0,  0,  0,  0,  0,  0,  0,  0,  0,  0,  0,  0,  0,  0,  0,  0,\n",
      "          0,  0,  0,  0,  0,  0,  0,  0,  0,  0,  9, 98]], device='cuda:0',\n",
      "       dtype=torch.int32)\n"
     ]
    },
    {
     "data": {
      "text/plain": [
       "tensor([0.9145], device='cuda:0', grad_fn=<SelectBackward>)"
      ]
     },
     "execution_count": 24,
     "metadata": {},
     "output_type": "execute_result"
    }
   ],
   "source": [
    "sentence = \"I love my life\"\n",
    "trial = torch.tensor(pad_sequences(tokenizer.texts_to_sequences([sentence]), maxlen = MAX_SEQUENCE_LENGTH)).to(device)\n",
    "print(trial)\n",
    "\n",
    "model(trial, h)[0]"
   ]
  },
  {
   "cell_type": "code",
   "execution_count": 25,
   "id": "672ad07e",
   "metadata": {
    "execution": {
     "iopub.execute_input": "2021-09-03T09:42:19.696506Z",
     "iopub.status.busy": "2021-09-03T09:42:19.695824Z",
     "iopub.status.idle": "2021-09-03T09:42:20.735394Z",
     "shell.execute_reply": "2021-09-03T09:42:20.734488Z"
    },
    "papermill": {
     "duration": 1.076302,
     "end_time": "2021-09-03T09:42:20.735541",
     "exception": false,
     "start_time": "2021-09-03T09:42:19.659239",
     "status": "completed"
    },
    "tags": []
   },
   "outputs": [
    {
     "name": "stderr",
     "output_type": "stream",
     "text": [
      "/opt/conda/lib/python3.7/site-packages/ipykernel_launcher.py:19: TracerWarning: Converting a tensor to a Python index might cause the trace to be incorrect. We can't record the data flow of Python values, so this value will be treated as a constant in the future. This means that the trace might not generalize to other inputs!\n",
      "/opt/conda/lib/python3.7/site-packages/torch/onnx/symbolic_opset9.py:1805: UserWarning: Exporting a model to ONNX with a batch_size other than 1, with a variable length with LSTM can cause an error when running the ONNX model with a different batch size. Make sure to save the model with a batch size of 1, or define the initial states (h0/c0) as inputs of the model. \n",
      "  \"or define the initial states (h0/c0) as inputs of the model. \")\n"
     ]
    }
   ],
   "source": [
    "import torch.onnx\n",
    "torch.onnx.export(model,               # model being run\n",
    "                  (trial, (torch.randn(1,1,4).to(device), torch.randn(1,1,4).to(device))),                   # model input (or a tuple for multiple inputs)\n",
    "                  \"lstm-PT.onnx\")"
   ]
  }
 ],
 "metadata": {
  "kernelspec": {
   "display_name": "Python 3",
   "language": "python",
   "name": "python3"
  },
  "language_info": {
   "codemirror_mode": {
    "name": "ipython",
    "version": 3
   },
   "file_extension": ".py",
   "mimetype": "text/x-python",
   "name": "python",
   "nbconvert_exporter": "python",
   "pygments_lexer": "ipython3",
   "version": "3.7.10"
  },
  "papermill": {
   "default_parameters": {},
   "duration": 486.70911,
   "end_time": "2021-09-03T09:42:23.273507",
   "environment_variables": {},
   "exception": null,
   "input_path": "__notebook__.ipynb",
   "output_path": "__notebook__.ipynb",
   "parameters": {},
   "start_time": "2021-09-03T09:34:16.564397",
   "version": "2.3.3"
  }
 },
 "nbformat": 4,
 "nbformat_minor": 5
}
