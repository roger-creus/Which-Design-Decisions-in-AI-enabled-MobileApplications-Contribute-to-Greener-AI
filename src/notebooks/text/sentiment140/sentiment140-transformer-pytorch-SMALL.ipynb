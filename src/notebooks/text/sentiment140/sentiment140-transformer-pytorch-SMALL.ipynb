{
 "cells": [
  {
   "cell_type": "code",
   "execution_count": 1,
   "id": "75e5449e",
   "metadata": {
    "_cell_guid": "79c7e3d0-c299-4dcb-8224-4455121ee9b0",
    "_uuid": "d629ff2d2480ee46fbb7e2d37f6b5fab8052498a",
    "execution": {
     "iopub.execute_input": "2021-12-09T10:51:52.701128Z",
     "iopub.status.busy": "2021-12-09T10:51:52.700007Z",
     "iopub.status.idle": "2021-12-09T10:52:02.023721Z",
     "shell.execute_reply": "2021-12-09T10:52:02.022767Z",
     "shell.execute_reply.started": "2021-12-08T21:20:29.493378Z"
    },
    "papermill": {
     "duration": 9.356525,
     "end_time": "2021-12-09T10:52:02.023945",
     "exception": false,
     "start_time": "2021-12-09T10:51:52.667420",
     "status": "completed"
    },
    "tags": []
   },
   "outputs": [
    {
     "name": "stdout",
     "output_type": "stream",
     "text": [
      "[nltk_data] Downloading package stopwords to /usr/share/nltk_data...\n",
      "[nltk_data]   Unzipping corpora/stopwords.zip.\n"
     ]
    }
   ],
   "source": [
    "import numpy as np\n",
    "import pandas as pd\n",
    "from torch import nn\n",
    "\n",
    "import matplotlib.pyplot as plt\n",
    "import seaborn as sns\n",
    "\n",
    "import torch.nn.functional as F\n",
    "\n",
    "import re\n",
    "import string\n",
    "from collections import Counter\n",
    "from nltk.corpus import stopwords\n",
    "stop_words = set(stopwords.words('english'))\n",
    "\n",
    "from sklearn.model_selection import train_test_split\n",
    "\n",
    "import torch\n",
    "from torch.utils.data import DataLoader, TensorDataset\n",
    "import torch.nn as nn\n",
    "\n",
    "import pandas as pd\n",
    "import numpy as np\n",
    "import bz2\n",
    "import matplotlib.pyplot as plt\n",
    "import sklearn\n",
    "import tensorflow as tf\n",
    "from tensorflow.keras import models, layers, optimizers\n",
    "from tensorflow.keras.preprocessing.text import Tokenizer, text_to_word_sequence\n",
    "from tensorflow.keras.preprocessing.sequence import pad_sequences\n",
    "from sklearn.preprocessing import LabelEncoder\n",
    "\n",
    "%matplotlib inline\n",
    "\n",
    "import nltk \n",
    "nltk.download('stopwords')\n",
    "from nltk.corpus import stopwords\n",
    "from nltk.stem import SnowballStemmer"
   ]
  },
  {
   "cell_type": "code",
   "execution_count": 2,
   "id": "3b3add98",
   "metadata": {
    "execution": {
     "iopub.execute_input": "2021-12-09T10:52:02.075199Z",
     "iopub.status.busy": "2021-12-09T10:52:02.074083Z",
     "iopub.status.idle": "2021-12-09T10:52:02.077708Z",
     "shell.execute_reply": "2021-12-09T10:52:02.077148Z",
     "shell.execute_reply.started": "2021-12-08T21:20:36.834834Z"
    },
    "papermill": {
     "duration": 0.031222,
     "end_time": "2021-12-09T10:52:02.077888",
     "exception": false,
     "start_time": "2021-12-09T10:52:02.046666",
     "status": "completed"
    },
    "tags": []
   },
   "outputs": [],
   "source": [
    "device = \"cuda:0\""
   ]
  },
  {
   "cell_type": "code",
   "execution_count": 3,
   "id": "1546ca65",
   "metadata": {
    "execution": {
     "iopub.execute_input": "2021-12-09T10:52:02.127247Z",
     "iopub.status.busy": "2021-12-09T10:52:02.126551Z",
     "iopub.status.idle": "2021-12-09T10:52:09.123148Z",
     "shell.execute_reply": "2021-12-09T10:52:09.122516Z",
     "shell.execute_reply.started": "2021-12-08T21:20:36.84162Z"
    },
    "papermill": {
     "duration": 7.023538,
     "end_time": "2021-12-09T10:52:09.123303",
     "exception": false,
     "start_time": "2021-12-09T10:52:02.099765",
     "status": "completed"
    },
    "tags": []
   },
   "outputs": [
    {
     "data": {
      "text/html": [
       "<div>\n",
       "<style scoped>\n",
       "    .dataframe tbody tr th:only-of-type {\n",
       "        vertical-align: middle;\n",
       "    }\n",
       "\n",
       "    .dataframe tbody tr th {\n",
       "        vertical-align: top;\n",
       "    }\n",
       "\n",
       "    .dataframe thead th {\n",
       "        text-align: right;\n",
       "    }\n",
       "</style>\n",
       "<table border=\"1\" class=\"dataframe\">\n",
       "  <thead>\n",
       "    <tr style=\"text-align: right;\">\n",
       "      <th></th>\n",
       "      <th>0</th>\n",
       "      <th>1</th>\n",
       "      <th>2</th>\n",
       "      <th>3</th>\n",
       "      <th>4</th>\n",
       "      <th>5</th>\n",
       "    </tr>\n",
       "  </thead>\n",
       "  <tbody>\n",
       "    <tr>\n",
       "      <th>0</th>\n",
       "      <td>0</td>\n",
       "      <td>1467810369</td>\n",
       "      <td>Mon Apr 06 22:19:45 PDT 2009</td>\n",
       "      <td>NO_QUERY</td>\n",
       "      <td>_TheSpecialOne_</td>\n",
       "      <td>@switchfoot http://twitpic.com/2y1zl - Awww, t...</td>\n",
       "    </tr>\n",
       "    <tr>\n",
       "      <th>1</th>\n",
       "      <td>0</td>\n",
       "      <td>1467810672</td>\n",
       "      <td>Mon Apr 06 22:19:49 PDT 2009</td>\n",
       "      <td>NO_QUERY</td>\n",
       "      <td>scotthamilton</td>\n",
       "      <td>is upset that he can't update his Facebook by ...</td>\n",
       "    </tr>\n",
       "    <tr>\n",
       "      <th>2</th>\n",
       "      <td>0</td>\n",
       "      <td>1467810917</td>\n",
       "      <td>Mon Apr 06 22:19:53 PDT 2009</td>\n",
       "      <td>NO_QUERY</td>\n",
       "      <td>mattycus</td>\n",
       "      <td>@Kenichan I dived many times for the ball. Man...</td>\n",
       "    </tr>\n",
       "    <tr>\n",
       "      <th>3</th>\n",
       "      <td>0</td>\n",
       "      <td>1467811184</td>\n",
       "      <td>Mon Apr 06 22:19:57 PDT 2009</td>\n",
       "      <td>NO_QUERY</td>\n",
       "      <td>ElleCTF</td>\n",
       "      <td>my whole body feels itchy and like its on fire</td>\n",
       "    </tr>\n",
       "    <tr>\n",
       "      <th>4</th>\n",
       "      <td>0</td>\n",
       "      <td>1467811193</td>\n",
       "      <td>Mon Apr 06 22:19:57 PDT 2009</td>\n",
       "      <td>NO_QUERY</td>\n",
       "      <td>Karoli</td>\n",
       "      <td>@nationwideclass no, it's not behaving at all....</td>\n",
       "    </tr>\n",
       "  </tbody>\n",
       "</table>\n",
       "</div>"
      ],
      "text/plain": [
       "   0           1                             2         3                4  \\\n",
       "0  0  1467810369  Mon Apr 06 22:19:45 PDT 2009  NO_QUERY  _TheSpecialOne_   \n",
       "1  0  1467810672  Mon Apr 06 22:19:49 PDT 2009  NO_QUERY    scotthamilton   \n",
       "2  0  1467810917  Mon Apr 06 22:19:53 PDT 2009  NO_QUERY         mattycus   \n",
       "3  0  1467811184  Mon Apr 06 22:19:57 PDT 2009  NO_QUERY          ElleCTF   \n",
       "4  0  1467811193  Mon Apr 06 22:19:57 PDT 2009  NO_QUERY           Karoli   \n",
       "\n",
       "                                                   5  \n",
       "0  @switchfoot http://twitpic.com/2y1zl - Awww, t...  \n",
       "1  is upset that he can't update his Facebook by ...  \n",
       "2  @Kenichan I dived many times for the ball. Man...  \n",
       "3    my whole body feels itchy and like its on fire   \n",
       "4  @nationwideclass no, it's not behaving at all....  "
      ]
     },
     "execution_count": 3,
     "metadata": {},
     "output_type": "execute_result"
    }
   ],
   "source": [
    "df = pd.read_csv('../input/sentiment140/training.1600000.processed.noemoticon.csv',\n",
    "                 encoding = 'latin',header=None)\n",
    "df.head()"
   ]
  },
  {
   "cell_type": "code",
   "execution_count": 4,
   "id": "ca4184e8",
   "metadata": {
    "execution": {
     "iopub.execute_input": "2021-12-09T10:52:09.184776Z",
     "iopub.status.busy": "2021-12-09T10:52:09.183559Z",
     "iopub.status.idle": "2021-12-09T10:52:09.188874Z",
     "shell.execute_reply": "2021-12-09T10:52:09.188315Z",
     "shell.execute_reply.started": "2021-12-08T21:20:42.779936Z"
    },
    "papermill": {
     "duration": 0.043022,
     "end_time": "2021-12-09T10:52:09.189027",
     "exception": false,
     "start_time": "2021-12-09T10:52:09.146005",
     "status": "completed"
    },
    "tags": []
   },
   "outputs": [
    {
     "data": {
      "text/html": [
       "<div>\n",
       "<style scoped>\n",
       "    .dataframe tbody tr th:only-of-type {\n",
       "        vertical-align: middle;\n",
       "    }\n",
       "\n",
       "    .dataframe tbody tr th {\n",
       "        vertical-align: top;\n",
       "    }\n",
       "\n",
       "    .dataframe thead th {\n",
       "        text-align: right;\n",
       "    }\n",
       "</style>\n",
       "<table border=\"1\" class=\"dataframe\">\n",
       "  <thead>\n",
       "    <tr style=\"text-align: right;\">\n",
       "      <th></th>\n",
       "      <th>sentiment</th>\n",
       "      <th>id</th>\n",
       "      <th>date</th>\n",
       "      <th>query</th>\n",
       "      <th>user_id</th>\n",
       "      <th>text</th>\n",
       "    </tr>\n",
       "  </thead>\n",
       "  <tbody>\n",
       "    <tr>\n",
       "      <th>0</th>\n",
       "      <td>0</td>\n",
       "      <td>1467810369</td>\n",
       "      <td>Mon Apr 06 22:19:45 PDT 2009</td>\n",
       "      <td>NO_QUERY</td>\n",
       "      <td>_TheSpecialOne_</td>\n",
       "      <td>@switchfoot http://twitpic.com/2y1zl - Awww, t...</td>\n",
       "    </tr>\n",
       "    <tr>\n",
       "      <th>1</th>\n",
       "      <td>0</td>\n",
       "      <td>1467810672</td>\n",
       "      <td>Mon Apr 06 22:19:49 PDT 2009</td>\n",
       "      <td>NO_QUERY</td>\n",
       "      <td>scotthamilton</td>\n",
       "      <td>is upset that he can't update his Facebook by ...</td>\n",
       "    </tr>\n",
       "    <tr>\n",
       "      <th>2</th>\n",
       "      <td>0</td>\n",
       "      <td>1467810917</td>\n",
       "      <td>Mon Apr 06 22:19:53 PDT 2009</td>\n",
       "      <td>NO_QUERY</td>\n",
       "      <td>mattycus</td>\n",
       "      <td>@Kenichan I dived many times for the ball. Man...</td>\n",
       "    </tr>\n",
       "    <tr>\n",
       "      <th>3</th>\n",
       "      <td>0</td>\n",
       "      <td>1467811184</td>\n",
       "      <td>Mon Apr 06 22:19:57 PDT 2009</td>\n",
       "      <td>NO_QUERY</td>\n",
       "      <td>ElleCTF</td>\n",
       "      <td>my whole body feels itchy and like its on fire</td>\n",
       "    </tr>\n",
       "    <tr>\n",
       "      <th>4</th>\n",
       "      <td>0</td>\n",
       "      <td>1467811193</td>\n",
       "      <td>Mon Apr 06 22:19:57 PDT 2009</td>\n",
       "      <td>NO_QUERY</td>\n",
       "      <td>Karoli</td>\n",
       "      <td>@nationwideclass no, it's not behaving at all....</td>\n",
       "    </tr>\n",
       "  </tbody>\n",
       "</table>\n",
       "</div>"
      ],
      "text/plain": [
       "   sentiment          id                          date     query  \\\n",
       "0          0  1467810369  Mon Apr 06 22:19:45 PDT 2009  NO_QUERY   \n",
       "1          0  1467810672  Mon Apr 06 22:19:49 PDT 2009  NO_QUERY   \n",
       "2          0  1467810917  Mon Apr 06 22:19:53 PDT 2009  NO_QUERY   \n",
       "3          0  1467811184  Mon Apr 06 22:19:57 PDT 2009  NO_QUERY   \n",
       "4          0  1467811193  Mon Apr 06 22:19:57 PDT 2009  NO_QUERY   \n",
       "\n",
       "           user_id                                               text  \n",
       "0  _TheSpecialOne_  @switchfoot http://twitpic.com/2y1zl - Awww, t...  \n",
       "1    scotthamilton  is upset that he can't update his Facebook by ...  \n",
       "2         mattycus  @Kenichan I dived many times for the ball. Man...  \n",
       "3          ElleCTF    my whole body feels itchy and like its on fire   \n",
       "4           Karoli  @nationwideclass no, it's not behaving at all....  "
      ]
     },
     "execution_count": 4,
     "metadata": {},
     "output_type": "execute_result"
    }
   ],
   "source": [
    "df.columns = ['sentiment', 'id', 'date', 'query', 'user_id', 'text']\n",
    "df.head()"
   ]
  },
  {
   "cell_type": "code",
   "execution_count": 5,
   "id": "bfd67321",
   "metadata": {
    "execution": {
     "iopub.execute_input": "2021-12-09T10:52:09.278262Z",
     "iopub.status.busy": "2021-12-09T10:52:09.277192Z",
     "iopub.status.idle": "2021-12-09T10:52:09.280292Z",
     "shell.execute_reply": "2021-12-09T10:52:09.280782Z",
     "shell.execute_reply.started": "2021-12-08T21:20:42.797882Z"
    },
    "papermill": {
     "duration": 0.068994,
     "end_time": "2021-12-09T10:52:09.281021",
     "exception": false,
     "start_time": "2021-12-09T10:52:09.212027",
     "status": "completed"
    },
    "tags": []
   },
   "outputs": [],
   "source": [
    "df = df.drop(['id', 'date', 'query', 'user_id'], axis=1)"
   ]
  },
  {
   "cell_type": "code",
   "execution_count": 6,
   "id": "eedeb35f",
   "metadata": {
    "execution": {
     "iopub.execute_input": "2021-12-09T10:52:09.368782Z",
     "iopub.status.busy": "2021-12-09T10:52:09.367652Z",
     "iopub.status.idle": "2021-12-09T10:52:09.913911Z",
     "shell.execute_reply": "2021-12-09T10:52:09.913348Z",
     "shell.execute_reply.started": "2021-12-08T21:20:42.837857Z"
    },
    "papermill": {
     "duration": 0.610242,
     "end_time": "2021-12-09T10:52:09.914082",
     "exception": false,
     "start_time": "2021-12-09T10:52:09.303840",
     "status": "completed"
    },
    "tags": []
   },
   "outputs": [
    {
     "data": {
      "text/html": [
       "<div>\n",
       "<style scoped>\n",
       "    .dataframe tbody tr th:only-of-type {\n",
       "        vertical-align: middle;\n",
       "    }\n",
       "\n",
       "    .dataframe tbody tr th {\n",
       "        vertical-align: top;\n",
       "    }\n",
       "\n",
       "    .dataframe thead th {\n",
       "        text-align: right;\n",
       "    }\n",
       "</style>\n",
       "<table border=\"1\" class=\"dataframe\">\n",
       "  <thead>\n",
       "    <tr style=\"text-align: right;\">\n",
       "      <th></th>\n",
       "      <th>sentiment</th>\n",
       "      <th>text</th>\n",
       "    </tr>\n",
       "  </thead>\n",
       "  <tbody>\n",
       "    <tr>\n",
       "      <th>0</th>\n",
       "      <td>Negative</td>\n",
       "      <td>@switchfoot http://twitpic.com/2y1zl - Awww, t...</td>\n",
       "    </tr>\n",
       "    <tr>\n",
       "      <th>1</th>\n",
       "      <td>Negative</td>\n",
       "      <td>is upset that he can't update his Facebook by ...</td>\n",
       "    </tr>\n",
       "    <tr>\n",
       "      <th>2</th>\n",
       "      <td>Negative</td>\n",
       "      <td>@Kenichan I dived many times for the ball. Man...</td>\n",
       "    </tr>\n",
       "    <tr>\n",
       "      <th>3</th>\n",
       "      <td>Negative</td>\n",
       "      <td>my whole body feels itchy and like its on fire</td>\n",
       "    </tr>\n",
       "    <tr>\n",
       "      <th>4</th>\n",
       "      <td>Negative</td>\n",
       "      <td>@nationwideclass no, it's not behaving at all....</td>\n",
       "    </tr>\n",
       "  </tbody>\n",
       "</table>\n",
       "</div>"
      ],
      "text/plain": [
       "  sentiment                                               text\n",
       "0  Negative  @switchfoot http://twitpic.com/2y1zl - Awww, t...\n",
       "1  Negative  is upset that he can't update his Facebook by ...\n",
       "2  Negative  @Kenichan I dived many times for the ball. Man...\n",
       "3  Negative    my whole body feels itchy and like its on fire \n",
       "4  Negative  @nationwideclass no, it's not behaving at all...."
      ]
     },
     "execution_count": 6,
     "metadata": {},
     "output_type": "execute_result"
    }
   ],
   "source": [
    "lab_to_sentiment = {0:\"Negative\", 4:\"Positive\"}\n",
    "def label_decoder(label):\n",
    "  return lab_to_sentiment[label]\n",
    "df.sentiment = df.sentiment.apply(lambda x: label_decoder(x))\n",
    "df.head()"
   ]
  },
  {
   "cell_type": "code",
   "execution_count": 7,
   "id": "aa197648",
   "metadata": {
    "execution": {
     "iopub.execute_input": "2021-12-09T10:52:10.257695Z",
     "iopub.status.busy": "2021-12-09T10:52:10.256606Z",
     "iopub.status.idle": "2021-12-09T10:52:10.457791Z",
     "shell.execute_reply": "2021-12-09T10:52:10.458372Z",
     "shell.execute_reply.started": "2021-12-08T21:20:43.355646Z"
    },
    "papermill": {
     "duration": 0.519901,
     "end_time": "2021-12-09T10:52:10.458577",
     "exception": false,
     "start_time": "2021-12-09T10:52:09.938676",
     "status": "completed"
    },
    "tags": []
   },
   "outputs": [
    {
     "data": {
      "text/plain": [
       "Text(0.5, 1.0, 'Sentiment Data Distribution')"
      ]
     },
     "execution_count": 7,
     "metadata": {},
     "output_type": "execute_result"
    },
    {
     "data": {
      "image/png": "[encoded data removed]",
      "text/plain": [
       "<Figure size 576x288 with 1 Axes>"
      ]
     },
     "metadata": {
      "needs_background": "light"
     },
     "output_type": "display_data"
    }
   ],
   "source": [
    "val_count = df.sentiment.value_counts()\n",
    "\n",
    "plt.figure(figsize=(8,4))\n",
    "plt.bar(val_count.index, val_count.values)\n",
    "plt.title(\"Sentiment Data Distribution\")"
   ]
  },
  {
   "cell_type": "code",
   "execution_count": 8,
   "id": "4417fba7",
   "metadata": {
    "execution": {
     "iopub.execute_input": "2021-12-09T10:52:10.515888Z",
     "iopub.status.busy": "2021-12-09T10:52:10.514716Z",
     "iopub.status.idle": "2021-12-09T10:52:10.660368Z",
     "shell.execute_reply": "2021-12-09T10:52:10.660924Z",
     "shell.execute_reply.started": "2021-12-08T21:20:43.800168Z"
    },
    "papermill": {
     "duration": 0.177933,
     "end_time": "2021-12-09T10:52:10.661137",
     "exception": false,
     "start_time": "2021-12-09T10:52:10.483204",
     "status": "completed"
    },
    "tags": []
   },
   "outputs": [
    {
     "data": {
      "text/html": [
       "<div>\n",
       "<style scoped>\n",
       "    .dataframe tbody tr th:only-of-type {\n",
       "        vertical-align: middle;\n",
       "    }\n",
       "\n",
       "    .dataframe tbody tr th {\n",
       "        vertical-align: top;\n",
       "    }\n",
       "\n",
       "    .dataframe thead th {\n",
       "        text-align: right;\n",
       "    }\n",
       "</style>\n",
       "<table border=\"1\" class=\"dataframe\">\n",
       "  <thead>\n",
       "    <tr style=\"text-align: right;\">\n",
       "      <th></th>\n",
       "      <th>sentiment</th>\n",
       "      <th>text</th>\n",
       "    </tr>\n",
       "  </thead>\n",
       "  <tbody>\n",
       "    <tr>\n",
       "      <th>1258550</th>\n",
       "      <td>Positive</td>\n",
       "      <td>Deciding to use Twitter more often, and follow...</td>\n",
       "    </tr>\n",
       "    <tr>\n",
       "      <th>1035013</th>\n",
       "      <td>Positive</td>\n",
       "      <td>Feeling better. Thank goodness</td>\n",
       "    </tr>\n",
       "    <tr>\n",
       "      <th>1092417</th>\n",
       "      <td>Positive</td>\n",
       "      <td>@repetej Absolutely!</td>\n",
       "    </tr>\n",
       "    <tr>\n",
       "      <th>35072</th>\n",
       "      <td>Negative</td>\n",
       "      <td>Watching my baby boy he has a super bad cough,...</td>\n",
       "    </tr>\n",
       "    <tr>\n",
       "      <th>1589481</th>\n",
       "      <td>Positive</td>\n",
       "      <td>Good Morning FAM!!</td>\n",
       "    </tr>\n",
       "    <tr>\n",
       "      <th>121984</th>\n",
       "      <td>Negative</td>\n",
       "      <td>The earthquake scared me cuz u never kno when ...</td>\n",
       "    </tr>\n",
       "    <tr>\n",
       "      <th>953399</th>\n",
       "      <td>Positive</td>\n",
       "      <td>Good night by the way angels &amp;amp; demos was p...</td>\n",
       "    </tr>\n",
       "    <tr>\n",
       "      <th>1302766</th>\n",
       "      <td>Positive</td>\n",
       "      <td>blame it on the goose</td>\n",
       "    </tr>\n",
       "    <tr>\n",
       "      <th>720115</th>\n",
       "      <td>Negative</td>\n",
       "      <td>omgee im not goin sch today  &amp;amp; goin for a ...</td>\n",
       "    </tr>\n",
       "    <tr>\n",
       "      <th>490185</th>\n",
       "      <td>Negative</td>\n",
       "      <td>So all of a sudden my eye starts to hurt like ...</td>\n",
       "    </tr>\n",
       "  </tbody>\n",
       "</table>\n",
       "</div>"
      ],
      "text/plain": [
       "        sentiment                                               text\n",
       "1258550  Positive  Deciding to use Twitter more often, and follow...\n",
       "1035013  Positive                    Feeling better. Thank goodness \n",
       "1092417  Positive                              @repetej Absolutely! \n",
       "35072    Negative  Watching my baby boy he has a super bad cough,...\n",
       "1589481  Positive                                Good Morning FAM!! \n",
       "121984   Negative  The earthquake scared me cuz u never kno when ...\n",
       "953399   Positive  Good night by the way angels &amp; demos was p...\n",
       "1302766  Positive                             blame it on the goose \n",
       "720115   Negative  omgee im not goin sch today  &amp; goin for a ...\n",
       "490185   Negative  So all of a sudden my eye starts to hurt like ..."
      ]
     },
     "execution_count": 8,
     "metadata": {},
     "output_type": "execute_result"
    }
   ],
   "source": [
    "import random\n",
    "random_idx_list = [random.randint(1,len(df.text)) for i in range(10)] # creates random indexes to choose from dataframe\n",
    "df.loc[random_idx_list,:].head(10) # Returns the rows with the index and display it"
   ]
  },
  {
   "cell_type": "code",
   "execution_count": 9,
   "id": "702b3542",
   "metadata": {
    "execution": {
     "iopub.execute_input": "2021-12-09T10:52:10.716884Z",
     "iopub.status.busy": "2021-12-09T10:52:10.716206Z",
     "iopub.status.idle": "2021-12-09T10:52:10.722262Z",
     "shell.execute_reply": "2021-12-09T10:52:10.721592Z",
     "shell.execute_reply.started": "2021-12-08T21:20:43.933435Z"
    },
    "papermill": {
     "duration": 0.036089,
     "end_time": "2021-12-09T10:52:10.722420",
     "exception": false,
     "start_time": "2021-12-09T10:52:10.686331",
     "status": "completed"
    },
    "tags": []
   },
   "outputs": [],
   "source": [
    "stop_words = stopwords.words('english')\n",
    "stemmer = SnowballStemmer('english')\n",
    "\n",
    "text_cleaning_re = \"@\\S+|https?:\\S+|http?:\\S|[^A-Za-z0-9]+\""
   ]
  },
  {
   "cell_type": "code",
   "execution_count": 10,
   "id": "84e0d6e1",
   "metadata": {
    "execution": {
     "iopub.execute_input": "2021-12-09T10:52:10.781601Z",
     "iopub.status.busy": "2021-12-09T10:52:10.780709Z",
     "iopub.status.idle": "2021-12-09T10:52:10.785444Z",
     "shell.execute_reply": "2021-12-09T10:52:10.784888Z",
     "shell.execute_reply.started": "2021-12-08T21:20:43.94009Z"
    },
    "papermill": {
     "duration": 0.036487,
     "end_time": "2021-12-09T10:52:10.785613",
     "exception": false,
     "start_time": "2021-12-09T10:52:10.749126",
     "status": "completed"
    },
    "tags": []
   },
   "outputs": [],
   "source": [
    "def preprocess(text, stem=False):\n",
    "  text = re.sub(text_cleaning_re, ' ', str(text).lower()).strip()\n",
    "  tokens = []\n",
    "  for token in text.split():\n",
    "    if token not in stop_words:\n",
    "      if stem:\n",
    "        tokens.append(stemmer.stem(token))\n",
    "      else:\n",
    "        tokens.append(token)\n",
    "  return \" \".join(tokens)"
   ]
  },
  {
   "cell_type": "code",
   "execution_count": 11,
   "id": "3df682a9",
   "metadata": {
    "execution": {
     "iopub.execute_input": "2021-12-09T10:52:10.842297Z",
     "iopub.status.busy": "2021-12-09T10:52:10.841059Z",
     "iopub.status.idle": "2021-12-09T10:53:08.230948Z",
     "shell.execute_reply": "2021-12-09T10:53:08.230232Z",
     "shell.execute_reply.started": "2021-12-08T21:20:43.950341Z"
    },
    "papermill": {
     "duration": 57.420465,
     "end_time": "2021-12-09T10:53:08.231112",
     "exception": false,
     "start_time": "2021-12-09T10:52:10.810647",
     "status": "completed"
    },
    "tags": []
   },
   "outputs": [],
   "source": [
    "df.text = df.text.apply(lambda x: preprocess(x))"
   ]
  },
  {
   "cell_type": "markdown",
   "id": "388c4d5a",
   "metadata": {
    "papermill": {
     "duration": 0.024659,
     "end_time": "2021-12-09T10:53:08.281266",
     "exception": false,
     "start_time": "2021-12-09T10:53:08.256607",
     "status": "completed"
    },
    "tags": []
   },
   "source": [
    "## Train and Test Split"
   ]
  },
  {
   "cell_type": "code",
   "execution_count": 12,
   "id": "81a51951",
   "metadata": {
    "execution": {
     "iopub.execute_input": "2021-12-09T10:53:08.339130Z",
     "iopub.status.busy": "2021-12-09T10:53:08.337969Z",
     "iopub.status.idle": "2021-12-09T10:53:08.341482Z",
     "shell.execute_reply": "2021-12-09T10:53:08.340896Z",
     "shell.execute_reply.started": "2021-12-08T21:21:43.004301Z"
    },
    "papermill": {
     "duration": 0.035268,
     "end_time": "2021-12-09T10:53:08.341638",
     "exception": false,
     "start_time": "2021-12-09T10:53:08.306370",
     "status": "completed"
    },
    "tags": []
   },
   "outputs": [],
   "source": [
    "TRAIN_SIZE = 0.8 \n",
    "MAX_NB_WORDS = 100000\n",
    "MAX_SEQUENCE_LENGTH = 30\n",
    "EMBEDDING_DIM = 10\n",
    "LR = 1e-3\n",
    "BATCH_SIZE = 50\n",
    "EPOCHS = 10"
   ]
  },
  {
   "cell_type": "code",
   "execution_count": 13,
   "id": "bfbda2d2",
   "metadata": {
    "execution": {
     "iopub.execute_input": "2021-12-09T10:53:08.400360Z",
     "iopub.status.busy": "2021-12-09T10:53:08.399337Z",
     "iopub.status.idle": "2021-12-09T10:53:08.955499Z",
     "shell.execute_reply": "2021-12-09T10:53:08.954933Z",
     "shell.execute_reply.started": "2021-12-08T21:21:43.010795Z"
    },
    "papermill": {
     "duration": 0.588779,
     "end_time": "2021-12-09T10:53:08.955655",
     "exception": false,
     "start_time": "2021-12-09T10:53:08.366876",
     "status": "completed"
    },
    "tags": []
   },
   "outputs": [
    {
     "name": "stdout",
     "output_type": "stream",
     "text": [
      "Train Data size: 1280000\n",
      "Test Data size 320000\n"
     ]
    }
   ],
   "source": [
    "train_data, test_data = train_test_split(df, test_size=1-TRAIN_SIZE,\n",
    "                                         random_state=7) # Splits Dataset into Training and Testing set\n",
    "print(\"Train Data size:\", len(train_data))\n",
    "print(\"Test Data size\", len(test_data))"
   ]
  },
  {
   "cell_type": "code",
   "execution_count": 14,
   "id": "8a29f53c",
   "metadata": {
    "execution": {
     "iopub.execute_input": "2021-12-09T10:53:09.013083Z",
     "iopub.status.busy": "2021-12-09T10:53:09.012204Z",
     "iopub.status.idle": "2021-12-09T10:53:32.325762Z",
     "shell.execute_reply": "2021-12-09T10:53:32.325173Z",
     "shell.execute_reply.started": "2021-12-08T21:21:43.451906Z"
    },
    "papermill": {
     "duration": 23.344475,
     "end_time": "2021-12-09T10:53:32.325960",
     "exception": false,
     "start_time": "2021-12-09T10:53:08.981485",
     "status": "completed"
    },
    "tags": []
   },
   "outputs": [
    {
     "name": "stdout",
     "output_type": "stream",
     "text": [
      "Vocabulary Size : 290575\n"
     ]
    }
   ],
   "source": [
    "from keras.preprocessing.text import Tokenizer\n",
    "\n",
    "tokenizer = Tokenizer()\n",
    "tokenizer.fit_on_texts(train_data.text)\n",
    "\n",
    "word_index = tokenizer.word_index\n",
    "vocab_size = len(tokenizer.word_index) + 1\n",
    "print(\"Vocabulary Size :\", vocab_size)"
   ]
  },
  {
   "cell_type": "code",
   "execution_count": 15,
   "id": "eb9fd15b",
   "metadata": {
    "execution": {
     "iopub.execute_input": "2021-12-09T10:53:32.385627Z",
     "iopub.status.busy": "2021-12-09T10:53:32.384536Z",
     "iopub.status.idle": "2021-12-09T10:54:09.372030Z",
     "shell.execute_reply": "2021-12-09T10:54:09.372921Z",
     "shell.execute_reply.started": "2021-12-08T21:22:01.329561Z"
    },
    "papermill": {
     "duration": 37.020473,
     "end_time": "2021-12-09T10:54:09.373214",
     "exception": false,
     "start_time": "2021-12-09T10:53:32.352741",
     "status": "completed"
    },
    "tags": []
   },
   "outputs": [
    {
     "name": "stdout",
     "output_type": "stream",
     "text": [
      "Training X Shape: (1280000, 30)\n",
      "Testing X Shape: (320000, 30)\n",
      "<class 'numpy.ndarray'>\n",
      "<class 'numpy.ndarray'>\n"
     ]
    }
   ],
   "source": [
    "from keras.preprocessing.sequence import pad_sequences\n",
    "\n",
    "x_train = pad_sequences(tokenizer.texts_to_sequences(train_data.text),\n",
    "                        maxlen = MAX_SEQUENCE_LENGTH)\n",
    "x_test = pad_sequences(tokenizer.texts_to_sequences(test_data.text),\n",
    "                       maxlen = MAX_SEQUENCE_LENGTH)\n",
    "\n",
    "print(\"Training X Shape:\",x_train.shape)\n",
    "print(\"Testing X Shape:\",x_test.shape)\n",
    "\n",
    "print(type(x_train))\n",
    "print(type(x_test))"
   ]
  },
  {
   "cell_type": "code",
   "execution_count": 16,
   "id": "dc806da1",
   "metadata": {
    "execution": {
     "iopub.execute_input": "2021-12-09T10:54:09.501654Z",
     "iopub.status.busy": "2021-12-09T10:54:09.500639Z",
     "iopub.status.idle": "2021-12-09T10:54:09.526836Z",
     "shell.execute_reply": "2021-12-09T10:54:09.526249Z",
     "shell.execute_reply.started": "2021-12-08T21:22:32.218368Z"
    },
    "papermill": {
     "duration": 0.126108,
     "end_time": "2021-12-09T10:54:09.527033",
     "exception": false,
     "start_time": "2021-12-09T10:54:09.400925",
     "status": "completed"
    },
    "tags": []
   },
   "outputs": [],
   "source": [
    "labels = train_data.sentiment.unique().tolist()"
   ]
  },
  {
   "cell_type": "code",
   "execution_count": 17,
   "id": "14fdb354",
   "metadata": {
    "execution": {
     "iopub.execute_input": "2021-12-09T10:54:09.851841Z",
     "iopub.status.busy": "2021-12-09T10:54:09.850502Z",
     "iopub.status.idle": "2021-12-09T10:54:10.819822Z",
     "shell.execute_reply": "2021-12-09T10:54:10.818938Z",
     "shell.execute_reply.started": "2021-12-08T21:22:32.314085Z"
    },
    "papermill": {
     "duration": 1.266546,
     "end_time": "2021-12-09T10:54:10.820055",
     "exception": false,
     "start_time": "2021-12-09T10:54:09.553509",
     "status": "completed"
    },
    "tags": []
   },
   "outputs": [
    {
     "name": "stdout",
     "output_type": "stream",
     "text": [
      "y_train shape: (1280000, 1)\n",
      "y_test shape: (320000, 1)\n"
     ]
    }
   ],
   "source": [
    "encoder = LabelEncoder()\n",
    "encoder.fit(train_data.sentiment.to_list())\n",
    "\n",
    "y_train = encoder.transform(train_data.sentiment.to_list())\n",
    "y_test = encoder.transform(test_data.sentiment.to_list())\n",
    "\n",
    "y_train = y_train.reshape(-1,1)\n",
    "y_test = y_test.reshape(-1,1)\n",
    "\n",
    "train_data = TensorDataset(torch.from_numpy(x_train), torch.from_numpy(y_train))\n",
    "test_data = TensorDataset(torch.from_numpy(x_test), torch.from_numpy(y_test))\n",
    "\n",
    "train_loader = DataLoader(train_data, shuffle=True, batch_size=BATCH_SIZE, drop_last = True)\n",
    "test_loader = DataLoader(test_data, shuffle=True, batch_size=BATCH_SIZE, drop_last = True)\n",
    "\n",
    "print(\"y_train shape:\", y_train.shape)\n",
    "print(\"y_test shape:\", y_test.shape)"
   ]
  },
  {
   "cell_type": "code",
   "execution_count": 18,
   "id": "f7cae3b9",
   "metadata": {
    "execution": {
     "iopub.execute_input": "2021-12-09T10:54:10.889959Z",
     "iopub.status.busy": "2021-12-09T10:54:10.888783Z",
     "iopub.status.idle": "2021-12-09T10:54:10.892229Z",
     "shell.execute_reply": "2021-12-09T10:54:10.891603Z",
     "shell.execute_reply.started": "2021-12-08T21:22:33.529097Z"
    },
    "papermill": {
     "duration": 0.04487,
     "end_time": "2021-12-09T10:54:10.892385",
     "exception": false,
     "start_time": "2021-12-09T10:54:10.847515",
     "status": "completed"
    },
    "tags": []
   },
   "outputs": [],
   "source": [
    "class PositionalEncoding(nn.Module):\n",
    "\n",
    "    def __init__(self, d_model, dropout=0.1, max_len=5000):\n",
    "        super(PositionalEncoding, self).__init__()\n",
    "        self.dropout = nn.Dropout(p=dropout)\n",
    "\n",
    "        pe = torch.zeros(max_len, d_model)\n",
    "        position = torch.arange(0, max_len, dtype=torch.float).unsqueeze(1)\n",
    "        div_term = torch.exp(torch.arange(0, d_model, 2).float() * (-math.log(10000.0) / d_model))\n",
    "        pe[:, 0::2] = torch.sin(position * div_term)\n",
    "        pe[:, 1::2] = torch.cos(position * div_term)\n",
    "        pe = pe.unsqueeze(0).transpose(0, 1)\n",
    "        self.register_buffer('pe', pe)\n",
    "\n",
    "    def forward(self, x):\n",
    "        x = x + self.pe[:x.size(0), :]\n",
    "        return self.dropout(x)\n",
    "    \n",
    "class SentimentNet(nn.Module):\n",
    "    def __init__(self, vocab_size, output_size, embedding_dim, hidden_dim, n_layers, drop_prob=0.2):\n",
    "        super(SentimentNet, self).__init__()\n",
    "        self.output_size = output_size\n",
    "        self.n_layers = n_layers\n",
    "        self.hidden_dim = hidden_dim\n",
    "        self.dropout = nn.Dropout(drop_prob)\n",
    "        self.embedding_dim = embedding_dim\n",
    "        self.sigmoid = nn.Sigmoid()\n",
    "        \n",
    "        \n",
    "        self.encoder = nn.Embedding(vocab_size, embedding_dim)\n",
    "        self.pos_encoder = PositionalEncoding(embedding_dim, drop_prob)\n",
    "        encoder_layer = nn.TransformerEncoderLayer(embedding_dim, 2, hidden_dim)\n",
    "        self.transformer_encoder = nn.TransformerEncoder(encoder_layer, num_layers=n_layers)\n",
    "        \n",
    "\n",
    "        self.fc = nn.Linear(embedding_dim * 30 , 1)\n",
    "\n",
    "    \n",
    "    def forward(self, src):\n",
    "        src = self.encoder(src) * math.sqrt(self.embedding_dim)\n",
    "        src = self.pos_encoder(src)\n",
    "        output = self.transformer_encoder(src)\n",
    "        output = output.view(output.size(0), -1)\n",
    "        output = self.sigmoid(self.fc(output))\n",
    "        return output"
   ]
  },
  {
   "cell_type": "code",
   "execution_count": 19,
   "id": "34139812",
   "metadata": {
    "execution": {
     "iopub.execute_input": "2021-12-09T10:54:10.952789Z",
     "iopub.status.busy": "2021-12-09T10:54:10.951720Z",
     "iopub.status.idle": "2021-12-09T10:54:10.954820Z",
     "shell.execute_reply": "2021-12-09T10:54:10.955331Z",
     "shell.execute_reply.started": "2021-12-08T21:22:33.544023Z"
    },
    "papermill": {
     "duration": 0.036343,
     "end_time": "2021-12-09T10:54:10.955531",
     "exception": false,
     "start_time": "2021-12-09T10:54:10.919188",
     "status": "completed"
    },
    "tags": []
   },
   "outputs": [],
   "source": [
    "def model_params(model):\n",
    "    pp=0\n",
    "    for p in list(model.parameters()):\n",
    "        nn=1\n",
    "        for s in list(p.size()):\n",
    "            nn = nn*s\n",
    "        pp += nn\n",
    "    return pp"
   ]
  },
  {
   "cell_type": "code",
   "execution_count": 20,
   "id": "3060cf13",
   "metadata": {
    "execution": {
     "iopub.execute_input": "2021-12-09T10:54:11.021627Z",
     "iopub.status.busy": "2021-12-09T10:54:11.020665Z",
     "iopub.status.idle": "2021-12-09T10:54:18.403422Z",
     "shell.execute_reply": "2021-12-09T10:54:18.402887Z",
     "shell.execute_reply.started": "2021-12-08T21:22:33.557558Z"
    },
    "papermill": {
     "duration": 7.420611,
     "end_time": "2021-12-09T10:54:18.403580",
     "exception": false,
     "start_time": "2021-12-09T10:54:10.982969",
     "status": "completed"
    },
    "tags": []
   },
   "outputs": [
    {
     "name": "stdout",
     "output_type": "stream",
     "text": [
      "2907367\n"
     ]
    }
   ],
   "source": [
    "import math\n",
    "\n",
    "output_size = 1\n",
    "embedding_dim = 10\n",
    "hidden_dim = 8\n",
    "n_layers = 2\n",
    "\n",
    "model = SentimentNet(vocab_size, output_size, embedding_dim, hidden_dim, n_layers)\n",
    "model.to(device)\n",
    "print(model_params(model))\n",
    "lr=0.01\n",
    "criterion = nn.BCELoss()\n",
    "optimizer = torch.optim.Adam(model.parameters(), lr=lr)"
   ]
  },
  {
   "cell_type": "code",
   "execution_count": 21,
   "id": "36c85b1f",
   "metadata": {
    "execution": {
     "iopub.execute_input": "2021-12-09T10:54:18.469202Z",
     "iopub.status.busy": "2021-12-09T10:54:18.468454Z",
     "iopub.status.idle": "2021-12-09T12:23:34.416560Z",
     "shell.execute_reply": "2021-12-09T12:23:34.415942Z",
     "shell.execute_reply.started": "2021-12-08T21:22:39.586111Z"
    },
    "papermill": {
     "duration": 5355.986385,
     "end_time": "2021-12-09T12:23:34.416725",
     "exception": false,
     "start_time": "2021-12-09T10:54:18.430340",
     "status": "completed"
    },
    "tags": []
   },
   "outputs": [
    {
     "name": "stdout",
     "output_type": "stream",
     "text": [
      "Epoch: 1/3... Step: 500... Loss: 0.576351... Val Loss: 0.644271\n",
      "Validation loss decreased (inf --> 0.644271).  Saving model ...\n",
      "Epoch: 1/3... Step: 1000... Loss: 0.634374... Val Loss: 0.581091\n",
      "Validation loss decreased (0.644271 --> 0.581091).  Saving model ...\n",
      "Epoch: 1/3... Step: 1500... Loss: 0.583297... Val Loss: 0.551128\n",
      "Validation loss decreased (0.581091 --> 0.551128).  Saving model ...\n",
      "Epoch: 1/3... Step: 2000... Loss: 0.569171... Val Loss: 0.531412\n",
      "Validation loss decreased (0.551128 --> 0.531412).  Saving model ...\n",
      "Epoch: 1/3... Step: 2500... Loss: 0.579138... Val Loss: 0.533858\n",
      "Epoch: 1/3... Step: 3000... Loss: 0.465864... Val Loss: 0.514834\n",
      "Validation loss decreased (0.531412 --> 0.514834).  Saving model ...\n",
      "Epoch: 1/3... Step: 3500... Loss: 0.555677... Val Loss: 0.512929\n",
      "Validation loss decreased (0.514834 --> 0.512929).  Saving model ...\n",
      "Epoch: 1/3... Step: 4000... Loss: 0.498042... Val Loss: 0.510451\n",
      "Validation loss decreased (0.512929 --> 0.510451).  Saving model ...\n",
      "Epoch: 1/3... Step: 4500... Loss: 0.421594... Val Loss: 0.513318\n",
      "Epoch: 1/3... Step: 5000... Loss: 0.636029... Val Loss: 0.501962\n",
      "Validation loss decreased (0.510451 --> 0.501962).  Saving model ...\n",
      "Epoch: 1/3... Step: 5500... Loss: 0.570307... Val Loss: 0.512978\n",
      "Epoch: 1/3... Step: 6000... Loss: 0.566566... Val Loss: 0.496164\n",
      "Validation loss decreased (0.501962 --> 0.496164).  Saving model ...\n",
      "Epoch: 1/3... Step: 6500... Loss: 0.494533... Val Loss: 0.494447\n",
      "Validation loss decreased (0.496164 --> 0.494447).  Saving model ...\n",
      "Epoch: 1/3... Step: 7000... Loss: 0.435376... Val Loss: 0.513484\n",
      "Epoch: 1/3... Step: 7500... Loss: 0.443090... Val Loss: 0.492036\n",
      "Validation loss decreased (0.494447 --> 0.492036).  Saving model ...\n",
      "Epoch: 1/3... Step: 8000... Loss: 0.679347... Val Loss: 0.510916\n",
      "Epoch: 1/3... Step: 8500... Loss: 0.500899... Val Loss: 0.491590\n",
      "Validation loss decreased (0.492036 --> 0.491590).  Saving model ...\n",
      "Epoch: 1/3... Step: 9000... Loss: 0.576271... Val Loss: 0.489186\n",
      "Validation loss decreased (0.491590 --> 0.489186).  Saving model ...\n",
      "Epoch: 1/3... Step: 9500... Loss: 0.363113... Val Loss: 0.488544\n",
      "Validation loss decreased (0.489186 --> 0.488544).  Saving model ...\n",
      "Epoch: 1/3... Step: 10000... Loss: 0.551122... Val Loss: 0.491921\n",
      "Epoch: 1/3... Step: 10500... Loss: 0.444434... Val Loss: 0.486575\n",
      "Validation loss decreased (0.488544 --> 0.486575).  Saving model ...\n",
      "Epoch: 1/3... Step: 11000... Loss: 0.555125... Val Loss: 0.484739\n",
      "Validation loss decreased (0.486575 --> 0.484739).  Saving model ...\n",
      "Epoch: 1/3... Step: 11500... Loss: 0.451460... Val Loss: 0.491468\n",
      "Epoch: 1/3... Step: 12000... Loss: 0.423627... Val Loss: 0.490856\n",
      "Epoch: 1/3... Step: 12500... Loss: 0.344696... Val Loss: 0.484886\n",
      "Epoch: 1/3... Step: 13000... Loss: 0.567665... Val Loss: 0.486763\n",
      "Epoch: 1/3... Step: 13500... Loss: 0.510699... Val Loss: 0.486401\n",
      "Epoch: 1/3... Step: 14000... Loss: 0.632356... Val Loss: 0.491236\n",
      "Epoch: 1/3... Step: 14500... Loss: 0.458977... Val Loss: 0.485377\n",
      "Epoch: 1/3... Step: 15000... Loss: 0.512935... Val Loss: 0.482487\n",
      "Validation loss decreased (0.484739 --> 0.482487).  Saving model ...\n",
      "Epoch: 1/3... Step: 15500... Loss: 0.571218... Val Loss: 0.481388\n",
      "Validation loss decreased (0.482487 --> 0.481388).  Saving model ...\n",
      "Epoch: 1/3... Step: 16000... Loss: 0.499553... Val Loss: 0.482117\n",
      "Epoch: 1/3... Step: 16500... Loss: 0.448701... Val Loss: 0.497039\n",
      "Epoch: 1/3... Step: 17000... Loss: 0.341809... Val Loss: 0.500834\n",
      "Epoch: 1/3... Step: 17500... Loss: 0.543893... Val Loss: 0.480780\n",
      "Validation loss decreased (0.481388 --> 0.480780).  Saving model ...\n",
      "Epoch: 1/3... Step: 18000... Loss: 0.445184... Val Loss: 0.481492\n",
      "Epoch: 1/3... Step: 18500... Loss: 0.527841... Val Loss: 0.478657\n",
      "Validation loss decreased (0.480780 --> 0.478657).  Saving model ...\n",
      "Epoch: 1/3... Step: 19000... Loss: 0.450144... Val Loss: 0.479974\n",
      "Epoch: 1/3... Step: 19500... Loss: 0.432558... Val Loss: 0.481926\n",
      "Epoch: 1/3... Step: 20000... Loss: 0.437576... Val Loss: 0.483959\n",
      "Epoch: 1/3... Step: 20500... Loss: 0.501393... Val Loss: 0.483574\n",
      "Epoch: 1/3... Step: 21000... Loss: 0.399603... Val Loss: 0.488888\n",
      "Epoch: 1/3... Step: 21500... Loss: 0.576561... Val Loss: 0.483229\n",
      "Epoch: 1/3... Step: 22000... Loss: 0.559127... Val Loss: 0.485273\n",
      "Epoch: 1/3... Step: 22500... Loss: 0.649796... Val Loss: 0.477652\n",
      "Validation loss decreased (0.478657 --> 0.477652).  Saving model ...\n",
      "Epoch: 1/3... Step: 23000... Loss: 0.404280... Val Loss: 0.479930\n",
      "Epoch: 1/3... Step: 23500... Loss: 0.535698... Val Loss: 0.482144\n",
      "Epoch: 1/3... Step: 24000... Loss: 0.431867... Val Loss: 0.478518\n",
      "Epoch: 1/3... Step: 24500... Loss: 0.614905... Val Loss: 0.484866\n",
      "Epoch: 1/3... Step: 25000... Loss: 0.438695... Val Loss: 0.476208\n",
      "Validation loss decreased (0.477652 --> 0.476208).  Saving model ...\n",
      "Epoch: 1/3... Step: 25500... Loss: 0.557440... Val Loss: 0.478864\n",
      "Epoch: 2/3... Step: 26000... Loss: 0.398398... Val Loss: 0.480674\n",
      "Epoch: 2/3... Step: 26500... Loss: 0.545034... Val Loss: 0.481856\n",
      "Epoch: 2/3... Step: 27000... Loss: 0.514921... Val Loss: 0.478856\n",
      "Epoch: 2/3... Step: 27500... Loss: 0.495219... Val Loss: 0.478968\n",
      "Epoch: 2/3... Step: 28000... Loss: 0.610246... Val Loss: 0.490904\n",
      "Epoch: 2/3... Step: 28500... Loss: 0.491236... Val Loss: 0.482990\n",
      "Epoch: 2/3... Step: 29000... Loss: 0.574531... Val Loss: 0.482303\n",
      "Epoch: 2/3... Step: 29500... Loss: 0.410581... Val Loss: 0.484792\n",
      "Epoch: 2/3... Step: 30000... Loss: 0.456927... Val Loss: 0.480171\n",
      "Epoch: 2/3... Step: 30500... Loss: 0.518034... Val Loss: 0.486224\n",
      "Epoch: 2/3... Step: 31000... Loss: 0.415717... Val Loss: 0.479992\n",
      "Epoch: 2/3... Step: 31500... Loss: 0.481463... Val Loss: 0.478271\n",
      "Epoch: 2/3... Step: 32000... Loss: 0.469721... Val Loss: 0.491047\n",
      "Epoch: 2/3... Step: 32500... Loss: 0.545508... Val Loss: 0.482105\n",
      "Epoch: 2/3... Step: 33000... Loss: 0.378556... Val Loss: 0.487552\n",
      "Epoch: 2/3... Step: 33500... Loss: 0.395686... Val Loss: 0.480346\n",
      "Epoch: 2/3... Step: 34000... Loss: 0.472684... Val Loss: 0.479711\n",
      "Epoch: 2/3... Step: 34500... Loss: 0.527650... Val Loss: 0.481084\n",
      "Epoch: 2/3... Step: 35000... Loss: 0.450573... Val Loss: 0.480362\n",
      "Epoch: 2/3... Step: 35500... Loss: 0.429585... Val Loss: 0.485618\n",
      "Epoch: 2/3... Step: 36000... Loss: 0.563791... Val Loss: 0.481448\n",
      "Epoch: 2/3... Step: 36500... Loss: 0.423202... Val Loss: 0.481696\n",
      "Epoch: 2/3... Step: 37000... Loss: 0.573303... Val Loss: 0.481770\n",
      "Epoch: 2/3... Step: 37500... Loss: 0.427297... Val Loss: 0.478239\n",
      "Epoch: 2/3... Step: 38000... Loss: 0.429712... Val Loss: 0.489726\n",
      "Epoch: 2/3... Step: 38500... Loss: 0.433081... Val Loss: 0.479732\n",
      "Epoch: 2/3... Step: 39000... Loss: 0.426143... Val Loss: 0.483546\n",
      "Epoch: 2/3... Step: 39500... Loss: 0.543893... Val Loss: 0.479180\n",
      "Epoch: 2/3... Step: 40000... Loss: 0.596214... Val Loss: 0.477778\n",
      "Epoch: 2/3... Step: 40500... Loss: 0.561432... Val Loss: 0.484713\n",
      "Epoch: 2/3... Step: 41000... Loss: 0.312686... Val Loss: 0.488861\n",
      "Epoch: 2/3... Step: 41500... Loss: 0.558193... Val Loss: 0.479364\n",
      "Epoch: 2/3... Step: 42000... Loss: 0.558049... Val Loss: 0.478178\n",
      "Epoch: 2/3... Step: 42500... Loss: 0.529674... Val Loss: 0.483013\n",
      "Epoch: 2/3... Step: 43000... Loss: 0.441600... Val Loss: 0.480336\n",
      "Epoch: 2/3... Step: 43500... Loss: 0.430928... Val Loss: 0.478100\n",
      "Epoch: 2/3... Step: 44000... Loss: 0.518477... Val Loss: 0.480222\n",
      "Epoch: 2/3... Step: 44500... Loss: 0.425657... Val Loss: 0.484756\n",
      "Epoch: 2/3... Step: 45000... Loss: 0.549955... Val Loss: 0.480512\n",
      "Epoch: 2/3... Step: 45500... Loss: 0.338871... Val Loss: 0.483730\n",
      "Epoch: 2/3... Step: 46000... Loss: 0.583057... Val Loss: 0.482369\n",
      "Epoch: 2/3... Step: 46500... Loss: 0.480817... Val Loss: 0.481600\n",
      "Epoch: 2/3... Step: 47000... Loss: 0.681678... Val Loss: 0.490511\n",
      "Epoch: 2/3... Step: 47500... Loss: 0.540575... Val Loss: 0.475976\n",
      "Validation loss decreased (0.476208 --> 0.475976).  Saving model ...\n",
      "Epoch: 2/3... Step: 48000... Loss: 0.547731... Val Loss: 0.483976\n",
      "Epoch: 2/3... Step: 48500... Loss: 0.409442... Val Loss: 0.482313\n",
      "Epoch: 2/3... Step: 49000... Loss: 0.482461... Val Loss: 0.475907\n",
      "Validation loss decreased (0.475976 --> 0.475907).  Saving model ...\n",
      "Epoch: 2/3... Step: 49500... Loss: 0.484787... Val Loss: 0.496487\n",
      "Epoch: 2/3... Step: 50000... Loss: 0.394564... Val Loss: 0.477822\n",
      "Epoch: 2/3... Step: 50500... Loss: 0.397240... Val Loss: 0.478504\n",
      "Epoch: 2/3... Step: 51000... Loss: 0.430174... Val Loss: 0.479477\n",
      "Epoch: 3/3... Step: 51500... Loss: 0.322654... Val Loss: 0.480988\n",
      "Epoch: 3/3... Step: 52000... Loss: 0.486711... Val Loss: 0.491775\n",
      "Epoch: 3/3... Step: 52500... Loss: 0.633631... Val Loss: 0.483099\n",
      "Epoch: 3/3... Step: 53000... Loss: 0.382064... Val Loss: 0.480201\n",
      "Epoch: 3/3... Step: 53500... Loss: 0.476819... Val Loss: 0.496593\n",
      "Epoch: 3/3... Step: 54000... Loss: 0.480913... Val Loss: 0.480330\n",
      "Epoch: 3/3... Step: 54500... Loss: 0.685039... Val Loss: 0.481564\n",
      "Epoch: 3/3... Step: 55000... Loss: 0.481869... Val Loss: 0.480533\n",
      "Epoch: 3/3... Step: 55500... Loss: 0.546336... Val Loss: 0.496132\n",
      "Epoch: 3/3... Step: 56000... Loss: 0.463630... Val Loss: 0.490891\n",
      "Epoch: 3/3... Step: 56500... Loss: 0.347810... Val Loss: 0.495779\n",
      "Epoch: 3/3... Step: 57000... Loss: 0.620875... Val Loss: 0.488689\n",
      "Epoch: 3/3... Step: 57500... Loss: 0.374334... Val Loss: 0.488912\n",
      "Epoch: 3/3... Step: 58000... Loss: 0.559262... Val Loss: 0.487707\n",
      "Epoch: 3/3... Step: 58500... Loss: 0.566375... Val Loss: 0.486924\n",
      "Epoch: 3/3... Step: 59000... Loss: 0.453220... Val Loss: 0.490797\n",
      "Epoch: 3/3... Step: 59500... Loss: 0.475972... Val Loss: 0.498887\n",
      "Epoch: 3/3... Step: 60000... Loss: 0.462004... Val Loss: 0.480930\n",
      "Epoch: 3/3... Step: 60500... Loss: 0.545920... Val Loss: 0.486661\n",
      "Epoch: 3/3... Step: 61000... Loss: 0.469165... Val Loss: 0.488277\n",
      "Epoch: 3/3... Step: 61500... Loss: 0.468022... Val Loss: 0.489637\n",
      "Epoch: 3/3... Step: 62000... Loss: 0.547238... Val Loss: 0.480536\n",
      "Epoch: 3/3... Step: 62500... Loss: 0.412819... Val Loss: 0.486201\n",
      "Epoch: 3/3... Step: 63000... Loss: 0.547743... Val Loss: 0.493413\n",
      "Epoch: 3/3... Step: 63500... Loss: 0.577811... Val Loss: 0.481051\n",
      "Epoch: 3/3... Step: 64000... Loss: 0.459740... Val Loss: 0.485351\n",
      "Epoch: 3/3... Step: 64500... Loss: 0.381916... Val Loss: 0.479732\n",
      "Epoch: 3/3... Step: 65000... Loss: 0.375218... Val Loss: 0.496238\n",
      "Epoch: 3/3... Step: 65500... Loss: 0.458728... Val Loss: 0.483307\n",
      "Epoch: 3/3... Step: 66000... Loss: 0.509537... Val Loss: 0.485208\n",
      "Epoch: 3/3... Step: 66500... Loss: 0.447667... Val Loss: 0.482920\n",
      "Epoch: 3/3... Step: 67000... Loss: 0.545962... Val Loss: 0.487340\n",
      "Epoch: 3/3... Step: 67500... Loss: 0.637609... Val Loss: 0.487401\n",
      "Epoch: 3/3... Step: 68000... Loss: 0.399587... Val Loss: 0.499445\n",
      "Epoch: 3/3... Step: 68500... Loss: 0.424042... Val Loss: 0.487265\n",
      "Epoch: 3/3... Step: 69000... Loss: 0.640998... Val Loss: 0.489285\n",
      "Epoch: 3/3... Step: 69500... Loss: 0.444376... Val Loss: 0.481594\n",
      "Epoch: 3/3... Step: 70000... Loss: 0.391071... Val Loss: 0.494008\n",
      "Epoch: 3/3... Step: 70500... Loss: 0.473680... Val Loss: 0.486161\n",
      "Epoch: 3/3... Step: 71000... Loss: 0.401657... Val Loss: 0.482144\n",
      "Epoch: 3/3... Step: 71500... Loss: 0.633232... Val Loss: 0.485138\n",
      "Epoch: 3/3... Step: 72000... Loss: 0.436058... Val Loss: 0.486476\n",
      "Epoch: 3/3... Step: 72500... Loss: 0.519053... Val Loss: 0.495844\n",
      "Epoch: 3/3... Step: 73000... Loss: 0.432375... Val Loss: 0.484519\n",
      "Epoch: 3/3... Step: 73500... Loss: 0.428588... Val Loss: 0.487779\n",
      "Epoch: 3/3... Step: 74000... Loss: 0.559167... Val Loss: 0.486813\n",
      "Epoch: 3/3... Step: 74500... Loss: 0.445578... Val Loss: 0.492946\n",
      "Epoch: 3/3... Step: 75000... Loss: 0.446731... Val Loss: 0.482289\n",
      "Epoch: 3/3... Step: 75500... Loss: 0.394938... Val Loss: 0.482539\n",
      "Epoch: 3/3... Step: 76000... Loss: 0.317214... Val Loss: 0.498432\n",
      "Epoch: 3/3... Step: 76500... Loss: 0.515684... Val Loss: 0.508224\n"
     ]
    }
   ],
   "source": [
    "epochs = 3\n",
    "counter = 0\n",
    "print_every = 500\n",
    "clip = 5\n",
    "valid_loss_min = np.Inf\n",
    "\n",
    "model.train()\n",
    "for i in range(epochs):\n",
    "    \n",
    "    for inputs, labels in train_loader:\n",
    "        counter += 1\n",
    "        inputs, labels = inputs.to(device), labels.to(device)\n",
    "        model.zero_grad()\n",
    "        output = model(inputs.long())\n",
    "        \n",
    "        loss = criterion(output, labels.float())\n",
    "        \n",
    "        \n",
    "        loss.backward()\n",
    "        #nn.utils.clip_grad_norm_(model.parameters(), clip)\n",
    "        optimizer.step()\n",
    "        \n",
    "        if counter%print_every == 0:\n",
    "            val_losses = []\n",
    "            model.eval()\n",
    "            for inp, lab in test_loader:\n",
    "                inp, lab = inp.to(device), lab.to(device)\n",
    "                out = model(inp.long())\n",
    "                val_loss = criterion(out, lab.float())\n",
    "                val_losses.append(val_loss.item())\n",
    "                \n",
    "            model.train()\n",
    "            print(\"Epoch: {}/{}...\".format(i+1, epochs),\n",
    "                  \"Step: {}...\".format(counter),\n",
    "                  \"Loss: {:.6f}...\".format(loss.item()),\n",
    "                  \"Val Loss: {:.6f}\".format(np.mean(val_losses)))\n",
    "            if np.mean(val_losses) <= valid_loss_min:\n",
    "                torch.save(model.state_dict(), './state_dict.pt')\n",
    "                print('Validation loss decreased ({:.6f} --> {:.6f}).  Saving model ...'.format(valid_loss_min,np.mean(val_losses)))\n",
    "                valid_loss_min = np.mean(val_losses)"
   ]
  },
  {
   "cell_type": "code",
   "execution_count": 22,
   "id": "0b8db2ea",
   "metadata": {
    "execution": {
     "iopub.execute_input": "2021-12-09T12:23:34.578282Z",
     "iopub.status.busy": "2021-12-09T12:23:34.577154Z",
     "iopub.status.idle": "2021-12-09T12:23:34.614750Z",
     "shell.execute_reply": "2021-12-09T12:23:34.615330Z"
    },
    "papermill": {
     "duration": 0.12172,
     "end_time": "2021-12-09T12:23:34.615516",
     "exception": false,
     "start_time": "2021-12-09T12:23:34.493796",
     "status": "completed"
    },
    "tags": []
   },
   "outputs": [
    {
     "data": {
      "text/plain": [
       "tensor([[0.7785]], device='cuda:0', grad_fn=<SigmoidBackward>)"
      ]
     },
     "execution_count": 22,
     "metadata": {},
     "output_type": "execute_result"
    }
   ],
   "source": [
    "sentence = \"I love you\"\n",
    "trial = torch.tensor(pad_sequences(tokenizer.texts_to_sequences([sentence]), maxlen = MAX_SEQUENCE_LENGTH)).long().to(device)\n",
    "\n",
    "model(trial)"
   ]
  },
  {
   "cell_type": "code",
   "execution_count": 23,
   "id": "00015627",
   "metadata": {
    "execution": {
     "iopub.execute_input": "2021-12-09T12:23:34.780357Z",
     "iopub.status.busy": "2021-12-09T12:23:34.779146Z",
     "iopub.status.idle": "2021-12-09T12:23:35.222390Z",
     "shell.execute_reply": "2021-12-09T12:23:35.221781Z"
    },
    "papermill": {
     "duration": 0.528173,
     "end_time": "2021-12-09T12:23:35.222552",
     "exception": false,
     "start_time": "2021-12-09T12:23:34.694379",
     "status": "completed"
    },
    "tags": []
   },
   "outputs": [
    {
     "name": "stderr",
     "output_type": "stream",
     "text": [
      "/opt/conda/lib/python3.7/site-packages/ipykernel_launcher.py:16: TracerWarning: Converting a tensor to a Python index might cause the trace to be incorrect. We can't record the data flow of Python values, so this value will be treated as a constant in the future. This means that the trace might not generalize to other inputs!\n",
      "  app.launch_new_instance()\n"
     ]
    }
   ],
   "source": [
    "import torch.onnx\n",
    "torch.onnx.export(model,               # model being run\n",
    "                  trial,                  # model input (or a tuple for multiple inputs)\n",
    "                  \"transformer-imdb.onnx\", opset_version = 11)"
   ]
  }
 ],
 "metadata": {
  "kernelspec": {
   "display_name": "Python 3",
   "language": "python",
   "name": "python3"
  },
  "language_info": {
   "codemirror_mode": {
    "name": "ipython",
    "version": 3
   },
   "file_extension": ".py",
   "mimetype": "text/x-python",
   "name": "python",
   "nbconvert_exporter": "python",
   "pygments_lexer": "ipython3",
   "version": "3.7.10"
  },
  "papermill": {
   "default_parameters": {},
   "duration": 5513.690797,
   "end_time": "2021-12-09T12:23:37.775931",
   "environment_variables": {},
   "exception": null,
   "input_path": "__notebook__.ipynb",
   "output_path": "__notebook__.ipynb",
   "parameters": {},
   "start_time": "2021-12-09T10:51:44.085134",
   "version": "2.3.3"
  }
 },
 "nbformat": 4,
 "nbformat_minor": 5
}
