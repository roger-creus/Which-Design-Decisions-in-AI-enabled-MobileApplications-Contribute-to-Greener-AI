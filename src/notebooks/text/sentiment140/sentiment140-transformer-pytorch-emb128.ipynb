{
 "cells": [
  {
   "cell_type": "code",
   "execution_count": 1,
   "id": "92028e20",
   "metadata": {
    "_cell_guid": "79c7e3d0-c299-4dcb-8224-4455121ee9b0",
    "_uuid": "d629ff2d2480ee46fbb7e2d37f6b5fab8052498a",
    "execution": {
     "iopub.execute_input": "2021-12-09T09:27:44.317340Z",
     "iopub.status.busy": "2021-12-09T09:27:44.316353Z",
     "iopub.status.idle": "2021-12-09T09:27:53.006003Z",
     "shell.execute_reply": "2021-12-09T09:27:53.006927Z",
     "shell.execute_reply.started": "2021-12-08T21:20:29.493378Z"
    },
    "papermill": {
     "duration": 8.734221,
     "end_time": "2021-12-09T09:27:53.007432",
     "exception": false,
     "start_time": "2021-12-09T09:27:44.273211",
     "status": "completed"
    },
    "tags": []
   },
   "outputs": [
    {
     "name": "stdout",
     "output_type": "stream",
     "text": [
      "[nltk_data] Downloading package stopwords to /usr/share/nltk_data...\n",
      "[nltk_data]   Unzipping corpora/stopwords.zip.\n"
     ]
    }
   ],
   "source": [
    "import numpy as np\n",
    "import pandas as pd\n",
    "from torch import nn\n",
    "\n",
    "import matplotlib.pyplot as plt\n",
    "import seaborn as sns\n",
    "\n",
    "import torch.nn.functional as F\n",
    "\n",
    "import re\n",
    "import string\n",
    "from collections import Counter\n",
    "from nltk.corpus import stopwords\n",
    "stop_words = set(stopwords.words('english'))\n",
    "\n",
    "from sklearn.model_selection import train_test_split\n",
    "\n",
    "import torch\n",
    "from torch.utils.data import DataLoader, TensorDataset\n",
    "import torch.nn as nn\n",
    "\n",
    "import pandas as pd\n",
    "import numpy as np\n",
    "import bz2\n",
    "import matplotlib.pyplot as plt\n",
    "import sklearn\n",
    "import tensorflow as tf\n",
    "from tensorflow.keras import models, layers, optimizers\n",
    "from tensorflow.keras.preprocessing.text import Tokenizer, text_to_word_sequence\n",
    "from tensorflow.keras.preprocessing.sequence import pad_sequences\n",
    "from sklearn.preprocessing import LabelEncoder\n",
    "\n",
    "%matplotlib inline\n",
    "\n",
    "import nltk \n",
    "nltk.download('stopwords')\n",
    "from nltk.corpus import stopwords\n",
    "from nltk.stem import SnowballStemmer"
   ]
  },
  {
   "cell_type": "code",
   "execution_count": 2,
   "id": "32a785ca",
   "metadata": {
    "execution": {
     "iopub.execute_input": "2021-12-09T09:27:53.053734Z",
     "iopub.status.busy": "2021-12-09T09:27:53.052797Z",
     "iopub.status.idle": "2021-12-09T09:27:53.056619Z",
     "shell.execute_reply": "2021-12-09T09:27:53.056144Z",
     "shell.execute_reply.started": "2021-12-08T21:20:36.834834Z"
    },
    "papermill": {
     "duration": 0.028359,
     "end_time": "2021-12-09T09:27:53.056737",
     "exception": false,
     "start_time": "2021-12-09T09:27:53.028378",
     "status": "completed"
    },
    "tags": []
   },
   "outputs": [],
   "source": [
    "device = \"cuda:0\""
   ]
  },
  {
   "cell_type": "code",
   "execution_count": 3,
   "id": "88d4d396",
   "metadata": {
    "execution": {
     "iopub.execute_input": "2021-12-09T09:27:53.105123Z",
     "iopub.status.busy": "2021-12-09T09:27:53.104459Z",
     "iopub.status.idle": "2021-12-09T09:27:58.971180Z",
     "shell.execute_reply": "2021-12-09T09:27:58.971708Z",
     "shell.execute_reply.started": "2021-12-08T21:20:36.84162Z"
    },
    "papermill": {
     "duration": 5.89399,
     "end_time": "2021-12-09T09:27:58.971900",
     "exception": false,
     "start_time": "2021-12-09T09:27:53.077910",
     "status": "completed"
    },
    "tags": []
   },
   "outputs": [
    {
     "data": {
      "text/html": [
       "<div>\n",
       "<style scoped>\n",
       "    .dataframe tbody tr th:only-of-type {\n",
       "        vertical-align: middle;\n",
       "    }\n",
       "\n",
       "    .dataframe tbody tr th {\n",
       "        vertical-align: top;\n",
       "    }\n",
       "\n",
       "    .dataframe thead th {\n",
       "        text-align: right;\n",
       "    }\n",
       "</style>\n",
       "<table border=\"1\" class=\"dataframe\">\n",
       "  <thead>\n",
       "    <tr style=\"text-align: right;\">\n",
       "      <th></th>\n",
       "      <th>0</th>\n",
       "      <th>1</th>\n",
       "      <th>2</th>\n",
       "      <th>3</th>\n",
       "      <th>4</th>\n",
       "      <th>5</th>\n",
       "    </tr>\n",
       "  </thead>\n",
       "  <tbody>\n",
       "    <tr>\n",
       "      <th>0</th>\n",
       "      <td>0</td>\n",
       "      <td>1467810369</td>\n",
       "      <td>Mon Apr 06 22:19:45 PDT 2009</td>\n",
       "      <td>NO_QUERY</td>\n",
       "      <td>_TheSpecialOne_</td>\n",
       "      <td>@switchfoot http://twitpic.com/2y1zl - Awww, t...</td>\n",
       "    </tr>\n",
       "    <tr>\n",
       "      <th>1</th>\n",
       "      <td>0</td>\n",
       "      <td>1467810672</td>\n",
       "      <td>Mon Apr 06 22:19:49 PDT 2009</td>\n",
       "      <td>NO_QUERY</td>\n",
       "      <td>scotthamilton</td>\n",
       "      <td>is upset that he can't update his Facebook by ...</td>\n",
       "    </tr>\n",
       "    <tr>\n",
       "      <th>2</th>\n",
       "      <td>0</td>\n",
       "      <td>1467810917</td>\n",
       "      <td>Mon Apr 06 22:19:53 PDT 2009</td>\n",
       "      <td>NO_QUERY</td>\n",
       "      <td>mattycus</td>\n",
       "      <td>@Kenichan I dived many times for the ball. Man...</td>\n",
       "    </tr>\n",
       "    <tr>\n",
       "      <th>3</th>\n",
       "      <td>0</td>\n",
       "      <td>1467811184</td>\n",
       "      <td>Mon Apr 06 22:19:57 PDT 2009</td>\n",
       "      <td>NO_QUERY</td>\n",
       "      <td>ElleCTF</td>\n",
       "      <td>my whole body feels itchy and like its on fire</td>\n",
       "    </tr>\n",
       "    <tr>\n",
       "      <th>4</th>\n",
       "      <td>0</td>\n",
       "      <td>1467811193</td>\n",
       "      <td>Mon Apr 06 22:19:57 PDT 2009</td>\n",
       "      <td>NO_QUERY</td>\n",
       "      <td>Karoli</td>\n",
       "      <td>@nationwideclass no, it's not behaving at all....</td>\n",
       "    </tr>\n",
       "  </tbody>\n",
       "</table>\n",
       "</div>"
      ],
      "text/plain": [
       "   0           1                             2         3                4  \\\n",
       "0  0  1467810369  Mon Apr 06 22:19:45 PDT 2009  NO_QUERY  _TheSpecialOne_   \n",
       "1  0  1467810672  Mon Apr 06 22:19:49 PDT 2009  NO_QUERY    scotthamilton   \n",
       "2  0  1467810917  Mon Apr 06 22:19:53 PDT 2009  NO_QUERY         mattycus   \n",
       "3  0  1467811184  Mon Apr 06 22:19:57 PDT 2009  NO_QUERY          ElleCTF   \n",
       "4  0  1467811193  Mon Apr 06 22:19:57 PDT 2009  NO_QUERY           Karoli   \n",
       "\n",
       "                                                   5  \n",
       "0  @switchfoot http://twitpic.com/2y1zl - Awww, t...  \n",
       "1  is upset that he can't update his Facebook by ...  \n",
       "2  @Kenichan I dived many times for the ball. Man...  \n",
       "3    my whole body feels itchy and like its on fire   \n",
       "4  @nationwideclass no, it's not behaving at all....  "
      ]
     },
     "execution_count": 3,
     "metadata": {},
     "output_type": "execute_result"
    }
   ],
   "source": [
    "df = pd.read_csv('../input/sentiment140/training.1600000.processed.noemoticon.csv',\n",
    "                 encoding = 'latin',header=None)\n",
    "df.head()"
   ]
  },
  {
   "cell_type": "code",
   "execution_count": 4,
   "id": "4c9468f7",
   "metadata": {
    "execution": {
     "iopub.execute_input": "2021-12-09T09:27:59.029765Z",
     "iopub.status.busy": "2021-12-09T09:27:59.028667Z",
     "iopub.status.idle": "2021-12-09T09:27:59.032818Z",
     "shell.execute_reply": "2021-12-09T09:27:59.033317Z",
     "shell.execute_reply.started": "2021-12-08T21:20:42.779936Z"
    },
    "papermill": {
     "duration": 0.039729,
     "end_time": "2021-12-09T09:27:59.033450",
     "exception": false,
     "start_time": "2021-12-09T09:27:58.993721",
     "status": "completed"
    },
    "tags": []
   },
   "outputs": [
    {
     "data": {
      "text/html": [
       "<div>\n",
       "<style scoped>\n",
       "    .dataframe tbody tr th:only-of-type {\n",
       "        vertical-align: middle;\n",
       "    }\n",
       "\n",
       "    .dataframe tbody tr th {\n",
       "        vertical-align: top;\n",
       "    }\n",
       "\n",
       "    .dataframe thead th {\n",
       "        text-align: right;\n",
       "    }\n",
       "</style>\n",
       "<table border=\"1\" class=\"dataframe\">\n",
       "  <thead>\n",
       "    <tr style=\"text-align: right;\">\n",
       "      <th></th>\n",
       "      <th>sentiment</th>\n",
       "      <th>id</th>\n",
       "      <th>date</th>\n",
       "      <th>query</th>\n",
       "      <th>user_id</th>\n",
       "      <th>text</th>\n",
       "    </tr>\n",
       "  </thead>\n",
       "  <tbody>\n",
       "    <tr>\n",
       "      <th>0</th>\n",
       "      <td>0</td>\n",
       "      <td>1467810369</td>\n",
       "      <td>Mon Apr 06 22:19:45 PDT 2009</td>\n",
       "      <td>NO_QUERY</td>\n",
       "      <td>_TheSpecialOne_</td>\n",
       "      <td>@switchfoot http://twitpic.com/2y1zl - Awww, t...</td>\n",
       "    </tr>\n",
       "    <tr>\n",
       "      <th>1</th>\n",
       "      <td>0</td>\n",
       "      <td>1467810672</td>\n",
       "      <td>Mon Apr 06 22:19:49 PDT 2009</td>\n",
       "      <td>NO_QUERY</td>\n",
       "      <td>scotthamilton</td>\n",
       "      <td>is upset that he can't update his Facebook by ...</td>\n",
       "    </tr>\n",
       "    <tr>\n",
       "      <th>2</th>\n",
       "      <td>0</td>\n",
       "      <td>1467810917</td>\n",
       "      <td>Mon Apr 06 22:19:53 PDT 2009</td>\n",
       "      <td>NO_QUERY</td>\n",
       "      <td>mattycus</td>\n",
       "      <td>@Kenichan I dived many times for the ball. Man...</td>\n",
       "    </tr>\n",
       "    <tr>\n",
       "      <th>3</th>\n",
       "      <td>0</td>\n",
       "      <td>1467811184</td>\n",
       "      <td>Mon Apr 06 22:19:57 PDT 2009</td>\n",
       "      <td>NO_QUERY</td>\n",
       "      <td>ElleCTF</td>\n",
       "      <td>my whole body feels itchy and like its on fire</td>\n",
       "    </tr>\n",
       "    <tr>\n",
       "      <th>4</th>\n",
       "      <td>0</td>\n",
       "      <td>1467811193</td>\n",
       "      <td>Mon Apr 06 22:19:57 PDT 2009</td>\n",
       "      <td>NO_QUERY</td>\n",
       "      <td>Karoli</td>\n",
       "      <td>@nationwideclass no, it's not behaving at all....</td>\n",
       "    </tr>\n",
       "  </tbody>\n",
       "</table>\n",
       "</div>"
      ],
      "text/plain": [
       "   sentiment          id                          date     query  \\\n",
       "0          0  1467810369  Mon Apr 06 22:19:45 PDT 2009  NO_QUERY   \n",
       "1          0  1467810672  Mon Apr 06 22:19:49 PDT 2009  NO_QUERY   \n",
       "2          0  1467810917  Mon Apr 06 22:19:53 PDT 2009  NO_QUERY   \n",
       "3          0  1467811184  Mon Apr 06 22:19:57 PDT 2009  NO_QUERY   \n",
       "4          0  1467811193  Mon Apr 06 22:19:57 PDT 2009  NO_QUERY   \n",
       "\n",
       "           user_id                                               text  \n",
       "0  _TheSpecialOne_  @switchfoot http://twitpic.com/2y1zl - Awww, t...  \n",
       "1    scotthamilton  is upset that he can't update his Facebook by ...  \n",
       "2         mattycus  @Kenichan I dived many times for the ball. Man...  \n",
       "3          ElleCTF    my whole body feels itchy and like its on fire   \n",
       "4           Karoli  @nationwideclass no, it's not behaving at all....  "
      ]
     },
     "execution_count": 4,
     "metadata": {},
     "output_type": "execute_result"
    }
   ],
   "source": [
    "df.columns = ['sentiment', 'id', 'date', 'query', 'user_id', 'text']\n",
    "df.head()"
   ]
  },
  {
   "cell_type": "code",
   "execution_count": 5,
   "id": "9f481214",
   "metadata": {
    "execution": {
     "iopub.execute_input": "2021-12-09T09:27:59.090950Z",
     "iopub.status.busy": "2021-12-09T09:27:59.089828Z",
     "iopub.status.idle": "2021-12-09T09:27:59.126287Z",
     "shell.execute_reply": "2021-12-09T09:27:59.125578Z",
     "shell.execute_reply.started": "2021-12-08T21:20:42.797882Z"
    },
    "papermill": {
     "duration": 0.071079,
     "end_time": "2021-12-09T09:27:59.126439",
     "exception": false,
     "start_time": "2021-12-09T09:27:59.055360",
     "status": "completed"
    },
    "tags": []
   },
   "outputs": [],
   "source": [
    "df = df.drop(['id', 'date', 'query', 'user_id'], axis=1)"
   ]
  },
  {
   "cell_type": "code",
   "execution_count": 6,
   "id": "833f952b",
   "metadata": {
    "execution": {
     "iopub.execute_input": "2021-12-09T09:27:59.212418Z",
     "iopub.status.busy": "2021-12-09T09:27:59.211078Z",
     "iopub.status.idle": "2021-12-09T09:27:59.718204Z",
     "shell.execute_reply": "2021-12-09T09:27:59.718766Z",
     "shell.execute_reply.started": "2021-12-08T21:20:42.837857Z"
    },
    "papermill": {
     "duration": 0.569741,
     "end_time": "2021-12-09T09:27:59.719039",
     "exception": false,
     "start_time": "2021-12-09T09:27:59.149298",
     "status": "completed"
    },
    "tags": []
   },
   "outputs": [
    {
     "data": {
      "text/html": [
       "<div>\n",
       "<style scoped>\n",
       "    .dataframe tbody tr th:only-of-type {\n",
       "        vertical-align: middle;\n",
       "    }\n",
       "\n",
       "    .dataframe tbody tr th {\n",
       "        vertical-align: top;\n",
       "    }\n",
       "\n",
       "    .dataframe thead th {\n",
       "        text-align: right;\n",
       "    }\n",
       "</style>\n",
       "<table border=\"1\" class=\"dataframe\">\n",
       "  <thead>\n",
       "    <tr style=\"text-align: right;\">\n",
       "      <th></th>\n",
       "      <th>sentiment</th>\n",
       "      <th>text</th>\n",
       "    </tr>\n",
       "  </thead>\n",
       "  <tbody>\n",
       "    <tr>\n",
       "      <th>0</th>\n",
       "      <td>Negative</td>\n",
       "      <td>@switchfoot http://twitpic.com/2y1zl - Awww, t...</td>\n",
       "    </tr>\n",
       "    <tr>\n",
       "      <th>1</th>\n",
       "      <td>Negative</td>\n",
       "      <td>is upset that he can't update his Facebook by ...</td>\n",
       "    </tr>\n",
       "    <tr>\n",
       "      <th>2</th>\n",
       "      <td>Negative</td>\n",
       "      <td>@Kenichan I dived many times for the ball. Man...</td>\n",
       "    </tr>\n",
       "    <tr>\n",
       "      <th>3</th>\n",
       "      <td>Negative</td>\n",
       "      <td>my whole body feels itchy and like its on fire</td>\n",
       "    </tr>\n",
       "    <tr>\n",
       "      <th>4</th>\n",
       "      <td>Negative</td>\n",
       "      <td>@nationwideclass no, it's not behaving at all....</td>\n",
       "    </tr>\n",
       "  </tbody>\n",
       "</table>\n",
       "</div>"
      ],
      "text/plain": [
       "  sentiment                                               text\n",
       "0  Negative  @switchfoot http://twitpic.com/2y1zl - Awww, t...\n",
       "1  Negative  is upset that he can't update his Facebook by ...\n",
       "2  Negative  @Kenichan I dived many times for the ball. Man...\n",
       "3  Negative    my whole body feels itchy and like its on fire \n",
       "4  Negative  @nationwideclass no, it's not behaving at all...."
      ]
     },
     "execution_count": 6,
     "metadata": {},
     "output_type": "execute_result"
    }
   ],
   "source": [
    "lab_to_sentiment = {0:\"Negative\", 4:\"Positive\"}\n",
    "def label_decoder(label):\n",
    "  return lab_to_sentiment[label]\n",
    "df.sentiment = df.sentiment.apply(lambda x: label_decoder(x))\n",
    "df.head()"
   ]
  },
  {
   "cell_type": "code",
   "execution_count": 7,
   "id": "0b7edb5a",
   "metadata": {
    "execution": {
     "iopub.execute_input": "2021-12-09T09:28:00.037764Z",
     "iopub.status.busy": "2021-12-09T09:28:00.036578Z",
     "iopub.status.idle": "2021-12-09T09:28:00.217389Z",
     "shell.execute_reply": "2021-12-09T09:28:00.217871Z",
     "shell.execute_reply.started": "2021-12-08T21:20:43.355646Z"
    },
    "papermill": {
     "duration": 0.476268,
     "end_time": "2021-12-09T09:28:00.218070",
     "exception": false,
     "start_time": "2021-12-09T09:27:59.741802",
     "status": "completed"
    },
    "tags": []
   },
   "outputs": [
    {
     "data": {
      "text/plain": [
       "Text(0.5, 1.0, 'Sentiment Data Distribution')"
      ]
     },
     "execution_count": 7,
     "metadata": {},
     "output_type": "execute_result"
    },
    {
     "data": {
      "image/png": "[encoded data removed]",
      "text/plain": [
       "<Figure size 576x288 with 1 Axes>"
      ]
     },
     "metadata": {
      "needs_background": "light"
     },
     "output_type": "display_data"
    }
   ],
   "source": [
    "val_count = df.sentiment.value_counts()\n",
    "\n",
    "plt.figure(figsize=(8,4))\n",
    "plt.bar(val_count.index, val_count.values)\n",
    "plt.title(\"Sentiment Data Distribution\")"
   ]
  },
  {
   "cell_type": "code",
   "execution_count": 8,
   "id": "84887e99",
   "metadata": {
    "execution": {
     "iopub.execute_input": "2021-12-09T09:28:00.272491Z",
     "iopub.status.busy": "2021-12-09T09:28:00.271349Z",
     "iopub.status.idle": "2021-12-09T09:28:00.425838Z",
     "shell.execute_reply": "2021-12-09T09:28:00.426353Z",
     "shell.execute_reply.started": "2021-12-08T21:20:43.800168Z"
    },
    "papermill": {
     "duration": 0.18428,
     "end_time": "2021-12-09T09:28:00.426537",
     "exception": false,
     "start_time": "2021-12-09T09:28:00.242257",
     "status": "completed"
    },
    "tags": []
   },
   "outputs": [
    {
     "data": {
      "text/html": [
       "<div>\n",
       "<style scoped>\n",
       "    .dataframe tbody tr th:only-of-type {\n",
       "        vertical-align: middle;\n",
       "    }\n",
       "\n",
       "    .dataframe tbody tr th {\n",
       "        vertical-align: top;\n",
       "    }\n",
       "\n",
       "    .dataframe thead th {\n",
       "        text-align: right;\n",
       "    }\n",
       "</style>\n",
       "<table border=\"1\" class=\"dataframe\">\n",
       "  <thead>\n",
       "    <tr style=\"text-align: right;\">\n",
       "      <th></th>\n",
       "      <th>sentiment</th>\n",
       "      <th>text</th>\n",
       "    </tr>\n",
       "  </thead>\n",
       "  <tbody>\n",
       "    <tr>\n",
       "      <th>314641</th>\n",
       "      <td>Negative</td>\n",
       "      <td>considering changing wedding dress to somethin...</td>\n",
       "    </tr>\n",
       "    <tr>\n",
       "      <th>75076</th>\n",
       "      <td>Negative</td>\n",
       "      <td>ahh my spanish teacher just sent me a correcte...</td>\n",
       "    </tr>\n",
       "    <tr>\n",
       "      <th>123997</th>\n",
       "      <td>Negative</td>\n",
       "      <td>Reason #107 why i hate sleeping (or trying to ...</td>\n",
       "    </tr>\n",
       "    <tr>\n",
       "      <th>928060</th>\n",
       "      <td>Positive</td>\n",
       "      <td>And she said</td>\n",
       "    </tr>\n",
       "    <tr>\n",
       "      <th>795593</th>\n",
       "      <td>Negative</td>\n",
       "      <td>I hate 7am conference calls</td>\n",
       "    </tr>\n",
       "    <tr>\n",
       "      <th>1079648</th>\n",
       "      <td>Positive</td>\n",
       "      <td>@Hameed_Hemmat Yes they r.  Cuz wants Cavs to ...</td>\n",
       "    </tr>\n",
       "    <tr>\n",
       "      <th>86970</th>\n",
       "      <td>Negative</td>\n",
       "      <td>@ZRHERO Yeah and yeah. But i cant go on it atm...</td>\n",
       "    </tr>\n",
       "    <tr>\n",
       "      <th>1477180</th>\n",
       "      <td>Positive</td>\n",
       "      <td>Time to sleep! See you all tommorow, have a go...</td>\n",
       "    </tr>\n",
       "    <tr>\n",
       "      <th>702223</th>\n",
       "      <td>Negative</td>\n",
       "      <td>4 more hours of work</td>\n",
       "    </tr>\n",
       "    <tr>\n",
       "      <th>135315</th>\n",
       "      <td>Negative</td>\n",
       "      <td>@Alicia_C78 I know! Ugh! I still need to go bu...</td>\n",
       "    </tr>\n",
       "  </tbody>\n",
       "</table>\n",
       "</div>"
      ],
      "text/plain": [
       "        sentiment                                               text\n",
       "314641   Negative  considering changing wedding dress to somethin...\n",
       "75076    Negative  ahh my spanish teacher just sent me a correcte...\n",
       "123997   Negative  Reason #107 why i hate sleeping (or trying to ...\n",
       "928060   Positive                                      And she said \n",
       "795593   Negative                       I hate 7am conference calls \n",
       "1079648  Positive  @Hameed_Hemmat Yes they r.  Cuz wants Cavs to ...\n",
       "86970    Negative  @ZRHERO Yeah and yeah. But i cant go on it atm...\n",
       "1477180  Positive  Time to sleep! See you all tommorow, have a go...\n",
       "702223   Negative                              4 more hours of work \n",
       "135315   Negative  @Alicia_C78 I know! Ugh! I still need to go bu..."
      ]
     },
     "execution_count": 8,
     "metadata": {},
     "output_type": "execute_result"
    }
   ],
   "source": [
    "import random\n",
    "random_idx_list = [random.randint(1,len(df.text)) for i in range(10)] # creates random indexes to choose from dataframe\n",
    "df.loc[random_idx_list,:].head(10) # Returns the rows with the index and display it"
   ]
  },
  {
   "cell_type": "code",
   "execution_count": 9,
   "id": "c7b58cb5",
   "metadata": {
    "execution": {
     "iopub.execute_input": "2021-12-09T09:28:00.480581Z",
     "iopub.status.busy": "2021-12-09T09:28:00.479776Z",
     "iopub.status.idle": "2021-12-09T09:28:00.483933Z",
     "shell.execute_reply": "2021-12-09T09:28:00.483463Z",
     "shell.execute_reply.started": "2021-12-08T21:20:43.933435Z"
    },
    "papermill": {
     "duration": 0.032807,
     "end_time": "2021-12-09T09:28:00.484099",
     "exception": false,
     "start_time": "2021-12-09T09:28:00.451292",
     "status": "completed"
    },
    "tags": []
   },
   "outputs": [],
   "source": [
    "stop_words = stopwords.words('english')\n",
    "stemmer = SnowballStemmer('english')\n",
    "\n",
    "text_cleaning_re = \"@\\S+|https?:\\S+|http?:\\S|[^A-Za-z0-9]+\""
   ]
  },
  {
   "cell_type": "code",
   "execution_count": 10,
   "id": "e815ce98",
   "metadata": {
    "execution": {
     "iopub.execute_input": "2021-12-09T09:28:00.538417Z",
     "iopub.status.busy": "2021-12-09T09:28:00.537393Z",
     "iopub.status.idle": "2021-12-09T09:28:00.541063Z",
     "shell.execute_reply": "2021-12-09T09:28:00.540489Z",
     "shell.execute_reply.started": "2021-12-08T21:20:43.94009Z"
    },
    "papermill": {
     "duration": 0.032981,
     "end_time": "2021-12-09T09:28:00.541189",
     "exception": false,
     "start_time": "2021-12-09T09:28:00.508208",
     "status": "completed"
    },
    "tags": []
   },
   "outputs": [],
   "source": [
    "def preprocess(text, stem=False):\n",
    "  text = re.sub(text_cleaning_re, ' ', str(text).lower()).strip()\n",
    "  tokens = []\n",
    "  for token in text.split():\n",
    "    if token not in stop_words:\n",
    "      if stem:\n",
    "        tokens.append(stemmer.stem(token))\n",
    "      else:\n",
    "        tokens.append(token)\n",
    "  return \" \".join(tokens)"
   ]
  },
  {
   "cell_type": "code",
   "execution_count": 11,
   "id": "7eb62534",
   "metadata": {
    "execution": {
     "iopub.execute_input": "2021-12-09T09:28:00.593780Z",
     "iopub.status.busy": "2021-12-09T09:28:00.592498Z",
     "iopub.status.idle": "2021-12-09T09:28:55.752830Z",
     "shell.execute_reply": "2021-12-09T09:28:55.754086Z",
     "shell.execute_reply.started": "2021-12-08T21:20:43.950341Z"
    },
    "papermill": {
     "duration": 55.190003,
     "end_time": "2021-12-09T09:28:55.754459",
     "exception": false,
     "start_time": "2021-12-09T09:28:00.564456",
     "status": "completed"
    },
    "tags": []
   },
   "outputs": [],
   "source": [
    "df.text = df.text.apply(lambda x: preprocess(x))"
   ]
  },
  {
   "cell_type": "markdown",
   "id": "c342917a",
   "metadata": {
    "papermill": {
     "duration": 0.038694,
     "end_time": "2021-12-09T09:28:55.832195",
     "exception": false,
     "start_time": "2021-12-09T09:28:55.793501",
     "status": "completed"
    },
    "tags": []
   },
   "source": [
    "## Train and Test Split"
   ]
  },
  {
   "cell_type": "code",
   "execution_count": 12,
   "id": "bc14a03d",
   "metadata": {
    "execution": {
     "iopub.execute_input": "2021-12-09T09:28:55.915860Z",
     "iopub.status.busy": "2021-12-09T09:28:55.914821Z",
     "iopub.status.idle": "2021-12-09T09:28:55.917610Z",
     "shell.execute_reply": "2021-12-09T09:28:55.916792Z",
     "shell.execute_reply.started": "2021-12-08T21:21:43.004301Z"
    },
    "papermill": {
     "duration": 0.048418,
     "end_time": "2021-12-09T09:28:55.917778",
     "exception": false,
     "start_time": "2021-12-09T09:28:55.869360",
     "status": "completed"
    },
    "tags": []
   },
   "outputs": [],
   "source": [
    "TRAIN_SIZE = 0.8 \n",
    "MAX_NB_WORDS = 100000\n",
    "MAX_SEQUENCE_LENGTH = 30\n",
    "EMBEDDING_DIM = 10\n",
    "LR = 1e-3\n",
    "BATCH_SIZE = 50\n",
    "EPOCHS = 10"
   ]
  },
  {
   "cell_type": "code",
   "execution_count": 13,
   "id": "4a6769c4",
   "metadata": {
    "execution": {
     "iopub.execute_input": "2021-12-09T09:28:56.011255Z",
     "iopub.status.busy": "2021-12-09T09:28:56.010269Z",
     "iopub.status.idle": "2021-12-09T09:28:56.472038Z",
     "shell.execute_reply": "2021-12-09T09:28:56.471530Z",
     "shell.execute_reply.started": "2021-12-08T21:21:43.010795Z"
    },
    "papermill": {
     "duration": 0.516406,
     "end_time": "2021-12-09T09:28:56.472179",
     "exception": false,
     "start_time": "2021-12-09T09:28:55.955773",
     "status": "completed"
    },
    "tags": []
   },
   "outputs": [
    {
     "name": "stdout",
     "output_type": "stream",
     "text": [
      "Train Data size: 1280000\n",
      "Test Data size 320000\n"
     ]
    }
   ],
   "source": [
    "train_data, test_data = train_test_split(df, test_size=1-TRAIN_SIZE,\n",
    "                                         random_state=7) # Splits Dataset into Training and Testing set\n",
    "print(\"Train Data size:\", len(train_data))\n",
    "print(\"Test Data size\", len(test_data))"
   ]
  },
  {
   "cell_type": "code",
   "execution_count": 14,
   "id": "e3020be0",
   "metadata": {
    "execution": {
     "iopub.execute_input": "2021-12-09T09:28:56.527904Z",
     "iopub.status.busy": "2021-12-09T09:28:56.527173Z",
     "iopub.status.idle": "2021-12-09T09:29:17.300739Z",
     "shell.execute_reply": "2021-12-09T09:29:17.300264Z",
     "shell.execute_reply.started": "2021-12-08T21:21:43.451906Z"
    },
    "papermill": {
     "duration": 20.804346,
     "end_time": "2021-12-09T09:29:17.300877",
     "exception": false,
     "start_time": "2021-12-09T09:28:56.496531",
     "status": "completed"
    },
    "tags": []
   },
   "outputs": [
    {
     "name": "stdout",
     "output_type": "stream",
     "text": [
      "Vocabulary Size : 290575\n"
     ]
    }
   ],
   "source": [
    "from keras.preprocessing.text import Tokenizer\n",
    "\n",
    "tokenizer = Tokenizer()\n",
    "tokenizer.fit_on_texts(train_data.text)\n",
    "\n",
    "word_index = tokenizer.word_index\n",
    "vocab_size = len(tokenizer.word_index) + 1\n",
    "print(\"Vocabulary Size :\", vocab_size)"
   ]
  },
  {
   "cell_type": "code",
   "execution_count": 15,
   "id": "8cf4bb23",
   "metadata": {
    "execution": {
     "iopub.execute_input": "2021-12-09T09:29:17.357751Z",
     "iopub.status.busy": "2021-12-09T09:29:17.356908Z",
     "iopub.status.idle": "2021-12-09T09:29:52.277116Z",
     "shell.execute_reply": "2021-12-09T09:29:52.277655Z",
     "shell.execute_reply.started": "2021-12-08T21:22:01.329561Z"
    },
    "papermill": {
     "duration": 34.950269,
     "end_time": "2021-12-09T09:29:52.277871",
     "exception": false,
     "start_time": "2021-12-09T09:29:17.327602",
     "status": "completed"
    },
    "tags": []
   },
   "outputs": [
    {
     "name": "stdout",
     "output_type": "stream",
     "text": [
      "Training X Shape: (1280000, 30)\n",
      "Testing X Shape: (320000, 30)\n",
      "<class 'numpy.ndarray'>\n",
      "<class 'numpy.ndarray'>\n"
     ]
    }
   ],
   "source": [
    "from keras.preprocessing.sequence import pad_sequences\n",
    "\n",
    "x_train = pad_sequences(tokenizer.texts_to_sequences(train_data.text),\n",
    "                        maxlen = MAX_SEQUENCE_LENGTH)\n",
    "x_test = pad_sequences(tokenizer.texts_to_sequences(test_data.text),\n",
    "                       maxlen = MAX_SEQUENCE_LENGTH)\n",
    "\n",
    "print(\"Training X Shape:\",x_train.shape)\n",
    "print(\"Testing X Shape:\",x_test.shape)\n",
    "\n",
    "print(type(x_train))\n",
    "print(type(x_test))"
   ]
  },
  {
   "cell_type": "code",
   "execution_count": 16,
   "id": "bc152def",
   "metadata": {
    "execution": {
     "iopub.execute_input": "2021-12-09T09:29:52.392008Z",
     "iopub.status.busy": "2021-12-09T09:29:52.391128Z",
     "iopub.status.idle": "2021-12-09T09:29:52.416582Z",
     "shell.execute_reply": "2021-12-09T09:29:52.415899Z",
     "shell.execute_reply.started": "2021-12-08T21:22:32.218368Z"
    },
    "papermill": {
     "duration": 0.113953,
     "end_time": "2021-12-09T09:29:52.416739",
     "exception": false,
     "start_time": "2021-12-09T09:29:52.302786",
     "status": "completed"
    },
    "tags": []
   },
   "outputs": [],
   "source": [
    "labels = train_data.sentiment.unique().tolist()"
   ]
  },
  {
   "cell_type": "code",
   "execution_count": 17,
   "id": "94044cb2",
   "metadata": {
    "execution": {
     "iopub.execute_input": "2021-12-09T09:29:52.726914Z",
     "iopub.status.busy": "2021-12-09T09:29:52.725637Z",
     "iopub.status.idle": "2021-12-09T09:29:53.640226Z",
     "shell.execute_reply": "2021-12-09T09:29:53.639607Z",
     "shell.execute_reply.started": "2021-12-08T21:22:32.314085Z"
    },
    "papermill": {
     "duration": 1.198875,
     "end_time": "2021-12-09T09:29:53.640388",
     "exception": false,
     "start_time": "2021-12-09T09:29:52.441513",
     "status": "completed"
    },
    "tags": []
   },
   "outputs": [
    {
     "name": "stdout",
     "output_type": "stream",
     "text": [
      "y_train shape: (1280000, 1)\n",
      "y_test shape: (320000, 1)\n"
     ]
    }
   ],
   "source": [
    "encoder = LabelEncoder()\n",
    "encoder.fit(train_data.sentiment.to_list())\n",
    "\n",
    "y_train = encoder.transform(train_data.sentiment.to_list())\n",
    "y_test = encoder.transform(test_data.sentiment.to_list())\n",
    "\n",
    "y_train = y_train.reshape(-1,1)\n",
    "y_test = y_test.reshape(-1,1)\n",
    "\n",
    "train_data = TensorDataset(torch.from_numpy(x_train), torch.from_numpy(y_train))\n",
    "test_data = TensorDataset(torch.from_numpy(x_test), torch.from_numpy(y_test))\n",
    "\n",
    "train_loader = DataLoader(train_data, shuffle=True, batch_size=BATCH_SIZE, drop_last = True)\n",
    "test_loader = DataLoader(test_data, shuffle=True, batch_size=BATCH_SIZE, drop_last = True)\n",
    "\n",
    "print(\"y_train shape:\", y_train.shape)\n",
    "print(\"y_test shape:\", y_test.shape)"
   ]
  },
  {
   "cell_type": "code",
   "execution_count": 18,
   "id": "91c788e0",
   "metadata": {
    "execution": {
     "iopub.execute_input": "2021-12-09T09:29:53.704724Z",
     "iopub.status.busy": "2021-12-09T09:29:53.698384Z",
     "iopub.status.idle": "2021-12-09T09:29:53.708396Z",
     "shell.execute_reply": "2021-12-09T09:29:53.707734Z",
     "shell.execute_reply.started": "2021-12-08T21:22:33.529097Z"
    },
    "papermill": {
     "duration": 0.042659,
     "end_time": "2021-12-09T09:29:53.708513",
     "exception": false,
     "start_time": "2021-12-09T09:29:53.665854",
     "status": "completed"
    },
    "tags": []
   },
   "outputs": [],
   "source": [
    "class PositionalEncoding(nn.Module):\n",
    "\n",
    "    def __init__(self, d_model, dropout=0.1, max_len=5000):\n",
    "        super(PositionalEncoding, self).__init__()\n",
    "        self.dropout = nn.Dropout(p=dropout)\n",
    "\n",
    "        pe = torch.zeros(max_len, d_model)\n",
    "        position = torch.arange(0, max_len, dtype=torch.float).unsqueeze(1)\n",
    "        div_term = torch.exp(torch.arange(0, d_model, 2).float() * (-math.log(10000.0) / d_model))\n",
    "        pe[:, 0::2] = torch.sin(position * div_term)\n",
    "        pe[:, 1::2] = torch.cos(position * div_term)\n",
    "        pe = pe.unsqueeze(0).transpose(0, 1)\n",
    "        self.register_buffer('pe', pe)\n",
    "\n",
    "    def forward(self, x):\n",
    "        x = x + self.pe[:x.size(0), :]\n",
    "        return self.dropout(x)\n",
    "    \n",
    "class SentimentNet(nn.Module):\n",
    "    def __init__(self, vocab_size, output_size, embedding_dim, hidden_dim, n_layers, drop_prob=0.2):\n",
    "        super(SentimentNet, self).__init__()\n",
    "        self.output_size = output_size\n",
    "        self.n_layers = n_layers\n",
    "        self.hidden_dim = hidden_dim\n",
    "        self.dropout = nn.Dropout(drop_prob)\n",
    "        self.embedding_dim = embedding_dim\n",
    "        self.sigmoid = nn.Sigmoid()\n",
    "        \n",
    "        \n",
    "        self.encoder = nn.Embedding(vocab_size, embedding_dim)\n",
    "        self.pos_encoder = PositionalEncoding(embedding_dim, drop_prob)\n",
    "        encoder_layer = nn.TransformerEncoderLayer(embedding_dim, 2, hidden_dim)\n",
    "        self.transformer_encoder = nn.TransformerEncoder(encoder_layer, num_layers=n_layers)\n",
    "        \n",
    "\n",
    "        self.fc = nn.Linear(embedding_dim * 30 , 1)\n",
    "\n",
    "    \n",
    "    def forward(self, src):\n",
    "        src = self.encoder(src) * math.sqrt(self.embedding_dim)\n",
    "        src = self.pos_encoder(src)\n",
    "        output = self.transformer_encoder(src)\n",
    "        output = output.view(output.size(0), -1)\n",
    "        output = self.sigmoid(self.fc(output))\n",
    "        return output"
   ]
  },
  {
   "cell_type": "code",
   "execution_count": 19,
   "id": "e6da5558",
   "metadata": {
    "execution": {
     "iopub.execute_input": "2021-12-09T09:29:53.763534Z",
     "iopub.status.busy": "2021-12-09T09:29:53.762986Z",
     "iopub.status.idle": "2021-12-09T09:29:53.767507Z",
     "shell.execute_reply": "2021-12-09T09:29:53.766988Z",
     "shell.execute_reply.started": "2021-12-08T21:22:33.544023Z"
    },
    "papermill": {
     "duration": 0.033671,
     "end_time": "2021-12-09T09:29:53.767636",
     "exception": false,
     "start_time": "2021-12-09T09:29:53.733965",
     "status": "completed"
    },
    "tags": []
   },
   "outputs": [],
   "source": [
    "def model_params(model):\n",
    "    pp=0\n",
    "    for p in list(model.parameters()):\n",
    "        nn=1\n",
    "        for s in list(p.size()):\n",
    "            nn = nn*s\n",
    "        pp += nn\n",
    "    return pp"
   ]
  },
  {
   "cell_type": "code",
   "execution_count": 20,
   "id": "31acce5f",
   "metadata": {
    "execution": {
     "iopub.execute_input": "2021-12-09T09:29:53.827309Z",
     "iopub.status.busy": "2021-12-09T09:29:53.826616Z",
     "iopub.status.idle": "2021-12-09T09:30:01.454530Z",
     "shell.execute_reply": "2021-12-09T09:30:01.455878Z",
     "shell.execute_reply.started": "2021-12-08T21:22:33.557558Z"
    },
    "papermill": {
     "duration": 7.664079,
     "end_time": "2021-12-09T09:30:01.456213",
     "exception": false,
     "start_time": "2021-12-09T09:29:53.792134",
     "status": "completed"
    },
    "tags": []
   },
   "outputs": [
    {
     "name": "stdout",
     "output_type": "stream",
     "text": [
      "37265157\n"
     ]
    }
   ],
   "source": [
    "import math\n",
    "\n",
    "output_size = 1\n",
    "embedding_dim = 128\n",
    "hidden_dim = 4\n",
    "n_layers = 1\n",
    "\n",
    "model = SentimentNet(vocab_size, output_size, embedding_dim, hidden_dim, n_layers)\n",
    "model.to(device)\n",
    "print(model_params(model))\n",
    "lr=0.01\n",
    "criterion = nn.BCELoss()\n",
    "optimizer = torch.optim.Adam(model.parameters(), lr=lr)"
   ]
  },
  {
   "cell_type": "code",
   "execution_count": 21,
   "id": "e7b39025",
   "metadata": {
    "execution": {
     "iopub.execute_input": "2021-12-09T09:30:01.551550Z",
     "iopub.status.busy": "2021-12-09T09:30:01.550436Z",
     "iopub.status.idle": "2021-12-09T10:31:14.863377Z",
     "shell.execute_reply": "2021-12-09T10:31:14.862751Z",
     "shell.execute_reply.started": "2021-12-08T21:22:39.586111Z"
    },
    "papermill": {
     "duration": 3673.364917,
     "end_time": "2021-12-09T10:31:14.863549",
     "exception": false,
     "start_time": "2021-12-09T09:30:01.498632",
     "status": "completed"
    },
    "tags": []
   },
   "outputs": [
    {
     "name": "stdout",
     "output_type": "stream",
     "text": [
      "Epoch: 1/3... Step: 500... Loss: 0.680618... Val Loss: 0.711746\n",
      "Validation loss decreased (inf --> 0.711746).  Saving model ...\n",
      "Epoch: 1/3... Step: 1000... Loss: 0.691034... Val Loss: 0.695706\n",
      "Validation loss decreased (0.711746 --> 0.695706).  Saving model ...\n",
      "Epoch: 1/3... Step: 1500... Loss: 0.720864... Val Loss: 0.694203\n",
      "Validation loss decreased (0.695706 --> 0.694203).  Saving model ...\n",
      "Epoch: 1/3... Step: 2000... Loss: 0.684744... Val Loss: 0.692065\n",
      "Validation loss decreased (0.694203 --> 0.692065).  Saving model ...\n",
      "Epoch: 1/3... Step: 2500... Loss: 0.690393... Val Loss: 0.715199\n",
      "Epoch: 1/3... Step: 3000... Loss: 0.702488... Val Loss: 0.691150\n",
      "Validation loss decreased (0.692065 --> 0.691150).  Saving model ...\n",
      "Epoch: 1/3... Step: 3500... Loss: 0.697118... Val Loss: 0.691071\n",
      "Validation loss decreased (0.691150 --> 0.691071).  Saving model ...\n",
      "Epoch: 1/3... Step: 4000... Loss: 0.681517... Val Loss: 0.694993\n",
      "Epoch: 1/3... Step: 4500... Loss: 0.713281... Val Loss: 0.695210\n",
      "Epoch: 1/3... Step: 5000... Loss: 0.653259... Val Loss: 0.698664\n",
      "Epoch: 1/3... Step: 5500... Loss: 0.755867... Val Loss: 0.704862\n",
      "Epoch: 1/3... Step: 6000... Loss: 0.685039... Val Loss: 0.694375\n",
      "Epoch: 1/3... Step: 6500... Loss: 0.682544... Val Loss: 0.693747\n",
      "Epoch: 1/3... Step: 7000... Loss: 0.668518... Val Loss: 0.726744\n",
      "Epoch: 1/3... Step: 7500... Loss: 0.683179... Val Loss: 0.692943\n",
      "Epoch: 1/3... Step: 8000... Loss: 0.686344... Val Loss: 0.695003\n",
      "Epoch: 1/3... Step: 8500... Loss: 0.684916... Val Loss: 0.716050\n",
      "Epoch: 1/3... Step: 9000... Loss: 0.712615... Val Loss: 0.693915\n",
      "Epoch: 1/3... Step: 9500... Loss: 0.718781... Val Loss: 0.695876\n",
      "Epoch: 1/3... Step: 10000... Loss: 0.704553... Val Loss: 0.693806\n",
      "Epoch: 1/3... Step: 10500... Loss: 0.726845... Val Loss: 0.698478\n",
      "Epoch: 1/3... Step: 11000... Loss: 0.721103... Val Loss: 0.696311\n",
      "Epoch: 1/3... Step: 11500... Loss: 0.717859... Val Loss: 0.695311\n",
      "Epoch: 1/3... Step: 12000... Loss: 0.693596... Val Loss: 0.694159\n",
      "Epoch: 1/3... Step: 12500... Loss: 0.699525... Val Loss: 0.693102\n",
      "Epoch: 1/3... Step: 13000... Loss: 0.685353... Val Loss: 0.691946\n",
      "Epoch: 1/3... Step: 13500... Loss: 0.690179... Val Loss: 0.694467\n",
      "Epoch: 1/3... Step: 14000... Loss: 0.682057... Val Loss: 0.690601\n",
      "Validation loss decreased (0.691071 --> 0.690601).  Saving model ...\n",
      "Epoch: 1/3... Step: 14500... Loss: 0.684447... Val Loss: 0.689088\n",
      "Validation loss decreased (0.690601 --> 0.689088).  Saving model ...\n",
      "Epoch: 1/3... Step: 15000... Loss: 0.682589... Val Loss: 0.694117\n",
      "Epoch: 1/3... Step: 15500... Loss: 0.689658... Val Loss: 0.692588\n",
      "Epoch: 1/3... Step: 16000... Loss: 0.703889... Val Loss: 0.726554\n",
      "Epoch: 1/3... Step: 16500... Loss: 0.673726... Val Loss: 0.695978\n",
      "Epoch: 1/3... Step: 17000... Loss: 0.727702... Val Loss: 0.692533\n",
      "Epoch: 1/3... Step: 17500... Loss: 0.718789... Val Loss: 0.698879\n",
      "Epoch: 1/3... Step: 18000... Loss: 0.681068... Val Loss: 0.690228\n",
      "Epoch: 1/3... Step: 18500... Loss: 0.682059... Val Loss: 0.690034\n",
      "Epoch: 1/3... Step: 19000... Loss: 0.696233... Val Loss: 0.689266\n",
      "Epoch: 1/3... Step: 19500... Loss: 0.696634... Val Loss: 0.690535\n",
      "Epoch: 1/3... Step: 20000... Loss: 0.714456... Val Loss: 0.689989\n",
      "Epoch: 1/3... Step: 20500... Loss: 0.698517... Val Loss: 0.690189\n",
      "Epoch: 1/3... Step: 21000... Loss: 0.694733... Val Loss: 0.689406\n",
      "Epoch: 1/3... Step: 21500... Loss: 0.707413... Val Loss: 0.688957\n",
      "Validation loss decreased (0.689088 --> 0.688957).  Saving model ...\n",
      "Epoch: 1/3... Step: 22000... Loss: 0.686899... Val Loss: 0.703150\n",
      "Epoch: 1/3... Step: 22500... Loss: 0.665248... Val Loss: 0.689292\n",
      "Epoch: 1/3... Step: 23000... Loss: 0.696871... Val Loss: 0.689927\n",
      "Epoch: 1/3... Step: 23500... Loss: 0.674188... Val Loss: 0.699324\n",
      "Epoch: 1/3... Step: 24000... Loss: 0.689201... Val Loss: 0.687423\n",
      "Validation loss decreased (0.688957 --> 0.687423).  Saving model ...\n",
      "Epoch: 1/3... Step: 24500... Loss: 0.686616... Val Loss: 0.688169\n",
      "Epoch: 1/3... Step: 25000... Loss: 0.710453... Val Loss: 0.691655\n",
      "Epoch: 1/3... Step: 25500... Loss: 0.671742... Val Loss: 0.690376\n",
      "Epoch: 2/3... Step: 26000... Loss: 0.705271... Val Loss: 0.709509\n",
      "Epoch: 2/3... Step: 26500... Loss: 0.710224... Val Loss: 0.688152\n",
      "Epoch: 2/3... Step: 27000... Loss: 0.708556... Val Loss: 0.689647\n",
      "Epoch: 2/3... Step: 27500... Loss: 0.740168... Val Loss: 0.691273\n",
      "Epoch: 2/3... Step: 28000... Loss: 0.727898... Val Loss: 0.690160\n",
      "Epoch: 2/3... Step: 28500... Loss: 0.700663... Val Loss: 0.687315\n",
      "Validation loss decreased (0.687423 --> 0.687315).  Saving model ...\n",
      "Epoch: 2/3... Step: 29000... Loss: 0.674252... Val Loss: 0.687200\n",
      "Validation loss decreased (0.687315 --> 0.687200).  Saving model ...\n",
      "Epoch: 2/3... Step: 29500... Loss: 0.689950... Val Loss: 0.688981\n",
      "Epoch: 2/3... Step: 30000... Loss: 0.681898... Val Loss: 0.688701\n",
      "Epoch: 2/3... Step: 30500... Loss: 0.764387... Val Loss: 0.694959\n",
      "Epoch: 2/3... Step: 31000... Loss: 0.691760... Val Loss: 0.688821\n",
      "Epoch: 2/3... Step: 31500... Loss: 0.702846... Val Loss: 0.687666\n",
      "Epoch: 2/3... Step: 32000... Loss: 0.694275... Val Loss: 0.687894\n",
      "Epoch: 2/3... Step: 32500... Loss: 0.686545... Val Loss: 0.689409\n",
      "Epoch: 2/3... Step: 33000... Loss: 0.679751... Val Loss: 0.687202\n",
      "Epoch: 2/3... Step: 33500... Loss: 0.684077... Val Loss: 0.685070\n",
      "Validation loss decreased (0.687200 --> 0.685070).  Saving model ...\n",
      "Epoch: 2/3... Step: 34000... Loss: 0.696672... Val Loss: 0.686299\n",
      "Epoch: 2/3... Step: 34500... Loss: 0.678561... Val Loss: 0.686596\n",
      "Epoch: 2/3... Step: 35000... Loss: 0.662204... Val Loss: 0.713453\n",
      "Epoch: 2/3... Step: 35500... Loss: 0.704281... Val Loss: 0.688479\n",
      "Epoch: 2/3... Step: 36000... Loss: 0.765449... Val Loss: 0.690542\n",
      "Epoch: 2/3... Step: 36500... Loss: 0.677065... Val Loss: 0.685727\n",
      "Epoch: 2/3... Step: 37000... Loss: 0.709529... Val Loss: 0.688658\n",
      "Epoch: 2/3... Step: 37500... Loss: 0.664431... Val Loss: 0.685152\n",
      "Epoch: 2/3... Step: 38000... Loss: 0.664582... Val Loss: 0.682780\n",
      "Validation loss decreased (0.685070 --> 0.682780).  Saving model ...\n",
      "Epoch: 2/3... Step: 38500... Loss: 0.677400... Val Loss: 0.682529\n",
      "Validation loss decreased (0.682780 --> 0.682529).  Saving model ...\n",
      "Epoch: 2/3... Step: 39000... Loss: 0.731686... Val Loss: 0.687202\n",
      "Epoch: 2/3... Step: 39500... Loss: 0.676331... Val Loss: 0.708359\n",
      "Epoch: 2/3... Step: 40000... Loss: 0.669298... Val Loss: 0.682067\n",
      "Validation loss decreased (0.682529 --> 0.682067).  Saving model ...\n",
      "Epoch: 2/3... Step: 40500... Loss: 0.702135... Val Loss: 0.688953\n",
      "Epoch: 2/3... Step: 41000... Loss: 0.708368... Val Loss: 0.683869\n",
      "Epoch: 2/3... Step: 41500... Loss: 0.689485... Val Loss: 0.685550\n",
      "Epoch: 2/3... Step: 42000... Loss: 0.792750... Val Loss: 0.694127\n",
      "Epoch: 2/3... Step: 42500... Loss: 0.690930... Val Loss: 0.687571\n",
      "Epoch: 2/3... Step: 43000... Loss: 0.652737... Val Loss: 0.692769\n",
      "Epoch: 2/3... Step: 43500... Loss: 0.741462... Val Loss: 0.701815\n",
      "Epoch: 2/3... Step: 44000... Loss: 0.716918... Val Loss: 0.681150\n",
      "Validation loss decreased (0.682067 --> 0.681150).  Saving model ...\n",
      "Epoch: 2/3... Step: 44500... Loss: 0.638884... Val Loss: 0.684001\n",
      "Epoch: 2/3... Step: 45000... Loss: 0.723499... Val Loss: 0.685950\n",
      "Epoch: 2/3... Step: 45500... Loss: 0.689043... Val Loss: 0.685011\n",
      "Epoch: 2/3... Step: 46000... Loss: 0.709694... Val Loss: 0.685007\n",
      "Epoch: 2/3... Step: 46500... Loss: 0.711118... Val Loss: 0.687982\n",
      "Epoch: 2/3... Step: 47000... Loss: 0.699031... Val Loss: 0.685749\n",
      "Epoch: 2/3... Step: 47500... Loss: 0.659230... Val Loss: 0.685575\n",
      "Epoch: 2/3... Step: 48000... Loss: 0.706889... Val Loss: 0.684924\n",
      "Epoch: 2/3... Step: 48500... Loss: 0.682613... Val Loss: 0.689561\n",
      "Epoch: 2/3... Step: 49000... Loss: 0.682984... Val Loss: 0.686904\n",
      "Epoch: 2/3... Step: 49500... Loss: 0.699868... Val Loss: 0.686179\n",
      "Epoch: 2/3... Step: 50000... Loss: 0.685758... Val Loss: 0.702042\n",
      "Epoch: 2/3... Step: 50500... Loss: 0.696989... Val Loss: 0.701041\n",
      "Epoch: 2/3... Step: 51000... Loss: 0.711567... Val Loss: 0.684753\n",
      "Epoch: 3/3... Step: 51500... Loss: 0.679625... Val Loss: 0.684568\n",
      "Epoch: 3/3... Step: 52000... Loss: 0.692980... Val Loss: 0.721879\n",
      "Epoch: 3/3... Step: 52500... Loss: 0.721198... Val Loss: 0.684624\n",
      "Epoch: 3/3... Step: 53000... Loss: 0.654839... Val Loss: 0.684616\n",
      "Epoch: 3/3... Step: 53500... Loss: 0.691940... Val Loss: 0.711979\n",
      "Epoch: 3/3... Step: 54000... Loss: 0.662269... Val Loss: 0.688367\n",
      "Epoch: 3/3... Step: 54500... Loss: 0.679168... Val Loss: 0.681575\n",
      "Epoch: 3/3... Step: 55000... Loss: 0.702468... Val Loss: 0.687034\n",
      "Epoch: 3/3... Step: 55500... Loss: 0.682428... Val Loss: 0.686522\n",
      "Epoch: 3/3... Step: 56000... Loss: 0.657636... Val Loss: 0.711051\n",
      "Epoch: 3/3... Step: 56500... Loss: 0.688919... Val Loss: 0.679806\n",
      "Validation loss decreased (0.681150 --> 0.679806).  Saving model ...\n",
      "Epoch: 3/3... Step: 57000... Loss: 0.643008... Val Loss: 0.676809\n",
      "Validation loss decreased (0.679806 --> 0.676809).  Saving model ...\n",
      "Epoch: 3/3... Step: 57500... Loss: 0.685473... Val Loss: 0.675817\n",
      "Validation loss decreased (0.676809 --> 0.675817).  Saving model ...\n",
      "Epoch: 3/3... Step: 58000... Loss: 0.637665... Val Loss: 0.676703\n",
      "Epoch: 3/3... Step: 58500... Loss: 0.765811... Val Loss: 0.689637\n",
      "Epoch: 3/3... Step: 59000... Loss: 0.670267... Val Loss: 0.679912\n",
      "Epoch: 3/3... Step: 59500... Loss: 0.636562... Val Loss: 0.685183\n",
      "Epoch: 3/3... Step: 60000... Loss: 0.704876... Val Loss: 0.679269\n",
      "Epoch: 3/3... Step: 60500... Loss: 0.669199... Val Loss: 0.677444\n",
      "Epoch: 3/3... Step: 61000... Loss: 0.658683... Val Loss: 0.681661\n",
      "Epoch: 3/3... Step: 61500... Loss: 0.680197... Val Loss: 0.684726\n",
      "Epoch: 3/3... Step: 62000... Loss: 0.706469... Val Loss: 0.676314\n",
      "Epoch: 3/3... Step: 62500... Loss: 0.635985... Val Loss: 0.677897\n",
      "Epoch: 3/3... Step: 63000... Loss: 0.663351... Val Loss: 0.669866\n",
      "Validation loss decreased (0.675817 --> 0.669866).  Saving model ...\n",
      "Epoch: 3/3... Step: 63500... Loss: 0.688619... Val Loss: 0.687398\n",
      "Epoch: 3/3... Step: 64000... Loss: 0.664031... Val Loss: 0.666352\n",
      "Validation loss decreased (0.669866 --> 0.666352).  Saving model ...\n",
      "Epoch: 3/3... Step: 64500... Loss: 0.629912... Val Loss: 0.665454\n",
      "Validation loss decreased (0.666352 --> 0.665454).  Saving model ...\n",
      "Epoch: 3/3... Step: 65000... Loss: 0.694041... Val Loss: 0.662844\n",
      "Validation loss decreased (0.665454 --> 0.662844).  Saving model ...\n",
      "Epoch: 3/3... Step: 65500... Loss: 0.682880... Val Loss: 0.661187\n",
      "Validation loss decreased (0.662844 --> 0.661187).  Saving model ...\n",
      "Epoch: 3/3... Step: 66000... Loss: 0.661371... Val Loss: 0.665959\n",
      "Epoch: 3/3... Step: 66500... Loss: 0.627532... Val Loss: 0.674348\n",
      "Epoch: 3/3... Step: 67000... Loss: 0.718207... Val Loss: 0.663877\n",
      "Epoch: 3/3... Step: 67500... Loss: 0.622236... Val Loss: 0.673646\n",
      "Epoch: 3/3... Step: 68000... Loss: 0.727252... Val Loss: 0.665346\n",
      "Epoch: 3/3... Step: 68500... Loss: 0.658168... Val Loss: 0.670860\n",
      "Epoch: 3/3... Step: 69000... Loss: 0.617999... Val Loss: 0.671376\n",
      "Epoch: 3/3... Step: 69500... Loss: 0.715440... Val Loss: 0.666198\n",
      "Epoch: 3/3... Step: 70000... Loss: 0.648722... Val Loss: 0.672856\n",
      "Epoch: 3/3... Step: 70500... Loss: 0.684419... Val Loss: 0.675659\n",
      "Epoch: 3/3... Step: 71000... Loss: 0.669059... Val Loss: 0.668365\n",
      "Epoch: 3/3... Step: 71500... Loss: 0.623305... Val Loss: 0.666072\n",
      "Epoch: 3/3... Step: 72000... Loss: 0.666686... Val Loss: 0.712584\n",
      "Epoch: 3/3... Step: 72500... Loss: 0.664455... Val Loss: 0.672451\n",
      "Epoch: 3/3... Step: 73000... Loss: 0.652356... Val Loss: 0.664382\n",
      "Epoch: 3/3... Step: 73500... Loss: 0.659809... Val Loss: 0.661030\n",
      "Validation loss decreased (0.661187 --> 0.661030).  Saving model ...\n",
      "Epoch: 3/3... Step: 74000... Loss: 0.729116... Val Loss: 0.663921\n",
      "Epoch: 3/3... Step: 74500... Loss: 0.618509... Val Loss: 0.695709\n",
      "Epoch: 3/3... Step: 75000... Loss: 0.590759... Val Loss: 0.661096\n",
      "Epoch: 3/3... Step: 75500... Loss: 0.667798... Val Loss: 0.677070\n",
      "Epoch: 3/3... Step: 76000... Loss: 0.646026... Val Loss: 0.664209\n",
      "Epoch: 3/3... Step: 76500... Loss: 0.771661... Val Loss: 0.660266\n",
      "Validation loss decreased (0.661030 --> 0.660266).  Saving model ...\n"
     ]
    }
   ],
   "source": [
    "epochs = 3\n",
    "counter = 0\n",
    "print_every = 500\n",
    "clip = 5\n",
    "valid_loss_min = np.Inf\n",
    "\n",
    "model.train()\n",
    "for i in range(epochs):\n",
    "    \n",
    "    for inputs, labels in train_loader:\n",
    "        counter += 1\n",
    "        inputs, labels = inputs.to(device), labels.to(device)\n",
    "        model.zero_grad()\n",
    "        output = model(inputs.long())\n",
    "        \n",
    "        loss = criterion(output, labels.float())\n",
    "        \n",
    "        \n",
    "        loss.backward()\n",
    "        #nn.utils.clip_grad_norm_(model.parameters(), clip)\n",
    "        optimizer.step()\n",
    "        \n",
    "        if counter%print_every == 0:\n",
    "            val_losses = []\n",
    "            model.eval()\n",
    "            for inp, lab in test_loader:\n",
    "                inp, lab = inp.to(device), lab.to(device)\n",
    "                out = model(inp.long())\n",
    "                val_loss = criterion(out, lab.float())\n",
    "                val_losses.append(val_loss.item())\n",
    "                \n",
    "            model.train()\n",
    "            print(\"Epoch: {}/{}...\".format(i+1, epochs),\n",
    "                  \"Step: {}...\".format(counter),\n",
    "                  \"Loss: {:.6f}...\".format(loss.item()),\n",
    "                  \"Val Loss: {:.6f}\".format(np.mean(val_losses)))\n",
    "            if np.mean(val_losses) <= valid_loss_min:\n",
    "                torch.save(model.state_dict(), './state_dict.pt')\n",
    "                print('Validation loss decreased ({:.6f} --> {:.6f}).  Saving model ...'.format(valid_loss_min,np.mean(val_losses)))\n",
    "                valid_loss_min = np.mean(val_losses)"
   ]
  },
  {
   "cell_type": "code",
   "execution_count": 22,
   "id": "c12d40d7",
   "metadata": {
    "execution": {
     "iopub.execute_input": "2021-12-09T10:31:15.046515Z",
     "iopub.status.busy": "2021-12-09T10:31:15.045366Z",
     "iopub.status.idle": "2021-12-09T10:31:15.082779Z",
     "shell.execute_reply": "2021-12-09T10:31:15.081749Z"
    },
    "papermill": {
     "duration": 0.131301,
     "end_time": "2021-12-09T10:31:15.082986",
     "exception": false,
     "start_time": "2021-12-09T10:31:14.951685",
     "status": "completed"
    },
    "tags": []
   },
   "outputs": [
    {
     "data": {
      "text/plain": [
       "tensor([[0.6064]], device='cuda:0', grad_fn=<SigmoidBackward>)"
      ]
     },
     "execution_count": 22,
     "metadata": {},
     "output_type": "execute_result"
    }
   ],
   "source": [
    "sentence = \"I love you\"\n",
    "trial = torch.tensor(pad_sequences(tokenizer.texts_to_sequences([sentence]), maxlen = MAX_SEQUENCE_LENGTH)).long().to(device)\n",
    "\n",
    "model(trial)"
   ]
  },
  {
   "cell_type": "code",
   "execution_count": 23,
   "id": "ebd71731",
   "metadata": {
    "execution": {
     "iopub.execute_input": "2021-12-09T10:31:15.276183Z",
     "iopub.status.busy": "2021-12-09T10:31:15.275156Z",
     "iopub.status.idle": "2021-12-09T10:31:16.490262Z",
     "shell.execute_reply": "2021-12-09T10:31:16.489609Z"
    },
    "papermill": {
     "duration": 1.318215,
     "end_time": "2021-12-09T10:31:16.490433",
     "exception": false,
     "start_time": "2021-12-09T10:31:15.172218",
     "status": "completed"
    },
    "tags": []
   },
   "outputs": [
    {
     "name": "stderr",
     "output_type": "stream",
     "text": [
      "/opt/conda/lib/python3.7/site-packages/ipykernel_launcher.py:16: TracerWarning: Converting a tensor to a Python index might cause the trace to be incorrect. We can't record the data flow of Python values, so this value will be treated as a constant in the future. This means that the trace might not generalize to other inputs!\n",
      "  app.launch_new_instance()\n"
     ]
    }
   ],
   "source": [
    "import torch.onnx\n",
    "torch.onnx.export(model,               # model being run\n",
    "                  trial,                  # model input (or a tuple for multiple inputs)\n",
    "                  \"transformer-imdb.onnx\", opset_version = 11)"
   ]
  }
 ],
 "metadata": {
  "kernelspec": {
   "display_name": "Python 3",
   "language": "python",
   "name": "python3"
  },
  "language_info": {
   "codemirror_mode": {
    "name": "ipython",
    "version": 3
   },
   "file_extension": ".py",
   "mimetype": "text/x-python",
   "name": "python",
   "nbconvert_exporter": "python",
   "pygments_lexer": "ipython3",
   "version": "3.7.10"
  },
  "papermill": {
   "default_parameters": {},
   "duration": 3823.025704,
   "end_time": "2021-12-09T10:31:19.539229",
   "environment_variables": {},
   "exception": null,
   "input_path": "__notebook__.ipynb",
   "output_path": "__notebook__.ipynb",
   "parameters": {},
   "start_time": "2021-12-09T09:27:36.513525",
   "version": "2.3.3"
  }
 },
 "nbformat": 4,
 "nbformat_minor": 5
}
