{
 "cells": [
  {
   "cell_type": "code",
   "execution_count": 1,
   "id": "c93b7dc8",
   "metadata": {
    "_cell_guid": "79c7e3d0-c299-4dcb-8224-4455121ee9b0",
    "_uuid": "d629ff2d2480ee46fbb7e2d37f6b5fab8052498a",
    "execution": {
     "iopub.execute_input": "2021-12-09T08:22:59.691632Z",
     "iopub.status.busy": "2021-12-09T08:22:59.690942Z",
     "iopub.status.idle": "2021-12-09T08:23:06.904475Z",
     "shell.execute_reply": "2021-12-09T08:23:06.903714Z",
     "shell.execute_reply.started": "2021-12-08T21:20:29.493378Z"
    },
    "papermill": {
     "duration": 7.249974,
     "end_time": "2021-12-09T08:23:06.904634",
     "exception": false,
     "start_time": "2021-12-09T08:22:59.654660",
     "status": "completed"
    },
    "tags": []
   },
   "outputs": [
    {
     "name": "stdout",
     "output_type": "stream",
     "text": [
      "[nltk_data] Downloading package stopwords to /usr/share/nltk_data...\n",
      "[nltk_data]   Unzipping corpora/stopwords.zip.\n"
     ]
    }
   ],
   "source": [
    "import numpy as np\n",
    "import pandas as pd\n",
    "from torch import nn\n",
    "\n",
    "import matplotlib.pyplot as plt\n",
    "import seaborn as sns\n",
    "\n",
    "import torch.nn.functional as F\n",
    "\n",
    "import re\n",
    "import string\n",
    "from collections import Counter\n",
    "from nltk.corpus import stopwords\n",
    "stop_words = set(stopwords.words('english'))\n",
    "\n",
    "from sklearn.model_selection import train_test_split\n",
    "\n",
    "import torch\n",
    "from torch.utils.data import DataLoader, TensorDataset\n",
    "import torch.nn as nn\n",
    "\n",
    "import pandas as pd\n",
    "import numpy as np\n",
    "import bz2\n",
    "import matplotlib.pyplot as plt\n",
    "import sklearn\n",
    "import tensorflow as tf\n",
    "from tensorflow.keras import models, layers, optimizers\n",
    "from tensorflow.keras.preprocessing.text import Tokenizer, text_to_word_sequence\n",
    "from tensorflow.keras.preprocessing.sequence import pad_sequences\n",
    "from sklearn.preprocessing import LabelEncoder\n",
    "\n",
    "%matplotlib inline\n",
    "\n",
    "import nltk \n",
    "nltk.download('stopwords')\n",
    "from nltk.corpus import stopwords\n",
    "from nltk.stem import SnowballStemmer"
   ]
  },
  {
   "cell_type": "code",
   "execution_count": 2,
   "id": "9be28649",
   "metadata": {
    "execution": {
     "iopub.execute_input": "2021-12-09T08:23:06.943081Z",
     "iopub.status.busy": "2021-12-09T08:23:06.942576Z",
     "iopub.status.idle": "2021-12-09T08:23:06.946474Z",
     "shell.execute_reply": "2021-12-09T08:23:06.945985Z",
     "shell.execute_reply.started": "2021-12-08T21:20:36.834834Z"
    },
    "papermill": {
     "duration": 0.024156,
     "end_time": "2021-12-09T08:23:06.946593",
     "exception": false,
     "start_time": "2021-12-09T08:23:06.922437",
     "status": "completed"
    },
    "tags": []
   },
   "outputs": [],
   "source": [
    "device = \"cuda:0\""
   ]
  },
  {
   "cell_type": "code",
   "execution_count": 3,
   "id": "ac6c6509",
   "metadata": {
    "execution": {
     "iopub.execute_input": "2021-12-09T08:23:06.983939Z",
     "iopub.status.busy": "2021-12-09T08:23:06.983451Z",
     "iopub.status.idle": "2021-12-09T08:23:12.382073Z",
     "shell.execute_reply": "2021-12-09T08:23:12.382532Z",
     "shell.execute_reply.started": "2021-12-08T21:20:36.84162Z"
    },
    "papermill": {
     "duration": 5.419517,
     "end_time": "2021-12-09T08:23:12.382684",
     "exception": false,
     "start_time": "2021-12-09T08:23:06.963167",
     "status": "completed"
    },
    "tags": []
   },
   "outputs": [
    {
     "data": {
      "text/html": [
       "<div>\n",
       "<style scoped>\n",
       "    .dataframe tbody tr th:only-of-type {\n",
       "        vertical-align: middle;\n",
       "    }\n",
       "\n",
       "    .dataframe tbody tr th {\n",
       "        vertical-align: top;\n",
       "    }\n",
       "\n",
       "    .dataframe thead th {\n",
       "        text-align: right;\n",
       "    }\n",
       "</style>\n",
       "<table border=\"1\" class=\"dataframe\">\n",
       "  <thead>\n",
       "    <tr style=\"text-align: right;\">\n",
       "      <th></th>\n",
       "      <th>0</th>\n",
       "      <th>1</th>\n",
       "      <th>2</th>\n",
       "      <th>3</th>\n",
       "      <th>4</th>\n",
       "      <th>5</th>\n",
       "    </tr>\n",
       "  </thead>\n",
       "  <tbody>\n",
       "    <tr>\n",
       "      <th>0</th>\n",
       "      <td>0</td>\n",
       "      <td>1467810369</td>\n",
       "      <td>Mon Apr 06 22:19:45 PDT 2009</td>\n",
       "      <td>NO_QUERY</td>\n",
       "      <td>_TheSpecialOne_</td>\n",
       "      <td>@switchfoot http://twitpic.com/2y1zl - Awww, t...</td>\n",
       "    </tr>\n",
       "    <tr>\n",
       "      <th>1</th>\n",
       "      <td>0</td>\n",
       "      <td>1467810672</td>\n",
       "      <td>Mon Apr 06 22:19:49 PDT 2009</td>\n",
       "      <td>NO_QUERY</td>\n",
       "      <td>scotthamilton</td>\n",
       "      <td>is upset that he can't update his Facebook by ...</td>\n",
       "    </tr>\n",
       "    <tr>\n",
       "      <th>2</th>\n",
       "      <td>0</td>\n",
       "      <td>1467810917</td>\n",
       "      <td>Mon Apr 06 22:19:53 PDT 2009</td>\n",
       "      <td>NO_QUERY</td>\n",
       "      <td>mattycus</td>\n",
       "      <td>@Kenichan I dived many times for the ball. Man...</td>\n",
       "    </tr>\n",
       "    <tr>\n",
       "      <th>3</th>\n",
       "      <td>0</td>\n",
       "      <td>1467811184</td>\n",
       "      <td>Mon Apr 06 22:19:57 PDT 2009</td>\n",
       "      <td>NO_QUERY</td>\n",
       "      <td>ElleCTF</td>\n",
       "      <td>my whole body feels itchy and like its on fire</td>\n",
       "    </tr>\n",
       "    <tr>\n",
       "      <th>4</th>\n",
       "      <td>0</td>\n",
       "      <td>1467811193</td>\n",
       "      <td>Mon Apr 06 22:19:57 PDT 2009</td>\n",
       "      <td>NO_QUERY</td>\n",
       "      <td>Karoli</td>\n",
       "      <td>@nationwideclass no, it's not behaving at all....</td>\n",
       "    </tr>\n",
       "  </tbody>\n",
       "</table>\n",
       "</div>"
      ],
      "text/plain": [
       "   0           1                             2         3                4  \\\n",
       "0  0  1467810369  Mon Apr 06 22:19:45 PDT 2009  NO_QUERY  _TheSpecialOne_   \n",
       "1  0  1467810672  Mon Apr 06 22:19:49 PDT 2009  NO_QUERY    scotthamilton   \n",
       "2  0  1467810917  Mon Apr 06 22:19:53 PDT 2009  NO_QUERY         mattycus   \n",
       "3  0  1467811184  Mon Apr 06 22:19:57 PDT 2009  NO_QUERY          ElleCTF   \n",
       "4  0  1467811193  Mon Apr 06 22:19:57 PDT 2009  NO_QUERY           Karoli   \n",
       "\n",
       "                                                   5  \n",
       "0  @switchfoot http://twitpic.com/2y1zl - Awww, t...  \n",
       "1  is upset that he can't update his Facebook by ...  \n",
       "2  @Kenichan I dived many times for the ball. Man...  \n",
       "3    my whole body feels itchy and like its on fire   \n",
       "4  @nationwideclass no, it's not behaving at all....  "
      ]
     },
     "execution_count": 3,
     "metadata": {},
     "output_type": "execute_result"
    }
   ],
   "source": [
    "df = pd.read_csv('../input/sentiment140/training.1600000.processed.noemoticon.csv',\n",
    "                 encoding = 'latin',header=None)\n",
    "df.head()"
   ]
  },
  {
   "cell_type": "code",
   "execution_count": 4,
   "id": "655986ed",
   "metadata": {
    "execution": {
     "iopub.execute_input": "2021-12-09T08:23:12.429084Z",
     "iopub.status.busy": "2021-12-09T08:23:12.428598Z",
     "iopub.status.idle": "2021-12-09T08:23:12.434443Z",
     "shell.execute_reply": "2021-12-09T08:23:12.434011Z",
     "shell.execute_reply.started": "2021-12-08T21:20:42.779936Z"
    },
    "papermill": {
     "duration": 0.034265,
     "end_time": "2021-12-09T08:23:12.434565",
     "exception": false,
     "start_time": "2021-12-09T08:23:12.400300",
     "status": "completed"
    },
    "tags": []
   },
   "outputs": [
    {
     "data": {
      "text/html": [
       "<div>\n",
       "<style scoped>\n",
       "    .dataframe tbody tr th:only-of-type {\n",
       "        vertical-align: middle;\n",
       "    }\n",
       "\n",
       "    .dataframe tbody tr th {\n",
       "        vertical-align: top;\n",
       "    }\n",
       "\n",
       "    .dataframe thead th {\n",
       "        text-align: right;\n",
       "    }\n",
       "</style>\n",
       "<table border=\"1\" class=\"dataframe\">\n",
       "  <thead>\n",
       "    <tr style=\"text-align: right;\">\n",
       "      <th></th>\n",
       "      <th>sentiment</th>\n",
       "      <th>id</th>\n",
       "      <th>date</th>\n",
       "      <th>query</th>\n",
       "      <th>user_id</th>\n",
       "      <th>text</th>\n",
       "    </tr>\n",
       "  </thead>\n",
       "  <tbody>\n",
       "    <tr>\n",
       "      <th>0</th>\n",
       "      <td>0</td>\n",
       "      <td>1467810369</td>\n",
       "      <td>Mon Apr 06 22:19:45 PDT 2009</td>\n",
       "      <td>NO_QUERY</td>\n",
       "      <td>_TheSpecialOne_</td>\n",
       "      <td>@switchfoot http://twitpic.com/2y1zl - Awww, t...</td>\n",
       "    </tr>\n",
       "    <tr>\n",
       "      <th>1</th>\n",
       "      <td>0</td>\n",
       "      <td>1467810672</td>\n",
       "      <td>Mon Apr 06 22:19:49 PDT 2009</td>\n",
       "      <td>NO_QUERY</td>\n",
       "      <td>scotthamilton</td>\n",
       "      <td>is upset that he can't update his Facebook by ...</td>\n",
       "    </tr>\n",
       "    <tr>\n",
       "      <th>2</th>\n",
       "      <td>0</td>\n",
       "      <td>1467810917</td>\n",
       "      <td>Mon Apr 06 22:19:53 PDT 2009</td>\n",
       "      <td>NO_QUERY</td>\n",
       "      <td>mattycus</td>\n",
       "      <td>@Kenichan I dived many times for the ball. Man...</td>\n",
       "    </tr>\n",
       "    <tr>\n",
       "      <th>3</th>\n",
       "      <td>0</td>\n",
       "      <td>1467811184</td>\n",
       "      <td>Mon Apr 06 22:19:57 PDT 2009</td>\n",
       "      <td>NO_QUERY</td>\n",
       "      <td>ElleCTF</td>\n",
       "      <td>my whole body feels itchy and like its on fire</td>\n",
       "    </tr>\n",
       "    <tr>\n",
       "      <th>4</th>\n",
       "      <td>0</td>\n",
       "      <td>1467811193</td>\n",
       "      <td>Mon Apr 06 22:19:57 PDT 2009</td>\n",
       "      <td>NO_QUERY</td>\n",
       "      <td>Karoli</td>\n",
       "      <td>@nationwideclass no, it's not behaving at all....</td>\n",
       "    </tr>\n",
       "  </tbody>\n",
       "</table>\n",
       "</div>"
      ],
      "text/plain": [
       "   sentiment          id                          date     query  \\\n",
       "0          0  1467810369  Mon Apr 06 22:19:45 PDT 2009  NO_QUERY   \n",
       "1          0  1467810672  Mon Apr 06 22:19:49 PDT 2009  NO_QUERY   \n",
       "2          0  1467810917  Mon Apr 06 22:19:53 PDT 2009  NO_QUERY   \n",
       "3          0  1467811184  Mon Apr 06 22:19:57 PDT 2009  NO_QUERY   \n",
       "4          0  1467811193  Mon Apr 06 22:19:57 PDT 2009  NO_QUERY   \n",
       "\n",
       "           user_id                                               text  \n",
       "0  _TheSpecialOne_  @switchfoot http://twitpic.com/2y1zl - Awww, t...  \n",
       "1    scotthamilton  is upset that he can't update his Facebook by ...  \n",
       "2         mattycus  @Kenichan I dived many times for the ball. Man...  \n",
       "3          ElleCTF    my whole body feels itchy and like its on fire   \n",
       "4           Karoli  @nationwideclass no, it's not behaving at all....  "
      ]
     },
     "execution_count": 4,
     "metadata": {},
     "output_type": "execute_result"
    }
   ],
   "source": [
    "df.columns = ['sentiment', 'id', 'date', 'query', 'user_id', 'text']\n",
    "df.head()"
   ]
  },
  {
   "cell_type": "code",
   "execution_count": 5,
   "id": "0701aa63",
   "metadata": {
    "execution": {
     "iopub.execute_input": "2021-12-09T08:23:12.505370Z",
     "iopub.status.busy": "2021-12-09T08:23:12.504673Z",
     "iopub.status.idle": "2021-12-09T08:23:12.507501Z",
     "shell.execute_reply": "2021-12-09T08:23:12.507053Z",
     "shell.execute_reply.started": "2021-12-08T21:20:42.797882Z"
    },
    "papermill": {
     "duration": 0.055246,
     "end_time": "2021-12-09T08:23:12.507614",
     "exception": false,
     "start_time": "2021-12-09T08:23:12.452368",
     "status": "completed"
    },
    "tags": []
   },
   "outputs": [],
   "source": [
    "df = df.drop(['id', 'date', 'query', 'user_id'], axis=1)"
   ]
  },
  {
   "cell_type": "code",
   "execution_count": 6,
   "id": "b9e716c1",
   "metadata": {
    "execution": {
     "iopub.execute_input": "2021-12-09T08:23:12.580717Z",
     "iopub.status.busy": "2021-12-09T08:23:12.579919Z",
     "iopub.status.idle": "2021-12-09T08:23:13.298223Z",
     "shell.execute_reply": "2021-12-09T08:23:13.299295Z",
     "shell.execute_reply.started": "2021-12-08T21:20:42.837857Z"
    },
    "papermill": {
     "duration": 0.774243,
     "end_time": "2021-12-09T08:23:13.299515",
     "exception": false,
     "start_time": "2021-12-09T08:23:12.525272",
     "status": "completed"
    },
    "tags": []
   },
   "outputs": [
    {
     "data": {
      "text/html": [
       "<div>\n",
       "<style scoped>\n",
       "    .dataframe tbody tr th:only-of-type {\n",
       "        vertical-align: middle;\n",
       "    }\n",
       "\n",
       "    .dataframe tbody tr th {\n",
       "        vertical-align: top;\n",
       "    }\n",
       "\n",
       "    .dataframe thead th {\n",
       "        text-align: right;\n",
       "    }\n",
       "</style>\n",
       "<table border=\"1\" class=\"dataframe\">\n",
       "  <thead>\n",
       "    <tr style=\"text-align: right;\">\n",
       "      <th></th>\n",
       "      <th>sentiment</th>\n",
       "      <th>text</th>\n",
       "    </tr>\n",
       "  </thead>\n",
       "  <tbody>\n",
       "    <tr>\n",
       "      <th>0</th>\n",
       "      <td>Negative</td>\n",
       "      <td>@switchfoot http://twitpic.com/2y1zl - Awww, t...</td>\n",
       "    </tr>\n",
       "    <tr>\n",
       "      <th>1</th>\n",
       "      <td>Negative</td>\n",
       "      <td>is upset that he can't update his Facebook by ...</td>\n",
       "    </tr>\n",
       "    <tr>\n",
       "      <th>2</th>\n",
       "      <td>Negative</td>\n",
       "      <td>@Kenichan I dived many times for the ball. Man...</td>\n",
       "    </tr>\n",
       "    <tr>\n",
       "      <th>3</th>\n",
       "      <td>Negative</td>\n",
       "      <td>my whole body feels itchy and like its on fire</td>\n",
       "    </tr>\n",
       "    <tr>\n",
       "      <th>4</th>\n",
       "      <td>Negative</td>\n",
       "      <td>@nationwideclass no, it's not behaving at all....</td>\n",
       "    </tr>\n",
       "  </tbody>\n",
       "</table>\n",
       "</div>"
      ],
      "text/plain": [
       "  sentiment                                               text\n",
       "0  Negative  @switchfoot http://twitpic.com/2y1zl - Awww, t...\n",
       "1  Negative  is upset that he can't update his Facebook by ...\n",
       "2  Negative  @Kenichan I dived many times for the ball. Man...\n",
       "3  Negative    my whole body feels itchy and like its on fire \n",
       "4  Negative  @nationwideclass no, it's not behaving at all...."
      ]
     },
     "execution_count": 6,
     "metadata": {},
     "output_type": "execute_result"
    }
   ],
   "source": [
    "lab_to_sentiment = {0:\"Negative\", 4:\"Positive\"}\n",
    "def label_decoder(label):\n",
    "  return lab_to_sentiment[label]\n",
    "df.sentiment = df.sentiment.apply(lambda x: label_decoder(x))\n",
    "df.head()"
   ]
  },
  {
   "cell_type": "code",
   "execution_count": 7,
   "id": "037b488f",
   "metadata": {
    "execution": {
     "iopub.execute_input": "2021-12-09T08:23:13.598241Z",
     "iopub.status.busy": "2021-12-09T08:23:13.597418Z",
     "iopub.status.idle": "2021-12-09T08:23:13.925716Z",
     "shell.execute_reply": "2021-12-09T08:23:13.925260Z",
     "shell.execute_reply.started": "2021-12-08T21:20:43.355646Z"
    },
    "papermill": {
     "duration": 0.596198,
     "end_time": "2021-12-09T08:23:13.925853",
     "exception": false,
     "start_time": "2021-12-09T08:23:13.329655",
     "status": "completed"
    },
    "tags": []
   },
   "outputs": [
    {
     "data": {
      "text/plain": [
       "Text(0.5, 1.0, 'Sentiment Data Distribution')"
      ]
     },
     "execution_count": 7,
     "metadata": {},
     "output_type": "execute_result"
    },
    {
     "data": {
      "image/png": "[encoded data removed]",
      "text/plain": [
       "<Figure size 576x288 with 1 Axes>"
      ]
     },
     "metadata": {
      "needs_background": "light"
     },
     "output_type": "display_data"
    }
   ],
   "source": [
    "val_count = df.sentiment.value_counts()\n",
    "\n",
    "plt.figure(figsize=(8,4))\n",
    "plt.bar(val_count.index, val_count.values)\n",
    "plt.title(\"Sentiment Data Distribution\")"
   ]
  },
  {
   "cell_type": "code",
   "execution_count": 8,
   "id": "c57c15d6",
   "metadata": {
    "execution": {
     "iopub.execute_input": "2021-12-09T08:23:13.969500Z",
     "iopub.status.busy": "2021-12-09T08:23:13.968606Z",
     "iopub.status.idle": "2021-12-09T08:23:14.092617Z",
     "shell.execute_reply": "2021-12-09T08:23:14.093037Z",
     "shell.execute_reply.started": "2021-12-08T21:20:43.800168Z"
    },
    "papermill": {
     "duration": 0.147952,
     "end_time": "2021-12-09T08:23:14.093206",
     "exception": false,
     "start_time": "2021-12-09T08:23:13.945254",
     "status": "completed"
    },
    "tags": []
   },
   "outputs": [
    {
     "data": {
      "text/html": [
       "<div>\n",
       "<style scoped>\n",
       "    .dataframe tbody tr th:only-of-type {\n",
       "        vertical-align: middle;\n",
       "    }\n",
       "\n",
       "    .dataframe tbody tr th {\n",
       "        vertical-align: top;\n",
       "    }\n",
       "\n",
       "    .dataframe thead th {\n",
       "        text-align: right;\n",
       "    }\n",
       "</style>\n",
       "<table border=\"1\" class=\"dataframe\">\n",
       "  <thead>\n",
       "    <tr style=\"text-align: right;\">\n",
       "      <th></th>\n",
       "      <th>sentiment</th>\n",
       "      <th>text</th>\n",
       "    </tr>\n",
       "  </thead>\n",
       "  <tbody>\n",
       "    <tr>\n",
       "      <th>568729</th>\n",
       "      <td>Negative</td>\n",
       "      <td>WOAH, its a fkin tsunami goin on outside.. pro...</td>\n",
       "    </tr>\n",
       "    <tr>\n",
       "      <th>892326</th>\n",
       "      <td>Positive</td>\n",
       "      <td>RYS promo shot is up on flickr</td>\n",
       "    </tr>\n",
       "    <tr>\n",
       "      <th>1460337</th>\n",
       "      <td>Positive</td>\n",
       "      <td>Top race. 48m 30s for 10km   Short game golf p...</td>\n",
       "    </tr>\n",
       "    <tr>\n",
       "      <th>1560138</th>\n",
       "      <td>Positive</td>\n",
       "      <td>Bowling with friends. I'm soso bad at bowling....</td>\n",
       "    </tr>\n",
       "    <tr>\n",
       "      <th>1311508</th>\n",
       "      <td>Positive</td>\n",
       "      <td>Good night lovelies</td>\n",
       "    </tr>\n",
       "    <tr>\n",
       "      <th>149087</th>\n",
       "      <td>Negative</td>\n",
       "      <td>i have to sleep now. gotta get up early tomorr...</td>\n",
       "    </tr>\n",
       "    <tr>\n",
       "      <th>435719</th>\n",
       "      <td>Negative</td>\n",
       "      <td>Hi ho, hi ho, it's off to work I go</td>\n",
       "    </tr>\n",
       "    <tr>\n",
       "      <th>1033958</th>\n",
       "      <td>Positive</td>\n",
       "      <td>@GeorgeGSmithJr well all the husbands in the m...</td>\n",
       "    </tr>\n",
       "    <tr>\n",
       "      <th>664689</th>\n",
       "      <td>Negative</td>\n",
       "      <td>@aimeeEffii awh thats not very fair. I know wh...</td>\n",
       "    </tr>\n",
       "    <tr>\n",
       "      <th>422148</th>\n",
       "      <td>Negative</td>\n",
       "      <td>Time to get lost in a movie or video game, buz...</td>\n",
       "    </tr>\n",
       "  </tbody>\n",
       "</table>\n",
       "</div>"
      ],
      "text/plain": [
       "        sentiment                                               text\n",
       "568729   Negative  WOAH, its a fkin tsunami goin on outside.. pro...\n",
       "892326   Positive                    RYS promo shot is up on flickr \n",
       "1460337  Positive  Top race. 48m 30s for 10km   Short game golf p...\n",
       "1560138  Positive  Bowling with friends. I'm soso bad at bowling....\n",
       "1311508  Positive                               Good night lovelies \n",
       "149087   Negative  i have to sleep now. gotta get up early tomorr...\n",
       "435719   Negative               Hi ho, hi ho, it's off to work I go \n",
       "1033958  Positive  @GeorgeGSmithJr well all the husbands in the m...\n",
       "664689   Negative  @aimeeEffii awh thats not very fair. I know wh...\n",
       "422148   Negative  Time to get lost in a movie or video game, buz..."
      ]
     },
     "execution_count": 8,
     "metadata": {},
     "output_type": "execute_result"
    }
   ],
   "source": [
    "import random\n",
    "random_idx_list = [random.randint(1,len(df.text)) for i in range(10)] # creates random indexes to choose from dataframe\n",
    "df.loc[random_idx_list,:].head(10) # Returns the rows with the index and display it"
   ]
  },
  {
   "cell_type": "code",
   "execution_count": 9,
   "id": "a7d784b8",
   "metadata": {
    "execution": {
     "iopub.execute_input": "2021-12-09T08:23:14.135212Z",
     "iopub.status.busy": "2021-12-09T08:23:14.134658Z",
     "iopub.status.idle": "2021-12-09T08:23:14.139469Z",
     "shell.execute_reply": "2021-12-09T08:23:14.138805Z",
     "shell.execute_reply.started": "2021-12-08T21:20:43.933435Z"
    },
    "papermill": {
     "duration": 0.027027,
     "end_time": "2021-12-09T08:23:14.139580",
     "exception": false,
     "start_time": "2021-12-09T08:23:14.112553",
     "status": "completed"
    },
    "tags": []
   },
   "outputs": [],
   "source": [
    "stop_words = stopwords.words('english')\n",
    "stemmer = SnowballStemmer('english')\n",
    "\n",
    "text_cleaning_re = \"@\\S+|https?:\\S+|http?:\\S|[^A-Za-z0-9]+\""
   ]
  },
  {
   "cell_type": "code",
   "execution_count": 10,
   "id": "d58ba18b",
   "metadata": {
    "execution": {
     "iopub.execute_input": "2021-12-09T08:23:14.184662Z",
     "iopub.status.busy": "2021-12-09T08:23:14.183994Z",
     "iopub.status.idle": "2021-12-09T08:23:14.187443Z",
     "shell.execute_reply": "2021-12-09T08:23:14.186977Z",
     "shell.execute_reply.started": "2021-12-08T21:20:43.94009Z"
    },
    "papermill": {
     "duration": 0.027291,
     "end_time": "2021-12-09T08:23:14.187548",
     "exception": false,
     "start_time": "2021-12-09T08:23:14.160257",
     "status": "completed"
    },
    "tags": []
   },
   "outputs": [],
   "source": [
    "def preprocess(text, stem=False):\n",
    "  text = re.sub(text_cleaning_re, ' ', str(text).lower()).strip()\n",
    "  tokens = []\n",
    "  for token in text.split():\n",
    "    if token not in stop_words:\n",
    "      if stem:\n",
    "        tokens.append(stemmer.stem(token))\n",
    "      else:\n",
    "        tokens.append(token)\n",
    "  return \" \".join(tokens)"
   ]
  },
  {
   "cell_type": "code",
   "execution_count": 11,
   "id": "1f95e4ab",
   "metadata": {
    "execution": {
     "iopub.execute_input": "2021-12-09T08:23:14.230993Z",
     "iopub.status.busy": "2021-12-09T08:23:14.230157Z",
     "iopub.status.idle": "2021-12-09T08:24:12.732450Z",
     "shell.execute_reply": "2021-12-09T08:24:12.731532Z",
     "shell.execute_reply.started": "2021-12-08T21:20:43.950341Z"
    },
    "papermill": {
     "duration": 58.525913,
     "end_time": "2021-12-09T08:24:12.732602",
     "exception": false,
     "start_time": "2021-12-09T08:23:14.206689",
     "status": "completed"
    },
    "tags": []
   },
   "outputs": [],
   "source": [
    "df.text = df.text.apply(lambda x: preprocess(x))"
   ]
  },
  {
   "cell_type": "markdown",
   "id": "f7b366b6",
   "metadata": {
    "papermill": {
     "duration": 0.019789,
     "end_time": "2021-12-09T08:24:12.773094",
     "exception": false,
     "start_time": "2021-12-09T08:24:12.753305",
     "status": "completed"
    },
    "tags": []
   },
   "source": [
    "## Train and Test Split"
   ]
  },
  {
   "cell_type": "code",
   "execution_count": 12,
   "id": "0e84e4c1",
   "metadata": {
    "execution": {
     "iopub.execute_input": "2021-12-09T08:24:12.816797Z",
     "iopub.status.busy": "2021-12-09T08:24:12.815872Z",
     "iopub.status.idle": "2021-12-09T08:24:12.818523Z",
     "shell.execute_reply": "2021-12-09T08:24:12.818073Z",
     "shell.execute_reply.started": "2021-12-08T21:21:43.004301Z"
    },
    "papermill": {
     "duration": 0.026102,
     "end_time": "2021-12-09T08:24:12.818638",
     "exception": false,
     "start_time": "2021-12-09T08:24:12.792536",
     "status": "completed"
    },
    "tags": []
   },
   "outputs": [],
   "source": [
    "TRAIN_SIZE = 0.8 \n",
    "MAX_NB_WORDS = 100000\n",
    "MAX_SEQUENCE_LENGTH = 30\n",
    "EMBEDDING_DIM = 10\n",
    "LR = 1e-3\n",
    "BATCH_SIZE = 50\n",
    "EPOCHS = 10"
   ]
  },
  {
   "cell_type": "code",
   "execution_count": 13,
   "id": "57f8df73",
   "metadata": {
    "execution": {
     "iopub.execute_input": "2021-12-09T08:24:12.863243Z",
     "iopub.status.busy": "2021-12-09T08:24:12.862382Z",
     "iopub.status.idle": "2021-12-09T08:24:13.290900Z",
     "shell.execute_reply": "2021-12-09T08:24:13.290103Z",
     "shell.execute_reply.started": "2021-12-08T21:21:43.010795Z"
    },
    "papermill": {
     "duration": 0.452658,
     "end_time": "2021-12-09T08:24:13.291029",
     "exception": false,
     "start_time": "2021-12-09T08:24:12.838371",
     "status": "completed"
    },
    "tags": []
   },
   "outputs": [
    {
     "name": "stdout",
     "output_type": "stream",
     "text": [
      "Train Data size: 1280000\n",
      "Test Data size 320000\n"
     ]
    }
   ],
   "source": [
    "train_data, test_data = train_test_split(df, test_size=1-TRAIN_SIZE,\n",
    "                                         random_state=7) # Splits Dataset into Training and Testing set\n",
    "print(\"Train Data size:\", len(train_data))\n",
    "print(\"Test Data size\", len(test_data))"
   ]
  },
  {
   "cell_type": "code",
   "execution_count": 14,
   "id": "fd6d49e9",
   "metadata": {
    "execution": {
     "iopub.execute_input": "2021-12-09T08:24:13.336993Z",
     "iopub.status.busy": "2021-12-09T08:24:13.336353Z",
     "iopub.status.idle": "2021-12-09T08:24:31.529464Z",
     "shell.execute_reply": "2021-12-09T08:24:31.532041Z",
     "shell.execute_reply.started": "2021-12-08T21:21:43.451906Z"
    },
    "papermill": {
     "duration": 18.221281,
     "end_time": "2021-12-09T08:24:31.532365",
     "exception": false,
     "start_time": "2021-12-09T08:24:13.311084",
     "status": "completed"
    },
    "tags": []
   },
   "outputs": [
    {
     "name": "stdout",
     "output_type": "stream",
     "text": [
      "Vocabulary Size : 290575\n"
     ]
    }
   ],
   "source": [
    "from keras.preprocessing.text import Tokenizer\n",
    "\n",
    "tokenizer = Tokenizer()\n",
    "tokenizer.fit_on_texts(train_data.text)\n",
    "\n",
    "word_index = tokenizer.word_index\n",
    "vocab_size = len(tokenizer.word_index) + 1\n",
    "print(\"Vocabulary Size :\", vocab_size)"
   ]
  },
  {
   "cell_type": "code",
   "execution_count": 15,
   "id": "63b93f90",
   "metadata": {
    "execution": {
     "iopub.execute_input": "2021-12-09T08:24:31.606322Z",
     "iopub.status.busy": "2021-12-09T08:24:31.605450Z",
     "iopub.status.idle": "2021-12-09T08:25:02.263602Z",
     "shell.execute_reply": "2021-12-09T08:25:02.264255Z",
     "shell.execute_reply.started": "2021-12-08T21:22:01.329561Z"
    },
    "papermill": {
     "duration": 30.698328,
     "end_time": "2021-12-09T08:25:02.264457",
     "exception": false,
     "start_time": "2021-12-09T08:24:31.566129",
     "status": "completed"
    },
    "tags": []
   },
   "outputs": [
    {
     "name": "stdout",
     "output_type": "stream",
     "text": [
      "Training X Shape: (1280000, 30)\n",
      "Testing X Shape: (320000, 30)\n",
      "<class 'numpy.ndarray'>\n",
      "<class 'numpy.ndarray'>\n"
     ]
    }
   ],
   "source": [
    "from keras.preprocessing.sequence import pad_sequences\n",
    "\n",
    "x_train = pad_sequences(tokenizer.texts_to_sequences(train_data.text),\n",
    "                        maxlen = MAX_SEQUENCE_LENGTH)\n",
    "x_test = pad_sequences(tokenizer.texts_to_sequences(test_data.text),\n",
    "                       maxlen = MAX_SEQUENCE_LENGTH)\n",
    "\n",
    "print(\"Training X Shape:\",x_train.shape)\n",
    "print(\"Testing X Shape:\",x_test.shape)\n",
    "\n",
    "print(type(x_train))\n",
    "print(type(x_test))"
   ]
  },
  {
   "cell_type": "code",
   "execution_count": 16,
   "id": "e70e89c6",
   "metadata": {
    "execution": {
     "iopub.execute_input": "2021-12-09T08:25:02.375818Z",
     "iopub.status.busy": "2021-12-09T08:25:02.326943Z",
     "iopub.status.idle": "2021-12-09T08:25:02.396895Z",
     "shell.execute_reply": "2021-12-09T08:25:02.396442Z",
     "shell.execute_reply.started": "2021-12-08T21:22:32.218368Z"
    },
    "papermill": {
     "duration": 0.110816,
     "end_time": "2021-12-09T08:25:02.397005",
     "exception": false,
     "start_time": "2021-12-09T08:25:02.286189",
     "status": "completed"
    },
    "tags": []
   },
   "outputs": [],
   "source": [
    "labels = train_data.sentiment.unique().tolist()"
   ]
  },
  {
   "cell_type": "code",
   "execution_count": 17,
   "id": "1d001581",
   "metadata": {
    "execution": {
     "iopub.execute_input": "2021-12-09T08:25:02.603544Z",
     "iopub.status.busy": "2021-12-09T08:25:02.602590Z",
     "iopub.status.idle": "2021-12-09T08:25:03.598998Z",
     "shell.execute_reply": "2021-12-09T08:25:03.599679Z",
     "shell.execute_reply.started": "2021-12-08T21:22:32.314085Z"
    },
    "papermill": {
     "duration": 1.182404,
     "end_time": "2021-12-09T08:25:03.599879",
     "exception": false,
     "start_time": "2021-12-09T08:25:02.417475",
     "status": "completed"
    },
    "tags": []
   },
   "outputs": [
    {
     "name": "stdout",
     "output_type": "stream",
     "text": [
      "y_train shape: (1280000, 1)\n",
      "y_test shape: (320000, 1)\n"
     ]
    }
   ],
   "source": [
    "encoder = LabelEncoder()\n",
    "encoder.fit(train_data.sentiment.to_list())\n",
    "\n",
    "y_train = encoder.transform(train_data.sentiment.to_list())\n",
    "y_test = encoder.transform(test_data.sentiment.to_list())\n",
    "\n",
    "y_train = y_train.reshape(-1,1)\n",
    "y_test = y_test.reshape(-1,1)\n",
    "\n",
    "train_data = TensorDataset(torch.from_numpy(x_train), torch.from_numpy(y_train))\n",
    "test_data = TensorDataset(torch.from_numpy(x_test), torch.from_numpy(y_test))\n",
    "\n",
    "train_loader = DataLoader(train_data, shuffle=True, batch_size=BATCH_SIZE, drop_last = True)\n",
    "test_loader = DataLoader(test_data, shuffle=True, batch_size=BATCH_SIZE, drop_last = True)\n",
    "\n",
    "print(\"y_train shape:\", y_train.shape)\n",
    "print(\"y_test shape:\", y_test.shape)"
   ]
  },
  {
   "cell_type": "code",
   "execution_count": 18,
   "id": "1d051e6a",
   "metadata": {
    "execution": {
     "iopub.execute_input": "2021-12-09T08:25:03.654155Z",
     "iopub.status.busy": "2021-12-09T08:25:03.653441Z",
     "iopub.status.idle": "2021-12-09T08:25:03.655885Z",
     "shell.execute_reply": "2021-12-09T08:25:03.656275Z",
     "shell.execute_reply.started": "2021-12-08T21:22:33.529097Z"
    },
    "papermill": {
     "duration": 0.035019,
     "end_time": "2021-12-09T08:25:03.656400",
     "exception": false,
     "start_time": "2021-12-09T08:25:03.621381",
     "status": "completed"
    },
    "tags": []
   },
   "outputs": [],
   "source": [
    "class PositionalEncoding(nn.Module):\n",
    "\n",
    "    def __init__(self, d_model, dropout=0.1, max_len=5000):\n",
    "        super(PositionalEncoding, self).__init__()\n",
    "        self.dropout = nn.Dropout(p=dropout)\n",
    "\n",
    "        pe = torch.zeros(max_len, d_model)\n",
    "        position = torch.arange(0, max_len, dtype=torch.float).unsqueeze(1)\n",
    "        div_term = torch.exp(torch.arange(0, d_model, 2).float() * (-math.log(10000.0) / d_model))\n",
    "        pe[:, 0::2] = torch.sin(position * div_term)\n",
    "        pe[:, 1::2] = torch.cos(position * div_term)\n",
    "        pe = pe.unsqueeze(0).transpose(0, 1)\n",
    "        self.register_buffer('pe', pe)\n",
    "\n",
    "    def forward(self, x):\n",
    "        x = x + self.pe[:x.size(0), :]\n",
    "        return self.dropout(x)\n",
    "    \n",
    "class SentimentNet(nn.Module):\n",
    "    def __init__(self, vocab_size, output_size, embedding_dim, hidden_dim, n_layers, drop_prob=0.2):\n",
    "        super(SentimentNet, self).__init__()\n",
    "        self.output_size = output_size\n",
    "        self.n_layers = n_layers\n",
    "        self.hidden_dim = hidden_dim\n",
    "        self.dropout = nn.Dropout(drop_prob)\n",
    "        self.embedding_dim = embedding_dim\n",
    "        self.sigmoid = nn.Sigmoid()\n",
    "        \n",
    "        \n",
    "        self.encoder = nn.Embedding(vocab_size, embedding_dim)\n",
    "        self.pos_encoder = PositionalEncoding(embedding_dim, drop_prob)\n",
    "        encoder_layer = nn.TransformerEncoderLayer(embedding_dim, 2, hidden_dim)\n",
    "        self.transformer_encoder = nn.TransformerEncoder(encoder_layer, num_layers=n_layers)\n",
    "        \n",
    "\n",
    "        self.fc = nn.Linear(embedding_dim * 30 , 1)\n",
    "\n",
    "    \n",
    "    def forward(self, src):\n",
    "        src = self.encoder(src) * math.sqrt(self.embedding_dim)\n",
    "        src = self.pos_encoder(src)\n",
    "        output = self.transformer_encoder(src)\n",
    "        output = output.view(output.size(0), -1)\n",
    "        output = self.sigmoid(self.fc(output))\n",
    "        return output"
   ]
  },
  {
   "cell_type": "code",
   "execution_count": 19,
   "id": "5b99909b",
   "metadata": {
    "execution": {
     "iopub.execute_input": "2021-12-09T08:25:03.701990Z",
     "iopub.status.busy": "2021-12-09T08:25:03.701260Z",
     "iopub.status.idle": "2021-12-09T08:25:03.703873Z",
     "shell.execute_reply": "2021-12-09T08:25:03.703482Z",
     "shell.execute_reply.started": "2021-12-08T21:22:33.544023Z"
    },
    "papermill": {
     "duration": 0.027463,
     "end_time": "2021-12-09T08:25:03.703974",
     "exception": false,
     "start_time": "2021-12-09T08:25:03.676511",
     "status": "completed"
    },
    "tags": []
   },
   "outputs": [],
   "source": [
    "def model_params(model):\n",
    "    pp=0\n",
    "    for p in list(model.parameters()):\n",
    "        nn=1\n",
    "        for s in list(p.size()):\n",
    "            nn = nn*s\n",
    "        pp += nn\n",
    "    return pp"
   ]
  },
  {
   "cell_type": "code",
   "execution_count": 20,
   "id": "052bbe7b",
   "metadata": {
    "execution": {
     "iopub.execute_input": "2021-12-09T08:25:03.752442Z",
     "iopub.status.busy": "2021-12-09T08:25:03.751840Z",
     "iopub.status.idle": "2021-12-09T08:25:09.264934Z",
     "shell.execute_reply": "2021-12-09T08:25:09.264453Z",
     "shell.execute_reply.started": "2021-12-08T21:22:33.557558Z"
    },
    "papermill": {
     "duration": 5.54086,
     "end_time": "2021-12-09T08:25:09.265057",
     "exception": false,
     "start_time": "2021-12-09T08:25:03.724197",
     "status": "completed"
    },
    "tags": []
   },
   "outputs": [
    {
     "name": "stdout",
     "output_type": "stream",
     "text": [
      "2906625\n"
     ]
    }
   ],
   "source": [
    "import math\n",
    "\n",
    "output_size = 1\n",
    "embedding_dim = 10\n",
    "hidden_dim = 4\n",
    "n_layers = 1\n",
    "\n",
    "model = SentimentNet(vocab_size, output_size, embedding_dim, hidden_dim, n_layers)\n",
    "model.to(device)\n",
    "print(model_params(model))\n",
    "lr=0.008\n",
    "criterion = nn.BCELoss()\n",
    "optimizer = torch.optim.Adam(model.parameters(), lr=lr)"
   ]
  },
  {
   "cell_type": "code",
   "execution_count": 21,
   "id": "c617a5df",
   "metadata": {
    "execution": {
     "iopub.execute_input": "2021-12-09T08:25:09.317805Z",
     "iopub.status.busy": "2021-12-09T08:25:09.317176Z",
     "iopub.status.idle": "2021-12-09T09:01:43.558867Z",
     "shell.execute_reply": "2021-12-09T09:01:43.558016Z",
     "shell.execute_reply.started": "2021-12-08T21:22:39.586111Z"
    },
    "papermill": {
     "duration": 2194.27207,
     "end_time": "2021-12-09T09:01:43.559011",
     "exception": false,
     "start_time": "2021-12-09T08:25:09.286941",
     "status": "completed"
    },
    "tags": []
   },
   "outputs": [
    {
     "name": "stdout",
     "output_type": "stream",
     "text": [
      "Epoch: 1/3... Step: 500... Loss: 0.709434... Val Loss: 0.642780\n",
      "Validation loss decreased (inf --> 0.642780).  Saving model ...\n",
      "Epoch: 1/3... Step: 1000... Loss: 0.600263... Val Loss: 0.575888\n",
      "Validation loss decreased (0.642780 --> 0.575888).  Saving model ...\n",
      "Epoch: 1/3... Step: 1500... Loss: 0.580222... Val Loss: 0.544104\n",
      "Validation loss decreased (0.575888 --> 0.544104).  Saving model ...\n",
      "Epoch: 1/3... Step: 2000... Loss: 0.553673... Val Loss: 0.526688\n",
      "Validation loss decreased (0.544104 --> 0.526688).  Saving model ...\n",
      "Epoch: 1/3... Step: 2500... Loss: 0.481615... Val Loss: 0.519427\n",
      "Validation loss decreased (0.526688 --> 0.519427).  Saving model ...\n",
      "Epoch: 1/3... Step: 3000... Loss: 0.399261... Val Loss: 0.512564\n",
      "Validation loss decreased (0.519427 --> 0.512564).  Saving model ...\n",
      "Epoch: 1/3... Step: 3500... Loss: 0.507165... Val Loss: 0.512745\n",
      "Epoch: 1/3... Step: 4000... Loss: 0.524230... Val Loss: 0.511117\n",
      "Validation loss decreased (0.512564 --> 0.511117).  Saving model ...\n",
      "Epoch: 1/3... Step: 4500... Loss: 0.398244... Val Loss: 0.500482\n",
      "Validation loss decreased (0.511117 --> 0.500482).  Saving model ...\n",
      "Epoch: 1/3... Step: 5000... Loss: 0.555676... Val Loss: 0.498092\n",
      "Validation loss decreased (0.500482 --> 0.498092).  Saving model ...\n",
      "Epoch: 1/3... Step: 5500... Loss: 0.611047... Val Loss: 0.497017\n",
      "Validation loss decreased (0.498092 --> 0.497017).  Saving model ...\n",
      "Epoch: 1/3... Step: 6000... Loss: 0.463144... Val Loss: 0.496760\n",
      "Validation loss decreased (0.497017 --> 0.496760).  Saving model ...\n",
      "Epoch: 1/3... Step: 6500... Loss: 0.648208... Val Loss: 0.492626\n",
      "Validation loss decreased (0.496760 --> 0.492626).  Saving model ...\n",
      "Epoch: 1/3... Step: 7000... Loss: 0.618204... Val Loss: 0.494582\n",
      "Epoch: 1/3... Step: 7500... Loss: 0.450699... Val Loss: 0.490849\n",
      "Validation loss decreased (0.492626 --> 0.490849).  Saving model ...\n",
      "Epoch: 1/3... Step: 8000... Loss: 0.630880... Val Loss: 0.490102\n",
      "Validation loss decreased (0.490849 --> 0.490102).  Saving model ...\n",
      "Epoch: 1/3... Step: 8500... Loss: 0.395035... Val Loss: 0.491053\n",
      "Epoch: 1/3... Step: 9000... Loss: 0.454630... Val Loss: 0.491455\n",
      "Epoch: 1/3... Step: 9500... Loss: 0.490780... Val Loss: 0.487880\n",
      "Validation loss decreased (0.490102 --> 0.487880).  Saving model ...\n",
      "Epoch: 1/3... Step: 10000... Loss: 0.546981... Val Loss: 0.491801\n",
      "Epoch: 1/3... Step: 10500... Loss: 0.431510... Val Loss: 0.484936\n",
      "Validation loss decreased (0.487880 --> 0.484936).  Saving model ...\n",
      "Epoch: 1/3... Step: 11000... Loss: 0.558376... Val Loss: 0.486978\n",
      "Epoch: 1/3... Step: 11500... Loss: 0.508231... Val Loss: 0.483982\n",
      "Validation loss decreased (0.484936 --> 0.483982).  Saving model ...\n",
      "Epoch: 1/3... Step: 12000... Loss: 0.648734... Val Loss: 0.492501\n",
      "Epoch: 1/3... Step: 12500... Loss: 0.410617... Val Loss: 0.485755\n",
      "Epoch: 1/3... Step: 13000... Loss: 0.442668... Val Loss: 0.483228\n",
      "Validation loss decreased (0.483982 --> 0.483228).  Saving model ...\n",
      "Epoch: 1/3... Step: 13500... Loss: 0.422493... Val Loss: 0.483962\n",
      "Epoch: 1/3... Step: 14000... Loss: 0.469941... Val Loss: 0.484680\n",
      "Epoch: 1/3... Step: 14500... Loss: 0.539879... Val Loss: 0.482848\n",
      "Validation loss decreased (0.483228 --> 0.482848).  Saving model ...\n",
      "Epoch: 1/3... Step: 15000... Loss: 0.450989... Val Loss: 0.481601\n",
      "Validation loss decreased (0.482848 --> 0.481601).  Saving model ...\n",
      "Epoch: 1/3... Step: 15500... Loss: 0.476781... Val Loss: 0.478758\n",
      "Validation loss decreased (0.481601 --> 0.478758).  Saving model ...\n",
      "Epoch: 1/3... Step: 16000... Loss: 0.607347... Val Loss: 0.481380\n",
      "Epoch: 1/3... Step: 16500... Loss: 0.572186... Val Loss: 0.481084\n",
      "Epoch: 1/3... Step: 17000... Loss: 0.495070... Val Loss: 0.480244\n",
      "Epoch: 1/3... Step: 17500... Loss: 0.503552... Val Loss: 0.487761\n",
      "Epoch: 1/3... Step: 18000... Loss: 0.414114... Val Loss: 0.485548\n",
      "Epoch: 1/3... Step: 18500... Loss: 0.632569... Val Loss: 0.481576\n",
      "Epoch: 1/3... Step: 19000... Loss: 0.585396... Val Loss: 0.483027\n",
      "Epoch: 1/3... Step: 19500... Loss: 0.501529... Val Loss: 0.485891\n",
      "Epoch: 1/3... Step: 20000... Loss: 0.436022... Val Loss: 0.478787\n",
      "Epoch: 1/3... Step: 20500... Loss: 0.373733... Val Loss: 0.478758\n",
      "Epoch: 1/3... Step: 21000... Loss: 0.407841... Val Loss: 0.483503\n",
      "Epoch: 1/3... Step: 21500... Loss: 0.516698... Val Loss: 0.480641\n",
      "Epoch: 1/3... Step: 22000... Loss: 0.473873... Val Loss: 0.481207\n",
      "Epoch: 1/3... Step: 22500... Loss: 0.504616... Val Loss: 0.479125\n",
      "Epoch: 1/3... Step: 23000... Loss: 0.468757... Val Loss: 0.480434\n",
      "Epoch: 1/3... Step: 23500... Loss: 0.492437... Val Loss: 0.476001\n",
      "Validation loss decreased (0.478758 --> 0.476001).  Saving model ...\n",
      "Epoch: 1/3... Step: 24000... Loss: 0.422043... Val Loss: 0.478296\n",
      "Epoch: 1/3... Step: 24500... Loss: 0.444485... Val Loss: 0.476556\n",
      "Epoch: 1/3... Step: 25000... Loss: 0.591264... Val Loss: 0.479117\n",
      "Epoch: 1/3... Step: 25500... Loss: 0.578614... Val Loss: 0.480868\n",
      "Epoch: 2/3... Step: 26000... Loss: 0.428729... Val Loss: 0.484620\n",
      "Epoch: 2/3... Step: 26500... Loss: 0.424540... Val Loss: 0.477273\n",
      "Epoch: 2/3... Step: 27000... Loss: 0.417947... Val Loss: 0.480559\n",
      "Epoch: 2/3... Step: 27500... Loss: 0.618727... Val Loss: 0.479606\n",
      "Epoch: 2/3... Step: 28000... Loss: 0.337428... Val Loss: 0.476905\n",
      "Epoch: 2/3... Step: 28500... Loss: 0.452036... Val Loss: 0.482982\n",
      "Epoch: 2/3... Step: 29000... Loss: 0.597911... Val Loss: 0.490720\n",
      "Epoch: 2/3... Step: 29500... Loss: 0.520039... Val Loss: 0.479326\n",
      "Epoch: 2/3... Step: 30000... Loss: 0.360426... Val Loss: 0.485247\n",
      "Epoch: 2/3... Step: 30500... Loss: 0.450206... Val Loss: 0.481394\n",
      "Epoch: 2/3... Step: 31000... Loss: 0.514383... Val Loss: 0.477773\n",
      "Epoch: 2/3... Step: 31500... Loss: 0.372663... Val Loss: 0.479461\n",
      "Epoch: 2/3... Step: 32000... Loss: 0.347333... Val Loss: 0.476647\n",
      "Epoch: 2/3... Step: 32500... Loss: 0.597396... Val Loss: 0.482771\n",
      "Epoch: 2/3... Step: 33000... Loss: 0.454263... Val Loss: 0.479309\n",
      "Epoch: 2/3... Step: 33500... Loss: 0.490959... Val Loss: 0.479025\n",
      "Epoch: 2/3... Step: 34000... Loss: 0.557150... Val Loss: 0.483650\n",
      "Epoch: 2/3... Step: 34500... Loss: 0.471018... Val Loss: 0.484079\n",
      "Epoch: 2/3... Step: 35000... Loss: 0.463326... Val Loss: 0.477252\n",
      "Epoch: 2/3... Step: 35500... Loss: 0.417586... Val Loss: 0.476457\n",
      "Epoch: 2/3... Step: 36000... Loss: 0.478274... Val Loss: 0.475979\n",
      "Validation loss decreased (0.476001 --> 0.475979).  Saving model ...\n",
      "Epoch: 2/3... Step: 36500... Loss: 0.515484... Val Loss: 0.479139\n",
      "Epoch: 2/3... Step: 37000... Loss: 0.567335... Val Loss: 0.485403\n",
      "Epoch: 2/3... Step: 37500... Loss: 0.495512... Val Loss: 0.479364\n",
      "Epoch: 2/3... Step: 38000... Loss: 0.551273... Val Loss: 0.475664\n",
      "Validation loss decreased (0.475979 --> 0.475664).  Saving model ...\n",
      "Epoch: 2/3... Step: 38500... Loss: 0.508134... Val Loss: 0.483102\n",
      "Epoch: 2/3... Step: 39000... Loss: 0.484055... Val Loss: 0.485352\n",
      "Epoch: 2/3... Step: 39500... Loss: 0.466582... Val Loss: 0.476060\n",
      "Epoch: 2/3... Step: 40000... Loss: 0.387439... Val Loss: 0.478429\n",
      "Epoch: 2/3... Step: 40500... Loss: 0.710973... Val Loss: 0.487064\n",
      "Epoch: 2/3... Step: 41000... Loss: 0.446192... Val Loss: 0.480008\n",
      "Epoch: 2/3... Step: 41500... Loss: 0.514605... Val Loss: 0.479501\n",
      "Epoch: 2/3... Step: 42000... Loss: 0.572036... Val Loss: 0.483508\n",
      "Epoch: 2/3... Step: 42500... Loss: 0.433952... Val Loss: 0.482756\n",
      "Epoch: 2/3... Step: 43000... Loss: 0.381791... Val Loss: 0.481328\n",
      "Epoch: 2/3... Step: 43500... Loss: 0.620549... Val Loss: 0.479605\n",
      "Epoch: 2/3... Step: 44000... Loss: 0.474898... Val Loss: 0.490478\n",
      "Epoch: 2/3... Step: 44500... Loss: 0.447852... Val Loss: 0.486206\n",
      "Epoch: 2/3... Step: 45000... Loss: 0.567149... Val Loss: 0.503205\n",
      "Epoch: 2/3... Step: 45500... Loss: 0.410655... Val Loss: 0.476910\n",
      "Epoch: 2/3... Step: 46000... Loss: 0.549895... Val Loss: 0.482864\n",
      "Epoch: 2/3... Step: 46500... Loss: 0.502828... Val Loss: 0.486296\n",
      "Epoch: 2/3... Step: 47000... Loss: 0.502938... Val Loss: 0.477669\n",
      "Epoch: 2/3... Step: 47500... Loss: 0.382234... Val Loss: 0.477743\n",
      "Epoch: 2/3... Step: 48000... Loss: 0.381721... Val Loss: 0.480092\n",
      "Epoch: 2/3... Step: 48500... Loss: 0.373239... Val Loss: 0.473604\n",
      "Validation loss decreased (0.475664 --> 0.473604).  Saving model ...\n",
      "Epoch: 2/3... Step: 49000... Loss: 0.497116... Val Loss: 0.474574\n",
      "Epoch: 2/3... Step: 49500... Loss: 0.493929... Val Loss: 0.476867\n",
      "Epoch: 2/3... Step: 50000... Loss: 0.362243... Val Loss: 0.476319\n",
      "Epoch: 2/3... Step: 50500... Loss: 0.542803... Val Loss: 0.478187\n",
      "Epoch: 2/3... Step: 51000... Loss: 0.389977... Val Loss: 0.476017\n",
      "Epoch: 3/3... Step: 51500... Loss: 0.646275... Val Loss: 0.477869\n",
      "Epoch: 3/3... Step: 52000... Loss: 0.468451... Val Loss: 0.481255\n",
      "Epoch: 3/3... Step: 52500... Loss: 0.471749... Val Loss: 0.487393\n",
      "Epoch: 3/3... Step: 53000... Loss: 0.549898... Val Loss: 0.483709\n",
      "Epoch: 3/3... Step: 53500... Loss: 0.474778... Val Loss: 0.478248\n",
      "Epoch: 3/3... Step: 54000... Loss: 0.438360... Val Loss: 0.485356\n",
      "Epoch: 3/3... Step: 54500... Loss: 0.506577... Val Loss: 0.487064\n",
      "Epoch: 3/3... Step: 55000... Loss: 0.576081... Val Loss: 0.480032\n",
      "Epoch: 3/3... Step: 55500... Loss: 0.581612... Val Loss: 0.479742\n",
      "Epoch: 3/3... Step: 56000... Loss: 0.536476... Val Loss: 0.485778\n",
      "Epoch: 3/3... Step: 56500... Loss: 0.488448... Val Loss: 0.483615\n",
      "Epoch: 3/3... Step: 57000... Loss: 0.439747... Val Loss: 0.482206\n",
      "Epoch: 3/3... Step: 57500... Loss: 0.370008... Val Loss: 0.480242\n",
      "Epoch: 3/3... Step: 58000... Loss: 0.561389... Val Loss: 0.480389\n",
      "Epoch: 3/3... Step: 58500... Loss: 0.517091... Val Loss: 0.491528\n",
      "Epoch: 3/3... Step: 59000... Loss: 0.464730... Val Loss: 0.483022\n",
      "Epoch: 3/3... Step: 59500... Loss: 0.436747... Val Loss: 0.480596\n",
      "Epoch: 3/3... Step: 60000... Loss: 0.540348... Val Loss: 0.489790\n",
      "Epoch: 3/3... Step: 60500... Loss: 0.437773... Val Loss: 0.483091\n",
      "Epoch: 3/3... Step: 61000... Loss: 0.388708... Val Loss: 0.490455\n",
      "Epoch: 3/3... Step: 61500... Loss: 0.345640... Val Loss: 0.483171\n",
      "Epoch: 3/3... Step: 62000... Loss: 0.569894... Val Loss: 0.490070\n",
      "Epoch: 3/3... Step: 62500... Loss: 0.316062... Val Loss: 0.503704\n",
      "Epoch: 3/3... Step: 63000... Loss: 0.372534... Val Loss: 0.485824\n",
      "Epoch: 3/3... Step: 63500... Loss: 0.437028... Val Loss: 0.486660\n",
      "Epoch: 3/3... Step: 64000... Loss: 0.468904... Val Loss: 0.489261\n",
      "Epoch: 3/3... Step: 64500... Loss: 0.528641... Val Loss: 0.485285\n",
      "Epoch: 3/3... Step: 65000... Loss: 0.431097... Val Loss: 0.482635\n",
      "Epoch: 3/3... Step: 65500... Loss: 0.446076... Val Loss: 0.485754\n",
      "Epoch: 3/3... Step: 66000... Loss: 0.665529... Val Loss: 0.485546\n",
      "Epoch: 3/3... Step: 66500... Loss: 0.415154... Val Loss: 0.497005\n",
      "Epoch: 3/3... Step: 67000... Loss: 0.486412... Val Loss: 0.485419\n",
      "Epoch: 3/3... Step: 67500... Loss: 0.477230... Val Loss: 0.487868\n",
      "Epoch: 3/3... Step: 68000... Loss: 0.431113... Val Loss: 0.485740\n",
      "Epoch: 3/3... Step: 68500... Loss: 0.516617... Val Loss: 0.489874\n",
      "Epoch: 3/3... Step: 69000... Loss: 0.427220... Val Loss: 0.484021\n",
      "Epoch: 3/3... Step: 69500... Loss: 0.426789... Val Loss: 0.488233\n",
      "Epoch: 3/3... Step: 70000... Loss: 0.572616... Val Loss: 0.480246\n",
      "Epoch: 3/3... Step: 70500... Loss: 0.385454... Val Loss: 0.480353\n",
      "Epoch: 3/3... Step: 71000... Loss: 0.438628... Val Loss: 0.489236\n",
      "Epoch: 3/3... Step: 71500... Loss: 0.437196... Val Loss: 0.478366\n",
      "Epoch: 3/3... Step: 72000... Loss: 0.451427... Val Loss: 0.484689\n",
      "Epoch: 3/3... Step: 72500... Loss: 0.353076... Val Loss: 0.486171\n",
      "Epoch: 3/3... Step: 73000... Loss: 0.391936... Val Loss: 0.482191\n",
      "Epoch: 3/3... Step: 73500... Loss: 0.466460... Val Loss: 0.493553\n",
      "Epoch: 3/3... Step: 74000... Loss: 0.498511... Val Loss: 0.482974\n",
      "Epoch: 3/3... Step: 74500... Loss: 0.395780... Val Loss: 0.485620\n",
      "Epoch: 3/3... Step: 75000... Loss: 0.567362... Val Loss: 0.483114\n",
      "Epoch: 3/3... Step: 75500... Loss: 0.420269... Val Loss: 0.493014\n",
      "Epoch: 3/3... Step: 76000... Loss: 0.410463... Val Loss: 0.481862\n",
      "Epoch: 3/3... Step: 76500... Loss: 0.522207... Val Loss: 0.478794\n"
     ]
    }
   ],
   "source": [
    "epochs = 3\n",
    "counter = 0\n",
    "print_every = 500\n",
    "clip = 5\n",
    "valid_loss_min = np.Inf\n",
    "\n",
    "model.train()\n",
    "for i in range(epochs):\n",
    "    \n",
    "    for inputs, labels in train_loader:\n",
    "        counter += 1\n",
    "        inputs, labels = inputs.to(device), labels.to(device)\n",
    "        model.zero_grad()\n",
    "        output = model(inputs.long())\n",
    "        \n",
    "        loss = criterion(output, labels.float())\n",
    "        \n",
    "        \n",
    "        loss.backward()\n",
    "        #nn.utils.clip_grad_norm_(model.parameters(), clip)\n",
    "        optimizer.step()\n",
    "        \n",
    "        if counter%print_every == 0:\n",
    "            val_losses = []\n",
    "            model.eval()\n",
    "            for inp, lab in test_loader:\n",
    "                inp, lab = inp.to(device), lab.to(device)\n",
    "                out = model(inp.long())\n",
    "                val_loss = criterion(out, lab.float())\n",
    "                val_losses.append(val_loss.item())\n",
    "                \n",
    "            model.train()\n",
    "            print(\"Epoch: {}/{}...\".format(i+1, epochs),\n",
    "                  \"Step: {}...\".format(counter),\n",
    "                  \"Loss: {:.6f}...\".format(loss.item()),\n",
    "                  \"Val Loss: {:.6f}\".format(np.mean(val_losses)))\n",
    "            if np.mean(val_losses) <= valid_loss_min:\n",
    "                torch.save(model.state_dict(), './state_dict.pt')\n",
    "                print('Validation loss decreased ({:.6f} --> {:.6f}).  Saving model ...'.format(valid_loss_min,np.mean(val_losses)))\n",
    "                valid_loss_min = np.mean(val_losses)"
   ]
  },
  {
   "cell_type": "code",
   "execution_count": 22,
   "id": "1e652665",
   "metadata": {
    "execution": {
     "iopub.execute_input": "2021-12-09T09:01:43.682937Z",
     "iopub.status.busy": "2021-12-09T09:01:43.682097Z",
     "iopub.status.idle": "2021-12-09T09:01:43.709833Z",
     "shell.execute_reply": "2021-12-09T09:01:43.709413Z"
    },
    "papermill": {
     "duration": 0.091383,
     "end_time": "2021-12-09T09:01:43.709953",
     "exception": false,
     "start_time": "2021-12-09T09:01:43.618570",
     "status": "completed"
    },
    "tags": []
   },
   "outputs": [
    {
     "data": {
      "text/plain": [
       "tensor([[0.8792]], device='cuda:0', grad_fn=<SigmoidBackward>)"
      ]
     },
     "execution_count": 22,
     "metadata": {},
     "output_type": "execute_result"
    }
   ],
   "source": [
    "sentence = \"I love you\"\n",
    "trial = torch.tensor(pad_sequences(tokenizer.texts_to_sequences([sentence]), maxlen = MAX_SEQUENCE_LENGTH)).long().to(device)\n",
    "\n",
    "model(trial)"
   ]
  },
  {
   "cell_type": "code",
   "execution_count": 23,
   "id": "47f4e137",
   "metadata": {
    "execution": {
     "iopub.execute_input": "2021-12-09T09:01:43.831691Z",
     "iopub.status.busy": "2021-12-09T09:01:43.831112Z",
     "iopub.status.idle": "2021-12-09T09:01:44.068829Z",
     "shell.execute_reply": "2021-12-09T09:01:44.068055Z"
    },
    "papermill": {
     "duration": 0.299987,
     "end_time": "2021-12-09T09:01:44.068960",
     "exception": false,
     "start_time": "2021-12-09T09:01:43.768973",
     "status": "completed"
    },
    "tags": []
   },
   "outputs": [
    {
     "name": "stderr",
     "output_type": "stream",
     "text": [
      "/opt/conda/lib/python3.7/site-packages/ipykernel_launcher.py:16: TracerWarning: Converting a tensor to a Python index might cause the trace to be incorrect. We can't record the data flow of Python values, so this value will be treated as a constant in the future. This means that the trace might not generalize to other inputs!\n",
      "  app.launch_new_instance()\n"
     ]
    }
   ],
   "source": [
    "import torch.onnx\n",
    "torch.onnx.export(model,               # model being run\n",
    "                  trial,                  # model input (or a tuple for multiple inputs)\n",
    "                  \"transformer-imdb.onnx\", opset_version = 11)"
   ]
  }
 ],
 "metadata": {
  "kernelspec": {
   "display_name": "Python 3",
   "language": "python",
   "name": "python3"
  },
  "language_info": {
   "codemirror_mode": {
    "name": "ipython",
    "version": 3
   },
   "file_extension": ".py",
   "mimetype": "text/x-python",
   "name": "python",
   "nbconvert_exporter": "python",
   "pygments_lexer": "ipython3",
   "version": "3.7.10"
  },
  "papermill": {
   "default_parameters": {},
   "duration": 2334.305777,
   "end_time": "2021-12-09T09:01:47.157847",
   "environment_variables": {},
   "exception": null,
   "input_path": "__notebook__.ipynb",
   "output_path": "__notebook__.ipynb",
   "parameters": {},
   "start_time": "2021-12-09T08:22:52.852070",
   "version": "2.3.3"
  }
 },
 "nbformat": 4,
 "nbformat_minor": 5
}
