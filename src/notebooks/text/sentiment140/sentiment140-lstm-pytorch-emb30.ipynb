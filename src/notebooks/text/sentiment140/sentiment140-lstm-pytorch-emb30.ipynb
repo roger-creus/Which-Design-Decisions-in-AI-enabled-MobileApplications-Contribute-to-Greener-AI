{
 "cells": [
  {
   "cell_type": "code",
   "execution_count": 1,
   "id": "0eaa299a",
   "metadata": {
    "_cell_guid": "79c7e3d0-c299-4dcb-8224-4455121ee9b0",
    "_uuid": "d629ff2d2480ee46fbb7e2d37f6b5fab8052498a",
    "execution": {
     "iopub.execute_input": "2021-09-02T09:02:54.991016Z",
     "iopub.status.busy": "2021-09-02T09:02:54.990490Z",
     "iopub.status.idle": "2021-09-02T09:03:01.610879Z",
     "shell.execute_reply": "2021-09-02T09:03:01.611421Z",
     "shell.execute_reply.started": "2021-09-02T08:47:54.94532Z"
    },
    "papermill": {
     "duration": 6.652941,
     "end_time": "2021-09-02T09:03:01.611742",
     "exception": false,
     "start_time": "2021-09-02T09:02:54.958801",
     "status": "completed"
    },
    "tags": []
   },
   "outputs": [
    {
     "name": "stdout",
     "output_type": "stream",
     "text": [
      "[nltk_data] Downloading package stopwords to /usr/share/nltk_data...\n",
      "[nltk_data]   Package stopwords is already up-to-date!\n",
      "Tensorflow Version 2.4.1\n"
     ]
    }
   ],
   "source": [
    "import tensorflow as tf\n",
    "import matplotlib.pyplot as plt\n",
    "import pandas as pd\n",
    "import numpy as np\n",
    "\n",
    "\n",
    "import torch\n",
    "from torch.utils.data import TensorDataset, DataLoader\n",
    "import torch.nn as nn\n",
    "\n",
    "import nltk \n",
    "nltk.download('stopwords')\n",
    "from nltk.corpus import stopwords\n",
    "from nltk.stem import SnowballStemmer\n",
    "\n",
    "\n",
    "\n",
    "from sklearn.model_selection import train_test_split\n",
    "from sklearn.preprocessing import LabelEncoder\n",
    "\n",
    "\n",
    "import re\n",
    "\n",
    "print(\"Tensorflow Version\",tf.__version__)"
   ]
  },
  {
   "cell_type": "code",
   "execution_count": 2,
   "id": "14cca4b3",
   "metadata": {
    "execution": {
     "iopub.execute_input": "2021-09-02T09:03:01.652651Z",
     "iopub.status.busy": "2021-09-02T09:03:01.652158Z",
     "iopub.status.idle": "2021-09-02T09:03:07.547005Z",
     "shell.execute_reply": "2021-09-02T09:03:07.546554Z",
     "shell.execute_reply.started": "2021-09-02T08:48:01.599282Z"
    },
    "papermill": {
     "duration": 5.916219,
     "end_time": "2021-09-02T09:03:07.547129",
     "exception": false,
     "start_time": "2021-09-02T09:03:01.630910",
     "status": "completed"
    },
    "tags": []
   },
   "outputs": [
    {
     "data": {
      "text/html": [
       "<div>\n",
       "<style scoped>\n",
       "    .dataframe tbody tr th:only-of-type {\n",
       "        vertical-align: middle;\n",
       "    }\n",
       "\n",
       "    .dataframe tbody tr th {\n",
       "        vertical-align: top;\n",
       "    }\n",
       "\n",
       "    .dataframe thead th {\n",
       "        text-align: right;\n",
       "    }\n",
       "</style>\n",
       "<table border=\"1\" class=\"dataframe\">\n",
       "  <thead>\n",
       "    <tr style=\"text-align: right;\">\n",
       "      <th></th>\n",
       "      <th>0</th>\n",
       "      <th>1</th>\n",
       "      <th>2</th>\n",
       "      <th>3</th>\n",
       "      <th>4</th>\n",
       "      <th>5</th>\n",
       "    </tr>\n",
       "  </thead>\n",
       "  <tbody>\n",
       "    <tr>\n",
       "      <th>0</th>\n",
       "      <td>0</td>\n",
       "      <td>1467810369</td>\n",
       "      <td>Mon Apr 06 22:19:45 PDT 2009</td>\n",
       "      <td>NO_QUERY</td>\n",
       "      <td>_TheSpecialOne_</td>\n",
       "      <td>@switchfoot http://twitpic.com/2y1zl - Awww, t...</td>\n",
       "    </tr>\n",
       "    <tr>\n",
       "      <th>1</th>\n",
       "      <td>0</td>\n",
       "      <td>1467810672</td>\n",
       "      <td>Mon Apr 06 22:19:49 PDT 2009</td>\n",
       "      <td>NO_QUERY</td>\n",
       "      <td>scotthamilton</td>\n",
       "      <td>is upset that he can't update his Facebook by ...</td>\n",
       "    </tr>\n",
       "    <tr>\n",
       "      <th>2</th>\n",
       "      <td>0</td>\n",
       "      <td>1467810917</td>\n",
       "      <td>Mon Apr 06 22:19:53 PDT 2009</td>\n",
       "      <td>NO_QUERY</td>\n",
       "      <td>mattycus</td>\n",
       "      <td>@Kenichan I dived many times for the ball. Man...</td>\n",
       "    </tr>\n",
       "    <tr>\n",
       "      <th>3</th>\n",
       "      <td>0</td>\n",
       "      <td>1467811184</td>\n",
       "      <td>Mon Apr 06 22:19:57 PDT 2009</td>\n",
       "      <td>NO_QUERY</td>\n",
       "      <td>ElleCTF</td>\n",
       "      <td>my whole body feels itchy and like its on fire</td>\n",
       "    </tr>\n",
       "    <tr>\n",
       "      <th>4</th>\n",
       "      <td>0</td>\n",
       "      <td>1467811193</td>\n",
       "      <td>Mon Apr 06 22:19:57 PDT 2009</td>\n",
       "      <td>NO_QUERY</td>\n",
       "      <td>Karoli</td>\n",
       "      <td>@nationwideclass no, it's not behaving at all....</td>\n",
       "    </tr>\n",
       "  </tbody>\n",
       "</table>\n",
       "</div>"
      ],
      "text/plain": [
       "   0           1                             2         3                4  \\\n",
       "0  0  1467810369  Mon Apr 06 22:19:45 PDT 2009  NO_QUERY  _TheSpecialOne_   \n",
       "1  0  1467810672  Mon Apr 06 22:19:49 PDT 2009  NO_QUERY    scotthamilton   \n",
       "2  0  1467810917  Mon Apr 06 22:19:53 PDT 2009  NO_QUERY         mattycus   \n",
       "3  0  1467811184  Mon Apr 06 22:19:57 PDT 2009  NO_QUERY          ElleCTF   \n",
       "4  0  1467811193  Mon Apr 06 22:19:57 PDT 2009  NO_QUERY           Karoli   \n",
       "\n",
       "                                                   5  \n",
       "0  @switchfoot http://twitpic.com/2y1zl - Awww, t...  \n",
       "1  is upset that he can't update his Facebook by ...  \n",
       "2  @Kenichan I dived many times for the ball. Man...  \n",
       "3    my whole body feels itchy and like its on fire   \n",
       "4  @nationwideclass no, it's not behaving at all....  "
      ]
     },
     "execution_count": 2,
     "metadata": {},
     "output_type": "execute_result"
    }
   ],
   "source": [
    "df = pd.read_csv('../input/sentiment140/training.1600000.processed.noemoticon.csv',\n",
    "                 encoding = 'latin',header=None)\n",
    "df.head()"
   ]
  },
  {
   "cell_type": "code",
   "execution_count": 3,
   "id": "63d30927",
   "metadata": {
    "execution": {
     "iopub.execute_input": "2021-09-02T09:03:07.596166Z",
     "iopub.status.busy": "2021-09-02T09:03:07.595599Z",
     "iopub.status.idle": "2021-09-02T09:03:07.598710Z",
     "shell.execute_reply": "2021-09-02T09:03:07.599101Z",
     "shell.execute_reply.started": "2021-09-02T08:48:06.860495Z"
    },
    "papermill": {
     "duration": 0.033568,
     "end_time": "2021-09-02T09:03:07.599212",
     "exception": false,
     "start_time": "2021-09-02T09:03:07.565644",
     "status": "completed"
    },
    "tags": []
   },
   "outputs": [
    {
     "data": {
      "text/html": [
       "<div>\n",
       "<style scoped>\n",
       "    .dataframe tbody tr th:only-of-type {\n",
       "        vertical-align: middle;\n",
       "    }\n",
       "\n",
       "    .dataframe tbody tr th {\n",
       "        vertical-align: top;\n",
       "    }\n",
       "\n",
       "    .dataframe thead th {\n",
       "        text-align: right;\n",
       "    }\n",
       "</style>\n",
       "<table border=\"1\" class=\"dataframe\">\n",
       "  <thead>\n",
       "    <tr style=\"text-align: right;\">\n",
       "      <th></th>\n",
       "      <th>sentiment</th>\n",
       "      <th>id</th>\n",
       "      <th>date</th>\n",
       "      <th>query</th>\n",
       "      <th>user_id</th>\n",
       "      <th>text</th>\n",
       "    </tr>\n",
       "  </thead>\n",
       "  <tbody>\n",
       "    <tr>\n",
       "      <th>0</th>\n",
       "      <td>0</td>\n",
       "      <td>1467810369</td>\n",
       "      <td>Mon Apr 06 22:19:45 PDT 2009</td>\n",
       "      <td>NO_QUERY</td>\n",
       "      <td>_TheSpecialOne_</td>\n",
       "      <td>@switchfoot http://twitpic.com/2y1zl - Awww, t...</td>\n",
       "    </tr>\n",
       "    <tr>\n",
       "      <th>1</th>\n",
       "      <td>0</td>\n",
       "      <td>1467810672</td>\n",
       "      <td>Mon Apr 06 22:19:49 PDT 2009</td>\n",
       "      <td>NO_QUERY</td>\n",
       "      <td>scotthamilton</td>\n",
       "      <td>is upset that he can't update his Facebook by ...</td>\n",
       "    </tr>\n",
       "    <tr>\n",
       "      <th>2</th>\n",
       "      <td>0</td>\n",
       "      <td>1467810917</td>\n",
       "      <td>Mon Apr 06 22:19:53 PDT 2009</td>\n",
       "      <td>NO_QUERY</td>\n",
       "      <td>mattycus</td>\n",
       "      <td>@Kenichan I dived many times for the ball. Man...</td>\n",
       "    </tr>\n",
       "    <tr>\n",
       "      <th>3</th>\n",
       "      <td>0</td>\n",
       "      <td>1467811184</td>\n",
       "      <td>Mon Apr 06 22:19:57 PDT 2009</td>\n",
       "      <td>NO_QUERY</td>\n",
       "      <td>ElleCTF</td>\n",
       "      <td>my whole body feels itchy and like its on fire</td>\n",
       "    </tr>\n",
       "    <tr>\n",
       "      <th>4</th>\n",
       "      <td>0</td>\n",
       "      <td>1467811193</td>\n",
       "      <td>Mon Apr 06 22:19:57 PDT 2009</td>\n",
       "      <td>NO_QUERY</td>\n",
       "      <td>Karoli</td>\n",
       "      <td>@nationwideclass no, it's not behaving at all....</td>\n",
       "    </tr>\n",
       "  </tbody>\n",
       "</table>\n",
       "</div>"
      ],
      "text/plain": [
       "   sentiment          id                          date     query  \\\n",
       "0          0  1467810369  Mon Apr 06 22:19:45 PDT 2009  NO_QUERY   \n",
       "1          0  1467810672  Mon Apr 06 22:19:49 PDT 2009  NO_QUERY   \n",
       "2          0  1467810917  Mon Apr 06 22:19:53 PDT 2009  NO_QUERY   \n",
       "3          0  1467811184  Mon Apr 06 22:19:57 PDT 2009  NO_QUERY   \n",
       "4          0  1467811193  Mon Apr 06 22:19:57 PDT 2009  NO_QUERY   \n",
       "\n",
       "           user_id                                               text  \n",
       "0  _TheSpecialOne_  @switchfoot http://twitpic.com/2y1zl - Awww, t...  \n",
       "1    scotthamilton  is upset that he can't update his Facebook by ...  \n",
       "2         mattycus  @Kenichan I dived many times for the ball. Man...  \n",
       "3          ElleCTF    my whole body feels itchy and like its on fire   \n",
       "4           Karoli  @nationwideclass no, it's not behaving at all....  "
      ]
     },
     "execution_count": 3,
     "metadata": {},
     "output_type": "execute_result"
    }
   ],
   "source": [
    "df.columns = ['sentiment', 'id', 'date', 'query', 'user_id', 'text']\n",
    "df.head()"
   ]
  },
  {
   "cell_type": "code",
   "execution_count": 4,
   "id": "d1f3b704",
   "metadata": {
    "execution": {
     "iopub.execute_input": "2021-09-02T09:03:07.672873Z",
     "iopub.status.busy": "2021-09-02T09:03:07.652751Z",
     "iopub.status.idle": "2021-09-02T09:03:07.675522Z",
     "shell.execute_reply": "2021-09-02T09:03:07.675089Z",
     "shell.execute_reply.started": "2021-09-02T08:48:06.875915Z"
    },
    "papermill": {
     "duration": 0.057635,
     "end_time": "2021-09-02T09:03:07.675633",
     "exception": false,
     "start_time": "2021-09-02T09:03:07.617998",
     "status": "completed"
    },
    "tags": []
   },
   "outputs": [],
   "source": [
    "df = df.drop(['id', 'date', 'query', 'user_id'], axis=1)"
   ]
  },
  {
   "cell_type": "code",
   "execution_count": 5,
   "id": "97c59b2a",
   "metadata": {
    "execution": {
     "iopub.execute_input": "2021-09-02T09:03:07.748721Z",
     "iopub.status.busy": "2021-09-02T09:03:07.748219Z",
     "iopub.status.idle": "2021-09-02T09:03:08.202504Z",
     "shell.execute_reply": "2021-09-02T09:03:08.202086Z",
     "shell.execute_reply.started": "2021-09-02T08:48:06.929673Z"
    },
    "papermill": {
     "duration": 0.508325,
     "end_time": "2021-09-02T09:03:08.202622",
     "exception": false,
     "start_time": "2021-09-02T09:03:07.694297",
     "status": "completed"
    },
    "tags": []
   },
   "outputs": [
    {
     "data": {
      "text/html": [
       "<div>\n",
       "<style scoped>\n",
       "    .dataframe tbody tr th:only-of-type {\n",
       "        vertical-align: middle;\n",
       "    }\n",
       "\n",
       "    .dataframe tbody tr th {\n",
       "        vertical-align: top;\n",
       "    }\n",
       "\n",
       "    .dataframe thead th {\n",
       "        text-align: right;\n",
       "    }\n",
       "</style>\n",
       "<table border=\"1\" class=\"dataframe\">\n",
       "  <thead>\n",
       "    <tr style=\"text-align: right;\">\n",
       "      <th></th>\n",
       "      <th>sentiment</th>\n",
       "      <th>text</th>\n",
       "    </tr>\n",
       "  </thead>\n",
       "  <tbody>\n",
       "    <tr>\n",
       "      <th>0</th>\n",
       "      <td>Negative</td>\n",
       "      <td>@switchfoot http://twitpic.com/2y1zl - Awww, t...</td>\n",
       "    </tr>\n",
       "    <tr>\n",
       "      <th>1</th>\n",
       "      <td>Negative</td>\n",
       "      <td>is upset that he can't update his Facebook by ...</td>\n",
       "    </tr>\n",
       "    <tr>\n",
       "      <th>2</th>\n",
       "      <td>Negative</td>\n",
       "      <td>@Kenichan I dived many times for the ball. Man...</td>\n",
       "    </tr>\n",
       "    <tr>\n",
       "      <th>3</th>\n",
       "      <td>Negative</td>\n",
       "      <td>my whole body feels itchy and like its on fire</td>\n",
       "    </tr>\n",
       "    <tr>\n",
       "      <th>4</th>\n",
       "      <td>Negative</td>\n",
       "      <td>@nationwideclass no, it's not behaving at all....</td>\n",
       "    </tr>\n",
       "  </tbody>\n",
       "</table>\n",
       "</div>"
      ],
      "text/plain": [
       "  sentiment                                               text\n",
       "0  Negative  @switchfoot http://twitpic.com/2y1zl - Awww, t...\n",
       "1  Negative  is upset that he can't update his Facebook by ...\n",
       "2  Negative  @Kenichan I dived many times for the ball. Man...\n",
       "3  Negative    my whole body feels itchy and like its on fire \n",
       "4  Negative  @nationwideclass no, it's not behaving at all...."
      ]
     },
     "execution_count": 5,
     "metadata": {},
     "output_type": "execute_result"
    }
   ],
   "source": [
    "lab_to_sentiment = {0:\"Negative\", 4:\"Positive\"}\n",
    "def label_decoder(label):\n",
    "  return lab_to_sentiment[label]\n",
    "df.sentiment = df.sentiment.apply(lambda x: label_decoder(x))\n",
    "df.head()"
   ]
  },
  {
   "cell_type": "code",
   "execution_count": 6,
   "id": "f928adc5",
   "metadata": {
    "execution": {
     "iopub.execute_input": "2021-09-02T09:03:08.536215Z",
     "iopub.status.busy": "2021-09-02T09:03:08.535389Z",
     "iopub.status.idle": "2021-09-02T09:03:08.671494Z",
     "shell.execute_reply": "2021-09-02T09:03:08.671916Z",
     "shell.execute_reply.started": "2021-09-02T08:48:07.420713Z"
    },
    "papermill": {
     "duration": 0.449807,
     "end_time": "2021-09-02T09:03:08.672065",
     "exception": false,
     "start_time": "2021-09-02T09:03:08.222258",
     "status": "completed"
    },
    "tags": []
   },
   "outputs": [
    {
     "data": {
      "text/plain": [
       "Text(0.5, 1.0, 'Sentiment Data Distribution')"
      ]
     },
     "execution_count": 6,
     "metadata": {},
     "output_type": "execute_result"
    },
    {
     "data": {
      "image/png": "[encoded data removed]",
      "text/plain": [
       "<Figure size 576x288 with 1 Axes>"
      ]
     },
     "metadata": {
      "needs_background": "light"
     },
     "output_type": "display_data"
    }
   ],
   "source": [
    "val_count = df.sentiment.value_counts()\n",
    "\n",
    "plt.figure(figsize=(8,4))\n",
    "plt.bar(val_count.index, val_count.values)\n",
    "plt.title(\"Sentiment Data Distribution\")"
   ]
  },
  {
   "cell_type": "code",
   "execution_count": 7,
   "id": "bdf562c3",
   "metadata": {
    "execution": {
     "iopub.execute_input": "2021-09-02T09:03:08.717182Z",
     "iopub.status.busy": "2021-09-02T09:03:08.716345Z",
     "iopub.status.idle": "2021-09-02T09:03:08.837074Z",
     "shell.execute_reply": "2021-09-02T09:03:08.837480Z",
     "shell.execute_reply.started": "2021-09-02T08:48:07.869633Z"
    },
    "papermill": {
     "duration": 0.145469,
     "end_time": "2021-09-02T09:03:08.837619",
     "exception": false,
     "start_time": "2021-09-02T09:03:08.692150",
     "status": "completed"
    },
    "tags": []
   },
   "outputs": [
    {
     "data": {
      "text/html": [
       "<div>\n",
       "<style scoped>\n",
       "    .dataframe tbody tr th:only-of-type {\n",
       "        vertical-align: middle;\n",
       "    }\n",
       "\n",
       "    .dataframe tbody tr th {\n",
       "        vertical-align: top;\n",
       "    }\n",
       "\n",
       "    .dataframe thead th {\n",
       "        text-align: right;\n",
       "    }\n",
       "</style>\n",
       "<table border=\"1\" class=\"dataframe\">\n",
       "  <thead>\n",
       "    <tr style=\"text-align: right;\">\n",
       "      <th></th>\n",
       "      <th>sentiment</th>\n",
       "      <th>text</th>\n",
       "    </tr>\n",
       "  </thead>\n",
       "  <tbody>\n",
       "    <tr>\n",
       "      <th>432374</th>\n",
       "      <td>Negative</td>\n",
       "      <td>I really wanna see my boyfriend right now</td>\n",
       "    </tr>\n",
       "    <tr>\n",
       "      <th>670669</th>\n",
       "      <td>Negative</td>\n",
       "      <td>@luvandbball just wish I could go to the essen...</td>\n",
       "    </tr>\n",
       "    <tr>\n",
       "      <th>168302</th>\n",
       "      <td>Negative</td>\n",
       "      <td>Does not feel good at all today</td>\n",
       "    </tr>\n",
       "    <tr>\n",
       "      <th>892569</th>\n",
       "      <td>Positive</td>\n",
       "      <td>@Chantal14 thanks chantal</td>\n",
       "    </tr>\n",
       "    <tr>\n",
       "      <th>751525</th>\n",
       "      <td>Negative</td>\n",
       "      <td>oh lord @ the metro crashing....And it was con...</td>\n",
       "    </tr>\n",
       "    <tr>\n",
       "      <th>620314</th>\n",
       "      <td>Negative</td>\n",
       "      <td>just left Chelsea for the last time...</td>\n",
       "    </tr>\n",
       "    <tr>\n",
       "      <th>878131</th>\n",
       "      <td>Positive</td>\n",
       "      <td>@alejandralei do i have this number!?!</td>\n",
       "    </tr>\n",
       "    <tr>\n",
       "      <th>75765</th>\n",
       "      <td>Negative</td>\n",
       "      <td>tired have been on facebook for the whole nigh...</td>\n",
       "    </tr>\n",
       "    <tr>\n",
       "      <th>873414</th>\n",
       "      <td>Positive</td>\n",
       "      <td>Let me take ur photo!  ::free hugs::</td>\n",
       "    </tr>\n",
       "    <tr>\n",
       "      <th>620846</th>\n",
       "      <td>Negative</td>\n",
       "      <td>Having someone in your office with you all day...</td>\n",
       "    </tr>\n",
       "  </tbody>\n",
       "</table>\n",
       "</div>"
      ],
      "text/plain": [
       "       sentiment                                               text\n",
       "432374  Negative         I really wanna see my boyfriend right now \n",
       "670669  Negative  @luvandbball just wish I could go to the essen...\n",
       "168302  Negative                   Does not feel good at all today \n",
       "892569  Positive                         @Chantal14 thanks chantal \n",
       "751525  Negative  oh lord @ the metro crashing....And it was con...\n",
       "620314  Negative            just left Chelsea for the last time... \n",
       "878131  Positive            @alejandralei do i have this number!?! \n",
       "75765   Negative  tired have been on facebook for the whole nigh...\n",
       "873414  Positive             Let me take ur photo!  ::free hugs::  \n",
       "620846  Negative  Having someone in your office with you all day..."
      ]
     },
     "execution_count": 7,
     "metadata": {},
     "output_type": "execute_result"
    }
   ],
   "source": [
    "import random\n",
    "random_idx_list = [random.randint(1,len(df.text)) for i in range(10)] # creates random indexes to choose from dataframe\n",
    "df.loc[random_idx_list,:].head(10) # Returns the rows with the index and display it"
   ]
  },
  {
   "cell_type": "code",
   "execution_count": 8,
   "id": "40e39576",
   "metadata": {
    "execution": {
     "iopub.execute_input": "2021-09-02T09:03:08.888145Z",
     "iopub.status.busy": "2021-09-02T09:03:08.887371Z",
     "iopub.status.idle": "2021-09-02T09:03:08.892297Z",
     "shell.execute_reply": "2021-09-02T09:03:08.891813Z",
     "shell.execute_reply.started": "2021-09-02T08:48:07.999641Z"
    },
    "papermill": {
     "duration": 0.033082,
     "end_time": "2021-09-02T09:03:08.892420",
     "exception": false,
     "start_time": "2021-09-02T09:03:08.859338",
     "status": "completed"
    },
    "tags": []
   },
   "outputs": [],
   "source": [
    "stop_words = stopwords.words('english')\n",
    "stemmer = SnowballStemmer('english')\n",
    "\n",
    "text_cleaning_re = \"@\\S+|https?:\\S+|http?:\\S|[^A-Za-z0-9]+\""
   ]
  },
  {
   "cell_type": "code",
   "execution_count": 9,
   "id": "53a334d2",
   "metadata": {
    "execution": {
     "iopub.execute_input": "2021-09-02T09:03:08.941021Z",
     "iopub.status.busy": "2021-09-02T09:03:08.940367Z",
     "iopub.status.idle": "2021-09-02T09:03:08.943596Z",
     "shell.execute_reply": "2021-09-02T09:03:08.943996Z",
     "shell.execute_reply.started": "2021-09-02T08:48:08.008531Z"
    },
    "papermill": {
     "duration": 0.028616,
     "end_time": "2021-09-02T09:03:08.944121",
     "exception": false,
     "start_time": "2021-09-02T09:03:08.915505",
     "status": "completed"
    },
    "tags": []
   },
   "outputs": [],
   "source": [
    "def preprocess(text, stem=False):\n",
    "  text = re.sub(text_cleaning_re, ' ', str(text).lower()).strip()\n",
    "  tokens = []\n",
    "  for token in text.split():\n",
    "    if token not in stop_words:\n",
    "      if stem:\n",
    "        tokens.append(stemmer.stem(token))\n",
    "      else:\n",
    "        tokens.append(token)\n",
    "  return \" \".join(tokens)"
   ]
  },
  {
   "cell_type": "code",
   "execution_count": 10,
   "id": "0d8fb134",
   "metadata": {
    "execution": {
     "iopub.execute_input": "2021-09-02T09:03:08.989622Z",
     "iopub.status.busy": "2021-09-02T09:03:08.988761Z",
     "iopub.status.idle": "2021-09-02T09:04:07.096333Z",
     "shell.execute_reply": "2021-09-02T09:04:07.095880Z",
     "shell.execute_reply.started": "2021-09-02T08:48:08.019254Z"
    },
    "papermill": {
     "duration": 58.132297,
     "end_time": "2021-09-02T09:04:07.096461",
     "exception": false,
     "start_time": "2021-09-02T09:03:08.964164",
     "status": "completed"
    },
    "tags": []
   },
   "outputs": [],
   "source": [
    "df.text = df.text.apply(lambda x: preprocess(x))\n",
    "device = \"cuda:0\""
   ]
  },
  {
   "cell_type": "markdown",
   "id": "a8bbef34",
   "metadata": {
    "papermill": {
     "duration": 0.020342,
     "end_time": "2021-09-02T09:04:07.137407",
     "exception": false,
     "start_time": "2021-09-02T09:04:07.117065",
     "status": "completed"
    },
    "tags": []
   },
   "source": [
    "## Train and Test Split"
   ]
  },
  {
   "cell_type": "code",
   "execution_count": 11,
   "id": "5808b383",
   "metadata": {
    "execution": {
     "iopub.execute_input": "2021-09-02T09:04:07.184876Z",
     "iopub.status.busy": "2021-09-02T09:04:07.184026Z",
     "iopub.status.idle": "2021-09-02T09:04:07.186128Z",
     "shell.execute_reply": "2021-09-02T09:04:07.186571Z",
     "shell.execute_reply.started": "2021-09-02T08:49:06.588835Z"
    },
    "papermill": {
     "duration": 0.028438,
     "end_time": "2021-09-02T09:04:07.186709",
     "exception": false,
     "start_time": "2021-09-02T09:04:07.158271",
     "status": "completed"
    },
    "tags": []
   },
   "outputs": [],
   "source": [
    "TRAIN_SIZE = 0.8 \n",
    "MAX_NB_WORDS = 100000\n",
    "MAX_SEQUENCE_LENGTH = 30\n",
    "EMBEDDING_DIM = 10\n",
    "LR = 1e-3\n",
    "BATCH_SIZE = 4096\n",
    "EPOCHS = 10"
   ]
  },
  {
   "cell_type": "code",
   "execution_count": 12,
   "id": "11be4319",
   "metadata": {
    "execution": {
     "iopub.execute_input": "2021-09-02T09:04:07.232724Z",
     "iopub.status.busy": "2021-09-02T09:04:07.231891Z",
     "iopub.status.idle": "2021-09-02T09:04:07.655303Z",
     "shell.execute_reply": "2021-09-02T09:04:07.655735Z",
     "shell.execute_reply.started": "2021-09-02T08:49:06.594929Z"
    },
    "papermill": {
     "duration": 0.448849,
     "end_time": "2021-09-02T09:04:07.655882",
     "exception": false,
     "start_time": "2021-09-02T09:04:07.207033",
     "status": "completed"
    },
    "tags": []
   },
   "outputs": [
    {
     "name": "stdout",
     "output_type": "stream",
     "text": [
      "Train Data size: 1280000\n",
      "Test Data size 320000\n"
     ]
    }
   ],
   "source": [
    "train_data, test_data = train_test_split(df, test_size=1-TRAIN_SIZE,\n",
    "                                         random_state=7) # Splits Dataset into Training and Testing set\n",
    "print(\"Train Data size:\", len(train_data))\n",
    "print(\"Test Data size\", len(test_data))"
   ]
  },
  {
   "cell_type": "code",
   "execution_count": 13,
   "id": "57bcd6e2",
   "metadata": {
    "execution": {
     "iopub.execute_input": "2021-09-02T09:04:07.702137Z",
     "iopub.status.busy": "2021-09-02T09:04:07.701488Z",
     "iopub.status.idle": "2021-09-02T09:04:25.782194Z",
     "shell.execute_reply": "2021-09-02T09:04:25.781581Z",
     "shell.execute_reply.started": "2021-09-02T08:49:07.065017Z"
    },
    "papermill": {
     "duration": 18.105486,
     "end_time": "2021-09-02T09:04:25.782358",
     "exception": false,
     "start_time": "2021-09-02T09:04:07.676872",
     "status": "completed"
    },
    "tags": []
   },
   "outputs": [
    {
     "name": "stdout",
     "output_type": "stream",
     "text": [
      "Vocabulary Size : 290575\n"
     ]
    }
   ],
   "source": [
    "from keras.preprocessing.text import Tokenizer\n",
    "\n",
    "tokenizer = Tokenizer()\n",
    "tokenizer.fit_on_texts(train_data.text)\n",
    "\n",
    "word_index = tokenizer.word_index\n",
    "vocab_size = len(tokenizer.word_index) + 1\n",
    "print(\"Vocabulary Size :\", vocab_size)"
   ]
  },
  {
   "cell_type": "code",
   "execution_count": 14,
   "id": "aaf88086",
   "metadata": {
    "execution": {
     "iopub.execute_input": "2021-09-02T09:04:25.833429Z",
     "iopub.status.busy": "2021-09-02T09:04:25.829679Z",
     "iopub.status.idle": "2021-09-02T09:04:26.079052Z",
     "shell.execute_reply": "2021-09-02T09:04:26.078484Z",
     "shell.execute_reply.started": "2021-09-02T08:49:25.279952Z"
    },
    "papermill": {
     "duration": 0.274802,
     "end_time": "2021-09-02T09:04:26.079180",
     "exception": false,
     "start_time": "2021-09-02T09:04:25.804378",
     "status": "completed"
    },
    "tags": []
   },
   "outputs": [],
   "source": [
    "import os \n",
    "with open('twitter_dictionary.txt', 'w') as file:\n",
    "    for key in word_index.keys():\n",
    "        file.write(key + \" \" + str(word_index[key]) + \",\")"
   ]
  },
  {
   "cell_type": "code",
   "execution_count": 15,
   "id": "05e67ad5",
   "metadata": {
    "execution": {
     "iopub.execute_input": "2021-09-02T09:04:26.126424Z",
     "iopub.status.busy": "2021-09-02T09:04:26.125926Z",
     "iopub.status.idle": "2021-09-02T09:04:55.840560Z",
     "shell.execute_reply": "2021-09-02T09:04:55.840119Z",
     "shell.execute_reply.started": "2021-09-02T08:49:25.5319Z"
    },
    "papermill": {
     "duration": 29.740006,
     "end_time": "2021-09-02T09:04:55.840679",
     "exception": false,
     "start_time": "2021-09-02T09:04:26.100673",
     "status": "completed"
    },
    "tags": []
   },
   "outputs": [
    {
     "name": "stdout",
     "output_type": "stream",
     "text": [
      "Training X Shape: (1280000, 30)\n",
      "Testing X Shape: (320000, 30)\n",
      "<class 'numpy.ndarray'>\n",
      "<class 'numpy.ndarray'>\n"
     ]
    }
   ],
   "source": [
    "from keras.preprocessing.sequence import pad_sequences\n",
    "\n",
    "x_train = pad_sequences(tokenizer.texts_to_sequences(train_data.text),\n",
    "                        maxlen = MAX_SEQUENCE_LENGTH)\n",
    "x_test = pad_sequences(tokenizer.texts_to_sequences(test_data.text),\n",
    "                       maxlen = MAX_SEQUENCE_LENGTH)\n",
    "\n",
    "print(\"Training X Shape:\",x_train.shape)\n",
    "print(\"Testing X Shape:\",x_test.shape)\n",
    "\n",
    "print(type(x_train))\n",
    "print(type(x_test))"
   ]
  },
  {
   "cell_type": "code",
   "execution_count": 16,
   "id": "18a48fde",
   "metadata": {
    "execution": {
     "iopub.execute_input": "2021-09-02T09:04:55.889158Z",
     "iopub.status.busy": "2021-09-02T09:04:55.888439Z",
     "iopub.status.idle": "2021-09-02T09:04:55.892006Z",
     "shell.execute_reply": "2021-09-02T09:04:55.891598Z",
     "shell.execute_reply.started": "2021-09-02T08:49:55.87431Z"
    },
    "papermill": {
     "duration": 0.030234,
     "end_time": "2021-09-02T09:04:55.892108",
     "exception": false,
     "start_time": "2021-09-02T09:04:55.861874",
     "status": "completed"
    },
    "tags": []
   },
   "outputs": [
    {
     "data": {
      "text/plain": [
       "array([  0,   0,   0,   0,   0,   0,   0,   0,   0,   0,   0,   0,   0,\n",
       "         0,   0,   0,   0,   0,   0,   0,   0,   0,   0,   0,   0,   0,\n",
       "         0,   0,  34, 110], dtype=int32)"
      ]
     },
     "execution_count": 16,
     "metadata": {},
     "output_type": "execute_result"
    }
   ],
   "source": [
    "x_train[0]"
   ]
  },
  {
   "cell_type": "code",
   "execution_count": 17,
   "id": "c26ddfe7",
   "metadata": {
    "execution": {
     "iopub.execute_input": "2021-09-02T09:04:56.001121Z",
     "iopub.status.busy": "2021-09-02T09:04:56.000381Z",
     "iopub.status.idle": "2021-09-02T09:04:56.020274Z",
     "shell.execute_reply": "2021-09-02T09:04:56.020644Z",
     "shell.execute_reply.started": "2021-09-02T08:49:55.883662Z"
    },
    "papermill": {
     "duration": 0.106852,
     "end_time": "2021-09-02T09:04:56.020791",
     "exception": false,
     "start_time": "2021-09-02T09:04:55.913939",
     "status": "completed"
    },
    "tags": []
   },
   "outputs": [],
   "source": [
    "labels = train_data.sentiment.unique().tolist()"
   ]
  },
  {
   "cell_type": "code",
   "execution_count": 18,
   "id": "5b63d269",
   "metadata": {
    "execution": {
     "iopub.execute_input": "2021-09-02T09:04:56.225110Z",
     "iopub.status.busy": "2021-09-02T09:04:56.224184Z",
     "iopub.status.idle": "2021-09-02T09:04:57.215158Z",
     "shell.execute_reply": "2021-09-02T09:04:57.214685Z",
     "shell.execute_reply.started": "2021-09-02T08:49:55.974794Z"
    },
    "papermill": {
     "duration": 1.172963,
     "end_time": "2021-09-02T09:04:57.215284",
     "exception": false,
     "start_time": "2021-09-02T09:04:56.042321",
     "status": "completed"
    },
    "tags": []
   },
   "outputs": [
    {
     "name": "stdout",
     "output_type": "stream",
     "text": [
      "y_train shape: (1280000, 1)\n",
      "y_test shape: (320000, 1)\n"
     ]
    }
   ],
   "source": [
    "encoder = LabelEncoder()\n",
    "encoder.fit(train_data.sentiment.to_list())\n",
    "\n",
    "y_train = encoder.transform(train_data.sentiment.to_list())\n",
    "y_test = encoder.transform(test_data.sentiment.to_list())\n",
    "\n",
    "y_train = y_train.reshape(-1,1)\n",
    "y_test = y_test.reshape(-1,1)\n",
    "\n",
    "train_data = TensorDataset(torch.from_numpy(x_train), torch.from_numpy(y_train))\n",
    "test_data = TensorDataset(torch.from_numpy(x_test), torch.from_numpy(y_test))\n",
    "\n",
    "train_loader = DataLoader(train_data, shuffle=True, batch_size=BATCH_SIZE, drop_last = True)\n",
    "test_loader = DataLoader(test_data, shuffle=True, batch_size=BATCH_SIZE, drop_last = True)\n",
    "\n",
    "print(\"y_train shape:\", y_train.shape)\n",
    "print(\"y_test shape:\", y_test.shape)"
   ]
  },
  {
   "cell_type": "code",
   "execution_count": 19,
   "id": "735e497e",
   "metadata": {
    "execution": {
     "iopub.execute_input": "2021-09-02T09:04:57.269110Z",
     "iopub.status.busy": "2021-09-02T09:04:57.268403Z",
     "iopub.status.idle": "2021-09-02T09:04:57.271262Z",
     "shell.execute_reply": "2021-09-02T09:04:57.270836Z",
     "shell.execute_reply.started": "2021-09-02T08:49:57.142435Z"
    },
    "papermill": {
     "duration": 0.034013,
     "end_time": "2021-09-02T09:04:57.271364",
     "exception": false,
     "start_time": "2021-09-02T09:04:57.237351",
     "status": "completed"
    },
    "tags": []
   },
   "outputs": [],
   "source": [
    "class SentimentNet(nn.Module):\n",
    "    def __init__(self, vocab_size, output_size, embedding_dim, hidden_dim, n_layers, drop_prob=0.5):\n",
    "        super(SentimentNet, self).__init__()\n",
    "        self.output_size = output_size\n",
    "        self.n_layers = n_layers\n",
    "        self.hidden_dim = hidden_dim\n",
    "        \n",
    "        \n",
    "        self.embedding = nn.Embedding(vocab_size, embedding_dim)\n",
    "        #self.conv = nn.Conv1d(embedding_dim, 8, kernel_size=5)\n",
    "        self.lstm = nn.LSTM(embedding_dim, hidden_dim, n_layers, dropout=drop_prob, batch_first=True)\n",
    "        #self.gru = nn.GRU(embedding_dim, hidden_dim, n_layers, dropout=drop_prob, batch_first=True)\n",
    "        self.dropout = nn.Dropout(drop_prob)\n",
    "        self.fc = nn.Linear(hidden_dim, output_size)\n",
    "        self.sigmoid = nn.Sigmoid()\n",
    "        \n",
    "    def forward(self, x, hidden):\n",
    "        #print(x.shape)\n",
    "        if len(x) != 1:\n",
    "            batch_size = x.size(0)\n",
    "        else:\n",
    "            batch_size = 1\n",
    "        x = x.long()\n",
    "        embeds = self.embedding(x)\n",
    "\n",
    "        #conv = self.conv(x)\n",
    "        \n",
    "        lstm_out, hidden = self.lstm(embeds, hidden)\n",
    "        lstm_out = lstm_out.contiguous().view(-1, self.hidden_dim)\n",
    "        \n",
    "        out = self.dropout(lstm_out)\n",
    "        out = self.fc(out)\n",
    "        out = self.sigmoid(out)\n",
    "        \n",
    "        out = out.view(batch_size, -1)\n",
    "        out = out[:,-1]\n",
    "        return out, hidden\n",
    "    \n",
    "    def init_hidden(self, batch_size):\n",
    "        weight = next(self.parameters()).data\n",
    "        hidden = (weight.new(self.n_layers, batch_size, self.hidden_dim).zero_().to(device),weight.new(self.n_layers, batch_size, self.hidden_dim).zero_().to(device))\n",
    "        #hidden = (weight.new(self.n_layers, batch_size, self.hidden_dim).zero_(),\n",
    "        #             weight.new(self.n_layers, batch_size, self.hidden_dim).zero_())\n",
    "        return hidden"
   ]
  },
  {
   "cell_type": "code",
   "execution_count": 20,
   "id": "b4865782",
   "metadata": {
    "execution": {
     "iopub.execute_input": "2021-09-02T09:04:57.319065Z",
     "iopub.status.busy": "2021-09-02T09:04:57.318352Z",
     "iopub.status.idle": "2021-09-02T09:04:57.320973Z",
     "shell.execute_reply": "2021-09-02T09:04:57.320558Z",
     "shell.execute_reply.started": "2021-09-02T08:49:57.157796Z"
    },
    "papermill": {
     "duration": 0.028389,
     "end_time": "2021-09-02T09:04:57.321081",
     "exception": false,
     "start_time": "2021-09-02T09:04:57.292692",
     "status": "completed"
    },
    "tags": []
   },
   "outputs": [],
   "source": [
    "def model_params(model):\n",
    "    pp=0\n",
    "    for p in list(model.parameters()):\n",
    "        nn=1\n",
    "        for s in list(p.size()):\n",
    "            nn = nn*s\n",
    "        pp += nn\n",
    "    return pp"
   ]
  },
  {
   "cell_type": "code",
   "execution_count": 21,
   "id": "a56e0835",
   "metadata": {
    "execution": {
     "iopub.execute_input": "2021-09-02T09:04:57.372042Z",
     "iopub.status.busy": "2021-09-02T09:04:57.371512Z",
     "iopub.status.idle": "2021-09-02T09:05:03.343857Z",
     "shell.execute_reply": "2021-09-02T09:05:03.343383Z",
     "shell.execute_reply.started": "2021-09-02T08:53:18.324635Z"
    },
    "papermill": {
     "duration": 6.001393,
     "end_time": "2021-09-02T09:05:03.343984",
     "exception": false,
     "start_time": "2021-09-02T09:04:57.342591",
     "status": "completed"
    },
    "tags": []
   },
   "outputs": [
    {
     "name": "stderr",
     "output_type": "stream",
     "text": [
      "/opt/conda/lib/python3.7/site-packages/torch/nn/modules/rnn.py:61: UserWarning: dropout option adds dropout after all but last recurrent layer, so non-zero dropout expects num_layers greater than 1, but got dropout=0.5 and num_layers=1\n",
      "  \"num_layers={}\".format(dropout, num_layers))\n"
     ]
    },
    {
     "name": "stdout",
     "output_type": "stream",
     "text": [
      "8717831\n"
     ]
    }
   ],
   "source": [
    "output_size = 1\n",
    "embedding_dim = 30\n",
    "hidden_dim = 4\n",
    "n_layers = 1\n",
    "\n",
    "model = SentimentNet(vocab_size, output_size, embedding_dim, hidden_dim, n_layers)\n",
    "print(model_params(model))\n",
    "model.to(device)\n",
    "lr=0.008\n",
    "criterion = nn.BCELoss()\n",
    "optimizer = torch.optim.Adam(model.parameters(), lr=lr)"
   ]
  },
  {
   "cell_type": "code",
   "execution_count": 22,
   "id": "820868af",
   "metadata": {
    "execution": {
     "iopub.execute_input": "2021-09-02T09:05:03.398483Z",
     "iopub.status.busy": "2021-09-02T09:05:03.397966Z",
     "iopub.status.idle": "2021-09-02T09:10:15.356882Z",
     "shell.execute_reply": "2021-09-02T09:10:15.355937Z",
     "shell.execute_reply.started": "2021-09-02T08:53:54.256219Z"
    },
    "papermill": {
     "duration": 311.990743,
     "end_time": "2021-09-02T09:10:15.357039",
     "exception": false,
     "start_time": "2021-09-02T09:05:03.366296",
     "status": "completed"
    },
    "tags": []
   },
   "outputs": [
    {
     "name": "stdout",
     "output_type": "stream",
     "text": [
      "Epoch: 1/10... Step: 100... Loss: 0.581045... Val Loss: 0.549953\n",
      "Validation loss decreased (inf --> 0.549953).  Saving model ...\n",
      "Epoch: 1/10... Step: 200... Loss: 0.541041... Val Loss: 0.505432\n",
      "Validation loss decreased (0.549953 --> 0.505432).  Saving model ...\n",
      "Epoch: 1/10... Step: 300... Loss: 0.533955... Val Loss: 0.488574\n",
      "Validation loss decreased (0.505432 --> 0.488574).  Saving model ...\n",
      "Epoch: 2/10... Step: 400... Loss: 0.506233... Val Loss: 0.479492\n",
      "Validation loss decreased (0.488574 --> 0.479492).  Saving model ...\n",
      "Epoch: 2/10... Step: 500... Loss: 0.506585... Val Loss: 0.472194\n",
      "Validation loss decreased (0.479492 --> 0.472194).  Saving model ...\n",
      "Epoch: 2/10... Step: 600... Loss: 0.498981... Val Loss: 0.469617\n",
      "Validation loss decreased (0.472194 --> 0.469617).  Saving model ...\n",
      "Epoch: 3/10... Step: 700... Loss: 0.496437... Val Loss: 0.467708\n",
      "Validation loss decreased (0.469617 --> 0.467708).  Saving model ...\n",
      "Epoch: 3/10... Step: 800... Loss: 0.480978... Val Loss: 0.467723\n",
      "Epoch: 3/10... Step: 900... Loss: 0.465747... Val Loss: 0.464492\n",
      "Validation loss decreased (0.467708 --> 0.464492).  Saving model ...\n",
      "Epoch: 4/10... Step: 1000... Loss: 0.455954... Val Loss: 0.466444\n",
      "Epoch: 4/10... Step: 1100... Loss: 0.464798... Val Loss: 0.469048\n",
      "Epoch: 4/10... Step: 1200... Loss: 0.465809... Val Loss: 0.467288\n",
      "Epoch: 5/10... Step: 1300... Loss: 0.464332... Val Loss: 0.469508\n",
      "Epoch: 5/10... Step: 1400... Loss: 0.455489... Val Loss: 0.471492\n",
      "Epoch: 5/10... Step: 1500... Loss: 0.452685... Val Loss: 0.472182\n",
      "Epoch: 6/10... Step: 1600... Loss: 0.426486... Val Loss: 0.477453\n",
      "Epoch: 6/10... Step: 1700... Loss: 0.431244... Val Loss: 0.478749\n",
      "Epoch: 6/10... Step: 1800... Loss: 0.426120... Val Loss: 0.478670\n",
      "Epoch: 7/10... Step: 1900... Loss: 0.407035... Val Loss: 0.487411\n",
      "Epoch: 7/10... Step: 2000... Loss: 0.427268... Val Loss: 0.490002\n",
      "Epoch: 7/10... Step: 2100... Loss: 0.430728... Val Loss: 0.487170\n",
      "Epoch: 8/10... Step: 2200... Loss: 0.401041... Val Loss: 0.492924\n",
      "Epoch: 8/10... Step: 2300... Loss: 0.397642... Val Loss: 0.498453\n",
      "Epoch: 8/10... Step: 2400... Loss: 0.417376... Val Loss: 0.498048\n",
      "Epoch: 9/10... Step: 2500... Loss: 0.399538... Val Loss: 0.500344\n",
      "Epoch: 9/10... Step: 2600... Loss: 0.387909... Val Loss: 0.513301\n",
      "Epoch: 9/10... Step: 2700... Loss: 0.403465... Val Loss: 0.509460\n",
      "Epoch: 9/10... Step: 2800... Loss: 0.395814... Val Loss: 0.510517\n",
      "Epoch: 10/10... Step: 2900... Loss: 0.403624... Val Loss: 0.527048\n",
      "Epoch: 10/10... Step: 3000... Loss: 0.396426... Val Loss: 0.523043\n",
      "Epoch: 10/10... Step: 3100... Loss: 0.414705... Val Loss: 0.518656\n"
     ]
    }
   ],
   "source": [
    "epochs = 10\n",
    "counter = 0\n",
    "print_every = 100\n",
    "clip = 5\n",
    "valid_loss_min = np.Inf\n",
    "\n",
    "model.train()\n",
    "for i in range(epochs):\n",
    "    h = model.init_hidden(BATCH_SIZE)\n",
    "    \n",
    "    for inputs, labels in train_loader:\n",
    "        counter += 1\n",
    "        h = tuple([e.data for e in h])\n",
    "        inputs, labels = inputs.to(device), labels.to(device)\n",
    "        model.zero_grad()\n",
    "        output, h = model(inputs, h)\n",
    "        loss = criterion(output.unsqueeze(1), labels.float())\n",
    "        loss.backward()\n",
    "        #nn.utils.clip_grad_norm_(model.parameters(), clip)\n",
    "        optimizer.step()\n",
    "        \n",
    "        if counter%print_every == 0:\n",
    "            val_h = model.init_hidden(BATCH_SIZE)\n",
    "            val_losses = []\n",
    "            model.eval()\n",
    "            for inp, lab in test_loader:\n",
    "                val_h = tuple([each.data for each in val_h])\n",
    "                inp, lab = inp.to(device), lab.to(device)\n",
    "                out, val_h = model(inp, val_h)\n",
    "                val_loss = criterion(out.unsqueeze(1), lab.float())\n",
    "                val_losses.append(val_loss.item())\n",
    "                \n",
    "            model.train()\n",
    "            print(\"Epoch: {}/{}...\".format(i+1, epochs),\n",
    "                  \"Step: {}...\".format(counter),\n",
    "                  \"Loss: {:.6f}...\".format(loss.item()),\n",
    "                  \"Val Loss: {:.6f}\".format(np.mean(val_losses)))\n",
    "            if np.mean(val_losses) <= valid_loss_min:\n",
    "                torch.save(model.state_dict(), './state_dict.pt')\n",
    "                print('Validation loss decreased ({:.6f} --> {:.6f}).  Saving model ...'.format(valid_loss_min,np.mean(val_losses)))\n",
    "                valid_loss_min = np.mean(val_losses)"
   ]
  },
  {
   "cell_type": "code",
   "execution_count": 23,
   "id": "df30410d",
   "metadata": {
    "execution": {
     "iopub.execute_input": "2021-09-02T09:10:15.421069Z",
     "iopub.status.busy": "2021-09-02T09:10:15.420290Z",
     "iopub.status.idle": "2021-09-02T09:10:15.423100Z",
     "shell.execute_reply": "2021-09-02T09:10:15.422686Z",
     "shell.execute_reply.started": "2021-09-02T08:59:36.033022Z"
    },
    "papermill": {
     "duration": 0.036203,
     "end_time": "2021-09-02T09:10:15.423205",
     "exception": false,
     "start_time": "2021-09-02T09:10:15.387002",
     "status": "completed"
    },
    "tags": []
   },
   "outputs": [],
   "source": [
    "h = model.init_hidden(1)"
   ]
  },
  {
   "cell_type": "code",
   "execution_count": 24,
   "id": "7ef2054a",
   "metadata": {
    "execution": {
     "iopub.execute_input": "2021-09-02T09:10:15.486478Z",
     "iopub.status.busy": "2021-09-02T09:10:15.485992Z",
     "iopub.status.idle": "2021-09-02T09:10:15.519273Z",
     "shell.execute_reply": "2021-09-02T09:10:15.519666Z",
     "shell.execute_reply.started": "2021-09-02T08:59:43.24801Z"
    },
    "papermill": {
     "duration": 0.067144,
     "end_time": "2021-09-02T09:10:15.519799",
     "exception": false,
     "start_time": "2021-09-02T09:10:15.452655",
     "status": "completed"
    },
    "tags": []
   },
   "outputs": [
    {
     "name": "stdout",
     "output_type": "stream",
     "text": [
      "tensor([[ 0,  0,  0,  0,  0,  0,  0,  0,  0,  0,  0,  0,  0,  0,  0,  0,  0,  0,\n",
      "          0,  0,  0,  0,  0,  0,  0,  0,  0,  0,  9, 98]], device='cuda:0',\n",
      "       dtype=torch.int32)\n"
     ]
    },
    {
     "data": {
      "text/plain": [
       "tensor([0.7410], device='cuda:0', grad_fn=<SelectBackward>)"
      ]
     },
     "execution_count": 24,
     "metadata": {},
     "output_type": "execute_result"
    }
   ],
   "source": [
    "sentence = \"I love my life\"\n",
    "trial = torch.tensor(pad_sequences(tokenizer.texts_to_sequences([sentence]), maxlen = MAX_SEQUENCE_LENGTH)).to(device)\n",
    "print(trial)\n",
    "\n",
    "model(trial, h)[0]"
   ]
  },
  {
   "cell_type": "code",
   "execution_count": 25,
   "id": "94379cb9",
   "metadata": {
    "execution": {
     "iopub.execute_input": "2021-09-02T09:10:15.584077Z",
     "iopub.status.busy": "2021-09-02T09:10:15.583478Z",
     "iopub.status.idle": "2021-09-02T09:10:15.876876Z",
     "shell.execute_reply": "2021-09-02T09:10:15.876395Z",
     "shell.execute_reply.started": "2021-09-02T08:59:48.130798Z"
    },
    "papermill": {
     "duration": 0.327026,
     "end_time": "2021-09-02T09:10:15.876997",
     "exception": false,
     "start_time": "2021-09-02T09:10:15.549971",
     "status": "completed"
    },
    "tags": []
   },
   "outputs": [
    {
     "name": "stderr",
     "output_type": "stream",
     "text": [
      "/opt/conda/lib/python3.7/site-packages/ipykernel_launcher.py:19: TracerWarning: Converting a tensor to a Python index might cause the trace to be incorrect. We can't record the data flow of Python values, so this value will be treated as a constant in the future. This means that the trace might not generalize to other inputs!\n",
      "/opt/conda/lib/python3.7/site-packages/torch/onnx/symbolic_opset9.py:1805: UserWarning: Exporting a model to ONNX with a batch_size other than 1, with a variable length with LSTM can cause an error when running the ONNX model with a different batch size. Make sure to save the model with a batch size of 1, or define the initial states (h0/c0) as inputs of the model. \n",
      "  \"or define the initial states (h0/c0) as inputs of the model. \")\n"
     ]
    }
   ],
   "source": [
    "import torch.onnx\n",
    "torch.onnx.export(model,               # model being run\n",
    "                  (trial, (torch.randn(1,1,4).to(device), torch.randn(1,1,4).to(device))),                   # model input (or a tuple for multiple inputs)\n",
    "                  \"lstm-PT.onnx\")"
   ]
  }
 ],
 "metadata": {
  "kernelspec": {
   "display_name": "Python 3",
   "language": "python",
   "name": "python3"
  },
  "language_info": {
   "codemirror_mode": {
    "name": "ipython",
    "version": 3
   },
   "file_extension": ".py",
   "mimetype": "text/x-python",
   "name": "python",
   "nbconvert_exporter": "python",
   "pygments_lexer": "ipython3",
   "version": "3.7.10"
  },
  "papermill": {
   "default_parameters": {},
   "duration": 449.77003,
   "end_time": "2021-09-02T09:10:18.096919",
   "environment_variables": {},
   "exception": null,
   "input_path": "__notebook__.ipynb",
   "output_path": "__notebook__.ipynb",
   "parameters": {},
   "start_time": "2021-09-02T09:02:48.326889",
   "version": "2.3.3"
  }
 },
 "nbformat": 4,
 "nbformat_minor": 5
}
