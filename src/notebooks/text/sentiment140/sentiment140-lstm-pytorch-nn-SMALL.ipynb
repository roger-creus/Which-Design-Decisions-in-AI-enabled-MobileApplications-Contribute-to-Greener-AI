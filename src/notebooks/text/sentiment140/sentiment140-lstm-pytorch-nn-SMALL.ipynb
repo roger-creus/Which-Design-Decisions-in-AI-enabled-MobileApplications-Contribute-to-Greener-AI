{
 "cells": [
  {
   "cell_type": "code",
   "execution_count": 1,
   "id": "ef16cfc4",
   "metadata": {
    "_cell_guid": "79c7e3d0-c299-4dcb-8224-4455121ee9b0",
    "_uuid": "d629ff2d2480ee46fbb7e2d37f6b5fab8052498a",
    "execution": {
     "iopub.execute_input": "2021-09-02T09:47:22.994790Z",
     "iopub.status.busy": "2021-09-02T09:47:22.994222Z",
     "iopub.status.idle": "2021-09-02T09:47:29.760951Z",
     "shell.execute_reply": "2021-09-02T09:47:29.761563Z",
     "shell.execute_reply.started": "2021-09-02T09:13:09.143712Z"
    },
    "papermill": {
     "duration": 6.800427,
     "end_time": "2021-09-02T09:47:29.761858",
     "exception": false,
     "start_time": "2021-09-02T09:47:22.961431",
     "status": "completed"
    },
    "tags": []
   },
   "outputs": [
    {
     "name": "stdout",
     "output_type": "stream",
     "text": [
      "[nltk_data] Downloading package stopwords to /usr/share/nltk_data...\n",
      "[nltk_data]   Package stopwords is already up-to-date!\n",
      "Tensorflow Version 2.4.1\n"
     ]
    }
   ],
   "source": [
    "import tensorflow as tf\n",
    "import matplotlib.pyplot as plt\n",
    "import pandas as pd\n",
    "import numpy as np\n",
    "\n",
    "\n",
    "import torch\n",
    "from torch.utils.data import TensorDataset, DataLoader\n",
    "import torch.nn as nn\n",
    "\n",
    "import nltk \n",
    "nltk.download('stopwords')\n",
    "from nltk.corpus import stopwords\n",
    "from nltk.stem import SnowballStemmer\n",
    "\n",
    "\n",
    "\n",
    "from sklearn.model_selection import train_test_split\n",
    "from sklearn.preprocessing import LabelEncoder\n",
    "\n",
    "\n",
    "import re\n",
    "\n",
    "print(\"Tensorflow Version\",tf.__version__)"
   ]
  },
  {
   "cell_type": "code",
   "execution_count": 2,
   "id": "8d931e8a",
   "metadata": {
    "execution": {
     "iopub.execute_input": "2021-09-02T09:47:29.803025Z",
     "iopub.status.busy": "2021-09-02T09:47:29.802370Z",
     "iopub.status.idle": "2021-09-02T09:47:35.284862Z",
     "shell.execute_reply": "2021-09-02T09:47:35.284016Z",
     "shell.execute_reply.started": "2021-09-02T09:13:11.633876Z"
    },
    "papermill": {
     "duration": 5.504424,
     "end_time": "2021-09-02T09:47:35.284989",
     "exception": false,
     "start_time": "2021-09-02T09:47:29.780565",
     "status": "completed"
    },
    "tags": []
   },
   "outputs": [
    {
     "data": {
      "text/html": [
       "<div>\n",
       "<style scoped>\n",
       "    .dataframe tbody tr th:only-of-type {\n",
       "        vertical-align: middle;\n",
       "    }\n",
       "\n",
       "    .dataframe tbody tr th {\n",
       "        vertical-align: top;\n",
       "    }\n",
       "\n",
       "    .dataframe thead th {\n",
       "        text-align: right;\n",
       "    }\n",
       "</style>\n",
       "<table border=\"1\" class=\"dataframe\">\n",
       "  <thead>\n",
       "    <tr style=\"text-align: right;\">\n",
       "      <th></th>\n",
       "      <th>0</th>\n",
       "      <th>1</th>\n",
       "      <th>2</th>\n",
       "      <th>3</th>\n",
       "      <th>4</th>\n",
       "      <th>5</th>\n",
       "    </tr>\n",
       "  </thead>\n",
       "  <tbody>\n",
       "    <tr>\n",
       "      <th>0</th>\n",
       "      <td>0</td>\n",
       "      <td>1467810369</td>\n",
       "      <td>Mon Apr 06 22:19:45 PDT 2009</td>\n",
       "      <td>NO_QUERY</td>\n",
       "      <td>_TheSpecialOne_</td>\n",
       "      <td>@switchfoot http://twitpic.com/2y1zl - Awww, t...</td>\n",
       "    </tr>\n",
       "    <tr>\n",
       "      <th>1</th>\n",
       "      <td>0</td>\n",
       "      <td>1467810672</td>\n",
       "      <td>Mon Apr 06 22:19:49 PDT 2009</td>\n",
       "      <td>NO_QUERY</td>\n",
       "      <td>scotthamilton</td>\n",
       "      <td>is upset that he can't update his Facebook by ...</td>\n",
       "    </tr>\n",
       "    <tr>\n",
       "      <th>2</th>\n",
       "      <td>0</td>\n",
       "      <td>1467810917</td>\n",
       "      <td>Mon Apr 06 22:19:53 PDT 2009</td>\n",
       "      <td>NO_QUERY</td>\n",
       "      <td>mattycus</td>\n",
       "      <td>@Kenichan I dived many times for the ball. Man...</td>\n",
       "    </tr>\n",
       "    <tr>\n",
       "      <th>3</th>\n",
       "      <td>0</td>\n",
       "      <td>1467811184</td>\n",
       "      <td>Mon Apr 06 22:19:57 PDT 2009</td>\n",
       "      <td>NO_QUERY</td>\n",
       "      <td>ElleCTF</td>\n",
       "      <td>my whole body feels itchy and like its on fire</td>\n",
       "    </tr>\n",
       "    <tr>\n",
       "      <th>4</th>\n",
       "      <td>0</td>\n",
       "      <td>1467811193</td>\n",
       "      <td>Mon Apr 06 22:19:57 PDT 2009</td>\n",
       "      <td>NO_QUERY</td>\n",
       "      <td>Karoli</td>\n",
       "      <td>@nationwideclass no, it's not behaving at all....</td>\n",
       "    </tr>\n",
       "  </tbody>\n",
       "</table>\n",
       "</div>"
      ],
      "text/plain": [
       "   0           1                             2         3                4  \\\n",
       "0  0  1467810369  Mon Apr 06 22:19:45 PDT 2009  NO_QUERY  _TheSpecialOne_   \n",
       "1  0  1467810672  Mon Apr 06 22:19:49 PDT 2009  NO_QUERY    scotthamilton   \n",
       "2  0  1467810917  Mon Apr 06 22:19:53 PDT 2009  NO_QUERY         mattycus   \n",
       "3  0  1467811184  Mon Apr 06 22:19:57 PDT 2009  NO_QUERY          ElleCTF   \n",
       "4  0  1467811193  Mon Apr 06 22:19:57 PDT 2009  NO_QUERY           Karoli   \n",
       "\n",
       "                                                   5  \n",
       "0  @switchfoot http://twitpic.com/2y1zl - Awww, t...  \n",
       "1  is upset that he can't update his Facebook by ...  \n",
       "2  @Kenichan I dived many times for the ball. Man...  \n",
       "3    my whole body feels itchy and like its on fire   \n",
       "4  @nationwideclass no, it's not behaving at all....  "
      ]
     },
     "execution_count": 2,
     "metadata": {},
     "output_type": "execute_result"
    }
   ],
   "source": [
    "df = pd.read_csv('../input/sentiment140/training.1600000.processed.noemoticon.csv',\n",
    "                 encoding = 'latin',header=None)\n",
    "df.head()"
   ]
  },
  {
   "cell_type": "code",
   "execution_count": 3,
   "id": "013f456a",
   "metadata": {
    "execution": {
     "iopub.execute_input": "2021-09-02T09:47:35.337452Z",
     "iopub.status.busy": "2021-09-02T09:47:35.336631Z",
     "iopub.status.idle": "2021-09-02T09:47:35.341153Z",
     "shell.execute_reply": "2021-09-02T09:47:35.340756Z",
     "shell.execute_reply.started": "2021-09-02T09:13:15.664220Z"
    },
    "papermill": {
     "duration": 0.036495,
     "end_time": "2021-09-02T09:47:35.341261",
     "exception": false,
     "start_time": "2021-09-02T09:47:35.304766",
     "status": "completed"
    },
    "tags": []
   },
   "outputs": [
    {
     "data": {
      "text/html": [
       "<div>\n",
       "<style scoped>\n",
       "    .dataframe tbody tr th:only-of-type {\n",
       "        vertical-align: middle;\n",
       "    }\n",
       "\n",
       "    .dataframe tbody tr th {\n",
       "        vertical-align: top;\n",
       "    }\n",
       "\n",
       "    .dataframe thead th {\n",
       "        text-align: right;\n",
       "    }\n",
       "</style>\n",
       "<table border=\"1\" class=\"dataframe\">\n",
       "  <thead>\n",
       "    <tr style=\"text-align: right;\">\n",
       "      <th></th>\n",
       "      <th>sentiment</th>\n",
       "      <th>id</th>\n",
       "      <th>date</th>\n",
       "      <th>query</th>\n",
       "      <th>user_id</th>\n",
       "      <th>text</th>\n",
       "    </tr>\n",
       "  </thead>\n",
       "  <tbody>\n",
       "    <tr>\n",
       "      <th>0</th>\n",
       "      <td>0</td>\n",
       "      <td>1467810369</td>\n",
       "      <td>Mon Apr 06 22:19:45 PDT 2009</td>\n",
       "      <td>NO_QUERY</td>\n",
       "      <td>_TheSpecialOne_</td>\n",
       "      <td>@switchfoot http://twitpic.com/2y1zl - Awww, t...</td>\n",
       "    </tr>\n",
       "    <tr>\n",
       "      <th>1</th>\n",
       "      <td>0</td>\n",
       "      <td>1467810672</td>\n",
       "      <td>Mon Apr 06 22:19:49 PDT 2009</td>\n",
       "      <td>NO_QUERY</td>\n",
       "      <td>scotthamilton</td>\n",
       "      <td>is upset that he can't update his Facebook by ...</td>\n",
       "    </tr>\n",
       "    <tr>\n",
       "      <th>2</th>\n",
       "      <td>0</td>\n",
       "      <td>1467810917</td>\n",
       "      <td>Mon Apr 06 22:19:53 PDT 2009</td>\n",
       "      <td>NO_QUERY</td>\n",
       "      <td>mattycus</td>\n",
       "      <td>@Kenichan I dived many times for the ball. Man...</td>\n",
       "    </tr>\n",
       "    <tr>\n",
       "      <th>3</th>\n",
       "      <td>0</td>\n",
       "      <td>1467811184</td>\n",
       "      <td>Mon Apr 06 22:19:57 PDT 2009</td>\n",
       "      <td>NO_QUERY</td>\n",
       "      <td>ElleCTF</td>\n",
       "      <td>my whole body feels itchy and like its on fire</td>\n",
       "    </tr>\n",
       "    <tr>\n",
       "      <th>4</th>\n",
       "      <td>0</td>\n",
       "      <td>1467811193</td>\n",
       "      <td>Mon Apr 06 22:19:57 PDT 2009</td>\n",
       "      <td>NO_QUERY</td>\n",
       "      <td>Karoli</td>\n",
       "      <td>@nationwideclass no, it's not behaving at all....</td>\n",
       "    </tr>\n",
       "  </tbody>\n",
       "</table>\n",
       "</div>"
      ],
      "text/plain": [
       "   sentiment          id                          date     query  \\\n",
       "0          0  1467810369  Mon Apr 06 22:19:45 PDT 2009  NO_QUERY   \n",
       "1          0  1467810672  Mon Apr 06 22:19:49 PDT 2009  NO_QUERY   \n",
       "2          0  1467810917  Mon Apr 06 22:19:53 PDT 2009  NO_QUERY   \n",
       "3          0  1467811184  Mon Apr 06 22:19:57 PDT 2009  NO_QUERY   \n",
       "4          0  1467811193  Mon Apr 06 22:19:57 PDT 2009  NO_QUERY   \n",
       "\n",
       "           user_id                                               text  \n",
       "0  _TheSpecialOne_  @switchfoot http://twitpic.com/2y1zl - Awww, t...  \n",
       "1    scotthamilton  is upset that he can't update his Facebook by ...  \n",
       "2         mattycus  @Kenichan I dived many times for the ball. Man...  \n",
       "3          ElleCTF    my whole body feels itchy and like its on fire   \n",
       "4           Karoli  @nationwideclass no, it's not behaving at all....  "
      ]
     },
     "execution_count": 3,
     "metadata": {},
     "output_type": "execute_result"
    }
   ],
   "source": [
    "df.columns = ['sentiment', 'id', 'date', 'query', 'user_id', 'text']\n",
    "df.head()"
   ]
  },
  {
   "cell_type": "code",
   "execution_count": 4,
   "id": "3303fc77",
   "metadata": {
    "execution": {
     "iopub.execute_input": "2021-09-02T09:47:35.420841Z",
     "iopub.status.busy": "2021-09-02T09:47:35.392119Z",
     "iopub.status.idle": "2021-09-02T09:47:35.422854Z",
     "shell.execute_reply": "2021-09-02T09:47:35.423318Z",
     "shell.execute_reply.started": "2021-09-02T09:13:15.677680Z"
    },
    "papermill": {
     "duration": 0.062348,
     "end_time": "2021-09-02T09:47:35.423463",
     "exception": false,
     "start_time": "2021-09-02T09:47:35.361115",
     "status": "completed"
    },
    "tags": []
   },
   "outputs": [],
   "source": [
    "df = df.drop(['id', 'date', 'query', 'user_id'], axis=1)"
   ]
  },
  {
   "cell_type": "code",
   "execution_count": 5,
   "id": "2b8bf925",
   "metadata": {
    "execution": {
     "iopub.execute_input": "2021-09-02T09:47:35.502114Z",
     "iopub.status.busy": "2021-09-02T09:47:35.501342Z",
     "iopub.status.idle": "2021-09-02T09:47:35.983145Z",
     "shell.execute_reply": "2021-09-02T09:47:35.983594Z",
     "shell.execute_reply.started": "2021-09-02T09:13:15.722608Z"
    },
    "papermill": {
     "duration": 0.539799,
     "end_time": "2021-09-02T09:47:35.983767",
     "exception": false,
     "start_time": "2021-09-02T09:47:35.443968",
     "status": "completed"
    },
    "tags": []
   },
   "outputs": [
    {
     "data": {
      "text/html": [
       "<div>\n",
       "<style scoped>\n",
       "    .dataframe tbody tr th:only-of-type {\n",
       "        vertical-align: middle;\n",
       "    }\n",
       "\n",
       "    .dataframe tbody tr th {\n",
       "        vertical-align: top;\n",
       "    }\n",
       "\n",
       "    .dataframe thead th {\n",
       "        text-align: right;\n",
       "    }\n",
       "</style>\n",
       "<table border=\"1\" class=\"dataframe\">\n",
       "  <thead>\n",
       "    <tr style=\"text-align: right;\">\n",
       "      <th></th>\n",
       "      <th>sentiment</th>\n",
       "      <th>text</th>\n",
       "    </tr>\n",
       "  </thead>\n",
       "  <tbody>\n",
       "    <tr>\n",
       "      <th>0</th>\n",
       "      <td>Negative</td>\n",
       "      <td>@switchfoot http://twitpic.com/2y1zl - Awww, t...</td>\n",
       "    </tr>\n",
       "    <tr>\n",
       "      <th>1</th>\n",
       "      <td>Negative</td>\n",
       "      <td>is upset that he can't update his Facebook by ...</td>\n",
       "    </tr>\n",
       "    <tr>\n",
       "      <th>2</th>\n",
       "      <td>Negative</td>\n",
       "      <td>@Kenichan I dived many times for the ball. Man...</td>\n",
       "    </tr>\n",
       "    <tr>\n",
       "      <th>3</th>\n",
       "      <td>Negative</td>\n",
       "      <td>my whole body feels itchy and like its on fire</td>\n",
       "    </tr>\n",
       "    <tr>\n",
       "      <th>4</th>\n",
       "      <td>Negative</td>\n",
       "      <td>@nationwideclass no, it's not behaving at all....</td>\n",
       "    </tr>\n",
       "  </tbody>\n",
       "</table>\n",
       "</div>"
      ],
      "text/plain": [
       "  sentiment                                               text\n",
       "0  Negative  @switchfoot http://twitpic.com/2y1zl - Awww, t...\n",
       "1  Negative  is upset that he can't update his Facebook by ...\n",
       "2  Negative  @Kenichan I dived many times for the ball. Man...\n",
       "3  Negative    my whole body feels itchy and like its on fire \n",
       "4  Negative  @nationwideclass no, it's not behaving at all...."
      ]
     },
     "execution_count": 5,
     "metadata": {},
     "output_type": "execute_result"
    }
   ],
   "source": [
    "lab_to_sentiment = {0:\"Negative\", 4:\"Positive\"}\n",
    "def label_decoder(label):\n",
    "  return lab_to_sentiment[label]\n",
    "df.sentiment = df.sentiment.apply(lambda x: label_decoder(x))\n",
    "df.head()"
   ]
  },
  {
   "cell_type": "code",
   "execution_count": 6,
   "id": "fd32f4e7",
   "metadata": {
    "execution": {
     "iopub.execute_input": "2021-09-02T09:47:36.345926Z",
     "iopub.status.busy": "2021-09-02T09:47:36.344955Z",
     "iopub.status.idle": "2021-09-02T09:47:36.567409Z",
     "shell.execute_reply": "2021-09-02T09:47:36.572206Z",
     "shell.execute_reply.started": "2021-09-02T09:13:16.218419Z"
    },
    "papermill": {
     "duration": 0.568517,
     "end_time": "2021-09-02T09:47:36.572413",
     "exception": false,
     "start_time": "2021-09-02T09:47:36.003896",
     "status": "completed"
    },
    "tags": []
   },
   "outputs": [
    {
     "data": {
      "text/plain": [
       "Text(0.5, 1.0, 'Sentiment Data Distribution')"
      ]
     },
     "execution_count": 6,
     "metadata": {},
     "output_type": "execute_result"
    },
    {
     "data": {
      "image/png": "[encoded data removed]",
      "text/plain": [
       "<Figure size 576x288 with 1 Axes>"
      ]
     },
     "metadata": {
      "needs_background": "light"
     },
     "output_type": "display_data"
    }
   ],
   "source": [
    "val_count = df.sentiment.value_counts()\n",
    "\n",
    "plt.figure(figsize=(8,4))\n",
    "plt.bar(val_count.index, val_count.values)\n",
    "plt.title(\"Sentiment Data Distribution\")"
   ]
  },
  {
   "cell_type": "code",
   "execution_count": 7,
   "id": "e4d9b26e",
   "metadata": {
    "execution": {
     "iopub.execute_input": "2021-09-02T09:47:36.646492Z",
     "iopub.status.busy": "2021-09-02T09:47:36.645743Z",
     "iopub.status.idle": "2021-09-02T09:47:36.800451Z",
     "shell.execute_reply": "2021-09-02T09:47:36.801427Z",
     "shell.execute_reply.started": "2021-09-02T09:13:16.647259Z"
    },
    "papermill": {
     "duration": 0.195914,
     "end_time": "2021-09-02T09:47:36.801628",
     "exception": false,
     "start_time": "2021-09-02T09:47:36.605714",
     "status": "completed"
    },
    "tags": []
   },
   "outputs": [
    {
     "data": {
      "text/html": [
       "<div>\n",
       "<style scoped>\n",
       "    .dataframe tbody tr th:only-of-type {\n",
       "        vertical-align: middle;\n",
       "    }\n",
       "\n",
       "    .dataframe tbody tr th {\n",
       "        vertical-align: top;\n",
       "    }\n",
       "\n",
       "    .dataframe thead th {\n",
       "        text-align: right;\n",
       "    }\n",
       "</style>\n",
       "<table border=\"1\" class=\"dataframe\">\n",
       "  <thead>\n",
       "    <tr style=\"text-align: right;\">\n",
       "      <th></th>\n",
       "      <th>sentiment</th>\n",
       "      <th>text</th>\n",
       "    </tr>\n",
       "  </thead>\n",
       "  <tbody>\n",
       "    <tr>\n",
       "      <th>690231</th>\n",
       "      <td>Negative</td>\n",
       "      <td>my dad's really pissed off about it bcoz i'm s...</td>\n",
       "    </tr>\n",
       "    <tr>\n",
       "      <th>380718</th>\n",
       "      <td>Negative</td>\n",
       "      <td>oh damn. i sprained my ankle in my sleeep?! i ...</td>\n",
       "    </tr>\n",
       "    <tr>\n",
       "      <th>626602</th>\n",
       "      <td>Negative</td>\n",
       "      <td>ewwwwwwww i can't even speak on that right now...</td>\n",
       "    </tr>\n",
       "    <tr>\n",
       "      <th>1083548</th>\n",
       "      <td>Positive</td>\n",
       "      <td>Excited for tomorrow night.</td>\n",
       "    </tr>\n",
       "    <tr>\n",
       "      <th>392743</th>\n",
       "      <td>Negative</td>\n",
       "      <td>I feel like I am in India again. Midnight and ...</td>\n",
       "    </tr>\n",
       "    <tr>\n",
       "      <th>976559</th>\n",
       "      <td>Positive</td>\n",
       "      <td>nite nite twitterworld !!! see you in the morn...</td>\n",
       "    </tr>\n",
       "    <tr>\n",
       "      <th>309576</th>\n",
       "      <td>Negative</td>\n",
       "      <td>new post! very simple outfit today, feeling a ...</td>\n",
       "    </tr>\n",
       "    <tr>\n",
       "      <th>870441</th>\n",
       "      <td>Positive</td>\n",
       "      <td>There's nothing like good jazz on a rainy day</td>\n",
       "    </tr>\n",
       "    <tr>\n",
       "      <th>1332389</th>\n",
       "      <td>Positive</td>\n",
       "      <td>@iPhoneHDR Thanks in advance for the good wall...</td>\n",
       "    </tr>\n",
       "    <tr>\n",
       "      <th>1516239</th>\n",
       "      <td>Positive</td>\n",
       "      <td>@DavidArchie they stop now? hmm.. okay take so...</td>\n",
       "    </tr>\n",
       "  </tbody>\n",
       "</table>\n",
       "</div>"
      ],
      "text/plain": [
       "        sentiment                                               text\n",
       "690231   Negative  my dad's really pissed off about it bcoz i'm s...\n",
       "380718   Negative  oh damn. i sprained my ankle in my sleeep?! i ...\n",
       "626602   Negative  ewwwwwwww i can't even speak on that right now...\n",
       "1083548  Positive                       Excited for tomorrow night. \n",
       "392743   Negative  I feel like I am in India again. Midnight and ...\n",
       "976559   Positive  nite nite twitterworld !!! see you in the morn...\n",
       "309576   Negative  new post! very simple outfit today, feeling a ...\n",
       "870441   Positive     There's nothing like good jazz on a rainy day \n",
       "1332389  Positive  @iPhoneHDR Thanks in advance for the good wall...\n",
       "1516239  Positive  @DavidArchie they stop now? hmm.. okay take so..."
      ]
     },
     "execution_count": 7,
     "metadata": {},
     "output_type": "execute_result"
    }
   ],
   "source": [
    "import random\n",
    "random_idx_list = [random.randint(1,len(df.text)) for i in range(10)] # creates random indexes to choose from dataframe\n",
    "df.loc[random_idx_list,:].head(10) # Returns the rows with the index and display it"
   ]
  },
  {
   "cell_type": "code",
   "execution_count": 8,
   "id": "d4cc61d5",
   "metadata": {
    "execution": {
     "iopub.execute_input": "2021-09-02T09:47:36.882705Z",
     "iopub.status.busy": "2021-09-02T09:47:36.880116Z",
     "iopub.status.idle": "2021-09-02T09:47:36.884173Z",
     "shell.execute_reply": "2021-09-02T09:47:36.883415Z",
     "shell.execute_reply.started": "2021-09-02T09:13:16.773771Z"
    },
    "papermill": {
     "duration": 0.044235,
     "end_time": "2021-09-02T09:47:36.884342",
     "exception": false,
     "start_time": "2021-09-02T09:47:36.840107",
     "status": "completed"
    },
    "tags": []
   },
   "outputs": [],
   "source": [
    "stop_words = stopwords.words('english')\n",
    "stemmer = SnowballStemmer('english')\n",
    "\n",
    "text_cleaning_re = \"@\\S+|https?:\\S+|http?:\\S|[^A-Za-z0-9]+\""
   ]
  },
  {
   "cell_type": "code",
   "execution_count": 9,
   "id": "31659ada",
   "metadata": {
    "execution": {
     "iopub.execute_input": "2021-09-02T09:47:36.965175Z",
     "iopub.status.busy": "2021-09-02T09:47:36.964281Z",
     "iopub.status.idle": "2021-09-02T09:47:36.968001Z",
     "shell.execute_reply": "2021-09-02T09:47:36.968582Z",
     "shell.execute_reply.started": "2021-09-02T09:13:16.782907Z"
    },
    "papermill": {
     "duration": 0.047474,
     "end_time": "2021-09-02T09:47:36.968783",
     "exception": false,
     "start_time": "2021-09-02T09:47:36.921309",
     "status": "completed"
    },
    "tags": []
   },
   "outputs": [],
   "source": [
    "def preprocess(text, stem=False):\n",
    "  text = re.sub(text_cleaning_re, ' ', str(text).lower()).strip()\n",
    "  tokens = []\n",
    "  for token in text.split():\n",
    "    if token not in stop_words:\n",
    "      if stem:\n",
    "        tokens.append(stemmer.stem(token))\n",
    "      else:\n",
    "        tokens.append(token)\n",
    "  return \" \".join(tokens)"
   ]
  },
  {
   "cell_type": "code",
   "execution_count": 10,
   "id": "28948956",
   "metadata": {
    "execution": {
     "iopub.execute_input": "2021-09-02T09:47:37.050593Z",
     "iopub.status.busy": "2021-09-02T09:47:37.049851Z",
     "iopub.status.idle": "2021-09-02T09:48:36.690474Z",
     "shell.execute_reply": "2021-09-02T09:48:36.689936Z",
     "shell.execute_reply.started": "2021-09-02T09:13:16.792642Z"
    },
    "papermill": {
     "duration": 59.687644,
     "end_time": "2021-09-02T09:48:36.690641",
     "exception": false,
     "start_time": "2021-09-02T09:47:37.002997",
     "status": "completed"
    },
    "tags": []
   },
   "outputs": [],
   "source": [
    "df.text = df.text.apply(lambda x: preprocess(x))\n",
    "device = \"cuda:0\""
   ]
  },
  {
   "cell_type": "markdown",
   "id": "718f3d35",
   "metadata": {
    "papermill": {
     "duration": 0.020837,
     "end_time": "2021-09-02T09:48:36.732782",
     "exception": false,
     "start_time": "2021-09-02T09:48:36.711945",
     "status": "completed"
    },
    "tags": []
   },
   "source": [
    "## Train and Test Split"
   ]
  },
  {
   "cell_type": "code",
   "execution_count": 11,
   "id": "9a340b3d",
   "metadata": {
    "execution": {
     "iopub.execute_input": "2021-09-02T09:48:36.778865Z",
     "iopub.status.busy": "2021-09-02T09:48:36.778314Z",
     "iopub.status.idle": "2021-09-02T09:48:36.782213Z",
     "shell.execute_reply": "2021-09-02T09:48:36.781807Z",
     "shell.execute_reply.started": "2021-09-02T09:14:15.306299Z"
    },
    "papermill": {
     "duration": 0.028676,
     "end_time": "2021-09-02T09:48:36.782318",
     "exception": false,
     "start_time": "2021-09-02T09:48:36.753642",
     "status": "completed"
    },
    "tags": []
   },
   "outputs": [],
   "source": [
    "TRAIN_SIZE = 0.8 \n",
    "MAX_NB_WORDS = 100000\n",
    "MAX_SEQUENCE_LENGTH = 30\n",
    "EMBEDDING_DIM = 10\n",
    "LR = 1e-3\n",
    "BATCH_SIZE = 4096\n",
    "EPOCHS = 10"
   ]
  },
  {
   "cell_type": "code",
   "execution_count": 12,
   "id": "01991481",
   "metadata": {
    "execution": {
     "iopub.execute_input": "2021-09-02T09:48:36.829926Z",
     "iopub.status.busy": "2021-09-02T09:48:36.829026Z",
     "iopub.status.idle": "2021-09-02T09:48:37.255197Z",
     "shell.execute_reply": "2021-09-02T09:48:37.254739Z",
     "shell.execute_reply.started": "2021-09-02T09:14:15.313067Z"
    },
    "papermill": {
     "duration": 0.452292,
     "end_time": "2021-09-02T09:48:37.255327",
     "exception": false,
     "start_time": "2021-09-02T09:48:36.803035",
     "status": "completed"
    },
    "tags": []
   },
   "outputs": [
    {
     "name": "stdout",
     "output_type": "stream",
     "text": [
      "Train Data size: 1280000\n",
      "Test Data size 320000\n"
     ]
    }
   ],
   "source": [
    "train_data, test_data = train_test_split(df, test_size=1-TRAIN_SIZE,\n",
    "                                         random_state=7) # Splits Dataset into Training and Testing set\n",
    "print(\"Train Data size:\", len(train_data))\n",
    "print(\"Test Data size\", len(test_data))"
   ]
  },
  {
   "cell_type": "code",
   "execution_count": 13,
   "id": "20d6c160",
   "metadata": {
    "execution": {
     "iopub.execute_input": "2021-09-02T09:48:37.303022Z",
     "iopub.status.busy": "2021-09-02T09:48:37.302365Z",
     "iopub.status.idle": "2021-09-02T09:48:55.492295Z",
     "shell.execute_reply": "2021-09-02T09:48:55.491817Z",
     "shell.execute_reply.started": "2021-09-02T09:14:15.757654Z"
    },
    "papermill": {
     "duration": 18.215289,
     "end_time": "2021-09-02T09:48:55.492413",
     "exception": false,
     "start_time": "2021-09-02T09:48:37.277124",
     "status": "completed"
    },
    "tags": []
   },
   "outputs": [
    {
     "name": "stdout",
     "output_type": "stream",
     "text": [
      "Vocabulary Size : 290575\n"
     ]
    }
   ],
   "source": [
    "from keras.preprocessing.text import Tokenizer\n",
    "\n",
    "tokenizer = Tokenizer()\n",
    "tokenizer.fit_on_texts(train_data.text)\n",
    "\n",
    "word_index = tokenizer.word_index\n",
    "vocab_size = len(tokenizer.word_index) + 1\n",
    "print(\"Vocabulary Size :\", vocab_size)"
   ]
  },
  {
   "cell_type": "code",
   "execution_count": 14,
   "id": "0ba507ec",
   "metadata": {
    "execution": {
     "iopub.execute_input": "2021-09-02T09:48:55.539460Z",
     "iopub.status.busy": "2021-09-02T09:48:55.538761Z",
     "iopub.status.idle": "2021-09-02T09:48:55.783526Z",
     "shell.execute_reply": "2021-09-02T09:48:55.783076Z",
     "shell.execute_reply.started": "2021-09-02T09:14:34.349500Z"
    },
    "papermill": {
     "duration": 0.269752,
     "end_time": "2021-09-02T09:48:55.783705",
     "exception": false,
     "start_time": "2021-09-02T09:48:55.513953",
     "status": "completed"
    },
    "tags": []
   },
   "outputs": [],
   "source": [
    "import os \n",
    "with open('twitter_dictionary.txt', 'w') as file:\n",
    "    for key in word_index.keys():\n",
    "        file.write(key + \" \" + str(word_index[key]) + \",\")"
   ]
  },
  {
   "cell_type": "code",
   "execution_count": 15,
   "id": "5b98f3f4",
   "metadata": {
    "execution": {
     "iopub.execute_input": "2021-09-02T09:48:55.832212Z",
     "iopub.status.busy": "2021-09-02T09:48:55.831438Z",
     "iopub.status.idle": "2021-09-02T09:49:26.371400Z",
     "shell.execute_reply": "2021-09-02T09:49:26.371831Z",
     "shell.execute_reply.started": "2021-09-02T09:14:34.683800Z"
    },
    "papermill": {
     "duration": 30.56672,
     "end_time": "2021-09-02T09:49:26.371981",
     "exception": false,
     "start_time": "2021-09-02T09:48:55.805261",
     "status": "completed"
    },
    "tags": []
   },
   "outputs": [
    {
     "name": "stdout",
     "output_type": "stream",
     "text": [
      "Training X Shape: (1280000, 30)\n",
      "Testing X Shape: (320000, 30)\n",
      "<class 'numpy.ndarray'>\n",
      "<class 'numpy.ndarray'>\n"
     ]
    }
   ],
   "source": [
    "from keras.preprocessing.sequence import pad_sequences\n",
    "\n",
    "x_train = pad_sequences(tokenizer.texts_to_sequences(train_data.text),\n",
    "                        maxlen = MAX_SEQUENCE_LENGTH)\n",
    "x_test = pad_sequences(tokenizer.texts_to_sequences(test_data.text),\n",
    "                       maxlen = MAX_SEQUENCE_LENGTH)\n",
    "\n",
    "print(\"Training X Shape:\",x_train.shape)\n",
    "print(\"Testing X Shape:\",x_test.shape)\n",
    "\n",
    "print(type(x_train))\n",
    "print(type(x_test))"
   ]
  },
  {
   "cell_type": "code",
   "execution_count": 16,
   "id": "3f679fd2",
   "metadata": {
    "execution": {
     "iopub.execute_input": "2021-09-02T09:49:26.422133Z",
     "iopub.status.busy": "2021-09-02T09:49:26.421399Z",
     "iopub.status.idle": "2021-09-02T09:49:26.425180Z",
     "shell.execute_reply": "2021-09-02T09:49:26.424761Z",
     "shell.execute_reply.started": "2021-09-02T09:15:05.735536Z"
    },
    "papermill": {
     "duration": 0.031563,
     "end_time": "2021-09-02T09:49:26.425284",
     "exception": false,
     "start_time": "2021-09-02T09:49:26.393721",
     "status": "completed"
    },
    "tags": []
   },
   "outputs": [
    {
     "data": {
      "text/plain": [
       "array([  0,   0,   0,   0,   0,   0,   0,   0,   0,   0,   0,   0,   0,\n",
       "         0,   0,   0,   0,   0,   0,   0,   0,   0,   0,   0,   0,   0,\n",
       "         0,   0,  34, 110], dtype=int32)"
      ]
     },
     "execution_count": 16,
     "metadata": {},
     "output_type": "execute_result"
    }
   ],
   "source": [
    "x_train[0]"
   ]
  },
  {
   "cell_type": "code",
   "execution_count": 17,
   "id": "1dab8586",
   "metadata": {
    "execution": {
     "iopub.execute_input": "2021-09-02T09:49:26.537314Z",
     "iopub.status.busy": "2021-09-02T09:49:26.536583Z",
     "iopub.status.idle": "2021-09-02T09:49:26.558052Z",
     "shell.execute_reply": "2021-09-02T09:49:26.558452Z",
     "shell.execute_reply.started": "2021-09-02T09:15:05.744678Z"
    },
    "papermill": {
     "duration": 0.111238,
     "end_time": "2021-09-02T09:49:26.558588",
     "exception": false,
     "start_time": "2021-09-02T09:49:26.447350",
     "status": "completed"
    },
    "tags": []
   },
   "outputs": [],
   "source": [
    "labels = train_data.sentiment.unique().tolist()"
   ]
  },
  {
   "cell_type": "code",
   "execution_count": 18,
   "id": "3bbf8f74",
   "metadata": {
    "execution": {
     "iopub.execute_input": "2021-09-02T09:49:26.876124Z",
     "iopub.status.busy": "2021-09-02T09:49:26.875066Z",
     "iopub.status.idle": "2021-09-02T09:49:28.023870Z",
     "shell.execute_reply": "2021-09-02T09:49:28.022988Z",
     "shell.execute_reply.started": "2021-09-02T09:15:05.849012Z"
    },
    "papermill": {
     "duration": 1.443023,
     "end_time": "2021-09-02T09:49:28.024014",
     "exception": false,
     "start_time": "2021-09-02T09:49:26.580991",
     "status": "completed"
    },
    "tags": []
   },
   "outputs": [
    {
     "name": "stdout",
     "output_type": "stream",
     "text": [
      "y_train shape: (1280000, 1)\n",
      "y_test shape: (320000, 1)\n"
     ]
    }
   ],
   "source": [
    "encoder = LabelEncoder()\n",
    "encoder.fit(train_data.sentiment.to_list())\n",
    "\n",
    "y_train = encoder.transform(train_data.sentiment.to_list())\n",
    "y_test = encoder.transform(test_data.sentiment.to_list())\n",
    "\n",
    "y_train = y_train.reshape(-1,1)\n",
    "y_test = y_test.reshape(-1,1)\n",
    "\n",
    "train_data = TensorDataset(torch.from_numpy(x_train), torch.from_numpy(y_train))\n",
    "test_data = TensorDataset(torch.from_numpy(x_test), torch.from_numpy(y_test))\n",
    "\n",
    "train_loader = DataLoader(train_data, shuffle=True, batch_size=BATCH_SIZE, drop_last = True)\n",
    "test_loader = DataLoader(test_data, shuffle=True, batch_size=BATCH_SIZE, drop_last = True)\n",
    "\n",
    "print(\"y_train shape:\", y_train.shape)\n",
    "print(\"y_test shape:\", y_test.shape)"
   ]
  },
  {
   "cell_type": "code",
   "execution_count": 19,
   "id": "c33496c9",
   "metadata": {
    "execution": {
     "iopub.execute_input": "2021-09-02T09:49:28.085776Z",
     "iopub.status.busy": "2021-09-02T09:49:28.084120Z",
     "iopub.status.idle": "2021-09-02T09:49:28.086642Z",
     "shell.execute_reply": "2021-09-02T09:49:28.087056Z",
     "shell.execute_reply.started": "2021-09-02T09:15:07.170510Z"
    },
    "papermill": {
     "duration": 0.039762,
     "end_time": "2021-09-02T09:49:28.087190",
     "exception": false,
     "start_time": "2021-09-02T09:49:28.047428",
     "status": "completed"
    },
    "tags": []
   },
   "outputs": [],
   "source": [
    "class SentimentNet(nn.Module):\n",
    "    def __init__(self, vocab_size, output_size, embedding_dim, hidden_dim, n_layers, drop_prob=0.5):\n",
    "        super(SentimentNet, self).__init__()\n",
    "        self.output_size = output_size\n",
    "        self.n_layers = n_layers\n",
    "        self.hidden_dim = hidden_dim\n",
    "        \n",
    "        \n",
    "        self.embedding = nn.Embedding(vocab_size, embedding_dim)\n",
    "        #self.conv = nn.Conv1d(embedding_dim, 8, kernel_size=5)\n",
    "        self.lstm = nn.LSTM(embedding_dim, hidden_dim, n_layers, dropout=drop_prob, batch_first=True)\n",
    "        #self.gru = nn.GRU(embedding_dim, hidden_dim, n_layers, dropout=drop_prob, batch_first=True)\n",
    "        self.dropout = nn.Dropout(drop_prob)\n",
    "        self.fc = nn.Linear(hidden_dim, output_size)\n",
    "        self.sigmoid = nn.Sigmoid()\n",
    "        \n",
    "    def forward(self, x, hidden):\n",
    "        #print(x.shape)\n",
    "        if len(x) != 1:\n",
    "            batch_size = x.size(0)\n",
    "        else:\n",
    "            batch_size = 1\n",
    "        x = x.long()\n",
    "        embeds = self.embedding(x)\n",
    "\n",
    "        #conv = self.conv(x)\n",
    "        \n",
    "        lstm_out, hidden = self.lstm(embeds, hidden)\n",
    "        lstm_out = lstm_out.contiguous().view(-1, self.hidden_dim)\n",
    "        \n",
    "        out = self.dropout(lstm_out)\n",
    "        out = self.fc(out)\n",
    "        out = self.sigmoid(out)\n",
    "        \n",
    "        out = out.view(batch_size, -1)\n",
    "        out = out[:,-1]\n",
    "        return out, hidden\n",
    "    \n",
    "    def init_hidden(self, batch_size):\n",
    "        weight = next(self.parameters()).data\n",
    "        hidden = (weight.new(self.n_layers, batch_size, self.hidden_dim).zero_().to(device),weight.new(self.n_layers, batch_size, self.hidden_dim).zero_().to(device))\n",
    "        #hidden = (weight.new(self.n_layers, batch_size, self.hidden_dim).zero_(),\n",
    "        #             weight.new(self.n_layers, batch_size, self.hidden_dim).zero_())\n",
    "        return hidden"
   ]
  },
  {
   "cell_type": "code",
   "execution_count": 20,
   "id": "a180969a",
   "metadata": {
    "execution": {
     "iopub.execute_input": "2021-09-02T09:49:28.139314Z",
     "iopub.status.busy": "2021-09-02T09:49:28.138644Z",
     "iopub.status.idle": "2021-09-02T09:49:28.141692Z",
     "shell.execute_reply": "2021-09-02T09:49:28.142060Z",
     "shell.execute_reply.started": "2021-09-02T09:15:07.196534Z"
    },
    "papermill": {
     "duration": 0.031212,
     "end_time": "2021-09-02T09:49:28.142183",
     "exception": false,
     "start_time": "2021-09-02T09:49:28.110971",
     "status": "completed"
    },
    "tags": []
   },
   "outputs": [],
   "source": [
    "def model_params(model):\n",
    "    pp=0\n",
    "    for p in list(model.parameters()):\n",
    "        nn=1\n",
    "        for s in list(p.size()):\n",
    "            nn = nn*s\n",
    "        pp += nn\n",
    "    return pp"
   ]
  },
  {
   "cell_type": "code",
   "execution_count": 21,
   "id": "f07bf6a3",
   "metadata": {
    "execution": {
     "iopub.execute_input": "2021-09-02T09:49:28.195877Z",
     "iopub.status.busy": "2021-09-02T09:49:28.195278Z",
     "iopub.status.idle": "2021-09-02T09:49:34.518334Z",
     "shell.execute_reply": "2021-09-02T09:49:34.517881Z",
     "shell.execute_reply.started": "2021-09-02T09:15:48.005270Z"
    },
    "papermill": {
     "duration": 6.353249,
     "end_time": "2021-09-02T09:49:34.518461",
     "exception": false,
     "start_time": "2021-09-02T09:49:28.165212",
     "status": "completed"
    },
    "tags": []
   },
   "outputs": [
    {
     "name": "stdout",
     "output_type": "stream",
     "text": [
      "2970551\n"
     ]
    }
   ],
   "source": [
    "output_size = 1\n",
    "embedding_dim = 10\n",
    "hidden_dim = 32\n",
    "n_layers = 8\n",
    "\n",
    "model = SentimentNet(vocab_size, output_size, embedding_dim, hidden_dim, n_layers)\n",
    "print(model_params(model))\n",
    "model.to(device)\n",
    "lr=0.008\n",
    "criterion = nn.BCELoss()\n",
    "optimizer = torch.optim.Adam(model.parameters(), lr=lr)"
   ]
  },
  {
   "cell_type": "code",
   "execution_count": 22,
   "id": "bcbd74c2",
   "metadata": {
    "execution": {
     "iopub.execute_input": "2021-09-02T09:49:34.574637Z",
     "iopub.status.busy": "2021-09-02T09:49:34.574112Z",
     "iopub.status.idle": "2021-09-02T09:58:29.466443Z",
     "shell.execute_reply": "2021-09-02T09:58:29.465972Z",
     "shell.execute_reply.started": "2021-09-02T09:15:51.029253Z"
    },
    "papermill": {
     "duration": 534.925049,
     "end_time": "2021-09-02T09:58:29.466577",
     "exception": false,
     "start_time": "2021-09-02T09:49:34.541528",
     "status": "completed"
    },
    "tags": []
   },
   "outputs": [
    {
     "name": "stdout",
     "output_type": "stream",
     "text": [
      "Epoch: 1/10... Step: 100... Loss: 0.624319... Val Loss: 0.601892\n",
      "Validation loss decreased (inf --> 0.601892).  Saving model ...\n",
      "Epoch: 1/10... Step: 200... Loss: 0.506696... Val Loss: 0.497062\n",
      "Validation loss decreased (0.601892 --> 0.497062).  Saving model ...\n",
      "Epoch: 1/10... Step: 300... Loss: 0.498318... Val Loss: 0.482022\n",
      "Validation loss decreased (0.497062 --> 0.482022).  Saving model ...\n",
      "Epoch: 2/10... Step: 400... Loss: 0.470903... Val Loss: 0.470218\n",
      "Validation loss decreased (0.482022 --> 0.470218).  Saving model ...\n",
      "Epoch: 2/10... Step: 500... Loss: 0.467894... Val Loss: 0.467599\n",
      "Validation loss decreased (0.470218 --> 0.467599).  Saving model ...\n",
      "Epoch: 2/10... Step: 600... Loss: 0.470351... Val Loss: 0.463544\n",
      "Validation loss decreased (0.467599 --> 0.463544).  Saving model ...\n",
      "Epoch: 3/10... Step: 700... Loss: 0.436604... Val Loss: 0.468207\n",
      "Epoch: 3/10... Step: 800... Loss: 0.431485... Val Loss: 0.473221\n",
      "Epoch: 3/10... Step: 900... Loss: 0.431168... Val Loss: 0.466632\n",
      "Epoch: 4/10... Step: 1000... Loss: 0.406653... Val Loss: 0.473671\n",
      "Epoch: 4/10... Step: 1100... Loss: 0.419979... Val Loss: 0.466823\n",
      "Epoch: 4/10... Step: 1200... Loss: 0.418216... Val Loss: 0.467568\n",
      "Epoch: 5/10... Step: 1300... Loss: 0.417066... Val Loss: 0.478615\n",
      "Epoch: 5/10... Step: 1400... Loss: 0.389382... Val Loss: 0.479074\n",
      "Epoch: 5/10... Step: 1500... Loss: 0.430652... Val Loss: 0.467717\n",
      "Epoch: 6/10... Step: 1600... Loss: 0.396052... Val Loss: 0.479394\n",
      "Epoch: 6/10... Step: 1700... Loss: 0.384863... Val Loss: 0.485618\n",
      "Epoch: 6/10... Step: 1800... Loss: 0.407897... Val Loss: 0.478214\n",
      "Epoch: 7/10... Step: 1900... Loss: 0.368797... Val Loss: 0.497497\n",
      "Epoch: 7/10... Step: 2000... Loss: 0.392774... Val Loss: 0.492957\n",
      "Epoch: 7/10... Step: 2100... Loss: 0.400565... Val Loss: 0.494349\n",
      "Epoch: 8/10... Step: 2200... Loss: 0.392880... Val Loss: 0.511580\n",
      "Epoch: 8/10... Step: 2300... Loss: 0.372563... Val Loss: 0.510914\n",
      "Epoch: 8/10... Step: 2400... Loss: 0.380212... Val Loss: 0.506098\n",
      "Epoch: 9/10... Step: 2500... Loss: 0.359581... Val Loss: 0.514432\n",
      "Epoch: 9/10... Step: 2600... Loss: 0.365840... Val Loss: 0.514871\n",
      "Epoch: 9/10... Step: 2700... Loss: 0.373989... Val Loss: 0.513623\n",
      "Epoch: 9/10... Step: 2800... Loss: 0.380948... Val Loss: 0.509908\n",
      "Epoch: 10/10... Step: 2900... Loss: 0.338500... Val Loss: 0.538597\n",
      "Epoch: 10/10... Step: 3000... Loss: 0.352727... Val Loss: 0.519425\n",
      "Epoch: 10/10... Step: 3100... Loss: 0.390412... Val Loss: 0.521929\n"
     ]
    }
   ],
   "source": [
    "epochs = 10\n",
    "counter = 0\n",
    "print_every = 100\n",
    "clip = 5\n",
    "valid_loss_min = np.Inf\n",
    "\n",
    "model.train()\n",
    "for i in range(epochs):\n",
    "    h = model.init_hidden(BATCH_SIZE)\n",
    "    \n",
    "    for inputs, labels in train_loader:\n",
    "        counter += 1\n",
    "        h = tuple([e.data for e in h])\n",
    "        inputs, labels = inputs.to(device), labels.to(device)\n",
    "        model.zero_grad()\n",
    "        output, h = model(inputs, h)\n",
    "        loss = criterion(output.unsqueeze(1), labels.float())\n",
    "        loss.backward()\n",
    "        #nn.utils.clip_grad_norm_(model.parameters(), clip)\n",
    "        optimizer.step()\n",
    "        \n",
    "        if counter%print_every == 0:\n",
    "            val_h = model.init_hidden(BATCH_SIZE)\n",
    "            val_losses = []\n",
    "            model.eval()\n",
    "            for inp, lab in test_loader:\n",
    "                val_h = tuple([each.data for each in val_h])\n",
    "                inp, lab = inp.to(device), lab.to(device)\n",
    "                out, val_h = model(inp, val_h)\n",
    "                val_loss = criterion(out.unsqueeze(1), lab.float())\n",
    "                val_losses.append(val_loss.item())\n",
    "                \n",
    "            model.train()\n",
    "            print(\"Epoch: {}/{}...\".format(i+1, epochs),\n",
    "                  \"Step: {}...\".format(counter),\n",
    "                  \"Loss: {:.6f}...\".format(loss.item()),\n",
    "                  \"Val Loss: {:.6f}\".format(np.mean(val_losses)))\n",
    "            if np.mean(val_losses) <= valid_loss_min:\n",
    "                torch.save(model.state_dict(), './state_dict.pt')\n",
    "                print('Validation loss decreased ({:.6f} --> {:.6f}).  Saving model ...'.format(valid_loss_min,np.mean(val_losses)))\n",
    "                valid_loss_min = np.mean(val_losses)"
   ]
  },
  {
   "cell_type": "code",
   "execution_count": 23,
   "id": "ce634a07",
   "metadata": {
    "execution": {
     "iopub.execute_input": "2021-09-02T09:58:29.531371Z",
     "iopub.status.busy": "2021-09-02T09:58:29.530863Z",
     "iopub.status.idle": "2021-09-02T09:58:29.535228Z",
     "shell.execute_reply": "2021-09-02T09:58:29.534640Z",
     "shell.execute_reply.started": "2021-09-02T09:37:05.681543Z"
    },
    "papermill": {
     "duration": 0.037942,
     "end_time": "2021-09-02T09:58:29.535338",
     "exception": false,
     "start_time": "2021-09-02T09:58:29.497396",
     "status": "completed"
    },
    "tags": []
   },
   "outputs": [],
   "source": [
    "h = model.init_hidden(1)"
   ]
  },
  {
   "cell_type": "code",
   "execution_count": 24,
   "id": "e4e507bb",
   "metadata": {
    "execution": {
     "iopub.execute_input": "2021-09-02T09:58:29.601779Z",
     "iopub.status.busy": "2021-09-02T09:58:29.601234Z",
     "iopub.status.idle": "2021-09-02T09:58:29.640795Z",
     "shell.execute_reply": "2021-09-02T09:58:29.641191Z",
     "shell.execute_reply.started": "2021-09-02T09:37:06.656678Z"
    },
    "papermill": {
     "duration": 0.07522,
     "end_time": "2021-09-02T09:58:29.641316",
     "exception": false,
     "start_time": "2021-09-02T09:58:29.566096",
     "status": "completed"
    },
    "tags": []
   },
   "outputs": [
    {
     "name": "stdout",
     "output_type": "stream",
     "text": [
      "tensor([[ 0,  0,  0,  0,  0,  0,  0,  0,  0,  0,  0,  0,  0,  0,  0,  0,  0,  0,\n",
      "          0,  0,  0,  0,  0,  0,  0,  0,  0,  0,  9, 98]], device='cuda:0',\n",
      "       dtype=torch.int32)\n"
     ]
    },
    {
     "data": {
      "text/plain": [
       "tensor([0.9360], device='cuda:0', grad_fn=<SelectBackward>)"
      ]
     },
     "execution_count": 24,
     "metadata": {},
     "output_type": "execute_result"
    }
   ],
   "source": [
    "sentence = \"I love my life\"\n",
    "trial = torch.tensor(pad_sequences(tokenizer.texts_to_sequences([sentence]), maxlen = MAX_SEQUENCE_LENGTH)).to(device)\n",
    "print(trial)\n",
    "\n",
    "model(trial, h)[0]"
   ]
  },
  {
   "cell_type": "code",
   "execution_count": 25,
   "id": "19ce0c34",
   "metadata": {
    "execution": {
     "iopub.execute_input": "2021-09-02T09:58:29.707977Z",
     "iopub.status.busy": "2021-09-02T09:58:29.707400Z",
     "iopub.status.idle": "2021-09-02T09:58:29.862737Z",
     "shell.execute_reply": "2021-09-02T09:58:29.863145Z",
     "shell.execute_reply.started": "2021-09-02T09:38:10.355516Z"
    },
    "papermill": {
     "duration": 0.191196,
     "end_time": "2021-09-02T09:58:29.863310",
     "exception": false,
     "start_time": "2021-09-02T09:58:29.672114",
     "status": "completed"
    },
    "tags": []
   },
   "outputs": [
    {
     "name": "stderr",
     "output_type": "stream",
     "text": [
      "/opt/conda/lib/python3.7/site-packages/ipykernel_launcher.py:19: TracerWarning: Converting a tensor to a Python index might cause the trace to be incorrect. We can't record the data flow of Python values, so this value will be treated as a constant in the future. This means that the trace might not generalize to other inputs!\n",
      "/opt/conda/lib/python3.7/site-packages/torch/onnx/symbolic_opset9.py:1805: UserWarning: Exporting a model to ONNX with a batch_size other than 1, with a variable length with LSTM can cause an error when running the ONNX model with a different batch size. Make sure to save the model with a batch size of 1, or define the initial states (h0/c0) as inputs of the model. \n",
      "  \"or define the initial states (h0/c0) as inputs of the model. \")\n"
     ]
    }
   ],
   "source": [
    "import torch.onnx\n",
    "torch.onnx.export(model,               # model being run\n",
    "                  (trial, (torch.randn(8,1,32).to(device), torch.randn(8,1,32).to(device))),                   # model input (or a tuple for multiple inputs)\n",
    "                  \"lstm-PT.onnx\")"
   ]
  }
 ],
 "metadata": {
  "kernelspec": {
   "display_name": "Python 3",
   "language": "python",
   "name": "python3"
  },
  "language_info": {
   "codemirror_mode": {
    "name": "ipython",
    "version": 3
   },
   "file_extension": ".py",
   "mimetype": "text/x-python",
   "name": "python",
   "nbconvert_exporter": "python",
   "pygments_lexer": "ipython3",
   "version": "3.7.10"
  },
  "papermill": {
   "default_parameters": {},
   "duration": 675.756819,
   "end_time": "2021-09-02T09:58:32.231129",
   "environment_variables": {},
   "exception": null,
   "input_path": "__notebook__.ipynb",
   "output_path": "__notebook__.ipynb",
   "parameters": {},
   "start_time": "2021-09-02T09:47:16.474310",
   "version": "2.3.3"
  }
 },
 "nbformat": 4,
 "nbformat_minor": 5
}
