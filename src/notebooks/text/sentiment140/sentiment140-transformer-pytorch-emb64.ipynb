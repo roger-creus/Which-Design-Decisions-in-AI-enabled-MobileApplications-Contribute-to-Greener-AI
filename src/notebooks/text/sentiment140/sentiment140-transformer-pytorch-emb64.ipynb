{
 "cells": [
  {
   "cell_type": "code",
   "execution_count": 1,
   "id": "3a11668a",
   "metadata": {
    "_cell_guid": "79c7e3d0-c299-4dcb-8224-4455121ee9b0",
    "_uuid": "d629ff2d2480ee46fbb7e2d37f6b5fab8052498a",
    "execution": {
     "iopub.execute_input": "2021-12-09T09:27:21.385597Z",
     "iopub.status.busy": "2021-12-09T09:27:21.384942Z",
     "iopub.status.idle": "2021-12-09T09:27:28.158022Z",
     "shell.execute_reply": "2021-12-09T09:27:28.159054Z",
     "shell.execute_reply.started": "2021-12-08T21:20:29.493378Z"
    },
    "papermill": {
     "duration": 6.809521,
     "end_time": "2021-12-09T09:27:28.159374",
     "exception": false,
     "start_time": "2021-12-09T09:27:21.349853",
     "status": "completed"
    },
    "tags": []
   },
   "outputs": [
    {
     "name": "stdout",
     "output_type": "stream",
     "text": [
      "[nltk_data] Downloading package stopwords to /usr/share/nltk_data...\n",
      "[nltk_data]   Unzipping corpora/stopwords.zip.\n"
     ]
    }
   ],
   "source": [
    "import numpy as np\n",
    "import pandas as pd\n",
    "from torch import nn\n",
    "\n",
    "import matplotlib.pyplot as plt\n",
    "import seaborn as sns\n",
    "\n",
    "import torch.nn.functional as F\n",
    "\n",
    "import re\n",
    "import string\n",
    "from collections import Counter\n",
    "from nltk.corpus import stopwords\n",
    "stop_words = set(stopwords.words('english'))\n",
    "\n",
    "from sklearn.model_selection import train_test_split\n",
    "\n",
    "import torch\n",
    "from torch.utils.data import DataLoader, TensorDataset\n",
    "import torch.nn as nn\n",
    "\n",
    "import pandas as pd\n",
    "import numpy as np\n",
    "import bz2\n",
    "import matplotlib.pyplot as plt\n",
    "import sklearn\n",
    "import tensorflow as tf\n",
    "from tensorflow.keras import models, layers, optimizers\n",
    "from tensorflow.keras.preprocessing.text import Tokenizer, text_to_word_sequence\n",
    "from tensorflow.keras.preprocessing.sequence import pad_sequences\n",
    "from sklearn.preprocessing import LabelEncoder\n",
    "\n",
    "%matplotlib inline\n",
    "\n",
    "import nltk \n",
    "nltk.download('stopwords')\n",
    "from nltk.corpus import stopwords\n",
    "from nltk.stem import SnowballStemmer"
   ]
  },
  {
   "cell_type": "code",
   "execution_count": 2,
   "id": "6f4c3e55",
   "metadata": {
    "execution": {
     "iopub.execute_input": "2021-12-09T09:27:28.198699Z",
     "iopub.status.busy": "2021-12-09T09:27:28.197997Z",
     "iopub.status.idle": "2021-12-09T09:27:28.200600Z",
     "shell.execute_reply": "2021-12-09T09:27:28.201028Z",
     "shell.execute_reply.started": "2021-12-08T21:20:36.834834Z"
    },
    "papermill": {
     "duration": 0.024025,
     "end_time": "2021-12-09T09:27:28.201159",
     "exception": false,
     "start_time": "2021-12-09T09:27:28.177134",
     "status": "completed"
    },
    "tags": []
   },
   "outputs": [],
   "source": [
    "device = \"cuda:0\""
   ]
  },
  {
   "cell_type": "code",
   "execution_count": 3,
   "id": "a91f0912",
   "metadata": {
    "execution": {
     "iopub.execute_input": "2021-12-09T09:27:28.238596Z",
     "iopub.status.busy": "2021-12-09T09:27:28.238054Z",
     "iopub.status.idle": "2021-12-09T09:27:34.291258Z",
     "shell.execute_reply": "2021-12-09T09:27:34.290462Z",
     "shell.execute_reply.started": "2021-12-08T21:20:36.84162Z"
    },
    "papermill": {
     "duration": 6.073399,
     "end_time": "2021-12-09T09:27:34.291386",
     "exception": false,
     "start_time": "2021-12-09T09:27:28.217987",
     "status": "completed"
    },
    "tags": []
   },
   "outputs": [
    {
     "data": {
      "text/html": [
       "<div>\n",
       "<style scoped>\n",
       "    .dataframe tbody tr th:only-of-type {\n",
       "        vertical-align: middle;\n",
       "    }\n",
       "\n",
       "    .dataframe tbody tr th {\n",
       "        vertical-align: top;\n",
       "    }\n",
       "\n",
       "    .dataframe thead th {\n",
       "        text-align: right;\n",
       "    }\n",
       "</style>\n",
       "<table border=\"1\" class=\"dataframe\">\n",
       "  <thead>\n",
       "    <tr style=\"text-align: right;\">\n",
       "      <th></th>\n",
       "      <th>0</th>\n",
       "      <th>1</th>\n",
       "      <th>2</th>\n",
       "      <th>3</th>\n",
       "      <th>4</th>\n",
       "      <th>5</th>\n",
       "    </tr>\n",
       "  </thead>\n",
       "  <tbody>\n",
       "    <tr>\n",
       "      <th>0</th>\n",
       "      <td>0</td>\n",
       "      <td>1467810369</td>\n",
       "      <td>Mon Apr 06 22:19:45 PDT 2009</td>\n",
       "      <td>NO_QUERY</td>\n",
       "      <td>_TheSpecialOne_</td>\n",
       "      <td>@switchfoot http://twitpic.com/2y1zl - Awww, t...</td>\n",
       "    </tr>\n",
       "    <tr>\n",
       "      <th>1</th>\n",
       "      <td>0</td>\n",
       "      <td>1467810672</td>\n",
       "      <td>Mon Apr 06 22:19:49 PDT 2009</td>\n",
       "      <td>NO_QUERY</td>\n",
       "      <td>scotthamilton</td>\n",
       "      <td>is upset that he can't update his Facebook by ...</td>\n",
       "    </tr>\n",
       "    <tr>\n",
       "      <th>2</th>\n",
       "      <td>0</td>\n",
       "      <td>1467810917</td>\n",
       "      <td>Mon Apr 06 22:19:53 PDT 2009</td>\n",
       "      <td>NO_QUERY</td>\n",
       "      <td>mattycus</td>\n",
       "      <td>@Kenichan I dived many times for the ball. Man...</td>\n",
       "    </tr>\n",
       "    <tr>\n",
       "      <th>3</th>\n",
       "      <td>0</td>\n",
       "      <td>1467811184</td>\n",
       "      <td>Mon Apr 06 22:19:57 PDT 2009</td>\n",
       "      <td>NO_QUERY</td>\n",
       "      <td>ElleCTF</td>\n",
       "      <td>my whole body feels itchy and like its on fire</td>\n",
       "    </tr>\n",
       "    <tr>\n",
       "      <th>4</th>\n",
       "      <td>0</td>\n",
       "      <td>1467811193</td>\n",
       "      <td>Mon Apr 06 22:19:57 PDT 2009</td>\n",
       "      <td>NO_QUERY</td>\n",
       "      <td>Karoli</td>\n",
       "      <td>@nationwideclass no, it's not behaving at all....</td>\n",
       "    </tr>\n",
       "  </tbody>\n",
       "</table>\n",
       "</div>"
      ],
      "text/plain": [
       "   0           1                             2         3                4  \\\n",
       "0  0  1467810369  Mon Apr 06 22:19:45 PDT 2009  NO_QUERY  _TheSpecialOne_   \n",
       "1  0  1467810672  Mon Apr 06 22:19:49 PDT 2009  NO_QUERY    scotthamilton   \n",
       "2  0  1467810917  Mon Apr 06 22:19:53 PDT 2009  NO_QUERY         mattycus   \n",
       "3  0  1467811184  Mon Apr 06 22:19:57 PDT 2009  NO_QUERY          ElleCTF   \n",
       "4  0  1467811193  Mon Apr 06 22:19:57 PDT 2009  NO_QUERY           Karoli   \n",
       "\n",
       "                                                   5  \n",
       "0  @switchfoot http://twitpic.com/2y1zl - Awww, t...  \n",
       "1  is upset that he can't update his Facebook by ...  \n",
       "2  @Kenichan I dived many times for the ball. Man...  \n",
       "3    my whole body feels itchy and like its on fire   \n",
       "4  @nationwideclass no, it's not behaving at all....  "
      ]
     },
     "execution_count": 3,
     "metadata": {},
     "output_type": "execute_result"
    }
   ],
   "source": [
    "df = pd.read_csv('../input/sentiment140/training.1600000.processed.noemoticon.csv',\n",
    "                 encoding = 'latin',header=None)\n",
    "df.head()"
   ]
  },
  {
   "cell_type": "code",
   "execution_count": 4,
   "id": "0bd9a9d3",
   "metadata": {
    "execution": {
     "iopub.execute_input": "2021-12-09T09:27:34.342157Z",
     "iopub.status.busy": "2021-12-09T09:27:34.341499Z",
     "iopub.status.idle": "2021-12-09T09:27:34.344939Z",
     "shell.execute_reply": "2021-12-09T09:27:34.345368Z",
     "shell.execute_reply.started": "2021-12-08T21:20:42.779936Z"
    },
    "papermill": {
     "duration": 0.035196,
     "end_time": "2021-12-09T09:27:34.345496",
     "exception": false,
     "start_time": "2021-12-09T09:27:34.310300",
     "status": "completed"
    },
    "tags": []
   },
   "outputs": [
    {
     "data": {
      "text/html": [
       "<div>\n",
       "<style scoped>\n",
       "    .dataframe tbody tr th:only-of-type {\n",
       "        vertical-align: middle;\n",
       "    }\n",
       "\n",
       "    .dataframe tbody tr th {\n",
       "        vertical-align: top;\n",
       "    }\n",
       "\n",
       "    .dataframe thead th {\n",
       "        text-align: right;\n",
       "    }\n",
       "</style>\n",
       "<table border=\"1\" class=\"dataframe\">\n",
       "  <thead>\n",
       "    <tr style=\"text-align: right;\">\n",
       "      <th></th>\n",
       "      <th>sentiment</th>\n",
       "      <th>id</th>\n",
       "      <th>date</th>\n",
       "      <th>query</th>\n",
       "      <th>user_id</th>\n",
       "      <th>text</th>\n",
       "    </tr>\n",
       "  </thead>\n",
       "  <tbody>\n",
       "    <tr>\n",
       "      <th>0</th>\n",
       "      <td>0</td>\n",
       "      <td>1467810369</td>\n",
       "      <td>Mon Apr 06 22:19:45 PDT 2009</td>\n",
       "      <td>NO_QUERY</td>\n",
       "      <td>_TheSpecialOne_</td>\n",
       "      <td>@switchfoot http://twitpic.com/2y1zl - Awww, t...</td>\n",
       "    </tr>\n",
       "    <tr>\n",
       "      <th>1</th>\n",
       "      <td>0</td>\n",
       "      <td>1467810672</td>\n",
       "      <td>Mon Apr 06 22:19:49 PDT 2009</td>\n",
       "      <td>NO_QUERY</td>\n",
       "      <td>scotthamilton</td>\n",
       "      <td>is upset that he can't update his Facebook by ...</td>\n",
       "    </tr>\n",
       "    <tr>\n",
       "      <th>2</th>\n",
       "      <td>0</td>\n",
       "      <td>1467810917</td>\n",
       "      <td>Mon Apr 06 22:19:53 PDT 2009</td>\n",
       "      <td>NO_QUERY</td>\n",
       "      <td>mattycus</td>\n",
       "      <td>@Kenichan I dived many times for the ball. Man...</td>\n",
       "    </tr>\n",
       "    <tr>\n",
       "      <th>3</th>\n",
       "      <td>0</td>\n",
       "      <td>1467811184</td>\n",
       "      <td>Mon Apr 06 22:19:57 PDT 2009</td>\n",
       "      <td>NO_QUERY</td>\n",
       "      <td>ElleCTF</td>\n",
       "      <td>my whole body feels itchy and like its on fire</td>\n",
       "    </tr>\n",
       "    <tr>\n",
       "      <th>4</th>\n",
       "      <td>0</td>\n",
       "      <td>1467811193</td>\n",
       "      <td>Mon Apr 06 22:19:57 PDT 2009</td>\n",
       "      <td>NO_QUERY</td>\n",
       "      <td>Karoli</td>\n",
       "      <td>@nationwideclass no, it's not behaving at all....</td>\n",
       "    </tr>\n",
       "  </tbody>\n",
       "</table>\n",
       "</div>"
      ],
      "text/plain": [
       "   sentiment          id                          date     query  \\\n",
       "0          0  1467810369  Mon Apr 06 22:19:45 PDT 2009  NO_QUERY   \n",
       "1          0  1467810672  Mon Apr 06 22:19:49 PDT 2009  NO_QUERY   \n",
       "2          0  1467810917  Mon Apr 06 22:19:53 PDT 2009  NO_QUERY   \n",
       "3          0  1467811184  Mon Apr 06 22:19:57 PDT 2009  NO_QUERY   \n",
       "4          0  1467811193  Mon Apr 06 22:19:57 PDT 2009  NO_QUERY   \n",
       "\n",
       "           user_id                                               text  \n",
       "0  _TheSpecialOne_  @switchfoot http://twitpic.com/2y1zl - Awww, t...  \n",
       "1    scotthamilton  is upset that he can't update his Facebook by ...  \n",
       "2         mattycus  @Kenichan I dived many times for the ball. Man...  \n",
       "3          ElleCTF    my whole body feels itchy and like its on fire   \n",
       "4           Karoli  @nationwideclass no, it's not behaving at all....  "
      ]
     },
     "execution_count": 4,
     "metadata": {},
     "output_type": "execute_result"
    }
   ],
   "source": [
    "df.columns = ['sentiment', 'id', 'date', 'query', 'user_id', 'text']\n",
    "df.head()"
   ]
  },
  {
   "cell_type": "code",
   "execution_count": 5,
   "id": "5786c303",
   "metadata": {
    "execution": {
     "iopub.execute_input": "2021-12-09T09:27:34.420463Z",
     "iopub.status.busy": "2021-12-09T09:27:34.398751Z",
     "iopub.status.idle": "2021-12-09T09:27:34.422747Z",
     "shell.execute_reply": "2021-12-09T09:27:34.423161Z",
     "shell.execute_reply.started": "2021-12-08T21:20:42.797882Z"
    },
    "papermill": {
     "duration": 0.058904,
     "end_time": "2021-12-09T09:27:34.423360",
     "exception": false,
     "start_time": "2021-12-09T09:27:34.364456",
     "status": "completed"
    },
    "tags": []
   },
   "outputs": [],
   "source": [
    "df = df.drop(['id', 'date', 'query', 'user_id'], axis=1)"
   ]
  },
  {
   "cell_type": "code",
   "execution_count": 6,
   "id": "b9b5525e",
   "metadata": {
    "execution": {
     "iopub.execute_input": "2021-12-09T09:27:34.497148Z",
     "iopub.status.busy": "2021-12-09T09:27:34.496333Z",
     "iopub.status.idle": "2021-12-09T09:27:34.948525Z",
     "shell.execute_reply": "2021-12-09T09:27:34.948970Z",
     "shell.execute_reply.started": "2021-12-08T21:20:42.837857Z"
    },
    "papermill": {
     "duration": 0.506396,
     "end_time": "2021-12-09T09:27:34.949119",
     "exception": false,
     "start_time": "2021-12-09T09:27:34.442723",
     "status": "completed"
    },
    "tags": []
   },
   "outputs": [
    {
     "data": {
      "text/html": [
       "<div>\n",
       "<style scoped>\n",
       "    .dataframe tbody tr th:only-of-type {\n",
       "        vertical-align: middle;\n",
       "    }\n",
       "\n",
       "    .dataframe tbody tr th {\n",
       "        vertical-align: top;\n",
       "    }\n",
       "\n",
       "    .dataframe thead th {\n",
       "        text-align: right;\n",
       "    }\n",
       "</style>\n",
       "<table border=\"1\" class=\"dataframe\">\n",
       "  <thead>\n",
       "    <tr style=\"text-align: right;\">\n",
       "      <th></th>\n",
       "      <th>sentiment</th>\n",
       "      <th>text</th>\n",
       "    </tr>\n",
       "  </thead>\n",
       "  <tbody>\n",
       "    <tr>\n",
       "      <th>0</th>\n",
       "      <td>Negative</td>\n",
       "      <td>@switchfoot http://twitpic.com/2y1zl - Awww, t...</td>\n",
       "    </tr>\n",
       "    <tr>\n",
       "      <th>1</th>\n",
       "      <td>Negative</td>\n",
       "      <td>is upset that he can't update his Facebook by ...</td>\n",
       "    </tr>\n",
       "    <tr>\n",
       "      <th>2</th>\n",
       "      <td>Negative</td>\n",
       "      <td>@Kenichan I dived many times for the ball. Man...</td>\n",
       "    </tr>\n",
       "    <tr>\n",
       "      <th>3</th>\n",
       "      <td>Negative</td>\n",
       "      <td>my whole body feels itchy and like its on fire</td>\n",
       "    </tr>\n",
       "    <tr>\n",
       "      <th>4</th>\n",
       "      <td>Negative</td>\n",
       "      <td>@nationwideclass no, it's not behaving at all....</td>\n",
       "    </tr>\n",
       "  </tbody>\n",
       "</table>\n",
       "</div>"
      ],
      "text/plain": [
       "  sentiment                                               text\n",
       "0  Negative  @switchfoot http://twitpic.com/2y1zl - Awww, t...\n",
       "1  Negative  is upset that he can't update his Facebook by ...\n",
       "2  Negative  @Kenichan I dived many times for the ball. Man...\n",
       "3  Negative    my whole body feels itchy and like its on fire \n",
       "4  Negative  @nationwideclass no, it's not behaving at all...."
      ]
     },
     "execution_count": 6,
     "metadata": {},
     "output_type": "execute_result"
    }
   ],
   "source": [
    "lab_to_sentiment = {0:\"Negative\", 4:\"Positive\"}\n",
    "def label_decoder(label):\n",
    "  return lab_to_sentiment[label]\n",
    "df.sentiment = df.sentiment.apply(lambda x: label_decoder(x))\n",
    "df.head()"
   ]
  },
  {
   "cell_type": "code",
   "execution_count": 7,
   "id": "a95676a9",
   "metadata": {
    "execution": {
     "iopub.execute_input": "2021-12-09T09:27:35.295005Z",
     "iopub.status.busy": "2021-12-09T09:27:35.156952Z",
     "iopub.status.idle": "2021-12-09T09:27:35.517475Z",
     "shell.execute_reply": "2021-12-09T09:27:35.518671Z",
     "shell.execute_reply.started": "2021-12-08T21:20:43.355646Z"
    },
    "papermill": {
     "duration": 0.55127,
     "end_time": "2021-12-09T09:27:35.518878",
     "exception": false,
     "start_time": "2021-12-09T09:27:34.967608",
     "status": "completed"
    },
    "tags": []
   },
   "outputs": [
    {
     "data": {
      "text/plain": [
       "Text(0.5, 1.0, 'Sentiment Data Distribution')"
      ]
     },
     "execution_count": 7,
     "metadata": {},
     "output_type": "execute_result"
    },
    {
     "data": {
      "image/png": "[encoded data removed]",
      "text/plain": [
       "<Figure size 576x288 with 1 Axes>"
      ]
     },
     "metadata": {
      "needs_background": "light"
     },
     "output_type": "display_data"
    }
   ],
   "source": [
    "val_count = df.sentiment.value_counts()\n",
    "\n",
    "plt.figure(figsize=(8,4))\n",
    "plt.bar(val_count.index, val_count.values)\n",
    "plt.title(\"Sentiment Data Distribution\")"
   ]
  },
  {
   "cell_type": "code",
   "execution_count": 8,
   "id": "9ca2490f",
   "metadata": {
    "execution": {
     "iopub.execute_input": "2021-12-09T09:27:35.597860Z",
     "iopub.status.busy": "2021-12-09T09:27:35.597109Z",
     "iopub.status.idle": "2021-12-09T09:27:35.751838Z",
     "shell.execute_reply": "2021-12-09T09:27:35.752817Z",
     "shell.execute_reply.started": "2021-12-08T21:20:43.800168Z"
    },
    "papermill": {
     "duration": 0.198959,
     "end_time": "2021-12-09T09:27:35.753016",
     "exception": false,
     "start_time": "2021-12-09T09:27:35.554057",
     "status": "completed"
    },
    "tags": []
   },
   "outputs": [
    {
     "data": {
      "text/html": [
       "<div>\n",
       "<style scoped>\n",
       "    .dataframe tbody tr th:only-of-type {\n",
       "        vertical-align: middle;\n",
       "    }\n",
       "\n",
       "    .dataframe tbody tr th {\n",
       "        vertical-align: top;\n",
       "    }\n",
       "\n",
       "    .dataframe thead th {\n",
       "        text-align: right;\n",
       "    }\n",
       "</style>\n",
       "<table border=\"1\" class=\"dataframe\">\n",
       "  <thead>\n",
       "    <tr style=\"text-align: right;\">\n",
       "      <th></th>\n",
       "      <th>sentiment</th>\n",
       "      <th>text</th>\n",
       "    </tr>\n",
       "  </thead>\n",
       "  <tbody>\n",
       "    <tr>\n",
       "      <th>211143</th>\n",
       "      <td>Negative</td>\n",
       "      <td>My truck is near death.</td>\n",
       "    </tr>\n",
       "    <tr>\n",
       "      <th>434555</th>\n",
       "      <td>Negative</td>\n",
       "      <td>@ajafair  A friend called me, all &amp;quot;OMG, w...</td>\n",
       "    </tr>\n",
       "    <tr>\n",
       "      <th>383848</th>\n",
       "      <td>Negative</td>\n",
       "      <td>is feeling a little wobbly..why oh why do we d...</td>\n",
       "    </tr>\n",
       "    <tr>\n",
       "      <th>1470196</th>\n",
       "      <td>Positive</td>\n",
       "      <td>purple_nerds: Music  http://cli.gs/BMSPsP</td>\n",
       "    </tr>\n",
       "    <tr>\n",
       "      <th>417980</th>\n",
       "      <td>Negative</td>\n",
       "      <td>Put my family on the plane for home today....n...</td>\n",
       "    </tr>\n",
       "    <tr>\n",
       "      <th>1474049</th>\n",
       "      <td>Positive</td>\n",
       "      <td>i have just got aceped in to harvford uni im s...</td>\n",
       "    </tr>\n",
       "    <tr>\n",
       "      <th>792477</th>\n",
       "      <td>Negative</td>\n",
       "      <td>@shanedawson your new channel design (and ever...</td>\n",
       "    </tr>\n",
       "    <tr>\n",
       "      <th>465685</th>\n",
       "      <td>Negative</td>\n",
       "      <td>im going to vacation in about  2 weeks and i h...</td>\n",
       "    </tr>\n",
       "    <tr>\n",
       "      <th>363320</th>\n",
       "      <td>Negative</td>\n",
       "      <td>oh my God. 1234 by the plain white t's just ca...</td>\n",
       "    </tr>\n",
       "    <tr>\n",
       "      <th>630673</th>\n",
       "      <td>Negative</td>\n",
       "      <td>Elijah is playing noggin games on the computer...</td>\n",
       "    </tr>\n",
       "  </tbody>\n",
       "</table>\n",
       "</div>"
      ],
      "text/plain": [
       "        sentiment                                               text\n",
       "211143   Negative                          My truck is near death.  \n",
       "434555   Negative  @ajafair  A friend called me, all &quot;OMG, w...\n",
       "383848   Negative  is feeling a little wobbly..why oh why do we d...\n",
       "1470196  Positive          purple_nerds: Music  http://cli.gs/BMSPsP\n",
       "417980   Negative  Put my family on the plane for home today....n...\n",
       "1474049  Positive  i have just got aceped in to harvford uni im s...\n",
       "792477   Negative  @shanedawson your new channel design (and ever...\n",
       "465685   Negative  im going to vacation in about  2 weeks and i h...\n",
       "363320   Negative  oh my God. 1234 by the plain white t's just ca...\n",
       "630673   Negative  Elijah is playing noggin games on the computer..."
      ]
     },
     "execution_count": 8,
     "metadata": {},
     "output_type": "execute_result"
    }
   ],
   "source": [
    "import random\n",
    "random_idx_list = [random.randint(1,len(df.text)) for i in range(10)] # creates random indexes to choose from dataframe\n",
    "df.loc[random_idx_list,:].head(10) # Returns the rows with the index and display it"
   ]
  },
  {
   "cell_type": "code",
   "execution_count": 9,
   "id": "76e572a9",
   "metadata": {
    "execution": {
     "iopub.execute_input": "2021-12-09T09:27:35.829547Z",
     "iopub.status.busy": "2021-12-09T09:27:35.826772Z",
     "iopub.status.idle": "2021-12-09T09:27:35.831013Z",
     "shell.execute_reply": "2021-12-09T09:27:35.830353Z",
     "shell.execute_reply.started": "2021-12-08T21:20:43.933435Z"
    },
    "papermill": {
     "duration": 0.04404,
     "end_time": "2021-12-09T09:27:35.831163",
     "exception": false,
     "start_time": "2021-12-09T09:27:35.787123",
     "status": "completed"
    },
    "tags": []
   },
   "outputs": [],
   "source": [
    "stop_words = stopwords.words('english')\n",
    "stemmer = SnowballStemmer('english')\n",
    "\n",
    "text_cleaning_re = \"@\\S+|https?:\\S+|http?:\\S|[^A-Za-z0-9]+\""
   ]
  },
  {
   "cell_type": "code",
   "execution_count": 10,
   "id": "c6a42dc5",
   "metadata": {
    "execution": {
     "iopub.execute_input": "2021-12-09T09:27:35.883898Z",
     "iopub.status.busy": "2021-12-09T09:27:35.882567Z",
     "iopub.status.idle": "2021-12-09T09:27:35.885511Z",
     "shell.execute_reply": "2021-12-09T09:27:35.885111Z",
     "shell.execute_reply.started": "2021-12-08T21:20:43.94009Z"
    },
    "papermill": {
     "duration": 0.027432,
     "end_time": "2021-12-09T09:27:35.885615",
     "exception": false,
     "start_time": "2021-12-09T09:27:35.858183",
     "status": "completed"
    },
    "tags": []
   },
   "outputs": [],
   "source": [
    "def preprocess(text, stem=False):\n",
    "  text = re.sub(text_cleaning_re, ' ', str(text).lower()).strip()\n",
    "  tokens = []\n",
    "  for token in text.split():\n",
    "    if token not in stop_words:\n",
    "      if stem:\n",
    "        tokens.append(stemmer.stem(token))\n",
    "      else:\n",
    "        tokens.append(token)\n",
    "  return \" \".join(tokens)"
   ]
  },
  {
   "cell_type": "code",
   "execution_count": 11,
   "id": "c64d6816",
   "metadata": {
    "execution": {
     "iopub.execute_input": "2021-12-09T09:27:35.929409Z",
     "iopub.status.busy": "2021-12-09T09:27:35.928366Z",
     "iopub.status.idle": "2021-12-09T09:28:34.937815Z",
     "shell.execute_reply": "2021-12-09T09:28:34.937165Z",
     "shell.execute_reply.started": "2021-12-08T21:20:43.950341Z"
    },
    "papermill": {
     "duration": 59.032712,
     "end_time": "2021-12-09T09:28:34.937959",
     "exception": false,
     "start_time": "2021-12-09T09:27:35.905247",
     "status": "completed"
    },
    "tags": []
   },
   "outputs": [],
   "source": [
    "df.text = df.text.apply(lambda x: preprocess(x))"
   ]
  },
  {
   "cell_type": "markdown",
   "id": "f77cd65e",
   "metadata": {
    "papermill": {
     "duration": 0.018837,
     "end_time": "2021-12-09T09:28:34.976264",
     "exception": false,
     "start_time": "2021-12-09T09:28:34.957427",
     "status": "completed"
    },
    "tags": []
   },
   "source": [
    "## Train and Test Split"
   ]
  },
  {
   "cell_type": "code",
   "execution_count": 12,
   "id": "df418f67",
   "metadata": {
    "execution": {
     "iopub.execute_input": "2021-12-09T09:28:35.018396Z",
     "iopub.status.busy": "2021-12-09T09:28:35.017628Z",
     "iopub.status.idle": "2021-12-09T09:28:35.020463Z",
     "shell.execute_reply": "2021-12-09T09:28:35.020065Z",
     "shell.execute_reply.started": "2021-12-08T21:21:43.004301Z"
    },
    "papermill": {
     "duration": 0.025524,
     "end_time": "2021-12-09T09:28:35.020567",
     "exception": false,
     "start_time": "2021-12-09T09:28:34.995043",
     "status": "completed"
    },
    "tags": []
   },
   "outputs": [],
   "source": [
    "TRAIN_SIZE = 0.8 \n",
    "MAX_NB_WORDS = 100000\n",
    "MAX_SEQUENCE_LENGTH = 30\n",
    "EMBEDDING_DIM = 10\n",
    "LR = 1e-3\n",
    "BATCH_SIZE = 50\n",
    "EPOCHS = 10"
   ]
  },
  {
   "cell_type": "code",
   "execution_count": 13,
   "id": "a44096e6",
   "metadata": {
    "execution": {
     "iopub.execute_input": "2021-12-09T09:28:35.063330Z",
     "iopub.status.busy": "2021-12-09T09:28:35.062528Z",
     "iopub.status.idle": "2021-12-09T09:28:35.476218Z",
     "shell.execute_reply": "2021-12-09T09:28:35.476872Z",
     "shell.execute_reply.started": "2021-12-08T21:21:43.010795Z"
    },
    "papermill": {
     "duration": 0.437611,
     "end_time": "2021-12-09T09:28:35.477073",
     "exception": false,
     "start_time": "2021-12-09T09:28:35.039462",
     "status": "completed"
    },
    "tags": []
   },
   "outputs": [
    {
     "name": "stdout",
     "output_type": "stream",
     "text": [
      "Train Data size: 1280000\n",
      "Test Data size 320000\n"
     ]
    }
   ],
   "source": [
    "train_data, test_data = train_test_split(df, test_size=1-TRAIN_SIZE,\n",
    "                                         random_state=7) # Splits Dataset into Training and Testing set\n",
    "print(\"Train Data size:\", len(train_data))\n",
    "print(\"Test Data size\", len(test_data))"
   ]
  },
  {
   "cell_type": "code",
   "execution_count": 14,
   "id": "a215f206",
   "metadata": {
    "execution": {
     "iopub.execute_input": "2021-12-09T09:28:35.528828Z",
     "iopub.status.busy": "2021-12-09T09:28:35.528106Z",
     "iopub.status.idle": "2021-12-09T09:28:52.950788Z",
     "shell.execute_reply": "2021-12-09T09:28:52.950001Z",
     "shell.execute_reply.started": "2021-12-08T21:21:43.451906Z"
    },
    "papermill": {
     "duration": 17.448645,
     "end_time": "2021-12-09T09:28:52.950924",
     "exception": false,
     "start_time": "2021-12-09T09:28:35.502279",
     "status": "completed"
    },
    "tags": []
   },
   "outputs": [
    {
     "name": "stdout",
     "output_type": "stream",
     "text": [
      "Vocabulary Size : 290575\n"
     ]
    }
   ],
   "source": [
    "from keras.preprocessing.text import Tokenizer\n",
    "\n",
    "tokenizer = Tokenizer()\n",
    "tokenizer.fit_on_texts(train_data.text)\n",
    "\n",
    "word_index = tokenizer.word_index\n",
    "vocab_size = len(tokenizer.word_index) + 1\n",
    "print(\"Vocabulary Size :\", vocab_size)"
   ]
  },
  {
   "cell_type": "code",
   "execution_count": 15,
   "id": "29cbeba8",
   "metadata": {
    "execution": {
     "iopub.execute_input": "2021-12-09T09:28:52.996171Z",
     "iopub.status.busy": "2021-12-09T09:28:52.995620Z",
     "iopub.status.idle": "2021-12-09T09:29:22.878122Z",
     "shell.execute_reply": "2021-12-09T09:29:22.877638Z",
     "shell.execute_reply.started": "2021-12-08T21:22:01.329561Z"
    },
    "papermill": {
     "duration": 29.906941,
     "end_time": "2021-12-09T09:29:22.878255",
     "exception": false,
     "start_time": "2021-12-09T09:28:52.971314",
     "status": "completed"
    },
    "tags": []
   },
   "outputs": [
    {
     "name": "stdout",
     "output_type": "stream",
     "text": [
      "Training X Shape: (1280000, 30)\n",
      "Testing X Shape: (320000, 30)\n",
      "<class 'numpy.ndarray'>\n",
      "<class 'numpy.ndarray'>\n"
     ]
    }
   ],
   "source": [
    "from keras.preprocessing.sequence import pad_sequences\n",
    "\n",
    "x_train = pad_sequences(tokenizer.texts_to_sequences(train_data.text),\n",
    "                        maxlen = MAX_SEQUENCE_LENGTH)\n",
    "x_test = pad_sequences(tokenizer.texts_to_sequences(test_data.text),\n",
    "                       maxlen = MAX_SEQUENCE_LENGTH)\n",
    "\n",
    "print(\"Training X Shape:\",x_train.shape)\n",
    "print(\"Testing X Shape:\",x_test.shape)\n",
    "\n",
    "print(type(x_train))\n",
    "print(type(x_test))"
   ]
  },
  {
   "cell_type": "code",
   "execution_count": 16,
   "id": "1f2f448b",
   "metadata": {
    "execution": {
     "iopub.execute_input": "2021-12-09T09:29:22.984231Z",
     "iopub.status.busy": "2021-12-09T09:29:22.983506Z",
     "iopub.status.idle": "2021-12-09T09:29:23.005206Z",
     "shell.execute_reply": "2021-12-09T09:29:23.005709Z",
     "shell.execute_reply.started": "2021-12-08T21:22:32.218368Z"
    },
    "papermill": {
     "duration": 0.107595,
     "end_time": "2021-12-09T09:29:23.005836",
     "exception": false,
     "start_time": "2021-12-09T09:29:22.898241",
     "status": "completed"
    },
    "tags": []
   },
   "outputs": [],
   "source": [
    "labels = train_data.sentiment.unique().tolist()"
   ]
  },
  {
   "cell_type": "code",
   "execution_count": 17,
   "id": "fd348a80",
   "metadata": {
    "execution": {
     "iopub.execute_input": "2021-12-09T09:29:23.315975Z",
     "iopub.status.busy": "2021-12-09T09:29:23.210970Z",
     "iopub.status.idle": "2021-12-09T09:29:24.219492Z",
     "shell.execute_reply": "2021-12-09T09:29:24.219047Z",
     "shell.execute_reply.started": "2021-12-08T21:22:32.314085Z"
    },
    "papermill": {
     "duration": 1.192215,
     "end_time": "2021-12-09T09:29:24.219616",
     "exception": false,
     "start_time": "2021-12-09T09:29:23.027401",
     "status": "completed"
    },
    "tags": []
   },
   "outputs": [
    {
     "name": "stdout",
     "output_type": "stream",
     "text": [
      "y_train shape: (1280000, 1)\n",
      "y_test shape: (320000, 1)\n"
     ]
    }
   ],
   "source": [
    "encoder = LabelEncoder()\n",
    "encoder.fit(train_data.sentiment.to_list())\n",
    "\n",
    "y_train = encoder.transform(train_data.sentiment.to_list())\n",
    "y_test = encoder.transform(test_data.sentiment.to_list())\n",
    "\n",
    "y_train = y_train.reshape(-1,1)\n",
    "y_test = y_test.reshape(-1,1)\n",
    "\n",
    "train_data = TensorDataset(torch.from_numpy(x_train), torch.from_numpy(y_train))\n",
    "test_data = TensorDataset(torch.from_numpy(x_test), torch.from_numpy(y_test))\n",
    "\n",
    "train_loader = DataLoader(train_data, shuffle=True, batch_size=BATCH_SIZE, drop_last = True)\n",
    "test_loader = DataLoader(test_data, shuffle=True, batch_size=BATCH_SIZE, drop_last = True)\n",
    "\n",
    "print(\"y_train shape:\", y_train.shape)\n",
    "print(\"y_test shape:\", y_test.shape)"
   ]
  },
  {
   "cell_type": "code",
   "execution_count": 18,
   "id": "23537345",
   "metadata": {
    "execution": {
     "iopub.execute_input": "2021-12-09T09:29:24.272989Z",
     "iopub.status.busy": "2021-12-09T09:29:24.272162Z",
     "iopub.status.idle": "2021-12-09T09:29:24.277827Z",
     "shell.execute_reply": "2021-12-09T09:29:24.277328Z",
     "shell.execute_reply.started": "2021-12-08T21:22:33.529097Z"
    },
    "papermill": {
     "duration": 0.03796,
     "end_time": "2021-12-09T09:29:24.277930",
     "exception": false,
     "start_time": "2021-12-09T09:29:24.239970",
     "status": "completed"
    },
    "tags": []
   },
   "outputs": [],
   "source": [
    "class PositionalEncoding(nn.Module):\n",
    "\n",
    "    def __init__(self, d_model, dropout=0.1, max_len=5000):\n",
    "        super(PositionalEncoding, self).__init__()\n",
    "        self.dropout = nn.Dropout(p=dropout)\n",
    "\n",
    "        pe = torch.zeros(max_len, d_model)\n",
    "        position = torch.arange(0, max_len, dtype=torch.float).unsqueeze(1)\n",
    "        div_term = torch.exp(torch.arange(0, d_model, 2).float() * (-math.log(10000.0) / d_model))\n",
    "        pe[:, 0::2] = torch.sin(position * div_term)\n",
    "        pe[:, 1::2] = torch.cos(position * div_term)\n",
    "        pe = pe.unsqueeze(0).transpose(0, 1)\n",
    "        self.register_buffer('pe', pe)\n",
    "\n",
    "    def forward(self, x):\n",
    "        x = x + self.pe[:x.size(0), :]\n",
    "        return self.dropout(x)\n",
    "    \n",
    "class SentimentNet(nn.Module):\n",
    "    def __init__(self, vocab_size, output_size, embedding_dim, hidden_dim, n_layers, drop_prob=0.2):\n",
    "        super(SentimentNet, self).__init__()\n",
    "        self.output_size = output_size\n",
    "        self.n_layers = n_layers\n",
    "        self.hidden_dim = hidden_dim\n",
    "        self.dropout = nn.Dropout(drop_prob)\n",
    "        self.embedding_dim = embedding_dim\n",
    "        self.sigmoid = nn.Sigmoid()\n",
    "        \n",
    "        \n",
    "        self.encoder = nn.Embedding(vocab_size, embedding_dim)\n",
    "        self.pos_encoder = PositionalEncoding(embedding_dim, drop_prob)\n",
    "        encoder_layer = nn.TransformerEncoderLayer(embedding_dim, 2, hidden_dim)\n",
    "        self.transformer_encoder = nn.TransformerEncoder(encoder_layer, num_layers=n_layers)\n",
    "        \n",
    "\n",
    "        self.fc = nn.Linear(embedding_dim * 30 , 1)\n",
    "\n",
    "    \n",
    "    def forward(self, src):\n",
    "        src = self.encoder(src) * math.sqrt(self.embedding_dim)\n",
    "        src = self.pos_encoder(src)\n",
    "        output = self.transformer_encoder(src)\n",
    "        output = output.view(output.size(0), -1)\n",
    "        output = self.sigmoid(self.fc(output))\n",
    "        return output"
   ]
  },
  {
   "cell_type": "code",
   "execution_count": 19,
   "id": "8a675663",
   "metadata": {
    "execution": {
     "iopub.execute_input": "2021-12-09T09:29:24.322393Z",
     "iopub.status.busy": "2021-12-09T09:29:24.321609Z",
     "iopub.status.idle": "2021-12-09T09:29:24.323863Z",
     "shell.execute_reply": "2021-12-09T09:29:24.324247Z",
     "shell.execute_reply.started": "2021-12-08T21:22:33.544023Z"
    },
    "papermill": {
     "duration": 0.026413,
     "end_time": "2021-12-09T09:29:24.324364",
     "exception": false,
     "start_time": "2021-12-09T09:29:24.297951",
     "status": "completed"
    },
    "tags": []
   },
   "outputs": [],
   "source": [
    "def model_params(model):\n",
    "    pp=0\n",
    "    for p in list(model.parameters()):\n",
    "        nn=1\n",
    "        for s in list(p.size()):\n",
    "            nn = nn*s\n",
    "        pp += nn\n",
    "    return pp"
   ]
  },
  {
   "cell_type": "code",
   "execution_count": 20,
   "id": "d5203340",
   "metadata": {
    "execution": {
     "iopub.execute_input": "2021-12-09T09:29:24.372487Z",
     "iopub.status.busy": "2021-12-09T09:29:24.371961Z",
     "iopub.status.idle": "2021-12-09T09:29:30.347986Z",
     "shell.execute_reply": "2021-12-09T09:29:30.347524Z",
     "shell.execute_reply.started": "2021-12-08T21:22:33.557558Z"
    },
    "papermill": {
     "duration": 6.003578,
     "end_time": "2021-12-09T09:29:30.348114",
     "exception": false,
     "start_time": "2021-12-09T09:29:24.344536",
     "status": "completed"
    },
    "tags": []
   },
   "outputs": [
    {
     "name": "stdout",
     "output_type": "stream",
     "text": [
      "18616197\n"
     ]
    }
   ],
   "source": [
    "import math\n",
    "\n",
    "output_size = 1\n",
    "embedding_dim = 64\n",
    "hidden_dim = 4\n",
    "n_layers = 1\n",
    "\n",
    "model = SentimentNet(vocab_size, output_size, embedding_dim, hidden_dim, n_layers)\n",
    "model.to(device)\n",
    "print(model_params(model))\n",
    "lr=0.01\n",
    "criterion = nn.BCELoss()\n",
    "optimizer = torch.optim.Adam(model.parameters(), lr=lr)"
   ]
  },
  {
   "cell_type": "code",
   "execution_count": 21,
   "id": "8aa4d9c6",
   "metadata": {
    "execution": {
     "iopub.execute_input": "2021-12-09T09:29:30.398214Z",
     "iopub.status.busy": "2021-12-09T09:29:30.397570Z",
     "iopub.status.idle": "2021-12-09T10:07:57.702384Z",
     "shell.execute_reply": "2021-12-09T10:07:57.701453Z",
     "shell.execute_reply.started": "2021-12-08T21:22:39.586111Z"
    },
    "papermill": {
     "duration": 2307.334,
     "end_time": "2021-12-09T10:07:57.702533",
     "exception": false,
     "start_time": "2021-12-09T09:29:30.368533",
     "status": "completed"
    },
    "tags": []
   },
   "outputs": [
    {
     "name": "stdout",
     "output_type": "stream",
     "text": [
      "Epoch: 1/3... Step: 500... Loss: 0.692465... Val Loss: 0.689074\n",
      "Validation loss decreased (inf --> 0.689074).  Saving model ...\n",
      "Epoch: 1/3... Step: 1000... Loss: 0.688701... Val Loss: 0.692048\n",
      "Epoch: 1/3... Step: 1500... Loss: 0.687857... Val Loss: 0.688622\n",
      "Validation loss decreased (0.689074 --> 0.688622).  Saving model ...\n",
      "Epoch: 1/3... Step: 2000... Loss: 0.673330... Val Loss: 0.684470\n",
      "Validation loss decreased (0.688622 --> 0.684470).  Saving model ...\n",
      "Epoch: 1/3... Step: 2500... Loss: 0.626549... Val Loss: 0.679408\n",
      "Validation loss decreased (0.684470 --> 0.679408).  Saving model ...\n",
      "Epoch: 1/3... Step: 3000... Loss: 0.689088... Val Loss: 0.674284\n",
      "Validation loss decreased (0.679408 --> 0.674284).  Saving model ...\n",
      "Epoch: 1/3... Step: 3500... Loss: 0.636296... Val Loss: 0.658662\n",
      "Validation loss decreased (0.674284 --> 0.658662).  Saving model ...\n",
      "Epoch: 1/3... Step: 4000... Loss: 0.705463... Val Loss: 0.637708\n",
      "Validation loss decreased (0.658662 --> 0.637708).  Saving model ...\n",
      "Epoch: 1/3... Step: 4500... Loss: 0.689403... Val Loss: 0.616328\n",
      "Validation loss decreased (0.637708 --> 0.616328).  Saving model ...\n",
      "Epoch: 1/3... Step: 5000... Loss: 0.622083... Val Loss: 0.600677\n",
      "Validation loss decreased (0.616328 --> 0.600677).  Saving model ...\n",
      "Epoch: 1/3... Step: 5500... Loss: 0.684747... Val Loss: 0.609746\n",
      "Epoch: 1/3... Step: 6000... Loss: 0.512601... Val Loss: 0.573454\n",
      "Validation loss decreased (0.600677 --> 0.573454).  Saving model ...\n",
      "Epoch: 1/3... Step: 6500... Loss: 0.582378... Val Loss: 0.567331\n",
      "Validation loss decreased (0.573454 --> 0.567331).  Saving model ...\n",
      "Epoch: 1/3... Step: 7000... Loss: 0.529447... Val Loss: 0.555353\n",
      "Validation loss decreased (0.567331 --> 0.555353).  Saving model ...\n",
      "Epoch: 1/3... Step: 7500... Loss: 0.610718... Val Loss: 0.555472\n",
      "Epoch: 1/3... Step: 8000... Loss: 0.503977... Val Loss: 0.559014\n",
      "Epoch: 1/3... Step: 8500... Loss: 0.537578... Val Loss: 0.553503\n",
      "Validation loss decreased (0.555353 --> 0.553503).  Saving model ...\n",
      "Epoch: 1/3... Step: 9000... Loss: 0.516055... Val Loss: 0.571293\n",
      "Epoch: 1/3... Step: 9500... Loss: 0.713440... Val Loss: 0.564361\n",
      "Epoch: 1/3... Step: 10000... Loss: 0.692039... Val Loss: 0.532793\n",
      "Validation loss decreased (0.553503 --> 0.532793).  Saving model ...\n",
      "Epoch: 1/3... Step: 10500... Loss: 0.575713... Val Loss: 0.520168\n",
      "Validation loss decreased (0.532793 --> 0.520168).  Saving model ...\n",
      "Epoch: 1/3... Step: 11000... Loss: 0.448276... Val Loss: 0.517292\n",
      "Validation loss decreased (0.520168 --> 0.517292).  Saving model ...\n",
      "Epoch: 1/3... Step: 11500... Loss: 0.505387... Val Loss: 0.532975\n",
      "Epoch: 1/3... Step: 12000... Loss: 0.570176... Val Loss: 0.539191\n",
      "Epoch: 1/3... Step: 12500... Loss: 0.498716... Val Loss: 0.560919\n",
      "Epoch: 1/3... Step: 13000... Loss: 0.519268... Val Loss: 0.546794\n",
      "Epoch: 1/3... Step: 13500... Loss: 0.605970... Val Loss: 0.523343\n",
      "Epoch: 1/3... Step: 14000... Loss: 0.617442... Val Loss: 0.533237\n",
      "Epoch: 1/3... Step: 14500... Loss: 0.634164... Val Loss: 0.532275\n",
      "Epoch: 1/3... Step: 15000... Loss: 0.497462... Val Loss: 0.516297\n",
      "Validation loss decreased (0.517292 --> 0.516297).  Saving model ...\n",
      "Epoch: 1/3... Step: 15500... Loss: 0.428289... Val Loss: 0.508654\n",
      "Validation loss decreased (0.516297 --> 0.508654).  Saving model ...\n",
      "Epoch: 1/3... Step: 16000... Loss: 0.484658... Val Loss: 0.528895\n",
      "Epoch: 1/3... Step: 16500... Loss: 0.485861... Val Loss: 0.504802\n",
      "Validation loss decreased (0.508654 --> 0.504802).  Saving model ...\n",
      "Epoch: 1/3... Step: 17000... Loss: 0.525829... Val Loss: 0.507046\n",
      "Epoch: 1/3... Step: 17500... Loss: 0.591955... Val Loss: 0.521660\n",
      "Epoch: 1/3... Step: 18000... Loss: 0.438470... Val Loss: 0.586937\n",
      "Epoch: 1/3... Step: 18500... Loss: 0.629328... Val Loss: 0.505181\n",
      "Epoch: 1/3... Step: 19000... Loss: 0.512564... Val Loss: 0.510859\n",
      "Epoch: 1/3... Step: 19500... Loss: 0.370535... Val Loss: 0.501884\n",
      "Validation loss decreased (0.504802 --> 0.501884).  Saving model ...\n",
      "Epoch: 1/3... Step: 20000... Loss: 0.453570... Val Loss: 0.514891\n",
      "Epoch: 1/3... Step: 20500... Loss: 0.538864... Val Loss: 0.522689\n",
      "Epoch: 1/3... Step: 21000... Loss: 0.579142... Val Loss: 0.503280\n",
      "Epoch: 1/3... Step: 21500... Loss: 0.524962... Val Loss: 0.523651\n",
      "Epoch: 1/3... Step: 22000... Loss: 0.521219... Val Loss: 0.515250\n",
      "Epoch: 1/3... Step: 22500... Loss: 0.468644... Val Loss: 0.498575\n",
      "Validation loss decreased (0.501884 --> 0.498575).  Saving model ...\n",
      "Epoch: 1/3... Step: 23000... Loss: 0.501568... Val Loss: 0.534514\n",
      "Epoch: 1/3... Step: 23500... Loss: 0.558322... Val Loss: 0.509401\n",
      "Epoch: 1/3... Step: 24000... Loss: 0.551359... Val Loss: 0.498996\n",
      "Epoch: 1/3... Step: 24500... Loss: 0.508308... Val Loss: 0.504797\n",
      "Epoch: 1/3... Step: 25000... Loss: 0.509238... Val Loss: 0.499984\n",
      "Epoch: 1/3... Step: 25500... Loss: 0.412036... Val Loss: 0.517342\n",
      "Epoch: 2/3... Step: 26000... Loss: 0.426575... Val Loss: 0.548547\n",
      "Epoch: 2/3... Step: 26500... Loss: 0.450666... Val Loss: 0.534352\n",
      "Epoch: 2/3... Step: 27000... Loss: 0.557330... Val Loss: 0.511165\n",
      "Epoch: 2/3... Step: 27500... Loss: 0.460374... Val Loss: 0.509341\n",
      "Epoch: 2/3... Step: 28000... Loss: 0.392489... Val Loss: 0.520583\n",
      "Epoch: 2/3... Step: 28500... Loss: 0.578266... Val Loss: 0.507720\n",
      "Epoch: 2/3... Step: 29000... Loss: 0.406182... Val Loss: 0.524124\n",
      "Epoch: 2/3... Step: 29500... Loss: 0.406174... Val Loss: 0.499169\n",
      "Epoch: 2/3... Step: 30000... Loss: 0.621722... Val Loss: 0.502211\n",
      "Epoch: 2/3... Step: 30500... Loss: 0.468012... Val Loss: 0.502177\n",
      "Epoch: 2/3... Step: 31000... Loss: 0.585560... Val Loss: 0.505407\n",
      "Epoch: 2/3... Step: 31500... Loss: 0.448827... Val Loss: 0.496082\n",
      "Validation loss decreased (0.498575 --> 0.496082).  Saving model ...\n",
      "Epoch: 2/3... Step: 32000... Loss: 0.540092... Val Loss: 0.496123\n",
      "Epoch: 2/3... Step: 32500... Loss: 0.417390... Val Loss: 0.534767\n",
      "Epoch: 2/3... Step: 33000... Loss: 0.580283... Val Loss: 0.518584\n",
      "Epoch: 2/3... Step: 33500... Loss: 0.586297... Val Loss: 0.514078\n",
      "Epoch: 2/3... Step: 34000... Loss: 0.467089... Val Loss: 0.528862\n",
      "Epoch: 2/3... Step: 34500... Loss: 0.594966... Val Loss: 0.521487\n",
      "Epoch: 2/3... Step: 35000... Loss: 0.615867... Val Loss: 0.499792\n",
      "Epoch: 2/3... Step: 35500... Loss: 0.475419... Val Loss: 0.537027\n",
      "Epoch: 2/3... Step: 36000... Loss: 0.569094... Val Loss: 0.522405\n",
      "Epoch: 2/3... Step: 36500... Loss: 0.437855... Val Loss: 0.527529\n",
      "Epoch: 2/3... Step: 37000... Loss: 0.569793... Val Loss: 0.492123\n",
      "Validation loss decreased (0.496082 --> 0.492123).  Saving model ...\n",
      "Epoch: 2/3... Step: 37500... Loss: 0.568895... Val Loss: 0.542686\n",
      "Epoch: 2/3... Step: 38000... Loss: 0.483289... Val Loss: 0.505409\n",
      "Epoch: 2/3... Step: 38500... Loss: 0.519176... Val Loss: 0.507478\n",
      "Epoch: 2/3... Step: 39000... Loss: 0.606867... Val Loss: 0.501275\n",
      "Epoch: 2/3... Step: 39500... Loss: 0.454639... Val Loss: 0.547647\n",
      "Epoch: 2/3... Step: 40000... Loss: 0.466579... Val Loss: 0.501903\n",
      "Epoch: 2/3... Step: 40500... Loss: 0.635785... Val Loss: 0.497434\n",
      "Epoch: 2/3... Step: 41000... Loss: 0.403328... Val Loss: 0.499483\n",
      "Epoch: 2/3... Step: 41500... Loss: 0.430179... Val Loss: 0.503031\n",
      "Epoch: 2/3... Step: 42000... Loss: 0.456016... Val Loss: 0.510287\n",
      "Epoch: 2/3... Step: 42500... Loss: 0.499074... Val Loss: 0.515107\n",
      "Epoch: 2/3... Step: 43000... Loss: 0.506845... Val Loss: 0.509690\n",
      "Epoch: 2/3... Step: 43500... Loss: 0.433613... Val Loss: 0.515235\n",
      "Epoch: 2/3... Step: 44000... Loss: 0.572926... Val Loss: 0.517468\n",
      "Epoch: 2/3... Step: 44500... Loss: 0.428055... Val Loss: 0.501027\n",
      "Epoch: 2/3... Step: 45000... Loss: 0.501228... Val Loss: 0.487091\n",
      "Validation loss decreased (0.492123 --> 0.487091).  Saving model ...\n",
      "Epoch: 2/3... Step: 45500... Loss: 0.484684... Val Loss: 0.489428\n",
      "Epoch: 2/3... Step: 46000... Loss: 0.642696... Val Loss: 0.489907\n",
      "Epoch: 2/3... Step: 46500... Loss: 0.455138... Val Loss: 0.501012\n",
      "Epoch: 2/3... Step: 47000... Loss: 0.662182... Val Loss: 0.498295\n",
      "Epoch: 2/3... Step: 47500... Loss: 0.479449... Val Loss: 0.487254\n",
      "Epoch: 2/3... Step: 48000... Loss: 0.441811... Val Loss: 0.513046\n",
      "Epoch: 2/3... Step: 48500... Loss: 0.515090... Val Loss: 0.482149\n",
      "Validation loss decreased (0.487091 --> 0.482149).  Saving model ...\n",
      "Epoch: 2/3... Step: 49000... Loss: 0.651517... Val Loss: 0.485822\n",
      "Epoch: 2/3... Step: 49500... Loss: 0.574707... Val Loss: 0.494018\n",
      "Epoch: 2/3... Step: 50000... Loss: 0.407284... Val Loss: 0.526269\n",
      "Epoch: 2/3... Step: 50500... Loss: 0.493203... Val Loss: 0.482112\n",
      "Validation loss decreased (0.482149 --> 0.482112).  Saving model ...\n",
      "Epoch: 2/3... Step: 51000... Loss: 0.479696... Val Loss: 0.502225\n",
      "Epoch: 3/3... Step: 51500... Loss: 0.471893... Val Loss: 0.487292\n",
      "Epoch: 3/3... Step: 52000... Loss: 0.331643... Val Loss: 0.491878\n",
      "Epoch: 3/3... Step: 52500... Loss: 0.515200... Val Loss: 0.519984\n",
      "Epoch: 3/3... Step: 53000... Loss: 0.439802... Val Loss: 0.526890\n",
      "Epoch: 3/3... Step: 53500... Loss: 0.473280... Val Loss: 0.497423\n",
      "Epoch: 3/3... Step: 54000... Loss: 0.476679... Val Loss: 0.487530\n",
      "Epoch: 3/3... Step: 54500... Loss: 0.572794... Val Loss: 0.490688\n",
      "Epoch: 3/3... Step: 55000... Loss: 0.801779... Val Loss: 0.504405\n",
      "Epoch: 3/3... Step: 55500... Loss: 0.513737... Val Loss: 0.498639\n",
      "Epoch: 3/3... Step: 56000... Loss: 0.417560... Val Loss: 0.490886\n",
      "Epoch: 3/3... Step: 56500... Loss: 0.368663... Val Loss: 0.490442\n",
      "Epoch: 3/3... Step: 57000... Loss: 0.509215... Val Loss: 0.598909\n",
      "Epoch: 3/3... Step: 57500... Loss: 0.460529... Val Loss: 0.510392\n",
      "Epoch: 3/3... Step: 58000... Loss: 0.507015... Val Loss: 0.500877\n",
      "Epoch: 3/3... Step: 58500... Loss: 0.569679... Val Loss: 0.495726\n",
      "Epoch: 3/3... Step: 59000... Loss: 0.494073... Val Loss: 0.508000\n",
      "Epoch: 3/3... Step: 59500... Loss: 0.801208... Val Loss: 0.529930\n",
      "Epoch: 3/3... Step: 60000... Loss: 0.453879... Val Loss: 0.609645\n",
      "Epoch: 3/3... Step: 60500... Loss: 0.528144... Val Loss: 0.501264\n",
      "Epoch: 3/3... Step: 61000... Loss: 0.354236... Val Loss: 0.492493\n",
      "Epoch: 3/3... Step: 61500... Loss: 0.509166... Val Loss: 0.496297\n",
      "Epoch: 3/3... Step: 62000... Loss: 0.514665... Val Loss: 0.488132\n",
      "Epoch: 3/3... Step: 62500... Loss: 0.559043... Val Loss: 0.527645\n",
      "Epoch: 3/3... Step: 63000... Loss: 0.446698... Val Loss: 0.489172\n",
      "Epoch: 3/3... Step: 63500... Loss: 0.604832... Val Loss: 0.485248\n",
      "Epoch: 3/3... Step: 64000... Loss: 0.474655... Val Loss: 0.529762\n",
      "Epoch: 3/3... Step: 64500... Loss: 0.463607... Val Loss: 0.498348\n",
      "Epoch: 3/3... Step: 65000... Loss: 0.380571... Val Loss: 0.507724\n",
      "Epoch: 3/3... Step: 65500... Loss: 0.628876... Val Loss: 0.524989\n",
      "Epoch: 3/3... Step: 66000... Loss: 0.572130... Val Loss: 0.529315\n",
      "Epoch: 3/3... Step: 66500... Loss: 0.549587... Val Loss: 0.492268\n",
      "Epoch: 3/3... Step: 67000... Loss: 0.619748... Val Loss: 0.497953\n",
      "Epoch: 3/3... Step: 67500... Loss: 0.577147... Val Loss: 0.490730\n",
      "Epoch: 3/3... Step: 68000... Loss: 0.636224... Val Loss: 0.524896\n",
      "Epoch: 3/3... Step: 68500... Loss: 0.299537... Val Loss: 0.499695\n",
      "Epoch: 3/3... Step: 69000... Loss: 0.443569... Val Loss: 0.514316\n",
      "Epoch: 3/3... Step: 69500... Loss: 0.511081... Val Loss: 0.540970\n",
      "Epoch: 3/3... Step: 70000... Loss: 0.480454... Val Loss: 0.507446\n",
      "Epoch: 3/3... Step: 70500... Loss: 0.537239... Val Loss: 0.500104\n",
      "Epoch: 3/3... Step: 71000... Loss: 0.443089... Val Loss: 0.514906\n",
      "Epoch: 3/3... Step: 71500... Loss: 0.425316... Val Loss: 0.484341\n",
      "Epoch: 3/3... Step: 72000... Loss: 0.437749... Val Loss: 0.526934\n",
      "Epoch: 3/3... Step: 72500... Loss: 0.523644... Val Loss: 0.482371\n",
      "Epoch: 3/3... Step: 73000... Loss: 0.420559... Val Loss: 0.486469\n",
      "Epoch: 3/3... Step: 73500... Loss: 0.348634... Val Loss: 0.493384\n",
      "Epoch: 3/3... Step: 74000... Loss: 0.384883... Val Loss: 0.492196\n",
      "Epoch: 3/3... Step: 74500... Loss: 0.460531... Val Loss: 0.490083\n",
      "Epoch: 3/3... Step: 75000... Loss: 0.550498... Val Loss: 0.490915\n",
      "Epoch: 3/3... Step: 75500... Loss: 0.419596... Val Loss: 0.495550\n",
      "Epoch: 3/3... Step: 76000... Loss: 0.510246... Val Loss: 0.505167\n",
      "Epoch: 3/3... Step: 76500... Loss: 0.496045... Val Loss: 0.496422\n"
     ]
    }
   ],
   "source": [
    "epochs = 3\n",
    "counter = 0\n",
    "print_every = 500\n",
    "clip = 5\n",
    "valid_loss_min = np.Inf\n",
    "\n",
    "model.train()\n",
    "for i in range(epochs):\n",
    "    \n",
    "    for inputs, labels in train_loader:\n",
    "        counter += 1\n",
    "        inputs, labels = inputs.to(device), labels.to(device)\n",
    "        model.zero_grad()\n",
    "        output = model(inputs.long())\n",
    "        \n",
    "        loss = criterion(output, labels.float())\n",
    "        \n",
    "        \n",
    "        loss.backward()\n",
    "        #nn.utils.clip_grad_norm_(model.parameters(), clip)\n",
    "        optimizer.step()\n",
    "        \n",
    "        if counter%print_every == 0:\n",
    "            val_losses = []\n",
    "            model.eval()\n",
    "            for inp, lab in test_loader:\n",
    "                inp, lab = inp.to(device), lab.to(device)\n",
    "                out = model(inp.long())\n",
    "                val_loss = criterion(out, lab.float())\n",
    "                val_losses.append(val_loss.item())\n",
    "                \n",
    "            model.train()\n",
    "            print(\"Epoch: {}/{}...\".format(i+1, epochs),\n",
    "                  \"Step: {}...\".format(counter),\n",
    "                  \"Loss: {:.6f}...\".format(loss.item()),\n",
    "                  \"Val Loss: {:.6f}\".format(np.mean(val_losses)))\n",
    "            if np.mean(val_losses) <= valid_loss_min:\n",
    "                torch.save(model.state_dict(), './state_dict.pt')\n",
    "                print('Validation loss decreased ({:.6f} --> {:.6f}).  Saving model ...'.format(valid_loss_min,np.mean(val_losses)))\n",
    "                valid_loss_min = np.mean(val_losses)"
   ]
  },
  {
   "cell_type": "code",
   "execution_count": 22,
   "id": "c9791e36",
   "metadata": {
    "execution": {
     "iopub.execute_input": "2021-12-09T10:07:57.838066Z",
     "iopub.status.busy": "2021-12-09T10:07:57.837217Z",
     "iopub.status.idle": "2021-12-09T10:07:57.864998Z",
     "shell.execute_reply": "2021-12-09T10:07:57.864531Z"
    },
    "papermill": {
     "duration": 0.097288,
     "end_time": "2021-12-09T10:07:57.865113",
     "exception": false,
     "start_time": "2021-12-09T10:07:57.767825",
     "status": "completed"
    },
    "tags": []
   },
   "outputs": [
    {
     "data": {
      "text/plain": [
       "tensor([[0.7686]], device='cuda:0', grad_fn=<SigmoidBackward>)"
      ]
     },
     "execution_count": 22,
     "metadata": {},
     "output_type": "execute_result"
    }
   ],
   "source": [
    "sentence = \"I love you\"\n",
    "trial = torch.tensor(pad_sequences(tokenizer.texts_to_sequences([sentence]), maxlen = MAX_SEQUENCE_LENGTH)).long().to(device)\n",
    "\n",
    "model(trial)"
   ]
  },
  {
   "cell_type": "code",
   "execution_count": 23,
   "id": "2935de0c",
   "metadata": {
    "execution": {
     "iopub.execute_input": "2021-12-09T10:07:57.999294Z",
     "iopub.status.busy": "2021-12-09T10:07:57.998788Z",
     "iopub.status.idle": "2021-12-09T10:07:58.638561Z",
     "shell.execute_reply": "2021-12-09T10:07:58.638111Z"
    },
    "papermill": {
     "duration": 0.708217,
     "end_time": "2021-12-09T10:07:58.638725",
     "exception": false,
     "start_time": "2021-12-09T10:07:57.930508",
     "status": "completed"
    },
    "tags": []
   },
   "outputs": [
    {
     "name": "stderr",
     "output_type": "stream",
     "text": [
      "/opt/conda/lib/python3.7/site-packages/ipykernel_launcher.py:16: TracerWarning: Converting a tensor to a Python index might cause the trace to be incorrect. We can't record the data flow of Python values, so this value will be treated as a constant in the future. This means that the trace might not generalize to other inputs!\n",
      "  app.launch_new_instance()\n"
     ]
    }
   ],
   "source": [
    "import torch.onnx\n",
    "torch.onnx.export(model,               # model being run\n",
    "                  trial,                  # model input (or a tuple for multiple inputs)\n",
    "                  \"transformer-imdb.onnx\", opset_version = 11)"
   ]
  }
 ],
 "metadata": {
  "kernelspec": {
   "display_name": "Python 3",
   "language": "python",
   "name": "python3"
  },
  "language_info": {
   "codemirror_mode": {
    "name": "ipython",
    "version": 3
   },
   "file_extension": ".py",
   "mimetype": "text/x-python",
   "name": "python",
   "nbconvert_exporter": "python",
   "pygments_lexer": "ipython3",
   "version": "3.7.10"
  },
  "papermill": {
   "default_parameters": {},
   "duration": 2446.370483,
   "end_time": "2021-12-09T10:08:01.100827",
   "environment_variables": {},
   "exception": null,
   "input_path": "__notebook__.ipynb",
   "output_path": "__notebook__.ipynb",
   "parameters": {},
   "start_time": "2021-12-09T09:27:14.730344",
   "version": "2.3.3"
  }
 },
 "nbformat": 4,
 "nbformat_minor": 5
}
