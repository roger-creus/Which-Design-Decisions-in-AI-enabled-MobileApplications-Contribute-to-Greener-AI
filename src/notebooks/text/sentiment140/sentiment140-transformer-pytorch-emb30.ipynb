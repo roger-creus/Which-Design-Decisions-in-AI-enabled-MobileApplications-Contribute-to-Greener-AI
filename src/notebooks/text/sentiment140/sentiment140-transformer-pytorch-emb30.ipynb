{
 "cells": [
  {
   "cell_type": "code",
   "execution_count": 1,
   "id": "15073662",
   "metadata": {
    "_cell_guid": "79c7e3d0-c299-4dcb-8224-4455121ee9b0",
    "_uuid": "d629ff2d2480ee46fbb7e2d37f6b5fab8052498a",
    "execution": {
     "iopub.execute_input": "2021-12-09T08:23:01.234649Z",
     "iopub.status.busy": "2021-12-09T08:23:01.233947Z",
     "iopub.status.idle": "2021-12-09T08:23:07.745127Z",
     "shell.execute_reply": "2021-12-09T08:23:07.745941Z",
     "shell.execute_reply.started": "2021-12-08T21:20:29.493378Z"
    },
    "papermill": {
     "duration": 6.546656,
     "end_time": "2021-12-09T08:23:07.746327",
     "exception": false,
     "start_time": "2021-12-09T08:23:01.199671",
     "status": "completed"
    },
    "tags": []
   },
   "outputs": [
    {
     "name": "stdout",
     "output_type": "stream",
     "text": [
      "[nltk_data] Downloading package stopwords to /usr/share/nltk_data...\n",
      "[nltk_data]   Unzipping corpora/stopwords.zip.\n"
     ]
    }
   ],
   "source": [
    "import numpy as np\n",
    "import pandas as pd\n",
    "from torch import nn\n",
    "\n",
    "import matplotlib.pyplot as plt\n",
    "import seaborn as sns\n",
    "\n",
    "import torch.nn.functional as F\n",
    "\n",
    "import re\n",
    "import string\n",
    "from collections import Counter\n",
    "from nltk.corpus import stopwords\n",
    "stop_words = set(stopwords.words('english'))\n",
    "\n",
    "from sklearn.model_selection import train_test_split\n",
    "\n",
    "import torch\n",
    "from torch.utils.data import DataLoader, TensorDataset\n",
    "import torch.nn as nn\n",
    "\n",
    "import pandas as pd\n",
    "import numpy as np\n",
    "import bz2\n",
    "import matplotlib.pyplot as plt\n",
    "import sklearn\n",
    "import tensorflow as tf\n",
    "from tensorflow.keras import models, layers, optimizers\n",
    "from tensorflow.keras.preprocessing.text import Tokenizer, text_to_word_sequence\n",
    "from tensorflow.keras.preprocessing.sequence import pad_sequences\n",
    "from sklearn.preprocessing import LabelEncoder\n",
    "\n",
    "%matplotlib inline\n",
    "\n",
    "import nltk \n",
    "nltk.download('stopwords')\n",
    "from nltk.corpus import stopwords\n",
    "from nltk.stem import SnowballStemmer"
   ]
  },
  {
   "cell_type": "code",
   "execution_count": 2,
   "id": "891ce59a",
   "metadata": {
    "execution": {
     "iopub.execute_input": "2021-12-09T08:23:07.784433Z",
     "iopub.status.busy": "2021-12-09T08:23:07.783935Z",
     "iopub.status.idle": "2021-12-09T08:23:07.787727Z",
     "shell.execute_reply": "2021-12-09T08:23:07.787269Z",
     "shell.execute_reply.started": "2021-12-08T21:20:36.834834Z"
    },
    "papermill": {
     "duration": 0.023447,
     "end_time": "2021-12-09T08:23:07.787846",
     "exception": false,
     "start_time": "2021-12-09T08:23:07.764399",
     "status": "completed"
    },
    "tags": []
   },
   "outputs": [],
   "source": [
    "device = \"cuda:0\""
   ]
  },
  {
   "cell_type": "code",
   "execution_count": 3,
   "id": "e045c45b",
   "metadata": {
    "execution": {
     "iopub.execute_input": "2021-12-09T08:23:07.825029Z",
     "iopub.status.busy": "2021-12-09T08:23:07.824382Z",
     "iopub.status.idle": "2021-12-09T08:23:12.715925Z",
     "shell.execute_reply": "2021-12-09T08:23:12.715460Z",
     "shell.execute_reply.started": "2021-12-08T21:20:36.84162Z"
    },
    "papermill": {
     "duration": 4.911676,
     "end_time": "2021-12-09T08:23:12.716049",
     "exception": false,
     "start_time": "2021-12-09T08:23:07.804373",
     "status": "completed"
    },
    "tags": []
   },
   "outputs": [
    {
     "data": {
      "text/html": [
       "<div>\n",
       "<style scoped>\n",
       "    .dataframe tbody tr th:only-of-type {\n",
       "        vertical-align: middle;\n",
       "    }\n",
       "\n",
       "    .dataframe tbody tr th {\n",
       "        vertical-align: top;\n",
       "    }\n",
       "\n",
       "    .dataframe thead th {\n",
       "        text-align: right;\n",
       "    }\n",
       "</style>\n",
       "<table border=\"1\" class=\"dataframe\">\n",
       "  <thead>\n",
       "    <tr style=\"text-align: right;\">\n",
       "      <th></th>\n",
       "      <th>0</th>\n",
       "      <th>1</th>\n",
       "      <th>2</th>\n",
       "      <th>3</th>\n",
       "      <th>4</th>\n",
       "      <th>5</th>\n",
       "    </tr>\n",
       "  </thead>\n",
       "  <tbody>\n",
       "    <tr>\n",
       "      <th>0</th>\n",
       "      <td>0</td>\n",
       "      <td>1467810369</td>\n",
       "      <td>Mon Apr 06 22:19:45 PDT 2009</td>\n",
       "      <td>NO_QUERY</td>\n",
       "      <td>_TheSpecialOne_</td>\n",
       "      <td>@switchfoot http://twitpic.com/2y1zl - Awww, t...</td>\n",
       "    </tr>\n",
       "    <tr>\n",
       "      <th>1</th>\n",
       "      <td>0</td>\n",
       "      <td>1467810672</td>\n",
       "      <td>Mon Apr 06 22:19:49 PDT 2009</td>\n",
       "      <td>NO_QUERY</td>\n",
       "      <td>scotthamilton</td>\n",
       "      <td>is upset that he can't update his Facebook by ...</td>\n",
       "    </tr>\n",
       "    <tr>\n",
       "      <th>2</th>\n",
       "      <td>0</td>\n",
       "      <td>1467810917</td>\n",
       "      <td>Mon Apr 06 22:19:53 PDT 2009</td>\n",
       "      <td>NO_QUERY</td>\n",
       "      <td>mattycus</td>\n",
       "      <td>@Kenichan I dived many times for the ball. Man...</td>\n",
       "    </tr>\n",
       "    <tr>\n",
       "      <th>3</th>\n",
       "      <td>0</td>\n",
       "      <td>1467811184</td>\n",
       "      <td>Mon Apr 06 22:19:57 PDT 2009</td>\n",
       "      <td>NO_QUERY</td>\n",
       "      <td>ElleCTF</td>\n",
       "      <td>my whole body feels itchy and like its on fire</td>\n",
       "    </tr>\n",
       "    <tr>\n",
       "      <th>4</th>\n",
       "      <td>0</td>\n",
       "      <td>1467811193</td>\n",
       "      <td>Mon Apr 06 22:19:57 PDT 2009</td>\n",
       "      <td>NO_QUERY</td>\n",
       "      <td>Karoli</td>\n",
       "      <td>@nationwideclass no, it's not behaving at all....</td>\n",
       "    </tr>\n",
       "  </tbody>\n",
       "</table>\n",
       "</div>"
      ],
      "text/plain": [
       "   0           1                             2         3                4  \\\n",
       "0  0  1467810369  Mon Apr 06 22:19:45 PDT 2009  NO_QUERY  _TheSpecialOne_   \n",
       "1  0  1467810672  Mon Apr 06 22:19:49 PDT 2009  NO_QUERY    scotthamilton   \n",
       "2  0  1467810917  Mon Apr 06 22:19:53 PDT 2009  NO_QUERY         mattycus   \n",
       "3  0  1467811184  Mon Apr 06 22:19:57 PDT 2009  NO_QUERY          ElleCTF   \n",
       "4  0  1467811193  Mon Apr 06 22:19:57 PDT 2009  NO_QUERY           Karoli   \n",
       "\n",
       "                                                   5  \n",
       "0  @switchfoot http://twitpic.com/2y1zl - Awww, t...  \n",
       "1  is upset that he can't update his Facebook by ...  \n",
       "2  @Kenichan I dived many times for the ball. Man...  \n",
       "3    my whole body feels itchy and like its on fire   \n",
       "4  @nationwideclass no, it's not behaving at all....  "
      ]
     },
     "execution_count": 3,
     "metadata": {},
     "output_type": "execute_result"
    }
   ],
   "source": [
    "df = pd.read_csv('../input/sentiment140/training.1600000.processed.noemoticon.csv',\n",
    "                 encoding = 'latin',header=None)\n",
    "df.head()"
   ]
  },
  {
   "cell_type": "code",
   "execution_count": 4,
   "id": "aeaa3f08",
   "metadata": {
    "execution": {
     "iopub.execute_input": "2021-12-09T08:23:12.760994Z",
     "iopub.status.busy": "2021-12-09T08:23:12.760285Z",
     "iopub.status.idle": "2021-12-09T08:23:12.765075Z",
     "shell.execute_reply": "2021-12-09T08:23:12.764666Z",
     "shell.execute_reply.started": "2021-12-08T21:20:42.779936Z"
    },
    "papermill": {
     "duration": 0.03199,
     "end_time": "2021-12-09T08:23:12.765178",
     "exception": false,
     "start_time": "2021-12-09T08:23:12.733188",
     "status": "completed"
    },
    "tags": []
   },
   "outputs": [
    {
     "data": {
      "text/html": [
       "<div>\n",
       "<style scoped>\n",
       "    .dataframe tbody tr th:only-of-type {\n",
       "        vertical-align: middle;\n",
       "    }\n",
       "\n",
       "    .dataframe tbody tr th {\n",
       "        vertical-align: top;\n",
       "    }\n",
       "\n",
       "    .dataframe thead th {\n",
       "        text-align: right;\n",
       "    }\n",
       "</style>\n",
       "<table border=\"1\" class=\"dataframe\">\n",
       "  <thead>\n",
       "    <tr style=\"text-align: right;\">\n",
       "      <th></th>\n",
       "      <th>sentiment</th>\n",
       "      <th>id</th>\n",
       "      <th>date</th>\n",
       "      <th>query</th>\n",
       "      <th>user_id</th>\n",
       "      <th>text</th>\n",
       "    </tr>\n",
       "  </thead>\n",
       "  <tbody>\n",
       "    <tr>\n",
       "      <th>0</th>\n",
       "      <td>0</td>\n",
       "      <td>1467810369</td>\n",
       "      <td>Mon Apr 06 22:19:45 PDT 2009</td>\n",
       "      <td>NO_QUERY</td>\n",
       "      <td>_TheSpecialOne_</td>\n",
       "      <td>@switchfoot http://twitpic.com/2y1zl - Awww, t...</td>\n",
       "    </tr>\n",
       "    <tr>\n",
       "      <th>1</th>\n",
       "      <td>0</td>\n",
       "      <td>1467810672</td>\n",
       "      <td>Mon Apr 06 22:19:49 PDT 2009</td>\n",
       "      <td>NO_QUERY</td>\n",
       "      <td>scotthamilton</td>\n",
       "      <td>is upset that he can't update his Facebook by ...</td>\n",
       "    </tr>\n",
       "    <tr>\n",
       "      <th>2</th>\n",
       "      <td>0</td>\n",
       "      <td>1467810917</td>\n",
       "      <td>Mon Apr 06 22:19:53 PDT 2009</td>\n",
       "      <td>NO_QUERY</td>\n",
       "      <td>mattycus</td>\n",
       "      <td>@Kenichan I dived many times for the ball. Man...</td>\n",
       "    </tr>\n",
       "    <tr>\n",
       "      <th>3</th>\n",
       "      <td>0</td>\n",
       "      <td>1467811184</td>\n",
       "      <td>Mon Apr 06 22:19:57 PDT 2009</td>\n",
       "      <td>NO_QUERY</td>\n",
       "      <td>ElleCTF</td>\n",
       "      <td>my whole body feels itchy and like its on fire</td>\n",
       "    </tr>\n",
       "    <tr>\n",
       "      <th>4</th>\n",
       "      <td>0</td>\n",
       "      <td>1467811193</td>\n",
       "      <td>Mon Apr 06 22:19:57 PDT 2009</td>\n",
       "      <td>NO_QUERY</td>\n",
       "      <td>Karoli</td>\n",
       "      <td>@nationwideclass no, it's not behaving at all....</td>\n",
       "    </tr>\n",
       "  </tbody>\n",
       "</table>\n",
       "</div>"
      ],
      "text/plain": [
       "   sentiment          id                          date     query  \\\n",
       "0          0  1467810369  Mon Apr 06 22:19:45 PDT 2009  NO_QUERY   \n",
       "1          0  1467810672  Mon Apr 06 22:19:49 PDT 2009  NO_QUERY   \n",
       "2          0  1467810917  Mon Apr 06 22:19:53 PDT 2009  NO_QUERY   \n",
       "3          0  1467811184  Mon Apr 06 22:19:57 PDT 2009  NO_QUERY   \n",
       "4          0  1467811193  Mon Apr 06 22:19:57 PDT 2009  NO_QUERY   \n",
       "\n",
       "           user_id                                               text  \n",
       "0  _TheSpecialOne_  @switchfoot http://twitpic.com/2y1zl - Awww, t...  \n",
       "1    scotthamilton  is upset that he can't update his Facebook by ...  \n",
       "2         mattycus  @Kenichan I dived many times for the ball. Man...  \n",
       "3          ElleCTF    my whole body feels itchy and like its on fire   \n",
       "4           Karoli  @nationwideclass no, it's not behaving at all....  "
      ]
     },
     "execution_count": 4,
     "metadata": {},
     "output_type": "execute_result"
    }
   ],
   "source": [
    "df.columns = ['sentiment', 'id', 'date', 'query', 'user_id', 'text']\n",
    "df.head()"
   ]
  },
  {
   "cell_type": "code",
   "execution_count": 5,
   "id": "b454fa65",
   "metadata": {
    "execution": {
     "iopub.execute_input": "2021-12-09T08:23:12.840074Z",
     "iopub.status.busy": "2021-12-09T08:23:12.839235Z",
     "iopub.status.idle": "2021-12-09T08:23:12.841549Z",
     "shell.execute_reply": "2021-12-09T08:23:12.841926Z",
     "shell.execute_reply.started": "2021-12-08T21:20:42.797882Z"
    },
    "papermill": {
     "duration": 0.059212,
     "end_time": "2021-12-09T08:23:12.842058",
     "exception": false,
     "start_time": "2021-12-09T08:23:12.782846",
     "status": "completed"
    },
    "tags": []
   },
   "outputs": [],
   "source": [
    "df = df.drop(['id', 'date', 'query', 'user_id'], axis=1)"
   ]
  },
  {
   "cell_type": "code",
   "execution_count": 6,
   "id": "d02ae0b8",
   "metadata": {
    "execution": {
     "iopub.execute_input": "2021-12-09T08:23:12.914727Z",
     "iopub.status.busy": "2021-12-09T08:23:12.881595Z",
     "iopub.status.idle": "2021-12-09T08:23:13.372158Z",
     "shell.execute_reply": "2021-12-09T08:23:13.372930Z",
     "shell.execute_reply.started": "2021-12-08T21:20:42.837857Z"
    },
    "papermill": {
     "duration": 0.513239,
     "end_time": "2021-12-09T08:23:13.373102",
     "exception": false,
     "start_time": "2021-12-09T08:23:12.859863",
     "status": "completed"
    },
    "tags": []
   },
   "outputs": [
    {
     "data": {
      "text/html": [
       "<div>\n",
       "<style scoped>\n",
       "    .dataframe tbody tr th:only-of-type {\n",
       "        vertical-align: middle;\n",
       "    }\n",
       "\n",
       "    .dataframe tbody tr th {\n",
       "        vertical-align: top;\n",
       "    }\n",
       "\n",
       "    .dataframe thead th {\n",
       "        text-align: right;\n",
       "    }\n",
       "</style>\n",
       "<table border=\"1\" class=\"dataframe\">\n",
       "  <thead>\n",
       "    <tr style=\"text-align: right;\">\n",
       "      <th></th>\n",
       "      <th>sentiment</th>\n",
       "      <th>text</th>\n",
       "    </tr>\n",
       "  </thead>\n",
       "  <tbody>\n",
       "    <tr>\n",
       "      <th>0</th>\n",
       "      <td>Negative</td>\n",
       "      <td>@switchfoot http://twitpic.com/2y1zl - Awww, t...</td>\n",
       "    </tr>\n",
       "    <tr>\n",
       "      <th>1</th>\n",
       "      <td>Negative</td>\n",
       "      <td>is upset that he can't update his Facebook by ...</td>\n",
       "    </tr>\n",
       "    <tr>\n",
       "      <th>2</th>\n",
       "      <td>Negative</td>\n",
       "      <td>@Kenichan I dived many times for the ball. Man...</td>\n",
       "    </tr>\n",
       "    <tr>\n",
       "      <th>3</th>\n",
       "      <td>Negative</td>\n",
       "      <td>my whole body feels itchy and like its on fire</td>\n",
       "    </tr>\n",
       "    <tr>\n",
       "      <th>4</th>\n",
       "      <td>Negative</td>\n",
       "      <td>@nationwideclass no, it's not behaving at all....</td>\n",
       "    </tr>\n",
       "  </tbody>\n",
       "</table>\n",
       "</div>"
      ],
      "text/plain": [
       "  sentiment                                               text\n",
       "0  Negative  @switchfoot http://twitpic.com/2y1zl - Awww, t...\n",
       "1  Negative  is upset that he can't update his Facebook by ...\n",
       "2  Negative  @Kenichan I dived many times for the ball. Man...\n",
       "3  Negative    my whole body feels itchy and like its on fire \n",
       "4  Negative  @nationwideclass no, it's not behaving at all...."
      ]
     },
     "execution_count": 6,
     "metadata": {},
     "output_type": "execute_result"
    }
   ],
   "source": [
    "lab_to_sentiment = {0:\"Negative\", 4:\"Positive\"}\n",
    "def label_decoder(label):\n",
    "  return lab_to_sentiment[label]\n",
    "df.sentiment = df.sentiment.apply(lambda x: label_decoder(x))\n",
    "df.head()"
   ]
  },
  {
   "cell_type": "code",
   "execution_count": 7,
   "id": "013ed9fd",
   "metadata": {
    "execution": {
     "iopub.execute_input": "2021-12-09T08:23:13.704206Z",
     "iopub.status.busy": "2021-12-09T08:23:13.573910Z",
     "iopub.status.idle": "2021-12-09T08:23:13.848185Z",
     "shell.execute_reply": "2021-12-09T08:23:13.848626Z",
     "shell.execute_reply.started": "2021-12-08T21:20:43.355646Z"
    },
    "papermill": {
     "duration": 0.457774,
     "end_time": "2021-12-09T08:23:13.848782",
     "exception": false,
     "start_time": "2021-12-09T08:23:13.391008",
     "status": "completed"
    },
    "tags": []
   },
   "outputs": [
    {
     "data": {
      "text/plain": [
       "Text(0.5, 1.0, 'Sentiment Data Distribution')"
      ]
     },
     "execution_count": 7,
     "metadata": {},
     "output_type": "execute_result"
    },
    {
     "data": {
      "image/png": "[encoded data removed]",
      "text/plain": [
       "<Figure size 576x288 with 1 Axes>"
      ]
     },
     "metadata": {
      "needs_background": "light"
     },
     "output_type": "display_data"
    }
   ],
   "source": [
    "val_count = df.sentiment.value_counts()\n",
    "\n",
    "plt.figure(figsize=(8,4))\n",
    "plt.bar(val_count.index, val_count.values)\n",
    "plt.title(\"Sentiment Data Distribution\")"
   ]
  },
  {
   "cell_type": "code",
   "execution_count": 8,
   "id": "64b16d42",
   "metadata": {
    "execution": {
     "iopub.execute_input": "2021-12-09T08:23:13.901612Z",
     "iopub.status.busy": "2021-12-09T08:23:13.900817Z",
     "iopub.status.idle": "2021-12-09T08:23:14.025147Z",
     "shell.execute_reply": "2021-12-09T08:23:14.024527Z",
     "shell.execute_reply.started": "2021-12-08T21:20:43.800168Z"
    },
    "papermill": {
     "duration": 0.157261,
     "end_time": "2021-12-09T08:23:14.025275",
     "exception": false,
     "start_time": "2021-12-09T08:23:13.868014",
     "status": "completed"
    },
    "tags": []
   },
   "outputs": [
    {
     "data": {
      "text/html": [
       "<div>\n",
       "<style scoped>\n",
       "    .dataframe tbody tr th:only-of-type {\n",
       "        vertical-align: middle;\n",
       "    }\n",
       "\n",
       "    .dataframe tbody tr th {\n",
       "        vertical-align: top;\n",
       "    }\n",
       "\n",
       "    .dataframe thead th {\n",
       "        text-align: right;\n",
       "    }\n",
       "</style>\n",
       "<table border=\"1\" class=\"dataframe\">\n",
       "  <thead>\n",
       "    <tr style=\"text-align: right;\">\n",
       "      <th></th>\n",
       "      <th>sentiment</th>\n",
       "      <th>text</th>\n",
       "    </tr>\n",
       "  </thead>\n",
       "  <tbody>\n",
       "    <tr>\n",
       "      <th>224411</th>\n",
       "      <td>Negative</td>\n",
       "      <td>Oh, nice...... Bubba just pissed on my patio.....</td>\n",
       "    </tr>\n",
       "    <tr>\n",
       "      <th>840584</th>\n",
       "      <td>Positive</td>\n",
       "      <td>man, i wonder, howcome nobody came to my apart...</td>\n",
       "    </tr>\n",
       "    <tr>\n",
       "      <th>866950</th>\n",
       "      <td>Positive</td>\n",
       "      <td>theres really only one real reason to be up th...</td>\n",
       "    </tr>\n",
       "    <tr>\n",
       "      <th>741543</th>\n",
       "      <td>Negative</td>\n",
       "      <td>@SoulIsTheGoal a bag?  then you clearly have b...</td>\n",
       "    </tr>\n",
       "    <tr>\n",
       "      <th>137467</th>\n",
       "      <td>Negative</td>\n",
       "      <td>Me tired... Too busy. I had to remote into wor...</td>\n",
       "    </tr>\n",
       "    <tr>\n",
       "      <th>811814</th>\n",
       "      <td>Positive</td>\n",
       "      <td>Lady Gaga still has the #1 spot  hooray 4 pop ...</td>\n",
       "    </tr>\n",
       "    <tr>\n",
       "      <th>1308393</th>\n",
       "      <td>Positive</td>\n",
       "      <td>@Neilochka Doesn't undermine. Enhances!  And s...</td>\n",
       "    </tr>\n",
       "    <tr>\n",
       "      <th>182306</th>\n",
       "      <td>Negative</td>\n",
       "      <td>@TheNewBradie uhhh i think thts called puss  e...</td>\n",
       "    </tr>\n",
       "    <tr>\n",
       "      <th>1106247</th>\n",
       "      <td>Positive</td>\n",
       "      <td>Thanks to everyone for giving Mike such a wond...</td>\n",
       "    </tr>\n",
       "    <tr>\n",
       "      <th>620053</th>\n",
       "      <td>Negative</td>\n",
       "      <td>hmmm. i seem to be the only one posting. maybe...</td>\n",
       "    </tr>\n",
       "  </tbody>\n",
       "</table>\n",
       "</div>"
      ],
      "text/plain": [
       "        sentiment                                               text\n",
       "224411   Negative  Oh, nice...... Bubba just pissed on my patio.....\n",
       "840584   Positive  man, i wonder, howcome nobody came to my apart...\n",
       "866950   Positive  theres really only one real reason to be up th...\n",
       "741543   Negative  @SoulIsTheGoal a bag?  then you clearly have b...\n",
       "137467   Negative  Me tired... Too busy. I had to remote into wor...\n",
       "811814   Positive  Lady Gaga still has the #1 spot  hooray 4 pop ...\n",
       "1308393  Positive  @Neilochka Doesn't undermine. Enhances!  And s...\n",
       "182306   Negative  @TheNewBradie uhhh i think thts called puss  e...\n",
       "1106247  Positive  Thanks to everyone for giving Mike such a wond...\n",
       "620053   Negative  hmmm. i seem to be the only one posting. maybe..."
      ]
     },
     "execution_count": 8,
     "metadata": {},
     "output_type": "execute_result"
    }
   ],
   "source": [
    "import random\n",
    "random_idx_list = [random.randint(1,len(df.text)) for i in range(10)] # creates random indexes to choose from dataframe\n",
    "df.loc[random_idx_list,:].head(10) # Returns the rows with the index and display it"
   ]
  },
  {
   "cell_type": "code",
   "execution_count": 9,
   "id": "692e27d1",
   "metadata": {
    "execution": {
     "iopub.execute_input": "2021-12-09T08:23:14.068259Z",
     "iopub.status.busy": "2021-12-09T08:23:14.067747Z",
     "iopub.status.idle": "2021-12-09T08:23:14.071961Z",
     "shell.execute_reply": "2021-12-09T08:23:14.070998Z",
     "shell.execute_reply.started": "2021-12-08T21:20:43.933435Z"
    },
    "papermill": {
     "duration": 0.027283,
     "end_time": "2021-12-09T08:23:14.072068",
     "exception": false,
     "start_time": "2021-12-09T08:23:14.044785",
     "status": "completed"
    },
    "tags": []
   },
   "outputs": [],
   "source": [
    "stop_words = stopwords.words('english')\n",
    "stemmer = SnowballStemmer('english')\n",
    "\n",
    "text_cleaning_re = \"@\\S+|https?:\\S+|http?:\\S|[^A-Za-z0-9]+\""
   ]
  },
  {
   "cell_type": "code",
   "execution_count": 10,
   "id": "116d5615",
   "metadata": {
    "execution": {
     "iopub.execute_input": "2021-12-09T08:23:14.117697Z",
     "iopub.status.busy": "2021-12-09T08:23:14.116462Z",
     "iopub.status.idle": "2021-12-09T08:23:14.119226Z",
     "shell.execute_reply": "2021-12-09T08:23:14.118807Z",
     "shell.execute_reply.started": "2021-12-08T21:20:43.94009Z"
    },
    "papermill": {
     "duration": 0.027049,
     "end_time": "2021-12-09T08:23:14.119328",
     "exception": false,
     "start_time": "2021-12-09T08:23:14.092279",
     "status": "completed"
    },
    "tags": []
   },
   "outputs": [],
   "source": [
    "def preprocess(text, stem=False):\n",
    "  text = re.sub(text_cleaning_re, ' ', str(text).lower()).strip()\n",
    "  tokens = []\n",
    "  for token in text.split():\n",
    "    if token not in stop_words:\n",
    "      if stem:\n",
    "        tokens.append(stemmer.stem(token))\n",
    "      else:\n",
    "        tokens.append(token)\n",
    "  return \" \".join(tokens)"
   ]
  },
  {
   "cell_type": "code",
   "execution_count": 11,
   "id": "d26dbf0e",
   "metadata": {
    "execution": {
     "iopub.execute_input": "2021-12-09T08:23:14.162876Z",
     "iopub.status.busy": "2021-12-09T08:23:14.161803Z",
     "iopub.status.idle": "2021-12-09T08:24:13.126955Z",
     "shell.execute_reply": "2021-12-09T08:24:13.126425Z",
     "shell.execute_reply.started": "2021-12-08T21:20:43.950341Z"
    },
    "papermill": {
     "duration": 58.988629,
     "end_time": "2021-12-09T08:24:13.127091",
     "exception": false,
     "start_time": "2021-12-09T08:23:14.138462",
     "status": "completed"
    },
    "tags": []
   },
   "outputs": [],
   "source": [
    "df.text = df.text.apply(lambda x: preprocess(x))"
   ]
  },
  {
   "cell_type": "markdown",
   "id": "54b3b843",
   "metadata": {
    "papermill": {
     "duration": 0.01877,
     "end_time": "2021-12-09T08:24:13.165453",
     "exception": false,
     "start_time": "2021-12-09T08:24:13.146683",
     "status": "completed"
    },
    "tags": []
   },
   "source": [
    "## Train and Test Split"
   ]
  },
  {
   "cell_type": "code",
   "execution_count": 12,
   "id": "758f67a2",
   "metadata": {
    "execution": {
     "iopub.execute_input": "2021-12-09T08:24:13.207615Z",
     "iopub.status.busy": "2021-12-09T08:24:13.206856Z",
     "iopub.status.idle": "2021-12-09T08:24:13.209684Z",
     "shell.execute_reply": "2021-12-09T08:24:13.209254Z",
     "shell.execute_reply.started": "2021-12-08T21:21:43.004301Z"
    },
    "papermill": {
     "duration": 0.025348,
     "end_time": "2021-12-09T08:24:13.209803",
     "exception": false,
     "start_time": "2021-12-09T08:24:13.184455",
     "status": "completed"
    },
    "tags": []
   },
   "outputs": [],
   "source": [
    "TRAIN_SIZE = 0.8 \n",
    "MAX_NB_WORDS = 100000\n",
    "MAX_SEQUENCE_LENGTH = 30\n",
    "EMBEDDING_DIM = 10\n",
    "LR = 1e-3\n",
    "BATCH_SIZE = 50\n",
    "EPOCHS = 10"
   ]
  },
  {
   "cell_type": "code",
   "execution_count": 13,
   "id": "4a8a3e9e",
   "metadata": {
    "execution": {
     "iopub.execute_input": "2021-12-09T08:24:13.252411Z",
     "iopub.status.busy": "2021-12-09T08:24:13.251631Z",
     "iopub.status.idle": "2021-12-09T08:24:13.665756Z",
     "shell.execute_reply": "2021-12-09T08:24:13.665084Z",
     "shell.execute_reply.started": "2021-12-08T21:21:43.010795Z"
    },
    "papermill": {
     "duration": 0.437282,
     "end_time": "2021-12-09T08:24:13.665927",
     "exception": false,
     "start_time": "2021-12-09T08:24:13.228645",
     "status": "completed"
    },
    "tags": []
   },
   "outputs": [
    {
     "name": "stdout",
     "output_type": "stream",
     "text": [
      "Train Data size: 1280000\n",
      "Test Data size 320000\n"
     ]
    }
   ],
   "source": [
    "train_data, test_data = train_test_split(df, test_size=1-TRAIN_SIZE,\n",
    "                                         random_state=7) # Splits Dataset into Training and Testing set\n",
    "print(\"Train Data size:\", len(train_data))\n",
    "print(\"Test Data size\", len(test_data))"
   ]
  },
  {
   "cell_type": "code",
   "execution_count": 14,
   "id": "d26ee3c9",
   "metadata": {
    "execution": {
     "iopub.execute_input": "2021-12-09T08:24:13.709686Z",
     "iopub.status.busy": "2021-12-09T08:24:13.709051Z",
     "iopub.status.idle": "2021-12-09T08:24:31.186414Z",
     "shell.execute_reply": "2021-12-09T08:24:31.185409Z",
     "shell.execute_reply.started": "2021-12-08T21:21:43.451906Z"
    },
    "papermill": {
     "duration": 17.500552,
     "end_time": "2021-12-09T08:24:31.186604",
     "exception": false,
     "start_time": "2021-12-09T08:24:13.686052",
     "status": "completed"
    },
    "tags": []
   },
   "outputs": [
    {
     "name": "stdout",
     "output_type": "stream",
     "text": [
      "Vocabulary Size : 290575\n"
     ]
    }
   ],
   "source": [
    "from keras.preprocessing.text import Tokenizer\n",
    "\n",
    "tokenizer = Tokenizer()\n",
    "tokenizer.fit_on_texts(train_data.text)\n",
    "\n",
    "word_index = tokenizer.word_index\n",
    "vocab_size = len(tokenizer.word_index) + 1\n",
    "print(\"Vocabulary Size :\", vocab_size)"
   ]
  },
  {
   "cell_type": "code",
   "execution_count": 15,
   "id": "fa2a8876",
   "metadata": {
    "execution": {
     "iopub.execute_input": "2021-12-09T08:24:31.238903Z",
     "iopub.status.busy": "2021-12-09T08:24:31.238154Z",
     "iopub.status.idle": "2021-12-09T08:25:01.724738Z",
     "shell.execute_reply": "2021-12-09T08:25:01.725325Z",
     "shell.execute_reply.started": "2021-12-08T21:22:01.329561Z"
    },
    "papermill": {
     "duration": 30.518233,
     "end_time": "2021-12-09T08:25:01.725549",
     "exception": false,
     "start_time": "2021-12-09T08:24:31.207316",
     "status": "completed"
    },
    "tags": []
   },
   "outputs": [
    {
     "name": "stdout",
     "output_type": "stream",
     "text": [
      "Training X Shape: (1280000, 30)\n",
      "Testing X Shape: (320000, 30)\n",
      "<class 'numpy.ndarray'>\n",
      "<class 'numpy.ndarray'>\n"
     ]
    }
   ],
   "source": [
    "from keras.preprocessing.sequence import pad_sequences\n",
    "\n",
    "x_train = pad_sequences(tokenizer.texts_to_sequences(train_data.text),\n",
    "                        maxlen = MAX_SEQUENCE_LENGTH)\n",
    "x_test = pad_sequences(tokenizer.texts_to_sequences(test_data.text),\n",
    "                       maxlen = MAX_SEQUENCE_LENGTH)\n",
    "\n",
    "print(\"Training X Shape:\",x_train.shape)\n",
    "print(\"Testing X Shape:\",x_test.shape)\n",
    "\n",
    "print(type(x_train))\n",
    "print(type(x_test))"
   ]
  },
  {
   "cell_type": "code",
   "execution_count": 16,
   "id": "d3ed66ed",
   "metadata": {
    "execution": {
     "iopub.execute_input": "2021-12-09T08:25:01.832727Z",
     "iopub.status.busy": "2021-12-09T08:25:01.832008Z",
     "iopub.status.idle": "2021-12-09T08:25:01.853145Z",
     "shell.execute_reply": "2021-12-09T08:25:01.853504Z",
     "shell.execute_reply.started": "2021-12-08T21:22:32.218368Z"
    },
    "papermill": {
     "duration": 0.107026,
     "end_time": "2021-12-09T08:25:01.853648",
     "exception": false,
     "start_time": "2021-12-09T08:25:01.746622",
     "status": "completed"
    },
    "tags": []
   },
   "outputs": [],
   "source": [
    "labels = train_data.sentiment.unique().tolist()"
   ]
  },
  {
   "cell_type": "code",
   "execution_count": 17,
   "id": "fe2a2167",
   "metadata": {
    "execution": {
     "iopub.execute_input": "2021-12-09T08:25:02.163452Z",
     "iopub.status.busy": "2021-12-09T08:25:02.057224Z",
     "iopub.status.idle": "2021-12-09T08:25:03.072139Z",
     "shell.execute_reply": "2021-12-09T08:25:03.072840Z",
     "shell.execute_reply.started": "2021-12-08T21:22:32.314085Z"
    },
    "papermill": {
     "duration": 1.199577,
     "end_time": "2021-12-09T08:25:03.072989",
     "exception": false,
     "start_time": "2021-12-09T08:25:01.873412",
     "status": "completed"
    },
    "tags": []
   },
   "outputs": [
    {
     "name": "stdout",
     "output_type": "stream",
     "text": [
      "y_train shape: (1280000, 1)\n",
      "y_test shape: (320000, 1)\n"
     ]
    }
   ],
   "source": [
    "encoder = LabelEncoder()\n",
    "encoder.fit(train_data.sentiment.to_list())\n",
    "\n",
    "y_train = encoder.transform(train_data.sentiment.to_list())\n",
    "y_test = encoder.transform(test_data.sentiment.to_list())\n",
    "\n",
    "y_train = y_train.reshape(-1,1)\n",
    "y_test = y_test.reshape(-1,1)\n",
    "\n",
    "train_data = TensorDataset(torch.from_numpy(x_train), torch.from_numpy(y_train))\n",
    "test_data = TensorDataset(torch.from_numpy(x_test), torch.from_numpy(y_test))\n",
    "\n",
    "train_loader = DataLoader(train_data, shuffle=True, batch_size=BATCH_SIZE, drop_last = True)\n",
    "test_loader = DataLoader(test_data, shuffle=True, batch_size=BATCH_SIZE, drop_last = True)\n",
    "\n",
    "print(\"y_train shape:\", y_train.shape)\n",
    "print(\"y_test shape:\", y_test.shape)"
   ]
  },
  {
   "cell_type": "code",
   "execution_count": 18,
   "id": "5a1a7588",
   "metadata": {
    "execution": {
     "iopub.execute_input": "2021-12-09T08:25:03.125991Z",
     "iopub.status.busy": "2021-12-09T08:25:03.125294Z",
     "iopub.status.idle": "2021-12-09T08:25:03.128119Z",
     "shell.execute_reply": "2021-12-09T08:25:03.127730Z",
     "shell.execute_reply.started": "2021-12-08T21:22:33.529097Z"
    },
    "papermill": {
     "duration": 0.034783,
     "end_time": "2021-12-09T08:25:03.128220",
     "exception": false,
     "start_time": "2021-12-09T08:25:03.093437",
     "status": "completed"
    },
    "tags": []
   },
   "outputs": [],
   "source": [
    "class PositionalEncoding(nn.Module):\n",
    "\n",
    "    def __init__(self, d_model, dropout=0.1, max_len=5000):\n",
    "        super(PositionalEncoding, self).__init__()\n",
    "        self.dropout = nn.Dropout(p=dropout)\n",
    "\n",
    "        pe = torch.zeros(max_len, d_model)\n",
    "        position = torch.arange(0, max_len, dtype=torch.float).unsqueeze(1)\n",
    "        div_term = torch.exp(torch.arange(0, d_model, 2).float() * (-math.log(10000.0) / d_model))\n",
    "        pe[:, 0::2] = torch.sin(position * div_term)\n",
    "        pe[:, 1::2] = torch.cos(position * div_term)\n",
    "        pe = pe.unsqueeze(0).transpose(0, 1)\n",
    "        self.register_buffer('pe', pe)\n",
    "\n",
    "    def forward(self, x):\n",
    "        x = x + self.pe[:x.size(0), :]\n",
    "        return self.dropout(x)\n",
    "    \n",
    "class SentimentNet(nn.Module):\n",
    "    def __init__(self, vocab_size, output_size, embedding_dim, hidden_dim, n_layers, drop_prob=0.2):\n",
    "        super(SentimentNet, self).__init__()\n",
    "        self.output_size = output_size\n",
    "        self.n_layers = n_layers\n",
    "        self.hidden_dim = hidden_dim\n",
    "        self.dropout = nn.Dropout(drop_prob)\n",
    "        self.embedding_dim = embedding_dim\n",
    "        self.sigmoid = nn.Sigmoid()\n",
    "        \n",
    "        \n",
    "        self.encoder = nn.Embedding(vocab_size, embedding_dim)\n",
    "        self.pos_encoder = PositionalEncoding(embedding_dim, drop_prob)\n",
    "        encoder_layer = nn.TransformerEncoderLayer(embedding_dim, 2, hidden_dim)\n",
    "        self.transformer_encoder = nn.TransformerEncoder(encoder_layer, num_layers=n_layers)\n",
    "        \n",
    "\n",
    "        self.fc = nn.Linear(embedding_dim * 30 , 1)\n",
    "\n",
    "    \n",
    "    def forward(self, src):\n",
    "        src = self.encoder(src) * math.sqrt(self.embedding_dim)\n",
    "        src = self.pos_encoder(src)\n",
    "        output = self.transformer_encoder(src)\n",
    "        output = output.view(output.size(0), -1)\n",
    "        output = self.sigmoid(self.fc(output))\n",
    "        return output"
   ]
  },
  {
   "cell_type": "code",
   "execution_count": 19,
   "id": "c010d16c",
   "metadata": {
    "execution": {
     "iopub.execute_input": "2021-12-09T08:25:03.172972Z",
     "iopub.status.busy": "2021-12-09T08:25:03.172270Z",
     "iopub.status.idle": "2021-12-09T08:25:03.174980Z",
     "shell.execute_reply": "2021-12-09T08:25:03.174589Z",
     "shell.execute_reply.started": "2021-12-08T21:22:33.544023Z"
    },
    "papermill": {
     "duration": 0.026576,
     "end_time": "2021-12-09T08:25:03.175079",
     "exception": false,
     "start_time": "2021-12-09T08:25:03.148503",
     "status": "completed"
    },
    "tags": []
   },
   "outputs": [],
   "source": [
    "def model_params(model):\n",
    "    pp=0\n",
    "    for p in list(model.parameters()):\n",
    "        nn=1\n",
    "        for s in list(p.size()):\n",
    "            nn = nn*s\n",
    "        pp += nn\n",
    "    return pp"
   ]
  },
  {
   "cell_type": "code",
   "execution_count": 20,
   "id": "abc5473d",
   "metadata": {
    "execution": {
     "iopub.execute_input": "2021-12-09T08:25:03.223104Z",
     "iopub.status.busy": "2021-12-09T08:25:03.222573Z",
     "iopub.status.idle": "2021-12-09T08:25:08.828622Z",
     "shell.execute_reply": "2021-12-09T08:25:08.828092Z",
     "shell.execute_reply.started": "2021-12-08T21:22:33.557558Z"
    },
    "papermill": {
     "duration": 5.633715,
     "end_time": "2021-12-09T08:25:08.828761",
     "exception": false,
     "start_time": "2021-12-09T08:25:03.195046",
     "status": "completed"
    },
    "tags": []
   },
   "outputs": [
    {
     "name": "stdout",
     "output_type": "stream",
     "text": [
      "8722265\n"
     ]
    }
   ],
   "source": [
    "import math\n",
    "\n",
    "output_size = 1\n",
    "embedding_dim = 30\n",
    "hidden_dim = 4\n",
    "n_layers = 1\n",
    "\n",
    "model = SentimentNet(vocab_size, output_size, embedding_dim, hidden_dim, n_layers)\n",
    "model.to(device)\n",
    "print(model_params(model))\n",
    "lr=0.008\n",
    "criterion = nn.BCELoss()\n",
    "optimizer = torch.optim.Adam(model.parameters(), lr=lr)"
   ]
  },
  {
   "cell_type": "code",
   "execution_count": 21,
   "id": "e853e71f",
   "metadata": {
    "execution": {
     "iopub.execute_input": "2021-12-09T08:25:08.887664Z",
     "iopub.status.busy": "2021-12-09T08:25:08.887012Z",
     "iopub.status.idle": "2021-12-09T09:01:45.896272Z",
     "shell.execute_reply": "2021-12-09T09:01:45.895787Z",
     "shell.execute_reply.started": "2021-12-08T21:22:39.586111Z"
    },
    "papermill": {
     "duration": 2197.043923,
     "end_time": "2021-12-09T09:01:45.896407",
     "exception": false,
     "start_time": "2021-12-09T08:25:08.852484",
     "status": "completed"
    },
    "tags": []
   },
   "outputs": [
    {
     "name": "stdout",
     "output_type": "stream",
     "text": [
      "Epoch: 1/3... Step: 500... Loss: 0.684112... Val Loss: 0.660692\n",
      "Validation loss decreased (inf --> 0.660692).  Saving model ...\n",
      "Epoch: 1/3... Step: 1000... Loss: 0.628492... Val Loss: 0.610792\n",
      "Validation loss decreased (0.660692 --> 0.610792).  Saving model ...\n",
      "Epoch: 1/3... Step: 1500... Loss: 0.629355... Val Loss: 0.585084\n",
      "Validation loss decreased (0.610792 --> 0.585084).  Saving model ...\n",
      "Epoch: 1/3... Step: 2000... Loss: 0.709294... Val Loss: 0.575164\n",
      "Validation loss decreased (0.585084 --> 0.575164).  Saving model ...\n",
      "Epoch: 1/3... Step: 2500... Loss: 0.664702... Val Loss: 0.540413\n",
      "Validation loss decreased (0.575164 --> 0.540413).  Saving model ...\n",
      "Epoch: 1/3... Step: 3000... Loss: 0.580552... Val Loss: 0.532655\n",
      "Validation loss decreased (0.540413 --> 0.532655).  Saving model ...\n",
      "Epoch: 1/3... Step: 3500... Loss: 0.453855... Val Loss: 0.570623\n",
      "Epoch: 1/3... Step: 4000... Loss: 0.451296... Val Loss: 0.524861\n",
      "Validation loss decreased (0.532655 --> 0.524861).  Saving model ...\n",
      "Epoch: 1/3... Step: 4500... Loss: 0.479765... Val Loss: 0.548688\n",
      "Epoch: 1/3... Step: 5000... Loss: 0.622938... Val Loss: 0.509744\n",
      "Validation loss decreased (0.524861 --> 0.509744).  Saving model ...\n",
      "Epoch: 1/3... Step: 5500... Loss: 0.630684... Val Loss: 0.520215\n",
      "Epoch: 1/3... Step: 6000... Loss: 0.650064... Val Loss: 0.507063\n",
      "Validation loss decreased (0.509744 --> 0.507063).  Saving model ...\n",
      "Epoch: 1/3... Step: 6500... Loss: 0.504960... Val Loss: 0.504990\n",
      "Validation loss decreased (0.507063 --> 0.504990).  Saving model ...\n",
      "Epoch: 1/3... Step: 7000... Loss: 0.435206... Val Loss: 0.512766\n",
      "Epoch: 1/3... Step: 7500... Loss: 0.448337... Val Loss: 0.501942\n",
      "Validation loss decreased (0.504990 --> 0.501942).  Saving model ...\n",
      "Epoch: 1/3... Step: 8000... Loss: 0.540557... Val Loss: 0.516099\n",
      "Epoch: 1/3... Step: 8500... Loss: 0.459291... Val Loss: 0.499736\n",
      "Validation loss decreased (0.501942 --> 0.499736).  Saving model ...\n",
      "Epoch: 1/3... Step: 9000... Loss: 0.597287... Val Loss: 0.499291\n",
      "Validation loss decreased (0.499736 --> 0.499291).  Saving model ...\n",
      "Epoch: 1/3... Step: 9500... Loss: 0.439084... Val Loss: 0.494224\n",
      "Validation loss decreased (0.499291 --> 0.494224).  Saving model ...\n",
      "Epoch: 1/3... Step: 10000... Loss: 0.528686... Val Loss: 0.494720\n",
      "Epoch: 1/3... Step: 10500... Loss: 0.598862... Val Loss: 0.497724\n",
      "Epoch: 1/3... Step: 11000... Loss: 0.690830... Val Loss: 0.497657\n",
      "Epoch: 1/3... Step: 11500... Loss: 0.552170... Val Loss: 0.494756\n",
      "Epoch: 1/3... Step: 12000... Loss: 0.395414... Val Loss: 0.505405\n",
      "Epoch: 1/3... Step: 12500... Loss: 0.446025... Val Loss: 0.492317\n",
      "Validation loss decreased (0.494224 --> 0.492317).  Saving model ...\n",
      "Epoch: 1/3... Step: 13000... Loss: 0.472910... Val Loss: 0.499554\n",
      "Epoch: 1/3... Step: 13500... Loss: 0.543331... Val Loss: 0.493289\n",
      "Epoch: 1/3... Step: 14000... Loss: 0.475456... Val Loss: 0.494019\n",
      "Epoch: 1/3... Step: 14500... Loss: 0.578231... Val Loss: 0.505439\n",
      "Epoch: 1/3... Step: 15000... Loss: 0.581737... Val Loss: 0.489714\n",
      "Validation loss decreased (0.492317 --> 0.489714).  Saving model ...\n",
      "Epoch: 1/3... Step: 15500... Loss: 0.466037... Val Loss: 0.488789\n",
      "Validation loss decreased (0.489714 --> 0.488789).  Saving model ...\n",
      "Epoch: 1/3... Step: 16000... Loss: 0.700538... Val Loss: 0.493181\n",
      "Epoch: 1/3... Step: 16500... Loss: 0.532268... Val Loss: 0.487607\n",
      "Validation loss decreased (0.488789 --> 0.487607).  Saving model ...\n",
      "Epoch: 1/3... Step: 17000... Loss: 0.452920... Val Loss: 0.486308\n",
      "Validation loss decreased (0.487607 --> 0.486308).  Saving model ...\n",
      "Epoch: 1/3... Step: 17500... Loss: 0.393162... Val Loss: 0.503368\n",
      "Epoch: 1/3... Step: 18000... Loss: 0.474809... Val Loss: 0.487021\n",
      "Epoch: 1/3... Step: 18500... Loss: 0.512619... Val Loss: 0.492310\n",
      "Epoch: 1/3... Step: 19000... Loss: 0.561186... Val Loss: 0.485121\n",
      "Validation loss decreased (0.486308 --> 0.485121).  Saving model ...\n",
      "Epoch: 1/3... Step: 19500... Loss: 0.356426... Val Loss: 0.483411\n",
      "Validation loss decreased (0.485121 --> 0.483411).  Saving model ...\n",
      "Epoch: 1/3... Step: 20000... Loss: 0.392348... Val Loss: 0.486140\n",
      "Epoch: 1/3... Step: 20500... Loss: 0.497609... Val Loss: 0.489921\n",
      "Epoch: 1/3... Step: 21000... Loss: 0.512039... Val Loss: 0.481965\n",
      "Validation loss decreased (0.483411 --> 0.481965).  Saving model ...\n",
      "Epoch: 1/3... Step: 21500... Loss: 0.480385... Val Loss: 0.532442\n",
      "Epoch: 1/3... Step: 22000... Loss: 0.641440... Val Loss: 0.481445\n",
      "Validation loss decreased (0.481965 --> 0.481445).  Saving model ...\n",
      "Epoch: 1/3... Step: 22500... Loss: 0.586377... Val Loss: 0.483354\n",
      "Epoch: 1/3... Step: 23000... Loss: 0.627446... Val Loss: 0.481540\n",
      "Epoch: 1/3... Step: 23500... Loss: 0.507846... Val Loss: 0.481859\n",
      "Epoch: 1/3... Step: 24000... Loss: 0.511497... Val Loss: 0.481513\n",
      "Epoch: 1/3... Step: 24500... Loss: 0.451469... Val Loss: 0.488023\n",
      "Epoch: 1/3... Step: 25000... Loss: 0.505832... Val Loss: 0.484095\n",
      "Epoch: 1/3... Step: 25500... Loss: 0.397901... Val Loss: 0.488143\n",
      "Epoch: 2/3... Step: 26000... Loss: 0.415295... Val Loss: 0.488098\n",
      "Epoch: 2/3... Step: 26500... Loss: 0.533927... Val Loss: 0.550489\n",
      "Epoch: 2/3... Step: 27000... Loss: 0.429702... Val Loss: 0.484689\n",
      "Epoch: 2/3... Step: 27500... Loss: 0.475617... Val Loss: 0.481444\n",
      "Validation loss decreased (0.481445 --> 0.481444).  Saving model ...\n",
      "Epoch: 2/3... Step: 28000... Loss: 0.469127... Val Loss: 0.492664\n",
      "Epoch: 2/3... Step: 28500... Loss: 0.537375... Val Loss: 0.490109\n",
      "Epoch: 2/3... Step: 29000... Loss: 0.536532... Val Loss: 0.491560\n",
      "Epoch: 2/3... Step: 29500... Loss: 0.433579... Val Loss: 0.480398\n",
      "Validation loss decreased (0.481444 --> 0.480398).  Saving model ...\n",
      "Epoch: 2/3... Step: 30000... Loss: 0.683773... Val Loss: 0.483566\n",
      "Epoch: 2/3... Step: 30500... Loss: 0.319287... Val Loss: 0.486877\n",
      "Epoch: 2/3... Step: 31000... Loss: 0.448152... Val Loss: 0.483402\n",
      "Epoch: 2/3... Step: 31500... Loss: 0.445478... Val Loss: 0.487060\n",
      "Epoch: 2/3... Step: 32000... Loss: 0.473707... Val Loss: 0.491397\n",
      "Epoch: 2/3... Step: 32500... Loss: 0.487242... Val Loss: 0.488777\n",
      "Epoch: 2/3... Step: 33000... Loss: 0.326756... Val Loss: 0.480723\n",
      "Epoch: 2/3... Step: 33500... Loss: 0.625558... Val Loss: 0.490333\n",
      "Epoch: 2/3... Step: 34000... Loss: 0.511927... Val Loss: 0.494768\n",
      "Epoch: 2/3... Step: 34500... Loss: 0.557211... Val Loss: 0.482593\n",
      "Epoch: 2/3... Step: 35000... Loss: 0.515689... Val Loss: 0.491242\n",
      "Epoch: 2/3... Step: 35500... Loss: 0.653222... Val Loss: 0.484719\n",
      "Epoch: 2/3... Step: 36000... Loss: 0.583047... Val Loss: 0.487691\n",
      "Epoch: 2/3... Step: 36500... Loss: 0.501393... Val Loss: 0.483290\n",
      "Epoch: 2/3... Step: 37000... Loss: 0.585479... Val Loss: 0.483175\n",
      "Epoch: 2/3... Step: 37500... Loss: 0.414290... Val Loss: 0.492826\n",
      "Epoch: 2/3... Step: 38000... Loss: 0.348669... Val Loss: 0.484474\n",
      "Epoch: 2/3... Step: 38500... Loss: 0.392483... Val Loss: 0.481948\n",
      "Epoch: 2/3... Step: 39000... Loss: 0.480572... Val Loss: 0.481757\n",
      "Epoch: 2/3... Step: 39500... Loss: 0.437619... Val Loss: 0.481255\n",
      "Epoch: 2/3... Step: 40000... Loss: 0.466615... Val Loss: 0.483129\n",
      "Epoch: 2/3... Step: 40500... Loss: 0.522201... Val Loss: 0.492158\n",
      "Epoch: 2/3... Step: 41000... Loss: 0.503748... Val Loss: 0.485978\n",
      "Epoch: 2/3... Step: 41500... Loss: 0.506948... Val Loss: 0.487208\n",
      "Epoch: 2/3... Step: 42000... Loss: 0.483489... Val Loss: 0.478681\n",
      "Validation loss decreased (0.480398 --> 0.478681).  Saving model ...\n",
      "Epoch: 2/3... Step: 42500... Loss: 0.333091... Val Loss: 0.485363\n",
      "Epoch: 2/3... Step: 43000... Loss: 0.459459... Val Loss: 0.483625\n",
      "Epoch: 2/3... Step: 43500... Loss: 0.456010... Val Loss: 0.482998\n",
      "Epoch: 2/3... Step: 44000... Loss: 0.406701... Val Loss: 0.484026\n",
      "Epoch: 2/3... Step: 44500... Loss: 0.414897... Val Loss: 0.479903\n",
      "Epoch: 2/3... Step: 45000... Loss: 0.460275... Val Loss: 0.486425\n",
      "Epoch: 2/3... Step: 45500... Loss: 0.505833... Val Loss: 0.484857\n",
      "Epoch: 2/3... Step: 46000... Loss: 0.492389... Val Loss: 0.482154\n",
      "Epoch: 2/3... Step: 46500... Loss: 0.705475... Val Loss: 0.484242\n",
      "Epoch: 2/3... Step: 47000... Loss: 0.463928... Val Loss: 0.483303\n",
      "Epoch: 2/3... Step: 47500... Loss: 0.425350... Val Loss: 0.494644\n",
      "Epoch: 2/3... Step: 48000... Loss: 0.672755... Val Loss: 0.490896\n",
      "Epoch: 2/3... Step: 48500... Loss: 0.402373... Val Loss: 0.484945\n",
      "Epoch: 2/3... Step: 49000... Loss: 0.499163... Val Loss: 0.485821\n",
      "Epoch: 2/3... Step: 49500... Loss: 0.370691... Val Loss: 0.494876\n",
      "Epoch: 2/3... Step: 50000... Loss: 0.496283... Val Loss: 0.479771\n",
      "Epoch: 2/3... Step: 50500... Loss: 0.433626... Val Loss: 0.495214\n",
      "Epoch: 2/3... Step: 51000... Loss: 0.507342... Val Loss: 0.481753\n",
      "Epoch: 3/3... Step: 51500... Loss: 0.594269... Val Loss: 0.487204\n",
      "Epoch: 3/3... Step: 52000... Loss: 0.520220... Val Loss: 0.488908\n",
      "Epoch: 3/3... Step: 52500... Loss: 0.664669... Val Loss: 0.484084\n",
      "Epoch: 3/3... Step: 53000... Loss: 0.432006... Val Loss: 0.483416\n",
      "Epoch: 3/3... Step: 53500... Loss: 0.433835... Val Loss: 0.477447\n",
      "Validation loss decreased (0.478681 --> 0.477447).  Saving model ...\n",
      "Epoch: 3/3... Step: 54000... Loss: 0.413141... Val Loss: 0.487956\n",
      "Epoch: 3/3... Step: 54500... Loss: 0.528358... Val Loss: 0.484557\n",
      "Epoch: 3/3... Step: 55000... Loss: 0.493856... Val Loss: 0.496198\n",
      "Epoch: 3/3... Step: 55500... Loss: 0.388749... Val Loss: 0.493816\n",
      "Epoch: 3/3... Step: 56000... Loss: 0.426747... Val Loss: 0.484513\n",
      "Epoch: 3/3... Step: 56500... Loss: 0.491099... Val Loss: 0.492219\n",
      "Epoch: 3/3... Step: 57000... Loss: 0.462101... Val Loss: 0.500216\n",
      "Epoch: 3/3... Step: 57500... Loss: 0.420460... Val Loss: 0.479933\n",
      "Epoch: 3/3... Step: 58000... Loss: 0.420882... Val Loss: 0.497957\n",
      "Epoch: 3/3... Step: 58500... Loss: 0.313049... Val Loss: 0.487514\n",
      "Epoch: 3/3... Step: 59000... Loss: 0.442885... Val Loss: 0.515388\n",
      "Epoch: 3/3... Step: 59500... Loss: 0.534618... Val Loss: 0.484605\n",
      "Epoch: 3/3... Step: 60000... Loss: 0.671290... Val Loss: 0.490316\n",
      "Epoch: 3/3... Step: 60500... Loss: 0.468883... Val Loss: 0.494488\n",
      "Epoch: 3/3... Step: 61000... Loss: 0.454223... Val Loss: 0.480707\n",
      "Epoch: 3/3... Step: 61500... Loss: 0.362666... Val Loss: 0.486721\n",
      "Epoch: 3/3... Step: 62000... Loss: 0.554644... Val Loss: 0.489782\n",
      "Epoch: 3/3... Step: 62500... Loss: 0.556802... Val Loss: 0.487989\n",
      "Epoch: 3/3... Step: 63000... Loss: 0.427002... Val Loss: 0.487868\n",
      "Epoch: 3/3... Step: 63500... Loss: 0.509252... Val Loss: 0.495356\n",
      "Epoch: 3/3... Step: 64000... Loss: 0.578590... Val Loss: 0.482608\n",
      "Epoch: 3/3... Step: 64500... Loss: 0.404404... Val Loss: 0.494227\n",
      "Epoch: 3/3... Step: 65000... Loss: 0.442981... Val Loss: 0.479140\n",
      "Epoch: 3/3... Step: 65500... Loss: 0.484879... Val Loss: 0.485951\n",
      "Epoch: 3/3... Step: 66000... Loss: 0.353854... Val Loss: 0.482894\n",
      "Epoch: 3/3... Step: 66500... Loss: 0.524838... Val Loss: 0.487435\n",
      "Epoch: 3/3... Step: 67000... Loss: 0.484395... Val Loss: 0.480828\n",
      "Epoch: 3/3... Step: 67500... Loss: 0.469801... Val Loss: 0.492431\n",
      "Epoch: 3/3... Step: 68000... Loss: 0.418577... Val Loss: 0.491803\n",
      "Epoch: 3/3... Step: 68500... Loss: 0.448338... Val Loss: 0.482476\n",
      "Epoch: 3/3... Step: 69000... Loss: 0.411500... Val Loss: 0.483520\n",
      "Epoch: 3/3... Step: 69500... Loss: 0.464935... Val Loss: 0.487974\n",
      "Epoch: 3/3... Step: 70000... Loss: 0.459912... Val Loss: 0.482618\n",
      "Epoch: 3/3... Step: 70500... Loss: 0.459620... Val Loss: 0.488561\n",
      "Epoch: 3/3... Step: 71000... Loss: 0.613709... Val Loss: 0.491093\n",
      "Epoch: 3/3... Step: 71500... Loss: 0.490898... Val Loss: 0.479250\n",
      "Epoch: 3/3... Step: 72000... Loss: 0.469102... Val Loss: 0.482549\n",
      "Epoch: 3/3... Step: 72500... Loss: 0.433872... Val Loss: 0.488244\n",
      "Epoch: 3/3... Step: 73000... Loss: 0.412187... Val Loss: 0.485113\n",
      "Epoch: 3/3... Step: 73500... Loss: 0.499075... Val Loss: 0.486509\n",
      "Epoch: 3/3... Step: 74000... Loss: 0.412117... Val Loss: 0.481246\n",
      "Epoch: 3/3... Step: 74500... Loss: 0.480648... Val Loss: 0.487431\n",
      "Epoch: 3/3... Step: 75000... Loss: 0.440430... Val Loss: 0.486872\n",
      "Epoch: 3/3... Step: 75500... Loss: 0.278782... Val Loss: 0.499371\n",
      "Epoch: 3/3... Step: 76000... Loss: 0.474123... Val Loss: 0.485444\n",
      "Epoch: 3/3... Step: 76500... Loss: 0.525523... Val Loss: 0.480305\n"
     ]
    }
   ],
   "source": [
    "epochs = 3\n",
    "counter = 0\n",
    "print_every = 500\n",
    "clip = 5\n",
    "valid_loss_min = np.Inf\n",
    "\n",
    "model.train()\n",
    "for i in range(epochs):\n",
    "    \n",
    "    for inputs, labels in train_loader:\n",
    "        counter += 1\n",
    "        inputs, labels = inputs.to(device), labels.to(device)\n",
    "        model.zero_grad()\n",
    "        output = model(inputs.long())\n",
    "        \n",
    "        loss = criterion(output, labels.float())\n",
    "        \n",
    "        \n",
    "        loss.backward()\n",
    "        #nn.utils.clip_grad_norm_(model.parameters(), clip)\n",
    "        optimizer.step()\n",
    "        \n",
    "        if counter%print_every == 0:\n",
    "            val_losses = []\n",
    "            model.eval()\n",
    "            for inp, lab in test_loader:\n",
    "                inp, lab = inp.to(device), lab.to(device)\n",
    "                out = model(inp.long())\n",
    "                val_loss = criterion(out, lab.float())\n",
    "                val_losses.append(val_loss.item())\n",
    "                \n",
    "            model.train()\n",
    "            print(\"Epoch: {}/{}...\".format(i+1, epochs),\n",
    "                  \"Step: {}...\".format(counter),\n",
    "                  \"Loss: {:.6f}...\".format(loss.item()),\n",
    "                  \"Val Loss: {:.6f}\".format(np.mean(val_losses)))\n",
    "            if np.mean(val_losses) <= valid_loss_min:\n",
    "                torch.save(model.state_dict(), './state_dict.pt')\n",
    "                print('Validation loss decreased ({:.6f} --> {:.6f}).  Saving model ...'.format(valid_loss_min,np.mean(val_losses)))\n",
    "                valid_loss_min = np.mean(val_losses)"
   ]
  },
  {
   "cell_type": "code",
   "execution_count": 22,
   "id": "98a5ff37",
   "metadata": {
    "execution": {
     "iopub.execute_input": "2021-12-09T09:01:46.021793Z",
     "iopub.status.busy": "2021-12-09T09:01:46.020935Z",
     "iopub.status.idle": "2021-12-09T09:01:46.045442Z",
     "shell.execute_reply": "2021-12-09T09:01:46.045037Z"
    },
    "papermill": {
     "duration": 0.089791,
     "end_time": "2021-12-09T09:01:46.045577",
     "exception": false,
     "start_time": "2021-12-09T09:01:45.955786",
     "status": "completed"
    },
    "tags": []
   },
   "outputs": [
    {
     "data": {
      "text/plain": [
       "tensor([[0.8711]], device='cuda:0', grad_fn=<SigmoidBackward>)"
      ]
     },
     "execution_count": 22,
     "metadata": {},
     "output_type": "execute_result"
    }
   ],
   "source": [
    "sentence = \"I love you\"\n",
    "trial = torch.tensor(pad_sequences(tokenizer.texts_to_sequences([sentence]), maxlen = MAX_SEQUENCE_LENGTH)).long().to(device)\n",
    "\n",
    "model(trial)"
   ]
  },
  {
   "cell_type": "code",
   "execution_count": 23,
   "id": "fb07300d",
   "metadata": {
    "execution": {
     "iopub.execute_input": "2021-12-09T09:01:46.169850Z",
     "iopub.status.busy": "2021-12-09T09:01:46.169191Z",
     "iopub.status.idle": "2021-12-09T09:01:46.578655Z",
     "shell.execute_reply": "2021-12-09T09:01:46.578107Z"
    },
    "papermill": {
     "duration": 0.472635,
     "end_time": "2021-12-09T09:01:46.578791",
     "exception": false,
     "start_time": "2021-12-09T09:01:46.106156",
     "status": "completed"
    },
    "tags": []
   },
   "outputs": [
    {
     "name": "stderr",
     "output_type": "stream",
     "text": [
      "/opt/conda/lib/python3.7/site-packages/ipykernel_launcher.py:16: TracerWarning: Converting a tensor to a Python index might cause the trace to be incorrect. We can't record the data flow of Python values, so this value will be treated as a constant in the future. This means that the trace might not generalize to other inputs!\n",
      "  app.launch_new_instance()\n"
     ]
    }
   ],
   "source": [
    "import torch.onnx\n",
    "torch.onnx.export(model,               # model being run\n",
    "                  trial,                  # model input (or a tuple for multiple inputs)\n",
    "                  \"transformer-imdb.onnx\", opset_version = 11)"
   ]
  }
 ],
 "metadata": {
  "kernelspec": {
   "display_name": "Python 3",
   "language": "python",
   "name": "python3"
  },
  "language_info": {
   "codemirror_mode": {
    "name": "ipython",
    "version": 3
   },
   "file_extension": ".py",
   "mimetype": "text/x-python",
   "name": "python",
   "nbconvert_exporter": "python",
   "pygments_lexer": "ipython3",
   "version": "3.7.10"
  },
  "papermill": {
   "default_parameters": {},
   "duration": 2334.322376,
   "end_time": "2021-12-09T09:01:49.074712",
   "environment_variables": {},
   "exception": null,
   "input_path": "__notebook__.ipynb",
   "output_path": "__notebook__.ipynb",
   "parameters": {},
   "start_time": "2021-12-09T08:22:54.752336",
   "version": "2.3.3"
  }
 },
 "nbformat": 4,
 "nbformat_minor": 5
}
