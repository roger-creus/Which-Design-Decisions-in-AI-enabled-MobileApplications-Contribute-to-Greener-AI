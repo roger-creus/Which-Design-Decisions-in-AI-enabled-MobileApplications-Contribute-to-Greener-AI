{
 "cells": [
  {
   "cell_type": "code",
   "execution_count": 1,
   "id": "dense-birth",
   "metadata": {
    "_cell_guid": "b1076dfc-b9ad-4769-8c92-a6c4dae69d19",
    "_uuid": "8f2839f25d086af736a60e9eeb907d3b93b6e0e5",
    "execution": {
     "iopub.execute_input": "2021-12-12T08:53:12.342585Z",
     "iopub.status.busy": "2021-12-12T08:53:12.341131Z",
     "iopub.status.idle": "2021-12-12T08:53:12.356487Z",
     "shell.execute_reply": "2021-12-12T08:53:12.356887Z",
     "shell.execute_reply.started": "2021-12-08T21:23:43.272798Z"
    },
    "papermill": {
     "duration": 0.03714,
     "end_time": "2021-12-12T08:53:12.357142",
     "exception": false,
     "start_time": "2021-12-12T08:53:12.320002",
     "status": "completed"
    },
    "tags": []
   },
   "outputs": [
    {
     "name": "stdout",
     "output_type": "stream",
     "text": [
      "/kaggle/input/amazonreviews/test.ft.txt.bz2\n",
      "/kaggle/input/amazonreviews/train.ft.txt.bz2\n"
     ]
    }
   ],
   "source": [
    "# This Python 3 environment comes with many helpful analytics libraries installed\n",
    "# It is defined by the kaggle/python Docker image: https://github.com/kaggle/docker-python\n",
    "# For example, here's several helpful packages to load\n",
    "\n",
    "import numpy as np # linear algebra\n",
    "import pandas as pd # data processing, CSV file I/O (e.g. pd.read_csv)\n",
    "\n",
    "# Input data files are available in the read-only \"../input/\" directory\n",
    "# For example, running this (by clicking run or pressing Shift+Enter) will list all files under the input directory\n",
    "\n",
    "import os\n",
    "for dirname, _, filenames in os.walk('/kaggle/input'):\n",
    "    for filename in filenames:\n",
    "        print(os.path.join(dirname, filename))\n",
    "\n",
    "# You can write up to 20GB to the current directory (/kaggle/working/) that gets preserved as output when you create a version using \"Save & Run All\" \n",
    "# You can also write temporary files to /kaggle/temp/, but they won't be saved outside of the current session"
   ]
  },
  {
   "cell_type": "code",
   "execution_count": 2,
   "id": "motivated-novel",
   "metadata": {
    "execution": {
     "iopub.execute_input": "2021-12-12T08:53:12.396280Z",
     "iopub.status.busy": "2021-12-12T08:53:12.395575Z",
     "iopub.status.idle": "2021-12-12T08:53:17.638137Z",
     "shell.execute_reply": "2021-12-12T08:53:17.639342Z",
     "shell.execute_reply.started": "2021-12-08T21:23:43.282815Z"
    },
    "papermill": {
     "duration": 5.265941,
     "end_time": "2021-12-12T08:53:17.639595",
     "exception": false,
     "start_time": "2021-12-12T08:53:12.373654",
     "status": "completed"
    },
    "tags": []
   },
   "outputs": [],
   "source": [
    "import pandas as pd\n",
    "import numpy as np\n",
    "import bz2\n",
    "import matplotlib.pyplot as plt\n",
    "import sklearn\n",
    "import tensorflow as tf\n",
    "from tensorflow.keras import models, layers, optimizers\n",
    "from tensorflow.keras.preprocessing.text import Tokenizer, text_to_word_sequence\n",
    "from tensorflow.keras.preprocessing.sequence import pad_sequences\n",
    "\n",
    "%matplotlib inline"
   ]
  },
  {
   "cell_type": "code",
   "execution_count": 3,
   "id": "desperate-pride",
   "metadata": {
    "execution": {
     "iopub.execute_input": "2021-12-12T08:53:17.707305Z",
     "iopub.status.busy": "2021-12-12T08:53:17.706440Z",
     "iopub.status.idle": "2021-12-12T08:53:17.708991Z",
     "shell.execute_reply": "2021-12-12T08:53:17.708244Z",
     "shell.execute_reply.started": "2021-12-08T21:23:44.433495Z"
    },
    "papermill": {
     "duration": 0.039775,
     "end_time": "2021-12-12T08:53:17.709175",
     "exception": false,
     "start_time": "2021-12-12T08:53:17.669400",
     "status": "completed"
    },
    "tags": []
   },
   "outputs": [],
   "source": [
    "device = \"cuda:0\""
   ]
  },
  {
   "cell_type": "code",
   "execution_count": 4,
   "id": "biological-behavior",
   "metadata": {
    "execution": {
     "iopub.execute_input": "2021-12-12T08:53:17.773764Z",
     "iopub.status.busy": "2021-12-12T08:53:17.772977Z",
     "iopub.status.idle": "2021-12-12T08:53:17.776620Z",
     "shell.execute_reply": "2021-12-12T08:53:17.777337Z",
     "shell.execute_reply.started": "2021-12-08T21:23:44.439536Z"
    },
    "papermill": {
     "duration": 0.040096,
     "end_time": "2021-12-12T08:53:17.777547",
     "exception": false,
     "start_time": "2021-12-12T08:53:17.737451",
     "status": "completed"
    },
    "tags": []
   },
   "outputs": [],
   "source": [
    "def labels_texts(file):\n",
    "    labels = []\n",
    "    texts = []\n",
    "    for line in bz2.BZ2File(file):\n",
    "        x = line.decode(\"utf-8\")\n",
    "        labels.append(int(x[9]) - 1)\n",
    "        texts.append(x[10:].strip())\n",
    "    return np.array(labels), texts\n",
    "\n"
   ]
  },
  {
   "cell_type": "code",
   "execution_count": 5,
   "id": "traditional-pitch",
   "metadata": {
    "execution": {
     "iopub.execute_input": "2021-12-12T08:53:17.839688Z",
     "iopub.status.busy": "2021-12-12T08:53:17.839052Z",
     "iopub.status.idle": "2021-12-12T08:55:16.505009Z",
     "shell.execute_reply": "2021-12-12T08:55:16.503964Z",
     "shell.execute_reply.started": "2021-12-08T21:23:44.454135Z"
    },
    "papermill": {
     "duration": 118.700022,
     "end_time": "2021-12-12T08:55:16.505190",
     "exception": false,
     "start_time": "2021-12-12T08:53:17.805168",
     "status": "completed"
    },
    "tags": []
   },
   "outputs": [],
   "source": [
    "train_label, train_text = labels_texts('../input/amazonreviews/train.ft.txt.bz2')\n",
    "test_label, test_text = labels_texts('../input/amazonreviews/test.ft.txt.bz2')"
   ]
  },
  {
   "cell_type": "code",
   "execution_count": 6,
   "id": "intended-juice",
   "metadata": {
    "execution": {
     "iopub.execute_input": "2021-12-12T08:55:16.542866Z",
     "iopub.status.busy": "2021-12-12T08:55:16.542129Z",
     "iopub.status.idle": "2021-12-12T08:55:16.546035Z",
     "shell.execute_reply": "2021-12-12T08:55:16.545640Z",
     "shell.execute_reply.started": "2021-12-08T21:26:27.960667Z"
    },
    "papermill": {
     "duration": 0.02433,
     "end_time": "2021-12-12T08:55:16.546171",
     "exception": false,
     "start_time": "2021-12-12T08:55:16.521841",
     "status": "completed"
    },
    "tags": []
   },
   "outputs": [
    {
     "name": "stdout",
     "output_type": "stream",
     "text": [
      "1\n",
      "Stuning even for the non-gamer: This sound track was beautiful! It paints the senery in your mind so well I would recomend it even to people who hate vid. game music! I have played the game Chrono Cross but out of all of the games I have ever played it has the best music! It backs away from crude keyboarding and takes a fresher step with grate guitars and soulful orchestras. It would impress anyone who cares to listen! ^_^\n"
     ]
    }
   ],
   "source": [
    "print(train_label[0])\n",
    "print(train_text[0])"
   ]
  },
  {
   "cell_type": "code",
   "execution_count": 7,
   "id": "removed-worship",
   "metadata": {
    "execution": {
     "iopub.execute_input": "2021-12-12T08:55:16.583764Z",
     "iopub.status.busy": "2021-12-12T08:55:16.583183Z",
     "iopub.status.idle": "2021-12-12T08:55:16.586405Z",
     "shell.execute_reply": "2021-12-12T08:55:16.585964Z",
     "shell.execute_reply.started": "2021-12-08T21:26:27.967567Z"
    },
    "papermill": {
     "duration": 0.024055,
     "end_time": "2021-12-12T08:55:16.586513",
     "exception": false,
     "start_time": "2021-12-12T08:55:16.562458",
     "status": "completed"
    },
    "tags": []
   },
   "outputs": [],
   "source": [
    "import re\n",
    "not_numChar = re.compile(r'[\\W]')\n",
    "no_encode = re.compile(r'[^a-z0-1\\s]')\n",
    "def normalisation(texts):\n",
    "    norm_text = []\n",
    "    for word in texts:\n",
    "        lower = word.lower()\n",
    "        not_punct = not_numChar.sub(r' ', lower)\n",
    "        exclude_no_encode = no_encode.sub(r'', not_punct)\n",
    "        norm_text.append(exclude_no_encode)\n",
    "    return norm_text"
   ]
  },
  {
   "cell_type": "code",
   "execution_count": 8,
   "id": "enclosed-maple",
   "metadata": {
    "execution": {
     "iopub.execute_input": "2021-12-12T08:55:16.662605Z",
     "iopub.status.busy": "2021-12-12T08:55:16.657706Z",
     "iopub.status.idle": "2021-12-12T08:58:09.659989Z",
     "shell.execute_reply": "2021-12-12T08:58:09.659489Z",
     "shell.execute_reply.started": "2021-12-08T21:26:27.982804Z"
    },
    "papermill": {
     "duration": 173.057366,
     "end_time": "2021-12-12T08:58:09.660161",
     "exception": false,
     "start_time": "2021-12-12T08:55:16.602795",
     "status": "completed"
    },
    "tags": []
   },
   "outputs": [],
   "source": [
    "train_text = normalisation(train_text)\n",
    "test_text = normalisation(test_text)"
   ]
  },
  {
   "cell_type": "code",
   "execution_count": 9,
   "id": "played-runner",
   "metadata": {
    "execution": {
     "iopub.execute_input": "2021-12-12T08:58:09.698620Z",
     "iopub.status.busy": "2021-12-12T08:58:09.697966Z",
     "iopub.status.idle": "2021-12-12T08:58:09.700667Z",
     "shell.execute_reply": "2021-12-12T08:58:09.701055Z",
     "shell.execute_reply.started": "2021-12-08T21:29:47.899099Z"
    },
    "papermill": {
     "duration": 0.023887,
     "end_time": "2021-12-12T08:58:09.701192",
     "exception": false,
     "start_time": "2021-12-12T08:58:09.677305",
     "status": "completed"
    },
    "tags": []
   },
   "outputs": [
    {
     "name": "stdout",
     "output_type": "stream",
     "text": [
      "stuning even for the non gamer  this sound track was beautiful  it paints the senery in your mind so well i would recomend it even to people who hate vid  game music  i have played the game chrono cross but out of all of the games i have ever played it has the best music  it backs away from crude keyboarding and takes a fresher step with grate guitars and soulful orchestras  it would impress anyone who cares to listen    \n"
     ]
    }
   ],
   "source": [
    "print(train_text[0])"
   ]
  },
  {
   "cell_type": "code",
   "execution_count": 10,
   "id": "intellectual-binding",
   "metadata": {
    "execution": {
     "iopub.execute_input": "2021-12-12T08:58:09.740645Z",
     "iopub.status.busy": "2021-12-12T08:58:09.739175Z",
     "iopub.status.idle": "2021-12-12T08:58:09.747674Z",
     "shell.execute_reply": "2021-12-12T08:58:09.747260Z",
     "shell.execute_reply.started": "2021-12-08T21:29:47.909335Z"
    },
    "papermill": {
     "duration": 0.030091,
     "end_time": "2021-12-12T08:58:09.747794",
     "exception": false,
     "start_time": "2021-12-12T08:58:09.717703",
     "status": "completed"
    },
    "tags": []
   },
   "outputs": [],
   "source": [
    "y_train = np.array(train_label)\n",
    "y_test = np.array(test_label)"
   ]
  },
  {
   "cell_type": "code",
   "execution_count": 11,
   "id": "authorized-aging",
   "metadata": {
    "execution": {
     "iopub.execute_input": "2021-12-12T08:58:09.787011Z",
     "iopub.status.busy": "2021-12-12T08:58:09.786522Z",
     "iopub.status.idle": "2021-12-12T08:58:09.791460Z",
     "shell.execute_reply": "2021-12-12T08:58:09.791024Z",
     "shell.execute_reply.started": "2021-12-08T21:29:48.14836Z"
    },
    "papermill": {
     "duration": 0.026984,
     "end_time": "2021-12-12T08:58:09.791582",
     "exception": false,
     "start_time": "2021-12-12T08:58:09.764598",
     "status": "completed"
    },
    "tags": []
   },
   "outputs": [
    {
     "data": {
      "text/plain": [
       "(400000,)"
      ]
     },
     "execution_count": 11,
     "metadata": {},
     "output_type": "execute_result"
    }
   ],
   "source": [
    "y_test.shape"
   ]
  },
  {
   "cell_type": "code",
   "execution_count": 12,
   "id": "cheap-knife",
   "metadata": {
    "execution": {
     "iopub.execute_input": "2021-12-12T08:58:09.848049Z",
     "iopub.status.busy": "2021-12-12T08:58:09.838010Z",
     "iopub.status.idle": "2021-12-12T09:02:12.271572Z",
     "shell.execute_reply": "2021-12-12T09:02:12.271984Z",
     "shell.execute_reply.started": "2021-12-08T21:29:48.161032Z"
    },
    "papermill": {
     "duration": 242.463854,
     "end_time": "2021-12-12T09:02:12.272160",
     "exception": false,
     "start_time": "2021-12-12T08:58:09.808306",
     "status": "completed"
    },
    "tags": []
   },
   "outputs": [
    {
     "name": "stdout",
     "output_type": "stream",
     "text": [
      "Vocabulary Size : 905946\n"
     ]
    }
   ],
   "source": [
    "max_features = 8192\n",
    "maxlen = 128\n",
    "\n",
    "tokenizer = Tokenizer(num_words=max_features)\n",
    "tokenizer.fit_on_texts(train_text)\n",
    "\n",
    "word_index = tokenizer.word_index\n",
    "vocab_size = len(tokenizer.word_index) + 1\n",
    "print(\"Vocabulary Size :\", vocab_size)"
   ]
  },
  {
   "cell_type": "code",
   "execution_count": 13,
   "id": "organizational-importance",
   "metadata": {
    "execution": {
     "iopub.execute_input": "2021-12-12T09:02:12.311600Z",
     "iopub.status.busy": "2021-12-12T09:02:12.310834Z",
     "iopub.status.idle": "2021-12-12T09:02:13.179669Z",
     "shell.execute_reply": "2021-12-12T09:02:13.178918Z",
     "shell.execute_reply.started": "2021-12-08T21:34:39.735945Z"
    },
    "papermill": {
     "duration": 0.890369,
     "end_time": "2021-12-12T09:02:13.179808",
     "exception": false,
     "start_time": "2021-12-12T09:02:12.289439",
     "status": "completed"
    },
    "tags": []
   },
   "outputs": [],
   "source": [
    "import os \n",
    "with open('amazon_dictionary.txt', 'w') as file:\n",
    "    for key in word_index.keys():\n",
    "        file.write(key + \" \" + str(word_index[key]) + \",\")"
   ]
  },
  {
   "cell_type": "code",
   "execution_count": 14,
   "id": "committed-table",
   "metadata": {
    "execution": {
     "iopub.execute_input": "2021-12-12T09:02:13.269160Z",
     "iopub.status.busy": "2021-12-12T09:02:13.233325Z",
     "iopub.status.idle": "2021-12-12T09:05:46.611880Z",
     "shell.execute_reply": "2021-12-12T09:05:46.610837Z",
     "shell.execute_reply.started": "2021-12-08T21:34:40.77233Z"
    },
    "papermill": {
     "duration": 213.414494,
     "end_time": "2021-12-12T09:05:46.612036",
     "exception": false,
     "start_time": "2021-12-12T09:02:13.197542",
     "status": "completed"
    },
    "tags": []
   },
   "outputs": [],
   "source": [
    "training_token = tokenizer.texts_to_sequences(train_text)\n",
    "testing_token = tokenizer.texts_to_sequences(test_text)"
   ]
  },
  {
   "cell_type": "code",
   "execution_count": 15,
   "id": "polished-dubai",
   "metadata": {
    "execution": {
     "iopub.execute_input": "2021-12-12T09:05:46.695574Z",
     "iopub.status.busy": "2021-12-12T09:05:46.685439Z",
     "iopub.status.idle": "2021-12-12T09:06:59.400828Z",
     "shell.execute_reply": "2021-12-12T09:06:59.399825Z",
     "shell.execute_reply.started": "2021-12-08T21:38:55.605176Z"
    },
    "papermill": {
     "duration": 72.771169,
     "end_time": "2021-12-12T09:06:59.400965",
     "exception": false,
     "start_time": "2021-12-12T09:05:46.629796",
     "status": "completed"
    },
    "tags": []
   },
   "outputs": [],
   "source": [
    "x_train = pad_sequences(training_token, maxlen = maxlen, padding = 'post')\n",
    "x_test = pad_sequences(testing_token, maxlen = maxlen, padding = 'post')"
   ]
  },
  {
   "cell_type": "code",
   "execution_count": 16,
   "id": "solved-scottish",
   "metadata": {
    "execution": {
     "iopub.execute_input": "2021-12-12T09:06:59.442504Z",
     "iopub.status.busy": "2021-12-12T09:06:59.441822Z",
     "iopub.status.idle": "2021-12-12T09:07:00.675015Z",
     "shell.execute_reply": "2021-12-12T09:07:00.674567Z",
     "shell.execute_reply.started": "2021-12-08T21:40:19.880515Z"
    },
    "papermill": {
     "duration": 1.256155,
     "end_time": "2021-12-12T09:07:00.675166",
     "exception": false,
     "start_time": "2021-12-12T09:06:59.419011",
     "status": "completed"
    },
    "tags": []
   },
   "outputs": [],
   "source": [
    "import torch\n",
    "from torch.utils.data import TensorDataset, DataLoader\n",
    "import torch.nn as nn\n",
    "BATCH_SIZE = 50\n",
    "\n",
    "train_data = TensorDataset(torch.from_numpy(x_train), torch.from_numpy(y_train))\n",
    "test_data = TensorDataset(torch.from_numpy(x_test), torch.from_numpy(y_test))\n",
    "\n",
    "train_loader = DataLoader(train_data, shuffle=True, batch_size=BATCH_SIZE, drop_last = True)\n",
    "test_loader = DataLoader(test_data, shuffle=True, batch_size=BATCH_SIZE, drop_last = True)"
   ]
  },
  {
   "cell_type": "code",
   "execution_count": 17,
   "id": "reflected-combat",
   "metadata": {
    "execution": {
     "iopub.execute_input": "2021-12-12T09:07:00.721958Z",
     "iopub.status.busy": "2021-12-12T09:07:00.721254Z",
     "iopub.status.idle": "2021-12-12T09:07:00.723907Z",
     "shell.execute_reply": "2021-12-12T09:07:00.723518Z",
     "shell.execute_reply.started": "2021-12-08T21:40:20.986111Z"
    },
    "papermill": {
     "duration": 0.031083,
     "end_time": "2021-12-12T09:07:00.724027",
     "exception": false,
     "start_time": "2021-12-12T09:07:00.692944",
     "status": "completed"
    },
    "tags": []
   },
   "outputs": [],
   "source": [
    "class SentimentNet(nn.Module):\n",
    "    def __init__(self, vocab_size, output_size, embedding_dim, hidden_dim, n_layers, drop_prob=0.5):\n",
    "        super(SentimentNet, self).__init__()\n",
    "        self.output_size = output_size\n",
    "        self.n_layers = n_layers\n",
    "        self.hidden_dim = hidden_dim\n",
    "        \n",
    "        \n",
    "        self.embedding = nn.Embedding(vocab_size, embedding_dim)\n",
    "        #self.conv = nn.Conv1d(embedding_dim, 8, kernel_size=5)\n",
    "        self.lstm = nn.LSTM(embedding_dim, hidden_dim, n_layers, dropout=drop_prob, batch_first=True)\n",
    "        #self.gru = nn.GRU(embedding_dim, hidden_dim, n_layers, dropout=drop_prob, batch_first=True)\n",
    "        self.dropout = nn.Dropout(drop_prob)\n",
    "        self.fc = nn.Linear(hidden_dim, output_size)\n",
    "        self.sigmoid = nn.Sigmoid()\n",
    "        \n",
    "    def forward(self, x, hidden):\n",
    "        #print(x.shape)\n",
    "        if len(x) != 1:\n",
    "            batch_size = x.size(0)\n",
    "        else:\n",
    "            batch_size = 1\n",
    "        x = x.long()\n",
    "        embeds = self.embedding(x)\n",
    "\n",
    "        #conv = self.conv(x)\n",
    "        \n",
    "        lstm_out, hidden = self.lstm(embeds, hidden)\n",
    "        lstm_out = lstm_out.contiguous().view(-1, self.hidden_dim)\n",
    "        \n",
    "        out = self.dropout(lstm_out)\n",
    "        out = self.fc(out)\n",
    "        out = self.sigmoid(out)\n",
    "        \n",
    "        out = out.view(batch_size, -1)\n",
    "        out = out[:,-1]\n",
    "        return out, hidden\n",
    "    \n",
    "    def init_hidden(self, batch_size):\n",
    "        weight = next(self.parameters()).data\n",
    "        hidden = (weight.new(self.n_layers, batch_size, self.hidden_dim).zero_().to(device),weight.new(self.n_layers, batch_size, self.hidden_dim).zero_().to(device))\n",
    "        #hidden = (weight.new(self.n_layers, batch_size, self.hidden_dim).zero_(),\n",
    "        #             weight.new(self.n_layers, batch_size, self.hidden_dim).zero_())\n",
    "        return hidden"
   ]
  },
  {
   "cell_type": "code",
   "execution_count": 18,
   "id": "biblical-freeware",
   "metadata": {
    "execution": {
     "iopub.execute_input": "2021-12-12T09:07:00.764017Z",
     "iopub.status.busy": "2021-12-12T09:07:00.763202Z",
     "iopub.status.idle": "2021-12-12T09:07:00.765641Z",
     "shell.execute_reply": "2021-12-12T09:07:00.765233Z",
     "shell.execute_reply.started": "2021-12-08T21:40:21.00062Z"
    },
    "papermill": {
     "duration": 0.023878,
     "end_time": "2021-12-12T09:07:00.765749",
     "exception": false,
     "start_time": "2021-12-12T09:07:00.741871",
     "status": "completed"
    },
    "tags": []
   },
   "outputs": [],
   "source": [
    "def model_params(model):\n",
    "    pp=0\n",
    "    for p in list(model.parameters()):\n",
    "        nn=1\n",
    "        for s in list(p.size()):\n",
    "            nn = nn*s\n",
    "        pp += nn\n",
    "    return pp"
   ]
  },
  {
   "cell_type": "code",
   "execution_count": 19,
   "id": "pharmaceutical-generator",
   "metadata": {
    "execution": {
     "iopub.execute_input": "2021-12-12T09:07:00.810980Z",
     "iopub.status.busy": "2021-12-12T09:07:00.810451Z",
     "iopub.status.idle": "2021-12-12T09:07:06.948786Z",
     "shell.execute_reply": "2021-12-12T09:07:06.947814Z",
     "shell.execute_reply.started": "2021-12-08T21:40:21.018613Z"
    },
    "papermill": {
     "duration": 6.165742,
     "end_time": "2021-12-12T09:07:06.948921",
     "exception": false,
     "start_time": "2021-12-12T09:07:00.783179",
     "status": "completed"
    },
    "tags": []
   },
   "outputs": [
    {
     "name": "stdout",
     "output_type": "stream",
     "text": [
      "9124261\n"
     ]
    }
   ],
   "source": [
    "output_size = 1\n",
    "embedding_dim = 10\n",
    "hidden_dim = 32\n",
    "n_layers = 8\n",
    "\n",
    "model = SentimentNet(vocab_size, output_size, embedding_dim, hidden_dim, n_layers)\n",
    "print(model_params(model))\n",
    "model.to(device)\n",
    "lr=0.01\n",
    "criterion = nn.BCELoss()\n",
    "optimizer = torch.optim.Adam(model.parameters(), lr=lr)"
   ]
  },
  {
   "cell_type": "code",
   "execution_count": 20,
   "id": "closed-actress",
   "metadata": {
    "execution": {
     "iopub.execute_input": "2021-12-12T09:07:06.995050Z",
     "iopub.status.busy": "2021-12-12T09:07:06.994537Z",
     "iopub.status.idle": "2021-12-12T13:41:11.929879Z",
     "shell.execute_reply": "2021-12-12T13:41:11.929349Z",
     "shell.execute_reply.started": "2021-12-08T21:40:22.585467Z"
    },
    "papermill": {
     "duration": 16444.963366,
     "end_time": "2021-12-12T13:41:11.930019",
     "exception": false,
     "start_time": "2021-12-12T09:07:06.966653",
     "status": "completed"
    },
    "tags": []
   },
   "outputs": [
    {
     "name": "stdout",
     "output_type": "stream",
     "text": [
      "Epoch: 1/2... Step: 5000... Loss: 0.693292... Val Loss: 0.693277\n",
      "Validation loss decreased (inf --> 0.693277).  Saving model ...\n",
      "Epoch: 1/2... Step: 10000... Loss: 0.694923... Val Loss: 0.693162\n",
      "Validation loss decreased (0.693277 --> 0.693162).  Saving model ...\n",
      "Epoch: 1/2... Step: 15000... Loss: 0.688718... Val Loss: 0.693315\n",
      "Epoch: 1/2... Step: 20000... Loss: 0.693215... Val Loss: 0.693298\n",
      "Epoch: 1/2... Step: 25000... Loss: 0.693253... Val Loss: 0.693255\n",
      "Epoch: 1/2... Step: 30000... Loss: 0.693814... Val Loss: 0.693275\n",
      "Epoch: 1/2... Step: 35000... Loss: 0.694219... Val Loss: 0.693335\n",
      "Epoch: 1/2... Step: 40000... Loss: 0.691354... Val Loss: 0.693354\n",
      "Epoch: 1/2... Step: 45000... Loss: 0.697062... Val Loss: 0.693280\n",
      "Epoch: 1/2... Step: 50000... Loss: 0.691458... Val Loss: 0.693469\n",
      "Epoch: 1/2... Step: 55000... Loss: 0.694910... Val Loss: 0.693218\n",
      "Epoch: 1/2... Step: 60000... Loss: 0.693759... Val Loss: 0.693217\n",
      "Epoch: 1/2... Step: 65000... Loss: 0.699811... Val Loss: 0.693405\n",
      "Epoch: 1/2... Step: 70000... Loss: 0.691376... Val Loss: 0.693447\n",
      "Epoch: 2/2... Step: 75000... Loss: 0.694186... Val Loss: 0.693165\n",
      "Epoch: 2/2... Step: 80000... Loss: 0.692122... Val Loss: 0.693248\n",
      "Epoch: 2/2... Step: 85000... Loss: 0.688141... Val Loss: 0.693412\n",
      "Epoch: 2/2... Step: 90000... Loss: 0.693319... Val Loss: 0.693320\n",
      "Epoch: 2/2... Step: 95000... Loss: 0.694205... Val Loss: 0.693371\n",
      "Epoch: 2/2... Step: 100000... Loss: 0.693914... Val Loss: 0.693192\n",
      "Epoch: 2/2... Step: 105000... Loss: 0.693722... Val Loss: 0.693148\n",
      "Validation loss decreased (0.693162 --> 0.693148).  Saving model ...\n",
      "Epoch: 2/2... Step: 110000... Loss: 0.693752... Val Loss: 0.693219\n",
      "Epoch: 2/2... Step: 115000... Loss: 0.694016... Val Loss: 0.693194\n",
      "Epoch: 2/2... Step: 120000... Loss: 0.694360... Val Loss: 0.693186\n",
      "Epoch: 2/2... Step: 125000... Loss: 0.694398... Val Loss: 0.693228\n",
      "Epoch: 2/2... Step: 130000... Loss: 0.693651... Val Loss: 0.693201\n",
      "Epoch: 2/2... Step: 135000... Loss: 0.694941... Val Loss: 0.693588\n",
      "Epoch: 2/2... Step: 140000... Loss: 0.691549... Val Loss: 0.693190\n"
     ]
    }
   ],
   "source": [
    "epochs = 2\n",
    "counter = 0\n",
    "print_every = 5000\n",
    "clip = 5\n",
    "valid_loss_min = np.Inf\n",
    "\n",
    "model.train()\n",
    "for i in range(epochs):\n",
    "    h = model.init_hidden(BATCH_SIZE)\n",
    "    \n",
    "    for inputs, labels in train_loader:\n",
    "        counter += 1\n",
    "        h = tuple([e.data for e in h])\n",
    "        inputs, labels = inputs.to(device), labels.to(device)\n",
    "        model.zero_grad()\n",
    "        output, h = model(inputs, h)\n",
    "        loss = criterion(output, labels.float())\n",
    "        loss.backward()\n",
    "        #nn.utils.clip_grad_norm_(model.parameters(), clip)\n",
    "        optimizer.step()\n",
    "        \n",
    "        if counter%print_every == 0:\n",
    "            val_h = model.init_hidden(BATCH_SIZE)\n",
    "            val_losses = []\n",
    "            model.eval()\n",
    "            for inp, lab in test_loader:\n",
    "                val_h = tuple([each.data for each in val_h])\n",
    "                inp, lab = inp.to(device), lab.to(device)\n",
    "                out, val_h = model(inp, val_h)\n",
    "                val_loss = criterion(out, lab.float())\n",
    "                val_losses.append(val_loss.item())\n",
    "                \n",
    "            model.train()\n",
    "            print(\"Epoch: {}/{}...\".format(i+1, epochs),\n",
    "                  \"Step: {}...\".format(counter),\n",
    "                  \"Loss: {:.6f}...\".format(loss.item()),\n",
    "                  \"Val Loss: {:.6f}\".format(np.mean(val_losses)))\n",
    "            if np.mean(val_losses) <= valid_loss_min:\n",
    "                torch.save(model.state_dict(), './state_dict.pt')\n",
    "                print('Validation loss decreased ({:.6f} --> {:.6f}).  Saving model ...'.format(valid_loss_min,np.mean(val_losses)))\n",
    "                valid_loss_min = np.mean(val_losses)"
   ]
  },
  {
   "cell_type": "code",
   "execution_count": 21,
   "id": "german-efficiency",
   "metadata": {
    "execution": {
     "iopub.execute_input": "2021-12-12T13:41:11.984986Z",
     "iopub.status.busy": "2021-12-12T13:41:11.984472Z",
     "iopub.status.idle": "2021-12-12T13:41:11.988660Z",
     "shell.execute_reply": "2021-12-12T13:41:11.988065Z"
    },
    "papermill": {
     "duration": 0.032332,
     "end_time": "2021-12-12T13:41:11.988798",
     "exception": false,
     "start_time": "2021-12-12T13:41:11.956466",
     "status": "completed"
    },
    "tags": []
   },
   "outputs": [],
   "source": [
    "h = model.init_hidden(1)"
   ]
  },
  {
   "cell_type": "code",
   "execution_count": 22,
   "id": "centered-courtesy",
   "metadata": {
    "execution": {
     "iopub.execute_input": "2021-12-12T13:41:12.042897Z",
     "iopub.status.busy": "2021-12-12T13:41:12.042389Z",
     "iopub.status.idle": "2021-12-12T13:41:12.094104Z",
     "shell.execute_reply": "2021-12-12T13:41:12.093019Z"
    },
    "papermill": {
     "duration": 0.080615,
     "end_time": "2021-12-12T13:41:12.094228",
     "exception": false,
     "start_time": "2021-12-12T13:41:12.013613",
     "status": "completed"
    },
    "tags": []
   },
   "outputs": [
    {
     "data": {
      "text/plain": [
       "tensor([0.4927], device='cuda:0', grad_fn=<SelectBackward>)"
      ]
     },
     "execution_count": 22,
     "metadata": {},
     "output_type": "execute_result"
    }
   ],
   "source": [
    "sentence = \"I love this film, it was so awesome!\"\n",
    "trial = torch.tensor(pad_sequences(tokenizer.texts_to_sequences([sentence]), maxlen = maxlen)).to(device)\n",
    "\n",
    "model(trial, h)[0]"
   ]
  },
  {
   "cell_type": "code",
   "execution_count": 23,
   "id": "checked-factor",
   "metadata": {
    "execution": {
     "iopub.execute_input": "2021-12-12T13:41:12.148596Z",
     "iopub.status.busy": "2021-12-12T13:41:12.147870Z",
     "iopub.status.idle": "2021-12-12T13:41:12.444052Z",
     "shell.execute_reply": "2021-12-12T13:41:12.443516Z"
    },
    "papermill": {
     "duration": 0.324882,
     "end_time": "2021-12-12T13:41:12.444221",
     "exception": false,
     "start_time": "2021-12-12T13:41:12.119339",
     "status": "completed"
    },
    "tags": []
   },
   "outputs": [
    {
     "name": "stderr",
     "output_type": "stream",
     "text": [
      "/opt/conda/lib/python3.7/site-packages/ipykernel_launcher.py:19: TracerWarning: Converting a tensor to a Python index might cause the trace to be incorrect. We can't record the data flow of Python values, so this value will be treated as a constant in the future. This means that the trace might not generalize to other inputs!\n",
      "/opt/conda/lib/python3.7/site-packages/torch/onnx/symbolic_opset9.py:1805: UserWarning: Exporting a model to ONNX with a batch_size other than 1, with a variable length with LSTM can cause an error when running the ONNX model with a different batch size. Make sure to save the model with a batch size of 1, or define the initial states (h0/c0) as inputs of the model. \n",
      "  \"or define the initial states (h0/c0) as inputs of the model. \")\n"
     ]
    }
   ],
   "source": [
    "import torch.onnx\n",
    "torch.onnx.export(model,               # model being run\n",
    "                  (trial, (torch.randn(n_layers,1,hidden_dim).to(device), torch.randn(n_layers,1,hidden_dim).to(device))),                   # model input (or a tuple for multiple inputs)\n",
    "                  \"lstm-PT.onnx\")"
   ]
  }
 ],
 "metadata": {
  "kernelspec": {
   "display_name": "Python 3",
   "language": "python",
   "name": "python3"
  },
  "language_info": {
   "codemirror_mode": {
    "name": "ipython",
    "version": 3
   },
   "file_extension": ".py",
   "mimetype": "text/x-python",
   "name": "python",
   "nbconvert_exporter": "python",
   "pygments_lexer": "ipython3",
   "version": "3.7.9"
  },
  "papermill": {
   "default_parameters": {},
   "duration": 17290.400707,
   "end_time": "2021-12-12T13:41:17.780374",
   "environment_variables": {},
   "exception": null,
   "input_path": "__notebook__.ipynb",
   "output_path": "__notebook__.ipynb",
   "parameters": {},
   "start_time": "2021-12-12T08:53:07.379667",
   "version": "2.3.2"
  }
 },
 "nbformat": 4,
 "nbformat_minor": 5
}
