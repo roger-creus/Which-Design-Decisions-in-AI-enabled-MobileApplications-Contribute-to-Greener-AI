{
 "cells": [
  {
   "cell_type": "code",
   "execution_count": 1,
   "id": "8be5bfed",
   "metadata": {
    "_cell_guid": "b1076dfc-b9ad-4769-8c92-a6c4dae69d19",
    "_uuid": "8f2839f25d086af736a60e9eeb907d3b93b6e0e5",
    "execution": {
     "iopub.execute_input": "2021-12-15T15:07:42.858863Z",
     "iopub.status.busy": "2021-12-15T15:07:42.857307Z",
     "iopub.status.idle": "2021-12-15T15:07:42.879237Z",
     "shell.execute_reply": "2021-12-15T15:07:42.878626Z",
     "shell.execute_reply.started": "2021-12-15T09:47:04.551436Z"
    },
    "papermill": {
     "duration": 0.04295,
     "end_time": "2021-12-15T15:07:42.879367",
     "exception": false,
     "start_time": "2021-12-15T15:07:42.836417",
     "status": "completed"
    },
    "tags": []
   },
   "outputs": [
    {
     "name": "stdout",
     "output_type": "stream",
     "text": [
      "/kaggle/input/amazonreviews/test.ft.txt.bz2\n",
      "/kaggle/input/amazonreviews/train.ft.txt.bz2\n"
     ]
    }
   ],
   "source": [
    "# This Python 3 environment comes with many helpful analytics libraries installed\n",
    "# It is defined by the kaggle/python Docker image: https://github.com/kaggle/docker-python\n",
    "# For example, here's several helpful packages to load\n",
    "\n",
    "import numpy as np # linear algebra\n",
    "import pandas as pd # data processing, CSV file I/O (e.g. pd.read_csv)\n",
    "\n",
    "# Input data files are available in the read-only \"../input/\" directory\n",
    "# For example, running this (by clicking run or pressing Shift+Enter) will list all files under the input directory\n",
    "\n",
    "import os\n",
    "for dirname, _, filenames in os.walk('/kaggle/input'):\n",
    "    for filename in filenames:\n",
    "        print(os.path.join(dirname, filename))\n",
    "\n",
    "# You can write up to 20GB to the current directory (/kaggle/working/) that gets preserved as output when you create a version using \"Save & Run All\" \n",
    "# You can also write temporary files to /kaggle/temp/, but they won't be saved outside of the current session"
   ]
  },
  {
   "cell_type": "code",
   "execution_count": 2,
   "id": "b3882f49",
   "metadata": {
    "execution": {
     "iopub.execute_input": "2021-12-15T15:07:42.919589Z",
     "iopub.status.busy": "2021-12-15T15:07:42.918929Z",
     "iopub.status.idle": "2021-12-15T15:07:48.306090Z",
     "shell.execute_reply": "2021-12-15T15:07:48.305575Z",
     "shell.execute_reply.started": "2021-12-15T09:47:04.602525Z"
    },
    "papermill": {
     "duration": 5.40843,
     "end_time": "2021-12-15T15:07:48.306237",
     "exception": false,
     "start_time": "2021-12-15T15:07:42.897807",
     "status": "completed"
    },
    "tags": []
   },
   "outputs": [],
   "source": [
    "import pandas as pd\n",
    "import numpy as np\n",
    "import bz2\n",
    "import matplotlib.pyplot as plt\n",
    "import sklearn\n",
    "import tensorflow as tf\n",
    "from tensorflow.keras import models, layers, optimizers\n",
    "from tensorflow.keras.preprocessing.text import Tokenizer, text_to_word_sequence\n",
    "from tensorflow.keras.preprocessing.sequence import pad_sequences\n",
    "\n",
    "%matplotlib inline"
   ]
  },
  {
   "cell_type": "code",
   "execution_count": 3,
   "id": "52b8de90",
   "metadata": {
    "execution": {
     "iopub.execute_input": "2021-12-15T15:07:48.344327Z",
     "iopub.status.busy": "2021-12-15T15:07:48.342821Z",
     "iopub.status.idle": "2021-12-15T15:07:48.345007Z",
     "shell.execute_reply": "2021-12-15T15:07:48.345425Z",
     "shell.execute_reply.started": "2021-12-15T09:47:11.616003Z"
    },
    "papermill": {
     "duration": 0.022854,
     "end_time": "2021-12-15T15:07:48.345551",
     "exception": false,
     "start_time": "2021-12-15T15:07:48.322697",
     "status": "completed"
    },
    "tags": []
   },
   "outputs": [],
   "source": [
    "device = \"cuda:0\""
   ]
  },
  {
   "cell_type": "code",
   "execution_count": 4,
   "id": "e4345135",
   "metadata": {
    "execution": {
     "iopub.execute_input": "2021-12-15T15:07:48.384147Z",
     "iopub.status.busy": "2021-12-15T15:07:48.383291Z",
     "iopub.status.idle": "2021-12-15T15:07:48.385076Z",
     "shell.execute_reply": "2021-12-15T15:07:48.385934Z",
     "shell.execute_reply.started": "2021-12-15T09:47:11.628463Z"
    },
    "papermill": {
     "duration": 0.024285,
     "end_time": "2021-12-15T15:07:48.386079",
     "exception": false,
     "start_time": "2021-12-15T15:07:48.361794",
     "status": "completed"
    },
    "tags": []
   },
   "outputs": [],
   "source": [
    "def labels_texts(file):\n",
    "    labels = []\n",
    "    texts = []\n",
    "    for line in bz2.BZ2File(file):\n",
    "        x = line.decode(\"utf-8\")\n",
    "        labels.append(int(x[9]) - 1)\n",
    "        texts.append(x[10:].strip())\n",
    "    return np.array(labels), texts\n",
    "\n"
   ]
  },
  {
   "cell_type": "code",
   "execution_count": 5,
   "id": "534bf3b7",
   "metadata": {
    "execution": {
     "iopub.execute_input": "2021-12-15T15:07:48.421962Z",
     "iopub.status.busy": "2021-12-15T15:07:48.421441Z",
     "iopub.status.idle": "2021-12-15T15:09:47.581931Z",
     "shell.execute_reply": "2021-12-15T15:09:47.581421Z",
     "shell.execute_reply.started": "2021-12-15T09:47:11.649092Z"
    },
    "papermill": {
     "duration": 119.179734,
     "end_time": "2021-12-15T15:09:47.582103",
     "exception": false,
     "start_time": "2021-12-15T15:07:48.402369",
     "status": "completed"
    },
    "tags": []
   },
   "outputs": [],
   "source": [
    "train_label, train_text = labels_texts('../input/amazonreviews/train.ft.txt.bz2')\n",
    "test_label, test_text = labels_texts('../input/amazonreviews/test.ft.txt.bz2')"
   ]
  },
  {
   "cell_type": "code",
   "execution_count": 6,
   "id": "072bb1eb",
   "metadata": {
    "execution": {
     "iopub.execute_input": "2021-12-15T15:09:47.618883Z",
     "iopub.status.busy": "2021-12-15T15:09:47.618316Z",
     "iopub.status.idle": "2021-12-15T15:09:47.621137Z",
     "shell.execute_reply": "2021-12-15T15:09:47.621548Z",
     "shell.execute_reply.started": "2021-12-15T09:49:33.606373Z"
    },
    "papermill": {
     "duration": 0.023342,
     "end_time": "2021-12-15T15:09:47.621666",
     "exception": false,
     "start_time": "2021-12-15T15:09:47.598324",
     "status": "completed"
    },
    "tags": []
   },
   "outputs": [
    {
     "name": "stdout",
     "output_type": "stream",
     "text": [
      "1\n",
      "Stuning even for the non-gamer: This sound track was beautiful! It paints the senery in your mind so well I would recomend it even to people who hate vid. game music! I have played the game Chrono Cross but out of all of the games I have ever played it has the best music! It backs away from crude keyboarding and takes a fresher step with grate guitars and soulful orchestras. It would impress anyone who cares to listen! ^_^\n"
     ]
    }
   ],
   "source": [
    "print(train_label[0])\n",
    "print(train_text[0])"
   ]
  },
  {
   "cell_type": "code",
   "execution_count": 7,
   "id": "68227fd6",
   "metadata": {
    "execution": {
     "iopub.execute_input": "2021-12-15T15:09:47.659069Z",
     "iopub.status.busy": "2021-12-15T15:09:47.658442Z",
     "iopub.status.idle": "2021-12-15T15:09:47.661153Z",
     "shell.execute_reply": "2021-12-15T15:09:47.660721Z",
     "shell.execute_reply.started": "2021-12-15T09:49:33.618974Z"
    },
    "papermill": {
     "duration": 0.023708,
     "end_time": "2021-12-15T15:09:47.661261",
     "exception": false,
     "start_time": "2021-12-15T15:09:47.637553",
     "status": "completed"
    },
    "tags": []
   },
   "outputs": [],
   "source": [
    "import re\n",
    "not_numChar = re.compile(r'[\\W]')\n",
    "no_encode = re.compile(r'[^a-z0-1\\s]')\n",
    "def normalisation(texts):\n",
    "    norm_text = []\n",
    "    for word in texts:\n",
    "        lower = word.lower()\n",
    "        not_punct = not_numChar.sub(r' ', lower)\n",
    "        exclude_no_encode = no_encode.sub(r'', not_punct)\n",
    "        norm_text.append(exclude_no_encode)\n",
    "    return norm_text"
   ]
  },
  {
   "cell_type": "code",
   "execution_count": 8,
   "id": "5c7a9e66",
   "metadata": {
    "execution": {
     "iopub.execute_input": "2021-12-15T15:09:47.720691Z",
     "iopub.status.busy": "2021-12-15T15:09:47.715169Z",
     "iopub.status.idle": "2021-12-15T15:12:44.375062Z",
     "shell.execute_reply": "2021-12-15T15:12:44.374523Z",
     "shell.execute_reply.started": "2021-12-15T09:49:33.631996Z"
    },
    "papermill": {
     "duration": 176.698133,
     "end_time": "2021-12-15T15:12:44.375218",
     "exception": false,
     "start_time": "2021-12-15T15:09:47.677085",
     "status": "completed"
    },
    "tags": []
   },
   "outputs": [],
   "source": [
    "train_text = normalisation(train_text)\n",
    "test_text = normalisation(test_text)"
   ]
  },
  {
   "cell_type": "code",
   "execution_count": 9,
   "id": "f5e89daa",
   "metadata": {
    "execution": {
     "iopub.execute_input": "2021-12-15T15:12:44.413615Z",
     "iopub.status.busy": "2021-12-15T15:12:44.412791Z",
     "iopub.status.idle": "2021-12-15T15:12:44.415940Z",
     "shell.execute_reply": "2021-12-15T15:12:44.416532Z",
     "shell.execute_reply.started": "2021-12-15T09:52:56.562418Z"
    },
    "papermill": {
     "duration": 0.023431,
     "end_time": "2021-12-15T15:12:44.416692",
     "exception": false,
     "start_time": "2021-12-15T15:12:44.393261",
     "status": "completed"
    },
    "tags": []
   },
   "outputs": [
    {
     "name": "stdout",
     "output_type": "stream",
     "text": [
      "stuning even for the non gamer  this sound track was beautiful  it paints the senery in your mind so well i would recomend it even to people who hate vid  game music  i have played the game chrono cross but out of all of the games i have ever played it has the best music  it backs away from crude keyboarding and takes a fresher step with grate guitars and soulful orchestras  it would impress anyone who cares to listen    \n"
     ]
    }
   ],
   "source": [
    "print(train_text[0])"
   ]
  },
  {
   "cell_type": "code",
   "execution_count": 10,
   "id": "b0c4cf26",
   "metadata": {
    "execution": {
     "iopub.execute_input": "2021-12-15T15:12:44.456156Z",
     "iopub.status.busy": "2021-12-15T15:12:44.454591Z",
     "iopub.status.idle": "2021-12-15T15:12:44.462469Z",
     "shell.execute_reply": "2021-12-15T15:12:44.462049Z",
     "shell.execute_reply.started": "2021-12-15T09:52:56.574224Z"
    },
    "papermill": {
     "duration": 0.028611,
     "end_time": "2021-12-15T15:12:44.462577",
     "exception": false,
     "start_time": "2021-12-15T15:12:44.433966",
     "status": "completed"
    },
    "tags": []
   },
   "outputs": [],
   "source": [
    "y_train = np.array(train_label)\n",
    "y_test = np.array(test_label)"
   ]
  },
  {
   "cell_type": "code",
   "execution_count": 11,
   "id": "1988c866",
   "metadata": {
    "execution": {
     "iopub.execute_input": "2021-12-15T15:12:44.501101Z",
     "iopub.status.busy": "2021-12-15T15:12:44.500365Z",
     "iopub.status.idle": "2021-12-15T15:12:44.505967Z",
     "shell.execute_reply": "2021-12-15T15:12:44.505573Z",
     "shell.execute_reply.started": "2021-12-15T09:52:56.598686Z"
    },
    "papermill": {
     "duration": 0.027434,
     "end_time": "2021-12-15T15:12:44.506097",
     "exception": false,
     "start_time": "2021-12-15T15:12:44.478663",
     "status": "completed"
    },
    "tags": []
   },
   "outputs": [
    {
     "data": {
      "text/plain": [
       "(400000,)"
      ]
     },
     "execution_count": 11,
     "metadata": {},
     "output_type": "execute_result"
    }
   ],
   "source": [
    "y_test.shape"
   ]
  },
  {
   "cell_type": "code",
   "execution_count": 12,
   "id": "69e4bbd5",
   "metadata": {
    "execution": {
     "iopub.execute_input": "2021-12-15T15:12:44.576851Z",
     "iopub.status.busy": "2021-12-15T15:12:44.566566Z",
     "iopub.status.idle": "2021-12-15T15:16:33.722607Z",
     "shell.execute_reply": "2021-12-15T15:16:33.723628Z",
     "shell.execute_reply.started": "2021-12-15T09:52:56.818906Z"
    },
    "papermill": {
     "duration": 229.201256,
     "end_time": "2021-12-15T15:16:33.723957",
     "exception": false,
     "start_time": "2021-12-15T15:12:44.522701",
     "status": "completed"
    },
    "tags": []
   },
   "outputs": [
    {
     "name": "stdout",
     "output_type": "stream",
     "text": [
      "Vocabulary Size : 905946\n"
     ]
    }
   ],
   "source": [
    "max_features = 8192\n",
    "maxlen = 128\n",
    "\n",
    "tokenizer = Tokenizer(num_words=max_features)\n",
    "tokenizer.fit_on_texts(train_text)\n",
    "\n",
    "word_index = tokenizer.word_index\n",
    "vocab_size = len(tokenizer.word_index) + 1\n",
    "print(\"Vocabulary Size :\", vocab_size)"
   ]
  },
  {
   "cell_type": "code",
   "execution_count": 13,
   "id": "eb3afc74",
   "metadata": {
    "execution": {
     "iopub.execute_input": "2021-12-15T15:16:33.786847Z",
     "iopub.status.busy": "2021-12-15T15:16:33.786108Z",
     "iopub.status.idle": "2021-12-15T15:16:34.698364Z",
     "shell.execute_reply": "2021-12-15T15:16:34.698851Z",
     "shell.execute_reply.started": "2021-12-15T09:58:13.726016Z"
    },
    "papermill": {
     "duration": 0.946466,
     "end_time": "2021-12-15T15:16:34.699045",
     "exception": false,
     "start_time": "2021-12-15T15:16:33.752579",
     "status": "completed"
    },
    "tags": []
   },
   "outputs": [],
   "source": [
    "import os \n",
    "with open('amazon_dictionary.txt', 'w') as file:\n",
    "    for key in word_index.keys():\n",
    "        file.write(key + \" \" + str(word_index[key]) + \",\")"
   ]
  },
  {
   "cell_type": "code",
   "execution_count": 14,
   "id": "0e7f7403",
   "metadata": {
    "execution": {
     "iopub.execute_input": "2021-12-15T15:16:34.747308Z",
     "iopub.status.busy": "2021-12-15T15:16:34.746323Z",
     "iopub.status.idle": "2021-12-15T15:20:00.363543Z",
     "shell.execute_reply": "2021-12-15T15:20:00.362602Z",
     "shell.execute_reply.started": "2021-12-15T09:58:14.779469Z"
    },
    "papermill": {
     "duration": 205.647066,
     "end_time": "2021-12-15T15:20:00.363700",
     "exception": false,
     "start_time": "2021-12-15T15:16:34.716634",
     "status": "completed"
    },
    "tags": []
   },
   "outputs": [],
   "source": [
    "training_token = tokenizer.texts_to_sequences(train_text)\n",
    "testing_token = tokenizer.texts_to_sequences(test_text)"
   ]
  },
  {
   "cell_type": "code",
   "execution_count": 15,
   "id": "35502707",
   "metadata": {
    "execution": {
     "iopub.execute_input": "2021-12-15T15:20:00.467060Z",
     "iopub.status.busy": "2021-12-15T15:20:00.431248Z",
     "iopub.status.idle": "2021-12-15T15:21:16.129484Z",
     "shell.execute_reply": "2021-12-15T15:21:16.130272Z",
     "shell.execute_reply.started": "2021-12-15T10:02:34.793198Z"
    },
    "papermill": {
     "duration": 75.748927,
     "end_time": "2021-12-15T15:21:16.130461",
     "exception": false,
     "start_time": "2021-12-15T15:20:00.381534",
     "status": "completed"
    },
    "tags": []
   },
   "outputs": [],
   "source": [
    "x_train = pad_sequences(training_token, maxlen = maxlen, padding = 'post')\n",
    "x_test = pad_sequences(testing_token, maxlen = maxlen, padding = 'post')"
   ]
  },
  {
   "cell_type": "code",
   "execution_count": 16,
   "id": "f5030566",
   "metadata": {
    "execution": {
     "iopub.execute_input": "2021-12-15T15:21:16.172646Z",
     "iopub.status.busy": "2021-12-15T15:21:16.171923Z",
     "iopub.status.idle": "2021-12-15T15:21:17.630404Z",
     "shell.execute_reply": "2021-12-15T15:21:17.631049Z",
     "shell.execute_reply.started": "2021-12-15T10:03:54.502031Z"
    },
    "papermill": {
     "duration": 1.482433,
     "end_time": "2021-12-15T15:21:17.631226",
     "exception": false,
     "start_time": "2021-12-15T15:21:16.148793",
     "status": "completed"
    },
    "tags": []
   },
   "outputs": [],
   "source": [
    "import torch\n",
    "from torch.utils.data import TensorDataset, DataLoader\n",
    "import torch.nn as nn\n",
    "BATCH_SIZE = 50\n",
    "\n",
    "train_data = TensorDataset(torch.from_numpy(x_train), torch.from_numpy(y_train))\n",
    "test_data = TensorDataset(torch.from_numpy(x_test), torch.from_numpy(y_test))\n",
    "\n",
    "train_loader = DataLoader(train_data, shuffle=True, batch_size=BATCH_SIZE, drop_last = True)\n",
    "test_loader = DataLoader(test_data, shuffle=True, batch_size=BATCH_SIZE, drop_last = True)"
   ]
  },
  {
   "cell_type": "code",
   "execution_count": 17,
   "id": "6e77f62e",
   "metadata": {
    "execution": {
     "iopub.execute_input": "2021-12-15T15:21:17.673878Z",
     "iopub.status.busy": "2021-12-15T15:21:17.673094Z",
     "iopub.status.idle": "2021-12-15T15:21:17.681296Z",
     "shell.execute_reply": "2021-12-15T15:21:17.681709Z",
     "shell.execute_reply.started": "2021-12-15T10:19:14.696233Z"
    },
    "papermill": {
     "duration": 0.033145,
     "end_time": "2021-12-15T15:21:17.681832",
     "exception": false,
     "start_time": "2021-12-15T15:21:17.648687",
     "status": "completed"
    },
    "tags": []
   },
   "outputs": [],
   "source": [
    "class PositionalEncoding(nn.Module):\n",
    "\n",
    "    def __init__(self, d_model, dropout=0.1, max_len=5000):\n",
    "        super(PositionalEncoding, self).__init__()\n",
    "        self.dropout = nn.Dropout(p=dropout)\n",
    "\n",
    "        pe = torch.zeros(max_len, d_model)\n",
    "        position = torch.arange(0, max_len, dtype=torch.float).unsqueeze(1)\n",
    "        div_term = torch.exp(torch.arange(0, d_model, 2).float() * (-math.log(10000.0) / d_model))\n",
    "        pe[:, 0::2] = torch.sin(position * div_term)\n",
    "        pe[:, 1::2] = torch.cos(position * div_term)\n",
    "        pe = pe.unsqueeze(0).transpose(0, 1)\n",
    "        self.register_buffer('pe', pe)\n",
    "\n",
    "    def forward(self, x):\n",
    "        x = x + self.pe[:x.size(0), :]\n",
    "        return self.dropout(x)\n",
    "    \n",
    "class SentimentNet(nn.Module):\n",
    "    def __init__(self, vocab_size, output_size, embedding_dim, hidden_dim, n_layers, drop_prob=0.2):\n",
    "        super(SentimentNet, self).__init__()\n",
    "        self.output_size = output_size\n",
    "        self.n_layers = n_layers\n",
    "        self.hidden_dim = hidden_dim\n",
    "        self.dropout = nn.Dropout(drop_prob)\n",
    "        self.embedding_dim = embedding_dim\n",
    "        self.sigmoid = nn.Sigmoid()\n",
    "        \n",
    "        \n",
    "        self.encoder = nn.Embedding(vocab_size, embedding_dim)\n",
    "        self.pos_encoder = PositionalEncoding(embedding_dim, drop_prob)\n",
    "        encoder_layer = nn.TransformerEncoderLayer(embedding_dim, 2, hidden_dim)\n",
    "        self.transformer_encoder = nn.TransformerEncoder(encoder_layer, num_layers=n_layers)\n",
    "        \n",
    "        \n",
    "        self.fc = nn.Linear(embedding_dim * 128 , 1)\n",
    "\n",
    "    \n",
    "    def forward(self, src):\n",
    "        src = self.encoder(src) * math.sqrt(self.embedding_dim)\n",
    "        src = self.pos_encoder(src)\n",
    "        output = self.transformer_encoder(src)\n",
    "        output = output.view(output.size(0), -1)\n",
    "        \n",
    "        output = self.sigmoid(self.fc(output))\n",
    "        return output"
   ]
  },
  {
   "cell_type": "code",
   "execution_count": 18,
   "id": "aad08fff",
   "metadata": {
    "execution": {
     "iopub.execute_input": "2021-12-15T15:21:17.720399Z",
     "iopub.status.busy": "2021-12-15T15:21:17.719569Z",
     "iopub.status.idle": "2021-12-15T15:21:17.721712Z",
     "shell.execute_reply": "2021-12-15T15:21:17.722103Z",
     "shell.execute_reply.started": "2021-12-15T10:04:00.284359Z"
    },
    "papermill": {
     "duration": 0.023791,
     "end_time": "2021-12-15T15:21:17.722234",
     "exception": false,
     "start_time": "2021-12-15T15:21:17.698443",
     "status": "completed"
    },
    "tags": []
   },
   "outputs": [],
   "source": [
    "def model_params(model):\n",
    "    pp=0\n",
    "    for p in list(model.parameters()):\n",
    "        nn=1\n",
    "        for s in list(p.size()):\n",
    "            nn = nn*s\n",
    "        pp += nn\n",
    "    return pp"
   ]
  },
  {
   "cell_type": "code",
   "execution_count": 19,
   "id": "9eae6b11",
   "metadata": {
    "execution": {
     "iopub.execute_input": "2021-12-15T15:21:17.762034Z",
     "iopub.status.busy": "2021-12-15T15:21:17.761439Z",
     "iopub.status.idle": "2021-12-15T15:21:22.693215Z",
     "shell.execute_reply": "2021-12-15T15:21:22.693801Z",
     "shell.execute_reply.started": "2021-12-15T10:19:04.882323Z"
    },
    "papermill": {
     "duration": 4.955075,
     "end_time": "2021-12-15T15:21:22.693964",
     "exception": false,
     "start_time": "2021-12-15T15:21:17.738889",
     "status": "completed"
    },
    "tags": []
   },
   "outputs": [
    {
     "name": "stdout",
     "output_type": "stream",
     "text": [
      "9061315\n"
     ]
    }
   ],
   "source": [
    "import math\n",
    "\n",
    "output_size = 1\n",
    "embedding_dim = 10\n",
    "hidden_dim = 4\n",
    "n_layers = 1\n",
    "\n",
    "model = SentimentNet(vocab_size, output_size, embedding_dim, hidden_dim, n_layers)\n",
    "model.to(device)\n",
    "print(model_params(model))\n",
    "lr=0.01\n",
    "criterion = nn.BCELoss()\n",
    "optimizer = torch.optim.Adam(model.parameters(), lr=lr)"
   ]
  },
  {
   "cell_type": "code",
   "execution_count": 20,
   "id": "08d697f3",
   "metadata": {
    "execution": {
     "iopub.execute_input": "2021-12-15T15:21:22.739567Z",
     "iopub.status.busy": "2021-12-15T15:21:22.737086Z",
     "iopub.status.idle": "2021-12-15T16:31:55.324009Z",
     "shell.execute_reply": "2021-12-15T16:31:55.324480Z",
     "shell.execute_reply.started": "2021-12-15T10:19:07.623429Z"
    },
    "papermill": {
     "duration": 4232.612978,
     "end_time": "2021-12-15T16:31:55.324635",
     "exception": false,
     "start_time": "2021-12-15T15:21:22.711657",
     "status": "completed"
    },
    "tags": []
   },
   "outputs": [
    {
     "name": "stdout",
     "output_type": "stream",
     "text": [
      "Epoch: 1/2... Step: 500... Loss: 0.340841... Val Loss: 0.446193\n",
      "Validation loss decreased (inf --> 0.446193).  Saving model ...\n",
      "Epoch: 1/2... Step: 1000... Loss: 0.366871... Val Loss: 0.338815\n",
      "Validation loss decreased (0.446193 --> 0.338815).  Saving model ...\n",
      "Epoch: 1/2... Step: 1500... Loss: 0.281226... Val Loss: 0.314541\n",
      "Validation loss decreased (0.338815 --> 0.314541).  Saving model ...\n",
      "Epoch: 1/2... Step: 2000... Loss: 0.359444... Val Loss: 0.286806\n",
      "Validation loss decreased (0.314541 --> 0.286806).  Saving model ...\n",
      "Epoch: 1/2... Step: 2500... Loss: 0.204139... Val Loss: 0.283360\n",
      "Validation loss decreased (0.286806 --> 0.283360).  Saving model ...\n",
      "Epoch: 1/2... Step: 3000... Loss: 0.168031... Val Loss: 0.295007\n",
      "Epoch: 1/2... Step: 3500... Loss: 0.443651... Val Loss: 0.273492\n",
      "Validation loss decreased (0.283360 --> 0.273492).  Saving model ...\n",
      "Epoch: 1/2... Step: 4000... Loss: 0.299145... Val Loss: 0.273594\n",
      "Epoch: 1/2... Step: 4500... Loss: 0.151810... Val Loss: 0.272617\n",
      "Validation loss decreased (0.273492 --> 0.272617).  Saving model ...\n",
      "Epoch: 1/2... Step: 5000... Loss: 0.390135... Val Loss: 0.260907\n",
      "Validation loss decreased (0.272617 --> 0.260907).  Saving model ...\n",
      "Epoch: 1/2... Step: 5500... Loss: 0.282027... Val Loss: 0.272012\n",
      "Epoch: 1/2... Step: 6000... Loss: 0.203303... Val Loss: 0.264275\n",
      "Epoch: 1/2... Step: 6500... Loss: 0.256220... Val Loss: 0.283027\n",
      "Epoch: 1/2... Step: 7000... Loss: 0.291998... Val Loss: 0.272595\n",
      "Epoch: 1/2... Step: 7500... Loss: 0.212562... Val Loss: 0.256844\n",
      "Validation loss decreased (0.260907 --> 0.256844).  Saving model ...\n",
      "Epoch: 1/2... Step: 8000... Loss: 0.325684... Val Loss: 0.261866\n",
      "Epoch: 1/2... Step: 8500... Loss: 0.256056... Val Loss: 0.260689\n",
      "Epoch: 1/2... Step: 9000... Loss: 0.377983... Val Loss: 0.255069\n",
      "Validation loss decreased (0.256844 --> 0.255069).  Saving model ...\n",
      "Epoch: 1/2... Step: 9500... Loss: 0.224122... Val Loss: 0.256856\n",
      "Epoch: 1/2... Step: 10000... Loss: 0.237647... Val Loss: 0.259739\n",
      "Epoch: 1/2... Step: 10500... Loss: 0.195375... Val Loss: 0.256912\n",
      "Epoch: 1/2... Step: 11000... Loss: 0.276585... Val Loss: 0.256906\n",
      "Epoch: 1/2... Step: 11500... Loss: 0.293125... Val Loss: 0.267718\n",
      "Epoch: 1/2... Step: 12000... Loss: 0.314248... Val Loss: 0.285065\n",
      "Epoch: 1/2... Step: 12500... Loss: 0.147799... Val Loss: 0.265173\n",
      "Epoch: 1/2... Step: 13000... Loss: 0.235433... Val Loss: 0.255430\n",
      "Epoch: 1/2... Step: 13500... Loss: 0.316620... Val Loss: 0.261181\n",
      "Epoch: 1/2... Step: 14000... Loss: 0.237511... Val Loss: 0.253380\n",
      "Validation loss decreased (0.255069 --> 0.253380).  Saving model ...\n",
      "Epoch: 1/2... Step: 14500... Loss: 0.318387... Val Loss: 0.281591\n",
      "Epoch: 1/2... Step: 15000... Loss: 0.359581... Val Loss: 0.249916\n",
      "Validation loss decreased (0.253380 --> 0.249916).  Saving model ...\n",
      "Epoch: 1/2... Step: 15500... Loss: 0.381765... Val Loss: 0.274122\n",
      "Epoch: 1/2... Step: 16000... Loss: 0.335210... Val Loss: 0.261481\n",
      "Epoch: 1/2... Step: 16500... Loss: 0.147341... Val Loss: 0.267678\n",
      "Epoch: 1/2... Step: 17000... Loss: 0.187748... Val Loss: 0.250436\n",
      "Epoch: 1/2... Step: 17500... Loss: 0.292113... Val Loss: 0.305238\n",
      "Epoch: 1/2... Step: 18000... Loss: 0.158204... Val Loss: 0.251520\n",
      "Epoch: 1/2... Step: 18500... Loss: 0.288714... Val Loss: 0.267309\n",
      "Epoch: 1/2... Step: 19000... Loss: 0.289672... Val Loss: 0.247189\n",
      "Validation loss decreased (0.249916 --> 0.247189).  Saving model ...\n",
      "Epoch: 1/2... Step: 19500... Loss: 0.292682... Val Loss: 0.257052\n",
      "Epoch: 1/2... Step: 20000... Loss: 0.409041... Val Loss: 0.247464\n",
      "Epoch: 1/2... Step: 20500... Loss: 0.518304... Val Loss: 0.260574\n",
      "Epoch: 1/2... Step: 21000... Loss: 0.249276... Val Loss: 0.246908\n",
      "Validation loss decreased (0.247189 --> 0.246908).  Saving model ...\n",
      "Epoch: 1/2... Step: 21500... Loss: 0.213876... Val Loss: 0.262704\n",
      "Epoch: 1/2... Step: 22000... Loss: 0.241887... Val Loss: 0.254360\n",
      "Epoch: 1/2... Step: 22500... Loss: 0.209663... Val Loss: 0.248911\n",
      "Epoch: 1/2... Step: 23000... Loss: 0.186856... Val Loss: 0.263674\n",
      "Epoch: 1/2... Step: 23500... Loss: 0.307218... Val Loss: 0.250769\n",
      "Epoch: 1/2... Step: 24000... Loss: 0.216829... Val Loss: 0.264105\n",
      "Epoch: 1/2... Step: 24500... Loss: 0.160633... Val Loss: 0.249326\n",
      "Epoch: 1/2... Step: 25000... Loss: 0.248400... Val Loss: 0.251855\n",
      "Epoch: 1/2... Step: 25500... Loss: 0.437805... Val Loss: 0.267309\n",
      "Epoch: 1/2... Step: 26000... Loss: 0.118809... Val Loss: 0.246795\n",
      "Validation loss decreased (0.246908 --> 0.246795).  Saving model ...\n",
      "Epoch: 1/2... Step: 26500... Loss: 0.286104... Val Loss: 0.268080\n",
      "Epoch: 1/2... Step: 27000... Loss: 0.386944... Val Loss: 0.251897\n",
      "Epoch: 1/2... Step: 27500... Loss: 0.178240... Val Loss: 0.254840\n",
      "Epoch: 1/2... Step: 28000... Loss: 0.174735... Val Loss: 0.249646\n",
      "Epoch: 1/2... Step: 28500... Loss: 0.317985... Val Loss: 0.277395\n",
      "Epoch: 1/2... Step: 29000... Loss: 0.230738... Val Loss: 0.250687\n",
      "Epoch: 1/2... Step: 29500... Loss: 0.319450... Val Loss: 0.249059\n",
      "Epoch: 1/2... Step: 30000... Loss: 0.283467... Val Loss: 0.247613\n",
      "Epoch: 1/2... Step: 30500... Loss: 0.214733... Val Loss: 0.272632\n",
      "Epoch: 1/2... Step: 31000... Loss: 0.260313... Val Loss: 0.245013\n",
      "Validation loss decreased (0.246795 --> 0.245013).  Saving model ...\n",
      "Epoch: 1/2... Step: 31500... Loss: 0.247714... Val Loss: 0.268686\n",
      "Epoch: 1/2... Step: 32000... Loss: 0.224096... Val Loss: 0.248716\n",
      "Epoch: 1/2... Step: 32500... Loss: 0.283424... Val Loss: 0.244120\n",
      "Validation loss decreased (0.245013 --> 0.244120).  Saving model ...\n",
      "Epoch: 1/2... Step: 33000... Loss: 0.170208... Val Loss: 0.245322\n",
      "Epoch: 1/2... Step: 33500... Loss: 0.416895... Val Loss: 0.244669\n",
      "Epoch: 1/2... Step: 34000... Loss: 0.270645... Val Loss: 0.245532\n",
      "Epoch: 1/2... Step: 34500... Loss: 0.418448... Val Loss: 0.244671\n",
      "Epoch: 1/2... Step: 35000... Loss: 0.304199... Val Loss: 0.251625\n",
      "Epoch: 1/2... Step: 35500... Loss: 0.464074... Val Loss: 0.242918\n",
      "Validation loss decreased (0.244120 --> 0.242918).  Saving model ...\n",
      "Epoch: 1/2... Step: 36000... Loss: 0.313162... Val Loss: 0.248050\n",
      "Epoch: 1/2... Step: 36500... Loss: 0.290860... Val Loss: 0.250908\n",
      "Epoch: 1/2... Step: 37000... Loss: 0.333465... Val Loss: 0.265197\n",
      "Epoch: 1/2... Step: 37500... Loss: 0.106079... Val Loss: 0.248774\n",
      "Epoch: 1/2... Step: 38000... Loss: 0.219332... Val Loss: 0.246814\n",
      "Epoch: 1/2... Step: 38500... Loss: 0.227870... Val Loss: 0.242385\n",
      "Validation loss decreased (0.242918 --> 0.242385).  Saving model ...\n",
      "Epoch: 1/2... Step: 39000... Loss: 0.320798... Val Loss: 0.247146\n",
      "Epoch: 1/2... Step: 39500... Loss: 0.173506... Val Loss: 0.249596\n",
      "Epoch: 1/2... Step: 40000... Loss: 0.356516... Val Loss: 0.262479\n",
      "Epoch: 1/2... Step: 40500... Loss: 0.391002... Val Loss: 0.246499\n",
      "Epoch: 1/2... Step: 41000... Loss: 0.304072... Val Loss: 0.240041\n",
      "Validation loss decreased (0.242385 --> 0.240041).  Saving model ...\n",
      "Epoch: 1/2... Step: 41500... Loss: 0.293964... Val Loss: 0.243017\n",
      "Epoch: 1/2... Step: 42000... Loss: 0.225979... Val Loss: 0.255342\n",
      "Epoch: 1/2... Step: 42500... Loss: 0.357910... Val Loss: 0.251428\n",
      "Epoch: 1/2... Step: 43000... Loss: 0.211466... Val Loss: 0.263557\n",
      "Epoch: 1/2... Step: 43500... Loss: 0.364537... Val Loss: 0.253289\n",
      "Epoch: 1/2... Step: 44000... Loss: 0.300242... Val Loss: 0.242643\n",
      "Epoch: 1/2... Step: 44500... Loss: 0.276824... Val Loss: 0.242927\n",
      "Epoch: 1/2... Step: 45000... Loss: 0.352506... Val Loss: 0.241941\n",
      "Epoch: 1/2... Step: 45500... Loss: 0.277701... Val Loss: 0.244297\n",
      "Epoch: 1/2... Step: 46000... Loss: 0.191824... Val Loss: 0.243696\n",
      "Epoch: 1/2... Step: 46500... Loss: 0.186534... Val Loss: 0.243457\n",
      "Epoch: 1/2... Step: 47000... Loss: 0.453968... Val Loss: 0.242738\n",
      "Epoch: 1/2... Step: 47500... Loss: 0.453089... Val Loss: 0.251547\n",
      "Epoch: 1/2... Step: 48000... Loss: 0.295215... Val Loss: 0.246231\n",
      "Epoch: 1/2... Step: 48500... Loss: 0.130612... Val Loss: 0.254048\n",
      "Epoch: 1/2... Step: 49000... Loss: 0.149674... Val Loss: 0.267484\n",
      "Epoch: 1/2... Step: 49500... Loss: 0.350753... Val Loss: 0.245417\n",
      "Epoch: 1/2... Step: 50000... Loss: 0.197107... Val Loss: 0.243545\n",
      "Epoch: 1/2... Step: 50500... Loss: 0.285906... Val Loss: 0.245635\n",
      "Epoch: 1/2... Step: 51000... Loss: 0.404497... Val Loss: 0.242805\n",
      "Epoch: 1/2... Step: 51500... Loss: 0.198421... Val Loss: 0.239968\n",
      "Validation loss decreased (0.240041 --> 0.239968).  Saving model ...\n",
      "Epoch: 1/2... Step: 52000... Loss: 0.204600... Val Loss: 0.251209\n",
      "Epoch: 1/2... Step: 52500... Loss: 0.305601... Val Loss: 0.247654\n",
      "Epoch: 1/2... Step: 53000... Loss: 0.216799... Val Loss: 0.239887\n",
      "Validation loss decreased (0.239968 --> 0.239887).  Saving model ...\n",
      "Epoch: 1/2... Step: 53500... Loss: 0.247781... Val Loss: 0.240509\n",
      "Epoch: 1/2... Step: 54000... Loss: 0.250023... Val Loss: 0.265606\n",
      "Epoch: 1/2... Step: 54500... Loss: 0.212785... Val Loss: 0.239920\n",
      "Epoch: 1/2... Step: 55000... Loss: 0.301280... Val Loss: 0.247320\n",
      "Epoch: 1/2... Step: 55500... Loss: 0.279275... Val Loss: 0.242482\n",
      "Epoch: 1/2... Step: 56000... Loss: 0.190089... Val Loss: 0.249328\n",
      "Epoch: 1/2... Step: 56500... Loss: 0.269287... Val Loss: 0.272231\n",
      "Epoch: 1/2... Step: 57000... Loss: 0.223237... Val Loss: 0.250624\n",
      "Epoch: 1/2... Step: 57500... Loss: 0.287102... Val Loss: 0.244481\n",
      "Epoch: 1/2... Step: 58000... Loss: 0.313228... Val Loss: 0.250808\n",
      "Epoch: 1/2... Step: 58500... Loss: 0.171755... Val Loss: 0.248478\n",
      "Epoch: 1/2... Step: 59000... Loss: 0.296986... Val Loss: 0.248831\n",
      "Epoch: 1/2... Step: 59500... Loss: 0.348372... Val Loss: 0.238549\n",
      "Validation loss decreased (0.239887 --> 0.238549).  Saving model ...\n",
      "Epoch: 1/2... Step: 60000... Loss: 0.231527... Val Loss: 0.246603\n",
      "Epoch: 1/2... Step: 60500... Loss: 0.302990... Val Loss: 0.278096\n",
      "Epoch: 1/2... Step: 61000... Loss: 0.207120... Val Loss: 0.243751\n",
      "Epoch: 1/2... Step: 61500... Loss: 0.375075... Val Loss: 0.245476\n",
      "Epoch: 1/2... Step: 62000... Loss: 0.265711... Val Loss: 0.244277\n",
      "Epoch: 1/2... Step: 62500... Loss: 0.224419... Val Loss: 0.246168\n",
      "Epoch: 1/2... Step: 63000... Loss: 0.156587... Val Loss: 0.249991\n",
      "Epoch: 1/2... Step: 63500... Loss: 0.327689... Val Loss: 0.249766\n",
      "Epoch: 1/2... Step: 64000... Loss: 0.182674... Val Loss: 0.243314\n",
      "Epoch: 1/2... Step: 64500... Loss: 0.218531... Val Loss: 0.254870\n",
      "Epoch: 1/2... Step: 65000... Loss: 0.355602... Val Loss: 0.329727\n",
      "Epoch: 1/2... Step: 65500... Loss: 0.455330... Val Loss: 0.255416\n",
      "Epoch: 1/2... Step: 66000... Loss: 0.214426... Val Loss: 0.247697\n",
      "Epoch: 1/2... Step: 66500... Loss: 0.324286... Val Loss: 0.241091\n",
      "Epoch: 1/2... Step: 67000... Loss: 0.441017... Val Loss: 0.242971\n",
      "Epoch: 1/2... Step: 67500... Loss: 0.378954... Val Loss: 0.243899\n",
      "Epoch: 1/2... Step: 68000... Loss: 0.185375... Val Loss: 0.245087\n",
      "Epoch: 1/2... Step: 68500... Loss: 0.213621... Val Loss: 0.240894\n",
      "Epoch: 1/2... Step: 69000... Loss: 0.333279... Val Loss: 0.290242\n",
      "Epoch: 1/2... Step: 69500... Loss: 0.296309... Val Loss: 0.242022\n",
      "Epoch: 1/2... Step: 70000... Loss: 0.193411... Val Loss: 0.260949\n",
      "Epoch: 1/2... Step: 70500... Loss: 0.322158... Val Loss: 0.251226\n",
      "Epoch: 1/2... Step: 71000... Loss: 0.228235... Val Loss: 0.260668\n",
      "Epoch: 1/2... Step: 71500... Loss: 0.333389... Val Loss: 0.237750\n",
      "Validation loss decreased (0.238549 --> 0.237750).  Saving model ...\n",
      "Epoch: 1/2... Step: 72000... Loss: 0.283306... Val Loss: 0.256755\n",
      "Epoch: 2/2... Step: 72500... Loss: 0.199407... Val Loss: 0.252461\n",
      "Epoch: 2/2... Step: 73000... Loss: 0.326888... Val Loss: 0.238414\n",
      "Epoch: 2/2... Step: 73500... Loss: 0.290658... Val Loss: 0.242119\n",
      "Epoch: 2/2... Step: 74000... Loss: 0.243388... Val Loss: 0.245499\n",
      "Epoch: 2/2... Step: 74500... Loss: 0.240263... Val Loss: 0.248536\n",
      "Epoch: 2/2... Step: 75000... Loss: 0.290713... Val Loss: 0.250749\n",
      "Epoch: 2/2... Step: 75500... Loss: 0.182677... Val Loss: 0.248787\n",
      "Epoch: 2/2... Step: 76000... Loss: 0.313728... Val Loss: 0.251175\n",
      "Epoch: 2/2... Step: 76500... Loss: 0.196093... Val Loss: 0.242294\n",
      "Epoch: 2/2... Step: 77000... Loss: 0.232269... Val Loss: 0.238509\n",
      "Epoch: 2/2... Step: 77500... Loss: 0.460879... Val Loss: 0.250206\n",
      "Epoch: 2/2... Step: 78000... Loss: 0.252965... Val Loss: 0.241246\n",
      "Epoch: 2/2... Step: 78500... Loss: 0.164504... Val Loss: 0.275957\n",
      "Epoch: 2/2... Step: 79000... Loss: 0.168653... Val Loss: 0.241733\n",
      "Epoch: 2/2... Step: 79500... Loss: 0.250258... Val Loss: 0.238695\n",
      "Epoch: 2/2... Step: 80000... Loss: 0.297831... Val Loss: 0.251736\n",
      "Epoch: 2/2... Step: 80500... Loss: 0.275155... Val Loss: 0.249338\n",
      "Epoch: 2/2... Step: 81000... Loss: 0.154946... Val Loss: 0.266372\n",
      "Epoch: 2/2... Step: 81500... Loss: 0.140881... Val Loss: 0.248430\n",
      "Epoch: 2/2... Step: 82000... Loss: 0.188259... Val Loss: 0.241565\n",
      "Epoch: 2/2... Step: 82500... Loss: 0.220057... Val Loss: 0.238779\n",
      "Epoch: 2/2... Step: 83000... Loss: 0.438964... Val Loss: 0.244832\n",
      "Epoch: 2/2... Step: 83500... Loss: 0.190532... Val Loss: 0.245113\n",
      "Epoch: 2/2... Step: 84000... Loss: 0.213348... Val Loss: 0.252421\n",
      "Epoch: 2/2... Step: 84500... Loss: 0.305461... Val Loss: 0.238162\n",
      "Epoch: 2/2... Step: 85000... Loss: 0.329097... Val Loss: 0.243929\n",
      "Epoch: 2/2... Step: 85500... Loss: 0.255901... Val Loss: 0.240898\n",
      "Epoch: 2/2... Step: 86000... Loss: 0.160463... Val Loss: 0.246672\n",
      "Epoch: 2/2... Step: 86500... Loss: 0.173126... Val Loss: 0.242858\n",
      "Epoch: 2/2... Step: 87000... Loss: 0.338464... Val Loss: 0.251375\n",
      "Epoch: 2/2... Step: 87500... Loss: 0.304982... Val Loss: 0.255217\n",
      "Epoch: 2/2... Step: 88000... Loss: 0.137053... Val Loss: 0.237149\n",
      "Validation loss decreased (0.237750 --> 0.237149).  Saving model ...\n",
      "Epoch: 2/2... Step: 88500... Loss: 0.299164... Val Loss: 0.251233\n",
      "Epoch: 2/2... Step: 89000... Loss: 0.275653... Val Loss: 0.240785\n",
      "Epoch: 2/2... Step: 89500... Loss: 0.232922... Val Loss: 0.246212\n",
      "Epoch: 2/2... Step: 90000... Loss: 0.281677... Val Loss: 0.292924\n",
      "Epoch: 2/2... Step: 90500... Loss: 0.209195... Val Loss: 0.239678\n",
      "Epoch: 2/2... Step: 91000... Loss: 0.138731... Val Loss: 0.245147\n",
      "Epoch: 2/2... Step: 91500... Loss: 0.161102... Val Loss: 0.244460\n",
      "Epoch: 2/2... Step: 92000... Loss: 0.324276... Val Loss: 0.239948\n",
      "Epoch: 2/2... Step: 92500... Loss: 0.257829... Val Loss: 0.255529\n",
      "Epoch: 2/2... Step: 93000... Loss: 0.296382... Val Loss: 0.238611\n",
      "Epoch: 2/2... Step: 93500... Loss: 0.211443... Val Loss: 0.244627\n",
      "Epoch: 2/2... Step: 94000... Loss: 0.176220... Val Loss: 0.254867\n",
      "Epoch: 2/2... Step: 94500... Loss: 0.274896... Val Loss: 0.256676\n",
      "Epoch: 2/2... Step: 95000... Loss: 0.225130... Val Loss: 0.241637\n",
      "Epoch: 2/2... Step: 95500... Loss: 0.260863... Val Loss: 0.240011\n",
      "Epoch: 2/2... Step: 96000... Loss: 0.150739... Val Loss: 0.259053\n",
      "Epoch: 2/2... Step: 96500... Loss: 0.298350... Val Loss: 0.240806\n",
      "Epoch: 2/2... Step: 97000... Loss: 0.283290... Val Loss: 0.242770\n",
      "Epoch: 2/2... Step: 97500... Loss: 0.436917... Val Loss: 0.265615\n",
      "Epoch: 2/2... Step: 98000... Loss: 0.459867... Val Loss: 0.244595\n",
      "Epoch: 2/2... Step: 98500... Loss: 0.571791... Val Loss: 0.241601\n",
      "Epoch: 2/2... Step: 99000... Loss: 0.348408... Val Loss: 0.254858\n",
      "Epoch: 2/2... Step: 99500... Loss: 0.326537... Val Loss: 0.245318\n",
      "Epoch: 2/2... Step: 100000... Loss: 0.327062... Val Loss: 0.242024\n",
      "Epoch: 2/2... Step: 100500... Loss: 0.253921... Val Loss: 0.240203\n",
      "Epoch: 2/2... Step: 101000... Loss: 0.280450... Val Loss: 0.238558\n",
      "Epoch: 2/2... Step: 101500... Loss: 0.180321... Val Loss: 0.237849\n",
      "Epoch: 2/2... Step: 102000... Loss: 0.458281... Val Loss: 0.244469\n",
      "Epoch: 2/2... Step: 102500... Loss: 0.213722... Val Loss: 0.238583\n",
      "Epoch: 2/2... Step: 103000... Loss: 0.226051... Val Loss: 0.241946\n",
      "Epoch: 2/2... Step: 103500... Loss: 0.263158... Val Loss: 0.239179\n",
      "Epoch: 2/2... Step: 104000... Loss: 0.183024... Val Loss: 0.242482\n",
      "Epoch: 2/2... Step: 104500... Loss: 0.210726... Val Loss: 0.249552\n",
      "Epoch: 2/2... Step: 105000... Loss: 0.411736... Val Loss: 0.249701\n",
      "Epoch: 2/2... Step: 105500... Loss: 0.269659... Val Loss: 0.265005\n",
      "Epoch: 2/2... Step: 106000... Loss: 0.205333... Val Loss: 0.243579\n",
      "Epoch: 2/2... Step: 106500... Loss: 0.276324... Val Loss: 0.238624\n",
      "Epoch: 2/2... Step: 107000... Loss: 0.349195... Val Loss: 0.238724\n",
      "Epoch: 2/2... Step: 107500... Loss: 0.336845... Val Loss: 0.241431\n",
      "Epoch: 2/2... Step: 108000... Loss: 0.277979... Val Loss: 0.264953\n",
      "Epoch: 2/2... Step: 108500... Loss: 0.344007... Val Loss: 0.242892\n",
      "Epoch: 2/2... Step: 109000... Loss: 0.229596... Val Loss: 0.272829\n",
      "Epoch: 2/2... Step: 109500... Loss: 0.330509... Val Loss: 0.242224\n",
      "Epoch: 2/2... Step: 110000... Loss: 0.255313... Val Loss: 0.248211\n",
      "Epoch: 2/2... Step: 110500... Loss: 0.247276... Val Loss: 0.276792\n",
      "Epoch: 2/2... Step: 111000... Loss: 0.270367... Val Loss: 0.250570\n",
      "Epoch: 2/2... Step: 111500... Loss: 0.225421... Val Loss: 0.237685\n",
      "Epoch: 2/2... Step: 112000... Loss: 0.254566... Val Loss: 0.240910\n",
      "Epoch: 2/2... Step: 112500... Loss: 0.256403... Val Loss: 0.263825\n",
      "Epoch: 2/2... Step: 113000... Loss: 0.201048... Val Loss: 0.254744\n",
      "Epoch: 2/2... Step: 113500... Loss: 0.217606... Val Loss: 0.248551\n",
      "Epoch: 2/2... Step: 114000... Loss: 0.131986... Val Loss: 0.271003\n",
      "Epoch: 2/2... Step: 114500... Loss: 0.290012... Val Loss: 0.240607\n",
      "Epoch: 2/2... Step: 115000... Loss: 0.312558... Val Loss: 0.280779\n",
      "Epoch: 2/2... Step: 115500... Loss: 0.216357... Val Loss: 0.246712\n",
      "Epoch: 2/2... Step: 116000... Loss: 0.198793... Val Loss: 0.240183\n",
      "Epoch: 2/2... Step: 116500... Loss: 0.224913... Val Loss: 0.265743\n",
      "Epoch: 2/2... Step: 117000... Loss: 0.161135... Val Loss: 0.243744\n",
      "Epoch: 2/2... Step: 117500... Loss: 0.399642... Val Loss: 0.243435\n",
      "Epoch: 2/2... Step: 118000... Loss: 0.298818... Val Loss: 0.239212\n",
      "Epoch: 2/2... Step: 118500... Loss: 0.210369... Val Loss: 0.238886\n",
      "Epoch: 2/2... Step: 119000... Loss: 0.197147... Val Loss: 0.257380\n",
      "Epoch: 2/2... Step: 119500... Loss: 0.225477... Val Loss: 0.243105\n",
      "Epoch: 2/2... Step: 120000... Loss: 0.241283... Val Loss: 0.236666\n",
      "Validation loss decreased (0.237149 --> 0.236666).  Saving model ...\n",
      "Epoch: 2/2... Step: 120500... Loss: 0.200052... Val Loss: 0.246560\n",
      "Epoch: 2/2... Step: 121000... Loss: 0.265173... Val Loss: 0.239166\n",
      "Epoch: 2/2... Step: 121500... Loss: 0.179561... Val Loss: 0.247047\n",
      "Epoch: 2/2... Step: 122000... Loss: 0.308243... Val Loss: 0.267131\n",
      "Epoch: 2/2... Step: 122500... Loss: 0.112549... Val Loss: 0.253076\n",
      "Epoch: 2/2... Step: 123000... Loss: 0.436698... Val Loss: 0.239500\n",
      "Epoch: 2/2... Step: 123500... Loss: 0.261135... Val Loss: 0.279909\n",
      "Epoch: 2/2... Step: 124000... Loss: 0.222761... Val Loss: 0.241214\n",
      "Epoch: 2/2... Step: 124500... Loss: 0.354658... Val Loss: 0.274595\n",
      "Epoch: 2/2... Step: 125000... Loss: 0.297931... Val Loss: 0.249124\n",
      "Epoch: 2/2... Step: 125500... Loss: 0.361416... Val Loss: 0.239055\n",
      "Epoch: 2/2... Step: 126000... Loss: 0.084966... Val Loss: 0.244703\n",
      "Epoch: 2/2... Step: 126500... Loss: 0.641137... Val Loss: 0.247337\n",
      "Epoch: 2/2... Step: 127000... Loss: 0.152723... Val Loss: 0.237874\n",
      "Epoch: 2/2... Step: 127500... Loss: 0.309060... Val Loss: 0.236577\n",
      "Validation loss decreased (0.236666 --> 0.236577).  Saving model ...\n",
      "Epoch: 2/2... Step: 128000... Loss: 0.157869... Val Loss: 0.260659\n",
      "Epoch: 2/2... Step: 128500... Loss: 0.222991... Val Loss: 0.241370\n",
      "Epoch: 2/2... Step: 129000... Loss: 0.261136... Val Loss: 0.237686\n",
      "Epoch: 2/2... Step: 129500... Loss: 0.339382... Val Loss: 0.242040\n",
      "Epoch: 2/2... Step: 130000... Loss: 0.193369... Val Loss: 0.242562\n",
      "Epoch: 2/2... Step: 130500... Loss: 0.176626... Val Loss: 0.239009\n",
      "Epoch: 2/2... Step: 131000... Loss: 0.224270... Val Loss: 0.268093\n",
      "Epoch: 2/2... Step: 131500... Loss: 0.222022... Val Loss: 0.240168\n",
      "Epoch: 2/2... Step: 132000... Loss: 0.177200... Val Loss: 0.247810\n",
      "Epoch: 2/2... Step: 132500... Loss: 0.321822... Val Loss: 0.237917\n",
      "Epoch: 2/2... Step: 133000... Loss: 0.253433... Val Loss: 0.238643\n",
      "Epoch: 2/2... Step: 133500... Loss: 0.105439... Val Loss: 0.238229\n",
      "Epoch: 2/2... Step: 134000... Loss: 0.190260... Val Loss: 0.281717\n",
      "Epoch: 2/2... Step: 134500... Loss: 0.166308... Val Loss: 0.257611\n",
      "Epoch: 2/2... Step: 135000... Loss: 0.294535... Val Loss: 0.267400\n",
      "Epoch: 2/2... Step: 135500... Loss: 0.189981... Val Loss: 0.238593\n",
      "Epoch: 2/2... Step: 136000... Loss: 0.380921... Val Loss: 0.237642\n",
      "Epoch: 2/2... Step: 136500... Loss: 0.313865... Val Loss: 0.238810\n",
      "Epoch: 2/2... Step: 137000... Loss: 0.227452... Val Loss: 0.238850\n",
      "Epoch: 2/2... Step: 137500... Loss: 0.305997... Val Loss: 0.238703\n",
      "Epoch: 2/2... Step: 138000... Loss: 0.226438... Val Loss: 0.238439\n",
      "Epoch: 2/2... Step: 138500... Loss: 0.223201... Val Loss: 0.237991\n",
      "Epoch: 2/2... Step: 139000... Loss: 0.157874... Val Loss: 0.242114\n",
      "Epoch: 2/2... Step: 139500... Loss: 0.281522... Val Loss: 0.241596\n",
      "Epoch: 2/2... Step: 140000... Loss: 0.158435... Val Loss: 0.236560\n",
      "Validation loss decreased (0.236577 --> 0.236560).  Saving model ...\n",
      "Epoch: 2/2... Step: 140500... Loss: 0.242853... Val Loss: 0.248601\n",
      "Epoch: 2/2... Step: 141000... Loss: 0.301532... Val Loss: 0.241955\n",
      "Epoch: 2/2... Step: 141500... Loss: 0.152827... Val Loss: 0.239682\n",
      "Epoch: 2/2... Step: 142000... Loss: 0.256649... Val Loss: 0.302654\n",
      "Epoch: 2/2... Step: 142500... Loss: 0.276829... Val Loss: 0.238952\n",
      "Epoch: 2/2... Step: 143000... Loss: 0.401487... Val Loss: 0.260851\n",
      "Epoch: 2/2... Step: 143500... Loss: 0.275500... Val Loss: 0.237714\n",
      "Epoch: 2/2... Step: 144000... Loss: 0.213332... Val Loss: 0.241445\n"
     ]
    }
   ],
   "source": [
    "epochs = 2\n",
    "counter = 0\n",
    "print_every = 500\n",
    "clip = 5\n",
    "valid_loss_min = np.Inf\n",
    "\n",
    "model.train()\n",
    "for i in range(epochs):\n",
    "    \n",
    "    for inputs, labels in train_loader:\n",
    "        counter += 1\n",
    "        inputs, labels = inputs.to(device), labels.to(device)\n",
    "        model.zero_grad()\n",
    "        output = model(inputs.long())\n",
    "        \n",
    "        loss = criterion(output.squeeze(1), labels.float())\n",
    "        \n",
    "        \n",
    "        loss.backward()\n",
    "        #nn.utils.clip_grad_norm_(model.parameters(), clip)\n",
    "        optimizer.step()\n",
    "        \n",
    "        if counter%print_every == 0:\n",
    "            val_losses = []\n",
    "            model.eval()\n",
    "            for inp, lab in test_loader:\n",
    "                inp, lab = inp.to(device), lab.to(device)\n",
    "                out = model(inp.long())\n",
    "                val_loss = criterion(out.squeeze(1), lab.float())\n",
    "                val_losses.append(val_loss.item())\n",
    "                \n",
    "            model.train()\n",
    "            print(\"Epoch: {}/{}...\".format(i+1, epochs),\n",
    "                  \"Step: {}...\".format(counter),\n",
    "                  \"Loss: {:.6f}...\".format(loss.item()),\n",
    "                  \"Val Loss: {:.6f}\".format(np.mean(val_losses)))\n",
    "            if np.mean(val_losses) <= valid_loss_min:\n",
    "                torch.save(model.state_dict(), './state_dict.pt')\n",
    "                print('Validation loss decreased ({:.6f} --> {:.6f}).  Saving model ...'.format(valid_loss_min,np.mean(val_losses)))\n",
    "                valid_loss_min = np.mean(val_losses)"
   ]
  },
  {
   "cell_type": "code",
   "execution_count": 21,
   "id": "a937f34e",
   "metadata": {
    "execution": {
     "iopub.execute_input": "2021-12-15T16:31:55.509499Z",
     "iopub.status.busy": "2021-12-15T16:31:55.507065Z",
     "iopub.status.idle": "2021-12-15T16:31:55.541301Z",
     "shell.execute_reply": "2021-12-15T16:31:55.540815Z",
     "shell.execute_reply.started": "2021-12-15T10:04:08.106311Z"
    },
    "papermill": {
     "duration": 0.12621,
     "end_time": "2021-12-15T16:31:55.541416",
     "exception": false,
     "start_time": "2021-12-15T16:31:55.415206",
     "status": "completed"
    },
    "tags": []
   },
   "outputs": [
    {
     "data": {
      "text/plain": [
       "tensor([[0.9094]], device='cuda:0', grad_fn=<SigmoidBackward>)"
      ]
     },
     "execution_count": 21,
     "metadata": {},
     "output_type": "execute_result"
    }
   ],
   "source": [
    "sentence = \"I love you\"\n",
    "trial = torch.tensor(pad_sequences(tokenizer.texts_to_sequences([sentence]), maxlen = maxlen)).long().to(device)\n",
    "\n",
    "model(trial)"
   ]
  },
  {
   "cell_type": "code",
   "execution_count": 22,
   "id": "8be3c925",
   "metadata": {
    "execution": {
     "iopub.execute_input": "2021-12-15T16:31:55.727751Z",
     "iopub.status.busy": "2021-12-15T16:31:55.727097Z",
     "iopub.status.idle": "2021-12-15T16:31:56.483817Z",
     "shell.execute_reply": "2021-12-15T16:31:56.483226Z",
     "shell.execute_reply.started": "2021-12-15T10:04:08.108493Z"
    },
    "papermill": {
     "duration": 0.852347,
     "end_time": "2021-12-15T16:31:56.483954",
     "exception": false,
     "start_time": "2021-12-15T16:31:55.631607",
     "status": "completed"
    },
    "tags": []
   },
   "outputs": [],
   "source": [
    "import torch.onnx\n",
    "torch.onnx.export(model,               # model being run\n",
    "                  trial,                  # model input (or a tuple for multiple inputs)\n",
    "                  \"transformer-amazon.onnx\", opset_version = 11)"
   ]
  }
 ],
 "metadata": {
  "kernelspec": {
   "display_name": "Python 3",
   "language": "python",
   "name": "python3"
  },
  "language_info": {
   "codemirror_mode": {
    "name": "ipython",
    "version": 3
   },
   "file_extension": ".py",
   "mimetype": "text/x-python",
   "name": "python",
   "nbconvert_exporter": "python",
   "pygments_lexer": "ipython3",
   "version": "3.7.12"
  },
  "papermill": {
   "default_parameters": {},
   "duration": 5064.874664,
   "end_time": "2021-12-15T16:31:59.491958",
   "environment_variables": {},
   "exception": null,
   "input_path": "__notebook__.ipynb",
   "output_path": "__notebook__.ipynb",
   "parameters": {},
   "start_time": "2021-12-15T15:07:34.617294",
   "version": "2.3.3"
  }
 },
 "nbformat": 4,
 "nbformat_minor": 5
}
