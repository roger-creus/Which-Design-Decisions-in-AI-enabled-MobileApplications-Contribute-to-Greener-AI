{
 "cells": [
  {
   "cell_type": "code",
   "execution_count": 1,
   "id": "abstract-roulette",
   "metadata": {
    "_cell_guid": "b1076dfc-b9ad-4769-8c92-a6c4dae69d19",
    "_uuid": "8f2839f25d086af736a60e9eeb907d3b93b6e0e5",
    "execution": {
     "iopub.execute_input": "2021-12-11T18:04:33.803488Z",
     "iopub.status.busy": "2021-12-11T18:04:33.802016Z",
     "iopub.status.idle": "2021-12-11T18:04:33.818408Z",
     "shell.execute_reply": "2021-12-11T18:04:33.818954Z",
     "shell.execute_reply.started": "2021-12-08T21:23:43.272798Z"
    },
    "papermill": {
     "duration": 0.038348,
     "end_time": "2021-12-11T18:04:33.819228",
     "exception": false,
     "start_time": "2021-12-11T18:04:33.780880",
     "status": "completed"
    },
    "tags": []
   },
   "outputs": [
    {
     "name": "stdout",
     "output_type": "stream",
     "text": [
      "/kaggle/input/amazonreviews/test.ft.txt.bz2\n",
      "/kaggle/input/amazonreviews/train.ft.txt.bz2\n"
     ]
    }
   ],
   "source": [
    "# This Python 3 environment comes with many helpful analytics libraries installed\n",
    "# It is defined by the kaggle/python Docker image: https://github.com/kaggle/docker-python\n",
    "# For example, here's several helpful packages to load\n",
    "\n",
    "import numpy as np # linear algebra\n",
    "import pandas as pd # data processing, CSV file I/O (e.g. pd.read_csv)\n",
    "\n",
    "# Input data files are available in the read-only \"../input/\" directory\n",
    "# For example, running this (by clicking run or pressing Shift+Enter) will list all files under the input directory\n",
    "\n",
    "import os\n",
    "for dirname, _, filenames in os.walk('/kaggle/input'):\n",
    "    for filename in filenames:\n",
    "        print(os.path.join(dirname, filename))\n",
    "\n",
    "# You can write up to 20GB to the current directory (/kaggle/working/) that gets preserved as output when you create a version using \"Save & Run All\" \n",
    "# You can also write temporary files to /kaggle/temp/, but they won't be saved outside of the current session"
   ]
  },
  {
   "cell_type": "code",
   "execution_count": 2,
   "id": "sufficient-duration",
   "metadata": {
    "execution": {
     "iopub.execute_input": "2021-12-11T18:04:33.859252Z",
     "iopub.status.busy": "2021-12-11T18:04:33.858593Z",
     "iopub.status.idle": "2021-12-11T18:04:39.043316Z",
     "shell.execute_reply": "2021-12-11T18:04:39.042144Z",
     "shell.execute_reply.started": "2021-12-08T21:23:43.282815Z"
    },
    "papermill": {
     "duration": 5.206719,
     "end_time": "2021-12-11T18:04:39.043461",
     "exception": false,
     "start_time": "2021-12-11T18:04:33.836742",
     "status": "completed"
    },
    "tags": []
   },
   "outputs": [],
   "source": [
    "import pandas as pd\n",
    "import numpy as np\n",
    "import bz2\n",
    "import matplotlib.pyplot as plt\n",
    "import sklearn\n",
    "import tensorflow as tf\n",
    "from tensorflow.keras import models, layers, optimizers\n",
    "from tensorflow.keras.preprocessing.text import Tokenizer, text_to_word_sequence\n",
    "from tensorflow.keras.preprocessing.sequence import pad_sequences\n",
    "\n",
    "%matplotlib inline"
   ]
  },
  {
   "cell_type": "code",
   "execution_count": 3,
   "id": "automated-mounting",
   "metadata": {
    "execution": {
     "iopub.execute_input": "2021-12-11T18:04:39.084857Z",
     "iopub.status.busy": "2021-12-11T18:04:39.083066Z",
     "iopub.status.idle": "2021-12-11T18:04:39.085475Z",
     "shell.execute_reply": "2021-12-11T18:04:39.085904Z",
     "shell.execute_reply.started": "2021-12-08T21:23:44.433495Z"
    },
    "papermill": {
     "duration": 0.02541,
     "end_time": "2021-12-11T18:04:39.086041",
     "exception": false,
     "start_time": "2021-12-11T18:04:39.060631",
     "status": "completed"
    },
    "tags": []
   },
   "outputs": [],
   "source": [
    "device = \"cuda:0\""
   ]
  },
  {
   "cell_type": "code",
   "execution_count": 4,
   "id": "turned-sapphire",
   "metadata": {
    "execution": {
     "iopub.execute_input": "2021-12-11T18:04:39.125268Z",
     "iopub.status.busy": "2021-12-11T18:04:39.124453Z",
     "iopub.status.idle": "2021-12-11T18:04:39.126499Z",
     "shell.execute_reply": "2021-12-11T18:04:39.126897Z",
     "shell.execute_reply.started": "2021-12-08T21:23:44.439536Z"
    },
    "papermill": {
     "duration": 0.02362,
     "end_time": "2021-12-11T18:04:39.127024",
     "exception": false,
     "start_time": "2021-12-11T18:04:39.103404",
     "status": "completed"
    },
    "tags": []
   },
   "outputs": [],
   "source": [
    "def labels_texts(file):\n",
    "    labels = []\n",
    "    texts = []\n",
    "    for line in bz2.BZ2File(file):\n",
    "        x = line.decode(\"utf-8\")\n",
    "        labels.append(int(x[9]) - 1)\n",
    "        texts.append(x[10:].strip())\n",
    "    return np.array(labels), texts\n",
    "\n"
   ]
  },
  {
   "cell_type": "code",
   "execution_count": 5,
   "id": "arabic-sheet",
   "metadata": {
    "execution": {
     "iopub.execute_input": "2021-12-11T18:04:39.164825Z",
     "iopub.status.busy": "2021-12-11T18:04:39.164305Z",
     "iopub.status.idle": "2021-12-11T18:06:38.066873Z",
     "shell.execute_reply": "2021-12-11T18:06:38.066327Z",
     "shell.execute_reply.started": "2021-12-08T21:23:44.454135Z"
    },
    "papermill": {
     "duration": 118.92367,
     "end_time": "2021-12-11T18:06:38.067027",
     "exception": false,
     "start_time": "2021-12-11T18:04:39.143357",
     "status": "completed"
    },
    "tags": []
   },
   "outputs": [],
   "source": [
    "train_label, train_text = labels_texts('../input/amazonreviews/train.ft.txt.bz2')\n",
    "test_label, test_text = labels_texts('../input/amazonreviews/test.ft.txt.bz2')"
   ]
  },
  {
   "cell_type": "code",
   "execution_count": 6,
   "id": "sustained-public",
   "metadata": {
    "execution": {
     "iopub.execute_input": "2021-12-11T18:06:38.108199Z",
     "iopub.status.busy": "2021-12-11T18:06:38.107560Z",
     "iopub.status.idle": "2021-12-11T18:06:38.110706Z",
     "shell.execute_reply": "2021-12-11T18:06:38.111099Z",
     "shell.execute_reply.started": "2021-12-08T21:26:27.960667Z"
    },
    "papermill": {
     "duration": 0.025783,
     "end_time": "2021-12-11T18:06:38.111228",
     "exception": false,
     "start_time": "2021-12-11T18:06:38.085445",
     "status": "completed"
    },
    "tags": []
   },
   "outputs": [
    {
     "name": "stdout",
     "output_type": "stream",
     "text": [
      "1\n",
      "Stuning even for the non-gamer: This sound track was beautiful! It paints the senery in your mind so well I would recomend it even to people who hate vid. game music! I have played the game Chrono Cross but out of all of the games I have ever played it has the best music! It backs away from crude keyboarding and takes a fresher step with grate guitars and soulful orchestras. It would impress anyone who cares to listen! ^_^\n"
     ]
    }
   ],
   "source": [
    "print(train_label[0])\n",
    "print(train_text[0])"
   ]
  },
  {
   "cell_type": "code",
   "execution_count": 7,
   "id": "under-territory",
   "metadata": {
    "execution": {
     "iopub.execute_input": "2021-12-11T18:06:38.150193Z",
     "iopub.status.busy": "2021-12-11T18:06:38.149549Z",
     "iopub.status.idle": "2021-12-11T18:06:38.152518Z",
     "shell.execute_reply": "2021-12-11T18:06:38.152075Z",
     "shell.execute_reply.started": "2021-12-08T21:26:27.967567Z"
    },
    "papermill": {
     "duration": 0.024412,
     "end_time": "2021-12-11T18:06:38.152634",
     "exception": false,
     "start_time": "2021-12-11T18:06:38.128222",
     "status": "completed"
    },
    "tags": []
   },
   "outputs": [],
   "source": [
    "import re\n",
    "not_numChar = re.compile(r'[\\W]')\n",
    "no_encode = re.compile(r'[^a-z0-1\\s]')\n",
    "def normalisation(texts):\n",
    "    norm_text = []\n",
    "    for word in texts:\n",
    "        lower = word.lower()\n",
    "        not_punct = not_numChar.sub(r' ', lower)\n",
    "        exclude_no_encode = no_encode.sub(r'', not_punct)\n",
    "        norm_text.append(exclude_no_encode)\n",
    "    return norm_text"
   ]
  },
  {
   "cell_type": "code",
   "execution_count": 8,
   "id": "herbal-quilt",
   "metadata": {
    "execution": {
     "iopub.execute_input": "2021-12-11T18:06:38.205120Z",
     "iopub.status.busy": "2021-12-11T18:06:38.204264Z",
     "iopub.status.idle": "2021-12-11T18:09:31.263672Z",
     "shell.execute_reply": "2021-12-11T18:09:31.262837Z",
     "shell.execute_reply.started": "2021-12-08T21:26:27.982804Z"
    },
    "papermill": {
     "duration": 173.094749,
     "end_time": "2021-12-11T18:09:31.263825",
     "exception": false,
     "start_time": "2021-12-11T18:06:38.169076",
     "status": "completed"
    },
    "tags": []
   },
   "outputs": [],
   "source": [
    "train_text = normalisation(train_text)\n",
    "test_text = normalisation(test_text)"
   ]
  },
  {
   "cell_type": "code",
   "execution_count": 9,
   "id": "commercial-trouble",
   "metadata": {
    "execution": {
     "iopub.execute_input": "2021-12-11T18:09:31.303565Z",
     "iopub.status.busy": "2021-12-11T18:09:31.302150Z",
     "iopub.status.idle": "2021-12-11T18:09:31.305489Z",
     "shell.execute_reply": "2021-12-11T18:09:31.305011Z",
     "shell.execute_reply.started": "2021-12-08T21:29:47.899099Z"
    },
    "papermill": {
     "duration": 0.024742,
     "end_time": "2021-12-11T18:09:31.305601",
     "exception": false,
     "start_time": "2021-12-11T18:09:31.280859",
     "status": "completed"
    },
    "tags": []
   },
   "outputs": [
    {
     "name": "stdout",
     "output_type": "stream",
     "text": [
      "stuning even for the non gamer  this sound track was beautiful  it paints the senery in your mind so well i would recomend it even to people who hate vid  game music  i have played the game chrono cross but out of all of the games i have ever played it has the best music  it backs away from crude keyboarding and takes a fresher step with grate guitars and soulful orchestras  it would impress anyone who cares to listen    \n"
     ]
    }
   ],
   "source": [
    "print(train_text[0])"
   ]
  },
  {
   "cell_type": "code",
   "execution_count": 10,
   "id": "secure-worthy",
   "metadata": {
    "execution": {
     "iopub.execute_input": "2021-12-11T18:09:31.344993Z",
     "iopub.status.busy": "2021-12-11T18:09:31.343431Z",
     "iopub.status.idle": "2021-12-11T18:09:31.351797Z",
     "shell.execute_reply": "2021-12-11T18:09:31.351366Z",
     "shell.execute_reply.started": "2021-12-08T21:29:47.909335Z"
    },
    "papermill": {
     "duration": 0.029573,
     "end_time": "2021-12-11T18:09:31.351913",
     "exception": false,
     "start_time": "2021-12-11T18:09:31.322340",
     "status": "completed"
    },
    "tags": []
   },
   "outputs": [],
   "source": [
    "y_train = np.array(train_label)\n",
    "y_test = np.array(test_label)"
   ]
  },
  {
   "cell_type": "code",
   "execution_count": 11,
   "id": "third-charter",
   "metadata": {
    "execution": {
     "iopub.execute_input": "2021-12-11T18:09:31.391353Z",
     "iopub.status.busy": "2021-12-11T18:09:31.390545Z",
     "iopub.status.idle": "2021-12-11T18:09:31.393841Z",
     "shell.execute_reply": "2021-12-11T18:09:31.394294Z",
     "shell.execute_reply.started": "2021-12-08T21:29:48.14836Z"
    },
    "papermill": {
     "duration": 0.02574,
     "end_time": "2021-12-11T18:09:31.394420",
     "exception": false,
     "start_time": "2021-12-11T18:09:31.368680",
     "status": "completed"
    },
    "tags": []
   },
   "outputs": [
    {
     "data": {
      "text/plain": [
       "(400000,)"
      ]
     },
     "execution_count": 11,
     "metadata": {},
     "output_type": "execute_result"
    }
   ],
   "source": [
    "y_test.shape"
   ]
  },
  {
   "cell_type": "code",
   "execution_count": 12,
   "id": "optimum-india",
   "metadata": {
    "execution": {
     "iopub.execute_input": "2021-12-11T18:09:31.487096Z",
     "iopub.status.busy": "2021-12-11T18:09:31.466633Z",
     "iopub.status.idle": "2021-12-11T18:13:24.884249Z",
     "shell.execute_reply": "2021-12-11T18:13:24.884691Z",
     "shell.execute_reply.started": "2021-12-08T21:29:48.161032Z"
    },
    "papermill": {
     "duration": 233.473351,
     "end_time": "2021-12-11T18:13:24.884854",
     "exception": false,
     "start_time": "2021-12-11T18:09:31.411503",
     "status": "completed"
    },
    "tags": []
   },
   "outputs": [
    {
     "name": "stdout",
     "output_type": "stream",
     "text": [
      "Vocabulary Size : 905946\n"
     ]
    }
   ],
   "source": [
    "max_features = 8192\n",
    "maxlen = 128\n",
    "\n",
    "tokenizer = Tokenizer(num_words=max_features)\n",
    "tokenizer.fit_on_texts(train_text)\n",
    "\n",
    "word_index = tokenizer.word_index\n",
    "vocab_size = len(tokenizer.word_index) + 1\n",
    "print(\"Vocabulary Size :\", vocab_size)"
   ]
  },
  {
   "cell_type": "code",
   "execution_count": 13,
   "id": "organized-importance",
   "metadata": {
    "execution": {
     "iopub.execute_input": "2021-12-11T18:13:24.925713Z",
     "iopub.status.busy": "2021-12-11T18:13:24.923085Z",
     "iopub.status.idle": "2021-12-11T18:13:25.752045Z",
     "shell.execute_reply": "2021-12-11T18:13:25.750639Z",
     "shell.execute_reply.started": "2021-12-08T21:34:39.735945Z"
    },
    "papermill": {
     "duration": 0.850068,
     "end_time": "2021-12-11T18:13:25.752189",
     "exception": false,
     "start_time": "2021-12-11T18:13:24.902121",
     "status": "completed"
    },
    "tags": []
   },
   "outputs": [],
   "source": [
    "import os \n",
    "with open('amazon_dictionary.txt', 'w') as file:\n",
    "    for key in word_index.keys():\n",
    "        file.write(key + \" \" + str(word_index[key]) + \",\")"
   ]
  },
  {
   "cell_type": "code",
   "execution_count": 14,
   "id": "quarterly-washer",
   "metadata": {
    "execution": {
     "iopub.execute_input": "2021-12-11T18:13:25.863811Z",
     "iopub.status.busy": "2021-12-11T18:13:25.827943Z",
     "iopub.status.idle": "2021-12-11T18:16:57.402992Z",
     "shell.execute_reply": "2021-12-11T18:16:57.401928Z",
     "shell.execute_reply.started": "2021-12-08T21:34:40.77233Z"
    },
    "papermill": {
     "duration": 211.632168,
     "end_time": "2021-12-11T18:16:57.403154",
     "exception": false,
     "start_time": "2021-12-11T18:13:25.770986",
     "status": "completed"
    },
    "tags": []
   },
   "outputs": [],
   "source": [
    "training_token = tokenizer.texts_to_sequences(train_text)\n",
    "testing_token = tokenizer.texts_to_sequences(test_text)"
   ]
  },
  {
   "cell_type": "code",
   "execution_count": 15,
   "id": "municipal-taste",
   "metadata": {
    "execution": {
     "iopub.execute_input": "2021-12-11T18:16:57.512242Z",
     "iopub.status.busy": "2021-12-11T18:16:57.476470Z",
     "iopub.status.idle": "2021-12-11T18:18:10.675755Z",
     "shell.execute_reply": "2021-12-11T18:18:10.674799Z",
     "shell.execute_reply.started": "2021-12-08T21:38:55.605176Z"
    },
    "papermill": {
     "duration": 73.254755,
     "end_time": "2021-12-11T18:18:10.675905",
     "exception": false,
     "start_time": "2021-12-11T18:16:57.421150",
     "status": "completed"
    },
    "tags": []
   },
   "outputs": [],
   "source": [
    "x_train = pad_sequences(training_token, maxlen = maxlen, padding = 'post')\n",
    "x_test = pad_sequences(testing_token, maxlen = maxlen, padding = 'post')"
   ]
  },
  {
   "cell_type": "code",
   "execution_count": 16,
   "id": "worth-munich",
   "metadata": {
    "execution": {
     "iopub.execute_input": "2021-12-11T18:18:10.717025Z",
     "iopub.status.busy": "2021-12-11T18:18:10.716478Z",
     "iopub.status.idle": "2021-12-11T18:18:11.983708Z",
     "shell.execute_reply": "2021-12-11T18:18:11.983158Z",
     "shell.execute_reply.started": "2021-12-08T21:40:19.880515Z"
    },
    "papermill": {
     "duration": 1.289742,
     "end_time": "2021-12-11T18:18:11.983848",
     "exception": false,
     "start_time": "2021-12-11T18:18:10.694106",
     "status": "completed"
    },
    "tags": []
   },
   "outputs": [],
   "source": [
    "import torch\n",
    "from torch.utils.data import TensorDataset, DataLoader\n",
    "import torch.nn as nn\n",
    "BATCH_SIZE = 50\n",
    "\n",
    "train_data = TensorDataset(torch.from_numpy(x_train), torch.from_numpy(y_train))\n",
    "test_data = TensorDataset(torch.from_numpy(x_test), torch.from_numpy(y_test))\n",
    "\n",
    "train_loader = DataLoader(train_data, shuffle=True, batch_size=BATCH_SIZE, drop_last = True)\n",
    "test_loader = DataLoader(test_data, shuffle=True, batch_size=BATCH_SIZE, drop_last = True)"
   ]
  },
  {
   "cell_type": "code",
   "execution_count": 17,
   "id": "color-connectivity",
   "metadata": {
    "execution": {
     "iopub.execute_input": "2021-12-11T18:18:12.031446Z",
     "iopub.status.busy": "2021-12-11T18:18:12.030625Z",
     "iopub.status.idle": "2021-12-11T18:18:12.033657Z",
     "shell.execute_reply": "2021-12-11T18:18:12.033090Z",
     "shell.execute_reply.started": "2021-12-08T21:40:20.986111Z"
    },
    "papermill": {
     "duration": 0.031757,
     "end_time": "2021-12-11T18:18:12.033789",
     "exception": false,
     "start_time": "2021-12-11T18:18:12.002032",
     "status": "completed"
    },
    "tags": []
   },
   "outputs": [],
   "source": [
    "class SentimentNet(nn.Module):\n",
    "    def __init__(self, vocab_size, output_size, embedding_dim, hidden_dim, n_layers, drop_prob=0.5):\n",
    "        super(SentimentNet, self).__init__()\n",
    "        self.output_size = output_size\n",
    "        self.n_layers = n_layers\n",
    "        self.hidden_dim = hidden_dim\n",
    "        \n",
    "        \n",
    "        self.embedding = nn.Embedding(vocab_size, embedding_dim)\n",
    "        #self.conv = nn.Conv1d(embedding_dim, 8, kernel_size=5)\n",
    "        self.lstm = nn.LSTM(embedding_dim, hidden_dim, n_layers, dropout=drop_prob, batch_first=True)\n",
    "        #self.gru = nn.GRU(embedding_dim, hidden_dim, n_layers, dropout=drop_prob, batch_first=True)\n",
    "        self.dropout = nn.Dropout(drop_prob)\n",
    "        self.fc = nn.Linear(hidden_dim, output_size)\n",
    "        self.sigmoid = nn.Sigmoid()\n",
    "        \n",
    "    def forward(self, x, hidden):\n",
    "        #print(x.shape)\n",
    "        if len(x) != 1:\n",
    "            batch_size = x.size(0)\n",
    "        else:\n",
    "            batch_size = 1\n",
    "        x = x.long()\n",
    "        embeds = self.embedding(x)\n",
    "\n",
    "        #conv = self.conv(x)\n",
    "        \n",
    "        lstm_out, hidden = self.lstm(embeds, hidden)\n",
    "        lstm_out = lstm_out.contiguous().view(-1, self.hidden_dim)\n",
    "        \n",
    "        out = self.dropout(lstm_out)\n",
    "        out = self.fc(out)\n",
    "        out = self.sigmoid(out)\n",
    "        \n",
    "        out = out.view(batch_size, -1)\n",
    "        out = out[:,-1]\n",
    "        return out, hidden\n",
    "    \n",
    "    def init_hidden(self, batch_size):\n",
    "        weight = next(self.parameters()).data\n",
    "        hidden = (weight.new(self.n_layers, batch_size, self.hidden_dim).zero_().to(device),weight.new(self.n_layers, batch_size, self.hidden_dim).zero_().to(device))\n",
    "        #hidden = (weight.new(self.n_layers, batch_size, self.hidden_dim).zero_(),\n",
    "        #             weight.new(self.n_layers, batch_size, self.hidden_dim).zero_())\n",
    "        return hidden"
   ]
  },
  {
   "cell_type": "code",
   "execution_count": 18,
   "id": "infrared-greensboro",
   "metadata": {
    "execution": {
     "iopub.execute_input": "2021-12-11T18:18:12.074135Z",
     "iopub.status.busy": "2021-12-11T18:18:12.073466Z",
     "iopub.status.idle": "2021-12-11T18:18:12.076483Z",
     "shell.execute_reply": "2021-12-11T18:18:12.076050Z",
     "shell.execute_reply.started": "2021-12-08T21:40:21.00062Z"
    },
    "papermill": {
     "duration": 0.025046,
     "end_time": "2021-12-11T18:18:12.076594",
     "exception": false,
     "start_time": "2021-12-11T18:18:12.051548",
     "status": "completed"
    },
    "tags": []
   },
   "outputs": [],
   "source": [
    "def model_params(model):\n",
    "    pp=0\n",
    "    for p in list(model.parameters()):\n",
    "        nn=1\n",
    "        for s in list(p.size()):\n",
    "            nn = nn*s\n",
    "        pp += nn\n",
    "    return pp"
   ]
  },
  {
   "cell_type": "code",
   "execution_count": 19,
   "id": "fitting-dependence",
   "metadata": {
    "execution": {
     "iopub.execute_input": "2021-12-11T18:18:12.119058Z",
     "iopub.status.busy": "2021-12-11T18:18:12.118481Z",
     "iopub.status.idle": "2021-12-11T18:18:19.072987Z",
     "shell.execute_reply": "2021-12-11T18:18:19.072240Z",
     "shell.execute_reply.started": "2021-12-08T21:40:21.018613Z"
    },
    "papermill": {
     "duration": 6.979393,
     "end_time": "2021-12-11T18:18:19.073139",
     "exception": false,
     "start_time": "2021-12-11T18:18:12.093746",
     "status": "completed"
    },
    "tags": []
   },
   "outputs": [
    {
     "name": "stderr",
     "output_type": "stream",
     "text": [
      "/opt/conda/lib/python3.7/site-packages/torch/nn/modules/rnn.py:61: UserWarning: dropout option adds dropout after all but last recurrent layer, so non-zero dropout expects num_layers greater than 1, but got dropout=0.5 and num_layers=1\n",
      "  \"num_layers={}\".format(dropout, num_layers))\n"
     ]
    },
    {
     "name": "stdout",
     "output_type": "stream",
     "text": [
      "57981669\n"
     ]
    }
   ],
   "source": [
    "output_size = 1\n",
    "embedding_dim = 64\n",
    "hidden_dim = 4\n",
    "n_layers = 1\n",
    "\n",
    "model = SentimentNet(vocab_size, output_size, embedding_dim, hidden_dim, n_layers)\n",
    "print(model_params(model))\n",
    "model.to(device)\n",
    "lr=0.01\n",
    "criterion = nn.BCELoss()\n",
    "optimizer = torch.optim.Adam(model.parameters(), lr=lr)"
   ]
  },
  {
   "cell_type": "code",
   "execution_count": 20,
   "id": "outside-actor",
   "metadata": {
    "execution": {
     "iopub.execute_input": "2021-12-11T18:18:19.120369Z",
     "iopub.status.busy": "2021-12-11T18:18:19.119830Z",
     "iopub.status.idle": "2021-12-11T19:08:44.471316Z",
     "shell.execute_reply": "2021-12-11T19:08:44.470077Z",
     "shell.execute_reply.started": "2021-12-08T21:40:22.585467Z"
    },
    "papermill": {
     "duration": 3025.379537,
     "end_time": "2021-12-11T19:08:44.471530",
     "exception": false,
     "start_time": "2021-12-11T18:18:19.091993",
     "status": "completed"
    },
    "tags": []
   },
   "outputs": [
    {
     "name": "stdout",
     "output_type": "stream",
     "text": [
      "Epoch: 1/2... Step: 5000... Loss: 0.551066... Val Loss: 0.482995\n",
      "Validation loss decreased (inf --> 0.482995).  Saving model ...\n",
      "Epoch: 1/2... Step: 10000... Loss: 0.554841... Val Loss: 0.463004\n",
      "Validation loss decreased (0.482995 --> 0.463004).  Saving model ...\n",
      "Epoch: 1/2... Step: 15000... Loss: 0.440369... Val Loss: 0.476864\n",
      "Epoch: 1/2... Step: 20000... Loss: 0.571848... Val Loss: 0.485478\n",
      "Epoch: 1/2... Step: 25000... Loss: 0.491113... Val Loss: 0.492302\n",
      "Epoch: 1/2... Step: 30000... Loss: 0.446160... Val Loss: 0.485621\n",
      "Epoch: 1/2... Step: 35000... Loss: 0.553305... Val Loss: 0.505333\n",
      "Epoch: 1/2... Step: 40000... Loss: 0.485170... Val Loss: 0.482995\n",
      "Epoch: 1/2... Step: 45000... Loss: 0.463484... Val Loss: 0.490319\n",
      "Epoch: 1/2... Step: 50000... Loss: 0.555004... Val Loss: 0.490033\n",
      "Epoch: 1/2... Step: 55000... Loss: 0.682262... Val Loss: 0.553176\n",
      "Epoch: 1/2... Step: 60000... Loss: 0.553768... Val Loss: 0.536990\n",
      "Epoch: 1/2... Step: 65000... Loss: 0.589243... Val Loss: 0.498604\n",
      "Epoch: 1/2... Step: 70000... Loss: 0.713102... Val Loss: 0.484770\n",
      "Epoch: 2/2... Step: 75000... Loss: 0.514472... Val Loss: 0.498396\n",
      "Epoch: 2/2... Step: 80000... Loss: 0.583042... Val Loss: 0.499504\n",
      "Epoch: 2/2... Step: 85000... Loss: 0.673661... Val Loss: 0.480395\n",
      "Epoch: 2/2... Step: 90000... Loss: 0.567848... Val Loss: 0.474888\n",
      "Epoch: 2/2... Step: 95000... Loss: 0.583363... Val Loss: 0.538543\n",
      "Epoch: 2/2... Step: 100000... Loss: 0.531763... Val Loss: 0.501888\n",
      "Epoch: 2/2... Step: 105000... Loss: 0.611472... Val Loss: 0.503301\n",
      "Epoch: 2/2... Step: 110000... Loss: 0.579595... Val Loss: 0.508513\n",
      "Epoch: 2/2... Step: 115000... Loss: 0.456569... Val Loss: 0.512420\n",
      "Epoch: 2/2... Step: 120000... Loss: 0.575242... Val Loss: 0.529549\n",
      "Epoch: 2/2... Step: 125000... Loss: 0.564358... Val Loss: 0.564989\n",
      "Epoch: 2/2... Step: 130000... Loss: 0.606738... Val Loss: 0.535047\n",
      "Epoch: 2/2... Step: 135000... Loss: 0.580432... Val Loss: 0.542019\n",
      "Epoch: 2/2... Step: 140000... Loss: 0.717850... Val Loss: 0.557436\n"
     ]
    }
   ],
   "source": [
    "epochs = 2\n",
    "counter = 0\n",
    "print_every = 5000\n",
    "clip = 5\n",
    "valid_loss_min = np.Inf\n",
    "\n",
    "model.train()\n",
    "for i in range(epochs):\n",
    "    h = model.init_hidden(BATCH_SIZE)\n",
    "    \n",
    "    for inputs, labels in train_loader:\n",
    "        counter += 1\n",
    "        h = tuple([e.data for e in h])\n",
    "        inputs, labels = inputs.to(device), labels.to(device)\n",
    "        model.zero_grad()\n",
    "        output, h = model(inputs, h)\n",
    "        loss = criterion(output, labels.float())\n",
    "        loss.backward()\n",
    "        #nn.utils.clip_grad_norm_(model.parameters(), clip)\n",
    "        optimizer.step()\n",
    "        \n",
    "        if counter%print_every == 0:\n",
    "            val_h = model.init_hidden(BATCH_SIZE)\n",
    "            val_losses = []\n",
    "            model.eval()\n",
    "            for inp, lab in test_loader:\n",
    "                val_h = tuple([each.data for each in val_h])\n",
    "                inp, lab = inp.to(device), lab.to(device)\n",
    "                out, val_h = model(inp, val_h)\n",
    "                val_loss = criterion(out, lab.float())\n",
    "                val_losses.append(val_loss.item())\n",
    "                \n",
    "            model.train()\n",
    "            print(\"Epoch: {}/{}...\".format(i+1, epochs),\n",
    "                  \"Step: {}...\".format(counter),\n",
    "                  \"Loss: {:.6f}...\".format(loss.item()),\n",
    "                  \"Val Loss: {:.6f}\".format(np.mean(val_losses)))\n",
    "            if np.mean(val_losses) <= valid_loss_min:\n",
    "                torch.save(model.state_dict(), './state_dict.pt')\n",
    "                print('Validation loss decreased ({:.6f} --> {:.6f}).  Saving model ...'.format(valid_loss_min,np.mean(val_losses)))\n",
    "                valid_loss_min = np.mean(val_losses)"
   ]
  },
  {
   "cell_type": "code",
   "execution_count": 21,
   "id": "musical-ceramic",
   "metadata": {
    "execution": {
     "iopub.execute_input": "2021-12-11T19:08:44.533592Z",
     "iopub.status.busy": "2021-12-11T19:08:44.531825Z",
     "iopub.status.idle": "2021-12-11T19:08:44.534535Z",
     "shell.execute_reply": "2021-12-11T19:08:44.534958Z"
    },
    "papermill": {
     "duration": 0.035016,
     "end_time": "2021-12-11T19:08:44.535086",
     "exception": false,
     "start_time": "2021-12-11T19:08:44.500070",
     "status": "completed"
    },
    "tags": []
   },
   "outputs": [],
   "source": [
    "h = model.init_hidden(1)"
   ]
  },
  {
   "cell_type": "code",
   "execution_count": 22,
   "id": "whole-lesson",
   "metadata": {
    "execution": {
     "iopub.execute_input": "2021-12-11T19:08:44.592866Z",
     "iopub.status.busy": "2021-12-11T19:08:44.592100Z",
     "iopub.status.idle": "2021-12-11T19:08:44.628141Z",
     "shell.execute_reply": "2021-12-11T19:08:44.627642Z"
    },
    "papermill": {
     "duration": 0.066628,
     "end_time": "2021-12-11T19:08:44.628244",
     "exception": false,
     "start_time": "2021-12-11T19:08:44.561616",
     "status": "completed"
    },
    "tags": []
   },
   "outputs": [
    {
     "data": {
      "text/plain": [
       "tensor([0.5468], device='cuda:0', grad_fn=<SelectBackward>)"
      ]
     },
     "execution_count": 22,
     "metadata": {},
     "output_type": "execute_result"
    }
   ],
   "source": [
    "sentence = \"I love this film, it was so awesome!\"\n",
    "trial = torch.tensor(pad_sequences(tokenizer.texts_to_sequences([sentence]), maxlen = maxlen)).to(device)\n",
    "\n",
    "model(trial, h)[0]"
   ]
  },
  {
   "cell_type": "code",
   "execution_count": 23,
   "id": "christian-breast",
   "metadata": {
    "execution": {
     "iopub.execute_input": "2021-12-11T19:08:44.684341Z",
     "iopub.status.busy": "2021-12-11T19:08:44.683821Z",
     "iopub.status.idle": "2021-12-11T19:08:46.166686Z",
     "shell.execute_reply": "2021-12-11T19:08:46.166158Z"
    },
    "papermill": {
     "duration": 1.512746,
     "end_time": "2021-12-11T19:08:46.166824",
     "exception": false,
     "start_time": "2021-12-11T19:08:44.654078",
     "status": "completed"
    },
    "tags": []
   },
   "outputs": [
    {
     "name": "stderr",
     "output_type": "stream",
     "text": [
      "/opt/conda/lib/python3.7/site-packages/ipykernel_launcher.py:19: TracerWarning: Converting a tensor to a Python index might cause the trace to be incorrect. We can't record the data flow of Python values, so this value will be treated as a constant in the future. This means that the trace might not generalize to other inputs!\n",
      "/opt/conda/lib/python3.7/site-packages/torch/onnx/symbolic_opset9.py:1805: UserWarning: Exporting a model to ONNX with a batch_size other than 1, with a variable length with LSTM can cause an error when running the ONNX model with a different batch size. Make sure to save the model with a batch size of 1, or define the initial states (h0/c0) as inputs of the model. \n",
      "  \"or define the initial states (h0/c0) as inputs of the model. \")\n"
     ]
    }
   ],
   "source": [
    "import torch.onnx\n",
    "torch.onnx.export(model,               # model being run\n",
    "                  (trial, (torch.randn(1,n_layers,hidden_dim).to(device), torch.randn(1,n_layers,hidden_dim).to(device))),                   # model input (or a tuple for multiple inputs)\n",
    "                  \"lstm-PT.onnx\")"
   ]
  }
 ],
 "metadata": {
  "kernelspec": {
   "display_name": "Python 3",
   "language": "python",
   "name": "python3"
  },
  "language_info": {
   "codemirror_mode": {
    "name": "ipython",
    "version": 3
   },
   "file_extension": ".py",
   "mimetype": "text/x-python",
   "name": "python",
   "nbconvert_exporter": "python",
   "pygments_lexer": "ipython3",
   "version": "3.7.9"
  },
  "papermill": {
   "default_parameters": {},
   "duration": 3863.597563,
   "end_time": "2021-12-11T19:08:52.391010",
   "environment_variables": {},
   "exception": null,
   "input_path": "__notebook__.ipynb",
   "output_path": "__notebook__.ipynb",
   "parameters": {},
   "start_time": "2021-12-11T18:04:28.793447",
   "version": "2.3.2"
  }
 },
 "nbformat": 4,
 "nbformat_minor": 5
}
