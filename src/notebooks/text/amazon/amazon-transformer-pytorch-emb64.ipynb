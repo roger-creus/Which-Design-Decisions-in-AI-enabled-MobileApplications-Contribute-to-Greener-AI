{
 "cells": [
  {
   "cell_type": "code",
   "execution_count": 1,
   "id": "0103412b",
   "metadata": {
    "_cell_guid": "b1076dfc-b9ad-4769-8c92-a6c4dae69d19",
    "_uuid": "8f2839f25d086af736a60e9eeb907d3b93b6e0e5",
    "execution": {
     "iopub.execute_input": "2021-12-16T08:44:13.210786Z",
     "iopub.status.busy": "2021-12-16T08:44:13.210081Z",
     "iopub.status.idle": "2021-12-16T08:44:13.224744Z",
     "shell.execute_reply": "2021-12-16T08:44:13.225297Z",
     "shell.execute_reply.started": "2021-12-15T09:47:04.551436Z"
    },
    "papermill": {
     "duration": 0.046517,
     "end_time": "2021-12-16T08:44:13.225532",
     "exception": false,
     "start_time": "2021-12-16T08:44:13.179015",
     "status": "completed"
    },
    "tags": []
   },
   "outputs": [
    {
     "name": "stdout",
     "output_type": "stream",
     "text": [
      "/kaggle/input/amazonreviews/test.ft.txt.bz2\n",
      "/kaggle/input/amazonreviews/train.ft.txt.bz2\n"
     ]
    }
   ],
   "source": [
    "# This Python 3 environment comes with many helpful analytics libraries installed\n",
    "# It is defined by the kaggle/python Docker image: https://github.com/kaggle/docker-python\n",
    "# For example, here's several helpful packages to load\n",
    "\n",
    "import numpy as np # linear algebra\n",
    "import pandas as pd # data processing, CSV file I/O (e.g. pd.read_csv)\n",
    "\n",
    "# Input data files are available in the read-only \"../input/\" directory\n",
    "# For example, running this (by clicking run or pressing Shift+Enter) will list all files under the input directory\n",
    "\n",
    "import os\n",
    "for dirname, _, filenames in os.walk('/kaggle/input'):\n",
    "    for filename in filenames:\n",
    "        print(os.path.join(dirname, filename))\n",
    "\n",
    "# You can write up to 20GB to the current directory (/kaggle/working/) that gets preserved as output when you create a version using \"Save & Run All\" \n",
    "# You can also write temporary files to /kaggle/temp/, but they won't be saved outside of the current session"
   ]
  },
  {
   "cell_type": "code",
   "execution_count": 2,
   "id": "96fc3062",
   "metadata": {
    "execution": {
     "iopub.execute_input": "2021-12-16T08:44:13.268582Z",
     "iopub.status.busy": "2021-12-16T08:44:13.267880Z",
     "iopub.status.idle": "2021-12-16T08:44:18.675486Z",
     "shell.execute_reply": "2021-12-16T08:44:18.675002Z",
     "shell.execute_reply.started": "2021-12-15T09:47:04.602525Z"
    },
    "papermill": {
     "duration": 5.431356,
     "end_time": "2021-12-16T08:44:18.675618",
     "exception": false,
     "start_time": "2021-12-16T08:44:13.244262",
     "status": "completed"
    },
    "tags": []
   },
   "outputs": [],
   "source": [
    "import pandas as pd\n",
    "import numpy as np\n",
    "import bz2\n",
    "import matplotlib.pyplot as plt\n",
    "import sklearn\n",
    "import tensorflow as tf\n",
    "from tensorflow.keras import models, layers, optimizers\n",
    "from tensorflow.keras.preprocessing.text import Tokenizer, text_to_word_sequence\n",
    "from tensorflow.keras.preprocessing.sequence import pad_sequences\n",
    "\n",
    "%matplotlib inline"
   ]
  },
  {
   "cell_type": "code",
   "execution_count": 3,
   "id": "159eb9d7",
   "metadata": {
    "execution": {
     "iopub.execute_input": "2021-12-16T08:44:18.715460Z",
     "iopub.status.busy": "2021-12-16T08:44:18.713567Z",
     "iopub.status.idle": "2021-12-16T08:44:18.716201Z",
     "shell.execute_reply": "2021-12-16T08:44:18.716660Z",
     "shell.execute_reply.started": "2021-12-15T09:47:11.616003Z"
    },
    "papermill": {
     "duration": 0.025299,
     "end_time": "2021-12-16T08:44:18.716827",
     "exception": false,
     "start_time": "2021-12-16T08:44:18.691528",
     "status": "completed"
    },
    "tags": []
   },
   "outputs": [],
   "source": [
    "device = \"cuda:0\""
   ]
  },
  {
   "cell_type": "code",
   "execution_count": 4,
   "id": "6c3c95ff",
   "metadata": {
    "execution": {
     "iopub.execute_input": "2021-12-16T08:44:18.759240Z",
     "iopub.status.busy": "2021-12-16T08:44:18.758320Z",
     "iopub.status.idle": "2021-12-16T08:44:18.760560Z",
     "shell.execute_reply": "2021-12-16T08:44:18.761032Z",
     "shell.execute_reply.started": "2021-12-15T09:47:11.628463Z"
    },
    "papermill": {
     "duration": 0.026018,
     "end_time": "2021-12-16T08:44:18.761163",
     "exception": false,
     "start_time": "2021-12-16T08:44:18.735145",
     "status": "completed"
    },
    "tags": []
   },
   "outputs": [],
   "source": [
    "def labels_texts(file):\n",
    "    labels = []\n",
    "    texts = []\n",
    "    for line in bz2.BZ2File(file):\n",
    "        x = line.decode(\"utf-8\")\n",
    "        labels.append(int(x[9]) - 1)\n",
    "        texts.append(x[10:].strip())\n",
    "    return np.array(labels), texts\n",
    "\n"
   ]
  },
  {
   "cell_type": "code",
   "execution_count": 5,
   "id": "f4f2115c",
   "metadata": {
    "execution": {
     "iopub.execute_input": "2021-12-16T08:44:18.800227Z",
     "iopub.status.busy": "2021-12-16T08:44:18.799644Z",
     "iopub.status.idle": "2021-12-16T08:46:20.354687Z",
     "shell.execute_reply": "2021-12-16T08:46:20.353866Z",
     "shell.execute_reply.started": "2021-12-15T09:47:11.649092Z"
    },
    "papermill": {
     "duration": 121.576015,
     "end_time": "2021-12-16T08:46:20.354866",
     "exception": false,
     "start_time": "2021-12-16T08:44:18.778851",
     "status": "completed"
    },
    "tags": []
   },
   "outputs": [],
   "source": [
    "train_label, train_text = labels_texts('../input/amazonreviews/train.ft.txt.bz2')\n",
    "test_label, test_text = labels_texts('../input/amazonreviews/test.ft.txt.bz2')"
   ]
  },
  {
   "cell_type": "code",
   "execution_count": 6,
   "id": "def8e4d9",
   "metadata": {
    "execution": {
     "iopub.execute_input": "2021-12-16T08:46:20.392789Z",
     "iopub.status.busy": "2021-12-16T08:46:20.390983Z",
     "iopub.status.idle": "2021-12-16T08:46:20.394976Z",
     "shell.execute_reply": "2021-12-16T08:46:20.394351Z",
     "shell.execute_reply.started": "2021-12-15T09:49:33.606373Z"
    },
    "papermill": {
     "duration": 0.024064,
     "end_time": "2021-12-16T08:46:20.395123",
     "exception": false,
     "start_time": "2021-12-16T08:46:20.371059",
     "status": "completed"
    },
    "tags": []
   },
   "outputs": [
    {
     "name": "stdout",
     "output_type": "stream",
     "text": [
      "1\n",
      "Stuning even for the non-gamer: This sound track was beautiful! It paints the senery in your mind so well I would recomend it even to people who hate vid. game music! I have played the game Chrono Cross but out of all of the games I have ever played it has the best music! It backs away from crude keyboarding and takes a fresher step with grate guitars and soulful orchestras. It would impress anyone who cares to listen! ^_^\n"
     ]
    }
   ],
   "source": [
    "print(train_label[0])\n",
    "print(train_text[0])"
   ]
  },
  {
   "cell_type": "code",
   "execution_count": 7,
   "id": "0d46a4a6",
   "metadata": {
    "execution": {
     "iopub.execute_input": "2021-12-16T08:46:20.433168Z",
     "iopub.status.busy": "2021-12-16T08:46:20.432384Z",
     "iopub.status.idle": "2021-12-16T08:46:20.434600Z",
     "shell.execute_reply": "2021-12-16T08:46:20.434207Z",
     "shell.execute_reply.started": "2021-12-15T09:49:33.618974Z"
    },
    "papermill": {
     "duration": 0.022732,
     "end_time": "2021-12-16T08:46:20.434705",
     "exception": false,
     "start_time": "2021-12-16T08:46:20.411973",
     "status": "completed"
    },
    "tags": []
   },
   "outputs": [],
   "source": [
    "import re\n",
    "not_numChar = re.compile(r'[\\W]')\n",
    "no_encode = re.compile(r'[^a-z0-1\\s]')\n",
    "def normalisation(texts):\n",
    "    norm_text = []\n",
    "    for word in texts:\n",
    "        lower = word.lower()\n",
    "        not_punct = not_numChar.sub(r' ', lower)\n",
    "        exclude_no_encode = no_encode.sub(r'', not_punct)\n",
    "        norm_text.append(exclude_no_encode)\n",
    "    return norm_text"
   ]
  },
  {
   "cell_type": "code",
   "execution_count": 8,
   "id": "fa730f8e",
   "metadata": {
    "execution": {
     "iopub.execute_input": "2021-12-16T08:46:20.484301Z",
     "iopub.status.busy": "2021-12-16T08:46:20.483241Z",
     "iopub.status.idle": "2021-12-16T08:49:21.299388Z",
     "shell.execute_reply": "2021-12-16T08:49:21.298885Z",
     "shell.execute_reply.started": "2021-12-15T09:49:33.631996Z"
    },
    "papermill": {
     "duration": 180.848882,
     "end_time": "2021-12-16T08:49:21.299538",
     "exception": false,
     "start_time": "2021-12-16T08:46:20.450656",
     "status": "completed"
    },
    "tags": []
   },
   "outputs": [],
   "source": [
    "train_text = normalisation(train_text)\n",
    "test_text = normalisation(test_text)"
   ]
  },
  {
   "cell_type": "code",
   "execution_count": 9,
   "id": "e9d8d2e0",
   "metadata": {
    "execution": {
     "iopub.execute_input": "2021-12-16T08:49:21.338067Z",
     "iopub.status.busy": "2021-12-16T08:49:21.337444Z",
     "iopub.status.idle": "2021-12-16T08:49:21.340174Z",
     "shell.execute_reply": "2021-12-16T08:49:21.340863Z",
     "shell.execute_reply.started": "2021-12-15T09:52:56.562418Z"
    },
    "papermill": {
     "duration": 0.023332,
     "end_time": "2021-12-16T08:49:21.341032",
     "exception": false,
     "start_time": "2021-12-16T08:49:21.317700",
     "status": "completed"
    },
    "tags": []
   },
   "outputs": [
    {
     "name": "stdout",
     "output_type": "stream",
     "text": [
      "stuning even for the non gamer  this sound track was beautiful  it paints the senery in your mind so well i would recomend it even to people who hate vid  game music  i have played the game chrono cross but out of all of the games i have ever played it has the best music  it backs away from crude keyboarding and takes a fresher step with grate guitars and soulful orchestras  it would impress anyone who cares to listen    \n"
     ]
    }
   ],
   "source": [
    "print(train_text[0])"
   ]
  },
  {
   "cell_type": "code",
   "execution_count": 10,
   "id": "899748b8",
   "metadata": {
    "execution": {
     "iopub.execute_input": "2021-12-16T08:49:21.383434Z",
     "iopub.status.busy": "2021-12-16T08:49:21.382119Z",
     "iopub.status.idle": "2021-12-16T08:49:21.386871Z",
     "shell.execute_reply": "2021-12-16T08:49:21.386443Z",
     "shell.execute_reply.started": "2021-12-15T09:52:56.574224Z"
    },
    "papermill": {
     "duration": 0.028575,
     "end_time": "2021-12-16T08:49:21.386983",
     "exception": false,
     "start_time": "2021-12-16T08:49:21.358408",
     "status": "completed"
    },
    "tags": []
   },
   "outputs": [],
   "source": [
    "y_train = np.array(train_label)\n",
    "y_test = np.array(test_label)"
   ]
  },
  {
   "cell_type": "code",
   "execution_count": 11,
   "id": "a27c715f",
   "metadata": {
    "execution": {
     "iopub.execute_input": "2021-12-16T08:49:21.426090Z",
     "iopub.status.busy": "2021-12-16T08:49:21.425457Z",
     "iopub.status.idle": "2021-12-16T08:49:21.428413Z",
     "shell.execute_reply": "2021-12-16T08:49:21.428835Z",
     "shell.execute_reply.started": "2021-12-15T09:52:56.598686Z"
    },
    "papermill": {
     "duration": 0.025478,
     "end_time": "2021-12-16T08:49:21.428957",
     "exception": false,
     "start_time": "2021-12-16T08:49:21.403479",
     "status": "completed"
    },
    "tags": []
   },
   "outputs": [
    {
     "data": {
      "text/plain": [
       "(400000,)"
      ]
     },
     "execution_count": 11,
     "metadata": {},
     "output_type": "execute_result"
    }
   ],
   "source": [
    "y_test.shape"
   ]
  },
  {
   "cell_type": "code",
   "execution_count": 12,
   "id": "d81f7f7d",
   "metadata": {
    "execution": {
     "iopub.execute_input": "2021-12-16T08:49:21.475084Z",
     "iopub.status.busy": "2021-12-16T08:49:21.469930Z",
     "iopub.status.idle": "2021-12-16T08:53:12.113106Z",
     "shell.execute_reply": "2021-12-16T08:53:12.113514Z",
     "shell.execute_reply.started": "2021-12-15T09:52:56.818906Z"
    },
    "papermill": {
     "duration": 230.66819,
     "end_time": "2021-12-16T08:53:12.113670",
     "exception": false,
     "start_time": "2021-12-16T08:49:21.445480",
     "status": "completed"
    },
    "tags": []
   },
   "outputs": [
    {
     "name": "stdout",
     "output_type": "stream",
     "text": [
      "Vocabulary Size : 905946\n"
     ]
    }
   ],
   "source": [
    "max_features = 8192\n",
    "maxlen = 128\n",
    "\n",
    "tokenizer = Tokenizer(num_words=max_features)\n",
    "tokenizer.fit_on_texts(train_text)\n",
    "\n",
    "word_index = tokenizer.word_index\n",
    "vocab_size = len(tokenizer.word_index) + 1\n",
    "print(\"Vocabulary Size :\", vocab_size)"
   ]
  },
  {
   "cell_type": "code",
   "execution_count": 13,
   "id": "7eb247be",
   "metadata": {
    "execution": {
     "iopub.execute_input": "2021-12-16T08:53:12.153414Z",
     "iopub.status.busy": "2021-12-16T08:53:12.151551Z",
     "iopub.status.idle": "2021-12-16T08:53:13.022071Z",
     "shell.execute_reply": "2021-12-16T08:53:13.023381Z",
     "shell.execute_reply.started": "2021-12-15T09:58:13.726016Z"
    },
    "papermill": {
     "duration": 0.893404,
     "end_time": "2021-12-16T08:53:13.023673",
     "exception": false,
     "start_time": "2021-12-16T08:53:12.130269",
     "status": "completed"
    },
    "tags": []
   },
   "outputs": [],
   "source": [
    "import os \n",
    "with open('amazon_dictionary.txt', 'w') as file:\n",
    "    for key in word_index.keys():\n",
    "        file.write(key + \" \" + str(word_index[key]) + \",\")"
   ]
  },
  {
   "cell_type": "code",
   "execution_count": 14,
   "id": "e6cba1ab",
   "metadata": {
    "execution": {
     "iopub.execute_input": "2021-12-16T08:53:13.101516Z",
     "iopub.status.busy": "2021-12-16T08:53:13.100596Z",
     "iopub.status.idle": "2021-12-16T08:56:40.350443Z",
     "shell.execute_reply": "2021-12-16T08:56:40.349932Z",
     "shell.execute_reply.started": "2021-12-15T09:58:14.779469Z"
    },
    "papermill": {
     "duration": 207.285286,
     "end_time": "2021-12-16T08:56:40.350593",
     "exception": false,
     "start_time": "2021-12-16T08:53:13.065307",
     "status": "completed"
    },
    "tags": []
   },
   "outputs": [],
   "source": [
    "training_token = tokenizer.texts_to_sequences(train_text)\n",
    "testing_token = tokenizer.texts_to_sequences(test_text)"
   ]
  },
  {
   "cell_type": "code",
   "execution_count": 15,
   "id": "ec07ffe0",
   "metadata": {
    "execution": {
     "iopub.execute_input": "2021-12-16T08:56:40.402266Z",
     "iopub.status.busy": "2021-12-16T08:56:40.392491Z",
     "iopub.status.idle": "2021-12-16T08:57:54.666081Z",
     "shell.execute_reply": "2021-12-16T08:57:54.665143Z",
     "shell.execute_reply.started": "2021-12-15T10:02:34.793198Z"
    },
    "papermill": {
     "duration": 74.298315,
     "end_time": "2021-12-16T08:57:54.666234",
     "exception": false,
     "start_time": "2021-12-16T08:56:40.367919",
     "status": "completed"
    },
    "tags": []
   },
   "outputs": [],
   "source": [
    "x_train = pad_sequences(training_token, maxlen = maxlen, padding = 'post')\n",
    "x_test = pad_sequences(testing_token, maxlen = maxlen, padding = 'post')"
   ]
  },
  {
   "cell_type": "code",
   "execution_count": 16,
   "id": "2ab4b620",
   "metadata": {
    "execution": {
     "iopub.execute_input": "2021-12-16T08:57:54.705942Z",
     "iopub.status.busy": "2021-12-16T08:57:54.705261Z",
     "iopub.status.idle": "2021-12-16T08:57:56.180857Z",
     "shell.execute_reply": "2021-12-16T08:57:56.181316Z",
     "shell.execute_reply.started": "2021-12-15T10:03:54.502031Z"
    },
    "papermill": {
     "duration": 1.498247,
     "end_time": "2021-12-16T08:57:56.181480",
     "exception": false,
     "start_time": "2021-12-16T08:57:54.683233",
     "status": "completed"
    },
    "tags": []
   },
   "outputs": [],
   "source": [
    "import torch\n",
    "from torch.utils.data import TensorDataset, DataLoader\n",
    "import torch.nn as nn\n",
    "BATCH_SIZE = 50\n",
    "\n",
    "train_data = TensorDataset(torch.from_numpy(x_train), torch.from_numpy(y_train))\n",
    "test_data = TensorDataset(torch.from_numpy(x_test), torch.from_numpy(y_test))\n",
    "\n",
    "train_loader = DataLoader(train_data, shuffle=True, batch_size=BATCH_SIZE, drop_last = True)\n",
    "test_loader = DataLoader(test_data, shuffle=True, batch_size=BATCH_SIZE, drop_last = True)"
   ]
  },
  {
   "cell_type": "code",
   "execution_count": 17,
   "id": "1d7b85e6",
   "metadata": {
    "execution": {
     "iopub.execute_input": "2021-12-16T08:57:56.229088Z",
     "iopub.status.busy": "2021-12-16T08:57:56.228450Z",
     "iopub.status.idle": "2021-12-16T08:57:56.231283Z",
     "shell.execute_reply": "2021-12-16T08:57:56.231697Z",
     "shell.execute_reply.started": "2021-12-15T10:19:14.696233Z"
    },
    "papermill": {
     "duration": 0.033522,
     "end_time": "2021-12-16T08:57:56.231858",
     "exception": false,
     "start_time": "2021-12-16T08:57:56.198336",
     "status": "completed"
    },
    "tags": []
   },
   "outputs": [],
   "source": [
    "class PositionalEncoding(nn.Module):\n",
    "\n",
    "    def __init__(self, d_model, dropout=0.1, max_len=5000):\n",
    "        super(PositionalEncoding, self).__init__()\n",
    "        self.dropout = nn.Dropout(p=dropout)\n",
    "\n",
    "        pe = torch.zeros(max_len, d_model)\n",
    "        position = torch.arange(0, max_len, dtype=torch.float).unsqueeze(1)\n",
    "        div_term = torch.exp(torch.arange(0, d_model, 2).float() * (-math.log(10000.0) / d_model))\n",
    "        pe[:, 0::2] = torch.sin(position * div_term)\n",
    "        pe[:, 1::2] = torch.cos(position * div_term)\n",
    "        pe = pe.unsqueeze(0).transpose(0, 1)\n",
    "        self.register_buffer('pe', pe)\n",
    "\n",
    "    def forward(self, x):\n",
    "        x = x + self.pe[:x.size(0), :]\n",
    "        return self.dropout(x)\n",
    "    \n",
    "class SentimentNet(nn.Module):\n",
    "    def __init__(self, vocab_size, output_size, embedding_dim, hidden_dim, n_layers, drop_prob=0.2):\n",
    "        super(SentimentNet, self).__init__()\n",
    "        self.output_size = output_size\n",
    "        self.n_layers = n_layers\n",
    "        self.hidden_dim = hidden_dim\n",
    "        self.dropout = nn.Dropout(drop_prob)\n",
    "        self.embedding_dim = embedding_dim\n",
    "        self.sigmoid = nn.Sigmoid()\n",
    "        \n",
    "        \n",
    "        self.encoder = nn.Embedding(vocab_size, embedding_dim)\n",
    "        self.pos_encoder = PositionalEncoding(embedding_dim, drop_prob)\n",
    "        encoder_layer = nn.TransformerEncoderLayer(embedding_dim, 2, hidden_dim)\n",
    "        self.transformer_encoder = nn.TransformerEncoder(encoder_layer, num_layers=n_layers)\n",
    "        \n",
    "        \n",
    "        self.fc = nn.Linear(embedding_dim * 128 , 1)\n",
    "\n",
    "    \n",
    "    def forward(self, src):\n",
    "        src = self.encoder(src) * math.sqrt(self.embedding_dim)\n",
    "        src = self.pos_encoder(src)\n",
    "        output = self.transformer_encoder(src)\n",
    "        output = output.view(output.size(0), -1)\n",
    "        \n",
    "        output = self.sigmoid(self.fc(output))\n",
    "        return output"
   ]
  },
  {
   "cell_type": "code",
   "execution_count": 18,
   "id": "9ae8a0c9",
   "metadata": {
    "execution": {
     "iopub.execute_input": "2021-12-16T08:57:56.269743Z",
     "iopub.status.busy": "2021-12-16T08:57:56.268965Z",
     "iopub.status.idle": "2021-12-16T08:57:56.271306Z",
     "shell.execute_reply": "2021-12-16T08:57:56.270927Z",
     "shell.execute_reply.started": "2021-12-15T10:04:00.284359Z"
    },
    "papermill": {
     "duration": 0.022879,
     "end_time": "2021-12-16T08:57:56.271419",
     "exception": false,
     "start_time": "2021-12-16T08:57:56.248540",
     "status": "completed"
    },
    "tags": []
   },
   "outputs": [],
   "source": [
    "def model_params(model):\n",
    "    pp=0\n",
    "    for p in list(model.parameters()):\n",
    "        nn=1\n",
    "        for s in list(p.size()):\n",
    "            nn = nn*s\n",
    "        pp += nn\n",
    "    return pp"
   ]
  },
  {
   "cell_type": "code",
   "execution_count": 19,
   "id": "b8dc15ab",
   "metadata": {
    "execution": {
     "iopub.execute_input": "2021-12-16T08:57:56.309985Z",
     "iopub.status.busy": "2021-12-16T08:57:56.309453Z",
     "iopub.status.idle": "2021-12-16T08:58:01.486777Z",
     "shell.execute_reply": "2021-12-16T08:58:01.485999Z",
     "shell.execute_reply.started": "2021-12-15T10:19:04.882323Z"
    },
    "papermill": {
     "duration": 5.199147,
     "end_time": "2021-12-16T08:58:01.486908",
     "exception": false,
     "start_time": "2021-12-16T08:57:56.287761",
     "status": "completed"
    },
    "tags": []
   },
   "outputs": [
    {
     "name": "stdout",
     "output_type": "stream",
     "text": [
      "58006213\n"
     ]
    }
   ],
   "source": [
    "import math\n",
    "\n",
    "output_size = 1\n",
    "embedding_dim = 64\n",
    "hidden_dim = 4\n",
    "n_layers = 1\n",
    "\n",
    "model = SentimentNet(vocab_size, output_size, embedding_dim, hidden_dim, n_layers)\n",
    "model.to(device)\n",
    "print(model_params(model))\n",
    "lr=0.01\n",
    "criterion = nn.BCELoss()\n",
    "optimizer = torch.optim.Adam(model.parameters(), lr=lr)"
   ]
  },
  {
   "cell_type": "code",
   "execution_count": 20,
   "id": "c5c5d395",
   "metadata": {
    "execution": {
     "iopub.execute_input": "2021-12-16T08:58:01.530822Z",
     "iopub.status.busy": "2021-12-16T08:58:01.530248Z",
     "iopub.status.idle": "2021-12-16T09:43:51.689292Z",
     "shell.execute_reply": "2021-12-16T09:43:51.689692Z",
     "shell.execute_reply.started": "2021-12-15T10:19:07.623429Z"
    },
    "papermill": {
     "duration": 2750.185946,
     "end_time": "2021-12-16T09:43:51.689868",
     "exception": false,
     "start_time": "2021-12-16T08:58:01.503922",
     "status": "completed"
    },
    "tags": []
   },
   "outputs": [
    {
     "name": "stdout",
     "output_type": "stream",
     "text": [
      "Epoch: 1/1... Step: 500... Loss: 0.703029... Val Loss: 0.651474\n",
      "Validation loss decreased (inf --> 0.651474).  Saving model ...\n",
      "Epoch: 1/1... Step: 1000... Loss: 0.663152... Val Loss: 0.598400\n",
      "Validation loss decreased (0.651474 --> 0.598400).  Saving model ...\n",
      "Epoch: 1/1... Step: 1500... Loss: 0.580049... Val Loss: 0.557386\n",
      "Validation loss decreased (0.598400 --> 0.557386).  Saving model ...\n",
      "Epoch: 1/1... Step: 2000... Loss: 0.571353... Val Loss: 0.574864\n",
      "Epoch: 1/1... Step: 2500... Loss: 0.449026... Val Loss: 0.498001\n",
      "Validation loss decreased (0.557386 --> 0.498001).  Saving model ...\n",
      "Epoch: 1/1... Step: 3000... Loss: 0.524142... Val Loss: 0.410301\n",
      "Validation loss decreased (0.498001 --> 0.410301).  Saving model ...\n",
      "Epoch: 1/1... Step: 3500... Loss: 0.505602... Val Loss: 0.386449\n",
      "Validation loss decreased (0.410301 --> 0.386449).  Saving model ...\n",
      "Epoch: 1/1... Step: 4000... Loss: 0.348942... Val Loss: 0.353497\n",
      "Validation loss decreased (0.386449 --> 0.353497).  Saving model ...\n",
      "Epoch: 1/1... Step: 4500... Loss: 0.514459... Val Loss: 0.340180\n",
      "Validation loss decreased (0.353497 --> 0.340180).  Saving model ...\n",
      "Epoch: 1/1... Step: 5000... Loss: 0.242604... Val Loss: 0.339311\n",
      "Validation loss decreased (0.340180 --> 0.339311).  Saving model ...\n",
      "Epoch: 1/1... Step: 5500... Loss: 0.415359... Val Loss: 0.341609\n",
      "Epoch: 1/1... Step: 6000... Loss: 0.356719... Val Loss: 0.332936\n",
      "Validation loss decreased (0.339311 --> 0.332936).  Saving model ...\n",
      "Epoch: 1/1... Step: 6500... Loss: 0.447669... Val Loss: 0.308062\n",
      "Validation loss decreased (0.332936 --> 0.308062).  Saving model ...\n",
      "Epoch: 1/1... Step: 7000... Loss: 0.360567... Val Loss: 0.310623\n",
      "Epoch: 1/1... Step: 7500... Loss: 0.325063... Val Loss: 0.347386\n",
      "Epoch: 1/1... Step: 8000... Loss: 0.246821... Val Loss: 0.307393\n",
      "Validation loss decreased (0.308062 --> 0.307393).  Saving model ...\n",
      "Epoch: 1/1... Step: 8500... Loss: 0.189019... Val Loss: 0.299476\n",
      "Validation loss decreased (0.307393 --> 0.299476).  Saving model ...\n",
      "Epoch: 1/1... Step: 9000... Loss: 0.298034... Val Loss: 0.298926\n",
      "Validation loss decreased (0.299476 --> 0.298926).  Saving model ...\n",
      "Epoch: 1/1... Step: 9500... Loss: 0.251068... Val Loss: 0.397391\n",
      "Epoch: 1/1... Step: 10000... Loss: 0.309764... Val Loss: 0.293118\n",
      "Validation loss decreased (0.298926 --> 0.293118).  Saving model ...\n",
      "Epoch: 1/1... Step: 10500... Loss: 0.372428... Val Loss: 0.326631\n",
      "Epoch: 1/1... Step: 11000... Loss: 0.232065... Val Loss: 0.328579\n",
      "Epoch: 1/1... Step: 11500... Loss: 0.193293... Val Loss: 0.303992\n",
      "Epoch: 1/1... Step: 12000... Loss: 0.315272... Val Loss: 0.293027\n",
      "Validation loss decreased (0.293118 --> 0.293027).  Saving model ...\n",
      "Epoch: 1/1... Step: 12500... Loss: 0.234959... Val Loss: 0.315505\n",
      "Epoch: 1/1... Step: 13000... Loss: 0.252266... Val Loss: 0.287595\n",
      "Validation loss decreased (0.293027 --> 0.287595).  Saving model ...\n",
      "Epoch: 1/1... Step: 13500... Loss: 0.476609... Val Loss: 0.292597\n",
      "Epoch: 1/1... Step: 14000... Loss: 0.325063... Val Loss: 0.336772\n",
      "Epoch: 1/1... Step: 14500... Loss: 0.225350... Val Loss: 0.302565\n",
      "Epoch: 1/1... Step: 15000... Loss: 0.398307... Val Loss: 0.359099\n",
      "Epoch: 1/1... Step: 15500... Loss: 0.667729... Val Loss: 0.287262\n",
      "Validation loss decreased (0.287595 --> 0.287262).  Saving model ...\n",
      "Epoch: 1/1... Step: 16000... Loss: 0.243928... Val Loss: 0.297370\n",
      "Epoch: 1/1... Step: 16500... Loss: 0.228262... Val Loss: 0.342988\n",
      "Epoch: 1/1... Step: 17000... Loss: 0.193060... Val Loss: 0.278607\n",
      "Validation loss decreased (0.287262 --> 0.278607).  Saving model ...\n",
      "Epoch: 1/1... Step: 17500... Loss: 0.346050... Val Loss: 0.287270\n",
      "Epoch: 1/1... Step: 18000... Loss: 0.619268... Val Loss: 0.337601\n",
      "Epoch: 1/1... Step: 18500... Loss: 0.294459... Val Loss: 0.279742\n",
      "Epoch: 1/1... Step: 19000... Loss: 0.339430... Val Loss: 0.307288\n",
      "Epoch: 1/1... Step: 19500... Loss: 0.551856... Val Loss: 0.283466\n",
      "Epoch: 1/1... Step: 20000... Loss: 0.420669... Val Loss: 0.296146\n",
      "Epoch: 1/1... Step: 20500... Loss: 0.245308... Val Loss: 0.272227\n",
      "Validation loss decreased (0.278607 --> 0.272227).  Saving model ...\n",
      "Epoch: 1/1... Step: 21000... Loss: 0.225444... Val Loss: 0.363304\n",
      "Epoch: 1/1... Step: 21500... Loss: 0.279411... Val Loss: 0.409964\n",
      "Epoch: 1/1... Step: 22000... Loss: 0.353273... Val Loss: 0.284132\n",
      "Epoch: 1/1... Step: 22500... Loss: 0.221821... Val Loss: 0.292776\n",
      "Epoch: 1/1... Step: 23000... Loss: 0.254072... Val Loss: 0.292967\n",
      "Epoch: 1/1... Step: 23500... Loss: 0.460191... Val Loss: 0.333673\n",
      "Epoch: 1/1... Step: 24000... Loss: 0.268087... Val Loss: 0.272502\n",
      "Epoch: 1/1... Step: 24500... Loss: 0.106591... Val Loss: 0.347451\n",
      "Epoch: 1/1... Step: 25000... Loss: 0.325061... Val Loss: 0.276618\n",
      "Epoch: 1/1... Step: 25500... Loss: 0.300942... Val Loss: 0.306387\n",
      "Epoch: 1/1... Step: 26000... Loss: 0.272718... Val Loss: 0.307219\n",
      "Epoch: 1/1... Step: 26500... Loss: 0.265482... Val Loss: 0.285242\n",
      "Epoch: 1/1... Step: 27000... Loss: 0.291412... Val Loss: 0.335429\n",
      "Epoch: 1/1... Step: 27500... Loss: 0.437306... Val Loss: 0.330493\n",
      "Epoch: 1/1... Step: 28000... Loss: 0.260059... Val Loss: 0.283713\n",
      "Epoch: 1/1... Step: 28500... Loss: 0.335683... Val Loss: 0.299435\n",
      "Epoch: 1/1... Step: 29000... Loss: 0.319206... Val Loss: 0.303249\n",
      "Epoch: 1/1... Step: 29500... Loss: 0.250065... Val Loss: 0.312405\n",
      "Epoch: 1/1... Step: 30000... Loss: 0.321679... Val Loss: 0.269825\n",
      "Validation loss decreased (0.272227 --> 0.269825).  Saving model ...\n",
      "Epoch: 1/1... Step: 30500... Loss: 0.307326... Val Loss: 0.273410\n",
      "Epoch: 1/1... Step: 31000... Loss: 0.350065... Val Loss: 0.284041\n",
      "Epoch: 1/1... Step: 31500... Loss: 0.308590... Val Loss: 0.267033\n",
      "Validation loss decreased (0.269825 --> 0.267033).  Saving model ...\n",
      "Epoch: 1/1... Step: 32000... Loss: 0.345566... Val Loss: 0.279577\n",
      "Epoch: 1/1... Step: 32500... Loss: 0.298990... Val Loss: 0.283470\n",
      "Epoch: 1/1... Step: 33000... Loss: 0.224255... Val Loss: 0.321830\n",
      "Epoch: 1/1... Step: 33500... Loss: 0.349416... Val Loss: 0.270478\n",
      "Epoch: 1/1... Step: 34000... Loss: 0.247123... Val Loss: 0.279935\n",
      "Epoch: 1/1... Step: 34500... Loss: 0.310270... Val Loss: 0.319372\n",
      "Epoch: 1/1... Step: 35000... Loss: 0.304701... Val Loss: 0.359197\n",
      "Epoch: 1/1... Step: 35500... Loss: 0.294114... Val Loss: 0.286625\n",
      "Epoch: 1/1... Step: 36000... Loss: 0.493450... Val Loss: 0.282511\n",
      "Epoch: 1/1... Step: 36500... Loss: 0.264326... Val Loss: 0.347128\n",
      "Epoch: 1/1... Step: 37000... Loss: 0.286432... Val Loss: 0.281235\n",
      "Epoch: 1/1... Step: 37500... Loss: 0.307986... Val Loss: 0.280149\n",
      "Epoch: 1/1... Step: 38000... Loss: 0.253614... Val Loss: 0.362169\n",
      "Epoch: 1/1... Step: 38500... Loss: 0.344503... Val Loss: 0.286002\n",
      "Epoch: 1/1... Step: 39000... Loss: 0.354129... Val Loss: 0.274450\n",
      "Epoch: 1/1... Step: 39500... Loss: 0.280318... Val Loss: 0.295330\n",
      "Epoch: 1/1... Step: 40000... Loss: 0.467507... Val Loss: 0.292919\n",
      "Epoch: 1/1... Step: 40500... Loss: 0.364240... Val Loss: 0.447600\n",
      "Epoch: 1/1... Step: 41000... Loss: 0.219983... Val Loss: 0.275780\n",
      "Epoch: 1/1... Step: 41500... Loss: 0.477678... Val Loss: 0.269945\n",
      "Epoch: 1/1... Step: 42000... Loss: 0.250966... Val Loss: 0.267610\n",
      "Epoch: 1/1... Step: 42500... Loss: 0.240833... Val Loss: 0.278700\n",
      "Epoch: 1/1... Step: 43000... Loss: 0.288157... Val Loss: 0.288943\n",
      "Epoch: 1/1... Step: 43500... Loss: 0.283527... Val Loss: 0.289107\n",
      "Epoch: 1/1... Step: 44000... Loss: 0.228975... Val Loss: 0.267984\n",
      "Epoch: 1/1... Step: 44500... Loss: 0.319117... Val Loss: 0.258056\n",
      "Validation loss decreased (0.267033 --> 0.258056).  Saving model ...\n",
      "Epoch: 1/1... Step: 45000... Loss: 0.385903... Val Loss: 0.259782\n",
      "Epoch: 1/1... Step: 45500... Loss: 0.204166... Val Loss: 0.270920\n",
      "Epoch: 1/1... Step: 46000... Loss: 0.191994... Val Loss: 0.293717\n",
      "Epoch: 1/1... Step: 46500... Loss: 0.281718... Val Loss: 0.264605\n",
      "Epoch: 1/1... Step: 47000... Loss: 0.253232... Val Loss: 0.260291\n",
      "Epoch: 1/1... Step: 47500... Loss: 0.398150... Val Loss: 0.267590\n",
      "Epoch: 1/1... Step: 48000... Loss: 0.377492... Val Loss: 0.267683\n",
      "Epoch: 1/1... Step: 48500... Loss: 0.434712... Val Loss: 0.315805\n",
      "Epoch: 1/1... Step: 49000... Loss: 0.301924... Val Loss: 0.272504\n",
      "Epoch: 1/1... Step: 49500... Loss: 0.451262... Val Loss: 0.276903\n",
      "Epoch: 1/1... Step: 50000... Loss: 0.312757... Val Loss: 0.257126\n",
      "Validation loss decreased (0.258056 --> 0.257126).  Saving model ...\n",
      "Epoch: 1/1... Step: 50500... Loss: 0.462396... Val Loss: 0.268855\n",
      "Epoch: 1/1... Step: 51000... Loss: 0.302843... Val Loss: 0.284546\n",
      "Epoch: 1/1... Step: 51500... Loss: 0.308125... Val Loss: 0.270850\n",
      "Epoch: 1/1... Step: 52000... Loss: 0.385336... Val Loss: 0.286575\n",
      "Epoch: 1/1... Step: 52500... Loss: 0.179908... Val Loss: 0.271788\n",
      "Epoch: 1/1... Step: 53000... Loss: 0.389269... Val Loss: 0.271630\n",
      "Epoch: 1/1... Step: 53500... Loss: 0.135098... Val Loss: 0.275338\n",
      "Epoch: 1/1... Step: 54000... Loss: 0.143830... Val Loss: 0.330415\n",
      "Epoch: 1/1... Step: 54500... Loss: 0.506800... Val Loss: 0.272892\n",
      "Epoch: 1/1... Step: 55000... Loss: 0.427211... Val Loss: 0.265840\n",
      "Epoch: 1/1... Step: 55500... Loss: 0.357531... Val Loss: 0.278517\n",
      "Epoch: 1/1... Step: 56000... Loss: 0.235210... Val Loss: 0.275967\n",
      "Epoch: 1/1... Step: 56500... Loss: 0.194117... Val Loss: 0.279793\n",
      "Epoch: 1/1... Step: 57000... Loss: 0.243237... Val Loss: 0.332382\n",
      "Epoch: 1/1... Step: 57500... Loss: 0.161309... Val Loss: 0.309263\n",
      "Epoch: 1/1... Step: 58000... Loss: 0.290848... Val Loss: 0.286379\n",
      "Epoch: 1/1... Step: 58500... Loss: 0.365351... Val Loss: 0.274040\n",
      "Epoch: 1/1... Step: 59000... Loss: 0.239359... Val Loss: 0.256169\n",
      "Validation loss decreased (0.257126 --> 0.256169).  Saving model ...\n",
      "Epoch: 1/1... Step: 59500... Loss: 0.304575... Val Loss: 0.273344\n",
      "Epoch: 1/1... Step: 60000... Loss: 0.533865... Val Loss: 0.259588\n",
      "Epoch: 1/1... Step: 60500... Loss: 0.437857... Val Loss: 0.296768\n",
      "Epoch: 1/1... Step: 61000... Loss: 0.518246... Val Loss: 0.294944\n",
      "Epoch: 1/1... Step: 61500... Loss: 0.326206... Val Loss: 0.265866\n",
      "Epoch: 1/1... Step: 62000... Loss: 0.349388... Val Loss: 0.257956\n",
      "Epoch: 1/1... Step: 62500... Loss: 0.390815... Val Loss: 0.265284\n",
      "Epoch: 1/1... Step: 63000... Loss: 0.190152... Val Loss: 0.271716\n",
      "Epoch: 1/1... Step: 63500... Loss: 0.158333... Val Loss: 0.262868\n",
      "Epoch: 1/1... Step: 64000... Loss: 0.255805... Val Loss: 0.274029\n",
      "Epoch: 1/1... Step: 64500... Loss: 0.225891... Val Loss: 0.264140\n",
      "Epoch: 1/1... Step: 65000... Loss: 0.346380... Val Loss: 0.262184\n",
      "Epoch: 1/1... Step: 65500... Loss: 0.266602... Val Loss: 0.256913\n",
      "Epoch: 1/1... Step: 66000... Loss: 0.239890... Val Loss: 0.321235\n",
      "Epoch: 1/1... Step: 66500... Loss: 0.263248... Val Loss: 0.262865\n",
      "Epoch: 1/1... Step: 67000... Loss: 0.432460... Val Loss: 0.292076\n",
      "Epoch: 1/1... Step: 67500... Loss: 0.425527... Val Loss: 0.260921\n",
      "Epoch: 1/1... Step: 68000... Loss: 0.195858... Val Loss: 0.323660\n",
      "Epoch: 1/1... Step: 68500... Loss: 0.323369... Val Loss: 0.272592\n",
      "Epoch: 1/1... Step: 69000... Loss: 0.368661... Val Loss: 0.329389\n",
      "Epoch: 1/1... Step: 69500... Loss: 0.365956... Val Loss: 0.301671\n",
      "Epoch: 1/1... Step: 70000... Loss: 0.251113... Val Loss: 0.261975\n",
      "Epoch: 1/1... Step: 70500... Loss: 0.356840... Val Loss: 0.258433\n",
      "Epoch: 1/1... Step: 71000... Loss: 0.304895... Val Loss: 0.260365\n",
      "Epoch: 1/1... Step: 71500... Loss: 0.390435... Val Loss: 0.260086\n",
      "Epoch: 1/1... Step: 72000... Loss: 0.332831... Val Loss: 0.259541\n"
     ]
    }
   ],
   "source": [
    "epochs = 1\n",
    "counter = 0\n",
    "print_every = 500\n",
    "clip = 5\n",
    "valid_loss_min = np.Inf\n",
    "\n",
    "model.train()\n",
    "for i in range(epochs):\n",
    "    \n",
    "    for inputs, labels in train_loader:\n",
    "        counter += 1\n",
    "        inputs, labels = inputs.to(device), labels.to(device)\n",
    "        model.zero_grad()\n",
    "        output = model(inputs.long())\n",
    "        \n",
    "        loss = criterion(output.squeeze(1), labels.float())\n",
    "        \n",
    "        \n",
    "        loss.backward()\n",
    "        #nn.utils.clip_grad_norm_(model.parameters(), clip)\n",
    "        optimizer.step()\n",
    "        \n",
    "        if counter%print_every == 0:\n",
    "            val_losses = []\n",
    "            model.eval()\n",
    "            for inp, lab in test_loader:\n",
    "                inp, lab = inp.to(device), lab.to(device)\n",
    "                out = model(inp.long())\n",
    "                val_loss = criterion(out.squeeze(1), lab.float())\n",
    "                val_losses.append(val_loss.item())\n",
    "                \n",
    "            model.train()\n",
    "            print(\"Epoch: {}/{}...\".format(i+1, epochs),\n",
    "                  \"Step: {}...\".format(counter),\n",
    "                  \"Loss: {:.6f}...\".format(loss.item()),\n",
    "                  \"Val Loss: {:.6f}\".format(np.mean(val_losses)))\n",
    "            if np.mean(val_losses) <= valid_loss_min:\n",
    "                torch.save(model.state_dict(), './state_dict.pt')\n",
    "                print('Validation loss decreased ({:.6f} --> {:.6f}).  Saving model ...'.format(valid_loss_min,np.mean(val_losses)))\n",
    "                valid_loss_min = np.mean(val_losses)"
   ]
  },
  {
   "cell_type": "code",
   "execution_count": 21,
   "id": "21f28e3b",
   "metadata": {
    "execution": {
     "iopub.execute_input": "2021-12-16T09:43:51.814538Z",
     "iopub.status.busy": "2021-12-16T09:43:51.812617Z",
     "iopub.status.idle": "2021-12-16T09:43:51.851289Z",
     "shell.execute_reply": "2021-12-16T09:43:51.850873Z",
     "shell.execute_reply.started": "2021-12-15T10:04:08.106311Z"
    },
    "papermill": {
     "duration": 0.102908,
     "end_time": "2021-12-16T09:43:51.851398",
     "exception": false,
     "start_time": "2021-12-16T09:43:51.748490",
     "status": "completed"
    },
    "tags": []
   },
   "outputs": [
    {
     "data": {
      "text/plain": [
       "tensor([[0.8103]], device='cuda:0', grad_fn=<SigmoidBackward>)"
      ]
     },
     "execution_count": 21,
     "metadata": {},
     "output_type": "execute_result"
    }
   ],
   "source": [
    "sentence = \"I love you\"\n",
    "trial = torch.tensor(pad_sequences(tokenizer.texts_to_sequences([sentence]), maxlen = maxlen)).long().to(device)\n",
    "\n",
    "model(trial)"
   ]
  },
  {
   "cell_type": "code",
   "execution_count": 22,
   "id": "8f7730c2",
   "metadata": {
    "execution": {
     "iopub.execute_input": "2021-12-16T09:43:51.976259Z",
     "iopub.status.busy": "2021-12-16T09:43:51.975675Z",
     "iopub.status.idle": "2021-12-16T09:43:55.681108Z",
     "shell.execute_reply": "2021-12-16T09:43:55.680591Z",
     "shell.execute_reply.started": "2021-12-15T10:04:08.108493Z"
    },
    "papermill": {
     "duration": 3.769076,
     "end_time": "2021-12-16T09:43:55.681245",
     "exception": false,
     "start_time": "2021-12-16T09:43:51.912169",
     "status": "completed"
    },
    "tags": []
   },
   "outputs": [],
   "source": [
    "import torch.onnx\n",
    "torch.onnx.export(model,               # model being run\n",
    "                  trial,                  # model input (or a tuple for multiple inputs)\n",
    "                  \"transformer-amazon.onnx\", opset_version = 11)"
   ]
  }
 ],
 "metadata": {
  "kernelspec": {
   "display_name": "Python 3",
   "language": "python",
   "name": "python3"
  },
  "language_info": {
   "codemirror_mode": {
    "name": "ipython",
    "version": 3
   },
   "file_extension": ".py",
   "mimetype": "text/x-python",
   "name": "python",
   "nbconvert_exporter": "python",
   "pygments_lexer": "ipython3",
   "version": "3.7.12"
  },
  "papermill": {
   "default_parameters": {},
   "duration": 3593.974712,
   "end_time": "2021-12-16T09:43:58.655108",
   "environment_variables": {},
   "exception": null,
   "input_path": "__notebook__.ipynb",
   "output_path": "__notebook__.ipynb",
   "parameters": {},
   "start_time": "2021-12-16T08:44:04.680396",
   "version": "2.3.3"
  }
 },
 "nbformat": 4,
 "nbformat_minor": 5
}
