{
 "cells": [
  {
   "cell_type": "code",
   "execution_count": 1,
   "id": "49cd2afa",
   "metadata": {
    "_cell_guid": "b1076dfc-b9ad-4769-8c92-a6c4dae69d19",
    "_uuid": "8f2839f25d086af736a60e9eeb907d3b93b6e0e5",
    "execution": {
     "iopub.execute_input": "2021-12-16T12:46:20.509636Z",
     "iopub.status.busy": "2021-12-16T12:46:20.508166Z",
     "iopub.status.idle": "2021-12-16T12:46:20.536744Z",
     "shell.execute_reply": "2021-12-16T12:46:20.537174Z",
     "shell.execute_reply.started": "2021-12-15T09:47:04.551436Z"
    },
    "papermill": {
     "duration": 0.062038,
     "end_time": "2021-12-16T12:46:20.537409",
     "exception": false,
     "start_time": "2021-12-16T12:46:20.475371",
     "status": "completed"
    },
    "tags": []
   },
   "outputs": [
    {
     "name": "stdout",
     "output_type": "stream",
     "text": [
      "/kaggle/input/amazonreviews/test.ft.txt.bz2\n",
      "/kaggle/input/amazonreviews/train.ft.txt.bz2\n"
     ]
    }
   ],
   "source": [
    "# This Python 3 environment comes with many helpful analytics libraries installed\n",
    "# It is defined by the kaggle/python Docker image: https://github.com/kaggle/docker-python\n",
    "# For example, here's several helpful packages to load\n",
    "\n",
    "import numpy as np # linear algebra\n",
    "import pandas as pd # data processing, CSV file I/O (e.g. pd.read_csv)\n",
    "\n",
    "# Input data files are available in the read-only \"../input/\" directory\n",
    "# For example, running this (by clicking run or pressing Shift+Enter) will list all files under the input directory\n",
    "\n",
    "import os\n",
    "for dirname, _, filenames in os.walk('/kaggle/input'):\n",
    "    for filename in filenames:\n",
    "        print(os.path.join(dirname, filename))\n",
    "\n",
    "# You can write up to 20GB to the current directory (/kaggle/working/) that gets preserved as output when you create a version using \"Save & Run All\" \n",
    "# You can also write temporary files to /kaggle/temp/, but they won't be saved outside of the current session"
   ]
  },
  {
   "cell_type": "code",
   "execution_count": 2,
   "id": "3fc6ac73",
   "metadata": {
    "execution": {
     "iopub.execute_input": "2021-12-16T12:46:20.574567Z",
     "iopub.status.busy": "2021-12-16T12:46:20.573760Z",
     "iopub.status.idle": "2021-12-16T12:46:26.151280Z",
     "shell.execute_reply": "2021-12-16T12:46:26.150261Z",
     "shell.execute_reply.started": "2021-12-15T09:47:04.602525Z"
    },
    "papermill": {
     "duration": 5.595951,
     "end_time": "2021-12-16T12:46:26.151434",
     "exception": false,
     "start_time": "2021-12-16T12:46:20.555483",
     "status": "completed"
    },
    "tags": []
   },
   "outputs": [],
   "source": [
    "import pandas as pd\n",
    "import numpy as np\n",
    "import bz2\n",
    "import matplotlib.pyplot as plt\n",
    "import sklearn\n",
    "import tensorflow as tf\n",
    "from tensorflow.keras import models, layers, optimizers\n",
    "from tensorflow.keras.preprocessing.text import Tokenizer, text_to_word_sequence\n",
    "from tensorflow.keras.preprocessing.sequence import pad_sequences\n",
    "\n",
    "%matplotlib inline"
   ]
  },
  {
   "cell_type": "code",
   "execution_count": 3,
   "id": "e6d4f445",
   "metadata": {
    "execution": {
     "iopub.execute_input": "2021-12-16T12:46:26.189750Z",
     "iopub.status.busy": "2021-12-16T12:46:26.189051Z",
     "iopub.status.idle": "2021-12-16T12:46:26.191797Z",
     "shell.execute_reply": "2021-12-16T12:46:26.191379Z",
     "shell.execute_reply.started": "2021-12-15T09:47:11.616003Z"
    },
    "papermill": {
     "duration": 0.022722,
     "end_time": "2021-12-16T12:46:26.191905",
     "exception": false,
     "start_time": "2021-12-16T12:46:26.169183",
     "status": "completed"
    },
    "tags": []
   },
   "outputs": [],
   "source": [
    "device = \"cuda:0\""
   ]
  },
  {
   "cell_type": "code",
   "execution_count": 4,
   "id": "e1a17d9c",
   "metadata": {
    "execution": {
     "iopub.execute_input": "2021-12-16T12:46:26.230214Z",
     "iopub.status.busy": "2021-12-16T12:46:26.229525Z",
     "iopub.status.idle": "2021-12-16T12:46:26.231996Z",
     "shell.execute_reply": "2021-12-16T12:46:26.231594Z",
     "shell.execute_reply.started": "2021-12-15T09:47:11.628463Z"
    },
    "papermill": {
     "duration": 0.023495,
     "end_time": "2021-12-16T12:46:26.232133",
     "exception": false,
     "start_time": "2021-12-16T12:46:26.208638",
     "status": "completed"
    },
    "tags": []
   },
   "outputs": [],
   "source": [
    "def labels_texts(file):\n",
    "    labels = []\n",
    "    texts = []\n",
    "    for line in bz2.BZ2File(file):\n",
    "        x = line.decode(\"utf-8\")\n",
    "        labels.append(int(x[9]) - 1)\n",
    "        texts.append(x[10:].strip())\n",
    "    return np.array(labels), texts\n",
    "\n"
   ]
  },
  {
   "cell_type": "code",
   "execution_count": 5,
   "id": "ef69fc5c",
   "metadata": {
    "execution": {
     "iopub.execute_input": "2021-12-16T12:46:26.267302Z",
     "iopub.status.busy": "2021-12-16T12:46:26.266719Z",
     "iopub.status.idle": "2021-12-16T12:48:26.430567Z",
     "shell.execute_reply": "2021-12-16T12:48:26.429549Z",
     "shell.execute_reply.started": "2021-12-15T09:47:11.649092Z"
    },
    "papermill": {
     "duration": 120.182859,
     "end_time": "2021-12-16T12:48:26.430746",
     "exception": false,
     "start_time": "2021-12-16T12:46:26.247887",
     "status": "completed"
    },
    "tags": []
   },
   "outputs": [],
   "source": [
    "train_label, train_text = labels_texts('../input/amazonreviews/train.ft.txt.bz2')\n",
    "test_label, test_text = labels_texts('../input/amazonreviews/test.ft.txt.bz2')"
   ]
  },
  {
   "cell_type": "code",
   "execution_count": 6,
   "id": "3259993c",
   "metadata": {
    "execution": {
     "iopub.execute_input": "2021-12-16T12:48:26.467862Z",
     "iopub.status.busy": "2021-12-16T12:48:26.467285Z",
     "iopub.status.idle": "2021-12-16T12:48:26.469927Z",
     "shell.execute_reply": "2021-12-16T12:48:26.470377Z",
     "shell.execute_reply.started": "2021-12-15T09:49:33.606373Z"
    },
    "papermill": {
     "duration": 0.023349,
     "end_time": "2021-12-16T12:48:26.470503",
     "exception": false,
     "start_time": "2021-12-16T12:48:26.447154",
     "status": "completed"
    },
    "tags": []
   },
   "outputs": [
    {
     "name": "stdout",
     "output_type": "stream",
     "text": [
      "1\n",
      "Stuning even for the non-gamer: This sound track was beautiful! It paints the senery in your mind so well I would recomend it even to people who hate vid. game music! I have played the game Chrono Cross but out of all of the games I have ever played it has the best music! It backs away from crude keyboarding and takes a fresher step with grate guitars and soulful orchestras. It would impress anyone who cares to listen! ^_^\n"
     ]
    }
   ],
   "source": [
    "print(train_label[0])\n",
    "print(train_text[0])"
   ]
  },
  {
   "cell_type": "code",
   "execution_count": 7,
   "id": "7559cd40",
   "metadata": {
    "execution": {
     "iopub.execute_input": "2021-12-16T12:48:26.509745Z",
     "iopub.status.busy": "2021-12-16T12:48:26.508899Z",
     "iopub.status.idle": "2021-12-16T12:48:26.511025Z",
     "shell.execute_reply": "2021-12-16T12:48:26.511453Z",
     "shell.execute_reply.started": "2021-12-15T09:49:33.618974Z"
    },
    "papermill": {
     "duration": 0.024315,
     "end_time": "2021-12-16T12:48:26.511579",
     "exception": false,
     "start_time": "2021-12-16T12:48:26.487264",
     "status": "completed"
    },
    "tags": []
   },
   "outputs": [],
   "source": [
    "import re\n",
    "not_numChar = re.compile(r'[\\W]')\n",
    "no_encode = re.compile(r'[^a-z0-1\\s]')\n",
    "def normalisation(texts):\n",
    "    norm_text = []\n",
    "    for word in texts:\n",
    "        lower = word.lower()\n",
    "        not_punct = not_numChar.sub(r' ', lower)\n",
    "        exclude_no_encode = no_encode.sub(r'', not_punct)\n",
    "        norm_text.append(exclude_no_encode)\n",
    "    return norm_text"
   ]
  },
  {
   "cell_type": "code",
   "execution_count": 8,
   "id": "14d745f9",
   "metadata": {
    "execution": {
     "iopub.execute_input": "2021-12-16T12:48:26.592214Z",
     "iopub.status.busy": "2021-12-16T12:48:26.576660Z",
     "iopub.status.idle": "2021-12-16T12:51:25.944171Z",
     "shell.execute_reply": "2021-12-16T12:51:25.944619Z",
     "shell.execute_reply.started": "2021-12-15T09:49:33.631996Z"
    },
    "papermill": {
     "duration": 179.417496,
     "end_time": "2021-12-16T12:51:25.944796",
     "exception": false,
     "start_time": "2021-12-16T12:48:26.527300",
     "status": "completed"
    },
    "tags": []
   },
   "outputs": [],
   "source": [
    "train_text = normalisation(train_text)\n",
    "test_text = normalisation(test_text)"
   ]
  },
  {
   "cell_type": "code",
   "execution_count": 9,
   "id": "338e22b0",
   "metadata": {
    "execution": {
     "iopub.execute_input": "2021-12-16T12:51:25.985261Z",
     "iopub.status.busy": "2021-12-16T12:51:25.984657Z",
     "iopub.status.idle": "2021-12-16T12:51:25.987207Z",
     "shell.execute_reply": "2021-12-16T12:51:25.987808Z",
     "shell.execute_reply.started": "2021-12-15T09:52:56.562418Z"
    },
    "papermill": {
     "duration": 0.024068,
     "end_time": "2021-12-16T12:51:25.987966",
     "exception": false,
     "start_time": "2021-12-16T12:51:25.963898",
     "status": "completed"
    },
    "tags": []
   },
   "outputs": [
    {
     "name": "stdout",
     "output_type": "stream",
     "text": [
      "stuning even for the non gamer  this sound track was beautiful  it paints the senery in your mind so well i would recomend it even to people who hate vid  game music  i have played the game chrono cross but out of all of the games i have ever played it has the best music  it backs away from crude keyboarding and takes a fresher step with grate guitars and soulful orchestras  it would impress anyone who cares to listen    \n"
     ]
    }
   ],
   "source": [
    "print(train_text[0])"
   ]
  },
  {
   "cell_type": "code",
   "execution_count": 10,
   "id": "e153fdab",
   "metadata": {
    "execution": {
     "iopub.execute_input": "2021-12-16T12:51:26.028723Z",
     "iopub.status.busy": "2021-12-16T12:51:26.027436Z",
     "iopub.status.idle": "2021-12-16T12:51:26.032056Z",
     "shell.execute_reply": "2021-12-16T12:51:26.031632Z",
     "shell.execute_reply.started": "2021-12-15T09:52:56.574224Z"
    },
    "papermill": {
     "duration": 0.028154,
     "end_time": "2021-12-16T12:51:26.032173",
     "exception": false,
     "start_time": "2021-12-16T12:51:26.004019",
     "status": "completed"
    },
    "tags": []
   },
   "outputs": [],
   "source": [
    "y_train = np.array(train_label)\n",
    "y_test = np.array(test_label)"
   ]
  },
  {
   "cell_type": "code",
   "execution_count": 11,
   "id": "e1f872c1",
   "metadata": {
    "execution": {
     "iopub.execute_input": "2021-12-16T12:51:26.070751Z",
     "iopub.status.busy": "2021-12-16T12:51:26.070101Z",
     "iopub.status.idle": "2021-12-16T12:51:26.073144Z",
     "shell.execute_reply": "2021-12-16T12:51:26.073535Z",
     "shell.execute_reply.started": "2021-12-15T09:52:56.598686Z"
    },
    "papermill": {
     "duration": 0.025457,
     "end_time": "2021-12-16T12:51:26.073655",
     "exception": false,
     "start_time": "2021-12-16T12:51:26.048198",
     "status": "completed"
    },
    "tags": []
   },
   "outputs": [
    {
     "data": {
      "text/plain": [
       "(400000,)"
      ]
     },
     "execution_count": 11,
     "metadata": {},
     "output_type": "execute_result"
    }
   ],
   "source": [
    "y_test.shape"
   ]
  },
  {
   "cell_type": "code",
   "execution_count": 12,
   "id": "5ab8c93c",
   "metadata": {
    "execution": {
     "iopub.execute_input": "2021-12-16T12:51:26.154249Z",
     "iopub.status.busy": "2021-12-16T12:51:26.138855Z",
     "iopub.status.idle": "2021-12-16T12:55:23.555174Z",
     "shell.execute_reply": "2021-12-16T12:55:23.555599Z",
     "shell.execute_reply.started": "2021-12-15T09:52:56.818906Z"
    },
    "papermill": {
     "duration": 237.465795,
     "end_time": "2021-12-16T12:55:23.555750",
     "exception": false,
     "start_time": "2021-12-16T12:51:26.089955",
     "status": "completed"
    },
    "tags": []
   },
   "outputs": [
    {
     "name": "stdout",
     "output_type": "stream",
     "text": [
      "Vocabulary Size : 905946\n"
     ]
    }
   ],
   "source": [
    "max_features = 8192\n",
    "maxlen = 128\n",
    "\n",
    "tokenizer = Tokenizer(num_words=max_features)\n",
    "tokenizer.fit_on_texts(train_text)\n",
    "\n",
    "word_index = tokenizer.word_index\n",
    "vocab_size = len(tokenizer.word_index) + 1\n",
    "print(\"Vocabulary Size :\", vocab_size)"
   ]
  },
  {
   "cell_type": "code",
   "execution_count": 13,
   "id": "4c4fda01",
   "metadata": {
    "execution": {
     "iopub.execute_input": "2021-12-16T12:55:23.593169Z",
     "iopub.status.busy": "2021-12-16T12:55:23.592641Z",
     "iopub.status.idle": "2021-12-16T12:55:24.467125Z",
     "shell.execute_reply": "2021-12-16T12:55:24.466250Z",
     "shell.execute_reply.started": "2021-12-15T09:58:13.726016Z"
    },
    "papermill": {
     "duration": 0.89477,
     "end_time": "2021-12-16T12:55:24.467262",
     "exception": false,
     "start_time": "2021-12-16T12:55:23.572492",
     "status": "completed"
    },
    "tags": []
   },
   "outputs": [],
   "source": [
    "import os \n",
    "with open('amazon_dictionary.txt', 'w') as file:\n",
    "    for key in word_index.keys():\n",
    "        file.write(key + \" \" + str(word_index[key]) + \",\")"
   ]
  },
  {
   "cell_type": "code",
   "execution_count": 14,
   "id": "0b2f3ec8",
   "metadata": {
    "execution": {
     "iopub.execute_input": "2021-12-16T12:55:24.514398Z",
     "iopub.status.busy": "2021-12-16T12:55:24.513641Z",
     "iopub.status.idle": "2021-12-16T12:58:55.736477Z",
     "shell.execute_reply": "2021-12-16T12:58:55.736933Z",
     "shell.execute_reply.started": "2021-12-15T09:58:14.779469Z"
    },
    "papermill": {
     "duration": 211.253104,
     "end_time": "2021-12-16T12:58:55.737168",
     "exception": false,
     "start_time": "2021-12-16T12:55:24.484064",
     "status": "completed"
    },
    "tags": []
   },
   "outputs": [],
   "source": [
    "training_token = tokenizer.texts_to_sequences(train_text)\n",
    "testing_token = tokenizer.texts_to_sequences(test_text)"
   ]
  },
  {
   "cell_type": "code",
   "execution_count": 15,
   "id": "6df033b0",
   "metadata": {
    "execution": {
     "iopub.execute_input": "2021-12-16T12:58:55.821020Z",
     "iopub.status.busy": "2021-12-16T12:58:55.810778Z",
     "iopub.status.idle": "2021-12-16T13:00:10.726566Z",
     "shell.execute_reply": "2021-12-16T13:00:10.726055Z",
     "shell.execute_reply.started": "2021-12-15T10:02:34.793198Z"
    },
    "papermill": {
     "duration": 74.971539,
     "end_time": "2021-12-16T13:00:10.726703",
     "exception": false,
     "start_time": "2021-12-16T12:58:55.755164",
     "status": "completed"
    },
    "tags": []
   },
   "outputs": [],
   "source": [
    "x_train = pad_sequences(training_token, maxlen = maxlen, padding = 'post')\n",
    "x_test = pad_sequences(testing_token, maxlen = maxlen, padding = 'post')"
   ]
  },
  {
   "cell_type": "code",
   "execution_count": 16,
   "id": "b207d72c",
   "metadata": {
    "execution": {
     "iopub.execute_input": "2021-12-16T13:00:10.767068Z",
     "iopub.status.busy": "2021-12-16T13:00:10.766250Z",
     "iopub.status.idle": "2021-12-16T13:00:12.141079Z",
     "shell.execute_reply": "2021-12-16T13:00:12.140287Z",
     "shell.execute_reply.started": "2021-12-15T10:03:54.502031Z"
    },
    "papermill": {
     "duration": 1.395468,
     "end_time": "2021-12-16T13:00:12.141213",
     "exception": false,
     "start_time": "2021-12-16T13:00:10.745745",
     "status": "completed"
    },
    "tags": []
   },
   "outputs": [],
   "source": [
    "import torch\n",
    "from torch.utils.data import TensorDataset, DataLoader\n",
    "import torch.nn as nn\n",
    "BATCH_SIZE = 50\n",
    "\n",
    "train_data = TensorDataset(torch.from_numpy(x_train), torch.from_numpy(y_train))\n",
    "test_data = TensorDataset(torch.from_numpy(x_test), torch.from_numpy(y_test))\n",
    "\n",
    "train_loader = DataLoader(train_data, shuffle=True, batch_size=BATCH_SIZE, drop_last = True)\n",
    "test_loader = DataLoader(test_data, shuffle=True, batch_size=BATCH_SIZE, drop_last = True)"
   ]
  },
  {
   "cell_type": "code",
   "execution_count": 17,
   "id": "9da64169",
   "metadata": {
    "execution": {
     "iopub.execute_input": "2021-12-16T13:00:12.189340Z",
     "iopub.status.busy": "2021-12-16T13:00:12.188628Z",
     "iopub.status.idle": "2021-12-16T13:00:12.190796Z",
     "shell.execute_reply": "2021-12-16T13:00:12.191217Z",
     "shell.execute_reply.started": "2021-12-15T10:19:14.696233Z"
    },
    "papermill": {
     "duration": 0.032917,
     "end_time": "2021-12-16T13:00:12.191352",
     "exception": false,
     "start_time": "2021-12-16T13:00:12.158435",
     "status": "completed"
    },
    "tags": []
   },
   "outputs": [],
   "source": [
    "class PositionalEncoding(nn.Module):\n",
    "\n",
    "    def __init__(self, d_model, dropout=0.1, max_len=5000):\n",
    "        super(PositionalEncoding, self).__init__()\n",
    "        self.dropout = nn.Dropout(p=dropout)\n",
    "\n",
    "        pe = torch.zeros(max_len, d_model)\n",
    "        position = torch.arange(0, max_len, dtype=torch.float).unsqueeze(1)\n",
    "        div_term = torch.exp(torch.arange(0, d_model, 2).float() * (-math.log(10000.0) / d_model))\n",
    "        pe[:, 0::2] = torch.sin(position * div_term)\n",
    "        pe[:, 1::2] = torch.cos(position * div_term)\n",
    "        pe = pe.unsqueeze(0).transpose(0, 1)\n",
    "        self.register_buffer('pe', pe)\n",
    "\n",
    "    def forward(self, x):\n",
    "        x = x + self.pe[:x.size(0), :]\n",
    "        return self.dropout(x)\n",
    "    \n",
    "class SentimentNet(nn.Module):\n",
    "    def __init__(self, vocab_size, output_size, embedding_dim, hidden_dim, n_layers, drop_prob=0.2):\n",
    "        super(SentimentNet, self).__init__()\n",
    "        self.output_size = output_size\n",
    "        self.n_layers = n_layers\n",
    "        self.hidden_dim = hidden_dim\n",
    "        self.dropout = nn.Dropout(drop_prob)\n",
    "        self.embedding_dim = embedding_dim\n",
    "        self.sigmoid = nn.Sigmoid()\n",
    "        \n",
    "        \n",
    "        self.encoder = nn.Embedding(vocab_size, embedding_dim)\n",
    "        self.pos_encoder = PositionalEncoding(embedding_dim, drop_prob)\n",
    "        encoder_layer = nn.TransformerEncoderLayer(embedding_dim, 2, hidden_dim)\n",
    "        self.transformer_encoder = nn.TransformerEncoder(encoder_layer, num_layers=n_layers)\n",
    "        \n",
    "        \n",
    "        self.fc = nn.Linear(embedding_dim * 128 , 1)\n",
    "\n",
    "    \n",
    "    def forward(self, src):\n",
    "        src = self.encoder(src) * math.sqrt(self.embedding_dim)\n",
    "        src = self.pos_encoder(src)\n",
    "        output = self.transformer_encoder(src)\n",
    "        output = output.view(output.size(0), -1)\n",
    "        \n",
    "        output = self.sigmoid(self.fc(output))\n",
    "        return output"
   ]
  },
  {
   "cell_type": "code",
   "execution_count": 18,
   "id": "db3ced4d",
   "metadata": {
    "execution": {
     "iopub.execute_input": "2021-12-16T13:00:12.229334Z",
     "iopub.status.busy": "2021-12-16T13:00:12.228654Z",
     "iopub.status.idle": "2021-12-16T13:00:12.230684Z",
     "shell.execute_reply": "2021-12-16T13:00:12.231084Z",
     "shell.execute_reply.started": "2021-12-15T10:04:00.284359Z"
    },
    "papermill": {
     "duration": 0.023048,
     "end_time": "2021-12-16T13:00:12.231212",
     "exception": false,
     "start_time": "2021-12-16T13:00:12.208164",
     "status": "completed"
    },
    "tags": []
   },
   "outputs": [],
   "source": [
    "def model_params(model):\n",
    "    pp=0\n",
    "    for p in list(model.parameters()):\n",
    "        nn=1\n",
    "        for s in list(p.size()):\n",
    "            nn = nn*s\n",
    "        pp += nn\n",
    "    return pp"
   ]
  },
  {
   "cell_type": "code",
   "execution_count": 19,
   "id": "c8b8c16c",
   "metadata": {
    "execution": {
     "iopub.execute_input": "2021-12-16T13:00:12.271300Z",
     "iopub.status.busy": "2021-12-16T13:00:12.270472Z",
     "iopub.status.idle": "2021-12-16T13:00:16.856436Z",
     "shell.execute_reply": "2021-12-16T13:00:16.855908Z",
     "shell.execute_reply.started": "2021-12-15T10:19:04.882323Z"
    },
    "papermill": {
     "duration": 4.608751,
     "end_time": "2021-12-16T13:00:16.856586",
     "exception": false,
     "start_time": "2021-12-16T13:00:12.247835",
     "status": "completed"
    },
    "tags": []
   },
   "outputs": [
    {
     "name": "stdout",
     "output_type": "stream",
     "text": [
      "9062057\n"
     ]
    }
   ],
   "source": [
    "import math\n",
    "\n",
    "output_size = 1\n",
    "embedding_dim = 10\n",
    "hidden_dim = 8\n",
    "n_layers = 2\n",
    "\n",
    "model = SentimentNet(vocab_size, output_size, embedding_dim, hidden_dim, n_layers)\n",
    "model.to(device)\n",
    "print(model_params(model))\n",
    "lr=0.01\n",
    "criterion = nn.BCELoss()\n",
    "optimizer = torch.optim.Adam(model.parameters(), lr=lr)"
   ]
  },
  {
   "cell_type": "code",
   "execution_count": 20,
   "id": "613c25a1",
   "metadata": {
    "execution": {
     "iopub.execute_input": "2021-12-16T13:00:16.902133Z",
     "iopub.status.busy": "2021-12-16T13:00:16.901420Z",
     "iopub.status.idle": "2021-12-16T14:41:32.607216Z",
     "shell.execute_reply": "2021-12-16T14:41:32.607648Z",
     "shell.execute_reply.started": "2021-12-15T10:19:07.623429Z"
    },
    "papermill": {
     "duration": 6075.733926,
     "end_time": "2021-12-16T14:41:32.607799",
     "exception": false,
     "start_time": "2021-12-16T13:00:16.873873",
     "status": "completed"
    },
    "tags": []
   },
   "outputs": [
    {
     "name": "stdout",
     "output_type": "stream",
     "text": [
      "Epoch: 1/2... Step: 500... Loss: 0.551365... Val Loss: 0.555548\n",
      "Validation loss decreased (inf --> 0.555548).  Saving model ...\n",
      "Epoch: 1/2... Step: 1000... Loss: 0.552033... Val Loss: 0.422809\n",
      "Validation loss decreased (0.555548 --> 0.422809).  Saving model ...\n",
      "Epoch: 1/2... Step: 1500... Loss: 0.392179... Val Loss: 0.341678\n",
      "Validation loss decreased (0.422809 --> 0.341678).  Saving model ...\n",
      "Epoch: 1/2... Step: 2000... Loss: 0.382862... Val Loss: 0.350729\n",
      "Epoch: 1/2... Step: 2500... Loss: 0.419948... Val Loss: 0.299292\n",
      "Validation loss decreased (0.341678 --> 0.299292).  Saving model ...\n",
      "Epoch: 1/2... Step: 3000... Loss: 0.344212... Val Loss: 0.315432\n",
      "Epoch: 1/2... Step: 3500... Loss: 0.233388... Val Loss: 0.307586\n",
      "Epoch: 1/2... Step: 4000... Loss: 0.364252... Val Loss: 0.282020\n",
      "Validation loss decreased (0.299292 --> 0.282020).  Saving model ...\n",
      "Epoch: 1/2... Step: 4500... Loss: 0.195500... Val Loss: 0.275510\n",
      "Validation loss decreased (0.282020 --> 0.275510).  Saving model ...\n",
      "Epoch: 1/2... Step: 5000... Loss: 0.218633... Val Loss: 0.277887\n",
      "Epoch: 1/2... Step: 5500... Loss: 0.273085... Val Loss: 0.272122\n",
      "Validation loss decreased (0.275510 --> 0.272122).  Saving model ...\n",
      "Epoch: 1/2... Step: 6000... Loss: 0.328133... Val Loss: 0.269633\n",
      "Validation loss decreased (0.272122 --> 0.269633).  Saving model ...\n",
      "Epoch: 1/2... Step: 6500... Loss: 0.305712... Val Loss: 0.270434\n",
      "Epoch: 1/2... Step: 7000... Loss: 0.244226... Val Loss: 0.267972\n",
      "Validation loss decreased (0.269633 --> 0.267972).  Saving model ...\n",
      "Epoch: 1/2... Step: 7500... Loss: 0.442652... Val Loss: 0.273958\n",
      "Epoch: 1/2... Step: 8000... Loss: 0.350063... Val Loss: 0.263194\n",
      "Validation loss decreased (0.267972 --> 0.263194).  Saving model ...\n",
      "Epoch: 1/2... Step: 8500... Loss: 0.247331... Val Loss: 0.286147\n",
      "Epoch: 1/2... Step: 9000... Loss: 0.271748... Val Loss: 0.273967\n",
      "Epoch: 1/2... Step: 9500... Loss: 0.334220... Val Loss: 0.305680\n",
      "Epoch: 1/2... Step: 10000... Loss: 0.145138... Val Loss: 0.274755\n",
      "Epoch: 1/2... Step: 10500... Loss: 0.371418... Val Loss: 0.264708\n",
      "Epoch: 1/2... Step: 11000... Loss: 0.176917... Val Loss: 0.272220\n",
      "Epoch: 1/2... Step: 11500... Loss: 0.378297... Val Loss: 0.259796\n",
      "Validation loss decreased (0.263194 --> 0.259796).  Saving model ...\n",
      "Epoch: 1/2... Step: 12000... Loss: 0.203252... Val Loss: 0.265838\n",
      "Epoch: 1/2... Step: 12500... Loss: 0.248646... Val Loss: 0.293995\n",
      "Epoch: 1/2... Step: 13000... Loss: 0.247532... Val Loss: 0.259301\n",
      "Validation loss decreased (0.259796 --> 0.259301).  Saving model ...\n",
      "Epoch: 1/2... Step: 13500... Loss: 0.365441... Val Loss: 0.295615\n",
      "Epoch: 1/2... Step: 14000... Loss: 0.314625... Val Loss: 0.261960\n",
      "Epoch: 1/2... Step: 14500... Loss: 0.307978... Val Loss: 0.266413\n",
      "Epoch: 1/2... Step: 15000... Loss: 0.392461... Val Loss: 0.271780\n",
      "Epoch: 1/2... Step: 15500... Loss: 0.302979... Val Loss: 0.290294\n",
      "Epoch: 1/2... Step: 16000... Loss: 0.489622... Val Loss: 0.302773\n",
      "Epoch: 1/2... Step: 16500... Loss: 0.235107... Val Loss: 0.272757\n",
      "Epoch: 1/2... Step: 17000... Loss: 0.344506... Val Loss: 0.267887\n",
      "Epoch: 1/2... Step: 17500... Loss: 0.205019... Val Loss: 0.265055\n",
      "Epoch: 1/2... Step: 18000... Loss: 0.223131... Val Loss: 0.266133\n",
      "Epoch: 1/2... Step: 18500... Loss: 0.324839... Val Loss: 0.263397\n",
      "Epoch: 1/2... Step: 19000... Loss: 0.407095... Val Loss: 0.265408\n",
      "Epoch: 1/2... Step: 19500... Loss: 0.446177... Val Loss: 0.305553\n",
      "Epoch: 1/2... Step: 20000... Loss: 0.300660... Val Loss: 0.309045\n",
      "Epoch: 1/2... Step: 20500... Loss: 0.245315... Val Loss: 0.273133\n",
      "Epoch: 1/2... Step: 21000... Loss: 0.297086... Val Loss: 0.346752\n",
      "Epoch: 1/2... Step: 21500... Loss: 0.247219... Val Loss: 0.295287\n",
      "Epoch: 1/2... Step: 22000... Loss: 0.262238... Val Loss: 0.278522\n",
      "Epoch: 1/2... Step: 22500... Loss: 0.317799... Val Loss: 0.289020\n",
      "Epoch: 1/2... Step: 23000... Loss: 0.663398... Val Loss: 0.299654\n",
      "Epoch: 1/2... Step: 23500... Loss: 0.273066... Val Loss: 0.293422\n",
      "Epoch: 1/2... Step: 24000... Loss: 0.207823... Val Loss: 0.264239\n",
      "Epoch: 1/2... Step: 24500... Loss: 0.160212... Val Loss: 0.319188\n",
      "Epoch: 1/2... Step: 25000... Loss: 0.172258... Val Loss: 0.261834\n",
      "Epoch: 1/2... Step: 25500... Loss: 0.359967... Val Loss: 0.281919\n",
      "Epoch: 1/2... Step: 26000... Loss: 0.279572... Val Loss: 0.259510\n",
      "Epoch: 1/2... Step: 26500... Loss: 0.285314... Val Loss: 0.286375\n",
      "Epoch: 1/2... Step: 27000... Loss: 0.154544... Val Loss: 0.258755\n",
      "Validation loss decreased (0.259301 --> 0.258755).  Saving model ...\n",
      "Epoch: 1/2... Step: 27500... Loss: 0.158228... Val Loss: 0.269233\n",
      "Epoch: 1/2... Step: 28000... Loss: 0.112157... Val Loss: 0.260749\n",
      "Epoch: 1/2... Step: 28500... Loss: 0.204835... Val Loss: 0.304624\n",
      "Epoch: 1/2... Step: 29000... Loss: 0.301607... Val Loss: 0.264874\n",
      "Epoch: 1/2... Step: 29500... Loss: 0.328810... Val Loss: 0.282258\n",
      "Epoch: 1/2... Step: 30000... Loss: 0.270733... Val Loss: 0.262373\n",
      "Epoch: 1/2... Step: 30500... Loss: 0.386642... Val Loss: 0.259901\n",
      "Epoch: 1/2... Step: 31000... Loss: 0.233647... Val Loss: 0.272740\n",
      "Epoch: 1/2... Step: 31500... Loss: 0.385529... Val Loss: 0.263296\n",
      "Epoch: 1/2... Step: 32000... Loss: 0.433273... Val Loss: 0.279786\n",
      "Epoch: 1/2... Step: 32500... Loss: 0.752250... Val Loss: 0.399001\n",
      "Epoch: 1/2... Step: 33000... Loss: 0.256423... Val Loss: 0.253727\n",
      "Validation loss decreased (0.258755 --> 0.253727).  Saving model ...\n",
      "Epoch: 1/2... Step: 33500... Loss: 0.269140... Val Loss: 0.277770\n",
      "Epoch: 1/2... Step: 34000... Loss: 0.265402... Val Loss: 0.293715\n",
      "Epoch: 1/2... Step: 34500... Loss: 0.323350... Val Loss: 0.295992\n",
      "Epoch: 1/2... Step: 35000... Loss: 0.387679... Val Loss: 0.356344\n",
      "Epoch: 1/2... Step: 35500... Loss: 0.282432... Val Loss: 0.339485\n",
      "Epoch: 1/2... Step: 36000... Loss: 0.241070... Val Loss: 0.268870\n",
      "Epoch: 1/2... Step: 36500... Loss: 0.301774... Val Loss: 0.258731\n",
      "Epoch: 1/2... Step: 37000... Loss: 0.398588... Val Loss: 0.257500\n",
      "Epoch: 1/2... Step: 37500... Loss: 0.230649... Val Loss: 0.281782\n",
      "Epoch: 1/2... Step: 38000... Loss: 0.207462... Val Loss: 0.280239\n",
      "Epoch: 1/2... Step: 38500... Loss: 0.316173... Val Loss: 0.283796\n",
      "Epoch: 1/2... Step: 39000... Loss: 0.342970... Val Loss: 0.275875\n",
      "Epoch: 1/2... Step: 39500... Loss: 0.448217... Val Loss: 0.297062\n",
      "Epoch: 1/2... Step: 40000... Loss: 0.441707... Val Loss: 0.271123\n",
      "Epoch: 1/2... Step: 40500... Loss: 0.226426... Val Loss: 0.265676\n",
      "Epoch: 1/2... Step: 41000... Loss: 0.338285... Val Loss: 0.294313\n",
      "Epoch: 1/2... Step: 41500... Loss: 0.468618... Val Loss: 0.294570\n",
      "Epoch: 1/2... Step: 42000... Loss: 0.567798... Val Loss: 0.311989\n",
      "Epoch: 1/2... Step: 42500... Loss: 0.369309... Val Loss: 0.278441\n",
      "Epoch: 1/2... Step: 43000... Loss: 0.219763... Val Loss: 0.287737\n",
      "Epoch: 1/2... Step: 43500... Loss: 0.342937... Val Loss: 0.275784\n",
      "Epoch: 1/2... Step: 44000... Loss: 0.293341... Val Loss: 0.272057\n",
      "Epoch: 1/2... Step: 44500... Loss: 0.222674... Val Loss: 0.267447\n",
      "Epoch: 1/2... Step: 45000... Loss: 0.343458... Val Loss: 0.263383\n",
      "Epoch: 1/2... Step: 45500... Loss: 0.276067... Val Loss: 0.278406\n",
      "Epoch: 1/2... Step: 46000... Loss: 0.306278... Val Loss: 0.273019\n",
      "Epoch: 1/2... Step: 46500... Loss: 0.171397... Val Loss: 0.263116\n",
      "Epoch: 1/2... Step: 47000... Loss: 0.345590... Val Loss: 0.287049\n",
      "Epoch: 1/2... Step: 47500... Loss: 0.229548... Val Loss: 0.276222\n",
      "Epoch: 1/2... Step: 48000... Loss: 0.189994... Val Loss: 0.278008\n",
      "Epoch: 1/2... Step: 48500... Loss: 0.253549... Val Loss: 0.267289\n",
      "Epoch: 1/2... Step: 49000... Loss: 0.384491... Val Loss: 0.334757\n",
      "Epoch: 1/2... Step: 49500... Loss: 0.280068... Val Loss: 0.278097\n",
      "Epoch: 1/2... Step: 50000... Loss: 0.201628... Val Loss: 0.282192\n",
      "Epoch: 1/2... Step: 50500... Loss: 0.242447... Val Loss: 0.281800\n",
      "Epoch: 1/2... Step: 51000... Loss: 0.296705... Val Loss: 0.368219\n",
      "Epoch: 1/2... Step: 51500... Loss: 0.303885... Val Loss: 0.304521\n",
      "Epoch: 1/2... Step: 52000... Loss: 0.245647... Val Loss: 0.277914\n",
      "Epoch: 1/2... Step: 52500... Loss: 0.302118... Val Loss: 0.278129\n",
      "Epoch: 1/2... Step: 53000... Loss: 0.186229... Val Loss: 0.279691\n",
      "Epoch: 1/2... Step: 53500... Loss: 0.211940... Val Loss: 0.290697\n",
      "Epoch: 1/2... Step: 54000... Loss: 0.434923... Val Loss: 0.295247\n",
      "Epoch: 1/2... Step: 54500... Loss: 0.404360... Val Loss: 0.275120\n",
      "Epoch: 1/2... Step: 55000... Loss: 0.411236... Val Loss: 0.304428\n",
      "Epoch: 1/2... Step: 55500... Loss: 0.310791... Val Loss: 0.275236\n",
      "Epoch: 1/2... Step: 56000... Loss: 0.194744... Val Loss: 0.298759\n",
      "Epoch: 1/2... Step: 56500... Loss: 0.236526... Val Loss: 0.273048\n",
      "Epoch: 1/2... Step: 57000... Loss: 0.386745... Val Loss: 0.288238\n",
      "Epoch: 1/2... Step: 57500... Loss: 0.336230... Val Loss: 0.282423\n",
      "Epoch: 1/2... Step: 58000... Loss: 0.402040... Val Loss: 0.318642\n",
      "Epoch: 1/2... Step: 58500... Loss: 0.352792... Val Loss: 0.311830\n",
      "Epoch: 1/2... Step: 59000... Loss: 0.378870... Val Loss: 0.375303\n",
      "Epoch: 1/2... Step: 59500... Loss: 0.429405... Val Loss: 0.284069\n",
      "Epoch: 1/2... Step: 60000... Loss: 0.345252... Val Loss: 0.284494\n",
      "Epoch: 1/2... Step: 60500... Loss: 0.322414... Val Loss: 0.282570\n",
      "Epoch: 1/2... Step: 61000... Loss: 0.376535... Val Loss: 0.349626\n",
      "Epoch: 1/2... Step: 61500... Loss: 0.252768... Val Loss: 0.277064\n",
      "Epoch: 1/2... Step: 62000... Loss: 0.352121... Val Loss: 0.268841\n",
      "Epoch: 1/2... Step: 62500... Loss: 0.244986... Val Loss: 0.281049\n",
      "Epoch: 1/2... Step: 63000... Loss: 0.243972... Val Loss: 0.298134\n",
      "Epoch: 1/2... Step: 63500... Loss: 0.304123... Val Loss: 0.267479\n",
      "Epoch: 1/2... Step: 64000... Loss: 0.283314... Val Loss: 0.302478\n",
      "Epoch: 1/2... Step: 64500... Loss: 0.293123... Val Loss: 0.270196\n",
      "Epoch: 1/2... Step: 65000... Loss: 0.266519... Val Loss: 0.273010\n",
      "Epoch: 1/2... Step: 65500... Loss: 0.363406... Val Loss: 0.262555\n",
      "Epoch: 1/2... Step: 66000... Loss: 0.259004... Val Loss: 0.260517\n",
      "Epoch: 1/2... Step: 66500... Loss: 0.422735... Val Loss: 0.288729\n",
      "Epoch: 1/2... Step: 67000... Loss: 0.315722... Val Loss: 0.299872\n",
      "Epoch: 1/2... Step: 67500... Loss: 0.130442... Val Loss: 0.283493\n",
      "Epoch: 1/2... Step: 68000... Loss: 0.482003... Val Loss: 0.268018\n",
      "Epoch: 1/2... Step: 68500... Loss: 0.275704... Val Loss: 0.276077\n",
      "Epoch: 1/2... Step: 69000... Loss: 0.315793... Val Loss: 0.291838\n",
      "Epoch: 1/2... Step: 69500... Loss: 0.331678... Val Loss: 0.286155\n",
      "Epoch: 1/2... Step: 70000... Loss: 0.443721... Val Loss: 0.294442\n",
      "Epoch: 1/2... Step: 70500... Loss: 0.331069... Val Loss: 0.283789\n",
      "Epoch: 1/2... Step: 71000... Loss: 0.281610... Val Loss: 0.285549\n",
      "Epoch: 1/2... Step: 71500... Loss: 0.253940... Val Loss: 0.303886\n",
      "Epoch: 1/2... Step: 72000... Loss: 0.290428... Val Loss: 0.300475\n",
      "Epoch: 2/2... Step: 72500... Loss: 0.176443... Val Loss: 0.284412\n",
      "Epoch: 2/2... Step: 73000... Loss: 0.326648... Val Loss: 0.288323\n",
      "Epoch: 2/2... Step: 73500... Loss: 0.497702... Val Loss: 0.280736\n",
      "Epoch: 2/2... Step: 74000... Loss: 0.380945... Val Loss: 0.296351\n",
      "Epoch: 2/2... Step: 74500... Loss: 0.267452... Val Loss: 0.287785\n",
      "Epoch: 2/2... Step: 75000... Loss: 0.216950... Val Loss: 0.301168\n",
      "Epoch: 2/2... Step: 75500... Loss: 0.296180... Val Loss: 0.280092\n",
      "Epoch: 2/2... Step: 76000... Loss: 0.272526... Val Loss: 0.292314\n",
      "Epoch: 2/2... Step: 76500... Loss: 0.460312... Val Loss: 0.304196\n",
      "Epoch: 2/2... Step: 77000... Loss: 0.340770... Val Loss: 0.277887\n",
      "Epoch: 2/2... Step: 77500... Loss: 0.254322... Val Loss: 0.300577\n",
      "Epoch: 2/2... Step: 78000... Loss: 0.268751... Val Loss: 0.275576\n",
      "Epoch: 2/2... Step: 78500... Loss: 0.364097... Val Loss: 0.277496\n",
      "Epoch: 2/2... Step: 79000... Loss: 0.301854... Val Loss: 0.285337\n",
      "Epoch: 2/2... Step: 79500... Loss: 0.323217... Val Loss: 0.279514\n",
      "Epoch: 2/2... Step: 80000... Loss: 0.455315... Val Loss: 0.284485\n",
      "Epoch: 2/2... Step: 80500... Loss: 0.458551... Val Loss: 0.274985\n",
      "Epoch: 2/2... Step: 81000... Loss: 0.372016... Val Loss: 0.330661\n",
      "Epoch: 2/2... Step: 81500... Loss: 0.386071... Val Loss: 0.274013\n",
      "Epoch: 2/2... Step: 82000... Loss: 0.210619... Val Loss: 0.284847\n",
      "Epoch: 2/2... Step: 82500... Loss: 0.240793... Val Loss: 0.361496\n",
      "Epoch: 2/2... Step: 83000... Loss: 0.351884... Val Loss: 0.287086\n",
      "Epoch: 2/2... Step: 83500... Loss: 0.235974... Val Loss: 0.307809\n",
      "Epoch: 2/2... Step: 84000... Loss: 0.299294... Val Loss: 0.273080\n",
      "Epoch: 2/2... Step: 84500... Loss: 0.250726... Val Loss: 0.303001\n",
      "Epoch: 2/2... Step: 85000... Loss: 0.264707... Val Loss: 0.276688\n",
      "Epoch: 2/2... Step: 85500... Loss: 0.295186... Val Loss: 0.317317\n",
      "Epoch: 2/2... Step: 86000... Loss: 0.333460... Val Loss: 0.306154\n",
      "Epoch: 2/2... Step: 86500... Loss: 0.306164... Val Loss: 0.281944\n",
      "Epoch: 2/2... Step: 87000... Loss: 0.313942... Val Loss: 0.278996\n",
      "Epoch: 2/2... Step: 87500... Loss: 0.298784... Val Loss: 0.272958\n",
      "Epoch: 2/2... Step: 88000... Loss: 0.354183... Val Loss: 0.284673\n",
      "Epoch: 2/2... Step: 88500... Loss: 0.276062... Val Loss: 0.272468\n",
      "Epoch: 2/2... Step: 89000... Loss: 0.400011... Val Loss: 0.307642\n",
      "Epoch: 2/2... Step: 89500... Loss: 0.474685... Val Loss: 0.368693\n",
      "Epoch: 2/2... Step: 90000... Loss: 0.359964... Val Loss: 0.284261\n",
      "Epoch: 2/2... Step: 90500... Loss: 0.364248... Val Loss: 0.318110\n",
      "Epoch: 2/2... Step: 91000... Loss: 0.338517... Val Loss: 0.278772\n",
      "Epoch: 2/2... Step: 91500... Loss: 0.384957... Val Loss: 0.286516\n",
      "Epoch: 2/2... Step: 92000... Loss: 0.487163... Val Loss: 0.289915\n",
      "Epoch: 2/2... Step: 92500... Loss: 0.309538... Val Loss: 0.298442\n",
      "Epoch: 2/2... Step: 93000... Loss: 0.151378... Val Loss: 0.273564\n",
      "Epoch: 2/2... Step: 93500... Loss: 0.346816... Val Loss: 0.293214\n",
      "Epoch: 2/2... Step: 94000... Loss: 0.300029... Val Loss: 0.276449\n",
      "Epoch: 2/2... Step: 94500... Loss: 0.302050... Val Loss: 0.285839\n",
      "Epoch: 2/2... Step: 95000... Loss: 0.258258... Val Loss: 0.274108\n",
      "Epoch: 2/2... Step: 95500... Loss: 0.254982... Val Loss: 0.272892\n",
      "Epoch: 2/2... Step: 96000... Loss: 0.394028... Val Loss: 0.296569\n",
      "Epoch: 2/2... Step: 96500... Loss: 0.388641... Val Loss: 0.287327\n",
      "Epoch: 2/2... Step: 97000... Loss: 0.339537... Val Loss: 0.315352\n",
      "Epoch: 2/2... Step: 97500... Loss: 0.352538... Val Loss: 0.304803\n",
      "Epoch: 2/2... Step: 98000... Loss: 0.289834... Val Loss: 0.271830\n",
      "Epoch: 2/2... Step: 98500... Loss: 0.475668... Val Loss: 0.283260\n",
      "Epoch: 2/2... Step: 99000... Loss: 0.322242... Val Loss: 0.322854\n",
      "Epoch: 2/2... Step: 99500... Loss: 0.399671... Val Loss: 0.267241\n",
      "Epoch: 2/2... Step: 100000... Loss: 0.345560... Val Loss: 0.274417\n",
      "Epoch: 2/2... Step: 100500... Loss: 0.306985... Val Loss: 0.279129\n",
      "Epoch: 2/2... Step: 101000... Loss: 0.314167... Val Loss: 0.274610\n",
      "Epoch: 2/2... Step: 101500... Loss: 0.312709... Val Loss: 0.274088\n",
      "Epoch: 2/2... Step: 102000... Loss: 0.241982... Val Loss: 0.287423\n",
      "Epoch: 2/2... Step: 102500... Loss: 0.460237... Val Loss: 0.325625\n",
      "Epoch: 2/2... Step: 103000... Loss: 0.356437... Val Loss: 0.430835\n",
      "Epoch: 2/2... Step: 103500... Loss: 0.629881... Val Loss: 0.382751\n",
      "Epoch: 2/2... Step: 104000... Loss: 0.395109... Val Loss: 0.299547\n",
      "Epoch: 2/2... Step: 104500... Loss: 0.382557... Val Loss: 0.297444\n",
      "Epoch: 2/2... Step: 105000... Loss: 0.345469... Val Loss: 0.292244\n",
      "Epoch: 2/2... Step: 105500... Loss: 0.405612... Val Loss: 0.330597\n",
      "Epoch: 2/2... Step: 106000... Loss: 0.201277... Val Loss: 0.309359\n",
      "Epoch: 2/2... Step: 106500... Loss: 0.431263... Val Loss: 0.307465\n",
      "Epoch: 2/2... Step: 107000... Loss: 0.512470... Val Loss: 0.320368\n",
      "Epoch: 2/2... Step: 107500... Loss: 0.212620... Val Loss: 0.288475\n",
      "Epoch: 2/2... Step: 108000... Loss: 0.407355... Val Loss: 0.372980\n",
      "Epoch: 2/2... Step: 108500... Loss: 0.427359... Val Loss: 0.307227\n",
      "Epoch: 2/2... Step: 109000... Loss: 0.564838... Val Loss: 0.289017\n",
      "Epoch: 2/2... Step: 109500... Loss: 0.310369... Val Loss: 0.288020\n",
      "Epoch: 2/2... Step: 110000... Loss: 0.350943... Val Loss: 0.287904\n",
      "Epoch: 2/2... Step: 110500... Loss: 0.277101... Val Loss: 0.297815\n",
      "Epoch: 2/2... Step: 111000... Loss: 0.267669... Val Loss: 0.286301\n",
      "Epoch: 2/2... Step: 111500... Loss: 0.451888... Val Loss: 0.274142\n",
      "Epoch: 2/2... Step: 112000... Loss: 0.637001... Val Loss: 0.280788\n",
      "Epoch: 2/2... Step: 112500... Loss: 0.251521... Val Loss: 0.298615\n",
      "Epoch: 2/2... Step: 113000... Loss: 0.233504... Val Loss: 0.271000\n",
      "Epoch: 2/2... Step: 113500... Loss: 0.497572... Val Loss: 0.317633\n",
      "Epoch: 2/2... Step: 114000... Loss: 0.198563... Val Loss: 0.279993\n",
      "Epoch: 2/2... Step: 114500... Loss: 0.357295... Val Loss: 0.277993\n",
      "Epoch: 2/2... Step: 115000... Loss: 0.505547... Val Loss: 0.294404\n",
      "Epoch: 2/2... Step: 115500... Loss: 0.181347... Val Loss: 0.276885\n",
      "Epoch: 2/2... Step: 116000... Loss: 0.393667... Val Loss: 0.275294\n",
      "Epoch: 2/2... Step: 116500... Loss: 0.208486... Val Loss: 0.312845\n",
      "Epoch: 2/2... Step: 117000... Loss: 0.211389... Val Loss: 0.277793\n",
      "Epoch: 2/2... Step: 117500... Loss: 0.310917... Val Loss: 0.273746\n",
      "Epoch: 2/2... Step: 118000... Loss: 0.245288... Val Loss: 0.279774\n",
      "Epoch: 2/2... Step: 118500... Loss: 0.563324... Val Loss: 0.273604\n",
      "Epoch: 2/2... Step: 119000... Loss: 0.480609... Val Loss: 0.317438\n",
      "Epoch: 2/2... Step: 119500... Loss: 0.297203... Val Loss: 0.268929\n",
      "Epoch: 2/2... Step: 120000... Loss: 0.362170... Val Loss: 0.282830\n",
      "Epoch: 2/2... Step: 120500... Loss: 0.391088... Val Loss: 0.285642\n",
      "Epoch: 2/2... Step: 121000... Loss: 0.308982... Val Loss: 0.290129\n",
      "Epoch: 2/2... Step: 121500... Loss: 0.226299... Val Loss: 0.293620\n",
      "Epoch: 2/2... Step: 122000... Loss: 0.465163... Val Loss: 0.309335\n",
      "Epoch: 2/2... Step: 122500... Loss: 0.274275... Val Loss: 0.291117\n",
      "Epoch: 2/2... Step: 123000... Loss: 0.342198... Val Loss: 0.280338\n",
      "Epoch: 2/2... Step: 123500... Loss: 0.333580... Val Loss: 0.316098\n",
      "Epoch: 2/2... Step: 124000... Loss: 0.521677... Val Loss: 0.316561\n",
      "Epoch: 2/2... Step: 124500... Loss: 0.265237... Val Loss: 0.281876\n",
      "Epoch: 2/2... Step: 125000... Loss: 0.367054... Val Loss: 0.288906\n",
      "Epoch: 2/2... Step: 125500... Loss: 0.612261... Val Loss: 0.276629\n",
      "Epoch: 2/2... Step: 126000... Loss: 0.443733... Val Loss: 0.293053\n",
      "Epoch: 2/2... Step: 126500... Loss: 0.444951... Val Loss: 0.287136\n",
      "Epoch: 2/2... Step: 127000... Loss: 0.302518... Val Loss: 0.317659\n",
      "Epoch: 2/2... Step: 127500... Loss: 0.244250... Val Loss: 0.278081\n",
      "Epoch: 2/2... Step: 128000... Loss: 0.301156... Val Loss: 0.273047\n",
      "Epoch: 2/2... Step: 128500... Loss: 0.319055... Val Loss: 0.275614\n",
      "Epoch: 2/2... Step: 129000... Loss: 0.310665... Val Loss: 0.276194\n",
      "Epoch: 2/2... Step: 129500... Loss: 0.379746... Val Loss: 0.272085\n",
      "Epoch: 2/2... Step: 130000... Loss: 0.367337... Val Loss: 0.273859\n",
      "Epoch: 2/2... Step: 130500... Loss: 0.253053... Val Loss: 0.322014\n",
      "Epoch: 2/2... Step: 131000... Loss: 0.280988... Val Loss: 0.277701\n",
      "Epoch: 2/2... Step: 131500... Loss: 0.268892... Val Loss: 0.295738\n",
      "Epoch: 2/2... Step: 132000... Loss: 0.401989... Val Loss: 0.275660\n",
      "Epoch: 2/2... Step: 132500... Loss: 0.299543... Val Loss: 0.312557\n",
      "Epoch: 2/2... Step: 133000... Loss: 0.317649... Val Loss: 0.313961\n",
      "Epoch: 2/2... Step: 133500... Loss: 0.533387... Val Loss: 0.482553\n",
      "Epoch: 2/2... Step: 134000... Loss: 0.529838... Val Loss: 0.393504\n",
      "Epoch: 2/2... Step: 134500... Loss: 0.355141... Val Loss: 0.324157\n",
      "Epoch: 2/2... Step: 135000... Loss: 0.365386... Val Loss: 0.346812\n",
      "Epoch: 2/2... Step: 135500... Loss: 0.499565... Val Loss: 0.532122\n",
      "Epoch: 2/2... Step: 136000... Loss: 0.521640... Val Loss: 0.369252\n",
      "Epoch: 2/2... Step: 136500... Loss: 0.482158... Val Loss: 0.489403\n",
      "Epoch: 2/2... Step: 137000... Loss: 0.441491... Val Loss: 0.443602\n",
      "Epoch: 2/2... Step: 137500... Loss: 0.263832... Val Loss: 0.297343\n",
      "Epoch: 2/2... Step: 138000... Loss: 0.420559... Val Loss: 0.346657\n",
      "Epoch: 2/2... Step: 138500... Loss: 0.688631... Val Loss: 0.339297\n",
      "Epoch: 2/2... Step: 139000... Loss: 0.350796... Val Loss: 0.321710\n",
      "Epoch: 2/2... Step: 139500... Loss: 0.776398... Val Loss: 0.555828\n",
      "Epoch: 2/2... Step: 140000... Loss: 0.621534... Val Loss: 0.511705\n",
      "Epoch: 2/2... Step: 140500... Loss: 0.320357... Val Loss: 0.371551\n",
      "Epoch: 2/2... Step: 141000... Loss: 0.291303... Val Loss: 0.344055\n",
      "Epoch: 2/2... Step: 141500... Loss: 0.286875... Val Loss: 0.341139\n",
      "Epoch: 2/2... Step: 142000... Loss: 0.312585... Val Loss: 0.327902\n",
      "Epoch: 2/2... Step: 142500... Loss: 0.521383... Val Loss: 0.468260\n",
      "Epoch: 2/2... Step: 143000... Loss: 0.643222... Val Loss: 0.510161\n",
      "Epoch: 2/2... Step: 143500... Loss: 0.516637... Val Loss: 0.383434\n",
      "Epoch: 2/2... Step: 144000... Loss: 0.430992... Val Loss: 0.339279\n"
     ]
    }
   ],
   "source": [
    "epochs = 2\n",
    "counter = 0\n",
    "print_every = 500\n",
    "clip = 5\n",
    "valid_loss_min = np.Inf\n",
    "\n",
    "model.train()\n",
    "for i in range(epochs):\n",
    "    \n",
    "    for inputs, labels in train_loader:\n",
    "        counter += 1\n",
    "        inputs, labels = inputs.to(device), labels.to(device)\n",
    "        model.zero_grad()\n",
    "        output = model(inputs.long())\n",
    "        \n",
    "        loss = criterion(output.squeeze(1), labels.float())\n",
    "        \n",
    "        \n",
    "        loss.backward()\n",
    "        #nn.utils.clip_grad_norm_(model.parameters(), clip)\n",
    "        optimizer.step()\n",
    "        \n",
    "        if counter%print_every == 0:\n",
    "            val_losses = []\n",
    "            model.eval()\n",
    "            for inp, lab in test_loader:\n",
    "                inp, lab = inp.to(device), lab.to(device)\n",
    "                out = model(inp.long())\n",
    "                val_loss = criterion(out.squeeze(1), lab.float())\n",
    "                val_losses.append(val_loss.item())\n",
    "                \n",
    "            model.train()\n",
    "            print(\"Epoch: {}/{}...\".format(i+1, epochs),\n",
    "                  \"Step: {}...\".format(counter),\n",
    "                  \"Loss: {:.6f}...\".format(loss.item()),\n",
    "                  \"Val Loss: {:.6f}\".format(np.mean(val_losses)))\n",
    "            if np.mean(val_losses) <= valid_loss_min:\n",
    "                torch.save(model.state_dict(), './state_dict.pt')\n",
    "                print('Validation loss decreased ({:.6f} --> {:.6f}).  Saving model ...'.format(valid_loss_min,np.mean(val_losses)))\n",
    "                valid_loss_min = np.mean(val_losses)"
   ]
  },
  {
   "cell_type": "code",
   "execution_count": 21,
   "id": "22b550ca",
   "metadata": {
    "execution": {
     "iopub.execute_input": "2021-12-16T14:41:32.788364Z",
     "iopub.status.busy": "2021-12-16T14:41:32.787805Z",
     "iopub.status.idle": "2021-12-16T14:41:32.823239Z",
     "shell.execute_reply": "2021-12-16T14:41:32.823649Z",
     "shell.execute_reply.started": "2021-12-15T10:04:08.106311Z"
    },
    "papermill": {
     "duration": 0.127954,
     "end_time": "2021-12-16T14:41:32.823785",
     "exception": false,
     "start_time": "2021-12-16T14:41:32.695831",
     "status": "completed"
    },
    "tags": []
   },
   "outputs": [
    {
     "data": {
      "text/plain": [
       "tensor([[0.9781]], device='cuda:0', grad_fn=<SigmoidBackward>)"
      ]
     },
     "execution_count": 21,
     "metadata": {},
     "output_type": "execute_result"
    }
   ],
   "source": [
    "sentence = \"I love you\"\n",
    "trial = torch.tensor(pad_sequences(tokenizer.texts_to_sequences([sentence]), maxlen = maxlen)).long().to(device)\n",
    "\n",
    "model(trial)"
   ]
  },
  {
   "cell_type": "code",
   "execution_count": 22,
   "id": "095b3558",
   "metadata": {
    "execution": {
     "iopub.execute_input": "2021-12-16T14:41:33.013861Z",
     "iopub.status.busy": "2021-12-16T14:41:33.012538Z",
     "iopub.status.idle": "2021-12-16T14:41:33.994850Z",
     "shell.execute_reply": "2021-12-16T14:41:33.993909Z",
     "shell.execute_reply.started": "2021-12-15T10:04:08.108493Z"
    },
    "papermill": {
     "duration": 1.078846,
     "end_time": "2021-12-16T14:41:33.995036",
     "exception": false,
     "start_time": "2021-12-16T14:41:32.916190",
     "status": "completed"
    },
    "tags": []
   },
   "outputs": [],
   "source": [
    "import torch.onnx\n",
    "torch.onnx.export(model,               # model being run\n",
    "                  trial,                  # model input (or a tuple for multiple inputs)\n",
    "                  \"transformer-amazon.onnx\", opset_version = 11)"
   ]
  }
 ],
 "metadata": {
  "kernelspec": {
   "display_name": "Python 3",
   "language": "python",
   "name": "python3"
  },
  "language_info": {
   "codemirror_mode": {
    "name": "ipython",
    "version": 3
   },
   "file_extension": ".py",
   "mimetype": "text/x-python",
   "name": "python",
   "nbconvert_exporter": "python",
   "pygments_lexer": "ipython3",
   "version": "3.7.12"
  },
  "papermill": {
   "default_parameters": {},
   "duration": 6924.617693,
   "end_time": "2021-12-16T14:41:37.009192",
   "environment_variables": {},
   "exception": null,
   "input_path": "__notebook__.ipynb",
   "output_path": "__notebook__.ipynb",
   "parameters": {},
   "start_time": "2021-12-16T12:46:12.391499",
   "version": "2.3.3"
  }
 },
 "nbformat": 4,
 "nbformat_minor": 5
}
