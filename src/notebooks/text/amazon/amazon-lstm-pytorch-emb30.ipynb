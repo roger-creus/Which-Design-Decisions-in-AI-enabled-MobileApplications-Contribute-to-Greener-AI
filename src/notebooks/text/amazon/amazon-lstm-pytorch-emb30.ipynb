{
 "cells": [
  {
   "cell_type": "code",
   "execution_count": 1,
   "id": "available-correlation",
   "metadata": {
    "_cell_guid": "b1076dfc-b9ad-4769-8c92-a6c4dae69d19",
    "_uuid": "8f2839f25d086af736a60e9eeb907d3b93b6e0e5",
    "execution": {
     "iopub.execute_input": "2021-12-09T17:34:27.835773Z",
     "iopub.status.busy": "2021-12-09T17:34:27.834903Z",
     "iopub.status.idle": "2021-12-09T17:34:27.849839Z",
     "shell.execute_reply": "2021-12-09T17:34:27.850431Z",
     "shell.execute_reply.started": "2021-12-08T21:23:43.272798Z"
    },
    "papermill": {
     "duration": 0.037811,
     "end_time": "2021-12-09T17:34:27.850743",
     "exception": false,
     "start_time": "2021-12-09T17:34:27.812932",
     "status": "completed"
    },
    "tags": []
   },
   "outputs": [
    {
     "name": "stdout",
     "output_type": "stream",
     "text": [
      "/kaggle/input/amazonreviews/test.ft.txt.bz2\n",
      "/kaggle/input/amazonreviews/train.ft.txt.bz2\n"
     ]
    }
   ],
   "source": [
    "# This Python 3 environment comes with many helpful analytics libraries installed\n",
    "# It is defined by the kaggle/python Docker image: https://github.com/kaggle/docker-python\n",
    "# For example, here's several helpful packages to load\n",
    "\n",
    "import numpy as np # linear algebra\n",
    "import pandas as pd # data processing, CSV file I/O (e.g. pd.read_csv)\n",
    "\n",
    "# Input data files are available in the read-only \"../input/\" directory\n",
    "# For example, running this (by clicking run or pressing Shift+Enter) will list all files under the input directory\n",
    "\n",
    "import os\n",
    "for dirname, _, filenames in os.walk('/kaggle/input'):\n",
    "    for filename in filenames:\n",
    "        print(os.path.join(dirname, filename))\n",
    "\n",
    "# You can write up to 20GB to the current directory (/kaggle/working/) that gets preserved as output when you create a version using \"Save & Run All\" \n",
    "# You can also write temporary files to /kaggle/temp/, but they won't be saved outside of the current session"
   ]
  },
  {
   "cell_type": "code",
   "execution_count": 2,
   "id": "metallic-hungarian",
   "metadata": {
    "execution": {
     "iopub.execute_input": "2021-12-09T17:34:27.890066Z",
     "iopub.status.busy": "2021-12-09T17:34:27.889418Z",
     "iopub.status.idle": "2021-12-09T17:34:32.670825Z",
     "shell.execute_reply": "2021-12-09T17:34:32.669629Z",
     "shell.execute_reply.started": "2021-12-08T21:23:43.282815Z"
    },
    "papermill": {
     "duration": 4.802821,
     "end_time": "2021-12-09T17:34:32.670969",
     "exception": false,
     "start_time": "2021-12-09T17:34:27.868148",
     "status": "completed"
    },
    "tags": []
   },
   "outputs": [],
   "source": [
    "import pandas as pd\n",
    "import numpy as np\n",
    "import bz2\n",
    "import matplotlib.pyplot as plt\n",
    "import sklearn\n",
    "import tensorflow as tf\n",
    "from tensorflow.keras import models, layers, optimizers\n",
    "from tensorflow.keras.preprocessing.text import Tokenizer, text_to_word_sequence\n",
    "from tensorflow.keras.preprocessing.sequence import pad_sequences\n",
    "\n",
    "%matplotlib inline"
   ]
  },
  {
   "cell_type": "code",
   "execution_count": 3,
   "id": "respective-yacht",
   "metadata": {
    "execution": {
     "iopub.execute_input": "2021-12-09T17:34:32.707769Z",
     "iopub.status.busy": "2021-12-09T17:34:32.707228Z",
     "iopub.status.idle": "2021-12-09T17:34:32.711049Z",
     "shell.execute_reply": "2021-12-09T17:34:32.710514Z",
     "shell.execute_reply.started": "2021-12-08T21:23:44.433495Z"
    },
    "papermill": {
     "duration": 0.022996,
     "end_time": "2021-12-09T17:34:32.711156",
     "exception": false,
     "start_time": "2021-12-09T17:34:32.688160",
     "status": "completed"
    },
    "tags": []
   },
   "outputs": [],
   "source": [
    "device = \"cuda:0\""
   ]
  },
  {
   "cell_type": "code",
   "execution_count": 4,
   "id": "wanted-touch",
   "metadata": {
    "execution": {
     "iopub.execute_input": "2021-12-09T17:34:32.748924Z",
     "iopub.status.busy": "2021-12-09T17:34:32.747651Z",
     "iopub.status.idle": "2021-12-09T17:34:32.749703Z",
     "shell.execute_reply": "2021-12-09T17:34:32.750139Z",
     "shell.execute_reply.started": "2021-12-08T21:23:44.439536Z"
    },
    "papermill": {
     "duration": 0.023117,
     "end_time": "2021-12-09T17:34:32.750264",
     "exception": false,
     "start_time": "2021-12-09T17:34:32.727147",
     "status": "completed"
    },
    "tags": []
   },
   "outputs": [],
   "source": [
    "def labels_texts(file):\n",
    "    labels = []\n",
    "    texts = []\n",
    "    for line in bz2.BZ2File(file):\n",
    "        x = line.decode(\"utf-8\")\n",
    "        labels.append(int(x[9]) - 1)\n",
    "        texts.append(x[10:].strip())\n",
    "    return np.array(labels), texts\n",
    "\n"
   ]
  },
  {
   "cell_type": "code",
   "execution_count": 5,
   "id": "adolescent-application",
   "metadata": {
    "execution": {
     "iopub.execute_input": "2021-12-09T17:34:32.786710Z",
     "iopub.status.busy": "2021-12-09T17:34:32.786164Z",
     "iopub.status.idle": "2021-12-09T17:36:30.281634Z",
     "shell.execute_reply": "2021-12-09T17:36:30.280860Z",
     "shell.execute_reply.started": "2021-12-08T21:23:44.454135Z"
    },
    "papermill": {
     "duration": 117.515613,
     "end_time": "2021-12-09T17:36:30.281798",
     "exception": false,
     "start_time": "2021-12-09T17:34:32.766185",
     "status": "completed"
    },
    "tags": []
   },
   "outputs": [],
   "source": [
    "train_label, train_text = labels_texts('../input/amazonreviews/train.ft.txt.bz2')\n",
    "test_label, test_text = labels_texts('../input/amazonreviews/test.ft.txt.bz2')"
   ]
  },
  {
   "cell_type": "code",
   "execution_count": 6,
   "id": "standing-attraction",
   "metadata": {
    "execution": {
     "iopub.execute_input": "2021-12-09T17:36:30.321889Z",
     "iopub.status.busy": "2021-12-09T17:36:30.321020Z",
     "iopub.status.idle": "2021-12-09T17:36:30.325047Z",
     "shell.execute_reply": "2021-12-09T17:36:30.324600Z",
     "shell.execute_reply.started": "2021-12-08T21:26:27.960667Z"
    },
    "papermill": {
     "duration": 0.025704,
     "end_time": "2021-12-09T17:36:30.325161",
     "exception": false,
     "start_time": "2021-12-09T17:36:30.299457",
     "status": "completed"
    },
    "tags": []
   },
   "outputs": [
    {
     "name": "stdout",
     "output_type": "stream",
     "text": [
      "1\n",
      "Stuning even for the non-gamer: This sound track was beautiful! It paints the senery in your mind so well I would recomend it even to people who hate vid. game music! I have played the game Chrono Cross but out of all of the games I have ever played it has the best music! It backs away from crude keyboarding and takes a fresher step with grate guitars and soulful orchestras. It would impress anyone who cares to listen! ^_^\n"
     ]
    }
   ],
   "source": [
    "print(train_label[0])\n",
    "print(train_text[0])"
   ]
  },
  {
   "cell_type": "code",
   "execution_count": 7,
   "id": "geological-worry",
   "metadata": {
    "execution": {
     "iopub.execute_input": "2021-12-09T17:36:30.365831Z",
     "iopub.status.busy": "2021-12-09T17:36:30.365125Z",
     "iopub.status.idle": "2021-12-09T17:36:30.368118Z",
     "shell.execute_reply": "2021-12-09T17:36:30.367566Z",
     "shell.execute_reply.started": "2021-12-08T21:26:27.967567Z"
    },
    "papermill": {
     "duration": 0.025621,
     "end_time": "2021-12-09T17:36:30.368231",
     "exception": false,
     "start_time": "2021-12-09T17:36:30.342610",
     "status": "completed"
    },
    "tags": []
   },
   "outputs": [],
   "source": [
    "import re\n",
    "not_numChar = re.compile(r'[\\W]')\n",
    "no_encode = re.compile(r'[^a-z0-1\\s]')\n",
    "def normalisation(texts):\n",
    "    norm_text = []\n",
    "    for word in texts:\n",
    "        lower = word.lower()\n",
    "        not_punct = not_numChar.sub(r' ', lower)\n",
    "        exclude_no_encode = no_encode.sub(r'', not_punct)\n",
    "        norm_text.append(exclude_no_encode)\n",
    "    return norm_text"
   ]
  },
  {
   "cell_type": "code",
   "execution_count": 8,
   "id": "wrapped-option",
   "metadata": {
    "execution": {
     "iopub.execute_input": "2021-12-09T17:36:30.451756Z",
     "iopub.status.busy": "2021-12-09T17:36:30.441551Z",
     "iopub.status.idle": "2021-12-09T17:39:23.431639Z",
     "shell.execute_reply": "2021-12-09T17:39:23.430491Z",
     "shell.execute_reply.started": "2021-12-08T21:26:27.982804Z"
    },
    "papermill": {
     "duration": 173.046068,
     "end_time": "2021-12-09T17:39:23.431834",
     "exception": false,
     "start_time": "2021-12-09T17:36:30.385766",
     "status": "completed"
    },
    "tags": []
   },
   "outputs": [],
   "source": [
    "train_text = normalisation(train_text)\n",
    "test_text = normalisation(test_text)"
   ]
  },
  {
   "cell_type": "code",
   "execution_count": 9,
   "id": "gross-visit",
   "metadata": {
    "execution": {
     "iopub.execute_input": "2021-12-09T17:39:23.470319Z",
     "iopub.status.busy": "2021-12-09T17:39:23.469721Z",
     "iopub.status.idle": "2021-12-09T17:39:23.473017Z",
     "shell.execute_reply": "2021-12-09T17:39:23.472483Z",
     "shell.execute_reply.started": "2021-12-08T21:29:47.899099Z"
    },
    "papermill": {
     "duration": 0.023961,
     "end_time": "2021-12-09T17:39:23.473122",
     "exception": false,
     "start_time": "2021-12-09T17:39:23.449161",
     "status": "completed"
    },
    "tags": []
   },
   "outputs": [
    {
     "name": "stdout",
     "output_type": "stream",
     "text": [
      "stuning even for the non gamer  this sound track was beautiful  it paints the senery in your mind so well i would recomend it even to people who hate vid  game music  i have played the game chrono cross but out of all of the games i have ever played it has the best music  it backs away from crude keyboarding and takes a fresher step with grate guitars and soulful orchestras  it would impress anyone who cares to listen    \n"
     ]
    }
   ],
   "source": [
    "print(train_text[0])"
   ]
  },
  {
   "cell_type": "code",
   "execution_count": 10,
   "id": "informational-custody",
   "metadata": {
    "execution": {
     "iopub.execute_input": "2021-12-09T17:39:23.512270Z",
     "iopub.status.busy": "2021-12-09T17:39:23.510845Z",
     "iopub.status.idle": "2021-12-09T17:39:23.519317Z",
     "shell.execute_reply": "2021-12-09T17:39:23.518901Z",
     "shell.execute_reply.started": "2021-12-08T21:29:47.909335Z"
    },
    "papermill": {
     "duration": 0.029549,
     "end_time": "2021-12-09T17:39:23.519427",
     "exception": false,
     "start_time": "2021-12-09T17:39:23.489878",
     "status": "completed"
    },
    "tags": []
   },
   "outputs": [],
   "source": [
    "y_train = np.array(train_label)\n",
    "y_test = np.array(test_label)"
   ]
  },
  {
   "cell_type": "code",
   "execution_count": 11,
   "id": "speaking-sessions",
   "metadata": {
    "execution": {
     "iopub.execute_input": "2021-12-09T17:39:23.559059Z",
     "iopub.status.busy": "2021-12-09T17:39:23.558235Z",
     "iopub.status.idle": "2021-12-09T17:39:23.562114Z",
     "shell.execute_reply": "2021-12-09T17:39:23.561705Z",
     "shell.execute_reply.started": "2021-12-08T21:29:48.14836Z"
    },
    "papermill": {
     "duration": 0.025735,
     "end_time": "2021-12-09T17:39:23.562220",
     "exception": false,
     "start_time": "2021-12-09T17:39:23.536485",
     "status": "completed"
    },
    "tags": []
   },
   "outputs": [
    {
     "data": {
      "text/plain": [
       "(400000,)"
      ]
     },
     "execution_count": 11,
     "metadata": {},
     "output_type": "execute_result"
    }
   ],
   "source": [
    "y_test.shape"
   ]
  },
  {
   "cell_type": "code",
   "execution_count": 12,
   "id": "every-cricket",
   "metadata": {
    "execution": {
     "iopub.execute_input": "2021-12-09T17:39:23.629137Z",
     "iopub.status.busy": "2021-12-09T17:39:23.623955Z",
     "iopub.status.idle": "2021-12-09T17:43:13.088207Z",
     "shell.execute_reply": "2021-12-09T17:43:13.088624Z",
     "shell.execute_reply.started": "2021-12-08T21:29:48.161032Z"
    },
    "papermill": {
     "duration": 229.509487,
     "end_time": "2021-12-09T17:43:13.088800",
     "exception": false,
     "start_time": "2021-12-09T17:39:23.579313",
     "status": "completed"
    },
    "tags": []
   },
   "outputs": [
    {
     "name": "stdout",
     "output_type": "stream",
     "text": [
      "Vocabulary Size : 905946\n"
     ]
    }
   ],
   "source": [
    "max_features = 8192\n",
    "maxlen = 128\n",
    "\n",
    "tokenizer = Tokenizer(num_words=max_features)\n",
    "tokenizer.fit_on_texts(train_text)\n",
    "\n",
    "word_index = tokenizer.word_index\n",
    "vocab_size = len(tokenizer.word_index) + 1\n",
    "print(\"Vocabulary Size :\", vocab_size)"
   ]
  },
  {
   "cell_type": "code",
   "execution_count": 13,
   "id": "reduced-neutral",
   "metadata": {
    "execution": {
     "iopub.execute_input": "2021-12-09T17:43:13.127930Z",
     "iopub.status.busy": "2021-12-09T17:43:13.127209Z",
     "iopub.status.idle": "2021-12-09T17:43:14.021929Z",
     "shell.execute_reply": "2021-12-09T17:43:14.021336Z",
     "shell.execute_reply.started": "2021-12-08T21:34:39.735945Z"
    },
    "papermill": {
     "duration": 0.915861,
     "end_time": "2021-12-09T17:43:14.022066",
     "exception": false,
     "start_time": "2021-12-09T17:43:13.106205",
     "status": "completed"
    },
    "tags": []
   },
   "outputs": [],
   "source": [
    "import os \n",
    "with open('amazon_dictionary.txt', 'w') as file:\n",
    "    for key in word_index.keys():\n",
    "        file.write(key + \" \" + str(word_index[key]) + \",\")"
   ]
  },
  {
   "cell_type": "code",
   "execution_count": 14,
   "id": "ongoing-collection",
   "metadata": {
    "execution": {
     "iopub.execute_input": "2021-12-09T17:43:14.101191Z",
     "iopub.status.busy": "2021-12-09T17:43:14.085845Z",
     "iopub.status.idle": "2021-12-09T17:46:45.849074Z",
     "shell.execute_reply": "2021-12-09T17:46:45.848034Z",
     "shell.execute_reply.started": "2021-12-08T21:34:40.77233Z"
    },
    "papermill": {
     "duration": 211.806877,
     "end_time": "2021-12-09T17:46:45.849237",
     "exception": false,
     "start_time": "2021-12-09T17:43:14.042360",
     "status": "completed"
    },
    "tags": []
   },
   "outputs": [],
   "source": [
    "training_token = tokenizer.texts_to_sequences(train_text)\n",
    "testing_token = tokenizer.texts_to_sequences(test_text)"
   ]
  },
  {
   "cell_type": "code",
   "execution_count": 15,
   "id": "offshore-surveillance",
   "metadata": {
    "execution": {
     "iopub.execute_input": "2021-12-09T17:46:45.933164Z",
     "iopub.status.busy": "2021-12-09T17:46:45.922927Z",
     "iopub.status.idle": "2021-12-09T17:47:58.626824Z",
     "shell.execute_reply": "2021-12-09T17:47:58.626316Z",
     "shell.execute_reply.started": "2021-12-08T21:38:55.605176Z"
    },
    "papermill": {
     "duration": 72.759384,
     "end_time": "2021-12-09T17:47:58.626966",
     "exception": false,
     "start_time": "2021-12-09T17:46:45.867582",
     "status": "completed"
    },
    "tags": []
   },
   "outputs": [],
   "source": [
    "x_train = pad_sequences(training_token, maxlen = maxlen, padding = 'post')\n",
    "x_test = pad_sequences(testing_token, maxlen = maxlen, padding = 'post')"
   ]
  },
  {
   "cell_type": "code",
   "execution_count": 16,
   "id": "hispanic-board",
   "metadata": {
    "execution": {
     "iopub.execute_input": "2021-12-09T17:47:58.667589Z",
     "iopub.status.busy": "2021-12-09T17:47:58.667081Z",
     "iopub.status.idle": "2021-12-09T17:47:59.782260Z",
     "shell.execute_reply": "2021-12-09T17:47:59.781173Z",
     "shell.execute_reply.started": "2021-12-08T21:40:19.880515Z"
    },
    "papermill": {
     "duration": 1.137392,
     "end_time": "2021-12-09T17:47:59.782403",
     "exception": false,
     "start_time": "2021-12-09T17:47:58.645011",
     "status": "completed"
    },
    "tags": []
   },
   "outputs": [],
   "source": [
    "import torch\n",
    "from torch.utils.data import TensorDataset, DataLoader\n",
    "import torch.nn as nn\n",
    "BATCH_SIZE = 50\n",
    "\n",
    "train_data = TensorDataset(torch.from_numpy(x_train), torch.from_numpy(y_train))\n",
    "test_data = TensorDataset(torch.from_numpy(x_test), torch.from_numpy(y_test))\n",
    "\n",
    "train_loader = DataLoader(train_data, shuffle=True, batch_size=BATCH_SIZE, drop_last = True)\n",
    "test_loader = DataLoader(test_data, shuffle=True, batch_size=BATCH_SIZE, drop_last = True)"
   ]
  },
  {
   "cell_type": "code",
   "execution_count": 17,
   "id": "narrative-criterion",
   "metadata": {
    "execution": {
     "iopub.execute_input": "2021-12-09T17:47:59.829230Z",
     "iopub.status.busy": "2021-12-09T17:47:59.828391Z",
     "iopub.status.idle": "2021-12-09T17:47:59.830171Z",
     "shell.execute_reply": "2021-12-09T17:47:59.830605Z",
     "shell.execute_reply.started": "2021-12-08T21:40:20.986111Z"
    },
    "papermill": {
     "duration": 0.030691,
     "end_time": "2021-12-09T17:47:59.830749",
     "exception": false,
     "start_time": "2021-12-09T17:47:59.800058",
     "status": "completed"
    },
    "tags": []
   },
   "outputs": [],
   "source": [
    "class SentimentNet(nn.Module):\n",
    "    def __init__(self, vocab_size, output_size, embedding_dim, hidden_dim, n_layers, drop_prob=0.5):\n",
    "        super(SentimentNet, self).__init__()\n",
    "        self.output_size = output_size\n",
    "        self.n_layers = n_layers\n",
    "        self.hidden_dim = hidden_dim\n",
    "        \n",
    "        \n",
    "        self.embedding = nn.Embedding(vocab_size, embedding_dim)\n",
    "        #self.conv = nn.Conv1d(embedding_dim, 8, kernel_size=5)\n",
    "        self.lstm = nn.LSTM(embedding_dim, hidden_dim, n_layers, dropout=drop_prob, batch_first=True)\n",
    "        #self.gru = nn.GRU(embedding_dim, hidden_dim, n_layers, dropout=drop_prob, batch_first=True)\n",
    "        self.dropout = nn.Dropout(drop_prob)\n",
    "        self.fc = nn.Linear(hidden_dim, output_size)\n",
    "        self.sigmoid = nn.Sigmoid()\n",
    "        \n",
    "    def forward(self, x, hidden):\n",
    "        #print(x.shape)\n",
    "        if len(x) != 1:\n",
    "            batch_size = x.size(0)\n",
    "        else:\n",
    "            batch_size = 1\n",
    "        x = x.long()\n",
    "        embeds = self.embedding(x)\n",
    "\n",
    "        #conv = self.conv(x)\n",
    "        \n",
    "        lstm_out, hidden = self.lstm(embeds, hidden)\n",
    "        lstm_out = lstm_out.contiguous().view(-1, self.hidden_dim)\n",
    "        \n",
    "        out = self.dropout(lstm_out)\n",
    "        out = self.fc(out)\n",
    "        out = self.sigmoid(out)\n",
    "        \n",
    "        out = out.view(batch_size, -1)\n",
    "        out = out[:,-1]\n",
    "        return out, hidden\n",
    "    \n",
    "    def init_hidden(self, batch_size):\n",
    "        weight = next(self.parameters()).data\n",
    "        hidden = (weight.new(self.n_layers, batch_size, self.hidden_dim).zero_().to(device),weight.new(self.n_layers, batch_size, self.hidden_dim).zero_().to(device))\n",
    "        #hidden = (weight.new(self.n_layers, batch_size, self.hidden_dim).zero_(),\n",
    "        #             weight.new(self.n_layers, batch_size, self.hidden_dim).zero_())\n",
    "        return hidden"
   ]
  },
  {
   "cell_type": "code",
   "execution_count": 18,
   "id": "level-episode",
   "metadata": {
    "execution": {
     "iopub.execute_input": "2021-12-09T17:47:59.869277Z",
     "iopub.status.busy": "2021-12-09T17:47:59.868770Z",
     "iopub.status.idle": "2021-12-09T17:47:59.871944Z",
     "shell.execute_reply": "2021-12-09T17:47:59.872350Z",
     "shell.execute_reply.started": "2021-12-08T21:40:21.00062Z"
    },
    "papermill": {
     "duration": 0.024539,
     "end_time": "2021-12-09T17:47:59.872470",
     "exception": false,
     "start_time": "2021-12-09T17:47:59.847931",
     "status": "completed"
    },
    "tags": []
   },
   "outputs": [],
   "source": [
    "def model_params(model):\n",
    "    pp=0\n",
    "    for p in list(model.parameters()):\n",
    "        nn=1\n",
    "        for s in list(p.size()):\n",
    "            nn = nn*s\n",
    "        pp += nn\n",
    "    return pp"
   ]
  },
  {
   "cell_type": "code",
   "execution_count": 19,
   "id": "lucky-difference",
   "metadata": {
    "execution": {
     "iopub.execute_input": "2021-12-09T17:47:59.914343Z",
     "iopub.status.busy": "2021-12-09T17:47:59.913842Z",
     "iopub.status.idle": "2021-12-09T17:48:05.594787Z",
     "shell.execute_reply": "2021-12-09T17:48:05.594256Z",
     "shell.execute_reply.started": "2021-12-08T21:40:21.018613Z"
    },
    "papermill": {
     "duration": 5.7053,
     "end_time": "2021-12-09T17:48:05.594931",
     "exception": false,
     "start_time": "2021-12-09T17:47:59.889631",
     "status": "completed"
    },
    "tags": []
   },
   "outputs": [
    {
     "name": "stderr",
     "output_type": "stream",
     "text": [
      "/opt/conda/lib/python3.7/site-packages/torch/nn/modules/rnn.py:61: UserWarning: dropout option adds dropout after all but last recurrent layer, so non-zero dropout expects num_layers greater than 1, but got dropout=0.5 and num_layers=1\n",
      "  \"num_layers={}\".format(dropout, num_layers))\n"
     ]
    },
    {
     "name": "stdout",
     "output_type": "stream",
     "text": [
      "27178961\n"
     ]
    }
   ],
   "source": [
    "output_size = 1\n",
    "embedding_dim = 30\n",
    "hidden_dim = 4\n",
    "n_layers = 1\n",
    "\n",
    "model = SentimentNet(vocab_size, output_size, embedding_dim, hidden_dim, n_layers)\n",
    "print(model_params(model))\n",
    "model.to(device)\n",
    "lr=0.01\n",
    "criterion = nn.BCELoss()\n",
    "optimizer = torch.optim.Adam(model.parameters(), lr=lr)"
   ]
  },
  {
   "cell_type": "code",
   "execution_count": 20,
   "id": "civilian-mandate",
   "metadata": {
    "execution": {
     "iopub.execute_input": "2021-12-09T17:48:05.641854Z",
     "iopub.status.busy": "2021-12-09T17:48:05.641211Z",
     "iopub.status.idle": "2021-12-09T18:24:36.516043Z",
     "shell.execute_reply": "2021-12-09T18:24:36.515186Z",
     "shell.execute_reply.started": "2021-12-08T21:40:22.585467Z"
    },
    "papermill": {
     "duration": 2190.902967,
     "end_time": "2021-12-09T18:24:36.516354",
     "exception": false,
     "start_time": "2021-12-09T17:48:05.613387",
     "status": "completed"
    },
    "tags": []
   },
   "outputs": [
    {
     "name": "stdout",
     "output_type": "stream",
     "text": [
      "Epoch: 1/2... Step: 5000... Loss: 0.408649... Val Loss: 0.391498\n",
      "Validation loss decreased (inf --> 0.391498).  Saving model ...\n",
      "Epoch: 1/2... Step: 10000... Loss: 0.389369... Val Loss: 0.380371\n",
      "Validation loss decreased (0.391498 --> 0.380371).  Saving model ...\n",
      "Epoch: 1/2... Step: 15000... Loss: 0.365400... Val Loss: 0.376005\n",
      "Validation loss decreased (0.380371 --> 0.376005).  Saving model ...\n",
      "Epoch: 1/2... Step: 20000... Loss: 0.465215... Val Loss: 0.398078\n",
      "Epoch: 1/2... Step: 25000... Loss: 0.527943... Val Loss: 0.386368\n",
      "Epoch: 1/2... Step: 30000... Loss: 0.542266... Val Loss: 0.395960\n",
      "Epoch: 1/2... Step: 35000... Loss: 0.589604... Val Loss: 0.404550\n",
      "Epoch: 1/2... Step: 40000... Loss: 0.419019... Val Loss: 0.414936\n",
      "Epoch: 1/2... Step: 45000... Loss: 0.441379... Val Loss: 0.403560\n",
      "Epoch: 1/2... Step: 50000... Loss: 0.516119... Val Loss: 0.414106\n",
      "Epoch: 1/2... Step: 55000... Loss: 0.449924... Val Loss: 0.404272\n",
      "Epoch: 1/2... Step: 60000... Loss: 0.423073... Val Loss: 0.408087\n",
      "Epoch: 1/2... Step: 65000... Loss: 0.654008... Val Loss: 0.424092\n",
      "Epoch: 1/2... Step: 70000... Loss: 0.525112... Val Loss: 0.412357\n",
      "Epoch: 2/2... Step: 75000... Loss: 0.320226... Val Loss: 0.414183\n",
      "Epoch: 2/2... Step: 80000... Loss: 0.484935... Val Loss: 0.417970\n",
      "Epoch: 2/2... Step: 85000... Loss: 0.544121... Val Loss: 0.413933\n",
      "Epoch: 2/2... Step: 90000... Loss: 0.497006... Val Loss: 0.424123\n",
      "Epoch: 2/2... Step: 95000... Loss: 0.433999... Val Loss: 0.415404\n",
      "Epoch: 2/2... Step: 100000... Loss: 0.558028... Val Loss: 0.426805\n",
      "Epoch: 2/2... Step: 105000... Loss: 0.458469... Val Loss: 0.421438\n",
      "Epoch: 2/2... Step: 110000... Loss: 0.366035... Val Loss: 0.414174\n",
      "Epoch: 2/2... Step: 115000... Loss: 0.417557... Val Loss: 0.420825\n",
      "Epoch: 2/2... Step: 120000... Loss: 0.375946... Val Loss: 0.412678\n",
      "Epoch: 2/2... Step: 125000... Loss: 0.591758... Val Loss: 0.488461\n",
      "Epoch: 2/2... Step: 130000... Loss: 0.464213... Val Loss: 0.489044\n",
      "Epoch: 2/2... Step: 135000... Loss: 0.455345... Val Loss: 0.481698\n",
      "Epoch: 2/2... Step: 140000... Loss: 0.563719... Val Loss: 0.466733\n"
     ]
    }
   ],
   "source": [
    "epochs = 2\n",
    "counter = 0\n",
    "print_every = 5000\n",
    "clip = 5\n",
    "valid_loss_min = np.Inf\n",
    "\n",
    "model.train()\n",
    "for i in range(epochs):\n",
    "    h = model.init_hidden(BATCH_SIZE)\n",
    "    \n",
    "    for inputs, labels in train_loader:\n",
    "        counter += 1\n",
    "        h = tuple([e.data for e in h])\n",
    "        inputs, labels = inputs.to(device), labels.to(device)\n",
    "        model.zero_grad()\n",
    "        output, h = model(inputs, h)\n",
    "        loss = criterion(output, labels.float())\n",
    "        loss.backward()\n",
    "        #nn.utils.clip_grad_norm_(model.parameters(), clip)\n",
    "        optimizer.step()\n",
    "        \n",
    "        if counter%print_every == 0:\n",
    "            val_h = model.init_hidden(BATCH_SIZE)\n",
    "            val_losses = []\n",
    "            model.eval()\n",
    "            for inp, lab in test_loader:\n",
    "                val_h = tuple([each.data for each in val_h])\n",
    "                inp, lab = inp.to(device), lab.to(device)\n",
    "                out, val_h = model(inp, val_h)\n",
    "                val_loss = criterion(out, lab.float())\n",
    "                val_losses.append(val_loss.item())\n",
    "                \n",
    "            model.train()\n",
    "            print(\"Epoch: {}/{}...\".format(i+1, epochs),\n",
    "                  \"Step: {}...\".format(counter),\n",
    "                  \"Loss: {:.6f}...\".format(loss.item()),\n",
    "                  \"Val Loss: {:.6f}\".format(np.mean(val_losses)))\n",
    "            if np.mean(val_losses) <= valid_loss_min:\n",
    "                torch.save(model.state_dict(), './state_dict.pt')\n",
    "                print('Validation loss decreased ({:.6f} --> {:.6f}).  Saving model ...'.format(valid_loss_min,np.mean(val_losses)))\n",
    "                valid_loss_min = np.mean(val_losses)"
   ]
  },
  {
   "cell_type": "code",
   "execution_count": 21,
   "id": "saving-given",
   "metadata": {
    "execution": {
     "iopub.execute_input": "2021-12-09T18:24:36.576844Z",
     "iopub.status.busy": "2021-12-09T18:24:36.575989Z",
     "iopub.status.idle": "2021-12-09T18:24:36.578736Z",
     "shell.execute_reply": "2021-12-09T18:24:36.578299Z"
    },
    "papermill": {
     "duration": 0.03266,
     "end_time": "2021-12-09T18:24:36.578858",
     "exception": false,
     "start_time": "2021-12-09T18:24:36.546198",
     "status": "completed"
    },
    "tags": []
   },
   "outputs": [],
   "source": [
    "h = model.init_hidden(1)"
   ]
  },
  {
   "cell_type": "code",
   "execution_count": 22,
   "id": "hundred-india",
   "metadata": {
    "execution": {
     "iopub.execute_input": "2021-12-09T18:24:36.634521Z",
     "iopub.status.busy": "2021-12-09T18:24:36.633803Z",
     "iopub.status.idle": "2021-12-09T18:24:36.670625Z",
     "shell.execute_reply": "2021-12-09T18:24:36.670111Z"
    },
    "papermill": {
     "duration": 0.06647,
     "end_time": "2021-12-09T18:24:36.670775",
     "exception": false,
     "start_time": "2021-12-09T18:24:36.604305",
     "status": "completed"
    },
    "tags": []
   },
   "outputs": [
    {
     "data": {
      "text/plain": [
       "tensor([0.5455], device='cuda:0', grad_fn=<SelectBackward>)"
      ]
     },
     "execution_count": 22,
     "metadata": {},
     "output_type": "execute_result"
    }
   ],
   "source": [
    "sentence = \"I love this film, it was so awesome!\"\n",
    "trial = torch.tensor(pad_sequences(tokenizer.texts_to_sequences([sentence]), maxlen = maxlen)).to(device)\n",
    "\n",
    "model(trial, h)[0]"
   ]
  },
  {
   "cell_type": "code",
   "execution_count": 23,
   "id": "fuzzy-pulse",
   "metadata": {
    "execution": {
     "iopub.execute_input": "2021-12-09T18:24:36.726830Z",
     "iopub.status.busy": "2021-12-09T18:24:36.726241Z",
     "iopub.status.idle": "2021-12-09T18:24:37.467984Z",
     "shell.execute_reply": "2021-12-09T18:24:37.467448Z"
    },
    "papermill": {
     "duration": 0.771102,
     "end_time": "2021-12-09T18:24:37.468118",
     "exception": false,
     "start_time": "2021-12-09T18:24:36.697016",
     "status": "completed"
    },
    "tags": []
   },
   "outputs": [
    {
     "name": "stderr",
     "output_type": "stream",
     "text": [
      "/opt/conda/lib/python3.7/site-packages/ipykernel_launcher.py:19: TracerWarning: Converting a tensor to a Python index might cause the trace to be incorrect. We can't record the data flow of Python values, so this value will be treated as a constant in the future. This means that the trace might not generalize to other inputs!\n",
      "/opt/conda/lib/python3.7/site-packages/torch/onnx/symbolic_opset9.py:1805: UserWarning: Exporting a model to ONNX with a batch_size other than 1, with a variable length with LSTM can cause an error when running the ONNX model with a different batch size. Make sure to save the model with a batch size of 1, or define the initial states (h0/c0) as inputs of the model. \n",
      "  \"or define the initial states (h0/c0) as inputs of the model. \")\n"
     ]
    }
   ],
   "source": [
    "import torch.onnx\n",
    "torch.onnx.export(model,               # model being run\n",
    "                  (trial, (torch.randn(1,1,4).to(device), torch.randn(1,1,4).to(device))),                   # model input (or a tuple for multiple inputs)\n",
    "                  \"lstm-PT.onnx\")"
   ]
  }
 ],
 "metadata": {
  "kernelspec": {
   "display_name": "Python 3",
   "language": "python",
   "name": "python3"
  },
  "language_info": {
   "codemirror_mode": {
    "name": "ipython",
    "version": 3
   },
   "file_extension": ".py",
   "mimetype": "text/x-python",
   "name": "python",
   "nbconvert_exporter": "python",
   "pygments_lexer": "ipython3",
   "version": "3.7.9"
  },
  "papermill": {
   "default_parameters": {},
   "duration": 3019.807286,
   "end_time": "2021-12-09T18:24:42.803475",
   "environment_variables": {},
   "exception": null,
   "input_path": "__notebook__.ipynb",
   "output_path": "__notebook__.ipynb",
   "parameters": {},
   "start_time": "2021-12-09T17:34:22.996189",
   "version": "2.3.2"
  }
 },
 "nbformat": 4,
 "nbformat_minor": 5
}
