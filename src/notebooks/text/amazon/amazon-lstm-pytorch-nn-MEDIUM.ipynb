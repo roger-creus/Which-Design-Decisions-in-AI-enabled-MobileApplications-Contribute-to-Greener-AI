{
 "cells": [
  {
   "cell_type": "code",
   "execution_count": 1,
   "id": "perceived-rider",
   "metadata": {
    "_cell_guid": "b1076dfc-b9ad-4769-8c92-a6c4dae69d19",
    "_uuid": "8f2839f25d086af736a60e9eeb907d3b93b6e0e5",
    "execution": {
     "iopub.execute_input": "2021-12-12T08:53:32.522672Z",
     "iopub.status.busy": "2021-12-12T08:53:32.521130Z",
     "iopub.status.idle": "2021-12-12T08:53:32.540011Z",
     "shell.execute_reply": "2021-12-12T08:53:32.540725Z",
     "shell.execute_reply.started": "2021-12-08T21:23:43.272798Z"
    },
    "papermill": {
     "duration": 0.04124,
     "end_time": "2021-12-12T08:53:32.541022",
     "exception": false,
     "start_time": "2021-12-12T08:53:32.499782",
     "status": "completed"
    },
    "tags": []
   },
   "outputs": [
    {
     "name": "stdout",
     "output_type": "stream",
     "text": [
      "/kaggle/input/amazonreviews/test.ft.txt.bz2\n",
      "/kaggle/input/amazonreviews/train.ft.txt.bz2\n"
     ]
    }
   ],
   "source": [
    "# This Python 3 environment comes with many helpful analytics libraries installed\n",
    "# It is defined by the kaggle/python Docker image: https://github.com/kaggle/docker-python\n",
    "# For example, here's several helpful packages to load\n",
    "\n",
    "import numpy as np # linear algebra\n",
    "import pandas as pd # data processing, CSV file I/O (e.g. pd.read_csv)\n",
    "\n",
    "# Input data files are available in the read-only \"../input/\" directory\n",
    "# For example, running this (by clicking run or pressing Shift+Enter) will list all files under the input directory\n",
    "\n",
    "import os\n",
    "for dirname, _, filenames in os.walk('/kaggle/input'):\n",
    "    for filename in filenames:\n",
    "        print(os.path.join(dirname, filename))\n",
    "\n",
    "# You can write up to 20GB to the current directory (/kaggle/working/) that gets preserved as output when you create a version using \"Save & Run All\" \n",
    "# You can also write temporary files to /kaggle/temp/, but they won't be saved outside of the current session"
   ]
  },
  {
   "cell_type": "code",
   "execution_count": 2,
   "id": "pacific-chinese",
   "metadata": {
    "execution": {
     "iopub.execute_input": "2021-12-12T08:53:32.582107Z",
     "iopub.status.busy": "2021-12-12T08:53:32.581455Z",
     "iopub.status.idle": "2021-12-12T08:53:37.897754Z",
     "shell.execute_reply": "2021-12-12T08:53:37.897097Z",
     "shell.execute_reply.started": "2021-12-08T21:23:43.282815Z"
    },
    "papermill": {
     "duration": 5.338555,
     "end_time": "2021-12-12T08:53:37.897892",
     "exception": false,
     "start_time": "2021-12-12T08:53:32.559337",
     "status": "completed"
    },
    "tags": []
   },
   "outputs": [],
   "source": [
    "import pandas as pd\n",
    "import numpy as np\n",
    "import bz2\n",
    "import matplotlib.pyplot as plt\n",
    "import sklearn\n",
    "import tensorflow as tf\n",
    "from tensorflow.keras import models, layers, optimizers\n",
    "from tensorflow.keras.preprocessing.text import Tokenizer, text_to_word_sequence\n",
    "from tensorflow.keras.preprocessing.sequence import pad_sequences\n",
    "\n",
    "%matplotlib inline"
   ]
  },
  {
   "cell_type": "code",
   "execution_count": 3,
   "id": "green-college",
   "metadata": {
    "execution": {
     "iopub.execute_input": "2021-12-12T08:53:37.936262Z",
     "iopub.status.busy": "2021-12-12T08:53:37.935608Z",
     "iopub.status.idle": "2021-12-12T08:53:37.938855Z",
     "shell.execute_reply": "2021-12-12T08:53:37.938403Z",
     "shell.execute_reply.started": "2021-12-08T21:23:44.433495Z"
    },
    "papermill": {
     "duration": 0.024046,
     "end_time": "2021-12-12T08:53:37.938960",
     "exception": false,
     "start_time": "2021-12-12T08:53:37.914914",
     "status": "completed"
    },
    "tags": []
   },
   "outputs": [],
   "source": [
    "device = \"cuda:0\""
   ]
  },
  {
   "cell_type": "code",
   "execution_count": 4,
   "id": "impressed-brazil",
   "metadata": {
    "execution": {
     "iopub.execute_input": "2021-12-12T08:53:37.977117Z",
     "iopub.status.busy": "2021-12-12T08:53:37.976458Z",
     "iopub.status.idle": "2021-12-12T08:53:37.979380Z",
     "shell.execute_reply": "2021-12-12T08:53:37.978944Z",
     "shell.execute_reply.started": "2021-12-08T21:23:44.439536Z"
    },
    "papermill": {
     "duration": 0.023714,
     "end_time": "2021-12-12T08:53:37.979493",
     "exception": false,
     "start_time": "2021-12-12T08:53:37.955779",
     "status": "completed"
    },
    "tags": []
   },
   "outputs": [],
   "source": [
    "def labels_texts(file):\n",
    "    labels = []\n",
    "    texts = []\n",
    "    for line in bz2.BZ2File(file):\n",
    "        x = line.decode(\"utf-8\")\n",
    "        labels.append(int(x[9]) - 1)\n",
    "        texts.append(x[10:].strip())\n",
    "    return np.array(labels), texts\n",
    "\n"
   ]
  },
  {
   "cell_type": "code",
   "execution_count": 5,
   "id": "literary-conclusion",
   "metadata": {
    "execution": {
     "iopub.execute_input": "2021-12-12T08:53:38.017080Z",
     "iopub.status.busy": "2021-12-12T08:53:38.016551Z",
     "iopub.status.idle": "2021-12-12T08:55:34.383255Z",
     "shell.execute_reply": "2021-12-12T08:55:34.382170Z",
     "shell.execute_reply.started": "2021-12-08T21:23:44.454135Z"
    },
    "papermill": {
     "duration": 116.387483,
     "end_time": "2021-12-12T08:55:34.383442",
     "exception": false,
     "start_time": "2021-12-12T08:53:37.995959",
     "status": "completed"
    },
    "tags": []
   },
   "outputs": [],
   "source": [
    "train_label, train_text = labels_texts('../input/amazonreviews/train.ft.txt.bz2')\n",
    "test_label, test_text = labels_texts('../input/amazonreviews/test.ft.txt.bz2')"
   ]
  },
  {
   "cell_type": "code",
   "execution_count": 6,
   "id": "distant-forward",
   "metadata": {
    "execution": {
     "iopub.execute_input": "2021-12-12T08:55:34.421253Z",
     "iopub.status.busy": "2021-12-12T08:55:34.420654Z",
     "iopub.status.idle": "2021-12-12T08:55:34.424502Z",
     "shell.execute_reply": "2021-12-12T08:55:34.424050Z",
     "shell.execute_reply.started": "2021-12-08T21:26:27.960667Z"
    },
    "papermill": {
     "duration": 0.024121,
     "end_time": "2021-12-12T08:55:34.424615",
     "exception": false,
     "start_time": "2021-12-12T08:55:34.400494",
     "status": "completed"
    },
    "tags": []
   },
   "outputs": [
    {
     "name": "stdout",
     "output_type": "stream",
     "text": [
      "1\n",
      "Stuning even for the non-gamer: This sound track was beautiful! It paints the senery in your mind so well I would recomend it even to people who hate vid. game music! I have played the game Chrono Cross but out of all of the games I have ever played it has the best music! It backs away from crude keyboarding and takes a fresher step with grate guitars and soulful orchestras. It would impress anyone who cares to listen! ^_^\n"
     ]
    }
   ],
   "source": [
    "print(train_label[0])\n",
    "print(train_text[0])"
   ]
  },
  {
   "cell_type": "code",
   "execution_count": 7,
   "id": "broadband-dream",
   "metadata": {
    "execution": {
     "iopub.execute_input": "2021-12-12T08:55:34.463175Z",
     "iopub.status.busy": "2021-12-12T08:55:34.462510Z",
     "iopub.status.idle": "2021-12-12T08:55:34.465322Z",
     "shell.execute_reply": "2021-12-12T08:55:34.464923Z",
     "shell.execute_reply.started": "2021-12-08T21:26:27.967567Z"
    },
    "papermill": {
     "duration": 0.024422,
     "end_time": "2021-12-12T08:55:34.465453",
     "exception": false,
     "start_time": "2021-12-12T08:55:34.441031",
     "status": "completed"
    },
    "tags": []
   },
   "outputs": [],
   "source": [
    "import re\n",
    "not_numChar = re.compile(r'[\\W]')\n",
    "no_encode = re.compile(r'[^a-z0-1\\s]')\n",
    "def normalisation(texts):\n",
    "    norm_text = []\n",
    "    for word in texts:\n",
    "        lower = word.lower()\n",
    "        not_punct = not_numChar.sub(r' ', lower)\n",
    "        exclude_no_encode = no_encode.sub(r'', not_punct)\n",
    "        norm_text.append(exclude_no_encode)\n",
    "    return norm_text"
   ]
  },
  {
   "cell_type": "code",
   "execution_count": 8,
   "id": "indian-arena",
   "metadata": {
    "execution": {
     "iopub.execute_input": "2021-12-12T08:55:34.542548Z",
     "iopub.status.busy": "2021-12-12T08:55:34.522180Z",
     "iopub.status.idle": "2021-12-12T08:58:27.053339Z",
     "shell.execute_reply": "2021-12-12T08:58:27.052264Z",
     "shell.execute_reply.started": "2021-12-08T21:26:27.982804Z"
    },
    "papermill": {
     "duration": 172.571604,
     "end_time": "2021-12-12T08:58:27.053519",
     "exception": false,
     "start_time": "2021-12-12T08:55:34.481915",
     "status": "completed"
    },
    "tags": []
   },
   "outputs": [],
   "source": [
    "train_text = normalisation(train_text)\n",
    "test_text = normalisation(test_text)"
   ]
  },
  {
   "cell_type": "code",
   "execution_count": 9,
   "id": "interesting-armenia",
   "metadata": {
    "execution": {
     "iopub.execute_input": "2021-12-12T08:58:27.091347Z",
     "iopub.status.busy": "2021-12-12T08:58:27.090756Z",
     "iopub.status.idle": "2021-12-12T08:58:27.093487Z",
     "shell.execute_reply": "2021-12-12T08:58:27.093929Z",
     "shell.execute_reply.started": "2021-12-08T21:29:47.899099Z"
    },
    "papermill": {
     "duration": 0.023622,
     "end_time": "2021-12-12T08:58:27.094063",
     "exception": false,
     "start_time": "2021-12-12T08:58:27.070441",
     "status": "completed"
    },
    "tags": []
   },
   "outputs": [
    {
     "name": "stdout",
     "output_type": "stream",
     "text": [
      "stuning even for the non gamer  this sound track was beautiful  it paints the senery in your mind so well i would recomend it even to people who hate vid  game music  i have played the game chrono cross but out of all of the games i have ever played it has the best music  it backs away from crude keyboarding and takes a fresher step with grate guitars and soulful orchestras  it would impress anyone who cares to listen    \n"
     ]
    }
   ],
   "source": [
    "print(train_text[0])"
   ]
  },
  {
   "cell_type": "code",
   "execution_count": 10,
   "id": "aggregate-dispatch",
   "metadata": {
    "execution": {
     "iopub.execute_input": "2021-12-12T08:58:27.133634Z",
     "iopub.status.busy": "2021-12-12T08:58:27.132019Z",
     "iopub.status.idle": "2021-12-12T08:58:27.139757Z",
     "shell.execute_reply": "2021-12-12T08:58:27.139312Z",
     "shell.execute_reply.started": "2021-12-08T21:29:47.909335Z"
    },
    "papermill": {
     "duration": 0.028599,
     "end_time": "2021-12-12T08:58:27.139865",
     "exception": false,
     "start_time": "2021-12-12T08:58:27.111266",
     "status": "completed"
    },
    "tags": []
   },
   "outputs": [],
   "source": [
    "y_train = np.array(train_label)\n",
    "y_test = np.array(test_label)"
   ]
  },
  {
   "cell_type": "code",
   "execution_count": 11,
   "id": "actual-factory",
   "metadata": {
    "execution": {
     "iopub.execute_input": "2021-12-12T08:58:27.178823Z",
     "iopub.status.busy": "2021-12-12T08:58:27.178013Z",
     "iopub.status.idle": "2021-12-12T08:58:27.181469Z",
     "shell.execute_reply": "2021-12-12T08:58:27.181877Z",
     "shell.execute_reply.started": "2021-12-08T21:29:48.14836Z"
    },
    "papermill": {
     "duration": 0.025686,
     "end_time": "2021-12-12T08:58:27.182028",
     "exception": false,
     "start_time": "2021-12-12T08:58:27.156342",
     "status": "completed"
    },
    "tags": []
   },
   "outputs": [
    {
     "data": {
      "text/plain": [
       "(400000,)"
      ]
     },
     "execution_count": 11,
     "metadata": {},
     "output_type": "execute_result"
    }
   ],
   "source": [
    "y_test.shape"
   ]
  },
  {
   "cell_type": "code",
   "execution_count": 12,
   "id": "extensive-speech",
   "metadata": {
    "execution": {
     "iopub.execute_input": "2021-12-12T08:58:27.244492Z",
     "iopub.status.busy": "2021-12-12T08:58:27.239313Z",
     "iopub.status.idle": "2021-12-12T09:02:20.003135Z",
     "shell.execute_reply": "2021-12-12T09:02:20.003572Z",
     "shell.execute_reply.started": "2021-12-08T21:29:48.161032Z"
    },
    "papermill": {
     "duration": 232.80417,
     "end_time": "2021-12-12T09:02:20.003735",
     "exception": false,
     "start_time": "2021-12-12T08:58:27.199565",
     "status": "completed"
    },
    "tags": []
   },
   "outputs": [
    {
     "name": "stdout",
     "output_type": "stream",
     "text": [
      "Vocabulary Size : 905946\n"
     ]
    }
   ],
   "source": [
    "max_features = 8192\n",
    "maxlen = 128\n",
    "\n",
    "tokenizer = Tokenizer(num_words=max_features)\n",
    "tokenizer.fit_on_texts(train_text)\n",
    "\n",
    "word_index = tokenizer.word_index\n",
    "vocab_size = len(tokenizer.word_index) + 1\n",
    "print(\"Vocabulary Size :\", vocab_size)"
   ]
  },
  {
   "cell_type": "code",
   "execution_count": 13,
   "id": "absent-brazil",
   "metadata": {
    "execution": {
     "iopub.execute_input": "2021-12-12T09:02:20.042438Z",
     "iopub.status.busy": "2021-12-12T09:02:20.041903Z",
     "iopub.status.idle": "2021-12-12T09:02:20.881582Z",
     "shell.execute_reply": "2021-12-12T09:02:20.880565Z",
     "shell.execute_reply.started": "2021-12-08T21:34:39.735945Z"
    },
    "papermill": {
     "duration": 0.860437,
     "end_time": "2021-12-12T09:02:20.881721",
     "exception": false,
     "start_time": "2021-12-12T09:02:20.021284",
     "status": "completed"
    },
    "tags": []
   },
   "outputs": [],
   "source": [
    "import os \n",
    "with open('amazon_dictionary.txt', 'w') as file:\n",
    "    for key in word_index.keys():\n",
    "        file.write(key + \" \" + str(word_index[key]) + \",\")"
   ]
  },
  {
   "cell_type": "code",
   "execution_count": 14,
   "id": "faced-grocery",
   "metadata": {
    "execution": {
     "iopub.execute_input": "2021-12-12T09:02:20.959439Z",
     "iopub.status.busy": "2021-12-12T09:02:20.954286Z",
     "iopub.status.idle": "2021-12-12T09:05:50.147651Z",
     "shell.execute_reply": "2021-12-12T09:05:50.148146Z",
     "shell.execute_reply.started": "2021-12-08T21:34:40.77233Z"
    },
    "papermill": {
     "duration": 209.249379,
     "end_time": "2021-12-12T09:05:50.148338",
     "exception": false,
     "start_time": "2021-12-12T09:02:20.898959",
     "status": "completed"
    },
    "tags": []
   },
   "outputs": [],
   "source": [
    "training_token = tokenizer.texts_to_sequences(train_text)\n",
    "testing_token = tokenizer.texts_to_sequences(test_text)"
   ]
  },
  {
   "cell_type": "code",
   "execution_count": 15,
   "id": "deluxe-worse",
   "metadata": {
    "execution": {
     "iopub.execute_input": "2021-12-12T09:05:50.222759Z",
     "iopub.status.busy": "2021-12-12T09:05:50.217628Z",
     "iopub.status.idle": "2021-12-12T09:07:02.974425Z",
     "shell.execute_reply": "2021-12-12T09:07:02.973895Z",
     "shell.execute_reply.started": "2021-12-08T21:38:55.605176Z"
    },
    "papermill": {
     "duration": 72.807848,
     "end_time": "2021-12-12T09:07:02.974576",
     "exception": false,
     "start_time": "2021-12-12T09:05:50.166728",
     "status": "completed"
    },
    "tags": []
   },
   "outputs": [],
   "source": [
    "x_train = pad_sequences(training_token, maxlen = maxlen, padding = 'post')\n",
    "x_test = pad_sequences(testing_token, maxlen = maxlen, padding = 'post')"
   ]
  },
  {
   "cell_type": "code",
   "execution_count": 16,
   "id": "royal-feature",
   "metadata": {
    "execution": {
     "iopub.execute_input": "2021-12-12T09:07:03.015792Z",
     "iopub.status.busy": "2021-12-12T09:07:03.015102Z",
     "iopub.status.idle": "2021-12-12T09:07:04.264319Z",
     "shell.execute_reply": "2021-12-12T09:07:04.263283Z",
     "shell.execute_reply.started": "2021-12-08T21:40:19.880515Z"
    },
    "papermill": {
     "duration": 1.272178,
     "end_time": "2021-12-12T09:07:04.264497",
     "exception": false,
     "start_time": "2021-12-12T09:07:02.992319",
     "status": "completed"
    },
    "tags": []
   },
   "outputs": [],
   "source": [
    "import torch\n",
    "from torch.utils.data import TensorDataset, DataLoader\n",
    "import torch.nn as nn\n",
    "BATCH_SIZE = 50\n",
    "\n",
    "train_data = TensorDataset(torch.from_numpy(x_train), torch.from_numpy(y_train))\n",
    "test_data = TensorDataset(torch.from_numpy(x_test), torch.from_numpy(y_test))\n",
    "\n",
    "train_loader = DataLoader(train_data, shuffle=True, batch_size=BATCH_SIZE, drop_last = True)\n",
    "test_loader = DataLoader(test_data, shuffle=True, batch_size=BATCH_SIZE, drop_last = True)"
   ]
  },
  {
   "cell_type": "code",
   "execution_count": 17,
   "id": "indian-communications",
   "metadata": {
    "execution": {
     "iopub.execute_input": "2021-12-12T09:07:04.311980Z",
     "iopub.status.busy": "2021-12-12T09:07:04.310186Z",
     "iopub.status.idle": "2021-12-12T09:07:04.312629Z",
     "shell.execute_reply": "2021-12-12T09:07:04.313028Z",
     "shell.execute_reply.started": "2021-12-08T21:40:20.986111Z"
    },
    "papermill": {
     "duration": 0.030878,
     "end_time": "2021-12-12T09:07:04.313146",
     "exception": false,
     "start_time": "2021-12-12T09:07:04.282268",
     "status": "completed"
    },
    "tags": []
   },
   "outputs": [],
   "source": [
    "class SentimentNet(nn.Module):\n",
    "    def __init__(self, vocab_size, output_size, embedding_dim, hidden_dim, n_layers, drop_prob=0.5):\n",
    "        super(SentimentNet, self).__init__()\n",
    "        self.output_size = output_size\n",
    "        self.n_layers = n_layers\n",
    "        self.hidden_dim = hidden_dim\n",
    "        \n",
    "        \n",
    "        self.embedding = nn.Embedding(vocab_size, embedding_dim)\n",
    "        #self.conv = nn.Conv1d(embedding_dim, 8, kernel_size=5)\n",
    "        self.lstm = nn.LSTM(embedding_dim, hidden_dim, n_layers, dropout=drop_prob, batch_first=True)\n",
    "        #self.gru = nn.GRU(embedding_dim, hidden_dim, n_layers, dropout=drop_prob, batch_first=True)\n",
    "        self.dropout = nn.Dropout(drop_prob)\n",
    "        self.fc = nn.Linear(hidden_dim, output_size)\n",
    "        self.sigmoid = nn.Sigmoid()\n",
    "        \n",
    "    def forward(self, x, hidden):\n",
    "        #print(x.shape)\n",
    "        if len(x) != 1:\n",
    "            batch_size = x.size(0)\n",
    "        else:\n",
    "            batch_size = 1\n",
    "        x = x.long()\n",
    "        embeds = self.embedding(x)\n",
    "\n",
    "        #conv = self.conv(x)\n",
    "        \n",
    "        lstm_out, hidden = self.lstm(embeds, hidden)\n",
    "        lstm_out = lstm_out.contiguous().view(-1, self.hidden_dim)\n",
    "        \n",
    "        out = self.dropout(lstm_out)\n",
    "        out = self.fc(out)\n",
    "        out = self.sigmoid(out)\n",
    "        \n",
    "        out = out.view(batch_size, -1)\n",
    "        out = out[:,-1]\n",
    "        return out, hidden\n",
    "    \n",
    "    def init_hidden(self, batch_size):\n",
    "        weight = next(self.parameters()).data\n",
    "        hidden = (weight.new(self.n_layers, batch_size, self.hidden_dim).zero_().to(device),weight.new(self.n_layers, batch_size, self.hidden_dim).zero_().to(device))\n",
    "        #hidden = (weight.new(self.n_layers, batch_size, self.hidden_dim).zero_(),\n",
    "        #             weight.new(self.n_layers, batch_size, self.hidden_dim).zero_())\n",
    "        return hidden"
   ]
  },
  {
   "cell_type": "code",
   "execution_count": 18,
   "id": "varied-principle",
   "metadata": {
    "execution": {
     "iopub.execute_input": "2021-12-12T09:07:04.351979Z",
     "iopub.status.busy": "2021-12-12T09:07:04.351223Z",
     "iopub.status.idle": "2021-12-12T09:07:04.354083Z",
     "shell.execute_reply": "2021-12-12T09:07:04.353684Z",
     "shell.execute_reply.started": "2021-12-08T21:40:21.00062Z"
    },
    "papermill": {
     "duration": 0.024115,
     "end_time": "2021-12-12T09:07:04.354184",
     "exception": false,
     "start_time": "2021-12-12T09:07:04.330069",
     "status": "completed"
    },
    "tags": []
   },
   "outputs": [],
   "source": [
    "def model_params(model):\n",
    "    pp=0\n",
    "    for p in list(model.parameters()):\n",
    "        nn=1\n",
    "        for s in list(p.size()):\n",
    "            nn = nn*s\n",
    "        pp += nn\n",
    "    return pp"
   ]
  },
  {
   "cell_type": "code",
   "execution_count": 19,
   "id": "essential-country",
   "metadata": {
    "execution": {
     "iopub.execute_input": "2021-12-12T09:07:04.396300Z",
     "iopub.status.busy": "2021-12-12T09:07:04.395805Z",
     "iopub.status.idle": "2021-12-12T09:07:10.148466Z",
     "shell.execute_reply": "2021-12-12T09:07:10.147966Z",
     "shell.execute_reply.started": "2021-12-08T21:40:21.018613Z"
    },
    "papermill": {
     "duration": 5.777436,
     "end_time": "2021-12-12T09:07:10.148605",
     "exception": false,
     "start_time": "2021-12-12T09:07:04.371169",
     "status": "completed"
    },
    "tags": []
   },
   "outputs": [
    {
     "name": "stdout",
     "output_type": "stream",
     "text": [
      "9251926\n"
     ]
    }
   ],
   "source": [
    "output_size = 1\n",
    "embedding_dim = 10\n",
    "hidden_dim = 45\n",
    "n_layers = 12\n",
    "\n",
    "model = SentimentNet(vocab_size, output_size, embedding_dim, hidden_dim, n_layers)\n",
    "print(model_params(model))\n",
    "model.to(device)\n",
    "lr=0.01\n",
    "criterion = nn.BCELoss()\n",
    "optimizer = torch.optim.Adam(model.parameters(), lr=lr)"
   ]
  },
  {
   "cell_type": "code",
   "execution_count": 20,
   "id": "constant-nashville",
   "metadata": {
    "execution": {
     "iopub.execute_input": "2021-12-12T09:07:10.195427Z",
     "iopub.status.busy": "2021-12-12T09:07:10.194836Z",
     "iopub.status.idle": "2021-12-12T17:29:12.204599Z",
     "shell.execute_reply": "2021-12-12T17:29:12.203917Z",
     "shell.execute_reply.started": "2021-12-08T21:40:22.585467Z"
    },
    "papermill": {
     "duration": 30122.037578,
     "end_time": "2021-12-12T17:29:12.204748",
     "exception": false,
     "start_time": "2021-12-12T09:07:10.167170",
     "status": "completed"
    },
    "tags": []
   },
   "outputs": [
    {
     "name": "stdout",
     "output_type": "stream",
     "text": [
      "Epoch: 1/2... Step: 5000... Loss: 0.689689... Val Loss: 0.693473\n",
      "Validation loss decreased (inf --> 0.693473).  Saving model ...\n",
      "Epoch: 1/2... Step: 10000... Loss: 0.691626... Val Loss: 0.693343\n",
      "Validation loss decreased (0.693473 --> 0.693343).  Saving model ...\n",
      "Epoch: 1/2... Step: 15000... Loss: 0.695916... Val Loss: 0.693191\n",
      "Validation loss decreased (0.693343 --> 0.693191).  Saving model ...\n",
      "Epoch: 1/2... Step: 20000... Loss: 0.688696... Val Loss: 0.694283\n",
      "Epoch: 1/2... Step: 25000... Loss: 0.694788... Val Loss: 0.693392\n",
      "Epoch: 1/2... Step: 30000... Loss: 0.689581... Val Loss: 0.693407\n",
      "Epoch: 1/2... Step: 35000... Loss: 0.693557... Val Loss: 0.693159\n",
      "Validation loss decreased (0.693191 --> 0.693159).  Saving model ...\n",
      "Epoch: 1/2... Step: 40000... Loss: 0.684725... Val Loss: 0.693518\n",
      "Epoch: 1/2... Step: 45000... Loss: 0.692910... Val Loss: 0.693168\n",
      "Epoch: 1/2... Step: 50000... Loss: 0.691185... Val Loss: 0.693179\n",
      "Epoch: 1/2... Step: 55000... Loss: 0.692776... Val Loss: 0.693165\n",
      "Epoch: 1/2... Step: 60000... Loss: 0.688684... Val Loss: 0.693467\n",
      "Epoch: 1/2... Step: 65000... Loss: 0.691044... Val Loss: 0.693373\n",
      "Epoch: 1/2... Step: 70000... Loss: 0.693442... Val Loss: 0.693147\n",
      "Validation loss decreased (0.693159 --> 0.693147).  Saving model ...\n",
      "Epoch: 2/2... Step: 75000... Loss: 0.694341... Val Loss: 0.693386\n",
      "Epoch: 2/2... Step: 80000... Loss: 0.692868... Val Loss: 0.693172\n",
      "Epoch: 2/2... Step: 85000... Loss: 0.691676... Val Loss: 0.693360\n",
      "Epoch: 2/2... Step: 90000... Loss: 0.694324... Val Loss: 0.693407\n",
      "Epoch: 2/2... Step: 95000... Loss: 0.693108... Val Loss: 0.693148\n",
      "Epoch: 2/2... Step: 100000... Loss: 0.693257... Val Loss: 0.693147\n",
      "Validation loss decreased (0.693147 --> 0.693147).  Saving model ...\n",
      "Epoch: 2/2... Step: 105000... Loss: 0.694625... Val Loss: 0.693319\n",
      "Epoch: 2/2... Step: 110000... Loss: 0.695972... Val Loss: 0.693206\n",
      "Epoch: 2/2... Step: 115000... Loss: 0.694784... Val Loss: 0.693574\n",
      "Epoch: 2/2... Step: 120000... Loss: 0.707275... Val Loss: 0.693150\n",
      "Epoch: 2/2... Step: 125000... Loss: 0.695715... Val Loss: 0.693510\n",
      "Epoch: 2/2... Step: 130000... Loss: 0.695419... Val Loss: 0.693226\n",
      "Epoch: 2/2... Step: 135000... Loss: 0.693263... Val Loss: 0.693274\n",
      "Epoch: 2/2... Step: 140000... Loss: 0.690697... Val Loss: 0.693176\n"
     ]
    }
   ],
   "source": [
    "epochs = 2\n",
    "counter = 0\n",
    "print_every = 5000\n",
    "clip = 5\n",
    "valid_loss_min = np.Inf\n",
    "\n",
    "model.train()\n",
    "for i in range(epochs):\n",
    "    h = model.init_hidden(BATCH_SIZE)\n",
    "    \n",
    "    for inputs, labels in train_loader:\n",
    "        counter += 1\n",
    "        h = tuple([e.data for e in h])\n",
    "        inputs, labels = inputs.to(device), labels.to(device)\n",
    "        model.zero_grad()\n",
    "        output, h = model(inputs, h)\n",
    "        loss = criterion(output, labels.float())\n",
    "        loss.backward()\n",
    "        #nn.utils.clip_grad_norm_(model.parameters(), clip)\n",
    "        optimizer.step()\n",
    "        \n",
    "        if counter%print_every == 0:\n",
    "            val_h = model.init_hidden(BATCH_SIZE)\n",
    "            val_losses = []\n",
    "            model.eval()\n",
    "            for inp, lab in test_loader:\n",
    "                val_h = tuple([each.data for each in val_h])\n",
    "                inp, lab = inp.to(device), lab.to(device)\n",
    "                out, val_h = model(inp, val_h)\n",
    "                val_loss = criterion(out, lab.float())\n",
    "                val_losses.append(val_loss.item())\n",
    "                \n",
    "            model.train()\n",
    "            print(\"Epoch: {}/{}...\".format(i+1, epochs),\n",
    "                  \"Step: {}...\".format(counter),\n",
    "                  \"Loss: {:.6f}...\".format(loss.item()),\n",
    "                  \"Val Loss: {:.6f}\".format(np.mean(val_losses)))\n",
    "            if np.mean(val_losses) <= valid_loss_min:\n",
    "                torch.save(model.state_dict(), './state_dict.pt')\n",
    "                print('Validation loss decreased ({:.6f} --> {:.6f}).  Saving model ...'.format(valid_loss_min,np.mean(val_losses)))\n",
    "                valid_loss_min = np.mean(val_losses)"
   ]
  },
  {
   "cell_type": "code",
   "execution_count": 21,
   "id": "strong-elements",
   "metadata": {
    "execution": {
     "iopub.execute_input": "2021-12-12T17:29:12.258819Z",
     "iopub.status.busy": "2021-12-12T17:29:12.258282Z",
     "iopub.status.idle": "2021-12-12T17:29:12.262286Z",
     "shell.execute_reply": "2021-12-12T17:29:12.261887Z"
    },
    "papermill": {
     "duration": 0.032349,
     "end_time": "2021-12-12T17:29:12.262421",
     "exception": false,
     "start_time": "2021-12-12T17:29:12.230072",
     "status": "completed"
    },
    "tags": []
   },
   "outputs": [],
   "source": [
    "h = model.init_hidden(1)"
   ]
  },
  {
   "cell_type": "code",
   "execution_count": 22,
   "id": "democratic-scheme",
   "metadata": {
    "execution": {
     "iopub.execute_input": "2021-12-12T17:29:12.316938Z",
     "iopub.status.busy": "2021-12-12T17:29:12.316189Z",
     "iopub.status.idle": "2021-12-12T17:29:12.370142Z",
     "shell.execute_reply": "2021-12-12T17:29:12.370658Z"
    },
    "papermill": {
     "duration": 0.083479,
     "end_time": "2021-12-12T17:29:12.370803",
     "exception": false,
     "start_time": "2021-12-12T17:29:12.287324",
     "status": "completed"
    },
    "tags": []
   },
   "outputs": [
    {
     "data": {
      "text/plain": [
       "tensor([0.5038], device='cuda:0', grad_fn=<SelectBackward>)"
      ]
     },
     "execution_count": 22,
     "metadata": {},
     "output_type": "execute_result"
    }
   ],
   "source": [
    "sentence = \"I love this film, it was so awesome!\"\n",
    "trial = torch.tensor(pad_sequences(tokenizer.texts_to_sequences([sentence]), maxlen = maxlen)).to(device)\n",
    "\n",
    "model(trial, h)[0]"
   ]
  },
  {
   "cell_type": "code",
   "execution_count": 23,
   "id": "graduate-breeding",
   "metadata": {
    "execution": {
     "iopub.execute_input": "2021-12-12T17:29:12.434650Z",
     "iopub.status.busy": "2021-12-12T17:29:12.433913Z",
     "iopub.status.idle": "2021-12-12T17:29:12.784646Z",
     "shell.execute_reply": "2021-12-12T17:29:12.784131Z"
    },
    "papermill": {
     "duration": 0.38436,
     "end_time": "2021-12-12T17:29:12.784777",
     "exception": false,
     "start_time": "2021-12-12T17:29:12.400417",
     "status": "completed"
    },
    "tags": []
   },
   "outputs": [
    {
     "name": "stderr",
     "output_type": "stream",
     "text": [
      "/opt/conda/lib/python3.7/site-packages/ipykernel_launcher.py:19: TracerWarning: Converting a tensor to a Python index might cause the trace to be incorrect. We can't record the data flow of Python values, so this value will be treated as a constant in the future. This means that the trace might not generalize to other inputs!\n",
      "/opt/conda/lib/python3.7/site-packages/torch/onnx/symbolic_opset9.py:1805: UserWarning: Exporting a model to ONNX with a batch_size other than 1, with a variable length with LSTM can cause an error when running the ONNX model with a different batch size. Make sure to save the model with a batch size of 1, or define the initial states (h0/c0) as inputs of the model. \n",
      "  \"or define the initial states (h0/c0) as inputs of the model. \")\n"
     ]
    }
   ],
   "source": [
    "import torch.onnx\n",
    "torch.onnx.export(model,               # model being run\n",
    "                  (trial, (torch.randn(n_layers,1,hidden_dim).to(device), torch.randn(n_layers,1,hidden_dim).to(device))),                   # model input (or a tuple for multiple inputs)\n",
    "                  \"lstm-PT.onnx\")"
   ]
  }
 ],
 "metadata": {
  "kernelspec": {
   "display_name": "Python 3",
   "language": "python",
   "name": "python3"
  },
  "language_info": {
   "codemirror_mode": {
    "name": "ipython",
    "version": 3
   },
   "file_extension": ".py",
   "mimetype": "text/x-python",
   "name": "python",
   "nbconvert_exporter": "python",
   "pygments_lexer": "ipython3",
   "version": "3.7.9"
  },
  "papermill": {
   "default_parameters": {},
   "duration": 30950.570508,
   "end_time": "2021-12-12T17:29:18.118789",
   "environment_variables": {},
   "exception": null,
   "input_path": "__notebook__.ipynb",
   "output_path": "__notebook__.ipynb",
   "parameters": {},
   "start_time": "2021-12-12T08:53:27.548281",
   "version": "2.3.2"
  }
 },
 "nbformat": 4,
 "nbformat_minor": 5
}
