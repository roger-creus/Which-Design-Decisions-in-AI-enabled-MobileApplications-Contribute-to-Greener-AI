{
 "cells": [
  {
   "cell_type": "code",
   "execution_count": 1,
   "id": "94c71c50",
   "metadata": {
    "_cell_guid": "b1076dfc-b9ad-4769-8c92-a6c4dae69d19",
    "_uuid": "8f2839f25d086af736a60e9eeb907d3b93b6e0e5",
    "execution": {
     "iopub.execute_input": "2021-12-15T15:07:48.955278Z",
     "iopub.status.busy": "2021-12-15T15:07:48.954557Z",
     "iopub.status.idle": "2021-12-15T15:07:48.970594Z",
     "shell.execute_reply": "2021-12-15T15:07:48.971130Z",
     "shell.execute_reply.started": "2021-12-15T09:47:04.551436Z"
    },
    "papermill": {
     "duration": 0.04654,
     "end_time": "2021-12-15T15:07:48.971441",
     "exception": false,
     "start_time": "2021-12-15T15:07:48.924901",
     "status": "completed"
    },
    "tags": []
   },
   "outputs": [
    {
     "name": "stdout",
     "output_type": "stream",
     "text": [
      "/kaggle/input/amazonreviews/test.ft.txt.bz2\n",
      "/kaggle/input/amazonreviews/train.ft.txt.bz2\n"
     ]
    }
   ],
   "source": [
    "# This Python 3 environment comes with many helpful analytics libraries installed\n",
    "# It is defined by the kaggle/python Docker image: https://github.com/kaggle/docker-python\n",
    "# For example, here's several helpful packages to load\n",
    "\n",
    "import numpy as np # linear algebra\n",
    "import pandas as pd # data processing, CSV file I/O (e.g. pd.read_csv)\n",
    "\n",
    "# Input data files are available in the read-only \"../input/\" directory\n",
    "# For example, running this (by clicking run or pressing Shift+Enter) will list all files under the input directory\n",
    "\n",
    "import os\n",
    "for dirname, _, filenames in os.walk('/kaggle/input'):\n",
    "    for filename in filenames:\n",
    "        print(os.path.join(dirname, filename))\n",
    "\n",
    "# You can write up to 20GB to the current directory (/kaggle/working/) that gets preserved as output when you create a version using \"Save & Run All\" \n",
    "# You can also write temporary files to /kaggle/temp/, but they won't be saved outside of the current session"
   ]
  },
  {
   "cell_type": "code",
   "execution_count": 2,
   "id": "02eddd05",
   "metadata": {
    "execution": {
     "iopub.execute_input": "2021-12-15T15:07:49.010226Z",
     "iopub.status.busy": "2021-12-15T15:07:49.009714Z",
     "iopub.status.idle": "2021-12-15T15:07:54.303916Z",
     "shell.execute_reply": "2021-12-15T15:07:54.304398Z",
     "shell.execute_reply.started": "2021-12-15T09:47:04.602525Z"
    },
    "papermill": {
     "duration": 5.316336,
     "end_time": "2021-12-15T15:07:54.304763",
     "exception": false,
     "start_time": "2021-12-15T15:07:48.988427",
     "status": "completed"
    },
    "tags": []
   },
   "outputs": [],
   "source": [
    "import pandas as pd\n",
    "import numpy as np\n",
    "import bz2\n",
    "import matplotlib.pyplot as plt\n",
    "import sklearn\n",
    "import tensorflow as tf\n",
    "from tensorflow.keras import models, layers, optimizers\n",
    "from tensorflow.keras.preprocessing.text import Tokenizer, text_to_word_sequence\n",
    "from tensorflow.keras.preprocessing.sequence import pad_sequences\n",
    "\n",
    "%matplotlib inline"
   ]
  },
  {
   "cell_type": "code",
   "execution_count": 3,
   "id": "02ca4774",
   "metadata": {
    "execution": {
     "iopub.execute_input": "2021-12-15T15:07:54.340828Z",
     "iopub.status.busy": "2021-12-15T15:07:54.340067Z",
     "iopub.status.idle": "2021-12-15T15:07:54.342403Z",
     "shell.execute_reply": "2021-12-15T15:07:54.342000Z",
     "shell.execute_reply.started": "2021-12-15T09:47:11.616003Z"
    },
    "papermill": {
     "duration": 0.02167,
     "end_time": "2021-12-15T15:07:54.342528",
     "exception": false,
     "start_time": "2021-12-15T15:07:54.320858",
     "status": "completed"
    },
    "tags": []
   },
   "outputs": [],
   "source": [
    "device = \"cuda:0\""
   ]
  },
  {
   "cell_type": "code",
   "execution_count": 4,
   "id": "6bcc01bb",
   "metadata": {
    "execution": {
     "iopub.execute_input": "2021-12-15T15:07:54.379580Z",
     "iopub.status.busy": "2021-12-15T15:07:54.379021Z",
     "iopub.status.idle": "2021-12-15T15:07:54.382687Z",
     "shell.execute_reply": "2021-12-15T15:07:54.382144Z",
     "shell.execute_reply.started": "2021-12-15T09:47:11.628463Z"
    },
    "papermill": {
     "duration": 0.024926,
     "end_time": "2021-12-15T15:07:54.382804",
     "exception": false,
     "start_time": "2021-12-15T15:07:54.357878",
     "status": "completed"
    },
    "tags": []
   },
   "outputs": [],
   "source": [
    "def labels_texts(file):\n",
    "    labels = []\n",
    "    texts = []\n",
    "    for line in bz2.BZ2File(file):\n",
    "        x = line.decode(\"utf-8\")\n",
    "        labels.append(int(x[9]) - 1)\n",
    "        texts.append(x[10:].strip())\n",
    "    return np.array(labels), texts\n",
    "\n"
   ]
  },
  {
   "cell_type": "code",
   "execution_count": 5,
   "id": "2bfaf6cd",
   "metadata": {
    "execution": {
     "iopub.execute_input": "2021-12-15T15:07:54.418058Z",
     "iopub.status.busy": "2021-12-15T15:07:54.417548Z",
     "iopub.status.idle": "2021-12-15T15:09:54.564562Z",
     "shell.execute_reply": "2021-12-15T15:09:54.563647Z",
     "shell.execute_reply.started": "2021-12-15T09:47:11.649092Z"
    },
    "papermill": {
     "duration": 120.165492,
     "end_time": "2021-12-15T15:09:54.564718",
     "exception": false,
     "start_time": "2021-12-15T15:07:54.399226",
     "status": "completed"
    },
    "tags": []
   },
   "outputs": [],
   "source": [
    "train_label, train_text = labels_texts('../input/amazonreviews/train.ft.txt.bz2')\n",
    "test_label, test_text = labels_texts('../input/amazonreviews/test.ft.txt.bz2')"
   ]
  },
  {
   "cell_type": "code",
   "execution_count": 6,
   "id": "f110866e",
   "metadata": {
    "execution": {
     "iopub.execute_input": "2021-12-15T15:09:54.601256Z",
     "iopub.status.busy": "2021-12-15T15:09:54.600628Z",
     "iopub.status.idle": "2021-12-15T15:09:54.603607Z",
     "shell.execute_reply": "2021-12-15T15:09:54.604172Z",
     "shell.execute_reply.started": "2021-12-15T09:49:33.606373Z"
    },
    "papermill": {
     "duration": 0.023647,
     "end_time": "2021-12-15T15:09:54.604340",
     "exception": false,
     "start_time": "2021-12-15T15:09:54.580693",
     "status": "completed"
    },
    "tags": []
   },
   "outputs": [
    {
     "name": "stdout",
     "output_type": "stream",
     "text": [
      "1\n",
      "Stuning even for the non-gamer: This sound track was beautiful! It paints the senery in your mind so well I would recomend it even to people who hate vid. game music! I have played the game Chrono Cross but out of all of the games I have ever played it has the best music! It backs away from crude keyboarding and takes a fresher step with grate guitars and soulful orchestras. It would impress anyone who cares to listen! ^_^\n"
     ]
    }
   ],
   "source": [
    "print(train_label[0])\n",
    "print(train_text[0])"
   ]
  },
  {
   "cell_type": "code",
   "execution_count": 7,
   "id": "e166d956",
   "metadata": {
    "execution": {
     "iopub.execute_input": "2021-12-15T15:09:54.643209Z",
     "iopub.status.busy": "2021-12-15T15:09:54.642478Z",
     "iopub.status.idle": "2021-12-15T15:09:54.645538Z",
     "shell.execute_reply": "2021-12-15T15:09:54.645039Z",
     "shell.execute_reply.started": "2021-12-15T09:49:33.618974Z"
    },
    "papermill": {
     "duration": 0.024014,
     "end_time": "2021-12-15T15:09:54.645649",
     "exception": false,
     "start_time": "2021-12-15T15:09:54.621635",
     "status": "completed"
    },
    "tags": []
   },
   "outputs": [],
   "source": [
    "import re\n",
    "not_numChar = re.compile(r'[\\W]')\n",
    "no_encode = re.compile(r'[^a-z0-1\\s]')\n",
    "def normalisation(texts):\n",
    "    norm_text = []\n",
    "    for word in texts:\n",
    "        lower = word.lower()\n",
    "        not_punct = not_numChar.sub(r' ', lower)\n",
    "        exclude_no_encode = no_encode.sub(r'', not_punct)\n",
    "        norm_text.append(exclude_no_encode)\n",
    "    return norm_text"
   ]
  },
  {
   "cell_type": "code",
   "execution_count": 8,
   "id": "20a8e8ef",
   "metadata": {
    "execution": {
     "iopub.execute_input": "2021-12-15T15:09:54.710065Z",
     "iopub.status.busy": "2021-12-15T15:09:54.702145Z",
     "iopub.status.idle": "2021-12-15T15:12:53.281938Z",
     "shell.execute_reply": "2021-12-15T15:12:53.281411Z",
     "shell.execute_reply.started": "2021-12-15T09:49:33.631996Z"
    },
    "papermill": {
     "duration": 178.620569,
     "end_time": "2021-12-15T15:12:53.282074",
     "exception": false,
     "start_time": "2021-12-15T15:09:54.661505",
     "status": "completed"
    },
    "tags": []
   },
   "outputs": [],
   "source": [
    "train_text = normalisation(train_text)\n",
    "test_text = normalisation(test_text)"
   ]
  },
  {
   "cell_type": "code",
   "execution_count": 9,
   "id": "c28c53bd",
   "metadata": {
    "execution": {
     "iopub.execute_input": "2021-12-15T15:12:53.321312Z",
     "iopub.status.busy": "2021-12-15T15:12:53.320763Z",
     "iopub.status.idle": "2021-12-15T15:12:53.323703Z",
     "shell.execute_reply": "2021-12-15T15:12:53.324272Z",
     "shell.execute_reply.started": "2021-12-15T09:52:56.562418Z"
    },
    "papermill": {
     "duration": 0.02364,
     "end_time": "2021-12-15T15:12:53.324452",
     "exception": false,
     "start_time": "2021-12-15T15:12:53.300812",
     "status": "completed"
    },
    "tags": []
   },
   "outputs": [
    {
     "name": "stdout",
     "output_type": "stream",
     "text": [
      "stuning even for the non gamer  this sound track was beautiful  it paints the senery in your mind so well i would recomend it even to people who hate vid  game music  i have played the game chrono cross but out of all of the games i have ever played it has the best music  it backs away from crude keyboarding and takes a fresher step with grate guitars and soulful orchestras  it would impress anyone who cares to listen    \n"
     ]
    }
   ],
   "source": [
    "print(train_text[0])"
   ]
  },
  {
   "cell_type": "code",
   "execution_count": 10,
   "id": "6fa91b15",
   "metadata": {
    "execution": {
     "iopub.execute_input": "2021-12-15T15:12:53.365764Z",
     "iopub.status.busy": "2021-12-15T15:12:53.364174Z",
     "iopub.status.idle": "2021-12-15T15:12:53.371743Z",
     "shell.execute_reply": "2021-12-15T15:12:53.371291Z",
     "shell.execute_reply.started": "2021-12-15T09:52:56.574224Z"
    },
    "papermill": {
     "duration": 0.029523,
     "end_time": "2021-12-15T15:12:53.371868",
     "exception": false,
     "start_time": "2021-12-15T15:12:53.342345",
     "status": "completed"
    },
    "tags": []
   },
   "outputs": [],
   "source": [
    "y_train = np.array(train_label)\n",
    "y_test = np.array(test_label)"
   ]
  },
  {
   "cell_type": "code",
   "execution_count": 11,
   "id": "ea89d301",
   "metadata": {
    "execution": {
     "iopub.execute_input": "2021-12-15T15:12:53.412706Z",
     "iopub.status.busy": "2021-12-15T15:12:53.412005Z",
     "iopub.status.idle": "2021-12-15T15:12:53.415017Z",
     "shell.execute_reply": "2021-12-15T15:12:53.415456Z",
     "shell.execute_reply.started": "2021-12-15T09:52:56.598686Z"
    },
    "papermill": {
     "duration": 0.027015,
     "end_time": "2021-12-15T15:12:53.415585",
     "exception": false,
     "start_time": "2021-12-15T15:12:53.388570",
     "status": "completed"
    },
    "tags": []
   },
   "outputs": [
    {
     "data": {
      "text/plain": [
       "(400000,)"
      ]
     },
     "execution_count": 11,
     "metadata": {},
     "output_type": "execute_result"
    }
   ],
   "source": [
    "y_test.shape"
   ]
  },
  {
   "cell_type": "code",
   "execution_count": 12,
   "id": "49d28eff",
   "metadata": {
    "execution": {
     "iopub.execute_input": "2021-12-15T15:12:53.482411Z",
     "iopub.status.busy": "2021-12-15T15:12:53.466794Z",
     "iopub.status.idle": "2021-12-15T15:16:45.735017Z",
     "shell.execute_reply": "2021-12-15T15:16:45.735664Z",
     "shell.execute_reply.started": "2021-12-15T09:52:56.818906Z"
    },
    "papermill": {
     "duration": 232.303011,
     "end_time": "2021-12-15T15:16:45.735870",
     "exception": false,
     "start_time": "2021-12-15T15:12:53.432859",
     "status": "completed"
    },
    "tags": []
   },
   "outputs": [
    {
     "name": "stdout",
     "output_type": "stream",
     "text": [
      "Vocabulary Size : 905946\n"
     ]
    }
   ],
   "source": [
    "max_features = 8192\n",
    "maxlen = 128\n",
    "\n",
    "tokenizer = Tokenizer(num_words=max_features)\n",
    "tokenizer.fit_on_texts(train_text)\n",
    "\n",
    "word_index = tokenizer.word_index\n",
    "vocab_size = len(tokenizer.word_index) + 1\n",
    "print(\"Vocabulary Size :\", vocab_size)"
   ]
  },
  {
   "cell_type": "code",
   "execution_count": 13,
   "id": "2cc4f595",
   "metadata": {
    "execution": {
     "iopub.execute_input": "2021-12-15T15:16:45.775296Z",
     "iopub.status.busy": "2021-12-15T15:16:45.774528Z",
     "iopub.status.idle": "2021-12-15T15:16:46.604575Z",
     "shell.execute_reply": "2021-12-15T15:16:46.604029Z",
     "shell.execute_reply.started": "2021-12-15T09:58:13.726016Z"
    },
    "papermill": {
     "duration": 0.850789,
     "end_time": "2021-12-15T15:16:46.604715",
     "exception": false,
     "start_time": "2021-12-15T15:16:45.753926",
     "status": "completed"
    },
    "tags": []
   },
   "outputs": [],
   "source": [
    "import os \n",
    "with open('amazon_dictionary.txt', 'w') as file:\n",
    "    for key in word_index.keys():\n",
    "        file.write(key + \" \" + str(word_index[key]) + \",\")"
   ]
  },
  {
   "cell_type": "code",
   "execution_count": 14,
   "id": "3fe0eaa9",
   "metadata": {
    "execution": {
     "iopub.execute_input": "2021-12-15T15:16:46.661078Z",
     "iopub.status.busy": "2021-12-15T15:16:46.650986Z",
     "iopub.status.idle": "2021-12-15T15:20:16.122532Z",
     "shell.execute_reply": "2021-12-15T15:20:16.121994Z",
     "shell.execute_reply.started": "2021-12-15T09:58:14.779469Z"
    },
    "papermill": {
     "duration": 209.501042,
     "end_time": "2021-12-15T15:20:16.122687",
     "exception": false,
     "start_time": "2021-12-15T15:16:46.621645",
     "status": "completed"
    },
    "tags": []
   },
   "outputs": [],
   "source": [
    "training_token = tokenizer.texts_to_sequences(train_text)\n",
    "testing_token = tokenizer.texts_to_sequences(test_text)"
   ]
  },
  {
   "cell_type": "code",
   "execution_count": 15,
   "id": "a5a2f2ef",
   "metadata": {
    "execution": {
     "iopub.execute_input": "2021-12-15T15:20:16.210645Z",
     "iopub.status.busy": "2021-12-15T15:20:16.205475Z",
     "iopub.status.idle": "2021-12-15T15:21:30.007622Z",
     "shell.execute_reply": "2021-12-15T15:21:30.007130Z",
     "shell.execute_reply.started": "2021-12-15T10:02:34.793198Z"
    },
    "papermill": {
     "duration": 73.867582,
     "end_time": "2021-12-15T15:21:30.007763",
     "exception": false,
     "start_time": "2021-12-15T15:20:16.140181",
     "status": "completed"
    },
    "tags": []
   },
   "outputs": [],
   "source": [
    "x_train = pad_sequences(training_token, maxlen = maxlen, padding = 'post')\n",
    "x_test = pad_sequences(testing_token, maxlen = maxlen, padding = 'post')"
   ]
  },
  {
   "cell_type": "code",
   "execution_count": 16,
   "id": "0464a3ee",
   "metadata": {
    "execution": {
     "iopub.execute_input": "2021-12-15T15:21:30.047918Z",
     "iopub.status.busy": "2021-12-15T15:21:30.047269Z",
     "iopub.status.idle": "2021-12-15T15:21:31.412321Z",
     "shell.execute_reply": "2021-12-15T15:21:31.411838Z",
     "shell.execute_reply.started": "2021-12-15T10:03:54.502031Z"
    },
    "papermill": {
     "duration": 1.387441,
     "end_time": "2021-12-15T15:21:31.412485",
     "exception": false,
     "start_time": "2021-12-15T15:21:30.025044",
     "status": "completed"
    },
    "tags": []
   },
   "outputs": [],
   "source": [
    "import torch\n",
    "from torch.utils.data import TensorDataset, DataLoader\n",
    "import torch.nn as nn\n",
    "BATCH_SIZE = 50\n",
    "\n",
    "train_data = TensorDataset(torch.from_numpy(x_train), torch.from_numpy(y_train))\n",
    "test_data = TensorDataset(torch.from_numpy(x_test), torch.from_numpy(y_test))\n",
    "\n",
    "train_loader = DataLoader(train_data, shuffle=True, batch_size=BATCH_SIZE, drop_last = True)\n",
    "test_loader = DataLoader(test_data, shuffle=True, batch_size=BATCH_SIZE, drop_last = True)"
   ]
  },
  {
   "cell_type": "code",
   "execution_count": 17,
   "id": "97f8f5af",
   "metadata": {
    "execution": {
     "iopub.execute_input": "2021-12-15T15:21:31.463123Z",
     "iopub.status.busy": "2021-12-15T15:21:31.461449Z",
     "iopub.status.idle": "2021-12-15T15:21:31.463715Z",
     "shell.execute_reply": "2021-12-15T15:21:31.464110Z",
     "shell.execute_reply.started": "2021-12-15T10:19:14.696233Z"
    },
    "papermill": {
     "duration": 0.033936,
     "end_time": "2021-12-15T15:21:31.464229",
     "exception": false,
     "start_time": "2021-12-15T15:21:31.430293",
     "status": "completed"
    },
    "tags": []
   },
   "outputs": [],
   "source": [
    "class PositionalEncoding(nn.Module):\n",
    "\n",
    "    def __init__(self, d_model, dropout=0.1, max_len=5000):\n",
    "        super(PositionalEncoding, self).__init__()\n",
    "        self.dropout = nn.Dropout(p=dropout)\n",
    "\n",
    "        pe = torch.zeros(max_len, d_model)\n",
    "        position = torch.arange(0, max_len, dtype=torch.float).unsqueeze(1)\n",
    "        div_term = torch.exp(torch.arange(0, d_model, 2).float() * (-math.log(10000.0) / d_model))\n",
    "        pe[:, 0::2] = torch.sin(position * div_term)\n",
    "        pe[:, 1::2] = torch.cos(position * div_term)\n",
    "        pe = pe.unsqueeze(0).transpose(0, 1)\n",
    "        self.register_buffer('pe', pe)\n",
    "\n",
    "    def forward(self, x):\n",
    "        x = x + self.pe[:x.size(0), :]\n",
    "        return self.dropout(x)\n",
    "    \n",
    "class SentimentNet(nn.Module):\n",
    "    def __init__(self, vocab_size, output_size, embedding_dim, hidden_dim, n_layers, drop_prob=0.2):\n",
    "        super(SentimentNet, self).__init__()\n",
    "        self.output_size = output_size\n",
    "        self.n_layers = n_layers\n",
    "        self.hidden_dim = hidden_dim\n",
    "        self.dropout = nn.Dropout(drop_prob)\n",
    "        self.embedding_dim = embedding_dim\n",
    "        self.sigmoid = nn.Sigmoid()\n",
    "        \n",
    "        \n",
    "        self.encoder = nn.Embedding(vocab_size, embedding_dim)\n",
    "        self.pos_encoder = PositionalEncoding(embedding_dim, drop_prob)\n",
    "        encoder_layer = nn.TransformerEncoderLayer(embedding_dim, 2, hidden_dim)\n",
    "        self.transformer_encoder = nn.TransformerEncoder(encoder_layer, num_layers=n_layers)\n",
    "        \n",
    "        \n",
    "        self.fc = nn.Linear(embedding_dim * 128 , 1)\n",
    "\n",
    "    \n",
    "    def forward(self, src):\n",
    "        src = self.encoder(src) * math.sqrt(self.embedding_dim)\n",
    "        src = self.pos_encoder(src)\n",
    "        output = self.transformer_encoder(src)\n",
    "        output = output.view(output.size(0), -1)\n",
    "        \n",
    "        output = self.sigmoid(self.fc(output))\n",
    "        return output"
   ]
  },
  {
   "cell_type": "code",
   "execution_count": 18,
   "id": "a2540967",
   "metadata": {
    "execution": {
     "iopub.execute_input": "2021-12-15T15:21:31.502588Z",
     "iopub.status.busy": "2021-12-15T15:21:31.501841Z",
     "iopub.status.idle": "2021-12-15T15:21:31.503826Z",
     "shell.execute_reply": "2021-12-15T15:21:31.504188Z",
     "shell.execute_reply.started": "2021-12-15T10:04:00.284359Z"
    },
    "papermill": {
     "duration": 0.023074,
     "end_time": "2021-12-15T15:21:31.504307",
     "exception": false,
     "start_time": "2021-12-15T15:21:31.481233",
     "status": "completed"
    },
    "tags": []
   },
   "outputs": [],
   "source": [
    "def model_params(model):\n",
    "    pp=0\n",
    "    for p in list(model.parameters()):\n",
    "        nn=1\n",
    "        for s in list(p.size()):\n",
    "            nn = nn*s\n",
    "        pp += nn\n",
    "    return pp"
   ]
  },
  {
   "cell_type": "code",
   "execution_count": 19,
   "id": "d822ca0f",
   "metadata": {
    "execution": {
     "iopub.execute_input": "2021-12-15T15:21:31.544074Z",
     "iopub.status.busy": "2021-12-15T15:21:31.543543Z",
     "iopub.status.idle": "2021-12-15T15:21:36.322265Z",
     "shell.execute_reply": "2021-12-15T15:21:36.321848Z",
     "shell.execute_reply.started": "2021-12-15T10:19:04.882323Z"
    },
    "papermill": {
     "duration": 4.801331,
     "end_time": "2021-12-15T15:21:36.322391",
     "exception": false,
     "start_time": "2021-12-15T15:21:31.521060",
     "status": "completed"
    },
    "tags": []
   },
   "outputs": [
    {
     "name": "stdout",
     "output_type": "stream",
     "text": [
      "27186335\n"
     ]
    }
   ],
   "source": [
    "import math\n",
    "\n",
    "output_size = 1\n",
    "embedding_dim = 30\n",
    "hidden_dim = 4\n",
    "n_layers = 1\n",
    "\n",
    "model = SentimentNet(vocab_size, output_size, embedding_dim, hidden_dim, n_layers)\n",
    "model.to(device)\n",
    "print(model_params(model))\n",
    "lr=0.01\n",
    "criterion = nn.BCELoss()\n",
    "optimizer = torch.optim.Adam(model.parameters(), lr=lr)"
   ]
  },
  {
   "cell_type": "code",
   "execution_count": 20,
   "id": "b6284520",
   "metadata": {
    "execution": {
     "iopub.execute_input": "2021-12-15T15:21:36.367160Z",
     "iopub.status.busy": "2021-12-15T15:21:36.366580Z",
     "iopub.status.idle": "2021-12-15T16:44:46.925576Z",
     "shell.execute_reply": "2021-12-15T16:44:46.926155Z",
     "shell.execute_reply.started": "2021-12-15T10:19:07.623429Z"
    },
    "papermill": {
     "duration": 4990.586571,
     "end_time": "2021-12-15T16:44:46.926368",
     "exception": false,
     "start_time": "2021-12-15T15:21:36.339797",
     "status": "completed"
    },
    "tags": []
   },
   "outputs": [
    {
     "name": "stdout",
     "output_type": "stream",
     "text": [
      "Epoch: 1/2... Step: 500... Loss: 0.637501... Val Loss: 0.581362\n",
      "Validation loss decreased (inf --> 0.581362).  Saving model ...\n",
      "Epoch: 1/2... Step: 1000... Loss: 0.510366... Val Loss: 0.466772\n",
      "Validation loss decreased (0.581362 --> 0.466772).  Saving model ...\n",
      "Epoch: 1/2... Step: 1500... Loss: 0.428466... Val Loss: 0.365405\n",
      "Validation loss decreased (0.466772 --> 0.365405).  Saving model ...\n",
      "Epoch: 1/2... Step: 2000... Loss: 0.388681... Val Loss: 0.341228\n",
      "Validation loss decreased (0.365405 --> 0.341228).  Saving model ...\n",
      "Epoch: 1/2... Step: 2500... Loss: 0.398109... Val Loss: 0.328622\n",
      "Validation loss decreased (0.341228 --> 0.328622).  Saving model ...\n",
      "Epoch: 1/2... Step: 3000... Loss: 0.260566... Val Loss: 0.306918\n",
      "Validation loss decreased (0.328622 --> 0.306918).  Saving model ...\n",
      "Epoch: 1/2... Step: 3500... Loss: 0.236344... Val Loss: 0.322927\n",
      "Epoch: 1/2... Step: 4000... Loss: 0.286453... Val Loss: 0.296911\n",
      "Validation loss decreased (0.306918 --> 0.296911).  Saving model ...\n",
      "Epoch: 1/2... Step: 4500... Loss: 0.301780... Val Loss: 0.290902\n",
      "Validation loss decreased (0.296911 --> 0.290902).  Saving model ...\n",
      "Epoch: 1/2... Step: 5000... Loss: 0.239418... Val Loss: 0.274888\n",
      "Validation loss decreased (0.290902 --> 0.274888).  Saving model ...\n",
      "Epoch: 1/2... Step: 5500... Loss: 0.379418... Val Loss: 0.282232\n",
      "Epoch: 1/2... Step: 6000... Loss: 0.422505... Val Loss: 0.283611\n",
      "Epoch: 1/2... Step: 6500... Loss: 0.211948... Val Loss: 0.271280\n",
      "Validation loss decreased (0.274888 --> 0.271280).  Saving model ...\n",
      "Epoch: 1/2... Step: 7000... Loss: 0.351419... Val Loss: 0.296570\n",
      "Epoch: 1/2... Step: 7500... Loss: 0.359962... Val Loss: 0.264456\n",
      "Validation loss decreased (0.271280 --> 0.264456).  Saving model ...\n",
      "Epoch: 1/2... Step: 8000... Loss: 0.186962... Val Loss: 0.261941\n",
      "Validation loss decreased (0.264456 --> 0.261941).  Saving model ...\n",
      "Epoch: 1/2... Step: 8500... Loss: 0.311079... Val Loss: 0.278703\n",
      "Epoch: 1/2... Step: 9000... Loss: 0.278657... Val Loss: 0.264487\n",
      "Epoch: 1/2... Step: 9500... Loss: 0.286175... Val Loss: 0.276907\n",
      "Epoch: 1/2... Step: 10000... Loss: 0.308913... Val Loss: 0.306385\n",
      "Epoch: 1/2... Step: 10500... Loss: 0.208187... Val Loss: 0.266982\n",
      "Epoch: 1/2... Step: 11000... Loss: 0.350251... Val Loss: 0.263679\n",
      "Epoch: 1/2... Step: 11500... Loss: 0.292323... Val Loss: 0.259412\n",
      "Validation loss decreased (0.261941 --> 0.259412).  Saving model ...\n",
      "Epoch: 1/2... Step: 12000... Loss: 0.313791... Val Loss: 0.258537\n",
      "Validation loss decreased (0.259412 --> 0.258537).  Saving model ...\n",
      "Epoch: 1/2... Step: 12500... Loss: 0.443823... Val Loss: 0.257042\n",
      "Validation loss decreased (0.258537 --> 0.257042).  Saving model ...\n",
      "Epoch: 1/2... Step: 13000... Loss: 0.343013... Val Loss: 0.261501\n",
      "Epoch: 1/2... Step: 13500... Loss: 0.376093... Val Loss: 0.263656\n",
      "Epoch: 1/2... Step: 14000... Loss: 0.106693... Val Loss: 0.267442\n",
      "Epoch: 1/2... Step: 14500... Loss: 0.240649... Val Loss: 0.264583\n",
      "Epoch: 1/2... Step: 15000... Loss: 0.232813... Val Loss: 0.261811\n",
      "Epoch: 1/2... Step: 15500... Loss: 0.460109... Val Loss: 0.273175\n",
      "Epoch: 1/2... Step: 16000... Loss: 0.191730... Val Loss: 0.257090\n",
      "Epoch: 1/2... Step: 16500... Loss: 0.274810... Val Loss: 0.266925\n",
      "Epoch: 1/2... Step: 17000... Loss: 0.281144... Val Loss: 0.314219\n",
      "Epoch: 1/2... Step: 17500... Loss: 0.312953... Val Loss: 0.256879\n",
      "Validation loss decreased (0.257042 --> 0.256879).  Saving model ...\n",
      "Epoch: 1/2... Step: 18000... Loss: 0.203129... Val Loss: 0.260281\n",
      "Epoch: 1/2... Step: 18500... Loss: 0.165154... Val Loss: 0.255047\n",
      "Validation loss decreased (0.256879 --> 0.255047).  Saving model ...\n",
      "Epoch: 1/2... Step: 19000... Loss: 0.365768... Val Loss: 0.266951\n",
      "Epoch: 1/2... Step: 19500... Loss: 0.231605... Val Loss: 0.308257\n",
      "Epoch: 1/2... Step: 20000... Loss: 0.240847... Val Loss: 0.266369\n",
      "Epoch: 1/2... Step: 20500... Loss: 0.194797... Val Loss: 0.260742\n",
      "Epoch: 1/2... Step: 21000... Loss: 0.270412... Val Loss: 0.263190\n",
      "Epoch: 1/2... Step: 21500... Loss: 0.340995... Val Loss: 0.254081\n",
      "Validation loss decreased (0.255047 --> 0.254081).  Saving model ...\n",
      "Epoch: 1/2... Step: 22000... Loss: 0.254202... Val Loss: 0.272529\n",
      "Epoch: 1/2... Step: 22500... Loss: 0.253430... Val Loss: 0.265813\n",
      "Epoch: 1/2... Step: 23000... Loss: 0.231863... Val Loss: 0.279114\n",
      "Epoch: 1/2... Step: 23500... Loss: 0.245321... Val Loss: 0.251486\n",
      "Validation loss decreased (0.254081 --> 0.251486).  Saving model ...\n",
      "Epoch: 1/2... Step: 24000... Loss: 0.294040... Val Loss: 0.254575\n",
      "Epoch: 1/2... Step: 24500... Loss: 0.344336... Val Loss: 0.255059\n",
      "Epoch: 1/2... Step: 25000... Loss: 0.376483... Val Loss: 0.271795\n",
      "Epoch: 1/2... Step: 25500... Loss: 0.340145... Val Loss: 0.261935\n",
      "Epoch: 1/2... Step: 26000... Loss: 0.387423... Val Loss: 0.272127\n",
      "Epoch: 1/2... Step: 26500... Loss: 0.204883... Val Loss: 0.257468\n",
      "Epoch: 1/2... Step: 27000... Loss: 0.360656... Val Loss: 0.253576\n",
      "Epoch: 1/2... Step: 27500... Loss: 0.303433... Val Loss: 0.267017\n",
      "Epoch: 1/2... Step: 28000... Loss: 0.306121... Val Loss: 0.284807\n",
      "Epoch: 1/2... Step: 28500... Loss: 0.285756... Val Loss: 0.253443\n",
      "Epoch: 1/2... Step: 29000... Loss: 0.269921... Val Loss: 0.313329\n",
      "Epoch: 1/2... Step: 29500... Loss: 0.334846... Val Loss: 0.258044\n",
      "Epoch: 1/2... Step: 30000... Loss: 0.261439... Val Loss: 0.280947\n",
      "Epoch: 1/2... Step: 30500... Loss: 0.238187... Val Loss: 0.267062\n",
      "Epoch: 1/2... Step: 31000... Loss: 0.122325... Val Loss: 0.260681\n",
      "Epoch: 1/2... Step: 31500... Loss: 0.264164... Val Loss: 0.259155\n",
      "Epoch: 1/2... Step: 32000... Loss: 0.258681... Val Loss: 0.252353\n",
      "Epoch: 1/2... Step: 32500... Loss: 0.406042... Val Loss: 0.264431\n",
      "Epoch: 1/2... Step: 33000... Loss: 0.377727... Val Loss: 0.262085\n",
      "Epoch: 1/2... Step: 33500... Loss: 0.215288... Val Loss: 0.256764\n",
      "Epoch: 1/2... Step: 34000... Loss: 0.272349... Val Loss: 0.290988\n",
      "Epoch: 1/2... Step: 34500... Loss: 0.273851... Val Loss: 0.274196\n",
      "Epoch: 1/2... Step: 35000... Loss: 0.340135... Val Loss: 0.292896\n",
      "Epoch: 1/2... Step: 35500... Loss: 0.283472... Val Loss: 0.251787\n",
      "Epoch: 1/2... Step: 36000... Loss: 0.159809... Val Loss: 0.247770\n",
      "Validation loss decreased (0.251486 --> 0.247770).  Saving model ...\n",
      "Epoch: 1/2... Step: 36500... Loss: 0.715246... Val Loss: 0.271534\n",
      "Epoch: 1/2... Step: 37000... Loss: 0.459277... Val Loss: 0.269564\n",
      "Epoch: 1/2... Step: 37500... Loss: 0.301844... Val Loss: 0.266473\n",
      "Epoch: 1/2... Step: 38000... Loss: 0.162002... Val Loss: 0.249057\n",
      "Epoch: 1/2... Step: 38500... Loss: 0.194744... Val Loss: 0.251502\n",
      "Epoch: 1/2... Step: 39000... Loss: 0.169452... Val Loss: 0.248604\n",
      "Epoch: 1/2... Step: 39500... Loss: 0.428334... Val Loss: 0.249746\n",
      "Epoch: 1/2... Step: 40000... Loss: 0.209580... Val Loss: 0.251989\n",
      "Epoch: 1/2... Step: 40500... Loss: 0.102724... Val Loss: 0.251956\n",
      "Epoch: 1/2... Step: 41000... Loss: 0.235767... Val Loss: 0.257094\n",
      "Epoch: 1/2... Step: 41500... Loss: 0.180152... Val Loss: 0.258853\n",
      "Epoch: 1/2... Step: 42000... Loss: 0.279686... Val Loss: 0.255037\n",
      "Epoch: 1/2... Step: 42500... Loss: 0.178023... Val Loss: 0.256752\n",
      "Epoch: 1/2... Step: 43000... Loss: 0.361722... Val Loss: 0.250962\n",
      "Epoch: 1/2... Step: 43500... Loss: 0.215924... Val Loss: 0.267289\n",
      "Epoch: 1/2... Step: 44000... Loss: 0.328319... Val Loss: 0.251421\n",
      "Epoch: 1/2... Step: 44500... Loss: 0.518216... Val Loss: 0.248025\n",
      "Epoch: 1/2... Step: 45000... Loss: 0.266481... Val Loss: 0.260453\n",
      "Epoch: 1/2... Step: 45500... Loss: 0.323952... Val Loss: 0.282774\n",
      "Epoch: 1/2... Step: 46000... Loss: 0.493568... Val Loss: 0.250994\n",
      "Epoch: 1/2... Step: 46500... Loss: 0.238566... Val Loss: 0.248593\n",
      "Epoch: 1/2... Step: 47000... Loss: 0.235529... Val Loss: 0.256637\n",
      "Epoch: 1/2... Step: 47500... Loss: 0.201840... Val Loss: 0.244730\n",
      "Validation loss decreased (0.247770 --> 0.244730).  Saving model ...\n",
      "Epoch: 1/2... Step: 48000... Loss: 0.440067... Val Loss: 0.257214\n",
      "Epoch: 1/2... Step: 48500... Loss: 0.235121... Val Loss: 0.253872\n",
      "Epoch: 1/2... Step: 49000... Loss: 0.280681... Val Loss: 0.260496\n",
      "Epoch: 1/2... Step: 49500... Loss: 0.208375... Val Loss: 0.271447\n",
      "Epoch: 1/2... Step: 50000... Loss: 0.299020... Val Loss: 0.262724\n",
      "Epoch: 1/2... Step: 50500... Loss: 0.187591... Val Loss: 0.248414\n",
      "Epoch: 1/2... Step: 51000... Loss: 0.162951... Val Loss: 0.258037\n",
      "Epoch: 1/2... Step: 51500... Loss: 0.246130... Val Loss: 0.251128\n",
      "Epoch: 1/2... Step: 52000... Loss: 0.295406... Val Loss: 0.251102\n",
      "Epoch: 1/2... Step: 52500... Loss: 0.360122... Val Loss: 0.290208\n",
      "Epoch: 1/2... Step: 53000... Loss: 0.277050... Val Loss: 0.248751\n",
      "Epoch: 1/2... Step: 53500... Loss: 0.362649... Val Loss: 0.248593\n",
      "Epoch: 1/2... Step: 54000... Loss: 0.378371... Val Loss: 0.277913\n",
      "Epoch: 1/2... Step: 54500... Loss: 0.187126... Val Loss: 0.252980\n",
      "Epoch: 1/2... Step: 55000... Loss: 0.241019... Val Loss: 0.258583\n",
      "Epoch: 1/2... Step: 55500... Loss: 0.299114... Val Loss: 0.257214\n",
      "Epoch: 1/2... Step: 56000... Loss: 0.334992... Val Loss: 0.251607\n",
      "Epoch: 1/2... Step: 56500... Loss: 0.205109... Val Loss: 0.244466\n",
      "Validation loss decreased (0.244730 --> 0.244466).  Saving model ...\n",
      "Epoch: 1/2... Step: 57000... Loss: 0.424121... Val Loss: 0.263018\n",
      "Epoch: 1/2... Step: 57500... Loss: 0.239550... Val Loss: 0.268219\n",
      "Epoch: 1/2... Step: 58000... Loss: 0.433997... Val Loss: 0.252498\n",
      "Epoch: 1/2... Step: 58500... Loss: 0.268951... Val Loss: 0.264437\n",
      "Epoch: 1/2... Step: 59000... Loss: 0.202773... Val Loss: 0.243386\n",
      "Validation loss decreased (0.244466 --> 0.243386).  Saving model ...\n",
      "Epoch: 1/2... Step: 59500... Loss: 0.157324... Val Loss: 0.247012\n",
      "Epoch: 1/2... Step: 60000... Loss: 0.171401... Val Loss: 0.257642\n",
      "Epoch: 1/2... Step: 60500... Loss: 0.234000... Val Loss: 0.249268\n",
      "Epoch: 1/2... Step: 61000... Loss: 0.313359... Val Loss: 0.250717\n",
      "Epoch: 1/2... Step: 61500... Loss: 0.255977... Val Loss: 0.253985\n",
      "Epoch: 1/2... Step: 62000... Loss: 0.198995... Val Loss: 0.254935\n",
      "Epoch: 1/2... Step: 62500... Loss: 0.256151... Val Loss: 0.249291\n",
      "Epoch: 1/2... Step: 63000... Loss: 0.298063... Val Loss: 0.247283\n",
      "Epoch: 1/2... Step: 63500... Loss: 0.236909... Val Loss: 0.251713\n",
      "Epoch: 1/2... Step: 64000... Loss: 0.181526... Val Loss: 0.243984\n",
      "Epoch: 1/2... Step: 64500... Loss: 0.396893... Val Loss: 0.247432\n",
      "Epoch: 1/2... Step: 65000... Loss: 0.294602... Val Loss: 0.245488\n",
      "Epoch: 1/2... Step: 65500... Loss: 0.185716... Val Loss: 0.245250\n",
      "Epoch: 1/2... Step: 66000... Loss: 0.224417... Val Loss: 0.245822\n",
      "Epoch: 1/2... Step: 66500... Loss: 0.333179... Val Loss: 0.261742\n",
      "Epoch: 1/2... Step: 67000... Loss: 0.263526... Val Loss: 0.245942\n",
      "Epoch: 1/2... Step: 67500... Loss: 0.306689... Val Loss: 0.244970\n",
      "Epoch: 1/2... Step: 68000... Loss: 0.241869... Val Loss: 0.244669\n",
      "Epoch: 1/2... Step: 68500... Loss: 0.253360... Val Loss: 0.254658\n",
      "Epoch: 1/2... Step: 69000... Loss: 0.368437... Val Loss: 0.264209\n",
      "Epoch: 1/2... Step: 69500... Loss: 0.494635... Val Loss: 0.262472\n",
      "Epoch: 1/2... Step: 70000... Loss: 0.175264... Val Loss: 0.255496\n",
      "Epoch: 1/2... Step: 70500... Loss: 0.166139... Val Loss: 0.245811\n",
      "Epoch: 1/2... Step: 71000... Loss: 0.387157... Val Loss: 0.253745\n",
      "Epoch: 1/2... Step: 71500... Loss: 0.164156... Val Loss: 0.248496\n",
      "Epoch: 1/2... Step: 72000... Loss: 0.297741... Val Loss: 0.249044\n",
      "Epoch: 2/2... Step: 72500... Loss: 0.318846... Val Loss: 0.242928\n",
      "Validation loss decreased (0.243386 --> 0.242928).  Saving model ...\n",
      "Epoch: 2/2... Step: 73000... Loss: 0.306197... Val Loss: 0.289230\n",
      "Epoch: 2/2... Step: 73500... Loss: 0.331741... Val Loss: 0.290540\n",
      "Epoch: 2/2... Step: 74000... Loss: 0.347697... Val Loss: 0.251385\n",
      "Epoch: 2/2... Step: 74500... Loss: 0.159475... Val Loss: 0.246053\n",
      "Epoch: 2/2... Step: 75000... Loss: 0.223586... Val Loss: 0.358175\n",
      "Epoch: 2/2... Step: 75500... Loss: 0.165099... Val Loss: 0.244618\n",
      "Epoch: 2/2... Step: 76000... Loss: 0.184025... Val Loss: 0.273689\n",
      "Epoch: 2/2... Step: 76500... Loss: 0.286444... Val Loss: 0.243739\n",
      "Epoch: 2/2... Step: 77000... Loss: 0.356515... Val Loss: 0.282983\n",
      "Epoch: 2/2... Step: 77500... Loss: 0.116684... Val Loss: 0.254014\n",
      "Epoch: 2/2... Step: 78000... Loss: 0.122405... Val Loss: 0.247399\n",
      "Epoch: 2/2... Step: 78500... Loss: 0.252203... Val Loss: 0.254380\n",
      "Epoch: 2/2... Step: 79000... Loss: 0.392438... Val Loss: 0.264336\n",
      "Epoch: 2/2... Step: 79500... Loss: 0.163540... Val Loss: 0.270376\n",
      "Epoch: 2/2... Step: 80000... Loss: 0.131585... Val Loss: 0.269937\n",
      "Epoch: 2/2... Step: 80500... Loss: 0.132889... Val Loss: 0.260648\n",
      "Epoch: 2/2... Step: 81000... Loss: 0.296028... Val Loss: 0.245930\n",
      "Epoch: 2/2... Step: 81500... Loss: 0.148926... Val Loss: 0.247026\n",
      "Epoch: 2/2... Step: 82000... Loss: 0.157291... Val Loss: 0.245664\n",
      "Epoch: 2/2... Step: 82500... Loss: 0.138806... Val Loss: 0.245438\n",
      "Epoch: 2/2... Step: 83000... Loss: 0.376585... Val Loss: 0.248097\n",
      "Epoch: 2/2... Step: 83500... Loss: 0.215631... Val Loss: 0.304447\n",
      "Epoch: 2/2... Step: 84000... Loss: 0.193262... Val Loss: 0.256979\n",
      "Epoch: 2/2... Step: 84500... Loss: 0.127912... Val Loss: 0.251310\n",
      "Epoch: 2/2... Step: 85000... Loss: 0.185772... Val Loss: 0.248596\n",
      "Epoch: 2/2... Step: 85500... Loss: 0.239383... Val Loss: 0.244868\n",
      "Epoch: 2/2... Step: 86000... Loss: 0.199605... Val Loss: 0.241735\n",
      "Validation loss decreased (0.242928 --> 0.241735).  Saving model ...\n",
      "Epoch: 2/2... Step: 86500... Loss: 0.244163... Val Loss: 0.251929\n",
      "Epoch: 2/2... Step: 87000... Loss: 0.244308... Val Loss: 0.256018\n",
      "Epoch: 2/2... Step: 87500... Loss: 0.346513... Val Loss: 0.253435\n",
      "Epoch: 2/2... Step: 88000... Loss: 0.302120... Val Loss: 0.243904\n",
      "Epoch: 2/2... Step: 88500... Loss: 0.152274... Val Loss: 0.249400\n",
      "Epoch: 2/2... Step: 89000... Loss: 0.215471... Val Loss: 0.246526\n",
      "Epoch: 2/2... Step: 89500... Loss: 0.199340... Val Loss: 0.246652\n",
      "Epoch: 2/2... Step: 90000... Loss: 0.183308... Val Loss: 0.272090\n",
      "Epoch: 2/2... Step: 90500... Loss: 0.313632... Val Loss: 0.244945\n",
      "Epoch: 2/2... Step: 91000... Loss: 0.196502... Val Loss: 0.253091\n",
      "Epoch: 2/2... Step: 91500... Loss: 0.199574... Val Loss: 0.272689\n",
      "Epoch: 2/2... Step: 92000... Loss: 0.288237... Val Loss: 0.244002\n",
      "Epoch: 2/2... Step: 92500... Loss: 0.499881... Val Loss: 0.247808\n",
      "Epoch: 2/2... Step: 93000... Loss: 0.215912... Val Loss: 0.285374\n",
      "Epoch: 2/2... Step: 93500... Loss: 0.118638... Val Loss: 0.270181\n",
      "Epoch: 2/2... Step: 94000... Loss: 0.242983... Val Loss: 0.292900\n",
      "Epoch: 2/2... Step: 94500... Loss: 0.245303... Val Loss: 0.307975\n",
      "Epoch: 2/2... Step: 95000... Loss: 0.235087... Val Loss: 0.255984\n",
      "Epoch: 2/2... Step: 95500... Loss: 0.299608... Val Loss: 0.253805\n",
      "Epoch: 2/2... Step: 96000... Loss: 0.272086... Val Loss: 0.243483\n",
      "Epoch: 2/2... Step: 96500... Loss: 0.271920... Val Loss: 0.281289\n",
      "Epoch: 2/2... Step: 97000... Loss: 0.337472... Val Loss: 0.239905\n",
      "Validation loss decreased (0.241735 --> 0.239905).  Saving model ...\n",
      "Epoch: 2/2... Step: 97500... Loss: 0.219974... Val Loss: 0.247155\n",
      "Epoch: 2/2... Step: 98000... Loss: 0.571668... Val Loss: 0.246986\n",
      "Epoch: 2/2... Step: 98500... Loss: 0.227057... Val Loss: 0.247487\n",
      "Epoch: 2/2... Step: 99000... Loss: 0.299651... Val Loss: 0.240503\n",
      "Epoch: 2/2... Step: 99500... Loss: 0.214977... Val Loss: 0.242839\n",
      "Epoch: 2/2... Step: 100000... Loss: 0.118782... Val Loss: 0.243701\n",
      "Epoch: 2/2... Step: 100500... Loss: 0.148973... Val Loss: 0.249138\n",
      "Epoch: 2/2... Step: 101000... Loss: 0.292390... Val Loss: 0.249484\n",
      "Epoch: 2/2... Step: 101500... Loss: 0.233953... Val Loss: 0.254627\n",
      "Epoch: 2/2... Step: 102000... Loss: 0.255733... Val Loss: 0.249335\n",
      "Epoch: 2/2... Step: 102500... Loss: 0.104798... Val Loss: 0.271764\n",
      "Epoch: 2/2... Step: 103000... Loss: 0.279759... Val Loss: 0.245492\n",
      "Epoch: 2/2... Step: 103500... Loss: 0.407184... Val Loss: 0.252709\n",
      "Epoch: 2/2... Step: 104000... Loss: 0.272524... Val Loss: 0.245567\n",
      "Epoch: 2/2... Step: 104500... Loss: 0.289997... Val Loss: 0.261533\n",
      "Epoch: 2/2... Step: 105000... Loss: 0.319778... Val Loss: 0.248287\n",
      "Epoch: 2/2... Step: 105500... Loss: 0.161418... Val Loss: 0.293780\n",
      "Epoch: 2/2... Step: 106000... Loss: 0.206804... Val Loss: 0.255448\n",
      "Epoch: 2/2... Step: 106500... Loss: 0.330006... Val Loss: 0.241370\n",
      "Epoch: 2/2... Step: 107000... Loss: 0.214055... Val Loss: 0.244362\n",
      "Epoch: 2/2... Step: 107500... Loss: 0.227639... Val Loss: 0.248818\n",
      "Epoch: 2/2... Step: 108000... Loss: 0.201465... Val Loss: 0.256675\n",
      "Epoch: 2/2... Step: 108500... Loss: 0.315131... Val Loss: 0.252860\n",
      "Epoch: 2/2... Step: 109000... Loss: 0.271423... Val Loss: 0.240322\n",
      "Epoch: 2/2... Step: 109500... Loss: 0.349358... Val Loss: 0.315848\n",
      "Epoch: 2/2... Step: 110000... Loss: 0.272077... Val Loss: 0.262270\n",
      "Epoch: 2/2... Step: 110500... Loss: 0.344396... Val Loss: 0.245154\n",
      "Epoch: 2/2... Step: 111000... Loss: 0.245554... Val Loss: 0.261560\n",
      "Epoch: 2/2... Step: 111500... Loss: 0.252047... Val Loss: 0.250071\n",
      "Epoch: 2/2... Step: 112000... Loss: 0.199674... Val Loss: 0.240949\n",
      "Epoch: 2/2... Step: 112500... Loss: 0.134857... Val Loss: 0.245531\n",
      "Epoch: 2/2... Step: 113000... Loss: 0.259473... Val Loss: 0.242272\n",
      "Epoch: 2/2... Step: 113500... Loss: 0.251919... Val Loss: 0.244331\n",
      "Epoch: 2/2... Step: 114000... Loss: 0.196793... Val Loss: 0.243757\n",
      "Epoch: 2/2... Step: 114500... Loss: 0.269930... Val Loss: 0.244188\n",
      "Epoch: 2/2... Step: 115000... Loss: 0.267330... Val Loss: 0.248760\n",
      "Epoch: 2/2... Step: 115500... Loss: 0.170510... Val Loss: 0.287689\n",
      "Epoch: 2/2... Step: 116000... Loss: 0.191877... Val Loss: 0.263011\n",
      "Epoch: 2/2... Step: 116500... Loss: 0.151181... Val Loss: 0.241771\n",
      "Epoch: 2/2... Step: 117000... Loss: 0.230840... Val Loss: 0.242233\n",
      "Epoch: 2/2... Step: 117500... Loss: 0.238299... Val Loss: 0.252202\n",
      "Epoch: 2/2... Step: 118000... Loss: 0.383858... Val Loss: 0.246451\n",
      "Epoch: 2/2... Step: 118500... Loss: 0.215825... Val Loss: 0.245379\n",
      "Epoch: 2/2... Step: 119000... Loss: 0.203763... Val Loss: 0.240406\n",
      "Epoch: 2/2... Step: 119500... Loss: 0.222301... Val Loss: 0.278629\n",
      "Epoch: 2/2... Step: 120000... Loss: 0.322864... Val Loss: 0.249531\n",
      "Epoch: 2/2... Step: 120500... Loss: 0.349616... Val Loss: 0.241628\n",
      "Epoch: 2/2... Step: 121000... Loss: 0.227550... Val Loss: 0.241825\n",
      "Epoch: 2/2... Step: 121500... Loss: 0.301431... Val Loss: 0.243045\n",
      "Epoch: 2/2... Step: 122000... Loss: 0.451338... Val Loss: 0.241012\n",
      "Epoch: 2/2... Step: 122500... Loss: 0.262544... Val Loss: 0.310143\n",
      "Epoch: 2/2... Step: 123000... Loss: 0.305702... Val Loss: 0.259586\n",
      "Epoch: 2/2... Step: 123500... Loss: 0.143109... Val Loss: 0.241933\n",
      "Epoch: 2/2... Step: 124000... Loss: 0.439728... Val Loss: 0.242996\n",
      "Epoch: 2/2... Step: 124500... Loss: 0.248787... Val Loss: 0.247687\n",
      "Epoch: 2/2... Step: 125000... Loss: 0.132241... Val Loss: 0.245415\n",
      "Epoch: 2/2... Step: 125500... Loss: 0.402341... Val Loss: 0.243345\n",
      "Epoch: 2/2... Step: 126000... Loss: 0.280797... Val Loss: 0.244620\n",
      "Epoch: 2/2... Step: 126500... Loss: 0.227515... Val Loss: 0.256621\n",
      "Epoch: 2/2... Step: 127000... Loss: 0.207702... Val Loss: 0.282534\n",
      "Epoch: 2/2... Step: 127500... Loss: 0.277603... Val Loss: 0.271295\n",
      "Epoch: 2/2... Step: 128000... Loss: 0.275235... Val Loss: 0.238010\n",
      "Validation loss decreased (0.239905 --> 0.238010).  Saving model ...\n",
      "Epoch: 2/2... Step: 128500... Loss: 0.196714... Val Loss: 0.258835\n",
      "Epoch: 2/2... Step: 129000... Loss: 0.210219... Val Loss: 0.284742\n",
      "Epoch: 2/2... Step: 129500... Loss: 0.207687... Val Loss: 0.243371\n",
      "Epoch: 2/2... Step: 130000... Loss: 0.231968... Val Loss: 0.243657\n",
      "Epoch: 2/2... Step: 130500... Loss: 0.112698... Val Loss: 0.241029\n",
      "Epoch: 2/2... Step: 131000... Loss: 0.336842... Val Loss: 0.253279\n",
      "Epoch: 2/2... Step: 131500... Loss: 0.321951... Val Loss: 0.250427\n",
      "Epoch: 2/2... Step: 132000... Loss: 0.160082... Val Loss: 0.256513\n",
      "Epoch: 2/2... Step: 132500... Loss: 0.278557... Val Loss: 0.244111\n",
      "Epoch: 2/2... Step: 133000... Loss: 0.136388... Val Loss: 0.254987\n",
      "Epoch: 2/2... Step: 133500... Loss: 0.226297... Val Loss: 0.254401\n",
      "Epoch: 2/2... Step: 134000... Loss: 0.235429... Val Loss: 0.255177\n",
      "Epoch: 2/2... Step: 134500... Loss: 0.264534... Val Loss: 0.250436\n",
      "Epoch: 2/2... Step: 135000... Loss: 0.293583... Val Loss: 0.264241\n",
      "Epoch: 2/2... Step: 135500... Loss: 0.206974... Val Loss: 0.238440\n",
      "Epoch: 2/2... Step: 136000... Loss: 0.286310... Val Loss: 0.253350\n",
      "Epoch: 2/2... Step: 136500... Loss: 0.313060... Val Loss: 0.249869\n",
      "Epoch: 2/2... Step: 137000... Loss: 0.300213... Val Loss: 0.245736\n",
      "Epoch: 2/2... Step: 137500... Loss: 0.201685... Val Loss: 0.244908\n",
      "Epoch: 2/2... Step: 138000... Loss: 0.337153... Val Loss: 0.246437\n",
      "Epoch: 2/2... Step: 138500... Loss: 0.205011... Val Loss: 0.241762\n",
      "Epoch: 2/2... Step: 139000... Loss: 0.231821... Val Loss: 0.255586\n",
      "Epoch: 2/2... Step: 139500... Loss: 0.365335... Val Loss: 0.242068\n",
      "Epoch: 2/2... Step: 140000... Loss: 0.208113... Val Loss: 0.245646\n",
      "Epoch: 2/2... Step: 140500... Loss: 0.225586... Val Loss: 0.249791\n",
      "Epoch: 2/2... Step: 141000... Loss: 0.323244... Val Loss: 0.250496\n",
      "Epoch: 2/2... Step: 141500... Loss: 0.407777... Val Loss: 0.277557\n",
      "Epoch: 2/2... Step: 142000... Loss: 0.296008... Val Loss: 0.242009\n",
      "Epoch: 2/2... Step: 142500... Loss: 0.178004... Val Loss: 0.238620\n",
      "Epoch: 2/2... Step: 143000... Loss: 0.189680... Val Loss: 0.250655\n",
      "Epoch: 2/2... Step: 143500... Loss: 0.125725... Val Loss: 0.268291\n",
      "Epoch: 2/2... Step: 144000... Loss: 0.221712... Val Loss: 0.240623\n"
     ]
    }
   ],
   "source": [
    "epochs = 2\n",
    "counter = 0\n",
    "print_every = 500\n",
    "clip = 5\n",
    "valid_loss_min = np.Inf\n",
    "\n",
    "model.train()\n",
    "for i in range(epochs):\n",
    "    \n",
    "    for inputs, labels in train_loader:\n",
    "        counter += 1\n",
    "        inputs, labels = inputs.to(device), labels.to(device)\n",
    "        model.zero_grad()\n",
    "        output = model(inputs.long())\n",
    "        \n",
    "        loss = criterion(output.squeeze(1), labels.float())\n",
    "        \n",
    "        \n",
    "        loss.backward()\n",
    "        #nn.utils.clip_grad_norm_(model.parameters(), clip)\n",
    "        optimizer.step()\n",
    "        \n",
    "        if counter%print_every == 0:\n",
    "            val_losses = []\n",
    "            model.eval()\n",
    "            for inp, lab in test_loader:\n",
    "                inp, lab = inp.to(device), lab.to(device)\n",
    "                out = model(inp.long())\n",
    "                val_loss = criterion(out.squeeze(1), lab.float())\n",
    "                val_losses.append(val_loss.item())\n",
    "                \n",
    "            model.train()\n",
    "            print(\"Epoch: {}/{}...\".format(i+1, epochs),\n",
    "                  \"Step: {}...\".format(counter),\n",
    "                  \"Loss: {:.6f}...\".format(loss.item()),\n",
    "                  \"Val Loss: {:.6f}\".format(np.mean(val_losses)))\n",
    "            if np.mean(val_losses) <= valid_loss_min:\n",
    "                torch.save(model.state_dict(), './state_dict.pt')\n",
    "                print('Validation loss decreased ({:.6f} --> {:.6f}).  Saving model ...'.format(valid_loss_min,np.mean(val_losses)))\n",
    "                valid_loss_min = np.mean(val_losses)"
   ]
  },
  {
   "cell_type": "code",
   "execution_count": 21,
   "id": "454924a9",
   "metadata": {
    "execution": {
     "iopub.execute_input": "2021-12-15T16:44:47.165837Z",
     "iopub.status.busy": "2021-12-15T16:44:47.164998Z",
     "iopub.status.idle": "2021-12-15T16:44:47.202956Z",
     "shell.execute_reply": "2021-12-15T16:44:47.203461Z",
     "shell.execute_reply.started": "2021-12-15T10:04:08.106311Z"
    },
    "papermill": {
     "duration": 0.160939,
     "end_time": "2021-12-15T16:44:47.203657",
     "exception": false,
     "start_time": "2021-12-15T16:44:47.042718",
     "status": "completed"
    },
    "tags": []
   },
   "outputs": [
    {
     "data": {
      "text/plain": [
       "tensor([[0.8037]], device='cuda:0', grad_fn=<SigmoidBackward>)"
      ]
     },
     "execution_count": 21,
     "metadata": {},
     "output_type": "execute_result"
    }
   ],
   "source": [
    "sentence = \"I love you\"\n",
    "trial = torch.tensor(pad_sequences(tokenizer.texts_to_sequences([sentence]), maxlen = maxlen)).long().to(device)\n",
    "\n",
    "model(trial)"
   ]
  },
  {
   "cell_type": "code",
   "execution_count": 22,
   "id": "644ce1c7",
   "metadata": {
    "execution": {
     "iopub.execute_input": "2021-12-15T16:44:47.439735Z",
     "iopub.status.busy": "2021-12-15T16:44:47.438896Z",
     "iopub.status.idle": "2021-12-15T16:44:49.773919Z",
     "shell.execute_reply": "2021-12-15T16:44:49.773277Z",
     "shell.execute_reply.started": "2021-12-15T10:04:08.108493Z"
    },
    "papermill": {
     "duration": 2.455142,
     "end_time": "2021-12-15T16:44:49.774076",
     "exception": false,
     "start_time": "2021-12-15T16:44:47.318934",
     "status": "completed"
    },
    "tags": []
   },
   "outputs": [],
   "source": [
    "import torch.onnx\n",
    "torch.onnx.export(model,               # model being run\n",
    "                  trial,                  # model input (or a tuple for multiple inputs)\n",
    "                  \"transformer-amazon.onnx\", opset_version = 11)"
   ]
  }
 ],
 "metadata": {
  "kernelspec": {
   "display_name": "Python 3",
   "language": "python",
   "name": "python3"
  },
  "language_info": {
   "codemirror_mode": {
    "name": "ipython",
    "version": 3
   },
   "file_extension": ".py",
   "mimetype": "text/x-python",
   "name": "python",
   "nbconvert_exporter": "python",
   "pygments_lexer": "ipython3",
   "version": "3.7.12"
  },
  "papermill": {
   "default_parameters": {},
   "duration": 5832.575072,
   "end_time": "2021-12-15T16:44:52.912872",
   "environment_variables": {},
   "exception": null,
   "input_path": "__notebook__.ipynb",
   "output_path": "__notebook__.ipynb",
   "parameters": {},
   "start_time": "2021-12-15T15:07:40.337800",
   "version": "2.3.3"
  }
 },
 "nbformat": 4,
 "nbformat_minor": 5
}
