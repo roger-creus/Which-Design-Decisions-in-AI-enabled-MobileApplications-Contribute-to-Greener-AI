{
 "cells": [
  {
   "cell_type": "code",
   "execution_count": 1,
   "id": "prompt-spider",
   "metadata": {
    "_cell_guid": "b1076dfc-b9ad-4769-8c92-a6c4dae69d19",
    "_uuid": "8f2839f25d086af736a60e9eeb907d3b93b6e0e5",
    "execution": {
     "iopub.execute_input": "2021-12-11T18:04:58.579635Z",
     "iopub.status.busy": "2021-12-11T18:04:58.578941Z",
     "iopub.status.idle": "2021-12-11T18:04:58.596635Z",
     "shell.execute_reply": "2021-12-11T18:04:58.597225Z",
     "shell.execute_reply.started": "2021-12-08T21:23:43.272798Z"
    },
    "papermill": {
     "duration": 0.049313,
     "end_time": "2021-12-11T18:04:58.597506",
     "exception": false,
     "start_time": "2021-12-11T18:04:58.548193",
     "status": "completed"
    },
    "tags": []
   },
   "outputs": [
    {
     "name": "stdout",
     "output_type": "stream",
     "text": [
      "/kaggle/input/amazonreviews/test.ft.txt.bz2\n",
      "/kaggle/input/amazonreviews/train.ft.txt.bz2\n"
     ]
    }
   ],
   "source": [
    "# This Python 3 environment comes with many helpful analytics libraries installed\n",
    "# It is defined by the kaggle/python Docker image: https://github.com/kaggle/docker-python\n",
    "# For example, here's several helpful packages to load\n",
    "\n",
    "import numpy as np # linear algebra\n",
    "import pandas as pd # data processing, CSV file I/O (e.g. pd.read_csv)\n",
    "\n",
    "# Input data files are available in the read-only \"../input/\" directory\n",
    "# For example, running this (by clicking run or pressing Shift+Enter) will list all files under the input directory\n",
    "\n",
    "import os\n",
    "for dirname, _, filenames in os.walk('/kaggle/input'):\n",
    "    for filename in filenames:\n",
    "        print(os.path.join(dirname, filename))\n",
    "\n",
    "# You can write up to 20GB to the current directory (/kaggle/working/) that gets preserved as output when you create a version using \"Save & Run All\" \n",
    "# You can also write temporary files to /kaggle/temp/, but they won't be saved outside of the current session"
   ]
  },
  {
   "cell_type": "code",
   "execution_count": 2,
   "id": "continental-frontier",
   "metadata": {
    "execution": {
     "iopub.execute_input": "2021-12-11T18:04:58.648899Z",
     "iopub.status.busy": "2021-12-11T18:04:58.647978Z",
     "iopub.status.idle": "2021-12-11T18:05:05.094265Z",
     "shell.execute_reply": "2021-12-11T18:05:05.093316Z",
     "shell.execute_reply.started": "2021-12-08T21:23:43.282815Z"
    },
    "papermill": {
     "duration": 6.474695,
     "end_time": "2021-12-11T18:05:05.094411",
     "exception": false,
     "start_time": "2021-12-11T18:04:58.619716",
     "status": "completed"
    },
    "tags": []
   },
   "outputs": [],
   "source": [
    "import pandas as pd\n",
    "import numpy as np\n",
    "import bz2\n",
    "import matplotlib.pyplot as plt\n",
    "import sklearn\n",
    "import tensorflow as tf\n",
    "from tensorflow.keras import models, layers, optimizers\n",
    "from tensorflow.keras.preprocessing.text import Tokenizer, text_to_word_sequence\n",
    "from tensorflow.keras.preprocessing.sequence import pad_sequences\n",
    "\n",
    "%matplotlib inline"
   ]
  },
  {
   "cell_type": "code",
   "execution_count": 3,
   "id": "precise-lyric",
   "metadata": {
    "execution": {
     "iopub.execute_input": "2021-12-11T18:05:05.146030Z",
     "iopub.status.busy": "2021-12-11T18:05:05.144809Z",
     "iopub.status.idle": "2021-12-11T18:05:05.147096Z",
     "shell.execute_reply": "2021-12-11T18:05:05.147687Z",
     "shell.execute_reply.started": "2021-12-08T21:23:44.433495Z"
    },
    "papermill": {
     "duration": 0.029743,
     "end_time": "2021-12-11T18:05:05.147875",
     "exception": false,
     "start_time": "2021-12-11T18:05:05.118132",
     "status": "completed"
    },
    "tags": []
   },
   "outputs": [],
   "source": [
    "device = \"cuda:0\""
   ]
  },
  {
   "cell_type": "code",
   "execution_count": 4,
   "id": "chinese-racing",
   "metadata": {
    "execution": {
     "iopub.execute_input": "2021-12-11T18:05:05.198435Z",
     "iopub.status.busy": "2021-12-11T18:05:05.196677Z",
     "iopub.status.idle": "2021-12-11T18:05:05.204305Z",
     "shell.execute_reply": "2021-12-11T18:05:05.203711Z",
     "shell.execute_reply.started": "2021-12-08T21:23:44.439536Z"
    },
    "papermill": {
     "duration": 0.034819,
     "end_time": "2021-12-11T18:05:05.204450",
     "exception": false,
     "start_time": "2021-12-11T18:05:05.169631",
     "status": "completed"
    },
    "tags": []
   },
   "outputs": [],
   "source": [
    "def labels_texts(file):\n",
    "    labels = []\n",
    "    texts = []\n",
    "    for line in bz2.BZ2File(file):\n",
    "        x = line.decode(\"utf-8\")\n",
    "        labels.append(int(x[9]) - 1)\n",
    "        texts.append(x[10:].strip())\n",
    "    return np.array(labels), texts\n",
    "\n"
   ]
  },
  {
   "cell_type": "code",
   "execution_count": 5,
   "id": "prescription-proportion",
   "metadata": {
    "execution": {
     "iopub.execute_input": "2021-12-11T18:05:05.254357Z",
     "iopub.status.busy": "2021-12-11T18:05:05.253602Z",
     "iopub.status.idle": "2021-12-11T18:07:18.754336Z",
     "shell.execute_reply": "2021-12-11T18:07:18.753193Z",
     "shell.execute_reply.started": "2021-12-08T21:23:44.454135Z"
    },
    "papermill": {
     "duration": 133.527947,
     "end_time": "2021-12-11T18:07:18.754521",
     "exception": false,
     "start_time": "2021-12-11T18:05:05.226574",
     "status": "completed"
    },
    "tags": []
   },
   "outputs": [],
   "source": [
    "train_label, train_text = labels_texts('../input/amazonreviews/train.ft.txt.bz2')\n",
    "test_label, test_text = labels_texts('../input/amazonreviews/test.ft.txt.bz2')"
   ]
  },
  {
   "cell_type": "code",
   "execution_count": 6,
   "id": "awful-litigation",
   "metadata": {
    "execution": {
     "iopub.execute_input": "2021-12-11T18:07:18.803620Z",
     "iopub.status.busy": "2021-12-11T18:07:18.802528Z",
     "iopub.status.idle": "2021-12-11T18:07:18.807650Z",
     "shell.execute_reply": "2021-12-11T18:07:18.807129Z",
     "shell.execute_reply.started": "2021-12-08T21:26:27.960667Z"
    },
    "papermill": {
     "duration": 0.031459,
     "end_time": "2021-12-11T18:07:18.807825",
     "exception": false,
     "start_time": "2021-12-11T18:07:18.776366",
     "status": "completed"
    },
    "tags": []
   },
   "outputs": [
    {
     "name": "stdout",
     "output_type": "stream",
     "text": [
      "1\n",
      "Stuning even for the non-gamer: This sound track was beautiful! It paints the senery in your mind so well I would recomend it even to people who hate vid. game music! I have played the game Chrono Cross but out of all of the games I have ever played it has the best music! It backs away from crude keyboarding and takes a fresher step with grate guitars and soulful orchestras. It would impress anyone who cares to listen! ^_^\n"
     ]
    }
   ],
   "source": [
    "print(train_label[0])\n",
    "print(train_text[0])"
   ]
  },
  {
   "cell_type": "code",
   "execution_count": 7,
   "id": "super-nicaragua",
   "metadata": {
    "execution": {
     "iopub.execute_input": "2021-12-11T18:07:18.857721Z",
     "iopub.status.busy": "2021-12-11T18:07:18.856754Z",
     "iopub.status.idle": "2021-12-11T18:07:18.860300Z",
     "shell.execute_reply": "2021-12-11T18:07:18.859713Z",
     "shell.execute_reply.started": "2021-12-08T21:26:27.967567Z"
    },
    "papermill": {
     "duration": 0.031251,
     "end_time": "2021-12-11T18:07:18.860441",
     "exception": false,
     "start_time": "2021-12-11T18:07:18.829190",
     "status": "completed"
    },
    "tags": []
   },
   "outputs": [],
   "source": [
    "import re\n",
    "not_numChar = re.compile(r'[\\W]')\n",
    "no_encode = re.compile(r'[^a-z0-1\\s]')\n",
    "def normalisation(texts):\n",
    "    norm_text = []\n",
    "    for word in texts:\n",
    "        lower = word.lower()\n",
    "        not_punct = not_numChar.sub(r' ', lower)\n",
    "        exclude_no_encode = no_encode.sub(r'', not_punct)\n",
    "        norm_text.append(exclude_no_encode)\n",
    "    return norm_text"
   ]
  },
  {
   "cell_type": "code",
   "execution_count": 8,
   "id": "dirty-mozambique",
   "metadata": {
    "execution": {
     "iopub.execute_input": "2021-12-11T18:07:18.937859Z",
     "iopub.status.busy": "2021-12-11T18:07:18.932998Z",
     "iopub.status.idle": "2021-12-11T18:11:08.885570Z",
     "shell.execute_reply": "2021-12-11T18:11:08.886228Z",
     "shell.execute_reply.started": "2021-12-08T21:26:27.982804Z"
    },
    "papermill": {
     "duration": 230.004431,
     "end_time": "2021-12-11T18:11:08.886522",
     "exception": false,
     "start_time": "2021-12-11T18:07:18.882091",
     "status": "completed"
    },
    "tags": []
   },
   "outputs": [],
   "source": [
    "train_text = normalisation(train_text)\n",
    "test_text = normalisation(test_text)"
   ]
  },
  {
   "cell_type": "code",
   "execution_count": 9,
   "id": "comparable-trance",
   "metadata": {
    "execution": {
     "iopub.execute_input": "2021-12-11T18:11:08.938003Z",
     "iopub.status.busy": "2021-12-11T18:11:08.937001Z",
     "iopub.status.idle": "2021-12-11T18:11:08.942034Z",
     "shell.execute_reply": "2021-12-11T18:11:08.941424Z",
     "shell.execute_reply.started": "2021-12-08T21:29:47.899099Z"
    },
    "papermill": {
     "duration": 0.032722,
     "end_time": "2021-12-11T18:11:08.942178",
     "exception": false,
     "start_time": "2021-12-11T18:11:08.909456",
     "status": "completed"
    },
    "tags": []
   },
   "outputs": [
    {
     "name": "stdout",
     "output_type": "stream",
     "text": [
      "stuning even for the non gamer  this sound track was beautiful  it paints the senery in your mind so well i would recomend it even to people who hate vid  game music  i have played the game chrono cross but out of all of the games i have ever played it has the best music  it backs away from crude keyboarding and takes a fresher step with grate guitars and soulful orchestras  it would impress anyone who cares to listen    \n"
     ]
    }
   ],
   "source": [
    "print(train_text[0])"
   ]
  },
  {
   "cell_type": "code",
   "execution_count": 10,
   "id": "respiratory-moral",
   "metadata": {
    "execution": {
     "iopub.execute_input": "2021-12-11T18:11:08.995390Z",
     "iopub.status.busy": "2021-12-11T18:11:08.993366Z",
     "iopub.status.idle": "2021-12-11T18:11:09.003893Z",
     "shell.execute_reply": "2021-12-11T18:11:09.003285Z",
     "shell.execute_reply.started": "2021-12-08T21:29:47.909335Z"
    },
    "papermill": {
     "duration": 0.039289,
     "end_time": "2021-12-11T18:11:09.004053",
     "exception": false,
     "start_time": "2021-12-11T18:11:08.964764",
     "status": "completed"
    },
    "tags": []
   },
   "outputs": [],
   "source": [
    "y_train = np.array(train_label)\n",
    "y_test = np.array(test_label)"
   ]
  },
  {
   "cell_type": "code",
   "execution_count": 11,
   "id": "charitable-roads",
   "metadata": {
    "execution": {
     "iopub.execute_input": "2021-12-11T18:11:09.057905Z",
     "iopub.status.busy": "2021-12-11T18:11:09.056694Z",
     "iopub.status.idle": "2021-12-11T18:11:09.062248Z",
     "shell.execute_reply": "2021-12-11T18:11:09.061694Z",
     "shell.execute_reply.started": "2021-12-08T21:29:48.14836Z"
    },
    "papermill": {
     "duration": 0.035795,
     "end_time": "2021-12-11T18:11:09.062392",
     "exception": false,
     "start_time": "2021-12-11T18:11:09.026597",
     "status": "completed"
    },
    "tags": []
   },
   "outputs": [
    {
     "data": {
      "text/plain": [
       "(400000,)"
      ]
     },
     "execution_count": 11,
     "metadata": {},
     "output_type": "execute_result"
    }
   ],
   "source": [
    "y_test.shape"
   ]
  },
  {
   "cell_type": "code",
   "execution_count": 12,
   "id": "electoral-interview",
   "metadata": {
    "execution": {
     "iopub.execute_input": "2021-12-11T18:11:09.184569Z",
     "iopub.status.busy": "2021-12-11T18:11:09.148681Z",
     "iopub.status.idle": "2021-12-11T18:16:07.426153Z",
     "shell.execute_reply": "2021-12-11T18:16:07.426710Z",
     "shell.execute_reply.started": "2021-12-08T21:29:48.161032Z"
    },
    "papermill": {
     "duration": 298.340795,
     "end_time": "2021-12-11T18:16:07.426937",
     "exception": false,
     "start_time": "2021-12-11T18:11:09.086142",
     "status": "completed"
    },
    "tags": []
   },
   "outputs": [
    {
     "name": "stdout",
     "output_type": "stream",
     "text": [
      "Vocabulary Size : 905946\n"
     ]
    }
   ],
   "source": [
    "max_features = 8192\n",
    "maxlen = 128\n",
    "\n",
    "tokenizer = Tokenizer(num_words=max_features)\n",
    "tokenizer.fit_on_texts(train_text)\n",
    "\n",
    "word_index = tokenizer.word_index\n",
    "vocab_size = len(tokenizer.word_index) + 1\n",
    "print(\"Vocabulary Size :\", vocab_size)"
   ]
  },
  {
   "cell_type": "code",
   "execution_count": 13,
   "id": "american-niger",
   "metadata": {
    "execution": {
     "iopub.execute_input": "2021-12-11T18:16:07.480598Z",
     "iopub.status.busy": "2021-12-11T18:16:07.478409Z",
     "iopub.status.idle": "2021-12-11T18:16:08.495035Z",
     "shell.execute_reply": "2021-12-11T18:16:08.494416Z",
     "shell.execute_reply.started": "2021-12-08T21:34:39.735945Z"
    },
    "papermill": {
     "duration": 1.045007,
     "end_time": "2021-12-11T18:16:08.495192",
     "exception": false,
     "start_time": "2021-12-11T18:16:07.450185",
     "status": "completed"
    },
    "tags": []
   },
   "outputs": [],
   "source": [
    "import os \n",
    "with open('amazon_dictionary.txt', 'w') as file:\n",
    "    for key in word_index.keys():\n",
    "        file.write(key + \" \" + str(word_index[key]) + \",\")"
   ]
  },
  {
   "cell_type": "code",
   "execution_count": 14,
   "id": "guilty-traveler",
   "metadata": {
    "execution": {
     "iopub.execute_input": "2021-12-11T18:16:08.596243Z",
     "iopub.status.busy": "2021-12-11T18:16:08.580782Z",
     "iopub.status.idle": "2021-12-11T18:20:21.811332Z",
     "shell.execute_reply": "2021-12-11T18:20:21.812692Z",
     "shell.execute_reply.started": "2021-12-08T21:34:40.77233Z"
    },
    "papermill": {
     "duration": 253.294149,
     "end_time": "2021-12-11T18:20:21.813029",
     "exception": false,
     "start_time": "2021-12-11T18:16:08.518880",
     "status": "completed"
    },
    "tags": []
   },
   "outputs": [],
   "source": [
    "training_token = tokenizer.texts_to_sequences(train_text)\n",
    "testing_token = tokenizer.texts_to_sequences(test_text)"
   ]
  },
  {
   "cell_type": "code",
   "execution_count": 15,
   "id": "latter-annual",
   "metadata": {
    "execution": {
     "iopub.execute_input": "2021-12-11T18:20:21.905346Z",
     "iopub.status.busy": "2021-12-11T18:20:21.901240Z",
     "iopub.status.idle": "2021-12-11T18:21:40.786451Z",
     "shell.execute_reply": "2021-12-11T18:21:40.785641Z",
     "shell.execute_reply.started": "2021-12-08T21:38:55.605176Z"
    },
    "papermill": {
     "duration": 78.933531,
     "end_time": "2021-12-11T18:21:40.786638",
     "exception": false,
     "start_time": "2021-12-11T18:20:21.853107",
     "status": "completed"
    },
    "tags": []
   },
   "outputs": [],
   "source": [
    "x_train = pad_sequences(training_token, maxlen = maxlen, padding = 'post')\n",
    "x_test = pad_sequences(testing_token, maxlen = maxlen, padding = 'post')"
   ]
  },
  {
   "cell_type": "code",
   "execution_count": 16,
   "id": "exposed-watch",
   "metadata": {
    "execution": {
     "iopub.execute_input": "2021-12-11T18:21:40.840808Z",
     "iopub.status.busy": "2021-12-11T18:21:40.839906Z",
     "iopub.status.idle": "2021-12-11T18:21:42.309935Z",
     "shell.execute_reply": "2021-12-11T18:21:42.308957Z",
     "shell.execute_reply.started": "2021-12-08T21:40:19.880515Z"
    },
    "papermill": {
     "duration": 1.49965,
     "end_time": "2021-12-11T18:21:42.310096",
     "exception": false,
     "start_time": "2021-12-11T18:21:40.810446",
     "status": "completed"
    },
    "tags": []
   },
   "outputs": [],
   "source": [
    "import torch\n",
    "from torch.utils.data import TensorDataset, DataLoader\n",
    "import torch.nn as nn\n",
    "BATCH_SIZE = 50\n",
    "\n",
    "train_data = TensorDataset(torch.from_numpy(x_train), torch.from_numpy(y_train))\n",
    "test_data = TensorDataset(torch.from_numpy(x_test), torch.from_numpy(y_test))\n",
    "\n",
    "train_loader = DataLoader(train_data, shuffle=True, batch_size=BATCH_SIZE, drop_last = True)\n",
    "test_loader = DataLoader(test_data, shuffle=True, batch_size=BATCH_SIZE, drop_last = True)"
   ]
  },
  {
   "cell_type": "code",
   "execution_count": 17,
   "id": "limited-ordinary",
   "metadata": {
    "execution": {
     "iopub.execute_input": "2021-12-11T18:21:42.367759Z",
     "iopub.status.busy": "2021-12-11T18:21:42.366671Z",
     "iopub.status.idle": "2021-12-11T18:21:42.370426Z",
     "shell.execute_reply": "2021-12-11T18:21:42.369838Z",
     "shell.execute_reply.started": "2021-12-08T21:40:20.986111Z"
    },
    "papermill": {
     "duration": 0.037963,
     "end_time": "2021-12-11T18:21:42.370558",
     "exception": false,
     "start_time": "2021-12-11T18:21:42.332595",
     "status": "completed"
    },
    "tags": []
   },
   "outputs": [],
   "source": [
    "class SentimentNet(nn.Module):\n",
    "    def __init__(self, vocab_size, output_size, embedding_dim, hidden_dim, n_layers, drop_prob=0.5):\n",
    "        super(SentimentNet, self).__init__()\n",
    "        self.output_size = output_size\n",
    "        self.n_layers = n_layers\n",
    "        self.hidden_dim = hidden_dim\n",
    "        \n",
    "        \n",
    "        self.embedding = nn.Embedding(vocab_size, embedding_dim)\n",
    "        #self.conv = nn.Conv1d(embedding_dim, 8, kernel_size=5)\n",
    "        self.lstm = nn.LSTM(embedding_dim, hidden_dim, n_layers, dropout=drop_prob, batch_first=True)\n",
    "        #self.gru = nn.GRU(embedding_dim, hidden_dim, n_layers, dropout=drop_prob, batch_first=True)\n",
    "        self.dropout = nn.Dropout(drop_prob)\n",
    "        self.fc = nn.Linear(hidden_dim, output_size)\n",
    "        self.sigmoid = nn.Sigmoid()\n",
    "        \n",
    "    def forward(self, x, hidden):\n",
    "        #print(x.shape)\n",
    "        if len(x) != 1:\n",
    "            batch_size = x.size(0)\n",
    "        else:\n",
    "            batch_size = 1\n",
    "        x = x.long()\n",
    "        embeds = self.embedding(x)\n",
    "\n",
    "        #conv = self.conv(x)\n",
    "        \n",
    "        lstm_out, hidden = self.lstm(embeds, hidden)\n",
    "        lstm_out = lstm_out.contiguous().view(-1, self.hidden_dim)\n",
    "        \n",
    "        out = self.dropout(lstm_out)\n",
    "        out = self.fc(out)\n",
    "        out = self.sigmoid(out)\n",
    "        \n",
    "        out = out.view(batch_size, -1)\n",
    "        out = out[:,-1]\n",
    "        return out, hidden\n",
    "    \n",
    "    def init_hidden(self, batch_size):\n",
    "        weight = next(self.parameters()).data\n",
    "        hidden = (weight.new(self.n_layers, batch_size, self.hidden_dim).zero_().to(device),weight.new(self.n_layers, batch_size, self.hidden_dim).zero_().to(device))\n",
    "        #hidden = (weight.new(self.n_layers, batch_size, self.hidden_dim).zero_(),\n",
    "        #             weight.new(self.n_layers, batch_size, self.hidden_dim).zero_())\n",
    "        return hidden"
   ]
  },
  {
   "cell_type": "code",
   "execution_count": 18,
   "id": "dynamic-comparative",
   "metadata": {
    "execution": {
     "iopub.execute_input": "2021-12-11T18:21:42.423271Z",
     "iopub.status.busy": "2021-12-11T18:21:42.421057Z",
     "iopub.status.idle": "2021-12-11T18:21:42.424054Z",
     "shell.execute_reply": "2021-12-11T18:21:42.424614Z",
     "shell.execute_reply.started": "2021-12-08T21:40:21.00062Z"
    },
    "papermill": {
     "duration": 0.03176,
     "end_time": "2021-12-11T18:21:42.424783",
     "exception": false,
     "start_time": "2021-12-11T18:21:42.393023",
     "status": "completed"
    },
    "tags": []
   },
   "outputs": [],
   "source": [
    "def model_params(model):\n",
    "    pp=0\n",
    "    for p in list(model.parameters()):\n",
    "        nn=1\n",
    "        for s in list(p.size()):\n",
    "            nn = nn*s\n",
    "        pp += nn\n",
    "    return pp"
   ]
  },
  {
   "cell_type": "code",
   "execution_count": 19,
   "id": "framed-michael",
   "metadata": {
    "execution": {
     "iopub.execute_input": "2021-12-11T18:21:42.486226Z",
     "iopub.status.busy": "2021-12-11T18:21:42.485301Z",
     "iopub.status.idle": "2021-12-11T18:21:51.273192Z",
     "shell.execute_reply": "2021-12-11T18:21:51.272216Z",
     "shell.execute_reply.started": "2021-12-08T21:40:21.018613Z"
    },
    "papermill": {
     "duration": 8.825984,
     "end_time": "2021-12-11T18:21:51.273339",
     "exception": false,
     "start_time": "2021-12-11T18:21:42.447355",
     "status": "completed"
    },
    "tags": []
   },
   "outputs": [
    {
     "name": "stderr",
     "output_type": "stream",
     "text": [
      "/opt/conda/lib/python3.7/site-packages/torch/nn/modules/rnn.py:61: UserWarning: dropout option adds dropout after all but last recurrent layer, so non-zero dropout expects num_layers greater than 1, but got dropout=0.5 and num_layers=1\n",
      "  \"num_layers={}\".format(dropout, num_layers))\n"
     ]
    },
    {
     "name": "stdout",
     "output_type": "stream",
     "text": [
      "115963237\n"
     ]
    }
   ],
   "source": [
    "output_size = 1\n",
    "embedding_dim = 128\n",
    "hidden_dim = 4\n",
    "n_layers = 1\n",
    "\n",
    "model = SentimentNet(vocab_size, output_size, embedding_dim, hidden_dim, n_layers)\n",
    "print(model_params(model))\n",
    "model.to(device)\n",
    "lr=0.01\n",
    "criterion = nn.BCELoss()\n",
    "optimizer = torch.optim.Adam(model.parameters(), lr=lr)"
   ]
  },
  {
   "cell_type": "code",
   "execution_count": 20,
   "id": "indirect-harvest",
   "metadata": {
    "execution": {
     "iopub.execute_input": "2021-12-11T18:21:51.335317Z",
     "iopub.status.busy": "2021-12-11T18:21:51.334365Z",
     "iopub.status.idle": "2021-12-11T19:43:09.925648Z",
     "shell.execute_reply": "2021-12-11T19:43:09.924677Z",
     "shell.execute_reply.started": "2021-12-08T21:40:22.585467Z"
    },
    "papermill": {
     "duration": 4878.628485,
     "end_time": "2021-12-11T19:43:09.925846",
     "exception": false,
     "start_time": "2021-12-11T18:21:51.297361",
     "status": "completed"
    },
    "tags": []
   },
   "outputs": [
    {
     "name": "stdout",
     "output_type": "stream",
     "text": [
      "Epoch: 1/2... Step: 5000... Loss: 0.693668... Val Loss: 0.690567\n",
      "Validation loss decreased (inf --> 0.690567).  Saving model ...\n",
      "Epoch: 1/2... Step: 10000... Loss: 0.673723... Val Loss: 0.689444\n",
      "Validation loss decreased (0.690567 --> 0.689444).  Saving model ...\n",
      "Epoch: 1/2... Step: 15000... Loss: 0.701172... Val Loss: 0.689981\n",
      "Epoch: 1/2... Step: 20000... Loss: 0.689448... Val Loss: 0.690052\n",
      "Epoch: 1/2... Step: 25000... Loss: 0.704104... Val Loss: 0.689861\n",
      "Epoch: 1/2... Step: 30000... Loss: 0.704208... Val Loss: 0.689614\n",
      "Epoch: 1/2... Step: 35000... Loss: 0.674188... Val Loss: 0.689701\n",
      "Epoch: 1/2... Step: 40000... Loss: 0.654741... Val Loss: 0.689538\n",
      "Epoch: 1/2... Step: 45000... Loss: 0.717773... Val Loss: 0.689795\n",
      "Epoch: 1/2... Step: 50000... Loss: 0.683421... Val Loss: 0.690947\n",
      "Epoch: 1/2... Step: 55000... Loss: 0.700344... Val Loss: 0.690527\n",
      "Epoch: 1/2... Step: 60000... Loss: 0.680039... Val Loss: 0.690320\n",
      "Epoch: 1/2... Step: 65000... Loss: 0.683178... Val Loss: 0.690130\n",
      "Epoch: 1/2... Step: 70000... Loss: 0.683199... Val Loss: 0.689623\n",
      "Epoch: 2/2... Step: 75000... Loss: 0.681354... Val Loss: 0.690007\n",
      "Epoch: 2/2... Step: 80000... Loss: 0.708299... Val Loss: 0.689627\n",
      "Epoch: 2/2... Step: 85000... Loss: 0.686310... Val Loss: 0.689854\n",
      "Epoch: 2/2... Step: 90000... Loss: 0.674403... Val Loss: 0.690159\n",
      "Epoch: 2/2... Step: 95000... Loss: 0.687308... Val Loss: 0.690777\n",
      "Epoch: 2/2... Step: 100000... Loss: 0.707155... Val Loss: 0.689745\n",
      "Epoch: 2/2... Step: 105000... Loss: 0.690537... Val Loss: 0.689907\n",
      "Epoch: 2/2... Step: 110000... Loss: 0.700476... Val Loss: 0.689878\n",
      "Epoch: 2/2... Step: 115000... Loss: 0.687565... Val Loss: 0.690069\n",
      "Epoch: 2/2... Step: 120000... Loss: 0.697383... Val Loss: 0.690002\n",
      "Epoch: 2/2... Step: 125000... Loss: 0.694765... Val Loss: 0.689598\n",
      "Epoch: 2/2... Step: 130000... Loss: 0.686938... Val Loss: 0.689976\n",
      "Epoch: 2/2... Step: 135000... Loss: 0.679649... Val Loss: 0.689854\n",
      "Epoch: 2/2... Step: 140000... Loss: 0.678557... Val Loss: 0.689286\n",
      "Validation loss decreased (0.689444 --> 0.689286).  Saving model ...\n"
     ]
    }
   ],
   "source": [
    "epochs = 2\n",
    "counter = 0\n",
    "print_every = 5000\n",
    "clip = 5\n",
    "valid_loss_min = np.Inf\n",
    "\n",
    "model.train()\n",
    "for i in range(epochs):\n",
    "    h = model.init_hidden(BATCH_SIZE)\n",
    "    \n",
    "    for inputs, labels in train_loader:\n",
    "        counter += 1\n",
    "        h = tuple([e.data for e in h])\n",
    "        inputs, labels = inputs.to(device), labels.to(device)\n",
    "        model.zero_grad()\n",
    "        output, h = model(inputs, h)\n",
    "        loss = criterion(output, labels.float())\n",
    "        loss.backward()\n",
    "        #nn.utils.clip_grad_norm_(model.parameters(), clip)\n",
    "        optimizer.step()\n",
    "        \n",
    "        if counter%print_every == 0:\n",
    "            val_h = model.init_hidden(BATCH_SIZE)\n",
    "            val_losses = []\n",
    "            model.eval()\n",
    "            for inp, lab in test_loader:\n",
    "                val_h = tuple([each.data for each in val_h])\n",
    "                inp, lab = inp.to(device), lab.to(device)\n",
    "                out, val_h = model(inp, val_h)\n",
    "                val_loss = criterion(out, lab.float())\n",
    "                val_losses.append(val_loss.item())\n",
    "                \n",
    "            model.train()\n",
    "            print(\"Epoch: {}/{}...\".format(i+1, epochs),\n",
    "                  \"Step: {}...\".format(counter),\n",
    "                  \"Loss: {:.6f}...\".format(loss.item()),\n",
    "                  \"Val Loss: {:.6f}\".format(np.mean(val_losses)))\n",
    "            if np.mean(val_losses) <= valid_loss_min:\n",
    "                torch.save(model.state_dict(), './state_dict.pt')\n",
    "                print('Validation loss decreased ({:.6f} --> {:.6f}).  Saving model ...'.format(valid_loss_min,np.mean(val_losses)))\n",
    "                valid_loss_min = np.mean(val_losses)"
   ]
  },
  {
   "cell_type": "code",
   "execution_count": 21,
   "id": "square-enemy",
   "metadata": {
    "execution": {
     "iopub.execute_input": "2021-12-11T19:43:10.001141Z",
     "iopub.status.busy": "2021-12-11T19:43:10.000309Z",
     "iopub.status.idle": "2021-12-11T19:43:10.005890Z",
     "shell.execute_reply": "2021-12-11T19:43:10.005239Z"
    },
    "papermill": {
     "duration": 0.045119,
     "end_time": "2021-12-11T19:43:10.006031",
     "exception": false,
     "start_time": "2021-12-11T19:43:09.960912",
     "status": "completed"
    },
    "tags": []
   },
   "outputs": [],
   "source": [
    "h = model.init_hidden(1)"
   ]
  },
  {
   "cell_type": "code",
   "execution_count": 22,
   "id": "further-isaac",
   "metadata": {
    "execution": {
     "iopub.execute_input": "2021-12-11T19:43:10.083267Z",
     "iopub.status.busy": "2021-12-11T19:43:10.082235Z",
     "iopub.status.idle": "2021-12-11T19:43:10.124453Z",
     "shell.execute_reply": "2021-12-11T19:43:10.125056Z"
    },
    "papermill": {
     "duration": 0.08473,
     "end_time": "2021-12-11T19:43:10.125265",
     "exception": false,
     "start_time": "2021-12-11T19:43:10.040535",
     "status": "completed"
    },
    "tags": []
   },
   "outputs": [
    {
     "data": {
      "text/plain": [
       "tensor([0.5076], device='cuda:0', grad_fn=<SelectBackward>)"
      ]
     },
     "execution_count": 22,
     "metadata": {},
     "output_type": "execute_result"
    }
   ],
   "source": [
    "sentence = \"I love this film, it was so awesome!\"\n",
    "trial = torch.tensor(pad_sequences(tokenizer.texts_to_sequences([sentence]), maxlen = maxlen)).to(device)\n",
    "\n",
    "model(trial, h)[0]"
   ]
  },
  {
   "cell_type": "code",
   "execution_count": 23,
   "id": "isolated-freeware",
   "metadata": {
    "execution": {
     "iopub.execute_input": "2021-12-11T19:43:10.200331Z",
     "iopub.status.busy": "2021-12-11T19:43:10.199518Z",
     "iopub.status.idle": "2021-12-11T19:43:13.308032Z",
     "shell.execute_reply": "2021-12-11T19:43:13.306541Z"
    },
    "papermill": {
     "duration": 3.148111,
     "end_time": "2021-12-11T19:43:13.308237",
     "exception": false,
     "start_time": "2021-12-11T19:43:10.160126",
     "status": "completed"
    },
    "tags": []
   },
   "outputs": [
    {
     "name": "stderr",
     "output_type": "stream",
     "text": [
      "/opt/conda/lib/python3.7/site-packages/ipykernel_launcher.py:19: TracerWarning: Converting a tensor to a Python index might cause the trace to be incorrect. We can't record the data flow of Python values, so this value will be treated as a constant in the future. This means that the trace might not generalize to other inputs!\n",
      "/opt/conda/lib/python3.7/site-packages/torch/onnx/symbolic_opset9.py:1805: UserWarning: Exporting a model to ONNX with a batch_size other than 1, with a variable length with LSTM can cause an error when running the ONNX model with a different batch size. Make sure to save the model with a batch size of 1, or define the initial states (h0/c0) as inputs of the model. \n",
      "  \"or define the initial states (h0/c0) as inputs of the model. \")\n"
     ]
    }
   ],
   "source": [
    "import torch.onnx\n",
    "torch.onnx.export(model,               # model being run\n",
    "                  (trial, (torch.randn(1,n_layers,hidden_dim).to(device), torch.randn(1,n_layers,hidden_dim).to(device))),                   # model input (or a tuple for multiple inputs)\n",
    "                  \"lstm-PT.onnx\")"
   ]
  }
 ],
 "metadata": {
  "kernelspec": {
   "display_name": "Python 3",
   "language": "python",
   "name": "python3"
  },
  "language_info": {
   "codemirror_mode": {
    "name": "ipython",
    "version": 3
   },
   "file_extension": ".py",
   "mimetype": "text/x-python",
   "name": "python",
   "nbconvert_exporter": "python",
   "pygments_lexer": "ipython3",
   "version": "3.7.9"
  },
  "papermill": {
   "default_parameters": {},
   "duration": 5907.549879,
   "end_time": "2021-12-11T19:43:19.724054",
   "environment_variables": {},
   "exception": null,
   "input_path": "__notebook__.ipynb",
   "output_path": "__notebook__.ipynb",
   "parameters": {},
   "start_time": "2021-12-11T18:04:52.174175",
   "version": "2.3.2"
  }
 },
 "nbformat": 4,
 "nbformat_minor": 5
}
