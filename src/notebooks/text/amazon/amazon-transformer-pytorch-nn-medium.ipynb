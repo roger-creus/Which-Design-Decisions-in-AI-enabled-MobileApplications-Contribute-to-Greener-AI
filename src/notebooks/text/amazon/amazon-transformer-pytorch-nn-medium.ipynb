{
 "cells": [
  {
   "cell_type": "code",
   "execution_count": 1,
   "id": "32c5b05a",
   "metadata": {
    "_cell_guid": "b1076dfc-b9ad-4769-8c92-a6c4dae69d19",
    "_uuid": "8f2839f25d086af736a60e9eeb907d3b93b6e0e5",
    "execution": {
     "iopub.execute_input": "2021-12-16T12:46:45.589646Z",
     "iopub.status.busy": "2021-12-16T12:46:45.584969Z",
     "iopub.status.idle": "2021-12-16T12:46:45.602348Z",
     "shell.execute_reply": "2021-12-16T12:46:45.602920Z",
     "shell.execute_reply.started": "2021-12-15T09:47:04.551436Z"
    },
    "papermill": {
     "duration": 0.044528,
     "end_time": "2021-12-16T12:46:45.603211",
     "exception": false,
     "start_time": "2021-12-16T12:46:45.558683",
     "status": "completed"
    },
    "tags": []
   },
   "outputs": [
    {
     "name": "stdout",
     "output_type": "stream",
     "text": [
      "/kaggle/input/amazonreviews/test.ft.txt.bz2\n",
      "/kaggle/input/amazonreviews/train.ft.txt.bz2\n"
     ]
    }
   ],
   "source": [
    "# This Python 3 environment comes with many helpful analytics libraries installed\n",
    "# It is defined by the kaggle/python Docker image: https://github.com/kaggle/docker-python\n",
    "# For example, here's several helpful packages to load\n",
    "\n",
    "import numpy as np # linear algebra\n",
    "import pandas as pd # data processing, CSV file I/O (e.g. pd.read_csv)\n",
    "\n",
    "# Input data files are available in the read-only \"../input/\" directory\n",
    "# For example, running this (by clicking run or pressing Shift+Enter) will list all files under the input directory\n",
    "\n",
    "import os\n",
    "for dirname, _, filenames in os.walk('/kaggle/input'):\n",
    "    for filename in filenames:\n",
    "        print(os.path.join(dirname, filename))\n",
    "\n",
    "# You can write up to 20GB to the current directory (/kaggle/working/) that gets preserved as output when you create a version using \"Save & Run All\" \n",
    "# You can also write temporary files to /kaggle/temp/, but they won't be saved outside of the current session"
   ]
  },
  {
   "cell_type": "code",
   "execution_count": 2,
   "id": "523b5b4b",
   "metadata": {
    "execution": {
     "iopub.execute_input": "2021-12-16T12:46:45.641193Z",
     "iopub.status.busy": "2021-12-16T12:46:45.640668Z",
     "iopub.status.idle": "2021-12-16T12:46:51.096207Z",
     "shell.execute_reply": "2021-12-16T12:46:51.096660Z",
     "shell.execute_reply.started": "2021-12-15T09:47:04.602525Z"
    },
    "papermill": {
     "duration": 5.476979,
     "end_time": "2021-12-16T12:46:51.096826",
     "exception": false,
     "start_time": "2021-12-16T12:46:45.619847",
     "status": "completed"
    },
    "tags": []
   },
   "outputs": [],
   "source": [
    "import pandas as pd\n",
    "import numpy as np\n",
    "import bz2\n",
    "import matplotlib.pyplot as plt\n",
    "import sklearn\n",
    "import tensorflow as tf\n",
    "from tensorflow.keras import models, layers, optimizers\n",
    "from tensorflow.keras.preprocessing.text import Tokenizer, text_to_word_sequence\n",
    "from tensorflow.keras.preprocessing.sequence import pad_sequences\n",
    "\n",
    "%matplotlib inline"
   ]
  },
  {
   "cell_type": "code",
   "execution_count": 3,
   "id": "f1b7e6b6",
   "metadata": {
    "execution": {
     "iopub.execute_input": "2021-12-16T12:46:51.134199Z",
     "iopub.status.busy": "2021-12-16T12:46:51.133369Z",
     "iopub.status.idle": "2021-12-16T12:46:51.135837Z",
     "shell.execute_reply": "2021-12-16T12:46:51.135385Z",
     "shell.execute_reply.started": "2021-12-15T09:47:11.616003Z"
    },
    "papermill": {
     "duration": 0.022532,
     "end_time": "2021-12-16T12:46:51.135965",
     "exception": false,
     "start_time": "2021-12-16T12:46:51.113433",
     "status": "completed"
    },
    "tags": []
   },
   "outputs": [],
   "source": [
    "device = \"cuda:0\""
   ]
  },
  {
   "cell_type": "code",
   "execution_count": 4,
   "id": "970d1ffd",
   "metadata": {
    "execution": {
     "iopub.execute_input": "2021-12-16T12:46:51.174964Z",
     "iopub.status.busy": "2021-12-16T12:46:51.174100Z",
     "iopub.status.idle": "2021-12-16T12:46:51.175959Z",
     "shell.execute_reply": "2021-12-16T12:46:51.176468Z",
     "shell.execute_reply.started": "2021-12-15T09:47:11.628463Z"
    },
    "papermill": {
     "duration": 0.02413,
     "end_time": "2021-12-16T12:46:51.176602",
     "exception": false,
     "start_time": "2021-12-16T12:46:51.152472",
     "status": "completed"
    },
    "tags": []
   },
   "outputs": [],
   "source": [
    "def labels_texts(file):\n",
    "    labels = []\n",
    "    texts = []\n",
    "    for line in bz2.BZ2File(file):\n",
    "        x = line.decode(\"utf-8\")\n",
    "        labels.append(int(x[9]) - 1)\n",
    "        texts.append(x[10:].strip())\n",
    "    return np.array(labels), texts\n",
    "\n"
   ]
  },
  {
   "cell_type": "code",
   "execution_count": 5,
   "id": "95979403",
   "metadata": {
    "execution": {
     "iopub.execute_input": "2021-12-16T12:46:51.213623Z",
     "iopub.status.busy": "2021-12-16T12:46:51.213077Z",
     "iopub.status.idle": "2021-12-16T12:48:51.763934Z",
     "shell.execute_reply": "2021-12-16T12:48:51.764430Z",
     "shell.execute_reply.started": "2021-12-15T09:47:11.649092Z"
    },
    "papermill": {
     "duration": 120.5716,
     "end_time": "2021-12-16T12:48:51.764622",
     "exception": false,
     "start_time": "2021-12-16T12:46:51.193022",
     "status": "completed"
    },
    "tags": []
   },
   "outputs": [],
   "source": [
    "train_label, train_text = labels_texts('../input/amazonreviews/train.ft.txt.bz2')\n",
    "test_label, test_text = labels_texts('../input/amazonreviews/test.ft.txt.bz2')"
   ]
  },
  {
   "cell_type": "code",
   "execution_count": 6,
   "id": "0ca79cab",
   "metadata": {
    "execution": {
     "iopub.execute_input": "2021-12-16T12:48:51.802106Z",
     "iopub.status.busy": "2021-12-16T12:48:51.801521Z",
     "iopub.status.idle": "2021-12-16T12:48:51.804271Z",
     "shell.execute_reply": "2021-12-16T12:48:51.804687Z",
     "shell.execute_reply.started": "2021-12-15T09:49:33.606373Z"
    },
    "papermill": {
     "duration": 0.024087,
     "end_time": "2021-12-16T12:48:51.804820",
     "exception": false,
     "start_time": "2021-12-16T12:48:51.780733",
     "status": "completed"
    },
    "tags": []
   },
   "outputs": [
    {
     "name": "stdout",
     "output_type": "stream",
     "text": [
      "1\n",
      "Stuning even for the non-gamer: This sound track was beautiful! It paints the senery in your mind so well I would recomend it even to people who hate vid. game music! I have played the game Chrono Cross but out of all of the games I have ever played it has the best music! It backs away from crude keyboarding and takes a fresher step with grate guitars and soulful orchestras. It would impress anyone who cares to listen! ^_^\n"
     ]
    }
   ],
   "source": [
    "print(train_label[0])\n",
    "print(train_text[0])"
   ]
  },
  {
   "cell_type": "code",
   "execution_count": 7,
   "id": "9257525c",
   "metadata": {
    "execution": {
     "iopub.execute_input": "2021-12-16T12:48:51.844888Z",
     "iopub.status.busy": "2021-12-16T12:48:51.843966Z",
     "iopub.status.idle": "2021-12-16T12:48:51.846244Z",
     "shell.execute_reply": "2021-12-16T12:48:51.846665Z",
     "shell.execute_reply.started": "2021-12-15T09:49:33.618974Z"
    },
    "papermill": {
     "duration": 0.025864,
     "end_time": "2021-12-16T12:48:51.846806",
     "exception": false,
     "start_time": "2021-12-16T12:48:51.820942",
     "status": "completed"
    },
    "tags": []
   },
   "outputs": [],
   "source": [
    "import re\n",
    "not_numChar = re.compile(r'[\\W]')\n",
    "no_encode = re.compile(r'[^a-z0-1\\s]')\n",
    "def normalisation(texts):\n",
    "    norm_text = []\n",
    "    for word in texts:\n",
    "        lower = word.lower()\n",
    "        not_punct = not_numChar.sub(r' ', lower)\n",
    "        exclude_no_encode = no_encode.sub(r'', not_punct)\n",
    "        norm_text.append(exclude_no_encode)\n",
    "    return norm_text"
   ]
  },
  {
   "cell_type": "code",
   "execution_count": 8,
   "id": "5f722398",
   "metadata": {
    "execution": {
     "iopub.execute_input": "2021-12-16T12:48:51.923744Z",
     "iopub.status.busy": "2021-12-16T12:48:51.892688Z",
     "iopub.status.idle": "2021-12-16T12:51:51.095966Z",
     "shell.execute_reply": "2021-12-16T12:51:51.095480Z",
     "shell.execute_reply.started": "2021-12-15T09:49:33.631996Z"
    },
    "papermill": {
     "duration": 179.230743,
     "end_time": "2021-12-16T12:51:51.096106",
     "exception": false,
     "start_time": "2021-12-16T12:48:51.865363",
     "status": "completed"
    },
    "tags": []
   },
   "outputs": [],
   "source": [
    "train_text = normalisation(train_text)\n",
    "test_text = normalisation(test_text)"
   ]
  },
  {
   "cell_type": "code",
   "execution_count": 9,
   "id": "0ec46e87",
   "metadata": {
    "execution": {
     "iopub.execute_input": "2021-12-16T12:51:51.134883Z",
     "iopub.status.busy": "2021-12-16T12:51:51.134289Z",
     "iopub.status.idle": "2021-12-16T12:51:51.136882Z",
     "shell.execute_reply": "2021-12-16T12:51:51.137305Z",
     "shell.execute_reply.started": "2021-12-15T09:52:56.562418Z"
    },
    "papermill": {
     "duration": 0.023322,
     "end_time": "2021-12-16T12:51:51.137440",
     "exception": false,
     "start_time": "2021-12-16T12:51:51.114118",
     "status": "completed"
    },
    "tags": []
   },
   "outputs": [
    {
     "name": "stdout",
     "output_type": "stream",
     "text": [
      "stuning even for the non gamer  this sound track was beautiful  it paints the senery in your mind so well i would recomend it even to people who hate vid  game music  i have played the game chrono cross but out of all of the games i have ever played it has the best music  it backs away from crude keyboarding and takes a fresher step with grate guitars and soulful orchestras  it would impress anyone who cares to listen    \n"
     ]
    }
   ],
   "source": [
    "print(train_text[0])"
   ]
  },
  {
   "cell_type": "code",
   "execution_count": 10,
   "id": "40194308",
   "metadata": {
    "execution": {
     "iopub.execute_input": "2021-12-16T12:51:51.179260Z",
     "iopub.status.busy": "2021-12-16T12:51:51.178017Z",
     "iopub.status.idle": "2021-12-16T12:51:51.182305Z",
     "shell.execute_reply": "2021-12-16T12:51:51.182769Z",
     "shell.execute_reply.started": "2021-12-15T09:52:56.574224Z"
    },
    "papermill": {
     "duration": 0.029384,
     "end_time": "2021-12-16T12:51:51.182912",
     "exception": false,
     "start_time": "2021-12-16T12:51:51.153528",
     "status": "completed"
    },
    "tags": []
   },
   "outputs": [],
   "source": [
    "y_train = np.array(train_label)\n",
    "y_test = np.array(test_label)"
   ]
  },
  {
   "cell_type": "code",
   "execution_count": 11,
   "id": "ecb34cc5",
   "metadata": {
    "execution": {
     "iopub.execute_input": "2021-12-16T12:51:51.222052Z",
     "iopub.status.busy": "2021-12-16T12:51:51.221413Z",
     "iopub.status.idle": "2021-12-16T12:51:51.224460Z",
     "shell.execute_reply": "2021-12-16T12:51:51.224862Z",
     "shell.execute_reply.started": "2021-12-15T09:52:56.598686Z"
    },
    "papermill": {
     "duration": 0.02577,
     "end_time": "2021-12-16T12:51:51.224993",
     "exception": false,
     "start_time": "2021-12-16T12:51:51.199223",
     "status": "completed"
    },
    "tags": []
   },
   "outputs": [
    {
     "data": {
      "text/plain": [
       "(400000,)"
      ]
     },
     "execution_count": 11,
     "metadata": {},
     "output_type": "execute_result"
    }
   ],
   "source": [
    "y_test.shape"
   ]
  },
  {
   "cell_type": "code",
   "execution_count": 12,
   "id": "d1b57011",
   "metadata": {
    "execution": {
     "iopub.execute_input": "2021-12-16T12:51:51.285777Z",
     "iopub.status.busy": "2021-12-16T12:51:51.275520Z",
     "iopub.status.idle": "2021-12-16T12:55:48.612412Z",
     "shell.execute_reply": "2021-12-16T12:55:48.613029Z",
     "shell.execute_reply.started": "2021-12-15T09:52:56.818906Z"
    },
    "papermill": {
     "duration": 237.371851,
     "end_time": "2021-12-16T12:55:48.613254",
     "exception": false,
     "start_time": "2021-12-16T12:51:51.241403",
     "status": "completed"
    },
    "tags": []
   },
   "outputs": [
    {
     "name": "stdout",
     "output_type": "stream",
     "text": [
      "Vocabulary Size : 905946\n"
     ]
    }
   ],
   "source": [
    "max_features = 8192\n",
    "maxlen = 128\n",
    "\n",
    "tokenizer = Tokenizer(num_words=max_features)\n",
    "tokenizer.fit_on_texts(train_text)\n",
    "\n",
    "word_index = tokenizer.word_index\n",
    "vocab_size = len(tokenizer.word_index) + 1\n",
    "print(\"Vocabulary Size :\", vocab_size)"
   ]
  },
  {
   "cell_type": "code",
   "execution_count": 13,
   "id": "3a65817c",
   "metadata": {
    "execution": {
     "iopub.execute_input": "2021-12-16T12:55:48.678864Z",
     "iopub.status.busy": "2021-12-16T12:55:48.678109Z",
     "iopub.status.idle": "2021-12-16T12:55:49.647607Z",
     "shell.execute_reply": "2021-12-16T12:55:49.646675Z",
     "shell.execute_reply.started": "2021-12-15T09:58:13.726016Z"
    },
    "papermill": {
     "duration": 1.007336,
     "end_time": "2021-12-16T12:55:49.647754",
     "exception": false,
     "start_time": "2021-12-16T12:55:48.640418",
     "status": "completed"
    },
    "tags": []
   },
   "outputs": [],
   "source": [
    "import os \n",
    "with open('amazon_dictionary.txt', 'w') as file:\n",
    "    for key in word_index.keys():\n",
    "        file.write(key + \" \" + str(word_index[key]) + \",\")"
   ]
  },
  {
   "cell_type": "code",
   "execution_count": 14,
   "id": "fabc05ca",
   "metadata": {
    "execution": {
     "iopub.execute_input": "2021-12-16T12:55:49.730351Z",
     "iopub.status.busy": "2021-12-16T12:55:49.709626Z",
     "iopub.status.idle": "2021-12-16T12:59:18.767095Z",
     "shell.execute_reply": "2021-12-16T12:59:18.767610Z",
     "shell.execute_reply.started": "2021-12-15T09:58:14.779469Z"
    },
    "papermill": {
     "duration": 209.102941,
     "end_time": "2021-12-16T12:59:18.767820",
     "exception": false,
     "start_time": "2021-12-16T12:55:49.664879",
     "status": "completed"
    },
    "tags": []
   },
   "outputs": [],
   "source": [
    "training_token = tokenizer.texts_to_sequences(train_text)\n",
    "testing_token = tokenizer.texts_to_sequences(test_text)"
   ]
  },
  {
   "cell_type": "code",
   "execution_count": 15,
   "id": "3a4ccc77",
   "metadata": {
    "execution": {
     "iopub.execute_input": "2021-12-16T12:59:18.840924Z",
     "iopub.status.busy": "2021-12-16T12:59:18.827972Z",
     "iopub.status.idle": "2021-12-16T13:00:33.003440Z",
     "shell.execute_reply": "2021-12-16T13:00:33.003872Z",
     "shell.execute_reply.started": "2021-12-15T10:02:34.793198Z"
    },
    "papermill": {
     "duration": 74.21713,
     "end_time": "2021-12-16T13:00:33.004038",
     "exception": false,
     "start_time": "2021-12-16T12:59:18.786908",
     "status": "completed"
    },
    "tags": []
   },
   "outputs": [],
   "source": [
    "x_train = pad_sequences(training_token, maxlen = maxlen, padding = 'post')\n",
    "x_test = pad_sequences(testing_token, maxlen = maxlen, padding = 'post')"
   ]
  },
  {
   "cell_type": "code",
   "execution_count": 16,
   "id": "4cd0f202",
   "metadata": {
    "execution": {
     "iopub.execute_input": "2021-12-16T13:00:33.045455Z",
     "iopub.status.busy": "2021-12-16T13:00:33.044815Z",
     "iopub.status.idle": "2021-12-16T13:00:34.429182Z",
     "shell.execute_reply": "2021-12-16T13:00:34.428704Z",
     "shell.execute_reply.started": "2021-12-15T10:03:54.502031Z"
    },
    "papermill": {
     "duration": 1.407544,
     "end_time": "2021-12-16T13:00:34.429315",
     "exception": false,
     "start_time": "2021-12-16T13:00:33.021771",
     "status": "completed"
    },
    "tags": []
   },
   "outputs": [],
   "source": [
    "import torch\n",
    "from torch.utils.data import TensorDataset, DataLoader\n",
    "import torch.nn as nn\n",
    "BATCH_SIZE = 50\n",
    "\n",
    "train_data = TensorDataset(torch.from_numpy(x_train), torch.from_numpy(y_train))\n",
    "test_data = TensorDataset(torch.from_numpy(x_test), torch.from_numpy(y_test))\n",
    "\n",
    "train_loader = DataLoader(train_data, shuffle=True, batch_size=BATCH_SIZE, drop_last = True)\n",
    "test_loader = DataLoader(test_data, shuffle=True, batch_size=BATCH_SIZE, drop_last = True)"
   ]
  },
  {
   "cell_type": "code",
   "execution_count": 17,
   "id": "d6794905",
   "metadata": {
    "execution": {
     "iopub.execute_input": "2021-12-16T13:00:34.477203Z",
     "iopub.status.busy": "2021-12-16T13:00:34.476434Z",
     "iopub.status.idle": "2021-12-16T13:00:34.478424Z",
     "shell.execute_reply": "2021-12-16T13:00:34.478798Z",
     "shell.execute_reply.started": "2021-12-15T10:19:14.696233Z"
    },
    "papermill": {
     "duration": 0.032705,
     "end_time": "2021-12-16T13:00:34.478925",
     "exception": false,
     "start_time": "2021-12-16T13:00:34.446220",
     "status": "completed"
    },
    "tags": []
   },
   "outputs": [],
   "source": [
    "class PositionalEncoding(nn.Module):\n",
    "\n",
    "    def __init__(self, d_model, dropout=0.1, max_len=5000):\n",
    "        super(PositionalEncoding, self).__init__()\n",
    "        self.dropout = nn.Dropout(p=dropout)\n",
    "\n",
    "        pe = torch.zeros(max_len, d_model)\n",
    "        position = torch.arange(0, max_len, dtype=torch.float).unsqueeze(1)\n",
    "        div_term = torch.exp(torch.arange(0, d_model, 2).float() * (-math.log(10000.0) / d_model))\n",
    "        pe[:, 0::2] = torch.sin(position * div_term)\n",
    "        pe[:, 1::2] = torch.cos(position * div_term)\n",
    "        pe = pe.unsqueeze(0).transpose(0, 1)\n",
    "        self.register_buffer('pe', pe)\n",
    "\n",
    "    def forward(self, x):\n",
    "        x = x + self.pe[:x.size(0), :]\n",
    "        return self.dropout(x)\n",
    "    \n",
    "class SentimentNet(nn.Module):\n",
    "    def __init__(self, vocab_size, output_size, embedding_dim, hidden_dim, n_layers, drop_prob=0.2):\n",
    "        super(SentimentNet, self).__init__()\n",
    "        self.output_size = output_size\n",
    "        self.n_layers = n_layers\n",
    "        self.hidden_dim = hidden_dim\n",
    "        self.dropout = nn.Dropout(drop_prob)\n",
    "        self.embedding_dim = embedding_dim\n",
    "        self.sigmoid = nn.Sigmoid()\n",
    "        \n",
    "        \n",
    "        self.encoder = nn.Embedding(vocab_size, embedding_dim)\n",
    "        self.pos_encoder = PositionalEncoding(embedding_dim, drop_prob)\n",
    "        encoder_layer = nn.TransformerEncoderLayer(embedding_dim, 2, hidden_dim)\n",
    "        self.transformer_encoder = nn.TransformerEncoder(encoder_layer, num_layers=n_layers)\n",
    "        \n",
    "        \n",
    "        self.fc = nn.Linear(embedding_dim * 128 , 1)\n",
    "\n",
    "    \n",
    "    def forward(self, src):\n",
    "        src = self.encoder(src) * math.sqrt(self.embedding_dim)\n",
    "        src = self.pos_encoder(src)\n",
    "        output = self.transformer_encoder(src)\n",
    "        output = output.view(output.size(0), -1)\n",
    "        \n",
    "        output = self.sigmoid(self.fc(output))\n",
    "        return output"
   ]
  },
  {
   "cell_type": "code",
   "execution_count": 18,
   "id": "69c107f1",
   "metadata": {
    "execution": {
     "iopub.execute_input": "2021-12-16T13:00:34.517676Z",
     "iopub.status.busy": "2021-12-16T13:00:34.516116Z",
     "iopub.status.idle": "2021-12-16T13:00:34.518281Z",
     "shell.execute_reply": "2021-12-16T13:00:34.518689Z",
     "shell.execute_reply.started": "2021-12-15T10:04:00.284359Z"
    },
    "papermill": {
     "duration": 0.023275,
     "end_time": "2021-12-16T13:00:34.518805",
     "exception": false,
     "start_time": "2021-12-16T13:00:34.495530",
     "status": "completed"
    },
    "tags": []
   },
   "outputs": [],
   "source": [
    "def model_params(model):\n",
    "    pp=0\n",
    "    for p in list(model.parameters()):\n",
    "        nn=1\n",
    "        for s in list(p.size()):\n",
    "            nn = nn*s\n",
    "        pp += nn\n",
    "    return pp"
   ]
  },
  {
   "cell_type": "code",
   "execution_count": 19,
   "id": "dd71748d",
   "metadata": {
    "execution": {
     "iopub.execute_input": "2021-12-16T13:00:34.560317Z",
     "iopub.status.busy": "2021-12-16T13:00:34.559643Z",
     "iopub.status.idle": "2021-12-16T13:00:39.231099Z",
     "shell.execute_reply": "2021-12-16T13:00:39.230597Z",
     "shell.execute_reply.started": "2021-12-15T10:19:04.882323Z"
    },
    "papermill": {
     "duration": 4.695431,
     "end_time": "2021-12-16T13:00:39.231247",
     "exception": false,
     "start_time": "2021-12-16T13:00:34.535816",
     "status": "completed"
    },
    "tags": []
   },
   "outputs": [
    {
     "name": "stdout",
     "output_type": "stream",
     "text": [
      "9064045\n"
     ]
    }
   ],
   "source": [
    "import math\n",
    "\n",
    "output_size = 1\n",
    "embedding_dim = 10\n",
    "hidden_dim = 16\n",
    "n_layers = 4\n",
    "\n",
    "model = SentimentNet(vocab_size, output_size, embedding_dim, hidden_dim, n_layers)\n",
    "model.to(device)\n",
    "print(model_params(model))\n",
    "lr=0.01\n",
    "criterion = nn.BCELoss()\n",
    "optimizer = torch.optim.Adam(model.parameters(), lr=lr)"
   ]
  },
  {
   "cell_type": "code",
   "execution_count": 20,
   "id": "27906385",
   "metadata": {
    "execution": {
     "iopub.execute_input": "2021-12-16T13:00:39.276908Z",
     "iopub.status.busy": "2021-12-16T13:00:39.276185Z",
     "iopub.status.idle": "2021-12-16T14:25:09.036074Z",
     "shell.execute_reply": "2021-12-16T14:25:09.036514Z",
     "shell.execute_reply.started": "2021-12-15T10:19:07.623429Z"
    },
    "papermill": {
     "duration": 5069.787922,
     "end_time": "2021-12-16T14:25:09.036650",
     "exception": false,
     "start_time": "2021-12-16T13:00:39.248728",
     "status": "completed"
    },
    "tags": []
   },
   "outputs": [
    {
     "name": "stdout",
     "output_type": "stream",
     "text": [
      "Epoch: 1/1... Step: 500... Loss: 0.574288... Val Loss: 0.591725\n",
      "Validation loss decreased (inf --> 0.591725).  Saving model ...\n",
      "Epoch: 1/1... Step: 1000... Loss: 0.407054... Val Loss: 0.440585\n",
      "Validation loss decreased (0.591725 --> 0.440585).  Saving model ...\n",
      "Epoch: 1/1... Step: 1500... Loss: 0.337699... Val Loss: 0.364492\n",
      "Validation loss decreased (0.440585 --> 0.364492).  Saving model ...\n",
      "Epoch: 1/1... Step: 2000... Loss: 0.405970... Val Loss: 0.373852\n",
      "Epoch: 1/1... Step: 2500... Loss: 0.224254... Val Loss: 0.345191\n",
      "Validation loss decreased (0.364492 --> 0.345191).  Saving model ...\n",
      "Epoch: 1/1... Step: 3000... Loss: 0.277565... Val Loss: 0.305376\n",
      "Validation loss decreased (0.345191 --> 0.305376).  Saving model ...\n",
      "Epoch: 1/1... Step: 3500... Loss: 0.412651... Val Loss: 0.326937\n",
      "Epoch: 1/1... Step: 4000... Loss: 0.437152... Val Loss: 0.374583\n",
      "Epoch: 1/1... Step: 4500... Loss: 0.272485... Val Loss: 0.289486\n",
      "Validation loss decreased (0.305376 --> 0.289486).  Saving model ...\n",
      "Epoch: 1/1... Step: 5000... Loss: 0.225462... Val Loss: 0.292217\n",
      "Epoch: 1/1... Step: 5500... Loss: 0.292705... Val Loss: 0.286292\n",
      "Validation loss decreased (0.289486 --> 0.286292).  Saving model ...\n",
      "Epoch: 1/1... Step: 6000... Loss: 0.444054... Val Loss: 0.280534\n",
      "Validation loss decreased (0.286292 --> 0.280534).  Saving model ...\n",
      "Epoch: 1/1... Step: 6500... Loss: 0.245326... Val Loss: 0.278159\n",
      "Validation loss decreased (0.280534 --> 0.278159).  Saving model ...\n",
      "Epoch: 1/1... Step: 7000... Loss: 0.367008... Val Loss: 0.274611\n",
      "Validation loss decreased (0.278159 --> 0.274611).  Saving model ...\n",
      "Epoch: 1/1... Step: 7500... Loss: 0.279866... Val Loss: 0.286287\n",
      "Epoch: 1/1... Step: 8000... Loss: 0.167091... Val Loss: 0.273332\n",
      "Validation loss decreased (0.274611 --> 0.273332).  Saving model ...\n",
      "Epoch: 1/1... Step: 8500... Loss: 0.345335... Val Loss: 0.276971\n",
      "Epoch: 1/1... Step: 9000... Loss: 0.353365... Val Loss: 0.270531\n",
      "Validation loss decreased (0.273332 --> 0.270531).  Saving model ...\n",
      "Epoch: 1/1... Step: 9500... Loss: 0.265988... Val Loss: 0.282245\n",
      "Epoch: 1/1... Step: 10000... Loss: 0.256506... Val Loss: 0.263320\n",
      "Validation loss decreased (0.270531 --> 0.263320).  Saving model ...\n",
      "Epoch: 1/1... Step: 10500... Loss: 0.227570... Val Loss: 0.267398\n",
      "Epoch: 1/1... Step: 11000... Loss: 0.404930... Val Loss: 0.271328\n",
      "Epoch: 1/1... Step: 11500... Loss: 0.331494... Val Loss: 0.270970\n",
      "Epoch: 1/1... Step: 12000... Loss: 0.211730... Val Loss: 0.275212\n",
      "Epoch: 1/1... Step: 12500... Loss: 0.469354... Val Loss: 0.294637\n",
      "Epoch: 1/1... Step: 13000... Loss: 0.188159... Val Loss: 0.272113\n",
      "Epoch: 1/1... Step: 13500... Loss: 0.280451... Val Loss: 0.267546\n",
      "Epoch: 1/1... Step: 14000... Loss: 0.372459... Val Loss: 0.277066\n",
      "Epoch: 1/1... Step: 14500... Loss: 0.356661... Val Loss: 0.269206\n",
      "Epoch: 1/1... Step: 15000... Loss: 0.453160... Val Loss: 0.270442\n",
      "Epoch: 1/1... Step: 15500... Loss: 0.177674... Val Loss: 0.270308\n",
      "Epoch: 1/1... Step: 16000... Loss: 0.243743... Val Loss: 0.256729\n",
      "Validation loss decreased (0.263320 --> 0.256729).  Saving model ...\n",
      "Epoch: 1/1... Step: 16500... Loss: 0.375248... Val Loss: 0.260057\n",
      "Epoch: 1/1... Step: 17000... Loss: 0.219113... Val Loss: 0.273572\n",
      "Epoch: 1/1... Step: 17500... Loss: 0.196847... Val Loss: 0.302517\n",
      "Epoch: 1/1... Step: 18000... Loss: 0.336167... Val Loss: 0.273466\n",
      "Epoch: 1/1... Step: 18500... Loss: 0.332067... Val Loss: 0.260860\n",
      "Epoch: 1/1... Step: 19000... Loss: 0.307896... Val Loss: 0.285088\n",
      "Epoch: 1/1... Step: 19500... Loss: 0.253747... Val Loss: 0.269414\n",
      "Epoch: 1/1... Step: 20000... Loss: 0.342322... Val Loss: 0.265229\n",
      "Epoch: 1/1... Step: 20500... Loss: 0.283507... Val Loss: 0.261848\n",
      "Epoch: 1/1... Step: 21000... Loss: 0.320014... Val Loss: 0.265601\n",
      "Epoch: 1/1... Step: 21500... Loss: 0.221412... Val Loss: 0.303795\n",
      "Epoch: 1/1... Step: 22000... Loss: 0.273517... Val Loss: 0.334008\n",
      "Epoch: 1/1... Step: 22500... Loss: 0.402717... Val Loss: 0.423665\n",
      "Epoch: 1/1... Step: 23000... Loss: 0.372157... Val Loss: 0.287477\n",
      "Epoch: 1/1... Step: 23500... Loss: 0.275914... Val Loss: 0.285455\n",
      "Epoch: 1/1... Step: 24000... Loss: 0.244540... Val Loss: 0.282855\n",
      "Epoch: 1/1... Step: 24500... Loss: 0.190235... Val Loss: 0.278267\n",
      "Epoch: 1/1... Step: 25000... Loss: 0.280166... Val Loss: 0.276952\n",
      "Epoch: 1/1... Step: 25500... Loss: 0.281980... Val Loss: 0.260885\n",
      "Epoch: 1/1... Step: 26000... Loss: 0.187133... Val Loss: 0.278638\n",
      "Epoch: 1/1... Step: 26500... Loss: 0.248538... Val Loss: 0.267048\n",
      "Epoch: 1/1... Step: 27000... Loss: 0.419105... Val Loss: 0.331074\n",
      "Epoch: 1/1... Step: 27500... Loss: 0.165816... Val Loss: 0.272922\n",
      "Epoch: 1/1... Step: 28000... Loss: 0.247148... Val Loss: 0.314290\n",
      "Epoch: 1/1... Step: 28500... Loss: 0.264452... Val Loss: 0.268738\n",
      "Epoch: 1/1... Step: 29000... Loss: 0.379078... Val Loss: 0.362870\n",
      "Epoch: 1/1... Step: 29500... Loss: 0.333646... Val Loss: 0.273853\n",
      "Epoch: 1/1... Step: 30000... Loss: 0.207845... Val Loss: 0.269019\n",
      "Epoch: 1/1... Step: 30500... Loss: 0.666573... Val Loss: 0.623950\n",
      "Epoch: 1/1... Step: 31000... Loss: 0.514073... Val Loss: 0.443098\n",
      "Epoch: 1/1... Step: 31500... Loss: 0.381955... Val Loss: 0.348403\n",
      "Epoch: 1/1... Step: 32000... Loss: 0.505427... Val Loss: 0.305967\n",
      "Epoch: 1/1... Step: 32500... Loss: 0.393670... Val Loss: 0.282421\n",
      "Epoch: 1/1... Step: 33000... Loss: 0.246736... Val Loss: 0.291461\n",
      "Epoch: 1/1... Step: 33500... Loss: 0.264726... Val Loss: 0.310235\n",
      "Epoch: 1/1... Step: 34000... Loss: 0.156583... Val Loss: 0.274500\n",
      "Epoch: 1/1... Step: 34500... Loss: 0.354874... Val Loss: 0.270622\n",
      "Epoch: 1/1... Step: 35000... Loss: 0.290293... Val Loss: 0.297099\n",
      "Epoch: 1/1... Step: 35500... Loss: 0.194963... Val Loss: 0.265332\n",
      "Epoch: 1/1... Step: 36000... Loss: 0.234378... Val Loss: 0.269890\n",
      "Epoch: 1/1... Step: 36500... Loss: 0.360429... Val Loss: 0.289577\n",
      "Epoch: 1/1... Step: 37000... Loss: 0.368282... Val Loss: 0.269749\n",
      "Epoch: 1/1... Step: 37500... Loss: 0.315990... Val Loss: 0.271903\n",
      "Epoch: 1/1... Step: 38000... Loss: 0.222160... Val Loss: 0.263908\n",
      "Epoch: 1/1... Step: 38500... Loss: 0.362575... Val Loss: 0.298092\n",
      "Epoch: 1/1... Step: 39000... Loss: 0.686467... Val Loss: 0.694881\n",
      "Epoch: 1/1... Step: 39500... Loss: 0.690342... Val Loss: 0.716186\n",
      "Epoch: 1/1... Step: 40000... Loss: 0.694063... Val Loss: 0.692962\n",
      "Epoch: 1/1... Step: 40500... Loss: 0.702633... Val Loss: 0.692664\n",
      "Epoch: 1/1... Step: 41000... Loss: 0.690503... Val Loss: 0.693148\n",
      "Epoch: 1/1... Step: 41500... Loss: 0.696759... Val Loss: 0.698219\n",
      "Epoch: 1/1... Step: 42000... Loss: 0.695704... Val Loss: 0.693694\n",
      "Epoch: 1/1... Step: 42500... Loss: 0.692680... Val Loss: 0.693237\n",
      "Epoch: 1/1... Step: 43000... Loss: 0.701828... Val Loss: 0.693561\n",
      "Epoch: 1/1... Step: 43500... Loss: 0.677332... Val Loss: 0.699408\n",
      "Epoch: 1/1... Step: 44000... Loss: 0.668856... Val Loss: 0.702248\n",
      "Epoch: 1/1... Step: 44500... Loss: 0.696069... Val Loss: 0.693233\n",
      "Epoch: 1/1... Step: 45000... Loss: 0.692398... Val Loss: 0.693181\n",
      "Epoch: 1/1... Step: 45500... Loss: 0.691667... Val Loss: 0.693189\n",
      "Epoch: 1/1... Step: 46000... Loss: 0.688813... Val Loss: 0.694492\n",
      "Epoch: 1/1... Step: 46500... Loss: 0.698588... Val Loss: 0.697913\n",
      "Epoch: 1/1... Step: 47000... Loss: 0.679116... Val Loss: 0.696089\n",
      "Epoch: 1/1... Step: 47500... Loss: 0.690460... Val Loss: 0.693200\n",
      "Epoch: 1/1... Step: 48000... Loss: 0.691332... Val Loss: 0.693462\n",
      "Epoch: 1/1... Step: 48500... Loss: 0.692387... Val Loss: 0.693453\n",
      "Epoch: 1/1... Step: 49000... Loss: 0.698233... Val Loss: 0.696437\n",
      "Epoch: 1/1... Step: 49500... Loss: 0.688591... Val Loss: 0.693366\n",
      "Epoch: 1/1... Step: 50000... Loss: 0.699995... Val Loss: 0.694153\n",
      "Epoch: 1/1... Step: 50500... Loss: 0.697105... Val Loss: 0.693224\n",
      "Epoch: 1/1... Step: 51000... Loss: 0.691629... Val Loss: 0.693159\n",
      "Epoch: 1/1... Step: 51500... Loss: 0.688547... Val Loss: 0.693275\n",
      "Epoch: 1/1... Step: 52000... Loss: 0.692007... Val Loss: 0.693175\n",
      "Epoch: 1/1... Step: 52500... Loss: 0.692253... Val Loss: 0.693680\n",
      "Epoch: 1/1... Step: 53000... Loss: 0.695445... Val Loss: 0.693694\n",
      "Epoch: 1/1... Step: 53500... Loss: 0.696000... Val Loss: 0.693196\n",
      "Epoch: 1/1... Step: 54000... Loss: 0.689767... Val Loss: 0.693147\n",
      "Epoch: 1/1... Step: 54500... Loss: 0.695903... Val Loss: 0.693193\n",
      "Epoch: 1/1... Step: 55000... Loss: 0.693896... Val Loss: 0.694046\n",
      "Epoch: 1/1... Step: 55500... Loss: 0.708649... Val Loss: 0.693679\n",
      "Epoch: 1/1... Step: 56000... Loss: 0.709204... Val Loss: 0.694037\n",
      "Epoch: 1/1... Step: 56500... Loss: 0.681114... Val Loss: 0.695504\n",
      "Epoch: 1/1... Step: 57000... Loss: 0.700642... Val Loss: 0.694915\n",
      "Epoch: 1/1... Step: 57500... Loss: 0.692451... Val Loss: 0.693201\n",
      "Epoch: 1/1... Step: 58000... Loss: 0.689025... Val Loss: 0.693948\n",
      "Epoch: 1/1... Step: 58500... Loss: 0.692517... Val Loss: 0.693165\n",
      "Epoch: 1/1... Step: 59000... Loss: 0.693378... Val Loss: 0.693164\n",
      "Epoch: 1/1... Step: 59500... Loss: 0.687406... Val Loss: 0.693792\n",
      "Epoch: 1/1... Step: 60000... Loss: 0.692234... Val Loss: 0.693847\n",
      "Epoch: 1/1... Step: 60500... Loss: 0.691610... Val Loss: 0.693316\n",
      "Epoch: 1/1... Step: 61000... Loss: 0.708823... Val Loss: 0.697626\n",
      "Epoch: 1/1... Step: 61500... Loss: 0.701847... Val Loss: 0.695024\n",
      "Epoch: 1/1... Step: 62000... Loss: 0.691812... Val Loss: 0.693150\n",
      "Epoch: 1/1... Step: 62500... Loss: 0.691605... Val Loss: 0.693701\n",
      "Epoch: 1/1... Step: 63000... Loss: 0.712564... Val Loss: 0.696718\n",
      "Epoch: 1/1... Step: 63500... Loss: 0.692290... Val Loss: 0.694612\n",
      "Epoch: 1/1... Step: 64000... Loss: 0.680360... Val Loss: 0.695506\n",
      "Epoch: 1/1... Step: 64500... Loss: 0.718607... Val Loss: 0.695160\n",
      "Epoch: 1/1... Step: 65000... Loss: 0.697269... Val Loss: 0.693202\n",
      "Epoch: 1/1... Step: 65500... Loss: 0.698188... Val Loss: 0.693241\n",
      "Epoch: 1/1... Step: 66000... Loss: 0.699984... Val Loss: 0.694291\n",
      "Epoch: 1/1... Step: 66500... Loss: 0.693978... Val Loss: 0.693148\n",
      "Epoch: 1/1... Step: 67000... Loss: 0.694870... Val Loss: 0.693149\n",
      "Epoch: 1/1... Step: 67500... Loss: 0.726404... Val Loss: 0.727032\n",
      "Epoch: 1/1... Step: 68000... Loss: 0.690707... Val Loss: 0.699568\n",
      "Epoch: 1/1... Step: 68500... Loss: 0.699451... Val Loss: 0.694239\n",
      "Epoch: 1/1... Step: 69000... Loss: 0.692003... Val Loss: 0.693170\n",
      "Epoch: 1/1... Step: 69500... Loss: 0.704498... Val Loss: 0.695542\n",
      "Epoch: 1/1... Step: 70000... Loss: 0.693381... Val Loss: 0.696922\n",
      "Epoch: 1/1... Step: 70500... Loss: 0.692510... Val Loss: 0.693588\n",
      "Epoch: 1/1... Step: 71000... Loss: 0.704147... Val Loss: 0.693510\n",
      "Epoch: 1/1... Step: 71500... Loss: 0.706376... Val Loss: 0.693803\n",
      "Epoch: 1/1... Step: 72000... Loss: 0.698604... Val Loss: 0.693148\n"
     ]
    }
   ],
   "source": [
    "epochs = 1\n",
    "counter = 0\n",
    "print_every = 500\n",
    "clip = 5\n",
    "valid_loss_min = np.Inf\n",
    "\n",
    "model.train()\n",
    "for i in range(epochs):\n",
    "    \n",
    "    for inputs, labels in train_loader:\n",
    "        counter += 1\n",
    "        inputs, labels = inputs.to(device), labels.to(device)\n",
    "        model.zero_grad()\n",
    "        output = model(inputs.long())\n",
    "        \n",
    "        loss = criterion(output.squeeze(1), labels.float())\n",
    "        \n",
    "        \n",
    "        loss.backward()\n",
    "        #nn.utils.clip_grad_norm_(model.parameters(), clip)\n",
    "        optimizer.step()\n",
    "        \n",
    "        if counter%print_every == 0:\n",
    "            val_losses = []\n",
    "            model.eval()\n",
    "            for inp, lab in test_loader:\n",
    "                inp, lab = inp.to(device), lab.to(device)\n",
    "                out = model(inp.long())\n",
    "                val_loss = criterion(out.squeeze(1), lab.float())\n",
    "                val_losses.append(val_loss.item())\n",
    "                \n",
    "            model.train()\n",
    "            print(\"Epoch: {}/{}...\".format(i+1, epochs),\n",
    "                  \"Step: {}...\".format(counter),\n",
    "                  \"Loss: {:.6f}...\".format(loss.item()),\n",
    "                  \"Val Loss: {:.6f}\".format(np.mean(val_losses)))\n",
    "            if np.mean(val_losses) <= valid_loss_min:\n",
    "                torch.save(model.state_dict(), './state_dict.pt')\n",
    "                print('Validation loss decreased ({:.6f} --> {:.6f}).  Saving model ...'.format(valid_loss_min,np.mean(val_losses)))\n",
    "                valid_loss_min = np.mean(val_losses)"
   ]
  },
  {
   "cell_type": "code",
   "execution_count": 21,
   "id": "1a540b3a",
   "metadata": {
    "execution": {
     "iopub.execute_input": "2021-12-16T14:25:09.148761Z",
     "iopub.status.busy": "2021-12-16T14:25:09.147959Z",
     "iopub.status.idle": "2021-12-16T14:25:09.185424Z",
     "shell.execute_reply": "2021-12-16T14:25:09.184967Z",
     "shell.execute_reply.started": "2021-12-15T10:04:08.106311Z"
    },
    "papermill": {
     "duration": 0.09545,
     "end_time": "2021-12-16T14:25:09.185546",
     "exception": false,
     "start_time": "2021-12-16T14:25:09.090096",
     "status": "completed"
    },
    "tags": []
   },
   "outputs": [
    {
     "data": {
      "text/plain": [
       "tensor([[0.4981]], device='cuda:0', grad_fn=<SigmoidBackward>)"
      ]
     },
     "execution_count": 21,
     "metadata": {},
     "output_type": "execute_result"
    }
   ],
   "source": [
    "sentence = \"I love you\"\n",
    "trial = torch.tensor(pad_sequences(tokenizer.texts_to_sequences([sentence]), maxlen = maxlen)).long().to(device)\n",
    "\n",
    "model(trial)"
   ]
  },
  {
   "cell_type": "code",
   "execution_count": 22,
   "id": "e0f51277",
   "metadata": {
    "execution": {
     "iopub.execute_input": "2021-12-16T14:25:09.296872Z",
     "iopub.status.busy": "2021-12-16T14:25:09.296347Z",
     "iopub.status.idle": "2021-12-16T14:25:10.612048Z",
     "shell.execute_reply": "2021-12-16T14:25:10.611157Z",
     "shell.execute_reply.started": "2021-12-15T10:04:08.108493Z"
    },
    "papermill": {
     "duration": 1.373544,
     "end_time": "2021-12-16T14:25:10.612217",
     "exception": false,
     "start_time": "2021-12-16T14:25:09.238673",
     "status": "completed"
    },
    "tags": []
   },
   "outputs": [],
   "source": [
    "import torch.onnx\n",
    "torch.onnx.export(model,               # model being run\n",
    "                  trial,                  # model input (or a tuple for multiple inputs)\n",
    "                  \"transformer-amazon.onnx\", opset_version = 11)"
   ]
  }
 ],
 "metadata": {
  "kernelspec": {
   "display_name": "Python 3",
   "language": "python",
   "name": "python3"
  },
  "language_info": {
   "codemirror_mode": {
    "name": "ipython",
    "version": 3
   },
   "file_extension": ".py",
   "mimetype": "text/x-python",
   "name": "python",
   "nbconvert_exporter": "python",
   "pygments_lexer": "ipython3",
   "version": "3.7.12"
  },
  "papermill": {
   "default_parameters": {},
   "duration": 5916.231358,
   "end_time": "2021-12-16T14:25:13.590377",
   "environment_variables": {},
   "exception": null,
   "input_path": "__notebook__.ipynb",
   "output_path": "__notebook__.ipynb",
   "parameters": {},
   "start_time": "2021-12-16T12:46:37.359019",
   "version": "2.3.3"
  }
 },
 "nbformat": 4,
 "nbformat_minor": 5
}
