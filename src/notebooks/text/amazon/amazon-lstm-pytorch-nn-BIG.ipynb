{
 "cells": [
  {
   "cell_type": "code",
   "execution_count": 1,
   "id": "everyday-government",
   "metadata": {
    "_cell_guid": "b1076dfc-b9ad-4769-8c92-a6c4dae69d19",
    "_uuid": "8f2839f25d086af736a60e9eeb907d3b93b6e0e5",
    "execution": {
     "iopub.execute_input": "2021-12-22T16:57:25.158013Z",
     "iopub.status.busy": "2021-12-22T16:57:25.157500Z",
     "iopub.status.idle": "2021-12-22T16:57:25.175651Z",
     "shell.execute_reply": "2021-12-22T16:57:25.175083Z",
     "shell.execute_reply.started": "2021-12-08T21:23:43.272798Z"
    },
    "papermill": {
     "duration": 0.040902,
     "end_time": "2021-12-22T16:57:25.175782",
     "exception": false,
     "start_time": "2021-12-22T16:57:25.134880",
     "status": "completed"
    },
    "tags": []
   },
   "outputs": [
    {
     "name": "stdout",
     "output_type": "stream",
     "text": [
      "/kaggle/input/amazonreviews/test.ft.txt.bz2\n",
      "/kaggle/input/amazonreviews/train.ft.txt.bz2\n"
     ]
    }
   ],
   "source": [
    "# This Python 3 environment comes with many helpful analytics libraries installed\n",
    "# It is defined by the kaggle/python Docker image: https://github.com/kaggle/docker-python\n",
    "# For example, here's several helpful packages to load\n",
    "\n",
    "import numpy as np # linear algebra\n",
    "import pandas as pd # data processing, CSV file I/O (e.g. pd.read_csv)\n",
    "\n",
    "# Input data files are available in the read-only \"../input/\" directory\n",
    "# For example, running this (by clicking run or pressing Shift+Enter) will list all files under the input directory\n",
    "\n",
    "import os\n",
    "for dirname, _, filenames in os.walk('/kaggle/input'):\n",
    "    for filename in filenames:\n",
    "        print(os.path.join(dirname, filename))\n",
    "\n",
    "# You can write up to 20GB to the current directory (/kaggle/working/) that gets preserved as output when you create a version using \"Save & Run All\" \n",
    "# You can also write temporary files to /kaggle/temp/, but they won't be saved outside of the current session"
   ]
  },
  {
   "cell_type": "code",
   "execution_count": 2,
   "id": "pursuant-franchise",
   "metadata": {
    "execution": {
     "iopub.execute_input": "2021-12-22T16:57:25.214488Z",
     "iopub.status.busy": "2021-12-22T16:57:25.213849Z",
     "iopub.status.idle": "2021-12-22T16:57:30.458712Z",
     "shell.execute_reply": "2021-12-22T16:57:30.457681Z",
     "shell.execute_reply.started": "2021-12-08T21:23:43.282815Z"
    },
    "papermill": {
     "duration": 5.266457,
     "end_time": "2021-12-22T16:57:30.458872",
     "exception": false,
     "start_time": "2021-12-22T16:57:25.192415",
     "status": "completed"
    },
    "tags": []
   },
   "outputs": [],
   "source": [
    "import pandas as pd\n",
    "import numpy as np\n",
    "import bz2\n",
    "import matplotlib.pyplot as plt\n",
    "import sklearn\n",
    "import tensorflow as tf\n",
    "from tensorflow.keras import models, layers, optimizers\n",
    "from tensorflow.keras.preprocessing.text import Tokenizer, text_to_word_sequence\n",
    "from tensorflow.keras.preprocessing.sequence import pad_sequences\n",
    "\n",
    "%matplotlib inline"
   ]
  },
  {
   "cell_type": "code",
   "execution_count": 3,
   "id": "secret-drive",
   "metadata": {
    "execution": {
     "iopub.execute_input": "2021-12-22T16:57:30.496828Z",
     "iopub.status.busy": "2021-12-22T16:57:30.495983Z",
     "iopub.status.idle": "2021-12-22T16:57:30.498246Z",
     "shell.execute_reply": "2021-12-22T16:57:30.497730Z",
     "shell.execute_reply.started": "2021-12-08T21:23:44.433495Z"
    },
    "papermill": {
     "duration": 0.02277,
     "end_time": "2021-12-22T16:57:30.498361",
     "exception": false,
     "start_time": "2021-12-22T16:57:30.475591",
     "status": "completed"
    },
    "tags": []
   },
   "outputs": [],
   "source": [
    "device = \"cuda:0\""
   ]
  },
  {
   "cell_type": "code",
   "execution_count": 4,
   "id": "infrared-detector",
   "metadata": {
    "execution": {
     "iopub.execute_input": "2021-12-22T16:57:30.536455Z",
     "iopub.status.busy": "2021-12-22T16:57:30.535187Z",
     "iopub.status.idle": "2021-12-22T16:57:30.537245Z",
     "shell.execute_reply": "2021-12-22T16:57:30.537685Z",
     "shell.execute_reply.started": "2021-12-08T21:23:44.439536Z"
    },
    "papermill": {
     "duration": 0.02334,
     "end_time": "2021-12-22T16:57:30.537802",
     "exception": false,
     "start_time": "2021-12-22T16:57:30.514462",
     "status": "completed"
    },
    "tags": []
   },
   "outputs": [],
   "source": [
    "def labels_texts(file):\n",
    "    labels = []\n",
    "    texts = []\n",
    "    for line in bz2.BZ2File(file):\n",
    "        x = line.decode(\"utf-8\")\n",
    "        labels.append(int(x[9]) - 1)\n",
    "        texts.append(x[10:].strip())\n",
    "    return np.array(labels), texts\n",
    "\n"
   ]
  },
  {
   "cell_type": "code",
   "execution_count": 5,
   "id": "dedicated-accounting",
   "metadata": {
    "execution": {
     "iopub.execute_input": "2021-12-22T16:57:30.574612Z",
     "iopub.status.busy": "2021-12-22T16:57:30.574112Z",
     "iopub.status.idle": "2021-12-22T16:59:25.815056Z",
     "shell.execute_reply": "2021-12-22T16:59:25.814530Z",
     "shell.execute_reply.started": "2021-12-08T21:23:44.454135Z"
    },
    "papermill": {
     "duration": 115.261353,
     "end_time": "2021-12-22T16:59:25.815200",
     "exception": false,
     "start_time": "2021-12-22T16:57:30.553847",
     "status": "completed"
    },
    "tags": []
   },
   "outputs": [],
   "source": [
    "train_label, train_text = labels_texts('../input/amazonreviews/train.ft.txt.bz2')\n",
    "test_label, test_text = labels_texts('../input/amazonreviews/test.ft.txt.bz2')"
   ]
  },
  {
   "cell_type": "code",
   "execution_count": 6,
   "id": "communist-insulation",
   "metadata": {
    "execution": {
     "iopub.execute_input": "2021-12-22T16:59:25.852910Z",
     "iopub.status.busy": "2021-12-22T16:59:25.851814Z",
     "iopub.status.idle": "2021-12-22T16:59:25.855050Z",
     "shell.execute_reply": "2021-12-22T16:59:25.855637Z",
     "shell.execute_reply.started": "2021-12-08T21:26:27.960667Z"
    },
    "papermill": {
     "duration": 0.02409,
     "end_time": "2021-12-22T16:59:25.855800",
     "exception": false,
     "start_time": "2021-12-22T16:59:25.831710",
     "status": "completed"
    },
    "tags": []
   },
   "outputs": [
    {
     "name": "stdout",
     "output_type": "stream",
     "text": [
      "1\n",
      "Stuning even for the non-gamer: This sound track was beautiful! It paints the senery in your mind so well I would recomend it even to people who hate vid. game music! I have played the game Chrono Cross but out of all of the games I have ever played it has the best music! It backs away from crude keyboarding and takes a fresher step with grate guitars and soulful orchestras. It would impress anyone who cares to listen! ^_^\n"
     ]
    }
   ],
   "source": [
    "print(train_label[0])\n",
    "print(train_text[0])"
   ]
  },
  {
   "cell_type": "code",
   "execution_count": 7,
   "id": "instant-fitness",
   "metadata": {
    "execution": {
     "iopub.execute_input": "2021-12-22T16:59:25.894677Z",
     "iopub.status.busy": "2021-12-22T16:59:25.893863Z",
     "iopub.status.idle": "2021-12-22T16:59:25.896067Z",
     "shell.execute_reply": "2021-12-22T16:59:25.896449Z",
     "shell.execute_reply.started": "2021-12-08T21:26:27.967567Z"
    },
    "papermill": {
     "duration": 0.023472,
     "end_time": "2021-12-22T16:59:25.896570",
     "exception": false,
     "start_time": "2021-12-22T16:59:25.873098",
     "status": "completed"
    },
    "tags": []
   },
   "outputs": [],
   "source": [
    "import re\n",
    "not_numChar = re.compile(r'[\\W]')\n",
    "no_encode = re.compile(r'[^a-z0-1\\s]')\n",
    "def normalisation(texts):\n",
    "    norm_text = []\n",
    "    for word in texts:\n",
    "        lower = word.lower()\n",
    "        not_punct = not_numChar.sub(r' ', lower)\n",
    "        exclude_no_encode = no_encode.sub(r'', not_punct)\n",
    "        norm_text.append(exclude_no_encode)\n",
    "    return norm_text"
   ]
  },
  {
   "cell_type": "code",
   "execution_count": 8,
   "id": "quantitative-chambers",
   "metadata": {
    "execution": {
     "iopub.execute_input": "2021-12-22T16:59:25.952292Z",
     "iopub.status.busy": "2021-12-22T16:59:25.947017Z",
     "iopub.status.idle": "2021-12-22T17:02:18.205626Z",
     "shell.execute_reply": "2021-12-22T17:02:18.204511Z",
     "shell.execute_reply.started": "2021-12-08T21:26:27.982804Z"
    },
    "papermill": {
     "duration": 172.293136,
     "end_time": "2021-12-22T17:02:18.205779",
     "exception": false,
     "start_time": "2021-12-22T16:59:25.912643",
     "status": "completed"
    },
    "tags": []
   },
   "outputs": [],
   "source": [
    "train_text = normalisation(train_text)\n",
    "test_text = normalisation(test_text)"
   ]
  },
  {
   "cell_type": "code",
   "execution_count": 9,
   "id": "trained-surname",
   "metadata": {
    "execution": {
     "iopub.execute_input": "2021-12-22T17:02:18.244629Z",
     "iopub.status.busy": "2021-12-22T17:02:18.242955Z",
     "iopub.status.idle": "2021-12-22T17:02:18.247123Z",
     "shell.execute_reply": "2021-12-22T17:02:18.246523Z",
     "shell.execute_reply.started": "2021-12-08T21:29:47.899099Z"
    },
    "papermill": {
     "duration": 0.024779,
     "end_time": "2021-12-22T17:02:18.247280",
     "exception": false,
     "start_time": "2021-12-22T17:02:18.222501",
     "status": "completed"
    },
    "tags": []
   },
   "outputs": [
    {
     "name": "stdout",
     "output_type": "stream",
     "text": [
      "stuning even for the non gamer  this sound track was beautiful  it paints the senery in your mind so well i would recomend it even to people who hate vid  game music  i have played the game chrono cross but out of all of the games i have ever played it has the best music  it backs away from crude keyboarding and takes a fresher step with grate guitars and soulful orchestras  it would impress anyone who cares to listen    \n"
     ]
    }
   ],
   "source": [
    "print(train_text[0])"
   ]
  },
  {
   "cell_type": "code",
   "execution_count": 10,
   "id": "signed-detector",
   "metadata": {
    "execution": {
     "iopub.execute_input": "2021-12-22T17:02:18.286575Z",
     "iopub.status.busy": "2021-12-22T17:02:18.285052Z",
     "iopub.status.idle": "2021-12-22T17:02:18.293615Z",
     "shell.execute_reply": "2021-12-22T17:02:18.293087Z",
     "shell.execute_reply.started": "2021-12-08T21:29:47.909335Z"
    },
    "papermill": {
     "duration": 0.029009,
     "end_time": "2021-12-22T17:02:18.293723",
     "exception": false,
     "start_time": "2021-12-22T17:02:18.264714",
     "status": "completed"
    },
    "tags": []
   },
   "outputs": [],
   "source": [
    "y_train = np.array(train_label)\n",
    "y_test = np.array(test_label)"
   ]
  },
  {
   "cell_type": "code",
   "execution_count": 11,
   "id": "lyric-hopkins",
   "metadata": {
    "execution": {
     "iopub.execute_input": "2021-12-22T17:02:18.332141Z",
     "iopub.status.busy": "2021-12-22T17:02:18.331352Z",
     "iopub.status.idle": "2021-12-22T17:02:18.334722Z",
     "shell.execute_reply": "2021-12-22T17:02:18.335093Z",
     "shell.execute_reply.started": "2021-12-08T21:29:48.14836Z"
    },
    "papermill": {
     "duration": 0.025133,
     "end_time": "2021-12-22T17:02:18.335238",
     "exception": false,
     "start_time": "2021-12-22T17:02:18.310105",
     "status": "completed"
    },
    "tags": []
   },
   "outputs": [
    {
     "data": {
      "text/plain": [
       "(400000,)"
      ]
     },
     "execution_count": 11,
     "metadata": {},
     "output_type": "execute_result"
    }
   ],
   "source": [
    "y_test.shape"
   ]
  },
  {
   "cell_type": "code",
   "execution_count": 12,
   "id": "liable-procedure",
   "metadata": {
    "execution": {
     "iopub.execute_input": "2021-12-22T17:02:18.402672Z",
     "iopub.status.busy": "2021-12-22T17:02:18.387269Z",
     "iopub.status.idle": "2021-12-22T17:06:12.746251Z",
     "shell.execute_reply": "2021-12-22T17:06:12.746849Z",
     "shell.execute_reply.started": "2021-12-08T21:29:48.161032Z"
    },
    "papermill": {
     "duration": 234.394702,
     "end_time": "2021-12-22T17:06:12.747038",
     "exception": false,
     "start_time": "2021-12-22T17:02:18.352336",
     "status": "completed"
    },
    "tags": []
   },
   "outputs": [
    {
     "name": "stdout",
     "output_type": "stream",
     "text": [
      "Vocabulary Size : 905946\n"
     ]
    }
   ],
   "source": [
    "max_features = 8192\n",
    "maxlen = 128\n",
    "\n",
    "tokenizer = Tokenizer(num_words=max_features)\n",
    "tokenizer.fit_on_texts(train_text)\n",
    "\n",
    "word_index = tokenizer.word_index\n",
    "vocab_size = len(tokenizer.word_index) + 1\n",
    "print(\"Vocabulary Size :\", vocab_size)"
   ]
  },
  {
   "cell_type": "code",
   "execution_count": 13,
   "id": "upper-mercury",
   "metadata": {
    "execution": {
     "iopub.execute_input": "2021-12-22T17:06:12.790673Z",
     "iopub.status.busy": "2021-12-22T17:06:12.789683Z",
     "iopub.status.idle": "2021-12-22T17:06:13.587007Z",
     "shell.execute_reply": "2021-12-22T17:06:13.586502Z",
     "shell.execute_reply.started": "2021-12-08T21:34:39.735945Z"
    },
    "papermill": {
     "duration": 0.822709,
     "end_time": "2021-12-22T17:06:13.587125",
     "exception": false,
     "start_time": "2021-12-22T17:06:12.764416",
     "status": "completed"
    },
    "tags": []
   },
   "outputs": [],
   "source": [
    "import os \n",
    "with open('amazon_dictionary.txt', 'w') as file:\n",
    "    for key in word_index.keys():\n",
    "        file.write(key + \" \" + str(word_index[key]) + \",\")"
   ]
  },
  {
   "cell_type": "code",
   "execution_count": 14,
   "id": "dying-diving",
   "metadata": {
    "execution": {
     "iopub.execute_input": "2021-12-22T17:06:13.649427Z",
     "iopub.status.busy": "2021-12-22T17:06:13.639130Z",
     "iopub.status.idle": "2021-12-22T17:09:45.655744Z",
     "shell.execute_reply": "2021-12-22T17:09:45.654638Z",
     "shell.execute_reply.started": "2021-12-08T21:34:40.77233Z"
    },
    "papermill": {
     "duration": 212.051467,
     "end_time": "2021-12-22T17:09:45.655899",
     "exception": false,
     "start_time": "2021-12-22T17:06:13.604432",
     "status": "completed"
    },
    "tags": []
   },
   "outputs": [],
   "source": [
    "training_token = tokenizer.texts_to_sequences(train_text)\n",
    "testing_token = tokenizer.texts_to_sequences(test_text)"
   ]
  },
  {
   "cell_type": "code",
   "execution_count": 15,
   "id": "sharp-chaos",
   "metadata": {
    "execution": {
     "iopub.execute_input": "2021-12-22T17:09:45.739189Z",
     "iopub.status.busy": "2021-12-22T17:09:45.703458Z",
     "iopub.status.idle": "2021-12-22T17:10:58.938016Z",
     "shell.execute_reply": "2021-12-22T17:10:58.937086Z",
     "shell.execute_reply.started": "2021-12-08T21:38:55.605176Z"
    },
    "papermill": {
     "duration": 73.264554,
     "end_time": "2021-12-22T17:10:58.938169",
     "exception": false,
     "start_time": "2021-12-22T17:09:45.673615",
     "status": "completed"
    },
    "tags": []
   },
   "outputs": [],
   "source": [
    "x_train = pad_sequences(training_token, maxlen = maxlen, padding = 'post')\n",
    "x_test = pad_sequences(testing_token, maxlen = maxlen, padding = 'post')"
   ]
  },
  {
   "cell_type": "code",
   "execution_count": 16,
   "id": "blind-justice",
   "metadata": {
    "execution": {
     "iopub.execute_input": "2021-12-22T17:10:58.979736Z",
     "iopub.status.busy": "2021-12-22T17:10:58.979160Z",
     "iopub.status.idle": "2021-12-22T17:11:00.257571Z",
     "shell.execute_reply": "2021-12-22T17:11:00.257031Z",
     "shell.execute_reply.started": "2021-12-08T21:40:19.880515Z"
    },
    "papermill": {
     "duration": 1.30166,
     "end_time": "2021-12-22T17:11:00.257710",
     "exception": false,
     "start_time": "2021-12-22T17:10:58.956050",
     "status": "completed"
    },
    "tags": []
   },
   "outputs": [],
   "source": [
    "import torch\n",
    "from torch.utils.data import TensorDataset, DataLoader\n",
    "import torch.nn as nn\n",
    "BATCH_SIZE = 50\n",
    "\n",
    "train_data = TensorDataset(torch.from_numpy(x_train), torch.from_numpy(y_train))\n",
    "test_data = TensorDataset(torch.from_numpy(x_test), torch.from_numpy(y_test))\n",
    "\n",
    "train_loader = DataLoader(train_data, shuffle=True, batch_size=BATCH_SIZE, drop_last = True)\n",
    "test_loader = DataLoader(test_data, shuffle=True, batch_size=BATCH_SIZE, drop_last = True)"
   ]
  },
  {
   "cell_type": "code",
   "execution_count": 17,
   "id": "experimental-leeds",
   "metadata": {
    "execution": {
     "iopub.execute_input": "2021-12-22T17:11:00.303753Z",
     "iopub.status.busy": "2021-12-22T17:11:00.301136Z",
     "iopub.status.idle": "2021-12-22T17:11:00.306989Z",
     "shell.execute_reply": "2021-12-22T17:11:00.306560Z",
     "shell.execute_reply.started": "2021-12-08T21:40:20.986111Z"
    },
    "papermill": {
     "duration": 0.031805,
     "end_time": "2021-12-22T17:11:00.307098",
     "exception": false,
     "start_time": "2021-12-22T17:11:00.275293",
     "status": "completed"
    },
    "tags": []
   },
   "outputs": [],
   "source": [
    "class SentimentNet(nn.Module):\n",
    "    def __init__(self, vocab_size, output_size, embedding_dim, hidden_dim, n_layers, drop_prob=0.5):\n",
    "        super(SentimentNet, self).__init__()\n",
    "        self.output_size = output_size\n",
    "        self.n_layers = n_layers\n",
    "        self.hidden_dim = hidden_dim\n",
    "        \n",
    "        \n",
    "        self.embedding = nn.Embedding(vocab_size, embedding_dim)\n",
    "        #self.conv = nn.Conv1d(embedding_dim, 8, kernel_size=5)\n",
    "        self.lstm = nn.LSTM(embedding_dim, hidden_dim, n_layers, dropout=drop_prob, batch_first=True)\n",
    "        #self.gru = nn.GRU(embedding_dim, hidden_dim, n_layers, dropout=drop_prob, batch_first=True)\n",
    "        self.dropout = nn.Dropout(drop_prob)\n",
    "        self.fc = nn.Linear(hidden_dim, output_size)\n",
    "        self.sigmoid = nn.Sigmoid()\n",
    "        \n",
    "    def forward(self, x, hidden):\n",
    "        #print(x.shape)\n",
    "        if len(x) != 1:\n",
    "            batch_size = x.size(0)\n",
    "        else:\n",
    "            batch_size = 1\n",
    "        x = x.long()\n",
    "        embeds = self.embedding(x)\n",
    "\n",
    "        #conv = self.conv(x)\n",
    "        \n",
    "        lstm_out, hidden = self.lstm(embeds, hidden)\n",
    "        lstm_out = lstm_out.contiguous().view(-1, self.hidden_dim)\n",
    "        \n",
    "        out = self.dropout(lstm_out)\n",
    "        out = self.fc(out)\n",
    "        out = self.sigmoid(out)\n",
    "        \n",
    "        out = out.view(batch_size, -1)\n",
    "        out = out[:,-1]\n",
    "        return out, hidden\n",
    "    \n",
    "    def init_hidden(self, batch_size):\n",
    "        weight = next(self.parameters()).data\n",
    "        hidden = (weight.new(self.n_layers, batch_size, self.hidden_dim).zero_().to(device),weight.new(self.n_layers, batch_size, self.hidden_dim).zero_().to(device))\n",
    "        #hidden = (weight.new(self.n_layers, batch_size, self.hidden_dim).zero_(),\n",
    "        #             weight.new(self.n_layers, batch_size, self.hidden_dim).zero_())\n",
    "        return hidden"
   ]
  },
  {
   "cell_type": "code",
   "execution_count": 18,
   "id": "auburn-scanning",
   "metadata": {
    "execution": {
     "iopub.execute_input": "2021-12-22T17:11:00.346754Z",
     "iopub.status.busy": "2021-12-22T17:11:00.345951Z",
     "iopub.status.idle": "2021-12-22T17:11:00.347617Z",
     "shell.execute_reply": "2021-12-22T17:11:00.348095Z",
     "shell.execute_reply.started": "2021-12-08T21:40:21.00062Z"
    },
    "papermill": {
     "duration": 0.023609,
     "end_time": "2021-12-22T17:11:00.348221",
     "exception": false,
     "start_time": "2021-12-22T17:11:00.324612",
     "status": "completed"
    },
    "tags": []
   },
   "outputs": [],
   "source": [
    "def model_params(model):\n",
    "    pp=0\n",
    "    for p in list(model.parameters()):\n",
    "        nn=1\n",
    "        for s in list(p.size()):\n",
    "            nn = nn*s\n",
    "        pp += nn\n",
    "    return pp"
   ]
  },
  {
   "cell_type": "code",
   "execution_count": 19,
   "id": "complicated-section",
   "metadata": {
    "execution": {
     "iopub.execute_input": "2021-12-22T17:11:00.390807Z",
     "iopub.status.busy": "2021-12-22T17:11:00.390252Z",
     "iopub.status.idle": "2021-12-22T17:11:06.488796Z",
     "shell.execute_reply": "2021-12-22T17:11:06.489296Z",
     "shell.execute_reply.started": "2021-12-08T21:40:21.018613Z"
    },
    "papermill": {
     "duration": 6.124134,
     "end_time": "2021-12-22T17:11:06.489461",
     "exception": false,
     "start_time": "2021-12-22T17:11:00.365327",
     "status": "completed"
    },
    "tags": []
   },
   "outputs": [
    {
     "name": "stdout",
     "output_type": "stream",
     "text": [
      "9578181\n"
     ]
    }
   ],
   "source": [
    "output_size = 1\n",
    "embedding_dim = 10\n",
    "hidden_dim = 64\n",
    "n_layers = 16\n",
    "\n",
    "model = SentimentNet(vocab_size, output_size, embedding_dim, hidden_dim, n_layers)\n",
    "print(model_params(model))\n",
    "model.to(device)\n",
    "lr=0.01\n",
    "criterion = nn.BCELoss()\n",
    "optimizer = torch.optim.Adam(model.parameters(), lr=lr)"
   ]
  },
  {
   "cell_type": "code",
   "execution_count": 20,
   "id": "august-organic",
   "metadata": {
    "execution": {
     "iopub.execute_input": "2021-12-22T17:11:06.534985Z",
     "iopub.status.busy": "2021-12-22T17:11:06.534454Z",
     "iopub.status.idle": "2021-12-22T22:55:45.149671Z",
     "shell.execute_reply": "2021-12-22T22:55:45.149022Z",
     "shell.execute_reply.started": "2021-12-08T21:40:22.585467Z"
    },
    "papermill": {
     "duration": 20678.642709,
     "end_time": "2021-12-22T22:55:45.149804",
     "exception": false,
     "start_time": "2021-12-22T17:11:06.507095",
     "status": "completed"
    },
    "tags": []
   },
   "outputs": [
    {
     "name": "stdout",
     "output_type": "stream",
     "text": [
      "Epoch: 1/1... Step: 5000... Loss: 0.692256... Val Loss: 0.693148\n",
      "Validation loss decreased (inf --> 0.693148).  Saving model ...\n",
      "Epoch: 1/1... Step: 10000... Loss: 0.694661... Val Loss: 0.693322\n",
      "Epoch: 1/1... Step: 15000... Loss: 0.690912... Val Loss: 0.693315\n",
      "Epoch: 1/1... Step: 20000... Loss: 0.691558... Val Loss: 0.693502\n",
      "Epoch: 1/1... Step: 25000... Loss: 0.691990... Val Loss: 0.693174\n",
      "Epoch: 1/1... Step: 30000... Loss: 0.694182... Val Loss: 0.693216\n",
      "Epoch: 1/1... Step: 35000... Loss: 0.692640... Val Loss: 0.693294\n",
      "Epoch: 1/1... Step: 40000... Loss: 0.693995... Val Loss: 0.693170\n",
      "Epoch: 1/1... Step: 45000... Loss: 0.696319... Val Loss: 0.693625\n",
      "Epoch: 1/1... Step: 50000... Loss: 0.693140... Val Loss: 0.693148\n",
      "Validation loss decreased (0.693148 --> 0.693148).  Saving model ...\n",
      "Epoch: 1/1... Step: 55000... Loss: 0.693171... Val Loss: 0.693148\n",
      "Validation loss decreased (0.693148 --> 0.693148).  Saving model ...\n",
      "Epoch: 1/1... Step: 60000... Loss: 0.694491... Val Loss: 0.693277\n",
      "Epoch: 1/1... Step: 65000... Loss: 0.692100... Val Loss: 0.693197\n",
      "Epoch: 1/1... Step: 70000... Loss: 0.696425... Val Loss: 0.693407\n"
     ]
    }
   ],
   "source": [
    "epochs = 1\n",
    "counter = 0\n",
    "print_every = 5000\n",
    "clip = 5\n",
    "valid_loss_min = np.Inf\n",
    "\n",
    "model.train()\n",
    "for i in range(epochs):\n",
    "    h = model.init_hidden(BATCH_SIZE)\n",
    "    \n",
    "    for inputs, labels in train_loader:\n",
    "        counter += 1\n",
    "        h = tuple([e.data for e in h])\n",
    "        inputs, labels = inputs.to(device), labels.to(device)\n",
    "        model.zero_grad()\n",
    "        output, h = model(inputs, h)\n",
    "        loss = criterion(output, labels.float())\n",
    "        loss.backward()\n",
    "        #nn.utils.clip_grad_norm_(model.parameters(), clip)\n",
    "        optimizer.step()\n",
    "        \n",
    "        if counter%print_every == 0:\n",
    "            val_h = model.init_hidden(BATCH_SIZE)\n",
    "            val_losses = []\n",
    "            model.eval()\n",
    "            for inp, lab in test_loader:\n",
    "                val_h = tuple([each.data for each in val_h])\n",
    "                inp, lab = inp.to(device), lab.to(device)\n",
    "                out, val_h = model(inp, val_h)\n",
    "                val_loss = criterion(out, lab.float())\n",
    "                val_losses.append(val_loss.item())\n",
    "                \n",
    "            model.train()\n",
    "            print(\"Epoch: {}/{}...\".format(i+1, epochs),\n",
    "                  \"Step: {}...\".format(counter),\n",
    "                  \"Loss: {:.6f}...\".format(loss.item()),\n",
    "                  \"Val Loss: {:.6f}\".format(np.mean(val_losses)))\n",
    "            if np.mean(val_losses) <= valid_loss_min:\n",
    "                torch.save(model.state_dict(), './state_dict.pt')\n",
    "                print('Validation loss decreased ({:.6f} --> {:.6f}).  Saving model ...'.format(valid_loss_min,np.mean(val_losses)))\n",
    "                valid_loss_min = np.mean(val_losses)"
   ]
  },
  {
   "cell_type": "code",
   "execution_count": 21,
   "id": "manual-graphics",
   "metadata": {
    "execution": {
     "iopub.execute_input": "2021-12-22T22:55:45.196592Z",
     "iopub.status.busy": "2021-12-22T22:55:45.195913Z",
     "iopub.status.idle": "2021-12-22T22:55:45.198457Z",
     "shell.execute_reply": "2021-12-22T22:55:45.198821Z"
    },
    "papermill": {
     "duration": 0.027455,
     "end_time": "2021-12-22T22:55:45.198962",
     "exception": false,
     "start_time": "2021-12-22T22:55:45.171507",
     "status": "completed"
    },
    "tags": []
   },
   "outputs": [],
   "source": [
    "h = model.init_hidden(1)"
   ]
  },
  {
   "cell_type": "code",
   "execution_count": 22,
   "id": "crude-sentence",
   "metadata": {
    "execution": {
     "iopub.execute_input": "2021-12-22T22:55:45.244987Z",
     "iopub.status.busy": "2021-12-22T22:55:45.244499Z",
     "iopub.status.idle": "2021-12-22T22:55:45.308658Z",
     "shell.execute_reply": "2021-12-22T22:55:45.307798Z"
    },
    "papermill": {
     "duration": 0.089183,
     "end_time": "2021-12-22T22:55:45.308768",
     "exception": false,
     "start_time": "2021-12-22T22:55:45.219585",
     "status": "completed"
    },
    "tags": []
   },
   "outputs": [
    {
     "data": {
      "text/plain": [
       "tensor([0.4867], device='cuda:0', grad_fn=<SelectBackward>)"
      ]
     },
     "execution_count": 22,
     "metadata": {},
     "output_type": "execute_result"
    }
   ],
   "source": [
    "sentence = \"I love this film, it was so awesome!\"\n",
    "trial = torch.tensor(pad_sequences(tokenizer.texts_to_sequences([sentence]), maxlen = maxlen)).to(device)\n",
    "\n",
    "model(trial, h)[0]"
   ]
  },
  {
   "cell_type": "code",
   "execution_count": 23,
   "id": "crazy-alliance",
   "metadata": {
    "execution": {
     "iopub.execute_input": "2021-12-22T22:55:45.355249Z",
     "iopub.status.busy": "2021-12-22T22:55:45.354700Z",
     "iopub.status.idle": "2021-12-22T22:55:45.720898Z",
     "shell.execute_reply": "2021-12-22T22:55:45.719928Z"
    },
    "papermill": {
     "duration": 0.391257,
     "end_time": "2021-12-22T22:55:45.721045",
     "exception": false,
     "start_time": "2021-12-22T22:55:45.329788",
     "status": "completed"
    },
    "tags": []
   },
   "outputs": [
    {
     "name": "stderr",
     "output_type": "stream",
     "text": [
      "/opt/conda/lib/python3.7/site-packages/ipykernel_launcher.py:19: TracerWarning: Converting a tensor to a Python index might cause the trace to be incorrect. We can't record the data flow of Python values, so this value will be treated as a constant in the future. This means that the trace might not generalize to other inputs!\n",
      "/opt/conda/lib/python3.7/site-packages/torch/onnx/symbolic_opset9.py:1805: UserWarning: Exporting a model to ONNX with a batch_size other than 1, with a variable length with LSTM can cause an error when running the ONNX model with a different batch size. Make sure to save the model with a batch size of 1, or define the initial states (h0/c0) as inputs of the model. \n",
      "  \"or define the initial states (h0/c0) as inputs of the model. \")\n"
     ]
    }
   ],
   "source": [
    "import torch.onnx\n",
    "torch.onnx.export(model,               # model being run\n",
    "                  (trial, (torch.randn(n_layers,1,hidden_dim).to(device), torch.randn(n_layers,1,hidden_dim).to(device))),                   # model input (or a tuple for multiple inputs)\n",
    "                  \"lstm-PT.onnx\")"
   ]
  }
 ],
 "metadata": {
  "kernelspec": {
   "display_name": "Python 3",
   "language": "python",
   "name": "python3"
  },
  "language_info": {
   "codemirror_mode": {
    "name": "ipython",
    "version": 3
   },
   "file_extension": ".py",
   "mimetype": "text/x-python",
   "name": "python",
   "nbconvert_exporter": "python",
   "pygments_lexer": "ipython3",
   "version": "3.7.9"
  },
  "papermill": {
   "default_parameters": {},
   "duration": 21510.770738,
   "end_time": "2021-12-22T22:55:51.051593",
   "environment_variables": {},
   "exception": null,
   "input_path": "__notebook__.ipynb",
   "output_path": "__notebook__.ipynb",
   "parameters": {},
   "start_time": "2021-12-22T16:57:20.280855",
   "version": "2.3.2"
  }
 },
 "nbformat": 4,
 "nbformat_minor": 5
}
