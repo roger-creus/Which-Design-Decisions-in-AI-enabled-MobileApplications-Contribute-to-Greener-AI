{
 "cells": [
  {
   "cell_type": "markdown",
   "id": "626441d9",
   "metadata": {
    "papermill": {
     "duration": 0.017478,
     "end_time": "2021-09-27T06:42:59.731298",
     "exception": false,
     "start_time": "2021-09-27T06:42:59.713820",
     "status": "completed"
    },
    "tags": []
   },
   "source": [
    "# Sentiment Analysis using LSTM"
   ]
  },
  {
   "cell_type": "code",
   "execution_count": 1,
   "id": "720a272a",
   "metadata": {
    "execution": {
     "iopub.execute_input": "2021-09-27T06:42:59.769897Z",
     "iopub.status.busy": "2021-09-27T06:42:59.768055Z",
     "iopub.status.idle": "2021-09-27T06:43:08.371457Z",
     "shell.execute_reply": "2021-09-27T06:43:08.371991Z",
     "shell.execute_reply.started": "2021-09-27T06:27:16.305273Z"
    },
    "papermill": {
     "duration": 8.624618,
     "end_time": "2021-09-27T06:43:08.372349",
     "exception": false,
     "start_time": "2021-09-27T06:42:59.747731",
     "status": "completed"
    },
    "tags": []
   },
   "outputs": [],
   "source": [
    "import numpy as np\n",
    "import pandas as pd\n",
    "\n",
    "import matplotlib.pyplot as plt\n",
    "import seaborn as sns\n",
    "\n",
    "import re\n",
    "import string\n",
    "from collections import Counter\n",
    "from nltk.corpus import stopwords\n",
    "stop_words = set(stopwords.words('english'))\n",
    "\n",
    "from sklearn.model_selection import train_test_split\n",
    "\n",
    "import torch\n",
    "from torch.utils.data import DataLoader, TensorDataset\n",
    "import torch.nn as nn\n",
    "\n",
    "import pandas as pd\n",
    "import numpy as np\n",
    "import bz2\n",
    "import matplotlib.pyplot as plt\n",
    "import sklearn\n",
    "import tensorflow as tf\n",
    "from tensorflow.keras import models, layers, optimizers\n",
    "from tensorflow.keras.preprocessing.text import Tokenizer, text_to_word_sequence\n",
    "from tensorflow.keras.preprocessing.sequence import pad_sequences\n",
    "from sklearn.preprocessing import LabelEncoder\n",
    "\n",
    "%matplotlib inline"
   ]
  },
  {
   "cell_type": "code",
   "execution_count": 2,
   "id": "d14d6418",
   "metadata": {
    "execution": {
     "iopub.execute_input": "2021-09-27T06:43:08.408332Z",
     "iopub.status.busy": "2021-09-27T06:43:08.407268Z",
     "iopub.status.idle": "2021-09-27T06:43:08.412651Z",
     "shell.execute_reply": "2021-09-27T06:43:08.412021Z",
     "shell.execute_reply.started": "2021-09-27T06:27:16.333073Z"
    },
    "papermill": {
     "duration": 0.024428,
     "end_time": "2021-09-27T06:43:08.412808",
     "exception": false,
     "start_time": "2021-09-27T06:43:08.388380",
     "status": "completed"
    },
    "tags": []
   },
   "outputs": [],
   "source": [
    "device = \"cpu\""
   ]
  },
  {
   "cell_type": "markdown",
   "id": "bb8ce798",
   "metadata": {
    "papermill": {
     "duration": 0.015491,
     "end_time": "2021-09-27T06:43:08.444288",
     "exception": false,
     "start_time": "2021-09-27T06:43:08.428797",
     "status": "completed"
    },
    "tags": []
   },
   "source": [
    "## 1) Load in and visualize the data"
   ]
  },
  {
   "cell_type": "code",
   "execution_count": 3,
   "id": "d789115d",
   "metadata": {
    "execution": {
     "iopub.execute_input": "2021-09-27T06:43:08.481293Z",
     "iopub.status.busy": "2021-09-27T06:43:08.480553Z",
     "iopub.status.idle": "2021-09-27T06:43:09.985846Z",
     "shell.execute_reply": "2021-09-27T06:43:09.985166Z",
     "shell.execute_reply.started": "2021-09-27T06:27:16.350631Z"
    },
    "papermill": {
     "duration": 1.525967,
     "end_time": "2021-09-27T06:43:09.985989",
     "exception": false,
     "start_time": "2021-09-27T06:43:08.460022",
     "status": "completed"
    },
    "tags": []
   },
   "outputs": [
    {
     "data": {
      "text/html": [
       "<div>\n",
       "<style scoped>\n",
       "    .dataframe tbody tr th:only-of-type {\n",
       "        vertical-align: middle;\n",
       "    }\n",
       "\n",
       "    .dataframe tbody tr th {\n",
       "        vertical-align: top;\n",
       "    }\n",
       "\n",
       "    .dataframe thead th {\n",
       "        text-align: right;\n",
       "    }\n",
       "</style>\n",
       "<table border=\"1\" class=\"dataframe\">\n",
       "  <thead>\n",
       "    <tr style=\"text-align: right;\">\n",
       "      <th></th>\n",
       "      <th>review</th>\n",
       "      <th>sentiment</th>\n",
       "    </tr>\n",
       "  </thead>\n",
       "  <tbody>\n",
       "    <tr>\n",
       "      <th>0</th>\n",
       "      <td>One of the other reviewers has mentioned that ...</td>\n",
       "      <td>positive</td>\n",
       "    </tr>\n",
       "    <tr>\n",
       "      <th>1</th>\n",
       "      <td>A wonderful little production. &lt;br /&gt;&lt;br /&gt;The...</td>\n",
       "      <td>positive</td>\n",
       "    </tr>\n",
       "    <tr>\n",
       "      <th>2</th>\n",
       "      <td>I thought this was a wonderful way to spend ti...</td>\n",
       "      <td>positive</td>\n",
       "    </tr>\n",
       "    <tr>\n",
       "      <th>3</th>\n",
       "      <td>Basically there's a family where a little boy ...</td>\n",
       "      <td>negative</td>\n",
       "    </tr>\n",
       "    <tr>\n",
       "      <th>4</th>\n",
       "      <td>Petter Mattei's \"Love in the Time of Money\" is...</td>\n",
       "      <td>positive</td>\n",
       "    </tr>\n",
       "  </tbody>\n",
       "</table>\n",
       "</div>"
      ],
      "text/plain": [
       "                                              review sentiment\n",
       "0  One of the other reviewers has mentioned that ...  positive\n",
       "1  A wonderful little production. <br /><br />The...  positive\n",
       "2  I thought this was a wonderful way to spend ti...  positive\n",
       "3  Basically there's a family where a little boy ...  negative\n",
       "4  Petter Mattei's \"Love in the Time of Money\" is...  positive"
      ]
     },
     "execution_count": 3,
     "metadata": {},
     "output_type": "execute_result"
    }
   ],
   "source": [
    "df = pd.read_csv('../input/imdb-dataset-of-50k-movie-reviews/IMDB Dataset.csv')\n",
    "df.head()"
   ]
  },
  {
   "cell_type": "markdown",
   "id": "3434e9af",
   "metadata": {
    "papermill": {
     "duration": 0.016614,
     "end_time": "2021-09-27T06:43:10.019540",
     "exception": false,
     "start_time": "2021-09-27T06:43:10.002926",
     "status": "completed"
    },
    "tags": []
   },
   "source": [
    "## 2) Data Processing — convert to lower case, Remove punctuation etc"
   ]
  },
  {
   "cell_type": "code",
   "execution_count": 4,
   "id": "13497233",
   "metadata": {
    "execution": {
     "iopub.execute_input": "2021-09-27T06:43:10.062254Z",
     "iopub.status.busy": "2021-09-27T06:43:10.061529Z",
     "iopub.status.idle": "2021-09-27T06:43:21.009633Z",
     "shell.execute_reply": "2021-09-27T06:43:21.010196Z",
     "shell.execute_reply.started": "2021-09-27T06:27:17.026836Z"
    },
    "papermill": {
     "duration": 10.973643,
     "end_time": "2021-09-27T06:43:21.010392",
     "exception": false,
     "start_time": "2021-09-27T06:43:10.036749",
     "status": "completed"
    },
    "tags": []
   },
   "outputs": [
    {
     "data": {
      "text/html": [
       "<div>\n",
       "<style scoped>\n",
       "    .dataframe tbody tr th:only-of-type {\n",
       "        vertical-align: middle;\n",
       "    }\n",
       "\n",
       "    .dataframe tbody tr th {\n",
       "        vertical-align: top;\n",
       "    }\n",
       "\n",
       "    .dataframe thead th {\n",
       "        text-align: right;\n",
       "    }\n",
       "</style>\n",
       "<table border=\"1\" class=\"dataframe\">\n",
       "  <thead>\n",
       "    <tr style=\"text-align: right;\">\n",
       "      <th></th>\n",
       "      <th>review</th>\n",
       "      <th>sentiment</th>\n",
       "      <th>cleaned_reviews</th>\n",
       "    </tr>\n",
       "  </thead>\n",
       "  <tbody>\n",
       "    <tr>\n",
       "      <th>0</th>\n",
       "      <td>One of the other reviewers has mentioned that ...</td>\n",
       "      <td>positive</td>\n",
       "      <td>one reviewers mentioned watching 1 oz episode ...</td>\n",
       "    </tr>\n",
       "    <tr>\n",
       "      <th>1</th>\n",
       "      <td>A wonderful little production. &lt;br /&gt;&lt;br /&gt;The...</td>\n",
       "      <td>positive</td>\n",
       "      <td>wonderful little production filming technique ...</td>\n",
       "    </tr>\n",
       "    <tr>\n",
       "      <th>2</th>\n",
       "      <td>I thought this was a wonderful way to spend ti...</td>\n",
       "      <td>positive</td>\n",
       "      <td>thought wonderful way spend time hot summer we...</td>\n",
       "    </tr>\n",
       "    <tr>\n",
       "      <th>3</th>\n",
       "      <td>Basically there's a family where a little boy ...</td>\n",
       "      <td>negative</td>\n",
       "      <td>basically theres family little boy jake thinks...</td>\n",
       "    </tr>\n",
       "    <tr>\n",
       "      <th>4</th>\n",
       "      <td>Petter Mattei's \"Love in the Time of Money\" is...</td>\n",
       "      <td>positive</td>\n",
       "      <td>petter matteis love time money visually stunni...</td>\n",
       "    </tr>\n",
       "  </tbody>\n",
       "</table>\n",
       "</div>"
      ],
      "text/plain": [
       "                                              review sentiment  \\\n",
       "0  One of the other reviewers has mentioned that ...  positive   \n",
       "1  A wonderful little production. <br /><br />The...  positive   \n",
       "2  I thought this was a wonderful way to spend ti...  positive   \n",
       "3  Basically there's a family where a little boy ...  negative   \n",
       "4  Petter Mattei's \"Love in the Time of Money\" is...  positive   \n",
       "\n",
       "                                     cleaned_reviews  \n",
       "0  one reviewers mentioned watching 1 oz episode ...  \n",
       "1  wonderful little production filming technique ...  \n",
       "2  thought wonderful way spend time hot summer we...  \n",
       "3  basically theres family little boy jake thinks...  \n",
       "4  petter matteis love time money visually stunni...  "
      ]
     },
     "execution_count": 4,
     "metadata": {},
     "output_type": "execute_result"
    }
   ],
   "source": [
    "def data_preprocessing(text):\n",
    "    text = text.lower()\n",
    "    text = re.sub('<.*?>', '', text) # Remove HTML from text\n",
    "    text = ''.join([c for c in text if c not in string.punctuation])# Remove punctuation\n",
    "    text = [word for word in text.split() if word not in stop_words]\n",
    "    text = ' '.join(text)\n",
    "    return text\n",
    "\n",
    "df['cleaned_reviews'] = df['review'].apply(data_preprocessing)\n",
    "df.head()"
   ]
  },
  {
   "cell_type": "markdown",
   "id": "baa34585",
   "metadata": {
    "papermill": {
     "duration": 0.017917,
     "end_time": "2021-09-27T06:43:21.046834",
     "exception": false,
     "start_time": "2021-09-27T06:43:21.028917",
     "status": "completed"
    },
    "tags": []
   },
   "source": [
    "## 5) Tokenize — Create Vocab to Int mapping dictionary\n",
    "In most of the NLP tasks, you will create an index mapping dictionary in such a way that your frequently occurring words are assigned lower indexes. One of the most common way of doing this is to use Counter method from Collections library."
   ]
  },
  {
   "cell_type": "code",
   "execution_count": 5,
   "id": "874f9237",
   "metadata": {
    "execution": {
     "iopub.execute_input": "2021-09-27T06:43:21.085392Z",
     "iopub.status.busy": "2021-09-27T06:43:21.084516Z",
     "iopub.status.idle": "2021-09-27T06:43:28.979208Z",
     "shell.execute_reply": "2021-09-27T06:43:28.978555Z",
     "shell.execute_reply.started": "2021-09-27T06:27:27.947573Z"
    },
    "papermill": {
     "duration": 7.915445,
     "end_time": "2021-09-27T06:43:28.979368",
     "exception": false,
     "start_time": "2021-09-27T06:43:21.063923",
     "status": "completed"
    },
    "tags": []
   },
   "outputs": [
    {
     "name": "stdout",
     "output_type": "stream",
     "text": [
      "Vocabulary Size : 222610\n"
     ]
    }
   ],
   "source": [
    "max_features = 8192\n",
    "maxlen = 30\n",
    "\n",
    "tokenizer = Tokenizer(num_words=max_features)\n",
    "tokenizer.fit_on_texts(df['cleaned_reviews'])\n",
    "\n",
    "word_index = tokenizer.word_index\n",
    "vocab_size = len(tokenizer.word_index) + 1\n",
    "print(\"Vocabulary Size :\", vocab_size)"
   ]
  },
  {
   "cell_type": "code",
   "execution_count": 6,
   "id": "b9d464b4",
   "metadata": {
    "execution": {
     "iopub.execute_input": "2021-09-27T06:43:29.032976Z",
     "iopub.status.busy": "2021-09-27T06:43:29.027607Z",
     "iopub.status.idle": "2021-09-27T06:43:34.829591Z",
     "shell.execute_reply": "2021-09-27T06:43:34.828792Z",
     "shell.execute_reply.started": "2021-09-27T06:27:35.341648Z"
    },
    "papermill": {
     "duration": 5.833121,
     "end_time": "2021-09-27T06:43:34.829755",
     "exception": false,
     "start_time": "2021-09-27T06:43:28.996634",
     "status": "completed"
    },
    "tags": []
   },
   "outputs": [],
   "source": [
    "training_token = tokenizer.texts_to_sequences(df['cleaned_reviews'])\n",
    "x_data = pad_sequences(training_token, maxlen = maxlen, padding = 'post')"
   ]
  },
  {
   "cell_type": "code",
   "execution_count": 7,
   "id": "4f42907d",
   "metadata": {
    "execution": {
     "iopub.execute_input": "2021-09-27T06:43:34.871464Z",
     "iopub.status.busy": "2021-09-27T06:43:34.870750Z",
     "iopub.status.idle": "2021-09-27T06:43:34.908618Z",
     "shell.execute_reply": "2021-09-27T06:43:34.907989Z",
     "shell.execute_reply.started": "2021-09-27T06:27:41.190485Z"
    },
    "papermill": {
     "duration": 0.060875,
     "end_time": "2021-09-27T06:43:34.908762",
     "exception": false,
     "start_time": "2021-09-27T06:43:34.847887",
     "status": "completed"
    },
    "tags": []
   },
   "outputs": [],
   "source": [
    "y_data = df['sentiment'].apply(lambda x: 1 if x == 'positive' else 0)"
   ]
  },
  {
   "cell_type": "code",
   "execution_count": 8,
   "id": "bbae8a82",
   "metadata": {
    "execution": {
     "iopub.execute_input": "2021-09-27T06:43:34.950255Z",
     "iopub.status.busy": "2021-09-27T06:43:34.948370Z",
     "iopub.status.idle": "2021-09-27T06:43:34.965540Z",
     "shell.execute_reply": "2021-09-27T06:43:34.964956Z",
     "shell.execute_reply.started": "2021-09-27T06:27:41.232067Z"
    },
    "papermill": {
     "duration": 0.039752,
     "end_time": "2021-09-27T06:43:34.965692",
     "exception": false,
     "start_time": "2021-09-27T06:43:34.925940",
     "status": "completed"
    },
    "tags": []
   },
   "outputs": [],
   "source": [
    "X_train, X_remain, y_train, y_remain = train_test_split(x_data, y_data, test_size=0.2, random_state=1)\n",
    "X_valid, X_test, y_valid, y_test = train_test_split(X_remain, y_remain, test_size=0.5, random_state=1)"
   ]
  },
  {
   "cell_type": "code",
   "execution_count": 9,
   "id": "02005d1d",
   "metadata": {
    "execution": {
     "iopub.execute_input": "2021-09-27T06:43:35.008251Z",
     "iopub.status.busy": "2021-09-27T06:43:35.007531Z",
     "iopub.status.idle": "2021-09-27T06:43:35.028853Z",
     "shell.execute_reply": "2021-09-27T06:43:35.029427Z",
     "shell.execute_reply.started": "2021-09-27T06:27:41.252887Z"
    },
    "papermill": {
     "duration": 0.046837,
     "end_time": "2021-09-27T06:43:35.029611",
     "exception": false,
     "start_time": "2021-09-27T06:43:34.982774",
     "status": "completed"
    },
    "tags": []
   },
   "outputs": [],
   "source": [
    "# create tensor dataset\n",
    "train_data = TensorDataset(torch.from_numpy(X_train.astype('float64')), torch.from_numpy(np.array(y_train).astype('float64')))\n",
    "test_data = TensorDataset(torch.from_numpy(X_test), torch.from_numpy(np.array(y_test).astype('float64')))\n",
    "valid_data = TensorDataset(torch.from_numpy(X_valid), torch.from_numpy(np.array(y_valid).astype('float64')))\n",
    "\n",
    "# dataloaders\n",
    "batch_size = 50\n",
    "\n",
    "train_loader = DataLoader(train_data, shuffle=True, batch_size=batch_size)\n",
    "test_loader = DataLoader(test_data, shuffle=True, batch_size=batch_size)\n",
    "valid_loader = DataLoader(valid_data, shuffle=True, batch_size=batch_size)"
   ]
  },
  {
   "cell_type": "code",
   "execution_count": 10,
   "id": "50864934",
   "metadata": {
    "execution": {
     "iopub.execute_input": "2021-09-27T06:43:35.068461Z",
     "iopub.status.busy": "2021-09-27T06:43:35.067457Z",
     "iopub.status.idle": "2021-09-27T06:43:35.177407Z",
     "shell.execute_reply": "2021-09-27T06:43:35.176710Z",
     "shell.execute_reply.started": "2021-09-27T06:27:41.266351Z"
    },
    "papermill": {
     "duration": 0.130738,
     "end_time": "2021-09-27T06:43:35.177561",
     "exception": false,
     "start_time": "2021-09-27T06:43:35.046823",
     "status": "completed"
    },
    "tags": []
   },
   "outputs": [
    {
     "name": "stdout",
     "output_type": "stream",
     "text": [
      "Sample input size:  torch.Size([50, 30])\n",
      "Sample input: \n",
      " tensor([[7.2330e+03, 9.5500e+02, 1.7000e+01,  ..., 6.7000e+01, 1.6050e+03,\n",
      "         1.8800e+02],\n",
      "        [4.3440e+03, 2.5000e+01, 2.7970e+03,  ..., 3.7000e+01, 2.4600e+02,\n",
      "         3.6580e+03],\n",
      "        [6.1000e+01, 4.6000e+01, 1.8000e+01,  ..., 2.5000e+01, 9.0400e+02,\n",
      "         1.9700e+02],\n",
      "        ...,\n",
      "        [1.3000e+01, 2.0600e+03, 1.6900e+02,  ..., 9.5000e+01, 3.4500e+02,\n",
      "         3.5000e+01],\n",
      "        [2.7000e+01, 1.8930e+03, 2.1490e+03,  ..., 6.0000e+00, 2.0000e+01,\n",
      "         8.0000e+00],\n",
      "        [3.4000e+02, 8.0000e+01, 1.2100e+02,  ..., 2.2690e+03, 1.5400e+02,\n",
      "         1.4920e+03]], dtype=torch.float64)\n",
      "Sample input: \n",
      " tensor([1., 1., 0., 1., 1., 1., 0., 1., 1., 0., 0., 0., 0., 0., 0., 0., 0., 1.,\n",
      "        0., 1., 0., 1., 0., 1., 1., 0., 1., 1., 0., 1., 1., 1., 1., 1., 1., 1.,\n",
      "        0., 0., 1., 1., 0., 1., 1., 1., 0., 1., 1., 1., 1., 0.],\n",
      "       dtype=torch.float64)\n"
     ]
    }
   ],
   "source": [
    "# obtain one batch of training data\n",
    "dataiter = iter(train_loader)\n",
    "sample_x, sample_y = dataiter.next()\n",
    "\n",
    "print('Sample input size: ', sample_x.size()) # batch_size, seq_length\n",
    "print('Sample input: \\n', sample_x)\n",
    "print('Sample input: \\n', sample_y)"
   ]
  },
  {
   "cell_type": "code",
   "execution_count": 11,
   "id": "a27726e0",
   "metadata": {
    "execution": {
     "iopub.execute_input": "2021-09-27T06:43:35.225980Z",
     "iopub.status.busy": "2021-09-27T06:43:35.225299Z",
     "iopub.status.idle": "2021-09-27T06:43:35.228346Z",
     "shell.execute_reply": "2021-09-27T06:43:35.228798Z",
     "shell.execute_reply.started": "2021-09-27T06:27:41.28962Z"
    },
    "papermill": {
     "duration": 0.033824,
     "end_time": "2021-09-27T06:43:35.228984",
     "exception": false,
     "start_time": "2021-09-27T06:43:35.195160",
     "status": "completed"
    },
    "tags": []
   },
   "outputs": [],
   "source": [
    "class SentimentNet(nn.Module):\n",
    "    def __init__(self, vocab_size, output_size, embedding_dim, hidden_dim, n_layers, drop_prob=0.5):\n",
    "        super(SentimentNet, self).__init__()\n",
    "        self.output_size = output_size\n",
    "        self.n_layers = n_layers\n",
    "        self.hidden_dim = hidden_dim\n",
    "        \n",
    "        \n",
    "        self.embedding = nn.Embedding(vocab_size, embedding_dim)\n",
    "        #self.conv = nn.Conv1d(embedding_dim, 8, kernel_size=5)\n",
    "        self.lstm = nn.LSTM(embedding_dim, hidden_dim, n_layers, dropout=drop_prob, batch_first=True)\n",
    "        #self.gru = nn.GRU(embedding_dim, hidden_dim, n_layers, dropout=drop_prob, batch_first=True)\n",
    "        self.dropout = nn.Dropout(drop_prob)\n",
    "        self.fc = nn.Linear(hidden_dim, output_size)\n",
    "        self.sigmoid = nn.Sigmoid()\n",
    "        \n",
    "    def forward(self, x, hidden):\n",
    "        if len(x) != 1:\n",
    "            batch_size = x.size(0)\n",
    "        else:\n",
    "            batch_size = 1\n",
    "        \n",
    "        x = x.long()\n",
    "        embeds = self.embedding(x)\n",
    "\n",
    "        #conv = self.conv(x)\n",
    "        \n",
    "        lstm_out, hidden = self.lstm(embeds, hidden)\n",
    "        lstm_out = lstm_out.contiguous().view(-1, self.hidden_dim)\n",
    "        \n",
    "        out = self.dropout(lstm_out)\n",
    "        out = self.fc(out)\n",
    "        out = self.sigmoid(out)\n",
    "        \n",
    "        out = out.view(batch_size, -1)\n",
    "        out = out[:,-1]\n",
    "        return out, hidden\n",
    "    \n",
    "    def init_hidden(self, batch_size):\n",
    "        weight = next(self.parameters()).data\n",
    "        #hidden = (weight.new(self.n_layers, batch_size, self.hidden_dim).zero_().to(device),weight.new(self.n_layers, batch_size, self.hidden_dim).zero_().to(device))\n",
    "        hidden = (weight.new(self.n_layers, batch_size, self.hidden_dim).zero_(),\n",
    "                     weight.new(self.n_layers, batch_size, self.hidden_dim).zero_())\n",
    "        return hidden"
   ]
  },
  {
   "cell_type": "code",
   "execution_count": 12,
   "id": "e26d3cea",
   "metadata": {
    "execution": {
     "iopub.execute_input": "2021-09-27T06:43:35.267304Z",
     "iopub.status.busy": "2021-09-27T06:43:35.266632Z",
     "iopub.status.idle": "2021-09-27T06:43:35.271210Z",
     "shell.execute_reply": "2021-09-27T06:43:35.271702Z",
     "shell.execute_reply.started": "2021-09-27T06:27:41.304138Z"
    },
    "papermill": {
     "duration": 0.025382,
     "end_time": "2021-09-27T06:43:35.271882",
     "exception": false,
     "start_time": "2021-09-27T06:43:35.246500",
     "status": "completed"
    },
    "tags": []
   },
   "outputs": [],
   "source": [
    "def model_params(model):\n",
    "    pp=0\n",
    "    for p in list(model.parameters()):\n",
    "        nn=1\n",
    "        for s in list(p.size()):\n",
    "            nn = nn*s\n",
    "        pp += nn\n",
    "    return pp"
   ]
  },
  {
   "cell_type": "code",
   "execution_count": 13,
   "id": "256d23ea",
   "metadata": {
    "execution": {
     "iopub.execute_input": "2021-09-27T06:43:35.310888Z",
     "iopub.status.busy": "2021-09-27T06:43:35.310201Z",
     "iopub.status.idle": "2021-09-27T06:43:35.363197Z",
     "shell.execute_reply": "2021-09-27T06:43:35.363724Z",
     "shell.execute_reply.started": "2021-09-27T06:27:41.32013Z"
    },
    "papermill": {
     "duration": 0.074306,
     "end_time": "2021-09-27T06:43:35.363902",
     "exception": false,
     "start_time": "2021-09-27T06:43:35.289596",
     "status": "completed"
    },
    "tags": []
   },
   "outputs": [
    {
     "name": "stdout",
     "output_type": "stream",
     "text": [
      "2744821\n"
     ]
    }
   ],
   "source": [
    "output_size = 1\n",
    "embedding_dim = 10\n",
    "hidden_dim = 64\n",
    "n_layers = 16\n",
    "\n",
    "model = SentimentNet(vocab_size, output_size, embedding_dim, hidden_dim, n_layers)\n",
    "print(model_params(model))\n",
    "model.to(device)\n",
    "lr=0.008\n",
    "criterion = nn.BCELoss()\n",
    "optimizer = torch.optim.Adam(model.parameters(), lr=lr)"
   ]
  },
  {
   "cell_type": "code",
   "execution_count": 14,
   "id": "30856463",
   "metadata": {
    "execution": {
     "iopub.execute_input": "2021-09-27T06:43:35.403575Z",
     "iopub.status.busy": "2021-09-27T06:43:35.402540Z",
     "iopub.status.idle": "2021-09-27T07:12:13.064884Z",
     "shell.execute_reply": "2021-09-27T07:12:13.065498Z",
     "shell.execute_reply.started": "2021-09-27T06:27:41.364585Z"
    },
    "papermill": {
     "duration": 1717.683989,
     "end_time": "2021-09-27T07:12:13.065719",
     "exception": false,
     "start_time": "2021-09-27T06:43:35.381730",
     "status": "completed"
    },
    "tags": []
   },
   "outputs": [
    {
     "name": "stdout",
     "output_type": "stream",
     "text": [
      "Epoch: 1/5... Step: 100... Loss: 0.698164... Val Loss: 0.694096\n",
      "Validation loss decreased (inf --> 0.694096).  Saving model ...\n",
      "Epoch: 1/5... Step: 200... Loss: 0.691124... Val Loss: 0.693380\n",
      "Validation loss decreased (0.694096 --> 0.693380).  Saving model ...\n",
      "Epoch: 1/5... Step: 300... Loss: 0.690038... Val Loss: 0.693666\n",
      "Epoch: 1/5... Step: 400... Loss: 0.693864... Val Loss: 0.693062\n",
      "Validation loss decreased (0.693380 --> 0.693062).  Saving model ...\n",
      "Epoch: 1/5... Step: 500... Loss: 0.696164... Val Loss: 0.693404\n",
      "Epoch: 1/5... Step: 600... Loss: 0.693180... Val Loss: 0.693235\n",
      "Epoch: 1/5... Step: 700... Loss: 0.688776... Val Loss: 0.693406\n",
      "Epoch: 1/5... Step: 800... Loss: 0.691098... Val Loss: 0.693184\n",
      "Epoch: 2/5... Step: 900... Loss: 0.695681... Val Loss: 0.694303\n",
      "Epoch: 2/5... Step: 1000... Loss: 0.690361... Val Loss: 0.693162\n",
      "Epoch: 2/5... Step: 1100... Loss: 0.693666... Val Loss: 0.693171\n",
      "Epoch: 2/5... Step: 1200... Loss: 0.690417... Val Loss: 0.693055\n",
      "Validation loss decreased (0.693062 --> 0.693055).  Saving model ...\n",
      "Epoch: 2/5... Step: 1300... Loss: 0.688278... Val Loss: 0.693343\n",
      "Epoch: 2/5... Step: 1400... Loss: 0.690591... Val Loss: 0.693767\n",
      "Epoch: 2/5... Step: 1500... Loss: 0.675508... Val Loss: 0.693651\n",
      "Epoch: 2/5... Step: 1600... Loss: 0.693615... Val Loss: 0.693123\n",
      "Epoch: 3/5... Step: 1700... Loss: 0.691024... Val Loss: 0.693319\n",
      "Epoch: 3/5... Step: 1800... Loss: 0.692744... Val Loss: 0.693367\n",
      "Epoch: 3/5... Step: 1900... Loss: 0.692936... Val Loss: 0.693055\n",
      "Epoch: 3/5... Step: 2000... Loss: 0.700070... Val Loss: 0.693065\n",
      "Epoch: 3/5... Step: 2100... Loss: 0.696956... Val Loss: 0.693065\n",
      "Epoch: 3/5... Step: 2200... Loss: 0.695019... Val Loss: 0.693303\n",
      "Epoch: 3/5... Step: 2300... Loss: 0.695399... Val Loss: 0.693055\n",
      "Epoch: 3/5... Step: 2400... Loss: 0.693808... Val Loss: 0.693460\n",
      "Epoch: 4/5... Step: 2500... Loss: 0.691914... Val Loss: 0.693083\n",
      "Epoch: 4/5... Step: 2600... Loss: 0.692980... Val Loss: 0.693111\n",
      "Epoch: 4/5... Step: 2700... Loss: 0.693879... Val Loss: 0.693198\n",
      "Epoch: 4/5... Step: 2800... Loss: 0.690362... Val Loss: 0.693496\n",
      "Epoch: 4/5... Step: 2900... Loss: 0.690994... Val Loss: 0.693100\n",
      "Epoch: 4/5... Step: 3000... Loss: 0.690817... Val Loss: 0.693261\n",
      "Epoch: 4/5... Step: 3100... Loss: 0.691164... Val Loss: 0.693062\n",
      "Epoch: 4/5... Step: 3200... Loss: 0.690830... Val Loss: 0.694247\n",
      "Epoch: 5/5... Step: 3300... Loss: 0.691733... Val Loss: 0.693055\n",
      "Epoch: 5/5... Step: 3400... Loss: 0.694138... Val Loss: 0.693092\n",
      "Epoch: 5/5... Step: 3500... Loss: 0.693086... Val Loss: 0.693102\n",
      "Epoch: 5/5... Step: 3600... Loss: 0.696753... Val Loss: 0.693686\n",
      "Epoch: 5/5... Step: 3700... Loss: 0.694044... Val Loss: 0.693101\n",
      "Epoch: 5/5... Step: 3800... Loss: 0.695429... Val Loss: 0.693323\n",
      "Epoch: 5/5... Step: 3900... Loss: 0.693202... Val Loss: 0.693151\n",
      "Epoch: 5/5... Step: 4000... Loss: 0.694820... Val Loss: 0.693633\n"
     ]
    }
   ],
   "source": [
    "epochs = 5\n",
    "counter = 0\n",
    "print_every = 100\n",
    "clip = 5\n",
    "valid_loss_min = np.Inf\n",
    "\n",
    "model.train()\n",
    "for i in range(epochs):\n",
    "    h = model.init_hidden(batch_size)\n",
    "    \n",
    "    for inputs, labels in train_loader:\n",
    "        counter += 1\n",
    "        h = tuple([e.data for e in h])\n",
    "        inputs, labels = inputs.to(device), labels.to(device)\n",
    "        model.zero_grad()\n",
    "        output, h = model(inputs, h)\n",
    "        loss = criterion(output, labels.float())\n",
    "        loss.backward()\n",
    "        #nn.utils.clip_grad_norm_(model.parameters(), clip)\n",
    "        optimizer.step()\n",
    "        if counter%print_every == 0:\n",
    "            val_h = model.init_hidden(batch_size)\n",
    "            val_losses = []\n",
    "            model.eval()\n",
    "            for inp, lab in test_loader:\n",
    "                val_h = tuple([each.data for each in val_h])\n",
    "                inp, lab = inp.to(device), lab.to(device)\n",
    "                out, val_h = model(inp, val_h)\n",
    "                val_loss = criterion(out, lab.float())\n",
    "                val_losses.append(val_loss.item())\n",
    "                \n",
    "            model.train()\n",
    "            print(\"Epoch: {}/{}...\".format(i+1, epochs),\n",
    "                  \"Step: {}...\".format(counter),\n",
    "                  \"Loss: {:.6f}...\".format(loss.item()),\n",
    "                  \"Val Loss: {:.6f}\".format(np.mean(val_losses)))\n",
    "            if np.mean(val_losses) <= valid_loss_min:\n",
    "                torch.save(model.state_dict(), './state_dict.pt')\n",
    "                print('Validation loss decreased ({:.6f} --> {:.6f}).  Saving model ...'.format(valid_loss_min,np.mean(val_losses)))\n",
    "                valid_loss_min = np.mean(val_losses)"
   ]
  },
  {
   "cell_type": "code",
   "execution_count": 15,
   "id": "4b613f14",
   "metadata": {
    "execution": {
     "iopub.execute_input": "2021-09-27T07:12:13.137251Z",
     "iopub.status.busy": "2021-09-27T07:12:13.136331Z",
     "iopub.status.idle": "2021-09-27T07:12:13.200729Z",
     "shell.execute_reply": "2021-09-27T07:12:13.200033Z",
     "shell.execute_reply.started": "2021-09-27T06:27:41.42034Z"
    },
    "papermill": {
     "duration": 0.105244,
     "end_time": "2021-09-27T07:12:13.200875",
     "exception": false,
     "start_time": "2021-09-27T07:12:13.095631",
     "status": "completed"
    },
    "tags": []
   },
   "outputs": [
    {
     "data": {
      "text/plain": [
       "tensor([0.5102], grad_fn=<SelectBackward>)"
      ]
     },
     "execution_count": 15,
     "metadata": {},
     "output_type": "execute_result"
    }
   ],
   "source": [
    "h = model.init_hidden(1)\n",
    "sentence = \"I love this movie because it is great\"\n",
    "trial = torch.tensor(pad_sequences(tokenizer.texts_to_sequences([sentence]), maxlen = maxlen)).to(device)\n",
    "\n",
    "\n",
    "model(trial, h)[0]"
   ]
  },
  {
   "cell_type": "code",
   "execution_count": 16,
   "id": "d75dc52a",
   "metadata": {
    "execution": {
     "iopub.execute_input": "2021-09-27T07:12:13.268196Z",
     "iopub.status.busy": "2021-09-27T07:12:13.267425Z",
     "iopub.status.idle": "2021-09-27T07:12:13.537027Z",
     "shell.execute_reply": "2021-09-27T07:12:13.536477Z"
    },
    "papermill": {
     "duration": 0.305919,
     "end_time": "2021-09-27T07:12:13.537236",
     "exception": false,
     "start_time": "2021-09-27T07:12:13.231317",
     "status": "completed"
    },
    "tags": []
   },
   "outputs": [
    {
     "name": "stderr",
     "output_type": "stream",
     "text": [
      "/opt/conda/lib/python3.7/site-packages/ipykernel_launcher.py:18: TracerWarning: Converting a tensor to a Python index might cause the trace to be incorrect. We can't record the data flow of Python values, so this value will be treated as a constant in the future. This means that the trace might not generalize to other inputs!\n",
      "/opt/conda/lib/python3.7/site-packages/torch/onnx/symbolic_opset9.py:1805: UserWarning: Exporting a model to ONNX with a batch_size other than 1, with a variable length with LSTM can cause an error when running the ONNX model with a different batch size. Make sure to save the model with a batch size of 1, or define the initial states (h0/c0) as inputs of the model. \n",
      "  \"or define the initial states (h0/c0) as inputs of the model. \")\n"
     ]
    }
   ],
   "source": [
    "import torch.onnx\n",
    "torch.onnx.export(model,               # model being run\n",
    "                  (trial, (torch.randn(16,1,64).to(device), torch.randn(16,1,64).to(device))),                   # model input (or a tuple for multiple inputs)\n",
    "                  \"lstm.onnx\")"
   ]
  }
 ],
 "metadata": {
  "kernelspec": {
   "display_name": "Python 3",
   "language": "python",
   "name": "python3"
  },
  "language_info": {
   "codemirror_mode": {
    "name": "ipython",
    "version": 3
   },
   "file_extension": ".py",
   "mimetype": "text/x-python",
   "name": "python",
   "nbconvert_exporter": "python",
   "pygments_lexer": "ipython3",
   "version": "3.7.10"
  },
  "papermill": {
   "default_parameters": {},
   "duration": 1764.498542,
   "end_time": "2021-09-27T07:12:15.687332",
   "environment_variables": {},
   "exception": null,
   "input_path": "__notebook__.ipynb",
   "output_path": "__notebook__.ipynb",
   "parameters": {},
   "start_time": "2021-09-27T06:42:51.188790",
   "version": "2.3.3"
  }
 },
 "nbformat": 4,
 "nbformat_minor": 5
}
