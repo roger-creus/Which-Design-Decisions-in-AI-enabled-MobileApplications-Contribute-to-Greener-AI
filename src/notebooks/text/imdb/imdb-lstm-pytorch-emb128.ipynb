{
 "cells": [
  {
   "cell_type": "markdown",
   "id": "49c9a4ca",
   "metadata": {
    "papermill": {
     "duration": 0.016824,
     "end_time": "2021-09-27T06:41:36.287569",
     "exception": false,
     "start_time": "2021-09-27T06:41:36.270745",
     "status": "completed"
    },
    "tags": []
   },
   "source": [
    "# Sentiment Analysis using LSTM"
   ]
  },
  {
   "cell_type": "code",
   "execution_count": 1,
   "id": "f8ead023",
   "metadata": {
    "execution": {
     "iopub.execute_input": "2021-09-27T06:41:36.340225Z",
     "iopub.status.busy": "2021-09-27T06:41:36.339541Z",
     "iopub.status.idle": "2021-09-27T06:41:44.758352Z",
     "shell.execute_reply": "2021-09-27T06:41:44.758958Z",
     "shell.execute_reply.started": "2021-09-27T06:27:16.305273Z"
    },
    "papermill": {
     "duration": 8.454755,
     "end_time": "2021-09-27T06:41:44.759293",
     "exception": false,
     "start_time": "2021-09-27T06:41:36.304538",
     "status": "completed"
    },
    "tags": []
   },
   "outputs": [],
   "source": [
    "import numpy as np\n",
    "import pandas as pd\n",
    "\n",
    "import matplotlib.pyplot as plt\n",
    "import seaborn as sns\n",
    "\n",
    "import re\n",
    "import string\n",
    "from collections import Counter\n",
    "from nltk.corpus import stopwords\n",
    "stop_words = set(stopwords.words('english'))\n",
    "\n",
    "from sklearn.model_selection import train_test_split\n",
    "\n",
    "import torch\n",
    "from torch.utils.data import DataLoader, TensorDataset\n",
    "import torch.nn as nn\n",
    "\n",
    "import pandas as pd\n",
    "import numpy as np\n",
    "import bz2\n",
    "import matplotlib.pyplot as plt\n",
    "import sklearn\n",
    "import tensorflow as tf\n",
    "from tensorflow.keras import models, layers, optimizers\n",
    "from tensorflow.keras.preprocessing.text import Tokenizer, text_to_word_sequence\n",
    "from tensorflow.keras.preprocessing.sequence import pad_sequences\n",
    "from sklearn.preprocessing import LabelEncoder\n",
    "\n",
    "%matplotlib inline"
   ]
  },
  {
   "cell_type": "code",
   "execution_count": 2,
   "id": "a5b4a800",
   "metadata": {
    "execution": {
     "iopub.execute_input": "2021-09-27T06:41:44.796153Z",
     "iopub.status.busy": "2021-09-27T06:41:44.795461Z",
     "iopub.status.idle": "2021-09-27T06:41:44.797330Z",
     "shell.execute_reply": "2021-09-27T06:41:44.797862Z",
     "shell.execute_reply.started": "2021-09-27T06:27:16.333073Z"
    },
    "papermill": {
     "duration": 0.022632,
     "end_time": "2021-09-27T06:41:44.798029",
     "exception": false,
     "start_time": "2021-09-27T06:41:44.775397",
     "status": "completed"
    },
    "tags": []
   },
   "outputs": [],
   "source": [
    "device = \"cpu\""
   ]
  },
  {
   "cell_type": "markdown",
   "id": "7d1c2761",
   "metadata": {
    "papermill": {
     "duration": 0.016142,
     "end_time": "2021-09-27T06:41:44.830334",
     "exception": false,
     "start_time": "2021-09-27T06:41:44.814192",
     "status": "completed"
    },
    "tags": []
   },
   "source": [
    "## 1) Load in and visualize the data"
   ]
  },
  {
   "cell_type": "code",
   "execution_count": 3,
   "id": "87e64a92",
   "metadata": {
    "execution": {
     "iopub.execute_input": "2021-09-27T06:41:44.866087Z",
     "iopub.status.busy": "2021-09-27T06:41:44.865380Z",
     "iopub.status.idle": "2021-09-27T06:41:46.315430Z",
     "shell.execute_reply": "2021-09-27T06:41:46.315945Z",
     "shell.execute_reply.started": "2021-09-27T06:27:16.350631Z"
    },
    "papermill": {
     "duration": 1.469403,
     "end_time": "2021-09-27T06:41:46.316114",
     "exception": false,
     "start_time": "2021-09-27T06:41:44.846711",
     "status": "completed"
    },
    "tags": []
   },
   "outputs": [
    {
     "data": {
      "text/html": [
       "<div>\n",
       "<style scoped>\n",
       "    .dataframe tbody tr th:only-of-type {\n",
       "        vertical-align: middle;\n",
       "    }\n",
       "\n",
       "    .dataframe tbody tr th {\n",
       "        vertical-align: top;\n",
       "    }\n",
       "\n",
       "    .dataframe thead th {\n",
       "        text-align: right;\n",
       "    }\n",
       "</style>\n",
       "<table border=\"1\" class=\"dataframe\">\n",
       "  <thead>\n",
       "    <tr style=\"text-align: right;\">\n",
       "      <th></th>\n",
       "      <th>review</th>\n",
       "      <th>sentiment</th>\n",
       "    </tr>\n",
       "  </thead>\n",
       "  <tbody>\n",
       "    <tr>\n",
       "      <th>0</th>\n",
       "      <td>One of the other reviewers has mentioned that ...</td>\n",
       "      <td>positive</td>\n",
       "    </tr>\n",
       "    <tr>\n",
       "      <th>1</th>\n",
       "      <td>A wonderful little production. &lt;br /&gt;&lt;br /&gt;The...</td>\n",
       "      <td>positive</td>\n",
       "    </tr>\n",
       "    <tr>\n",
       "      <th>2</th>\n",
       "      <td>I thought this was a wonderful way to spend ti...</td>\n",
       "      <td>positive</td>\n",
       "    </tr>\n",
       "    <tr>\n",
       "      <th>3</th>\n",
       "      <td>Basically there's a family where a little boy ...</td>\n",
       "      <td>negative</td>\n",
       "    </tr>\n",
       "    <tr>\n",
       "      <th>4</th>\n",
       "      <td>Petter Mattei's \"Love in the Time of Money\" is...</td>\n",
       "      <td>positive</td>\n",
       "    </tr>\n",
       "  </tbody>\n",
       "</table>\n",
       "</div>"
      ],
      "text/plain": [
       "                                              review sentiment\n",
       "0  One of the other reviewers has mentioned that ...  positive\n",
       "1  A wonderful little production. <br /><br />The...  positive\n",
       "2  I thought this was a wonderful way to spend ti...  positive\n",
       "3  Basically there's a family where a little boy ...  negative\n",
       "4  Petter Mattei's \"Love in the Time of Money\" is...  positive"
      ]
     },
     "execution_count": 3,
     "metadata": {},
     "output_type": "execute_result"
    }
   ],
   "source": [
    "df = pd.read_csv('../input/imdb-dataset-of-50k-movie-reviews/IMDB Dataset.csv')\n",
    "df.head()"
   ]
  },
  {
   "cell_type": "markdown",
   "id": "a401f7d7",
   "metadata": {
    "papermill": {
     "duration": 0.016637,
     "end_time": "2021-09-27T06:41:46.349679",
     "exception": false,
     "start_time": "2021-09-27T06:41:46.333042",
     "status": "completed"
    },
    "tags": []
   },
   "source": [
    "## 2) Data Processing — convert to lower case, Remove punctuation etc"
   ]
  },
  {
   "cell_type": "code",
   "execution_count": 4,
   "id": "676d9e48",
   "metadata": {
    "execution": {
     "iopub.execute_input": "2021-09-27T06:41:46.402755Z",
     "iopub.status.busy": "2021-09-27T06:41:46.397708Z",
     "iopub.status.idle": "2021-09-27T06:41:57.376890Z",
     "shell.execute_reply": "2021-09-27T06:41:57.377348Z",
     "shell.execute_reply.started": "2021-09-27T06:27:17.026836Z"
    },
    "papermill": {
     "duration": 11.011517,
     "end_time": "2021-09-27T06:41:57.377538",
     "exception": false,
     "start_time": "2021-09-27T06:41:46.366021",
     "status": "completed"
    },
    "tags": []
   },
   "outputs": [
    {
     "data": {
      "text/html": [
       "<div>\n",
       "<style scoped>\n",
       "    .dataframe tbody tr th:only-of-type {\n",
       "        vertical-align: middle;\n",
       "    }\n",
       "\n",
       "    .dataframe tbody tr th {\n",
       "        vertical-align: top;\n",
       "    }\n",
       "\n",
       "    .dataframe thead th {\n",
       "        text-align: right;\n",
       "    }\n",
       "</style>\n",
       "<table border=\"1\" class=\"dataframe\">\n",
       "  <thead>\n",
       "    <tr style=\"text-align: right;\">\n",
       "      <th></th>\n",
       "      <th>review</th>\n",
       "      <th>sentiment</th>\n",
       "      <th>cleaned_reviews</th>\n",
       "    </tr>\n",
       "  </thead>\n",
       "  <tbody>\n",
       "    <tr>\n",
       "      <th>0</th>\n",
       "      <td>One of the other reviewers has mentioned that ...</td>\n",
       "      <td>positive</td>\n",
       "      <td>one reviewers mentioned watching 1 oz episode ...</td>\n",
       "    </tr>\n",
       "    <tr>\n",
       "      <th>1</th>\n",
       "      <td>A wonderful little production. &lt;br /&gt;&lt;br /&gt;The...</td>\n",
       "      <td>positive</td>\n",
       "      <td>wonderful little production filming technique ...</td>\n",
       "    </tr>\n",
       "    <tr>\n",
       "      <th>2</th>\n",
       "      <td>I thought this was a wonderful way to spend ti...</td>\n",
       "      <td>positive</td>\n",
       "      <td>thought wonderful way spend time hot summer we...</td>\n",
       "    </tr>\n",
       "    <tr>\n",
       "      <th>3</th>\n",
       "      <td>Basically there's a family where a little boy ...</td>\n",
       "      <td>negative</td>\n",
       "      <td>basically theres family little boy jake thinks...</td>\n",
       "    </tr>\n",
       "    <tr>\n",
       "      <th>4</th>\n",
       "      <td>Petter Mattei's \"Love in the Time of Money\" is...</td>\n",
       "      <td>positive</td>\n",
       "      <td>petter matteis love time money visually stunni...</td>\n",
       "    </tr>\n",
       "  </tbody>\n",
       "</table>\n",
       "</div>"
      ],
      "text/plain": [
       "                                              review sentiment  \\\n",
       "0  One of the other reviewers has mentioned that ...  positive   \n",
       "1  A wonderful little production. <br /><br />The...  positive   \n",
       "2  I thought this was a wonderful way to spend ti...  positive   \n",
       "3  Basically there's a family where a little boy ...  negative   \n",
       "4  Petter Mattei's \"Love in the Time of Money\" is...  positive   \n",
       "\n",
       "                                     cleaned_reviews  \n",
       "0  one reviewers mentioned watching 1 oz episode ...  \n",
       "1  wonderful little production filming technique ...  \n",
       "2  thought wonderful way spend time hot summer we...  \n",
       "3  basically theres family little boy jake thinks...  \n",
       "4  petter matteis love time money visually stunni...  "
      ]
     },
     "execution_count": 4,
     "metadata": {},
     "output_type": "execute_result"
    }
   ],
   "source": [
    "def data_preprocessing(text):\n",
    "    text = text.lower()\n",
    "    text = re.sub('<.*?>', '', text) # Remove HTML from text\n",
    "    text = ''.join([c for c in text if c not in string.punctuation])# Remove punctuation\n",
    "    text = [word for word in text.split() if word not in stop_words]\n",
    "    text = ' '.join(text)\n",
    "    return text\n",
    "\n",
    "df['cleaned_reviews'] = df['review'].apply(data_preprocessing)\n",
    "df.head()"
   ]
  },
  {
   "cell_type": "markdown",
   "id": "15cd0cf0",
   "metadata": {
    "papermill": {
     "duration": 0.016505,
     "end_time": "2021-09-27T06:41:57.410959",
     "exception": false,
     "start_time": "2021-09-27T06:41:57.394454",
     "status": "completed"
    },
    "tags": []
   },
   "source": [
    "## 5) Tokenize — Create Vocab to Int mapping dictionary\n",
    "In most of the NLP tasks, you will create an index mapping dictionary in such a way that your frequently occurring words are assigned lower indexes. One of the most common way of doing this is to use Counter method from Collections library."
   ]
  },
  {
   "cell_type": "code",
   "execution_count": 5,
   "id": "eddb4b29",
   "metadata": {
    "execution": {
     "iopub.execute_input": "2021-09-27T06:41:57.463547Z",
     "iopub.status.busy": "2021-09-27T06:41:57.458291Z",
     "iopub.status.idle": "2021-09-27T06:42:05.028567Z",
     "shell.execute_reply": "2021-09-27T06:42:05.027869Z",
     "shell.execute_reply.started": "2021-09-27T06:27:27.947573Z"
    },
    "papermill": {
     "duration": 7.600908,
     "end_time": "2021-09-27T06:42:05.028723",
     "exception": false,
     "start_time": "2021-09-27T06:41:57.427815",
     "status": "completed"
    },
    "tags": []
   },
   "outputs": [
    {
     "name": "stdout",
     "output_type": "stream",
     "text": [
      "Vocabulary Size : 222610\n"
     ]
    }
   ],
   "source": [
    "max_features = 8192\n",
    "maxlen = 30\n",
    "\n",
    "tokenizer = Tokenizer(num_words=max_features)\n",
    "tokenizer.fit_on_texts(df['cleaned_reviews'])\n",
    "\n",
    "word_index = tokenizer.word_index\n",
    "vocab_size = len(tokenizer.word_index) + 1\n",
    "print(\"Vocabulary Size :\", vocab_size)"
   ]
  },
  {
   "cell_type": "code",
   "execution_count": 6,
   "id": "aa075f0b",
   "metadata": {
    "execution": {
     "iopub.execute_input": "2021-09-27T06:42:05.103783Z",
     "iopub.status.busy": "2021-09-27T06:42:05.077930Z",
     "iopub.status.idle": "2021-09-27T06:42:10.723199Z",
     "shell.execute_reply": "2021-09-27T06:42:10.722614Z",
     "shell.execute_reply.started": "2021-09-27T06:27:35.341648Z"
    },
    "papermill": {
     "duration": 5.676383,
     "end_time": "2021-09-27T06:42:10.723349",
     "exception": false,
     "start_time": "2021-09-27T06:42:05.046966",
     "status": "completed"
    },
    "tags": []
   },
   "outputs": [],
   "source": [
    "training_token = tokenizer.texts_to_sequences(df['cleaned_reviews'])\n",
    "x_data = pad_sequences(training_token, maxlen = maxlen, padding = 'post')"
   ]
  },
  {
   "cell_type": "code",
   "execution_count": 7,
   "id": "1e7ab3e9",
   "metadata": {
    "execution": {
     "iopub.execute_input": "2021-09-27T06:42:10.787819Z",
     "iopub.status.busy": "2021-09-27T06:42:10.775642Z",
     "iopub.status.idle": "2021-09-27T06:42:10.824794Z",
     "shell.execute_reply": "2021-09-27T06:42:10.825287Z",
     "shell.execute_reply.started": "2021-09-27T06:27:41.190485Z"
    },
    "papermill": {
     "duration": 0.082386,
     "end_time": "2021-09-27T06:42:10.825476",
     "exception": false,
     "start_time": "2021-09-27T06:42:10.743090",
     "status": "completed"
    },
    "tags": []
   },
   "outputs": [],
   "source": [
    "y_data = df['sentiment'].apply(lambda x: 1 if x == 'positive' else 0)"
   ]
  },
  {
   "cell_type": "code",
   "execution_count": 8,
   "id": "881a33c3",
   "metadata": {
    "execution": {
     "iopub.execute_input": "2021-09-27T06:42:10.874637Z",
     "iopub.status.busy": "2021-09-27T06:42:10.873859Z",
     "iopub.status.idle": "2021-09-27T06:42:10.888730Z",
     "shell.execute_reply": "2021-09-27T06:42:10.887585Z",
     "shell.execute_reply.started": "2021-09-27T06:27:41.232067Z"
    },
    "papermill": {
     "duration": 0.040652,
     "end_time": "2021-09-27T06:42:10.888889",
     "exception": false,
     "start_time": "2021-09-27T06:42:10.848237",
     "status": "completed"
    },
    "tags": []
   },
   "outputs": [],
   "source": [
    "X_train, X_remain, y_train, y_remain = train_test_split(x_data, y_data, test_size=0.2, random_state=1)\n",
    "X_valid, X_test, y_valid, y_test = train_test_split(X_remain, y_remain, test_size=0.5, random_state=1)"
   ]
  },
  {
   "cell_type": "code",
   "execution_count": 9,
   "id": "e5086491",
   "metadata": {
    "execution": {
     "iopub.execute_input": "2021-09-27T06:42:10.933683Z",
     "iopub.status.busy": "2021-09-27T06:42:10.932343Z",
     "iopub.status.idle": "2021-09-27T06:42:10.950979Z",
     "shell.execute_reply": "2021-09-27T06:42:10.950375Z",
     "shell.execute_reply.started": "2021-09-27T06:27:41.252887Z"
    },
    "papermill": {
     "duration": 0.044194,
     "end_time": "2021-09-27T06:42:10.951123",
     "exception": false,
     "start_time": "2021-09-27T06:42:10.906929",
     "status": "completed"
    },
    "tags": []
   },
   "outputs": [],
   "source": [
    "# create tensor dataset\n",
    "train_data = TensorDataset(torch.from_numpy(X_train.astype('float64')), torch.from_numpy(np.array(y_train).astype('float64')))\n",
    "test_data = TensorDataset(torch.from_numpy(X_test), torch.from_numpy(np.array(y_test).astype('float64')))\n",
    "valid_data = TensorDataset(torch.from_numpy(X_valid), torch.from_numpy(np.array(y_valid).astype('float64')))\n",
    "\n",
    "# dataloaders\n",
    "batch_size = 50\n",
    "\n",
    "train_loader = DataLoader(train_data, shuffle=True, batch_size=batch_size)\n",
    "test_loader = DataLoader(test_data, shuffle=True, batch_size=batch_size)\n",
    "valid_loader = DataLoader(valid_data, shuffle=True, batch_size=batch_size)"
   ]
  },
  {
   "cell_type": "code",
   "execution_count": 10,
   "id": "a4b53bba",
   "metadata": {
    "execution": {
     "iopub.execute_input": "2021-09-27T06:42:10.989181Z",
     "iopub.status.busy": "2021-09-27T06:42:10.988530Z",
     "iopub.status.idle": "2021-09-27T06:42:11.078597Z",
     "shell.execute_reply": "2021-09-27T06:42:11.077895Z",
     "shell.execute_reply.started": "2021-09-27T06:27:41.266351Z"
    },
    "papermill": {
     "duration": 0.110429,
     "end_time": "2021-09-27T06:42:11.078746",
     "exception": false,
     "start_time": "2021-09-27T06:42:10.968317",
     "status": "completed"
    },
    "tags": []
   },
   "outputs": [
    {
     "name": "stdout",
     "output_type": "stream",
     "text": [
      "Sample input size:  torch.Size([50, 30])\n",
      "Sample input: \n",
      " tensor([[6.5100e+02, 1.3000e+01, 3.1100e+02,  ..., 1.0160e+03, 2.2000e+01,\n",
      "         1.3100e+02],\n",
      "        [1.8000e+01, 3.0100e+02, 3.0000e+00,  ..., 9.3000e+01, 6.9900e+03,\n",
      "         1.0650e+03],\n",
      "        [1.9000e+01, 2.3900e+02, 4.4600e+02,  ..., 6.1000e+02, 1.0200e+02,\n",
      "         7.0400e+02],\n",
      "        ...,\n",
      "        [1.9200e+02, 2.6000e+01, 1.2000e+01,  ..., 1.0000e+00, 6.8000e+01,\n",
      "         7.0000e+01],\n",
      "        [3.9300e+02, 2.2470e+03, 1.3160e+03,  ..., 1.0000e+01, 5.4000e+01,\n",
      "         5.7000e+01],\n",
      "        [9.4600e+02, 3.5000e+01, 1.1000e+01,  ..., 2.0000e+00, 8.6000e+01,\n",
      "         7.4800e+02]], dtype=torch.float64)\n",
      "Sample input: \n",
      " tensor([0., 0., 0., 0., 1., 1., 1., 1., 0., 1., 0., 1., 0., 0., 1., 1., 1., 0.,\n",
      "        1., 1., 1., 1., 0., 1., 0., 1., 1., 1., 1., 0., 0., 1., 0., 0., 0., 0.,\n",
      "        0., 0., 1., 1., 0., 0., 1., 1., 0., 1., 0., 0., 1., 1.],\n",
      "       dtype=torch.float64)\n"
     ]
    }
   ],
   "source": [
    "# obtain one batch of training data\n",
    "dataiter = iter(train_loader)\n",
    "sample_x, sample_y = dataiter.next()\n",
    "\n",
    "print('Sample input size: ', sample_x.size()) # batch_size, seq_length\n",
    "print('Sample input: \\n', sample_x)\n",
    "print('Sample input: \\n', sample_y)"
   ]
  },
  {
   "cell_type": "code",
   "execution_count": 11,
   "id": "22cd7f23",
   "metadata": {
    "execution": {
     "iopub.execute_input": "2021-09-27T06:42:11.128651Z",
     "iopub.status.busy": "2021-09-27T06:42:11.127608Z",
     "iopub.status.idle": "2021-09-27T06:42:11.130802Z",
     "shell.execute_reply": "2021-09-27T06:42:11.130260Z",
     "shell.execute_reply.started": "2021-09-27T06:27:41.28962Z"
    },
    "papermill": {
     "duration": 0.03385,
     "end_time": "2021-09-27T06:42:11.130947",
     "exception": false,
     "start_time": "2021-09-27T06:42:11.097097",
     "status": "completed"
    },
    "tags": []
   },
   "outputs": [],
   "source": [
    "class SentimentNet(nn.Module):\n",
    "    def __init__(self, vocab_size, output_size, embedding_dim, hidden_dim, n_layers, drop_prob=0.5):\n",
    "        super(SentimentNet, self).__init__()\n",
    "        self.output_size = output_size\n",
    "        self.n_layers = n_layers\n",
    "        self.hidden_dim = hidden_dim\n",
    "        \n",
    "        \n",
    "        self.embedding = nn.Embedding(vocab_size, embedding_dim)\n",
    "        #self.conv = nn.Conv1d(embedding_dim, 8, kernel_size=5)\n",
    "        self.lstm = nn.LSTM(embedding_dim, hidden_dim, n_layers, dropout=drop_prob, batch_first=True)\n",
    "        #self.gru = nn.GRU(embedding_dim, hidden_dim, n_layers, dropout=drop_prob, batch_first=True)\n",
    "        self.dropout = nn.Dropout(drop_prob)\n",
    "        self.fc = nn.Linear(hidden_dim, output_size)\n",
    "        self.sigmoid = nn.Sigmoid()\n",
    "        \n",
    "    def forward(self, x, hidden):\n",
    "        if len(x) != 1:\n",
    "            batch_size = x.size(0)\n",
    "        else:\n",
    "            batch_size = 1\n",
    "        \n",
    "        x = x.long()\n",
    "        embeds = self.embedding(x)\n",
    "\n",
    "        #conv = self.conv(x)\n",
    "        \n",
    "        lstm_out, hidden = self.lstm(embeds, hidden)\n",
    "        lstm_out = lstm_out.contiguous().view(-1, self.hidden_dim)\n",
    "        \n",
    "        out = self.dropout(lstm_out)\n",
    "        out = self.fc(out)\n",
    "        out = self.sigmoid(out)\n",
    "        \n",
    "        out = out.view(batch_size, -1)\n",
    "        out = out[:,-1]\n",
    "        return out, hidden\n",
    "    \n",
    "    def init_hidden(self, batch_size):\n",
    "        weight = next(self.parameters()).data\n",
    "        #hidden = (weight.new(self.n_layers, batch_size, self.hidden_dim).zero_().to(device),weight.new(self.n_layers, batch_size, self.hidden_dim).zero_().to(device))\n",
    "        hidden = (weight.new(self.n_layers, batch_size, self.hidden_dim).zero_(),\n",
    "                     weight.new(self.n_layers, batch_size, self.hidden_dim).zero_())\n",
    "        return hidden"
   ]
  },
  {
   "cell_type": "code",
   "execution_count": 12,
   "id": "f6595c36",
   "metadata": {
    "execution": {
     "iopub.execute_input": "2021-09-27T06:42:11.171520Z",
     "iopub.status.busy": "2021-09-27T06:42:11.170847Z",
     "iopub.status.idle": "2021-09-27T06:42:11.172803Z",
     "shell.execute_reply": "2021-09-27T06:42:11.173278Z",
     "shell.execute_reply.started": "2021-09-27T06:27:41.304138Z"
    },
    "papermill": {
     "duration": 0.024986,
     "end_time": "2021-09-27T06:42:11.173453",
     "exception": false,
     "start_time": "2021-09-27T06:42:11.148467",
     "status": "completed"
    },
    "tags": []
   },
   "outputs": [],
   "source": [
    "def model_params(model):\n",
    "    pp=0\n",
    "    for p in list(model.parameters()):\n",
    "        nn=1\n",
    "        for s in list(p.size()):\n",
    "            nn = nn*s\n",
    "        pp += nn\n",
    "    return pp"
   ]
  },
  {
   "cell_type": "code",
   "execution_count": 13,
   "id": "d2babc7a",
   "metadata": {
    "execution": {
     "iopub.execute_input": "2021-09-27T06:42:11.212058Z",
     "iopub.status.busy": "2021-09-27T06:42:11.211400Z",
     "iopub.status.idle": "2021-09-27T06:42:11.597857Z",
     "shell.execute_reply": "2021-09-27T06:42:11.596937Z",
     "shell.execute_reply.started": "2021-09-27T06:27:41.32013Z"
    },
    "papermill": {
     "duration": 0.406707,
     "end_time": "2021-09-27T06:42:11.598054",
     "exception": false,
     "start_time": "2021-09-27T06:42:11.191347",
     "status": "completed"
    },
    "tags": []
   },
   "outputs": [
    {
     "name": "stdout",
     "output_type": "stream",
     "text": [
      "28496229\n"
     ]
    },
    {
     "name": "stderr",
     "output_type": "stream",
     "text": [
      "/opt/conda/lib/python3.7/site-packages/torch/nn/modules/rnn.py:61: UserWarning: dropout option adds dropout after all but last recurrent layer, so non-zero dropout expects num_layers greater than 1, but got dropout=0.5 and num_layers=1\n",
      "  \"num_layers={}\".format(dropout, num_layers))\n"
     ]
    }
   ],
   "source": [
    "output_size = 1\n",
    "embedding_dim = 128\n",
    "hidden_dim = 4\n",
    "n_layers = 1\n",
    "\n",
    "model = SentimentNet(vocab_size, output_size, embedding_dim, hidden_dim, n_layers)\n",
    "print(model_params(model))\n",
    "model.to(device)\n",
    "lr=0.008\n",
    "criterion = nn.BCELoss()\n",
    "optimizer = torch.optim.Adam(model.parameters(), lr=lr)"
   ]
  },
  {
   "cell_type": "code",
   "execution_count": 14,
   "id": "7ec734bc",
   "metadata": {
    "execution": {
     "iopub.execute_input": "2021-09-27T06:42:11.648087Z",
     "iopub.status.busy": "2021-09-27T06:42:11.647104Z",
     "iopub.status.idle": "2021-09-27T07:01:28.653952Z",
     "shell.execute_reply": "2021-09-27T07:01:28.654604Z",
     "shell.execute_reply.started": "2021-09-27T06:27:41.364585Z"
    },
    "papermill": {
     "duration": 1157.038195,
     "end_time": "2021-09-27T07:01:28.655013",
     "exception": false,
     "start_time": "2021-09-27T06:42:11.616818",
     "status": "completed"
    },
    "tags": []
   },
   "outputs": [
    {
     "name": "stdout",
     "output_type": "stream",
     "text": [
      "Epoch: 1/5... Step: 100... Loss: 0.671239... Val Loss: 0.678791\n",
      "Validation loss decreased (inf --> 0.678791).  Saving model ...\n",
      "Epoch: 1/5... Step: 200... Loss: 0.664920... Val Loss: 0.664685\n",
      "Validation loss decreased (0.678791 --> 0.664685).  Saving model ...\n",
      "Epoch: 1/5... Step: 300... Loss: 0.669260... Val Loss: 0.653128\n",
      "Validation loss decreased (0.664685 --> 0.653128).  Saving model ...\n",
      "Epoch: 1/5... Step: 400... Loss: 0.692521... Val Loss: 0.639442\n",
      "Validation loss decreased (0.653128 --> 0.639442).  Saving model ...\n",
      "Epoch: 1/5... Step: 500... Loss: 0.627371... Val Loss: 0.633931\n",
      "Validation loss decreased (0.639442 --> 0.633931).  Saving model ...\n",
      "Epoch: 1/5... Step: 600... Loss: 0.712096... Val Loss: 0.619480\n",
      "Validation loss decreased (0.633931 --> 0.619480).  Saving model ...\n",
      "Epoch: 1/5... Step: 700... Loss: 0.607231... Val Loss: 0.603147\n",
      "Validation loss decreased (0.619480 --> 0.603147).  Saving model ...\n",
      "Epoch: 1/5... Step: 800... Loss: 0.612670... Val Loss: 0.594134\n",
      "Validation loss decreased (0.603147 --> 0.594134).  Saving model ...\n",
      "Epoch: 2/5... Step: 900... Loss: 0.558972... Val Loss: 0.568192\n",
      "Validation loss decreased (0.594134 --> 0.568192).  Saving model ...\n",
      "Epoch: 2/5... Step: 1000... Loss: 0.599148... Val Loss: 0.570638\n",
      "Epoch: 2/5... Step: 1100... Loss: 0.644289... Val Loss: 0.575779\n",
      "Epoch: 2/5... Step: 1200... Loss: 0.710847... Val Loss: 0.562450\n",
      "Validation loss decreased (0.568192 --> 0.562450).  Saving model ...\n",
      "Epoch: 2/5... Step: 1300... Loss: 0.550888... Val Loss: 0.556738\n",
      "Validation loss decreased (0.562450 --> 0.556738).  Saving model ...\n",
      "Epoch: 2/5... Step: 1400... Loss: 0.758269... Val Loss: 0.558746\n",
      "Epoch: 2/5... Step: 1500... Loss: 0.597733... Val Loss: 0.554815\n",
      "Validation loss decreased (0.556738 --> 0.554815).  Saving model ...\n",
      "Epoch: 2/5... Step: 1600... Loss: 0.637604... Val Loss: 0.551547\n",
      "Validation loss decreased (0.554815 --> 0.551547).  Saving model ...\n",
      "Epoch: 3/5... Step: 1700... Loss: 0.522387... Val Loss: 0.539526\n",
      "Validation loss decreased (0.551547 --> 0.539526).  Saving model ...\n",
      "Epoch: 3/5... Step: 1800... Loss: 0.561848... Val Loss: 0.542518\n",
      "Epoch: 3/5... Step: 1900... Loss: 0.494893... Val Loss: 0.537225\n",
      "Validation loss decreased (0.539526 --> 0.537225).  Saving model ...\n",
      "Epoch: 3/5... Step: 2000... Loss: 0.536242... Val Loss: 0.531723\n",
      "Validation loss decreased (0.537225 --> 0.531723).  Saving model ...\n",
      "Epoch: 3/5... Step: 2100... Loss: 0.471654... Val Loss: 0.530994\n",
      "Validation loss decreased (0.531723 --> 0.530994).  Saving model ...\n",
      "Epoch: 3/5... Step: 2200... Loss: 0.488758... Val Loss: 0.527324\n",
      "Validation loss decreased (0.530994 --> 0.527324).  Saving model ...\n",
      "Epoch: 3/5... Step: 2300... Loss: 0.567078... Val Loss: 0.529816\n",
      "Epoch: 3/5... Step: 2400... Loss: 0.397062... Val Loss: 0.522208\n",
      "Validation loss decreased (0.527324 --> 0.522208).  Saving model ...\n",
      "Epoch: 4/5... Step: 2500... Loss: 0.545968... Val Loss: 0.521610\n",
      "Validation loss decreased (0.522208 --> 0.521610).  Saving model ...\n",
      "Epoch: 4/5... Step: 2600... Loss: 0.482825... Val Loss: 0.529309\n",
      "Epoch: 4/5... Step: 2700... Loss: 0.462597... Val Loss: 0.527579\n",
      "Epoch: 4/5... Step: 2800... Loss: 0.671935... Val Loss: 0.522137\n",
      "Epoch: 4/5... Step: 2900... Loss: 0.462860... Val Loss: 0.527512\n",
      "Epoch: 4/5... Step: 3000... Loss: 0.579653... Val Loss: 0.523672\n",
      "Epoch: 4/5... Step: 3100... Loss: 0.528514... Val Loss: 0.531408\n",
      "Epoch: 4/5... Step: 3200... Loss: 0.681029... Val Loss: 0.524932\n",
      "Epoch: 5/5... Step: 3300... Loss: 0.608713... Val Loss: 0.518332\n",
      "Validation loss decreased (0.521610 --> 0.518332).  Saving model ...\n",
      "Epoch: 5/5... Step: 3400... Loss: 0.539873... Val Loss: 0.519531\n",
      "Epoch: 5/5... Step: 3500... Loss: 0.625236... Val Loss: 0.517992\n",
      "Validation loss decreased (0.518332 --> 0.517992).  Saving model ...\n",
      "Epoch: 5/5... Step: 3600... Loss: 0.631516... Val Loss: 0.517226\n",
      "Validation loss decreased (0.517992 --> 0.517226).  Saving model ...\n",
      "Epoch: 5/5... Step: 3700... Loss: 0.615995... Val Loss: 0.516396\n",
      "Validation loss decreased (0.517226 --> 0.516396).  Saving model ...\n",
      "Epoch: 5/5... Step: 3800... Loss: 0.634220... Val Loss: 0.515252\n",
      "Validation loss decreased (0.516396 --> 0.515252).  Saving model ...\n",
      "Epoch: 5/5... Step: 3900... Loss: 0.550024... Val Loss: 0.515099\n",
      "Validation loss decreased (0.515252 --> 0.515099).  Saving model ...\n",
      "Epoch: 5/5... Step: 4000... Loss: 0.523806... Val Loss: 0.516040\n"
     ]
    }
   ],
   "source": [
    "epochs = 5\n",
    "counter = 0\n",
    "print_every = 100\n",
    "clip = 5\n",
    "valid_loss_min = np.Inf\n",
    "\n",
    "model.train()\n",
    "for i in range(epochs):\n",
    "    h = model.init_hidden(batch_size)\n",
    "    \n",
    "    for inputs, labels in train_loader:\n",
    "        counter += 1\n",
    "        h = tuple([e.data for e in h])\n",
    "        inputs, labels = inputs.to(device), labels.to(device)\n",
    "        model.zero_grad()\n",
    "        output, h = model(inputs, h)\n",
    "        loss = criterion(output, labels.float())\n",
    "        loss.backward()\n",
    "        #nn.utils.clip_grad_norm_(model.parameters(), clip)\n",
    "        optimizer.step()\n",
    "        if counter%print_every == 0:\n",
    "            val_h = model.init_hidden(batch_size)\n",
    "            val_losses = []\n",
    "            model.eval()\n",
    "            for inp, lab in test_loader:\n",
    "                val_h = tuple([each.data for each in val_h])\n",
    "                inp, lab = inp.to(device), lab.to(device)\n",
    "                out, val_h = model(inp, val_h)\n",
    "                val_loss = criterion(out, lab.float())\n",
    "                val_losses.append(val_loss.item())\n",
    "                \n",
    "            model.train()\n",
    "            print(\"Epoch: {}/{}...\".format(i+1, epochs),\n",
    "                  \"Step: {}...\".format(counter),\n",
    "                  \"Loss: {:.6f}...\".format(loss.item()),\n",
    "                  \"Val Loss: {:.6f}\".format(np.mean(val_losses)))\n",
    "            if np.mean(val_losses) <= valid_loss_min:\n",
    "                torch.save(model.state_dict(), './state_dict.pt')\n",
    "                print('Validation loss decreased ({:.6f} --> {:.6f}).  Saving model ...'.format(valid_loss_min,np.mean(val_losses)))\n",
    "                valid_loss_min = np.mean(val_losses)"
   ]
  },
  {
   "cell_type": "code",
   "execution_count": 15,
   "id": "089d655d",
   "metadata": {
    "execution": {
     "iopub.execute_input": "2021-09-27T07:01:28.739874Z",
     "iopub.status.busy": "2021-09-27T07:01:28.739188Z",
     "iopub.status.idle": "2021-09-27T07:01:28.753662Z",
     "shell.execute_reply": "2021-09-27T07:01:28.754193Z",
     "shell.execute_reply.started": "2021-09-27T06:27:41.42034Z"
    },
    "papermill": {
     "duration": 0.061573,
     "end_time": "2021-09-27T07:01:28.754365",
     "exception": false,
     "start_time": "2021-09-27T07:01:28.692792",
     "status": "completed"
    },
    "tags": []
   },
   "outputs": [
    {
     "data": {
      "text/plain": [
       "tensor([0.8816], grad_fn=<SelectBackward>)"
      ]
     },
     "execution_count": 15,
     "metadata": {},
     "output_type": "execute_result"
    }
   ],
   "source": [
    "h = model.init_hidden(1)\n",
    "sentence = \"I love this movie because it is great\"\n",
    "trial = torch.tensor(pad_sequences(tokenizer.texts_to_sequences([sentence]), maxlen = maxlen)).to(device)\n",
    "\n",
    "\n",
    "model(trial, h)[0]"
   ]
  },
  {
   "cell_type": "code",
   "execution_count": 16,
   "id": "4c7a8a7b",
   "metadata": {
    "execution": {
     "iopub.execute_input": "2021-09-27T07:01:28.837942Z",
     "iopub.status.busy": "2021-09-27T07:01:28.837209Z",
     "iopub.status.idle": "2021-09-27T07:01:29.788983Z",
     "shell.execute_reply": "2021-09-27T07:01:29.788249Z"
    },
    "papermill": {
     "duration": 0.996308,
     "end_time": "2021-09-27T07:01:29.789129",
     "exception": false,
     "start_time": "2021-09-27T07:01:28.792821",
     "status": "completed"
    },
    "tags": []
   },
   "outputs": [
    {
     "name": "stderr",
     "output_type": "stream",
     "text": [
      "/opt/conda/lib/python3.7/site-packages/ipykernel_launcher.py:18: TracerWarning: Converting a tensor to a Python index might cause the trace to be incorrect. We can't record the data flow of Python values, so this value will be treated as a constant in the future. This means that the trace might not generalize to other inputs!\n",
      "/opt/conda/lib/python3.7/site-packages/torch/onnx/symbolic_opset9.py:1805: UserWarning: Exporting a model to ONNX with a batch_size other than 1, with a variable length with LSTM can cause an error when running the ONNX model with a different batch size. Make sure to save the model with a batch size of 1, or define the initial states (h0/c0) as inputs of the model. \n",
      "  \"or define the initial states (h0/c0) as inputs of the model. \")\n"
     ]
    }
   ],
   "source": [
    "import torch.onnx\n",
    "torch.onnx.export(model,               # model being run\n",
    "                  (trial, (torch.randn(1,1,4).to(device), torch.randn(1,1,4).to(device))),                   # model input (or a tuple for multiple inputs)\n",
    "                  \"lstm.onnx\")"
   ]
  }
 ],
 "metadata": {
  "kernelspec": {
   "display_name": "Python 3",
   "language": "python",
   "name": "python3"
  },
  "language_info": {
   "codemirror_mode": {
    "name": "ipython",
    "version": 3
   },
   "file_extension": ".py",
   "mimetype": "text/x-python",
   "name": "python",
   "nbconvert_exporter": "python",
   "pygments_lexer": "ipython3",
   "version": "3.7.10"
  },
  "papermill": {
   "default_parameters": {},
   "duration": 1204.351458,
   "end_time": "2021-09-27T07:01:32.420787",
   "environment_variables": {},
   "exception": null,
   "input_path": "__notebook__.ipynb",
   "output_path": "__notebook__.ipynb",
   "parameters": {},
   "start_time": "2021-09-27T06:41:28.069329",
   "version": "2.3.3"
  }
 },
 "nbformat": 4,
 "nbformat_minor": 5
}
