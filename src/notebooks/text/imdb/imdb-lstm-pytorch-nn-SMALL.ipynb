{
 "cells": [
  {
   "cell_type": "markdown",
   "id": "c6853527",
   "metadata": {
    "papermill": {
     "duration": 0.017768,
     "end_time": "2021-09-27T06:42:04.442508",
     "exception": false,
     "start_time": "2021-09-27T06:42:04.424740",
     "status": "completed"
    },
    "tags": []
   },
   "source": [
    "# Sentiment Analysis using LSTM"
   ]
  },
  {
   "cell_type": "code",
   "execution_count": 1,
   "id": "0c2a75d2",
   "metadata": {
    "execution": {
     "iopub.execute_input": "2021-09-27T06:42:04.489475Z",
     "iopub.status.busy": "2021-09-27T06:42:04.484003Z",
     "iopub.status.idle": "2021-09-27T06:42:13.660020Z",
     "shell.execute_reply": "2021-09-27T06:42:13.659316Z",
     "shell.execute_reply.started": "2021-09-27T06:27:16.305273Z"
    },
    "papermill": {
     "duration": 9.200903,
     "end_time": "2021-09-27T06:42:13.660202",
     "exception": false,
     "start_time": "2021-09-27T06:42:04.459299",
     "status": "completed"
    },
    "tags": []
   },
   "outputs": [],
   "source": [
    "import numpy as np\n",
    "import pandas as pd\n",
    "\n",
    "import matplotlib.pyplot as plt\n",
    "import seaborn as sns\n",
    "\n",
    "import re\n",
    "import string\n",
    "from collections import Counter\n",
    "from nltk.corpus import stopwords\n",
    "stop_words = set(stopwords.words('english'))\n",
    "\n",
    "from sklearn.model_selection import train_test_split\n",
    "\n",
    "import torch\n",
    "from torch.utils.data import DataLoader, TensorDataset\n",
    "import torch.nn as nn\n",
    "\n",
    "import pandas as pd\n",
    "import numpy as np\n",
    "import bz2\n",
    "import matplotlib.pyplot as plt\n",
    "import sklearn\n",
    "import tensorflow as tf\n",
    "from tensorflow.keras import models, layers, optimizers\n",
    "from tensorflow.keras.preprocessing.text import Tokenizer, text_to_word_sequence\n",
    "from tensorflow.keras.preprocessing.sequence import pad_sequences\n",
    "from sklearn.preprocessing import LabelEncoder\n",
    "\n",
    "%matplotlib inline"
   ]
  },
  {
   "cell_type": "code",
   "execution_count": 2,
   "id": "351b49dd",
   "metadata": {
    "execution": {
     "iopub.execute_input": "2021-09-27T06:42:13.697936Z",
     "iopub.status.busy": "2021-09-27T06:42:13.697245Z",
     "iopub.status.idle": "2021-09-27T06:42:13.700174Z",
     "shell.execute_reply": "2021-09-27T06:42:13.699621Z",
     "shell.execute_reply.started": "2021-09-27T06:27:16.333073Z"
    },
    "papermill": {
     "duration": 0.023845,
     "end_time": "2021-09-27T06:42:13.700321",
     "exception": false,
     "start_time": "2021-09-27T06:42:13.676476",
     "status": "completed"
    },
    "tags": []
   },
   "outputs": [],
   "source": [
    "device = \"cpu\""
   ]
  },
  {
   "cell_type": "markdown",
   "id": "6ec06cf2",
   "metadata": {
    "papermill": {
     "duration": 0.016249,
     "end_time": "2021-09-27T06:42:13.732974",
     "exception": false,
     "start_time": "2021-09-27T06:42:13.716725",
     "status": "completed"
    },
    "tags": []
   },
   "source": [
    "## 1) Load in and visualize the data"
   ]
  },
  {
   "cell_type": "code",
   "execution_count": 3,
   "id": "cc8c77f8",
   "metadata": {
    "execution": {
     "iopub.execute_input": "2021-09-27T06:42:13.769196Z",
     "iopub.status.busy": "2021-09-27T06:42:13.768533Z",
     "iopub.status.idle": "2021-09-27T06:42:15.703269Z",
     "shell.execute_reply": "2021-09-27T06:42:15.702701Z",
     "shell.execute_reply.started": "2021-09-27T06:27:16.350631Z"
    },
    "papermill": {
     "duration": 1.953528,
     "end_time": "2021-09-27T06:42:15.703443",
     "exception": false,
     "start_time": "2021-09-27T06:42:13.749915",
     "status": "completed"
    },
    "tags": []
   },
   "outputs": [
    {
     "data": {
      "text/html": [
       "<div>\n",
       "<style scoped>\n",
       "    .dataframe tbody tr th:only-of-type {\n",
       "        vertical-align: middle;\n",
       "    }\n",
       "\n",
       "    .dataframe tbody tr th {\n",
       "        vertical-align: top;\n",
       "    }\n",
       "\n",
       "    .dataframe thead th {\n",
       "        text-align: right;\n",
       "    }\n",
       "</style>\n",
       "<table border=\"1\" class=\"dataframe\">\n",
       "  <thead>\n",
       "    <tr style=\"text-align: right;\">\n",
       "      <th></th>\n",
       "      <th>review</th>\n",
       "      <th>sentiment</th>\n",
       "    </tr>\n",
       "  </thead>\n",
       "  <tbody>\n",
       "    <tr>\n",
       "      <th>0</th>\n",
       "      <td>One of the other reviewers has mentioned that ...</td>\n",
       "      <td>positive</td>\n",
       "    </tr>\n",
       "    <tr>\n",
       "      <th>1</th>\n",
       "      <td>A wonderful little production. &lt;br /&gt;&lt;br /&gt;The...</td>\n",
       "      <td>positive</td>\n",
       "    </tr>\n",
       "    <tr>\n",
       "      <th>2</th>\n",
       "      <td>I thought this was a wonderful way to spend ti...</td>\n",
       "      <td>positive</td>\n",
       "    </tr>\n",
       "    <tr>\n",
       "      <th>3</th>\n",
       "      <td>Basically there's a family where a little boy ...</td>\n",
       "      <td>negative</td>\n",
       "    </tr>\n",
       "    <tr>\n",
       "      <th>4</th>\n",
       "      <td>Petter Mattei's \"Love in the Time of Money\" is...</td>\n",
       "      <td>positive</td>\n",
       "    </tr>\n",
       "  </tbody>\n",
       "</table>\n",
       "</div>"
      ],
      "text/plain": [
       "                                              review sentiment\n",
       "0  One of the other reviewers has mentioned that ...  positive\n",
       "1  A wonderful little production. <br /><br />The...  positive\n",
       "2  I thought this was a wonderful way to spend ti...  positive\n",
       "3  Basically there's a family where a little boy ...  negative\n",
       "4  Petter Mattei's \"Love in the Time of Money\" is...  positive"
      ]
     },
     "execution_count": 3,
     "metadata": {},
     "output_type": "execute_result"
    }
   ],
   "source": [
    "df = pd.read_csv('../input/imdb-dataset-of-50k-movie-reviews/IMDB Dataset.csv')\n",
    "df.head()"
   ]
  },
  {
   "cell_type": "markdown",
   "id": "5f4d7897",
   "metadata": {
    "papermill": {
     "duration": 0.016173,
     "end_time": "2021-09-27T06:42:15.736713",
     "exception": false,
     "start_time": "2021-09-27T06:42:15.720540",
     "status": "completed"
    },
    "tags": []
   },
   "source": [
    "## 2) Data Processing — convert to lower case, Remove punctuation etc"
   ]
  },
  {
   "cell_type": "code",
   "execution_count": 4,
   "id": "2f0d51f6",
   "metadata": {
    "execution": {
     "iopub.execute_input": "2021-09-27T06:42:15.784921Z",
     "iopub.status.busy": "2021-09-27T06:42:15.779482Z",
     "iopub.status.idle": "2021-09-27T06:42:27.071450Z",
     "shell.execute_reply": "2021-09-27T06:42:27.071930Z",
     "shell.execute_reply.started": "2021-09-27T06:27:17.026836Z"
    },
    "papermill": {
     "duration": 11.318848,
     "end_time": "2021-09-27T06:42:27.072114",
     "exception": false,
     "start_time": "2021-09-27T06:42:15.753266",
     "status": "completed"
    },
    "tags": []
   },
   "outputs": [
    {
     "data": {
      "text/html": [
       "<div>\n",
       "<style scoped>\n",
       "    .dataframe tbody tr th:only-of-type {\n",
       "        vertical-align: middle;\n",
       "    }\n",
       "\n",
       "    .dataframe tbody tr th {\n",
       "        vertical-align: top;\n",
       "    }\n",
       "\n",
       "    .dataframe thead th {\n",
       "        text-align: right;\n",
       "    }\n",
       "</style>\n",
       "<table border=\"1\" class=\"dataframe\">\n",
       "  <thead>\n",
       "    <tr style=\"text-align: right;\">\n",
       "      <th></th>\n",
       "      <th>review</th>\n",
       "      <th>sentiment</th>\n",
       "      <th>cleaned_reviews</th>\n",
       "    </tr>\n",
       "  </thead>\n",
       "  <tbody>\n",
       "    <tr>\n",
       "      <th>0</th>\n",
       "      <td>One of the other reviewers has mentioned that ...</td>\n",
       "      <td>positive</td>\n",
       "      <td>one reviewers mentioned watching 1 oz episode ...</td>\n",
       "    </tr>\n",
       "    <tr>\n",
       "      <th>1</th>\n",
       "      <td>A wonderful little production. &lt;br /&gt;&lt;br /&gt;The...</td>\n",
       "      <td>positive</td>\n",
       "      <td>wonderful little production filming technique ...</td>\n",
       "    </tr>\n",
       "    <tr>\n",
       "      <th>2</th>\n",
       "      <td>I thought this was a wonderful way to spend ti...</td>\n",
       "      <td>positive</td>\n",
       "      <td>thought wonderful way spend time hot summer we...</td>\n",
       "    </tr>\n",
       "    <tr>\n",
       "      <th>3</th>\n",
       "      <td>Basically there's a family where a little boy ...</td>\n",
       "      <td>negative</td>\n",
       "      <td>basically theres family little boy jake thinks...</td>\n",
       "    </tr>\n",
       "    <tr>\n",
       "      <th>4</th>\n",
       "      <td>Petter Mattei's \"Love in the Time of Money\" is...</td>\n",
       "      <td>positive</td>\n",
       "      <td>petter matteis love time money visually stunni...</td>\n",
       "    </tr>\n",
       "  </tbody>\n",
       "</table>\n",
       "</div>"
      ],
      "text/plain": [
       "                                              review sentiment  \\\n",
       "0  One of the other reviewers has mentioned that ...  positive   \n",
       "1  A wonderful little production. <br /><br />The...  positive   \n",
       "2  I thought this was a wonderful way to spend ti...  positive   \n",
       "3  Basically there's a family where a little boy ...  negative   \n",
       "4  Petter Mattei's \"Love in the Time of Money\" is...  positive   \n",
       "\n",
       "                                     cleaned_reviews  \n",
       "0  one reviewers mentioned watching 1 oz episode ...  \n",
       "1  wonderful little production filming technique ...  \n",
       "2  thought wonderful way spend time hot summer we...  \n",
       "3  basically theres family little boy jake thinks...  \n",
       "4  petter matteis love time money visually stunni...  "
      ]
     },
     "execution_count": 4,
     "metadata": {},
     "output_type": "execute_result"
    }
   ],
   "source": [
    "def data_preprocessing(text):\n",
    "    text = text.lower()\n",
    "    text = re.sub('<.*?>', '', text) # Remove HTML from text\n",
    "    text = ''.join([c for c in text if c not in string.punctuation])# Remove punctuation\n",
    "    text = [word for word in text.split() if word not in stop_words]\n",
    "    text = ' '.join(text)\n",
    "    return text\n",
    "\n",
    "df['cleaned_reviews'] = df['review'].apply(data_preprocessing)\n",
    "df.head()"
   ]
  },
  {
   "cell_type": "markdown",
   "id": "ba2a37b0",
   "metadata": {
    "papermill": {
     "duration": 0.017078,
     "end_time": "2021-09-27T06:42:27.106351",
     "exception": false,
     "start_time": "2021-09-27T06:42:27.089273",
     "status": "completed"
    },
    "tags": []
   },
   "source": [
    "## 5) Tokenize — Create Vocab to Int mapping dictionary\n",
    "In most of the NLP tasks, you will create an index mapping dictionary in such a way that your frequently occurring words are assigned lower indexes. One of the most common way of doing this is to use Counter method from Collections library."
   ]
  },
  {
   "cell_type": "code",
   "execution_count": 5,
   "id": "8ad14408",
   "metadata": {
    "execution": {
     "iopub.execute_input": "2021-09-27T06:42:27.168204Z",
     "iopub.status.busy": "2021-09-27T06:42:27.152194Z",
     "iopub.status.idle": "2021-09-27T06:42:35.398616Z",
     "shell.execute_reply": "2021-09-27T06:42:35.399157Z",
     "shell.execute_reply.started": "2021-09-27T06:27:27.947573Z"
    },
    "papermill": {
     "duration": 8.274766,
     "end_time": "2021-09-27T06:42:35.399344",
     "exception": false,
     "start_time": "2021-09-27T06:42:27.124578",
     "status": "completed"
    },
    "tags": []
   },
   "outputs": [
    {
     "name": "stdout",
     "output_type": "stream",
     "text": [
      "Vocabulary Size : 222610\n"
     ]
    }
   ],
   "source": [
    "max_features = 8192\n",
    "maxlen = 30\n",
    "\n",
    "tokenizer = Tokenizer(num_words=max_features)\n",
    "tokenizer.fit_on_texts(df['cleaned_reviews'])\n",
    "\n",
    "word_index = tokenizer.word_index\n",
    "vocab_size = len(tokenizer.word_index) + 1\n",
    "print(\"Vocabulary Size :\", vocab_size)"
   ]
  },
  {
   "cell_type": "code",
   "execution_count": 6,
   "id": "6bb9a93e",
   "metadata": {
    "execution": {
     "iopub.execute_input": "2021-09-27T06:42:35.442714Z",
     "iopub.status.busy": "2021-09-27T06:42:35.442023Z",
     "iopub.status.idle": "2021-09-27T06:42:41.459430Z",
     "shell.execute_reply": "2021-09-27T06:42:41.458764Z",
     "shell.execute_reply.started": "2021-09-27T06:27:35.341648Z"
    },
    "papermill": {
     "duration": 6.04294,
     "end_time": "2021-09-27T06:42:41.459602",
     "exception": false,
     "start_time": "2021-09-27T06:42:35.416662",
     "status": "completed"
    },
    "tags": []
   },
   "outputs": [],
   "source": [
    "training_token = tokenizer.texts_to_sequences(df['cleaned_reviews'])\n",
    "x_data = pad_sequences(training_token, maxlen = maxlen, padding = 'post')"
   ]
  },
  {
   "cell_type": "code",
   "execution_count": 7,
   "id": "dee043a4",
   "metadata": {
    "execution": {
     "iopub.execute_input": "2021-09-27T06:42:41.504006Z",
     "iopub.status.busy": "2021-09-27T06:42:41.503263Z",
     "iopub.status.idle": "2021-09-27T06:42:41.540561Z",
     "shell.execute_reply": "2021-09-27T06:42:41.539974Z",
     "shell.execute_reply.started": "2021-09-27T06:27:41.190485Z"
    },
    "papermill": {
     "duration": 0.062037,
     "end_time": "2021-09-27T06:42:41.540724",
     "exception": false,
     "start_time": "2021-09-27T06:42:41.478687",
     "status": "completed"
    },
    "tags": []
   },
   "outputs": [],
   "source": [
    "y_data = df['sentiment'].apply(lambda x: 1 if x == 'positive' else 0)"
   ]
  },
  {
   "cell_type": "code",
   "execution_count": 8,
   "id": "edcce8ae",
   "metadata": {
    "execution": {
     "iopub.execute_input": "2021-09-27T06:42:41.581901Z",
     "iopub.status.busy": "2021-09-27T06:42:41.581214Z",
     "iopub.status.idle": "2021-09-27T06:42:41.597725Z",
     "shell.execute_reply": "2021-09-27T06:42:41.598260Z",
     "shell.execute_reply.started": "2021-09-27T06:27:41.232067Z"
    },
    "papermill": {
     "duration": 0.040455,
     "end_time": "2021-09-27T06:42:41.598491",
     "exception": false,
     "start_time": "2021-09-27T06:42:41.558036",
     "status": "completed"
    },
    "tags": []
   },
   "outputs": [],
   "source": [
    "X_train, X_remain, y_train, y_remain = train_test_split(x_data, y_data, test_size=0.2, random_state=1)\n",
    "X_valid, X_test, y_valid, y_test = train_test_split(X_remain, y_remain, test_size=0.5, random_state=1)"
   ]
  },
  {
   "cell_type": "code",
   "execution_count": 9,
   "id": "cde64d46",
   "metadata": {
    "execution": {
     "iopub.execute_input": "2021-09-27T06:42:41.641718Z",
     "iopub.status.busy": "2021-09-27T06:42:41.640942Z",
     "iopub.status.idle": "2021-09-27T06:42:41.666712Z",
     "shell.execute_reply": "2021-09-27T06:42:41.667244Z",
     "shell.execute_reply.started": "2021-09-27T06:27:41.252887Z"
    },
    "papermill": {
     "duration": 0.049703,
     "end_time": "2021-09-27T06:42:41.667499",
     "exception": false,
     "start_time": "2021-09-27T06:42:41.617796",
     "status": "completed"
    },
    "tags": []
   },
   "outputs": [],
   "source": [
    "# create tensor dataset\n",
    "train_data = TensorDataset(torch.from_numpy(X_train.astype('float64')), torch.from_numpy(np.array(y_train).astype('float64')))\n",
    "test_data = TensorDataset(torch.from_numpy(X_test), torch.from_numpy(np.array(y_test).astype('float64')))\n",
    "valid_data = TensorDataset(torch.from_numpy(X_valid), torch.from_numpy(np.array(y_valid).astype('float64')))\n",
    "\n",
    "# dataloaders\n",
    "batch_size = 50\n",
    "\n",
    "train_loader = DataLoader(train_data, shuffle=True, batch_size=batch_size)\n",
    "test_loader = DataLoader(test_data, shuffle=True, batch_size=batch_size)\n",
    "valid_loader = DataLoader(valid_data, shuffle=True, batch_size=batch_size)"
   ]
  },
  {
   "cell_type": "code",
   "execution_count": 10,
   "id": "e08afa4f",
   "metadata": {
    "execution": {
     "iopub.execute_input": "2021-09-27T06:42:41.711704Z",
     "iopub.status.busy": "2021-09-27T06:42:41.710994Z",
     "iopub.status.idle": "2021-09-27T06:42:41.804162Z",
     "shell.execute_reply": "2021-09-27T06:42:41.803352Z",
     "shell.execute_reply.started": "2021-09-27T06:27:41.266351Z"
    },
    "papermill": {
     "duration": 0.119018,
     "end_time": "2021-09-27T06:42:41.804370",
     "exception": false,
     "start_time": "2021-09-27T06:42:41.685352",
     "status": "completed"
    },
    "tags": []
   },
   "outputs": [
    {
     "name": "stdout",
     "output_type": "stream",
     "text": [
      "Sample input size:  torch.Size([50, 30])\n",
      "Sample input: \n",
      " tensor([[3.5720e+03, 6.0000e+00, 4.4100e+02,  ..., 2.3800e+02, 2.3890e+03,\n",
      "         1.0690e+03],\n",
      "        [3.3200e+02, 1.5000e+01, 6.9750e+03,  ..., 1.1200e+02, 1.0000e+01,\n",
      "         6.5430e+03],\n",
      "        [2.5300e+02, 3.5500e+02, 2.7000e+02,  ..., 3.2500e+02, 8.0000e+00,\n",
      "         1.8700e+02],\n",
      "        ...,\n",
      "        [1.1490e+03, 5.0000e+00, 2.1900e+02,  ..., 1.0700e+02, 2.2330e+03,\n",
      "         2.4840e+03],\n",
      "        [6.2580e+03, 1.8400e+02, 5.5150e+03,  ..., 5.4600e+02, 6.8200e+02,\n",
      "         3.1170e+03],\n",
      "        [6.3500e+02, 2.7200e+02, 3.6790e+03,  ..., 6.6250e+03, 5.8500e+02,\n",
      "         7.9200e+02]], dtype=torch.float64)\n",
      "Sample input: \n",
      " tensor([0., 0., 0., 0., 0., 0., 1., 0., 0., 0., 1., 1., 1., 1., 0., 1., 0., 0.,\n",
      "        1., 0., 0., 1., 1., 1., 1., 1., 1., 1., 1., 0., 0., 0., 1., 0., 0., 0.,\n",
      "        1., 0., 1., 0., 0., 0., 0., 0., 0., 1., 1., 1., 0., 1.],\n",
      "       dtype=torch.float64)\n"
     ]
    }
   ],
   "source": [
    "# obtain one batch of training data\n",
    "dataiter = iter(train_loader)\n",
    "sample_x, sample_y = dataiter.next()\n",
    "\n",
    "print('Sample input size: ', sample_x.size()) # batch_size, seq_length\n",
    "print('Sample input: \\n', sample_x)\n",
    "print('Sample input: \\n', sample_y)"
   ]
  },
  {
   "cell_type": "code",
   "execution_count": 11,
   "id": "e43069b7",
   "metadata": {
    "execution": {
     "iopub.execute_input": "2021-09-27T06:42:41.845183Z",
     "iopub.status.busy": "2021-09-27T06:42:41.844507Z",
     "iopub.status.idle": "2021-09-27T06:42:41.856316Z",
     "shell.execute_reply": "2021-09-27T06:42:41.856838Z",
     "shell.execute_reply.started": "2021-09-27T06:27:41.28962Z"
    },
    "papermill": {
     "duration": 0.033658,
     "end_time": "2021-09-27T06:42:41.857029",
     "exception": false,
     "start_time": "2021-09-27T06:42:41.823371",
     "status": "completed"
    },
    "tags": []
   },
   "outputs": [],
   "source": [
    "class SentimentNet(nn.Module):\n",
    "    def __init__(self, vocab_size, output_size, embedding_dim, hidden_dim, n_layers, drop_prob=0.5):\n",
    "        super(SentimentNet, self).__init__()\n",
    "        self.output_size = output_size\n",
    "        self.n_layers = n_layers\n",
    "        self.hidden_dim = hidden_dim\n",
    "        \n",
    "        \n",
    "        self.embedding = nn.Embedding(vocab_size, embedding_dim)\n",
    "        #self.conv = nn.Conv1d(embedding_dim, 8, kernel_size=5)\n",
    "        self.lstm = nn.LSTM(embedding_dim, hidden_dim, n_layers, dropout=drop_prob, batch_first=True)\n",
    "        #self.gru = nn.GRU(embedding_dim, hidden_dim, n_layers, dropout=drop_prob, batch_first=True)\n",
    "        self.dropout = nn.Dropout(drop_prob)\n",
    "        self.fc = nn.Linear(hidden_dim, output_size)\n",
    "        self.sigmoid = nn.Sigmoid()\n",
    "        \n",
    "    def forward(self, x, hidden):\n",
    "        if len(x) != 1:\n",
    "            batch_size = x.size(0)\n",
    "        else:\n",
    "            batch_size = 1\n",
    "        \n",
    "        x = x.long()\n",
    "        embeds = self.embedding(x)\n",
    "\n",
    "        #conv = self.conv(x)\n",
    "        \n",
    "        lstm_out, hidden = self.lstm(embeds, hidden)\n",
    "        lstm_out = lstm_out.contiguous().view(-1, self.hidden_dim)\n",
    "        \n",
    "        out = self.dropout(lstm_out)\n",
    "        out = self.fc(out)\n",
    "        out = self.sigmoid(out)\n",
    "        \n",
    "        out = out.view(batch_size, -1)\n",
    "        out = out[:,-1]\n",
    "        return out, hidden\n",
    "    \n",
    "    def init_hidden(self, batch_size):\n",
    "        weight = next(self.parameters()).data\n",
    "        #hidden = (weight.new(self.n_layers, batch_size, self.hidden_dim).zero_().to(device),weight.new(self.n_layers, batch_size, self.hidden_dim).zero_().to(device))\n",
    "        hidden = (weight.new(self.n_layers, batch_size, self.hidden_dim).zero_(),\n",
    "                     weight.new(self.n_layers, batch_size, self.hidden_dim).zero_())\n",
    "        return hidden"
   ]
  },
  {
   "cell_type": "code",
   "execution_count": 12,
   "id": "aedddd93",
   "metadata": {
    "execution": {
     "iopub.execute_input": "2021-09-27T06:42:41.895921Z",
     "iopub.status.busy": "2021-09-27T06:42:41.895207Z",
     "iopub.status.idle": "2021-09-27T06:42:41.901239Z",
     "shell.execute_reply": "2021-09-27T06:42:41.900671Z",
     "shell.execute_reply.started": "2021-09-27T06:27:41.304138Z"
    },
    "papermill": {
     "duration": 0.026555,
     "end_time": "2021-09-27T06:42:41.901440",
     "exception": false,
     "start_time": "2021-09-27T06:42:41.874885",
     "status": "completed"
    },
    "tags": []
   },
   "outputs": [],
   "source": [
    "def model_params(model):\n",
    "    pp=0\n",
    "    for p in list(model.parameters()):\n",
    "        nn=1\n",
    "        for s in list(p.size()):\n",
    "            nn = nn*s\n",
    "        pp += nn\n",
    "    return pp"
   ]
  },
  {
   "cell_type": "code",
   "execution_count": 13,
   "id": "3afb5ece",
   "metadata": {
    "execution": {
     "iopub.execute_input": "2021-09-27T06:42:41.943616Z",
     "iopub.status.busy": "2021-09-27T06:42:41.942912Z",
     "iopub.status.idle": "2021-09-27T06:42:41.989439Z",
     "shell.execute_reply": "2021-09-27T06:42:41.988702Z",
     "shell.execute_reply.started": "2021-09-27T06:27:41.32013Z"
    },
    "papermill": {
     "duration": 0.07045,
     "end_time": "2021-09-27T06:42:41.989590",
     "exception": false,
     "start_time": "2021-09-27T06:42:41.919140",
     "status": "completed"
    },
    "tags": []
   },
   "outputs": [
    {
     "name": "stdout",
     "output_type": "stream",
     "text": [
      "2290901\n"
     ]
    }
   ],
   "source": [
    "output_size = 1\n",
    "embedding_dim = 10\n",
    "hidden_dim = 32\n",
    "n_layers = 8\n",
    "\n",
    "model = SentimentNet(vocab_size, output_size, embedding_dim, hidden_dim, n_layers)\n",
    "print(model_params(model))\n",
    "model.to(device)\n",
    "lr=0.008\n",
    "criterion = nn.BCELoss()\n",
    "optimizer = torch.optim.Adam(model.parameters(), lr=lr)"
   ]
  },
  {
   "cell_type": "code",
   "execution_count": 14,
   "id": "59af6aa7",
   "metadata": {
    "execution": {
     "iopub.execute_input": "2021-09-27T06:42:42.040821Z",
     "iopub.status.busy": "2021-09-27T06:42:42.040048Z",
     "iopub.status.idle": "2021-09-27T06:54:13.992226Z",
     "shell.execute_reply": "2021-09-27T06:54:13.992773Z",
     "shell.execute_reply.started": "2021-09-27T06:27:41.364585Z"
    },
    "papermill": {
     "duration": 691.98465,
     "end_time": "2021-09-27T06:54:13.992981",
     "exception": false,
     "start_time": "2021-09-27T06:42:42.008331",
     "status": "completed"
    },
    "tags": []
   },
   "outputs": [
    {
     "name": "stdout",
     "output_type": "stream",
     "text": [
      "Epoch: 1/5... Step: 100... Loss: 0.694815... Val Loss: 0.693394\n",
      "Validation loss decreased (inf --> 0.693394).  Saving model ...\n",
      "Epoch: 1/5... Step: 200... Loss: 0.696078... Val Loss: 0.693334\n",
      "Validation loss decreased (0.693394 --> 0.693334).  Saving model ...\n",
      "Epoch: 1/5... Step: 300... Loss: 0.701727... Val Loss: 0.693100\n",
      "Validation loss decreased (0.693334 --> 0.693100).  Saving model ...\n",
      "Epoch: 1/5... Step: 400... Loss: 0.692034... Val Loss: 0.693638\n",
      "Epoch: 1/5... Step: 500... Loss: 0.694883... Val Loss: 0.693095\n",
      "Validation loss decreased (0.693100 --> 0.693095).  Saving model ...\n",
      "Epoch: 1/5... Step: 600... Loss: 0.692668... Val Loss: 0.693103\n",
      "Epoch: 1/5... Step: 700... Loss: 0.697681... Val Loss: 0.693061\n",
      "Validation loss decreased (0.693095 --> 0.693061).  Saving model ...\n",
      "Epoch: 1/5... Step: 800... Loss: 0.692893... Val Loss: 0.693198\n",
      "Epoch: 2/5... Step: 900... Loss: 0.693024... Val Loss: 0.693403\n",
      "Epoch: 2/5... Step: 1000... Loss: 0.693959... Val Loss: 0.693639\n",
      "Epoch: 2/5... Step: 1100... Loss: 0.692748... Val Loss: 0.693412\n",
      "Epoch: 2/5... Step: 1200... Loss: 0.693022... Val Loss: 0.693136\n",
      "Epoch: 2/5... Step: 1300... Loss: 0.691826... Val Loss: 0.693564\n",
      "Epoch: 2/5... Step: 1400... Loss: 0.695587... Val Loss: 0.694969\n",
      "Epoch: 2/5... Step: 1500... Loss: 0.692884... Val Loss: 0.693160\n",
      "Epoch: 2/5... Step: 1600... Loss: 0.692682... Val Loss: 0.693077\n",
      "Epoch: 3/5... Step: 1700... Loss: 0.695320... Val Loss: 0.693411\n",
      "Epoch: 3/5... Step: 1800... Loss: 0.698440... Val Loss: 0.693827\n",
      "Epoch: 3/5... Step: 1900... Loss: 0.697114... Val Loss: 0.694588\n",
      "Epoch: 3/5... Step: 2000... Loss: 0.693172... Val Loss: 0.693526\n",
      "Epoch: 3/5... Step: 2100... Loss: 0.695505... Val Loss: 0.693319\n",
      "Epoch: 3/5... Step: 2200... Loss: 0.692011... Val Loss: 0.693056\n",
      "Validation loss decreased (0.693061 --> 0.693056).  Saving model ...\n",
      "Epoch: 3/5... Step: 2300... Loss: 0.690220... Val Loss: 0.693663\n",
      "Epoch: 3/5... Step: 2400... Loss: 0.693159... Val Loss: 0.693084\n",
      "Epoch: 4/5... Step: 2500... Loss: 0.693150... Val Loss: 0.693071\n",
      "Epoch: 4/5... Step: 2600... Loss: 0.693110... Val Loss: 0.693160\n",
      "Epoch: 4/5... Step: 2700... Loss: 0.693200... Val Loss: 0.693157\n",
      "Epoch: 4/5... Step: 2800... Loss: 0.694175... Val Loss: 0.693056\n",
      "Validation loss decreased (0.693056 --> 0.693056).  Saving model ...\n",
      "Epoch: 4/5... Step: 2900... Loss: 0.692270... Val Loss: 0.693337\n",
      "Epoch: 4/5... Step: 3000... Loss: 0.692932... Val Loss: 0.693193\n",
      "Epoch: 4/5... Step: 3100... Loss: 0.692062... Val Loss: 0.694295\n",
      "Epoch: 4/5... Step: 3200... Loss: 0.690611... Val Loss: 0.693059\n",
      "Epoch: 5/5... Step: 3300... Loss: 0.694608... Val Loss: 0.693166\n",
      "Epoch: 5/5... Step: 3400... Loss: 0.694889... Val Loss: 0.693839\n",
      "Epoch: 5/5... Step: 3500... Loss: 0.691581... Val Loss: 0.693194\n",
      "Epoch: 5/5... Step: 3600... Loss: 0.694884... Val Loss: 0.693344\n",
      "Epoch: 5/5... Step: 3700... Loss: 0.690061... Val Loss: 0.693062\n",
      "Epoch: 5/5... Step: 3800... Loss: 0.692109... Val Loss: 0.693059\n",
      "Epoch: 5/5... Step: 3900... Loss: 0.693767... Val Loss: 0.693083\n",
      "Epoch: 5/5... Step: 4000... Loss: 0.693394... Val Loss: 0.693176\n"
     ]
    }
   ],
   "source": [
    "epochs = 5\n",
    "counter = 0\n",
    "print_every = 100\n",
    "clip = 5\n",
    "valid_loss_min = np.Inf\n",
    "\n",
    "model.train()\n",
    "for i in range(epochs):\n",
    "    h = model.init_hidden(batch_size)\n",
    "    \n",
    "    for inputs, labels in train_loader:\n",
    "        counter += 1\n",
    "        h = tuple([e.data for e in h])\n",
    "        inputs, labels = inputs.to(device), labels.to(device)\n",
    "        model.zero_grad()\n",
    "        output, h = model(inputs, h)\n",
    "        loss = criterion(output, labels.float())\n",
    "        loss.backward()\n",
    "        #nn.utils.clip_grad_norm_(model.parameters(), clip)\n",
    "        optimizer.step()\n",
    "        if counter%print_every == 0:\n",
    "            val_h = model.init_hidden(batch_size)\n",
    "            val_losses = []\n",
    "            model.eval()\n",
    "            for inp, lab in test_loader:\n",
    "                val_h = tuple([each.data for each in val_h])\n",
    "                inp, lab = inp.to(device), lab.to(device)\n",
    "                out, val_h = model(inp, val_h)\n",
    "                val_loss = criterion(out, lab.float())\n",
    "                val_losses.append(val_loss.item())\n",
    "                \n",
    "            model.train()\n",
    "            print(\"Epoch: {}/{}...\".format(i+1, epochs),\n",
    "                  \"Step: {}...\".format(counter),\n",
    "                  \"Loss: {:.6f}...\".format(loss.item()),\n",
    "                  \"Val Loss: {:.6f}\".format(np.mean(val_losses)))\n",
    "            if np.mean(val_losses) <= valid_loss_min:\n",
    "                torch.save(model.state_dict(), './state_dict.pt')\n",
    "                print('Validation loss decreased ({:.6f} --> {:.6f}).  Saving model ...'.format(valid_loss_min,np.mean(val_losses)))\n",
    "                valid_loss_min = np.mean(val_losses)"
   ]
  },
  {
   "cell_type": "code",
   "execution_count": 15,
   "id": "0a6dd7ef",
   "metadata": {
    "execution": {
     "iopub.execute_input": "2021-09-27T06:54:14.061260Z",
     "iopub.status.busy": "2021-09-27T06:54:14.060257Z",
     "iopub.status.idle": "2021-09-27T06:54:14.096020Z",
     "shell.execute_reply": "2021-09-27T06:54:14.095479Z",
     "shell.execute_reply.started": "2021-09-27T06:27:41.42034Z"
    },
    "papermill": {
     "duration": 0.072363,
     "end_time": "2021-09-27T06:54:14.096171",
     "exception": false,
     "start_time": "2021-09-27T06:54:14.023808",
     "status": "completed"
    },
    "tags": []
   },
   "outputs": [
    {
     "data": {
      "text/plain": [
       "tensor([0.5013], grad_fn=<SelectBackward>)"
      ]
     },
     "execution_count": 15,
     "metadata": {},
     "output_type": "execute_result"
    }
   ],
   "source": [
    "h = model.init_hidden(1)\n",
    "sentence = \"I love this movie because it is great\"\n",
    "trial = torch.tensor(pad_sequences(tokenizer.texts_to_sequences([sentence]), maxlen = maxlen)).to(device)\n",
    "\n",
    "\n",
    "model(trial, h)[0]"
   ]
  },
  {
   "cell_type": "code",
   "execution_count": 16,
   "id": "bbac32b7",
   "metadata": {
    "execution": {
     "iopub.execute_input": "2021-09-27T06:54:14.162994Z",
     "iopub.status.busy": "2021-09-27T06:54:14.162143Z",
     "iopub.status.idle": "2021-09-27T06:54:14.372795Z",
     "shell.execute_reply": "2021-09-27T06:54:14.372153Z"
    },
    "papermill": {
     "duration": 0.246365,
     "end_time": "2021-09-27T06:54:14.372946",
     "exception": false,
     "start_time": "2021-09-27T06:54:14.126581",
     "status": "completed"
    },
    "tags": []
   },
   "outputs": [
    {
     "name": "stderr",
     "output_type": "stream",
     "text": [
      "/opt/conda/lib/python3.7/site-packages/ipykernel_launcher.py:18: TracerWarning: Converting a tensor to a Python index might cause the trace to be incorrect. We can't record the data flow of Python values, so this value will be treated as a constant in the future. This means that the trace might not generalize to other inputs!\n",
      "/opt/conda/lib/python3.7/site-packages/torch/onnx/symbolic_opset9.py:1805: UserWarning: Exporting a model to ONNX with a batch_size other than 1, with a variable length with LSTM can cause an error when running the ONNX model with a different batch size. Make sure to save the model with a batch size of 1, or define the initial states (h0/c0) as inputs of the model. \n",
      "  \"or define the initial states (h0/c0) as inputs of the model. \")\n"
     ]
    }
   ],
   "source": [
    "import torch.onnx\n",
    "torch.onnx.export(model,               # model being run\n",
    "                  (trial, (torch.randn(8,1,32).to(device), torch.randn(8,1,32).to(device))),                   # model input (or a tuple for multiple inputs)\n",
    "                  \"lstm.onnx\")"
   ]
  }
 ],
 "metadata": {
  "kernelspec": {
   "display_name": "Python 3",
   "language": "python",
   "name": "python3"
  },
  "language_info": {
   "codemirror_mode": {
    "name": "ipython",
    "version": 3
   },
   "file_extension": ".py",
   "mimetype": "text/x-python",
   "name": "python",
   "nbconvert_exporter": "python",
   "pygments_lexer": "ipython3",
   "version": "3.7.10"
  },
  "papermill": {
   "default_parameters": {},
   "duration": 741.174967,
   "end_time": "2021-09-27T06:54:16.312260",
   "environment_variables": {},
   "exception": null,
   "input_path": "__notebook__.ipynb",
   "output_path": "__notebook__.ipynb",
   "parameters": {},
   "start_time": "2021-09-27T06:41:55.137293",
   "version": "2.3.3"
  }
 },
 "nbformat": 4,
 "nbformat_minor": 5
}
