{
 "cells": [
  {
   "cell_type": "markdown",
   "id": "5ecb6dc2",
   "metadata": {
    "papermill": {
     "duration": 0.017652,
     "end_time": "2021-09-27T06:40:34.350976",
     "exception": false,
     "start_time": "2021-09-27T06:40:34.333324",
     "status": "completed"
    },
    "tags": []
   },
   "source": [
    "# Sentiment Analysis using LSTM"
   ]
  },
  {
   "cell_type": "code",
   "execution_count": 1,
   "id": "d425db63",
   "metadata": {
    "execution": {
     "iopub.execute_input": "2021-09-27T06:40:34.387331Z",
     "iopub.status.busy": "2021-09-27T06:40:34.386173Z",
     "iopub.status.idle": "2021-09-27T06:40:43.772487Z",
     "shell.execute_reply": "2021-09-27T06:40:43.773095Z",
     "shell.execute_reply.started": "2021-09-27T06:27:16.305273Z"
    },
    "papermill": {
     "duration": 9.406196,
     "end_time": "2021-09-27T06:40:43.773408",
     "exception": false,
     "start_time": "2021-09-27T06:40:34.367212",
     "status": "completed"
    },
    "tags": []
   },
   "outputs": [],
   "source": [
    "import numpy as np\n",
    "import pandas as pd\n",
    "\n",
    "import matplotlib.pyplot as plt\n",
    "import seaborn as sns\n",
    "\n",
    "import re\n",
    "import string\n",
    "from collections import Counter\n",
    "from nltk.corpus import stopwords\n",
    "stop_words = set(stopwords.words('english'))\n",
    "\n",
    "from sklearn.model_selection import train_test_split\n",
    "\n",
    "import torch\n",
    "from torch.utils.data import DataLoader, TensorDataset\n",
    "import torch.nn as nn\n",
    "\n",
    "import pandas as pd\n",
    "import numpy as np\n",
    "import bz2\n",
    "import matplotlib.pyplot as plt\n",
    "import sklearn\n",
    "import tensorflow as tf\n",
    "from tensorflow.keras import models, layers, optimizers\n",
    "from tensorflow.keras.preprocessing.text import Tokenizer, text_to_word_sequence\n",
    "from tensorflow.keras.preprocessing.sequence import pad_sequences\n",
    "from sklearn.preprocessing import LabelEncoder\n",
    "\n",
    "%matplotlib inline"
   ]
  },
  {
   "cell_type": "code",
   "execution_count": 2,
   "id": "9812fbdc",
   "metadata": {
    "execution": {
     "iopub.execute_input": "2021-09-27T06:40:43.809051Z",
     "iopub.status.busy": "2021-09-27T06:40:43.808395Z",
     "iopub.status.idle": "2021-09-27T06:40:43.812555Z",
     "shell.execute_reply": "2021-09-27T06:40:43.813125Z",
     "shell.execute_reply.started": "2021-09-27T06:27:16.333073Z"
    },
    "papermill": {
     "duration": 0.023843,
     "end_time": "2021-09-27T06:40:43.813310",
     "exception": false,
     "start_time": "2021-09-27T06:40:43.789467",
     "status": "completed"
    },
    "tags": []
   },
   "outputs": [],
   "source": [
    "device = \"cpu\""
   ]
  },
  {
   "cell_type": "markdown",
   "id": "c7eaa145",
   "metadata": {
    "papermill": {
     "duration": 0.016505,
     "end_time": "2021-09-27T06:40:43.845766",
     "exception": false,
     "start_time": "2021-09-27T06:40:43.829261",
     "status": "completed"
    },
    "tags": []
   },
   "source": [
    "## 1) Load in and visualize the data"
   ]
  },
  {
   "cell_type": "code",
   "execution_count": 3,
   "id": "63729fc7",
   "metadata": {
    "execution": {
     "iopub.execute_input": "2021-09-27T06:40:43.881998Z",
     "iopub.status.busy": "2021-09-27T06:40:43.881174Z",
     "iopub.status.idle": "2021-09-27T06:40:45.598463Z",
     "shell.execute_reply": "2021-09-27T06:40:45.598995Z",
     "shell.execute_reply.started": "2021-09-27T06:27:16.350631Z"
    },
    "papermill": {
     "duration": 1.73714,
     "end_time": "2021-09-27T06:40:45.599187",
     "exception": false,
     "start_time": "2021-09-27T06:40:43.862047",
     "status": "completed"
    },
    "tags": []
   },
   "outputs": [
    {
     "data": {
      "text/html": [
       "<div>\n",
       "<style scoped>\n",
       "    .dataframe tbody tr th:only-of-type {\n",
       "        vertical-align: middle;\n",
       "    }\n",
       "\n",
       "    .dataframe tbody tr th {\n",
       "        vertical-align: top;\n",
       "    }\n",
       "\n",
       "    .dataframe thead th {\n",
       "        text-align: right;\n",
       "    }\n",
       "</style>\n",
       "<table border=\"1\" class=\"dataframe\">\n",
       "  <thead>\n",
       "    <tr style=\"text-align: right;\">\n",
       "      <th></th>\n",
       "      <th>review</th>\n",
       "      <th>sentiment</th>\n",
       "    </tr>\n",
       "  </thead>\n",
       "  <tbody>\n",
       "    <tr>\n",
       "      <th>0</th>\n",
       "      <td>One of the other reviewers has mentioned that ...</td>\n",
       "      <td>positive</td>\n",
       "    </tr>\n",
       "    <tr>\n",
       "      <th>1</th>\n",
       "      <td>A wonderful little production. &lt;br /&gt;&lt;br /&gt;The...</td>\n",
       "      <td>positive</td>\n",
       "    </tr>\n",
       "    <tr>\n",
       "      <th>2</th>\n",
       "      <td>I thought this was a wonderful way to spend ti...</td>\n",
       "      <td>positive</td>\n",
       "    </tr>\n",
       "    <tr>\n",
       "      <th>3</th>\n",
       "      <td>Basically there's a family where a little boy ...</td>\n",
       "      <td>negative</td>\n",
       "    </tr>\n",
       "    <tr>\n",
       "      <th>4</th>\n",
       "      <td>Petter Mattei's \"Love in the Time of Money\" is...</td>\n",
       "      <td>positive</td>\n",
       "    </tr>\n",
       "  </tbody>\n",
       "</table>\n",
       "</div>"
      ],
      "text/plain": [
       "                                              review sentiment\n",
       "0  One of the other reviewers has mentioned that ...  positive\n",
       "1  A wonderful little production. <br /><br />The...  positive\n",
       "2  I thought this was a wonderful way to spend ti...  positive\n",
       "3  Basically there's a family where a little boy ...  negative\n",
       "4  Petter Mattei's \"Love in the Time of Money\" is...  positive"
      ]
     },
     "execution_count": 3,
     "metadata": {},
     "output_type": "execute_result"
    }
   ],
   "source": [
    "df = pd.read_csv('../input/imdb-dataset-of-50k-movie-reviews/IMDB Dataset.csv')\n",
    "df.head()"
   ]
  },
  {
   "cell_type": "markdown",
   "id": "86b19652",
   "metadata": {
    "papermill": {
     "duration": 0.016323,
     "end_time": "2021-09-27T06:40:45.632358",
     "exception": false,
     "start_time": "2021-09-27T06:40:45.616035",
     "status": "completed"
    },
    "tags": []
   },
   "source": [
    "## 2) Data Processing — convert to lower case, Remove punctuation etc"
   ]
  },
  {
   "cell_type": "code",
   "execution_count": 4,
   "id": "5333cd59",
   "metadata": {
    "execution": {
     "iopub.execute_input": "2021-09-27T06:40:45.670288Z",
     "iopub.status.busy": "2021-09-27T06:40:45.669520Z",
     "iopub.status.idle": "2021-09-27T06:40:56.684111Z",
     "shell.execute_reply": "2021-09-27T06:40:56.684630Z",
     "shell.execute_reply.started": "2021-09-27T06:27:17.026836Z"
    },
    "papermill": {
     "duration": 11.034874,
     "end_time": "2021-09-27T06:40:56.684821",
     "exception": false,
     "start_time": "2021-09-27T06:40:45.649947",
     "status": "completed"
    },
    "tags": []
   },
   "outputs": [
    {
     "data": {
      "text/html": [
       "<div>\n",
       "<style scoped>\n",
       "    .dataframe tbody tr th:only-of-type {\n",
       "        vertical-align: middle;\n",
       "    }\n",
       "\n",
       "    .dataframe tbody tr th {\n",
       "        vertical-align: top;\n",
       "    }\n",
       "\n",
       "    .dataframe thead th {\n",
       "        text-align: right;\n",
       "    }\n",
       "</style>\n",
       "<table border=\"1\" class=\"dataframe\">\n",
       "  <thead>\n",
       "    <tr style=\"text-align: right;\">\n",
       "      <th></th>\n",
       "      <th>review</th>\n",
       "      <th>sentiment</th>\n",
       "      <th>cleaned_reviews</th>\n",
       "    </tr>\n",
       "  </thead>\n",
       "  <tbody>\n",
       "    <tr>\n",
       "      <th>0</th>\n",
       "      <td>One of the other reviewers has mentioned that ...</td>\n",
       "      <td>positive</td>\n",
       "      <td>one reviewers mentioned watching 1 oz episode ...</td>\n",
       "    </tr>\n",
       "    <tr>\n",
       "      <th>1</th>\n",
       "      <td>A wonderful little production. &lt;br /&gt;&lt;br /&gt;The...</td>\n",
       "      <td>positive</td>\n",
       "      <td>wonderful little production filming technique ...</td>\n",
       "    </tr>\n",
       "    <tr>\n",
       "      <th>2</th>\n",
       "      <td>I thought this was a wonderful way to spend ti...</td>\n",
       "      <td>positive</td>\n",
       "      <td>thought wonderful way spend time hot summer we...</td>\n",
       "    </tr>\n",
       "    <tr>\n",
       "      <th>3</th>\n",
       "      <td>Basically there's a family where a little boy ...</td>\n",
       "      <td>negative</td>\n",
       "      <td>basically theres family little boy jake thinks...</td>\n",
       "    </tr>\n",
       "    <tr>\n",
       "      <th>4</th>\n",
       "      <td>Petter Mattei's \"Love in the Time of Money\" is...</td>\n",
       "      <td>positive</td>\n",
       "      <td>petter matteis love time money visually stunni...</td>\n",
       "    </tr>\n",
       "  </tbody>\n",
       "</table>\n",
       "</div>"
      ],
      "text/plain": [
       "                                              review sentiment  \\\n",
       "0  One of the other reviewers has mentioned that ...  positive   \n",
       "1  A wonderful little production. <br /><br />The...  positive   \n",
       "2  I thought this was a wonderful way to spend ti...  positive   \n",
       "3  Basically there's a family where a little boy ...  negative   \n",
       "4  Petter Mattei's \"Love in the Time of Money\" is...  positive   \n",
       "\n",
       "                                     cleaned_reviews  \n",
       "0  one reviewers mentioned watching 1 oz episode ...  \n",
       "1  wonderful little production filming technique ...  \n",
       "2  thought wonderful way spend time hot summer we...  \n",
       "3  basically theres family little boy jake thinks...  \n",
       "4  petter matteis love time money visually stunni...  "
      ]
     },
     "execution_count": 4,
     "metadata": {},
     "output_type": "execute_result"
    }
   ],
   "source": [
    "def data_preprocessing(text):\n",
    "    text = text.lower()\n",
    "    text = re.sub('<.*?>', '', text) # Remove HTML from text\n",
    "    text = ''.join([c for c in text if c not in string.punctuation])# Remove punctuation\n",
    "    text = [word for word in text.split() if word not in stop_words]\n",
    "    text = ' '.join(text)\n",
    "    return text\n",
    "\n",
    "df['cleaned_reviews'] = df['review'].apply(data_preprocessing)\n",
    "df.head()"
   ]
  },
  {
   "cell_type": "markdown",
   "id": "8420bec5",
   "metadata": {
    "papermill": {
     "duration": 0.016548,
     "end_time": "2021-09-27T06:40:56.718739",
     "exception": false,
     "start_time": "2021-09-27T06:40:56.702191",
     "status": "completed"
    },
    "tags": []
   },
   "source": [
    "## 5) Tokenize — Create Vocab to Int mapping dictionary\n",
    "In most of the NLP tasks, you will create an index mapping dictionary in such a way that your frequently occurring words are assigned lower indexes. One of the most common way of doing this is to use Counter method from Collections library."
   ]
  },
  {
   "cell_type": "code",
   "execution_count": 5,
   "id": "bb169b65",
   "metadata": {
    "execution": {
     "iopub.execute_input": "2021-09-27T06:40:56.758408Z",
     "iopub.status.busy": "2021-09-27T06:40:56.757747Z",
     "iopub.status.idle": "2021-09-27T06:41:05.527468Z",
     "shell.execute_reply": "2021-09-27T06:41:05.528156Z",
     "shell.execute_reply.started": "2021-09-27T06:27:27.947573Z"
    },
    "papermill": {
     "duration": 8.791488,
     "end_time": "2021-09-27T06:41:05.528406",
     "exception": false,
     "start_time": "2021-09-27T06:40:56.736918",
     "status": "completed"
    },
    "tags": []
   },
   "outputs": [
    {
     "name": "stdout",
     "output_type": "stream",
     "text": [
      "Vocabulary Size : 222610\n"
     ]
    }
   ],
   "source": [
    "max_features = 8192\n",
    "maxlen = 30\n",
    "\n",
    "tokenizer = Tokenizer(num_words=max_features)\n",
    "tokenizer.fit_on_texts(df['cleaned_reviews'])\n",
    "\n",
    "word_index = tokenizer.word_index\n",
    "vocab_size = len(tokenizer.word_index) + 1\n",
    "print(\"Vocabulary Size :\", vocab_size)"
   ]
  },
  {
   "cell_type": "code",
   "execution_count": 6,
   "id": "a9822196",
   "metadata": {
    "execution": {
     "iopub.execute_input": "2021-09-27T06:41:05.582433Z",
     "iopub.status.busy": "2021-09-27T06:41:05.576984Z",
     "iopub.status.idle": "2021-09-27T06:41:11.723462Z",
     "shell.execute_reply": "2021-09-27T06:41:11.722722Z",
     "shell.execute_reply.started": "2021-09-27T06:27:35.341648Z"
    },
    "papermill": {
     "duration": 6.177327,
     "end_time": "2021-09-27T06:41:11.723615",
     "exception": false,
     "start_time": "2021-09-27T06:41:05.546288",
     "status": "completed"
    },
    "tags": []
   },
   "outputs": [],
   "source": [
    "training_token = tokenizer.texts_to_sequences(df['cleaned_reviews'])\n",
    "x_data = pad_sequences(training_token, maxlen = maxlen, padding = 'post')"
   ]
  },
  {
   "cell_type": "code",
   "execution_count": 7,
   "id": "c177bb30",
   "metadata": {
    "execution": {
     "iopub.execute_input": "2021-09-27T06:41:11.765578Z",
     "iopub.status.busy": "2021-09-27T06:41:11.764862Z",
     "iopub.status.idle": "2021-09-27T06:41:11.803434Z",
     "shell.execute_reply": "2021-09-27T06:41:11.802094Z",
     "shell.execute_reply.started": "2021-09-27T06:27:41.190485Z"
    },
    "papermill": {
     "duration": 0.062238,
     "end_time": "2021-09-27T06:41:11.803621",
     "exception": false,
     "start_time": "2021-09-27T06:41:11.741383",
     "status": "completed"
    },
    "tags": []
   },
   "outputs": [],
   "source": [
    "y_data = df['sentiment'].apply(lambda x: 1 if x == 'positive' else 0)"
   ]
  },
  {
   "cell_type": "code",
   "execution_count": 8,
   "id": "58489ca6",
   "metadata": {
    "execution": {
     "iopub.execute_input": "2021-09-27T06:41:11.846455Z",
     "iopub.status.busy": "2021-09-27T06:41:11.845727Z",
     "iopub.status.idle": "2021-09-27T06:41:11.867496Z",
     "shell.execute_reply": "2021-09-27T06:41:11.868069Z",
     "shell.execute_reply.started": "2021-09-27T06:27:41.232067Z"
    },
    "papermill": {
     "duration": 0.046988,
     "end_time": "2021-09-27T06:41:11.868265",
     "exception": false,
     "start_time": "2021-09-27T06:41:11.821277",
     "status": "completed"
    },
    "tags": []
   },
   "outputs": [],
   "source": [
    "X_train, X_remain, y_train, y_remain = train_test_split(x_data, y_data, test_size=0.2, random_state=1)\n",
    "X_valid, X_test, y_valid, y_test = train_test_split(X_remain, y_remain, test_size=0.5, random_state=1)"
   ]
  },
  {
   "cell_type": "code",
   "execution_count": 9,
   "id": "6b9a36c5",
   "metadata": {
    "execution": {
     "iopub.execute_input": "2021-09-27T06:41:11.911981Z",
     "iopub.status.busy": "2021-09-27T06:41:11.911246Z",
     "iopub.status.idle": "2021-09-27T06:41:11.938171Z",
     "shell.execute_reply": "2021-09-27T06:41:11.937464Z",
     "shell.execute_reply.started": "2021-09-27T06:27:41.252887Z"
    },
    "papermill": {
     "duration": 0.052864,
     "end_time": "2021-09-27T06:41:11.938349",
     "exception": false,
     "start_time": "2021-09-27T06:41:11.885485",
     "status": "completed"
    },
    "tags": []
   },
   "outputs": [],
   "source": [
    "# create tensor dataset\n",
    "train_data = TensorDataset(torch.from_numpy(X_train.astype('float64')), torch.from_numpy(np.array(y_train).astype('float64')))\n",
    "test_data = TensorDataset(torch.from_numpy(X_test), torch.from_numpy(np.array(y_test).astype('float64')))\n",
    "valid_data = TensorDataset(torch.from_numpy(X_valid), torch.from_numpy(np.array(y_valid).astype('float64')))\n",
    "\n",
    "# dataloaders\n",
    "batch_size = 50\n",
    "\n",
    "train_loader = DataLoader(train_data, shuffle=True, batch_size=batch_size)\n",
    "test_loader = DataLoader(test_data, shuffle=True, batch_size=batch_size)\n",
    "valid_loader = DataLoader(valid_data, shuffle=True, batch_size=batch_size)"
   ]
  },
  {
   "cell_type": "code",
   "execution_count": 10,
   "id": "ba24f09c",
   "metadata": {
    "execution": {
     "iopub.execute_input": "2021-09-27T06:41:11.983582Z",
     "iopub.status.busy": "2021-09-27T06:41:11.982771Z",
     "iopub.status.idle": "2021-09-27T06:41:12.088479Z",
     "shell.execute_reply": "2021-09-27T06:41:12.087836Z",
     "shell.execute_reply.started": "2021-09-27T06:27:41.266351Z"
    },
    "papermill": {
     "duration": 0.132353,
     "end_time": "2021-09-27T06:41:12.088652",
     "exception": false,
     "start_time": "2021-09-27T06:41:11.956299",
     "status": "completed"
    },
    "tags": []
   },
   "outputs": [
    {
     "name": "stdout",
     "output_type": "stream",
     "text": [
      "Sample input size:  torch.Size([50, 30])\n",
      "Sample input: \n",
      " tensor([[2.5200e+02, 1.9000e+01, 8.0000e+00,  ..., 2.8900e+02, 4.0500e+02,\n",
      "         4.0680e+03],\n",
      "        [8.0000e+02, 1.0000e+00, 1.0330e+03,  ..., 0.0000e+00, 0.0000e+00,\n",
      "         0.0000e+00],\n",
      "        [1.5660e+03, 9.9000e+01, 3.5700e+02,  ..., 4.3400e+02, 5.3000e+01,\n",
      "         4.1300e+02],\n",
      "        ...,\n",
      "        [6.3100e+02, 1.7300e+02, 1.5930e+03,  ..., 7.0000e+00, 1.5800e+02,\n",
      "         3.2000e+02],\n",
      "        [4.9700e+02, 4.3600e+02, 6.2600e+02,  ..., 1.2860e+03, 5.5300e+02,\n",
      "         1.9300e+02],\n",
      "        [7.8300e+02, 2.0000e+00, 1.0530e+03,  ..., 9.0000e+00, 2.7300e+02,\n",
      "         2.0000e+00]], dtype=torch.float64)\n",
      "Sample input: \n",
      " tensor([1., 0., 1., 0., 0., 1., 0., 1., 0., 1., 0., 1., 1., 0., 1., 1., 0., 1.,\n",
      "        0., 0., 1., 1., 1., 1., 0., 1., 1., 1., 1., 1., 0., 1., 0., 0., 0., 1.,\n",
      "        0., 1., 1., 1., 1., 1., 0., 1., 1., 1., 0., 0., 1., 0.],\n",
      "       dtype=torch.float64)\n"
     ]
    }
   ],
   "source": [
    "# obtain one batch of training data\n",
    "dataiter = iter(train_loader)\n",
    "sample_x, sample_y = dataiter.next()\n",
    "\n",
    "print('Sample input size: ', sample_x.size()) # batch_size, seq_length\n",
    "print('Sample input: \\n', sample_x)\n",
    "print('Sample input: \\n', sample_y)"
   ]
  },
  {
   "cell_type": "code",
   "execution_count": 11,
   "id": "ff885073",
   "metadata": {
    "execution": {
     "iopub.execute_input": "2021-09-27T06:41:12.141036Z",
     "iopub.status.busy": "2021-09-27T06:41:12.140120Z",
     "iopub.status.idle": "2021-09-27T06:41:12.143563Z",
     "shell.execute_reply": "2021-09-27T06:41:12.142976Z",
     "shell.execute_reply.started": "2021-09-27T06:27:41.28962Z"
    },
    "papermill": {
     "duration": 0.0368,
     "end_time": "2021-09-27T06:41:12.143773",
     "exception": false,
     "start_time": "2021-09-27T06:41:12.106973",
     "status": "completed"
    },
    "tags": []
   },
   "outputs": [],
   "source": [
    "class SentimentNet(nn.Module):\n",
    "    def __init__(self, vocab_size, output_size, embedding_dim, hidden_dim, n_layers, drop_prob=0.5):\n",
    "        super(SentimentNet, self).__init__()\n",
    "        self.output_size = output_size\n",
    "        self.n_layers = n_layers\n",
    "        self.hidden_dim = hidden_dim\n",
    "        \n",
    "        \n",
    "        self.embedding = nn.Embedding(vocab_size, embedding_dim)\n",
    "        #self.conv = nn.Conv1d(embedding_dim, 8, kernel_size=5)\n",
    "        self.lstm = nn.LSTM(embedding_dim, hidden_dim, n_layers, dropout=drop_prob, batch_first=True)\n",
    "        #self.gru = nn.GRU(embedding_dim, hidden_dim, n_layers, dropout=drop_prob, batch_first=True)\n",
    "        self.dropout = nn.Dropout(drop_prob)\n",
    "        self.fc = nn.Linear(hidden_dim, output_size)\n",
    "        self.sigmoid = nn.Sigmoid()\n",
    "        \n",
    "    def forward(self, x, hidden):\n",
    "        if len(x) != 1:\n",
    "            batch_size = x.size(0)\n",
    "        else:\n",
    "            batch_size = 1\n",
    "        \n",
    "        x = x.long()\n",
    "        embeds = self.embedding(x)\n",
    "\n",
    "        #conv = self.conv(x)\n",
    "        \n",
    "        lstm_out, hidden = self.lstm(embeds, hidden)\n",
    "        lstm_out = lstm_out.contiguous().view(-1, self.hidden_dim)\n",
    "        \n",
    "        out = self.dropout(lstm_out)\n",
    "        out = self.fc(out)\n",
    "        out = self.sigmoid(out)\n",
    "        \n",
    "        out = out.view(batch_size, -1)\n",
    "        out = out[:,-1]\n",
    "        return out, hidden\n",
    "    \n",
    "    def init_hidden(self, batch_size):\n",
    "        weight = next(self.parameters()).data\n",
    "        #hidden = (weight.new(self.n_layers, batch_size, self.hidden_dim).zero_().to(device),weight.new(self.n_layers, batch_size, self.hidden_dim).zero_().to(device))\n",
    "        hidden = (weight.new(self.n_layers, batch_size, self.hidden_dim).zero_(),\n",
    "                     weight.new(self.n_layers, batch_size, self.hidden_dim).zero_())\n",
    "        return hidden"
   ]
  },
  {
   "cell_type": "code",
   "execution_count": 12,
   "id": "39ce33bd",
   "metadata": {
    "execution": {
     "iopub.execute_input": "2021-09-27T06:41:12.186891Z",
     "iopub.status.busy": "2021-09-27T06:41:12.186049Z",
     "iopub.status.idle": "2021-09-27T06:41:12.189356Z",
     "shell.execute_reply": "2021-09-27T06:41:12.188678Z",
     "shell.execute_reply.started": "2021-09-27T06:27:41.304138Z"
    },
    "papermill": {
     "duration": 0.027866,
     "end_time": "2021-09-27T06:41:12.189527",
     "exception": false,
     "start_time": "2021-09-27T06:41:12.161661",
     "status": "completed"
    },
    "tags": []
   },
   "outputs": [],
   "source": [
    "def model_params(model):\n",
    "    pp=0\n",
    "    for p in list(model.parameters()):\n",
    "        nn=1\n",
    "        for s in list(p.size()):\n",
    "            nn = nn*s\n",
    "        pp += nn\n",
    "    return pp"
   ]
  },
  {
   "cell_type": "code",
   "execution_count": 13,
   "id": "06e78b0a",
   "metadata": {
    "execution": {
     "iopub.execute_input": "2021-09-27T06:41:12.229241Z",
     "iopub.status.busy": "2021-09-27T06:41:12.228501Z",
     "iopub.status.idle": "2021-09-27T06:41:12.278979Z",
     "shell.execute_reply": "2021-09-27T06:41:12.279510Z",
     "shell.execute_reply.started": "2021-09-27T06:27:41.32013Z"
    },
    "papermill": {
     "duration": 0.072076,
     "end_time": "2021-09-27T06:41:12.279733",
     "exception": false,
     "start_time": "2021-09-27T06:41:12.207657",
     "status": "completed"
    },
    "tags": []
   },
   "outputs": [
    {
     "name": "stdout",
     "output_type": "stream",
     "text": [
      "2226361\n"
     ]
    },
    {
     "name": "stderr",
     "output_type": "stream",
     "text": [
      "/opt/conda/lib/python3.7/site-packages/torch/nn/modules/rnn.py:61: UserWarning: dropout option adds dropout after all but last recurrent layer, so non-zero dropout expects num_layers greater than 1, but got dropout=0.5 and num_layers=1\n",
      "  \"num_layers={}\".format(dropout, num_layers))\n"
     ]
    }
   ],
   "source": [
    "output_size = 1\n",
    "embedding_dim = 10\n",
    "hidden_dim = 4\n",
    "n_layers = 1\n",
    "\n",
    "model = SentimentNet(vocab_size, output_size, embedding_dim, hidden_dim, n_layers)\n",
    "print(model_params(model))\n",
    "model.to(device)\n",
    "lr=0.008\n",
    "criterion = nn.BCELoss()\n",
    "optimizer = torch.optim.Adam(model.parameters(), lr=lr)"
   ]
  },
  {
   "cell_type": "code",
   "execution_count": 14,
   "id": "eb3f51e9",
   "metadata": {
    "execution": {
     "iopub.execute_input": "2021-09-27T06:41:12.331959Z",
     "iopub.status.busy": "2021-09-27T06:41:12.327020Z",
     "iopub.status.idle": "2021-09-27T06:44:03.285841Z",
     "shell.execute_reply": "2021-09-27T06:44:03.285198Z",
     "shell.execute_reply.started": "2021-09-27T06:27:41.364585Z"
    },
    "papermill": {
     "duration": 170.986974,
     "end_time": "2021-09-27T06:44:03.286052",
     "exception": false,
     "start_time": "2021-09-27T06:41:12.299078",
     "status": "completed"
    },
    "tags": []
   },
   "outputs": [
    {
     "name": "stdout",
     "output_type": "stream",
     "text": [
      "Epoch: 1/5... Step: 100... Loss: 0.689297... Val Loss: 0.690915\n",
      "Validation loss decreased (inf --> 0.690915).  Saving model ...\n",
      "Epoch: 1/5... Step: 200... Loss: 0.657941... Val Loss: 0.661822\n",
      "Validation loss decreased (0.690915 --> 0.661822).  Saving model ...\n",
      "Epoch: 1/5... Step: 300... Loss: 0.706408... Val Loss: 0.589972\n",
      "Validation loss decreased (0.661822 --> 0.589972).  Saving model ...\n",
      "Epoch: 1/5... Step: 400... Loss: 0.615747... Val Loss: 0.548882\n",
      "Validation loss decreased (0.589972 --> 0.548882).  Saving model ...\n",
      "Epoch: 1/5... Step: 500... Loss: 0.587633... Val Loss: 0.509172\n",
      "Validation loss decreased (0.548882 --> 0.509172).  Saving model ...\n",
      "Epoch: 1/5... Step: 600... Loss: 0.382057... Val Loss: 0.496634\n",
      "Validation loss decreased (0.509172 --> 0.496634).  Saving model ...\n",
      "Epoch: 1/5... Step: 700... Loss: 0.429925... Val Loss: 0.473040\n",
      "Validation loss decreased (0.496634 --> 0.473040).  Saving model ...\n",
      "Epoch: 1/5... Step: 800... Loss: 0.439690... Val Loss: 0.458844\n",
      "Validation loss decreased (0.473040 --> 0.458844).  Saving model ...\n",
      "Epoch: 2/5... Step: 900... Loss: 0.367659... Val Loss: 0.447332\n",
      "Validation loss decreased (0.458844 --> 0.447332).  Saving model ...\n",
      "Epoch: 2/5... Step: 1000... Loss: 0.573344... Val Loss: 0.442150\n",
      "Validation loss decreased (0.447332 --> 0.442150).  Saving model ...\n",
      "Epoch: 2/5... Step: 1100... Loss: 0.302799... Val Loss: 0.433888\n",
      "Validation loss decreased (0.442150 --> 0.433888).  Saving model ...\n",
      "Epoch: 2/5... Step: 1200... Loss: 0.530086... Val Loss: 0.437443\n",
      "Epoch: 2/5... Step: 1300... Loss: 0.496585... Val Loss: 0.425070\n",
      "Validation loss decreased (0.433888 --> 0.425070).  Saving model ...\n",
      "Epoch: 2/5... Step: 1400... Loss: 0.545646... Val Loss: 0.424371\n",
      "Validation loss decreased (0.425070 --> 0.424371).  Saving model ...\n",
      "Epoch: 2/5... Step: 1500... Loss: 0.515650... Val Loss: 0.431958\n",
      "Epoch: 2/5... Step: 1600... Loss: 0.492373... Val Loss: 0.421594\n",
      "Validation loss decreased (0.424371 --> 0.421594).  Saving model ...\n",
      "Epoch: 3/5... Step: 1700... Loss: 0.367038... Val Loss: 0.426038\n",
      "Epoch: 3/5... Step: 1800... Loss: 0.428479... Val Loss: 0.413388\n",
      "Validation loss decreased (0.421594 --> 0.413388).  Saving model ...\n",
      "Epoch: 3/5... Step: 1900... Loss: 0.440378... Val Loss: 0.414095\n",
      "Epoch: 3/5... Step: 2000... Loss: 0.421603... Val Loss: 0.417317\n",
      "Epoch: 3/5... Step: 2100... Loss: 0.343517... Val Loss: 0.417105\n",
      "Epoch: 3/5... Step: 2200... Loss: 0.428140... Val Loss: 0.416397\n",
      "Epoch: 3/5... Step: 2300... Loss: 0.363901... Val Loss: 0.408425\n",
      "Validation loss decreased (0.413388 --> 0.408425).  Saving model ...\n",
      "Epoch: 3/5... Step: 2400... Loss: 0.446687... Val Loss: 0.404712\n",
      "Validation loss decreased (0.408425 --> 0.404712).  Saving model ...\n",
      "Epoch: 4/5... Step: 2500... Loss: 0.318046... Val Loss: 0.411142\n",
      "Epoch: 4/5... Step: 2600... Loss: 0.396204... Val Loss: 0.420621\n",
      "Epoch: 4/5... Step: 2700... Loss: 0.469221... Val Loss: 0.416692\n",
      "Epoch: 4/5... Step: 2800... Loss: 0.318955... Val Loss: 0.413798\n",
      "Epoch: 4/5... Step: 2900... Loss: 0.457754... Val Loss: 0.408289\n",
      "Epoch: 4/5... Step: 3000... Loss: 0.432669... Val Loss: 0.399887\n",
      "Validation loss decreased (0.404712 --> 0.399887).  Saving model ...\n",
      "Epoch: 4/5... Step: 3100... Loss: 0.515500... Val Loss: 0.401473\n",
      "Epoch: 4/5... Step: 3200... Loss: 0.314286... Val Loss: 0.406605\n",
      "Epoch: 5/5... Step: 3300... Loss: 0.243823... Val Loss: 0.432696\n",
      "Epoch: 5/5... Step: 3400... Loss: 0.325155... Val Loss: 0.417551\n",
      "Epoch: 5/5... Step: 3500... Loss: 0.461896... Val Loss: 0.416523\n",
      "Epoch: 5/5... Step: 3600... Loss: 0.248145... Val Loss: 0.421648\n",
      "Epoch: 5/5... Step: 3700... Loss: 0.358483... Val Loss: 0.413616\n",
      "Epoch: 5/5... Step: 3800... Loss: 0.580398... Val Loss: 0.418413\n",
      "Epoch: 5/5... Step: 3900... Loss: 0.442800... Val Loss: 0.427638\n",
      "Epoch: 5/5... Step: 4000... Loss: 0.542565... Val Loss: 0.424229\n"
     ]
    }
   ],
   "source": [
    "epochs = 5\n",
    "counter = 0\n",
    "print_every = 100\n",
    "clip = 5\n",
    "valid_loss_min = np.Inf\n",
    "\n",
    "model.train()\n",
    "for i in range(epochs):\n",
    "    h = model.init_hidden(batch_size)\n",
    "    \n",
    "    for inputs, labels in train_loader:\n",
    "        counter += 1\n",
    "        h = tuple([e.data for e in h])\n",
    "        inputs, labels = inputs.to(device), labels.to(device)\n",
    "        model.zero_grad()\n",
    "        output, h = model(inputs, h)\n",
    "        loss = criterion(output, labels.float())\n",
    "        loss.backward()\n",
    "        #nn.utils.clip_grad_norm_(model.parameters(), clip)\n",
    "        optimizer.step()\n",
    "        if counter%print_every == 0:\n",
    "            val_h = model.init_hidden(batch_size)\n",
    "            val_losses = []\n",
    "            model.eval()\n",
    "            for inp, lab in test_loader:\n",
    "                val_h = tuple([each.data for each in val_h])\n",
    "                inp, lab = inp.to(device), lab.to(device)\n",
    "                out, val_h = model(inp, val_h)\n",
    "                val_loss = criterion(out, lab.float())\n",
    "                val_losses.append(val_loss.item())\n",
    "                \n",
    "            model.train()\n",
    "            print(\"Epoch: {}/{}...\".format(i+1, epochs),\n",
    "                  \"Step: {}...\".format(counter),\n",
    "                  \"Loss: {:.6f}...\".format(loss.item()),\n",
    "                  \"Val Loss: {:.6f}\".format(np.mean(val_losses)))\n",
    "            if np.mean(val_losses) <= valid_loss_min:\n",
    "                torch.save(model.state_dict(), './state_dict.pt')\n",
    "                print('Validation loss decreased ({:.6f} --> {:.6f}).  Saving model ...'.format(valid_loss_min,np.mean(val_losses)))\n",
    "                valid_loss_min = np.mean(val_losses)"
   ]
  },
  {
   "cell_type": "code",
   "execution_count": 15,
   "id": "ed1549a7",
   "metadata": {
    "execution": {
     "iopub.execute_input": "2021-09-27T06:44:03.357903Z",
     "iopub.status.busy": "2021-09-27T06:44:03.356649Z",
     "iopub.status.idle": "2021-09-27T06:44:03.373082Z",
     "shell.execute_reply": "2021-09-27T06:44:03.373617Z",
     "shell.execute_reply.started": "2021-09-27T06:27:41.42034Z"
    },
    "papermill": {
     "duration": 0.056047,
     "end_time": "2021-09-27T06:44:03.373867",
     "exception": false,
     "start_time": "2021-09-27T06:44:03.317820",
     "status": "completed"
    },
    "tags": []
   },
   "outputs": [
    {
     "data": {
      "text/plain": [
       "tensor([0.9072], grad_fn=<SelectBackward>)"
      ]
     },
     "execution_count": 15,
     "metadata": {},
     "output_type": "execute_result"
    }
   ],
   "source": [
    "h = model.init_hidden(1)\n",
    "sentence = \"I love this movie because it is great\"\n",
    "trial = torch.tensor(pad_sequences(tokenizer.texts_to_sequences([sentence]), maxlen = maxlen)).to(device)\n",
    "\n",
    "\n",
    "model(trial, h)[0]"
   ]
  },
  {
   "cell_type": "code",
   "execution_count": 16,
   "id": "1ec7e1dc",
   "metadata": {
    "execution": {
     "iopub.execute_input": "2021-09-27T06:44:03.442844Z",
     "iopub.status.busy": "2021-09-27T06:44:03.442093Z",
     "iopub.status.idle": "2021-09-27T06:44:03.640124Z",
     "shell.execute_reply": "2021-09-27T06:44:03.639332Z"
    },
    "papermill": {
     "duration": 0.235472,
     "end_time": "2021-09-27T06:44:03.640289",
     "exception": false,
     "start_time": "2021-09-27T06:44:03.404817",
     "status": "completed"
    },
    "tags": []
   },
   "outputs": [
    {
     "name": "stderr",
     "output_type": "stream",
     "text": [
      "/opt/conda/lib/python3.7/site-packages/ipykernel_launcher.py:18: TracerWarning: Converting a tensor to a Python index might cause the trace to be incorrect. We can't record the data flow of Python values, so this value will be treated as a constant in the future. This means that the trace might not generalize to other inputs!\n",
      "/opt/conda/lib/python3.7/site-packages/torch/onnx/symbolic_opset9.py:1805: UserWarning: Exporting a model to ONNX with a batch_size other than 1, with a variable length with LSTM can cause an error when running the ONNX model with a different batch size. Make sure to save the model with a batch size of 1, or define the initial states (h0/c0) as inputs of the model. \n",
      "  \"or define the initial states (h0/c0) as inputs of the model. \")\n"
     ]
    }
   ],
   "source": [
    "import torch.onnx\n",
    "torch.onnx.export(model,               # model being run\n",
    "                  (trial, (torch.randn(1,1,4).to(device), torch.randn(1,1,4).to(device))),                   # model input (or a tuple for multiple inputs)\n",
    "                  \"lstm.onnx\")"
   ]
  }
 ],
 "metadata": {
  "kernelspec": {
   "display_name": "Python 3",
   "language": "python",
   "name": "python3"
  },
  "language_info": {
   "codemirror_mode": {
    "name": "ipython",
    "version": 3
   },
   "file_extension": ".py",
   "mimetype": "text/x-python",
   "name": "python",
   "nbconvert_exporter": "python",
   "pygments_lexer": "ipython3",
   "version": "3.7.10"
  },
  "papermill": {
   "default_parameters": {},
   "duration": 221.060796,
   "end_time": "2021-09-27T06:44:06.249791",
   "environment_variables": {},
   "exception": null,
   "input_path": "__notebook__.ipynb",
   "output_path": "__notebook__.ipynb",
   "parameters": {},
   "start_time": "2021-09-27T06:40:25.188995",
   "version": "2.3.3"
  }
 },
 "nbformat": 4,
 "nbformat_minor": 5
}
