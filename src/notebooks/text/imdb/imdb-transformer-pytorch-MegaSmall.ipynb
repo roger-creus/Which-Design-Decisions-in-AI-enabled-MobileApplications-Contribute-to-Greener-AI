{
 "cells": [
  {
   "cell_type": "markdown",
   "id": "d5a3898a",
   "metadata": {
    "papermill": {
     "duration": 0.015986,
     "end_time": "2021-11-26T11:51:42.949361",
     "exception": false,
     "start_time": "2021-11-26T11:51:42.933375",
     "status": "completed"
    },
    "tags": []
   },
   "source": [
    "# Sentiment Analysis using LSTM"
   ]
  },
  {
   "cell_type": "code",
   "execution_count": 1,
   "id": "5466c28a",
   "metadata": {
    "execution": {
     "iopub.execute_input": "2021-11-26T11:51:43.059173Z",
     "iopub.status.busy": "2021-11-26T11:51:43.058284Z",
     "iopub.status.idle": "2021-11-26T11:51:52.936824Z",
     "shell.execute_reply": "2021-11-26T11:51:52.937256Z",
     "shell.execute_reply.started": "2021-11-26T11:46:05.391441Z"
    },
    "papermill": {
     "duration": 9.971107,
     "end_time": "2021-11-26T11:51:52.937527",
     "exception": false,
     "start_time": "2021-11-26T11:51:42.966420",
     "status": "completed"
    },
    "tags": []
   },
   "outputs": [
    {
     "name": "stderr",
     "output_type": "stream",
     "text": [
      "2021-11-26 11:51:49.389966: I tensorflow/stream_executor/platform/default/dso_loader.cc:49] Successfully opened dynamic library libcudart.so.11.0\n"
     ]
    }
   ],
   "source": [
    "import numpy as np\n",
    "import pandas as pd\n",
    "from torch import nn\n",
    "\n",
    "import matplotlib.pyplot as plt\n",
    "import seaborn as sns\n",
    "\n",
    "import torch.nn.functional as F\n",
    "\n",
    "import re\n",
    "import string\n",
    "from collections import Counter\n",
    "from nltk.corpus import stopwords\n",
    "stop_words = set(stopwords.words('english'))\n",
    "\n",
    "from sklearn.model_selection import train_test_split\n",
    "\n",
    "import torch\n",
    "from torch.utils.data import DataLoader, TensorDataset\n",
    "import torch.nn as nn\n",
    "\n",
    "import pandas as pd\n",
    "import numpy as np\n",
    "import bz2\n",
    "import matplotlib.pyplot as plt\n",
    "import sklearn\n",
    "import tensorflow as tf\n",
    "from tensorflow.keras import models, layers, optimizers\n",
    "from tensorflow.keras.preprocessing.text import Tokenizer, text_to_word_sequence\n",
    "from tensorflow.keras.preprocessing.sequence import pad_sequences\n",
    "from sklearn.preprocessing import LabelEncoder\n",
    "\n",
    "%matplotlib inline"
   ]
  },
  {
   "cell_type": "code",
   "execution_count": 2,
   "id": "cd594ebf",
   "metadata": {
    "execution": {
     "iopub.execute_input": "2021-11-26T11:51:52.971064Z",
     "iopub.status.busy": "2021-11-26T11:51:52.970521Z",
     "iopub.status.idle": "2021-11-26T11:51:52.973532Z",
     "shell.execute_reply": "2021-11-26T11:51:52.973926Z",
     "shell.execute_reply.started": "2021-11-26T11:46:05.409146Z"
    },
    "papermill": {
     "duration": 0.021464,
     "end_time": "2021-11-26T11:51:52.974055",
     "exception": false,
     "start_time": "2021-11-26T11:51:52.952591",
     "status": "completed"
    },
    "tags": []
   },
   "outputs": [],
   "source": [
    "device = \"cuda:0\""
   ]
  },
  {
   "cell_type": "markdown",
   "id": "f9b7bca9",
   "metadata": {
    "papermill": {
     "duration": 0.01446,
     "end_time": "2021-11-26T11:51:53.003140",
     "exception": false,
     "start_time": "2021-11-26T11:51:52.988680",
     "status": "completed"
    },
    "tags": []
   },
   "source": [
    "## 1) Load in and visualize the data"
   ]
  },
  {
   "cell_type": "code",
   "execution_count": 3,
   "id": "30e4299d",
   "metadata": {
    "execution": {
     "iopub.execute_input": "2021-11-26T11:51:53.037723Z",
     "iopub.status.busy": "2021-11-26T11:51:53.037215Z",
     "iopub.status.idle": "2021-11-26T11:51:54.510332Z",
     "shell.execute_reply": "2021-11-26T11:51:54.510811Z",
     "shell.execute_reply.started": "2021-11-26T11:46:05.422503Z"
    },
    "papermill": {
     "duration": 1.49274,
     "end_time": "2021-11-26T11:51:54.510960",
     "exception": false,
     "start_time": "2021-11-26T11:51:53.018220",
     "status": "completed"
    },
    "tags": []
   },
   "outputs": [
    {
     "data": {
      "text/html": [
       "<div>\n",
       "<style scoped>\n",
       "    .dataframe tbody tr th:only-of-type {\n",
       "        vertical-align: middle;\n",
       "    }\n",
       "\n",
       "    .dataframe tbody tr th {\n",
       "        vertical-align: top;\n",
       "    }\n",
       "\n",
       "    .dataframe thead th {\n",
       "        text-align: right;\n",
       "    }\n",
       "</style>\n",
       "<table border=\"1\" class=\"dataframe\">\n",
       "  <thead>\n",
       "    <tr style=\"text-align: right;\">\n",
       "      <th></th>\n",
       "      <th>review</th>\n",
       "      <th>sentiment</th>\n",
       "    </tr>\n",
       "  </thead>\n",
       "  <tbody>\n",
       "    <tr>\n",
       "      <th>0</th>\n",
       "      <td>One of the other reviewers has mentioned that ...</td>\n",
       "      <td>positive</td>\n",
       "    </tr>\n",
       "    <tr>\n",
       "      <th>1</th>\n",
       "      <td>A wonderful little production. &lt;br /&gt;&lt;br /&gt;The...</td>\n",
       "      <td>positive</td>\n",
       "    </tr>\n",
       "    <tr>\n",
       "      <th>2</th>\n",
       "      <td>I thought this was a wonderful way to spend ti...</td>\n",
       "      <td>positive</td>\n",
       "    </tr>\n",
       "    <tr>\n",
       "      <th>3</th>\n",
       "      <td>Basically there's a family where a little boy ...</td>\n",
       "      <td>negative</td>\n",
       "    </tr>\n",
       "    <tr>\n",
       "      <th>4</th>\n",
       "      <td>Petter Mattei's \"Love in the Time of Money\" is...</td>\n",
       "      <td>positive</td>\n",
       "    </tr>\n",
       "  </tbody>\n",
       "</table>\n",
       "</div>"
      ],
      "text/plain": [
       "                                              review sentiment\n",
       "0  One of the other reviewers has mentioned that ...  positive\n",
       "1  A wonderful little production. <br /><br />The...  positive\n",
       "2  I thought this was a wonderful way to spend ti...  positive\n",
       "3  Basically there's a family where a little boy ...  negative\n",
       "4  Petter Mattei's \"Love in the Time of Money\" is...  positive"
      ]
     },
     "execution_count": 3,
     "metadata": {},
     "output_type": "execute_result"
    }
   ],
   "source": [
    "df = pd.read_csv('../input/imdb-dataset-of-50k-movie-reviews/IMDB Dataset.csv')\n",
    "df.head()"
   ]
  },
  {
   "cell_type": "markdown",
   "id": "601a1df5",
   "metadata": {
    "papermill": {
     "duration": 0.015129,
     "end_time": "2021-11-26T11:51:54.551672",
     "exception": false,
     "start_time": "2021-11-26T11:51:54.536543",
     "status": "completed"
    },
    "tags": []
   },
   "source": [
    "## 2) Data Processing — convert to lower case, Remove punctuation etc"
   ]
  },
  {
   "cell_type": "code",
   "execution_count": 4,
   "id": "e102fadb",
   "metadata": {
    "execution": {
     "iopub.execute_input": "2021-11-26T11:51:54.610271Z",
     "iopub.status.busy": "2021-11-26T11:51:54.600064Z",
     "iopub.status.idle": "2021-11-26T11:52:04.227832Z",
     "shell.execute_reply": "2021-11-26T11:52:04.227376Z",
     "shell.execute_reply.started": "2021-11-26T11:46:05.957734Z"
    },
    "papermill": {
     "duration": 9.661072,
     "end_time": "2021-11-26T11:52:04.227957",
     "exception": false,
     "start_time": "2021-11-26T11:51:54.566885",
     "status": "completed"
    },
    "tags": []
   },
   "outputs": [
    {
     "data": {
      "text/html": [
       "<div>\n",
       "<style scoped>\n",
       "    .dataframe tbody tr th:only-of-type {\n",
       "        vertical-align: middle;\n",
       "    }\n",
       "\n",
       "    .dataframe tbody tr th {\n",
       "        vertical-align: top;\n",
       "    }\n",
       "\n",
       "    .dataframe thead th {\n",
       "        text-align: right;\n",
       "    }\n",
       "</style>\n",
       "<table border=\"1\" class=\"dataframe\">\n",
       "  <thead>\n",
       "    <tr style=\"text-align: right;\">\n",
       "      <th></th>\n",
       "      <th>review</th>\n",
       "      <th>sentiment</th>\n",
       "      <th>cleaned_reviews</th>\n",
       "    </tr>\n",
       "  </thead>\n",
       "  <tbody>\n",
       "    <tr>\n",
       "      <th>0</th>\n",
       "      <td>One of the other reviewers has mentioned that ...</td>\n",
       "      <td>positive</td>\n",
       "      <td>one reviewers mentioned watching 1 oz episode ...</td>\n",
       "    </tr>\n",
       "    <tr>\n",
       "      <th>1</th>\n",
       "      <td>A wonderful little production. &lt;br /&gt;&lt;br /&gt;The...</td>\n",
       "      <td>positive</td>\n",
       "      <td>wonderful little production filming technique ...</td>\n",
       "    </tr>\n",
       "    <tr>\n",
       "      <th>2</th>\n",
       "      <td>I thought this was a wonderful way to spend ti...</td>\n",
       "      <td>positive</td>\n",
       "      <td>thought wonderful way spend time hot summer we...</td>\n",
       "    </tr>\n",
       "    <tr>\n",
       "      <th>3</th>\n",
       "      <td>Basically there's a family where a little boy ...</td>\n",
       "      <td>negative</td>\n",
       "      <td>basically theres family little boy jake thinks...</td>\n",
       "    </tr>\n",
       "    <tr>\n",
       "      <th>4</th>\n",
       "      <td>Petter Mattei's \"Love in the Time of Money\" is...</td>\n",
       "      <td>positive</td>\n",
       "      <td>petter matteis love time money visually stunni...</td>\n",
       "    </tr>\n",
       "  </tbody>\n",
       "</table>\n",
       "</div>"
      ],
      "text/plain": [
       "                                              review sentiment  \\\n",
       "0  One of the other reviewers has mentioned that ...  positive   \n",
       "1  A wonderful little production. <br /><br />The...  positive   \n",
       "2  I thought this was a wonderful way to spend ti...  positive   \n",
       "3  Basically there's a family where a little boy ...  negative   \n",
       "4  Petter Mattei's \"Love in the Time of Money\" is...  positive   \n",
       "\n",
       "                                     cleaned_reviews  \n",
       "0  one reviewers mentioned watching 1 oz episode ...  \n",
       "1  wonderful little production filming technique ...  \n",
       "2  thought wonderful way spend time hot summer we...  \n",
       "3  basically theres family little boy jake thinks...  \n",
       "4  petter matteis love time money visually stunni...  "
      ]
     },
     "execution_count": 4,
     "metadata": {},
     "output_type": "execute_result"
    }
   ],
   "source": [
    "def data_preprocessing(text):\n",
    "    text = text.lower()\n",
    "    text = re.sub('<.*?>', '', text) # Remove HTML from text\n",
    "    text = ''.join([c for c in text if c not in string.punctuation])# Remove punctuation\n",
    "    text = [word for word in text.split() if word not in stop_words]\n",
    "    text = ' '.join(text)\n",
    "    return text\n",
    "\n",
    "df['cleaned_reviews'] = df['review'].apply(data_preprocessing)\n",
    "df.head()"
   ]
  },
  {
   "cell_type": "markdown",
   "id": "66c2b15a",
   "metadata": {
    "papermill": {
     "duration": 0.015268,
     "end_time": "2021-11-26T11:52:04.259447",
     "exception": false,
     "start_time": "2021-11-26T11:52:04.244179",
     "status": "completed"
    },
    "tags": []
   },
   "source": [
    "## 5) Tokenize — Create Vocab to Int mapping dictionary\n",
    "In most of the NLP tasks, you will create an index mapping dictionary in such a way that your frequently occurring words are assigned lower indexes. One of the most common way of doing this is to use Counter method from Collections library."
   ]
  },
  {
   "cell_type": "code",
   "execution_count": 5,
   "id": "cae01f8d",
   "metadata": {
    "execution": {
     "iopub.execute_input": "2021-11-26T11:52:04.329197Z",
     "iopub.status.busy": "2021-11-26T11:52:04.324015Z",
     "iopub.status.idle": "2021-11-26T11:52:10.252934Z",
     "shell.execute_reply": "2021-11-26T11:52:10.253521Z",
     "shell.execute_reply.started": "2021-11-26T11:46:15.690609Z"
    },
    "papermill": {
     "duration": 5.978525,
     "end_time": "2021-11-26T11:52:10.253723",
     "exception": false,
     "start_time": "2021-11-26T11:52:04.275198",
     "status": "completed"
    },
    "tags": []
   },
   "outputs": [
    {
     "name": "stdout",
     "output_type": "stream",
     "text": [
      "Vocabulary Size : 222610\n"
     ]
    }
   ],
   "source": [
    "max_features = 8192\n",
    "maxlen = 30\n",
    "\n",
    "tokenizer = Tokenizer(num_words=max_features)\n",
    "tokenizer.fit_on_texts(df['cleaned_reviews'])\n",
    "\n",
    "word_index = tokenizer.word_index\n",
    "vocab_size = len(tokenizer.word_index) + 1\n",
    "print(\"Vocabulary Size :\", vocab_size)"
   ]
  },
  {
   "cell_type": "code",
   "execution_count": 6,
   "id": "b02f90e0",
   "metadata": {
    "execution": {
     "iopub.execute_input": "2021-11-26T11:52:10.303393Z",
     "iopub.status.busy": "2021-11-26T11:52:10.298329Z",
     "iopub.status.idle": "2021-11-26T11:52:15.184895Z",
     "shell.execute_reply": "2021-11-26T11:52:15.185656Z",
     "shell.execute_reply.started": "2021-11-26T11:46:21.828166Z"
    },
    "papermill": {
     "duration": 4.915599,
     "end_time": "2021-11-26T11:52:15.185895",
     "exception": false,
     "start_time": "2021-11-26T11:52:10.270296",
     "status": "completed"
    },
    "tags": []
   },
   "outputs": [],
   "source": [
    "training_token = tokenizer.texts_to_sequences(df['cleaned_reviews'])\n",
    "x_data = pad_sequences(training_token, maxlen = maxlen, padding = 'post')"
   ]
  },
  {
   "cell_type": "code",
   "execution_count": 7,
   "id": "0872f529",
   "metadata": {
    "execution": {
     "iopub.execute_input": "2021-11-26T11:52:15.252479Z",
     "iopub.status.busy": "2021-11-26T11:52:15.251625Z",
     "iopub.status.idle": "2021-11-26T11:52:15.304903Z",
     "shell.execute_reply": "2021-11-26T11:52:15.303519Z",
     "shell.execute_reply.started": "2021-11-26T11:46:26.370519Z"
    },
    "papermill": {
     "duration": 0.091596,
     "end_time": "2021-11-26T11:52:15.305083",
     "exception": false,
     "start_time": "2021-11-26T11:52:15.213487",
     "status": "completed"
    },
    "tags": []
   },
   "outputs": [],
   "source": [
    "y_data = df['sentiment'].apply(lambda x: 1 if x == 'positive' else 0)"
   ]
  },
  {
   "cell_type": "code",
   "execution_count": 8,
   "id": "a5543fb1",
   "metadata": {
    "execution": {
     "iopub.execute_input": "2021-11-26T11:52:15.369380Z",
     "iopub.status.busy": "2021-11-26T11:52:15.368563Z",
     "iopub.status.idle": "2021-11-26T11:52:15.389976Z",
     "shell.execute_reply": "2021-11-26T11:52:15.390646Z",
     "shell.execute_reply.started": "2021-11-26T11:46:26.405302Z"
    },
    "papermill": {
     "duration": 0.056347,
     "end_time": "2021-11-26T11:52:15.390877",
     "exception": false,
     "start_time": "2021-11-26T11:52:15.334530",
     "status": "completed"
    },
    "tags": []
   },
   "outputs": [],
   "source": [
    "X_train, X_remain, y_train, y_remain = train_test_split(x_data, y_data, test_size=0.2, random_state=1)\n",
    "X_valid, X_test, y_valid, y_test = train_test_split(X_remain, y_remain, test_size=0.5, random_state=1)"
   ]
  },
  {
   "cell_type": "code",
   "execution_count": 9,
   "id": "4060725e",
   "metadata": {
    "execution": {
     "iopub.execute_input": "2021-11-26T11:52:15.459644Z",
     "iopub.status.busy": "2021-11-26T11:52:15.458672Z",
     "iopub.status.idle": "2021-11-26T11:52:15.461201Z",
     "shell.execute_reply": "2021-11-26T11:52:15.460461Z",
     "shell.execute_reply.started": "2021-11-26T11:46:26.422158Z"
    },
    "papermill": {
     "duration": 0.040228,
     "end_time": "2021-11-26T11:52:15.461375",
     "exception": false,
     "start_time": "2021-11-26T11:52:15.421147",
     "status": "completed"
    },
    "tags": []
   },
   "outputs": [],
   "source": [
    "y_train = y_train.to_numpy().reshape(-1,1)\n",
    "y_test = y_test.to_numpy().reshape(-1,1)"
   ]
  },
  {
   "cell_type": "code",
   "execution_count": 10,
   "id": "e8f61d91",
   "metadata": {
    "execution": {
     "iopub.execute_input": "2021-11-26T11:52:15.531588Z",
     "iopub.status.busy": "2021-11-26T11:52:15.530691Z",
     "iopub.status.idle": "2021-11-26T11:52:15.545139Z",
     "shell.execute_reply": "2021-11-26T11:52:15.546196Z",
     "shell.execute_reply.started": "2021-11-26T11:46:26.428343Z"
    },
    "papermill": {
     "duration": 0.056896,
     "end_time": "2021-11-26T11:52:15.546393",
     "exception": false,
     "start_time": "2021-11-26T11:52:15.489497",
     "status": "completed"
    },
    "tags": []
   },
   "outputs": [],
   "source": [
    "# create tensor dataset\n",
    "train_data = TensorDataset(torch.from_numpy(X_train.astype('float64')), torch.from_numpy(np.array(y_train).astype('float64')))\n",
    "test_data = TensorDataset(torch.from_numpy(X_test), torch.from_numpy(np.array(y_test).astype('float64')))\n",
    "valid_data = TensorDataset(torch.from_numpy(X_valid), torch.from_numpy(np.array(y_valid).astype('float64')))\n",
    "\n",
    "# dataloaders\n",
    "batch_size = 50\n",
    "\n",
    "train_loader = DataLoader(train_data, shuffle=True, batch_size=batch_size)\n",
    "test_loader = DataLoader(test_data, shuffle=True, batch_size=batch_size)\n",
    "valid_loader = DataLoader(valid_data, shuffle=True, batch_size=batch_size)"
   ]
  },
  {
   "cell_type": "code",
   "execution_count": 11,
   "id": "b4cb1bfa",
   "metadata": {
    "execution": {
     "iopub.execute_input": "2021-11-26T11:52:15.609557Z",
     "iopub.status.busy": "2021-11-26T11:52:15.608733Z",
     "iopub.status.idle": "2021-11-26T11:52:15.684621Z",
     "shell.execute_reply": "2021-11-26T11:52:15.683874Z",
     "shell.execute_reply.started": "2021-11-26T11:46:26.444992Z"
    },
    "papermill": {
     "duration": 0.111926,
     "end_time": "2021-11-26T11:52:15.684879",
     "exception": false,
     "start_time": "2021-11-26T11:52:15.572953",
     "status": "completed"
    },
    "tags": []
   },
   "outputs": [
    {
     "name": "stdout",
     "output_type": "stream",
     "text": [
      "Sample input size:  torch.Size([50, 30])\n",
      "Sample input: \n",
      " tensor([[1.2330e+03, 4.3000e+02, 5.0000e+01,  ..., 6.1600e+02, 8.5700e+02,\n",
      "         4.2000e+02],\n",
      "        [2.7000e+01, 5.4600e+02, 7.0300e+02,  ..., 1.2760e+03, 7.3950e+03,\n",
      "         7.0300e+02],\n",
      "        [6.0000e+01, 7.0000e+00, 1.2380e+03,  ..., 2.0000e+01, 3.2500e+02,\n",
      "         8.0000e+00],\n",
      "        ...,\n",
      "        [8.7700e+02, 1.3000e+01, 5.5000e+01,  ..., 2.4000e+02, 1.5400e+02,\n",
      "         1.4300e+02],\n",
      "        [1.7540e+03, 9.0000e+00, 1.5700e+02,  ..., 1.7690e+03, 1.3000e+01,\n",
      "         1.2500e+02],\n",
      "        [1.5880e+03, 1.0000e+00, 3.8000e+01,  ..., 0.0000e+00, 0.0000e+00,\n",
      "         0.0000e+00]], dtype=torch.float64)\n",
      "Sample input: \n",
      " tensor([[0.],\n",
      "        [0.],\n",
      "        [0.],\n",
      "        [1.],\n",
      "        [1.],\n",
      "        [0.],\n",
      "        [1.],\n",
      "        [0.],\n",
      "        [0.],\n",
      "        [1.],\n",
      "        [1.],\n",
      "        [1.],\n",
      "        [0.],\n",
      "        [0.],\n",
      "        [0.],\n",
      "        [0.],\n",
      "        [0.],\n",
      "        [0.],\n",
      "        [0.],\n",
      "        [1.],\n",
      "        [1.],\n",
      "        [1.],\n",
      "        [0.],\n",
      "        [1.],\n",
      "        [1.],\n",
      "        [0.],\n",
      "        [1.],\n",
      "        [1.],\n",
      "        [0.],\n",
      "        [0.],\n",
      "        [1.],\n",
      "        [0.],\n",
      "        [0.],\n",
      "        [1.],\n",
      "        [1.],\n",
      "        [1.],\n",
      "        [0.],\n",
      "        [0.],\n",
      "        [1.],\n",
      "        [1.],\n",
      "        [0.],\n",
      "        [1.],\n",
      "        [1.],\n",
      "        [1.],\n",
      "        [0.],\n",
      "        [1.],\n",
      "        [0.],\n",
      "        [0.],\n",
      "        [1.],\n",
      "        [0.]], dtype=torch.float64)\n"
     ]
    }
   ],
   "source": [
    "# obtain one batch of training data\n",
    "dataiter = iter(train_loader)\n",
    "sample_x, sample_y = dataiter.next()\n",
    "\n",
    "print('Sample input size: ', sample_x.size()) # batch_size, seq_length\n",
    "print('Sample input: \\n', sample_x)\n",
    "print('Sample input: \\n', sample_y)"
   ]
  },
  {
   "cell_type": "code",
   "execution_count": 12,
   "id": "8a2523af",
   "metadata": {
    "execution": {
     "iopub.execute_input": "2021-11-26T11:52:15.730165Z",
     "iopub.status.busy": "2021-11-26T11:52:15.729339Z",
     "iopub.status.idle": "2021-11-26T11:52:15.732495Z",
     "shell.execute_reply": "2021-11-26T11:52:15.732960Z",
     "shell.execute_reply.started": "2021-11-26T11:46:26.462967Z"
    },
    "papermill": {
     "duration": 0.02945,
     "end_time": "2021-11-26T11:52:15.733117",
     "exception": false,
     "start_time": "2021-11-26T11:52:15.703667",
     "status": "completed"
    },
    "tags": []
   },
   "outputs": [],
   "source": [
    "class PositionalEncoding(nn.Module):\n",
    "\n",
    "    def __init__(self, d_model, dropout=0.1, max_len=5000):\n",
    "        super(PositionalEncoding, self).__init__()\n",
    "        self.dropout = nn.Dropout(p=dropout)\n",
    "\n",
    "        pe = torch.zeros(max_len, d_model)\n",
    "        position = torch.arange(0, max_len, dtype=torch.float).unsqueeze(1)\n",
    "        div_term = torch.exp(torch.arange(0, d_model, 2).float() * (-math.log(10000.0) / d_model))\n",
    "        pe[:, 0::2] = torch.sin(position * div_term)\n",
    "        pe[:, 1::2] = torch.cos(position * div_term)\n",
    "        pe = pe.unsqueeze(0).transpose(0, 1)\n",
    "        self.register_buffer('pe', pe)\n",
    "\n",
    "    def forward(self, x):\n",
    "        x = x + self.pe[:x.size(0), :]\n",
    "        return self.dropout(x)"
   ]
  },
  {
   "cell_type": "code",
   "execution_count": 13,
   "id": "c648a78e",
   "metadata": {
    "execution": {
     "iopub.execute_input": "2021-11-26T11:52:15.777119Z",
     "iopub.status.busy": "2021-11-26T11:52:15.776344Z",
     "iopub.status.idle": "2021-11-26T11:52:15.778466Z",
     "shell.execute_reply": "2021-11-26T11:52:15.778978Z",
     "shell.execute_reply.started": "2021-11-26T11:46:26.473811Z"
    },
    "papermill": {
     "duration": 0.029045,
     "end_time": "2021-11-26T11:52:15.779105",
     "exception": false,
     "start_time": "2021-11-26T11:52:15.750060",
     "status": "completed"
    },
    "tags": []
   },
   "outputs": [],
   "source": [
    "class SentimentNet(nn.Module):\n",
    "    def __init__(self, vocab_size, output_size, embedding_dim, hidden_dim, n_layers, drop_prob=0.2):\n",
    "        super(SentimentNet, self).__init__()\n",
    "        self.output_size = output_size\n",
    "        self.n_layers = n_layers\n",
    "        self.hidden_dim = hidden_dim\n",
    "        self.dropout = nn.Dropout(drop_prob)\n",
    "        self.embedding_dim = embedding_dim\n",
    "        self.sigmoid = nn.Sigmoid()\n",
    "        \n",
    "        \n",
    "        self.encoder = nn.Embedding(vocab_size, embedding_dim)\n",
    "        self.pos_encoder = PositionalEncoding(embedding_dim, drop_prob)\n",
    "        encoder_layer = nn.TransformerEncoderLayer(embedding_dim, 2, hidden_dim)\n",
    "        self.transformer_encoder = nn.TransformerEncoder(encoder_layer, num_layers=1)\n",
    "        \n",
    "\n",
    "        self.fc = nn.Linear(embedding_dim * 30 , 1)\n",
    "\n",
    "     \n",
    "    \"\"\"\n",
    "    def forward(self, x):\n",
    "        #print(x.shape)\n",
    "        if len(x) != 1:\n",
    "            batch_size = x.size(0)\n",
    "\n",
    "        x = x.long()\n",
    "        \n",
    "        embeds = self.embedding(x)\n",
    "        \n",
    "        print(embeds.shape)\n",
    "        \n",
    "        out = self.transformer_encoder(embeds)\n",
    "        \n",
    "        print(out.shape)\n",
    "\n",
    "        out = self.fc(out)\n",
    "                \n",
    "        print(out.shape)\n",
    "\n",
    "        return out\n",
    "        \"\"\"\n",
    "    \n",
    "    def forward(self, src):\n",
    "        src = self.encoder(src) * math.sqrt(self.embedding_dim)\n",
    "        src = self.pos_encoder(src)\n",
    "        output = self.transformer_encoder(src)\n",
    "        output = output.view(output.size(0), -1)\n",
    "        output = self.sigmoid(self.fc(output))\n",
    "        return output"
   ]
  },
  {
   "cell_type": "code",
   "execution_count": 14,
   "id": "43ba30d3",
   "metadata": {
    "execution": {
     "iopub.execute_input": "2021-11-26T11:52:15.817998Z",
     "iopub.status.busy": "2021-11-26T11:52:15.815615Z",
     "iopub.status.idle": "2021-11-26T11:52:15.820404Z",
     "shell.execute_reply": "2021-11-26T11:52:15.819950Z",
     "shell.execute_reply.started": "2021-11-26T11:46:26.486603Z"
    },
    "papermill": {
     "duration": 0.024312,
     "end_time": "2021-11-26T11:52:15.820509",
     "exception": false,
     "start_time": "2021-11-26T11:52:15.796197",
     "status": "completed"
    },
    "tags": []
   },
   "outputs": [],
   "source": [
    "def model_params(model):\n",
    "    pp=0\n",
    "    for p in list(model.parameters()):\n",
    "        nn=1\n",
    "        for s in list(p.size()):\n",
    "            nn = nn*s\n",
    "        pp += nn\n",
    "    return pp"
   ]
  },
  {
   "cell_type": "code",
   "execution_count": 15,
   "id": "5cdaaf05",
   "metadata": {
    "execution": {
     "iopub.execute_input": "2021-11-26T11:52:15.858957Z",
     "iopub.status.busy": "2021-11-26T11:52:15.858327Z",
     "iopub.status.idle": "2021-11-26T11:52:22.832502Z",
     "shell.execute_reply": "2021-11-26T11:52:22.833170Z",
     "shell.execute_reply.started": "2021-11-26T11:49:34.490962Z"
    },
    "papermill": {
     "duration": 6.996253,
     "end_time": "2021-11-26T11:52:22.833376",
     "exception": false,
     "start_time": "2021-11-26T11:52:15.837123",
     "status": "completed"
    },
    "tags": []
   },
   "outputs": [
    {
     "name": "stdout",
     "output_type": "stream",
     "text": [
      "2226975\n"
     ]
    }
   ],
   "source": [
    "import math\n",
    "\n",
    "output_size = 1\n",
    "embedding_dim = 10\n",
    "hidden_dim = 4\n",
    "n_layers = 1\n",
    "\n",
    "model = SentimentNet(vocab_size, output_size, embedding_dim, hidden_dim, n_layers)\n",
    "model.to(device)\n",
    "print(model_params(model))\n",
    "lr=0.008\n",
    "criterion = nn.BCELoss()\n",
    "optimizer = torch.optim.Adam(model.parameters(), lr=lr)"
   ]
  },
  {
   "cell_type": "code",
   "execution_count": 16,
   "id": "77598d18",
   "metadata": {
    "execution": {
     "iopub.execute_input": "2021-11-26T11:52:22.879802Z",
     "iopub.status.busy": "2021-11-26T11:52:22.879019Z",
     "iopub.status.idle": "2021-11-26T11:53:28.960478Z",
     "shell.execute_reply": "2021-11-26T11:53:28.960930Z",
     "shell.execute_reply.started": "2021-11-26T11:47:36.269503Z"
    },
    "papermill": {
     "duration": 66.108893,
     "end_time": "2021-11-26T11:53:28.961094",
     "exception": false,
     "start_time": "2021-11-26T11:52:22.852201",
     "status": "completed"
    },
    "tags": []
   },
   "outputs": [
    {
     "name": "stdout",
     "output_type": "stream",
     "text": [
      "Epoch: 1/10... Step: 100... Loss: 0.727835... Val Loss: 0.709511\n",
      "Validation loss decreased (inf --> 0.709511).  Saving model ...\n",
      "Epoch: 1/10... Step: 200... Loss: 0.701021... Val Loss: 0.687450\n",
      "Validation loss decreased (0.709511 --> 0.687450).  Saving model ...\n",
      "Epoch: 1/10... Step: 300... Loss: 0.673873... Val Loss: 0.668879\n",
      "Validation loss decreased (0.687450 --> 0.668879).  Saving model ...\n",
      "Epoch: 1/10... Step: 400... Loss: 0.698600... Val Loss: 0.650765\n",
      "Validation loss decreased (0.668879 --> 0.650765).  Saving model ...\n",
      "Epoch: 1/10... Step: 500... Loss: 0.666792... Val Loss: 0.603221\n",
      "Validation loss decreased (0.650765 --> 0.603221).  Saving model ...\n",
      "Epoch: 1/10... Step: 600... Loss: 0.579510... Val Loss: 0.576733\n",
      "Validation loss decreased (0.603221 --> 0.576733).  Saving model ...\n",
      "Epoch: 1/10... Step: 700... Loss: 0.520003... Val Loss: 0.544286\n",
      "Validation loss decreased (0.576733 --> 0.544286).  Saving model ...\n",
      "Epoch: 1/10... Step: 800... Loss: 0.439795... Val Loss: 0.503878\n",
      "Validation loss decreased (0.544286 --> 0.503878).  Saving model ...\n",
      "Epoch: 2/10... Step: 900... Loss: 0.452597... Val Loss: 0.484960\n",
      "Validation loss decreased (0.503878 --> 0.484960).  Saving model ...\n",
      "Epoch: 2/10... Step: 1000... Loss: 0.478291... Val Loss: 0.458519\n",
      "Validation loss decreased (0.484960 --> 0.458519).  Saving model ...\n",
      "Epoch: 2/10... Step: 1100... Loss: 0.407944... Val Loss: 0.449521\n",
      "Validation loss decreased (0.458519 --> 0.449521).  Saving model ...\n",
      "Epoch: 2/10... Step: 1200... Loss: 0.356882... Val Loss: 0.424979\n",
      "Validation loss decreased (0.449521 --> 0.424979).  Saving model ...\n",
      "Epoch: 2/10... Step: 1300... Loss: 0.367756... Val Loss: 0.422183\n",
      "Validation loss decreased (0.424979 --> 0.422183).  Saving model ...\n",
      "Epoch: 2/10... Step: 1400... Loss: 0.476856... Val Loss: 0.406443\n",
      "Validation loss decreased (0.422183 --> 0.406443).  Saving model ...\n",
      "Epoch: 2/10... Step: 1500... Loss: 0.578703... Val Loss: 0.434878\n",
      "Epoch: 2/10... Step: 1600... Loss: 0.438108... Val Loss: 0.403624\n",
      "Validation loss decreased (0.406443 --> 0.403624).  Saving model ...\n",
      "Epoch: 3/10... Step: 1700... Loss: 0.442688... Val Loss: 0.388818\n",
      "Validation loss decreased (0.403624 --> 0.388818).  Saving model ...\n",
      "Epoch: 3/10... Step: 1800... Loss: 0.292984... Val Loss: 0.395322\n",
      "Epoch: 3/10... Step: 1900... Loss: 0.409917... Val Loss: 0.384329\n",
      "Validation loss decreased (0.388818 --> 0.384329).  Saving model ...\n",
      "Epoch: 3/10... Step: 2000... Loss: 0.589415... Val Loss: 0.378963\n",
      "Validation loss decreased (0.384329 --> 0.378963).  Saving model ...\n",
      "Epoch: 3/10... Step: 2100... Loss: 0.482696... Val Loss: 0.377276\n",
      "Validation loss decreased (0.378963 --> 0.377276).  Saving model ...\n",
      "Epoch: 3/10... Step: 2200... Loss: 0.256906... Val Loss: 0.390919\n",
      "Epoch: 3/10... Step: 2300... Loss: 0.363726... Val Loss: 0.370824\n",
      "Validation loss decreased (0.377276 --> 0.370824).  Saving model ...\n",
      "Epoch: 3/10... Step: 2400... Loss: 0.499454... Val Loss: 0.376351\n",
      "Epoch: 4/10... Step: 2500... Loss: 0.330961... Val Loss: 0.381485\n",
      "Epoch: 4/10... Step: 2600... Loss: 0.324795... Val Loss: 0.373842\n",
      "Epoch: 4/10... Step: 2700... Loss: 0.231802... Val Loss: 0.376439\n",
      "Epoch: 4/10... Step: 2800... Loss: 0.335545... Val Loss: 0.381584\n",
      "Epoch: 4/10... Step: 2900... Loss: 0.298140... Val Loss: 0.383286\n",
      "Epoch: 4/10... Step: 3000... Loss: 0.483145... Val Loss: 0.376819\n",
      "Epoch: 4/10... Step: 3100... Loss: 0.296032... Val Loss: 0.365819\n",
      "Validation loss decreased (0.370824 --> 0.365819).  Saving model ...\n",
      "Epoch: 4/10... Step: 3200... Loss: 0.331979... Val Loss: 0.369810\n",
      "Epoch: 5/10... Step: 3300... Loss: 0.301456... Val Loss: 0.399128\n",
      "Epoch: 5/10... Step: 3400... Loss: 0.272420... Val Loss: 0.379173\n",
      "Epoch: 5/10... Step: 3500... Loss: 0.282623... Val Loss: 0.400082\n",
      "Epoch: 5/10... Step: 3600... Loss: 0.311892... Val Loss: 0.389708\n",
      "Epoch: 5/10... Step: 3700... Loss: 0.247541... Val Loss: 0.383084\n",
      "Epoch: 5/10... Step: 3800... Loss: 0.294352... Val Loss: 0.385676\n",
      "Epoch: 5/10... Step: 3900... Loss: 0.192924... Val Loss: 0.384544\n",
      "Epoch: 5/10... Step: 4000... Loss: 0.498627... Val Loss: 0.367574\n",
      "Epoch: 6/10... Step: 4100... Loss: 0.291351... Val Loss: 0.380945\n",
      "Epoch: 6/10... Step: 4200... Loss: 0.395042... Val Loss: 0.405272\n",
      "Epoch: 6/10... Step: 4300... Loss: 0.356815... Val Loss: 0.405722\n",
      "Epoch: 6/10... Step: 4400... Loss: 0.289199... Val Loss: 0.396341\n",
      "Epoch: 6/10... Step: 4500... Loss: 0.262216... Val Loss: 0.391560\n",
      "Epoch: 6/10... Step: 4600... Loss: 0.300395... Val Loss: 0.384990\n",
      "Epoch: 6/10... Step: 4700... Loss: 0.360774... Val Loss: 0.384649\n",
      "Epoch: 6/10... Step: 4800... Loss: 0.413696... Val Loss: 0.386049\n",
      "Epoch: 7/10... Step: 4900... Loss: 0.367575... Val Loss: 0.427317\n",
      "Epoch: 7/10... Step: 5000... Loss: 0.174848... Val Loss: 0.411255\n",
      "Epoch: 7/10... Step: 5100... Loss: 0.249075... Val Loss: 0.420398\n",
      "Epoch: 7/10... Step: 5200... Loss: 0.286299... Val Loss: 0.408219\n",
      "Epoch: 7/10... Step: 5300... Loss: 0.343250... Val Loss: 0.414846\n",
      "Epoch: 7/10... Step: 5400... Loss: 0.234544... Val Loss: 0.405238\n",
      "Epoch: 7/10... Step: 5500... Loss: 0.206937... Val Loss: 0.393209\n",
      "Epoch: 7/10... Step: 5600... Loss: 0.298550... Val Loss: 0.413717\n",
      "Epoch: 8/10... Step: 5700... Loss: 0.197375... Val Loss: 0.438853\n",
      "Epoch: 8/10... Step: 5800... Loss: 0.277041... Val Loss: 0.444147\n",
      "Epoch: 8/10... Step: 5900... Loss: 0.167882... Val Loss: 0.424889\n",
      "Epoch: 8/10... Step: 6000... Loss: 0.170064... Val Loss: 0.424057\n",
      "Epoch: 8/10... Step: 6100... Loss: 0.281899... Val Loss: 0.453708\n",
      "Epoch: 8/10... Step: 6200... Loss: 0.158528... Val Loss: 0.440630\n",
      "Epoch: 8/10... Step: 6300... Loss: 0.199923... Val Loss: 0.429336\n",
      "Epoch: 8/10... Step: 6400... Loss: 0.285166... Val Loss: 0.421161\n",
      "Epoch: 9/10... Step: 6500... Loss: 0.358894... Val Loss: 0.469201\n",
      "Epoch: 9/10... Step: 6600... Loss: 0.394743... Val Loss: 0.528643\n",
      "Epoch: 9/10... Step: 6700... Loss: 0.201451... Val Loss: 0.471836\n",
      "Epoch: 9/10... Step: 6800... Loss: 0.283440... Val Loss: 0.483333\n",
      "Epoch: 9/10... Step: 6900... Loss: 0.270377... Val Loss: 0.474022\n",
      "Epoch: 9/10... Step: 7000... Loss: 0.285800... Val Loss: 0.471124\n",
      "Epoch: 9/10... Step: 7100... Loss: 0.216981... Val Loss: 0.471119\n",
      "Epoch: 9/10... Step: 7200... Loss: 0.112733... Val Loss: 0.463341\n",
      "Epoch: 10/10... Step: 7300... Loss: 0.174251... Val Loss: 0.491851\n",
      "Epoch: 10/10... Step: 7400... Loss: 0.208555... Val Loss: 0.509907\n",
      "Epoch: 10/10... Step: 7500... Loss: 0.151037... Val Loss: 0.491526\n",
      "Epoch: 10/10... Step: 7600... Loss: 0.127923... Val Loss: 0.489148\n",
      "Epoch: 10/10... Step: 7700... Loss: 0.104937... Val Loss: 0.501695\n",
      "Epoch: 10/10... Step: 7800... Loss: 0.157231... Val Loss: 0.497383\n",
      "Epoch: 10/10... Step: 7900... Loss: 0.132344... Val Loss: 0.485108\n",
      "Epoch: 10/10... Step: 8000... Loss: 0.373515... Val Loss: 0.484707\n"
     ]
    }
   ],
   "source": [
    "epochs = 10\n",
    "counter = 0\n",
    "print_every = 100\n",
    "clip = 5\n",
    "valid_loss_min = np.Inf\n",
    "\n",
    "model.train()\n",
    "for i in range(epochs):\n",
    "    \n",
    "    for inputs, labels in train_loader:\n",
    "        counter += 1\n",
    "        inputs, labels = inputs.to(device), labels.to(device)\n",
    "        model.zero_grad()\n",
    "        output = model(inputs.long())\n",
    "        \n",
    "        loss = criterion(output, labels.float())\n",
    "        \n",
    "        \n",
    "        loss.backward()\n",
    "        #nn.utils.clip_grad_norm_(model.parameters(), clip)\n",
    "        optimizer.step()\n",
    "        \n",
    "        if counter%print_every == 0:\n",
    "            val_losses = []\n",
    "            model.eval()\n",
    "            for inp, lab in test_loader:\n",
    "                inp, lab = inp.to(device), lab.to(device)\n",
    "                out = model(inp.long())\n",
    "                val_loss = criterion(out, lab.float())\n",
    "                val_losses.append(val_loss.item())\n",
    "                \n",
    "            model.train()\n",
    "            print(\"Epoch: {}/{}...\".format(i+1, epochs),\n",
    "                  \"Step: {}...\".format(counter),\n",
    "                  \"Loss: {:.6f}...\".format(loss.item()),\n",
    "                  \"Val Loss: {:.6f}\".format(np.mean(val_losses)))\n",
    "            if np.mean(val_losses) <= valid_loss_min:\n",
    "                torch.save(model.state_dict(), './state_dict.pt')\n",
    "                print('Validation loss decreased ({:.6f} --> {:.6f}).  Saving model ...'.format(valid_loss_min,np.mean(val_losses)))\n",
    "                valid_loss_min = np.mean(val_losses)"
   ]
  },
  {
   "cell_type": "code",
   "execution_count": 17,
   "id": "40dc364b",
   "metadata": {
    "execution": {
     "iopub.execute_input": "2021-11-26T11:53:29.040100Z",
     "iopub.status.busy": "2021-11-26T11:53:29.039280Z",
     "iopub.status.idle": "2021-11-26T11:53:29.064568Z",
     "shell.execute_reply": "2021-11-26T11:53:29.064154Z",
     "shell.execute_reply.started": "2021-11-26T11:47:45.907540Z"
    },
    "papermill": {
     "duration": 0.067127,
     "end_time": "2021-11-26T11:53:29.064671",
     "exception": false,
     "start_time": "2021-11-26T11:53:28.997544",
     "status": "completed"
    },
    "tags": []
   },
   "outputs": [
    {
     "data": {
      "text/plain": [
       "tensor([[0.8117]], device='cuda:0', grad_fn=<SigmoidBackward>)"
      ]
     },
     "execution_count": 17,
     "metadata": {},
     "output_type": "execute_result"
    }
   ],
   "source": [
    "sentence = \"I love you\"\n",
    "trial = torch.tensor(pad_sequences(tokenizer.texts_to_sequences([sentence]), maxlen = maxlen)).long().to(device)\n",
    "\n",
    "model(trial)"
   ]
  },
  {
   "cell_type": "code",
   "execution_count": 18,
   "id": "0e2f6a1f",
   "metadata": {
    "execution": {
     "iopub.execute_input": "2021-11-26T11:53:29.141731Z",
     "iopub.status.busy": "2021-11-26T11:53:29.141236Z",
     "iopub.status.idle": "2021-11-26T11:53:29.360500Z",
     "shell.execute_reply": "2021-11-26T11:53:29.360068Z",
     "shell.execute_reply.started": "2021-11-26T11:47:49.087255Z"
    },
    "papermill": {
     "duration": 0.259341,
     "end_time": "2021-11-26T11:53:29.360624",
     "exception": false,
     "start_time": "2021-11-26T11:53:29.101283",
     "status": "completed"
    },
    "tags": []
   },
   "outputs": [
    {
     "name": "stderr",
     "output_type": "stream",
     "text": [
      "/opt/conda/lib/python3.7/site-packages/ipykernel_launcher.py:16: TracerWarning: Converting a tensor to a Python index might cause the trace to be incorrect. We can't record the data flow of Python values, so this value will be treated as a constant in the future. This means that the trace might not generalize to other inputs!\n",
      "  app.launch_new_instance()\n"
     ]
    }
   ],
   "source": [
    "import torch.onnx\n",
    "torch.onnx.export(model,               # model being run\n",
    "                  trial,                  # model input (or a tuple for multiple inputs)\n",
    "                  \"transformer-imdb.onnx\", opset_version = 11)"
   ]
  }
 ],
 "metadata": {
  "kernelspec": {
   "display_name": "Python 3",
   "language": "python",
   "name": "python3"
  },
  "language_info": {
   "codemirror_mode": {
    "name": "ipython",
    "version": 3
   },
   "file_extension": ".py",
   "mimetype": "text/x-python",
   "name": "python",
   "nbconvert_exporter": "python",
   "pygments_lexer": "ipython3",
   "version": "3.7.10"
  },
  "papermill": {
   "default_parameters": {},
   "duration": 116.815753,
   "end_time": "2021-11-26T11:53:32.790344",
   "environment_variables": {},
   "exception": null,
   "input_path": "__notebook__.ipynb",
   "output_path": "__notebook__.ipynb",
   "parameters": {},
   "start_time": "2021-11-26T11:51:35.974591",
   "version": "2.3.3"
  }
 },
 "nbformat": 4,
 "nbformat_minor": 5
}
