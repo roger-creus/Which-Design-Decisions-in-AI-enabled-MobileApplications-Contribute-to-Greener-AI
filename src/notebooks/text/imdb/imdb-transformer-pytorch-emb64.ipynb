{
 "cells": [
  {
   "cell_type": "markdown",
   "id": "122ac91f",
   "metadata": {
    "papermill": {
     "duration": 0.019756,
     "end_time": "2021-11-26T11:58:31.311960",
     "exception": false,
     "start_time": "2021-11-26T11:58:31.292204",
     "status": "completed"
    },
    "tags": []
   },
   "source": [
    "# Sentiment Analysis using LSTM"
   ]
  },
  {
   "cell_type": "code",
   "execution_count": 1,
   "id": "2bdb1ef1",
   "metadata": {
    "execution": {
     "iopub.execute_input": "2021-11-26T11:58:31.438371Z",
     "iopub.status.busy": "2021-11-26T11:58:31.433360Z",
     "iopub.status.idle": "2021-11-26T11:58:42.826246Z",
     "shell.execute_reply": "2021-11-26T11:58:42.825461Z",
     "shell.execute_reply.started": "2021-11-26T11:46:05.391441Z"
    },
    "papermill": {
     "duration": 11.491831,
     "end_time": "2021-11-26T11:58:42.826409",
     "exception": false,
     "start_time": "2021-11-26T11:58:31.334578",
     "status": "completed"
    },
    "tags": []
   },
   "outputs": [
    {
     "name": "stderr",
     "output_type": "stream",
     "text": [
      "2021-11-26 11:58:38.428625: I tensorflow/stream_executor/platform/default/dso_loader.cc:49] Successfully opened dynamic library libcudart.so.11.0\n"
     ]
    }
   ],
   "source": [
    "import numpy as np\n",
    "import pandas as pd\n",
    "from torch import nn\n",
    "\n",
    "import matplotlib.pyplot as plt\n",
    "import seaborn as sns\n",
    "\n",
    "import torch.nn.functional as F\n",
    "\n",
    "import re\n",
    "import string\n",
    "from collections import Counter\n",
    "from nltk.corpus import stopwords\n",
    "stop_words = set(stopwords.words('english'))\n",
    "\n",
    "from sklearn.model_selection import train_test_split\n",
    "\n",
    "import torch\n",
    "from torch.utils.data import DataLoader, TensorDataset\n",
    "import torch.nn as nn\n",
    "\n",
    "import pandas as pd\n",
    "import numpy as np\n",
    "import bz2\n",
    "import matplotlib.pyplot as plt\n",
    "import sklearn\n",
    "import tensorflow as tf\n",
    "from tensorflow.keras import models, layers, optimizers\n",
    "from tensorflow.keras.preprocessing.text import Tokenizer, text_to_word_sequence\n",
    "from tensorflow.keras.preprocessing.sequence import pad_sequences\n",
    "from sklearn.preprocessing import LabelEncoder\n",
    "\n",
    "%matplotlib inline"
   ]
  },
  {
   "cell_type": "code",
   "execution_count": 2,
   "id": "d6565dbb",
   "metadata": {
    "execution": {
     "iopub.execute_input": "2021-11-26T11:58:42.870556Z",
     "iopub.status.busy": "2021-11-26T11:58:42.869428Z",
     "iopub.status.idle": "2021-11-26T11:58:42.872746Z",
     "shell.execute_reply": "2021-11-26T11:58:42.872190Z",
     "shell.execute_reply.started": "2021-11-26T11:46:05.409146Z"
    },
    "papermill": {
     "duration": 0.027179,
     "end_time": "2021-11-26T11:58:42.872875",
     "exception": false,
     "start_time": "2021-11-26T11:58:42.845696",
     "status": "completed"
    },
    "tags": []
   },
   "outputs": [],
   "source": [
    "device = \"cuda:0\""
   ]
  },
  {
   "cell_type": "markdown",
   "id": "d3661a1a",
   "metadata": {
    "papermill": {
     "duration": 0.018094,
     "end_time": "2021-11-26T11:58:42.909256",
     "exception": false,
     "start_time": "2021-11-26T11:58:42.891162",
     "status": "completed"
    },
    "tags": []
   },
   "source": [
    "## 1) Load in and visualize the data"
   ]
  },
  {
   "cell_type": "code",
   "execution_count": 3,
   "id": "81f372f8",
   "metadata": {
    "execution": {
     "iopub.execute_input": "2021-11-26T11:58:42.952413Z",
     "iopub.status.busy": "2021-11-26T11:58:42.951529Z",
     "iopub.status.idle": "2021-11-26T11:58:44.550886Z",
     "shell.execute_reply": "2021-11-26T11:58:44.550299Z",
     "shell.execute_reply.started": "2021-11-26T11:46:05.422503Z"
    },
    "papermill": {
     "duration": 1.623146,
     "end_time": "2021-11-26T11:58:44.551183",
     "exception": false,
     "start_time": "2021-11-26T11:58:42.928037",
     "status": "completed"
    },
    "tags": []
   },
   "outputs": [
    {
     "data": {
      "text/html": [
       "<div>\n",
       "<style scoped>\n",
       "    .dataframe tbody tr th:only-of-type {\n",
       "        vertical-align: middle;\n",
       "    }\n",
       "\n",
       "    .dataframe tbody tr th {\n",
       "        vertical-align: top;\n",
       "    }\n",
       "\n",
       "    .dataframe thead th {\n",
       "        text-align: right;\n",
       "    }\n",
       "</style>\n",
       "<table border=\"1\" class=\"dataframe\">\n",
       "  <thead>\n",
       "    <tr style=\"text-align: right;\">\n",
       "      <th></th>\n",
       "      <th>review</th>\n",
       "      <th>sentiment</th>\n",
       "    </tr>\n",
       "  </thead>\n",
       "  <tbody>\n",
       "    <tr>\n",
       "      <th>0</th>\n",
       "      <td>One of the other reviewers has mentioned that ...</td>\n",
       "      <td>positive</td>\n",
       "    </tr>\n",
       "    <tr>\n",
       "      <th>1</th>\n",
       "      <td>A wonderful little production. &lt;br /&gt;&lt;br /&gt;The...</td>\n",
       "      <td>positive</td>\n",
       "    </tr>\n",
       "    <tr>\n",
       "      <th>2</th>\n",
       "      <td>I thought this was a wonderful way to spend ti...</td>\n",
       "      <td>positive</td>\n",
       "    </tr>\n",
       "    <tr>\n",
       "      <th>3</th>\n",
       "      <td>Basically there's a family where a little boy ...</td>\n",
       "      <td>negative</td>\n",
       "    </tr>\n",
       "    <tr>\n",
       "      <th>4</th>\n",
       "      <td>Petter Mattei's \"Love in the Time of Money\" is...</td>\n",
       "      <td>positive</td>\n",
       "    </tr>\n",
       "  </tbody>\n",
       "</table>\n",
       "</div>"
      ],
      "text/plain": [
       "                                              review sentiment\n",
       "0  One of the other reviewers has mentioned that ...  positive\n",
       "1  A wonderful little production. <br /><br />The...  positive\n",
       "2  I thought this was a wonderful way to spend ti...  positive\n",
       "3  Basically there's a family where a little boy ...  negative\n",
       "4  Petter Mattei's \"Love in the Time of Money\" is...  positive"
      ]
     },
     "execution_count": 3,
     "metadata": {},
     "output_type": "execute_result"
    }
   ],
   "source": [
    "df = pd.read_csv('../input/imdb-dataset-of-50k-movie-reviews/IMDB Dataset.csv')\n",
    "df.head()"
   ]
  },
  {
   "cell_type": "markdown",
   "id": "57bd7613",
   "metadata": {
    "papermill": {
     "duration": 0.020063,
     "end_time": "2021-11-26T11:58:44.591999",
     "exception": false,
     "start_time": "2021-11-26T11:58:44.571936",
     "status": "completed"
    },
    "tags": []
   },
   "source": [
    "## 2) Data Processing — convert to lower case, Remove punctuation etc"
   ]
  },
  {
   "cell_type": "code",
   "execution_count": 4,
   "id": "429042a0",
   "metadata": {
    "execution": {
     "iopub.execute_input": "2021-11-26T11:58:44.651910Z",
     "iopub.status.busy": "2021-11-26T11:58:44.646691Z",
     "iopub.status.idle": "2021-11-26T11:58:54.749300Z",
     "shell.execute_reply": "2021-11-26T11:58:54.748738Z",
     "shell.execute_reply.started": "2021-11-26T11:46:05.957734Z"
    },
    "papermill": {
     "duration": 10.136841,
     "end_time": "2021-11-26T11:58:54.749452",
     "exception": false,
     "start_time": "2021-11-26T11:58:44.612611",
     "status": "completed"
    },
    "tags": []
   },
   "outputs": [
    {
     "data": {
      "text/html": [
       "<div>\n",
       "<style scoped>\n",
       "    .dataframe tbody tr th:only-of-type {\n",
       "        vertical-align: middle;\n",
       "    }\n",
       "\n",
       "    .dataframe tbody tr th {\n",
       "        vertical-align: top;\n",
       "    }\n",
       "\n",
       "    .dataframe thead th {\n",
       "        text-align: right;\n",
       "    }\n",
       "</style>\n",
       "<table border=\"1\" class=\"dataframe\">\n",
       "  <thead>\n",
       "    <tr style=\"text-align: right;\">\n",
       "      <th></th>\n",
       "      <th>review</th>\n",
       "      <th>sentiment</th>\n",
       "      <th>cleaned_reviews</th>\n",
       "    </tr>\n",
       "  </thead>\n",
       "  <tbody>\n",
       "    <tr>\n",
       "      <th>0</th>\n",
       "      <td>One of the other reviewers has mentioned that ...</td>\n",
       "      <td>positive</td>\n",
       "      <td>one reviewers mentioned watching 1 oz episode ...</td>\n",
       "    </tr>\n",
       "    <tr>\n",
       "      <th>1</th>\n",
       "      <td>A wonderful little production. &lt;br /&gt;&lt;br /&gt;The...</td>\n",
       "      <td>positive</td>\n",
       "      <td>wonderful little production filming technique ...</td>\n",
       "    </tr>\n",
       "    <tr>\n",
       "      <th>2</th>\n",
       "      <td>I thought this was a wonderful way to spend ti...</td>\n",
       "      <td>positive</td>\n",
       "      <td>thought wonderful way spend time hot summer we...</td>\n",
       "    </tr>\n",
       "    <tr>\n",
       "      <th>3</th>\n",
       "      <td>Basically there's a family where a little boy ...</td>\n",
       "      <td>negative</td>\n",
       "      <td>basically theres family little boy jake thinks...</td>\n",
       "    </tr>\n",
       "    <tr>\n",
       "      <th>4</th>\n",
       "      <td>Petter Mattei's \"Love in the Time of Money\" is...</td>\n",
       "      <td>positive</td>\n",
       "      <td>petter matteis love time money visually stunni...</td>\n",
       "    </tr>\n",
       "  </tbody>\n",
       "</table>\n",
       "</div>"
      ],
      "text/plain": [
       "                                              review sentiment  \\\n",
       "0  One of the other reviewers has mentioned that ...  positive   \n",
       "1  A wonderful little production. <br /><br />The...  positive   \n",
       "2  I thought this was a wonderful way to spend ti...  positive   \n",
       "3  Basically there's a family where a little boy ...  negative   \n",
       "4  Petter Mattei's \"Love in the Time of Money\" is...  positive   \n",
       "\n",
       "                                     cleaned_reviews  \n",
       "0  one reviewers mentioned watching 1 oz episode ...  \n",
       "1  wonderful little production filming technique ...  \n",
       "2  thought wonderful way spend time hot summer we...  \n",
       "3  basically theres family little boy jake thinks...  \n",
       "4  petter matteis love time money visually stunni...  "
      ]
     },
     "execution_count": 4,
     "metadata": {},
     "output_type": "execute_result"
    }
   ],
   "source": [
    "def data_preprocessing(text):\n",
    "    text = text.lower()\n",
    "    text = re.sub('<.*?>', '', text) # Remove HTML from text\n",
    "    text = ''.join([c for c in text if c not in string.punctuation])# Remove punctuation\n",
    "    text = [word for word in text.split() if word not in stop_words]\n",
    "    text = ' '.join(text)\n",
    "    return text\n",
    "\n",
    "df['cleaned_reviews'] = df['review'].apply(data_preprocessing)\n",
    "df.head()"
   ]
  },
  {
   "cell_type": "markdown",
   "id": "a1957111",
   "metadata": {
    "papermill": {
     "duration": 0.019248,
     "end_time": "2021-11-26T11:58:54.790299",
     "exception": false,
     "start_time": "2021-11-26T11:58:54.771051",
     "status": "completed"
    },
    "tags": []
   },
   "source": [
    "## 5) Tokenize — Create Vocab to Int mapping dictionary\n",
    "In most of the NLP tasks, you will create an index mapping dictionary in such a way that your frequently occurring words are assigned lower indexes. One of the most common way of doing this is to use Counter method from Collections library."
   ]
  },
  {
   "cell_type": "code",
   "execution_count": 5,
   "id": "a84e041f",
   "metadata": {
    "execution": {
     "iopub.execute_input": "2021-11-26T11:58:54.878548Z",
     "iopub.status.busy": "2021-11-26T11:58:54.842099Z",
     "iopub.status.idle": "2021-11-26T11:59:01.656301Z",
     "shell.execute_reply": "2021-11-26T11:59:01.656925Z",
     "shell.execute_reply.started": "2021-11-26T11:46:15.690609Z"
    },
    "papermill": {
     "duration": 6.847352,
     "end_time": "2021-11-26T11:59:01.657100",
     "exception": false,
     "start_time": "2021-11-26T11:58:54.809748",
     "status": "completed"
    },
    "tags": []
   },
   "outputs": [
    {
     "name": "stdout",
     "output_type": "stream",
     "text": [
      "Vocabulary Size : 222610\n"
     ]
    }
   ],
   "source": [
    "max_features = 8192\n",
    "maxlen = 30\n",
    "\n",
    "tokenizer = Tokenizer(num_words=max_features)\n",
    "tokenizer.fit_on_texts(df['cleaned_reviews'])\n",
    "\n",
    "word_index = tokenizer.word_index\n",
    "vocab_size = len(tokenizer.word_index) + 1\n",
    "print(\"Vocabulary Size :\", vocab_size)"
   ]
  },
  {
   "cell_type": "code",
   "execution_count": 6,
   "id": "5c61f0db",
   "metadata": {
    "execution": {
     "iopub.execute_input": "2021-11-26T11:59:01.743999Z",
     "iopub.status.busy": "2021-11-26T11:59:01.739134Z",
     "iopub.status.idle": "2021-11-26T11:59:06.904352Z",
     "shell.execute_reply": "2021-11-26T11:59:06.905543Z",
     "shell.execute_reply.started": "2021-11-26T11:46:21.828166Z"
    },
    "papermill": {
     "duration": 5.227982,
     "end_time": "2021-11-26T11:59:06.905805",
     "exception": false,
     "start_time": "2021-11-26T11:59:01.677823",
     "status": "completed"
    },
    "tags": []
   },
   "outputs": [],
   "source": [
    "training_token = tokenizer.texts_to_sequences(df['cleaned_reviews'])\n",
    "x_data = pad_sequences(training_token, maxlen = maxlen, padding = 'post')"
   ]
  },
  {
   "cell_type": "code",
   "execution_count": 7,
   "id": "d15f9ca8",
   "metadata": {
    "execution": {
     "iopub.execute_input": "2021-11-26T11:59:06.997359Z",
     "iopub.status.busy": "2021-11-26T11:59:06.996407Z",
     "iopub.status.idle": "2021-11-26T11:59:07.052214Z",
     "shell.execute_reply": "2021-11-26T11:59:07.053512Z",
     "shell.execute_reply.started": "2021-11-26T11:46:26.370519Z"
    },
    "papermill": {
     "duration": 0.098843,
     "end_time": "2021-11-26T11:59:07.053749",
     "exception": false,
     "start_time": "2021-11-26T11:59:06.954906",
     "status": "completed"
    },
    "tags": []
   },
   "outputs": [],
   "source": [
    "y_data = df['sentiment'].apply(lambda x: 1 if x == 'positive' else 0)"
   ]
  },
  {
   "cell_type": "code",
   "execution_count": 8,
   "id": "3b4db2d3",
   "metadata": {
    "execution": {
     "iopub.execute_input": "2021-11-26T11:59:07.132043Z",
     "iopub.status.busy": "2021-11-26T11:59:07.131043Z",
     "iopub.status.idle": "2021-11-26T11:59:07.154654Z",
     "shell.execute_reply": "2021-11-26T11:59:07.155879Z",
     "shell.execute_reply.started": "2021-11-26T11:46:26.405302Z"
    },
    "papermill": {
     "duration": 0.067409,
     "end_time": "2021-11-26T11:59:07.156154",
     "exception": false,
     "start_time": "2021-11-26T11:59:07.088745",
     "status": "completed"
    },
    "tags": []
   },
   "outputs": [],
   "source": [
    "X_train, X_remain, y_train, y_remain = train_test_split(x_data, y_data, test_size=0.2, random_state=1)\n",
    "X_valid, X_test, y_valid, y_test = train_test_split(X_remain, y_remain, test_size=0.5, random_state=1)"
   ]
  },
  {
   "cell_type": "code",
   "execution_count": 9,
   "id": "a350cabd",
   "metadata": {
    "execution": {
     "iopub.execute_input": "2021-11-26T11:59:07.233602Z",
     "iopub.status.busy": "2021-11-26T11:59:07.232551Z",
     "iopub.status.idle": "2021-11-26T11:59:07.235612Z",
     "shell.execute_reply": "2021-11-26T11:59:07.234688Z",
     "shell.execute_reply.started": "2021-11-26T11:46:26.422158Z"
    },
    "papermill": {
     "duration": 0.045419,
     "end_time": "2021-11-26T11:59:07.235803",
     "exception": false,
     "start_time": "2021-11-26T11:59:07.190384",
     "status": "completed"
    },
    "tags": []
   },
   "outputs": [],
   "source": [
    "y_train = y_train.to_numpy().reshape(-1,1)\n",
    "y_test = y_test.to_numpy().reshape(-1,1)"
   ]
  },
  {
   "cell_type": "code",
   "execution_count": 10,
   "id": "4b7baf1a",
   "metadata": {
    "execution": {
     "iopub.execute_input": "2021-11-26T11:59:07.317037Z",
     "iopub.status.busy": "2021-11-26T11:59:07.316021Z",
     "iopub.status.idle": "2021-11-26T11:59:07.347792Z",
     "shell.execute_reply": "2021-11-26T11:59:07.347154Z",
     "shell.execute_reply.started": "2021-11-26T11:46:26.428343Z"
    },
    "papermill": {
     "duration": 0.077765,
     "end_time": "2021-11-26T11:59:07.347967",
     "exception": false,
     "start_time": "2021-11-26T11:59:07.270202",
     "status": "completed"
    },
    "tags": []
   },
   "outputs": [],
   "source": [
    "# create tensor dataset\n",
    "train_data = TensorDataset(torch.from_numpy(X_train.astype('float64')), torch.from_numpy(np.array(y_train).astype('float64')))\n",
    "test_data = TensorDataset(torch.from_numpy(X_test), torch.from_numpy(np.array(y_test).astype('float64')))\n",
    "valid_data = TensorDataset(torch.from_numpy(X_valid), torch.from_numpy(np.array(y_valid).astype('float64')))\n",
    "\n",
    "# dataloaders\n",
    "batch_size = 50\n",
    "\n",
    "train_loader = DataLoader(train_data, shuffle=True, batch_size=batch_size)\n",
    "test_loader = DataLoader(test_data, shuffle=True, batch_size=batch_size)\n",
    "valid_loader = DataLoader(valid_data, shuffle=True, batch_size=batch_size)"
   ]
  },
  {
   "cell_type": "code",
   "execution_count": 11,
   "id": "76e56fc7",
   "metadata": {
    "execution": {
     "iopub.execute_input": "2021-11-26T11:59:07.397125Z",
     "iopub.status.busy": "2021-11-26T11:59:07.396457Z",
     "iopub.status.idle": "2021-11-26T11:59:07.483695Z",
     "shell.execute_reply": "2021-11-26T11:59:07.484363Z",
     "shell.execute_reply.started": "2021-11-26T11:46:26.444992Z"
    },
    "papermill": {
     "duration": 0.115537,
     "end_time": "2021-11-26T11:59:07.484613",
     "exception": false,
     "start_time": "2021-11-26T11:59:07.369076",
     "status": "completed"
    },
    "tags": []
   },
   "outputs": [
    {
     "name": "stdout",
     "output_type": "stream",
     "text": [
      "Sample input size:  torch.Size([50, 30])\n",
      "Sample input: \n",
      " tensor([[5.2000e+01, 6.8000e+03, 5.0210e+03,  ..., 1.7170e+03, 6.4190e+03,\n",
      "         1.2000e+01],\n",
      "        [2.9880e+03, 2.3000e+02, 3.0600e+02,  ..., 3.0000e+00, 1.1000e+02,\n",
      "         1.0000e+01],\n",
      "        [1.8000e+01, 2.5000e+01, 2.6400e+02,  ..., 2.2000e+01, 5.0500e+02,\n",
      "         7.1700e+02],\n",
      "        ...,\n",
      "        [4.6440e+03, 1.0740e+03, 3.1000e+01,  ..., 8.4800e+02, 6.6000e+01,\n",
      "         1.0000e+00],\n",
      "        [2.7200e+02, 1.6800e+02, 2.0000e+00,  ..., 5.7750e+03, 9.5000e+01,\n",
      "         2.0000e+00],\n",
      "        [7.4000e+01, 1.2490e+03, 7.1440e+03,  ..., 1.5760e+03, 9.4100e+02,\n",
      "         6.5300e+02]], dtype=torch.float64)\n",
      "Sample input: \n",
      " tensor([[0.],\n",
      "        [1.],\n",
      "        [1.],\n",
      "        [0.],\n",
      "        [1.],\n",
      "        [1.],\n",
      "        [1.],\n",
      "        [0.],\n",
      "        [0.],\n",
      "        [0.],\n",
      "        [1.],\n",
      "        [1.],\n",
      "        [0.],\n",
      "        [0.],\n",
      "        [0.],\n",
      "        [1.],\n",
      "        [1.],\n",
      "        [1.],\n",
      "        [1.],\n",
      "        [0.],\n",
      "        [0.],\n",
      "        [1.],\n",
      "        [0.],\n",
      "        [1.],\n",
      "        [1.],\n",
      "        [0.],\n",
      "        [1.],\n",
      "        [0.],\n",
      "        [0.],\n",
      "        [0.],\n",
      "        [1.],\n",
      "        [0.],\n",
      "        [0.],\n",
      "        [1.],\n",
      "        [1.],\n",
      "        [1.],\n",
      "        [0.],\n",
      "        [0.],\n",
      "        [1.],\n",
      "        [0.],\n",
      "        [0.],\n",
      "        [1.],\n",
      "        [1.],\n",
      "        [1.],\n",
      "        [0.],\n",
      "        [1.],\n",
      "        [1.],\n",
      "        [1.],\n",
      "        [0.],\n",
      "        [1.]], dtype=torch.float64)\n"
     ]
    }
   ],
   "source": [
    "# obtain one batch of training data\n",
    "dataiter = iter(train_loader)\n",
    "sample_x, sample_y = dataiter.next()\n",
    "\n",
    "print('Sample input size: ', sample_x.size()) # batch_size, seq_length\n",
    "print('Sample input: \\n', sample_x)\n",
    "print('Sample input: \\n', sample_y)"
   ]
  },
  {
   "cell_type": "code",
   "execution_count": 12,
   "id": "74f5c2a3",
   "metadata": {
    "execution": {
     "iopub.execute_input": "2021-11-26T11:59:07.537989Z",
     "iopub.status.busy": "2021-11-26T11:59:07.537260Z",
     "iopub.status.idle": "2021-11-26T11:59:07.541328Z",
     "shell.execute_reply": "2021-11-26T11:59:07.540767Z",
     "shell.execute_reply.started": "2021-11-26T11:46:26.462967Z"
    },
    "papermill": {
     "duration": 0.035112,
     "end_time": "2021-11-26T11:59:07.541455",
     "exception": false,
     "start_time": "2021-11-26T11:59:07.506343",
     "status": "completed"
    },
    "tags": []
   },
   "outputs": [],
   "source": [
    "class PositionalEncoding(nn.Module):\n",
    "\n",
    "    def __init__(self, d_model, dropout=0.1, max_len=5000):\n",
    "        super(PositionalEncoding, self).__init__()\n",
    "        self.dropout = nn.Dropout(p=dropout)\n",
    "\n",
    "        pe = torch.zeros(max_len, d_model)\n",
    "        position = torch.arange(0, max_len, dtype=torch.float).unsqueeze(1)\n",
    "        div_term = torch.exp(torch.arange(0, d_model, 2).float() * (-math.log(10000.0) / d_model))\n",
    "        pe[:, 0::2] = torch.sin(position * div_term)\n",
    "        pe[:, 1::2] = torch.cos(position * div_term)\n",
    "        pe = pe.unsqueeze(0).transpose(0, 1)\n",
    "        self.register_buffer('pe', pe)\n",
    "\n",
    "    def forward(self, x):\n",
    "        x = x + self.pe[:x.size(0), :]\n",
    "        return self.dropout(x)"
   ]
  },
  {
   "cell_type": "code",
   "execution_count": 13,
   "id": "7218d789",
   "metadata": {
    "execution": {
     "iopub.execute_input": "2021-11-26T11:59:07.588522Z",
     "iopub.status.busy": "2021-11-26T11:59:07.587808Z",
     "iopub.status.idle": "2021-11-26T11:59:07.594544Z",
     "shell.execute_reply": "2021-11-26T11:59:07.594054Z",
     "shell.execute_reply.started": "2021-11-26T11:55:38.852669Z"
    },
    "papermill": {
     "duration": 0.033615,
     "end_time": "2021-11-26T11:59:07.594659",
     "exception": false,
     "start_time": "2021-11-26T11:59:07.561044",
     "status": "completed"
    },
    "tags": []
   },
   "outputs": [],
   "source": [
    "class SentimentNet(nn.Module):\n",
    "    def __init__(self, vocab_size, output_size, embedding_dim, hidden_dim, n_layers, drop_prob=0.2):\n",
    "        super(SentimentNet, self).__init__()\n",
    "        self.output_size = output_size\n",
    "        self.n_layers = n_layers\n",
    "        self.hidden_dim = hidden_dim\n",
    "        self.dropout = nn.Dropout(drop_prob)\n",
    "        self.embedding_dim = embedding_dim\n",
    "        self.sigmoid = nn.Sigmoid()\n",
    "        \n",
    "        \n",
    "        self.encoder = nn.Embedding(vocab_size, embedding_dim)\n",
    "        self.pos_encoder = PositionalEncoding(embedding_dim, drop_prob)\n",
    "        encoder_layer = nn.TransformerEncoderLayer(embedding_dim, 2, hidden_dim)\n",
    "        self.transformer_encoder = nn.TransformerEncoder(encoder_layer, num_layers=n_layers)\n",
    "        \n",
    "\n",
    "        self.fc = nn.Linear(embedding_dim * 30 , 1)\n",
    "\n",
    "     \n",
    "    \"\"\"\n",
    "    def forward(self, x):\n",
    "        #print(x.shape)\n",
    "        if len(x) != 1:\n",
    "            batch_size = x.size(0)\n",
    "\n",
    "        x = x.long()\n",
    "        \n",
    "        embeds = self.embedding(x)\n",
    "        \n",
    "        print(embeds.shape)\n",
    "        \n",
    "        out = self.transformer_encoder(embeds)\n",
    "        \n",
    "        print(out.shape)\n",
    "\n",
    "        out = self.fc(out)\n",
    "                \n",
    "        print(out.shape)\n",
    "\n",
    "        return out\n",
    "        \"\"\"\n",
    "    \n",
    "    def forward(self, src):\n",
    "        src = self.encoder(src) * math.sqrt(self.embedding_dim)\n",
    "        src = self.pos_encoder(src)\n",
    "        output = self.transformer_encoder(src)\n",
    "        output = output.view(output.size(0), -1)\n",
    "        output = self.sigmoid(self.fc(output))\n",
    "        return output"
   ]
  },
  {
   "cell_type": "code",
   "execution_count": 14,
   "id": "d82b1812",
   "metadata": {
    "execution": {
     "iopub.execute_input": "2021-11-26T11:59:07.640727Z",
     "iopub.status.busy": "2021-11-26T11:59:07.639608Z",
     "iopub.status.idle": "2021-11-26T11:59:07.642855Z",
     "shell.execute_reply": "2021-11-26T11:59:07.642351Z",
     "shell.execute_reply.started": "2021-11-26T11:46:26.486603Z"
    },
    "papermill": {
     "duration": 0.028726,
     "end_time": "2021-11-26T11:59:07.642968",
     "exception": false,
     "start_time": "2021-11-26T11:59:07.614242",
     "status": "completed"
    },
    "tags": []
   },
   "outputs": [],
   "source": [
    "def model_params(model):\n",
    "    pp=0\n",
    "    for p in list(model.parameters()):\n",
    "        nn=1\n",
    "        for s in list(p.size()):\n",
    "            nn = nn*s\n",
    "        pp += nn\n",
    "    return pp"
   ]
  },
  {
   "cell_type": "code",
   "execution_count": 15,
   "id": "ddce6eb9",
   "metadata": {
    "execution": {
     "iopub.execute_input": "2021-11-26T11:59:07.688390Z",
     "iopub.status.busy": "2021-11-26T11:59:07.687415Z",
     "iopub.status.idle": "2021-11-26T11:59:15.914879Z",
     "shell.execute_reply": "2021-11-26T11:59:15.914374Z",
     "shell.execute_reply.started": "2021-11-26T11:57:54.079151Z"
    },
    "papermill": {
     "duration": 8.253392,
     "end_time": "2021-11-26T11:59:15.915013",
     "exception": false,
     "start_time": "2021-11-26T11:59:07.661621",
     "status": "completed"
    },
    "tags": []
   },
   "outputs": [
    {
     "name": "stdout",
     "output_type": "stream",
     "text": [
      "14266437\n"
     ]
    }
   ],
   "source": [
    "import math\n",
    "\n",
    "output_size = 1\n",
    "embedding_dim = 64\n",
    "hidden_dim = 4\n",
    "n_layers = 1\n",
    "\n",
    "model = SentimentNet(vocab_size, output_size, embedding_dim, hidden_dim, n_layers)\n",
    "model.to(device)\n",
    "print(model_params(model))\n",
    "lr=0.008\n",
    "criterion = nn.BCELoss()\n",
    "optimizer = torch.optim.Adam(model.parameters(), lr=lr)"
   ]
  },
  {
   "cell_type": "code",
   "execution_count": 16,
   "id": "34fb74d3",
   "metadata": {
    "execution": {
     "iopub.execute_input": "2021-11-26T11:59:15.967118Z",
     "iopub.status.busy": "2021-11-26T11:59:15.965801Z",
     "iopub.status.idle": "2021-11-26T12:01:11.903800Z",
     "shell.execute_reply": "2021-11-26T12:01:11.904955Z",
     "shell.execute_reply.started": "2021-11-26T11:55:49.820496Z"
    },
    "papermill": {
     "duration": 115.969399,
     "end_time": "2021-11-26T12:01:11.905286",
     "exception": false,
     "start_time": "2021-11-26T11:59:15.935887",
     "status": "completed"
    },
    "tags": []
   },
   "outputs": [
    {
     "name": "stdout",
     "output_type": "stream",
     "text": [
      "Epoch: 1/10... Step: 100... Loss: 0.939133... Val Loss: 0.846966\n",
      "Validation loss decreased (inf --> 0.846966).  Saving model ...\n",
      "Epoch: 1/10... Step: 200... Loss: 0.832494... Val Loss: 0.736788\n",
      "Validation loss decreased (0.846966 --> 0.736788).  Saving model ...\n",
      "Epoch: 1/10... Step: 300... Loss: 0.615326... Val Loss: 0.711921\n",
      "Validation loss decreased (0.736788 --> 0.711921).  Saving model ...\n",
      "Epoch: 1/10... Step: 400... Loss: 0.731275... Val Loss: 0.693496\n",
      "Validation loss decreased (0.711921 --> 0.693496).  Saving model ...\n",
      "Epoch: 1/10... Step: 500... Loss: 0.703473... Val Loss: 0.688775\n",
      "Validation loss decreased (0.693496 --> 0.688775).  Saving model ...\n",
      "Epoch: 1/10... Step: 600... Loss: 0.706397... Val Loss: 0.689626\n",
      "Epoch: 1/10... Step: 700... Loss: 0.680319... Val Loss: 0.688066\n",
      "Validation loss decreased (0.688775 --> 0.688066).  Saving model ...\n",
      "Epoch: 1/10... Step: 800... Loss: 0.703391... Val Loss: 0.676579\n",
      "Validation loss decreased (0.688066 --> 0.676579).  Saving model ...\n",
      "Epoch: 2/10... Step: 900... Loss: 0.641115... Val Loss: 0.677386\n",
      "Epoch: 2/10... Step: 1000... Loss: 0.644985... Val Loss: 0.687736\n",
      "Epoch: 2/10... Step: 1100... Loss: 0.660788... Val Loss: 0.669513\n",
      "Validation loss decreased (0.676579 --> 0.669513).  Saving model ...\n",
      "Epoch: 2/10... Step: 1200... Loss: 0.720036... Val Loss: 0.662177\n",
      "Validation loss decreased (0.669513 --> 0.662177).  Saving model ...\n",
      "Epoch: 2/10... Step: 1300... Loss: 0.640299... Val Loss: 0.640555\n",
      "Validation loss decreased (0.662177 --> 0.640555).  Saving model ...\n",
      "Epoch: 2/10... Step: 1400... Loss: 0.678539... Val Loss: 0.641479\n",
      "Epoch: 2/10... Step: 1500... Loss: 0.641191... Val Loss: 0.642192\n",
      "Epoch: 2/10... Step: 1600... Loss: 0.631695... Val Loss: 0.658355\n",
      "Epoch: 3/10... Step: 1700... Loss: 0.638897... Val Loss: 0.632530\n",
      "Validation loss decreased (0.640555 --> 0.632530).  Saving model ...\n",
      "Epoch: 3/10... Step: 1800... Loss: 0.632775... Val Loss: 0.644544\n",
      "Epoch: 3/10... Step: 1900... Loss: 0.680947... Val Loss: 0.634953\n",
      "Epoch: 3/10... Step: 2000... Loss: 0.660454... Val Loss: 0.616226\n",
      "Validation loss decreased (0.632530 --> 0.616226).  Saving model ...\n",
      "Epoch: 3/10... Step: 2100... Loss: 0.707706... Val Loss: 0.616965\n",
      "Epoch: 3/10... Step: 2200... Loss: 0.736713... Val Loss: 0.609848\n",
      "Validation loss decreased (0.616226 --> 0.609848).  Saving model ...\n",
      "Epoch: 3/10... Step: 2300... Loss: 0.652278... Val Loss: 0.615012\n",
      "Epoch: 3/10... Step: 2400... Loss: 0.513387... Val Loss: 0.589868\n",
      "Validation loss decreased (0.609848 --> 0.589868).  Saving model ...\n",
      "Epoch: 4/10... Step: 2500... Loss: 0.577824... Val Loss: 0.586751\n",
      "Validation loss decreased (0.589868 --> 0.586751).  Saving model ...\n",
      "Epoch: 4/10... Step: 2600... Loss: 0.545649... Val Loss: 0.555669\n",
      "Validation loss decreased (0.586751 --> 0.555669).  Saving model ...\n",
      "Epoch: 4/10... Step: 2700... Loss: 0.610242... Val Loss: 0.553478\n",
      "Validation loss decreased (0.555669 --> 0.553478).  Saving model ...\n",
      "Epoch: 4/10... Step: 2800... Loss: 0.513477... Val Loss: 0.579390\n",
      "Epoch: 4/10... Step: 2900... Loss: 0.592317... Val Loss: 0.538274\n",
      "Validation loss decreased (0.553478 --> 0.538274).  Saving model ...\n",
      "Epoch: 4/10... Step: 3000... Loss: 0.532423... Val Loss: 0.551536\n",
      "Epoch: 4/10... Step: 3100... Loss: 0.559233... Val Loss: 0.542593\n",
      "Epoch: 4/10... Step: 3200... Loss: 0.442973... Val Loss: 0.521964\n",
      "Validation loss decreased (0.538274 --> 0.521964).  Saving model ...\n",
      "Epoch: 5/10... Step: 3300... Loss: 0.563319... Val Loss: 0.524586\n",
      "Epoch: 5/10... Step: 3400... Loss: 0.637030... Val Loss: 0.539845\n",
      "Epoch: 5/10... Step: 3500... Loss: 0.433670... Val Loss: 0.500164\n",
      "Validation loss decreased (0.521964 --> 0.500164).  Saving model ...\n",
      "Epoch: 5/10... Step: 3600... Loss: 0.518245... Val Loss: 0.511045\n",
      "Epoch: 5/10... Step: 3700... Loss: 0.514192... Val Loss: 0.499471\n",
      "Validation loss decreased (0.500164 --> 0.499471).  Saving model ...\n",
      "Epoch: 5/10... Step: 3800... Loss: 0.506828... Val Loss: 0.484466\n",
      "Validation loss decreased (0.499471 --> 0.484466).  Saving model ...\n",
      "Epoch: 5/10... Step: 3900... Loss: 0.422196... Val Loss: 0.482689\n",
      "Validation loss decreased (0.484466 --> 0.482689).  Saving model ...\n",
      "Epoch: 5/10... Step: 4000... Loss: 0.610241... Val Loss: 0.488127\n",
      "Epoch: 6/10... Step: 4100... Loss: 0.545656... Val Loss: 0.504730\n",
      "Epoch: 6/10... Step: 4200... Loss: 0.522900... Val Loss: 0.472236\n",
      "Validation loss decreased (0.482689 --> 0.472236).  Saving model ...\n",
      "Epoch: 6/10... Step: 4300... Loss: 0.483202... Val Loss: 0.462405\n",
      "Validation loss decreased (0.472236 --> 0.462405).  Saving model ...\n",
      "Epoch: 6/10... Step: 4400... Loss: 0.363839... Val Loss: 0.460317\n",
      "Validation loss decreased (0.462405 --> 0.460317).  Saving model ...\n",
      "Epoch: 6/10... Step: 4500... Loss: 0.447918... Val Loss: 0.468716\n",
      "Epoch: 6/10... Step: 4600... Loss: 0.484906... Val Loss: 0.474811\n",
      "Epoch: 6/10... Step: 4700... Loss: 0.498037... Val Loss: 0.470204\n",
      "Epoch: 6/10... Step: 4800... Loss: 0.489125... Val Loss: 0.451470\n",
      "Validation loss decreased (0.460317 --> 0.451470).  Saving model ...\n",
      "Epoch: 7/10... Step: 4900... Loss: 0.559496... Val Loss: 0.488775\n",
      "Epoch: 7/10... Step: 5000... Loss: 0.536102... Val Loss: 0.446991\n",
      "Validation loss decreased (0.451470 --> 0.446991).  Saving model ...\n",
      "Epoch: 7/10... Step: 5100... Loss: 0.399815... Val Loss: 0.464175\n",
      "Epoch: 7/10... Step: 5200... Loss: 0.468113... Val Loss: 0.452452\n",
      "Epoch: 7/10... Step: 5300... Loss: 0.525773... Val Loss: 0.444585\n",
      "Validation loss decreased (0.446991 --> 0.444585).  Saving model ...\n",
      "Epoch: 7/10... Step: 5400... Loss: 0.434840... Val Loss: 0.429947\n",
      "Validation loss decreased (0.444585 --> 0.429947).  Saving model ...\n",
      "Epoch: 7/10... Step: 5500... Loss: 0.505296... Val Loss: 0.426050\n",
      "Validation loss decreased (0.429947 --> 0.426050).  Saving model ...\n",
      "Epoch: 7/10... Step: 5600... Loss: 0.429300... Val Loss: 0.416068\n",
      "Validation loss decreased (0.426050 --> 0.416068).  Saving model ...\n",
      "Epoch: 8/10... Step: 5700... Loss: 0.423592... Val Loss: 0.430343\n",
      "Epoch: 8/10... Step: 5800... Loss: 0.381376... Val Loss: 0.425763\n",
      "Epoch: 8/10... Step: 5900... Loss: 0.537499... Val Loss: 0.415277\n",
      "Validation loss decreased (0.416068 --> 0.415277).  Saving model ...\n",
      "Epoch: 8/10... Step: 6000... Loss: 0.607751... Val Loss: 0.421099\n",
      "Epoch: 8/10... Step: 6100... Loss: 0.361740... Val Loss: 0.449277\n",
      "Epoch: 8/10... Step: 6200... Loss: 0.640459... Val Loss: 0.437728\n",
      "Epoch: 8/10... Step: 6300... Loss: 0.440291... Val Loss: 0.424796\n",
      "Epoch: 8/10... Step: 6400... Loss: 0.459096... Val Loss: 0.413843\n",
      "Validation loss decreased (0.415277 --> 0.413843).  Saving model ...\n",
      "Epoch: 9/10... Step: 6500... Loss: 0.304938... Val Loss: 0.548471\n",
      "Epoch: 9/10... Step: 6600... Loss: 0.452744... Val Loss: 0.413344\n",
      "Validation loss decreased (0.413843 --> 0.413344).  Saving model ...\n",
      "Epoch: 9/10... Step: 6700... Loss: 0.280190... Val Loss: 0.414369\n",
      "Epoch: 9/10... Step: 6800... Loss: 0.298962... Val Loss: 0.428848\n",
      "Epoch: 9/10... Step: 6900... Loss: 0.442260... Val Loss: 0.411120\n",
      "Validation loss decreased (0.413344 --> 0.411120).  Saving model ...\n",
      "Epoch: 9/10... Step: 7000... Loss: 0.504348... Val Loss: 0.411016\n",
      "Validation loss decreased (0.411120 --> 0.411016).  Saving model ...\n",
      "Epoch: 9/10... Step: 7100... Loss: 0.383590... Val Loss: 0.404314\n",
      "Validation loss decreased (0.411016 --> 0.404314).  Saving model ...\n",
      "Epoch: 9/10... Step: 7200... Loss: 0.448747... Val Loss: 0.449219\n",
      "Epoch: 10/10... Step: 7300... Loss: 0.440410... Val Loss: 0.430943\n",
      "Epoch: 10/10... Step: 7400... Loss: 0.362455... Val Loss: 0.417166\n",
      "Epoch: 10/10... Step: 7500... Loss: 0.417890... Val Loss: 0.417045\n",
      "Epoch: 10/10... Step: 7600... Loss: 0.462142... Val Loss: 0.404736\n",
      "Epoch: 10/10... Step: 7700... Loss: 0.263298... Val Loss: 0.431185\n",
      "Epoch: 10/10... Step: 7800... Loss: 0.459775... Val Loss: 0.419923\n",
      "Epoch: 10/10... Step: 7900... Loss: 0.496401... Val Loss: 0.410345\n",
      "Epoch: 10/10... Step: 8000... Loss: 0.318515... Val Loss: 0.455168\n"
     ]
    }
   ],
   "source": [
    "epochs = 10\n",
    "counter = 0\n",
    "print_every = 100\n",
    "clip = 5\n",
    "valid_loss_min = np.Inf\n",
    "\n",
    "model.train()\n",
    "for i in range(epochs):\n",
    "    \n",
    "    for inputs, labels in train_loader:\n",
    "        counter += 1\n",
    "        inputs, labels = inputs.to(device), labels.to(device)\n",
    "        model.zero_grad()\n",
    "        output = model(inputs.long())\n",
    "        \n",
    "        loss = criterion(output, labels.float())\n",
    "        \n",
    "        \n",
    "        loss.backward()\n",
    "        #nn.utils.clip_grad_norm_(model.parameters(), clip)\n",
    "        optimizer.step()\n",
    "        \n",
    "        if counter%print_every == 0:\n",
    "            val_losses = []\n",
    "            model.eval()\n",
    "            for inp, lab in test_loader:\n",
    "                inp, lab = inp.to(device), lab.to(device)\n",
    "                out = model(inp.long())\n",
    "                val_loss = criterion(out, lab.float())\n",
    "                val_losses.append(val_loss.item())\n",
    "                \n",
    "            model.train()\n",
    "            print(\"Epoch: {}/{}...\".format(i+1, epochs),\n",
    "                  \"Step: {}...\".format(counter),\n",
    "                  \"Loss: {:.6f}...\".format(loss.item()),\n",
    "                  \"Val Loss: {:.6f}\".format(np.mean(val_losses)))\n",
    "            if np.mean(val_losses) <= valid_loss_min:\n",
    "                torch.save(model.state_dict(), './state_dict.pt')\n",
    "                print('Validation loss decreased ({:.6f} --> {:.6f}).  Saving model ...'.format(valid_loss_min,np.mean(val_losses)))\n",
    "                valid_loss_min = np.mean(val_losses)"
   ]
  },
  {
   "cell_type": "code",
   "execution_count": 17,
   "id": "fa91505c",
   "metadata": {
    "execution": {
     "iopub.execute_input": "2021-11-26T12:01:12.029541Z",
     "iopub.status.busy": "2021-11-26T12:01:12.028430Z",
     "iopub.status.idle": "2021-11-26T12:01:12.057711Z",
     "shell.execute_reply": "2021-11-26T12:01:12.058284Z",
     "shell.execute_reply.started": "2021-11-26T11:54:27.172539Z"
    },
    "papermill": {
     "duration": 0.094037,
     "end_time": "2021-11-26T12:01:12.058494",
     "exception": false,
     "start_time": "2021-11-26T12:01:11.964457",
     "status": "completed"
    },
    "tags": []
   },
   "outputs": [
    {
     "data": {
      "text/plain": [
       "tensor([[0.7761]], device='cuda:0', grad_fn=<SigmoidBackward>)"
      ]
     },
     "execution_count": 17,
     "metadata": {},
     "output_type": "execute_result"
    }
   ],
   "source": [
    "sentence = \"I love you\"\n",
    "trial = torch.tensor(pad_sequences(tokenizer.texts_to_sequences([sentence]), maxlen = maxlen)).long().to(device)\n",
    "\n",
    "model(trial)"
   ]
  },
  {
   "cell_type": "code",
   "execution_count": 18,
   "id": "79d24b33",
   "metadata": {
    "execution": {
     "iopub.execute_input": "2021-11-26T12:01:12.186227Z",
     "iopub.status.busy": "2021-11-26T12:01:12.185110Z",
     "iopub.status.idle": "2021-11-26T12:01:12.774511Z",
     "shell.execute_reply": "2021-11-26T12:01:12.773896Z",
     "shell.execute_reply.started": "2021-11-26T11:54:27.174417Z"
    },
    "papermill": {
     "duration": 0.655545,
     "end_time": "2021-11-26T12:01:12.774691",
     "exception": false,
     "start_time": "2021-11-26T12:01:12.119146",
     "status": "completed"
    },
    "tags": []
   },
   "outputs": [
    {
     "name": "stderr",
     "output_type": "stream",
     "text": [
      "/opt/conda/lib/python3.7/site-packages/ipykernel_launcher.py:16: TracerWarning: Converting a tensor to a Python index might cause the trace to be incorrect. We can't record the data flow of Python values, so this value will be treated as a constant in the future. This means that the trace might not generalize to other inputs!\n",
      "  app.launch_new_instance()\n"
     ]
    }
   ],
   "source": [
    "import torch.onnx\n",
    "torch.onnx.export(model,               # model being run\n",
    "                  trial,                  # model input (or a tuple for multiple inputs)\n",
    "                  \"transformer-imdb.onnx\", opset_version = 11)"
   ]
  }
 ],
 "metadata": {
  "kernelspec": {
   "display_name": "Python 3",
   "language": "python",
   "name": "python3"
  },
  "language_info": {
   "codemirror_mode": {
    "name": "ipython",
    "version": 3
   },
   "file_extension": ".py",
   "mimetype": "text/x-python",
   "name": "python",
   "nbconvert_exporter": "python",
   "pygments_lexer": "ipython3",
   "version": "3.7.10"
  },
  "papermill": {
   "default_parameters": {},
   "duration": 172.794722,
   "end_time": "2021-11-26T12:01:16.457734",
   "environment_variables": {},
   "exception": null,
   "input_path": "__notebook__.ipynb",
   "output_path": "__notebook__.ipynb",
   "parameters": {},
   "start_time": "2021-11-26T11:58:23.663012",
   "version": "2.3.3"
  }
 },
 "nbformat": 4,
 "nbformat_minor": 5
}
