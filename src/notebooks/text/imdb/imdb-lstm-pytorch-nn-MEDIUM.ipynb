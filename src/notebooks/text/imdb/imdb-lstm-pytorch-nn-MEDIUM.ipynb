{
 "cells": [
  {
   "cell_type": "markdown",
   "id": "10951299",
   "metadata": {
    "papermill": {
     "duration": 0.016932,
     "end_time": "2021-09-27T06:42:26.513472",
     "exception": false,
     "start_time": "2021-09-27T06:42:26.496540",
     "status": "completed"
    },
    "tags": []
   },
   "source": [
    "# Sentiment Analysis using LSTM"
   ]
  },
  {
   "cell_type": "code",
   "execution_count": 1,
   "id": "c7205dbf",
   "metadata": {
    "execution": {
     "iopub.execute_input": "2021-09-27T06:42:26.551428Z",
     "iopub.status.busy": "2021-09-27T06:42:26.550242Z",
     "iopub.status.idle": "2021-09-27T06:42:34.535944Z",
     "shell.execute_reply": "2021-09-27T06:42:34.536502Z",
     "shell.execute_reply.started": "2021-09-27T06:27:16.305273Z"
    },
    "papermill": {
     "duration": 8.005382,
     "end_time": "2021-09-27T06:42:34.536811",
     "exception": false,
     "start_time": "2021-09-27T06:42:26.531429",
     "status": "completed"
    },
    "tags": []
   },
   "outputs": [],
   "source": [
    "import numpy as np\n",
    "import pandas as pd\n",
    "\n",
    "import matplotlib.pyplot as plt\n",
    "import seaborn as sns\n",
    "\n",
    "import re\n",
    "import string\n",
    "from collections import Counter\n",
    "from nltk.corpus import stopwords\n",
    "stop_words = set(stopwords.words('english'))\n",
    "\n",
    "from sklearn.model_selection import train_test_split\n",
    "\n",
    "import torch\n",
    "from torch.utils.data import DataLoader, TensorDataset\n",
    "import torch.nn as nn\n",
    "\n",
    "import pandas as pd\n",
    "import numpy as np\n",
    "import bz2\n",
    "import matplotlib.pyplot as plt\n",
    "import sklearn\n",
    "import tensorflow as tf\n",
    "from tensorflow.keras import models, layers, optimizers\n",
    "from tensorflow.keras.preprocessing.text import Tokenizer, text_to_word_sequence\n",
    "from tensorflow.keras.preprocessing.sequence import pad_sequences\n",
    "from sklearn.preprocessing import LabelEncoder\n",
    "\n",
    "%matplotlib inline"
   ]
  },
  {
   "cell_type": "code",
   "execution_count": 2,
   "id": "85c80595",
   "metadata": {
    "execution": {
     "iopub.execute_input": "2021-09-27T06:42:34.572372Z",
     "iopub.status.busy": "2021-09-27T06:42:34.571668Z",
     "iopub.status.idle": "2021-09-27T06:42:34.575019Z",
     "shell.execute_reply": "2021-09-27T06:42:34.575571Z",
     "shell.execute_reply.started": "2021-09-27T06:27:16.333073Z"
    },
    "papermill": {
     "duration": 0.022586,
     "end_time": "2021-09-27T06:42:34.575739",
     "exception": false,
     "start_time": "2021-09-27T06:42:34.553153",
     "status": "completed"
    },
    "tags": []
   },
   "outputs": [],
   "source": [
    "device = \"cpu\""
   ]
  },
  {
   "cell_type": "markdown",
   "id": "4bb09a4c",
   "metadata": {
    "papermill": {
     "duration": 0.015511,
     "end_time": "2021-09-27T06:42:34.607392",
     "exception": false,
     "start_time": "2021-09-27T06:42:34.591881",
     "status": "completed"
    },
    "tags": []
   },
   "source": [
    "## 1) Load in and visualize the data"
   ]
  },
  {
   "cell_type": "code",
   "execution_count": 3,
   "id": "d2a48753",
   "metadata": {
    "execution": {
     "iopub.execute_input": "2021-09-27T06:42:34.641807Z",
     "iopub.status.busy": "2021-09-27T06:42:34.641186Z",
     "iopub.status.idle": "2021-09-27T06:42:36.344190Z",
     "shell.execute_reply": "2021-09-27T06:42:36.344738Z",
     "shell.execute_reply.started": "2021-09-27T06:27:16.350631Z"
    },
    "papermill": {
     "duration": 1.72184,
     "end_time": "2021-09-27T06:42:36.344904",
     "exception": false,
     "start_time": "2021-09-27T06:42:34.623064",
     "status": "completed"
    },
    "tags": []
   },
   "outputs": [
    {
     "data": {
      "text/html": [
       "<div>\n",
       "<style scoped>\n",
       "    .dataframe tbody tr th:only-of-type {\n",
       "        vertical-align: middle;\n",
       "    }\n",
       "\n",
       "    .dataframe tbody tr th {\n",
       "        vertical-align: top;\n",
       "    }\n",
       "\n",
       "    .dataframe thead th {\n",
       "        text-align: right;\n",
       "    }\n",
       "</style>\n",
       "<table border=\"1\" class=\"dataframe\">\n",
       "  <thead>\n",
       "    <tr style=\"text-align: right;\">\n",
       "      <th></th>\n",
       "      <th>review</th>\n",
       "      <th>sentiment</th>\n",
       "    </tr>\n",
       "  </thead>\n",
       "  <tbody>\n",
       "    <tr>\n",
       "      <th>0</th>\n",
       "      <td>One of the other reviewers has mentioned that ...</td>\n",
       "      <td>positive</td>\n",
       "    </tr>\n",
       "    <tr>\n",
       "      <th>1</th>\n",
       "      <td>A wonderful little production. &lt;br /&gt;&lt;br /&gt;The...</td>\n",
       "      <td>positive</td>\n",
       "    </tr>\n",
       "    <tr>\n",
       "      <th>2</th>\n",
       "      <td>I thought this was a wonderful way to spend ti...</td>\n",
       "      <td>positive</td>\n",
       "    </tr>\n",
       "    <tr>\n",
       "      <th>3</th>\n",
       "      <td>Basically there's a family where a little boy ...</td>\n",
       "      <td>negative</td>\n",
       "    </tr>\n",
       "    <tr>\n",
       "      <th>4</th>\n",
       "      <td>Petter Mattei's \"Love in the Time of Money\" is...</td>\n",
       "      <td>positive</td>\n",
       "    </tr>\n",
       "  </tbody>\n",
       "</table>\n",
       "</div>"
      ],
      "text/plain": [
       "                                              review sentiment\n",
       "0  One of the other reviewers has mentioned that ...  positive\n",
       "1  A wonderful little production. <br /><br />The...  positive\n",
       "2  I thought this was a wonderful way to spend ti...  positive\n",
       "3  Basically there's a family where a little boy ...  negative\n",
       "4  Petter Mattei's \"Love in the Time of Money\" is...  positive"
      ]
     },
     "execution_count": 3,
     "metadata": {},
     "output_type": "execute_result"
    }
   ],
   "source": [
    "df = pd.read_csv('../input/imdb-dataset-of-50k-movie-reviews/IMDB Dataset.csv')\n",
    "df.head()"
   ]
  },
  {
   "cell_type": "markdown",
   "id": "073c8c5e",
   "metadata": {
    "papermill": {
     "duration": 0.015982,
     "end_time": "2021-09-27T06:42:36.377547",
     "exception": false,
     "start_time": "2021-09-27T06:42:36.361565",
     "status": "completed"
    },
    "tags": []
   },
   "source": [
    "## 2) Data Processing — convert to lower case, Remove punctuation etc"
   ]
  },
  {
   "cell_type": "code",
   "execution_count": 4,
   "id": "405a4e2f",
   "metadata": {
    "execution": {
     "iopub.execute_input": "2021-09-27T06:42:36.418505Z",
     "iopub.status.busy": "2021-09-27T06:42:36.417853Z",
     "iopub.status.idle": "2021-09-27T06:42:47.569718Z",
     "shell.execute_reply": "2021-09-27T06:42:47.570177Z",
     "shell.execute_reply.started": "2021-09-27T06:27:17.026836Z"
    },
    "papermill": {
     "duration": 11.176457,
     "end_time": "2021-09-27T06:42:47.570372",
     "exception": false,
     "start_time": "2021-09-27T06:42:36.393915",
     "status": "completed"
    },
    "tags": []
   },
   "outputs": [
    {
     "data": {
      "text/html": [
       "<div>\n",
       "<style scoped>\n",
       "    .dataframe tbody tr th:only-of-type {\n",
       "        vertical-align: middle;\n",
       "    }\n",
       "\n",
       "    .dataframe tbody tr th {\n",
       "        vertical-align: top;\n",
       "    }\n",
       "\n",
       "    .dataframe thead th {\n",
       "        text-align: right;\n",
       "    }\n",
       "</style>\n",
       "<table border=\"1\" class=\"dataframe\">\n",
       "  <thead>\n",
       "    <tr style=\"text-align: right;\">\n",
       "      <th></th>\n",
       "      <th>review</th>\n",
       "      <th>sentiment</th>\n",
       "      <th>cleaned_reviews</th>\n",
       "    </tr>\n",
       "  </thead>\n",
       "  <tbody>\n",
       "    <tr>\n",
       "      <th>0</th>\n",
       "      <td>One of the other reviewers has mentioned that ...</td>\n",
       "      <td>positive</td>\n",
       "      <td>one reviewers mentioned watching 1 oz episode ...</td>\n",
       "    </tr>\n",
       "    <tr>\n",
       "      <th>1</th>\n",
       "      <td>A wonderful little production. &lt;br /&gt;&lt;br /&gt;The...</td>\n",
       "      <td>positive</td>\n",
       "      <td>wonderful little production filming technique ...</td>\n",
       "    </tr>\n",
       "    <tr>\n",
       "      <th>2</th>\n",
       "      <td>I thought this was a wonderful way to spend ti...</td>\n",
       "      <td>positive</td>\n",
       "      <td>thought wonderful way spend time hot summer we...</td>\n",
       "    </tr>\n",
       "    <tr>\n",
       "      <th>3</th>\n",
       "      <td>Basically there's a family where a little boy ...</td>\n",
       "      <td>negative</td>\n",
       "      <td>basically theres family little boy jake thinks...</td>\n",
       "    </tr>\n",
       "    <tr>\n",
       "      <th>4</th>\n",
       "      <td>Petter Mattei's \"Love in the Time of Money\" is...</td>\n",
       "      <td>positive</td>\n",
       "      <td>petter matteis love time money visually stunni...</td>\n",
       "    </tr>\n",
       "  </tbody>\n",
       "</table>\n",
       "</div>"
      ],
      "text/plain": [
       "                                              review sentiment  \\\n",
       "0  One of the other reviewers has mentioned that ...  positive   \n",
       "1  A wonderful little production. <br /><br />The...  positive   \n",
       "2  I thought this was a wonderful way to spend ti...  positive   \n",
       "3  Basically there's a family where a little boy ...  negative   \n",
       "4  Petter Mattei's \"Love in the Time of Money\" is...  positive   \n",
       "\n",
       "                                     cleaned_reviews  \n",
       "0  one reviewers mentioned watching 1 oz episode ...  \n",
       "1  wonderful little production filming technique ...  \n",
       "2  thought wonderful way spend time hot summer we...  \n",
       "3  basically theres family little boy jake thinks...  \n",
       "4  petter matteis love time money visually stunni...  "
      ]
     },
     "execution_count": 4,
     "metadata": {},
     "output_type": "execute_result"
    }
   ],
   "source": [
    "def data_preprocessing(text):\n",
    "    text = text.lower()\n",
    "    text = re.sub('<.*?>', '', text) # Remove HTML from text\n",
    "    text = ''.join([c for c in text if c not in string.punctuation])# Remove punctuation\n",
    "    text = [word for word in text.split() if word not in stop_words]\n",
    "    text = ' '.join(text)\n",
    "    return text\n",
    "\n",
    "df['cleaned_reviews'] = df['review'].apply(data_preprocessing)\n",
    "df.head()"
   ]
  },
  {
   "cell_type": "markdown",
   "id": "d59bfeae",
   "metadata": {
    "papermill": {
     "duration": 0.016613,
     "end_time": "2021-09-27T06:42:47.603682",
     "exception": false,
     "start_time": "2021-09-27T06:42:47.587069",
     "status": "completed"
    },
    "tags": []
   },
   "source": [
    "## 5) Tokenize — Create Vocab to Int mapping dictionary\n",
    "In most of the NLP tasks, you will create an index mapping dictionary in such a way that your frequently occurring words are assigned lower indexes. One of the most common way of doing this is to use Counter method from Collections library."
   ]
  },
  {
   "cell_type": "code",
   "execution_count": 5,
   "id": "070ae1fc",
   "metadata": {
    "execution": {
     "iopub.execute_input": "2021-09-27T06:42:47.686435Z",
     "iopub.status.busy": "2021-09-27T06:42:47.670994Z",
     "iopub.status.idle": "2021-09-27T06:42:55.119608Z",
     "shell.execute_reply": "2021-09-27T06:42:55.120160Z",
     "shell.execute_reply.started": "2021-09-27T06:27:27.947573Z"
    },
    "papermill": {
     "duration": 7.500038,
     "end_time": "2021-09-27T06:42:55.120381",
     "exception": false,
     "start_time": "2021-09-27T06:42:47.620343",
     "status": "completed"
    },
    "tags": []
   },
   "outputs": [
    {
     "name": "stdout",
     "output_type": "stream",
     "text": [
      "Vocabulary Size : 222610\n"
     ]
    }
   ],
   "source": [
    "max_features = 8192\n",
    "maxlen = 30\n",
    "\n",
    "tokenizer = Tokenizer(num_words=max_features)\n",
    "tokenizer.fit_on_texts(df['cleaned_reviews'])\n",
    "\n",
    "word_index = tokenizer.word_index\n",
    "vocab_size = len(tokenizer.word_index) + 1\n",
    "print(\"Vocabulary Size :\", vocab_size)"
   ]
  },
  {
   "cell_type": "code",
   "execution_count": 6,
   "id": "ae994007",
   "metadata": {
    "execution": {
     "iopub.execute_input": "2021-09-27T06:42:55.205544Z",
     "iopub.status.busy": "2021-09-27T06:42:55.179579Z",
     "iopub.status.idle": "2021-09-27T06:43:00.751106Z",
     "shell.execute_reply": "2021-09-27T06:43:00.750576Z",
     "shell.execute_reply.started": "2021-09-27T06:27:35.341648Z"
    },
    "papermill": {
     "duration": 5.61342,
     "end_time": "2021-09-27T06:43:00.751253",
     "exception": false,
     "start_time": "2021-09-27T06:42:55.137833",
     "status": "completed"
    },
    "tags": []
   },
   "outputs": [],
   "source": [
    "training_token = tokenizer.texts_to_sequences(df['cleaned_reviews'])\n",
    "x_data = pad_sequences(training_token, maxlen = maxlen, padding = 'post')"
   ]
  },
  {
   "cell_type": "code",
   "execution_count": 7,
   "id": "81f8d881",
   "metadata": {
    "execution": {
     "iopub.execute_input": "2021-09-27T06:43:00.791504Z",
     "iopub.status.busy": "2021-09-27T06:43:00.790781Z",
     "iopub.status.idle": "2021-09-27T06:43:00.827143Z",
     "shell.execute_reply": "2021-09-27T06:43:00.826535Z",
     "shell.execute_reply.started": "2021-09-27T06:27:41.190485Z"
    },
    "papermill": {
     "duration": 0.058466,
     "end_time": "2021-09-27T06:43:00.827306",
     "exception": false,
     "start_time": "2021-09-27T06:43:00.768840",
     "status": "completed"
    },
    "tags": []
   },
   "outputs": [],
   "source": [
    "y_data = df['sentiment'].apply(lambda x: 1 if x == 'positive' else 0)"
   ]
  },
  {
   "cell_type": "code",
   "execution_count": 8,
   "id": "1bef532a",
   "metadata": {
    "execution": {
     "iopub.execute_input": "2021-09-27T06:43:00.869458Z",
     "iopub.status.busy": "2021-09-27T06:43:00.868720Z",
     "iopub.status.idle": "2021-09-27T06:43:00.883925Z",
     "shell.execute_reply": "2021-09-27T06:43:00.883400Z",
     "shell.execute_reply.started": "2021-09-27T06:27:41.232067Z"
    },
    "papermill": {
     "duration": 0.039553,
     "end_time": "2021-09-27T06:43:00.884071",
     "exception": false,
     "start_time": "2021-09-27T06:43:00.844518",
     "status": "completed"
    },
    "tags": []
   },
   "outputs": [],
   "source": [
    "X_train, X_remain, y_train, y_remain = train_test_split(x_data, y_data, test_size=0.2, random_state=1)\n",
    "X_valid, X_test, y_valid, y_test = train_test_split(X_remain, y_remain, test_size=0.5, random_state=1)"
   ]
  },
  {
   "cell_type": "code",
   "execution_count": 9,
   "id": "00ece92d",
   "metadata": {
    "execution": {
     "iopub.execute_input": "2021-09-27T06:43:00.926796Z",
     "iopub.status.busy": "2021-09-27T06:43:00.926037Z",
     "iopub.status.idle": "2021-09-27T06:43:00.945701Z",
     "shell.execute_reply": "2021-09-27T06:43:00.945014Z",
     "shell.execute_reply.started": "2021-09-27T06:27:41.252887Z"
    },
    "papermill": {
     "duration": 0.044598,
     "end_time": "2021-09-27T06:43:00.945841",
     "exception": false,
     "start_time": "2021-09-27T06:43:00.901243",
     "status": "completed"
    },
    "tags": []
   },
   "outputs": [],
   "source": [
    "# create tensor dataset\n",
    "train_data = TensorDataset(torch.from_numpy(X_train.astype('float64')), torch.from_numpy(np.array(y_train).astype('float64')))\n",
    "test_data = TensorDataset(torch.from_numpy(X_test), torch.from_numpy(np.array(y_test).astype('float64')))\n",
    "valid_data = TensorDataset(torch.from_numpy(X_valid), torch.from_numpy(np.array(y_valid).astype('float64')))\n",
    "\n",
    "# dataloaders\n",
    "batch_size = 50\n",
    "\n",
    "train_loader = DataLoader(train_data, shuffle=True, batch_size=batch_size)\n",
    "test_loader = DataLoader(test_data, shuffle=True, batch_size=batch_size)\n",
    "valid_loader = DataLoader(valid_data, shuffle=True, batch_size=batch_size)"
   ]
  },
  {
   "cell_type": "code",
   "execution_count": 10,
   "id": "c6591d2b",
   "metadata": {
    "execution": {
     "iopub.execute_input": "2021-09-27T06:43:00.988112Z",
     "iopub.status.busy": "2021-09-27T06:43:00.987456Z",
     "iopub.status.idle": "2021-09-27T06:43:01.074248Z",
     "shell.execute_reply": "2021-09-27T06:43:01.074810Z",
     "shell.execute_reply.started": "2021-09-27T06:27:41.266351Z"
    },
    "papermill": {
     "duration": 0.111953,
     "end_time": "2021-09-27T06:43:01.074989",
     "exception": false,
     "start_time": "2021-09-27T06:43:00.963036",
     "status": "completed"
    },
    "tags": []
   },
   "outputs": [
    {
     "name": "stdout",
     "output_type": "stream",
     "text": [
      "Sample input size:  torch.Size([50, 30])\n",
      "Sample input: \n",
      " tensor([[1.5420e+03, 1.6240e+03, 8.7000e+01,  ..., 1.5700e+03, 1.2000e+01,\n",
      "         4.4000e+01],\n",
      "        [2.0300e+02, 3.9000e+01, 1.4300e+02,  ..., 1.9470e+03, 6.1900e+02,\n",
      "         1.9700e+02],\n",
      "        [5.7000e+01, 1.2960e+03, 1.4080e+03,  ..., 2.6000e+01, 5.1300e+02,\n",
      "         2.1330e+03],\n",
      "        ...,\n",
      "        [2.0600e+02, 2.0000e+00, 3.3770e+03,  ..., 0.0000e+00, 0.0000e+00,\n",
      "         0.0000e+00],\n",
      "        [8.7400e+02, 1.8800e+02, 2.6000e+02,  ..., 3.4900e+02, 5.0000e+00,\n",
      "         8.0000e+00],\n",
      "        [1.1600e+02, 7.2000e+01, 4.0500e+02,  ..., 5.5000e+01, 6.8200e+02,\n",
      "         7.3720e+03]], dtype=torch.float64)\n",
      "Sample input: \n",
      " tensor([0., 0., 0., 0., 0., 0., 1., 1., 0., 1., 0., 0., 0., 1., 1., 0., 0., 1.,\n",
      "        1., 0., 0., 1., 1., 1., 1., 1., 0., 1., 1., 0., 1., 0., 1., 1., 0., 1.,\n",
      "        1., 0., 1., 0., 1., 1., 1., 1., 1., 1., 1., 1., 1., 1.],\n",
      "       dtype=torch.float64)\n"
     ]
    }
   ],
   "source": [
    "# obtain one batch of training data\n",
    "dataiter = iter(train_loader)\n",
    "sample_x, sample_y = dataiter.next()\n",
    "\n",
    "print('Sample input size: ', sample_x.size()) # batch_size, seq_length\n",
    "print('Sample input: \\n', sample_x)\n",
    "print('Sample input: \\n', sample_y)"
   ]
  },
  {
   "cell_type": "code",
   "execution_count": 11,
   "id": "696dac9e",
   "metadata": {
    "execution": {
     "iopub.execute_input": "2021-09-27T06:43:01.125032Z",
     "iopub.status.busy": "2021-09-27T06:43:01.124371Z",
     "iopub.status.idle": "2021-09-27T06:43:01.127761Z",
     "shell.execute_reply": "2021-09-27T06:43:01.127206Z",
     "shell.execute_reply.started": "2021-09-27T06:27:41.28962Z"
    },
    "papermill": {
     "duration": 0.034693,
     "end_time": "2021-09-27T06:43:01.127907",
     "exception": false,
     "start_time": "2021-09-27T06:43:01.093214",
     "status": "completed"
    },
    "tags": []
   },
   "outputs": [],
   "source": [
    "class SentimentNet(nn.Module):\n",
    "    def __init__(self, vocab_size, output_size, embedding_dim, hidden_dim, n_layers, drop_prob=0.5):\n",
    "        super(SentimentNet, self).__init__()\n",
    "        self.output_size = output_size\n",
    "        self.n_layers = n_layers\n",
    "        self.hidden_dim = hidden_dim\n",
    "        \n",
    "        \n",
    "        self.embedding = nn.Embedding(vocab_size, embedding_dim)\n",
    "        #self.conv = nn.Conv1d(embedding_dim, 8, kernel_size=5)\n",
    "        self.lstm = nn.LSTM(embedding_dim, hidden_dim, n_layers, dropout=drop_prob, batch_first=True)\n",
    "        #self.gru = nn.GRU(embedding_dim, hidden_dim, n_layers, dropout=drop_prob, batch_first=True)\n",
    "        self.dropout = nn.Dropout(drop_prob)\n",
    "        self.fc = nn.Linear(hidden_dim, output_size)\n",
    "        self.sigmoid = nn.Sigmoid()\n",
    "        \n",
    "    def forward(self, x, hidden):\n",
    "        if len(x) != 1:\n",
    "            batch_size = x.size(0)\n",
    "        else:\n",
    "            batch_size = 1\n",
    "        \n",
    "        x = x.long()\n",
    "        embeds = self.embedding(x)\n",
    "\n",
    "        #conv = self.conv(x)\n",
    "        \n",
    "        lstm_out, hidden = self.lstm(embeds, hidden)\n",
    "        lstm_out = lstm_out.contiguous().view(-1, self.hidden_dim)\n",
    "        \n",
    "        out = self.dropout(lstm_out)\n",
    "        out = self.fc(out)\n",
    "        out = self.sigmoid(out)\n",
    "        \n",
    "        out = out.view(batch_size, -1)\n",
    "        out = out[:,-1]\n",
    "        return out, hidden\n",
    "    \n",
    "    def init_hidden(self, batch_size):\n",
    "        weight = next(self.parameters()).data\n",
    "        #hidden = (weight.new(self.n_layers, batch_size, self.hidden_dim).zero_().to(device),weight.new(self.n_layers, batch_size, self.hidden_dim).zero_().to(device))\n",
    "        hidden = (weight.new(self.n_layers, batch_size, self.hidden_dim).zero_(),\n",
    "                     weight.new(self.n_layers, batch_size, self.hidden_dim).zero_())\n",
    "        return hidden"
   ]
  },
  {
   "cell_type": "code",
   "execution_count": 12,
   "id": "cae39a45",
   "metadata": {
    "execution": {
     "iopub.execute_input": "2021-09-27T06:43:01.170920Z",
     "iopub.status.busy": "2021-09-27T06:43:01.170243Z",
     "iopub.status.idle": "2021-09-27T06:43:01.173526Z",
     "shell.execute_reply": "2021-09-27T06:43:01.172954Z",
     "shell.execute_reply.started": "2021-09-27T06:27:41.304138Z"
    },
    "papermill": {
     "duration": 0.027582,
     "end_time": "2021-09-27T06:43:01.173675",
     "exception": false,
     "start_time": "2021-09-27T06:43:01.146093",
     "status": "completed"
    },
    "tags": []
   },
   "outputs": [],
   "source": [
    "def model_params(model):\n",
    "    pp=0\n",
    "    for p in list(model.parameters()):\n",
    "        nn=1\n",
    "        for s in list(p.size()):\n",
    "            nn = nn*s\n",
    "        pp += nn\n",
    "    return pp"
   ]
  },
  {
   "cell_type": "code",
   "execution_count": 13,
   "id": "c45ee7a2",
   "metadata": {
    "execution": {
     "iopub.execute_input": "2021-09-27T06:43:01.217874Z",
     "iopub.status.busy": "2021-09-27T06:43:01.217103Z",
     "iopub.status.idle": "2021-09-27T06:43:01.261901Z",
     "shell.execute_reply": "2021-09-27T06:43:01.261126Z",
     "shell.execute_reply.started": "2021-09-27T06:27:41.32013Z"
    },
    "papermill": {
     "duration": 0.07032,
     "end_time": "2021-09-27T06:43:01.262099",
     "exception": false,
     "start_time": "2021-09-27T06:43:01.191779",
     "status": "completed"
    },
    "tags": []
   },
   "outputs": [
    {
     "name": "stdout",
     "output_type": "stream",
     "text": [
      "2418566\n"
     ]
    }
   ],
   "source": [
    "output_size = 1\n",
    "embedding_dim = 10\n",
    "hidden_dim = 45\n",
    "n_layers = 12\n",
    "\n",
    "model = SentimentNet(vocab_size, output_size, embedding_dim, hidden_dim, n_layers)\n",
    "print(model_params(model))\n",
    "model.to(device)\n",
    "lr=0.008\n",
    "criterion = nn.BCELoss()\n",
    "optimizer = torch.optim.Adam(model.parameters(), lr=lr)"
   ]
  },
  {
   "cell_type": "code",
   "execution_count": 14,
   "id": "64f58a0d",
   "metadata": {
    "execution": {
     "iopub.execute_input": "2021-09-27T06:43:01.304727Z",
     "iopub.status.busy": "2021-09-27T06:43:01.303828Z",
     "iopub.status.idle": "2021-09-27T07:01:42.710198Z",
     "shell.execute_reply": "2021-09-27T07:01:42.710720Z",
     "shell.execute_reply.started": "2021-09-27T06:27:41.364585Z"
    },
    "papermill": {
     "duration": 1121.428742,
     "end_time": "2021-09-27T07:01:42.710909",
     "exception": false,
     "start_time": "2021-09-27T06:43:01.282167",
     "status": "completed"
    },
    "tags": []
   },
   "outputs": [
    {
     "name": "stdout",
     "output_type": "stream",
     "text": [
      "Epoch: 1/5... Step: 100... Loss: 0.703104... Val Loss: 0.693904\n",
      "Validation loss decreased (inf --> 0.693904).  Saving model ...\n",
      "Epoch: 1/5... Step: 200... Loss: 0.692203... Val Loss: 0.693059\n",
      "Validation loss decreased (0.693904 --> 0.693059).  Saving model ...\n",
      "Epoch: 1/5... Step: 300... Loss: 0.692330... Val Loss: 0.693141\n",
      "Epoch: 1/5... Step: 400... Loss: 0.695629... Val Loss: 0.693669\n",
      "Epoch: 1/5... Step: 500... Loss: 0.699800... Val Loss: 0.693593\n",
      "Epoch: 1/5... Step: 600... Loss: 0.687972... Val Loss: 0.693527\n",
      "Epoch: 1/5... Step: 700... Loss: 0.690217... Val Loss: 0.693072\n",
      "Epoch: 1/5... Step: 800... Loss: 0.691523... Val Loss: 0.693508\n",
      "Epoch: 2/5... Step: 900... Loss: 0.692826... Val Loss: 0.693139\n",
      "Epoch: 2/5... Step: 1000... Loss: 0.694122... Val Loss: 0.693314\n",
      "Epoch: 2/5... Step: 1100... Loss: 0.692299... Val Loss: 0.693229\n",
      "Epoch: 2/5... Step: 1200... Loss: 0.690970... Val Loss: 0.693128\n",
      "Epoch: 2/5... Step: 1300... Loss: 0.695083... Val Loss: 0.693057\n",
      "Validation loss decreased (0.693059 --> 0.693057).  Saving model ...\n",
      "Epoch: 2/5... Step: 1400... Loss: 0.690728... Val Loss: 0.694079\n",
      "Epoch: 2/5... Step: 1500... Loss: 0.696906... Val Loss: 0.693063\n",
      "Epoch: 2/5... Step: 1600... Loss: 0.692537... Val Loss: 0.693140\n",
      "Epoch: 3/5... Step: 1700... Loss: 0.693953... Val Loss: 0.693584\n",
      "Epoch: 3/5... Step: 1800... Loss: 0.688864... Val Loss: 0.693057\n",
      "Epoch: 3/5... Step: 1900... Loss: 0.693555... Val Loss: 0.693149\n",
      "Epoch: 3/5... Step: 2000... Loss: 0.692400... Val Loss: 0.693058\n",
      "Epoch: 3/5... Step: 2100... Loss: 0.691503... Val Loss: 0.693056\n",
      "Validation loss decreased (0.693057 --> 0.693056).  Saving model ...\n",
      "Epoch: 3/5... Step: 2200... Loss: 0.698200... Val Loss: 0.695048\n",
      "Epoch: 3/5... Step: 2300... Loss: 0.694577... Val Loss: 0.693374\n",
      "Epoch: 3/5... Step: 2400... Loss: 0.691862... Val Loss: 0.693070\n",
      "Epoch: 4/5... Step: 2500... Loss: 0.695602... Val Loss: 0.693271\n",
      "Epoch: 4/5... Step: 2600... Loss: 0.694187... Val Loss: 0.693293\n",
      "Epoch: 4/5... Step: 2700... Loss: 0.687613... Val Loss: 0.693066\n",
      "Epoch: 4/5... Step: 2800... Loss: 0.696091... Val Loss: 0.693426\n",
      "Epoch: 4/5... Step: 2900... Loss: 0.689401... Val Loss: 0.693244\n",
      "Epoch: 4/5... Step: 3000... Loss: 0.691852... Val Loss: 0.693672\n",
      "Epoch: 4/5... Step: 3100... Loss: 0.690401... Val Loss: 0.693897\n",
      "Epoch: 4/5... Step: 3200... Loss: 0.689905... Val Loss: 0.693862\n",
      "Epoch: 5/5... Step: 3300... Loss: 0.693882... Val Loss: 0.693061\n",
      "Epoch: 5/5... Step: 3400... Loss: 0.692232... Val Loss: 0.694131\n",
      "Epoch: 5/5... Step: 3500... Loss: 0.693082... Val Loss: 0.693146\n",
      "Epoch: 5/5... Step: 3600... Loss: 0.694488... Val Loss: 0.693269\n",
      "Epoch: 5/5... Step: 3700... Loss: 0.692240... Val Loss: 0.693316\n",
      "Epoch: 5/5... Step: 3800... Loss: 0.693382... Val Loss: 0.693253\n",
      "Epoch: 5/5... Step: 3900... Loss: 0.694696... Val Loss: 0.693084\n",
      "Epoch: 5/5... Step: 4000... Loss: 0.699359... Val Loss: 0.693161\n"
     ]
    }
   ],
   "source": [
    "epochs = 5\n",
    "counter = 0\n",
    "print_every = 100\n",
    "clip = 5\n",
    "valid_loss_min = np.Inf\n",
    "\n",
    "model.train()\n",
    "for i in range(epochs):\n",
    "    h = model.init_hidden(batch_size)\n",
    "    \n",
    "    for inputs, labels in train_loader:\n",
    "        counter += 1\n",
    "        h = tuple([e.data for e in h])\n",
    "        inputs, labels = inputs.to(device), labels.to(device)\n",
    "        model.zero_grad()\n",
    "        output, h = model(inputs, h)\n",
    "        loss = criterion(output, labels.float())\n",
    "        loss.backward()\n",
    "        #nn.utils.clip_grad_norm_(model.parameters(), clip)\n",
    "        optimizer.step()\n",
    "        if counter%print_every == 0:\n",
    "            val_h = model.init_hidden(batch_size)\n",
    "            val_losses = []\n",
    "            model.eval()\n",
    "            for inp, lab in test_loader:\n",
    "                val_h = tuple([each.data for each in val_h])\n",
    "                inp, lab = inp.to(device), lab.to(device)\n",
    "                out, val_h = model(inp, val_h)\n",
    "                val_loss = criterion(out, lab.float())\n",
    "                val_losses.append(val_loss.item())\n",
    "                \n",
    "            model.train()\n",
    "            print(\"Epoch: {}/{}...\".format(i+1, epochs),\n",
    "                  \"Step: {}...\".format(counter),\n",
    "                  \"Loss: {:.6f}...\".format(loss.item()),\n",
    "                  \"Val Loss: {:.6f}\".format(np.mean(val_losses)))\n",
    "            if np.mean(val_losses) <= valid_loss_min:\n",
    "                torch.save(model.state_dict(), './state_dict.pt')\n",
    "                print('Validation loss decreased ({:.6f} --> {:.6f}).  Saving model ...'.format(valid_loss_min,np.mean(val_losses)))\n",
    "                valid_loss_min = np.mean(val_losses)"
   ]
  },
  {
   "cell_type": "code",
   "execution_count": 15,
   "id": "4a6d8c89",
   "metadata": {
    "execution": {
     "iopub.execute_input": "2021-09-27T07:01:42.779986Z",
     "iopub.status.busy": "2021-09-27T07:01:42.779379Z",
     "iopub.status.idle": "2021-09-27T07:01:42.828515Z",
     "shell.execute_reply": "2021-09-27T07:01:42.828956Z",
     "shell.execute_reply.started": "2021-09-27T06:27:41.42034Z"
    },
    "papermill": {
     "duration": 0.088448,
     "end_time": "2021-09-27T07:01:42.829137",
     "exception": false,
     "start_time": "2021-09-27T07:01:42.740689",
     "status": "completed"
    },
    "tags": []
   },
   "outputs": [
    {
     "data": {
      "text/plain": [
       "tensor([0.4859], grad_fn=<SelectBackward>)"
      ]
     },
     "execution_count": 15,
     "metadata": {},
     "output_type": "execute_result"
    }
   ],
   "source": [
    "h = model.init_hidden(1)\n",
    "sentence = \"I love this movie because it is great\"\n",
    "trial = torch.tensor(pad_sequences(tokenizer.texts_to_sequences([sentence]), maxlen = maxlen)).to(device)\n",
    "\n",
    "\n",
    "model(trial, h)[0]"
   ]
  },
  {
   "cell_type": "code",
   "execution_count": 16,
   "id": "49a559cf",
   "metadata": {
    "execution": {
     "iopub.execute_input": "2021-09-27T07:01:42.895544Z",
     "iopub.status.busy": "2021-09-27T07:01:42.894644Z",
     "iopub.status.idle": "2021-09-27T07:01:43.122655Z",
     "shell.execute_reply": "2021-09-27T07:01:43.123238Z"
    },
    "papermill": {
     "duration": 0.262825,
     "end_time": "2021-09-27T07:01:43.123578",
     "exception": false,
     "start_time": "2021-09-27T07:01:42.860753",
     "status": "completed"
    },
    "tags": []
   },
   "outputs": [
    {
     "name": "stderr",
     "output_type": "stream",
     "text": [
      "/opt/conda/lib/python3.7/site-packages/ipykernel_launcher.py:18: TracerWarning: Converting a tensor to a Python index might cause the trace to be incorrect. We can't record the data flow of Python values, so this value will be treated as a constant in the future. This means that the trace might not generalize to other inputs!\n",
      "/opt/conda/lib/python3.7/site-packages/torch/onnx/symbolic_opset9.py:1805: UserWarning: Exporting a model to ONNX with a batch_size other than 1, with a variable length with LSTM can cause an error when running the ONNX model with a different batch size. Make sure to save the model with a batch size of 1, or define the initial states (h0/c0) as inputs of the model. \n",
      "  \"or define the initial states (h0/c0) as inputs of the model. \")\n"
     ]
    }
   ],
   "source": [
    "import torch.onnx\n",
    "torch.onnx.export(model,               # model being run\n",
    "                  (trial, (torch.randn(12,1,45).to(device), torch.randn(12,1,45).to(device))),                   # model input (or a tuple for multiple inputs)\n",
    "                  \"lstm.onnx\")"
   ]
  }
 ],
 "metadata": {
  "kernelspec": {
   "display_name": "Python 3",
   "language": "python",
   "name": "python3"
  },
  "language_info": {
   "codemirror_mode": {
    "name": "ipython",
    "version": 3
   },
   "file_extension": ".py",
   "mimetype": "text/x-python",
   "name": "python",
   "nbconvert_exporter": "python",
   "pygments_lexer": "ipython3",
   "version": "3.7.10"
  },
  "papermill": {
   "default_parameters": {},
   "duration": 1167.242304,
   "end_time": "2021-09-27T07:01:45.609883",
   "environment_variables": {},
   "exception": null,
   "input_path": "__notebook__.ipynb",
   "output_path": "__notebook__.ipynb",
   "parameters": {},
   "start_time": "2021-09-27T06:42:18.367579",
   "version": "2.3.3"
  }
 },
 "nbformat": 4,
 "nbformat_minor": 5
}
