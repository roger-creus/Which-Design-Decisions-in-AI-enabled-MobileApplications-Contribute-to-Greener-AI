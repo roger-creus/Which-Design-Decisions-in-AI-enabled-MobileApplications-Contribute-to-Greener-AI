{
 "cells": [
  {
   "cell_type": "markdown",
   "id": "32ea69e6",
   "metadata": {
    "papermill": {
     "duration": 0.015866,
     "end_time": "2021-11-26T11:51:59.294675",
     "exception": false,
     "start_time": "2021-11-26T11:51:59.278809",
     "status": "completed"
    },
    "tags": []
   },
   "source": [
    "# Sentiment Analysis using LSTM"
   ]
  },
  {
   "cell_type": "code",
   "execution_count": 1,
   "id": "d32336b0",
   "metadata": {
    "execution": {
     "iopub.execute_input": "2021-11-26T11:51:59.411956Z",
     "iopub.status.busy": "2021-11-26T11:51:59.411024Z",
     "iopub.status.idle": "2021-11-26T11:52:09.283366Z",
     "shell.execute_reply": "2021-11-26T11:52:09.282808Z",
     "shell.execute_reply.started": "2021-11-26T11:46:05.391441Z"
    },
    "papermill": {
     "duration": 9.972144,
     "end_time": "2021-11-26T11:52:09.283521",
     "exception": false,
     "start_time": "2021-11-26T11:51:59.311377",
     "status": "completed"
    },
    "tags": []
   },
   "outputs": [
    {
     "name": "stderr",
     "output_type": "stream",
     "text": [
      "2021-11-26 11:52:05.767707: I tensorflow/stream_executor/platform/default/dso_loader.cc:49] Successfully opened dynamic library libcudart.so.11.0\n"
     ]
    }
   ],
   "source": [
    "import numpy as np\n",
    "import pandas as pd\n",
    "from torch import nn\n",
    "\n",
    "import matplotlib.pyplot as plt\n",
    "import seaborn as sns\n",
    "\n",
    "import torch.nn.functional as F\n",
    "\n",
    "import re\n",
    "import string\n",
    "from collections import Counter\n",
    "from nltk.corpus import stopwords\n",
    "stop_words = set(stopwords.words('english'))\n",
    "\n",
    "from sklearn.model_selection import train_test_split\n",
    "\n",
    "import torch\n",
    "from torch.utils.data import DataLoader, TensorDataset\n",
    "import torch.nn as nn\n",
    "\n",
    "import pandas as pd\n",
    "import numpy as np\n",
    "import bz2\n",
    "import matplotlib.pyplot as plt\n",
    "import sklearn\n",
    "import tensorflow as tf\n",
    "from tensorflow.keras import models, layers, optimizers\n",
    "from tensorflow.keras.preprocessing.text import Tokenizer, text_to_word_sequence\n",
    "from tensorflow.keras.preprocessing.sequence import pad_sequences\n",
    "from sklearn.preprocessing import LabelEncoder\n",
    "\n",
    "%matplotlib inline"
   ]
  },
  {
   "cell_type": "code",
   "execution_count": 2,
   "id": "5ca9ee77",
   "metadata": {
    "execution": {
     "iopub.execute_input": "2021-11-26T11:52:09.319346Z",
     "iopub.status.busy": "2021-11-26T11:52:09.318803Z",
     "iopub.status.idle": "2021-11-26T11:52:09.321575Z",
     "shell.execute_reply": "2021-11-26T11:52:09.321180Z",
     "shell.execute_reply.started": "2021-11-26T11:46:05.409146Z"
    },
    "papermill": {
     "duration": 0.021135,
     "end_time": "2021-11-26T11:52:09.321707",
     "exception": false,
     "start_time": "2021-11-26T11:52:09.300572",
     "status": "completed"
    },
    "tags": []
   },
   "outputs": [],
   "source": [
    "device = \"cuda:0\""
   ]
  },
  {
   "cell_type": "markdown",
   "id": "f022fb18",
   "metadata": {
    "papermill": {
     "duration": 0.014214,
     "end_time": "2021-11-26T11:52:09.350610",
     "exception": false,
     "start_time": "2021-11-26T11:52:09.336396",
     "status": "completed"
    },
    "tags": []
   },
   "source": [
    "## 1) Load in and visualize the data"
   ]
  },
  {
   "cell_type": "code",
   "execution_count": 3,
   "id": "abae2302",
   "metadata": {
    "execution": {
     "iopub.execute_input": "2021-11-26T11:52:09.383773Z",
     "iopub.status.busy": "2021-11-26T11:52:09.383252Z",
     "iopub.status.idle": "2021-11-26T11:52:10.899434Z",
     "shell.execute_reply": "2021-11-26T11:52:10.899874Z",
     "shell.execute_reply.started": "2021-11-26T11:46:05.422503Z"
    },
    "papermill": {
     "duration": 1.534886,
     "end_time": "2021-11-26T11:52:10.900024",
     "exception": false,
     "start_time": "2021-11-26T11:52:09.365138",
     "status": "completed"
    },
    "tags": []
   },
   "outputs": [
    {
     "data": {
      "text/html": [
       "<div>\n",
       "<style scoped>\n",
       "    .dataframe tbody tr th:only-of-type {\n",
       "        vertical-align: middle;\n",
       "    }\n",
       "\n",
       "    .dataframe tbody tr th {\n",
       "        vertical-align: top;\n",
       "    }\n",
       "\n",
       "    .dataframe thead th {\n",
       "        text-align: right;\n",
       "    }\n",
       "</style>\n",
       "<table border=\"1\" class=\"dataframe\">\n",
       "  <thead>\n",
       "    <tr style=\"text-align: right;\">\n",
       "      <th></th>\n",
       "      <th>review</th>\n",
       "      <th>sentiment</th>\n",
       "    </tr>\n",
       "  </thead>\n",
       "  <tbody>\n",
       "    <tr>\n",
       "      <th>0</th>\n",
       "      <td>One of the other reviewers has mentioned that ...</td>\n",
       "      <td>positive</td>\n",
       "    </tr>\n",
       "    <tr>\n",
       "      <th>1</th>\n",
       "      <td>A wonderful little production. &lt;br /&gt;&lt;br /&gt;The...</td>\n",
       "      <td>positive</td>\n",
       "    </tr>\n",
       "    <tr>\n",
       "      <th>2</th>\n",
       "      <td>I thought this was a wonderful way to spend ti...</td>\n",
       "      <td>positive</td>\n",
       "    </tr>\n",
       "    <tr>\n",
       "      <th>3</th>\n",
       "      <td>Basically there's a family where a little boy ...</td>\n",
       "      <td>negative</td>\n",
       "    </tr>\n",
       "    <tr>\n",
       "      <th>4</th>\n",
       "      <td>Petter Mattei's \"Love in the Time of Money\" is...</td>\n",
       "      <td>positive</td>\n",
       "    </tr>\n",
       "  </tbody>\n",
       "</table>\n",
       "</div>"
      ],
      "text/plain": [
       "                                              review sentiment\n",
       "0  One of the other reviewers has mentioned that ...  positive\n",
       "1  A wonderful little production. <br /><br />The...  positive\n",
       "2  I thought this was a wonderful way to spend ti...  positive\n",
       "3  Basically there's a family where a little boy ...  negative\n",
       "4  Petter Mattei's \"Love in the Time of Money\" is...  positive"
      ]
     },
     "execution_count": 3,
     "metadata": {},
     "output_type": "execute_result"
    }
   ],
   "source": [
    "df = pd.read_csv('../input/imdb-dataset-of-50k-movie-reviews/IMDB Dataset.csv')\n",
    "df.head()"
   ]
  },
  {
   "cell_type": "markdown",
   "id": "0ea3c0c9",
   "metadata": {
    "papermill": {
     "duration": 0.015335,
     "end_time": "2021-11-26T11:52:10.931682",
     "exception": false,
     "start_time": "2021-11-26T11:52:10.916347",
     "status": "completed"
    },
    "tags": []
   },
   "source": [
    "## 2) Data Processing — convert to lower case, Remove punctuation etc"
   ]
  },
  {
   "cell_type": "code",
   "execution_count": 4,
   "id": "d164fc1c",
   "metadata": {
    "execution": {
     "iopub.execute_input": "2021-11-26T11:52:10.968563Z",
     "iopub.status.busy": "2021-11-26T11:52:10.967816Z",
     "iopub.status.idle": "2021-11-26T11:52:20.911926Z",
     "shell.execute_reply": "2021-11-26T11:52:20.911445Z",
     "shell.execute_reply.started": "2021-11-26T11:46:05.957734Z"
    },
    "papermill": {
     "duration": 9.965273,
     "end_time": "2021-11-26T11:52:20.912062",
     "exception": false,
     "start_time": "2021-11-26T11:52:10.946789",
     "status": "completed"
    },
    "tags": []
   },
   "outputs": [
    {
     "data": {
      "text/html": [
       "<div>\n",
       "<style scoped>\n",
       "    .dataframe tbody tr th:only-of-type {\n",
       "        vertical-align: middle;\n",
       "    }\n",
       "\n",
       "    .dataframe tbody tr th {\n",
       "        vertical-align: top;\n",
       "    }\n",
       "\n",
       "    .dataframe thead th {\n",
       "        text-align: right;\n",
       "    }\n",
       "</style>\n",
       "<table border=\"1\" class=\"dataframe\">\n",
       "  <thead>\n",
       "    <tr style=\"text-align: right;\">\n",
       "      <th></th>\n",
       "      <th>review</th>\n",
       "      <th>sentiment</th>\n",
       "      <th>cleaned_reviews</th>\n",
       "    </tr>\n",
       "  </thead>\n",
       "  <tbody>\n",
       "    <tr>\n",
       "      <th>0</th>\n",
       "      <td>One of the other reviewers has mentioned that ...</td>\n",
       "      <td>positive</td>\n",
       "      <td>one reviewers mentioned watching 1 oz episode ...</td>\n",
       "    </tr>\n",
       "    <tr>\n",
       "      <th>1</th>\n",
       "      <td>A wonderful little production. &lt;br /&gt;&lt;br /&gt;The...</td>\n",
       "      <td>positive</td>\n",
       "      <td>wonderful little production filming technique ...</td>\n",
       "    </tr>\n",
       "    <tr>\n",
       "      <th>2</th>\n",
       "      <td>I thought this was a wonderful way to spend ti...</td>\n",
       "      <td>positive</td>\n",
       "      <td>thought wonderful way spend time hot summer we...</td>\n",
       "    </tr>\n",
       "    <tr>\n",
       "      <th>3</th>\n",
       "      <td>Basically there's a family where a little boy ...</td>\n",
       "      <td>negative</td>\n",
       "      <td>basically theres family little boy jake thinks...</td>\n",
       "    </tr>\n",
       "    <tr>\n",
       "      <th>4</th>\n",
       "      <td>Petter Mattei's \"Love in the Time of Money\" is...</td>\n",
       "      <td>positive</td>\n",
       "      <td>petter matteis love time money visually stunni...</td>\n",
       "    </tr>\n",
       "  </tbody>\n",
       "</table>\n",
       "</div>"
      ],
      "text/plain": [
       "                                              review sentiment  \\\n",
       "0  One of the other reviewers has mentioned that ...  positive   \n",
       "1  A wonderful little production. <br /><br />The...  positive   \n",
       "2  I thought this was a wonderful way to spend ti...  positive   \n",
       "3  Basically there's a family where a little boy ...  negative   \n",
       "4  Petter Mattei's \"Love in the Time of Money\" is...  positive   \n",
       "\n",
       "                                     cleaned_reviews  \n",
       "0  one reviewers mentioned watching 1 oz episode ...  \n",
       "1  wonderful little production filming technique ...  \n",
       "2  thought wonderful way spend time hot summer we...  \n",
       "3  basically theres family little boy jake thinks...  \n",
       "4  petter matteis love time money visually stunni...  "
      ]
     },
     "execution_count": 4,
     "metadata": {},
     "output_type": "execute_result"
    }
   ],
   "source": [
    "def data_preprocessing(text):\n",
    "    text = text.lower()\n",
    "    text = re.sub('<.*?>', '', text) # Remove HTML from text\n",
    "    text = ''.join([c for c in text if c not in string.punctuation])# Remove punctuation\n",
    "    text = [word for word in text.split() if word not in stop_words]\n",
    "    text = ' '.join(text)\n",
    "    return text\n",
    "\n",
    "df['cleaned_reviews'] = df['review'].apply(data_preprocessing)\n",
    "df.head()"
   ]
  },
  {
   "cell_type": "markdown",
   "id": "df832284",
   "metadata": {
    "papermill": {
     "duration": 0.01521,
     "end_time": "2021-11-26T11:52:20.943056",
     "exception": false,
     "start_time": "2021-11-26T11:52:20.927846",
     "status": "completed"
    },
    "tags": []
   },
   "source": [
    "## 5) Tokenize — Create Vocab to Int mapping dictionary\n",
    "In most of the NLP tasks, you will create an index mapping dictionary in such a way that your frequently occurring words are assigned lower indexes. One of the most common way of doing this is to use Counter method from Collections library."
   ]
  },
  {
   "cell_type": "code",
   "execution_count": 5,
   "id": "f404d50e",
   "metadata": {
    "execution": {
     "iopub.execute_input": "2021-11-26T11:52:20.987291Z",
     "iopub.status.busy": "2021-11-26T11:52:20.986487Z",
     "iopub.status.idle": "2021-11-26T11:52:26.712146Z",
     "shell.execute_reply": "2021-11-26T11:52:26.711541Z",
     "shell.execute_reply.started": "2021-11-26T11:46:15.690609Z"
    },
    "papermill": {
     "duration": 5.753908,
     "end_time": "2021-11-26T11:52:26.712378",
     "exception": false,
     "start_time": "2021-11-26T11:52:20.958470",
     "status": "completed"
    },
    "tags": []
   },
   "outputs": [
    {
     "name": "stdout",
     "output_type": "stream",
     "text": [
      "Vocabulary Size : 222610\n"
     ]
    }
   ],
   "source": [
    "max_features = 8192\n",
    "maxlen = 30\n",
    "\n",
    "tokenizer = Tokenizer(num_words=max_features)\n",
    "tokenizer.fit_on_texts(df['cleaned_reviews'])\n",
    "\n",
    "word_index = tokenizer.word_index\n",
    "vocab_size = len(tokenizer.word_index) + 1\n",
    "print(\"Vocabulary Size :\", vocab_size)"
   ]
  },
  {
   "cell_type": "code",
   "execution_count": 6,
   "id": "4e7ef96a",
   "metadata": {
    "execution": {
     "iopub.execute_input": "2021-11-26T11:52:26.773210Z",
     "iopub.status.busy": "2021-11-26T11:52:26.752582Z",
     "iopub.status.idle": "2021-11-26T11:52:31.152845Z",
     "shell.execute_reply": "2021-11-26T11:52:31.152196Z",
     "shell.execute_reply.started": "2021-11-26T11:46:21.828166Z"
    },
    "papermill": {
     "duration": 4.423985,
     "end_time": "2021-11-26T11:52:31.152973",
     "exception": false,
     "start_time": "2021-11-26T11:52:26.728988",
     "status": "completed"
    },
    "tags": []
   },
   "outputs": [],
   "source": [
    "training_token = tokenizer.texts_to_sequences(df['cleaned_reviews'])\n",
    "x_data = pad_sequences(training_token, maxlen = maxlen, padding = 'post')"
   ]
  },
  {
   "cell_type": "code",
   "execution_count": 7,
   "id": "6dc6a619",
   "metadata": {
    "execution": {
     "iopub.execute_input": "2021-11-26T11:52:31.188880Z",
     "iopub.status.busy": "2021-11-26T11:52:31.188328Z",
     "iopub.status.idle": "2021-11-26T11:52:31.219431Z",
     "shell.execute_reply": "2021-11-26T11:52:31.219828Z",
     "shell.execute_reply.started": "2021-11-26T11:46:26.370519Z"
    },
    "papermill": {
     "duration": 0.051045,
     "end_time": "2021-11-26T11:52:31.219965",
     "exception": false,
     "start_time": "2021-11-26T11:52:31.168920",
     "status": "completed"
    },
    "tags": []
   },
   "outputs": [],
   "source": [
    "y_data = df['sentiment'].apply(lambda x: 1 if x == 'positive' else 0)"
   ]
  },
  {
   "cell_type": "code",
   "execution_count": 8,
   "id": "5da6b4c6",
   "metadata": {
    "execution": {
     "iopub.execute_input": "2021-11-26T11:52:31.255205Z",
     "iopub.status.busy": "2021-11-26T11:52:31.254645Z",
     "iopub.status.idle": "2021-11-26T11:52:31.267962Z",
     "shell.execute_reply": "2021-11-26T11:52:31.267434Z",
     "shell.execute_reply.started": "2021-11-26T11:46:26.405302Z"
    },
    "papermill": {
     "duration": 0.032689,
     "end_time": "2021-11-26T11:52:31.268069",
     "exception": false,
     "start_time": "2021-11-26T11:52:31.235380",
     "status": "completed"
    },
    "tags": []
   },
   "outputs": [],
   "source": [
    "X_train, X_remain, y_train, y_remain = train_test_split(x_data, y_data, test_size=0.2, random_state=1)\n",
    "X_valid, X_test, y_valid, y_test = train_test_split(X_remain, y_remain, test_size=0.5, random_state=1)"
   ]
  },
  {
   "cell_type": "code",
   "execution_count": 9,
   "id": "ba2a5751",
   "metadata": {
    "execution": {
     "iopub.execute_input": "2021-11-26T11:52:31.302961Z",
     "iopub.status.busy": "2021-11-26T11:52:31.302295Z",
     "iopub.status.idle": "2021-11-26T11:52:31.304964Z",
     "shell.execute_reply": "2021-11-26T11:52:31.304541Z",
     "shell.execute_reply.started": "2021-11-26T11:46:26.422158Z"
    },
    "papermill": {
     "duration": 0.021578,
     "end_time": "2021-11-26T11:52:31.305071",
     "exception": false,
     "start_time": "2021-11-26T11:52:31.283493",
     "status": "completed"
    },
    "tags": []
   },
   "outputs": [],
   "source": [
    "y_train = y_train.to_numpy().reshape(-1,1)\n",
    "y_test = y_test.to_numpy().reshape(-1,1)"
   ]
  },
  {
   "cell_type": "code",
   "execution_count": 10,
   "id": "895d5697",
   "metadata": {
    "execution": {
     "iopub.execute_input": "2021-11-26T11:52:31.342432Z",
     "iopub.status.busy": "2021-11-26T11:52:31.339403Z",
     "iopub.status.idle": "2021-11-26T11:52:31.360088Z",
     "shell.execute_reply": "2021-11-26T11:52:31.359653Z",
     "shell.execute_reply.started": "2021-11-26T11:46:26.428343Z"
    },
    "papermill": {
     "duration": 0.039645,
     "end_time": "2021-11-26T11:52:31.360189",
     "exception": false,
     "start_time": "2021-11-26T11:52:31.320544",
     "status": "completed"
    },
    "tags": []
   },
   "outputs": [],
   "source": [
    "# create tensor dataset\n",
    "train_data = TensorDataset(torch.from_numpy(X_train.astype('float64')), torch.from_numpy(np.array(y_train).astype('float64')))\n",
    "test_data = TensorDataset(torch.from_numpy(X_test), torch.from_numpy(np.array(y_test).astype('float64')))\n",
    "valid_data = TensorDataset(torch.from_numpy(X_valid), torch.from_numpy(np.array(y_valid).astype('float64')))\n",
    "\n",
    "# dataloaders\n",
    "batch_size = 50\n",
    "\n",
    "train_loader = DataLoader(train_data, shuffle=True, batch_size=batch_size)\n",
    "test_loader = DataLoader(test_data, shuffle=True, batch_size=batch_size)\n",
    "valid_loader = DataLoader(valid_data, shuffle=True, batch_size=batch_size)"
   ]
  },
  {
   "cell_type": "code",
   "execution_count": 11,
   "id": "13109baa",
   "metadata": {
    "execution": {
     "iopub.execute_input": "2021-11-26T11:52:31.398436Z",
     "iopub.status.busy": "2021-11-26T11:52:31.397856Z",
     "iopub.status.idle": "2021-11-26T11:52:31.477004Z",
     "shell.execute_reply": "2021-11-26T11:52:31.476340Z",
     "shell.execute_reply.started": "2021-11-26T11:46:26.444992Z"
    },
    "papermill": {
     "duration": 0.101663,
     "end_time": "2021-11-26T11:52:31.477253",
     "exception": false,
     "start_time": "2021-11-26T11:52:31.375590",
     "status": "completed"
    },
    "tags": []
   },
   "outputs": [
    {
     "name": "stdout",
     "output_type": "stream",
     "text": [
      "Sample input size:  torch.Size([50, 30])\n",
      "Sample input: \n",
      " tensor([[4.4000e+01, 3.0000e+00, 4.4000e+01,  ..., 7.0710e+03, 2.2100e+03,\n",
      "         1.6000e+01],\n",
      "        [6.8200e+02, 2.3500e+02, 1.1700e+02,  ..., 5.0100e+02, 4.0100e+02,\n",
      "         1.2700e+03],\n",
      "        [1.4900e+02, 2.6000e+01, 1.0500e+02,  ..., 3.2500e+02, 8.0000e+00,\n",
      "         5.6000e+01],\n",
      "        ...,\n",
      "        [4.2010e+03, 5.5420e+03, 1.1700e+02,  ..., 1.4230e+03, 2.2800e+02,\n",
      "         2.6000e+01],\n",
      "        [3.7000e+01, 3.0000e+00, 3.4700e+02,  ..., 2.3400e+02, 7.5100e+02,\n",
      "         1.0000e+02],\n",
      "        [1.1000e+01, 4.3800e+02, 1.1100e+02,  ..., 6.3340e+03, 1.3040e+03,\n",
      "         4.9590e+03]], dtype=torch.float64)\n",
      "Sample input: \n",
      " tensor([[1.],\n",
      "        [0.],\n",
      "        [0.],\n",
      "        [0.],\n",
      "        [1.],\n",
      "        [1.],\n",
      "        [0.],\n",
      "        [0.],\n",
      "        [0.],\n",
      "        [1.],\n",
      "        [0.],\n",
      "        [1.],\n",
      "        [1.],\n",
      "        [0.],\n",
      "        [0.],\n",
      "        [0.],\n",
      "        [1.],\n",
      "        [1.],\n",
      "        [0.],\n",
      "        [1.],\n",
      "        [0.],\n",
      "        [0.],\n",
      "        [1.],\n",
      "        [1.],\n",
      "        [0.],\n",
      "        [0.],\n",
      "        [1.],\n",
      "        [0.],\n",
      "        [0.],\n",
      "        [0.],\n",
      "        [0.],\n",
      "        [0.],\n",
      "        [1.],\n",
      "        [0.],\n",
      "        [0.],\n",
      "        [0.],\n",
      "        [1.],\n",
      "        [0.],\n",
      "        [1.],\n",
      "        [0.],\n",
      "        [0.],\n",
      "        [0.],\n",
      "        [0.],\n",
      "        [0.],\n",
      "        [1.],\n",
      "        [1.],\n",
      "        [0.],\n",
      "        [0.],\n",
      "        [0.],\n",
      "        [0.]], dtype=torch.float64)\n"
     ]
    }
   ],
   "source": [
    "# obtain one batch of training data\n",
    "dataiter = iter(train_loader)\n",
    "sample_x, sample_y = dataiter.next()\n",
    "\n",
    "print('Sample input size: ', sample_x.size()) # batch_size, seq_length\n",
    "print('Sample input: \\n', sample_x)\n",
    "print('Sample input: \\n', sample_y)"
   ]
  },
  {
   "cell_type": "code",
   "execution_count": 12,
   "id": "bd7542dd",
   "metadata": {
    "execution": {
     "iopub.execute_input": "2021-11-26T11:52:31.519068Z",
     "iopub.status.busy": "2021-11-26T11:52:31.518319Z",
     "iopub.status.idle": "2021-11-26T11:52:31.520882Z",
     "shell.execute_reply": "2021-11-26T11:52:31.520433Z",
     "shell.execute_reply.started": "2021-11-26T11:46:26.462967Z"
    },
    "papermill": {
     "duration": 0.026691,
     "end_time": "2021-11-26T11:52:31.521008",
     "exception": false,
     "start_time": "2021-11-26T11:52:31.494317",
     "status": "completed"
    },
    "tags": []
   },
   "outputs": [],
   "source": [
    "class PositionalEncoding(nn.Module):\n",
    "\n",
    "    def __init__(self, d_model, dropout=0.1, max_len=5000):\n",
    "        super(PositionalEncoding, self).__init__()\n",
    "        self.dropout = nn.Dropout(p=dropout)\n",
    "\n",
    "        pe = torch.zeros(max_len, d_model)\n",
    "        position = torch.arange(0, max_len, dtype=torch.float).unsqueeze(1)\n",
    "        div_term = torch.exp(torch.arange(0, d_model, 2).float() * (-math.log(10000.0) / d_model))\n",
    "        pe[:, 0::2] = torch.sin(position * div_term)\n",
    "        pe[:, 1::2] = torch.cos(position * div_term)\n",
    "        pe = pe.unsqueeze(0).transpose(0, 1)\n",
    "        self.register_buffer('pe', pe)\n",
    "\n",
    "    def forward(self, x):\n",
    "        x = x + self.pe[:x.size(0), :]\n",
    "        return self.dropout(x)"
   ]
  },
  {
   "cell_type": "code",
   "execution_count": 13,
   "id": "7eafc914",
   "metadata": {
    "execution": {
     "iopub.execute_input": "2021-11-26T11:52:31.561732Z",
     "iopub.status.busy": "2021-11-26T11:52:31.560955Z",
     "iopub.status.idle": "2021-11-26T11:52:31.562950Z",
     "shell.execute_reply": "2021-11-26T11:52:31.563656Z",
     "shell.execute_reply.started": "2021-11-26T11:46:26.473811Z"
    },
    "papermill": {
     "duration": 0.026917,
     "end_time": "2021-11-26T11:52:31.563777",
     "exception": false,
     "start_time": "2021-11-26T11:52:31.536860",
     "status": "completed"
    },
    "tags": []
   },
   "outputs": [],
   "source": [
    "class SentimentNet(nn.Module):\n",
    "    def __init__(self, vocab_size, output_size, embedding_dim, hidden_dim, n_layers, drop_prob=0.2):\n",
    "        super(SentimentNet, self).__init__()\n",
    "        self.output_size = output_size\n",
    "        self.n_layers = n_layers\n",
    "        self.hidden_dim = hidden_dim\n",
    "        self.dropout = nn.Dropout(drop_prob)\n",
    "        self.embedding_dim = embedding_dim\n",
    "        self.sigmoid = nn.Sigmoid()\n",
    "        \n",
    "        \n",
    "        self.encoder = nn.Embedding(vocab_size, embedding_dim)\n",
    "        self.pos_encoder = PositionalEncoding(embedding_dim, drop_prob)\n",
    "        encoder_layer = nn.TransformerEncoderLayer(embedding_dim, 2, hidden_dim)\n",
    "        self.transformer_encoder = nn.TransformerEncoder(encoder_layer, num_layers=1)\n",
    "        \n",
    "\n",
    "        self.fc = nn.Linear(embedding_dim * 30 , 1)\n",
    "\n",
    "     \n",
    "    \"\"\"\n",
    "    def forward(self, x):\n",
    "        #print(x.shape)\n",
    "        if len(x) != 1:\n",
    "            batch_size = x.size(0)\n",
    "\n",
    "        x = x.long()\n",
    "        \n",
    "        embeds = self.embedding(x)\n",
    "        \n",
    "        print(embeds.shape)\n",
    "        \n",
    "        out = self.transformer_encoder(embeds)\n",
    "        \n",
    "        print(out.shape)\n",
    "\n",
    "        out = self.fc(out)\n",
    "                \n",
    "        print(out.shape)\n",
    "\n",
    "        return out\n",
    "        \"\"\"\n",
    "    \n",
    "    def forward(self, src):\n",
    "        src = self.encoder(src) * math.sqrt(self.embedding_dim)\n",
    "        src = self.pos_encoder(src)\n",
    "        output = self.transformer_encoder(src)\n",
    "        output = output.view(output.size(0), -1)\n",
    "        output = self.sigmoid(self.fc(output))\n",
    "        return output"
   ]
  },
  {
   "cell_type": "code",
   "execution_count": 14,
   "id": "79ec4bb9",
   "metadata": {
    "execution": {
     "iopub.execute_input": "2021-11-26T11:52:31.598232Z",
     "iopub.status.busy": "2021-11-26T11:52:31.597461Z",
     "iopub.status.idle": "2021-11-26T11:52:31.602449Z",
     "shell.execute_reply": "2021-11-26T11:52:31.602043Z",
     "shell.execute_reply.started": "2021-11-26T11:46:26.486603Z"
    },
    "papermill": {
     "duration": 0.023065,
     "end_time": "2021-11-26T11:52:31.602543",
     "exception": false,
     "start_time": "2021-11-26T11:52:31.579478",
     "status": "completed"
    },
    "tags": []
   },
   "outputs": [],
   "source": [
    "def model_params(model):\n",
    "    pp=0\n",
    "    for p in list(model.parameters()):\n",
    "        nn=1\n",
    "        for s in list(p.size()):\n",
    "            nn = nn*s\n",
    "        pp += nn\n",
    "    return pp"
   ]
  },
  {
   "cell_type": "code",
   "execution_count": 15,
   "id": "0af16b29",
   "metadata": {
    "execution": {
     "iopub.execute_input": "2021-11-26T11:52:31.639464Z",
     "iopub.status.busy": "2021-11-26T11:52:31.638973Z",
     "iopub.status.idle": "2021-11-26T11:52:38.908042Z",
     "shell.execute_reply": "2021-11-26T11:52:38.908451Z",
     "shell.execute_reply.started": "2021-11-26T11:49:34.490962Z"
    },
    "papermill": {
     "duration": 7.290056,
     "end_time": "2021-11-26T11:52:38.908598",
     "exception": false,
     "start_time": "2021-11-26T11:52:31.618542",
     "status": "completed"
    },
    "tags": []
   },
   "outputs": [
    {
     "name": "stdout",
     "output_type": "stream",
     "text": [
      "6683315\n"
     ]
    }
   ],
   "source": [
    "import math\n",
    "\n",
    "output_size = 1\n",
    "embedding_dim = 30\n",
    "hidden_dim = 4\n",
    "n_layers = 1\n",
    "\n",
    "model = SentimentNet(vocab_size, output_size, embedding_dim, hidden_dim, n_layers)\n",
    "model.to(device)\n",
    "print(model_params(model))\n",
    "lr=0.008\n",
    "criterion = nn.BCELoss()\n",
    "optimizer = torch.optim.Adam(model.parameters(), lr=lr)"
   ]
  },
  {
   "cell_type": "code",
   "execution_count": 16,
   "id": "b8fb6009",
   "metadata": {
    "execution": {
     "iopub.execute_input": "2021-11-26T11:52:38.950802Z",
     "iopub.status.busy": "2021-11-26T11:52:38.948601Z",
     "iopub.status.idle": "2021-11-26T11:53:44.590400Z",
     "shell.execute_reply": "2021-11-26T11:53:44.589784Z",
     "shell.execute_reply.started": "2021-11-26T11:47:36.269503Z"
    },
    "papermill": {
     "duration": 65.665562,
     "end_time": "2021-11-26T11:53:44.590579",
     "exception": false,
     "start_time": "2021-11-26T11:52:38.925017",
     "status": "completed"
    },
    "tags": []
   },
   "outputs": [
    {
     "name": "stdout",
     "output_type": "stream",
     "text": [
      "Epoch: 1/10... Step: 100... Loss: 0.775349... Val Loss: 0.738179\n",
      "Validation loss decreased (inf --> 0.738179).  Saving model ...\n",
      "Epoch: 1/10... Step: 200... Loss: 0.676747... Val Loss: 0.696966\n",
      "Validation loss decreased (0.738179 --> 0.696966).  Saving model ...\n",
      "Epoch: 1/10... Step: 300... Loss: 0.642667... Val Loss: 0.673549\n",
      "Validation loss decreased (0.696966 --> 0.673549).  Saving model ...\n",
      "Epoch: 1/10... Step: 400... Loss: 0.711121... Val Loss: 0.662902\n",
      "Validation loss decreased (0.673549 --> 0.662902).  Saving model ...\n",
      "Epoch: 1/10... Step: 500... Loss: 0.686333... Val Loss: 0.643004\n",
      "Validation loss decreased (0.662902 --> 0.643004).  Saving model ...\n",
      "Epoch: 1/10... Step: 600... Loss: 0.707619... Val Loss: 0.643196\n",
      "Epoch: 1/10... Step: 700... Loss: 0.543884... Val Loss: 0.584489\n",
      "Validation loss decreased (0.643004 --> 0.584489).  Saving model ...\n",
      "Epoch: 1/10... Step: 800... Loss: 0.489275... Val Loss: 0.576071\n",
      "Validation loss decreased (0.584489 --> 0.576071).  Saving model ...\n",
      "Epoch: 2/10... Step: 900... Loss: 0.473482... Val Loss: 0.551569\n",
      "Validation loss decreased (0.576071 --> 0.551569).  Saving model ...\n",
      "Epoch: 2/10... Step: 1000... Loss: 0.618939... Val Loss: 0.513929\n",
      "Validation loss decreased (0.551569 --> 0.513929).  Saving model ...\n",
      "Epoch: 2/10... Step: 1100... Loss: 0.460950... Val Loss: 0.498125\n",
      "Validation loss decreased (0.513929 --> 0.498125).  Saving model ...\n",
      "Epoch: 2/10... Step: 1200... Loss: 0.621398... Val Loss: 0.470921\n",
      "Validation loss decreased (0.498125 --> 0.470921).  Saving model ...\n",
      "Epoch: 2/10... Step: 1300... Loss: 0.523980... Val Loss: 0.455507\n",
      "Validation loss decreased (0.470921 --> 0.455507).  Saving model ...\n",
      "Epoch: 2/10... Step: 1400... Loss: 0.501708... Val Loss: 0.454870\n",
      "Validation loss decreased (0.455507 --> 0.454870).  Saving model ...\n",
      "Epoch: 2/10... Step: 1500... Loss: 0.487263... Val Loss: 0.444602\n",
      "Validation loss decreased (0.454870 --> 0.444602).  Saving model ...\n",
      "Epoch: 2/10... Step: 1600... Loss: 0.470891... Val Loss: 0.434576\n",
      "Validation loss decreased (0.444602 --> 0.434576).  Saving model ...\n",
      "Epoch: 3/10... Step: 1700... Loss: 0.332242... Val Loss: 0.440179\n",
      "Epoch: 3/10... Step: 1800... Loss: 0.354151... Val Loss: 0.435645\n",
      "Epoch: 3/10... Step: 1900... Loss: 0.439423... Val Loss: 0.415302\n",
      "Validation loss decreased (0.434576 --> 0.415302).  Saving model ...\n",
      "Epoch: 3/10... Step: 2000... Loss: 0.249438... Val Loss: 0.418935\n",
      "Epoch: 3/10... Step: 2100... Loss: 0.290853... Val Loss: 0.408912\n",
      "Validation loss decreased (0.415302 --> 0.408912).  Saving model ...\n",
      "Epoch: 3/10... Step: 2200... Loss: 0.379906... Val Loss: 0.439671\n",
      "Epoch: 3/10... Step: 2300... Loss: 0.337024... Val Loss: 0.501453\n",
      "Epoch: 3/10... Step: 2400... Loss: 0.329356... Val Loss: 0.426945\n",
      "Epoch: 4/10... Step: 2500... Loss: 0.394947... Val Loss: 0.398135\n",
      "Validation loss decreased (0.408912 --> 0.398135).  Saving model ...\n",
      "Epoch: 4/10... Step: 2600... Loss: 0.358348... Val Loss: 0.408102\n",
      "Epoch: 4/10... Step: 2700... Loss: 0.498255... Val Loss: 0.396954\n",
      "Validation loss decreased (0.398135 --> 0.396954).  Saving model ...\n",
      "Epoch: 4/10... Step: 2800... Loss: 0.334678... Val Loss: 0.397047\n",
      "Epoch: 4/10... Step: 2900... Loss: 0.432251... Val Loss: 0.408009\n",
      "Epoch: 4/10... Step: 3000... Loss: 0.393278... Val Loss: 0.391094\n",
      "Validation loss decreased (0.396954 --> 0.391094).  Saving model ...\n",
      "Epoch: 4/10... Step: 3100... Loss: 0.449195... Val Loss: 0.388320\n",
      "Validation loss decreased (0.391094 --> 0.388320).  Saving model ...\n",
      "Epoch: 4/10... Step: 3200... Loss: 0.304096... Val Loss: 0.404938\n",
      "Epoch: 5/10... Step: 3300... Loss: 0.503782... Val Loss: 0.402032\n",
      "Epoch: 5/10... Step: 3400... Loss: 0.313088... Val Loss: 0.422477\n",
      "Epoch: 5/10... Step: 3500... Loss: 0.313430... Val Loss: 0.404053\n",
      "Epoch: 5/10... Step: 3600... Loss: 0.409026... Val Loss: 0.418234\n",
      "Epoch: 5/10... Step: 3700... Loss: 0.408875... Val Loss: 0.390337\n",
      "Epoch: 5/10... Step: 3800... Loss: 0.377093... Val Loss: 0.384973\n",
      "Validation loss decreased (0.388320 --> 0.384973).  Saving model ...\n",
      "Epoch: 5/10... Step: 3900... Loss: 0.278966... Val Loss: 0.383586\n",
      "Validation loss decreased (0.384973 --> 0.383586).  Saving model ...\n",
      "Epoch: 5/10... Step: 4000... Loss: 0.437940... Val Loss: 0.393778\n",
      "Epoch: 6/10... Step: 4100... Loss: 0.299168... Val Loss: 0.402546\n",
      "Epoch: 6/10... Step: 4200... Loss: 0.176118... Val Loss: 0.411594\n",
      "Epoch: 6/10... Step: 4300... Loss: 0.396881... Val Loss: 0.410676\n",
      "Epoch: 6/10... Step: 4400... Loss: 0.483239... Val Loss: 0.411446\n",
      "Epoch: 6/10... Step: 4500... Loss: 0.348649... Val Loss: 0.397190\n",
      "Epoch: 6/10... Step: 4600... Loss: 0.322435... Val Loss: 0.430987\n",
      "Epoch: 6/10... Step: 4700... Loss: 0.311505... Val Loss: 0.412276\n",
      "Epoch: 6/10... Step: 4800... Loss: 0.315992... Val Loss: 0.386595\n",
      "Epoch: 7/10... Step: 4900... Loss: 0.297126... Val Loss: 0.409947\n",
      "Epoch: 7/10... Step: 5000... Loss: 0.387394... Val Loss: 0.426675\n",
      "Epoch: 7/10... Step: 5100... Loss: 0.347860... Val Loss: 0.395419\n",
      "Epoch: 7/10... Step: 5200... Loss: 0.320731... Val Loss: 0.407412\n",
      "Epoch: 7/10... Step: 5300... Loss: 0.339448... Val Loss: 0.401909\n",
      "Epoch: 7/10... Step: 5400... Loss: 0.352953... Val Loss: 0.426668\n",
      "Epoch: 7/10... Step: 5500... Loss: 0.200536... Val Loss: 0.427812\n",
      "Epoch: 7/10... Step: 5600... Loss: 0.415698... Val Loss: 0.412822\n",
      "Epoch: 8/10... Step: 5700... Loss: 0.246200... Val Loss: 0.416619\n",
      "Epoch: 8/10... Step: 5800... Loss: 0.226237... Val Loss: 0.411725\n",
      "Epoch: 8/10... Step: 5900... Loss: 0.286506... Val Loss: 0.413144\n",
      "Epoch: 8/10... Step: 6000... Loss: 0.370341... Val Loss: 0.420244\n",
      "Epoch: 8/10... Step: 6100... Loss: 0.227836... Val Loss: 0.418714\n",
      "Epoch: 8/10... Step: 6200... Loss: 0.266956... Val Loss: 0.414256\n",
      "Epoch: 8/10... Step: 6300... Loss: 0.279553... Val Loss: 0.414690\n",
      "Epoch: 8/10... Step: 6400... Loss: 0.477535... Val Loss: 0.407182\n",
      "Epoch: 9/10... Step: 6500... Loss: 0.236731... Val Loss: 0.424208\n",
      "Epoch: 9/10... Step: 6600... Loss: 0.272610... Val Loss: 0.424218\n",
      "Epoch: 9/10... Step: 6700... Loss: 0.365097... Val Loss: 0.425825\n",
      "Epoch: 9/10... Step: 6800... Loss: 0.368445... Val Loss: 0.424959\n",
      "Epoch: 9/10... Step: 6900... Loss: 0.228889... Val Loss: 0.407093\n",
      "Epoch: 9/10... Step: 7000... Loss: 0.301585... Val Loss: 0.432753\n",
      "Epoch: 9/10... Step: 7100... Loss: 0.385109... Val Loss: 0.418853\n",
      "Epoch: 9/10... Step: 7200... Loss: 0.191440... Val Loss: 0.412480\n",
      "Epoch: 10/10... Step: 7300... Loss: 0.195980... Val Loss: 0.437568\n",
      "Epoch: 10/10... Step: 7400... Loss: 0.308705... Val Loss: 0.439377\n",
      "Epoch: 10/10... Step: 7500... Loss: 0.217136... Val Loss: 0.441774\n",
      "Epoch: 10/10... Step: 7600... Loss: 0.240775... Val Loss: 0.450667\n",
      "Epoch: 10/10... Step: 7700... Loss: 0.365796... Val Loss: 0.425539\n",
      "Epoch: 10/10... Step: 7800... Loss: 0.336489... Val Loss: 0.420971\n",
      "Epoch: 10/10... Step: 7900... Loss: 0.289142... Val Loss: 0.426956\n",
      "Epoch: 10/10... Step: 8000... Loss: 0.372477... Val Loss: 0.435373\n"
     ]
    }
   ],
   "source": [
    "epochs = 10\n",
    "counter = 0\n",
    "print_every = 100\n",
    "clip = 5\n",
    "valid_loss_min = np.Inf\n",
    "\n",
    "model.train()\n",
    "for i in range(epochs):\n",
    "    \n",
    "    for inputs, labels in train_loader:\n",
    "        counter += 1\n",
    "        inputs, labels = inputs.to(device), labels.to(device)\n",
    "        model.zero_grad()\n",
    "        output = model(inputs.long())\n",
    "        \n",
    "        loss = criterion(output, labels.float())\n",
    "        \n",
    "        \n",
    "        loss.backward()\n",
    "        #nn.utils.clip_grad_norm_(model.parameters(), clip)\n",
    "        optimizer.step()\n",
    "        \n",
    "        if counter%print_every == 0:\n",
    "            val_losses = []\n",
    "            model.eval()\n",
    "            for inp, lab in test_loader:\n",
    "                inp, lab = inp.to(device), lab.to(device)\n",
    "                out = model(inp.long())\n",
    "                val_loss = criterion(out, lab.float())\n",
    "                val_losses.append(val_loss.item())\n",
    "                \n",
    "            model.train()\n",
    "            print(\"Epoch: {}/{}...\".format(i+1, epochs),\n",
    "                  \"Step: {}...\".format(counter),\n",
    "                  \"Loss: {:.6f}...\".format(loss.item()),\n",
    "                  \"Val Loss: {:.6f}\".format(np.mean(val_losses)))\n",
    "            if np.mean(val_losses) <= valid_loss_min:\n",
    "                torch.save(model.state_dict(), './state_dict.pt')\n",
    "                print('Validation loss decreased ({:.6f} --> {:.6f}).  Saving model ...'.format(valid_loss_min,np.mean(val_losses)))\n",
    "                valid_loss_min = np.mean(val_losses)"
   ]
  },
  {
   "cell_type": "code",
   "execution_count": 17,
   "id": "8fcb13b2",
   "metadata": {
    "execution": {
     "iopub.execute_input": "2021-11-26T11:53:44.668721Z",
     "iopub.status.busy": "2021-11-26T11:53:44.667900Z",
     "iopub.status.idle": "2021-11-26T11:53:44.693244Z",
     "shell.execute_reply": "2021-11-26T11:53:44.693603Z",
     "shell.execute_reply.started": "2021-11-26T11:47:45.907540Z"
    },
    "papermill": {
     "duration": 0.066049,
     "end_time": "2021-11-26T11:53:44.693763",
     "exception": false,
     "start_time": "2021-11-26T11:53:44.627714",
     "status": "completed"
    },
    "tags": []
   },
   "outputs": [
    {
     "data": {
      "text/plain": [
       "tensor([[0.4787]], device='cuda:0', grad_fn=<SigmoidBackward>)"
      ]
     },
     "execution_count": 17,
     "metadata": {},
     "output_type": "execute_result"
    }
   ],
   "source": [
    "sentence = \"I love you\"\n",
    "trial = torch.tensor(pad_sequences(tokenizer.texts_to_sequences([sentence]), maxlen = maxlen)).long().to(device)\n",
    "\n",
    "model(trial)"
   ]
  },
  {
   "cell_type": "code",
   "execution_count": 18,
   "id": "0c5e3ef4",
   "metadata": {
    "execution": {
     "iopub.execute_input": "2021-11-26T11:53:44.770403Z",
     "iopub.status.busy": "2021-11-26T11:53:44.769853Z",
     "iopub.status.idle": "2021-11-26T11:53:45.107917Z",
     "shell.execute_reply": "2021-11-26T11:53:45.107018Z",
     "shell.execute_reply.started": "2021-11-26T11:47:49.087255Z"
    },
    "papermill": {
     "duration": 0.377988,
     "end_time": "2021-11-26T11:53:45.108060",
     "exception": false,
     "start_time": "2021-11-26T11:53:44.730072",
     "status": "completed"
    },
    "tags": []
   },
   "outputs": [
    {
     "name": "stderr",
     "output_type": "stream",
     "text": [
      "/opt/conda/lib/python3.7/site-packages/ipykernel_launcher.py:16: TracerWarning: Converting a tensor to a Python index might cause the trace to be incorrect. We can't record the data flow of Python values, so this value will be treated as a constant in the future. This means that the trace might not generalize to other inputs!\n",
      "  app.launch_new_instance()\n"
     ]
    }
   ],
   "source": [
    "import torch.onnx\n",
    "torch.onnx.export(model,               # model being run\n",
    "                  trial,                  # model input (or a tuple for multiple inputs)\n",
    "                  \"transformer-imdb.onnx\", opset_version = 11)"
   ]
  }
 ],
 "metadata": {
  "kernelspec": {
   "display_name": "Python 3",
   "language": "python",
   "name": "python3"
  },
  "language_info": {
   "codemirror_mode": {
    "name": "ipython",
    "version": 3
   },
   "file_extension": ".py",
   "mimetype": "text/x-python",
   "name": "python",
   "nbconvert_exporter": "python",
   "pygments_lexer": "ipython3",
   "version": "3.7.10"
  },
  "papermill": {
   "default_parameters": {},
   "duration": 115.667043,
   "end_time": "2021-11-26T11:53:48.227212",
   "environment_variables": {},
   "exception": null,
   "input_path": "__notebook__.ipynb",
   "output_path": "__notebook__.ipynb",
   "parameters": {},
   "start_time": "2021-11-26T11:51:52.560169",
   "version": "2.3.3"
  }
 },
 "nbformat": 4,
 "nbformat_minor": 5
}
