{
 "cells": [
  {
   "cell_type": "markdown",
   "id": "ac798a2a",
   "metadata": {
    "papermill": {
     "duration": 0.016793,
     "end_time": "2021-09-27T06:41:25.775893",
     "exception": false,
     "start_time": "2021-09-27T06:41:25.759100",
     "status": "completed"
    },
    "tags": []
   },
   "source": [
    "# Sentiment Analysis using LSTM"
   ]
  },
  {
   "cell_type": "code",
   "execution_count": 1,
   "id": "724eceb7",
   "metadata": {
    "execution": {
     "iopub.execute_input": "2021-09-27T06:41:25.825521Z",
     "iopub.status.busy": "2021-09-27T06:41:25.824854Z",
     "iopub.status.idle": "2021-09-27T06:41:33.590467Z",
     "shell.execute_reply": "2021-09-27T06:41:33.591190Z",
     "shell.execute_reply.started": "2021-09-27T06:27:16.305273Z"
    },
    "papermill": {
     "duration": 7.799052,
     "end_time": "2021-09-27T06:41:33.591514",
     "exception": false,
     "start_time": "2021-09-27T06:41:25.792462",
     "status": "completed"
    },
    "tags": []
   },
   "outputs": [],
   "source": [
    "import numpy as np\n",
    "import pandas as pd\n",
    "\n",
    "import matplotlib.pyplot as plt\n",
    "import seaborn as sns\n",
    "\n",
    "import re\n",
    "import string\n",
    "from collections import Counter\n",
    "from nltk.corpus import stopwords\n",
    "stop_words = set(stopwords.words('english'))\n",
    "\n",
    "from sklearn.model_selection import train_test_split\n",
    "\n",
    "import torch\n",
    "from torch.utils.data import DataLoader, TensorDataset\n",
    "import torch.nn as nn\n",
    "\n",
    "import pandas as pd\n",
    "import numpy as np\n",
    "import bz2\n",
    "import matplotlib.pyplot as plt\n",
    "import sklearn\n",
    "import tensorflow as tf\n",
    "from tensorflow.keras import models, layers, optimizers\n",
    "from tensorflow.keras.preprocessing.text import Tokenizer, text_to_word_sequence\n",
    "from tensorflow.keras.preprocessing.sequence import pad_sequences\n",
    "from sklearn.preprocessing import LabelEncoder\n",
    "\n",
    "%matplotlib inline"
   ]
  },
  {
   "cell_type": "code",
   "execution_count": 2,
   "id": "5ad96323",
   "metadata": {
    "execution": {
     "iopub.execute_input": "2021-09-27T06:41:33.626199Z",
     "iopub.status.busy": "2021-09-27T06:41:33.625561Z",
     "iopub.status.idle": "2021-09-27T06:41:33.628884Z",
     "shell.execute_reply": "2021-09-27T06:41:33.629408Z",
     "shell.execute_reply.started": "2021-09-27T06:27:16.333073Z"
    },
    "papermill": {
     "duration": 0.02224,
     "end_time": "2021-09-27T06:41:33.629591",
     "exception": false,
     "start_time": "2021-09-27T06:41:33.607351",
     "status": "completed"
    },
    "tags": []
   },
   "outputs": [],
   "source": [
    "device = \"cpu\""
   ]
  },
  {
   "cell_type": "markdown",
   "id": "773be0d6",
   "metadata": {
    "papermill": {
     "duration": 0.015492,
     "end_time": "2021-09-27T06:41:33.661057",
     "exception": false,
     "start_time": "2021-09-27T06:41:33.645565",
     "status": "completed"
    },
    "tags": []
   },
   "source": [
    "## 1) Load in and visualize the data"
   ]
  },
  {
   "cell_type": "code",
   "execution_count": 3,
   "id": "ab2d0dbd",
   "metadata": {
    "execution": {
     "iopub.execute_input": "2021-09-27T06:41:33.695535Z",
     "iopub.status.busy": "2021-09-27T06:41:33.694939Z",
     "iopub.status.idle": "2021-09-27T06:41:35.237058Z",
     "shell.execute_reply": "2021-09-27T06:41:35.237512Z",
     "shell.execute_reply.started": "2021-09-27T06:27:16.350631Z"
    },
    "papermill": {
     "duration": 1.560692,
     "end_time": "2021-09-27T06:41:35.237705",
     "exception": false,
     "start_time": "2021-09-27T06:41:33.677013",
     "status": "completed"
    },
    "tags": []
   },
   "outputs": [
    {
     "data": {
      "text/html": [
       "<div>\n",
       "<style scoped>\n",
       "    .dataframe tbody tr th:only-of-type {\n",
       "        vertical-align: middle;\n",
       "    }\n",
       "\n",
       "    .dataframe tbody tr th {\n",
       "        vertical-align: top;\n",
       "    }\n",
       "\n",
       "    .dataframe thead th {\n",
       "        text-align: right;\n",
       "    }\n",
       "</style>\n",
       "<table border=\"1\" class=\"dataframe\">\n",
       "  <thead>\n",
       "    <tr style=\"text-align: right;\">\n",
       "      <th></th>\n",
       "      <th>review</th>\n",
       "      <th>sentiment</th>\n",
       "    </tr>\n",
       "  </thead>\n",
       "  <tbody>\n",
       "    <tr>\n",
       "      <th>0</th>\n",
       "      <td>One of the other reviewers has mentioned that ...</td>\n",
       "      <td>positive</td>\n",
       "    </tr>\n",
       "    <tr>\n",
       "      <th>1</th>\n",
       "      <td>A wonderful little production. &lt;br /&gt;&lt;br /&gt;The...</td>\n",
       "      <td>positive</td>\n",
       "    </tr>\n",
       "    <tr>\n",
       "      <th>2</th>\n",
       "      <td>I thought this was a wonderful way to spend ti...</td>\n",
       "      <td>positive</td>\n",
       "    </tr>\n",
       "    <tr>\n",
       "      <th>3</th>\n",
       "      <td>Basically there's a family where a little boy ...</td>\n",
       "      <td>negative</td>\n",
       "    </tr>\n",
       "    <tr>\n",
       "      <th>4</th>\n",
       "      <td>Petter Mattei's \"Love in the Time of Money\" is...</td>\n",
       "      <td>positive</td>\n",
       "    </tr>\n",
       "  </tbody>\n",
       "</table>\n",
       "</div>"
      ],
      "text/plain": [
       "                                              review sentiment\n",
       "0  One of the other reviewers has mentioned that ...  positive\n",
       "1  A wonderful little production. <br /><br />The...  positive\n",
       "2  I thought this was a wonderful way to spend ti...  positive\n",
       "3  Basically there's a family where a little boy ...  negative\n",
       "4  Petter Mattei's \"Love in the Time of Money\" is...  positive"
      ]
     },
     "execution_count": 3,
     "metadata": {},
     "output_type": "execute_result"
    }
   ],
   "source": [
    "df = pd.read_csv('../input/imdb-dataset-of-50k-movie-reviews/IMDB Dataset.csv')\n",
    "df.head()"
   ]
  },
  {
   "cell_type": "markdown",
   "id": "233f2e3c",
   "metadata": {
    "papermill": {
     "duration": 0.01624,
     "end_time": "2021-09-27T06:41:35.270601",
     "exception": false,
     "start_time": "2021-09-27T06:41:35.254361",
     "status": "completed"
    },
    "tags": []
   },
   "source": [
    "## 2) Data Processing — convert to lower case, Remove punctuation etc"
   ]
  },
  {
   "cell_type": "code",
   "execution_count": 4,
   "id": "fc1ad874",
   "metadata": {
    "execution": {
     "iopub.execute_input": "2021-09-27T06:41:35.343708Z",
     "iopub.status.busy": "2021-09-27T06:41:35.322848Z",
     "iopub.status.idle": "2021-09-27T06:41:46.345690Z",
     "shell.execute_reply": "2021-09-27T06:41:46.345069Z",
     "shell.execute_reply.started": "2021-09-27T06:27:17.026836Z"
    },
    "papermill": {
     "duration": 11.058844,
     "end_time": "2021-09-27T06:41:46.345826",
     "exception": false,
     "start_time": "2021-09-27T06:41:35.286982",
     "status": "completed"
    },
    "tags": []
   },
   "outputs": [
    {
     "data": {
      "text/html": [
       "<div>\n",
       "<style scoped>\n",
       "    .dataframe tbody tr th:only-of-type {\n",
       "        vertical-align: middle;\n",
       "    }\n",
       "\n",
       "    .dataframe tbody tr th {\n",
       "        vertical-align: top;\n",
       "    }\n",
       "\n",
       "    .dataframe thead th {\n",
       "        text-align: right;\n",
       "    }\n",
       "</style>\n",
       "<table border=\"1\" class=\"dataframe\">\n",
       "  <thead>\n",
       "    <tr style=\"text-align: right;\">\n",
       "      <th></th>\n",
       "      <th>review</th>\n",
       "      <th>sentiment</th>\n",
       "      <th>cleaned_reviews</th>\n",
       "    </tr>\n",
       "  </thead>\n",
       "  <tbody>\n",
       "    <tr>\n",
       "      <th>0</th>\n",
       "      <td>One of the other reviewers has mentioned that ...</td>\n",
       "      <td>positive</td>\n",
       "      <td>one reviewers mentioned watching 1 oz episode ...</td>\n",
       "    </tr>\n",
       "    <tr>\n",
       "      <th>1</th>\n",
       "      <td>A wonderful little production. &lt;br /&gt;&lt;br /&gt;The...</td>\n",
       "      <td>positive</td>\n",
       "      <td>wonderful little production filming technique ...</td>\n",
       "    </tr>\n",
       "    <tr>\n",
       "      <th>2</th>\n",
       "      <td>I thought this was a wonderful way to spend ti...</td>\n",
       "      <td>positive</td>\n",
       "      <td>thought wonderful way spend time hot summer we...</td>\n",
       "    </tr>\n",
       "    <tr>\n",
       "      <th>3</th>\n",
       "      <td>Basically there's a family where a little boy ...</td>\n",
       "      <td>negative</td>\n",
       "      <td>basically theres family little boy jake thinks...</td>\n",
       "    </tr>\n",
       "    <tr>\n",
       "      <th>4</th>\n",
       "      <td>Petter Mattei's \"Love in the Time of Money\" is...</td>\n",
       "      <td>positive</td>\n",
       "      <td>petter matteis love time money visually stunni...</td>\n",
       "    </tr>\n",
       "  </tbody>\n",
       "</table>\n",
       "</div>"
      ],
      "text/plain": [
       "                                              review sentiment  \\\n",
       "0  One of the other reviewers has mentioned that ...  positive   \n",
       "1  A wonderful little production. <br /><br />The...  positive   \n",
       "2  I thought this was a wonderful way to spend ti...  positive   \n",
       "3  Basically there's a family where a little boy ...  negative   \n",
       "4  Petter Mattei's \"Love in the Time of Money\" is...  positive   \n",
       "\n",
       "                                     cleaned_reviews  \n",
       "0  one reviewers mentioned watching 1 oz episode ...  \n",
       "1  wonderful little production filming technique ...  \n",
       "2  thought wonderful way spend time hot summer we...  \n",
       "3  basically theres family little boy jake thinks...  \n",
       "4  petter matteis love time money visually stunni...  "
      ]
     },
     "execution_count": 4,
     "metadata": {},
     "output_type": "execute_result"
    }
   ],
   "source": [
    "def data_preprocessing(text):\n",
    "    text = text.lower()\n",
    "    text = re.sub('<.*?>', '', text) # Remove HTML from text\n",
    "    text = ''.join([c for c in text if c not in string.punctuation])# Remove punctuation\n",
    "    text = [word for word in text.split() if word not in stop_words]\n",
    "    text = ' '.join(text)\n",
    "    return text\n",
    "\n",
    "df['cleaned_reviews'] = df['review'].apply(data_preprocessing)\n",
    "df.head()"
   ]
  },
  {
   "cell_type": "markdown",
   "id": "8df6f790",
   "metadata": {
    "papermill": {
     "duration": 0.016329,
     "end_time": "2021-09-27T06:41:46.378905",
     "exception": false,
     "start_time": "2021-09-27T06:41:46.362576",
     "status": "completed"
    },
    "tags": []
   },
   "source": [
    "## 5) Tokenize — Create Vocab to Int mapping dictionary\n",
    "In most of the NLP tasks, you will create an index mapping dictionary in such a way that your frequently occurring words are assigned lower indexes. One of the most common way of doing this is to use Counter method from Collections library."
   ]
  },
  {
   "cell_type": "code",
   "execution_count": 5,
   "id": "25337a40",
   "metadata": {
    "execution": {
     "iopub.execute_input": "2021-09-27T06:41:46.456937Z",
     "iopub.status.busy": "2021-09-27T06:41:46.451716Z",
     "iopub.status.idle": "2021-09-27T06:41:53.903568Z",
     "shell.execute_reply": "2021-09-27T06:41:53.904304Z",
     "shell.execute_reply.started": "2021-09-27T06:27:27.947573Z"
    },
    "papermill": {
     "duration": 7.509086,
     "end_time": "2021-09-27T06:41:53.904526",
     "exception": false,
     "start_time": "2021-09-27T06:41:46.395440",
     "status": "completed"
    },
    "tags": []
   },
   "outputs": [
    {
     "name": "stdout",
     "output_type": "stream",
     "text": [
      "Vocabulary Size : 222610\n"
     ]
    }
   ],
   "source": [
    "max_features = 8192\n",
    "maxlen = 30\n",
    "\n",
    "tokenizer = Tokenizer(num_words=max_features)\n",
    "tokenizer.fit_on_texts(df['cleaned_reviews'])\n",
    "\n",
    "word_index = tokenizer.word_index\n",
    "vocab_size = len(tokenizer.word_index) + 1\n",
    "print(\"Vocabulary Size :\", vocab_size)"
   ]
  },
  {
   "cell_type": "code",
   "execution_count": 6,
   "id": "82e16fc2",
   "metadata": {
    "execution": {
     "iopub.execute_input": "2021-09-27T06:41:53.962939Z",
     "iopub.status.busy": "2021-09-27T06:41:53.957881Z",
     "iopub.status.idle": "2021-09-27T06:41:59.615448Z",
     "shell.execute_reply": "2021-09-27T06:41:59.614921Z",
     "shell.execute_reply.started": "2021-09-27T06:27:35.341648Z"
    },
    "papermill": {
     "duration": 5.693367,
     "end_time": "2021-09-27T06:41:59.615593",
     "exception": false,
     "start_time": "2021-09-27T06:41:53.922226",
     "status": "completed"
    },
    "tags": []
   },
   "outputs": [],
   "source": [
    "training_token = tokenizer.texts_to_sequences(df['cleaned_reviews'])\n",
    "x_data = pad_sequences(training_token, maxlen = maxlen, padding = 'post')"
   ]
  },
  {
   "cell_type": "code",
   "execution_count": 7,
   "id": "f1e2322f",
   "metadata": {
    "execution": {
     "iopub.execute_input": "2021-09-27T06:41:59.656187Z",
     "iopub.status.busy": "2021-09-27T06:41:59.655488Z",
     "iopub.status.idle": "2021-09-27T06:41:59.691555Z",
     "shell.execute_reply": "2021-09-27T06:41:59.691029Z",
     "shell.execute_reply.started": "2021-09-27T06:27:41.190485Z"
    },
    "papermill": {
     "duration": 0.058372,
     "end_time": "2021-09-27T06:41:59.691719",
     "exception": false,
     "start_time": "2021-09-27T06:41:59.633347",
     "status": "completed"
    },
    "tags": []
   },
   "outputs": [],
   "source": [
    "y_data = df['sentiment'].apply(lambda x: 1 if x == 'positive' else 0)"
   ]
  },
  {
   "cell_type": "code",
   "execution_count": 8,
   "id": "45b787ce",
   "metadata": {
    "execution": {
     "iopub.execute_input": "2021-09-27T06:41:59.732887Z",
     "iopub.status.busy": "2021-09-27T06:41:59.731827Z",
     "iopub.status.idle": "2021-09-27T06:41:59.748485Z",
     "shell.execute_reply": "2021-09-27T06:41:59.747820Z",
     "shell.execute_reply.started": "2021-09-27T06:27:41.232067Z"
    },
    "papermill": {
     "duration": 0.039492,
     "end_time": "2021-09-27T06:41:59.748624",
     "exception": false,
     "start_time": "2021-09-27T06:41:59.709132",
     "status": "completed"
    },
    "tags": []
   },
   "outputs": [],
   "source": [
    "X_train, X_remain, y_train, y_remain = train_test_split(x_data, y_data, test_size=0.2, random_state=1)\n",
    "X_valid, X_test, y_valid, y_test = train_test_split(X_remain, y_remain, test_size=0.5, random_state=1)"
   ]
  },
  {
   "cell_type": "code",
   "execution_count": 9,
   "id": "672851ef",
   "metadata": {
    "execution": {
     "iopub.execute_input": "2021-09-27T06:41:59.790917Z",
     "iopub.status.busy": "2021-09-27T06:41:59.790192Z",
     "iopub.status.idle": "2021-09-27T06:41:59.809574Z",
     "shell.execute_reply": "2021-09-27T06:41:59.809037Z",
     "shell.execute_reply.started": "2021-09-27T06:27:41.252887Z"
    },
    "papermill": {
     "duration": 0.04395,
     "end_time": "2021-09-27T06:41:59.809751",
     "exception": false,
     "start_time": "2021-09-27T06:41:59.765801",
     "status": "completed"
    },
    "tags": []
   },
   "outputs": [],
   "source": [
    "# create tensor dataset\n",
    "train_data = TensorDataset(torch.from_numpy(X_train.astype('float64')), torch.from_numpy(np.array(y_train).astype('float64')))\n",
    "test_data = TensorDataset(torch.from_numpy(X_test), torch.from_numpy(np.array(y_test).astype('float64')))\n",
    "valid_data = TensorDataset(torch.from_numpy(X_valid), torch.from_numpy(np.array(y_valid).astype('float64')))\n",
    "\n",
    "# dataloaders\n",
    "batch_size = 50\n",
    "\n",
    "train_loader = DataLoader(train_data, shuffle=True, batch_size=batch_size)\n",
    "test_loader = DataLoader(test_data, shuffle=True, batch_size=batch_size)\n",
    "valid_loader = DataLoader(valid_data, shuffle=True, batch_size=batch_size)"
   ]
  },
  {
   "cell_type": "code",
   "execution_count": 10,
   "id": "40b00906",
   "metadata": {
    "execution": {
     "iopub.execute_input": "2021-09-27T06:41:59.848475Z",
     "iopub.status.busy": "2021-09-27T06:41:59.847503Z",
     "iopub.status.idle": "2021-09-27T06:41:59.938922Z",
     "shell.execute_reply": "2021-09-27T06:41:59.938266Z",
     "shell.execute_reply.started": "2021-09-27T06:27:41.266351Z"
    },
    "papermill": {
     "duration": 0.112013,
     "end_time": "2021-09-27T06:41:59.939072",
     "exception": false,
     "start_time": "2021-09-27T06:41:59.827059",
     "status": "completed"
    },
    "tags": []
   },
   "outputs": [
    {
     "name": "stdout",
     "output_type": "stream",
     "text": [
      "Sample input size:  torch.Size([50, 30])\n",
      "Sample input: \n",
      " tensor([[1.3500e+02, 1.4300e+02, 2.0000e+00,  ..., 4.0000e+00, 3.9190e+03,\n",
      "         1.3380e+03],\n",
      "        [5.9420e+03, 2.5650e+03, 1.1030e+03,  ..., 1.8850e+03, 1.1870e+03,\n",
      "         4.2110e+03],\n",
      "        [9.6000e+01, 7.0000e+00, 1.4180e+03,  ..., 3.2500e+02, 8.0000e+00,\n",
      "         3.0000e+00],\n",
      "        ...,\n",
      "        [1.0000e+01, 1.0590e+03, 1.8000e+01,  ..., 3.1000e+01, 1.0000e+00,\n",
      "         1.6000e+01],\n",
      "        [1.5260e+03, 9.2000e+01, 8.1890e+03,  ..., 8.7800e+02, 4.0000e+00,\n",
      "         6.5700e+02],\n",
      "        [3.9000e+01, 2.4220e+03, 7.7000e+01,  ..., 3.3000e+02, 2.5200e+02,\n",
      "         3.1030e+03]], dtype=torch.float64)\n",
      "Sample input: \n",
      " tensor([0., 0., 0., 1., 0., 1., 1., 1., 0., 1., 0., 0., 0., 0., 0., 0., 0., 1.,\n",
      "        0., 0., 1., 1., 1., 1., 0., 1., 1., 1., 0., 1., 0., 0., 1., 0., 1., 1.,\n",
      "        0., 1., 0., 1., 0., 0., 0., 0., 0., 1., 1., 0., 0., 0.],\n",
      "       dtype=torch.float64)\n"
     ]
    }
   ],
   "source": [
    "# obtain one batch of training data\n",
    "dataiter = iter(train_loader)\n",
    "sample_x, sample_y = dataiter.next()\n",
    "\n",
    "print('Sample input size: ', sample_x.size()) # batch_size, seq_length\n",
    "print('Sample input: \\n', sample_x)\n",
    "print('Sample input: \\n', sample_y)"
   ]
  },
  {
   "cell_type": "code",
   "execution_count": 11,
   "id": "c260dde3",
   "metadata": {
    "execution": {
     "iopub.execute_input": "2021-09-27T06:41:59.987382Z",
     "iopub.status.busy": "2021-09-27T06:41:59.986538Z",
     "iopub.status.idle": "2021-09-27T06:41:59.989847Z",
     "shell.execute_reply": "2021-09-27T06:41:59.989321Z",
     "shell.execute_reply.started": "2021-09-27T06:27:41.28962Z"
    },
    "papermill": {
     "duration": 0.033443,
     "end_time": "2021-09-27T06:41:59.989989",
     "exception": false,
     "start_time": "2021-09-27T06:41:59.956546",
     "status": "completed"
    },
    "tags": []
   },
   "outputs": [],
   "source": [
    "class SentimentNet(nn.Module):\n",
    "    def __init__(self, vocab_size, output_size, embedding_dim, hidden_dim, n_layers, drop_prob=0.5):\n",
    "        super(SentimentNet, self).__init__()\n",
    "        self.output_size = output_size\n",
    "        self.n_layers = n_layers\n",
    "        self.hidden_dim = hidden_dim\n",
    "        \n",
    "        \n",
    "        self.embedding = nn.Embedding(vocab_size, embedding_dim)\n",
    "        #self.conv = nn.Conv1d(embedding_dim, 8, kernel_size=5)\n",
    "        self.lstm = nn.LSTM(embedding_dim, hidden_dim, n_layers, dropout=drop_prob, batch_first=True)\n",
    "        #self.gru = nn.GRU(embedding_dim, hidden_dim, n_layers, dropout=drop_prob, batch_first=True)\n",
    "        self.dropout = nn.Dropout(drop_prob)\n",
    "        self.fc = nn.Linear(hidden_dim, output_size)\n",
    "        self.sigmoid = nn.Sigmoid()\n",
    "        \n",
    "    def forward(self, x, hidden):\n",
    "        if len(x) != 1:\n",
    "            batch_size = x.size(0)\n",
    "        else:\n",
    "            batch_size = 1\n",
    "        \n",
    "        x = x.long()\n",
    "        embeds = self.embedding(x)\n",
    "\n",
    "        #conv = self.conv(x)\n",
    "        \n",
    "        lstm_out, hidden = self.lstm(embeds, hidden)\n",
    "        lstm_out = lstm_out.contiguous().view(-1, self.hidden_dim)\n",
    "        \n",
    "        out = self.dropout(lstm_out)\n",
    "        out = self.fc(out)\n",
    "        out = self.sigmoid(out)\n",
    "        \n",
    "        out = out.view(batch_size, -1)\n",
    "        out = out[:,-1]\n",
    "        return out, hidden\n",
    "    \n",
    "    def init_hidden(self, batch_size):\n",
    "        weight = next(self.parameters()).data\n",
    "        #hidden = (weight.new(self.n_layers, batch_size, self.hidden_dim).zero_().to(device),weight.new(self.n_layers, batch_size, self.hidden_dim).zero_().to(device))\n",
    "        hidden = (weight.new(self.n_layers, batch_size, self.hidden_dim).zero_(),\n",
    "                     weight.new(self.n_layers, batch_size, self.hidden_dim).zero_())\n",
    "        return hidden"
   ]
  },
  {
   "cell_type": "code",
   "execution_count": 12,
   "id": "897b4526",
   "metadata": {
    "execution": {
     "iopub.execute_input": "2021-09-27T06:42:00.030694Z",
     "iopub.status.busy": "2021-09-27T06:42:00.030008Z",
     "iopub.status.idle": "2021-09-27T06:42:00.032908Z",
     "shell.execute_reply": "2021-09-27T06:42:00.032359Z",
     "shell.execute_reply.started": "2021-09-27T06:27:41.304138Z"
    },
    "papermill": {
     "duration": 0.025549,
     "end_time": "2021-09-27T06:42:00.033050",
     "exception": false,
     "start_time": "2021-09-27T06:42:00.007501",
     "status": "completed"
    },
    "tags": []
   },
   "outputs": [],
   "source": [
    "def model_params(model):\n",
    "    pp=0\n",
    "    for p in list(model.parameters()):\n",
    "        nn=1\n",
    "        for s in list(p.size()):\n",
    "            nn = nn*s\n",
    "        pp += nn\n",
    "    return pp"
   ]
  },
  {
   "cell_type": "code",
   "execution_count": 13,
   "id": "3e0d4f01",
   "metadata": {
    "execution": {
     "iopub.execute_input": "2021-09-27T06:42:00.073822Z",
     "iopub.status.busy": "2021-09-27T06:42:00.073188Z",
     "iopub.status.idle": "2021-09-27T06:42:00.273403Z",
     "shell.execute_reply": "2021-09-27T06:42:00.273913Z",
     "shell.execute_reply.started": "2021-09-27T06:27:41.32013Z"
    },
    "papermill": {
     "duration": 0.223642,
     "end_time": "2021-09-27T06:42:00.274083",
     "exception": false,
     "start_time": "2021-09-27T06:42:00.050441",
     "status": "completed"
    },
    "tags": []
   },
   "outputs": [
    {
     "name": "stdout",
     "output_type": "stream",
     "text": [
      "14248165\n"
     ]
    },
    {
     "name": "stderr",
     "output_type": "stream",
     "text": [
      "/opt/conda/lib/python3.7/site-packages/torch/nn/modules/rnn.py:61: UserWarning: dropout option adds dropout after all but last recurrent layer, so non-zero dropout expects num_layers greater than 1, but got dropout=0.5 and num_layers=1\n",
      "  \"num_layers={}\".format(dropout, num_layers))\n"
     ]
    }
   ],
   "source": [
    "output_size = 1\n",
    "embedding_dim = 64\n",
    "hidden_dim = 4\n",
    "n_layers = 1\n",
    "\n",
    "model = SentimentNet(vocab_size, output_size, embedding_dim, hidden_dim, n_layers)\n",
    "print(model_params(model))\n",
    "model.to(device)\n",
    "lr=0.008\n",
    "criterion = nn.BCELoss()\n",
    "optimizer = torch.optim.Adam(model.parameters(), lr=lr)"
   ]
  },
  {
   "cell_type": "code",
   "execution_count": 14,
   "id": "ac5e5761",
   "metadata": {
    "execution": {
     "iopub.execute_input": "2021-09-27T06:42:00.322641Z",
     "iopub.status.busy": "2021-09-27T06:42:00.321737Z",
     "iopub.status.idle": "2021-09-27T06:51:57.936114Z",
     "shell.execute_reply": "2021-09-27T06:51:57.936965Z",
     "shell.execute_reply.started": "2021-09-27T06:27:41.364585Z"
    },
    "papermill": {
     "duration": 597.645126,
     "end_time": "2021-09-27T06:51:57.937236",
     "exception": false,
     "start_time": "2021-09-27T06:42:00.292110",
     "status": "completed"
    },
    "tags": []
   },
   "outputs": [
    {
     "name": "stdout",
     "output_type": "stream",
     "text": [
      "Epoch: 1/5... Step: 100... Loss: 0.687549... Val Loss: 0.688280\n",
      "Validation loss decreased (inf --> 0.688280).  Saving model ...\n",
      "Epoch: 1/5... Step: 200... Loss: 0.701484... Val Loss: 0.679936\n",
      "Validation loss decreased (0.688280 --> 0.679936).  Saving model ...\n",
      "Epoch: 1/5... Step: 300... Loss: 0.682505... Val Loss: 0.656472\n",
      "Validation loss decreased (0.679936 --> 0.656472).  Saving model ...\n",
      "Epoch: 1/5... Step: 400... Loss: 0.616033... Val Loss: 0.630688\n",
      "Validation loss decreased (0.656472 --> 0.630688).  Saving model ...\n",
      "Epoch: 1/5... Step: 500... Loss: 0.609777... Val Loss: 0.591108\n",
      "Validation loss decreased (0.630688 --> 0.591108).  Saving model ...\n",
      "Epoch: 1/5... Step: 600... Loss: 0.565615... Val Loss: 0.547439\n",
      "Validation loss decreased (0.591108 --> 0.547439).  Saving model ...\n",
      "Epoch: 1/5... Step: 700... Loss: 0.562485... Val Loss: 0.543099\n",
      "Validation loss decreased (0.547439 --> 0.543099).  Saving model ...\n",
      "Epoch: 1/5... Step: 800... Loss: 0.623171... Val Loss: 0.523500\n",
      "Validation loss decreased (0.543099 --> 0.523500).  Saving model ...\n",
      "Epoch: 2/5... Step: 900... Loss: 0.674897... Val Loss: 0.504977\n",
      "Validation loss decreased (0.523500 --> 0.504977).  Saving model ...\n",
      "Epoch: 2/5... Step: 1000... Loss: 0.535216... Val Loss: 0.501387\n",
      "Validation loss decreased (0.504977 --> 0.501387).  Saving model ...\n",
      "Epoch: 2/5... Step: 1100... Loss: 0.504660... Val Loss: 0.497164\n",
      "Validation loss decreased (0.501387 --> 0.497164).  Saving model ...\n",
      "Epoch: 2/5... Step: 1200... Loss: 0.478106... Val Loss: 0.491932\n",
      "Validation loss decreased (0.497164 --> 0.491932).  Saving model ...\n",
      "Epoch: 2/5... Step: 1300... Loss: 0.620358... Val Loss: 0.479541\n",
      "Validation loss decreased (0.491932 --> 0.479541).  Saving model ...\n",
      "Epoch: 2/5... Step: 1400... Loss: 0.440964... Val Loss: 0.486326\n",
      "Epoch: 2/5... Step: 1500... Loss: 0.509918... Val Loss: 0.477726\n",
      "Validation loss decreased (0.479541 --> 0.477726).  Saving model ...\n",
      "Epoch: 2/5... Step: 1600... Loss: 0.459722... Val Loss: 0.485984\n",
      "Epoch: 3/5... Step: 1700... Loss: 0.631571... Val Loss: 0.479284\n",
      "Epoch: 3/5... Step: 1800... Loss: 0.499969... Val Loss: 0.473796\n",
      "Validation loss decreased (0.477726 --> 0.473796).  Saving model ...\n",
      "Epoch: 3/5... Step: 1900... Loss: 0.530137... Val Loss: 0.470611\n",
      "Validation loss decreased (0.473796 --> 0.470611).  Saving model ...\n",
      "Epoch: 3/5... Step: 2000... Loss: 0.489958... Val Loss: 0.473141\n",
      "Epoch: 3/5... Step: 2100... Loss: 0.550985... Val Loss: 0.474112\n",
      "Epoch: 3/5... Step: 2200... Loss: 0.597692... Val Loss: 0.468024\n",
      "Validation loss decreased (0.470611 --> 0.468024).  Saving model ...\n",
      "Epoch: 3/5... Step: 2300... Loss: 0.542495... Val Loss: 0.466166\n",
      "Validation loss decreased (0.468024 --> 0.466166).  Saving model ...\n",
      "Epoch: 3/5... Step: 2400... Loss: 0.518940... Val Loss: 0.457040\n",
      "Validation loss decreased (0.466166 --> 0.457040).  Saving model ...\n",
      "Epoch: 4/5... Step: 2500... Loss: 0.525354... Val Loss: 0.451745\n",
      "Validation loss decreased (0.457040 --> 0.451745).  Saving model ...\n",
      "Epoch: 4/5... Step: 2600... Loss: 0.408302... Val Loss: 0.456085\n",
      "Epoch: 4/5... Step: 2700... Loss: 0.540239... Val Loss: 0.461307\n",
      "Epoch: 4/5... Step: 2800... Loss: 0.484832... Val Loss: 0.463523\n",
      "Epoch: 4/5... Step: 2900... Loss: 0.485760... Val Loss: 0.458785\n",
      "Epoch: 4/5... Step: 3000... Loss: 0.295219... Val Loss: 0.460927\n",
      "Epoch: 4/5... Step: 3100... Loss: 0.469915... Val Loss: 0.458881\n",
      "Epoch: 4/5... Step: 3200... Loss: 0.406016... Val Loss: 0.467348\n",
      "Epoch: 5/5... Step: 3300... Loss: 0.396065... Val Loss: 0.466709\n",
      "Epoch: 5/5... Step: 3400... Loss: 0.438325... Val Loss: 0.461619\n",
      "Epoch: 5/5... Step: 3500... Loss: 0.298781... Val Loss: 0.456132\n",
      "Epoch: 5/5... Step: 3600... Loss: 0.513040... Val Loss: 0.452961\n",
      "Epoch: 5/5... Step: 3700... Loss: 0.575463... Val Loss: 0.454739\n",
      "Epoch: 5/5... Step: 3800... Loss: 0.353547... Val Loss: 0.454696\n",
      "Epoch: 5/5... Step: 3900... Loss: 0.477617... Val Loss: 0.453757\n",
      "Epoch: 5/5... Step: 4000... Loss: 0.464358... Val Loss: 0.455009\n"
     ]
    }
   ],
   "source": [
    "epochs = 5\n",
    "counter = 0\n",
    "print_every = 100\n",
    "clip = 5\n",
    "valid_loss_min = np.Inf\n",
    "\n",
    "model.train()\n",
    "for i in range(epochs):\n",
    "    h = model.init_hidden(batch_size)\n",
    "    \n",
    "    for inputs, labels in train_loader:\n",
    "        counter += 1\n",
    "        h = tuple([e.data for e in h])\n",
    "        inputs, labels = inputs.to(device), labels.to(device)\n",
    "        model.zero_grad()\n",
    "        output, h = model(inputs, h)\n",
    "        loss = criterion(output, labels.float())\n",
    "        loss.backward()\n",
    "        #nn.utils.clip_grad_norm_(model.parameters(), clip)\n",
    "        optimizer.step()\n",
    "        if counter%print_every == 0:\n",
    "            val_h = model.init_hidden(batch_size)\n",
    "            val_losses = []\n",
    "            model.eval()\n",
    "            for inp, lab in test_loader:\n",
    "                val_h = tuple([each.data for each in val_h])\n",
    "                inp, lab = inp.to(device), lab.to(device)\n",
    "                out, val_h = model(inp, val_h)\n",
    "                val_loss = criterion(out, lab.float())\n",
    "                val_losses.append(val_loss.item())\n",
    "                \n",
    "            model.train()\n",
    "            print(\"Epoch: {}/{}...\".format(i+1, epochs),\n",
    "                  \"Step: {}...\".format(counter),\n",
    "                  \"Loss: {:.6f}...\".format(loss.item()),\n",
    "                  \"Val Loss: {:.6f}\".format(np.mean(val_losses)))\n",
    "            if np.mean(val_losses) <= valid_loss_min:\n",
    "                torch.save(model.state_dict(), './state_dict.pt')\n",
    "                print('Validation loss decreased ({:.6f} --> {:.6f}).  Saving model ...'.format(valid_loss_min,np.mean(val_losses)))\n",
    "                valid_loss_min = np.mean(val_losses)"
   ]
  },
  {
   "cell_type": "code",
   "execution_count": 15,
   "id": "6df7fc70",
   "metadata": {
    "execution": {
     "iopub.execute_input": "2021-09-27T06:51:58.005115Z",
     "iopub.status.busy": "2021-09-27T06:51:58.004391Z",
     "iopub.status.idle": "2021-09-27T06:51:58.016341Z",
     "shell.execute_reply": "2021-09-27T06:51:58.015853Z",
     "shell.execute_reply.started": "2021-09-27T06:27:41.42034Z"
    },
    "papermill": {
     "duration": 0.04801,
     "end_time": "2021-09-27T06:51:58.016476",
     "exception": false,
     "start_time": "2021-09-27T06:51:57.968466",
     "status": "completed"
    },
    "tags": []
   },
   "outputs": [
    {
     "data": {
      "text/plain": [
       "tensor([0.7574], grad_fn=<SelectBackward>)"
      ]
     },
     "execution_count": 15,
     "metadata": {},
     "output_type": "execute_result"
    }
   ],
   "source": [
    "h = model.init_hidden(1)\n",
    "sentence = \"I love this movie because it is great\"\n",
    "trial = torch.tensor(pad_sequences(tokenizer.texts_to_sequences([sentence]), maxlen = maxlen)).to(device)\n",
    "\n",
    "\n",
    "model(trial, h)[0]"
   ]
  },
  {
   "cell_type": "code",
   "execution_count": 16,
   "id": "a848ca34",
   "metadata": {
    "execution": {
     "iopub.execute_input": "2021-09-27T06:51:58.084125Z",
     "iopub.status.busy": "2021-09-27T06:51:58.083452Z",
     "iopub.status.idle": "2021-09-27T06:51:58.547637Z",
     "shell.execute_reply": "2021-09-27T06:51:58.548174Z"
    },
    "papermill": {
     "duration": 0.500377,
     "end_time": "2021-09-27T06:51:58.548341",
     "exception": false,
     "start_time": "2021-09-27T06:51:58.047964",
     "status": "completed"
    },
    "tags": []
   },
   "outputs": [
    {
     "name": "stderr",
     "output_type": "stream",
     "text": [
      "/opt/conda/lib/python3.7/site-packages/ipykernel_launcher.py:18: TracerWarning: Converting a tensor to a Python index might cause the trace to be incorrect. We can't record the data flow of Python values, so this value will be treated as a constant in the future. This means that the trace might not generalize to other inputs!\n",
      "/opt/conda/lib/python3.7/site-packages/torch/onnx/symbolic_opset9.py:1805: UserWarning: Exporting a model to ONNX with a batch_size other than 1, with a variable length with LSTM can cause an error when running the ONNX model with a different batch size. Make sure to save the model with a batch size of 1, or define the initial states (h0/c0) as inputs of the model. \n",
      "  \"or define the initial states (h0/c0) as inputs of the model. \")\n"
     ]
    }
   ],
   "source": [
    "import torch.onnx\n",
    "torch.onnx.export(model,               # model being run\n",
    "                  (trial, (torch.randn(1,1,4).to(device), torch.randn(1,1,4).to(device))),                   # model input (or a tuple for multiple inputs)\n",
    "                  \"lstm.onnx\")"
   ]
  }
 ],
 "metadata": {
  "kernelspec": {
   "display_name": "Python 3",
   "language": "python",
   "name": "python3"
  },
  "language_info": {
   "codemirror_mode": {
    "name": "ipython",
    "version": 3
   },
   "file_extension": ".py",
   "mimetype": "text/x-python",
   "name": "python",
   "nbconvert_exporter": "python",
   "pygments_lexer": "ipython3",
   "version": "3.7.10"
  },
  "papermill": {
   "default_parameters": {},
   "duration": 642.99566,
   "end_time": "2021-09-27T06:52:00.848559",
   "environment_variables": {},
   "exception": null,
   "input_path": "__notebook__.ipynb",
   "output_path": "__notebook__.ipynb",
   "parameters": {},
   "start_time": "2021-09-27T06:41:17.852899",
   "version": "2.3.3"
  }
 },
 "nbformat": 4,
 "nbformat_minor": 5
}
