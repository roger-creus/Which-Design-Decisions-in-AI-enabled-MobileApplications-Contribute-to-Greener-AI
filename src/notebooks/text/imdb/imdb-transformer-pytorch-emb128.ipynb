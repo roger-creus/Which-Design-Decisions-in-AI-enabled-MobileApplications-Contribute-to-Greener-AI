{
 "cells": [
  {
   "cell_type": "markdown",
   "id": "e1915341",
   "metadata": {
    "papermill": {
     "duration": 0.039572,
     "end_time": "2021-11-26T11:58:40.447593",
     "exception": false,
     "start_time": "2021-11-26T11:58:40.408021",
     "status": "completed"
    },
    "tags": []
   },
   "source": [
    "# Sentiment Analysis using LSTM"
   ]
  },
  {
   "cell_type": "code",
   "execution_count": 1,
   "id": "a1ea2dd9",
   "metadata": {
    "execution": {
     "iopub.execute_input": "2021-11-26T11:58:40.518740Z",
     "iopub.status.busy": "2021-11-26T11:58:40.516743Z",
     "iopub.status.idle": "2021-11-26T11:58:51.377099Z",
     "shell.execute_reply": "2021-11-26T11:58:51.376419Z",
     "shell.execute_reply.started": "2021-11-26T11:46:05.391441Z"
    },
    "papermill": {
     "duration": 10.889164,
     "end_time": "2021-11-26T11:58:51.377328",
     "exception": false,
     "start_time": "2021-11-26T11:58:40.488164",
     "status": "completed"
    },
    "tags": []
   },
   "outputs": [
    {
     "name": "stderr",
     "output_type": "stream",
     "text": [
      "2021-11-26 11:58:47.088935: I tensorflow/stream_executor/platform/default/dso_loader.cc:49] Successfully opened dynamic library libcudart.so.11.0\n"
     ]
    }
   ],
   "source": [
    "import numpy as np\n",
    "import pandas as pd\n",
    "from torch import nn\n",
    "\n",
    "import matplotlib.pyplot as plt\n",
    "import seaborn as sns\n",
    "\n",
    "import torch.nn.functional as F\n",
    "\n",
    "import re\n",
    "import string\n",
    "from collections import Counter\n",
    "from nltk.corpus import stopwords\n",
    "stop_words = set(stopwords.words('english'))\n",
    "\n",
    "from sklearn.model_selection import train_test_split\n",
    "\n",
    "import torch\n",
    "from torch.utils.data import DataLoader, TensorDataset\n",
    "import torch.nn as nn\n",
    "\n",
    "import pandas as pd\n",
    "import numpy as np\n",
    "import bz2\n",
    "import matplotlib.pyplot as plt\n",
    "import sklearn\n",
    "import tensorflow as tf\n",
    "from tensorflow.keras import models, layers, optimizers\n",
    "from tensorflow.keras.preprocessing.text import Tokenizer, text_to_word_sequence\n",
    "from tensorflow.keras.preprocessing.sequence import pad_sequences\n",
    "from sklearn.preprocessing import LabelEncoder\n",
    "\n",
    "%matplotlib inline"
   ]
  },
  {
   "cell_type": "code",
   "execution_count": 2,
   "id": "382ea27f",
   "metadata": {
    "execution": {
     "iopub.execute_input": "2021-11-26T11:58:51.422532Z",
     "iopub.status.busy": "2021-11-26T11:58:51.421453Z",
     "iopub.status.idle": "2021-11-26T11:58:51.423955Z",
     "shell.execute_reply": "2021-11-26T11:58:51.424670Z",
     "shell.execute_reply.started": "2021-11-26T11:46:05.409146Z"
    },
    "papermill": {
     "duration": 0.027402,
     "end_time": "2021-11-26T11:58:51.424880",
     "exception": false,
     "start_time": "2021-11-26T11:58:51.397478",
     "status": "completed"
    },
    "tags": []
   },
   "outputs": [],
   "source": [
    "device = \"cuda:0\""
   ]
  },
  {
   "cell_type": "markdown",
   "id": "5e084fb1",
   "metadata": {
    "papermill": {
     "duration": 0.018474,
     "end_time": "2021-11-26T11:58:51.462885",
     "exception": false,
     "start_time": "2021-11-26T11:58:51.444411",
     "status": "completed"
    },
    "tags": []
   },
   "source": [
    "## 1) Load in and visualize the data"
   ]
  },
  {
   "cell_type": "code",
   "execution_count": 3,
   "id": "4bf17174",
   "metadata": {
    "execution": {
     "iopub.execute_input": "2021-11-26T11:58:51.508441Z",
     "iopub.status.busy": "2021-11-26T11:58:51.507388Z",
     "iopub.status.idle": "2021-11-26T11:58:53.000715Z",
     "shell.execute_reply": "2021-11-26T11:58:52.999914Z",
     "shell.execute_reply.started": "2021-11-26T11:46:05.422503Z"
    },
    "papermill": {
     "duration": 1.517505,
     "end_time": "2021-11-26T11:58:53.000958",
     "exception": false,
     "start_time": "2021-11-26T11:58:51.483453",
     "status": "completed"
    },
    "tags": []
   },
   "outputs": [
    {
     "data": {
      "text/html": [
       "<div>\n",
       "<style scoped>\n",
       "    .dataframe tbody tr th:only-of-type {\n",
       "        vertical-align: middle;\n",
       "    }\n",
       "\n",
       "    .dataframe tbody tr th {\n",
       "        vertical-align: top;\n",
       "    }\n",
       "\n",
       "    .dataframe thead th {\n",
       "        text-align: right;\n",
       "    }\n",
       "</style>\n",
       "<table border=\"1\" class=\"dataframe\">\n",
       "  <thead>\n",
       "    <tr style=\"text-align: right;\">\n",
       "      <th></th>\n",
       "      <th>review</th>\n",
       "      <th>sentiment</th>\n",
       "    </tr>\n",
       "  </thead>\n",
       "  <tbody>\n",
       "    <tr>\n",
       "      <th>0</th>\n",
       "      <td>One of the other reviewers has mentioned that ...</td>\n",
       "      <td>positive</td>\n",
       "    </tr>\n",
       "    <tr>\n",
       "      <th>1</th>\n",
       "      <td>A wonderful little production. &lt;br /&gt;&lt;br /&gt;The...</td>\n",
       "      <td>positive</td>\n",
       "    </tr>\n",
       "    <tr>\n",
       "      <th>2</th>\n",
       "      <td>I thought this was a wonderful way to spend ti...</td>\n",
       "      <td>positive</td>\n",
       "    </tr>\n",
       "    <tr>\n",
       "      <th>3</th>\n",
       "      <td>Basically there's a family where a little boy ...</td>\n",
       "      <td>negative</td>\n",
       "    </tr>\n",
       "    <tr>\n",
       "      <th>4</th>\n",
       "      <td>Petter Mattei's \"Love in the Time of Money\" is...</td>\n",
       "      <td>positive</td>\n",
       "    </tr>\n",
       "  </tbody>\n",
       "</table>\n",
       "</div>"
      ],
      "text/plain": [
       "                                              review sentiment\n",
       "0  One of the other reviewers has mentioned that ...  positive\n",
       "1  A wonderful little production. <br /><br />The...  positive\n",
       "2  I thought this was a wonderful way to spend ti...  positive\n",
       "3  Basically there's a family where a little boy ...  negative\n",
       "4  Petter Mattei's \"Love in the Time of Money\" is...  positive"
      ]
     },
     "execution_count": 3,
     "metadata": {},
     "output_type": "execute_result"
    }
   ],
   "source": [
    "df = pd.read_csv('../input/imdb-dataset-of-50k-movie-reviews/IMDB Dataset.csv')\n",
    "df.head()"
   ]
  },
  {
   "cell_type": "markdown",
   "id": "8a9c8c2c",
   "metadata": {
    "papermill": {
     "duration": 0.020385,
     "end_time": "2021-11-26T11:58:53.042296",
     "exception": false,
     "start_time": "2021-11-26T11:58:53.021911",
     "status": "completed"
    },
    "tags": []
   },
   "source": [
    "## 2) Data Processing — convert to lower case, Remove punctuation etc"
   ]
  },
  {
   "cell_type": "code",
   "execution_count": 4,
   "id": "f788c7fe",
   "metadata": {
    "execution": {
     "iopub.execute_input": "2021-11-26T11:58:53.123291Z",
     "iopub.status.busy": "2021-11-26T11:58:53.097422Z",
     "iopub.status.idle": "2021-11-26T11:59:03.890977Z",
     "shell.execute_reply": "2021-11-26T11:59:03.890436Z",
     "shell.execute_reply.started": "2021-11-26T11:46:05.957734Z"
    },
    "papermill": {
     "duration": 10.828618,
     "end_time": "2021-11-26T11:59:03.891158",
     "exception": false,
     "start_time": "2021-11-26T11:58:53.062540",
     "status": "completed"
    },
    "tags": []
   },
   "outputs": [
    {
     "data": {
      "text/html": [
       "<div>\n",
       "<style scoped>\n",
       "    .dataframe tbody tr th:only-of-type {\n",
       "        vertical-align: middle;\n",
       "    }\n",
       "\n",
       "    .dataframe tbody tr th {\n",
       "        vertical-align: top;\n",
       "    }\n",
       "\n",
       "    .dataframe thead th {\n",
       "        text-align: right;\n",
       "    }\n",
       "</style>\n",
       "<table border=\"1\" class=\"dataframe\">\n",
       "  <thead>\n",
       "    <tr style=\"text-align: right;\">\n",
       "      <th></th>\n",
       "      <th>review</th>\n",
       "      <th>sentiment</th>\n",
       "      <th>cleaned_reviews</th>\n",
       "    </tr>\n",
       "  </thead>\n",
       "  <tbody>\n",
       "    <tr>\n",
       "      <th>0</th>\n",
       "      <td>One of the other reviewers has mentioned that ...</td>\n",
       "      <td>positive</td>\n",
       "      <td>one reviewers mentioned watching 1 oz episode ...</td>\n",
       "    </tr>\n",
       "    <tr>\n",
       "      <th>1</th>\n",
       "      <td>A wonderful little production. &lt;br /&gt;&lt;br /&gt;The...</td>\n",
       "      <td>positive</td>\n",
       "      <td>wonderful little production filming technique ...</td>\n",
       "    </tr>\n",
       "    <tr>\n",
       "      <th>2</th>\n",
       "      <td>I thought this was a wonderful way to spend ti...</td>\n",
       "      <td>positive</td>\n",
       "      <td>thought wonderful way spend time hot summer we...</td>\n",
       "    </tr>\n",
       "    <tr>\n",
       "      <th>3</th>\n",
       "      <td>Basically there's a family where a little boy ...</td>\n",
       "      <td>negative</td>\n",
       "      <td>basically theres family little boy jake thinks...</td>\n",
       "    </tr>\n",
       "    <tr>\n",
       "      <th>4</th>\n",
       "      <td>Petter Mattei's \"Love in the Time of Money\" is...</td>\n",
       "      <td>positive</td>\n",
       "      <td>petter matteis love time money visually stunni...</td>\n",
       "    </tr>\n",
       "  </tbody>\n",
       "</table>\n",
       "</div>"
      ],
      "text/plain": [
       "                                              review sentiment  \\\n",
       "0  One of the other reviewers has mentioned that ...  positive   \n",
       "1  A wonderful little production. <br /><br />The...  positive   \n",
       "2  I thought this was a wonderful way to spend ti...  positive   \n",
       "3  Basically there's a family where a little boy ...  negative   \n",
       "4  Petter Mattei's \"Love in the Time of Money\" is...  positive   \n",
       "\n",
       "                                     cleaned_reviews  \n",
       "0  one reviewers mentioned watching 1 oz episode ...  \n",
       "1  wonderful little production filming technique ...  \n",
       "2  thought wonderful way spend time hot summer we...  \n",
       "3  basically theres family little boy jake thinks...  \n",
       "4  petter matteis love time money visually stunni...  "
      ]
     },
     "execution_count": 4,
     "metadata": {},
     "output_type": "execute_result"
    }
   ],
   "source": [
    "def data_preprocessing(text):\n",
    "    text = text.lower()\n",
    "    text = re.sub('<.*?>', '', text) # Remove HTML from text\n",
    "    text = ''.join([c for c in text if c not in string.punctuation])# Remove punctuation\n",
    "    text = [word for word in text.split() if word not in stop_words]\n",
    "    text = ' '.join(text)\n",
    "    return text\n",
    "\n",
    "df['cleaned_reviews'] = df['review'].apply(data_preprocessing)\n",
    "df.head()"
   ]
  },
  {
   "cell_type": "markdown",
   "id": "69b76bc9",
   "metadata": {
    "papermill": {
     "duration": 0.019957,
     "end_time": "2021-11-26T11:59:03.931509",
     "exception": false,
     "start_time": "2021-11-26T11:59:03.911552",
     "status": "completed"
    },
    "tags": []
   },
   "source": [
    "## 5) Tokenize — Create Vocab to Int mapping dictionary\n",
    "In most of the NLP tasks, you will create an index mapping dictionary in such a way that your frequently occurring words are assigned lower indexes. One of the most common way of doing this is to use Counter method from Collections library."
   ]
  },
  {
   "cell_type": "code",
   "execution_count": 5,
   "id": "e83ae630",
   "metadata": {
    "execution": {
     "iopub.execute_input": "2021-11-26T11:59:03.987172Z",
     "iopub.status.busy": "2021-11-26T11:59:03.985818Z",
     "iopub.status.idle": "2021-11-26T11:59:11.249753Z",
     "shell.execute_reply": "2021-11-26T11:59:11.250321Z",
     "shell.execute_reply.started": "2021-11-26T11:46:15.690609Z"
    },
    "papermill": {
     "duration": 7.298234,
     "end_time": "2021-11-26T11:59:11.250516",
     "exception": false,
     "start_time": "2021-11-26T11:59:03.952282",
     "status": "completed"
    },
    "tags": []
   },
   "outputs": [
    {
     "name": "stdout",
     "output_type": "stream",
     "text": [
      "Vocabulary Size : 222610\n"
     ]
    }
   ],
   "source": [
    "max_features = 8192\n",
    "maxlen = 30\n",
    "\n",
    "tokenizer = Tokenizer(num_words=max_features)\n",
    "tokenizer.fit_on_texts(df['cleaned_reviews'])\n",
    "\n",
    "word_index = tokenizer.word_index\n",
    "vocab_size = len(tokenizer.word_index) + 1\n",
    "print(\"Vocabulary Size :\", vocab_size)"
   ]
  },
  {
   "cell_type": "code",
   "execution_count": 6,
   "id": "836f3f70",
   "metadata": {
    "execution": {
     "iopub.execute_input": "2021-11-26T11:59:11.342703Z",
     "iopub.status.busy": "2021-11-26T11:59:11.327261Z",
     "iopub.status.idle": "2021-11-26T11:59:17.008443Z",
     "shell.execute_reply": "2021-11-26T11:59:17.007453Z",
     "shell.execute_reply.started": "2021-11-26T11:46:21.828166Z"
    },
    "papermill": {
     "duration": 5.736898,
     "end_time": "2021-11-26T11:59:17.008598",
     "exception": false,
     "start_time": "2021-11-26T11:59:11.271700",
     "status": "completed"
    },
    "tags": []
   },
   "outputs": [],
   "source": [
    "training_token = tokenizer.texts_to_sequences(df['cleaned_reviews'])\n",
    "x_data = pad_sequences(training_token, maxlen = maxlen, padding = 'post')"
   ]
  },
  {
   "cell_type": "code",
   "execution_count": 7,
   "id": "798799de",
   "metadata": {
    "execution": {
     "iopub.execute_input": "2021-11-26T11:59:17.090810Z",
     "iopub.status.busy": "2021-11-26T11:59:17.089766Z",
     "iopub.status.idle": "2021-11-26T11:59:17.094081Z",
     "shell.execute_reply": "2021-11-26T11:59:17.093352Z",
     "shell.execute_reply.started": "2021-11-26T11:46:26.370519Z"
    },
    "papermill": {
     "duration": 0.063433,
     "end_time": "2021-11-26T11:59:17.094233",
     "exception": false,
     "start_time": "2021-11-26T11:59:17.030800",
     "status": "completed"
    },
    "tags": []
   },
   "outputs": [],
   "source": [
    "y_data = df['sentiment'].apply(lambda x: 1 if x == 'positive' else 0)"
   ]
  },
  {
   "cell_type": "code",
   "execution_count": 8,
   "id": "208118da",
   "metadata": {
    "execution": {
     "iopub.execute_input": "2021-11-26T11:59:17.148083Z",
     "iopub.status.busy": "2021-11-26T11:59:17.147129Z",
     "iopub.status.idle": "2021-11-26T11:59:17.159770Z",
     "shell.execute_reply": "2021-11-26T11:59:17.159181Z",
     "shell.execute_reply.started": "2021-11-26T11:46:26.405302Z"
    },
    "papermill": {
     "duration": 0.043886,
     "end_time": "2021-11-26T11:59:17.159915",
     "exception": false,
     "start_time": "2021-11-26T11:59:17.116029",
     "status": "completed"
    },
    "tags": []
   },
   "outputs": [],
   "source": [
    "X_train, X_remain, y_train, y_remain = train_test_split(x_data, y_data, test_size=0.2, random_state=1)\n",
    "X_valid, X_test, y_valid, y_test = train_test_split(X_remain, y_remain, test_size=0.5, random_state=1)"
   ]
  },
  {
   "cell_type": "code",
   "execution_count": 9,
   "id": "5a05dd52",
   "metadata": {
    "execution": {
     "iopub.execute_input": "2021-11-26T11:59:17.210145Z",
     "iopub.status.busy": "2021-11-26T11:59:17.207647Z",
     "iopub.status.idle": "2021-11-26T11:59:17.210961Z",
     "shell.execute_reply": "2021-11-26T11:59:17.211543Z",
     "shell.execute_reply.started": "2021-11-26T11:46:26.422158Z"
    },
    "papermill": {
     "duration": 0.030579,
     "end_time": "2021-11-26T11:59:17.211706",
     "exception": false,
     "start_time": "2021-11-26T11:59:17.181127",
     "status": "completed"
    },
    "tags": []
   },
   "outputs": [],
   "source": [
    "y_train = y_train.to_numpy().reshape(-1,1)\n",
    "y_test = y_test.to_numpy().reshape(-1,1)"
   ]
  },
  {
   "cell_type": "code",
   "execution_count": 10,
   "id": "d52eb2cc",
   "metadata": {
    "execution": {
     "iopub.execute_input": "2021-11-26T11:59:17.262259Z",
     "iopub.status.busy": "2021-11-26T11:59:17.260925Z",
     "iopub.status.idle": "2021-11-26T11:59:17.281186Z",
     "shell.execute_reply": "2021-11-26T11:59:17.280624Z",
     "shell.execute_reply.started": "2021-11-26T11:46:26.428343Z"
    },
    "papermill": {
     "duration": 0.049423,
     "end_time": "2021-11-26T11:59:17.281336",
     "exception": false,
     "start_time": "2021-11-26T11:59:17.231913",
     "status": "completed"
    },
    "tags": []
   },
   "outputs": [],
   "source": [
    "# create tensor dataset\n",
    "train_data = TensorDataset(torch.from_numpy(X_train.astype('float64')), torch.from_numpy(np.array(y_train).astype('float64')))\n",
    "test_data = TensorDataset(torch.from_numpy(X_test), torch.from_numpy(np.array(y_test).astype('float64')))\n",
    "valid_data = TensorDataset(torch.from_numpy(X_valid), torch.from_numpy(np.array(y_valid).astype('float64')))\n",
    "\n",
    "# dataloaders\n",
    "batch_size = 50\n",
    "\n",
    "train_loader = DataLoader(train_data, shuffle=True, batch_size=batch_size)\n",
    "test_loader = DataLoader(test_data, shuffle=True, batch_size=batch_size)\n",
    "valid_loader = DataLoader(valid_data, shuffle=True, batch_size=batch_size)"
   ]
  },
  {
   "cell_type": "code",
   "execution_count": 11,
   "id": "68cb7752",
   "metadata": {
    "execution": {
     "iopub.execute_input": "2021-11-26T11:59:17.331159Z",
     "iopub.status.busy": "2021-11-26T11:59:17.330392Z",
     "iopub.status.idle": "2021-11-26T11:59:17.408710Z",
     "shell.execute_reply": "2021-11-26T11:59:17.408148Z",
     "shell.execute_reply.started": "2021-11-26T11:46:26.444992Z"
    },
    "papermill": {
     "duration": 0.106422,
     "end_time": "2021-11-26T11:59:17.408855",
     "exception": false,
     "start_time": "2021-11-26T11:59:17.302433",
     "status": "completed"
    },
    "tags": []
   },
   "outputs": [
    {
     "name": "stdout",
     "output_type": "stream",
     "text": [
      "Sample input size:  torch.Size([50, 30])\n",
      "Sample input: \n",
      " tensor([[7.6000e+01, 4.0050e+03, 9.2000e+01,  ..., 7.0900e+02, 6.0000e+00,\n",
      "         2.3600e+02],\n",
      "        [1.7200e+02, 8.8500e+02, 7.9900e+02,  ..., 1.1940e+03, 1.0000e+00,\n",
      "         2.9300e+02],\n",
      "        [1.6700e+02, 1.0290e+03, 4.0400e+02,  ..., 3.7800e+02, 1.3060e+03,\n",
      "         2.5190e+03],\n",
      "        ...,\n",
      "        [7.4400e+02, 2.5000e+01, 1.5100e+02,  ..., 2.6000e+02, 1.1000e+01,\n",
      "         4.0100e+02],\n",
      "        [4.8180e+03, 1.8430e+03, 1.0930e+03,  ..., 7.6690e+03, 6.7400e+03,\n",
      "         1.0000e+00],\n",
      "        [4.8620e+03, 2.3240e+03, 8.2000e+01,  ..., 1.8840e+03, 7.0000e+00,\n",
      "         2.2460e+03]], dtype=torch.float64)\n",
      "Sample input: \n",
      " tensor([[1.],\n",
      "        [1.],\n",
      "        [0.],\n",
      "        [0.],\n",
      "        [0.],\n",
      "        [1.],\n",
      "        [1.],\n",
      "        [1.],\n",
      "        [0.],\n",
      "        [1.],\n",
      "        [0.],\n",
      "        [1.],\n",
      "        [1.],\n",
      "        [0.],\n",
      "        [0.],\n",
      "        [0.],\n",
      "        [0.],\n",
      "        [0.],\n",
      "        [0.],\n",
      "        [1.],\n",
      "        [0.],\n",
      "        [1.],\n",
      "        [0.],\n",
      "        [1.],\n",
      "        [0.],\n",
      "        [1.],\n",
      "        [1.],\n",
      "        [1.],\n",
      "        [0.],\n",
      "        [0.],\n",
      "        [1.],\n",
      "        [1.],\n",
      "        [0.],\n",
      "        [1.],\n",
      "        [1.],\n",
      "        [1.],\n",
      "        [0.],\n",
      "        [1.],\n",
      "        [0.],\n",
      "        [0.],\n",
      "        [0.],\n",
      "        [1.],\n",
      "        [1.],\n",
      "        [0.],\n",
      "        [1.],\n",
      "        [0.],\n",
      "        [1.],\n",
      "        [1.],\n",
      "        [1.],\n",
      "        [1.]], dtype=torch.float64)\n"
     ]
    }
   ],
   "source": [
    "# obtain one batch of training data\n",
    "dataiter = iter(train_loader)\n",
    "sample_x, sample_y = dataiter.next()\n",
    "\n",
    "print('Sample input size: ', sample_x.size()) # batch_size, seq_length\n",
    "print('Sample input: \\n', sample_x)\n",
    "print('Sample input: \\n', sample_y)"
   ]
  },
  {
   "cell_type": "code",
   "execution_count": 12,
   "id": "cba3cf2e",
   "metadata": {
    "execution": {
     "iopub.execute_input": "2021-11-26T11:59:17.463088Z",
     "iopub.status.busy": "2021-11-26T11:59:17.460891Z",
     "iopub.status.idle": "2021-11-26T11:59:17.463834Z",
     "shell.execute_reply": "2021-11-26T11:59:17.464370Z",
     "shell.execute_reply.started": "2021-11-26T11:46:26.462967Z"
    },
    "papermill": {
     "duration": 0.034852,
     "end_time": "2021-11-26T11:59:17.464527",
     "exception": false,
     "start_time": "2021-11-26T11:59:17.429675",
     "status": "completed"
    },
    "tags": []
   },
   "outputs": [],
   "source": [
    "class PositionalEncoding(nn.Module):\n",
    "\n",
    "    def __init__(self, d_model, dropout=0.1, max_len=5000):\n",
    "        super(PositionalEncoding, self).__init__()\n",
    "        self.dropout = nn.Dropout(p=dropout)\n",
    "\n",
    "        pe = torch.zeros(max_len, d_model)\n",
    "        position = torch.arange(0, max_len, dtype=torch.float).unsqueeze(1)\n",
    "        div_term = torch.exp(torch.arange(0, d_model, 2).float() * (-math.log(10000.0) / d_model))\n",
    "        pe[:, 0::2] = torch.sin(position * div_term)\n",
    "        pe[:, 1::2] = torch.cos(position * div_term)\n",
    "        pe = pe.unsqueeze(0).transpose(0, 1)\n",
    "        self.register_buffer('pe', pe)\n",
    "\n",
    "    def forward(self, x):\n",
    "        x = x + self.pe[:x.size(0), :]\n",
    "        return self.dropout(x)"
   ]
  },
  {
   "cell_type": "code",
   "execution_count": 13,
   "id": "7c14538e",
   "metadata": {
    "execution": {
     "iopub.execute_input": "2021-11-26T11:59:17.517806Z",
     "iopub.status.busy": "2021-11-26T11:59:17.516781Z",
     "iopub.status.idle": "2021-11-26T11:59:17.520246Z",
     "shell.execute_reply": "2021-11-26T11:59:17.519594Z",
     "shell.execute_reply.started": "2021-11-26T11:55:38.852669Z"
    },
    "papermill": {
     "duration": 0.035272,
     "end_time": "2021-11-26T11:59:17.520390",
     "exception": false,
     "start_time": "2021-11-26T11:59:17.485118",
     "status": "completed"
    },
    "tags": []
   },
   "outputs": [],
   "source": [
    "class SentimentNet(nn.Module):\n",
    "    def __init__(self, vocab_size, output_size, embedding_dim, hidden_dim, n_layers, drop_prob=0.2):\n",
    "        super(SentimentNet, self).__init__()\n",
    "        self.output_size = output_size\n",
    "        self.n_layers = n_layers\n",
    "        self.hidden_dim = hidden_dim\n",
    "        self.dropout = nn.Dropout(drop_prob)\n",
    "        self.embedding_dim = embedding_dim\n",
    "        self.sigmoid = nn.Sigmoid()\n",
    "        \n",
    "        \n",
    "        self.encoder = nn.Embedding(vocab_size, embedding_dim)\n",
    "        self.pos_encoder = PositionalEncoding(embedding_dim, drop_prob)\n",
    "        encoder_layer = nn.TransformerEncoderLayer(embedding_dim, 2, hidden_dim)\n",
    "        self.transformer_encoder = nn.TransformerEncoder(encoder_layer, num_layers=n_layers)\n",
    "        \n",
    "\n",
    "        self.fc = nn.Linear(embedding_dim * 30 , 1)\n",
    "\n",
    "     \n",
    "    \"\"\"\n",
    "    def forward(self, x):\n",
    "        #print(x.shape)\n",
    "        if len(x) != 1:\n",
    "            batch_size = x.size(0)\n",
    "\n",
    "        x = x.long()\n",
    "        \n",
    "        embeds = self.embedding(x)\n",
    "        \n",
    "        print(embeds.shape)\n",
    "        \n",
    "        out = self.transformer_encoder(embeds)\n",
    "        \n",
    "        print(out.shape)\n",
    "\n",
    "        out = self.fc(out)\n",
    "                \n",
    "        print(out.shape)\n",
    "\n",
    "        return out\n",
    "        \"\"\"\n",
    "    \n",
    "    def forward(self, src):\n",
    "        src = self.encoder(src) * math.sqrt(self.embedding_dim)\n",
    "        src = self.pos_encoder(src)\n",
    "        output = self.transformer_encoder(src)\n",
    "        output = output.view(output.size(0), -1)\n",
    "        output = self.sigmoid(self.fc(output))\n",
    "        return output"
   ]
  },
  {
   "cell_type": "code",
   "execution_count": 14,
   "id": "7d31ad50",
   "metadata": {
    "execution": {
     "iopub.execute_input": "2021-11-26T11:59:17.569954Z",
     "iopub.status.busy": "2021-11-26T11:59:17.568889Z",
     "iopub.status.idle": "2021-11-26T11:59:17.572079Z",
     "shell.execute_reply": "2021-11-26T11:59:17.571488Z",
     "shell.execute_reply.started": "2021-11-26T11:46:26.486603Z"
    },
    "papermill": {
     "duration": 0.030062,
     "end_time": "2021-11-26T11:59:17.572212",
     "exception": false,
     "start_time": "2021-11-26T11:59:17.542150",
     "status": "completed"
    },
    "tags": []
   },
   "outputs": [],
   "source": [
    "def model_params(model):\n",
    "    pp=0\n",
    "    for p in list(model.parameters()):\n",
    "        nn=1\n",
    "        for s in list(p.size()):\n",
    "            nn = nn*s\n",
    "        pp += nn\n",
    "    return pp"
   ]
  },
  {
   "cell_type": "code",
   "execution_count": 15,
   "id": "b727769e",
   "metadata": {
    "execution": {
     "iopub.execute_input": "2021-11-26T11:59:17.618072Z",
     "iopub.status.busy": "2021-11-26T11:59:17.616845Z",
     "iopub.status.idle": "2021-11-26T11:59:26.272806Z",
     "shell.execute_reply": "2021-11-26T11:59:26.274020Z",
     "shell.execute_reply.started": "2021-11-26T11:57:54.079151Z"
    },
    "papermill": {
     "duration": 8.680831,
     "end_time": "2021-11-26T11:59:26.274217",
     "exception": false,
     "start_time": "2021-11-26T11:59:17.593386",
     "status": "completed"
    },
    "tags": []
   },
   "outputs": [
    {
     "name": "stdout",
     "output_type": "stream",
     "text": [
      "28565637\n"
     ]
    }
   ],
   "source": [
    "import math\n",
    "\n",
    "output_size = 1\n",
    "embedding_dim = 128\n",
    "hidden_dim = 4\n",
    "n_layers = 1\n",
    "\n",
    "model = SentimentNet(vocab_size, output_size, embedding_dim, hidden_dim, n_layers)\n",
    "model.to(device)\n",
    "print(model_params(model))\n",
    "lr=0.008\n",
    "criterion = nn.BCELoss()\n",
    "optimizer = torch.optim.Adam(model.parameters(), lr=lr)"
   ]
  },
  {
   "cell_type": "code",
   "execution_count": 16,
   "id": "7c903879",
   "metadata": {
    "execution": {
     "iopub.execute_input": "2021-11-26T11:59:26.330756Z",
     "iopub.status.busy": "2021-11-26T11:59:26.329736Z",
     "iopub.status.idle": "2021-11-26T12:01:32.524343Z",
     "shell.execute_reply": "2021-11-26T12:01:32.525112Z",
     "shell.execute_reply.started": "2021-11-26T11:55:49.820496Z"
    },
    "papermill": {
     "duration": 126.230115,
     "end_time": "2021-11-26T12:01:32.525440",
     "exception": false,
     "start_time": "2021-11-26T11:59:26.295325",
     "status": "completed"
    },
    "tags": []
   },
   "outputs": [
    {
     "name": "stdout",
     "output_type": "stream",
     "text": [
      "Epoch: 1/10... Step: 100... Loss: 1.196939... Val Loss: 1.339941\n",
      "Validation loss decreased (inf --> 1.339941).  Saving model ...\n",
      "Epoch: 1/10... Step: 200... Loss: 0.696087... Val Loss: 0.746468\n",
      "Validation loss decreased (1.339941 --> 0.746468).  Saving model ...\n",
      "Epoch: 1/10... Step: 300... Loss: 0.736609... Val Loss: 0.713009\n",
      "Validation loss decreased (0.746468 --> 0.713009).  Saving model ...\n",
      "Epoch: 1/10... Step: 400... Loss: 0.749299... Val Loss: 0.699175\n",
      "Validation loss decreased (0.713009 --> 0.699175).  Saving model ...\n",
      "Epoch: 1/10... Step: 500... Loss: 0.697514... Val Loss: 0.704508\n",
      "Epoch: 1/10... Step: 600... Loss: 0.709548... Val Loss: 0.701935\n",
      "Epoch: 1/10... Step: 700... Loss: 0.718307... Val Loss: 0.698875\n",
      "Validation loss decreased (0.699175 --> 0.698875).  Saving model ...\n",
      "Epoch: 1/10... Step: 800... Loss: 0.709711... Val Loss: 0.697498\n",
      "Validation loss decreased (0.698875 --> 0.697498).  Saving model ...\n",
      "Epoch: 2/10... Step: 900... Loss: 0.726516... Val Loss: 0.702783\n",
      "Epoch: 2/10... Step: 1000... Loss: 0.675940... Val Loss: 0.698400\n",
      "Epoch: 2/10... Step: 1100... Loss: 0.703036... Val Loss: 0.697653\n",
      "Epoch: 2/10... Step: 1200... Loss: 0.690493... Val Loss: 0.694777\n",
      "Validation loss decreased (0.697498 --> 0.694777).  Saving model ...\n",
      "Epoch: 2/10... Step: 1300... Loss: 0.700533... Val Loss: 0.695038\n",
      "Epoch: 2/10... Step: 1400... Loss: 0.703949... Val Loss: 0.694704\n",
      "Validation loss decreased (0.694777 --> 0.694704).  Saving model ...\n",
      "Epoch: 2/10... Step: 1500... Loss: 0.711283... Val Loss: 0.693493\n",
      "Validation loss decreased (0.694704 --> 0.693493).  Saving model ...\n",
      "Epoch: 2/10... Step: 1600... Loss: 0.700276... Val Loss: 0.692949\n",
      "Validation loss decreased (0.693493 --> 0.692949).  Saving model ...\n",
      "Epoch: 3/10... Step: 1700... Loss: 0.695051... Val Loss: 0.692181\n",
      "Validation loss decreased (0.692949 --> 0.692181).  Saving model ...\n",
      "Epoch: 3/10... Step: 1800... Loss: 0.713944... Val Loss: 0.691713\n",
      "Validation loss decreased (0.692181 --> 0.691713).  Saving model ...\n",
      "Epoch: 3/10... Step: 1900... Loss: 0.683160... Val Loss: 0.691819\n",
      "Epoch: 3/10... Step: 2000... Loss: 0.686094... Val Loss: 0.706067\n",
      "Epoch: 3/10... Step: 2100... Loss: 0.691653... Val Loss: 0.708523\n",
      "Epoch: 3/10... Step: 2200... Loss: 0.699241... Val Loss: 0.690420\n",
      "Validation loss decreased (0.691713 --> 0.690420).  Saving model ...\n",
      "Epoch: 3/10... Step: 2300... Loss: 0.655364... Val Loss: 0.687246\n",
      "Validation loss decreased (0.690420 --> 0.687246).  Saving model ...\n",
      "Epoch: 3/10... Step: 2400... Loss: 0.688261... Val Loss: 0.690037\n",
      "Epoch: 4/10... Step: 2500... Loss: 0.693410... Val Loss: 0.695021\n",
      "Epoch: 4/10... Step: 2600... Loss: 0.678950... Val Loss: 0.687281\n",
      "Epoch: 4/10... Step: 2700... Loss: 0.688003... Val Loss: 0.682563\n",
      "Validation loss decreased (0.687246 --> 0.682563).  Saving model ...\n",
      "Epoch: 4/10... Step: 2800... Loss: 0.682224... Val Loss: 0.691566\n",
      "Epoch: 4/10... Step: 2900... Loss: 0.686769... Val Loss: 0.689093\n",
      "Epoch: 4/10... Step: 3000... Loss: 0.710277... Val Loss: 0.684802\n",
      "Epoch: 4/10... Step: 3100... Loss: 0.719734... Val Loss: 0.709112\n",
      "Epoch: 4/10... Step: 3200... Loss: 0.648022... Val Loss: 0.679957\n",
      "Validation loss decreased (0.682563 --> 0.679957).  Saving model ...\n",
      "Epoch: 5/10... Step: 3300... Loss: 0.708543... Val Loss: 0.679644\n",
      "Validation loss decreased (0.679957 --> 0.679644).  Saving model ...\n",
      "Epoch: 5/10... Step: 3400... Loss: 0.729183... Val Loss: 0.684779\n",
      "Epoch: 5/10... Step: 3500... Loss: 0.684151... Val Loss: 0.674699\n",
      "Validation loss decreased (0.679644 --> 0.674699).  Saving model ...\n",
      "Epoch: 5/10... Step: 3600... Loss: 0.704155... Val Loss: 0.677678\n",
      "Epoch: 5/10... Step: 3700... Loss: 0.673026... Val Loss: 0.673375\n",
      "Validation loss decreased (0.674699 --> 0.673375).  Saving model ...\n",
      "Epoch: 5/10... Step: 3800... Loss: 0.711078... Val Loss: 0.686707\n",
      "Epoch: 5/10... Step: 3900... Loss: 0.655417... Val Loss: 0.684247\n",
      "Epoch: 5/10... Step: 4000... Loss: 0.706141... Val Loss: 0.676218\n",
      "Epoch: 6/10... Step: 4100... Loss: 0.671368... Val Loss: 0.681123\n",
      "Epoch: 6/10... Step: 4200... Loss: 0.682706... Val Loss: 0.677086\n",
      "Epoch: 6/10... Step: 4300... Loss: 0.694805... Val Loss: 0.680766\n",
      "Epoch: 6/10... Step: 4400... Loss: 0.687101... Val Loss: 0.687043\n",
      "Epoch: 6/10... Step: 4500... Loss: 0.695805... Val Loss: 0.676491\n",
      "Epoch: 6/10... Step: 4600... Loss: 0.708958... Val Loss: 0.677996\n",
      "Epoch: 6/10... Step: 4700... Loss: 0.667931... Val Loss: 0.676644\n",
      "Epoch: 6/10... Step: 4800... Loss: 0.708320... Val Loss: 0.685810\n",
      "Epoch: 7/10... Step: 4900... Loss: 0.677730... Val Loss: 0.678740\n",
      "Epoch: 7/10... Step: 5000... Loss: 0.686676... Val Loss: 0.676391\n",
      "Epoch: 7/10... Step: 5100... Loss: 0.693125... Val Loss: 0.674501\n",
      "Epoch: 7/10... Step: 5200... Loss: 0.630727... Val Loss: 0.707388\n",
      "Epoch: 7/10... Step: 5300... Loss: 0.693272... Val Loss: 0.671001\n",
      "Validation loss decreased (0.673375 --> 0.671001).  Saving model ...\n",
      "Epoch: 7/10... Step: 5400... Loss: 0.654339... Val Loss: 0.676082\n",
      "Epoch: 7/10... Step: 5500... Loss: 0.698748... Val Loss: 0.671749\n",
      "Epoch: 7/10... Step: 5600... Loss: 0.686746... Val Loss: 0.677899\n",
      "Epoch: 8/10... Step: 5700... Loss: 0.689560... Val Loss: 0.676791\n",
      "Epoch: 8/10... Step: 5800... Loss: 0.667386... Val Loss: 0.669962\n",
      "Validation loss decreased (0.671001 --> 0.669962).  Saving model ...\n",
      "Epoch: 8/10... Step: 5900... Loss: 0.679238... Val Loss: 0.671996\n",
      "Epoch: 8/10... Step: 6000... Loss: 0.624856... Val Loss: 0.674303\n",
      "Epoch: 8/10... Step: 6100... Loss: 0.684381... Val Loss: 0.679573\n",
      "Epoch: 8/10... Step: 6200... Loss: 0.696825... Val Loss: 0.675010\n",
      "Epoch: 8/10... Step: 6300... Loss: 0.657528... Val Loss: 0.673468\n",
      "Epoch: 8/10... Step: 6400... Loss: 0.662551... Val Loss: 0.677177\n",
      "Epoch: 9/10... Step: 6500... Loss: 0.714005... Val Loss: 0.681077\n",
      "Epoch: 9/10... Step: 6600... Loss: 0.707226... Val Loss: 0.713908\n",
      "Epoch: 9/10... Step: 6700... Loss: 0.741551... Val Loss: 0.694007\n",
      "Epoch: 9/10... Step: 6800... Loss: 0.668973... Val Loss: 0.675322\n",
      "Epoch: 9/10... Step: 6900... Loss: 0.633986... Val Loss: 0.673508\n",
      "Epoch: 9/10... Step: 7000... Loss: 0.630263... Val Loss: 0.677473\n",
      "Epoch: 9/10... Step: 7100... Loss: 0.672279... Val Loss: 0.671879\n",
      "Epoch: 9/10... Step: 7200... Loss: 0.628344... Val Loss: 0.673175\n",
      "Epoch: 10/10... Step: 7300... Loss: 0.679095... Val Loss: 0.671785\n",
      "Epoch: 10/10... Step: 7400... Loss: 0.671763... Val Loss: 0.678684\n",
      "Epoch: 10/10... Step: 7500... Loss: 0.758950... Val Loss: 0.706080\n",
      "Epoch: 10/10... Step: 7600... Loss: 0.665612... Val Loss: 0.674636\n",
      "Epoch: 10/10... Step: 7700... Loss: 0.660533... Val Loss: 0.674478\n",
      "Epoch: 10/10... Step: 7800... Loss: 0.682677... Val Loss: 0.674798\n",
      "Epoch: 10/10... Step: 7900... Loss: 0.679445... Val Loss: 0.698340\n",
      "Epoch: 10/10... Step: 8000... Loss: 0.654561... Val Loss: 0.673584\n"
     ]
    }
   ],
   "source": [
    "epochs = 10\n",
    "counter = 0\n",
    "print_every = 100\n",
    "clip = 5\n",
    "valid_loss_min = np.Inf\n",
    "\n",
    "model.train()\n",
    "for i in range(epochs):\n",
    "    \n",
    "    for inputs, labels in train_loader:\n",
    "        counter += 1\n",
    "        inputs, labels = inputs.to(device), labels.to(device)\n",
    "        model.zero_grad()\n",
    "        output = model(inputs.long())\n",
    "        \n",
    "        loss = criterion(output, labels.float())\n",
    "        \n",
    "        \n",
    "        loss.backward()\n",
    "        #nn.utils.clip_grad_norm_(model.parameters(), clip)\n",
    "        optimizer.step()\n",
    "        \n",
    "        if counter%print_every == 0:\n",
    "            val_losses = []\n",
    "            model.eval()\n",
    "            for inp, lab in test_loader:\n",
    "                inp, lab = inp.to(device), lab.to(device)\n",
    "                out = model(inp.long())\n",
    "                val_loss = criterion(out, lab.float())\n",
    "                val_losses.append(val_loss.item())\n",
    "                \n",
    "            model.train()\n",
    "            print(\"Epoch: {}/{}...\".format(i+1, epochs),\n",
    "                  \"Step: {}...\".format(counter),\n",
    "                  \"Loss: {:.6f}...\".format(loss.item()),\n",
    "                  \"Val Loss: {:.6f}\".format(np.mean(val_losses)))\n",
    "            if np.mean(val_losses) <= valid_loss_min:\n",
    "                torch.save(model.state_dict(), './state_dict.pt')\n",
    "                print('Validation loss decreased ({:.6f} --> {:.6f}).  Saving model ...'.format(valid_loss_min,np.mean(val_losses)))\n",
    "                valid_loss_min = np.mean(val_losses)"
   ]
  },
  {
   "cell_type": "code",
   "execution_count": 17,
   "id": "f27e4e9f",
   "metadata": {
    "execution": {
     "iopub.execute_input": "2021-11-26T12:01:32.640276Z",
     "iopub.status.busy": "2021-11-26T12:01:32.639043Z",
     "iopub.status.idle": "2021-11-26T12:01:32.668279Z",
     "shell.execute_reply": "2021-11-26T12:01:32.668774Z",
     "shell.execute_reply.started": "2021-11-26T11:54:27.172539Z"
    },
    "papermill": {
     "duration": 0.088425,
     "end_time": "2021-11-26T12:01:32.668956",
     "exception": false,
     "start_time": "2021-11-26T12:01:32.580531",
     "status": "completed"
    },
    "tags": []
   },
   "outputs": [
    {
     "data": {
      "text/plain": [
       "tensor([[0.7441]], device='cuda:0', grad_fn=<SigmoidBackward>)"
      ]
     },
     "execution_count": 17,
     "metadata": {},
     "output_type": "execute_result"
    }
   ],
   "source": [
    "sentence = \"I love you\"\n",
    "trial = torch.tensor(pad_sequences(tokenizer.texts_to_sequences([sentence]), maxlen = maxlen)).long().to(device)\n",
    "\n",
    "model(trial)"
   ]
  },
  {
   "cell_type": "code",
   "execution_count": 18,
   "id": "c06589ae",
   "metadata": {
    "execution": {
     "iopub.execute_input": "2021-11-26T12:01:32.783744Z",
     "iopub.status.busy": "2021-11-26T12:01:32.782799Z",
     "iopub.status.idle": "2021-11-26T12:01:33.743178Z",
     "shell.execute_reply": "2021-11-26T12:01:33.743681Z",
     "shell.execute_reply.started": "2021-11-26T11:54:27.174417Z"
    },
    "papermill": {
     "duration": 1.0201,
     "end_time": "2021-11-26T12:01:33.743861",
     "exception": false,
     "start_time": "2021-11-26T12:01:32.723761",
     "status": "completed"
    },
    "tags": []
   },
   "outputs": [
    {
     "name": "stderr",
     "output_type": "stream",
     "text": [
      "/opt/conda/lib/python3.7/site-packages/ipykernel_launcher.py:16: TracerWarning: Converting a tensor to a Python index might cause the trace to be incorrect. We can't record the data flow of Python values, so this value will be treated as a constant in the future. This means that the trace might not generalize to other inputs!\n",
      "  app.launch_new_instance()\n"
     ]
    }
   ],
   "source": [
    "import torch.onnx\n",
    "torch.onnx.export(model,               # model being run\n",
    "                  trial,                  # model input (or a tuple for multiple inputs)\n",
    "                  \"transformer-imdb.onnx\", opset_version = 11)"
   ]
  }
 ],
 "metadata": {
  "kernelspec": {
   "display_name": "Python 3",
   "language": "python",
   "name": "python3"
  },
  "language_info": {
   "codemirror_mode": {
    "name": "ipython",
    "version": 3
   },
   "file_extension": ".py",
   "mimetype": "text/x-python",
   "name": "python",
   "nbconvert_exporter": "python",
   "pygments_lexer": "ipython3",
   "version": "3.7.10"
  },
  "papermill": {
   "default_parameters": {},
   "duration": 184.826268,
   "end_time": "2021-11-26T12:01:37.148033",
   "environment_variables": {},
   "exception": null,
   "input_path": "__notebook__.ipynb",
   "output_path": "__notebook__.ipynb",
   "parameters": {},
   "start_time": "2021-11-26T11:58:32.321765",
   "version": "2.3.3"
  }
 },
 "nbformat": 4,
 "nbformat_minor": 5
}
