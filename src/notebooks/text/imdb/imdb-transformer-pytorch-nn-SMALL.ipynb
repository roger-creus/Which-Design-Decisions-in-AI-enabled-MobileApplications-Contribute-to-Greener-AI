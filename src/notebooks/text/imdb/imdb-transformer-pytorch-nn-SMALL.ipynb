{
 "cells": [
  {
   "cell_type": "markdown",
   "id": "8857aa8a",
   "metadata": {
    "papermill": {
     "duration": 0.015976,
     "end_time": "2021-11-26T12:03:49.859043",
     "exception": false,
     "start_time": "2021-11-26T12:03:49.843067",
     "status": "completed"
    },
    "tags": []
   },
   "source": [
    "# Sentiment Analysis using LSTM"
   ]
  },
  {
   "cell_type": "code",
   "execution_count": 1,
   "id": "e116ddaa",
   "metadata": {
    "execution": {
     "iopub.execute_input": "2021-11-26T12:03:49.894022Z",
     "iopub.status.busy": "2021-11-26T12:03:49.892550Z",
     "iopub.status.idle": "2021-11-26T12:03:59.817758Z",
     "shell.execute_reply": "2021-11-26T12:03:59.817154Z",
     "shell.execute_reply.started": "2021-11-26T11:46:05.391441Z"
    },
    "papermill": {
     "duration": 9.943872,
     "end_time": "2021-11-26T12:03:59.817909",
     "exception": false,
     "start_time": "2021-11-26T12:03:49.874037",
     "status": "completed"
    },
    "tags": []
   },
   "outputs": [
    {
     "name": "stderr",
     "output_type": "stream",
     "text": [
      "2021-11-26 12:03:56.310667: I tensorflow/stream_executor/platform/default/dso_loader.cc:49] Successfully opened dynamic library libcudart.so.11.0\n"
     ]
    }
   ],
   "source": [
    "import numpy as np\n",
    "import pandas as pd\n",
    "from torch import nn\n",
    "\n",
    "import matplotlib.pyplot as plt\n",
    "import seaborn as sns\n",
    "\n",
    "import torch.nn.functional as F\n",
    "\n",
    "import re\n",
    "import string\n",
    "from collections import Counter\n",
    "from nltk.corpus import stopwords\n",
    "stop_words = set(stopwords.words('english'))\n",
    "\n",
    "from sklearn.model_selection import train_test_split\n",
    "\n",
    "import torch\n",
    "from torch.utils.data import DataLoader, TensorDataset\n",
    "import torch.nn as nn\n",
    "\n",
    "import pandas as pd\n",
    "import numpy as np\n",
    "import bz2\n",
    "import matplotlib.pyplot as plt\n",
    "import sklearn\n",
    "import tensorflow as tf\n",
    "from tensorflow.keras import models, layers, optimizers\n",
    "from tensorflow.keras.preprocessing.text import Tokenizer, text_to_word_sequence\n",
    "from tensorflow.keras.preprocessing.sequence import pad_sequences\n",
    "from sklearn.preprocessing import LabelEncoder\n",
    "\n",
    "%matplotlib inline"
   ]
  },
  {
   "cell_type": "code",
   "execution_count": 2,
   "id": "eaab5815",
   "metadata": {
    "execution": {
     "iopub.execute_input": "2021-11-26T12:03:59.851840Z",
     "iopub.status.busy": "2021-11-26T12:03:59.851087Z",
     "iopub.status.idle": "2021-11-26T12:03:59.853531Z",
     "shell.execute_reply": "2021-11-26T12:03:59.853085Z",
     "shell.execute_reply.started": "2021-11-26T11:46:05.409146Z"
    },
    "papermill": {
     "duration": 0.020435,
     "end_time": "2021-11-26T12:03:59.853641",
     "exception": false,
     "start_time": "2021-11-26T12:03:59.833206",
     "status": "completed"
    },
    "tags": []
   },
   "outputs": [],
   "source": [
    "device = \"cuda:0\""
   ]
  },
  {
   "cell_type": "markdown",
   "id": "1efc9725",
   "metadata": {
    "papermill": {
     "duration": 0.014394,
     "end_time": "2021-11-26T12:03:59.882484",
     "exception": false,
     "start_time": "2021-11-26T12:03:59.868090",
     "status": "completed"
    },
    "tags": []
   },
   "source": [
    "## 1) Load in and visualize the data"
   ]
  },
  {
   "cell_type": "code",
   "execution_count": 3,
   "id": "1db99fd6",
   "metadata": {
    "execution": {
     "iopub.execute_input": "2021-11-26T12:03:59.914412Z",
     "iopub.status.busy": "2021-11-26T12:03:59.913642Z",
     "iopub.status.idle": "2021-11-26T12:04:01.185713Z",
     "shell.execute_reply": "2021-11-26T12:04:01.185234Z",
     "shell.execute_reply.started": "2021-11-26T11:46:05.422503Z"
    },
    "papermill": {
     "duration": 1.288917,
     "end_time": "2021-11-26T12:04:01.185834",
     "exception": false,
     "start_time": "2021-11-26T12:03:59.896917",
     "status": "completed"
    },
    "tags": []
   },
   "outputs": [
    {
     "data": {
      "text/html": [
       "<div>\n",
       "<style scoped>\n",
       "    .dataframe tbody tr th:only-of-type {\n",
       "        vertical-align: middle;\n",
       "    }\n",
       "\n",
       "    .dataframe tbody tr th {\n",
       "        vertical-align: top;\n",
       "    }\n",
       "\n",
       "    .dataframe thead th {\n",
       "        text-align: right;\n",
       "    }\n",
       "</style>\n",
       "<table border=\"1\" class=\"dataframe\">\n",
       "  <thead>\n",
       "    <tr style=\"text-align: right;\">\n",
       "      <th></th>\n",
       "      <th>review</th>\n",
       "      <th>sentiment</th>\n",
       "    </tr>\n",
       "  </thead>\n",
       "  <tbody>\n",
       "    <tr>\n",
       "      <th>0</th>\n",
       "      <td>One of the other reviewers has mentioned that ...</td>\n",
       "      <td>positive</td>\n",
       "    </tr>\n",
       "    <tr>\n",
       "      <th>1</th>\n",
       "      <td>A wonderful little production. &lt;br /&gt;&lt;br /&gt;The...</td>\n",
       "      <td>positive</td>\n",
       "    </tr>\n",
       "    <tr>\n",
       "      <th>2</th>\n",
       "      <td>I thought this was a wonderful way to spend ti...</td>\n",
       "      <td>positive</td>\n",
       "    </tr>\n",
       "    <tr>\n",
       "      <th>3</th>\n",
       "      <td>Basically there's a family where a little boy ...</td>\n",
       "      <td>negative</td>\n",
       "    </tr>\n",
       "    <tr>\n",
       "      <th>4</th>\n",
       "      <td>Petter Mattei's \"Love in the Time of Money\" is...</td>\n",
       "      <td>positive</td>\n",
       "    </tr>\n",
       "  </tbody>\n",
       "</table>\n",
       "</div>"
      ],
      "text/plain": [
       "                                              review sentiment\n",
       "0  One of the other reviewers has mentioned that ...  positive\n",
       "1  A wonderful little production. <br /><br />The...  positive\n",
       "2  I thought this was a wonderful way to spend ti...  positive\n",
       "3  Basically there's a family where a little boy ...  negative\n",
       "4  Petter Mattei's \"Love in the Time of Money\" is...  positive"
      ]
     },
     "execution_count": 3,
     "metadata": {},
     "output_type": "execute_result"
    }
   ],
   "source": [
    "df = pd.read_csv('../input/imdb-dataset-of-50k-movie-reviews/IMDB Dataset.csv')\n",
    "df.head()"
   ]
  },
  {
   "cell_type": "markdown",
   "id": "d6f04e83",
   "metadata": {
    "papermill": {
     "duration": 0.014829,
     "end_time": "2021-11-26T12:04:01.216988",
     "exception": false,
     "start_time": "2021-11-26T12:04:01.202159",
     "status": "completed"
    },
    "tags": []
   },
   "source": [
    "## 2) Data Processing — convert to lower case, Remove punctuation etc"
   ]
  },
  {
   "cell_type": "code",
   "execution_count": 4,
   "id": "41d1c814",
   "metadata": {
    "execution": {
     "iopub.execute_input": "2021-11-26T12:04:01.254696Z",
     "iopub.status.busy": "2021-11-26T12:04:01.253922Z",
     "iopub.status.idle": "2021-11-26T12:04:11.397249Z",
     "shell.execute_reply": "2021-11-26T12:04:11.396814Z",
     "shell.execute_reply.started": "2021-11-26T11:46:05.957734Z"
    },
    "papermill": {
     "duration": 10.165467,
     "end_time": "2021-11-26T12:04:11.397372",
     "exception": false,
     "start_time": "2021-11-26T12:04:01.231905",
     "status": "completed"
    },
    "tags": []
   },
   "outputs": [
    {
     "data": {
      "text/html": [
       "<div>\n",
       "<style scoped>\n",
       "    .dataframe tbody tr th:only-of-type {\n",
       "        vertical-align: middle;\n",
       "    }\n",
       "\n",
       "    .dataframe tbody tr th {\n",
       "        vertical-align: top;\n",
       "    }\n",
       "\n",
       "    .dataframe thead th {\n",
       "        text-align: right;\n",
       "    }\n",
       "</style>\n",
       "<table border=\"1\" class=\"dataframe\">\n",
       "  <thead>\n",
       "    <tr style=\"text-align: right;\">\n",
       "      <th></th>\n",
       "      <th>review</th>\n",
       "      <th>sentiment</th>\n",
       "      <th>cleaned_reviews</th>\n",
       "    </tr>\n",
       "  </thead>\n",
       "  <tbody>\n",
       "    <tr>\n",
       "      <th>0</th>\n",
       "      <td>One of the other reviewers has mentioned that ...</td>\n",
       "      <td>positive</td>\n",
       "      <td>one reviewers mentioned watching 1 oz episode ...</td>\n",
       "    </tr>\n",
       "    <tr>\n",
       "      <th>1</th>\n",
       "      <td>A wonderful little production. &lt;br /&gt;&lt;br /&gt;The...</td>\n",
       "      <td>positive</td>\n",
       "      <td>wonderful little production filming technique ...</td>\n",
       "    </tr>\n",
       "    <tr>\n",
       "      <th>2</th>\n",
       "      <td>I thought this was a wonderful way to spend ti...</td>\n",
       "      <td>positive</td>\n",
       "      <td>thought wonderful way spend time hot summer we...</td>\n",
       "    </tr>\n",
       "    <tr>\n",
       "      <th>3</th>\n",
       "      <td>Basically there's a family where a little boy ...</td>\n",
       "      <td>negative</td>\n",
       "      <td>basically theres family little boy jake thinks...</td>\n",
       "    </tr>\n",
       "    <tr>\n",
       "      <th>4</th>\n",
       "      <td>Petter Mattei's \"Love in the Time of Money\" is...</td>\n",
       "      <td>positive</td>\n",
       "      <td>petter matteis love time money visually stunni...</td>\n",
       "    </tr>\n",
       "  </tbody>\n",
       "</table>\n",
       "</div>"
      ],
      "text/plain": [
       "                                              review sentiment  \\\n",
       "0  One of the other reviewers has mentioned that ...  positive   \n",
       "1  A wonderful little production. <br /><br />The...  positive   \n",
       "2  I thought this was a wonderful way to spend ti...  positive   \n",
       "3  Basically there's a family where a little boy ...  negative   \n",
       "4  Petter Mattei's \"Love in the Time of Money\" is...  positive   \n",
       "\n",
       "                                     cleaned_reviews  \n",
       "0  one reviewers mentioned watching 1 oz episode ...  \n",
       "1  wonderful little production filming technique ...  \n",
       "2  thought wonderful way spend time hot summer we...  \n",
       "3  basically theres family little boy jake thinks...  \n",
       "4  petter matteis love time money visually stunni...  "
      ]
     },
     "execution_count": 4,
     "metadata": {},
     "output_type": "execute_result"
    }
   ],
   "source": [
    "def data_preprocessing(text):\n",
    "    text = text.lower()\n",
    "    text = re.sub('<.*?>', '', text) # Remove HTML from text\n",
    "    text = ''.join([c for c in text if c not in string.punctuation])# Remove punctuation\n",
    "    text = [word for word in text.split() if word not in stop_words]\n",
    "    text = ' '.join(text)\n",
    "    return text\n",
    "\n",
    "df['cleaned_reviews'] = df['review'].apply(data_preprocessing)\n",
    "df.head()"
   ]
  },
  {
   "cell_type": "markdown",
   "id": "e022792c",
   "metadata": {
    "papermill": {
     "duration": 0.015096,
     "end_time": "2021-11-26T12:04:11.428350",
     "exception": false,
     "start_time": "2021-11-26T12:04:11.413254",
     "status": "completed"
    },
    "tags": []
   },
   "source": [
    "## 5) Tokenize — Create Vocab to Int mapping dictionary\n",
    "In most of the NLP tasks, you will create an index mapping dictionary in such a way that your frequently occurring words are assigned lower indexes. One of the most common way of doing this is to use Counter method from Collections library."
   ]
  },
  {
   "cell_type": "code",
   "execution_count": 5,
   "id": "a8578982",
   "metadata": {
    "execution": {
     "iopub.execute_input": "2021-11-26T12:04:11.538163Z",
     "iopub.status.busy": "2021-11-26T12:04:11.502320Z",
     "iopub.status.idle": "2021-11-26T12:04:17.241391Z",
     "shell.execute_reply": "2021-11-26T12:04:17.240960Z",
     "shell.execute_reply.started": "2021-11-26T11:46:15.690609Z"
    },
    "papermill": {
     "duration": 5.797779,
     "end_time": "2021-11-26T12:04:17.241537",
     "exception": false,
     "start_time": "2021-11-26T12:04:11.443758",
     "status": "completed"
    },
    "tags": []
   },
   "outputs": [
    {
     "name": "stdout",
     "output_type": "stream",
     "text": [
      "Vocabulary Size : 222610\n"
     ]
    }
   ],
   "source": [
    "max_features = 8192\n",
    "maxlen = 30\n",
    "\n",
    "tokenizer = Tokenizer(num_words=max_features)\n",
    "tokenizer.fit_on_texts(df['cleaned_reviews'])\n",
    "\n",
    "word_index = tokenizer.word_index\n",
    "vocab_size = len(tokenizer.word_index) + 1\n",
    "print(\"Vocabulary Size :\", vocab_size)"
   ]
  },
  {
   "cell_type": "code",
   "execution_count": 6,
   "id": "594ba60d",
   "metadata": {
    "execution": {
     "iopub.execute_input": "2021-11-26T12:04:17.281480Z",
     "iopub.status.busy": "2021-11-26T12:04:17.280756Z",
     "iopub.status.idle": "2021-11-26T12:04:21.694929Z",
     "shell.execute_reply": "2021-11-26T12:04:21.694395Z",
     "shell.execute_reply.started": "2021-11-26T11:46:21.828166Z"
    },
    "papermill": {
     "duration": 4.437639,
     "end_time": "2021-11-26T12:04:21.695060",
     "exception": false,
     "start_time": "2021-11-26T12:04:17.257421",
     "status": "completed"
    },
    "tags": []
   },
   "outputs": [],
   "source": [
    "training_token = tokenizer.texts_to_sequences(df['cleaned_reviews'])\n",
    "x_data = pad_sequences(training_token, maxlen = maxlen, padding = 'post')"
   ]
  },
  {
   "cell_type": "code",
   "execution_count": 7,
   "id": "b4ee56da",
   "metadata": {
    "execution": {
     "iopub.execute_input": "2021-11-26T12:04:21.731426Z",
     "iopub.status.busy": "2021-11-26T12:04:21.730719Z",
     "iopub.status.idle": "2021-11-26T12:04:21.761595Z",
     "shell.execute_reply": "2021-11-26T12:04:21.761135Z",
     "shell.execute_reply.started": "2021-11-26T11:46:26.370519Z"
    },
    "papermill": {
     "duration": 0.050824,
     "end_time": "2021-11-26T12:04:21.761707",
     "exception": false,
     "start_time": "2021-11-26T12:04:21.710883",
     "status": "completed"
    },
    "tags": []
   },
   "outputs": [],
   "source": [
    "y_data = df['sentiment'].apply(lambda x: 1 if x == 'positive' else 0)"
   ]
  },
  {
   "cell_type": "code",
   "execution_count": 8,
   "id": "0c9e1fad",
   "metadata": {
    "execution": {
     "iopub.execute_input": "2021-11-26T12:04:21.801078Z",
     "iopub.status.busy": "2021-11-26T12:04:21.800355Z",
     "iopub.status.idle": "2021-11-26T12:04:21.811997Z",
     "shell.execute_reply": "2021-11-26T12:04:21.811528Z",
     "shell.execute_reply.started": "2021-11-26T11:46:26.405302Z"
    },
    "papermill": {
     "duration": 0.034463,
     "end_time": "2021-11-26T12:04:21.812102",
     "exception": false,
     "start_time": "2021-11-26T12:04:21.777639",
     "status": "completed"
    },
    "tags": []
   },
   "outputs": [],
   "source": [
    "X_train, X_remain, y_train, y_remain = train_test_split(x_data, y_data, test_size=0.2, random_state=1)\n",
    "X_valid, X_test, y_valid, y_test = train_test_split(X_remain, y_remain, test_size=0.5, random_state=1)"
   ]
  },
  {
   "cell_type": "code",
   "execution_count": 9,
   "id": "7d1ed191",
   "metadata": {
    "execution": {
     "iopub.execute_input": "2021-11-26T12:04:21.848566Z",
     "iopub.status.busy": "2021-11-26T12:04:21.847815Z",
     "iopub.status.idle": "2021-11-26T12:04:21.850162Z",
     "shell.execute_reply": "2021-11-26T12:04:21.849775Z",
     "shell.execute_reply.started": "2021-11-26T11:46:26.422158Z"
    },
    "papermill": {
     "duration": 0.02205,
     "end_time": "2021-11-26T12:04:21.850264",
     "exception": false,
     "start_time": "2021-11-26T12:04:21.828214",
     "status": "completed"
    },
    "tags": []
   },
   "outputs": [],
   "source": [
    "y_train = y_train.to_numpy().reshape(-1,1)\n",
    "y_test = y_test.to_numpy().reshape(-1,1)"
   ]
  },
  {
   "cell_type": "code",
   "execution_count": 10,
   "id": "cdc54b55",
   "metadata": {
    "execution": {
     "iopub.execute_input": "2021-11-26T12:04:21.889108Z",
     "iopub.status.busy": "2021-11-26T12:04:21.888085Z",
     "iopub.status.idle": "2021-11-26T12:04:21.905669Z",
     "shell.execute_reply": "2021-11-26T12:04:21.905243Z",
     "shell.execute_reply.started": "2021-11-26T11:46:26.428343Z"
    },
    "papermill": {
     "duration": 0.039912,
     "end_time": "2021-11-26T12:04:21.905781",
     "exception": false,
     "start_time": "2021-11-26T12:04:21.865869",
     "status": "completed"
    },
    "tags": []
   },
   "outputs": [],
   "source": [
    "# create tensor dataset\n",
    "train_data = TensorDataset(torch.from_numpy(X_train.astype('float64')), torch.from_numpy(np.array(y_train).astype('float64')))\n",
    "test_data = TensorDataset(torch.from_numpy(X_test), torch.from_numpy(np.array(y_test).astype('float64')))\n",
    "valid_data = TensorDataset(torch.from_numpy(X_valid), torch.from_numpy(np.array(y_valid).astype('float64')))\n",
    "\n",
    "# dataloaders\n",
    "batch_size = 50\n",
    "\n",
    "train_loader = DataLoader(train_data, shuffle=True, batch_size=batch_size)\n",
    "test_loader = DataLoader(test_data, shuffle=True, batch_size=batch_size)\n",
    "valid_loader = DataLoader(valid_data, shuffle=True, batch_size=batch_size)"
   ]
  },
  {
   "cell_type": "code",
   "execution_count": 11,
   "id": "405e63bd",
   "metadata": {
    "execution": {
     "iopub.execute_input": "2021-11-26T12:04:21.943011Z",
     "iopub.status.busy": "2021-11-26T12:04:21.942427Z",
     "iopub.status.idle": "2021-11-26T12:04:22.020512Z",
     "shell.execute_reply": "2021-11-26T12:04:22.021106Z",
     "shell.execute_reply.started": "2021-11-26T11:46:26.444992Z"
    },
    "papermill": {
     "duration": 0.099818,
     "end_time": "2021-11-26T12:04:22.021267",
     "exception": false,
     "start_time": "2021-11-26T12:04:21.921449",
     "status": "completed"
    },
    "tags": []
   },
   "outputs": [
    {
     "name": "stdout",
     "output_type": "stream",
     "text": [
      "Sample input size:  torch.Size([50, 30])\n",
      "Sample input: \n",
      " tensor([[1.3000e+01, 2.5000e+01, 1.2970e+03,  ..., 3.6380e+03, 2.0500e+02,\n",
      "         1.0000e+00],\n",
      "        [1.1200e+02, 5.1000e+01, 4.4000e+01,  ..., 6.0000e+02, 2.3690e+03,\n",
      "         5.2000e+01],\n",
      "        [1.5000e+01, 1.4620e+03, 2.6900e+02,  ..., 1.9300e+02, 1.6820e+03,\n",
      "         4.5100e+02],\n",
      "        ...,\n",
      "        [1.8200e+02, 1.6320e+03, 2.3000e+01,  ..., 2.0000e+01, 1.0990e+03,\n",
      "         2.0000e+02],\n",
      "        [5.2100e+02, 4.2100e+02, 8.0540e+03,  ..., 9.7000e+01, 1.4000e+02,\n",
      "         3.8000e+01],\n",
      "        [1.0300e+02, 3.9000e+01, 2.6000e+02,  ..., 6.4500e+03, 5.9060e+03,\n",
      "         3.9300e+02]], dtype=torch.float64)\n",
      "Sample input: \n",
      " tensor([[1.],\n",
      "        [0.],\n",
      "        [1.],\n",
      "        [0.],\n",
      "        [1.],\n",
      "        [0.],\n",
      "        [1.],\n",
      "        [0.],\n",
      "        [1.],\n",
      "        [1.],\n",
      "        [0.],\n",
      "        [0.],\n",
      "        [1.],\n",
      "        [1.],\n",
      "        [1.],\n",
      "        [0.],\n",
      "        [1.],\n",
      "        [0.],\n",
      "        [1.],\n",
      "        [0.],\n",
      "        [0.],\n",
      "        [1.],\n",
      "        [0.],\n",
      "        [1.],\n",
      "        [1.],\n",
      "        [0.],\n",
      "        [1.],\n",
      "        [0.],\n",
      "        [0.],\n",
      "        [0.],\n",
      "        [0.],\n",
      "        [1.],\n",
      "        [0.],\n",
      "        [0.],\n",
      "        [0.],\n",
      "        [0.],\n",
      "        [1.],\n",
      "        [1.],\n",
      "        [1.],\n",
      "        [1.],\n",
      "        [1.],\n",
      "        [1.],\n",
      "        [1.],\n",
      "        [1.],\n",
      "        [1.],\n",
      "        [1.],\n",
      "        [0.],\n",
      "        [0.],\n",
      "        [1.],\n",
      "        [0.]], dtype=torch.float64)\n"
     ]
    }
   ],
   "source": [
    "# obtain one batch of training data\n",
    "dataiter = iter(train_loader)\n",
    "sample_x, sample_y = dataiter.next()\n",
    "\n",
    "print('Sample input size: ', sample_x.size()) # batch_size, seq_length\n",
    "print('Sample input: \\n', sample_x)\n",
    "print('Sample input: \\n', sample_y)"
   ]
  },
  {
   "cell_type": "code",
   "execution_count": 12,
   "id": "0f6db306",
   "metadata": {
    "execution": {
     "iopub.execute_input": "2021-11-26T12:04:22.062051Z",
     "iopub.status.busy": "2021-11-26T12:04:22.058292Z",
     "iopub.status.idle": "2021-11-26T12:04:22.064389Z",
     "shell.execute_reply": "2021-11-26T12:04:22.063975Z",
     "shell.execute_reply.started": "2021-11-26T11:46:26.462967Z"
    },
    "papermill": {
     "duration": 0.026215,
     "end_time": "2021-11-26T12:04:22.064488",
     "exception": false,
     "start_time": "2021-11-26T12:04:22.038273",
     "status": "completed"
    },
    "tags": []
   },
   "outputs": [],
   "source": [
    "class PositionalEncoding(nn.Module):\n",
    "\n",
    "    def __init__(self, d_model, dropout=0.1, max_len=5000):\n",
    "        super(PositionalEncoding, self).__init__()\n",
    "        self.dropout = nn.Dropout(p=dropout)\n",
    "\n",
    "        pe = torch.zeros(max_len, d_model)\n",
    "        position = torch.arange(0, max_len, dtype=torch.float).unsqueeze(1)\n",
    "        div_term = torch.exp(torch.arange(0, d_model, 2).float() * (-math.log(10000.0) / d_model))\n",
    "        pe[:, 0::2] = torch.sin(position * div_term)\n",
    "        pe[:, 1::2] = torch.cos(position * div_term)\n",
    "        pe = pe.unsqueeze(0).transpose(0, 1)\n",
    "        self.register_buffer('pe', pe)\n",
    "\n",
    "    def forward(self, x):\n",
    "        x = x + self.pe[:x.size(0), :]\n",
    "        return self.dropout(x)"
   ]
  },
  {
   "cell_type": "code",
   "execution_count": 13,
   "id": "45ff2416",
   "metadata": {
    "execution": {
     "iopub.execute_input": "2021-11-26T12:04:22.098893Z",
     "iopub.status.busy": "2021-11-26T12:04:22.098090Z",
     "iopub.status.idle": "2021-11-26T12:04:22.107422Z",
     "shell.execute_reply": "2021-11-26T12:04:22.107012Z",
     "shell.execute_reply.started": "2021-11-26T11:55:38.852669Z"
    },
    "papermill": {
     "duration": 0.02723,
     "end_time": "2021-11-26T12:04:22.107551",
     "exception": false,
     "start_time": "2021-11-26T12:04:22.080321",
     "status": "completed"
    },
    "tags": []
   },
   "outputs": [],
   "source": [
    "class SentimentNet(nn.Module):\n",
    "    def __init__(self, vocab_size, output_size, embedding_dim, hidden_dim, n_layers, drop_prob=0.2):\n",
    "        super(SentimentNet, self).__init__()\n",
    "        self.output_size = output_size\n",
    "        self.n_layers = n_layers\n",
    "        self.hidden_dim = hidden_dim\n",
    "        self.dropout = nn.Dropout(drop_prob)\n",
    "        self.embedding_dim = embedding_dim\n",
    "        self.sigmoid = nn.Sigmoid()\n",
    "        \n",
    "        \n",
    "        self.encoder = nn.Embedding(vocab_size, embedding_dim)\n",
    "        self.pos_encoder = PositionalEncoding(embedding_dim, drop_prob)\n",
    "        encoder_layer = nn.TransformerEncoderLayer(embedding_dim, 2, hidden_dim)\n",
    "        self.transformer_encoder = nn.TransformerEncoder(encoder_layer, num_layers=n_layers)\n",
    "        \n",
    "\n",
    "        self.fc = nn.Linear(embedding_dim * 30 , 1)\n",
    "\n",
    "     \n",
    "    \"\"\"\n",
    "    def forward(self, x):\n",
    "        #print(x.shape)\n",
    "        if len(x) != 1:\n",
    "            batch_size = x.size(0)\n",
    "\n",
    "        x = x.long()\n",
    "        \n",
    "        embeds = self.embedding(x)\n",
    "        \n",
    "        print(embeds.shape)\n",
    "        \n",
    "        out = self.transformer_encoder(embeds)\n",
    "        \n",
    "        print(out.shape)\n",
    "\n",
    "        out = self.fc(out)\n",
    "                \n",
    "        print(out.shape)\n",
    "\n",
    "        return out\n",
    "        \"\"\"\n",
    "    \n",
    "    def forward(self, src):\n",
    "        src = self.encoder(src) * math.sqrt(self.embedding_dim)\n",
    "        src = self.pos_encoder(src)\n",
    "        output = self.transformer_encoder(src)\n",
    "        output = output.view(output.size(0), -1)\n",
    "        output = self.sigmoid(self.fc(output))\n",
    "        return output"
   ]
  },
  {
   "cell_type": "code",
   "execution_count": 14,
   "id": "6fcc93f4",
   "metadata": {
    "execution": {
     "iopub.execute_input": "2021-11-26T12:04:22.146825Z",
     "iopub.status.busy": "2021-11-26T12:04:22.145900Z",
     "iopub.status.idle": "2021-11-26T12:04:22.148104Z",
     "shell.execute_reply": "2021-11-26T12:04:22.148654Z",
     "shell.execute_reply.started": "2021-11-26T11:46:26.486603Z"
    },
    "papermill": {
     "duration": 0.025407,
     "end_time": "2021-11-26T12:04:22.148829",
     "exception": false,
     "start_time": "2021-11-26T12:04:22.123422",
     "status": "completed"
    },
    "tags": []
   },
   "outputs": [],
   "source": [
    "def model_params(model):\n",
    "    pp=0\n",
    "    for p in list(model.parameters()):\n",
    "        nn=1\n",
    "        for s in list(p.size()):\n",
    "            nn = nn*s\n",
    "        pp += nn\n",
    "    return pp"
   ]
  },
  {
   "cell_type": "code",
   "execution_count": 15,
   "id": "9757e81b",
   "metadata": {
    "execution": {
     "iopub.execute_input": "2021-11-26T12:04:22.192526Z",
     "iopub.status.busy": "2021-11-26T12:04:22.191710Z",
     "iopub.status.idle": "2021-11-26T12:04:29.624484Z",
     "shell.execute_reply": "2021-11-26T12:04:29.625087Z",
     "shell.execute_reply.started": "2021-11-26T11:57:54.079151Z"
    },
    "papermill": {
     "duration": 7.457469,
     "end_time": "2021-11-26T12:04:29.625292",
     "exception": false,
     "start_time": "2021-11-26T12:04:22.167823",
     "status": "completed"
    },
    "tags": []
   },
   "outputs": [
    {
     "name": "stdout",
     "output_type": "stream",
     "text": [
      "2227717\n"
     ]
    }
   ],
   "source": [
    "import math\n",
    "\n",
    "output_size = 1\n",
    "embedding_dim = 10\n",
    "hidden_dim = 8\n",
    "n_layers = 2\n",
    "\n",
    "model = SentimentNet(vocab_size, output_size, embedding_dim, hidden_dim, n_layers)\n",
    "model.to(device)\n",
    "print(model_params(model))\n",
    "lr=0.008\n",
    "criterion = nn.BCELoss()\n",
    "optimizer = torch.optim.Adam(model.parameters(), lr=lr)"
   ]
  },
  {
   "cell_type": "code",
   "execution_count": 16,
   "id": "a0a8cbdb",
   "metadata": {
    "execution": {
     "iopub.execute_input": "2021-11-26T12:04:29.669979Z",
     "iopub.status.busy": "2021-11-26T12:04:29.669222Z",
     "iopub.status.idle": "2021-11-26T12:06:09.768660Z",
     "shell.execute_reply": "2021-11-26T12:06:09.768199Z",
     "shell.execute_reply.started": "2021-11-26T11:55:49.820496Z"
    },
    "papermill": {
     "duration": 100.126091,
     "end_time": "2021-11-26T12:06:09.768798",
     "exception": false,
     "start_time": "2021-11-26T12:04:29.642707",
     "status": "completed"
    },
    "tags": []
   },
   "outputs": [
    {
     "name": "stdout",
     "output_type": "stream",
     "text": [
      "Epoch: 1/10... Step: 100... Loss: 0.692220... Val Loss: 0.700693\n",
      "Validation loss decreased (inf --> 0.700693).  Saving model ...\n",
      "Epoch: 1/10... Step: 200... Loss: 0.690510... Val Loss: 0.695110\n",
      "Validation loss decreased (0.700693 --> 0.695110).  Saving model ...\n",
      "Epoch: 1/10... Step: 300... Loss: 0.699527... Val Loss: 0.693395\n",
      "Validation loss decreased (0.695110 --> 0.693395).  Saving model ...\n",
      "Epoch: 1/10... Step: 400... Loss: 0.691244... Val Loss: 0.687819\n",
      "Validation loss decreased (0.693395 --> 0.687819).  Saving model ...\n",
      "Epoch: 1/10... Step: 500... Loss: 0.652454... Val Loss: 0.654599\n",
      "Validation loss decreased (0.687819 --> 0.654599).  Saving model ...\n",
      "Epoch: 1/10... Step: 600... Loss: 0.590635... Val Loss: 0.604767\n",
      "Validation loss decreased (0.654599 --> 0.604767).  Saving model ...\n",
      "Epoch: 1/10... Step: 700... Loss: 0.641412... Val Loss: 0.563216\n",
      "Validation loss decreased (0.604767 --> 0.563216).  Saving model ...\n",
      "Epoch: 1/10... Step: 800... Loss: 0.497745... Val Loss: 0.533372\n",
      "Validation loss decreased (0.563216 --> 0.533372).  Saving model ...\n",
      "Epoch: 2/10... Step: 900... Loss: 0.470963... Val Loss: 0.510059\n",
      "Validation loss decreased (0.533372 --> 0.510059).  Saving model ...\n",
      "Epoch: 2/10... Step: 1000... Loss: 0.494387... Val Loss: 0.484298\n",
      "Validation loss decreased (0.510059 --> 0.484298).  Saving model ...\n",
      "Epoch: 2/10... Step: 1100... Loss: 0.484450... Val Loss: 0.464312\n",
      "Validation loss decreased (0.484298 --> 0.464312).  Saving model ...\n",
      "Epoch: 2/10... Step: 1200... Loss: 0.520868... Val Loss: 0.459922\n",
      "Validation loss decreased (0.464312 --> 0.459922).  Saving model ...\n",
      "Epoch: 2/10... Step: 1300... Loss: 0.583664... Val Loss: 0.441143\n",
      "Validation loss decreased (0.459922 --> 0.441143).  Saving model ...\n",
      "Epoch: 2/10... Step: 1400... Loss: 0.447653... Val Loss: 0.436570\n",
      "Validation loss decreased (0.441143 --> 0.436570).  Saving model ...\n",
      "Epoch: 2/10... Step: 1500... Loss: 0.417523... Val Loss: 0.420091\n",
      "Validation loss decreased (0.436570 --> 0.420091).  Saving model ...\n",
      "Epoch: 2/10... Step: 1600... Loss: 0.457527... Val Loss: 0.415772\n",
      "Validation loss decreased (0.420091 --> 0.415772).  Saving model ...\n",
      "Epoch: 3/10... Step: 1700... Loss: 0.542629... Val Loss: 0.414839\n",
      "Validation loss decreased (0.415772 --> 0.414839).  Saving model ...\n",
      "Epoch: 3/10... Step: 1800... Loss: 0.321062... Val Loss: 0.408355\n",
      "Validation loss decreased (0.414839 --> 0.408355).  Saving model ...\n",
      "Epoch: 3/10... Step: 1900... Loss: 0.378389... Val Loss: 0.403040\n",
      "Validation loss decreased (0.408355 --> 0.403040).  Saving model ...\n",
      "Epoch: 3/10... Step: 2000... Loss: 0.397483... Val Loss: 0.398335\n",
      "Validation loss decreased (0.403040 --> 0.398335).  Saving model ...\n",
      "Epoch: 3/10... Step: 2100... Loss: 0.430096... Val Loss: 0.395328\n",
      "Validation loss decreased (0.398335 --> 0.395328).  Saving model ...\n",
      "Epoch: 3/10... Step: 2200... Loss: 0.385366... Val Loss: 0.400336\n",
      "Epoch: 3/10... Step: 2300... Loss: 0.390300... Val Loss: 0.390539\n",
      "Validation loss decreased (0.395328 --> 0.390539).  Saving model ...\n",
      "Epoch: 3/10... Step: 2400... Loss: 0.458552... Val Loss: 0.406018\n",
      "Epoch: 4/10... Step: 2500... Loss: 0.473813... Val Loss: 0.388974\n",
      "Validation loss decreased (0.390539 --> 0.388974).  Saving model ...\n",
      "Epoch: 4/10... Step: 2600... Loss: 0.323840... Val Loss: 0.395545\n",
      "Epoch: 4/10... Step: 2700... Loss: 0.406389... Val Loss: 0.391926\n",
      "Epoch: 4/10... Step: 2800... Loss: 0.340352... Val Loss: 0.383363\n",
      "Validation loss decreased (0.388974 --> 0.383363).  Saving model ...\n",
      "Epoch: 4/10... Step: 2900... Loss: 0.292616... Val Loss: 0.388706\n",
      "Epoch: 4/10... Step: 3000... Loss: 0.337006... Val Loss: 0.386944\n",
      "Epoch: 4/10... Step: 3100... Loss: 0.414566... Val Loss: 0.415610\n",
      "Epoch: 4/10... Step: 3200... Loss: 0.338049... Val Loss: 0.383915\n",
      "Epoch: 5/10... Step: 3300... Loss: 0.330940... Val Loss: 0.395707\n",
      "Epoch: 5/10... Step: 3400... Loss: 0.248121... Val Loss: 0.381429\n",
      "Validation loss decreased (0.383363 --> 0.381429).  Saving model ...\n",
      "Epoch: 5/10... Step: 3500... Loss: 0.428394... Val Loss: 0.381274\n",
      "Validation loss decreased (0.381429 --> 0.381274).  Saving model ...\n",
      "Epoch: 5/10... Step: 3600... Loss: 0.227715... Val Loss: 0.406607\n",
      "Epoch: 5/10... Step: 3700... Loss: 0.272972... Val Loss: 0.381987\n",
      "Epoch: 5/10... Step: 3800... Loss: 0.346672... Val Loss: 0.396055\n",
      "Epoch: 5/10... Step: 3900... Loss: 0.336084... Val Loss: 0.399823\n",
      "Epoch: 5/10... Step: 4000... Loss: 0.229381... Val Loss: 0.380903\n",
      "Validation loss decreased (0.381274 --> 0.380903).  Saving model ...\n",
      "Epoch: 6/10... Step: 4100... Loss: 0.492658... Val Loss: 0.406639\n",
      "Epoch: 6/10... Step: 4200... Loss: 0.372443... Val Loss: 0.406528\n",
      "Epoch: 6/10... Step: 4300... Loss: 0.291697... Val Loss: 0.388921\n",
      "Epoch: 6/10... Step: 4400... Loss: 0.378052... Val Loss: 0.395389\n",
      "Epoch: 6/10... Step: 4500... Loss: 0.326848... Val Loss: 0.383146\n",
      "Epoch: 6/10... Step: 4600... Loss: 0.275515... Val Loss: 0.379154\n",
      "Validation loss decreased (0.380903 --> 0.379154).  Saving model ...\n",
      "Epoch: 6/10... Step: 4700... Loss: 0.362469... Val Loss: 0.401712\n",
      "Epoch: 6/10... Step: 4800... Loss: 0.339155... Val Loss: 0.389407\n",
      "Epoch: 7/10... Step: 4900... Loss: 0.361839... Val Loss: 0.395409\n",
      "Epoch: 7/10... Step: 5000... Loss: 0.502501... Val Loss: 0.409694\n",
      "Epoch: 7/10... Step: 5100... Loss: 0.275142... Val Loss: 0.392677\n",
      "Epoch: 7/10... Step: 5200... Loss: 0.318179... Val Loss: 0.393836\n",
      "Epoch: 7/10... Step: 5300... Loss: 0.467533... Val Loss: 0.410481\n",
      "Epoch: 7/10... Step: 5400... Loss: 0.240721... Val Loss: 0.392671\n",
      "Epoch: 7/10... Step: 5500... Loss: 0.434136... Val Loss: 0.456417\n",
      "Epoch: 7/10... Step: 5600... Loss: 0.290676... Val Loss: 0.384372\n",
      "Epoch: 8/10... Step: 5700... Loss: 0.340679... Val Loss: 0.412491\n",
      "Epoch: 8/10... Step: 5800... Loss: 0.550918... Val Loss: 0.415630\n",
      "Epoch: 8/10... Step: 5900... Loss: 0.219176... Val Loss: 0.415517\n",
      "Epoch: 8/10... Step: 6000... Loss: 0.403395... Val Loss: 0.400078\n",
      "Epoch: 8/10... Step: 6100... Loss: 0.225309... Val Loss: 0.398569\n",
      "Epoch: 8/10... Step: 6200... Loss: 0.180268... Val Loss: 0.416546\n",
      "Epoch: 8/10... Step: 6300... Loss: 0.308120... Val Loss: 0.402848\n",
      "Epoch: 8/10... Step: 6400... Loss: 0.347807... Val Loss: 0.389706\n",
      "Epoch: 9/10... Step: 6500... Loss: 0.321128... Val Loss: 0.428453\n",
      "Epoch: 9/10... Step: 6600... Loss: 0.303623... Val Loss: 0.409178\n",
      "Epoch: 9/10... Step: 6700... Loss: 0.222115... Val Loss: 0.413394\n",
      "Epoch: 9/10... Step: 6800... Loss: 0.190278... Val Loss: 0.404915\n",
      "Epoch: 9/10... Step: 6900... Loss: 0.341631... Val Loss: 0.423600\n",
      "Epoch: 9/10... Step: 7000... Loss: 0.313225... Val Loss: 0.401181\n",
      "Epoch: 9/10... Step: 7100... Loss: 0.229635... Val Loss: 0.404450\n",
      "Epoch: 9/10... Step: 7200... Loss: 0.374427... Val Loss: 0.417662\n",
      "Epoch: 10/10... Step: 7300... Loss: 0.234278... Val Loss: 0.444448\n",
      "Epoch: 10/10... Step: 7400... Loss: 0.235179... Val Loss: 0.430058\n",
      "Epoch: 10/10... Step: 7500... Loss: 0.336685... Val Loss: 0.471226\n",
      "Epoch: 10/10... Step: 7600... Loss: 0.247427... Val Loss: 0.429249\n",
      "Epoch: 10/10... Step: 7700... Loss: 0.258118... Val Loss: 0.430207\n",
      "Epoch: 10/10... Step: 7800... Loss: 0.240811... Val Loss: 0.412789\n",
      "Epoch: 10/10... Step: 7900... Loss: 0.420169... Val Loss: 0.415390\n",
      "Epoch: 10/10... Step: 8000... Loss: 0.480884... Val Loss: 0.413701\n"
     ]
    }
   ],
   "source": [
    "epochs = 10\n",
    "counter = 0\n",
    "print_every = 100\n",
    "clip = 5\n",
    "valid_loss_min = np.Inf\n",
    "\n",
    "model.train()\n",
    "for i in range(epochs):\n",
    "    \n",
    "    for inputs, labels in train_loader:\n",
    "        counter += 1\n",
    "        inputs, labels = inputs.to(device), labels.to(device)\n",
    "        model.zero_grad()\n",
    "        output = model(inputs.long())\n",
    "        \n",
    "        loss = criterion(output, labels.float())\n",
    "        \n",
    "        \n",
    "        loss.backward()\n",
    "        #nn.utils.clip_grad_norm_(model.parameters(), clip)\n",
    "        optimizer.step()\n",
    "        \n",
    "        if counter%print_every == 0:\n",
    "            val_losses = []\n",
    "            model.eval()\n",
    "            for inp, lab in test_loader:\n",
    "                inp, lab = inp.to(device), lab.to(device)\n",
    "                out = model(inp.long())\n",
    "                val_loss = criterion(out, lab.float())\n",
    "                val_losses.append(val_loss.item())\n",
    "                \n",
    "            model.train()\n",
    "            print(\"Epoch: {}/{}...\".format(i+1, epochs),\n",
    "                  \"Step: {}...\".format(counter),\n",
    "                  \"Loss: {:.6f}...\".format(loss.item()),\n",
    "                  \"Val Loss: {:.6f}\".format(np.mean(val_losses)))\n",
    "            if np.mean(val_losses) <= valid_loss_min:\n",
    "                torch.save(model.state_dict(), './state_dict.pt')\n",
    "                print('Validation loss decreased ({:.6f} --> {:.6f}).  Saving model ...'.format(valid_loss_min,np.mean(val_losses)))\n",
    "                valid_loss_min = np.mean(val_losses)"
   ]
  },
  {
   "cell_type": "code",
   "execution_count": 17,
   "id": "fddae5ee",
   "metadata": {
    "execution": {
     "iopub.execute_input": "2021-11-26T12:06:09.847428Z",
     "iopub.status.busy": "2021-11-26T12:06:09.846586Z",
     "iopub.status.idle": "2021-11-26T12:06:09.877959Z",
     "shell.execute_reply": "2021-11-26T12:06:09.877534Z",
     "shell.execute_reply.started": "2021-11-26T11:54:27.172539Z"
    },
    "papermill": {
     "duration": 0.072762,
     "end_time": "2021-11-26T12:06:09.878071",
     "exception": false,
     "start_time": "2021-11-26T12:06:09.805309",
     "status": "completed"
    },
    "tags": []
   },
   "outputs": [
    {
     "data": {
      "text/plain": [
       "tensor([[0.4655]], device='cuda:0', grad_fn=<SigmoidBackward>)"
      ]
     },
     "execution_count": 17,
     "metadata": {},
     "output_type": "execute_result"
    }
   ],
   "source": [
    "sentence = \"I love you\"\n",
    "trial = torch.tensor(pad_sequences(tokenizer.texts_to_sequences([sentence]), maxlen = maxlen)).long().to(device)\n",
    "\n",
    "model(trial)"
   ]
  },
  {
   "cell_type": "code",
   "execution_count": 18,
   "id": "ae3ca47d",
   "metadata": {
    "execution": {
     "iopub.execute_input": "2021-11-26T12:06:09.958298Z",
     "iopub.status.busy": "2021-11-26T12:06:09.957794Z",
     "iopub.status.idle": "2021-11-26T12:06:10.299998Z",
     "shell.execute_reply": "2021-11-26T12:06:10.299473Z",
     "shell.execute_reply.started": "2021-11-26T11:54:27.174417Z"
    },
    "papermill": {
     "duration": 0.382873,
     "end_time": "2021-11-26T12:06:10.300132",
     "exception": false,
     "start_time": "2021-11-26T12:06:09.917259",
     "status": "completed"
    },
    "tags": []
   },
   "outputs": [
    {
     "name": "stderr",
     "output_type": "stream",
     "text": [
      "/opt/conda/lib/python3.7/site-packages/ipykernel_launcher.py:16: TracerWarning: Converting a tensor to a Python index might cause the trace to be incorrect. We can't record the data flow of Python values, so this value will be treated as a constant in the future. This means that the trace might not generalize to other inputs!\n",
      "  app.launch_new_instance()\n"
     ]
    }
   ],
   "source": [
    "import torch.onnx\n",
    "torch.onnx.export(model,               # model being run\n",
    "                  trial,                  # model input (or a tuple for multiple inputs)\n",
    "                  \"transformer-imdb.onnx\", opset_version = 11)"
   ]
  }
 ],
 "metadata": {
  "kernelspec": {
   "display_name": "Python 3",
   "language": "python",
   "name": "python3"
  },
  "language_info": {
   "codemirror_mode": {
    "name": "ipython",
    "version": 3
   },
   "file_extension": ".py",
   "mimetype": "text/x-python",
   "name": "python",
   "nbconvert_exporter": "python",
   "pygments_lexer": "ipython3",
   "version": "3.7.10"
  },
  "papermill": {
   "default_parameters": {},
   "duration": 150.662466,
   "end_time": "2021-11-26T12:06:13.833468",
   "environment_variables": {},
   "exception": null,
   "input_path": "__notebook__.ipynb",
   "output_path": "__notebook__.ipynb",
   "parameters": {},
   "start_time": "2021-11-26T12:03:43.171002",
   "version": "2.3.3"
  }
 },
 "nbformat": 4,
 "nbformat_minor": 5
}
