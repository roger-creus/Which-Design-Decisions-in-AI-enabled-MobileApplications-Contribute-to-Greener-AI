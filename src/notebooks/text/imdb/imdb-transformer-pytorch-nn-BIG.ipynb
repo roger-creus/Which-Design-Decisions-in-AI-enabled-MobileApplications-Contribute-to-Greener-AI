{
 "cells": [
  {
   "cell_type": "markdown",
   "id": "ac950a12",
   "metadata": {
    "papermill": {
     "duration": 0.015692,
     "end_time": "2021-11-26T12:08:42.882789",
     "exception": false,
     "start_time": "2021-11-26T12:08:42.867097",
     "status": "completed"
    },
    "tags": []
   },
   "source": [
    "# Sentiment Analysis using LSTM"
   ]
  },
  {
   "cell_type": "code",
   "execution_count": 1,
   "id": "b93a889c",
   "metadata": {
    "execution": {
     "iopub.execute_input": "2021-11-26T12:08:42.917128Z",
     "iopub.status.busy": "2021-11-26T12:08:42.915660Z",
     "iopub.status.idle": "2021-11-26T12:08:52.823316Z",
     "shell.execute_reply": "2021-11-26T12:08:52.823817Z",
     "shell.execute_reply.started": "2021-11-26T11:46:05.391441Z"
    },
    "papermill": {
     "duration": 9.926546,
     "end_time": "2021-11-26T12:08:52.824098",
     "exception": false,
     "start_time": "2021-11-26T12:08:42.897552",
     "status": "completed"
    },
    "tags": []
   },
   "outputs": [
    {
     "name": "stderr",
     "output_type": "stream",
     "text": [
      "2021-11-26 12:08:49.295294: I tensorflow/stream_executor/platform/default/dso_loader.cc:49] Successfully opened dynamic library libcudart.so.11.0\n"
     ]
    }
   ],
   "source": [
    "import numpy as np\n",
    "import pandas as pd\n",
    "from torch import nn\n",
    "\n",
    "import matplotlib.pyplot as plt\n",
    "import seaborn as sns\n",
    "\n",
    "import torch.nn.functional as F\n",
    "\n",
    "import re\n",
    "import string\n",
    "from collections import Counter\n",
    "from nltk.corpus import stopwords\n",
    "stop_words = set(stopwords.words('english'))\n",
    "\n",
    "from sklearn.model_selection import train_test_split\n",
    "\n",
    "import torch\n",
    "from torch.utils.data import DataLoader, TensorDataset\n",
    "import torch.nn as nn\n",
    "\n",
    "import pandas as pd\n",
    "import numpy as np\n",
    "import bz2\n",
    "import matplotlib.pyplot as plt\n",
    "import sklearn\n",
    "import tensorflow as tf\n",
    "from tensorflow.keras import models, layers, optimizers\n",
    "from tensorflow.keras.preprocessing.text import Tokenizer, text_to_word_sequence\n",
    "from tensorflow.keras.preprocessing.sequence import pad_sequences\n",
    "from sklearn.preprocessing import LabelEncoder\n",
    "\n",
    "%matplotlib inline"
   ]
  },
  {
   "cell_type": "code",
   "execution_count": 2,
   "id": "1148c141",
   "metadata": {
    "execution": {
     "iopub.execute_input": "2021-11-26T12:08:52.858338Z",
     "iopub.status.busy": "2021-11-26T12:08:52.857577Z",
     "iopub.status.idle": "2021-11-26T12:08:52.859980Z",
     "shell.execute_reply": "2021-11-26T12:08:52.859553Z",
     "shell.execute_reply.started": "2021-11-26T11:46:05.409146Z"
    },
    "papermill": {
     "duration": 0.020719,
     "end_time": "2021-11-26T12:08:52.860089",
     "exception": false,
     "start_time": "2021-11-26T12:08:52.839370",
     "status": "completed"
    },
    "tags": []
   },
   "outputs": [],
   "source": [
    "device = \"cuda:0\""
   ]
  },
  {
   "cell_type": "markdown",
   "id": "4f7b4e1a",
   "metadata": {
    "papermill": {
     "duration": 0.014198,
     "end_time": "2021-11-26T12:08:52.888866",
     "exception": false,
     "start_time": "2021-11-26T12:08:52.874668",
     "status": "completed"
    },
    "tags": []
   },
   "source": [
    "## 1) Load in and visualize the data"
   ]
  },
  {
   "cell_type": "code",
   "execution_count": 3,
   "id": "57ffc7e0",
   "metadata": {
    "execution": {
     "iopub.execute_input": "2021-11-26T12:08:52.921725Z",
     "iopub.status.busy": "2021-11-26T12:08:52.921236Z",
     "iopub.status.idle": "2021-11-26T12:08:54.343768Z",
     "shell.execute_reply": "2021-11-26T12:08:54.344263Z",
     "shell.execute_reply.started": "2021-11-26T11:46:05.422503Z"
    },
    "papermill": {
     "duration": 1.441202,
     "end_time": "2021-11-26T12:08:54.344422",
     "exception": false,
     "start_time": "2021-11-26T12:08:52.903220",
     "status": "completed"
    },
    "tags": []
   },
   "outputs": [
    {
     "data": {
      "text/html": [
       "<div>\n",
       "<style scoped>\n",
       "    .dataframe tbody tr th:only-of-type {\n",
       "        vertical-align: middle;\n",
       "    }\n",
       "\n",
       "    .dataframe tbody tr th {\n",
       "        vertical-align: top;\n",
       "    }\n",
       "\n",
       "    .dataframe thead th {\n",
       "        text-align: right;\n",
       "    }\n",
       "</style>\n",
       "<table border=\"1\" class=\"dataframe\">\n",
       "  <thead>\n",
       "    <tr style=\"text-align: right;\">\n",
       "      <th></th>\n",
       "      <th>review</th>\n",
       "      <th>sentiment</th>\n",
       "    </tr>\n",
       "  </thead>\n",
       "  <tbody>\n",
       "    <tr>\n",
       "      <th>0</th>\n",
       "      <td>One of the other reviewers has mentioned that ...</td>\n",
       "      <td>positive</td>\n",
       "    </tr>\n",
       "    <tr>\n",
       "      <th>1</th>\n",
       "      <td>A wonderful little production. &lt;br /&gt;&lt;br /&gt;The...</td>\n",
       "      <td>positive</td>\n",
       "    </tr>\n",
       "    <tr>\n",
       "      <th>2</th>\n",
       "      <td>I thought this was a wonderful way to spend ti...</td>\n",
       "      <td>positive</td>\n",
       "    </tr>\n",
       "    <tr>\n",
       "      <th>3</th>\n",
       "      <td>Basically there's a family where a little boy ...</td>\n",
       "      <td>negative</td>\n",
       "    </tr>\n",
       "    <tr>\n",
       "      <th>4</th>\n",
       "      <td>Petter Mattei's \"Love in the Time of Money\" is...</td>\n",
       "      <td>positive</td>\n",
       "    </tr>\n",
       "  </tbody>\n",
       "</table>\n",
       "</div>"
      ],
      "text/plain": [
       "                                              review sentiment\n",
       "0  One of the other reviewers has mentioned that ...  positive\n",
       "1  A wonderful little production. <br /><br />The...  positive\n",
       "2  I thought this was a wonderful way to spend ti...  positive\n",
       "3  Basically there's a family where a little boy ...  negative\n",
       "4  Petter Mattei's \"Love in the Time of Money\" is...  positive"
      ]
     },
     "execution_count": 3,
     "metadata": {},
     "output_type": "execute_result"
    }
   ],
   "source": [
    "df = pd.read_csv('../input/imdb-dataset-of-50k-movie-reviews/IMDB Dataset.csv')\n",
    "df.head()"
   ]
  },
  {
   "cell_type": "markdown",
   "id": "07575f68",
   "metadata": {
    "papermill": {
     "duration": 0.015172,
     "end_time": "2021-11-26T12:08:54.376509",
     "exception": false,
     "start_time": "2021-11-26T12:08:54.361337",
     "status": "completed"
    },
    "tags": []
   },
   "source": [
    "## 2) Data Processing — convert to lower case, Remove punctuation etc"
   ]
  },
  {
   "cell_type": "code",
   "execution_count": 4,
   "id": "edeb4dbb",
   "metadata": {
    "execution": {
     "iopub.execute_input": "2021-11-26T12:08:54.416745Z",
     "iopub.status.busy": "2021-11-26T12:08:54.416245Z",
     "iopub.status.idle": "2021-11-26T12:09:03.914533Z",
     "shell.execute_reply": "2021-11-26T12:09:03.915092Z",
     "shell.execute_reply.started": "2021-11-26T11:46:05.957734Z"
    },
    "papermill": {
     "duration": 9.521563,
     "end_time": "2021-11-26T12:09:03.915255",
     "exception": false,
     "start_time": "2021-11-26T12:08:54.393692",
     "status": "completed"
    },
    "tags": []
   },
   "outputs": [
    {
     "data": {
      "text/html": [
       "<div>\n",
       "<style scoped>\n",
       "    .dataframe tbody tr th:only-of-type {\n",
       "        vertical-align: middle;\n",
       "    }\n",
       "\n",
       "    .dataframe tbody tr th {\n",
       "        vertical-align: top;\n",
       "    }\n",
       "\n",
       "    .dataframe thead th {\n",
       "        text-align: right;\n",
       "    }\n",
       "</style>\n",
       "<table border=\"1\" class=\"dataframe\">\n",
       "  <thead>\n",
       "    <tr style=\"text-align: right;\">\n",
       "      <th></th>\n",
       "      <th>review</th>\n",
       "      <th>sentiment</th>\n",
       "      <th>cleaned_reviews</th>\n",
       "    </tr>\n",
       "  </thead>\n",
       "  <tbody>\n",
       "    <tr>\n",
       "      <th>0</th>\n",
       "      <td>One of the other reviewers has mentioned that ...</td>\n",
       "      <td>positive</td>\n",
       "      <td>one reviewers mentioned watching 1 oz episode ...</td>\n",
       "    </tr>\n",
       "    <tr>\n",
       "      <th>1</th>\n",
       "      <td>A wonderful little production. &lt;br /&gt;&lt;br /&gt;The...</td>\n",
       "      <td>positive</td>\n",
       "      <td>wonderful little production filming technique ...</td>\n",
       "    </tr>\n",
       "    <tr>\n",
       "      <th>2</th>\n",
       "      <td>I thought this was a wonderful way to spend ti...</td>\n",
       "      <td>positive</td>\n",
       "      <td>thought wonderful way spend time hot summer we...</td>\n",
       "    </tr>\n",
       "    <tr>\n",
       "      <th>3</th>\n",
       "      <td>Basically there's a family where a little boy ...</td>\n",
       "      <td>negative</td>\n",
       "      <td>basically theres family little boy jake thinks...</td>\n",
       "    </tr>\n",
       "    <tr>\n",
       "      <th>4</th>\n",
       "      <td>Petter Mattei's \"Love in the Time of Money\" is...</td>\n",
       "      <td>positive</td>\n",
       "      <td>petter matteis love time money visually stunni...</td>\n",
       "    </tr>\n",
       "  </tbody>\n",
       "</table>\n",
       "</div>"
      ],
      "text/plain": [
       "                                              review sentiment  \\\n",
       "0  One of the other reviewers has mentioned that ...  positive   \n",
       "1  A wonderful little production. <br /><br />The...  positive   \n",
       "2  I thought this was a wonderful way to spend ti...  positive   \n",
       "3  Basically there's a family where a little boy ...  negative   \n",
       "4  Petter Mattei's \"Love in the Time of Money\" is...  positive   \n",
       "\n",
       "                                     cleaned_reviews  \n",
       "0  one reviewers mentioned watching 1 oz episode ...  \n",
       "1  wonderful little production filming technique ...  \n",
       "2  thought wonderful way spend time hot summer we...  \n",
       "3  basically theres family little boy jake thinks...  \n",
       "4  petter matteis love time money visually stunni...  "
      ]
     },
     "execution_count": 4,
     "metadata": {},
     "output_type": "execute_result"
    }
   ],
   "source": [
    "def data_preprocessing(text):\n",
    "    text = text.lower()\n",
    "    text = re.sub('<.*?>', '', text) # Remove HTML from text\n",
    "    text = ''.join([c for c in text if c not in string.punctuation])# Remove punctuation\n",
    "    text = [word for word in text.split() if word not in stop_words]\n",
    "    text = ' '.join(text)\n",
    "    return text\n",
    "\n",
    "df['cleaned_reviews'] = df['review'].apply(data_preprocessing)\n",
    "df.head()"
   ]
  },
  {
   "cell_type": "markdown",
   "id": "4d49ea22",
   "metadata": {
    "papermill": {
     "duration": 0.016335,
     "end_time": "2021-11-26T12:09:03.947237",
     "exception": false,
     "start_time": "2021-11-26T12:09:03.930902",
     "status": "completed"
    },
    "tags": []
   },
   "source": [
    "## 5) Tokenize — Create Vocab to Int mapping dictionary\n",
    "In most of the NLP tasks, you will create an index mapping dictionary in such a way that your frequently occurring words are assigned lower indexes. One of the most common way of doing this is to use Counter method from Collections library."
   ]
  },
  {
   "cell_type": "code",
   "execution_count": 5,
   "id": "ab60ac40",
   "metadata": {
    "execution": {
     "iopub.execute_input": "2021-11-26T12:09:04.017509Z",
     "iopub.status.busy": "2021-11-26T12:09:04.001816Z",
     "iopub.status.idle": "2021-11-26T12:09:09.880439Z",
     "shell.execute_reply": "2021-11-26T12:09:09.879579Z",
     "shell.execute_reply.started": "2021-11-26T11:46:15.690609Z"
    },
    "papermill": {
     "duration": 5.917389,
     "end_time": "2021-11-26T12:09:09.880590",
     "exception": false,
     "start_time": "2021-11-26T12:09:03.963201",
     "status": "completed"
    },
    "tags": []
   },
   "outputs": [
    {
     "name": "stdout",
     "output_type": "stream",
     "text": [
      "Vocabulary Size : 222610\n"
     ]
    }
   ],
   "source": [
    "max_features = 8192\n",
    "maxlen = 30\n",
    "\n",
    "tokenizer = Tokenizer(num_words=max_features)\n",
    "tokenizer.fit_on_texts(df['cleaned_reviews'])\n",
    "\n",
    "word_index = tokenizer.word_index\n",
    "vocab_size = len(tokenizer.word_index) + 1\n",
    "print(\"Vocabulary Size :\", vocab_size)"
   ]
  },
  {
   "cell_type": "code",
   "execution_count": 6,
   "id": "f7b06b24",
   "metadata": {
    "execution": {
     "iopub.execute_input": "2021-11-26T12:09:09.991570Z",
     "iopub.status.busy": "2021-11-26T12:09:09.955727Z",
     "iopub.status.idle": "2021-11-26T12:09:14.516319Z",
     "shell.execute_reply": "2021-11-26T12:09:14.515686Z",
     "shell.execute_reply.started": "2021-11-26T11:46:21.828166Z"
    },
    "papermill": {
     "duration": 4.619772,
     "end_time": "2021-11-26T12:09:14.516456",
     "exception": false,
     "start_time": "2021-11-26T12:09:09.896684",
     "status": "completed"
    },
    "tags": []
   },
   "outputs": [],
   "source": [
    "training_token = tokenizer.texts_to_sequences(df['cleaned_reviews'])\n",
    "x_data = pad_sequences(training_token, maxlen = maxlen, padding = 'post')"
   ]
  },
  {
   "cell_type": "code",
   "execution_count": 7,
   "id": "79086840",
   "metadata": {
    "execution": {
     "iopub.execute_input": "2021-11-26T12:09:14.553317Z",
     "iopub.status.busy": "2021-11-26T12:09:14.552583Z",
     "iopub.status.idle": "2021-11-26T12:09:14.583017Z",
     "shell.execute_reply": "2021-11-26T12:09:14.582539Z",
     "shell.execute_reply.started": "2021-11-26T11:46:26.370519Z"
    },
    "papermill": {
     "duration": 0.050858,
     "end_time": "2021-11-26T12:09:14.583135",
     "exception": false,
     "start_time": "2021-11-26T12:09:14.532277",
     "status": "completed"
    },
    "tags": []
   },
   "outputs": [],
   "source": [
    "y_data = df['sentiment'].apply(lambda x: 1 if x == 'positive' else 0)"
   ]
  },
  {
   "cell_type": "code",
   "execution_count": 8,
   "id": "58b2f833",
   "metadata": {
    "execution": {
     "iopub.execute_input": "2021-11-26T12:09:14.621064Z",
     "iopub.status.busy": "2021-11-26T12:09:14.618368Z",
     "iopub.status.idle": "2021-11-26T12:09:14.633117Z",
     "shell.execute_reply": "2021-11-26T12:09:14.632683Z",
     "shell.execute_reply.started": "2021-11-26T11:46:26.405302Z"
    },
    "papermill": {
     "duration": 0.034346,
     "end_time": "2021-11-26T12:09:14.633230",
     "exception": false,
     "start_time": "2021-11-26T12:09:14.598884",
     "status": "completed"
    },
    "tags": []
   },
   "outputs": [],
   "source": [
    "X_train, X_remain, y_train, y_remain = train_test_split(x_data, y_data, test_size=0.2, random_state=1)\n",
    "X_valid, X_test, y_valid, y_test = train_test_split(X_remain, y_remain, test_size=0.5, random_state=1)"
   ]
  },
  {
   "cell_type": "code",
   "execution_count": 9,
   "id": "cf16b449",
   "metadata": {
    "execution": {
     "iopub.execute_input": "2021-11-26T12:09:14.668676Z",
     "iopub.status.busy": "2021-11-26T12:09:14.667961Z",
     "iopub.status.idle": "2021-11-26T12:09:14.670324Z",
     "shell.execute_reply": "2021-11-26T12:09:14.669929Z",
     "shell.execute_reply.started": "2021-11-26T11:46:26.422158Z"
    },
    "papermill": {
     "duration": 0.021606,
     "end_time": "2021-11-26T12:09:14.670427",
     "exception": false,
     "start_time": "2021-11-26T12:09:14.648821",
     "status": "completed"
    },
    "tags": []
   },
   "outputs": [],
   "source": [
    "y_train = y_train.to_numpy().reshape(-1,1)\n",
    "y_test = y_test.to_numpy().reshape(-1,1)"
   ]
  },
  {
   "cell_type": "code",
   "execution_count": 10,
   "id": "e7c30ab4",
   "metadata": {
    "execution": {
     "iopub.execute_input": "2021-11-26T12:09:14.708966Z",
     "iopub.status.busy": "2021-11-26T12:09:14.707933Z",
     "iopub.status.idle": "2021-11-26T12:09:14.726311Z",
     "shell.execute_reply": "2021-11-26T12:09:14.725773Z",
     "shell.execute_reply.started": "2021-11-26T11:46:26.428343Z"
    },
    "papermill": {
     "duration": 0.040148,
     "end_time": "2021-11-26T12:09:14.726419",
     "exception": false,
     "start_time": "2021-11-26T12:09:14.686271",
     "status": "completed"
    },
    "tags": []
   },
   "outputs": [],
   "source": [
    "# create tensor dataset\n",
    "train_data = TensorDataset(torch.from_numpy(X_train.astype('float64')), torch.from_numpy(np.array(y_train).astype('float64')))\n",
    "test_data = TensorDataset(torch.from_numpy(X_test), torch.from_numpy(np.array(y_test).astype('float64')))\n",
    "valid_data = TensorDataset(torch.from_numpy(X_valid), torch.from_numpy(np.array(y_valid).astype('float64')))\n",
    "\n",
    "# dataloaders\n",
    "batch_size = 50\n",
    "\n",
    "train_loader = DataLoader(train_data, shuffle=True, batch_size=batch_size)\n",
    "test_loader = DataLoader(test_data, shuffle=True, batch_size=batch_size)\n",
    "valid_loader = DataLoader(valid_data, shuffle=True, batch_size=batch_size)"
   ]
  },
  {
   "cell_type": "code",
   "execution_count": 11,
   "id": "0816b7d8",
   "metadata": {
    "execution": {
     "iopub.execute_input": "2021-11-26T12:09:14.764789Z",
     "iopub.status.busy": "2021-11-26T12:09:14.764225Z",
     "iopub.status.idle": "2021-11-26T12:09:14.845701Z",
     "shell.execute_reply": "2021-11-26T12:09:14.846204Z",
     "shell.execute_reply.started": "2021-11-26T11:46:26.444992Z"
    },
    "papermill": {
     "duration": 0.103728,
     "end_time": "2021-11-26T12:09:14.846354",
     "exception": false,
     "start_time": "2021-11-26T12:09:14.742626",
     "status": "completed"
    },
    "tags": []
   },
   "outputs": [
    {
     "name": "stdout",
     "output_type": "stream",
     "text": [
      "Sample input size:  torch.Size([50, 30])\n",
      "Sample input: \n",
      " tensor([[8.3600e+02, 1.0000e+00, 1.1200e+02,  ..., 4.5000e+01, 5.9000e+01,\n",
      "         2.9330e+03],\n",
      "        [2.0000e+00, 5.0780e+03, 5.8200e+02,  ..., 3.4300e+02, 1.4000e+01,\n",
      "         5.3000e+01],\n",
      "        [1.1400e+02, 2.1800e+02, 1.4190e+03,  ..., 2.4800e+02, 3.4750e+03,\n",
      "         1.2000e+01],\n",
      "        ...,\n",
      "        [1.0590e+03, 6.0870e+03, 2.1180e+03,  ..., 3.2500e+02, 3.9520e+03,\n",
      "         1.1300e+03],\n",
      "        [4.9000e+01, 1.1000e+01, 2.7100e+02,  ..., 1.9800e+03, 2.3700e+02,\n",
      "         3.2570e+03],\n",
      "        [5.6100e+02, 8.0500e+02, 3.1300e+02,  ..., 4.4000e+02, 1.0000e+01,\n",
      "         1.8030e+03]], dtype=torch.float64)\n",
      "Sample input: \n",
      " tensor([[0.],\n",
      "        [0.],\n",
      "        [0.],\n",
      "        [1.],\n",
      "        [0.],\n",
      "        [1.],\n",
      "        [0.],\n",
      "        [1.],\n",
      "        [1.],\n",
      "        [1.],\n",
      "        [0.],\n",
      "        [0.],\n",
      "        [1.],\n",
      "        [0.],\n",
      "        [1.],\n",
      "        [1.],\n",
      "        [0.],\n",
      "        [0.],\n",
      "        [0.],\n",
      "        [1.],\n",
      "        [0.],\n",
      "        [0.],\n",
      "        [1.],\n",
      "        [0.],\n",
      "        [0.],\n",
      "        [1.],\n",
      "        [0.],\n",
      "        [1.],\n",
      "        [0.],\n",
      "        [0.],\n",
      "        [1.],\n",
      "        [1.],\n",
      "        [1.],\n",
      "        [1.],\n",
      "        [1.],\n",
      "        [0.],\n",
      "        [0.],\n",
      "        [1.],\n",
      "        [0.],\n",
      "        [0.],\n",
      "        [0.],\n",
      "        [0.],\n",
      "        [0.],\n",
      "        [0.],\n",
      "        [0.],\n",
      "        [0.],\n",
      "        [1.],\n",
      "        [0.],\n",
      "        [0.],\n",
      "        [0.]], dtype=torch.float64)\n"
     ]
    }
   ],
   "source": [
    "# obtain one batch of training data\n",
    "dataiter = iter(train_loader)\n",
    "sample_x, sample_y = dataiter.next()\n",
    "\n",
    "print('Sample input size: ', sample_x.size()) # batch_size, seq_length\n",
    "print('Sample input: \\n', sample_x)\n",
    "print('Sample input: \\n', sample_y)"
   ]
  },
  {
   "cell_type": "code",
   "execution_count": 12,
   "id": "f2039572",
   "metadata": {
    "execution": {
     "iopub.execute_input": "2021-11-26T12:09:14.887328Z",
     "iopub.status.busy": "2021-11-26T12:09:14.886598Z",
     "iopub.status.idle": "2021-11-26T12:09:14.888998Z",
     "shell.execute_reply": "2021-11-26T12:09:14.888549Z",
     "shell.execute_reply.started": "2021-11-26T11:46:26.462967Z"
    },
    "papermill": {
     "duration": 0.026499,
     "end_time": "2021-11-26T12:09:14.889109",
     "exception": false,
     "start_time": "2021-11-26T12:09:14.862610",
     "status": "completed"
    },
    "tags": []
   },
   "outputs": [],
   "source": [
    "class PositionalEncoding(nn.Module):\n",
    "\n",
    "    def __init__(self, d_model, dropout=0.1, max_len=5000):\n",
    "        super(PositionalEncoding, self).__init__()\n",
    "        self.dropout = nn.Dropout(p=dropout)\n",
    "\n",
    "        pe = torch.zeros(max_len, d_model)\n",
    "        position = torch.arange(0, max_len, dtype=torch.float).unsqueeze(1)\n",
    "        div_term = torch.exp(torch.arange(0, d_model, 2).float() * (-math.log(10000.0) / d_model))\n",
    "        pe[:, 0::2] = torch.sin(position * div_term)\n",
    "        pe[:, 1::2] = torch.cos(position * div_term)\n",
    "        pe = pe.unsqueeze(0).transpose(0, 1)\n",
    "        self.register_buffer('pe', pe)\n",
    "\n",
    "    def forward(self, x):\n",
    "        x = x + self.pe[:x.size(0), :]\n",
    "        return self.dropout(x)"
   ]
  },
  {
   "cell_type": "code",
   "execution_count": 13,
   "id": "05afbf53",
   "metadata": {
    "execution": {
     "iopub.execute_input": "2021-11-26T12:09:14.931957Z",
     "iopub.status.busy": "2021-11-26T12:09:14.931211Z",
     "iopub.status.idle": "2021-11-26T12:09:14.933877Z",
     "shell.execute_reply": "2021-11-26T12:09:14.933448Z",
     "shell.execute_reply.started": "2021-11-26T11:55:38.852669Z"
    },
    "papermill": {
     "duration": 0.027826,
     "end_time": "2021-11-26T12:09:14.933986",
     "exception": false,
     "start_time": "2021-11-26T12:09:14.906160",
     "status": "completed"
    },
    "tags": []
   },
   "outputs": [],
   "source": [
    "class SentimentNet(nn.Module):\n",
    "    def __init__(self, vocab_size, output_size, embedding_dim, hidden_dim, n_layers, drop_prob=0.2):\n",
    "        super(SentimentNet, self).__init__()\n",
    "        self.output_size = output_size\n",
    "        self.n_layers = n_layers\n",
    "        self.hidden_dim = hidden_dim\n",
    "        self.dropout = nn.Dropout(drop_prob)\n",
    "        self.embedding_dim = embedding_dim\n",
    "        self.sigmoid = nn.Sigmoid()\n",
    "        \n",
    "        \n",
    "        self.encoder = nn.Embedding(vocab_size, embedding_dim)\n",
    "        self.pos_encoder = PositionalEncoding(embedding_dim, drop_prob)\n",
    "        encoder_layer = nn.TransformerEncoderLayer(embedding_dim, 2, hidden_dim)\n",
    "        self.transformer_encoder = nn.TransformerEncoder(encoder_layer, num_layers=n_layers)\n",
    "        \n",
    "\n",
    "        self.fc = nn.Linear(embedding_dim * 30 , 1)\n",
    "\n",
    "     \n",
    "    \"\"\"\n",
    "    def forward(self, x):\n",
    "        #print(x.shape)\n",
    "        if len(x) != 1:\n",
    "            batch_size = x.size(0)\n",
    "\n",
    "        x = x.long()\n",
    "        \n",
    "        embeds = self.embedding(x)\n",
    "        \n",
    "        print(embeds.shape)\n",
    "        \n",
    "        out = self.transformer_encoder(embeds)\n",
    "        \n",
    "        print(out.shape)\n",
    "\n",
    "        out = self.fc(out)\n",
    "                \n",
    "        print(out.shape)\n",
    "\n",
    "        return out\n",
    "        \"\"\"\n",
    "    \n",
    "    def forward(self, src):\n",
    "        src = self.encoder(src) * math.sqrt(self.embedding_dim)\n",
    "        src = self.pos_encoder(src)\n",
    "        output = self.transformer_encoder(src)\n",
    "        output = output.view(output.size(0), -1)\n",
    "        output = self.sigmoid(self.fc(output))\n",
    "        return output"
   ]
  },
  {
   "cell_type": "code",
   "execution_count": 14,
   "id": "685bbcc7",
   "metadata": {
    "execution": {
     "iopub.execute_input": "2021-11-26T12:09:14.972416Z",
     "iopub.status.busy": "2021-11-26T12:09:14.971571Z",
     "iopub.status.idle": "2021-11-26T12:09:14.973630Z",
     "shell.execute_reply": "2021-11-26T12:09:14.974191Z",
     "shell.execute_reply.started": "2021-11-26T11:46:26.486603Z"
    },
    "papermill": {
     "duration": 0.024137,
     "end_time": "2021-11-26T12:09:14.974342",
     "exception": false,
     "start_time": "2021-11-26T12:09:14.950205",
     "status": "completed"
    },
    "tags": []
   },
   "outputs": [],
   "source": [
    "def model_params(model):\n",
    "    pp=0\n",
    "    for p in list(model.parameters()):\n",
    "        nn=1\n",
    "        for s in list(p.size()):\n",
    "            nn = nn*s\n",
    "        pp += nn\n",
    "    return pp"
   ]
  },
  {
   "cell_type": "code",
   "execution_count": 15,
   "id": "0db10a8a",
   "metadata": {
    "execution": {
     "iopub.execute_input": "2021-11-26T12:09:15.016254Z",
     "iopub.status.busy": "2021-11-26T12:09:15.015472Z",
     "iopub.status.idle": "2021-11-26T12:09:22.679723Z",
     "shell.execute_reply": "2021-11-26T12:09:22.680305Z",
     "shell.execute_reply.started": "2021-11-26T11:57:54.079151Z"
    },
    "papermill": {
     "duration": 7.688585,
     "end_time": "2021-11-26T12:09:22.680464",
     "exception": false,
     "start_time": "2021-11-26T12:09:14.991879",
     "status": "completed"
    },
    "tags": []
   },
   "outputs": [
    {
     "name": "stdout",
     "output_type": "stream",
     "text": [
      "2235697\n"
     ]
    }
   ],
   "source": [
    "import math\n",
    "\n",
    "output_size = 1\n",
    "embedding_dim = 10\n",
    "hidden_dim = 32\n",
    "n_layers = 8\n",
    "\n",
    "model = SentimentNet(vocab_size, output_size, embedding_dim, hidden_dim, n_layers)\n",
    "model.to(device)\n",
    "print(model_params(model))\n",
    "lr=0.008\n",
    "criterion = nn.BCELoss()\n",
    "optimizer = torch.optim.Adam(model.parameters(), lr=lr)"
   ]
  },
  {
   "cell_type": "code",
   "execution_count": 16,
   "id": "37fddd92",
   "metadata": {
    "execution": {
     "iopub.execute_input": "2021-11-26T12:09:22.724066Z",
     "iopub.status.busy": "2021-11-26T12:09:22.723315Z",
     "iopub.status.idle": "2021-11-26T12:14:36.983997Z",
     "shell.execute_reply": "2021-11-26T12:14:36.984449Z",
     "shell.execute_reply.started": "2021-11-26T11:55:49.820496Z"
    },
    "papermill": {
     "duration": 314.28759,
     "end_time": "2021-11-26T12:14:36.984610",
     "exception": false,
     "start_time": "2021-11-26T12:09:22.697020",
     "status": "completed"
    },
    "tags": []
   },
   "outputs": [
    {
     "name": "stdout",
     "output_type": "stream",
     "text": [
      "Epoch: 1/10... Step: 100... Loss: 0.678639... Val Loss: 0.703627\n",
      "Validation loss decreased (inf --> 0.703627).  Saving model ...\n",
      "Epoch: 1/10... Step: 200... Loss: 0.714005... Val Loss: 0.694654\n",
      "Validation loss decreased (0.703627 --> 0.694654).  Saving model ...\n",
      "Epoch: 1/10... Step: 300... Loss: 0.703290... Val Loss: 0.702088\n",
      "Epoch: 1/10... Step: 400... Loss: 0.705424... Val Loss: 0.693558\n",
      "Validation loss decreased (0.694654 --> 0.693558).  Saving model ...\n",
      "Epoch: 1/10... Step: 500... Loss: 0.692307... Val Loss: 0.693089\n",
      "Validation loss decreased (0.693558 --> 0.693089).  Saving model ...\n",
      "Epoch: 1/10... Step: 600... Loss: 0.701554... Val Loss: 0.695090\n",
      "Epoch: 1/10... Step: 700... Loss: 0.700285... Val Loss: 0.693584\n",
      "Epoch: 1/10... Step: 800... Loss: 0.698686... Val Loss: 0.694521\n",
      "Epoch: 2/10... Step: 900... Loss: 0.694636... Val Loss: 0.693161\n",
      "Epoch: 2/10... Step: 1000... Loss: 0.689194... Val Loss: 0.694009\n",
      "Epoch: 2/10... Step: 1100... Loss: 0.696859... Val Loss: 0.693594\n",
      "Epoch: 2/10... Step: 1200... Loss: 0.690018... Val Loss: 0.693060\n",
      "Validation loss decreased (0.693089 --> 0.693060).  Saving model ...\n",
      "Epoch: 2/10... Step: 1300... Loss: 0.691318... Val Loss: 0.693054\n",
      "Validation loss decreased (0.693060 --> 0.693054).  Saving model ...\n",
      "Epoch: 2/10... Step: 1400... Loss: 0.695118... Val Loss: 0.693131\n",
      "Epoch: 2/10... Step: 1500... Loss: 0.677792... Val Loss: 0.694752\n",
      "Epoch: 2/10... Step: 1600... Loss: 0.690002... Val Loss: 0.693066\n",
      "Epoch: 3/10... Step: 1700... Loss: 0.700633... Val Loss: 0.693431\n",
      "Epoch: 3/10... Step: 1800... Loss: 0.695148... Val Loss: 0.693051\n",
      "Validation loss decreased (0.693054 --> 0.693051).  Saving model ...\n",
      "Epoch: 3/10... Step: 1900... Loss: 0.698844... Val Loss: 0.693086\n",
      "Epoch: 3/10... Step: 2000... Loss: 0.695478... Val Loss: 0.693101\n",
      "Epoch: 3/10... Step: 2100... Loss: 0.696438... Val Loss: 0.693335\n",
      "Epoch: 3/10... Step: 2200... Loss: 0.697357... Val Loss: 0.693063\n",
      "Epoch: 3/10... Step: 2300... Loss: 0.697810... Val Loss: 0.697952\n",
      "Epoch: 3/10... Step: 2400... Loss: 0.696160... Val Loss: 0.693101\n",
      "Epoch: 4/10... Step: 2500... Loss: 0.694793... Val Loss: 0.693114\n",
      "Epoch: 4/10... Step: 2600... Loss: 0.693644... Val Loss: 0.693203\n",
      "Epoch: 4/10... Step: 2700... Loss: 0.694270... Val Loss: 0.693053\n",
      "Epoch: 4/10... Step: 2800... Loss: 0.692815... Val Loss: 0.693092\n",
      "Epoch: 4/10... Step: 2900... Loss: 0.699415... Val Loss: 0.693055\n",
      "Epoch: 4/10... Step: 3000... Loss: 0.688495... Val Loss: 0.693504\n",
      "Epoch: 4/10... Step: 3100... Loss: 0.695472... Val Loss: 0.693264\n",
      "Epoch: 4/10... Step: 3200... Loss: 0.693187... Val Loss: 0.693362\n",
      "Epoch: 5/10... Step: 3300... Loss: 0.692877... Val Loss: 0.693232\n",
      "Epoch: 5/10... Step: 3400... Loss: 0.693689... Val Loss: 0.693908\n",
      "Epoch: 5/10... Step: 3500... Loss: 0.692307... Val Loss: 0.693064\n",
      "Epoch: 5/10... Step: 3600... Loss: 0.690914... Val Loss: 0.693483\n",
      "Epoch: 5/10... Step: 3700... Loss: 0.691686... Val Loss: 0.693751\n",
      "Epoch: 5/10... Step: 3800... Loss: 0.689873... Val Loss: 0.693055\n",
      "Epoch: 5/10... Step: 3900... Loss: 0.697337... Val Loss: 0.693750\n",
      "Epoch: 5/10... Step: 4000... Loss: 0.694971... Val Loss: 0.693291\n",
      "Epoch: 6/10... Step: 4100... Loss: 0.695945... Val Loss: 0.693057\n",
      "Epoch: 6/10... Step: 4200... Loss: 0.694692... Val Loss: 0.693288\n",
      "Epoch: 6/10... Step: 4300... Loss: 0.693466... Val Loss: 0.693175\n",
      "Epoch: 6/10... Step: 4400... Loss: 0.692273... Val Loss: 0.693061\n",
      "Epoch: 6/10... Step: 4500... Loss: 0.695581... Val Loss: 0.693391\n",
      "Epoch: 6/10... Step: 4600... Loss: 0.704855... Val Loss: 0.693510\n",
      "Epoch: 6/10... Step: 4700... Loss: 0.692337... Val Loss: 0.693126\n",
      "Epoch: 6/10... Step: 4800... Loss: 0.690284... Val Loss: 0.693580\n",
      "Epoch: 7/10... Step: 4900... Loss: 0.689508... Val Loss: 0.693082\n",
      "Epoch: 7/10... Step: 5000... Loss: 0.693519... Val Loss: 0.693847\n",
      "Epoch: 7/10... Step: 5100... Loss: 0.697755... Val Loss: 0.693118\n",
      "Epoch: 7/10... Step: 5200... Loss: 0.684817... Val Loss: 0.695272\n",
      "Epoch: 7/10... Step: 5300... Loss: 0.689943... Val Loss: 0.693144\n",
      "Epoch: 7/10... Step: 5400... Loss: 0.693587... Val Loss: 0.693141\n",
      "Epoch: 7/10... Step: 5500... Loss: 0.694040... Val Loss: 0.693897\n",
      "Epoch: 7/10... Step: 5600... Loss: 0.702527... Val Loss: 0.695552\n",
      "Epoch: 8/10... Step: 5700... Loss: 0.693372... Val Loss: 0.693208\n",
      "Epoch: 8/10... Step: 5800... Loss: 0.693265... Val Loss: 0.693101\n",
      "Epoch: 8/10... Step: 5900... Loss: 0.697698... Val Loss: 0.693339\n",
      "Epoch: 8/10... Step: 6000... Loss: 0.706922... Val Loss: 0.696185\n",
      "Epoch: 8/10... Step: 6100... Loss: 0.693732... Val Loss: 0.693057\n",
      "Epoch: 8/10... Step: 6200... Loss: 0.691311... Val Loss: 0.693372\n",
      "Epoch: 8/10... Step: 6300... Loss: 0.694528... Val Loss: 0.693286\n",
      "Epoch: 8/10... Step: 6400... Loss: 0.694338... Val Loss: 0.693065\n",
      "Epoch: 9/10... Step: 6500... Loss: 0.694450... Val Loss: 0.693224\n",
      "Epoch: 9/10... Step: 6600... Loss: 0.703269... Val Loss: 0.693441\n",
      "Epoch: 9/10... Step: 6700... Loss: 0.692268... Val Loss: 0.693063\n",
      "Epoch: 9/10... Step: 6800... Loss: 0.690914... Val Loss: 0.693488\n",
      "Epoch: 9/10... Step: 6900... Loss: 0.687220... Val Loss: 0.693166\n",
      "Epoch: 9/10... Step: 7000... Loss: 0.689975... Val Loss: 0.693608\n",
      "Epoch: 9/10... Step: 7100... Loss: 0.690000... Val Loss: 0.693352\n",
      "Epoch: 9/10... Step: 7200... Loss: 0.689671... Val Loss: 0.693457\n",
      "Epoch: 10/10... Step: 7300... Loss: 0.685099... Val Loss: 0.693281\n",
      "Epoch: 10/10... Step: 7400... Loss: 0.691540... Val Loss: 0.693434\n",
      "Epoch: 10/10... Step: 7500... Loss: 0.695332... Val Loss: 0.693503\n",
      "Epoch: 10/10... Step: 7600... Loss: 0.692552... Val Loss: 0.693195\n",
      "Epoch: 10/10... Step: 7700... Loss: 0.693473... Val Loss: 0.693093\n",
      "Epoch: 10/10... Step: 7800... Loss: 0.714211... Val Loss: 0.694776\n",
      "Epoch: 10/10... Step: 7900... Loss: 0.710842... Val Loss: 0.693386\n",
      "Epoch: 10/10... Step: 8000... Loss: 0.701742... Val Loss: 0.693063\n"
     ]
    }
   ],
   "source": [
    "epochs = 10\n",
    "counter = 0\n",
    "print_every = 100\n",
    "clip = 5\n",
    "valid_loss_min = np.Inf\n",
    "\n",
    "model.train()\n",
    "for i in range(epochs):\n",
    "    \n",
    "    for inputs, labels in train_loader:\n",
    "        counter += 1\n",
    "        inputs, labels = inputs.to(device), labels.to(device)\n",
    "        model.zero_grad()\n",
    "        output = model(inputs.long())\n",
    "        \n",
    "        loss = criterion(output, labels.float())\n",
    "        \n",
    "        \n",
    "        loss.backward()\n",
    "        #nn.utils.clip_grad_norm_(model.parameters(), clip)\n",
    "        optimizer.step()\n",
    "        \n",
    "        if counter%print_every == 0:\n",
    "            val_losses = []\n",
    "            model.eval()\n",
    "            for inp, lab in test_loader:\n",
    "                inp, lab = inp.to(device), lab.to(device)\n",
    "                out = model(inp.long())\n",
    "                val_loss = criterion(out, lab.float())\n",
    "                val_losses.append(val_loss.item())\n",
    "                \n",
    "            model.train()\n",
    "            print(\"Epoch: {}/{}...\".format(i+1, epochs),\n",
    "                  \"Step: {}...\".format(counter),\n",
    "                  \"Loss: {:.6f}...\".format(loss.item()),\n",
    "                  \"Val Loss: {:.6f}\".format(np.mean(val_losses)))\n",
    "            if np.mean(val_losses) <= valid_loss_min:\n",
    "                torch.save(model.state_dict(), './state_dict.pt')\n",
    "                print('Validation loss decreased ({:.6f} --> {:.6f}).  Saving model ...'.format(valid_loss_min,np.mean(val_losses)))\n",
    "                valid_loss_min = np.mean(val_losses)"
   ]
  },
  {
   "cell_type": "code",
   "execution_count": 17,
   "id": "19144168",
   "metadata": {
    "execution": {
     "iopub.execute_input": "2021-11-26T12:14:37.063637Z",
     "iopub.status.busy": "2021-11-26T12:14:37.062844Z",
     "iopub.status.idle": "2021-11-26T12:14:37.096885Z",
     "shell.execute_reply": "2021-11-26T12:14:37.097304Z",
     "shell.execute_reply.started": "2021-11-26T11:54:27.172539Z"
    },
    "papermill": {
     "duration": 0.076363,
     "end_time": "2021-11-26T12:14:37.097444",
     "exception": false,
     "start_time": "2021-11-26T12:14:37.021081",
     "status": "completed"
    },
    "tags": []
   },
   "outputs": [
    {
     "data": {
      "text/plain": [
       "tensor([[0.4973]], device='cuda:0', grad_fn=<SigmoidBackward>)"
      ]
     },
     "execution_count": 17,
     "metadata": {},
     "output_type": "execute_result"
    }
   ],
   "source": [
    "sentence = \"I love you\"\n",
    "trial = torch.tensor(pad_sequences(tokenizer.texts_to_sequences([sentence]), maxlen = maxlen)).long().to(device)\n",
    "\n",
    "model(trial)"
   ]
  },
  {
   "cell_type": "code",
   "execution_count": 18,
   "id": "0432e96d",
   "metadata": {
    "execution": {
     "iopub.execute_input": "2021-11-26T12:14:37.189789Z",
     "iopub.status.busy": "2021-11-26T12:14:37.188925Z",
     "iopub.status.idle": "2021-11-26T12:14:39.260605Z",
     "shell.execute_reply": "2021-11-26T12:14:39.260148Z",
     "shell.execute_reply.started": "2021-11-26T11:54:27.174417Z"
    },
    "papermill": {
     "duration": 2.126271,
     "end_time": "2021-11-26T12:14:39.260745",
     "exception": false,
     "start_time": "2021-11-26T12:14:37.134474",
     "status": "completed"
    },
    "tags": []
   },
   "outputs": [
    {
     "name": "stderr",
     "output_type": "stream",
     "text": [
      "/opt/conda/lib/python3.7/site-packages/ipykernel_launcher.py:16: TracerWarning: Converting a tensor to a Python index might cause the trace to be incorrect. We can't record the data flow of Python values, so this value will be treated as a constant in the future. This means that the trace might not generalize to other inputs!\n",
      "  app.launch_new_instance()\n"
     ]
    }
   ],
   "source": [
    "import torch.onnx\n",
    "torch.onnx.export(model,               # model being run\n",
    "                  trial,                  # model input (or a tuple for multiple inputs)\n",
    "                  \"transformer-imdb.onnx\", opset_version = 11)"
   ]
  }
 ],
 "metadata": {
  "kernelspec": {
   "display_name": "Python 3",
   "language": "python",
   "name": "python3"
  },
  "language_info": {
   "codemirror_mode": {
    "name": "ipython",
    "version": 3
   },
   "file_extension": ".py",
   "mimetype": "text/x-python",
   "name": "python",
   "nbconvert_exporter": "python",
   "pygments_lexer": "ipython3",
   "version": "3.7.10"
  },
  "papermill": {
   "default_parameters": {},
   "duration": 366.763663,
   "end_time": "2021-11-26T12:14:42.653319",
   "environment_variables": {},
   "exception": null,
   "input_path": "__notebook__.ipynb",
   "output_path": "__notebook__.ipynb",
   "parameters": {},
   "start_time": "2021-11-26T12:08:35.889656",
   "version": "2.3.3"
  }
 },
 "nbformat": 4,
 "nbformat_minor": 5
}
